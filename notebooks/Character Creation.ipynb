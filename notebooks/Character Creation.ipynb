{
 "cells": [
  {
   "cell_type": "code",
   "execution_count": 1,
   "metadata": {},
   "outputs": [],
   "source": [
    "import pandas as pd\n",
    "import numpy as np\n",
    "import os\n",
    "\n",
    "#I'm mapping to the actual files in the repo so that I can also use this to troubleshoot\n",
    "import sys,pickle\n",
    "sys.path.append('../')\n",
    "from lib import modify_character\n",
    "\n",
    "from forms import playerCharacterForm\n",
    "\n",
    "with (open('world_1.p', 'rb')) as pickle_file:\n",
    "    world = pickle.load(pickle_file)"
   ]
  },
  {
   "cell_type": "markdown",
   "metadata": {},
   "source": [
    "To change the coices available for characters, modify the user form. "
   ]
  },
  {
   "cell_type": "code",
   "execution_count": 2,
   "metadata": {},
   "outputs": [
    {
     "data": {
      "text/plain": [
       "{'1': 'mountaneer',\n",
       " '2': 'desert survival',\n",
       " '3': 'hunting',\n",
       " '4': 'additional language'}"
      ]
     },
     "execution_count": 2,
     "metadata": {},
     "output_type": "execute_result"
    }
   ],
   "source": [
    "dict(playerCharacterForm.secondarySkillsChoices)"
   ]
  },
  {
   "cell_type": "code",
   "execution_count": 3,
   "metadata": {},
   "outputs": [
    {
     "data": {
      "text/plain": [
       "{'1': 'fencing', '2': 'archery', '3': 'spellcasting', '4': 'persuasion'}"
      ]
     },
     "execution_count": 3,
     "metadata": {},
     "output_type": "execute_result"
    }
   ],
   "source": [
    "dict(playerCharacterForm.coreSkillsChoices)"
   ]
  },
  {
   "cell_type": "markdown",
   "metadata": {},
   "source": [
    "### Simulate a userform from the web POST request:\n",
    "For the purposes of this notebook, I'm simulating a webform with a `dict` that would come from the userform. \n"
   ]
  },
  {
   "cell_type": "code",
   "execution_count": 4,
   "metadata": {},
   "outputs": [],
   "source": [
    "f = {'background': '1',\n",
    " 'coreskills': '2',\n",
    " 'csrfmiddlewaretoken': 'not a real token',\n",
    " 'name': 'Razmataz',\n",
    " 'secondaryskills': '2'}"
   ]
  },
  {
   "cell_type": "code",
   "execution_count": 5,
   "metadata": {},
   "outputs": [],
   "source": [
    "character_dict = {\n",
    "    'name': f['name'],\n",
    "    'background': dict(playerCharacterForm.backgroundChoices)[f['background']],\n",
    "    'coreskills': dict(playerCharacterForm.coreSkillsChoices)[f['coreskills']],\n",
    "    'secondaryskills': dict(playerCharacterForm.secondarySkillsChoices)[f['secondaryskills']]\n",
    "}"
   ]
  },
  {
   "cell_type": "code",
   "execution_count": 6,
   "metadata": {},
   "outputs": [
    {
     "data": {
      "text/plain": [
       "{'name': 'Razmataz',\n",
       " 'background': 'Noble family',\n",
       " 'coreskills': 'archery',\n",
       " 'secondaryskills': 'desert survival'}"
      ]
     },
     "execution_count": 6,
     "metadata": {},
     "output_type": "execute_result"
    }
   ],
   "source": [
    "character_dict"
   ]
  },
  {
   "cell_type": "markdown",
   "metadata": {},
   "source": [
    "### initiate the character\n",
    "\n",
    "The character is embedded into the world object. A series of convininece functions fetch the relevant information as needed. "
   ]
  },
  {
   "cell_type": "code",
   "execution_count": 7,
   "metadata": {},
   "outputs": [],
   "source": [
    "world = modify_character.create_character(character_dict,world)"
   ]
  },
  {
   "cell_type": "code",
   "execution_count": 8,
   "metadata": {},
   "outputs": [
    {
     "data": {
      "text/plain": [
       "'13:2'"
      ]
     },
     "execution_count": 8,
     "metadata": {},
     "output_type": "execute_result"
    }
   ],
   "source": [
    "world.Character.get_location_key()"
   ]
  },
  {
   "cell_type": "code",
   "execution_count": 9,
   "metadata": {},
   "outputs": [
    {
     "data": {
      "text/plain": [
       "y                         2\n",
       "rainfall                  6\n",
       "x                        13\n",
       "key                    13:2\n",
       "elevation                 1\n",
       "terrain                town\n",
       "feature          Earthblade\n",
       "nation number             6\n",
       "nation            Solhollow\n",
       "z                      City\n",
       "danger                 0.34\n",
       "aware                     0\n",
       "visited                   1\n",
       "Name: 13:2, dtype: object"
      ]
     },
     "execution_count": 9,
     "metadata": {},
     "output_type": "execute_result"
    }
   ],
   "source": [
    "world.df_features.loc[world.Character.get_location_key()]"
   ]
  },
  {
   "cell_type": "code",
   "execution_count": 10,
   "metadata": {},
   "outputs": [
    {
     "data": {
      "text/plain": [
       "{'name': 'Razmataz',\n",
       " 'message': 'You begin your adventure in capitol of Earthblade: population: 5 location: [13,2] founded 1 </br> Your nobile family has ties with Ekikillim the Speaker of Earthblade. ',\n",
       " 'size': 5,\n",
       " 'speed': 15,\n",
       " 'attributes': ['started'],\n",
       " 'location': '13:2',\n",
       " 'title': 'Honerable court of Ekikillim the Speaker of Earthblade',\n",
       " 'composure': 10,\n",
       " 'arriveFrom': 'Center',\n",
       " 'equipment': {'gold': 101,\n",
       "  'weapons': [{'name': 'basic bow',\n",
       "    'quantity': 1,\n",
       "    'damage': 3,\n",
       "    'damage_mod': 1}]}}"
      ]
     },
     "execution_count": 10,
     "metadata": {},
     "output_type": "execute_result"
    }
   ],
   "source": [
    "world.Character.get_charData()"
   ]
  },
  {
   "cell_type": "code",
   "execution_count": 11,
   "metadata": {},
   "outputs": [
    {
     "data": {
      "text/plain": [
       "'Icechild'"
      ]
     },
     "execution_count": 11,
     "metadata": {},
     "output_type": "execute_result"
    }
   ],
   "source": [
    "np.random.choice([n.name for n in world.nations if n.name != world.df_features.loc[world.Character.get_location_key()].nation])"
   ]
  },
  {
   "cell_type": "code",
   "execution_count": 12,
   "metadata": {},
   "outputs": [],
   "source": [
    "with open('world_2.p', 'wb') as pickle_file:\n",
    "    pickle.dump(world, pickle_file)"
   ]
  }
 ],
 "metadata": {
  "kernelspec": {
   "display_name": "Python 3",
   "language": "python",
   "name": "python3"
  },
  "language_info": {
   "codemirror_mode": {
    "name": "ipython",
    "version": 3
   },
   "file_extension": ".py",
   "mimetype": "text/x-python",
   "name": "python",
   "nbconvert_exporter": "python",
   "pygments_lexer": "ipython3",
   "version": "3.7.3"
  }
 },
 "nbformat": 4,
 "nbformat_minor": 2
}
