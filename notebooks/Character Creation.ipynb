{
 "cells": [
  {
   "cell_type": "code",
   "execution_count": 1,
   "metadata": {},
   "outputs": [],
   "source": [
    "import pandas as pd\n",
    "import numpy as np\n",
    "import os\n",
    "\n",
    "#I'm mapping to the actual files in the repo so that I can also use this to troubleshoot\n",
    "import sys,pickle\n",
    "sys.path.append('../')\n",
    "from lib import modify_character\n",
    "\n",
    "from forms import playerCharacterForm\n",
    "\n",
    "with (open('world_1.p', 'rb')) as pickle_file:\n",
    "    world = pickle.load(pickle_file)"
   ]
  },
  {
   "cell_type": "markdown",
   "metadata": {},
   "source": [
    "To change the coices available for characters, modify the user form. "
   ]
  },
  {
   "cell_type": "code",
   "execution_count": 2,
   "metadata": {},
   "outputs": [
    {
     "data": {
      "text/plain": [
       "{'1': 'mountaneer',\n",
       " '2': 'desert survival',\n",
       " '3': 'hunting',\n",
       " '4': 'additional language'}"
      ]
     },
     "execution_count": 2,
     "metadata": {},
     "output_type": "execute_result"
    }
   ],
   "source": [
    "dict(playerCharacterForm.secondarySkillsChoices)"
   ]
  },
  {
   "cell_type": "code",
   "execution_count": 3,
   "metadata": {},
   "outputs": [
    {
     "data": {
      "text/plain": [
       "{'1': 'fencing', '2': 'archery', '3': 'spellcasting', '4': 'persuasion'}"
      ]
     },
     "execution_count": 3,
     "metadata": {},
     "output_type": "execute_result"
    }
   ],
   "source": [
    "dict(playerCharacterForm.coreSkillsChoices)"
   ]
  },
  {
   "cell_type": "markdown",
   "metadata": {},
   "source": [
    "### Simulate a userform from the web POST request:\n",
    "For the purposes of this notebook, I'm simulating a webform with a `dict` that would come from the userform. \n"
   ]
  },
  {
   "cell_type": "code",
   "execution_count": 4,
   "metadata": {},
   "outputs": [],
   "source": [
    "f = {'background': '1',\n",
    " 'coreskills': '2',\n",
    " 'csrfmiddlewaretoken': 'not a real token',\n",
    " 'name': 'Razmataz',\n",
    " 'secondaryskills': '2'}"
   ]
  },
  {
   "cell_type": "code",
   "execution_count": 5,
   "metadata": {},
   "outputs": [],
   "source": [
    "character_dict = {\n",
    "    'name': f['name'],\n",
    "    'background': dict(playerCharacterForm.backgroundChoices)[f['background']],\n",
    "    'coreskills': dict(playerCharacterForm.coreSkillsChoices)[f['coreskills']],\n",
    "    'secondaryskills': dict(playerCharacterForm.secondarySkillsChoices)[f['secondaryskills']]\n",
    "}"
   ]
  },
  {
   "cell_type": "code",
   "execution_count": 6,
   "metadata": {},
   "outputs": [
    {
     "data": {
      "text/plain": [
       "{'name': 'Razmataz',\n",
       " 'background': 'Noble family',\n",
       " 'coreskills': 'archery',\n",
       " 'secondaryskills': 'desert survival'}"
      ]
     },
     "execution_count": 6,
     "metadata": {},
     "output_type": "execute_result"
    }
   ],
   "source": [
    "character_dict"
   ]
  },
  {
   "cell_type": "markdown",
   "metadata": {},
   "source": [
    "### initiate the character\n",
    "\n",
    "The character is embedded into the world object. A series of convininece functions fetch the relevant information as needed. "
   ]
  },
  {
   "cell_type": "code",
   "execution_count": 7,
   "metadata": {},
   "outputs": [],
   "source": [
    "world = modify_character.create_character(character_dict,world)"
   ]
  },
  {
   "cell_type": "code",
   "execution_count": 8,
   "metadata": {},
   "outputs": [
    {
     "data": {
      "text/plain": [
       "'13:2'"
      ]
     },
     "execution_count": 8,
     "metadata": {},
     "output_type": "execute_result"
    }
   ],
   "source": [
    "world.Character.get_location_key()"
   ]
  },
  {
   "cell_type": "code",
   "execution_count": 9,
   "metadata": {},
   "outputs": [
    {
     "data": {
      "text/plain": [
       "y                         2\n",
       "rainfall                  6\n",
       "x                        13\n",
       "key                    13:2\n",
       "elevation                 1\n",
       "terrain                town\n",
       "feature          Earthblade\n",
       "nation number             6\n",
       "nation            Solhollow\n",
       "z                      City\n",
       "danger                 0.34\n",
       "aware                     0\n",
       "visited                   1\n",
       "Name: 13:2, dtype: object"
      ]
     },
     "execution_count": 9,
     "metadata": {},
     "output_type": "execute_result"
    }
   ],
   "source": [
    "world.df_features.loc[world.Character.get_location_key()]"
   ]
  },
  {
   "cell_type": "code",
   "execution_count": 10,
   "metadata": {},
   "outputs": [
    {
     "data": {
      "text/plain": [
       "{'name': 'Razmataz',\n",
       " 'message': 'You begin your adventure in capitol of Earthblade: population: 5 location: [13,2] founded 1 </br> Your nobile family has ties with Ekikillim the Speaker of Earthblade. ',\n",
       " 'size': 5,\n",
       " 'speed': 15,\n",
       " 'attributes': ['started'],\n",
       " 'location': '13:2',\n",
       " 'title': 'Honerable court of Ekikillim the Speaker of Earthblade',\n",
       " 'composure': 10,\n",
       " 'arriveFrom': 'Center',\n",
       " 'equipment': {'gold': 101,\n",
       "  'weapons': [{'name': 'basic bow',\n",
       "    'id': '0000',\n",
       "    'quantity': 20,\n",
       "    'range': 200,\n",
       "    'damage': 3,\n",
       "    'damage_mod': 1}]}}"
      ]
     },
     "execution_count": 10,
     "metadata": {},
     "output_type": "execute_result"
    }
   ],
   "source": [
    "world.Character.get_charData()"
   ]
  },
  {
   "cell_type": "code",
   "execution_count": 11,
   "metadata": {},
   "outputs": [
    {
     "data": {
      "text/plain": [
       "'Stormbridge'"
      ]
     },
     "execution_count": 11,
     "metadata": {},
     "output_type": "execute_result"
    }
   ],
   "source": [
    "np.random.choice([n.name for n in world.nations if n.name != world.df_features.loc[world.Character.get_location_key()].nation])"
   ]
  },
  {
   "cell_type": "code",
   "execution_count": null,
   "metadata": {},
   "outputs": [],
   "source": [
    "world.Character.get_charData()"
   ]
  },
  {
   "cell_type": "code",
   "execution_count": 12,
   "metadata": {},
   "outputs": [],
   "source": [
    "#with open('world_2.p', 'wb') as pickle_file:\n",
    "#    pickle.dump(world, pickle_file)"
   ]
  },
  {
   "cell_type": "code",
   "execution_count": 23,
   "metadata": {},
   "outputs": [
    {
     "data": {
      "text/html": [
       "<div>\n",
       "<style scoped>\n",
       "    .dataframe tbody tr th:only-of-type {\n",
       "        vertical-align: middle;\n",
       "    }\n",
       "\n",
       "    .dataframe tbody tr th {\n",
       "        vertical-align: top;\n",
       "    }\n",
       "\n",
       "    .dataframe thead th {\n",
       "        text-align: right;\n",
       "    }\n",
       "</style>\n",
       "<table border=\"1\" class=\"dataframe\">\n",
       "  <thead>\n",
       "    <tr style=\"text-align: right;\">\n",
       "      <th></th>\n",
       "      <th>y</th>\n",
       "      <th>rainfall</th>\n",
       "      <th>x</th>\n",
       "      <th>key</th>\n",
       "      <th>elevation</th>\n",
       "      <th>terrain</th>\n",
       "      <th>feature</th>\n",
       "      <th>nation number</th>\n",
       "      <th>nation</th>\n",
       "      <th>z</th>\n",
       "      <th>danger</th>\n",
       "      <th>aware</th>\n",
       "      <th>visited</th>\n",
       "    </tr>\n",
       "    <tr>\n",
       "      <th>key</th>\n",
       "      <th></th>\n",
       "      <th></th>\n",
       "      <th></th>\n",
       "      <th></th>\n",
       "      <th></th>\n",
       "      <th></th>\n",
       "      <th></th>\n",
       "      <th></th>\n",
       "      <th></th>\n",
       "      <th></th>\n",
       "      <th></th>\n",
       "      <th></th>\n",
       "      <th></th>\n",
       "    </tr>\n",
       "  </thead>\n",
       "  <tbody>\n",
       "    <tr>\n",
       "      <th>0:0</th>\n",
       "      <td>0</td>\n",
       "      <td>0.0</td>\n",
       "      <td>0</td>\n",
       "      <td>0:0</td>\n",
       "      <td>18.0</td>\n",
       "      <td>desert</td>\n",
       "      <td>NaN</td>\n",
       "      <td>1.0</td>\n",
       "      <td>Stormbridge</td>\n",
       "      <td>Stormbridge</td>\n",
       "      <td>0.695</td>\n",
       "      <td>0</td>\n",
       "      <td>0</td>\n",
       "    </tr>\n",
       "    <tr>\n",
       "      <th>1:0</th>\n",
       "      <td>0</td>\n",
       "      <td>0.0</td>\n",
       "      <td>1</td>\n",
       "      <td>1:0</td>\n",
       "      <td>24.0</td>\n",
       "      <td>desert</td>\n",
       "      <td>NaN</td>\n",
       "      <td>1.0</td>\n",
       "      <td>Stormbridge</td>\n",
       "      <td>Stormbridge</td>\n",
       "      <td>0.574</td>\n",
       "      <td>0</td>\n",
       "      <td>0</td>\n",
       "    </tr>\n",
       "    <tr>\n",
       "      <th>2:0</th>\n",
       "      <td>0</td>\n",
       "      <td>0.0</td>\n",
       "      <td>2</td>\n",
       "      <td>2:0</td>\n",
       "      <td>32.0</td>\n",
       "      <td>mountain</td>\n",
       "      <td>NaN</td>\n",
       "      <td>1.0</td>\n",
       "      <td>Stormbridge</td>\n",
       "      <td>Stormbridge</td>\n",
       "      <td>0.328</td>\n",
       "      <td>0</td>\n",
       "      <td>0</td>\n",
       "    </tr>\n",
       "    <tr>\n",
       "      <th>3:0</th>\n",
       "      <td>0</td>\n",
       "      <td>0.0</td>\n",
       "      <td>3</td>\n",
       "      <td>3:0</td>\n",
       "      <td>33.0</td>\n",
       "      <td>mountain</td>\n",
       "      <td>NaN</td>\n",
       "      <td>1.0</td>\n",
       "      <td>Stormbridge</td>\n",
       "      <td>Stormbridge</td>\n",
       "      <td>0.613</td>\n",
       "      <td>0</td>\n",
       "      <td>0</td>\n",
       "    </tr>\n",
       "    <tr>\n",
       "      <th>4:0</th>\n",
       "      <td>0</td>\n",
       "      <td>0.0</td>\n",
       "      <td>4</td>\n",
       "      <td>4:0</td>\n",
       "      <td>32.0</td>\n",
       "      <td>mountain</td>\n",
       "      <td>NaN</td>\n",
       "      <td>1.0</td>\n",
       "      <td>Stormbridge</td>\n",
       "      <td>Stormbridge</td>\n",
       "      <td>0.573</td>\n",
       "      <td>0</td>\n",
       "      <td>0</td>\n",
       "    </tr>\n",
       "  </tbody>\n",
       "</table>\n",
       "</div>"
      ],
      "text/plain": [
       "     y  rainfall  x  key  elevation   terrain feature  nation number  \\\n",
       "key                                                                    \n",
       "0:0  0       0.0  0  0:0       18.0    desert     NaN            1.0   \n",
       "1:0  0       0.0  1  1:0       24.0    desert     NaN            1.0   \n",
       "2:0  0       0.0  2  2:0       32.0  mountain     NaN            1.0   \n",
       "3:0  0       0.0  3  3:0       33.0  mountain     NaN            1.0   \n",
       "4:0  0       0.0  4  4:0       32.0  mountain     NaN            1.0   \n",
       "\n",
       "          nation            z  danger  aware  visited  \n",
       "key                                                    \n",
       "0:0  Stormbridge  Stormbridge   0.695      0        0  \n",
       "1:0  Stormbridge  Stormbridge   0.574      0        0  \n",
       "2:0  Stormbridge  Stormbridge   0.328      0        0  \n",
       "3:0  Stormbridge  Stormbridge   0.613      0        0  \n",
       "4:0  Stormbridge  Stormbridge   0.573      0        0  "
      ]
     },
     "execution_count": 23,
     "metadata": {},
     "output_type": "execute_result"
    }
   ],
   "source": [
    "world.df_features.head()"
   ]
  },
  {
   "cell_type": "code",
   "execution_count": 21,
   "metadata": {},
   "outputs": [
    {
     "data": {
      "text/plain": [
       "[Nation of Leafhail,\n",
       " Nation of Stormbridge,\n",
       " Nation of Stenchlight,\n",
       " Nation of Spinhammer,\n",
       " Nation of Cammelt,\n",
       " Nation of Icechild,\n",
       " Nation of Solhollow,\n",
       " Nation of Soilrest]"
      ]
     },
     "execution_count": 21,
     "metadata": {},
     "output_type": "execute_result"
    }
   ],
   "source": [
    "world.nations"
   ]
  },
  {
   "cell_type": "code",
   "execution_count": null,
   "metadata": {},
   "outputs": [],
   "source": [
    "world."
   ]
  }
 ],
 "metadata": {
  "kernelspec": {
   "display_name": "Python 3",
   "language": "python",
   "name": "python3"
  },
  "language_info": {
   "codemirror_mode": {
    "name": "ipython",
    "version": 3
   },
   "file_extension": ".py",
   "mimetype": "text/x-python",
   "name": "python",
   "nbconvert_exporter": "python",
   "pygments_lexer": "ipython3",
   "version": "3.7.3"
  }
 },
 "nbformat": 4,
 "nbformat_minor": 2
}
