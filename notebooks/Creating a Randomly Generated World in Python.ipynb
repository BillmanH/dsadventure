{
 "cells": [
  {
   "cell_type": "markdown",
   "metadata": {},
   "source": [
    "### Procedurally generated worlds using Pandas and Numpy\n",
    "I'm a big fan of rouge-like games and RPGs. I'm also a big fan of data science tools for Python. This is my attempt to have it all. Because these notebooks call from modules used in the live game, I also use them for dev / testing. If something is crashing in the game I can simulate it here to see what is wrong and test out new features before dropping them in the production code. \n",
    "\n",
    "In the live game there are three stages of creation:\n",
    "* The age of **elements** - building terrain\n",
    "* The age of **mortals** - adding cities and nations\n",
    "* The age of **conflict** - random events that shift the relationships between nations, towns and people.\n",
    "\n",
    "Currently only 1 and 2 are shown here. \n"
   ]
  },
  {
   "cell_type": "code",
   "execution_count": 3,
   "metadata": {},
   "outputs": [],
   "source": [
    "import pandas as pd\n",
    "import numpy as np\n",
    "import pickle\n",
    "\n",
    "import altair as alt\n",
    "\n",
    "#importing local libraries for drawings (because they clutter)\n",
    "#I'm mapping to the actual files in the repo so that I can also use this to troubleshoot\n",
    "import sys, os, yaml\n",
    "sys.path.append('../')\n",
    "sys.path.append('../../')\n",
    "\n",
    "import lib.drawMaps as draw\n"
   ]
  },
  {
   "cell_type": "code",
   "execution_count": 6,
   "metadata": {},
   "outputs": [],
   "source": [
    "import django\n",
    "os.environ.setdefault('DJANGO_SETTINGS_MODULE', 'prodweb.settings')\n",
    "django.setup()\n",
    "from lib.builders import world as w, landscape as l\n",
    "from lib.builders import people,towns,nations, events,culture as c\n"
   ]
  },
  {
   "cell_type": "markdown",
   "metadata": {},
   "source": [
    "There are default parameters that I've chosen as the best fit for creating a _ 'believable' _ world. You can experiment with those variables by editing them here. They won't affect the production parameters. \n"
   ]
  },
  {
   "cell_type": "code",
   "execution_count": 7,
   "metadata": {},
   "outputs": [
    {
     "data": {
      "text/plain": [
       "{'grid': [40, 40], 'N_loc': 0, 'N_std': 1, 'water_level': 20}"
      ]
     },
     "execution_count": 7,
     "metadata": {},
     "output_type": "execute_result"
    }
   ],
   "source": [
    "l.default_params"
   ]
  },
  {
   "cell_type": "code",
   "execution_count": 8,
   "metadata": {},
   "outputs": [
    {
     "data": {
      "text/plain": [
       "<lib.builders.landscape.Landscape at 0x7f48cd410d68>"
      ]
     },
     "execution_count": 8,
     "metadata": {},
     "output_type": "execute_result"
    }
   ],
   "source": [
    "landscape = l.Landscape()\n",
    "landscape"
   ]
  },
  {
   "cell_type": "markdown",
   "metadata": {},
   "source": [
    "I'm going to use the `landscape` over and over to specify the world's parameters. Some of the parameters are set by the user and some of them are hard cast. "
   ]
  },
  {
   "cell_type": "code",
   "execution_count": 9,
   "metadata": {},
   "outputs": [
    {
     "data": {
      "application/vnd.vegalite.v2+json": {
       "$schema": "https://vega.github.io/schema/vega-lite/v2.6.0.json",
       "config": {
        "view": {
         "height": 300,
         "width": 400
        }
       },
       "data": {
        "name": "data-95d0b444ba091188dabce9e289e30221"
       },
       "datasets": {
        "data-95d0b444ba091188dabce9e289e30221": [
         {
          "value": 0,
          "x": 0,
          "y": 0
         },
         {
          "value": 0,
          "x": 1,
          "y": 0
         },
         {
          "value": 0,
          "x": 2,
          "y": 0
         },
         {
          "value": 0,
          "x": 3,
          "y": 0
         },
         {
          "value": 0,
          "x": 4,
          "y": 0
         },
         {
          "value": 0,
          "x": 5,
          "y": 0
         },
         {
          "value": 0,
          "x": 6,
          "y": 0
         },
         {
          "value": 0,
          "x": 7,
          "y": 0
         },
         {
          "value": 0,
          "x": 8,
          "y": 0
         },
         {
          "value": 0,
          "x": 9,
          "y": 0
         },
         {
          "value": 0,
          "x": 10,
          "y": 0
         },
         {
          "value": 0,
          "x": 11,
          "y": 0
         },
         {
          "value": 0,
          "x": 12,
          "y": 0
         },
         {
          "value": 0,
          "x": 13,
          "y": 0
         },
         {
          "value": 0,
          "x": 14,
          "y": 0
         },
         {
          "value": 0,
          "x": 15,
          "y": 0
         },
         {
          "value": 0,
          "x": 16,
          "y": 0
         },
         {
          "value": 0,
          "x": 17,
          "y": 0
         },
         {
          "value": 0,
          "x": 18,
          "y": 0
         },
         {
          "value": 0,
          "x": 19,
          "y": 0
         },
         {
          "value": 0,
          "x": 20,
          "y": 0
         },
         {
          "value": 0,
          "x": 21,
          "y": 0
         },
         {
          "value": 0,
          "x": 22,
          "y": 0
         },
         {
          "value": 0,
          "x": 23,
          "y": 0
         },
         {
          "value": 0,
          "x": 24,
          "y": 0
         },
         {
          "value": 0,
          "x": 25,
          "y": 0
         },
         {
          "value": 0,
          "x": 26,
          "y": 0
         },
         {
          "value": 0,
          "x": 27,
          "y": 0
         },
         {
          "value": 0,
          "x": 28,
          "y": 0
         },
         {
          "value": 0,
          "x": 29,
          "y": 0
         },
         {
          "value": 0,
          "x": 30,
          "y": 0
         },
         {
          "value": 0,
          "x": 31,
          "y": 0
         },
         {
          "value": 0,
          "x": 32,
          "y": 0
         },
         {
          "value": 0,
          "x": 33,
          "y": 0
         },
         {
          "value": 0,
          "x": 34,
          "y": 0
         },
         {
          "value": 0,
          "x": 35,
          "y": 0
         },
         {
          "value": 0,
          "x": 36,
          "y": 0
         },
         {
          "value": 0,
          "x": 37,
          "y": 0
         },
         {
          "value": 0,
          "x": 38,
          "y": 0
         },
         {
          "value": 0,
          "x": 39,
          "y": 0
         },
         {
          "value": 0,
          "x": 0,
          "y": 1
         },
         {
          "value": 0,
          "x": 1,
          "y": 1
         },
         {
          "value": 0,
          "x": 2,
          "y": 1
         },
         {
          "value": 0,
          "x": 3,
          "y": 1
         },
         {
          "value": 0,
          "x": 4,
          "y": 1
         },
         {
          "value": 0,
          "x": 5,
          "y": 1
         },
         {
          "value": 0,
          "x": 6,
          "y": 1
         },
         {
          "value": 0,
          "x": 7,
          "y": 1
         },
         {
          "value": 0,
          "x": 8,
          "y": 1
         },
         {
          "value": 0,
          "x": 9,
          "y": 1
         },
         {
          "value": 0,
          "x": 10,
          "y": 1
         },
         {
          "value": 0,
          "x": 11,
          "y": 1
         },
         {
          "value": 0,
          "x": 12,
          "y": 1
         },
         {
          "value": 0,
          "x": 13,
          "y": 1
         },
         {
          "value": 0,
          "x": 14,
          "y": 1
         },
         {
          "value": 0,
          "x": 15,
          "y": 1
         },
         {
          "value": 0,
          "x": 16,
          "y": 1
         },
         {
          "value": 0,
          "x": 17,
          "y": 1
         },
         {
          "value": 0,
          "x": 18,
          "y": 1
         },
         {
          "value": 0,
          "x": 19,
          "y": 1
         },
         {
          "value": 0,
          "x": 20,
          "y": 1
         },
         {
          "value": 0,
          "x": 21,
          "y": 1
         },
         {
          "value": 0,
          "x": 22,
          "y": 1
         },
         {
          "value": 0,
          "x": 23,
          "y": 1
         },
         {
          "value": 0,
          "x": 24,
          "y": 1
         },
         {
          "value": 0,
          "x": 25,
          "y": 1
         },
         {
          "value": 0,
          "x": 26,
          "y": 1
         },
         {
          "value": 0,
          "x": 27,
          "y": 1
         },
         {
          "value": 0,
          "x": 28,
          "y": 1
         },
         {
          "value": 0,
          "x": 29,
          "y": 1
         },
         {
          "value": 0,
          "x": 30,
          "y": 1
         },
         {
          "value": 0,
          "x": 31,
          "y": 1
         },
         {
          "value": 0,
          "x": 32,
          "y": 1
         },
         {
          "value": 0,
          "x": 33,
          "y": 1
         },
         {
          "value": 0,
          "x": 34,
          "y": 1
         },
         {
          "value": 0,
          "x": 35,
          "y": 1
         },
         {
          "value": 0,
          "x": 36,
          "y": 1
         },
         {
          "value": 0,
          "x": 37,
          "y": 1
         },
         {
          "value": 0,
          "x": 38,
          "y": 1
         },
         {
          "value": 0,
          "x": 39,
          "y": 1
         },
         {
          "value": 0,
          "x": 0,
          "y": 2
         },
         {
          "value": 0,
          "x": 1,
          "y": 2
         },
         {
          "value": 0,
          "x": 2,
          "y": 2
         },
         {
          "value": 0,
          "x": 3,
          "y": 2
         },
         {
          "value": 0,
          "x": 4,
          "y": 2
         },
         {
          "value": 0,
          "x": 5,
          "y": 2
         },
         {
          "value": 0,
          "x": 6,
          "y": 2
         },
         {
          "value": 0,
          "x": 7,
          "y": 2
         },
         {
          "value": 0,
          "x": 8,
          "y": 2
         },
         {
          "value": 0,
          "x": 9,
          "y": 2
         },
         {
          "value": 0,
          "x": 10,
          "y": 2
         },
         {
          "value": 0,
          "x": 11,
          "y": 2
         },
         {
          "value": 0,
          "x": 12,
          "y": 2
         },
         {
          "value": 0,
          "x": 13,
          "y": 2
         },
         {
          "value": 0,
          "x": 14,
          "y": 2
         },
         {
          "value": 0,
          "x": 15,
          "y": 2
         },
         {
          "value": 0,
          "x": 16,
          "y": 2
         },
         {
          "value": 0,
          "x": 17,
          "y": 2
         },
         {
          "value": 0,
          "x": 18,
          "y": 2
         },
         {
          "value": 0,
          "x": 19,
          "y": 2
         },
         {
          "value": 0,
          "x": 20,
          "y": 2
         },
         {
          "value": 0,
          "x": 21,
          "y": 2
         },
         {
          "value": 0,
          "x": 22,
          "y": 2
         },
         {
          "value": 0,
          "x": 23,
          "y": 2
         },
         {
          "value": 0,
          "x": 24,
          "y": 2
         },
         {
          "value": 0,
          "x": 25,
          "y": 2
         },
         {
          "value": 0,
          "x": 26,
          "y": 2
         },
         {
          "value": 0,
          "x": 27,
          "y": 2
         },
         {
          "value": 0,
          "x": 28,
          "y": 2
         },
         {
          "value": 0,
          "x": 29,
          "y": 2
         },
         {
          "value": 0,
          "x": 30,
          "y": 2
         },
         {
          "value": 0,
          "x": 31,
          "y": 2
         },
         {
          "value": 0,
          "x": 32,
          "y": 2
         },
         {
          "value": 0,
          "x": 33,
          "y": 2
         },
         {
          "value": 0,
          "x": 34,
          "y": 2
         },
         {
          "value": 0,
          "x": 35,
          "y": 2
         },
         {
          "value": 0,
          "x": 36,
          "y": 2
         },
         {
          "value": 0,
          "x": 37,
          "y": 2
         },
         {
          "value": 0,
          "x": 38,
          "y": 2
         },
         {
          "value": 0,
          "x": 39,
          "y": 2
         },
         {
          "value": 0,
          "x": 0,
          "y": 3
         },
         {
          "value": 0,
          "x": 1,
          "y": 3
         },
         {
          "value": 0,
          "x": 2,
          "y": 3
         },
         {
          "value": 0,
          "x": 3,
          "y": 3
         },
         {
          "value": 0,
          "x": 4,
          "y": 3
         },
         {
          "value": 0,
          "x": 5,
          "y": 3
         },
         {
          "value": 0,
          "x": 6,
          "y": 3
         },
         {
          "value": 0,
          "x": 7,
          "y": 3
         },
         {
          "value": 0,
          "x": 8,
          "y": 3
         },
         {
          "value": 0,
          "x": 9,
          "y": 3
         },
         {
          "value": 0,
          "x": 10,
          "y": 3
         },
         {
          "value": 0,
          "x": 11,
          "y": 3
         },
         {
          "value": 0,
          "x": 12,
          "y": 3
         },
         {
          "value": 0,
          "x": 13,
          "y": 3
         },
         {
          "value": 0,
          "x": 14,
          "y": 3
         },
         {
          "value": 0,
          "x": 15,
          "y": 3
         },
         {
          "value": 0,
          "x": 16,
          "y": 3
         },
         {
          "value": 0,
          "x": 17,
          "y": 3
         },
         {
          "value": 0,
          "x": 18,
          "y": 3
         },
         {
          "value": 0,
          "x": 19,
          "y": 3
         },
         {
          "value": 0,
          "x": 20,
          "y": 3
         },
         {
          "value": 0,
          "x": 21,
          "y": 3
         },
         {
          "value": 0,
          "x": 22,
          "y": 3
         },
         {
          "value": 0,
          "x": 23,
          "y": 3
         },
         {
          "value": 0,
          "x": 24,
          "y": 3
         },
         {
          "value": 0,
          "x": 25,
          "y": 3
         },
         {
          "value": 0,
          "x": 26,
          "y": 3
         },
         {
          "value": 0,
          "x": 27,
          "y": 3
         },
         {
          "value": 0,
          "x": 28,
          "y": 3
         },
         {
          "value": 0,
          "x": 29,
          "y": 3
         },
         {
          "value": 0,
          "x": 30,
          "y": 3
         },
         {
          "value": 0,
          "x": 31,
          "y": 3
         },
         {
          "value": 0,
          "x": 32,
          "y": 3
         },
         {
          "value": 0,
          "x": 33,
          "y": 3
         },
         {
          "value": 0,
          "x": 34,
          "y": 3
         },
         {
          "value": 0,
          "x": 35,
          "y": 3
         },
         {
          "value": 0,
          "x": 36,
          "y": 3
         },
         {
          "value": 0,
          "x": 37,
          "y": 3
         },
         {
          "value": 0,
          "x": 38,
          "y": 3
         },
         {
          "value": 0,
          "x": 39,
          "y": 3
         },
         {
          "value": 0,
          "x": 0,
          "y": 4
         },
         {
          "value": 0,
          "x": 1,
          "y": 4
         },
         {
          "value": 0,
          "x": 2,
          "y": 4
         },
         {
          "value": 0,
          "x": 3,
          "y": 4
         },
         {
          "value": 0,
          "x": 4,
          "y": 4
         },
         {
          "value": 0,
          "x": 5,
          "y": 4
         },
         {
          "value": 0,
          "x": 6,
          "y": 4
         },
         {
          "value": 0,
          "x": 7,
          "y": 4
         },
         {
          "value": 0,
          "x": 8,
          "y": 4
         },
         {
          "value": 0,
          "x": 9,
          "y": 4
         },
         {
          "value": 0,
          "x": 10,
          "y": 4
         },
         {
          "value": 0,
          "x": 11,
          "y": 4
         },
         {
          "value": 0,
          "x": 12,
          "y": 4
         },
         {
          "value": 0,
          "x": 13,
          "y": 4
         },
         {
          "value": 0,
          "x": 14,
          "y": 4
         },
         {
          "value": 0,
          "x": 15,
          "y": 4
         },
         {
          "value": 0,
          "x": 16,
          "y": 4
         },
         {
          "value": 0,
          "x": 17,
          "y": 4
         },
         {
          "value": 0,
          "x": 18,
          "y": 4
         },
         {
          "value": 0,
          "x": 19,
          "y": 4
         },
         {
          "value": 0,
          "x": 20,
          "y": 4
         },
         {
          "value": 0,
          "x": 21,
          "y": 4
         },
         {
          "value": 0,
          "x": 22,
          "y": 4
         },
         {
          "value": 0,
          "x": 23,
          "y": 4
         },
         {
          "value": 0,
          "x": 24,
          "y": 4
         },
         {
          "value": 0,
          "x": 25,
          "y": 4
         },
         {
          "value": 0,
          "x": 26,
          "y": 4
         },
         {
          "value": 0,
          "x": 27,
          "y": 4
         },
         {
          "value": 0,
          "x": 28,
          "y": 4
         },
         {
          "value": 0,
          "x": 29,
          "y": 4
         },
         {
          "value": 0,
          "x": 30,
          "y": 4
         },
         {
          "value": 0,
          "x": 31,
          "y": 4
         },
         {
          "value": 0,
          "x": 32,
          "y": 4
         },
         {
          "value": 0,
          "x": 33,
          "y": 4
         },
         {
          "value": 0,
          "x": 34,
          "y": 4
         },
         {
          "value": 0,
          "x": 35,
          "y": 4
         },
         {
          "value": 0,
          "x": 36,
          "y": 4
         },
         {
          "value": 0,
          "x": 37,
          "y": 4
         },
         {
          "value": 0,
          "x": 38,
          "y": 4
         },
         {
          "value": 0,
          "x": 39,
          "y": 4
         },
         {
          "value": 0,
          "x": 0,
          "y": 5
         },
         {
          "value": 0,
          "x": 1,
          "y": 5
         },
         {
          "value": 0,
          "x": 2,
          "y": 5
         },
         {
          "value": 0,
          "x": 3,
          "y": 5
         },
         {
          "value": 0,
          "x": 4,
          "y": 5
         },
         {
          "value": 0,
          "x": 5,
          "y": 5
         },
         {
          "value": 0,
          "x": 6,
          "y": 5
         },
         {
          "value": 0,
          "x": 7,
          "y": 5
         },
         {
          "value": 0,
          "x": 8,
          "y": 5
         },
         {
          "value": 0,
          "x": 9,
          "y": 5
         },
         {
          "value": 0,
          "x": 10,
          "y": 5
         },
         {
          "value": 0,
          "x": 11,
          "y": 5
         },
         {
          "value": 0,
          "x": 12,
          "y": 5
         },
         {
          "value": 0,
          "x": 13,
          "y": 5
         },
         {
          "value": 0,
          "x": 14,
          "y": 5
         },
         {
          "value": 0,
          "x": 15,
          "y": 5
         },
         {
          "value": 0,
          "x": 16,
          "y": 5
         },
         {
          "value": 0,
          "x": 17,
          "y": 5
         },
         {
          "value": 0,
          "x": 18,
          "y": 5
         },
         {
          "value": 0,
          "x": 19,
          "y": 5
         },
         {
          "value": 0,
          "x": 20,
          "y": 5
         },
         {
          "value": 0,
          "x": 21,
          "y": 5
         },
         {
          "value": 0,
          "x": 22,
          "y": 5
         },
         {
          "value": 0,
          "x": 23,
          "y": 5
         },
         {
          "value": 0,
          "x": 24,
          "y": 5
         },
         {
          "value": 0,
          "x": 25,
          "y": 5
         },
         {
          "value": 0,
          "x": 26,
          "y": 5
         },
         {
          "value": 0,
          "x": 27,
          "y": 5
         },
         {
          "value": 0,
          "x": 28,
          "y": 5
         },
         {
          "value": 0,
          "x": 29,
          "y": 5
         },
         {
          "value": 0,
          "x": 30,
          "y": 5
         },
         {
          "value": 0,
          "x": 31,
          "y": 5
         },
         {
          "value": 0,
          "x": 32,
          "y": 5
         },
         {
          "value": 0,
          "x": 33,
          "y": 5
         },
         {
          "value": 0,
          "x": 34,
          "y": 5
         },
         {
          "value": 0,
          "x": 35,
          "y": 5
         },
         {
          "value": 0,
          "x": 36,
          "y": 5
         },
         {
          "value": 0,
          "x": 37,
          "y": 5
         },
         {
          "value": 0,
          "x": 38,
          "y": 5
         },
         {
          "value": 0,
          "x": 39,
          "y": 5
         },
         {
          "value": 0,
          "x": 0,
          "y": 6
         },
         {
          "value": 0,
          "x": 1,
          "y": 6
         },
         {
          "value": 0,
          "x": 2,
          "y": 6
         },
         {
          "value": 0,
          "x": 3,
          "y": 6
         },
         {
          "value": 0,
          "x": 4,
          "y": 6
         },
         {
          "value": 0,
          "x": 5,
          "y": 6
         },
         {
          "value": 0,
          "x": 6,
          "y": 6
         },
         {
          "value": 0,
          "x": 7,
          "y": 6
         },
         {
          "value": 0,
          "x": 8,
          "y": 6
         },
         {
          "value": 0,
          "x": 9,
          "y": 6
         },
         {
          "value": 0,
          "x": 10,
          "y": 6
         },
         {
          "value": 0,
          "x": 11,
          "y": 6
         },
         {
          "value": 0,
          "x": 12,
          "y": 6
         },
         {
          "value": 0,
          "x": 13,
          "y": 6
         },
         {
          "value": 0,
          "x": 14,
          "y": 6
         },
         {
          "value": 0,
          "x": 15,
          "y": 6
         },
         {
          "value": 0,
          "x": 16,
          "y": 6
         },
         {
          "value": 0,
          "x": 17,
          "y": 6
         },
         {
          "value": 0,
          "x": 18,
          "y": 6
         },
         {
          "value": 0,
          "x": 19,
          "y": 6
         },
         {
          "value": 0,
          "x": 20,
          "y": 6
         },
         {
          "value": 0,
          "x": 21,
          "y": 6
         },
         {
          "value": 0,
          "x": 22,
          "y": 6
         },
         {
          "value": 0,
          "x": 23,
          "y": 6
         },
         {
          "value": 0,
          "x": 24,
          "y": 6
         },
         {
          "value": 0,
          "x": 25,
          "y": 6
         },
         {
          "value": 0,
          "x": 26,
          "y": 6
         },
         {
          "value": 0,
          "x": 27,
          "y": 6
         },
         {
          "value": 0,
          "x": 28,
          "y": 6
         },
         {
          "value": 0,
          "x": 29,
          "y": 6
         },
         {
          "value": 0,
          "x": 30,
          "y": 6
         },
         {
          "value": 0,
          "x": 31,
          "y": 6
         },
         {
          "value": 0,
          "x": 32,
          "y": 6
         },
         {
          "value": 0,
          "x": 33,
          "y": 6
         },
         {
          "value": 0,
          "x": 34,
          "y": 6
         },
         {
          "value": 0,
          "x": 35,
          "y": 6
         },
         {
          "value": 0,
          "x": 36,
          "y": 6
         },
         {
          "value": 0,
          "x": 37,
          "y": 6
         },
         {
          "value": 0,
          "x": 38,
          "y": 6
         },
         {
          "value": 0,
          "x": 39,
          "y": 6
         },
         {
          "value": 0,
          "x": 0,
          "y": 7
         },
         {
          "value": 0,
          "x": 1,
          "y": 7
         },
         {
          "value": 0,
          "x": 2,
          "y": 7
         },
         {
          "value": 0,
          "x": 3,
          "y": 7
         },
         {
          "value": 0,
          "x": 4,
          "y": 7
         },
         {
          "value": 0,
          "x": 5,
          "y": 7
         },
         {
          "value": 0,
          "x": 6,
          "y": 7
         },
         {
          "value": 0,
          "x": 7,
          "y": 7
         },
         {
          "value": 0,
          "x": 8,
          "y": 7
         },
         {
          "value": 0,
          "x": 9,
          "y": 7
         },
         {
          "value": 0,
          "x": 10,
          "y": 7
         },
         {
          "value": 0,
          "x": 11,
          "y": 7
         },
         {
          "value": 0,
          "x": 12,
          "y": 7
         },
         {
          "value": 0,
          "x": 13,
          "y": 7
         },
         {
          "value": 0,
          "x": 14,
          "y": 7
         },
         {
          "value": 0,
          "x": 15,
          "y": 7
         },
         {
          "value": 0,
          "x": 16,
          "y": 7
         },
         {
          "value": 0,
          "x": 17,
          "y": 7
         },
         {
          "value": 0,
          "x": 18,
          "y": 7
         },
         {
          "value": 0,
          "x": 19,
          "y": 7
         },
         {
          "value": 0,
          "x": 20,
          "y": 7
         },
         {
          "value": 0,
          "x": 21,
          "y": 7
         },
         {
          "value": 0,
          "x": 22,
          "y": 7
         },
         {
          "value": 0,
          "x": 23,
          "y": 7
         },
         {
          "value": 0,
          "x": 24,
          "y": 7
         },
         {
          "value": 0,
          "x": 25,
          "y": 7
         },
         {
          "value": 0,
          "x": 26,
          "y": 7
         },
         {
          "value": 0,
          "x": 27,
          "y": 7
         },
         {
          "value": 0,
          "x": 28,
          "y": 7
         },
         {
          "value": 0,
          "x": 29,
          "y": 7
         },
         {
          "value": 0,
          "x": 30,
          "y": 7
         },
         {
          "value": 0,
          "x": 31,
          "y": 7
         },
         {
          "value": 0,
          "x": 32,
          "y": 7
         },
         {
          "value": 0,
          "x": 33,
          "y": 7
         },
         {
          "value": 0,
          "x": 34,
          "y": 7
         },
         {
          "value": 0,
          "x": 35,
          "y": 7
         },
         {
          "value": 0,
          "x": 36,
          "y": 7
         },
         {
          "value": 0,
          "x": 37,
          "y": 7
         },
         {
          "value": 0,
          "x": 38,
          "y": 7
         },
         {
          "value": 0,
          "x": 39,
          "y": 7
         },
         {
          "value": 0,
          "x": 0,
          "y": 8
         },
         {
          "value": 0,
          "x": 1,
          "y": 8
         },
         {
          "value": 0,
          "x": 2,
          "y": 8
         },
         {
          "value": 0,
          "x": 3,
          "y": 8
         },
         {
          "value": 0,
          "x": 4,
          "y": 8
         },
         {
          "value": 0,
          "x": 5,
          "y": 8
         },
         {
          "value": 0,
          "x": 6,
          "y": 8
         },
         {
          "value": 0,
          "x": 7,
          "y": 8
         },
         {
          "value": 0,
          "x": 8,
          "y": 8
         },
         {
          "value": 0,
          "x": 9,
          "y": 8
         },
         {
          "value": 0,
          "x": 10,
          "y": 8
         },
         {
          "value": 0,
          "x": 11,
          "y": 8
         },
         {
          "value": 0,
          "x": 12,
          "y": 8
         },
         {
          "value": 0,
          "x": 13,
          "y": 8
         },
         {
          "value": 0,
          "x": 14,
          "y": 8
         },
         {
          "value": 0,
          "x": 15,
          "y": 8
         },
         {
          "value": 0,
          "x": 16,
          "y": 8
         },
         {
          "value": 0,
          "x": 17,
          "y": 8
         },
         {
          "value": 0,
          "x": 18,
          "y": 8
         },
         {
          "value": 0,
          "x": 19,
          "y": 8
         },
         {
          "value": 0,
          "x": 20,
          "y": 8
         },
         {
          "value": 0,
          "x": 21,
          "y": 8
         },
         {
          "value": 0,
          "x": 22,
          "y": 8
         },
         {
          "value": 0,
          "x": 23,
          "y": 8
         },
         {
          "value": 0,
          "x": 24,
          "y": 8
         },
         {
          "value": 0,
          "x": 25,
          "y": 8
         },
         {
          "value": 0,
          "x": 26,
          "y": 8
         },
         {
          "value": 0,
          "x": 27,
          "y": 8
         },
         {
          "value": 0,
          "x": 28,
          "y": 8
         },
         {
          "value": 0,
          "x": 29,
          "y": 8
         },
         {
          "value": 0,
          "x": 30,
          "y": 8
         },
         {
          "value": 0,
          "x": 31,
          "y": 8
         },
         {
          "value": 0,
          "x": 32,
          "y": 8
         },
         {
          "value": 0,
          "x": 33,
          "y": 8
         },
         {
          "value": 0,
          "x": 34,
          "y": 8
         },
         {
          "value": 0,
          "x": 35,
          "y": 8
         },
         {
          "value": 0,
          "x": 36,
          "y": 8
         },
         {
          "value": 0,
          "x": 37,
          "y": 8
         },
         {
          "value": 0,
          "x": 38,
          "y": 8
         },
         {
          "value": 0,
          "x": 39,
          "y": 8
         },
         {
          "value": 0,
          "x": 0,
          "y": 9
         },
         {
          "value": 0,
          "x": 1,
          "y": 9
         },
         {
          "value": 0,
          "x": 2,
          "y": 9
         },
         {
          "value": 0,
          "x": 3,
          "y": 9
         },
         {
          "value": 0,
          "x": 4,
          "y": 9
         },
         {
          "value": 0,
          "x": 5,
          "y": 9
         },
         {
          "value": 0,
          "x": 6,
          "y": 9
         },
         {
          "value": 0,
          "x": 7,
          "y": 9
         },
         {
          "value": 0,
          "x": 8,
          "y": 9
         },
         {
          "value": 0,
          "x": 9,
          "y": 9
         },
         {
          "value": 0,
          "x": 10,
          "y": 9
         },
         {
          "value": 0,
          "x": 11,
          "y": 9
         },
         {
          "value": 0,
          "x": 12,
          "y": 9
         },
         {
          "value": 0,
          "x": 13,
          "y": 9
         },
         {
          "value": 0,
          "x": 14,
          "y": 9
         },
         {
          "value": 0,
          "x": 15,
          "y": 9
         },
         {
          "value": 0,
          "x": 16,
          "y": 9
         },
         {
          "value": 0,
          "x": 17,
          "y": 9
         },
         {
          "value": 0,
          "x": 18,
          "y": 9
         },
         {
          "value": 0,
          "x": 19,
          "y": 9
         },
         {
          "value": 0,
          "x": 20,
          "y": 9
         },
         {
          "value": 0,
          "x": 21,
          "y": 9
         },
         {
          "value": 0,
          "x": 22,
          "y": 9
         },
         {
          "value": 0,
          "x": 23,
          "y": 9
         },
         {
          "value": 0,
          "x": 24,
          "y": 9
         },
         {
          "value": 0,
          "x": 25,
          "y": 9
         },
         {
          "value": 0,
          "x": 26,
          "y": 9
         },
         {
          "value": 0,
          "x": 27,
          "y": 9
         },
         {
          "value": 0,
          "x": 28,
          "y": 9
         },
         {
          "value": 0,
          "x": 29,
          "y": 9
         },
         {
          "value": 0,
          "x": 30,
          "y": 9
         },
         {
          "value": 0,
          "x": 31,
          "y": 9
         },
         {
          "value": 0,
          "x": 32,
          "y": 9
         },
         {
          "value": 0,
          "x": 33,
          "y": 9
         },
         {
          "value": 0,
          "x": 34,
          "y": 9
         },
         {
          "value": 0,
          "x": 35,
          "y": 9
         },
         {
          "value": 0,
          "x": 36,
          "y": 9
         },
         {
          "value": 0,
          "x": 37,
          "y": 9
         },
         {
          "value": 0,
          "x": 38,
          "y": 9
         },
         {
          "value": 0,
          "x": 39,
          "y": 9
         },
         {
          "value": 0,
          "x": 0,
          "y": 10
         },
         {
          "value": 0,
          "x": 1,
          "y": 10
         },
         {
          "value": 0,
          "x": 2,
          "y": 10
         },
         {
          "value": 0,
          "x": 3,
          "y": 10
         },
         {
          "value": 0,
          "x": 4,
          "y": 10
         },
         {
          "value": 0,
          "x": 5,
          "y": 10
         },
         {
          "value": 0,
          "x": 6,
          "y": 10
         },
         {
          "value": 0,
          "x": 7,
          "y": 10
         },
         {
          "value": 0,
          "x": 8,
          "y": 10
         },
         {
          "value": 0,
          "x": 9,
          "y": 10
         },
         {
          "value": 0,
          "x": 10,
          "y": 10
         },
         {
          "value": 0,
          "x": 11,
          "y": 10
         },
         {
          "value": 0,
          "x": 12,
          "y": 10
         },
         {
          "value": 0,
          "x": 13,
          "y": 10
         },
         {
          "value": 0,
          "x": 14,
          "y": 10
         },
         {
          "value": 0,
          "x": 15,
          "y": 10
         },
         {
          "value": 0,
          "x": 16,
          "y": 10
         },
         {
          "value": 0,
          "x": 17,
          "y": 10
         },
         {
          "value": 0,
          "x": 18,
          "y": 10
         },
         {
          "value": 0,
          "x": 19,
          "y": 10
         },
         {
          "value": 0,
          "x": 20,
          "y": 10
         },
         {
          "value": 0,
          "x": 21,
          "y": 10
         },
         {
          "value": 0,
          "x": 22,
          "y": 10
         },
         {
          "value": 0,
          "x": 23,
          "y": 10
         },
         {
          "value": 0,
          "x": 24,
          "y": 10
         },
         {
          "value": 0,
          "x": 25,
          "y": 10
         },
         {
          "value": 0,
          "x": 26,
          "y": 10
         },
         {
          "value": 0,
          "x": 27,
          "y": 10
         },
         {
          "value": 0,
          "x": 28,
          "y": 10
         },
         {
          "value": 0,
          "x": 29,
          "y": 10
         },
         {
          "value": 0,
          "x": 30,
          "y": 10
         },
         {
          "value": 0,
          "x": 31,
          "y": 10
         },
         {
          "value": 0,
          "x": 32,
          "y": 10
         },
         {
          "value": 0,
          "x": 33,
          "y": 10
         },
         {
          "value": 0,
          "x": 34,
          "y": 10
         },
         {
          "value": 0,
          "x": 35,
          "y": 10
         },
         {
          "value": 0,
          "x": 36,
          "y": 10
         },
         {
          "value": 0,
          "x": 37,
          "y": 10
         },
         {
          "value": 0,
          "x": 38,
          "y": 10
         },
         {
          "value": 0,
          "x": 39,
          "y": 10
         },
         {
          "value": 0,
          "x": 0,
          "y": 11
         },
         {
          "value": 0,
          "x": 1,
          "y": 11
         },
         {
          "value": 0,
          "x": 2,
          "y": 11
         },
         {
          "value": 0,
          "x": 3,
          "y": 11
         },
         {
          "value": 0,
          "x": 4,
          "y": 11
         },
         {
          "value": 0,
          "x": 5,
          "y": 11
         },
         {
          "value": 0,
          "x": 6,
          "y": 11
         },
         {
          "value": 0,
          "x": 7,
          "y": 11
         },
         {
          "value": 0,
          "x": 8,
          "y": 11
         },
         {
          "value": 0,
          "x": 9,
          "y": 11
         },
         {
          "value": 0,
          "x": 10,
          "y": 11
         },
         {
          "value": 0,
          "x": 11,
          "y": 11
         },
         {
          "value": 0,
          "x": 12,
          "y": 11
         },
         {
          "value": 0,
          "x": 13,
          "y": 11
         },
         {
          "value": 0,
          "x": 14,
          "y": 11
         },
         {
          "value": 0,
          "x": 15,
          "y": 11
         },
         {
          "value": 0,
          "x": 16,
          "y": 11
         },
         {
          "value": 0,
          "x": 17,
          "y": 11
         },
         {
          "value": 0,
          "x": 18,
          "y": 11
         },
         {
          "value": 0,
          "x": 19,
          "y": 11
         },
         {
          "value": 0,
          "x": 20,
          "y": 11
         },
         {
          "value": 0,
          "x": 21,
          "y": 11
         },
         {
          "value": 0,
          "x": 22,
          "y": 11
         },
         {
          "value": 0,
          "x": 23,
          "y": 11
         },
         {
          "value": 0,
          "x": 24,
          "y": 11
         },
         {
          "value": 0,
          "x": 25,
          "y": 11
         },
         {
          "value": 0,
          "x": 26,
          "y": 11
         },
         {
          "value": 0,
          "x": 27,
          "y": 11
         },
         {
          "value": 0,
          "x": 28,
          "y": 11
         },
         {
          "value": 0,
          "x": 29,
          "y": 11
         },
         {
          "value": 0,
          "x": 30,
          "y": 11
         },
         {
          "value": 0,
          "x": 31,
          "y": 11
         },
         {
          "value": 0,
          "x": 32,
          "y": 11
         },
         {
          "value": 0,
          "x": 33,
          "y": 11
         },
         {
          "value": 0,
          "x": 34,
          "y": 11
         },
         {
          "value": 0,
          "x": 35,
          "y": 11
         },
         {
          "value": 0,
          "x": 36,
          "y": 11
         },
         {
          "value": 0,
          "x": 37,
          "y": 11
         },
         {
          "value": 0,
          "x": 38,
          "y": 11
         },
         {
          "value": 0,
          "x": 39,
          "y": 11
         },
         {
          "value": 0,
          "x": 0,
          "y": 12
         },
         {
          "value": 0,
          "x": 1,
          "y": 12
         },
         {
          "value": 0,
          "x": 2,
          "y": 12
         },
         {
          "value": 0,
          "x": 3,
          "y": 12
         },
         {
          "value": 0,
          "x": 4,
          "y": 12
         },
         {
          "value": 0,
          "x": 5,
          "y": 12
         },
         {
          "value": 0,
          "x": 6,
          "y": 12
         },
         {
          "value": 0,
          "x": 7,
          "y": 12
         },
         {
          "value": 0,
          "x": 8,
          "y": 12
         },
         {
          "value": 0,
          "x": 9,
          "y": 12
         },
         {
          "value": 0,
          "x": 10,
          "y": 12
         },
         {
          "value": 0,
          "x": 11,
          "y": 12
         },
         {
          "value": 0,
          "x": 12,
          "y": 12
         },
         {
          "value": 0,
          "x": 13,
          "y": 12
         },
         {
          "value": 0,
          "x": 14,
          "y": 12
         },
         {
          "value": 0,
          "x": 15,
          "y": 12
         },
         {
          "value": 0,
          "x": 16,
          "y": 12
         },
         {
          "value": 0,
          "x": 17,
          "y": 12
         },
         {
          "value": 0,
          "x": 18,
          "y": 12
         },
         {
          "value": 0,
          "x": 19,
          "y": 12
         },
         {
          "value": 0,
          "x": 20,
          "y": 12
         },
         {
          "value": 0,
          "x": 21,
          "y": 12
         },
         {
          "value": 0,
          "x": 22,
          "y": 12
         },
         {
          "value": 0,
          "x": 23,
          "y": 12
         },
         {
          "value": 0,
          "x": 24,
          "y": 12
         },
         {
          "value": 0,
          "x": 25,
          "y": 12
         },
         {
          "value": 0,
          "x": 26,
          "y": 12
         },
         {
          "value": 0,
          "x": 27,
          "y": 12
         },
         {
          "value": 0,
          "x": 28,
          "y": 12
         },
         {
          "value": 0,
          "x": 29,
          "y": 12
         },
         {
          "value": 0,
          "x": 30,
          "y": 12
         },
         {
          "value": 0,
          "x": 31,
          "y": 12
         },
         {
          "value": 0,
          "x": 32,
          "y": 12
         },
         {
          "value": 0,
          "x": 33,
          "y": 12
         },
         {
          "value": 0,
          "x": 34,
          "y": 12
         },
         {
          "value": 0,
          "x": 35,
          "y": 12
         },
         {
          "value": 0,
          "x": 36,
          "y": 12
         },
         {
          "value": 0,
          "x": 37,
          "y": 12
         },
         {
          "value": 0,
          "x": 38,
          "y": 12
         },
         {
          "value": 0,
          "x": 39,
          "y": 12
         },
         {
          "value": 0,
          "x": 0,
          "y": 13
         },
         {
          "value": 0,
          "x": 1,
          "y": 13
         },
         {
          "value": 0,
          "x": 2,
          "y": 13
         },
         {
          "value": 0,
          "x": 3,
          "y": 13
         },
         {
          "value": 0,
          "x": 4,
          "y": 13
         },
         {
          "value": 0,
          "x": 5,
          "y": 13
         },
         {
          "value": 0,
          "x": 6,
          "y": 13
         },
         {
          "value": 0,
          "x": 7,
          "y": 13
         },
         {
          "value": 0,
          "x": 8,
          "y": 13
         },
         {
          "value": 0,
          "x": 9,
          "y": 13
         },
         {
          "value": 0,
          "x": 10,
          "y": 13
         },
         {
          "value": 0,
          "x": 11,
          "y": 13
         },
         {
          "value": 0,
          "x": 12,
          "y": 13
         },
         {
          "value": 0,
          "x": 13,
          "y": 13
         },
         {
          "value": 0,
          "x": 14,
          "y": 13
         },
         {
          "value": 0,
          "x": 15,
          "y": 13
         },
         {
          "value": 0,
          "x": 16,
          "y": 13
         },
         {
          "value": 0,
          "x": 17,
          "y": 13
         },
         {
          "value": 0,
          "x": 18,
          "y": 13
         },
         {
          "value": 0,
          "x": 19,
          "y": 13
         },
         {
          "value": 0,
          "x": 20,
          "y": 13
         },
         {
          "value": 0,
          "x": 21,
          "y": 13
         },
         {
          "value": 0,
          "x": 22,
          "y": 13
         },
         {
          "value": 0,
          "x": 23,
          "y": 13
         },
         {
          "value": 0,
          "x": 24,
          "y": 13
         },
         {
          "value": 0,
          "x": 25,
          "y": 13
         },
         {
          "value": 0,
          "x": 26,
          "y": 13
         },
         {
          "value": 0,
          "x": 27,
          "y": 13
         },
         {
          "value": 0,
          "x": 28,
          "y": 13
         },
         {
          "value": 0,
          "x": 29,
          "y": 13
         },
         {
          "value": 0,
          "x": 30,
          "y": 13
         },
         {
          "value": 0,
          "x": 31,
          "y": 13
         },
         {
          "value": 0,
          "x": 32,
          "y": 13
         },
         {
          "value": 0,
          "x": 33,
          "y": 13
         },
         {
          "value": 0,
          "x": 34,
          "y": 13
         },
         {
          "value": 0,
          "x": 35,
          "y": 13
         },
         {
          "value": 0,
          "x": 36,
          "y": 13
         },
         {
          "value": 0,
          "x": 37,
          "y": 13
         },
         {
          "value": 0,
          "x": 38,
          "y": 13
         },
         {
          "value": 0,
          "x": 39,
          "y": 13
         },
         {
          "value": 0,
          "x": 0,
          "y": 14
         },
         {
          "value": 0,
          "x": 1,
          "y": 14
         },
         {
          "value": 0,
          "x": 2,
          "y": 14
         },
         {
          "value": 0,
          "x": 3,
          "y": 14
         },
         {
          "value": 0,
          "x": 4,
          "y": 14
         },
         {
          "value": 0,
          "x": 5,
          "y": 14
         },
         {
          "value": 0,
          "x": 6,
          "y": 14
         },
         {
          "value": 0,
          "x": 7,
          "y": 14
         },
         {
          "value": 0,
          "x": 8,
          "y": 14
         },
         {
          "value": 0,
          "x": 9,
          "y": 14
         },
         {
          "value": 0,
          "x": 10,
          "y": 14
         },
         {
          "value": 0,
          "x": 11,
          "y": 14
         },
         {
          "value": 0,
          "x": 12,
          "y": 14
         },
         {
          "value": 0,
          "x": 13,
          "y": 14
         },
         {
          "value": 0,
          "x": 14,
          "y": 14
         },
         {
          "value": 0,
          "x": 15,
          "y": 14
         },
         {
          "value": 0,
          "x": 16,
          "y": 14
         },
         {
          "value": 0,
          "x": 17,
          "y": 14
         },
         {
          "value": 0,
          "x": 18,
          "y": 14
         },
         {
          "value": 0,
          "x": 19,
          "y": 14
         },
         {
          "value": 0,
          "x": 20,
          "y": 14
         },
         {
          "value": 0,
          "x": 21,
          "y": 14
         },
         {
          "value": 0,
          "x": 22,
          "y": 14
         },
         {
          "value": 0,
          "x": 23,
          "y": 14
         },
         {
          "value": 0,
          "x": 24,
          "y": 14
         },
         {
          "value": 0,
          "x": 25,
          "y": 14
         },
         {
          "value": 0,
          "x": 26,
          "y": 14
         },
         {
          "value": 0,
          "x": 27,
          "y": 14
         },
         {
          "value": 0,
          "x": 28,
          "y": 14
         },
         {
          "value": 0,
          "x": 29,
          "y": 14
         },
         {
          "value": 0,
          "x": 30,
          "y": 14
         },
         {
          "value": 0,
          "x": 31,
          "y": 14
         },
         {
          "value": 0,
          "x": 32,
          "y": 14
         },
         {
          "value": 0,
          "x": 33,
          "y": 14
         },
         {
          "value": 0,
          "x": 34,
          "y": 14
         },
         {
          "value": 0,
          "x": 35,
          "y": 14
         },
         {
          "value": 0,
          "x": 36,
          "y": 14
         },
         {
          "value": 0,
          "x": 37,
          "y": 14
         },
         {
          "value": 0,
          "x": 38,
          "y": 14
         },
         {
          "value": 0,
          "x": 39,
          "y": 14
         },
         {
          "value": 0,
          "x": 0,
          "y": 15
         },
         {
          "value": 0,
          "x": 1,
          "y": 15
         },
         {
          "value": 0,
          "x": 2,
          "y": 15
         },
         {
          "value": 0,
          "x": 3,
          "y": 15
         },
         {
          "value": 0,
          "x": 4,
          "y": 15
         },
         {
          "value": 0,
          "x": 5,
          "y": 15
         },
         {
          "value": 0,
          "x": 6,
          "y": 15
         },
         {
          "value": 0,
          "x": 7,
          "y": 15
         },
         {
          "value": 0,
          "x": 8,
          "y": 15
         },
         {
          "value": 0,
          "x": 9,
          "y": 15
         },
         {
          "value": 0,
          "x": 10,
          "y": 15
         },
         {
          "value": 0,
          "x": 11,
          "y": 15
         },
         {
          "value": 0,
          "x": 12,
          "y": 15
         },
         {
          "value": 0,
          "x": 13,
          "y": 15
         },
         {
          "value": 0,
          "x": 14,
          "y": 15
         },
         {
          "value": 0,
          "x": 15,
          "y": 15
         },
         {
          "value": 0,
          "x": 16,
          "y": 15
         },
         {
          "value": 0,
          "x": 17,
          "y": 15
         },
         {
          "value": 0,
          "x": 18,
          "y": 15
         },
         {
          "value": 0,
          "x": 19,
          "y": 15
         },
         {
          "value": 0,
          "x": 20,
          "y": 15
         },
         {
          "value": 0,
          "x": 21,
          "y": 15
         },
         {
          "value": 0,
          "x": 22,
          "y": 15
         },
         {
          "value": 0,
          "x": 23,
          "y": 15
         },
         {
          "value": 0,
          "x": 24,
          "y": 15
         },
         {
          "value": 0,
          "x": 25,
          "y": 15
         },
         {
          "value": 0,
          "x": 26,
          "y": 15
         },
         {
          "value": 0,
          "x": 27,
          "y": 15
         },
         {
          "value": 0,
          "x": 28,
          "y": 15
         },
         {
          "value": 0,
          "x": 29,
          "y": 15
         },
         {
          "value": 0,
          "x": 30,
          "y": 15
         },
         {
          "value": 0,
          "x": 31,
          "y": 15
         },
         {
          "value": 0,
          "x": 32,
          "y": 15
         },
         {
          "value": 0,
          "x": 33,
          "y": 15
         },
         {
          "value": 0,
          "x": 34,
          "y": 15
         },
         {
          "value": 0,
          "x": 35,
          "y": 15
         },
         {
          "value": 0,
          "x": 36,
          "y": 15
         },
         {
          "value": 0,
          "x": 37,
          "y": 15
         },
         {
          "value": 0,
          "x": 38,
          "y": 15
         },
         {
          "value": 0,
          "x": 39,
          "y": 15
         },
         {
          "value": 0,
          "x": 0,
          "y": 16
         },
         {
          "value": 0,
          "x": 1,
          "y": 16
         },
         {
          "value": 0,
          "x": 2,
          "y": 16
         },
         {
          "value": 0,
          "x": 3,
          "y": 16
         },
         {
          "value": 0,
          "x": 4,
          "y": 16
         },
         {
          "value": 0,
          "x": 5,
          "y": 16
         },
         {
          "value": 0,
          "x": 6,
          "y": 16
         },
         {
          "value": 0,
          "x": 7,
          "y": 16
         },
         {
          "value": 0,
          "x": 8,
          "y": 16
         },
         {
          "value": 0,
          "x": 9,
          "y": 16
         },
         {
          "value": 0,
          "x": 10,
          "y": 16
         },
         {
          "value": 0,
          "x": 11,
          "y": 16
         },
         {
          "value": 0,
          "x": 12,
          "y": 16
         },
         {
          "value": 0,
          "x": 13,
          "y": 16
         },
         {
          "value": 0,
          "x": 14,
          "y": 16
         },
         {
          "value": 0,
          "x": 15,
          "y": 16
         },
         {
          "value": 0,
          "x": 16,
          "y": 16
         },
         {
          "value": 0,
          "x": 17,
          "y": 16
         },
         {
          "value": 0,
          "x": 18,
          "y": 16
         },
         {
          "value": 0,
          "x": 19,
          "y": 16
         },
         {
          "value": 0,
          "x": 20,
          "y": 16
         },
         {
          "value": 0,
          "x": 21,
          "y": 16
         },
         {
          "value": 0,
          "x": 22,
          "y": 16
         },
         {
          "value": 0,
          "x": 23,
          "y": 16
         },
         {
          "value": 0,
          "x": 24,
          "y": 16
         },
         {
          "value": 0,
          "x": 25,
          "y": 16
         },
         {
          "value": 0,
          "x": 26,
          "y": 16
         },
         {
          "value": 0,
          "x": 27,
          "y": 16
         },
         {
          "value": 0,
          "x": 28,
          "y": 16
         },
         {
          "value": 0,
          "x": 29,
          "y": 16
         },
         {
          "value": 0,
          "x": 30,
          "y": 16
         },
         {
          "value": 0,
          "x": 31,
          "y": 16
         },
         {
          "value": 0,
          "x": 32,
          "y": 16
         },
         {
          "value": 0,
          "x": 33,
          "y": 16
         },
         {
          "value": 0,
          "x": 34,
          "y": 16
         },
         {
          "value": 0,
          "x": 35,
          "y": 16
         },
         {
          "value": 0,
          "x": 36,
          "y": 16
         },
         {
          "value": 0,
          "x": 37,
          "y": 16
         },
         {
          "value": 0,
          "x": 38,
          "y": 16
         },
         {
          "value": 0,
          "x": 39,
          "y": 16
         },
         {
          "value": 0,
          "x": 0,
          "y": 17
         },
         {
          "value": 0,
          "x": 1,
          "y": 17
         },
         {
          "value": 0,
          "x": 2,
          "y": 17
         },
         {
          "value": 0,
          "x": 3,
          "y": 17
         },
         {
          "value": 0,
          "x": 4,
          "y": 17
         },
         {
          "value": 0,
          "x": 5,
          "y": 17
         },
         {
          "value": 0,
          "x": 6,
          "y": 17
         },
         {
          "value": 0,
          "x": 7,
          "y": 17
         },
         {
          "value": 0,
          "x": 8,
          "y": 17
         },
         {
          "value": 0,
          "x": 9,
          "y": 17
         },
         {
          "value": 0,
          "x": 10,
          "y": 17
         },
         {
          "value": 0,
          "x": 11,
          "y": 17
         },
         {
          "value": 0,
          "x": 12,
          "y": 17
         },
         {
          "value": 0,
          "x": 13,
          "y": 17
         },
         {
          "value": 0,
          "x": 14,
          "y": 17
         },
         {
          "value": 0,
          "x": 15,
          "y": 17
         },
         {
          "value": 0,
          "x": 16,
          "y": 17
         },
         {
          "value": 0,
          "x": 17,
          "y": 17
         },
         {
          "value": 0,
          "x": 18,
          "y": 17
         },
         {
          "value": 0,
          "x": 19,
          "y": 17
         },
         {
          "value": 0,
          "x": 20,
          "y": 17
         },
         {
          "value": 0,
          "x": 21,
          "y": 17
         },
         {
          "value": 0,
          "x": 22,
          "y": 17
         },
         {
          "value": 0,
          "x": 23,
          "y": 17
         },
         {
          "value": 0,
          "x": 24,
          "y": 17
         },
         {
          "value": 0,
          "x": 25,
          "y": 17
         },
         {
          "value": 0,
          "x": 26,
          "y": 17
         },
         {
          "value": 0,
          "x": 27,
          "y": 17
         },
         {
          "value": 0,
          "x": 28,
          "y": 17
         },
         {
          "value": 0,
          "x": 29,
          "y": 17
         },
         {
          "value": 0,
          "x": 30,
          "y": 17
         },
         {
          "value": 0,
          "x": 31,
          "y": 17
         },
         {
          "value": 0,
          "x": 32,
          "y": 17
         },
         {
          "value": 0,
          "x": 33,
          "y": 17
         },
         {
          "value": 0,
          "x": 34,
          "y": 17
         },
         {
          "value": 0,
          "x": 35,
          "y": 17
         },
         {
          "value": 0,
          "x": 36,
          "y": 17
         },
         {
          "value": 0,
          "x": 37,
          "y": 17
         },
         {
          "value": 0,
          "x": 38,
          "y": 17
         },
         {
          "value": 0,
          "x": 39,
          "y": 17
         },
         {
          "value": 0,
          "x": 0,
          "y": 18
         },
         {
          "value": 0,
          "x": 1,
          "y": 18
         },
         {
          "value": 0,
          "x": 2,
          "y": 18
         },
         {
          "value": 0,
          "x": 3,
          "y": 18
         },
         {
          "value": 0,
          "x": 4,
          "y": 18
         },
         {
          "value": 0,
          "x": 5,
          "y": 18
         },
         {
          "value": 0,
          "x": 6,
          "y": 18
         },
         {
          "value": 0,
          "x": 7,
          "y": 18
         },
         {
          "value": 0,
          "x": 8,
          "y": 18
         },
         {
          "value": 0,
          "x": 9,
          "y": 18
         },
         {
          "value": 0,
          "x": 10,
          "y": 18
         },
         {
          "value": 0,
          "x": 11,
          "y": 18
         },
         {
          "value": 0,
          "x": 12,
          "y": 18
         },
         {
          "value": 0,
          "x": 13,
          "y": 18
         },
         {
          "value": 0,
          "x": 14,
          "y": 18
         },
         {
          "value": 0,
          "x": 15,
          "y": 18
         },
         {
          "value": 0,
          "x": 16,
          "y": 18
         },
         {
          "value": 0,
          "x": 17,
          "y": 18
         },
         {
          "value": 0,
          "x": 18,
          "y": 18
         },
         {
          "value": 0,
          "x": 19,
          "y": 18
         },
         {
          "value": 0,
          "x": 20,
          "y": 18
         },
         {
          "value": 0,
          "x": 21,
          "y": 18
         },
         {
          "value": 0,
          "x": 22,
          "y": 18
         },
         {
          "value": 0,
          "x": 23,
          "y": 18
         },
         {
          "value": 0,
          "x": 24,
          "y": 18
         },
         {
          "value": 0,
          "x": 25,
          "y": 18
         },
         {
          "value": 0,
          "x": 26,
          "y": 18
         },
         {
          "value": 0,
          "x": 27,
          "y": 18
         },
         {
          "value": 0,
          "x": 28,
          "y": 18
         },
         {
          "value": 0,
          "x": 29,
          "y": 18
         },
         {
          "value": 0,
          "x": 30,
          "y": 18
         },
         {
          "value": 0,
          "x": 31,
          "y": 18
         },
         {
          "value": 0,
          "x": 32,
          "y": 18
         },
         {
          "value": 0,
          "x": 33,
          "y": 18
         },
         {
          "value": 0,
          "x": 34,
          "y": 18
         },
         {
          "value": 0,
          "x": 35,
          "y": 18
         },
         {
          "value": 0,
          "x": 36,
          "y": 18
         },
         {
          "value": 0,
          "x": 37,
          "y": 18
         },
         {
          "value": 0,
          "x": 38,
          "y": 18
         },
         {
          "value": 0,
          "x": 39,
          "y": 18
         },
         {
          "value": 0,
          "x": 0,
          "y": 19
         },
         {
          "value": 0,
          "x": 1,
          "y": 19
         },
         {
          "value": 0,
          "x": 2,
          "y": 19
         },
         {
          "value": 0,
          "x": 3,
          "y": 19
         },
         {
          "value": 0,
          "x": 4,
          "y": 19
         },
         {
          "value": 0,
          "x": 5,
          "y": 19
         },
         {
          "value": 0,
          "x": 6,
          "y": 19
         },
         {
          "value": 0,
          "x": 7,
          "y": 19
         },
         {
          "value": 0,
          "x": 8,
          "y": 19
         },
         {
          "value": 0,
          "x": 9,
          "y": 19
         },
         {
          "value": 0,
          "x": 10,
          "y": 19
         },
         {
          "value": 0,
          "x": 11,
          "y": 19
         },
         {
          "value": 0,
          "x": 12,
          "y": 19
         },
         {
          "value": 0,
          "x": 13,
          "y": 19
         },
         {
          "value": 0,
          "x": 14,
          "y": 19
         },
         {
          "value": 0,
          "x": 15,
          "y": 19
         },
         {
          "value": 0,
          "x": 16,
          "y": 19
         },
         {
          "value": 0,
          "x": 17,
          "y": 19
         },
         {
          "value": 0,
          "x": 18,
          "y": 19
         },
         {
          "value": 0,
          "x": 19,
          "y": 19
         },
         {
          "value": 0,
          "x": 20,
          "y": 19
         },
         {
          "value": 0,
          "x": 21,
          "y": 19
         },
         {
          "value": 0,
          "x": 22,
          "y": 19
         },
         {
          "value": 0,
          "x": 23,
          "y": 19
         },
         {
          "value": 0,
          "x": 24,
          "y": 19
         },
         {
          "value": 0,
          "x": 25,
          "y": 19
         },
         {
          "value": 0,
          "x": 26,
          "y": 19
         },
         {
          "value": 0,
          "x": 27,
          "y": 19
         },
         {
          "value": 0,
          "x": 28,
          "y": 19
         },
         {
          "value": 0,
          "x": 29,
          "y": 19
         },
         {
          "value": 0,
          "x": 30,
          "y": 19
         },
         {
          "value": 0,
          "x": 31,
          "y": 19
         },
         {
          "value": 0,
          "x": 32,
          "y": 19
         },
         {
          "value": 0,
          "x": 33,
          "y": 19
         },
         {
          "value": 0,
          "x": 34,
          "y": 19
         },
         {
          "value": 0,
          "x": 35,
          "y": 19
         },
         {
          "value": 0,
          "x": 36,
          "y": 19
         },
         {
          "value": 0,
          "x": 37,
          "y": 19
         },
         {
          "value": 0,
          "x": 38,
          "y": 19
         },
         {
          "value": 0,
          "x": 39,
          "y": 19
         },
         {
          "value": 0,
          "x": 0,
          "y": 20
         },
         {
          "value": 0,
          "x": 1,
          "y": 20
         },
         {
          "value": 0,
          "x": 2,
          "y": 20
         },
         {
          "value": 0,
          "x": 3,
          "y": 20
         },
         {
          "value": 0,
          "x": 4,
          "y": 20
         },
         {
          "value": 0,
          "x": 5,
          "y": 20
         },
         {
          "value": 0,
          "x": 6,
          "y": 20
         },
         {
          "value": 0,
          "x": 7,
          "y": 20
         },
         {
          "value": 0,
          "x": 8,
          "y": 20
         },
         {
          "value": 0,
          "x": 9,
          "y": 20
         },
         {
          "value": 0,
          "x": 10,
          "y": 20
         },
         {
          "value": 0,
          "x": 11,
          "y": 20
         },
         {
          "value": 0,
          "x": 12,
          "y": 20
         },
         {
          "value": 0,
          "x": 13,
          "y": 20
         },
         {
          "value": 0,
          "x": 14,
          "y": 20
         },
         {
          "value": 0,
          "x": 15,
          "y": 20
         },
         {
          "value": 0,
          "x": 16,
          "y": 20
         },
         {
          "value": 0,
          "x": 17,
          "y": 20
         },
         {
          "value": 0,
          "x": 18,
          "y": 20
         },
         {
          "value": 0,
          "x": 19,
          "y": 20
         },
         {
          "value": 0,
          "x": 20,
          "y": 20
         },
         {
          "value": 0,
          "x": 21,
          "y": 20
         },
         {
          "value": 0,
          "x": 22,
          "y": 20
         },
         {
          "value": 0,
          "x": 23,
          "y": 20
         },
         {
          "value": 0,
          "x": 24,
          "y": 20
         },
         {
          "value": 0,
          "x": 25,
          "y": 20
         },
         {
          "value": 0,
          "x": 26,
          "y": 20
         },
         {
          "value": 0,
          "x": 27,
          "y": 20
         },
         {
          "value": 0,
          "x": 28,
          "y": 20
         },
         {
          "value": 0,
          "x": 29,
          "y": 20
         },
         {
          "value": 0,
          "x": 30,
          "y": 20
         },
         {
          "value": 0,
          "x": 31,
          "y": 20
         },
         {
          "value": 0,
          "x": 32,
          "y": 20
         },
         {
          "value": 0,
          "x": 33,
          "y": 20
         },
         {
          "value": 0,
          "x": 34,
          "y": 20
         },
         {
          "value": 0,
          "x": 35,
          "y": 20
         },
         {
          "value": 0,
          "x": 36,
          "y": 20
         },
         {
          "value": 0,
          "x": 37,
          "y": 20
         },
         {
          "value": 0,
          "x": 38,
          "y": 20
         },
         {
          "value": 0,
          "x": 39,
          "y": 20
         },
         {
          "value": 0,
          "x": 0,
          "y": 21
         },
         {
          "value": 0,
          "x": 1,
          "y": 21
         },
         {
          "value": 0,
          "x": 2,
          "y": 21
         },
         {
          "value": 0,
          "x": 3,
          "y": 21
         },
         {
          "value": 0,
          "x": 4,
          "y": 21
         },
         {
          "value": 0,
          "x": 5,
          "y": 21
         },
         {
          "value": 0,
          "x": 6,
          "y": 21
         },
         {
          "value": 0,
          "x": 7,
          "y": 21
         },
         {
          "value": 0,
          "x": 8,
          "y": 21
         },
         {
          "value": 0,
          "x": 9,
          "y": 21
         },
         {
          "value": 0,
          "x": 10,
          "y": 21
         },
         {
          "value": 0,
          "x": 11,
          "y": 21
         },
         {
          "value": 0,
          "x": 12,
          "y": 21
         },
         {
          "value": 0,
          "x": 13,
          "y": 21
         },
         {
          "value": 0,
          "x": 14,
          "y": 21
         },
         {
          "value": 0,
          "x": 15,
          "y": 21
         },
         {
          "value": 0,
          "x": 16,
          "y": 21
         },
         {
          "value": 0,
          "x": 17,
          "y": 21
         },
         {
          "value": 0,
          "x": 18,
          "y": 21
         },
         {
          "value": 0,
          "x": 19,
          "y": 21
         },
         {
          "value": 0,
          "x": 20,
          "y": 21
         },
         {
          "value": 0,
          "x": 21,
          "y": 21
         },
         {
          "value": 0,
          "x": 22,
          "y": 21
         },
         {
          "value": 0,
          "x": 23,
          "y": 21
         },
         {
          "value": 0,
          "x": 24,
          "y": 21
         },
         {
          "value": 0,
          "x": 25,
          "y": 21
         },
         {
          "value": 0,
          "x": 26,
          "y": 21
         },
         {
          "value": 0,
          "x": 27,
          "y": 21
         },
         {
          "value": 0,
          "x": 28,
          "y": 21
         },
         {
          "value": 0,
          "x": 29,
          "y": 21
         },
         {
          "value": 0,
          "x": 30,
          "y": 21
         },
         {
          "value": 0,
          "x": 31,
          "y": 21
         },
         {
          "value": 0,
          "x": 32,
          "y": 21
         },
         {
          "value": 0,
          "x": 33,
          "y": 21
         },
         {
          "value": 0,
          "x": 34,
          "y": 21
         },
         {
          "value": 0,
          "x": 35,
          "y": 21
         },
         {
          "value": 0,
          "x": 36,
          "y": 21
         },
         {
          "value": 0,
          "x": 37,
          "y": 21
         },
         {
          "value": 0,
          "x": 38,
          "y": 21
         },
         {
          "value": 0,
          "x": 39,
          "y": 21
         },
         {
          "value": 0,
          "x": 0,
          "y": 22
         },
         {
          "value": 0,
          "x": 1,
          "y": 22
         },
         {
          "value": 0,
          "x": 2,
          "y": 22
         },
         {
          "value": 0,
          "x": 3,
          "y": 22
         },
         {
          "value": 0,
          "x": 4,
          "y": 22
         },
         {
          "value": 0,
          "x": 5,
          "y": 22
         },
         {
          "value": 0,
          "x": 6,
          "y": 22
         },
         {
          "value": 0,
          "x": 7,
          "y": 22
         },
         {
          "value": 0,
          "x": 8,
          "y": 22
         },
         {
          "value": 0,
          "x": 9,
          "y": 22
         },
         {
          "value": 0,
          "x": 10,
          "y": 22
         },
         {
          "value": 0,
          "x": 11,
          "y": 22
         },
         {
          "value": 0,
          "x": 12,
          "y": 22
         },
         {
          "value": 0,
          "x": 13,
          "y": 22
         },
         {
          "value": 0,
          "x": 14,
          "y": 22
         },
         {
          "value": 0,
          "x": 15,
          "y": 22
         },
         {
          "value": 0,
          "x": 16,
          "y": 22
         },
         {
          "value": 0,
          "x": 17,
          "y": 22
         },
         {
          "value": 0,
          "x": 18,
          "y": 22
         },
         {
          "value": 0,
          "x": 19,
          "y": 22
         },
         {
          "value": 0,
          "x": 20,
          "y": 22
         },
         {
          "value": 0,
          "x": 21,
          "y": 22
         },
         {
          "value": 0,
          "x": 22,
          "y": 22
         },
         {
          "value": 0,
          "x": 23,
          "y": 22
         },
         {
          "value": 0,
          "x": 24,
          "y": 22
         },
         {
          "value": 0,
          "x": 25,
          "y": 22
         },
         {
          "value": 0,
          "x": 26,
          "y": 22
         },
         {
          "value": 0,
          "x": 27,
          "y": 22
         },
         {
          "value": 0,
          "x": 28,
          "y": 22
         },
         {
          "value": 0,
          "x": 29,
          "y": 22
         },
         {
          "value": 0,
          "x": 30,
          "y": 22
         },
         {
          "value": 0,
          "x": 31,
          "y": 22
         },
         {
          "value": 0,
          "x": 32,
          "y": 22
         },
         {
          "value": 0,
          "x": 33,
          "y": 22
         },
         {
          "value": 0,
          "x": 34,
          "y": 22
         },
         {
          "value": 0,
          "x": 35,
          "y": 22
         },
         {
          "value": 0,
          "x": 36,
          "y": 22
         },
         {
          "value": 0,
          "x": 37,
          "y": 22
         },
         {
          "value": 0,
          "x": 38,
          "y": 22
         },
         {
          "value": 0,
          "x": 39,
          "y": 22
         },
         {
          "value": 0,
          "x": 0,
          "y": 23
         },
         {
          "value": 0,
          "x": 1,
          "y": 23
         },
         {
          "value": 0,
          "x": 2,
          "y": 23
         },
         {
          "value": 0,
          "x": 3,
          "y": 23
         },
         {
          "value": 0,
          "x": 4,
          "y": 23
         },
         {
          "value": 0,
          "x": 5,
          "y": 23
         },
         {
          "value": 0,
          "x": 6,
          "y": 23
         },
         {
          "value": 0,
          "x": 7,
          "y": 23
         },
         {
          "value": 0,
          "x": 8,
          "y": 23
         },
         {
          "value": 0,
          "x": 9,
          "y": 23
         },
         {
          "value": 0,
          "x": 10,
          "y": 23
         },
         {
          "value": 0,
          "x": 11,
          "y": 23
         },
         {
          "value": 0,
          "x": 12,
          "y": 23
         },
         {
          "value": 0,
          "x": 13,
          "y": 23
         },
         {
          "value": 0,
          "x": 14,
          "y": 23
         },
         {
          "value": 0,
          "x": 15,
          "y": 23
         },
         {
          "value": 0,
          "x": 16,
          "y": 23
         },
         {
          "value": 0,
          "x": 17,
          "y": 23
         },
         {
          "value": 0,
          "x": 18,
          "y": 23
         },
         {
          "value": 0,
          "x": 19,
          "y": 23
         },
         {
          "value": 0,
          "x": 20,
          "y": 23
         },
         {
          "value": 0,
          "x": 21,
          "y": 23
         },
         {
          "value": 0,
          "x": 22,
          "y": 23
         },
         {
          "value": 0,
          "x": 23,
          "y": 23
         },
         {
          "value": 0,
          "x": 24,
          "y": 23
         },
         {
          "value": 0,
          "x": 25,
          "y": 23
         },
         {
          "value": 0,
          "x": 26,
          "y": 23
         },
         {
          "value": 0,
          "x": 27,
          "y": 23
         },
         {
          "value": 0,
          "x": 28,
          "y": 23
         },
         {
          "value": 0,
          "x": 29,
          "y": 23
         },
         {
          "value": 0,
          "x": 30,
          "y": 23
         },
         {
          "value": 0,
          "x": 31,
          "y": 23
         },
         {
          "value": 0,
          "x": 32,
          "y": 23
         },
         {
          "value": 0,
          "x": 33,
          "y": 23
         },
         {
          "value": 0,
          "x": 34,
          "y": 23
         },
         {
          "value": 0,
          "x": 35,
          "y": 23
         },
         {
          "value": 0,
          "x": 36,
          "y": 23
         },
         {
          "value": 0,
          "x": 37,
          "y": 23
         },
         {
          "value": 0,
          "x": 38,
          "y": 23
         },
         {
          "value": 0,
          "x": 39,
          "y": 23
         },
         {
          "value": 0,
          "x": 0,
          "y": 24
         },
         {
          "value": 0,
          "x": 1,
          "y": 24
         },
         {
          "value": 0,
          "x": 2,
          "y": 24
         },
         {
          "value": 0,
          "x": 3,
          "y": 24
         },
         {
          "value": 0,
          "x": 4,
          "y": 24
         },
         {
          "value": 0,
          "x": 5,
          "y": 24
         },
         {
          "value": 0,
          "x": 6,
          "y": 24
         },
         {
          "value": 0,
          "x": 7,
          "y": 24
         },
         {
          "value": 0,
          "x": 8,
          "y": 24
         },
         {
          "value": 0,
          "x": 9,
          "y": 24
         },
         {
          "value": 0,
          "x": 10,
          "y": 24
         },
         {
          "value": 0,
          "x": 11,
          "y": 24
         },
         {
          "value": 0,
          "x": 12,
          "y": 24
         },
         {
          "value": 0,
          "x": 13,
          "y": 24
         },
         {
          "value": 0,
          "x": 14,
          "y": 24
         },
         {
          "value": 0,
          "x": 15,
          "y": 24
         },
         {
          "value": 0,
          "x": 16,
          "y": 24
         },
         {
          "value": 0,
          "x": 17,
          "y": 24
         },
         {
          "value": 0,
          "x": 18,
          "y": 24
         },
         {
          "value": 0,
          "x": 19,
          "y": 24
         },
         {
          "value": 0,
          "x": 20,
          "y": 24
         },
         {
          "value": 0,
          "x": 21,
          "y": 24
         },
         {
          "value": 0,
          "x": 22,
          "y": 24
         },
         {
          "value": 0,
          "x": 23,
          "y": 24
         },
         {
          "value": 0,
          "x": 24,
          "y": 24
         },
         {
          "value": 0,
          "x": 25,
          "y": 24
         },
         {
          "value": 0,
          "x": 26,
          "y": 24
         },
         {
          "value": 0,
          "x": 27,
          "y": 24
         },
         {
          "value": 0,
          "x": 28,
          "y": 24
         },
         {
          "value": 0,
          "x": 29,
          "y": 24
         },
         {
          "value": 0,
          "x": 30,
          "y": 24
         },
         {
          "value": 0,
          "x": 31,
          "y": 24
         },
         {
          "value": 0,
          "x": 32,
          "y": 24
         },
         {
          "value": 0,
          "x": 33,
          "y": 24
         },
         {
          "value": 0,
          "x": 34,
          "y": 24
         },
         {
          "value": 0,
          "x": 35,
          "y": 24
         },
         {
          "value": 0,
          "x": 36,
          "y": 24
         },
         {
          "value": 0,
          "x": 37,
          "y": 24
         },
         {
          "value": 0,
          "x": 38,
          "y": 24
         },
         {
          "value": 0,
          "x": 39,
          "y": 24
         },
         {
          "value": 0,
          "x": 0,
          "y": 25
         },
         {
          "value": 0,
          "x": 1,
          "y": 25
         },
         {
          "value": 0,
          "x": 2,
          "y": 25
         },
         {
          "value": 0,
          "x": 3,
          "y": 25
         },
         {
          "value": 0,
          "x": 4,
          "y": 25
         },
         {
          "value": 0,
          "x": 5,
          "y": 25
         },
         {
          "value": 0,
          "x": 6,
          "y": 25
         },
         {
          "value": 0,
          "x": 7,
          "y": 25
         },
         {
          "value": 0,
          "x": 8,
          "y": 25
         },
         {
          "value": 0,
          "x": 9,
          "y": 25
         },
         {
          "value": 0,
          "x": 10,
          "y": 25
         },
         {
          "value": 0,
          "x": 11,
          "y": 25
         },
         {
          "value": 0,
          "x": 12,
          "y": 25
         },
         {
          "value": 0,
          "x": 13,
          "y": 25
         },
         {
          "value": 0,
          "x": 14,
          "y": 25
         },
         {
          "value": 0,
          "x": 15,
          "y": 25
         },
         {
          "value": 0,
          "x": 16,
          "y": 25
         },
         {
          "value": 0,
          "x": 17,
          "y": 25
         },
         {
          "value": 0,
          "x": 18,
          "y": 25
         },
         {
          "value": 0,
          "x": 19,
          "y": 25
         },
         {
          "value": 0,
          "x": 20,
          "y": 25
         },
         {
          "value": 0,
          "x": 21,
          "y": 25
         },
         {
          "value": 0,
          "x": 22,
          "y": 25
         },
         {
          "value": 0,
          "x": 23,
          "y": 25
         },
         {
          "value": 0,
          "x": 24,
          "y": 25
         },
         {
          "value": 0,
          "x": 25,
          "y": 25
         },
         {
          "value": 0,
          "x": 26,
          "y": 25
         },
         {
          "value": 0,
          "x": 27,
          "y": 25
         },
         {
          "value": 0,
          "x": 28,
          "y": 25
         },
         {
          "value": 0,
          "x": 29,
          "y": 25
         },
         {
          "value": 0,
          "x": 30,
          "y": 25
         },
         {
          "value": 0,
          "x": 31,
          "y": 25
         },
         {
          "value": 0,
          "x": 32,
          "y": 25
         },
         {
          "value": 0,
          "x": 33,
          "y": 25
         },
         {
          "value": 0,
          "x": 34,
          "y": 25
         },
         {
          "value": 0,
          "x": 35,
          "y": 25
         },
         {
          "value": 0,
          "x": 36,
          "y": 25
         },
         {
          "value": 0,
          "x": 37,
          "y": 25
         },
         {
          "value": 0,
          "x": 38,
          "y": 25
         },
         {
          "value": 0,
          "x": 39,
          "y": 25
         },
         {
          "value": 0,
          "x": 0,
          "y": 26
         },
         {
          "value": 0,
          "x": 1,
          "y": 26
         },
         {
          "value": 0,
          "x": 2,
          "y": 26
         },
         {
          "value": 0,
          "x": 3,
          "y": 26
         },
         {
          "value": 0,
          "x": 4,
          "y": 26
         },
         {
          "value": 0,
          "x": 5,
          "y": 26
         },
         {
          "value": 0,
          "x": 6,
          "y": 26
         },
         {
          "value": 0,
          "x": 7,
          "y": 26
         },
         {
          "value": 0,
          "x": 8,
          "y": 26
         },
         {
          "value": 0,
          "x": 9,
          "y": 26
         },
         {
          "value": 0,
          "x": 10,
          "y": 26
         },
         {
          "value": 0,
          "x": 11,
          "y": 26
         },
         {
          "value": 0,
          "x": 12,
          "y": 26
         },
         {
          "value": 0,
          "x": 13,
          "y": 26
         },
         {
          "value": 0,
          "x": 14,
          "y": 26
         },
         {
          "value": 0,
          "x": 15,
          "y": 26
         },
         {
          "value": 0,
          "x": 16,
          "y": 26
         },
         {
          "value": 0,
          "x": 17,
          "y": 26
         },
         {
          "value": 0,
          "x": 18,
          "y": 26
         },
         {
          "value": 0,
          "x": 19,
          "y": 26
         },
         {
          "value": 0,
          "x": 20,
          "y": 26
         },
         {
          "value": 0,
          "x": 21,
          "y": 26
         },
         {
          "value": 0,
          "x": 22,
          "y": 26
         },
         {
          "value": 0,
          "x": 23,
          "y": 26
         },
         {
          "value": 0,
          "x": 24,
          "y": 26
         },
         {
          "value": 0,
          "x": 25,
          "y": 26
         },
         {
          "value": 0,
          "x": 26,
          "y": 26
         },
         {
          "value": 0,
          "x": 27,
          "y": 26
         },
         {
          "value": 0,
          "x": 28,
          "y": 26
         },
         {
          "value": 0,
          "x": 29,
          "y": 26
         },
         {
          "value": 0,
          "x": 30,
          "y": 26
         },
         {
          "value": 0,
          "x": 31,
          "y": 26
         },
         {
          "value": 0,
          "x": 32,
          "y": 26
         },
         {
          "value": 0,
          "x": 33,
          "y": 26
         },
         {
          "value": 0,
          "x": 34,
          "y": 26
         },
         {
          "value": 0,
          "x": 35,
          "y": 26
         },
         {
          "value": 0,
          "x": 36,
          "y": 26
         },
         {
          "value": 0,
          "x": 37,
          "y": 26
         },
         {
          "value": 0,
          "x": 38,
          "y": 26
         },
         {
          "value": 0,
          "x": 39,
          "y": 26
         },
         {
          "value": 0,
          "x": 0,
          "y": 27
         },
         {
          "value": 0,
          "x": 1,
          "y": 27
         },
         {
          "value": 0,
          "x": 2,
          "y": 27
         },
         {
          "value": 0,
          "x": 3,
          "y": 27
         },
         {
          "value": 0,
          "x": 4,
          "y": 27
         },
         {
          "value": 0,
          "x": 5,
          "y": 27
         },
         {
          "value": 0,
          "x": 6,
          "y": 27
         },
         {
          "value": 0,
          "x": 7,
          "y": 27
         },
         {
          "value": 0,
          "x": 8,
          "y": 27
         },
         {
          "value": 0,
          "x": 9,
          "y": 27
         },
         {
          "value": 0,
          "x": 10,
          "y": 27
         },
         {
          "value": 0,
          "x": 11,
          "y": 27
         },
         {
          "value": 0,
          "x": 12,
          "y": 27
         },
         {
          "value": 0,
          "x": 13,
          "y": 27
         },
         {
          "value": 0,
          "x": 14,
          "y": 27
         },
         {
          "value": 0,
          "x": 15,
          "y": 27
         },
         {
          "value": 0,
          "x": 16,
          "y": 27
         },
         {
          "value": 0,
          "x": 17,
          "y": 27
         },
         {
          "value": 0,
          "x": 18,
          "y": 27
         },
         {
          "value": 0,
          "x": 19,
          "y": 27
         },
         {
          "value": 0,
          "x": 20,
          "y": 27
         },
         {
          "value": 0,
          "x": 21,
          "y": 27
         },
         {
          "value": 0,
          "x": 22,
          "y": 27
         },
         {
          "value": 0,
          "x": 23,
          "y": 27
         },
         {
          "value": 0,
          "x": 24,
          "y": 27
         },
         {
          "value": 0,
          "x": 25,
          "y": 27
         },
         {
          "value": 0,
          "x": 26,
          "y": 27
         },
         {
          "value": 0,
          "x": 27,
          "y": 27
         },
         {
          "value": 0,
          "x": 28,
          "y": 27
         },
         {
          "value": 0,
          "x": 29,
          "y": 27
         },
         {
          "value": 0,
          "x": 30,
          "y": 27
         },
         {
          "value": 0,
          "x": 31,
          "y": 27
         },
         {
          "value": 0,
          "x": 32,
          "y": 27
         },
         {
          "value": 0,
          "x": 33,
          "y": 27
         },
         {
          "value": 0,
          "x": 34,
          "y": 27
         },
         {
          "value": 0,
          "x": 35,
          "y": 27
         },
         {
          "value": 0,
          "x": 36,
          "y": 27
         },
         {
          "value": 0,
          "x": 37,
          "y": 27
         },
         {
          "value": 0,
          "x": 38,
          "y": 27
         },
         {
          "value": 0,
          "x": 39,
          "y": 27
         },
         {
          "value": 0,
          "x": 0,
          "y": 28
         },
         {
          "value": 0,
          "x": 1,
          "y": 28
         },
         {
          "value": 0,
          "x": 2,
          "y": 28
         },
         {
          "value": 0,
          "x": 3,
          "y": 28
         },
         {
          "value": 0,
          "x": 4,
          "y": 28
         },
         {
          "value": 0,
          "x": 5,
          "y": 28
         },
         {
          "value": 0,
          "x": 6,
          "y": 28
         },
         {
          "value": 0,
          "x": 7,
          "y": 28
         },
         {
          "value": 0,
          "x": 8,
          "y": 28
         },
         {
          "value": 0,
          "x": 9,
          "y": 28
         },
         {
          "value": 0,
          "x": 10,
          "y": 28
         },
         {
          "value": 0,
          "x": 11,
          "y": 28
         },
         {
          "value": 0,
          "x": 12,
          "y": 28
         },
         {
          "value": 0,
          "x": 13,
          "y": 28
         },
         {
          "value": 0,
          "x": 14,
          "y": 28
         },
         {
          "value": 0,
          "x": 15,
          "y": 28
         },
         {
          "value": 0,
          "x": 16,
          "y": 28
         },
         {
          "value": 0,
          "x": 17,
          "y": 28
         },
         {
          "value": 0,
          "x": 18,
          "y": 28
         },
         {
          "value": 0,
          "x": 19,
          "y": 28
         },
         {
          "value": 0,
          "x": 20,
          "y": 28
         },
         {
          "value": 0,
          "x": 21,
          "y": 28
         },
         {
          "value": 0,
          "x": 22,
          "y": 28
         },
         {
          "value": 0,
          "x": 23,
          "y": 28
         },
         {
          "value": 0,
          "x": 24,
          "y": 28
         },
         {
          "value": 0,
          "x": 25,
          "y": 28
         },
         {
          "value": 0,
          "x": 26,
          "y": 28
         },
         {
          "value": 0,
          "x": 27,
          "y": 28
         },
         {
          "value": 0,
          "x": 28,
          "y": 28
         },
         {
          "value": 0,
          "x": 29,
          "y": 28
         },
         {
          "value": 0,
          "x": 30,
          "y": 28
         },
         {
          "value": 0,
          "x": 31,
          "y": 28
         },
         {
          "value": 0,
          "x": 32,
          "y": 28
         },
         {
          "value": 0,
          "x": 33,
          "y": 28
         },
         {
          "value": 0,
          "x": 34,
          "y": 28
         },
         {
          "value": 0,
          "x": 35,
          "y": 28
         },
         {
          "value": 0,
          "x": 36,
          "y": 28
         },
         {
          "value": 0,
          "x": 37,
          "y": 28
         },
         {
          "value": 0,
          "x": 38,
          "y": 28
         },
         {
          "value": 0,
          "x": 39,
          "y": 28
         },
         {
          "value": 0,
          "x": 0,
          "y": 29
         },
         {
          "value": 0,
          "x": 1,
          "y": 29
         },
         {
          "value": 0,
          "x": 2,
          "y": 29
         },
         {
          "value": 0,
          "x": 3,
          "y": 29
         },
         {
          "value": 0,
          "x": 4,
          "y": 29
         },
         {
          "value": 0,
          "x": 5,
          "y": 29
         },
         {
          "value": 0,
          "x": 6,
          "y": 29
         },
         {
          "value": 0,
          "x": 7,
          "y": 29
         },
         {
          "value": 0,
          "x": 8,
          "y": 29
         },
         {
          "value": 0,
          "x": 9,
          "y": 29
         },
         {
          "value": 0,
          "x": 10,
          "y": 29
         },
         {
          "value": 0,
          "x": 11,
          "y": 29
         },
         {
          "value": 0,
          "x": 12,
          "y": 29
         },
         {
          "value": 0,
          "x": 13,
          "y": 29
         },
         {
          "value": 0,
          "x": 14,
          "y": 29
         },
         {
          "value": 0,
          "x": 15,
          "y": 29
         },
         {
          "value": 0,
          "x": 16,
          "y": 29
         },
         {
          "value": 0,
          "x": 17,
          "y": 29
         },
         {
          "value": 0,
          "x": 18,
          "y": 29
         },
         {
          "value": 0,
          "x": 19,
          "y": 29
         },
         {
          "value": 0,
          "x": 20,
          "y": 29
         },
         {
          "value": 0,
          "x": 21,
          "y": 29
         },
         {
          "value": 0,
          "x": 22,
          "y": 29
         },
         {
          "value": 0,
          "x": 23,
          "y": 29
         },
         {
          "value": 0,
          "x": 24,
          "y": 29
         },
         {
          "value": 0,
          "x": 25,
          "y": 29
         },
         {
          "value": 0,
          "x": 26,
          "y": 29
         },
         {
          "value": 0,
          "x": 27,
          "y": 29
         },
         {
          "value": 0,
          "x": 28,
          "y": 29
         },
         {
          "value": 0,
          "x": 29,
          "y": 29
         },
         {
          "value": 0,
          "x": 30,
          "y": 29
         },
         {
          "value": 0,
          "x": 31,
          "y": 29
         },
         {
          "value": 0,
          "x": 32,
          "y": 29
         },
         {
          "value": 0,
          "x": 33,
          "y": 29
         },
         {
          "value": 0,
          "x": 34,
          "y": 29
         },
         {
          "value": 0,
          "x": 35,
          "y": 29
         },
         {
          "value": 0,
          "x": 36,
          "y": 29
         },
         {
          "value": 0,
          "x": 37,
          "y": 29
         },
         {
          "value": 0,
          "x": 38,
          "y": 29
         },
         {
          "value": 0,
          "x": 39,
          "y": 29
         },
         {
          "value": 0,
          "x": 0,
          "y": 30
         },
         {
          "value": 0,
          "x": 1,
          "y": 30
         },
         {
          "value": 0,
          "x": 2,
          "y": 30
         },
         {
          "value": 0,
          "x": 3,
          "y": 30
         },
         {
          "value": 0,
          "x": 4,
          "y": 30
         },
         {
          "value": 0,
          "x": 5,
          "y": 30
         },
         {
          "value": 0,
          "x": 6,
          "y": 30
         },
         {
          "value": 0,
          "x": 7,
          "y": 30
         },
         {
          "value": 0,
          "x": 8,
          "y": 30
         },
         {
          "value": 0,
          "x": 9,
          "y": 30
         },
         {
          "value": 0,
          "x": 10,
          "y": 30
         },
         {
          "value": 0,
          "x": 11,
          "y": 30
         },
         {
          "value": 0,
          "x": 12,
          "y": 30
         },
         {
          "value": 0,
          "x": 13,
          "y": 30
         },
         {
          "value": 0,
          "x": 14,
          "y": 30
         },
         {
          "value": 0,
          "x": 15,
          "y": 30
         },
         {
          "value": 0,
          "x": 16,
          "y": 30
         },
         {
          "value": 0,
          "x": 17,
          "y": 30
         },
         {
          "value": 0,
          "x": 18,
          "y": 30
         },
         {
          "value": 0,
          "x": 19,
          "y": 30
         },
         {
          "value": 0,
          "x": 20,
          "y": 30
         },
         {
          "value": 0,
          "x": 21,
          "y": 30
         },
         {
          "value": 0,
          "x": 22,
          "y": 30
         },
         {
          "value": 0,
          "x": 23,
          "y": 30
         },
         {
          "value": 0,
          "x": 24,
          "y": 30
         },
         {
          "value": 0,
          "x": 25,
          "y": 30
         },
         {
          "value": 0,
          "x": 26,
          "y": 30
         },
         {
          "value": 0,
          "x": 27,
          "y": 30
         },
         {
          "value": 0,
          "x": 28,
          "y": 30
         },
         {
          "value": 0,
          "x": 29,
          "y": 30
         },
         {
          "value": 0,
          "x": 30,
          "y": 30
         },
         {
          "value": 0,
          "x": 31,
          "y": 30
         },
         {
          "value": 0,
          "x": 32,
          "y": 30
         },
         {
          "value": 0,
          "x": 33,
          "y": 30
         },
         {
          "value": 0,
          "x": 34,
          "y": 30
         },
         {
          "value": 0,
          "x": 35,
          "y": 30
         },
         {
          "value": 0,
          "x": 36,
          "y": 30
         },
         {
          "value": 0,
          "x": 37,
          "y": 30
         },
         {
          "value": 0,
          "x": 38,
          "y": 30
         },
         {
          "value": 0,
          "x": 39,
          "y": 30
         },
         {
          "value": 0,
          "x": 0,
          "y": 31
         },
         {
          "value": 0,
          "x": 1,
          "y": 31
         },
         {
          "value": 0,
          "x": 2,
          "y": 31
         },
         {
          "value": 0,
          "x": 3,
          "y": 31
         },
         {
          "value": 0,
          "x": 4,
          "y": 31
         },
         {
          "value": 0,
          "x": 5,
          "y": 31
         },
         {
          "value": 0,
          "x": 6,
          "y": 31
         },
         {
          "value": 0,
          "x": 7,
          "y": 31
         },
         {
          "value": 0,
          "x": 8,
          "y": 31
         },
         {
          "value": 0,
          "x": 9,
          "y": 31
         },
         {
          "value": 0,
          "x": 10,
          "y": 31
         },
         {
          "value": 0,
          "x": 11,
          "y": 31
         },
         {
          "value": 0,
          "x": 12,
          "y": 31
         },
         {
          "value": 0,
          "x": 13,
          "y": 31
         },
         {
          "value": 0,
          "x": 14,
          "y": 31
         },
         {
          "value": 0,
          "x": 15,
          "y": 31
         },
         {
          "value": 0,
          "x": 16,
          "y": 31
         },
         {
          "value": 0,
          "x": 17,
          "y": 31
         },
         {
          "value": 0,
          "x": 18,
          "y": 31
         },
         {
          "value": 0,
          "x": 19,
          "y": 31
         },
         {
          "value": 0,
          "x": 20,
          "y": 31
         },
         {
          "value": 0,
          "x": 21,
          "y": 31
         },
         {
          "value": 0,
          "x": 22,
          "y": 31
         },
         {
          "value": 0,
          "x": 23,
          "y": 31
         },
         {
          "value": 0,
          "x": 24,
          "y": 31
         },
         {
          "value": 0,
          "x": 25,
          "y": 31
         },
         {
          "value": 0,
          "x": 26,
          "y": 31
         },
         {
          "value": 0,
          "x": 27,
          "y": 31
         },
         {
          "value": 0,
          "x": 28,
          "y": 31
         },
         {
          "value": 0,
          "x": 29,
          "y": 31
         },
         {
          "value": 0,
          "x": 30,
          "y": 31
         },
         {
          "value": 0,
          "x": 31,
          "y": 31
         },
         {
          "value": 0,
          "x": 32,
          "y": 31
         },
         {
          "value": 0,
          "x": 33,
          "y": 31
         },
         {
          "value": 0,
          "x": 34,
          "y": 31
         },
         {
          "value": 0,
          "x": 35,
          "y": 31
         },
         {
          "value": 0,
          "x": 36,
          "y": 31
         },
         {
          "value": 0,
          "x": 37,
          "y": 31
         },
         {
          "value": 0,
          "x": 38,
          "y": 31
         },
         {
          "value": 0,
          "x": 39,
          "y": 31
         },
         {
          "value": 0,
          "x": 0,
          "y": 32
         },
         {
          "value": 0,
          "x": 1,
          "y": 32
         },
         {
          "value": 0,
          "x": 2,
          "y": 32
         },
         {
          "value": 0,
          "x": 3,
          "y": 32
         },
         {
          "value": 0,
          "x": 4,
          "y": 32
         },
         {
          "value": 0,
          "x": 5,
          "y": 32
         },
         {
          "value": 0,
          "x": 6,
          "y": 32
         },
         {
          "value": 0,
          "x": 7,
          "y": 32
         },
         {
          "value": 0,
          "x": 8,
          "y": 32
         },
         {
          "value": 0,
          "x": 9,
          "y": 32
         },
         {
          "value": 0,
          "x": 10,
          "y": 32
         },
         {
          "value": 0,
          "x": 11,
          "y": 32
         },
         {
          "value": 0,
          "x": 12,
          "y": 32
         },
         {
          "value": 0,
          "x": 13,
          "y": 32
         },
         {
          "value": 0,
          "x": 14,
          "y": 32
         },
         {
          "value": 0,
          "x": 15,
          "y": 32
         },
         {
          "value": 0,
          "x": 16,
          "y": 32
         },
         {
          "value": 0,
          "x": 17,
          "y": 32
         },
         {
          "value": 0,
          "x": 18,
          "y": 32
         },
         {
          "value": 0,
          "x": 19,
          "y": 32
         },
         {
          "value": 0,
          "x": 20,
          "y": 32
         },
         {
          "value": 0,
          "x": 21,
          "y": 32
         },
         {
          "value": 0,
          "x": 22,
          "y": 32
         },
         {
          "value": 0,
          "x": 23,
          "y": 32
         },
         {
          "value": 0,
          "x": 24,
          "y": 32
         },
         {
          "value": 0,
          "x": 25,
          "y": 32
         },
         {
          "value": 0,
          "x": 26,
          "y": 32
         },
         {
          "value": 0,
          "x": 27,
          "y": 32
         },
         {
          "value": 0,
          "x": 28,
          "y": 32
         },
         {
          "value": 0,
          "x": 29,
          "y": 32
         },
         {
          "value": 0,
          "x": 30,
          "y": 32
         },
         {
          "value": 0,
          "x": 31,
          "y": 32
         },
         {
          "value": 0,
          "x": 32,
          "y": 32
         },
         {
          "value": 0,
          "x": 33,
          "y": 32
         },
         {
          "value": 0,
          "x": 34,
          "y": 32
         },
         {
          "value": 0,
          "x": 35,
          "y": 32
         },
         {
          "value": 0,
          "x": 36,
          "y": 32
         },
         {
          "value": 0,
          "x": 37,
          "y": 32
         },
         {
          "value": 0,
          "x": 38,
          "y": 32
         },
         {
          "value": 0,
          "x": 39,
          "y": 32
         },
         {
          "value": 0,
          "x": 0,
          "y": 33
         },
         {
          "value": 0,
          "x": 1,
          "y": 33
         },
         {
          "value": 0,
          "x": 2,
          "y": 33
         },
         {
          "value": 0,
          "x": 3,
          "y": 33
         },
         {
          "value": 0,
          "x": 4,
          "y": 33
         },
         {
          "value": 0,
          "x": 5,
          "y": 33
         },
         {
          "value": 0,
          "x": 6,
          "y": 33
         },
         {
          "value": 0,
          "x": 7,
          "y": 33
         },
         {
          "value": 0,
          "x": 8,
          "y": 33
         },
         {
          "value": 0,
          "x": 9,
          "y": 33
         },
         {
          "value": 0,
          "x": 10,
          "y": 33
         },
         {
          "value": 0,
          "x": 11,
          "y": 33
         },
         {
          "value": 0,
          "x": 12,
          "y": 33
         },
         {
          "value": 0,
          "x": 13,
          "y": 33
         },
         {
          "value": 0,
          "x": 14,
          "y": 33
         },
         {
          "value": 0,
          "x": 15,
          "y": 33
         },
         {
          "value": 0,
          "x": 16,
          "y": 33
         },
         {
          "value": 0,
          "x": 17,
          "y": 33
         },
         {
          "value": 0,
          "x": 18,
          "y": 33
         },
         {
          "value": 0,
          "x": 19,
          "y": 33
         },
         {
          "value": 0,
          "x": 20,
          "y": 33
         },
         {
          "value": 0,
          "x": 21,
          "y": 33
         },
         {
          "value": 0,
          "x": 22,
          "y": 33
         },
         {
          "value": 0,
          "x": 23,
          "y": 33
         },
         {
          "value": 0,
          "x": 24,
          "y": 33
         },
         {
          "value": 0,
          "x": 25,
          "y": 33
         },
         {
          "value": 0,
          "x": 26,
          "y": 33
         },
         {
          "value": 0,
          "x": 27,
          "y": 33
         },
         {
          "value": 0,
          "x": 28,
          "y": 33
         },
         {
          "value": 0,
          "x": 29,
          "y": 33
         },
         {
          "value": 0,
          "x": 30,
          "y": 33
         },
         {
          "value": 0,
          "x": 31,
          "y": 33
         },
         {
          "value": 0,
          "x": 32,
          "y": 33
         },
         {
          "value": 0,
          "x": 33,
          "y": 33
         },
         {
          "value": 0,
          "x": 34,
          "y": 33
         },
         {
          "value": 0,
          "x": 35,
          "y": 33
         },
         {
          "value": 0,
          "x": 36,
          "y": 33
         },
         {
          "value": 0,
          "x": 37,
          "y": 33
         },
         {
          "value": 0,
          "x": 38,
          "y": 33
         },
         {
          "value": 0,
          "x": 39,
          "y": 33
         },
         {
          "value": 0,
          "x": 0,
          "y": 34
         },
         {
          "value": 0,
          "x": 1,
          "y": 34
         },
         {
          "value": 0,
          "x": 2,
          "y": 34
         },
         {
          "value": 0,
          "x": 3,
          "y": 34
         },
         {
          "value": 0,
          "x": 4,
          "y": 34
         },
         {
          "value": 0,
          "x": 5,
          "y": 34
         },
         {
          "value": 0,
          "x": 6,
          "y": 34
         },
         {
          "value": 0,
          "x": 7,
          "y": 34
         },
         {
          "value": 0,
          "x": 8,
          "y": 34
         },
         {
          "value": 0,
          "x": 9,
          "y": 34
         },
         {
          "value": 0,
          "x": 10,
          "y": 34
         },
         {
          "value": 0,
          "x": 11,
          "y": 34
         },
         {
          "value": 0,
          "x": 12,
          "y": 34
         },
         {
          "value": 0,
          "x": 13,
          "y": 34
         },
         {
          "value": 0,
          "x": 14,
          "y": 34
         },
         {
          "value": 0,
          "x": 15,
          "y": 34
         },
         {
          "value": 0,
          "x": 16,
          "y": 34
         },
         {
          "value": 0,
          "x": 17,
          "y": 34
         },
         {
          "value": 0,
          "x": 18,
          "y": 34
         },
         {
          "value": 0,
          "x": 19,
          "y": 34
         },
         {
          "value": 0,
          "x": 20,
          "y": 34
         },
         {
          "value": 0,
          "x": 21,
          "y": 34
         },
         {
          "value": 0,
          "x": 22,
          "y": 34
         },
         {
          "value": 0,
          "x": 23,
          "y": 34
         },
         {
          "value": 0,
          "x": 24,
          "y": 34
         },
         {
          "value": 0,
          "x": 25,
          "y": 34
         },
         {
          "value": 0,
          "x": 26,
          "y": 34
         },
         {
          "value": 0,
          "x": 27,
          "y": 34
         },
         {
          "value": 0,
          "x": 28,
          "y": 34
         },
         {
          "value": 0,
          "x": 29,
          "y": 34
         },
         {
          "value": 0,
          "x": 30,
          "y": 34
         },
         {
          "value": 0,
          "x": 31,
          "y": 34
         },
         {
          "value": 0,
          "x": 32,
          "y": 34
         },
         {
          "value": 0,
          "x": 33,
          "y": 34
         },
         {
          "value": 0,
          "x": 34,
          "y": 34
         },
         {
          "value": 0,
          "x": 35,
          "y": 34
         },
         {
          "value": 0,
          "x": 36,
          "y": 34
         },
         {
          "value": 0,
          "x": 37,
          "y": 34
         },
         {
          "value": 0,
          "x": 38,
          "y": 34
         },
         {
          "value": 0,
          "x": 39,
          "y": 34
         },
         {
          "value": 0,
          "x": 0,
          "y": 35
         },
         {
          "value": 0,
          "x": 1,
          "y": 35
         },
         {
          "value": 0,
          "x": 2,
          "y": 35
         },
         {
          "value": 0,
          "x": 3,
          "y": 35
         },
         {
          "value": 0,
          "x": 4,
          "y": 35
         },
         {
          "value": 0,
          "x": 5,
          "y": 35
         },
         {
          "value": 0,
          "x": 6,
          "y": 35
         },
         {
          "value": 0,
          "x": 7,
          "y": 35
         },
         {
          "value": 0,
          "x": 8,
          "y": 35
         },
         {
          "value": 0,
          "x": 9,
          "y": 35
         },
         {
          "value": 0,
          "x": 10,
          "y": 35
         },
         {
          "value": 0,
          "x": 11,
          "y": 35
         },
         {
          "value": 0,
          "x": 12,
          "y": 35
         },
         {
          "value": 0,
          "x": 13,
          "y": 35
         },
         {
          "value": 0,
          "x": 14,
          "y": 35
         },
         {
          "value": 0,
          "x": 15,
          "y": 35
         },
         {
          "value": 0,
          "x": 16,
          "y": 35
         },
         {
          "value": 0,
          "x": 17,
          "y": 35
         },
         {
          "value": 0,
          "x": 18,
          "y": 35
         },
         {
          "value": 0,
          "x": 19,
          "y": 35
         },
         {
          "value": 0,
          "x": 20,
          "y": 35
         },
         {
          "value": 0,
          "x": 21,
          "y": 35
         },
         {
          "value": 0,
          "x": 22,
          "y": 35
         },
         {
          "value": 0,
          "x": 23,
          "y": 35
         },
         {
          "value": 0,
          "x": 24,
          "y": 35
         },
         {
          "value": 0,
          "x": 25,
          "y": 35
         },
         {
          "value": 0,
          "x": 26,
          "y": 35
         },
         {
          "value": 0,
          "x": 27,
          "y": 35
         },
         {
          "value": 0,
          "x": 28,
          "y": 35
         },
         {
          "value": 0,
          "x": 29,
          "y": 35
         },
         {
          "value": 0,
          "x": 30,
          "y": 35
         },
         {
          "value": 0,
          "x": 31,
          "y": 35
         },
         {
          "value": 0,
          "x": 32,
          "y": 35
         },
         {
          "value": 0,
          "x": 33,
          "y": 35
         },
         {
          "value": 0,
          "x": 34,
          "y": 35
         },
         {
          "value": 0,
          "x": 35,
          "y": 35
         },
         {
          "value": 0,
          "x": 36,
          "y": 35
         },
         {
          "value": 0,
          "x": 37,
          "y": 35
         },
         {
          "value": 0,
          "x": 38,
          "y": 35
         },
         {
          "value": 0,
          "x": 39,
          "y": 35
         },
         {
          "value": 0,
          "x": 0,
          "y": 36
         },
         {
          "value": 0,
          "x": 1,
          "y": 36
         },
         {
          "value": 0,
          "x": 2,
          "y": 36
         },
         {
          "value": 0,
          "x": 3,
          "y": 36
         },
         {
          "value": 0,
          "x": 4,
          "y": 36
         },
         {
          "value": 0,
          "x": 5,
          "y": 36
         },
         {
          "value": 0,
          "x": 6,
          "y": 36
         },
         {
          "value": 0,
          "x": 7,
          "y": 36
         },
         {
          "value": 0,
          "x": 8,
          "y": 36
         },
         {
          "value": 0,
          "x": 9,
          "y": 36
         },
         {
          "value": 0,
          "x": 10,
          "y": 36
         },
         {
          "value": 0,
          "x": 11,
          "y": 36
         },
         {
          "value": 0,
          "x": 12,
          "y": 36
         },
         {
          "value": 0,
          "x": 13,
          "y": 36
         },
         {
          "value": 0,
          "x": 14,
          "y": 36
         },
         {
          "value": 0,
          "x": 15,
          "y": 36
         },
         {
          "value": 0,
          "x": 16,
          "y": 36
         },
         {
          "value": 0,
          "x": 17,
          "y": 36
         },
         {
          "value": 0,
          "x": 18,
          "y": 36
         },
         {
          "value": 0,
          "x": 19,
          "y": 36
         },
         {
          "value": 0,
          "x": 20,
          "y": 36
         },
         {
          "value": 0,
          "x": 21,
          "y": 36
         },
         {
          "value": 0,
          "x": 22,
          "y": 36
         },
         {
          "value": 0,
          "x": 23,
          "y": 36
         },
         {
          "value": 0,
          "x": 24,
          "y": 36
         },
         {
          "value": 0,
          "x": 25,
          "y": 36
         },
         {
          "value": 0,
          "x": 26,
          "y": 36
         },
         {
          "value": 0,
          "x": 27,
          "y": 36
         },
         {
          "value": 0,
          "x": 28,
          "y": 36
         },
         {
          "value": 0,
          "x": 29,
          "y": 36
         },
         {
          "value": 0,
          "x": 30,
          "y": 36
         },
         {
          "value": 0,
          "x": 31,
          "y": 36
         },
         {
          "value": 0,
          "x": 32,
          "y": 36
         },
         {
          "value": 0,
          "x": 33,
          "y": 36
         },
         {
          "value": 0,
          "x": 34,
          "y": 36
         },
         {
          "value": 0,
          "x": 35,
          "y": 36
         },
         {
          "value": 0,
          "x": 36,
          "y": 36
         },
         {
          "value": 0,
          "x": 37,
          "y": 36
         },
         {
          "value": 0,
          "x": 38,
          "y": 36
         },
         {
          "value": 0,
          "x": 39,
          "y": 36
         },
         {
          "value": 0,
          "x": 0,
          "y": 37
         },
         {
          "value": 0,
          "x": 1,
          "y": 37
         },
         {
          "value": 0,
          "x": 2,
          "y": 37
         },
         {
          "value": 0,
          "x": 3,
          "y": 37
         },
         {
          "value": 0,
          "x": 4,
          "y": 37
         },
         {
          "value": 0,
          "x": 5,
          "y": 37
         },
         {
          "value": 0,
          "x": 6,
          "y": 37
         },
         {
          "value": 0,
          "x": 7,
          "y": 37
         },
         {
          "value": 0,
          "x": 8,
          "y": 37
         },
         {
          "value": 0,
          "x": 9,
          "y": 37
         },
         {
          "value": 0,
          "x": 10,
          "y": 37
         },
         {
          "value": 0,
          "x": 11,
          "y": 37
         },
         {
          "value": 0,
          "x": 12,
          "y": 37
         },
         {
          "value": 0,
          "x": 13,
          "y": 37
         },
         {
          "value": 0,
          "x": 14,
          "y": 37
         },
         {
          "value": 0,
          "x": 15,
          "y": 37
         },
         {
          "value": 0,
          "x": 16,
          "y": 37
         },
         {
          "value": 0,
          "x": 17,
          "y": 37
         },
         {
          "value": 0,
          "x": 18,
          "y": 37
         },
         {
          "value": 0,
          "x": 19,
          "y": 37
         },
         {
          "value": 0,
          "x": 20,
          "y": 37
         },
         {
          "value": 0,
          "x": 21,
          "y": 37
         },
         {
          "value": 0,
          "x": 22,
          "y": 37
         },
         {
          "value": 0,
          "x": 23,
          "y": 37
         },
         {
          "value": 0,
          "x": 24,
          "y": 37
         },
         {
          "value": 0,
          "x": 25,
          "y": 37
         },
         {
          "value": 0,
          "x": 26,
          "y": 37
         },
         {
          "value": 0,
          "x": 27,
          "y": 37
         },
         {
          "value": 0,
          "x": 28,
          "y": 37
         },
         {
          "value": 0,
          "x": 29,
          "y": 37
         },
         {
          "value": 0,
          "x": 30,
          "y": 37
         },
         {
          "value": 0,
          "x": 31,
          "y": 37
         },
         {
          "value": 0,
          "x": 32,
          "y": 37
         },
         {
          "value": 0,
          "x": 33,
          "y": 37
         },
         {
          "value": 0,
          "x": 34,
          "y": 37
         },
         {
          "value": 0,
          "x": 35,
          "y": 37
         },
         {
          "value": 0,
          "x": 36,
          "y": 37
         },
         {
          "value": 0,
          "x": 37,
          "y": 37
         },
         {
          "value": 0,
          "x": 38,
          "y": 37
         },
         {
          "value": 0,
          "x": 39,
          "y": 37
         },
         {
          "value": 0,
          "x": 0,
          "y": 38
         },
         {
          "value": 0,
          "x": 1,
          "y": 38
         },
         {
          "value": 0,
          "x": 2,
          "y": 38
         },
         {
          "value": 0,
          "x": 3,
          "y": 38
         },
         {
          "value": 0,
          "x": 4,
          "y": 38
         },
         {
          "value": 0,
          "x": 5,
          "y": 38
         },
         {
          "value": 0,
          "x": 6,
          "y": 38
         },
         {
          "value": 0,
          "x": 7,
          "y": 38
         },
         {
          "value": 0,
          "x": 8,
          "y": 38
         },
         {
          "value": 0,
          "x": 9,
          "y": 38
         },
         {
          "value": 0,
          "x": 10,
          "y": 38
         },
         {
          "value": 0,
          "x": 11,
          "y": 38
         },
         {
          "value": 0,
          "x": 12,
          "y": 38
         },
         {
          "value": 0,
          "x": 13,
          "y": 38
         },
         {
          "value": 0,
          "x": 14,
          "y": 38
         },
         {
          "value": 0,
          "x": 15,
          "y": 38
         },
         {
          "value": 0,
          "x": 16,
          "y": 38
         },
         {
          "value": 0,
          "x": 17,
          "y": 38
         },
         {
          "value": 0,
          "x": 18,
          "y": 38
         },
         {
          "value": 0,
          "x": 19,
          "y": 38
         },
         {
          "value": 0,
          "x": 20,
          "y": 38
         },
         {
          "value": 0,
          "x": 21,
          "y": 38
         },
         {
          "value": 0,
          "x": 22,
          "y": 38
         },
         {
          "value": 0,
          "x": 23,
          "y": 38
         },
         {
          "value": 0,
          "x": 24,
          "y": 38
         },
         {
          "value": 0,
          "x": 25,
          "y": 38
         },
         {
          "value": 0,
          "x": 26,
          "y": 38
         },
         {
          "value": 0,
          "x": 27,
          "y": 38
         },
         {
          "value": 0,
          "x": 28,
          "y": 38
         },
         {
          "value": 0,
          "x": 29,
          "y": 38
         },
         {
          "value": 0,
          "x": 30,
          "y": 38
         },
         {
          "value": 0,
          "x": 31,
          "y": 38
         },
         {
          "value": 0,
          "x": 32,
          "y": 38
         },
         {
          "value": 0,
          "x": 33,
          "y": 38
         },
         {
          "value": 0,
          "x": 34,
          "y": 38
         },
         {
          "value": 0,
          "x": 35,
          "y": 38
         },
         {
          "value": 0,
          "x": 36,
          "y": 38
         },
         {
          "value": 0,
          "x": 37,
          "y": 38
         },
         {
          "value": 0,
          "x": 38,
          "y": 38
         },
         {
          "value": 0,
          "x": 39,
          "y": 38
         },
         {
          "value": 0,
          "x": 0,
          "y": 39
         },
         {
          "value": 0,
          "x": 1,
          "y": 39
         },
         {
          "value": 0,
          "x": 2,
          "y": 39
         },
         {
          "value": 0,
          "x": 3,
          "y": 39
         },
         {
          "value": 0,
          "x": 4,
          "y": 39
         },
         {
          "value": 0,
          "x": 5,
          "y": 39
         },
         {
          "value": 0,
          "x": 6,
          "y": 39
         },
         {
          "value": 0,
          "x": 7,
          "y": 39
         },
         {
          "value": 0,
          "x": 8,
          "y": 39
         },
         {
          "value": 0,
          "x": 9,
          "y": 39
         },
         {
          "value": 0,
          "x": 10,
          "y": 39
         },
         {
          "value": 0,
          "x": 11,
          "y": 39
         },
         {
          "value": 0,
          "x": 12,
          "y": 39
         },
         {
          "value": 0,
          "x": 13,
          "y": 39
         },
         {
          "value": 0,
          "x": 14,
          "y": 39
         },
         {
          "value": 0,
          "x": 15,
          "y": 39
         },
         {
          "value": 0,
          "x": 16,
          "y": 39
         },
         {
          "value": 0,
          "x": 17,
          "y": 39
         },
         {
          "value": 0,
          "x": 18,
          "y": 39
         },
         {
          "value": 0,
          "x": 19,
          "y": 39
         },
         {
          "value": 0,
          "x": 20,
          "y": 39
         },
         {
          "value": 0,
          "x": 21,
          "y": 39
         },
         {
          "value": 0,
          "x": 22,
          "y": 39
         },
         {
          "value": 0,
          "x": 23,
          "y": 39
         },
         {
          "value": 0,
          "x": 24,
          "y": 39
         },
         {
          "value": 0,
          "x": 25,
          "y": 39
         },
         {
          "value": 0,
          "x": 26,
          "y": 39
         },
         {
          "value": 0,
          "x": 27,
          "y": 39
         },
         {
          "value": 0,
          "x": 28,
          "y": 39
         },
         {
          "value": 0,
          "x": 29,
          "y": 39
         },
         {
          "value": 0,
          "x": 30,
          "y": 39
         },
         {
          "value": 0,
          "x": 31,
          "y": 39
         },
         {
          "value": 0,
          "x": 32,
          "y": 39
         },
         {
          "value": 0,
          "x": 33,
          "y": 39
         },
         {
          "value": 0,
          "x": 34,
          "y": 39
         },
         {
          "value": 0,
          "x": 35,
          "y": 39
         },
         {
          "value": 0,
          "x": 36,
          "y": 39
         },
         {
          "value": 0,
          "x": 37,
          "y": 39
         },
         {
          "value": 0,
          "x": 38,
          "y": 39
         },
         {
          "value": 0,
          "x": 39,
          "y": 39
         }
        ]
       },
       "encoding": {
        "color": {
         "field": "value",
         "scale": {
          "scheme": "greens"
         },
         "type": "quantitative"
        },
        "x": {
         "field": "x",
         "type": "ordinal"
        },
        "y": {
         "field": "y",
         "type": "ordinal"
        }
       },
       "mark": "rect"
      },
      "image/png": "[encoded data removed]",
      "text/plain": [
       "<VegaLite 2 object>\n",
       "\n",
       "If you see this message, it means the renderer has not been properly enabled\n",
       "for the frontend that you are using. For more information, see\n",
       "https://altair-viz.github.io/user_guide/troubleshooting.html\n"
      ]
     },
     "execution_count": 9,
     "metadata": {},
     "output_type": "execute_result"
    }
   ],
   "source": [
    "world = w.World(landscape)\n",
    "draw.drawTerrainHeight(world.grid_elevation)"
   ]
  },
  {
   "cell_type": "markdown",
   "metadata": {},
   "source": [
    "# in the beginning, the world was void and without form.\n",
    "\n",
    "Starting with a grid with nothing on it. No elevation, no terrain. All of this will be generated procedurally. \n",
    "\n",
    "You can see here that the terrain is shifted on a random-normal distribution to make it look _uneven_. Making it randomly doesn't make it look _real_ so I'm going to have to be smarter about the rules that raise and lower terrain in order to make them look like mountains. "
   ]
  },
  {
   "cell_type": "code",
   "execution_count": 10,
   "metadata": {},
   "outputs": [
    {
     "data": {
      "application/vnd.vegalite.v2+json": {
       "$schema": "https://vega.github.io/schema/vega-lite/v2.6.0.json",
       "config": {
        "view": {
         "height": 300,
         "width": 400
        }
       },
       "data": {
        "name": "data-28af4d6f123356ef5f7c55b3cb03b644"
       },
       "datasets": {
        "data-28af4d6f123356ef5f7c55b3cb03b644": [
         {
          "value": -1,
          "x": 0,
          "y": 0
         },
         {
          "value": 0,
          "x": 1,
          "y": 0
         },
         {
          "value": -2,
          "x": 2,
          "y": 0
         },
         {
          "value": -2,
          "x": 3,
          "y": 0
         },
         {
          "value": 0,
          "x": 4,
          "y": 0
         },
         {
          "value": -1,
          "x": 5,
          "y": 0
         },
         {
          "value": 0,
          "x": 6,
          "y": 0
         },
         {
          "value": 1,
          "x": 7,
          "y": 0
         },
         {
          "value": 2,
          "x": 8,
          "y": 0
         },
         {
          "value": 0,
          "x": 9,
          "y": 0
         },
         {
          "value": 0,
          "x": 10,
          "y": 0
         },
         {
          "value": 0,
          "x": 11,
          "y": 0
         },
         {
          "value": 1,
          "x": 12,
          "y": 0
         },
         {
          "value": -1,
          "x": 13,
          "y": 0
         },
         {
          "value": 1,
          "x": 14,
          "y": 0
         },
         {
          "value": -2,
          "x": 15,
          "y": 0
         },
         {
          "value": -1,
          "x": 16,
          "y": 0
         },
         {
          "value": 0,
          "x": 17,
          "y": 0
         },
         {
          "value": -1,
          "x": 18,
          "y": 0
         },
         {
          "value": -1,
          "x": 19,
          "y": 0
         },
         {
          "value": 1,
          "x": 20,
          "y": 0
         },
         {
          "value": 0,
          "x": 21,
          "y": 0
         },
         {
          "value": -2,
          "x": 22,
          "y": 0
         },
         {
          "value": 1,
          "x": 23,
          "y": 0
         },
         {
          "value": -2,
          "x": 24,
          "y": 0
         },
         {
          "value": 2,
          "x": 25,
          "y": 0
         },
         {
          "value": -1,
          "x": 26,
          "y": 0
         },
         {
          "value": 0,
          "x": 27,
          "y": 0
         },
         {
          "value": -1,
          "x": 28,
          "y": 0
         },
         {
          "value": 1,
          "x": 29,
          "y": 0
         },
         {
          "value": 0,
          "x": 30,
          "y": 0
         },
         {
          "value": 0,
          "x": 31,
          "y": 0
         },
         {
          "value": -1,
          "x": 32,
          "y": 0
         },
         {
          "value": -1,
          "x": 33,
          "y": 0
         },
         {
          "value": -3,
          "x": 34,
          "y": 0
         },
         {
          "value": -2,
          "x": 35,
          "y": 0
         },
         {
          "value": 0,
          "x": 36,
          "y": 0
         },
         {
          "value": 0,
          "x": 37,
          "y": 0
         },
         {
          "value": -1,
          "x": 38,
          "y": 0
         },
         {
          "value": 1,
          "x": 39,
          "y": 0
         },
         {
          "value": 0,
          "x": 0,
          "y": 1
         },
         {
          "value": -1,
          "x": 1,
          "y": 1
         },
         {
          "value": 1,
          "x": 2,
          "y": 1
         },
         {
          "value": 2,
          "x": 3,
          "y": 1
         },
         {
          "value": -2,
          "x": 4,
          "y": 1
         },
         {
          "value": 0,
          "x": 5,
          "y": 1
         },
         {
          "value": -1,
          "x": 6,
          "y": 1
         },
         {
          "value": 0,
          "x": 7,
          "y": 1
         },
         {
          "value": 0,
          "x": 8,
          "y": 1
         },
         {
          "value": 2,
          "x": 9,
          "y": 1
         },
         {
          "value": -2,
          "x": 10,
          "y": 1
         },
         {
          "value": -1,
          "x": 11,
          "y": 1
         },
         {
          "value": -1,
          "x": 12,
          "y": 1
         },
         {
          "value": 2,
          "x": 13,
          "y": 1
         },
         {
          "value": -1,
          "x": 14,
          "y": 1
         },
         {
          "value": 1,
          "x": 15,
          "y": 1
         },
         {
          "value": -2,
          "x": 16,
          "y": 1
         },
         {
          "value": 0,
          "x": 17,
          "y": 1
         },
         {
          "value": -1,
          "x": 18,
          "y": 1
         },
         {
          "value": -1,
          "x": 19,
          "y": 1
         },
         {
          "value": 0,
          "x": 20,
          "y": 1
         },
         {
          "value": -1,
          "x": 21,
          "y": 1
         },
         {
          "value": 2,
          "x": 22,
          "y": 1
         },
         {
          "value": -1,
          "x": 23,
          "y": 1
         },
         {
          "value": 1,
          "x": 24,
          "y": 1
         },
         {
          "value": -1,
          "x": 25,
          "y": 1
         },
         {
          "value": 0,
          "x": 26,
          "y": 1
         },
         {
          "value": -1,
          "x": 27,
          "y": 1
         },
         {
          "value": -1,
          "x": 28,
          "y": 1
         },
         {
          "value": 0,
          "x": 29,
          "y": 1
         },
         {
          "value": 0,
          "x": 30,
          "y": 1
         },
         {
          "value": 3,
          "x": 31,
          "y": 1
         },
         {
          "value": -1,
          "x": 32,
          "y": 1
         },
         {
          "value": 0,
          "x": 33,
          "y": 1
         },
         {
          "value": -1,
          "x": 34,
          "y": 1
         },
         {
          "value": -1,
          "x": 35,
          "y": 1
         },
         {
          "value": 1,
          "x": 36,
          "y": 1
         },
         {
          "value": 0,
          "x": 37,
          "y": 1
         },
         {
          "value": 0,
          "x": 38,
          "y": 1
         },
         {
          "value": 0,
          "x": 39,
          "y": 1
         },
         {
          "value": 0,
          "x": 0,
          "y": 2
         },
         {
          "value": 0,
          "x": 1,
          "y": 2
         },
         {
          "value": 0,
          "x": 2,
          "y": 2
         },
         {
          "value": 1,
          "x": 3,
          "y": 2
         },
         {
          "value": 0,
          "x": 4,
          "y": 2
         },
         {
          "value": 0,
          "x": 5,
          "y": 2
         },
         {
          "value": 0,
          "x": 6,
          "y": 2
         },
         {
          "value": 0,
          "x": 7,
          "y": 2
         },
         {
          "value": 0,
          "x": 8,
          "y": 2
         },
         {
          "value": -1,
          "x": 9,
          "y": 2
         },
         {
          "value": 3,
          "x": 10,
          "y": 2
         },
         {
          "value": 0,
          "x": 11,
          "y": 2
         },
         {
          "value": 0,
          "x": 12,
          "y": 2
         },
         {
          "value": 0,
          "x": 13,
          "y": 2
         },
         {
          "value": -1,
          "x": 14,
          "y": 2
         },
         {
          "value": 1,
          "x": 15,
          "y": 2
         },
         {
          "value": 1,
          "x": 16,
          "y": 2
         },
         {
          "value": 0,
          "x": 17,
          "y": 2
         },
         {
          "value": -1,
          "x": 18,
          "y": 2
         },
         {
          "value": 0,
          "x": 19,
          "y": 2
         },
         {
          "value": 0,
          "x": 20,
          "y": 2
         },
         {
          "value": 1,
          "x": 21,
          "y": 2
         },
         {
          "value": -1,
          "x": 22,
          "y": 2
         },
         {
          "value": 2,
          "x": 23,
          "y": 2
         },
         {
          "value": 1,
          "x": 24,
          "y": 2
         },
         {
          "value": -1,
          "x": 25,
          "y": 2
         },
         {
          "value": 2,
          "x": 26,
          "y": 2
         },
         {
          "value": 2,
          "x": 27,
          "y": 2
         },
         {
          "value": 0,
          "x": 28,
          "y": 2
         },
         {
          "value": 0,
          "x": 29,
          "y": 2
         },
         {
          "value": 1,
          "x": 30,
          "y": 2
         },
         {
          "value": -1,
          "x": 31,
          "y": 2
         },
         {
          "value": 1,
          "x": 32,
          "y": 2
         },
         {
          "value": 0,
          "x": 33,
          "y": 2
         },
         {
          "value": 0,
          "x": 34,
          "y": 2
         },
         {
          "value": 0,
          "x": 35,
          "y": 2
         },
         {
          "value": -1,
          "x": 36,
          "y": 2
         },
         {
          "value": 2,
          "x": 37,
          "y": 2
         },
         {
          "value": 0,
          "x": 38,
          "y": 2
         },
         {
          "value": -1,
          "x": 39,
          "y": 2
         },
         {
          "value": -1,
          "x": 0,
          "y": 3
         },
         {
          "value": -1,
          "x": 1,
          "y": 3
         },
         {
          "value": 3,
          "x": 2,
          "y": 3
         },
         {
          "value": 0,
          "x": 3,
          "y": 3
         },
         {
          "value": 0,
          "x": 4,
          "y": 3
         },
         {
          "value": -1,
          "x": 5,
          "y": 3
         },
         {
          "value": 1,
          "x": 6,
          "y": 3
         },
         {
          "value": -2,
          "x": 7,
          "y": 3
         },
         {
          "value": 0,
          "x": 8,
          "y": 3
         },
         {
          "value": -2,
          "x": 9,
          "y": 3
         },
         {
          "value": -1,
          "x": 10,
          "y": 3
         },
         {
          "value": 0,
          "x": 11,
          "y": 3
         },
         {
          "value": -1,
          "x": 12,
          "y": 3
         },
         {
          "value": 0,
          "x": 13,
          "y": 3
         },
         {
          "value": 1,
          "x": 14,
          "y": 3
         },
         {
          "value": 0,
          "x": 15,
          "y": 3
         },
         {
          "value": 0,
          "x": 16,
          "y": 3
         },
         {
          "value": 2,
          "x": 17,
          "y": 3
         },
         {
          "value": 1,
          "x": 18,
          "y": 3
         },
         {
          "value": 1,
          "x": 19,
          "y": 3
         },
         {
          "value": 1,
          "x": 20,
          "y": 3
         },
         {
          "value": -2,
          "x": 21,
          "y": 3
         },
         {
          "value": -1,
          "x": 22,
          "y": 3
         },
         {
          "value": 1,
          "x": 23,
          "y": 3
         },
         {
          "value": 1,
          "x": 24,
          "y": 3
         },
         {
          "value": -1,
          "x": 25,
          "y": 3
         },
         {
          "value": 0,
          "x": 26,
          "y": 3
         },
         {
          "value": 0,
          "x": 27,
          "y": 3
         },
         {
          "value": 0,
          "x": 28,
          "y": 3
         },
         {
          "value": -2,
          "x": 29,
          "y": 3
         },
         {
          "value": 0,
          "x": 30,
          "y": 3
         },
         {
          "value": 1,
          "x": 31,
          "y": 3
         },
         {
          "value": 1,
          "x": 32,
          "y": 3
         },
         {
          "value": 0,
          "x": 33,
          "y": 3
         },
         {
          "value": -2,
          "x": 34,
          "y": 3
         },
         {
          "value": 0,
          "x": 35,
          "y": 3
         },
         {
          "value": 1,
          "x": 36,
          "y": 3
         },
         {
          "value": 0,
          "x": 37,
          "y": 3
         },
         {
          "value": 0,
          "x": 38,
          "y": 3
         },
         {
          "value": 1,
          "x": 39,
          "y": 3
         },
         {
          "value": 2,
          "x": 0,
          "y": 4
         },
         {
          "value": 1,
          "x": 1,
          "y": 4
         },
         {
          "value": 2,
          "x": 2,
          "y": 4
         },
         {
          "value": 0,
          "x": 3,
          "y": 4
         },
         {
          "value": 0,
          "x": 4,
          "y": 4
         },
         {
          "value": -1,
          "x": 5,
          "y": 4
         },
         {
          "value": 0,
          "x": 6,
          "y": 4
         },
         {
          "value": 1,
          "x": 7,
          "y": 4
         },
         {
          "value": 1,
          "x": 8,
          "y": 4
         },
         {
          "value": 1,
          "x": 9,
          "y": 4
         },
         {
          "value": 0,
          "x": 10,
          "y": 4
         },
         {
          "value": 1,
          "x": 11,
          "y": 4
         },
         {
          "value": 0,
          "x": 12,
          "y": 4
         },
         {
          "value": -2,
          "x": 13,
          "y": 4
         },
         {
          "value": 0,
          "x": 14,
          "y": 4
         },
         {
          "value": 2,
          "x": 15,
          "y": 4
         },
         {
          "value": -1,
          "x": 16,
          "y": 4
         },
         {
          "value": -1,
          "x": 17,
          "y": 4
         },
         {
          "value": -1,
          "x": 18,
          "y": 4
         },
         {
          "value": 0,
          "x": 19,
          "y": 4
         },
         {
          "value": 1,
          "x": 20,
          "y": 4
         },
         {
          "value": -1,
          "x": 21,
          "y": 4
         },
         {
          "value": 2,
          "x": 22,
          "y": 4
         },
         {
          "value": 0,
          "x": 23,
          "y": 4
         },
         {
          "value": 0,
          "x": 24,
          "y": 4
         },
         {
          "value": -2,
          "x": 25,
          "y": 4
         },
         {
          "value": 1,
          "x": 26,
          "y": 4
         },
         {
          "value": 0,
          "x": 27,
          "y": 4
         },
         {
          "value": -1,
          "x": 28,
          "y": 4
         },
         {
          "value": 1,
          "x": 29,
          "y": 4
         },
         {
          "value": 1,
          "x": 30,
          "y": 4
         },
         {
          "value": 0,
          "x": 31,
          "y": 4
         },
         {
          "value": 0,
          "x": 32,
          "y": 4
         },
         {
          "value": -1,
          "x": 33,
          "y": 4
         },
         {
          "value": 1,
          "x": 34,
          "y": 4
         },
         {
          "value": -1,
          "x": 35,
          "y": 4
         },
         {
          "value": 0,
          "x": 36,
          "y": 4
         },
         {
          "value": 1,
          "x": 37,
          "y": 4
         },
         {
          "value": 0,
          "x": 38,
          "y": 4
         },
         {
          "value": 0,
          "x": 39,
          "y": 4
         },
         {
          "value": 0,
          "x": 0,
          "y": 5
         },
         {
          "value": -1,
          "x": 1,
          "y": 5
         },
         {
          "value": 0,
          "x": 2,
          "y": 5
         },
         {
          "value": 0,
          "x": 3,
          "y": 5
         },
         {
          "value": 1,
          "x": 4,
          "y": 5
         },
         {
          "value": -1,
          "x": 5,
          "y": 5
         },
         {
          "value": 0,
          "x": 6,
          "y": 5
         },
         {
          "value": 1,
          "x": 7,
          "y": 5
         },
         {
          "value": 0,
          "x": 8,
          "y": 5
         },
         {
          "value": -3,
          "x": 9,
          "y": 5
         },
         {
          "value": 0,
          "x": 10,
          "y": 5
         },
         {
          "value": -1,
          "x": 11,
          "y": 5
         },
         {
          "value": 2,
          "x": 12,
          "y": 5
         },
         {
          "value": 1,
          "x": 13,
          "y": 5
         },
         {
          "value": 1,
          "x": 14,
          "y": 5
         },
         {
          "value": 0,
          "x": 15,
          "y": 5
         },
         {
          "value": 0,
          "x": 16,
          "y": 5
         },
         {
          "value": -1,
          "x": 17,
          "y": 5
         },
         {
          "value": 0,
          "x": 18,
          "y": 5
         },
         {
          "value": -2,
          "x": 19,
          "y": 5
         },
         {
          "value": 0,
          "x": 20,
          "y": 5
         },
         {
          "value": 1,
          "x": 21,
          "y": 5
         },
         {
          "value": 0,
          "x": 22,
          "y": 5
         },
         {
          "value": 0,
          "x": 23,
          "y": 5
         },
         {
          "value": 1,
          "x": 24,
          "y": 5
         },
         {
          "value": 0,
          "x": 25,
          "y": 5
         },
         {
          "value": 1,
          "x": 26,
          "y": 5
         },
         {
          "value": 0,
          "x": 27,
          "y": 5
         },
         {
          "value": 0,
          "x": 28,
          "y": 5
         },
         {
          "value": -1,
          "x": 29,
          "y": 5
         },
         {
          "value": -2,
          "x": 30,
          "y": 5
         },
         {
          "value": 1,
          "x": 31,
          "y": 5
         },
         {
          "value": 0,
          "x": 32,
          "y": 5
         },
         {
          "value": -1,
          "x": 33,
          "y": 5
         },
         {
          "value": 0,
          "x": 34,
          "y": 5
         },
         {
          "value": 1,
          "x": 35,
          "y": 5
         },
         {
          "value": 0,
          "x": 36,
          "y": 5
         },
         {
          "value": 0,
          "x": 37,
          "y": 5
         },
         {
          "value": 0,
          "x": 38,
          "y": 5
         },
         {
          "value": 1,
          "x": 39,
          "y": 5
         },
         {
          "value": 0,
          "x": 0,
          "y": 6
         },
         {
          "value": 0,
          "x": 1,
          "y": 6
         },
         {
          "value": -1,
          "x": 2,
          "y": 6
         },
         {
          "value": 0,
          "x": 3,
          "y": 6
         },
         {
          "value": -1,
          "x": 4,
          "y": 6
         },
         {
          "value": -1,
          "x": 5,
          "y": 6
         },
         {
          "value": 0,
          "x": 6,
          "y": 6
         },
         {
          "value": -1,
          "x": 7,
          "y": 6
         },
         {
          "value": 0,
          "x": 8,
          "y": 6
         },
         {
          "value": 0,
          "x": 9,
          "y": 6
         },
         {
          "value": 0,
          "x": 10,
          "y": 6
         },
         {
          "value": 0,
          "x": 11,
          "y": 6
         },
         {
          "value": 0,
          "x": 12,
          "y": 6
         },
         {
          "value": 0,
          "x": 13,
          "y": 6
         },
         {
          "value": 1,
          "x": 14,
          "y": 6
         },
         {
          "value": 0,
          "x": 15,
          "y": 6
         },
         {
          "value": -1,
          "x": 16,
          "y": 6
         },
         {
          "value": 0,
          "x": 17,
          "y": 6
         },
         {
          "value": -1,
          "x": 18,
          "y": 6
         },
         {
          "value": 0,
          "x": 19,
          "y": 6
         },
         {
          "value": 1,
          "x": 20,
          "y": 6
         },
         {
          "value": 0,
          "x": 21,
          "y": 6
         },
         {
          "value": 0,
          "x": 22,
          "y": 6
         },
         {
          "value": -1,
          "x": 23,
          "y": 6
         },
         {
          "value": 0,
          "x": 24,
          "y": 6
         },
         {
          "value": 1,
          "x": 25,
          "y": 6
         },
         {
          "value": 1,
          "x": 26,
          "y": 6
         },
         {
          "value": 0,
          "x": 27,
          "y": 6
         },
         {
          "value": 0,
          "x": 28,
          "y": 6
         },
         {
          "value": 0,
          "x": 29,
          "y": 6
         },
         {
          "value": 1,
          "x": 30,
          "y": 6
         },
         {
          "value": -1,
          "x": 31,
          "y": 6
         },
         {
          "value": 0,
          "x": 32,
          "y": 6
         },
         {
          "value": -2,
          "x": 33,
          "y": 6
         },
         {
          "value": -1,
          "x": 34,
          "y": 6
         },
         {
          "value": 1,
          "x": 35,
          "y": 6
         },
         {
          "value": 1,
          "x": 36,
          "y": 6
         },
         {
          "value": 0,
          "x": 37,
          "y": 6
         },
         {
          "value": -1,
          "x": 38,
          "y": 6
         },
         {
          "value": 0,
          "x": 39,
          "y": 6
         },
         {
          "value": -1,
          "x": 0,
          "y": 7
         },
         {
          "value": 0,
          "x": 1,
          "y": 7
         },
         {
          "value": -2,
          "x": 2,
          "y": 7
         },
         {
          "value": 0,
          "x": 3,
          "y": 7
         },
         {
          "value": -1,
          "x": 4,
          "y": 7
         },
         {
          "value": 1,
          "x": 5,
          "y": 7
         },
         {
          "value": 2,
          "x": 6,
          "y": 7
         },
         {
          "value": -1,
          "x": 7,
          "y": 7
         },
         {
          "value": 0,
          "x": 8,
          "y": 7
         },
         {
          "value": 0,
          "x": 9,
          "y": 7
         },
         {
          "value": 0,
          "x": 10,
          "y": 7
         },
         {
          "value": 0,
          "x": 11,
          "y": 7
         },
         {
          "value": 1,
          "x": 12,
          "y": 7
         },
         {
          "value": 1,
          "x": 13,
          "y": 7
         },
         {
          "value": -1,
          "x": 14,
          "y": 7
         },
         {
          "value": 1,
          "x": 15,
          "y": 7
         },
         {
          "value": 1,
          "x": 16,
          "y": 7
         },
         {
          "value": 0,
          "x": 17,
          "y": 7
         },
         {
          "value": 1,
          "x": 18,
          "y": 7
         },
         {
          "value": 0,
          "x": 19,
          "y": 7
         },
         {
          "value": 0,
          "x": 20,
          "y": 7
         },
         {
          "value": 0,
          "x": 21,
          "y": 7
         },
         {
          "value": 0,
          "x": 22,
          "y": 7
         },
         {
          "value": 0,
          "x": 23,
          "y": 7
         },
         {
          "value": -2,
          "x": 24,
          "y": 7
         },
         {
          "value": 0,
          "x": 25,
          "y": 7
         },
         {
          "value": 0,
          "x": 26,
          "y": 7
         },
         {
          "value": -1,
          "x": 27,
          "y": 7
         },
         {
          "value": 1,
          "x": 28,
          "y": 7
         },
         {
          "value": 1,
          "x": 29,
          "y": 7
         },
         {
          "value": 2,
          "x": 30,
          "y": 7
         },
         {
          "value": 2,
          "x": 31,
          "y": 7
         },
         {
          "value": -1,
          "x": 32,
          "y": 7
         },
         {
          "value": 1,
          "x": 33,
          "y": 7
         },
         {
          "value": -2,
          "x": 34,
          "y": 7
         },
         {
          "value": 1,
          "x": 35,
          "y": 7
         },
         {
          "value": -1,
          "x": 36,
          "y": 7
         },
         {
          "value": 1,
          "x": 37,
          "y": 7
         },
         {
          "value": 2,
          "x": 38,
          "y": 7
         },
         {
          "value": 0,
          "x": 39,
          "y": 7
         },
         {
          "value": 0,
          "x": 0,
          "y": 8
         },
         {
          "value": 2,
          "x": 1,
          "y": 8
         },
         {
          "value": 0,
          "x": 2,
          "y": 8
         },
         {
          "value": 3,
          "x": 3,
          "y": 8
         },
         {
          "value": 1,
          "x": 4,
          "y": 8
         },
         {
          "value": 0,
          "x": 5,
          "y": 8
         },
         {
          "value": 0,
          "x": 6,
          "y": 8
         },
         {
          "value": -1,
          "x": 7,
          "y": 8
         },
         {
          "value": 0,
          "x": 8,
          "y": 8
         },
         {
          "value": -1,
          "x": 9,
          "y": 8
         },
         {
          "value": 0,
          "x": 10,
          "y": 8
         },
         {
          "value": -1,
          "x": 11,
          "y": 8
         },
         {
          "value": 1,
          "x": 12,
          "y": 8
         },
         {
          "value": 0,
          "x": 13,
          "y": 8
         },
         {
          "value": 2,
          "x": 14,
          "y": 8
         },
         {
          "value": 2,
          "x": 15,
          "y": 8
         },
         {
          "value": 0,
          "x": 16,
          "y": 8
         },
         {
          "value": 1,
          "x": 17,
          "y": 8
         },
         {
          "value": -2,
          "x": 18,
          "y": 8
         },
         {
          "value": 1,
          "x": 19,
          "y": 8
         },
         {
          "value": 1,
          "x": 20,
          "y": 8
         },
         {
          "value": -1,
          "x": 21,
          "y": 8
         },
         {
          "value": 1,
          "x": 22,
          "y": 8
         },
         {
          "value": 1,
          "x": 23,
          "y": 8
         },
         {
          "value": 2,
          "x": 24,
          "y": 8
         },
         {
          "value": 0,
          "x": 25,
          "y": 8
         },
         {
          "value": 1,
          "x": 26,
          "y": 8
         },
         {
          "value": 1,
          "x": 27,
          "y": 8
         },
         {
          "value": -1,
          "x": 28,
          "y": 8
         },
         {
          "value": 0,
          "x": 29,
          "y": 8
         },
         {
          "value": 1,
          "x": 30,
          "y": 8
         },
         {
          "value": -1,
          "x": 31,
          "y": 8
         },
         {
          "value": 1,
          "x": 32,
          "y": 8
         },
         {
          "value": 1,
          "x": 33,
          "y": 8
         },
         {
          "value": 0,
          "x": 34,
          "y": 8
         },
         {
          "value": 1,
          "x": 35,
          "y": 8
         },
         {
          "value": -1,
          "x": 36,
          "y": 8
         },
         {
          "value": -1,
          "x": 37,
          "y": 8
         },
         {
          "value": -1,
          "x": 38,
          "y": 8
         },
         {
          "value": 0,
          "x": 39,
          "y": 8
         },
         {
          "value": 0,
          "x": 0,
          "y": 9
         },
         {
          "value": -1,
          "x": 1,
          "y": 9
         },
         {
          "value": -1,
          "x": 2,
          "y": 9
         },
         {
          "value": 0,
          "x": 3,
          "y": 9
         },
         {
          "value": 0,
          "x": 4,
          "y": 9
         },
         {
          "value": 1,
          "x": 5,
          "y": 9
         },
         {
          "value": 1,
          "x": 6,
          "y": 9
         },
         {
          "value": 1,
          "x": 7,
          "y": 9
         },
         {
          "value": 0,
          "x": 8,
          "y": 9
         },
         {
          "value": 0,
          "x": 9,
          "y": 9
         },
         {
          "value": -1,
          "x": 10,
          "y": 9
         },
         {
          "value": 1,
          "x": 11,
          "y": 9
         },
         {
          "value": 0,
          "x": 12,
          "y": 9
         },
         {
          "value": 0,
          "x": 13,
          "y": 9
         },
         {
          "value": -2,
          "x": 14,
          "y": 9
         },
         {
          "value": 0,
          "x": 15,
          "y": 9
         },
         {
          "value": 0,
          "x": 16,
          "y": 9
         },
         {
          "value": 0,
          "x": 17,
          "y": 9
         },
         {
          "value": 1,
          "x": 18,
          "y": 9
         },
         {
          "value": 1,
          "x": 19,
          "y": 9
         },
         {
          "value": 0,
          "x": 20,
          "y": 9
         },
         {
          "value": 0,
          "x": 21,
          "y": 9
         },
         {
          "value": 0,
          "x": 22,
          "y": 9
         },
         {
          "value": -1,
          "x": 23,
          "y": 9
         },
         {
          "value": 0,
          "x": 24,
          "y": 9
         },
         {
          "value": 0,
          "x": 25,
          "y": 9
         },
         {
          "value": -1,
          "x": 26,
          "y": 9
         },
         {
          "value": -1,
          "x": 27,
          "y": 9
         },
         {
          "value": -1,
          "x": 28,
          "y": 9
         },
         {
          "value": 1,
          "x": 29,
          "y": 9
         },
         {
          "value": 0,
          "x": 30,
          "y": 9
         },
         {
          "value": 0,
          "x": 31,
          "y": 9
         },
         {
          "value": 1,
          "x": 32,
          "y": 9
         },
         {
          "value": 0,
          "x": 33,
          "y": 9
         },
         {
          "value": 0,
          "x": 34,
          "y": 9
         },
         {
          "value": 1,
          "x": 35,
          "y": 9
         },
         {
          "value": -1,
          "x": 36,
          "y": 9
         },
         {
          "value": -1,
          "x": 37,
          "y": 9
         },
         {
          "value": 2,
          "x": 38,
          "y": 9
         },
         {
          "value": 1,
          "x": 39,
          "y": 9
         },
         {
          "value": 0,
          "x": 0,
          "y": 10
         },
         {
          "value": -2,
          "x": 1,
          "y": 10
         },
         {
          "value": -1,
          "x": 2,
          "y": 10
         },
         {
          "value": 1,
          "x": 3,
          "y": 10
         },
         {
          "value": -1,
          "x": 4,
          "y": 10
         },
         {
          "value": -1,
          "x": 5,
          "y": 10
         },
         {
          "value": -1,
          "x": 6,
          "y": 10
         },
         {
          "value": -2,
          "x": 7,
          "y": 10
         },
         {
          "value": -1,
          "x": 8,
          "y": 10
         },
         {
          "value": 1,
          "x": 9,
          "y": 10
         },
         {
          "value": -1,
          "x": 10,
          "y": 10
         },
         {
          "value": 1,
          "x": 11,
          "y": 10
         },
         {
          "value": 1,
          "x": 12,
          "y": 10
         },
         {
          "value": 1,
          "x": 13,
          "y": 10
         },
         {
          "value": 0,
          "x": 14,
          "y": 10
         },
         {
          "value": 0,
          "x": 15,
          "y": 10
         },
         {
          "value": -1,
          "x": 16,
          "y": 10
         },
         {
          "value": -1,
          "x": 17,
          "y": 10
         },
         {
          "value": 0,
          "x": 18,
          "y": 10
         },
         {
          "value": 1,
          "x": 19,
          "y": 10
         },
         {
          "value": 1,
          "x": 20,
          "y": 10
         },
         {
          "value": 0,
          "x": 21,
          "y": 10
         },
         {
          "value": -2,
          "x": 22,
          "y": 10
         },
         {
          "value": -1,
          "x": 23,
          "y": 10
         },
         {
          "value": 1,
          "x": 24,
          "y": 10
         },
         {
          "value": -2,
          "x": 25,
          "y": 10
         },
         {
          "value": -1,
          "x": 26,
          "y": 10
         },
         {
          "value": 0,
          "x": 27,
          "y": 10
         },
         {
          "value": 1,
          "x": 28,
          "y": 10
         },
         {
          "value": -1,
          "x": 29,
          "y": 10
         },
         {
          "value": -1,
          "x": 30,
          "y": 10
         },
         {
          "value": -1,
          "x": 31,
          "y": 10
         },
         {
          "value": 1,
          "x": 32,
          "y": 10
         },
         {
          "value": 0,
          "x": 33,
          "y": 10
         },
         {
          "value": 1,
          "x": 34,
          "y": 10
         },
         {
          "value": -3,
          "x": 35,
          "y": 10
         },
         {
          "value": -1,
          "x": 36,
          "y": 10
         },
         {
          "value": 1,
          "x": 37,
          "y": 10
         },
         {
          "value": -1,
          "x": 38,
          "y": 10
         },
         {
          "value": 0,
          "x": 39,
          "y": 10
         },
         {
          "value": 1,
          "x": 0,
          "y": 11
         },
         {
          "value": 0,
          "x": 1,
          "y": 11
         },
         {
          "value": -1,
          "x": 2,
          "y": 11
         },
         {
          "value": 3,
          "x": 3,
          "y": 11
         },
         {
          "value": 1,
          "x": 4,
          "y": 11
         },
         {
          "value": 0,
          "x": 5,
          "y": 11
         },
         {
          "value": 0,
          "x": 6,
          "y": 11
         },
         {
          "value": -1,
          "x": 7,
          "y": 11
         },
         {
          "value": 0,
          "x": 8,
          "y": 11
         },
         {
          "value": -1,
          "x": 9,
          "y": 11
         },
         {
          "value": 1,
          "x": 10,
          "y": 11
         },
         {
          "value": -1,
          "x": 11,
          "y": 11
         },
         {
          "value": -1,
          "x": 12,
          "y": 11
         },
         {
          "value": 1,
          "x": 13,
          "y": 11
         },
         {
          "value": -1,
          "x": 14,
          "y": 11
         },
         {
          "value": 2,
          "x": 15,
          "y": 11
         },
         {
          "value": 1,
          "x": 16,
          "y": 11
         },
         {
          "value": 2,
          "x": 17,
          "y": 11
         },
         {
          "value": 0,
          "x": 18,
          "y": 11
         },
         {
          "value": 0,
          "x": 19,
          "y": 11
         },
         {
          "value": 0,
          "x": 20,
          "y": 11
         },
         {
          "value": 1,
          "x": 21,
          "y": 11
         },
         {
          "value": 1,
          "x": 22,
          "y": 11
         },
         {
          "value": -1,
          "x": 23,
          "y": 11
         },
         {
          "value": -2,
          "x": 24,
          "y": 11
         },
         {
          "value": 3,
          "x": 25,
          "y": 11
         },
         {
          "value": 0,
          "x": 26,
          "y": 11
         },
         {
          "value": 1,
          "x": 27,
          "y": 11
         },
         {
          "value": 0,
          "x": 28,
          "y": 11
         },
         {
          "value": 0,
          "x": 29,
          "y": 11
         },
         {
          "value": -1,
          "x": 30,
          "y": 11
         },
         {
          "value": 1,
          "x": 31,
          "y": 11
         },
         {
          "value": -1,
          "x": 32,
          "y": 11
         },
         {
          "value": 0,
          "x": 33,
          "y": 11
         },
         {
          "value": 0,
          "x": 34,
          "y": 11
         },
         {
          "value": -1,
          "x": 35,
          "y": 11
         },
         {
          "value": 0,
          "x": 36,
          "y": 11
         },
         {
          "value": -1,
          "x": 37,
          "y": 11
         },
         {
          "value": 1,
          "x": 38,
          "y": 11
         },
         {
          "value": 0,
          "x": 39,
          "y": 11
         },
         {
          "value": 2,
          "x": 0,
          "y": 12
         },
         {
          "value": 0,
          "x": 1,
          "y": 12
         },
         {
          "value": 2,
          "x": 2,
          "y": 12
         },
         {
          "value": -2,
          "x": 3,
          "y": 12
         },
         {
          "value": -1,
          "x": 4,
          "y": 12
         },
         {
          "value": 0,
          "x": 5,
          "y": 12
         },
         {
          "value": -1,
          "x": 6,
          "y": 12
         },
         {
          "value": -1,
          "x": 7,
          "y": 12
         },
         {
          "value": -2,
          "x": 8,
          "y": 12
         },
         {
          "value": 1,
          "x": 9,
          "y": 12
         },
         {
          "value": 1,
          "x": 10,
          "y": 12
         },
         {
          "value": 1,
          "x": 11,
          "y": 12
         },
         {
          "value": 0,
          "x": 12,
          "y": 12
         },
         {
          "value": 1,
          "x": 13,
          "y": 12
         },
         {
          "value": -1,
          "x": 14,
          "y": 12
         },
         {
          "value": -1,
          "x": 15,
          "y": 12
         },
         {
          "value": 0,
          "x": 16,
          "y": 12
         },
         {
          "value": -1,
          "x": 17,
          "y": 12
         },
         {
          "value": 1,
          "x": 18,
          "y": 12
         },
         {
          "value": -1,
          "x": 19,
          "y": 12
         },
         {
          "value": -1,
          "x": 20,
          "y": 12
         },
         {
          "value": -1,
          "x": 21,
          "y": 12
         },
         {
          "value": -1,
          "x": 22,
          "y": 12
         },
         {
          "value": 1,
          "x": 23,
          "y": 12
         },
         {
          "value": -2,
          "x": 24,
          "y": 12
         },
         {
          "value": 0,
          "x": 25,
          "y": 12
         },
         {
          "value": 0,
          "x": 26,
          "y": 12
         },
         {
          "value": 1,
          "x": 27,
          "y": 12
         },
         {
          "value": 1,
          "x": 28,
          "y": 12
         },
         {
          "value": 0,
          "x": 29,
          "y": 12
         },
         {
          "value": 0,
          "x": 30,
          "y": 12
         },
         {
          "value": 2,
          "x": 31,
          "y": 12
         },
         {
          "value": -1,
          "x": 32,
          "y": 12
         },
         {
          "value": -1,
          "x": 33,
          "y": 12
         },
         {
          "value": 0,
          "x": 34,
          "y": 12
         },
         {
          "value": 0,
          "x": 35,
          "y": 12
         },
         {
          "value": 0,
          "x": 36,
          "y": 12
         },
         {
          "value": 1,
          "x": 37,
          "y": 12
         },
         {
          "value": -1,
          "x": 38,
          "y": 12
         },
         {
          "value": -1,
          "x": 39,
          "y": 12
         },
         {
          "value": -2,
          "x": 0,
          "y": 13
         },
         {
          "value": 0,
          "x": 1,
          "y": 13
         },
         {
          "value": 0,
          "x": 2,
          "y": 13
         },
         {
          "value": 2,
          "x": 3,
          "y": 13
         },
         {
          "value": 1,
          "x": 4,
          "y": 13
         },
         {
          "value": 1,
          "x": 5,
          "y": 13
         },
         {
          "value": 0,
          "x": 6,
          "y": 13
         },
         {
          "value": -1,
          "x": 7,
          "y": 13
         },
         {
          "value": 1,
          "x": 8,
          "y": 13
         },
         {
          "value": 2,
          "x": 9,
          "y": 13
         },
         {
          "value": 1,
          "x": 10,
          "y": 13
         },
         {
          "value": 0,
          "x": 11,
          "y": 13
         },
         {
          "value": -1,
          "x": 12,
          "y": 13
         },
         {
          "value": -1,
          "x": 13,
          "y": 13
         },
         {
          "value": 0,
          "x": 14,
          "y": 13
         },
         {
          "value": -1,
          "x": 15,
          "y": 13
         },
         {
          "value": 0,
          "x": 16,
          "y": 13
         },
         {
          "value": 1,
          "x": 17,
          "y": 13
         },
         {
          "value": -1,
          "x": 18,
          "y": 13
         },
         {
          "value": 0,
          "x": 19,
          "y": 13
         },
         {
          "value": 0,
          "x": 20,
          "y": 13
         },
         {
          "value": 0,
          "x": 21,
          "y": 13
         },
         {
          "value": 0,
          "x": 22,
          "y": 13
         },
         {
          "value": 1,
          "x": 23,
          "y": 13
         },
         {
          "value": 0,
          "x": 24,
          "y": 13
         },
         {
          "value": 0,
          "x": 25,
          "y": 13
         },
         {
          "value": 1,
          "x": 26,
          "y": 13
         },
         {
          "value": 0,
          "x": 27,
          "y": 13
         },
         {
          "value": -2,
          "x": 28,
          "y": 13
         },
         {
          "value": -1,
          "x": 29,
          "y": 13
         },
         {
          "value": -1,
          "x": 30,
          "y": 13
         },
         {
          "value": -1,
          "x": 31,
          "y": 13
         },
         {
          "value": -1,
          "x": 32,
          "y": 13
         },
         {
          "value": 1,
          "x": 33,
          "y": 13
         },
         {
          "value": -2,
          "x": 34,
          "y": 13
         },
         {
          "value": 0,
          "x": 35,
          "y": 13
         },
         {
          "value": 1,
          "x": 36,
          "y": 13
         },
         {
          "value": -1,
          "x": 37,
          "y": 13
         },
         {
          "value": -2,
          "x": 38,
          "y": 13
         },
         {
          "value": 0,
          "x": 39,
          "y": 13
         },
         {
          "value": 0,
          "x": 0,
          "y": 14
         },
         {
          "value": 0,
          "x": 1,
          "y": 14
         },
         {
          "value": -2,
          "x": 2,
          "y": 14
         },
         {
          "value": 0,
          "x": 3,
          "y": 14
         },
         {
          "value": 1,
          "x": 4,
          "y": 14
         },
         {
          "value": -1,
          "x": 5,
          "y": 14
         },
         {
          "value": 0,
          "x": 6,
          "y": 14
         },
         {
          "value": 1,
          "x": 7,
          "y": 14
         },
         {
          "value": -1,
          "x": 8,
          "y": 14
         },
         {
          "value": 0,
          "x": 9,
          "y": 14
         },
         {
          "value": 2,
          "x": 10,
          "y": 14
         },
         {
          "value": 0,
          "x": 11,
          "y": 14
         },
         {
          "value": 0,
          "x": 12,
          "y": 14
         },
         {
          "value": -1,
          "x": 13,
          "y": 14
         },
         {
          "value": 0,
          "x": 14,
          "y": 14
         },
         {
          "value": 0,
          "x": 15,
          "y": 14
         },
         {
          "value": 0,
          "x": 16,
          "y": 14
         },
         {
          "value": 1,
          "x": 17,
          "y": 14
         },
         {
          "value": 0,
          "x": 18,
          "y": 14
         },
         {
          "value": -1,
          "x": 19,
          "y": 14
         },
         {
          "value": 0,
          "x": 20,
          "y": 14
         },
         {
          "value": 0,
          "x": 21,
          "y": 14
         },
         {
          "value": 1,
          "x": 22,
          "y": 14
         },
         {
          "value": 2,
          "x": 23,
          "y": 14
         },
         {
          "value": -1,
          "x": 24,
          "y": 14
         },
         {
          "value": 1,
          "x": 25,
          "y": 14
         },
         {
          "value": -1,
          "x": 26,
          "y": 14
         },
         {
          "value": -1,
          "x": 27,
          "y": 14
         },
         {
          "value": -1,
          "x": 28,
          "y": 14
         },
         {
          "value": -2,
          "x": 29,
          "y": 14
         },
         {
          "value": 1,
          "x": 30,
          "y": 14
         },
         {
          "value": 1,
          "x": 31,
          "y": 14
         },
         {
          "value": 1,
          "x": 32,
          "y": 14
         },
         {
          "value": 1,
          "x": 33,
          "y": 14
         },
         {
          "value": 0,
          "x": 34,
          "y": 14
         },
         {
          "value": -1,
          "x": 35,
          "y": 14
         },
         {
          "value": -1,
          "x": 36,
          "y": 14
         },
         {
          "value": 1,
          "x": 37,
          "y": 14
         },
         {
          "value": -1,
          "x": 38,
          "y": 14
         },
         {
          "value": 0,
          "x": 39,
          "y": 14
         },
         {
          "value": 1,
          "x": 0,
          "y": 15
         },
         {
          "value": -1,
          "x": 1,
          "y": 15
         },
         {
          "value": 0,
          "x": 2,
          "y": 15
         },
         {
          "value": -1,
          "x": 3,
          "y": 15
         },
         {
          "value": 0,
          "x": 4,
          "y": 15
         },
         {
          "value": 0,
          "x": 5,
          "y": 15
         },
         {
          "value": 1,
          "x": 6,
          "y": 15
         },
         {
          "value": 1,
          "x": 7,
          "y": 15
         },
         {
          "value": 1,
          "x": 8,
          "y": 15
         },
         {
          "value": 0,
          "x": 9,
          "y": 15
         },
         {
          "value": -3,
          "x": 10,
          "y": 15
         },
         {
          "value": 2,
          "x": 11,
          "y": 15
         },
         {
          "value": -1,
          "x": 12,
          "y": 15
         },
         {
          "value": -1,
          "x": 13,
          "y": 15
         },
         {
          "value": 3,
          "x": 14,
          "y": 15
         },
         {
          "value": -1,
          "x": 15,
          "y": 15
         },
         {
          "value": -1,
          "x": 16,
          "y": 15
         },
         {
          "value": -1,
          "x": 17,
          "y": 15
         },
         {
          "value": 1,
          "x": 18,
          "y": 15
         },
         {
          "value": -1,
          "x": 19,
          "y": 15
         },
         {
          "value": 1,
          "x": 20,
          "y": 15
         },
         {
          "value": 0,
          "x": 21,
          "y": 15
         },
         {
          "value": -1,
          "x": 22,
          "y": 15
         },
         {
          "value": 0,
          "x": 23,
          "y": 15
         },
         {
          "value": 1,
          "x": 24,
          "y": 15
         },
         {
          "value": 0,
          "x": 25,
          "y": 15
         },
         {
          "value": 0,
          "x": 26,
          "y": 15
         },
         {
          "value": 1,
          "x": 27,
          "y": 15
         },
         {
          "value": 1,
          "x": 28,
          "y": 15
         },
         {
          "value": -1,
          "x": 29,
          "y": 15
         },
         {
          "value": -1,
          "x": 30,
          "y": 15
         },
         {
          "value": 1,
          "x": 31,
          "y": 15
         },
         {
          "value": 0,
          "x": 32,
          "y": 15
         },
         {
          "value": 0,
          "x": 33,
          "y": 15
         },
         {
          "value": -1,
          "x": 34,
          "y": 15
         },
         {
          "value": 2,
          "x": 35,
          "y": 15
         },
         {
          "value": 2,
          "x": 36,
          "y": 15
         },
         {
          "value": 0,
          "x": 37,
          "y": 15
         },
         {
          "value": 2,
          "x": 38,
          "y": 15
         },
         {
          "value": 1,
          "x": 39,
          "y": 15
         },
         {
          "value": 2,
          "x": 0,
          "y": 16
         },
         {
          "value": -1,
          "x": 1,
          "y": 16
         },
         {
          "value": 2,
          "x": 2,
          "y": 16
         },
         {
          "value": 0,
          "x": 3,
          "y": 16
         },
         {
          "value": 0,
          "x": 4,
          "y": 16
         },
         {
          "value": -1,
          "x": 5,
          "y": 16
         },
         {
          "value": 0,
          "x": 6,
          "y": 16
         },
         {
          "value": -1,
          "x": 7,
          "y": 16
         },
         {
          "value": 0,
          "x": 8,
          "y": 16
         },
         {
          "value": 0,
          "x": 9,
          "y": 16
         },
         {
          "value": 1,
          "x": 10,
          "y": 16
         },
         {
          "value": 0,
          "x": 11,
          "y": 16
         },
         {
          "value": 1,
          "x": 12,
          "y": 16
         },
         {
          "value": 1,
          "x": 13,
          "y": 16
         },
         {
          "value": 0,
          "x": 14,
          "y": 16
         },
         {
          "value": 1,
          "x": 15,
          "y": 16
         },
         {
          "value": 1,
          "x": 16,
          "y": 16
         },
         {
          "value": -1,
          "x": 17,
          "y": 16
         },
         {
          "value": -1,
          "x": 18,
          "y": 16
         },
         {
          "value": -1,
          "x": 19,
          "y": 16
         },
         {
          "value": -1,
          "x": 20,
          "y": 16
         },
         {
          "value": 0,
          "x": 21,
          "y": 16
         },
         {
          "value": 1,
          "x": 22,
          "y": 16
         },
         {
          "value": 0,
          "x": 23,
          "y": 16
         },
         {
          "value": 0,
          "x": 24,
          "y": 16
         },
         {
          "value": -1,
          "x": 25,
          "y": 16
         },
         {
          "value": 0,
          "x": 26,
          "y": 16
         },
         {
          "value": 1,
          "x": 27,
          "y": 16
         },
         {
          "value": 0,
          "x": 28,
          "y": 16
         },
         {
          "value": -1,
          "x": 29,
          "y": 16
         },
         {
          "value": -1,
          "x": 30,
          "y": 16
         },
         {
          "value": 1,
          "x": 31,
          "y": 16
         },
         {
          "value": -1,
          "x": 32,
          "y": 16
         },
         {
          "value": 0,
          "x": 33,
          "y": 16
         },
         {
          "value": 0,
          "x": 34,
          "y": 16
         },
         {
          "value": -2,
          "x": 35,
          "y": 16
         },
         {
          "value": 2,
          "x": 36,
          "y": 16
         },
         {
          "value": 2,
          "x": 37,
          "y": 16
         },
         {
          "value": -1,
          "x": 38,
          "y": 16
         },
         {
          "value": 0,
          "x": 39,
          "y": 16
         },
         {
          "value": 1,
          "x": 0,
          "y": 17
         },
         {
          "value": 1,
          "x": 1,
          "y": 17
         },
         {
          "value": 1,
          "x": 2,
          "y": 17
         },
         {
          "value": 0,
          "x": 3,
          "y": 17
         },
         {
          "value": 0,
          "x": 4,
          "y": 17
         },
         {
          "value": 0,
          "x": 5,
          "y": 17
         },
         {
          "value": -3,
          "x": 6,
          "y": 17
         },
         {
          "value": -1,
          "x": 7,
          "y": 17
         },
         {
          "value": -1,
          "x": 8,
          "y": 17
         },
         {
          "value": -1,
          "x": 9,
          "y": 17
         },
         {
          "value": 1,
          "x": 10,
          "y": 17
         },
         {
          "value": 1,
          "x": 11,
          "y": 17
         },
         {
          "value": 0,
          "x": 12,
          "y": 17
         },
         {
          "value": 0,
          "x": 13,
          "y": 17
         },
         {
          "value": 0,
          "x": 14,
          "y": 17
         },
         {
          "value": 1,
          "x": 15,
          "y": 17
         },
         {
          "value": 0,
          "x": 16,
          "y": 17
         },
         {
          "value": 0,
          "x": 17,
          "y": 17
         },
         {
          "value": -1,
          "x": 18,
          "y": 17
         },
         {
          "value": -1,
          "x": 19,
          "y": 17
         },
         {
          "value": 0,
          "x": 20,
          "y": 17
         },
         {
          "value": 0,
          "x": 21,
          "y": 17
         },
         {
          "value": -1,
          "x": 22,
          "y": 17
         },
         {
          "value": 1,
          "x": 23,
          "y": 17
         },
         {
          "value": 0,
          "x": 24,
          "y": 17
         },
         {
          "value": 0,
          "x": 25,
          "y": 17
         },
         {
          "value": -1,
          "x": 26,
          "y": 17
         },
         {
          "value": 1,
          "x": 27,
          "y": 17
         },
         {
          "value": -2,
          "x": 28,
          "y": 17
         },
         {
          "value": -1,
          "x": 29,
          "y": 17
         },
         {
          "value": 0,
          "x": 30,
          "y": 17
         },
         {
          "value": -1,
          "x": 31,
          "y": 17
         },
         {
          "value": -2,
          "x": 32,
          "y": 17
         },
         {
          "value": -1,
          "x": 33,
          "y": 17
         },
         {
          "value": 1,
          "x": 34,
          "y": 17
         },
         {
          "value": -2,
          "x": 35,
          "y": 17
         },
         {
          "value": 0,
          "x": 36,
          "y": 17
         },
         {
          "value": 0,
          "x": 37,
          "y": 17
         },
         {
          "value": -1,
          "x": 38,
          "y": 17
         },
         {
          "value": 0,
          "x": 39,
          "y": 17
         },
         {
          "value": 0,
          "x": 0,
          "y": 18
         },
         {
          "value": 0,
          "x": 1,
          "y": 18
         },
         {
          "value": -1,
          "x": 2,
          "y": 18
         },
         {
          "value": -2,
          "x": 3,
          "y": 18
         },
         {
          "value": 1,
          "x": 4,
          "y": 18
         },
         {
          "value": -1,
          "x": 5,
          "y": 18
         },
         {
          "value": 2,
          "x": 6,
          "y": 18
         },
         {
          "value": 0,
          "x": 7,
          "y": 18
         },
         {
          "value": 0,
          "x": 8,
          "y": 18
         },
         {
          "value": 0,
          "x": 9,
          "y": 18
         },
         {
          "value": -2,
          "x": 10,
          "y": 18
         },
         {
          "value": 0,
          "x": 11,
          "y": 18
         },
         {
          "value": -2,
          "x": 12,
          "y": 18
         },
         {
          "value": 1,
          "x": 13,
          "y": 18
         },
         {
          "value": -1,
          "x": 14,
          "y": 18
         },
         {
          "value": 0,
          "x": 15,
          "y": 18
         },
         {
          "value": 0,
          "x": 16,
          "y": 18
         },
         {
          "value": 0,
          "x": 17,
          "y": 18
         },
         {
          "value": 0,
          "x": 18,
          "y": 18
         },
         {
          "value": 1,
          "x": 19,
          "y": 18
         },
         {
          "value": -1,
          "x": 20,
          "y": 18
         },
         {
          "value": -1,
          "x": 21,
          "y": 18
         },
         {
          "value": -2,
          "x": 22,
          "y": 18
         },
         {
          "value": -1,
          "x": 23,
          "y": 18
         },
         {
          "value": -1,
          "x": 24,
          "y": 18
         },
         {
          "value": 1,
          "x": 25,
          "y": 18
         },
         {
          "value": -1,
          "x": 26,
          "y": 18
         },
         {
          "value": -1,
          "x": 27,
          "y": 18
         },
         {
          "value": 1,
          "x": 28,
          "y": 18
         },
         {
          "value": 1,
          "x": 29,
          "y": 18
         },
         {
          "value": 1,
          "x": 30,
          "y": 18
         },
         {
          "value": -2,
          "x": 31,
          "y": 18
         },
         {
          "value": -1,
          "x": 32,
          "y": 18
         },
         {
          "value": 0,
          "x": 33,
          "y": 18
         },
         {
          "value": 0,
          "x": 34,
          "y": 18
         },
         {
          "value": 1,
          "x": 35,
          "y": 18
         },
         {
          "value": -2,
          "x": 36,
          "y": 18
         },
         {
          "value": 0,
          "x": 37,
          "y": 18
         },
         {
          "value": -1,
          "x": 38,
          "y": 18
         },
         {
          "value": 0,
          "x": 39,
          "y": 18
         },
         {
          "value": 0,
          "x": 0,
          "y": 19
         },
         {
          "value": 0,
          "x": 1,
          "y": 19
         },
         {
          "value": 0,
          "x": 2,
          "y": 19
         },
         {
          "value": -2,
          "x": 3,
          "y": 19
         },
         {
          "value": 0,
          "x": 4,
          "y": 19
         },
         {
          "value": 1,
          "x": 5,
          "y": 19
         },
         {
          "value": -1,
          "x": 6,
          "y": 19
         },
         {
          "value": -1,
          "x": 7,
          "y": 19
         },
         {
          "value": 0,
          "x": 8,
          "y": 19
         },
         {
          "value": -2,
          "x": 9,
          "y": 19
         },
         {
          "value": 0,
          "x": 10,
          "y": 19
         },
         {
          "value": 1,
          "x": 11,
          "y": 19
         },
         {
          "value": 0,
          "x": 12,
          "y": 19
         },
         {
          "value": 1,
          "x": 13,
          "y": 19
         },
         {
          "value": 1,
          "x": 14,
          "y": 19
         },
         {
          "value": 0,
          "x": 15,
          "y": 19
         },
         {
          "value": -1,
          "x": 16,
          "y": 19
         },
         {
          "value": 1,
          "x": 17,
          "y": 19
         },
         {
          "value": 1,
          "x": 18,
          "y": 19
         },
         {
          "value": 0,
          "x": 19,
          "y": 19
         },
         {
          "value": 0,
          "x": 20,
          "y": 19
         },
         {
          "value": 0,
          "x": 21,
          "y": 19
         },
         {
          "value": 0,
          "x": 22,
          "y": 19
         },
         {
          "value": -2,
          "x": 23,
          "y": 19
         },
         {
          "value": 1,
          "x": 24,
          "y": 19
         },
         {
          "value": 1,
          "x": 25,
          "y": 19
         },
         {
          "value": 0,
          "x": 26,
          "y": 19
         },
         {
          "value": 0,
          "x": 27,
          "y": 19
         },
         {
          "value": -1,
          "x": 28,
          "y": 19
         },
         {
          "value": 1,
          "x": 29,
          "y": 19
         },
         {
          "value": 0,
          "x": 30,
          "y": 19
         },
         {
          "value": 0,
          "x": 31,
          "y": 19
         },
         {
          "value": -2,
          "x": 32,
          "y": 19
         },
         {
          "value": 2,
          "x": 33,
          "y": 19
         },
         {
          "value": -1,
          "x": 34,
          "y": 19
         },
         {
          "value": -1,
          "x": 35,
          "y": 19
         },
         {
          "value": -1,
          "x": 36,
          "y": 19
         },
         {
          "value": 3,
          "x": 37,
          "y": 19
         },
         {
          "value": 1,
          "x": 38,
          "y": 19
         },
         {
          "value": -1,
          "x": 39,
          "y": 19
         },
         {
          "value": -1,
          "x": 0,
          "y": 20
         },
         {
          "value": 0,
          "x": 1,
          "y": 20
         },
         {
          "value": -1,
          "x": 2,
          "y": 20
         },
         {
          "value": -2,
          "x": 3,
          "y": 20
         },
         {
          "value": -2,
          "x": 4,
          "y": 20
         },
         {
          "value": 1,
          "x": 5,
          "y": 20
         },
         {
          "value": 0,
          "x": 6,
          "y": 20
         },
         {
          "value": -1,
          "x": 7,
          "y": 20
         },
         {
          "value": -1,
          "x": 8,
          "y": 20
         },
         {
          "value": 0,
          "x": 9,
          "y": 20
         },
         {
          "value": 0,
          "x": 10,
          "y": 20
         },
         {
          "value": -1,
          "x": 11,
          "y": 20
         },
         {
          "value": 0,
          "x": 12,
          "y": 20
         },
         {
          "value": -1,
          "x": 13,
          "y": 20
         },
         {
          "value": 2,
          "x": 14,
          "y": 20
         },
         {
          "value": 1,
          "x": 15,
          "y": 20
         },
         {
          "value": 1,
          "x": 16,
          "y": 20
         },
         {
          "value": -1,
          "x": 17,
          "y": 20
         },
         {
          "value": 1,
          "x": 18,
          "y": 20
         },
         {
          "value": -2,
          "x": 19,
          "y": 20
         },
         {
          "value": 1,
          "x": 20,
          "y": 20
         },
         {
          "value": -2,
          "x": 21,
          "y": 20
         },
         {
          "value": -1,
          "x": 22,
          "y": 20
         },
         {
          "value": 1,
          "x": 23,
          "y": 20
         },
         {
          "value": 0,
          "x": 24,
          "y": 20
         },
         {
          "value": -1,
          "x": 25,
          "y": 20
         },
         {
          "value": -2,
          "x": 26,
          "y": 20
         },
         {
          "value": 0,
          "x": 27,
          "y": 20
         },
         {
          "value": -1,
          "x": 28,
          "y": 20
         },
         {
          "value": -2,
          "x": 29,
          "y": 20
         },
         {
          "value": -1,
          "x": 30,
          "y": 20
         },
         {
          "value": 0,
          "x": 31,
          "y": 20
         },
         {
          "value": -1,
          "x": 32,
          "y": 20
         },
         {
          "value": 0,
          "x": 33,
          "y": 20
         },
         {
          "value": 0,
          "x": 34,
          "y": 20
         },
         {
          "value": 0,
          "x": 35,
          "y": 20
         },
         {
          "value": 1,
          "x": 36,
          "y": 20
         },
         {
          "value": 1,
          "x": 37,
          "y": 20
         },
         {
          "value": 0,
          "x": 38,
          "y": 20
         },
         {
          "value": -1,
          "x": 39,
          "y": 20
         },
         {
          "value": 0,
          "x": 0,
          "y": 21
         },
         {
          "value": 1,
          "x": 1,
          "y": 21
         },
         {
          "value": 1,
          "x": 2,
          "y": 21
         },
         {
          "value": -2,
          "x": 3,
          "y": 21
         },
         {
          "value": -1,
          "x": 4,
          "y": 21
         },
         {
          "value": -1,
          "x": 5,
          "y": 21
         },
         {
          "value": 1,
          "x": 6,
          "y": 21
         },
         {
          "value": 1,
          "x": 7,
          "y": 21
         },
         {
          "value": -1,
          "x": 8,
          "y": 21
         },
         {
          "value": -2,
          "x": 9,
          "y": 21
         },
         {
          "value": 1,
          "x": 10,
          "y": 21
         },
         {
          "value": 1,
          "x": 11,
          "y": 21
         },
         {
          "value": -1,
          "x": 12,
          "y": 21
         },
         {
          "value": 0,
          "x": 13,
          "y": 21
         },
         {
          "value": 0,
          "x": 14,
          "y": 21
         },
         {
          "value": -1,
          "x": 15,
          "y": 21
         },
         {
          "value": 0,
          "x": 16,
          "y": 21
         },
         {
          "value": 0,
          "x": 17,
          "y": 21
         },
         {
          "value": 0,
          "x": 18,
          "y": 21
         },
         {
          "value": 0,
          "x": 19,
          "y": 21
         },
         {
          "value": 1,
          "x": 20,
          "y": 21
         },
         {
          "value": 0,
          "x": 21,
          "y": 21
         },
         {
          "value": 0,
          "x": 22,
          "y": 21
         },
         {
          "value": 1,
          "x": 23,
          "y": 21
         },
         {
          "value": 0,
          "x": 24,
          "y": 21
         },
         {
          "value": 0,
          "x": 25,
          "y": 21
         },
         {
          "value": 0,
          "x": 26,
          "y": 21
         },
         {
          "value": 0,
          "x": 27,
          "y": 21
         },
         {
          "value": -1,
          "x": 28,
          "y": 21
         },
         {
          "value": 0,
          "x": 29,
          "y": 21
         },
         {
          "value": -1,
          "x": 30,
          "y": 21
         },
         {
          "value": -1,
          "x": 31,
          "y": 21
         },
         {
          "value": 1,
          "x": 32,
          "y": 21
         },
         {
          "value": 0,
          "x": 33,
          "y": 21
         },
         {
          "value": 0,
          "x": 34,
          "y": 21
         },
         {
          "value": 0,
          "x": 35,
          "y": 21
         },
         {
          "value": -1,
          "x": 36,
          "y": 21
         },
         {
          "value": -1,
          "x": 37,
          "y": 21
         },
         {
          "value": 1,
          "x": 38,
          "y": 21
         },
         {
          "value": -1,
          "x": 39,
          "y": 21
         },
         {
          "value": 1,
          "x": 0,
          "y": 22
         },
         {
          "value": 0,
          "x": 1,
          "y": 22
         },
         {
          "value": -1,
          "x": 2,
          "y": 22
         },
         {
          "value": 1,
          "x": 3,
          "y": 22
         },
         {
          "value": 1,
          "x": 4,
          "y": 22
         },
         {
          "value": -1,
          "x": 5,
          "y": 22
         },
         {
          "value": 0,
          "x": 6,
          "y": 22
         },
         {
          "value": 1,
          "x": 7,
          "y": 22
         },
         {
          "value": 0,
          "x": 8,
          "y": 22
         },
         {
          "value": 1,
          "x": 9,
          "y": 22
         },
         {
          "value": 0,
          "x": 10,
          "y": 22
         },
         {
          "value": -1,
          "x": 11,
          "y": 22
         },
         {
          "value": 0,
          "x": 12,
          "y": 22
         },
         {
          "value": 0,
          "x": 13,
          "y": 22
         },
         {
          "value": 0,
          "x": 14,
          "y": 22
         },
         {
          "value": 1,
          "x": 15,
          "y": 22
         },
         {
          "value": -1,
          "x": 16,
          "y": 22
         },
         {
          "value": 1,
          "x": 17,
          "y": 22
         },
         {
          "value": 0,
          "x": 18,
          "y": 22
         },
         {
          "value": 2,
          "x": 19,
          "y": 22
         },
         {
          "value": 0,
          "x": 20,
          "y": 22
         },
         {
          "value": -1,
          "x": 21,
          "y": 22
         },
         {
          "value": 0,
          "x": 22,
          "y": 22
         },
         {
          "value": -1,
          "x": 23,
          "y": 22
         },
         {
          "value": -1,
          "x": 24,
          "y": 22
         },
         {
          "value": 0,
          "x": 25,
          "y": 22
         },
         {
          "value": 1,
          "x": 26,
          "y": 22
         },
         {
          "value": 1,
          "x": 27,
          "y": 22
         },
         {
          "value": 2,
          "x": 28,
          "y": 22
         },
         {
          "value": -1,
          "x": 29,
          "y": 22
         },
         {
          "value": 1,
          "x": 30,
          "y": 22
         },
         {
          "value": -1,
          "x": 31,
          "y": 22
         },
         {
          "value": 1,
          "x": 32,
          "y": 22
         },
         {
          "value": -1,
          "x": 33,
          "y": 22
         },
         {
          "value": 0,
          "x": 34,
          "y": 22
         },
         {
          "value": 0,
          "x": 35,
          "y": 22
         },
         {
          "value": 0,
          "x": 36,
          "y": 22
         },
         {
          "value": 0,
          "x": 37,
          "y": 22
         },
         {
          "value": -2,
          "x": 38,
          "y": 22
         },
         {
          "value": -2,
          "x": 39,
          "y": 22
         },
         {
          "value": 0,
          "x": 0,
          "y": 23
         },
         {
          "value": 1,
          "x": 1,
          "y": 23
         },
         {
          "value": 1,
          "x": 2,
          "y": 23
         },
         {
          "value": -1,
          "x": 3,
          "y": 23
         },
         {
          "value": 2,
          "x": 4,
          "y": 23
         },
         {
          "value": -1,
          "x": 5,
          "y": 23
         },
         {
          "value": 0,
          "x": 6,
          "y": 23
         },
         {
          "value": 0,
          "x": 7,
          "y": 23
         },
         {
          "value": -1,
          "x": 8,
          "y": 23
         },
         {
          "value": 1,
          "x": 9,
          "y": 23
         },
         {
          "value": 2,
          "x": 10,
          "y": 23
         },
         {
          "value": 0,
          "x": 11,
          "y": 23
         },
         {
          "value": -1,
          "x": 12,
          "y": 23
         },
         {
          "value": 0,
          "x": 13,
          "y": 23
         },
         {
          "value": -1,
          "x": 14,
          "y": 23
         },
         {
          "value": 1,
          "x": 15,
          "y": 23
         },
         {
          "value": -1,
          "x": 16,
          "y": 23
         },
         {
          "value": -1,
          "x": 17,
          "y": 23
         },
         {
          "value": -1,
          "x": 18,
          "y": 23
         },
         {
          "value": -1,
          "x": 19,
          "y": 23
         },
         {
          "value": 0,
          "x": 20,
          "y": 23
         },
         {
          "value": 0,
          "x": 21,
          "y": 23
         },
         {
          "value": 0,
          "x": 22,
          "y": 23
         },
         {
          "value": 2,
          "x": 23,
          "y": 23
         },
         {
          "value": 0,
          "x": 24,
          "y": 23
         },
         {
          "value": 1,
          "x": 25,
          "y": 23
         },
         {
          "value": -2,
          "x": 26,
          "y": 23
         },
         {
          "value": 2,
          "x": 27,
          "y": 23
         },
         {
          "value": 1,
          "x": 28,
          "y": 23
         },
         {
          "value": 0,
          "x": 29,
          "y": 23
         },
         {
          "value": 0,
          "x": 30,
          "y": 23
         },
         {
          "value": 1,
          "x": 31,
          "y": 23
         },
         {
          "value": 0,
          "x": 32,
          "y": 23
         },
         {
          "value": -1,
          "x": 33,
          "y": 23
         },
         {
          "value": 1,
          "x": 34,
          "y": 23
         },
         {
          "value": -1,
          "x": 35,
          "y": 23
         },
         {
          "value": -1,
          "x": 36,
          "y": 23
         },
         {
          "value": 0,
          "x": 37,
          "y": 23
         },
         {
          "value": 0,
          "x": 38,
          "y": 23
         },
         {
          "value": -2,
          "x": 39,
          "y": 23
         },
         {
          "value": -1,
          "x": 0,
          "y": 24
         },
         {
          "value": 0,
          "x": 1,
          "y": 24
         },
         {
          "value": 0,
          "x": 2,
          "y": 24
         },
         {
          "value": 1,
          "x": 3,
          "y": 24
         },
         {
          "value": 0,
          "x": 4,
          "y": 24
         },
         {
          "value": 0,
          "x": 5,
          "y": 24
         },
         {
          "value": -2,
          "x": 6,
          "y": 24
         },
         {
          "value": 1,
          "x": 7,
          "y": 24
         },
         {
          "value": 1,
          "x": 8,
          "y": 24
         },
         {
          "value": 2,
          "x": 9,
          "y": 24
         },
         {
          "value": 0,
          "x": 10,
          "y": 24
         },
         {
          "value": 1,
          "x": 11,
          "y": 24
         },
         {
          "value": 0,
          "x": 12,
          "y": 24
         },
         {
          "value": 0,
          "x": 13,
          "y": 24
         },
         {
          "value": 1,
          "x": 14,
          "y": 24
         },
         {
          "value": 1,
          "x": 15,
          "y": 24
         },
         {
          "value": -1,
          "x": 16,
          "y": 24
         },
         {
          "value": -1,
          "x": 17,
          "y": 24
         },
         {
          "value": 1,
          "x": 18,
          "y": 24
         },
         {
          "value": 1,
          "x": 19,
          "y": 24
         },
         {
          "value": 0,
          "x": 20,
          "y": 24
         },
         {
          "value": 2,
          "x": 21,
          "y": 24
         },
         {
          "value": -2,
          "x": 22,
          "y": 24
         },
         {
          "value": 0,
          "x": 23,
          "y": 24
         },
         {
          "value": -1,
          "x": 24,
          "y": 24
         },
         {
          "value": 1,
          "x": 25,
          "y": 24
         },
         {
          "value": 0,
          "x": 26,
          "y": 24
         },
         {
          "value": -1,
          "x": 27,
          "y": 24
         },
         {
          "value": 0,
          "x": 28,
          "y": 24
         },
         {
          "value": 0,
          "x": 29,
          "y": 24
         },
         {
          "value": 0,
          "x": 30,
          "y": 24
         },
         {
          "value": -1,
          "x": 31,
          "y": 24
         },
         {
          "value": 0,
          "x": 32,
          "y": 24
         },
         {
          "value": 0,
          "x": 33,
          "y": 24
         },
         {
          "value": 0,
          "x": 34,
          "y": 24
         },
         {
          "value": 0,
          "x": 35,
          "y": 24
         },
         {
          "value": 1,
          "x": 36,
          "y": 24
         },
         {
          "value": -2,
          "x": 37,
          "y": 24
         },
         {
          "value": -2,
          "x": 38,
          "y": 24
         },
         {
          "value": -1,
          "x": 39,
          "y": 24
         },
         {
          "value": 0,
          "x": 0,
          "y": 25
         },
         {
          "value": 2,
          "x": 1,
          "y": 25
         },
         {
          "value": 0,
          "x": 2,
          "y": 25
         },
         {
          "value": 0,
          "x": 3,
          "y": 25
         },
         {
          "value": -1,
          "x": 4,
          "y": 25
         },
         {
          "value": -2,
          "x": 5,
          "y": 25
         },
         {
          "value": 1,
          "x": 6,
          "y": 25
         },
         {
          "value": -1,
          "x": 7,
          "y": 25
         },
         {
          "value": -1,
          "x": 8,
          "y": 25
         },
         {
          "value": 0,
          "x": 9,
          "y": 25
         },
         {
          "value": 0,
          "x": 10,
          "y": 25
         },
         {
          "value": 2,
          "x": 11,
          "y": 25
         },
         {
          "value": 0,
          "x": 12,
          "y": 25
         },
         {
          "value": 0,
          "x": 13,
          "y": 25
         },
         {
          "value": 0,
          "x": 14,
          "y": 25
         },
         {
          "value": -1,
          "x": 15,
          "y": 25
         },
         {
          "value": 0,
          "x": 16,
          "y": 25
         },
         {
          "value": 0,
          "x": 17,
          "y": 25
         },
         {
          "value": 0,
          "x": 18,
          "y": 25
         },
         {
          "value": -1,
          "x": 19,
          "y": 25
         },
         {
          "value": 1,
          "x": 20,
          "y": 25
         },
         {
          "value": 1,
          "x": 21,
          "y": 25
         },
         {
          "value": 0,
          "x": 22,
          "y": 25
         },
         {
          "value": 1,
          "x": 23,
          "y": 25
         },
         {
          "value": 0,
          "x": 24,
          "y": 25
         },
         {
          "value": 1,
          "x": 25,
          "y": 25
         },
         {
          "value": 0,
          "x": 26,
          "y": 25
         },
         {
          "value": -1,
          "x": 27,
          "y": 25
         },
         {
          "value": 1,
          "x": 28,
          "y": 25
         },
         {
          "value": 0,
          "x": 29,
          "y": 25
         },
         {
          "value": -1,
          "x": 30,
          "y": 25
         },
         {
          "value": -1,
          "x": 31,
          "y": 25
         },
         {
          "value": -1,
          "x": 32,
          "y": 25
         },
         {
          "value": -1,
          "x": 33,
          "y": 25
         },
         {
          "value": -1,
          "x": 34,
          "y": 25
         },
         {
          "value": 2,
          "x": 35,
          "y": 25
         },
         {
          "value": 1,
          "x": 36,
          "y": 25
         },
         {
          "value": -1,
          "x": 37,
          "y": 25
         },
         {
          "value": -1,
          "x": 38,
          "y": 25
         },
         {
          "value": 0,
          "x": 39,
          "y": 25
         },
         {
          "value": 0,
          "x": 0,
          "y": 26
         },
         {
          "value": -1,
          "x": 1,
          "y": 26
         },
         {
          "value": 1,
          "x": 2,
          "y": 26
         },
         {
          "value": 0,
          "x": 3,
          "y": 26
         },
         {
          "value": -1,
          "x": 4,
          "y": 26
         },
         {
          "value": 0,
          "x": 5,
          "y": 26
         },
         {
          "value": 0,
          "x": 6,
          "y": 26
         },
         {
          "value": 1,
          "x": 7,
          "y": 26
         },
         {
          "value": -1,
          "x": 8,
          "y": 26
         },
         {
          "value": 0,
          "x": 9,
          "y": 26
         },
         {
          "value": -1,
          "x": 10,
          "y": 26
         },
         {
          "value": 0,
          "x": 11,
          "y": 26
         },
         {
          "value": 0,
          "x": 12,
          "y": 26
         },
         {
          "value": -1,
          "x": 13,
          "y": 26
         },
         {
          "value": 1,
          "x": 14,
          "y": 26
         },
         {
          "value": -1,
          "x": 15,
          "y": 26
         },
         {
          "value": -2,
          "x": 16,
          "y": 26
         },
         {
          "value": 0,
          "x": 17,
          "y": 26
         },
         {
          "value": 0,
          "x": 18,
          "y": 26
         },
         {
          "value": 0,
          "x": 19,
          "y": 26
         },
         {
          "value": 1,
          "x": 20,
          "y": 26
         },
         {
          "value": 0,
          "x": 21,
          "y": 26
         },
         {
          "value": 0,
          "x": 22,
          "y": 26
         },
         {
          "value": 1,
          "x": 23,
          "y": 26
         },
         {
          "value": 0,
          "x": 24,
          "y": 26
         },
         {
          "value": -1,
          "x": 25,
          "y": 26
         },
         {
          "value": 2,
          "x": 26,
          "y": 26
         },
         {
          "value": 1,
          "x": 27,
          "y": 26
         },
         {
          "value": 0,
          "x": 28,
          "y": 26
         },
         {
          "value": -1,
          "x": 29,
          "y": 26
         },
         {
          "value": -1,
          "x": 30,
          "y": 26
         },
         {
          "value": -1,
          "x": 31,
          "y": 26
         },
         {
          "value": -2,
          "x": 32,
          "y": 26
         },
         {
          "value": -3,
          "x": 33,
          "y": 26
         },
         {
          "value": 1,
          "x": 34,
          "y": 26
         },
         {
          "value": 1,
          "x": 35,
          "y": 26
         },
         {
          "value": 0,
          "x": 36,
          "y": 26
         },
         {
          "value": 0,
          "x": 37,
          "y": 26
         },
         {
          "value": 0,
          "x": 38,
          "y": 26
         },
         {
          "value": -1,
          "x": 39,
          "y": 26
         },
         {
          "value": -2,
          "x": 0,
          "y": 27
         },
         {
          "value": 0,
          "x": 1,
          "y": 27
         },
         {
          "value": -1,
          "x": 2,
          "y": 27
         },
         {
          "value": 0,
          "x": 3,
          "y": 27
         },
         {
          "value": 0,
          "x": 4,
          "y": 27
         },
         {
          "value": 0,
          "x": 5,
          "y": 27
         },
         {
          "value": 1,
          "x": 6,
          "y": 27
         },
         {
          "value": -2,
          "x": 7,
          "y": 27
         },
         {
          "value": 0,
          "x": 8,
          "y": 27
         },
         {
          "value": 0,
          "x": 9,
          "y": 27
         },
         {
          "value": -2,
          "x": 10,
          "y": 27
         },
         {
          "value": -1,
          "x": 11,
          "y": 27
         },
         {
          "value": -1,
          "x": 12,
          "y": 27
         },
         {
          "value": 0,
          "x": 13,
          "y": 27
         },
         {
          "value": 1,
          "x": 14,
          "y": 27
         },
         {
          "value": 1,
          "x": 15,
          "y": 27
         },
         {
          "value": 1,
          "x": 16,
          "y": 27
         },
         {
          "value": -2,
          "x": 17,
          "y": 27
         },
         {
          "value": 1,
          "x": 18,
          "y": 27
         },
         {
          "value": -1,
          "x": 19,
          "y": 27
         },
         {
          "value": 0,
          "x": 20,
          "y": 27
         },
         {
          "value": 1,
          "x": 21,
          "y": 27
         },
         {
          "value": 0,
          "x": 22,
          "y": 27
         },
         {
          "value": -1,
          "x": 23,
          "y": 27
         },
         {
          "value": -2,
          "x": 24,
          "y": 27
         },
         {
          "value": -2,
          "x": 25,
          "y": 27
         },
         {
          "value": 2,
          "x": 26,
          "y": 27
         },
         {
          "value": 0,
          "x": 27,
          "y": 27
         },
         {
          "value": -1,
          "x": 28,
          "y": 27
         },
         {
          "value": -1,
          "x": 29,
          "y": 27
         },
         {
          "value": 1,
          "x": 30,
          "y": 27
         },
         {
          "value": 0,
          "x": 31,
          "y": 27
         },
         {
          "value": 0,
          "x": 32,
          "y": 27
         },
         {
          "value": -1,
          "x": 33,
          "y": 27
         },
         {
          "value": -1,
          "x": 34,
          "y": 27
         },
         {
          "value": -1,
          "x": 35,
          "y": 27
         },
         {
          "value": 1,
          "x": 36,
          "y": 27
         },
         {
          "value": -1,
          "x": 37,
          "y": 27
         },
         {
          "value": 0,
          "x": 38,
          "y": 27
         },
         {
          "value": 1,
          "x": 39,
          "y": 27
         },
         {
          "value": 0,
          "x": 0,
          "y": 28
         },
         {
          "value": -2,
          "x": 1,
          "y": 28
         },
         {
          "value": -2,
          "x": 2,
          "y": 28
         },
         {
          "value": 1,
          "x": 3,
          "y": 28
         },
         {
          "value": 1,
          "x": 4,
          "y": 28
         },
         {
          "value": 1,
          "x": 5,
          "y": 28
         },
         {
          "value": -2,
          "x": 6,
          "y": 28
         },
         {
          "value": 0,
          "x": 7,
          "y": 28
         },
         {
          "value": -1,
          "x": 8,
          "y": 28
         },
         {
          "value": 1,
          "x": 9,
          "y": 28
         },
         {
          "value": -1,
          "x": 10,
          "y": 28
         },
         {
          "value": 0,
          "x": 11,
          "y": 28
         },
         {
          "value": 1,
          "x": 12,
          "y": 28
         },
         {
          "value": 1,
          "x": 13,
          "y": 28
         },
         {
          "value": 2,
          "x": 14,
          "y": 28
         },
         {
          "value": 0,
          "x": 15,
          "y": 28
         },
         {
          "value": 1,
          "x": 16,
          "y": 28
         },
         {
          "value": 1,
          "x": 17,
          "y": 28
         },
         {
          "value": -1,
          "x": 18,
          "y": 28
         },
         {
          "value": -1,
          "x": 19,
          "y": 28
         },
         {
          "value": 1,
          "x": 20,
          "y": 28
         },
         {
          "value": 0,
          "x": 21,
          "y": 28
         },
         {
          "value": -1,
          "x": 22,
          "y": 28
         },
         {
          "value": 1,
          "x": 23,
          "y": 28
         },
         {
          "value": 0,
          "x": 24,
          "y": 28
         },
         {
          "value": -1,
          "x": 25,
          "y": 28
         },
         {
          "value": -1,
          "x": 26,
          "y": 28
         },
         {
          "value": -1,
          "x": 27,
          "y": 28
         },
         {
          "value": -2,
          "x": 28,
          "y": 28
         },
         {
          "value": 1,
          "x": 29,
          "y": 28
         },
         {
          "value": 0,
          "x": 30,
          "y": 28
         },
         {
          "value": -2,
          "x": 31,
          "y": 28
         },
         {
          "value": 1,
          "x": 32,
          "y": 28
         },
         {
          "value": -1,
          "x": 33,
          "y": 28
         },
         {
          "value": 1,
          "x": 34,
          "y": 28
         },
         {
          "value": 0,
          "x": 35,
          "y": 28
         },
         {
          "value": -1,
          "x": 36,
          "y": 28
         },
         {
          "value": 2,
          "x": 37,
          "y": 28
         },
         {
          "value": -1,
          "x": 38,
          "y": 28
         },
         {
          "value": 0,
          "x": 39,
          "y": 28
         },
         {
          "value": 2,
          "x": 0,
          "y": 29
         },
         {
          "value": 0,
          "x": 1,
          "y": 29
         },
         {
          "value": -1,
          "x": 2,
          "y": 29
         },
         {
          "value": 0,
          "x": 3,
          "y": 29
         },
         {
          "value": 0,
          "x": 4,
          "y": 29
         },
         {
          "value": -1,
          "x": 5,
          "y": 29
         },
         {
          "value": -1,
          "x": 6,
          "y": 29
         },
         {
          "value": -1,
          "x": 7,
          "y": 29
         },
         {
          "value": 1,
          "x": 8,
          "y": 29
         },
         {
          "value": 0,
          "x": 9,
          "y": 29
         },
         {
          "value": 0,
          "x": 10,
          "y": 29
         },
         {
          "value": 3,
          "x": 11,
          "y": 29
         },
         {
          "value": -1,
          "x": 12,
          "y": 29
         },
         {
          "value": 0,
          "x": 13,
          "y": 29
         },
         {
          "value": -1,
          "x": 14,
          "y": 29
         },
         {
          "value": 0,
          "x": 15,
          "y": 29
         },
         {
          "value": -1,
          "x": 16,
          "y": 29
         },
         {
          "value": -2,
          "x": 17,
          "y": 29
         },
         {
          "value": 1,
          "x": 18,
          "y": 29
         },
         {
          "value": 1,
          "x": 19,
          "y": 29
         },
         {
          "value": 1,
          "x": 20,
          "y": 29
         },
         {
          "value": -1,
          "x": 21,
          "y": 29
         },
         {
          "value": 0,
          "x": 22,
          "y": 29
         },
         {
          "value": -1,
          "x": 23,
          "y": 29
         },
         {
          "value": 0,
          "x": 24,
          "y": 29
         },
         {
          "value": 0,
          "x": 25,
          "y": 29
         },
         {
          "value": 0,
          "x": 26,
          "y": 29
         },
         {
          "value": -2,
          "x": 27,
          "y": 29
         },
         {
          "value": 2,
          "x": 28,
          "y": 29
         },
         {
          "value": 0,
          "x": 29,
          "y": 29
         },
         {
          "value": -1,
          "x": 30,
          "y": 29
         },
         {
          "value": 1,
          "x": 31,
          "y": 29
         },
         {
          "value": 0,
          "x": 32,
          "y": 29
         },
         {
          "value": 0,
          "x": 33,
          "y": 29
         },
         {
          "value": -1,
          "x": 34,
          "y": 29
         },
         {
          "value": 1,
          "x": 35,
          "y": 29
         },
         {
          "value": 1,
          "x": 36,
          "y": 29
         },
         {
          "value": 0,
          "x": 37,
          "y": 29
         },
         {
          "value": 1,
          "x": 38,
          "y": 29
         },
         {
          "value": 0,
          "x": 39,
          "y": 29
         },
         {
          "value": -1,
          "x": 0,
          "y": 30
         },
         {
          "value": 0,
          "x": 1,
          "y": 30
         },
         {
          "value": -2,
          "x": 2,
          "y": 30
         },
         {
          "value": -1,
          "x": 3,
          "y": 30
         },
         {
          "value": -2,
          "x": 4,
          "y": 30
         },
         {
          "value": -1,
          "x": 5,
          "y": 30
         },
         {
          "value": 0,
          "x": 6,
          "y": 30
         },
         {
          "value": -1,
          "x": 7,
          "y": 30
         },
         {
          "value": 0,
          "x": 8,
          "y": 30
         },
         {
          "value": -1,
          "x": 9,
          "y": 30
         },
         {
          "value": -1,
          "x": 10,
          "y": 30
         },
         {
          "value": -1,
          "x": 11,
          "y": 30
         },
         {
          "value": 1,
          "x": 12,
          "y": 30
         },
         {
          "value": -2,
          "x": 13,
          "y": 30
         },
         {
          "value": 1,
          "x": 14,
          "y": 30
         },
         {
          "value": 0,
          "x": 15,
          "y": 30
         },
         {
          "value": 1,
          "x": 16,
          "y": 30
         },
         {
          "value": 2,
          "x": 17,
          "y": 30
         },
         {
          "value": 3,
          "x": 18,
          "y": 30
         },
         {
          "value": -1,
          "x": 19,
          "y": 30
         },
         {
          "value": 1,
          "x": 20,
          "y": 30
         },
         {
          "value": -3,
          "x": 21,
          "y": 30
         },
         {
          "value": 0,
          "x": 22,
          "y": 30
         },
         {
          "value": -1,
          "x": 23,
          "y": 30
         },
         {
          "value": 0,
          "x": 24,
          "y": 30
         },
         {
          "value": 2,
          "x": 25,
          "y": 30
         },
         {
          "value": 0,
          "x": 26,
          "y": 30
         },
         {
          "value": 1,
          "x": 27,
          "y": 30
         },
         {
          "value": 0,
          "x": 28,
          "y": 30
         },
         {
          "value": -1,
          "x": 29,
          "y": 30
         },
         {
          "value": 0,
          "x": 30,
          "y": 30
         },
         {
          "value": 0,
          "x": 31,
          "y": 30
         },
         {
          "value": 0,
          "x": 32,
          "y": 30
         },
         {
          "value": 1,
          "x": 33,
          "y": 30
         },
         {
          "value": -1,
          "x": 34,
          "y": 30
         },
         {
          "value": 1,
          "x": 35,
          "y": 30
         },
         {
          "value": -1,
          "x": 36,
          "y": 30
         },
         {
          "value": 0,
          "x": 37,
          "y": 30
         },
         {
          "value": 1,
          "x": 38,
          "y": 30
         },
         {
          "value": 0,
          "x": 39,
          "y": 30
         },
         {
          "value": 0,
          "x": 0,
          "y": 31
         },
         {
          "value": 2,
          "x": 1,
          "y": 31
         },
         {
          "value": -1,
          "x": 2,
          "y": 31
         },
         {
          "value": 0,
          "x": 3,
          "y": 31
         },
         {
          "value": 1,
          "x": 4,
          "y": 31
         },
         {
          "value": 0,
          "x": 5,
          "y": 31
         },
         {
          "value": 0,
          "x": 6,
          "y": 31
         },
         {
          "value": 0,
          "x": 7,
          "y": 31
         },
         {
          "value": 1,
          "x": 8,
          "y": 31
         },
         {
          "value": 0,
          "x": 9,
          "y": 31
         },
         {
          "value": 0,
          "x": 10,
          "y": 31
         },
         {
          "value": 1,
          "x": 11,
          "y": 31
         },
         {
          "value": -1,
          "x": 12,
          "y": 31
         },
         {
          "value": 1,
          "x": 13,
          "y": 31
         },
         {
          "value": 1,
          "x": 14,
          "y": 31
         },
         {
          "value": 1,
          "x": 15,
          "y": 31
         },
         {
          "value": -1,
          "x": 16,
          "y": 31
         },
         {
          "value": -1,
          "x": 17,
          "y": 31
         },
         {
          "value": -1,
          "x": 18,
          "y": 31
         },
         {
          "value": 0,
          "x": 19,
          "y": 31
         },
         {
          "value": 0,
          "x": 20,
          "y": 31
         },
         {
          "value": 1,
          "x": 21,
          "y": 31
         },
         {
          "value": 1,
          "x": 22,
          "y": 31
         },
         {
          "value": 0,
          "x": 23,
          "y": 31
         },
         {
          "value": 1,
          "x": 24,
          "y": 31
         },
         {
          "value": 1,
          "x": 25,
          "y": 31
         },
         {
          "value": 0,
          "x": 26,
          "y": 31
         },
         {
          "value": -1,
          "x": 27,
          "y": 31
         },
         {
          "value": -1,
          "x": 28,
          "y": 31
         },
         {
          "value": 0,
          "x": 29,
          "y": 31
         },
         {
          "value": 0,
          "x": 30,
          "y": 31
         },
         {
          "value": -1,
          "x": 31,
          "y": 31
         },
         {
          "value": 0,
          "x": 32,
          "y": 31
         },
         {
          "value": 2,
          "x": 33,
          "y": 31
         },
         {
          "value": -2,
          "x": 34,
          "y": 31
         },
         {
          "value": 1,
          "x": 35,
          "y": 31
         },
         {
          "value": -2,
          "x": 36,
          "y": 31
         },
         {
          "value": 1,
          "x": 37,
          "y": 31
         },
         {
          "value": -1,
          "x": 38,
          "y": 31
         },
         {
          "value": 1,
          "x": 39,
          "y": 31
         },
         {
          "value": -1,
          "x": 0,
          "y": 32
         },
         {
          "value": -1,
          "x": 1,
          "y": 32
         },
         {
          "value": -1,
          "x": 2,
          "y": 32
         },
         {
          "value": 3,
          "x": 3,
          "y": 32
         },
         {
          "value": 2,
          "x": 4,
          "y": 32
         },
         {
          "value": -2,
          "x": 5,
          "y": 32
         },
         {
          "value": -1,
          "x": 6,
          "y": 32
         },
         {
          "value": 1,
          "x": 7,
          "y": 32
         },
         {
          "value": -2,
          "x": 8,
          "y": 32
         },
         {
          "value": 1,
          "x": 9,
          "y": 32
         },
         {
          "value": 2,
          "x": 10,
          "y": 32
         },
         {
          "value": 1,
          "x": 11,
          "y": 32
         },
         {
          "value": 0,
          "x": 12,
          "y": 32
         },
         {
          "value": 0,
          "x": 13,
          "y": 32
         },
         {
          "value": 0,
          "x": 14,
          "y": 32
         },
         {
          "value": 1,
          "x": 15,
          "y": 32
         },
         {
          "value": -1,
          "x": 16,
          "y": 32
         },
         {
          "value": 1,
          "x": 17,
          "y": 32
         },
         {
          "value": -1,
          "x": 18,
          "y": 32
         },
         {
          "value": 1,
          "x": 19,
          "y": 32
         },
         {
          "value": -1,
          "x": 20,
          "y": 32
         },
         {
          "value": 1,
          "x": 21,
          "y": 32
         },
         {
          "value": 0,
          "x": 22,
          "y": 32
         },
         {
          "value": 0,
          "x": 23,
          "y": 32
         },
         {
          "value": 1,
          "x": 24,
          "y": 32
         },
         {
          "value": 1,
          "x": 25,
          "y": 32
         },
         {
          "value": 0,
          "x": 26,
          "y": 32
         },
         {
          "value": 0,
          "x": 27,
          "y": 32
         },
         {
          "value": 2,
          "x": 28,
          "y": 32
         },
         {
          "value": -1,
          "x": 29,
          "y": 32
         },
         {
          "value": -1,
          "x": 30,
          "y": 32
         },
         {
          "value": 1,
          "x": 31,
          "y": 32
         },
         {
          "value": 1,
          "x": 32,
          "y": 32
         },
         {
          "value": 0,
          "x": 33,
          "y": 32
         },
         {
          "value": -1,
          "x": 34,
          "y": 32
         },
         {
          "value": -2,
          "x": 35,
          "y": 32
         },
         {
          "value": -1,
          "x": 36,
          "y": 32
         },
         {
          "value": 0,
          "x": 37,
          "y": 32
         },
         {
          "value": 1,
          "x": 38,
          "y": 32
         },
         {
          "value": 0,
          "x": 39,
          "y": 32
         },
         {
          "value": 0,
          "x": 0,
          "y": 33
         },
         {
          "value": 0,
          "x": 1,
          "y": 33
         },
         {
          "value": -1,
          "x": 2,
          "y": 33
         },
         {
          "value": 0,
          "x": 3,
          "y": 33
         },
         {
          "value": -1,
          "x": 4,
          "y": 33
         },
         {
          "value": -1,
          "x": 5,
          "y": 33
         },
         {
          "value": -1,
          "x": 6,
          "y": 33
         },
         {
          "value": 0,
          "x": 7,
          "y": 33
         },
         {
          "value": 2,
          "x": 8,
          "y": 33
         },
         {
          "value": 0,
          "x": 9,
          "y": 33
         },
         {
          "value": -1,
          "x": 10,
          "y": 33
         },
         {
          "value": 0,
          "x": 11,
          "y": 33
         },
         {
          "value": 0,
          "x": 12,
          "y": 33
         },
         {
          "value": -1,
          "x": 13,
          "y": 33
         },
         {
          "value": -3,
          "x": 14,
          "y": 33
         },
         {
          "value": 0,
          "x": 15,
          "y": 33
         },
         {
          "value": -1,
          "x": 16,
          "y": 33
         },
         {
          "value": 1,
          "x": 17,
          "y": 33
         },
         {
          "value": 0,
          "x": 18,
          "y": 33
         },
         {
          "value": 0,
          "x": 19,
          "y": 33
         },
         {
          "value": 0,
          "x": 20,
          "y": 33
         },
         {
          "value": 0,
          "x": 21,
          "y": 33
         },
         {
          "value": 0,
          "x": 22,
          "y": 33
         },
         {
          "value": 1,
          "x": 23,
          "y": 33
         },
         {
          "value": 0,
          "x": 24,
          "y": 33
         },
         {
          "value": 0,
          "x": 25,
          "y": 33
         },
         {
          "value": 0,
          "x": 26,
          "y": 33
         },
         {
          "value": 1,
          "x": 27,
          "y": 33
         },
         {
          "value": 1,
          "x": 28,
          "y": 33
         },
         {
          "value": 1,
          "x": 29,
          "y": 33
         },
         {
          "value": -1,
          "x": 30,
          "y": 33
         },
         {
          "value": -1,
          "x": 31,
          "y": 33
         },
         {
          "value": 0,
          "x": 32,
          "y": 33
         },
         {
          "value": 0,
          "x": 33,
          "y": 33
         },
         {
          "value": -1,
          "x": 34,
          "y": 33
         },
         {
          "value": 0,
          "x": 35,
          "y": 33
         },
         {
          "value": 0,
          "x": 36,
          "y": 33
         },
         {
          "value": -1,
          "x": 37,
          "y": 33
         },
         {
          "value": -1,
          "x": 38,
          "y": 33
         },
         {
          "value": 1,
          "x": 39,
          "y": 33
         },
         {
          "value": -1,
          "x": 0,
          "y": 34
         },
         {
          "value": -1,
          "x": 1,
          "y": 34
         },
         {
          "value": 1,
          "x": 2,
          "y": 34
         },
         {
          "value": 1,
          "x": 3,
          "y": 34
         },
         {
          "value": 0,
          "x": 4,
          "y": 34
         },
         {
          "value": 0,
          "x": 5,
          "y": 34
         },
         {
          "value": 0,
          "x": 6,
          "y": 34
         },
         {
          "value": 0,
          "x": 7,
          "y": 34
         },
         {
          "value": -1,
          "x": 8,
          "y": 34
         },
         {
          "value": -1,
          "x": 9,
          "y": 34
         },
         {
          "value": 0,
          "x": 10,
          "y": 34
         },
         {
          "value": -2,
          "x": 11,
          "y": 34
         },
         {
          "value": -1,
          "x": 12,
          "y": 34
         },
         {
          "value": 1,
          "x": 13,
          "y": 34
         },
         {
          "value": 0,
          "x": 14,
          "y": 34
         },
         {
          "value": 1,
          "x": 15,
          "y": 34
         },
         {
          "value": 2,
          "x": 16,
          "y": 34
         },
         {
          "value": -2,
          "x": 17,
          "y": 34
         },
         {
          "value": 0,
          "x": 18,
          "y": 34
         },
         {
          "value": -1,
          "x": 19,
          "y": 34
         },
         {
          "value": 0,
          "x": 20,
          "y": 34
         },
         {
          "value": 1,
          "x": 21,
          "y": 34
         },
         {
          "value": -2,
          "x": 22,
          "y": 34
         },
         {
          "value": 0,
          "x": 23,
          "y": 34
         },
         {
          "value": 0,
          "x": 24,
          "y": 34
         },
         {
          "value": 0,
          "x": 25,
          "y": 34
         },
         {
          "value": -1,
          "x": 26,
          "y": 34
         },
         {
          "value": 0,
          "x": 27,
          "y": 34
         },
         {
          "value": 1,
          "x": 28,
          "y": 34
         },
         {
          "value": 0,
          "x": 29,
          "y": 34
         },
         {
          "value": 2,
          "x": 30,
          "y": 34
         },
         {
          "value": 1,
          "x": 31,
          "y": 34
         },
         {
          "value": 1,
          "x": 32,
          "y": 34
         },
         {
          "value": 0,
          "x": 33,
          "y": 34
         },
         {
          "value": 0,
          "x": 34,
          "y": 34
         },
         {
          "value": -1,
          "x": 35,
          "y": 34
         },
         {
          "value": -1,
          "x": 36,
          "y": 34
         },
         {
          "value": 1,
          "x": 37,
          "y": 34
         },
         {
          "value": 0,
          "x": 38,
          "y": 34
         },
         {
          "value": 1,
          "x": 39,
          "y": 34
         },
         {
          "value": 0,
          "x": 0,
          "y": 35
         },
         {
          "value": 0,
          "x": 1,
          "y": 35
         },
         {
          "value": 1,
          "x": 2,
          "y": 35
         },
         {
          "value": 1,
          "x": 3,
          "y": 35
         },
         {
          "value": 1,
          "x": 4,
          "y": 35
         },
         {
          "value": 2,
          "x": 5,
          "y": 35
         },
         {
          "value": 0,
          "x": 6,
          "y": 35
         },
         {
          "value": 0,
          "x": 7,
          "y": 35
         },
         {
          "value": 1,
          "x": 8,
          "y": 35
         },
         {
          "value": 0,
          "x": 9,
          "y": 35
         },
         {
          "value": -3,
          "x": 10,
          "y": 35
         },
         {
          "value": 0,
          "x": 11,
          "y": 35
         },
         {
          "value": 0,
          "x": 12,
          "y": 35
         },
         {
          "value": 0,
          "x": 13,
          "y": 35
         },
         {
          "value": 1,
          "x": 14,
          "y": 35
         },
         {
          "value": 0,
          "x": 15,
          "y": 35
         },
         {
          "value": 0,
          "x": 16,
          "y": 35
         },
         {
          "value": 1,
          "x": 17,
          "y": 35
         },
         {
          "value": 0,
          "x": 18,
          "y": 35
         },
         {
          "value": 0,
          "x": 19,
          "y": 35
         },
         {
          "value": -2,
          "x": 20,
          "y": 35
         },
         {
          "value": -1,
          "x": 21,
          "y": 35
         },
         {
          "value": 0,
          "x": 22,
          "y": 35
         },
         {
          "value": 0,
          "x": 23,
          "y": 35
         },
         {
          "value": 0,
          "x": 24,
          "y": 35
         },
         {
          "value": 1,
          "x": 25,
          "y": 35
         },
         {
          "value": 0,
          "x": 26,
          "y": 35
         },
         {
          "value": 0,
          "x": 27,
          "y": 35
         },
         {
          "value": 1,
          "x": 28,
          "y": 35
         },
         {
          "value": 0,
          "x": 29,
          "y": 35
         },
         {
          "value": -1,
          "x": 30,
          "y": 35
         },
         {
          "value": 0,
          "x": 31,
          "y": 35
         },
         {
          "value": 0,
          "x": 32,
          "y": 35
         },
         {
          "value": -1,
          "x": 33,
          "y": 35
         },
         {
          "value": 2,
          "x": 34,
          "y": 35
         },
         {
          "value": 0,
          "x": 35,
          "y": 35
         },
         {
          "value": -1,
          "x": 36,
          "y": 35
         },
         {
          "value": 0,
          "x": 37,
          "y": 35
         },
         {
          "value": 1,
          "x": 38,
          "y": 35
         },
         {
          "value": 0,
          "x": 39,
          "y": 35
         },
         {
          "value": -1,
          "x": 0,
          "y": 36
         },
         {
          "value": -1,
          "x": 1,
          "y": 36
         },
         {
          "value": 2,
          "x": 2,
          "y": 36
         },
         {
          "value": 0,
          "x": 3,
          "y": 36
         },
         {
          "value": 0,
          "x": 4,
          "y": 36
         },
         {
          "value": -1,
          "x": 5,
          "y": 36
         },
         {
          "value": -1,
          "x": 6,
          "y": 36
         },
         {
          "value": 0,
          "x": 7,
          "y": 36
         },
         {
          "value": -2,
          "x": 8,
          "y": 36
         },
         {
          "value": 1,
          "x": 9,
          "y": 36
         },
         {
          "value": 0,
          "x": 10,
          "y": 36
         },
         {
          "value": -1,
          "x": 11,
          "y": 36
         },
         {
          "value": 1,
          "x": 12,
          "y": 36
         },
         {
          "value": 0,
          "x": 13,
          "y": 36
         },
         {
          "value": -2,
          "x": 14,
          "y": 36
         },
         {
          "value": -2,
          "x": 15,
          "y": 36
         },
         {
          "value": 1,
          "x": 16,
          "y": 36
         },
         {
          "value": 1,
          "x": 17,
          "y": 36
         },
         {
          "value": -1,
          "x": 18,
          "y": 36
         },
         {
          "value": 0,
          "x": 19,
          "y": 36
         },
         {
          "value": 0,
          "x": 20,
          "y": 36
         },
         {
          "value": 1,
          "x": 21,
          "y": 36
         },
         {
          "value": 1,
          "x": 22,
          "y": 36
         },
         {
          "value": -1,
          "x": 23,
          "y": 36
         },
         {
          "value": 0,
          "x": 24,
          "y": 36
         },
         {
          "value": -1,
          "x": 25,
          "y": 36
         },
         {
          "value": 0,
          "x": 26,
          "y": 36
         },
         {
          "value": 1,
          "x": 27,
          "y": 36
         },
         {
          "value": 0,
          "x": 28,
          "y": 36
         },
         {
          "value": 0,
          "x": 29,
          "y": 36
         },
         {
          "value": 0,
          "x": 30,
          "y": 36
         },
         {
          "value": 0,
          "x": 31,
          "y": 36
         },
         {
          "value": -1,
          "x": 32,
          "y": 36
         },
         {
          "value": 0,
          "x": 33,
          "y": 36
         },
         {
          "value": 0,
          "x": 34,
          "y": 36
         },
         {
          "value": -1,
          "x": 35,
          "y": 36
         },
         {
          "value": -1,
          "x": 36,
          "y": 36
         },
         {
          "value": -1,
          "x": 37,
          "y": 36
         },
         {
          "value": 0,
          "x": 38,
          "y": 36
         },
         {
          "value": 0,
          "x": 39,
          "y": 36
         },
         {
          "value": 0,
          "x": 0,
          "y": 37
         },
         {
          "value": -2,
          "x": 1,
          "y": 37
         },
         {
          "value": 0,
          "x": 2,
          "y": 37
         },
         {
          "value": 0,
          "x": 3,
          "y": 37
         },
         {
          "value": 1,
          "x": 4,
          "y": 37
         },
         {
          "value": 0,
          "x": 5,
          "y": 37
         },
         {
          "value": 0,
          "x": 6,
          "y": 37
         },
         {
          "value": -1,
          "x": 7,
          "y": 37
         },
         {
          "value": 0,
          "x": 8,
          "y": 37
         },
         {
          "value": -1,
          "x": 9,
          "y": 37
         },
         {
          "value": 0,
          "x": 10,
          "y": 37
         },
         {
          "value": 1,
          "x": 11,
          "y": 37
         },
         {
          "value": 0,
          "x": 12,
          "y": 37
         },
         {
          "value": 0,
          "x": 13,
          "y": 37
         },
         {
          "value": 1,
          "x": 14,
          "y": 37
         },
         {
          "value": -1,
          "x": 15,
          "y": 37
         },
         {
          "value": -1,
          "x": 16,
          "y": 37
         },
         {
          "value": -1,
          "x": 17,
          "y": 37
         },
         {
          "value": 2,
          "x": 18,
          "y": 37
         },
         {
          "value": 1,
          "x": 19,
          "y": 37
         },
         {
          "value": 0,
          "x": 20,
          "y": 37
         },
         {
          "value": 0,
          "x": 21,
          "y": 37
         },
         {
          "value": 0,
          "x": 22,
          "y": 37
         },
         {
          "value": 0,
          "x": 23,
          "y": 37
         },
         {
          "value": -1,
          "x": 24,
          "y": 37
         },
         {
          "value": 0,
          "x": 25,
          "y": 37
         },
         {
          "value": -1,
          "x": 26,
          "y": 37
         },
         {
          "value": 0,
          "x": 27,
          "y": 37
         },
         {
          "value": 1,
          "x": 28,
          "y": 37
         },
         {
          "value": 0,
          "x": 29,
          "y": 37
         },
         {
          "value": 1,
          "x": 30,
          "y": 37
         },
         {
          "value": 0,
          "x": 31,
          "y": 37
         },
         {
          "value": 1,
          "x": 32,
          "y": 37
         },
         {
          "value": 0,
          "x": 33,
          "y": 37
         },
         {
          "value": 1,
          "x": 34,
          "y": 37
         },
         {
          "value": 0,
          "x": 35,
          "y": 37
         },
         {
          "value": 2,
          "x": 36,
          "y": 37
         },
         {
          "value": 0,
          "x": 37,
          "y": 37
         },
         {
          "value": 0,
          "x": 38,
          "y": 37
         },
         {
          "value": -1,
          "x": 39,
          "y": 37
         },
         {
          "value": -1,
          "x": 0,
          "y": 38
         },
         {
          "value": 0,
          "x": 1,
          "y": 38
         },
         {
          "value": 1,
          "x": 2,
          "y": 38
         },
         {
          "value": 0,
          "x": 3,
          "y": 38
         },
         {
          "value": 1,
          "x": 4,
          "y": 38
         },
         {
          "value": 0,
          "x": 5,
          "y": 38
         },
         {
          "value": 3,
          "x": 6,
          "y": 38
         },
         {
          "value": 2,
          "x": 7,
          "y": 38
         },
         {
          "value": 0,
          "x": 8,
          "y": 38
         },
         {
          "value": 1,
          "x": 9,
          "y": 38
         },
         {
          "value": 2,
          "x": 10,
          "y": 38
         },
         {
          "value": 0,
          "x": 11,
          "y": 38
         },
         {
          "value": 0,
          "x": 12,
          "y": 38
         },
         {
          "value": 0,
          "x": 13,
          "y": 38
         },
         {
          "value": 1,
          "x": 14,
          "y": 38
         },
         {
          "value": -1,
          "x": 15,
          "y": 38
         },
         {
          "value": -1,
          "x": 16,
          "y": 38
         },
         {
          "value": 0,
          "x": 17,
          "y": 38
         },
         {
          "value": 1,
          "x": 18,
          "y": 38
         },
         {
          "value": 0,
          "x": 19,
          "y": 38
         },
         {
          "value": -2,
          "x": 20,
          "y": 38
         },
         {
          "value": -1,
          "x": 21,
          "y": 38
         },
         {
          "value": -1,
          "x": 22,
          "y": 38
         },
         {
          "value": 0,
          "x": 23,
          "y": 38
         },
         {
          "value": 0,
          "x": 24,
          "y": 38
         },
         {
          "value": 1,
          "x": 25,
          "y": 38
         },
         {
          "value": 0,
          "x": 26,
          "y": 38
         },
         {
          "value": -1,
          "x": 27,
          "y": 38
         },
         {
          "value": 1,
          "x": 28,
          "y": 38
         },
         {
          "value": 0,
          "x": 29,
          "y": 38
         },
         {
          "value": 0,
          "x": 30,
          "y": 38
         },
         {
          "value": -1,
          "x": 31,
          "y": 38
         },
         {
          "value": 0,
          "x": 32,
          "y": 38
         },
         {
          "value": 0,
          "x": 33,
          "y": 38
         },
         {
          "value": 0,
          "x": 34,
          "y": 38
         },
         {
          "value": 0,
          "x": 35,
          "y": 38
         },
         {
          "value": 0,
          "x": 36,
          "y": 38
         },
         {
          "value": 0,
          "x": 37,
          "y": 38
         },
         {
          "value": 2,
          "x": 38,
          "y": 38
         },
         {
          "value": -1,
          "x": 39,
          "y": 38
         },
         {
          "value": 1,
          "x": 0,
          "y": 39
         },
         {
          "value": 0,
          "x": 1,
          "y": 39
         },
         {
          "value": 3,
          "x": 2,
          "y": 39
         },
         {
          "value": 0,
          "x": 3,
          "y": 39
         },
         {
          "value": -1,
          "x": 4,
          "y": 39
         },
         {
          "value": -1,
          "x": 5,
          "y": 39
         },
         {
          "value": 1,
          "x": 6,
          "y": 39
         },
         {
          "value": 1,
          "x": 7,
          "y": 39
         },
         {
          "value": 0,
          "x": 8,
          "y": 39
         },
         {
          "value": 0,
          "x": 9,
          "y": 39
         },
         {
          "value": 0,
          "x": 10,
          "y": 39
         },
         {
          "value": -1,
          "x": 11,
          "y": 39
         },
         {
          "value": -1,
          "x": 12,
          "y": 39
         },
         {
          "value": 2,
          "x": 13,
          "y": 39
         },
         {
          "value": 1,
          "x": 14,
          "y": 39
         },
         {
          "value": 0,
          "x": 15,
          "y": 39
         },
         {
          "value": 1,
          "x": 16,
          "y": 39
         },
         {
          "value": 1,
          "x": 17,
          "y": 39
         },
         {
          "value": 0,
          "x": 18,
          "y": 39
         },
         {
          "value": 0,
          "x": 19,
          "y": 39
         },
         {
          "value": 2,
          "x": 20,
          "y": 39
         },
         {
          "value": -1,
          "x": 21,
          "y": 39
         },
         {
          "value": 2,
          "x": 22,
          "y": 39
         },
         {
          "value": -1,
          "x": 23,
          "y": 39
         },
         {
          "value": 0,
          "x": 24,
          "y": 39
         },
         {
          "value": 0,
          "x": 25,
          "y": 39
         },
         {
          "value": 1,
          "x": 26,
          "y": 39
         },
         {
          "value": 2,
          "x": 27,
          "y": 39
         },
         {
          "value": -1,
          "x": 28,
          "y": 39
         },
         {
          "value": 0,
          "x": 29,
          "y": 39
         },
         {
          "value": -1,
          "x": 30,
          "y": 39
         },
         {
          "value": 1,
          "x": 31,
          "y": 39
         },
         {
          "value": -1,
          "x": 32,
          "y": 39
         },
         {
          "value": -1,
          "x": 33,
          "y": 39
         },
         {
          "value": -1,
          "x": 34,
          "y": 39
         },
         {
          "value": 1,
          "x": 35,
          "y": 39
         },
         {
          "value": -1,
          "x": 36,
          "y": 39
         },
         {
          "value": 1,
          "x": 37,
          "y": 39
         },
         {
          "value": -1,
          "x": 38,
          "y": 39
         },
         {
          "value": -1,
          "x": 39,
          "y": 39
         }
        ]
       },
       "encoding": {
        "color": {
         "field": "value",
         "scale": {
          "scheme": "greens"
         },
         "type": "quantitative"
        },
        "x": {
         "field": "x",
         "type": "ordinal"
        },
        "y": {
         "field": "y",
         "type": "ordinal"
        }
       },
       "mark": "rect"
      },
      "image/png": "[encoded data removed]",
      "text/plain": [
       "<VegaLite 2 object>\n",
       "\n",
       "If you see this message, it means the renderer has not been properly enabled\n",
       "for the frontend that you are using. For more information, see\n",
       "https://altair-viz.github.io/user_guide/troubleshooting.html\n"
      ]
     },
     "execution_count": 10,
     "metadata": {},
     "output_type": "execute_result"
    }
   ],
   "source": [
    "world.shift_terrain()\n",
    "draw.drawTerrainHeight(world.grid_elevation)"
   ]
  },
  {
   "cell_type": "markdown",
   "metadata": {},
   "source": [
    "Just random terrain shifting won't make anything like real terrain types. "
   ]
  },
  {
   "cell_type": "markdown",
   "metadata": {},
   "source": [
    "# Mountains formed\n",
    "\n",
    "Using Np.pad to build a pyramid, I'm making something that looks much more like a mountain. This is just a single mountain. "
   ]
  },
  {
   "cell_type": "code",
   "execution_count": 11,
   "metadata": {},
   "outputs": [
    {
     "data": {
      "text/html": [
       "<div>\n",
       "<style scoped>\n",
       "    .dataframe tbody tr th:only-of-type {\n",
       "        vertical-align: middle;\n",
       "    }\n",
       "\n",
       "    .dataframe tbody tr th {\n",
       "        vertical-align: top;\n",
       "    }\n",
       "\n",
       "    .dataframe thead th {\n",
       "        text-align: right;\n",
       "    }\n",
       "</style>\n",
       "<table border=\"1\" class=\"dataframe\">\n",
       "  <thead>\n",
       "    <tr style=\"text-align: right;\">\n",
       "      <th></th>\n",
       "      <th>0</th>\n",
       "      <th>1</th>\n",
       "      <th>2</th>\n",
       "    </tr>\n",
       "  </thead>\n",
       "  <tbody>\n",
       "    <tr>\n",
       "      <th>0</th>\n",
       "      <td>1</td>\n",
       "      <td>1</td>\n",
       "      <td>1</td>\n",
       "    </tr>\n",
       "    <tr>\n",
       "      <th>1</th>\n",
       "      <td>1</td>\n",
       "      <td>2</td>\n",
       "      <td>1</td>\n",
       "    </tr>\n",
       "    <tr>\n",
       "      <th>2</th>\n",
       "      <td>1</td>\n",
       "      <td>1</td>\n",
       "      <td>1</td>\n",
       "    </tr>\n",
       "  </tbody>\n",
       "</table>\n",
       "</div>"
      ],
      "text/plain": [
       "   0  1  2\n",
       "0  1  1  1\n",
       "1  1  2  1\n",
       "2  1  1  1"
      ]
     },
     "execution_count": 11,
     "metadata": {},
     "output_type": "execute_result"
    }
   ],
   "source": [
    "world.getMountain()"
   ]
  },
  {
   "cell_type": "markdown",
   "metadata": {},
   "source": [
    "This is great, but I need to place the mountain on a random place on the terrain. Currently just drop the edges of the mountain if they go off the grid. I might wrap them around later. **Note** height needs to be odd in order to draw symmetrically."
   ]
  },
  {
   "cell_type": "code",
   "execution_count": null,
   "metadata": {},
   "outputs": [],
   "source": [
    "coord = world.get_random_chord()\n",
    "m = world.getMountain(height=5)\n",
    "print(\"Mountain Placed: \", coord)\n",
    "\n",
    "mdf = world.reindexMountain(coord,m)\n",
    "mdf"
   ]
  },
  {
   "cell_type": "markdown",
   "metadata": {},
   "source": [
    "This makes a much more _natural_ looking mountain. "
   ]
  },
  {
   "cell_type": "code",
   "execution_count": null,
   "metadata": {},
   "outputs": [],
   "source": [
    "world.add_mountain(mdf)\n",
    "draw.drawTerrainHeight(world.grid_elevation)"
   ]
  },
  {
   "cell_type": "markdown",
   "metadata": {},
   "source": [
    "It's a good looking mountain, but I need mountain ranges not dots. In order to drag mountains on the board I'll need to create a brownian motion function to drop a mountain and then move. "
   ]
  },
  {
   "cell_type": "code",
   "execution_count": null,
   "metadata": {},
   "outputs": [],
   "source": [
    "world.brownian_land()"
   ]
  },
  {
   "cell_type": "code",
   "execution_count": null,
   "metadata": {},
   "outputs": [],
   "source": [
    "draw.drawTerrainHeight(world.grid_elevation)"
   ]
  },
  {
   "cell_type": "markdown",
   "metadata": {},
   "source": [
    "Now that's starting to look like land. The shapes come out really map-like. Compute time is lower than my previous version as well. Only drawing the Altair viz takes time. "
   ]
  },
  {
   "cell_type": "markdown",
   "metadata": {},
   "source": [
    "## Oceans"
   ]
  },
  {
   "cell_type": "markdown",
   "metadata": {},
   "source": [
    "If the oceans were to come in at `height == 0` then you can assume that lower terrain is _under water_"
   ]
  },
  {
   "cell_type": "code",
   "execution_count": null,
   "metadata": {},
   "outputs": [],
   "source": [
    "draw.drawTerrainTypes(world.grid_elevation,world.landscape)"
   ]
  },
  {
   "cell_type": "markdown",
   "metadata": {},
   "source": [
    "### Rainfall\n",
    "\n",
    "Rainfall makes terrain different. Wet areas become forests. Dry areas become deserts. "
   ]
  },
  {
   "cell_type": "code",
   "execution_count": null,
   "metadata": {},
   "outputs": [],
   "source": [
    "world.brownian_rainfall()"
   ]
  },
  {
   "cell_type": "code",
   "execution_count": null,
   "metadata": {},
   "outputs": [],
   "source": [
    "draw.drawRainFall(world.grid_rainfall)"
   ]
  },
  {
   "cell_type": "markdown",
   "metadata": {},
   "source": [
    "### Build core game features dataframe\n",
    "This function builds the df_features that will be used later in the actual game. This way you can quickly search and filter the world to find things."
   ]
  },
  {
   "cell_type": "code",
   "execution_count": null,
   "metadata": {},
   "outputs": [],
   "source": [
    "world.build_df_features()"
   ]
  },
  {
   "cell_type": "code",
   "execution_count": null,
   "metadata": {},
   "outputs": [],
   "source": [
    "alt.Chart(world.df_features).mark_bar().encode(\n",
    "    alt.X(\"rainfall\", bin=True),\n",
    "    y='count()',\n",
    ")"
   ]
  },
  {
   "cell_type": "markdown",
   "metadata": {},
   "source": [
    "The amount of rainfal in the world determines if the area will become a forest or a desert. This can be set from the `landscape` parameters. "
   ]
  },
  {
   "cell_type": "code",
   "execution_count": null,
   "metadata": {},
   "outputs": [],
   "source": [
    "world.df_features['terrain'] = world.df_features.apply(lambda x: w.set_ecology(x,landscape),axis =1 )\n",
    "draw.drawterrainadvanced(world.df_features)"
   ]
  },
  {
   "cell_type": "markdown",
   "metadata": {},
   "source": [
    "# The age of the Mortals\n",
    "\n",
    "The terrain and all of the natural features are formed in the first age. Mountains, rivers, lakes and forests. Once the land has settled, the first cities appear. \n",
    "\n",
    "Culture settings come from the user input, there are defaults for everything. Once specified the `.culture` placeholder can be replaced. It should not be used until this point. \n"
   ]
  },
  {
   "cell_type": "code",
   "execution_count": null,
   "metadata": {},
   "outputs": [],
   "source": [
    "c"
   ]
  },
  {
   "cell_type": "code",
   "execution_count": null,
   "metadata": {},
   "outputs": [],
   "source": [
    "# the path to the `datasets` folder is different when launched in the Notebook.\n",
    "culture = c.Culture(paths='notebooks')\n",
    "world.culture = culture\n",
    "world.culture.eons"
   ]
  },
  {
   "cell_type": "markdown",
   "metadata": {},
   "source": [
    "## People\n",
    "A `Person` is a required parameter for many things like `towns`, `nations` and `buildings`\n",
    "\n",
    "A person requires a `culture` to specify how the names will be generated. As a default the person is a `peon` and exists nowhere (`None`). Optional parameters allow the person to be created with a `role` and a `location`. `Location` can be a `town`, `building` or a `key` where the person can be found. "
   ]
  },
  {
   "cell_type": "code",
   "execution_count": null,
   "metadata": {},
   "outputs": [],
   "source": [
    "people.Person(world.culture,location=world.get_random_chord())"
   ]
  },
  {
   "cell_type": "markdown",
   "metadata": {},
   "source": [
    "## Towns"
   ]
  },
  {
   "cell_type": "markdown",
   "metadata": {},
   "source": [
    "the `__init__` method of a city takes a founding age and a location (which can be generated randomly via `World.get_random_chord`). The init method automatically generates a name. The default nation is the name of the town."
   ]
  },
  {
   "cell_type": "code",
   "execution_count": null,
   "metadata": {},
   "outputs": [],
   "source": [
    "new_town = towns.Town(world.get_random_chord(),1,culture,people)\n",
    "new_town"
   ]
  },
  {
   "cell_type": "code",
   "execution_count": null,
   "metadata": {},
   "outputs": [],
   "source": [
    "new_town.speaker"
   ]
  },
  {
   "cell_type": "markdown",
   "metadata": {},
   "source": [
    "## The age of civilization\n",
    "\n",
    "Cities grow for a set number of aeons. During each eon\n",
    "* n new villages are born\n",
    "* each village has g% chance to grow\n",
    "\n",
    "The cities are randomly placed (not in the ocean)"
   ]
  },
  {
   "cell_type": "code",
   "execution_count": null,
   "metadata": {},
   "outputs": [],
   "source": [
    "all_towns = towns.build_towns(world,people)\n",
    "world.towns = all_towns\n",
    "[(str(p),p.population) for p in all_towns]"
   ]
  },
  {
   "cell_type": "code",
   "execution_count": null,
   "metadata": {},
   "outputs": [],
   "source": [
    "def population_age(towns):\n",
    "    df = pd.DataFrame(index=range(len(all_towns)))\n",
    "    df['name'] = [t.name for t in all_towns]\n",
    "    df['population'] = [t.pop for t in all_towns]\n",
    "    df['founded'] = [t.founded for t in all_towns]\n",
    "    return df\n",
    "\n",
    "alt.Chart(population_age(towns),title=\"older cities tend to have larger population\").mark_circle(size=60).encode(\n",
    "    y='population',\n",
    "    x='founded',\n",
    "    color='name',\n",
    "    tooltip=['name']\n",
    ")"
   ]
  },
  {
   "cell_type": "markdown",
   "metadata": {},
   "source": [
    "## Adding the towns to the map: \n",
    "Redrawing the map adds the cities. Note that all cities have a specific age, population. People in those cities have names, occupations and varying levels of loyalty and temperment."
   ]
  },
  {
   "cell_type": "code",
   "execution_count": null,
   "metadata": {},
   "outputs": [],
   "source": [
    "world.add_features(all_towns)\n",
    "#TODO: Update drawCities to support more terrain types\n",
    "draw.drawCities(world.df_features)"
   ]
  },
  {
   "cell_type": "markdown",
   "metadata": {},
   "source": [
    "**Towns** are a __feature__ of the terrain. The terrain determines what `terr_items` and `terr_details` will be in that area, and the __feature__ determines special things for that space."
   ]
  },
  {
   "cell_type": "code",
   "execution_count": 5,
   "metadata": {},
   "outputs": [
    {
     "ename": "NameError",
     "evalue": "name 'world' is not defined",
     "output_type": "error",
     "traceback": [
      "\u001b[0;31m---------------------------------------------------------------------------\u001b[0m",
      "\u001b[0;31mNameError\u001b[0m                                 Traceback (most recent call last)",
      "\u001b[0;32m<ipython-input-5-1d6077c24ff9>\u001b[0m in \u001b[0;36m<module>\u001b[0;34m\u001b[0m\n\u001b[0;32m----> 1\u001b[0;31m \u001b[0mworld\u001b[0m\u001b[0;34m.\u001b[0m\u001b[0mdf_features\u001b[0m\u001b[0;34m[\u001b[0m\u001b[0mworld\u001b[0m\u001b[0;34m.\u001b[0m\u001b[0mdf_features\u001b[0m\u001b[0;34m[\u001b[0m\u001b[0;34m'feature'\u001b[0m\u001b[0;34m]\u001b[0m\u001b[0;34m.\u001b[0m\u001b[0misna\u001b[0m\u001b[0;34m(\u001b[0m\u001b[0;34m)\u001b[0m\u001b[0;34m==\u001b[0m\u001b[0;32mFalse\u001b[0m\u001b[0;34m]\u001b[0m\u001b[0;34m\u001b[0m\u001b[0;34m\u001b[0m\u001b[0m\n\u001b[0m",
      "\u001b[0;31mNameError\u001b[0m: name 'world' is not defined"
     ]
    }
   ],
   "source": [
    "world.df_features[world.df_features['feature'].isna()==False]"
   ]
  },
  {
   "cell_type": "markdown",
   "metadata": {},
   "source": [
    "# Nations"
   ]
  },
  {
   "cell_type": "code",
   "execution_count": null,
   "metadata": {},
   "outputs": [],
   "source": [
    "#k is the actual k_means cluster object.\n",
    "all_nations,k = nations.cluster_nations(world)\n",
    "world.nations = all_nations\n",
    "\n",
    "all_nations"
   ]
  },
  {
   "cell_type": "markdown",
   "metadata": {},
   "source": [
    "Standard Scikit-Learn stuff. I'm using K-means to group the `towns` into `nations` based on proximity."
   ]
  },
  {
   "cell_type": "code",
   "execution_count": null,
   "metadata": {},
   "outputs": [],
   "source": [
    "k"
   ]
  },
  {
   "cell_type": "code",
   "execution_count": null,
   "metadata": {},
   "outputs": [],
   "source": [
    "world.df_features = nations.predict_nations(k,world)\n",
    "world.df_features.head(20)"
   ]
  },
  {
   "cell_type": "markdown",
   "metadata": {},
   "source": [
    "The age of conflict is next, so the starting fealty and diplomacy for each town is 1"
   ]
  },
  {
   "cell_type": "code",
   "execution_count": null,
   "metadata": {},
   "outputs": [],
   "source": [
    "for t in all_towns:\n",
    "    try:\n",
    "        t.set_starting_fielty(world)\n",
    "    except:\n",
    "        continue\n",
    "        \n",
    "town = world.towns[1]\n",
    "print(f\"{town.name} is loyal to the nation of {town.nation}\")\n",
    "print(f\"{town.diplomacy}\")"
   ]
  },
  {
   "cell_type": "code",
   "execution_count": null,
   "metadata": {},
   "outputs": [],
   "source": [
    "#for each nation (n), appoint the most populus city (c) as it's capitol.\n",
    "for n in np.unique(world.df_features['nation'].dropna()):\n",
    "    cu = world.df_features[(world.df_features['nation']==n)& \\\n",
    "          (world.df_features['terrain']=='town')]['feature'].tolist()\n",
    "    #getting the town objects\n",
    "    ts = [t for t in all_towns if t.name in cu]\n",
    "    #get population(p)\n",
    "    p = [t.pop for t in ts]\n",
    "    #getting the first town that has the max population, make that the capitol\n",
    "    ts[np.argmax(p)].type='capitol'\n",
    "    \n",
    "world.towns"
   ]
  },
  {
   "cell_type": "code",
   "execution_count": null,
   "metadata": {},
   "outputs": [],
   "source": [
    "world.nations = [nations.Nation(n,world,world.culture,people) for n in world.nations.values()]\n",
    "world.nations"
   ]
  },
  {
   "cell_type": "code",
   "execution_count": null,
   "metadata": {},
   "outputs": [],
   "source": [
    "world.nations[0].towns"
   ]
  },
  {
   "cell_type": "code",
   "execution_count": null,
   "metadata": {},
   "outputs": [],
   "source": [
    "world.nations[0].get_capitol().population"
   ]
  },
  {
   "cell_type": "markdown",
   "metadata": {},
   "source": [
    "So the world has nations, nations have towns, and towns have people. Objects all nested together and easy to reference. A nation's capitol will always have two people: the ruler and the speaker. Larger cities will have extra peons. "
   ]
  },
  {
   "cell_type": "code",
   "execution_count": null,
   "metadata": {},
   "outputs": [],
   "source": [
    "world.nations[0].get_capitol().population[0].get_person_data()"
   ]
  },
  {
   "cell_type": "code",
   "execution_count": null,
   "metadata": {},
   "outputs": [],
   "source": [
    "world.df_features[world.df_features['feature'].isna()==False].sort_values(['nation'])"
   ]
  },
  {
   "cell_type": "code",
   "execution_count": null,
   "metadata": {},
   "outputs": [],
   "source": [
    "draw.drawboarders(world.df_features)"
   ]
  },
  {
   "cell_type": "markdown",
   "metadata": {},
   "source": [
    "# The age of the Conflict\n",
    "\n",
    "The terrain and all of the natural features are formed in the first age. Cities and nations in the second. In the third age chaos will shift the natural order and cause the tension that creates the objectives of the game. \n"
   ]
  },
  {
   "cell_type": "code",
   "execution_count": null,
   "metadata": {},
   "outputs": [],
   "source": [
    "town = world.towns[1]\n",
    "print(f\"{town.name} is loyal to the nation of {town.nation}\")\n",
    "print(f\"{town.diplomacy}\")"
   ]
  },
  {
   "cell_type": "markdown",
   "metadata": {},
   "source": [
    "People have loyalty to thier nations, as well as towns. Nations have a loyalty to each other. Towns have speakers, who represent the town. Nations have rulers. "
   ]
  },
  {
   "cell_type": "code",
   "execution_count": null,
   "metadata": {},
   "outputs": [],
   "source": [
    "example_nation = world.nations[1]\n",
    "print (example_nation.ruler,\" has a temperment of \",example_nation.ruler.temperment)\n",
    "print (example_nation.get_capitol().speaker,\" has a loyalty of \",example_nation.get_capitol().speaker.loyalty)"
   ]
  },
  {
   "cell_type": "code",
   "execution_count": null,
   "metadata": {},
   "outputs": [],
   "source": [
    "world.get_filtered_chord(t=['plain','mountain','forrest'],n=example_nation.name,r='key')"
   ]
  },
  {
   "cell_type": "code",
   "execution_count": null,
   "metadata": {},
   "outputs": [],
   "source": [
    "example_nation.towns"
   ]
  },
  {
   "cell_type": "markdown",
   "metadata": {},
   "source": [
    "## Swaying favor with other nations\n",
    "\n",
    "Events cause the relationship to sway between nations. This can be done by passing the `nation` or list of `nation` objects into the `alter_favor` function. "
   ]
  },
  {
   "cell_type": "code",
   "execution_count": null,
   "metadata": {},
   "outputs": [],
   "source": [
    "nations.treaties"
   ]
  },
  {
   "cell_type": "markdown",
   "metadata": {},
   "source": [
    "Altering the favor of a nation is a complicated function. "
   ]
  },
  {
   "cell_type": "code",
   "execution_count": null,
   "metadata": {},
   "outputs": [],
   "source": [
    "help(nations.alter_favor)"
   ]
  },
  {
   "cell_type": "markdown",
   "metadata": {},
   "source": [
    "### example 1: one nation does something that many other nations's don't like. "
   ]
  },
  {
   "cell_type": "code",
   "execution_count": null,
   "metadata": {},
   "outputs": [],
   "source": [
    "s_nation = world.nations[0]\n",
    "o_nations = world.nations[1:3]\n",
    "affect = -.25\n",
    "nations.alter_favor(s_nation,o_nations,affect)"
   ]
  },
  {
   "cell_type": "code",
   "execution_count": null,
   "metadata": {},
   "outputs": [],
   "source": [
    "print(\"subject nations (nations who have done the deed)\")\n",
    "print(f\"{s_nation} did something {affect} to {o_nations}\")\n",
    "print(s_nation,\"\\n\",yaml.dump(s_nation.diplomacy))\n",
    "\n",
    "print(\"object nations (nations who's favor is affected by the deed)\")\n",
    "[print(j,\"\\n\",yaml.dump(j.diplomacy)) for j in o_nations]\n"
   ]
  },
  {
   "cell_type": "markdown",
   "metadata": {},
   "source": [
    "### example 2: several nations does something that annother nation likes. "
   ]
  },
  {
   "cell_type": "code",
   "execution_count": null,
   "metadata": {},
   "outputs": [],
   "source": [
    "s_nations = world.nations[2:4]\n",
    "o_nation = world.nations[5]\n",
    "affect = .25\n",
    "\n",
    "nations.alter_favor(s_nations,o_nation,affect)"
   ]
  },
  {
   "cell_type": "code",
   "execution_count": null,
   "metadata": {},
   "outputs": [],
   "source": [
    "print(\"subject nations (nations who have done the deed)\")\n",
    "print(f\"{s_nations} did something {affect} to {o_nation}\")\n",
    "[print(j,\"\\n\",yaml.dump(j.diplomacy)) for j in s_nations]\n",
    "print(\"object nations (nations who's favor is affected by the deed)\")\n",
    "print(o_nation,\"\\n\",yaml.dump(o_nation.diplomacy))"
   ]
  },
  {
   "cell_type": "markdown",
   "metadata": {},
   "source": [
    "Events are thier own thing. They aren't `culture` or `landscape`. They happen at the beginning of the game and depending on `culture.chaos` happen when the character moves from area to area. "
   ]
  },
  {
   "cell_type": "code",
   "execution_count": null,
   "metadata": {},
   "outputs": [],
   "source": [
    "e = events.get_possible_events()\n",
    "e"
   ]
  },
  {
   "cell_type": "markdown",
   "metadata": {},
   "source": [
    " `culture.eons` determines how many years will pass with a possibility of an event happening. `culture.chaos` determines how likely an event is to occur."
   ]
  },
  {
   "cell_type": "code",
   "execution_count": null,
   "metadata": {},
   "outputs": [],
   "source": [
    "world.culture.eons,world.culture.chaos"
   ]
  },
  {
   "cell_type": "code",
   "execution_count": null,
   "metadata": {},
   "outputs": [],
   "source": [
    "#now to run through the eons and let fate happen\n",
    "all_events = events.pass_through_time(world,nations)\n",
    "all_events"
   ]
  },
  {
   "cell_type": "markdown",
   "metadata": {},
   "source": [
    "# Monsters and Enemies"
   ]
  },
  {
   "cell_type": "code",
   "execution_count": null,
   "metadata": {},
   "outputs": [],
   "source": [
    "world.culture.chaos"
   ]
  },
  {
   "cell_type": "code",
   "execution_count": null,
   "metadata": {},
   "outputs": [],
   "source": [
    "world = events.add_chaos_to_world(world)\n",
    "\n",
    "alt.Chart(world.df_features).mark_bar().encode(\n",
    "    alt.X(\"danger\", bin=True),\n",
    "    y='count()',\n",
    ")"
   ]
  },
  {
   "cell_type": "markdown",
   "metadata": {},
   "source": [
    "# Saving the local copy"
   ]
  },
  {
   "cell_type": "markdown",
   "metadata": {},
   "source": [
    "Saving a local copy of the pickled file for update. TODO: add function to save pickle in S3"
   ]
  },
  {
   "cell_type": "code",
   "execution_count": null,
   "metadata": {},
   "outputs": [],
   "source": [
    "world.df_features.head(10)"
   ]
  },
  {
   "cell_type": "code",
   "execution_count": null,
   "metadata": {},
   "outputs": [],
   "source": [
    "with open('world.p', 'wb') as pickle_file:\n",
    "    pickle.dump(world, pickle_file)"
   ]
  },
  {
   "cell_type": "code",
   "execution_count": null,
   "metadata": {},
   "outputs": [],
   "source": []
  },
  {
   "cell_type": "code",
   "execution_count": null,
   "metadata": {},
   "outputs": [],
   "source": []
  }
 ],
 "metadata": {
  "kernelspec": {
   "display_name": "Python 3",
   "language": "python",
   "name": "python3"
  },
  "language_info": {
   "codemirror_mode": {
    "name": "ipython",
    "version": 3
   },
   "file_extension": ".py",
   "mimetype": "text/x-python",
   "name": "python",
   "nbconvert_exporter": "python",
   "pygments_lexer": "ipython3",
   "version": "3.7.3"
  }
 },
 "nbformat": 4,
 "nbformat_minor": 2
}
