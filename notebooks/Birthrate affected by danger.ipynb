{
 "cells": [
  {
   "cell_type": "markdown",
   "metadata": {},
   "source": [
    "# Setting towns and people to react to changes in thier environment. \n",
    "\n"
   ]
  },
  {
   "cell_type": "code",
   "execution_count": 1,
   "metadata": {},
   "outputs": [],
   "source": [
    "#I'm mapping to the actual files in the repo so that I can also use this to troubleshoot\n",
    "import os\n",
    "import sys\n",
    "import numpy as np\n",
    "import pandas as pd\n",
    "import pickle\n",
    "import django\n",
    "sys.path.append('../..')\n",
    "#Loading my project settings from prodweb. This allows me to load and query models. \n",
    "os.environ.setdefault('DJANGO_SETTINGS_MODULE', 'prodweb.settings')\n",
    "django.setup()\n",
    "\n",
    "\n",
    "with (open(\"../pickles/BillmanLocalworld.pkl\", 'rb')) as pickle_file:\n",
    "    world = pickle.load(pickle_file)"
   ]
  },
  {
   "cell_type": "code",
   "execution_count": 2,
   "metadata": {
    "scrolled": true
   },
   "outputs": [],
   "source": [
    "sys.path.append('..')\n",
    "from lib.builders import world as w"
   ]
  },
  {
   "cell_type": "markdown",
   "metadata": {},
   "source": [
    "The area around a town is dangerous. "
   ]
  },
  {
   "cell_type": "code",
   "execution_count": 3,
   "metadata": {},
   "outputs": [
    {
     "data": {
      "text/plain": [
       "[capitol of Soilmoral. Location: [20:9]. Founded 1100 </br>In the nation of Icehenge,\n",
       " capitol of Hellpike. Location: [16:25]. Founded 1101 </br>In the nation of Spinhail,\n",
       " capitol of Watermain. Location: [30:5]. Founded 1102 </br>In the nation of Rockbrook,\n",
       " town of Camhaven. Location: [23:22]. Founded 1103 </br>In the nation of Spinhail,\n",
       " capitol of Heirmelt. Location: [10:0]. Founded 1104 </br>In the nation of Hardlair,\n",
       " capitol of Oakmoral. Location: [2:25]. Founded 1105 </br>In the nation of Lordsplace,\n",
       " town of Iceward. Location: [9:27]. Founded 1106 </br>In the nation of Waterpike,\n",
       " capitol of Splitplace. Location: [16:19]. Founded 1107 </br>In the nation of Landsmoral,\n",
       " capitol of Lionplace. Location: [8:10]. Founded 1108 </br>In the nation of Coreridge,\n",
       " capitol of Badgerblaze. Location: [9:29]. Founded 1109 </br>In the nation of Waterpike,\n",
       " town of Solspike. Location: [14:17]. Founded 1110 </br>In the nation of Landsmoral,\n",
       " town of Tearridge. Location: [17:25]. Founded 1111 </br>In the nation of Spinhail,\n",
       " town of Servantsrun. Location: [24:8]. Founded 1112 </br>In the nation of Icehenge,\n",
       " town of Soilhammer. Location: [8:26]. Founded 1113 </br>In the nation of Waterpike,\n",
       " town of Heartmelt. Location: [8:28]. Founded 1114 </br>In the nation of Waterpike,\n",
       " town of Splithollow. Location: [17:13]. Founded 1115 </br>In the nation of Landsmoral,\n",
       " town of Kingsblaze. Location: [37:11]. Founded 1116 </br>In the nation of Rockbrook,\n",
       " town of Soilmain. Location: [33:2]. Founded 1117 </br>In the nation of Rockbrook,\n",
       " town of Camfold. Location: [22:2]. Founded 1118 </br>In the nation of Icehenge,\n",
       " town of Brineblaze. Location: [19:14]. Founded 1119 </br>In the nation of Landsmoral,\n",
       " town of Rockspike. Location: [4:19]. Founded 1120 </br>In the nation of Lordsplace,\n",
       " town of Foundersmore. Location: [38:4]. Founded 1121 </br>In the nation of Rockbrook]"
      ]
     },
     "execution_count": 3,
     "metadata": {},
     "output_type": "execute_result"
    }
   ],
   "source": [
    "world.towns"
   ]
  },
  {
   "cell_type": "code",
   "execution_count": 4,
   "metadata": {},
   "outputs": [
    {
     "data": {
      "text/plain": [
       "[0.42611111111111105,\n",
       " 0.7429999999999999,\n",
       " 0.4255555555555555,\n",
       " 0.39822222222222226,\n",
       " 0.5195,\n",
       " 0.43399999999999994,\n",
       " 0.5425555555555556,\n",
       " 0.5887777777777777,\n",
       " 0.5832222222222223,\n",
       " 0.4716666666666667,\n",
       " 0.6359999999999999,\n",
       " 0.6731111111111111,\n",
       " 0.25466666666666665,\n",
       " 0.5245555555555556,\n",
       " 0.3965555555555555,\n",
       " 0.7381111111111109,\n",
       " 0.5108888888888888,\n",
       " 0.7025555555555556,\n",
       " 0.6032222222222222,\n",
       " 0.6307777777777777,\n",
       " 0.532888888888889,\n",
       " 0.7266666666666668]"
      ]
     },
     "execution_count": 4,
     "metadata": {},
     "output_type": "execute_result"
    }
   ],
   "source": [
    "[t.get_surrounding_area(world)['danger'].mean() for t in world.towns]"
   ]
  },
  {
   "cell_type": "markdown",
   "metadata": {},
   "source": [
    "The `birthrate` then should be set to `1-danger`"
   ]
  },
  {
   "cell_type": "code",
   "execution_count": 5,
   "metadata": {},
   "outputs": [
    {
     "data": {
      "text/plain": [
       "[0.5738888888888889,\n",
       " 0.2570000000000001,\n",
       " 0.5744444444444445,\n",
       " 0.6017777777777777,\n",
       " 0.48050000000000004,\n",
       " 0.5660000000000001,\n",
       " 0.45744444444444443,\n",
       " 0.41122222222222227,\n",
       " 0.4167777777777777,\n",
       " 0.5283333333333333,\n",
       " 0.3640000000000001,\n",
       " 0.3268888888888889,\n",
       " 0.7453333333333334,\n",
       " 0.47544444444444445,\n",
       " 0.6034444444444444,\n",
       " 0.26188888888888906,\n",
       " 0.48911111111111116,\n",
       " 0.2974444444444444,\n",
       " 0.3967777777777778,\n",
       " 0.36922222222222234,\n",
       " 0.46711111111111103,\n",
       " 0.2733333333333332]"
      ]
     },
     "execution_count": 5,
     "metadata": {},
     "output_type": "execute_result"
    }
   ],
   "source": [
    "[t.get_birthrate(world) for t in world.towns]"
   ]
  },
  {
   "cell_type": "markdown",
   "metadata": {},
   "source": [
    "now there is a `population_gen` that happens in the world generation process (with no danger to base on)\n",
    "\n",
    "and annother`population_growth` that uses the `birthrate` metric. "
   ]
  },
  {
   "cell_type": "code",
   "execution_count": null,
   "metadata": {},
   "outputs": [],
   "source": []
  },
  {
   "cell_type": "code",
   "execution_count": null,
   "metadata": {},
   "outputs": [],
   "source": []
  }
 ],
 "metadata": {
  "kernelspec": {
   "display_name": "Python (prodweb)",
   "language": "python",
   "name": "prodweb"
  },
  "language_info": {
   "codemirror_mode": {
    "name": "ipython",
    "version": 3
   },
   "file_extension": ".py",
   "mimetype": "text/x-python",
   "name": "python",
   "nbconvert_exporter": "python",
   "pygments_lexer": "ipython3",
   "version": "3.8.1"
  }
 },
 "nbformat": 4,
 "nbformat_minor": 4
}
