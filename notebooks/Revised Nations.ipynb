{
 "cells": [
  {
   "cell_type": "markdown",
   "metadata": {},
   "source": [
    "# Redesign of nations and how they are created. \n",
    "\n",
    "Events are happening all the time. Several events happen before the Character quest begins. "
   ]
  },
  {
   "cell_type": "code",
   "execution_count": 1,
   "metadata": {},
   "outputs": [],
   "source": [
    "%load_ext lab_black\n",
    "\n",
    "import pandas as pd\n",
    "import numpy as np\n",
    "import os\n",
    "\n",
    "import os\n",
    "import sys\n",
    "import django\n",
    "\n",
    "sys.path.append(\"../..\")\n",
    "# Loading my project settings from prodweb. This allows me to load and query models.\n",
    "os.environ.setdefault(\"DJANGO_SETTINGS_MODULE\", \"prodweb.settings\")\n",
    "django.setup()\n",
    "\n",
    "# I'm mapping to the actual files in the repo so that I can also use this to troubleshoot\n",
    "import sys, pickle\n",
    "\n",
    "sys.path.append(\"../\")\n",
    "from lib.builders import people, towns\n",
    "import lib.drawMaps as draw"
   ]
  },
  {
   "cell_type": "code",
   "execution_count": 2,
   "metadata": {},
   "outputs": [],
   "source": [
    "with (open(\"../pickles/billmanhworld.pkl\", \"rb\")) as pickle_file:\n",
    "    world = pickle.load(pickle_file)"
   ]
  },
  {
   "cell_type": "code",
   "execution_count": 3,
   "metadata": {},
   "outputs": [],
   "source": [
    "from sklearn.cluster import KMeans\n",
    "\n",
    "\n",
    "def cluster_nations(world):\n",
    "    cities = world.df_features[world.df_features[\"terrain\"] == \"town\"]\n",
    "    world.df_features[\"nation number\"] = np.nan\n",
    "    k = KMeans(init=\"k-means++\", n_clusters=world.culture.n_nations, n_init=10).fit(\n",
    "        cities[[\"x\", \"y\"]]\n",
    "    )\n",
    "    predict_nations(k, world)\n",
    "    label_nations(k, world)\n",
    "    return k\n",
    "\n",
    "\n",
    "def label_nations(k, world):\n",
    "    world.nations = []\n",
    "    for n in np.unique(k.labels_):\n",
    "        nation = Nation(world, k=n)\n",
    "        world.nations.append(nation)\n",
    "\n",
    "\n",
    "def assign_nation(x, world):\n",
    "    if x == x:\n",
    "        return world.nations[int(x)].name\n",
    "    else:\n",
    "        return np.nan\n",
    "\n",
    "\n",
    "def predict_nations(k_means, world):\n",
    "    world_not_ocean = world.df_features.loc[(world.df_features[\"terrain\"] != \"ocean\")]\n",
    "    predicted_nations = k_means.predict(world_not_ocean[[\"x\", \"y\"]])\n",
    "    world.df_features.loc[\n",
    "        (world.df_features[\"terrain\"] != \"ocean\"), \"nation number\"\n",
    "    ] = [int(i) for i in predicted_nations]\n",
    "    world.df_features[\"nation\"] = world.df_features[\"nation number\"].apply(\n",
    "        lambda x: assign_nation(x, world)\n",
    "    )\n",
    "\n",
    "\n",
    "class Nation:\n",
    "    def __init__(self, world, **kwargs):\n",
    "        self.name = self.name_nation(world)\n",
    "        if kwargs.get(\"k\", None):\n",
    "            # Kmeans is the default (when the world is created)\n",
    "            # Requires the integer value used when creating the world.\n",
    "            self.cast_nation(world, kwargs.get(\"k\"))\n",
    "            self.towns = self.addTowns(world)\n",
    "\n",
    "        self.diplomacy = self.add_diplomacy(world)\n",
    "\n",
    "    def cast_nation(self, world, k):\n",
    "        world.df_features.loc[\n",
    "            world.df_features[\"nation number\"] == k, \"nation\"\n",
    "        ] = self.name\n",
    "\n",
    "    def add_towns(self, world):\n",
    "        towns = [\n",
    "            town\n",
    "            for town in world.towns\n",
    "            if town.diplomacy.get(\"nation\", \"none\") == self.name\n",
    "        ]\n",
    "        return towns\n",
    "\n",
    "    def name_nation(self, world):\n",
    "        \"\"\"\n",
    "        lables a list of nations from a k-means cluster\n",
    "        \"\"\"\n",
    "        nation_name = world.culture.townNameGenerator()\n",
    "        return nation_name\n",
    "\n",
    "    def __repr__(self):\n",
    "        return f\"Nation of {self.name}\"\n",
    "\n",
    "    def addTowns(self, world):\n",
    "        towns = [\n",
    "            town\n",
    "            for town in world.towns\n",
    "            if town.diplomacy.get(\"nation\", \"none\") == self.name\n",
    "        ]\n",
    "        self.towns = towns\n",
    "\n",
    "    def get_capitol(self):\n",
    "        c = [t for t in self.towns if t.type == \"capitol\"][0]\n",
    "        return c\n",
    "\n",
    "    def get_random_town(self):\n",
    "        return np.random.choice(self.towns)\n",
    "\n",
    "    def getRuler_str(self):\n",
    "        return self.ruler.name\n",
    "\n",
    "    def getRuler(self):\n",
    "        return self.ruler\n",
    "\n",
    "    def add_diplomacy(self, world):\n",
    "        # if the world already has nations, then this is a new nation.\n",
    "        diplomacy = {}\n",
    "        otherNations = [n for n in world.nations if n.name != self.name]\n",
    "        for o in otherNations:\n",
    "            diplomacy[o] = {\"favor\": 0.8}\n",
    "        return diplomacy\n",
    "\n",
    "    def get_deplomacy_df(self):\n",
    "        d = pd.DataFrame(self.diplomacy).T.reset_index(drop=False)\n",
    "        d[\"nation\"] = self.name\n",
    "        d.columns = [\"neighbor\", \"favor\", \"stance\", \"nation\"]\n",
    "        return d[[\"nation\", \"neighbor\", \"favor\", \"stance\"]]\n",
    "\n",
    "    def appointRuler(self, person):\n",
    "        t = self.getCapitol_str(self.towns)\n",
    "        self.ruler = person(f\"ruler of {self.name}\", t)\n",
    "\n",
    "\n",
    "# nation = Nation(world,k=0)\n",
    "# print(nation)"
   ]
  },
  {
   "cell_type": "code",
   "execution_count": 4,
   "metadata": {},
   "outputs": [],
   "source": [
    "k = cluster_nations(world)"
   ]
  },
  {
   "cell_type": "code",
   "execution_count": 5,
   "metadata": {},
   "outputs": [],
   "source": [
    "# [[town for town in nation.towns] for nation in world.nations]"
   ]
  },
  {
   "cell_type": "code",
   "execution_count": 6,
   "metadata": {},
   "outputs": [
    {
     "data": {
      "text/html": [
       "<div>\n",
       "<style scoped>\n",
       "    .dataframe tbody tr th:only-of-type {\n",
       "        vertical-align: middle;\n",
       "    }\n",
       "\n",
       "    .dataframe tbody tr th {\n",
       "        vertical-align: top;\n",
       "    }\n",
       "\n",
       "    .dataframe thead th {\n",
       "        text-align: right;\n",
       "    }\n",
       "</style>\n",
       "<table border=\"1\" class=\"dataframe\">\n",
       "  <thead>\n",
       "    <tr style=\"text-align: right;\">\n",
       "      <th></th>\n",
       "      <th>nation number</th>\n",
       "    </tr>\n",
       "    <tr>\n",
       "      <th>nation</th>\n",
       "      <th></th>\n",
       "    </tr>\n",
       "  </thead>\n",
       "  <tbody>\n",
       "    <tr>\n",
       "      <th>Earthbrook</th>\n",
       "      <td>0.0</td>\n",
       "    </tr>\n",
       "    <tr>\n",
       "      <th>Camrise</th>\n",
       "      <td>1.0</td>\n",
       "    </tr>\n",
       "    <tr>\n",
       "      <th>Badgerchild</th>\n",
       "      <td>2.0</td>\n",
       "    </tr>\n",
       "    <tr>\n",
       "      <th>Snowcombe</th>\n",
       "      <td>3.0</td>\n",
       "    </tr>\n",
       "    <tr>\n",
       "      <th>Purerest</th>\n",
       "      <td>4.0</td>\n",
       "    </tr>\n",
       "    <tr>\n",
       "      <th>Servantslight</th>\n",
       "      <td>5.0</td>\n",
       "    </tr>\n",
       "    <tr>\n",
       "      <th>Buckspike</th>\n",
       "      <td>6.0</td>\n",
       "    </tr>\n",
       "    <tr>\n",
       "      <th>Magerest</th>\n",
       "      <td>7.0</td>\n",
       "    </tr>\n",
       "  </tbody>\n",
       "</table>\n",
       "</div>"
      ],
      "text/plain": [
       "               nation number\n",
       "nation                      \n",
       "Earthbrook               0.0\n",
       "Camrise                  1.0\n",
       "Badgerchild              2.0\n",
       "Snowcombe                3.0\n",
       "Purerest                 4.0\n",
       "Servantslight            5.0\n",
       "Buckspike                6.0\n",
       "Magerest                 7.0"
      ]
     },
     "execution_count": 6,
     "metadata": {},
     "output_type": "execute_result"
    }
   ],
   "source": [
    "world.df_features.loc[\n",
    "    world.df_features[\"terrain\"] != \"ocean\", [\"nation number\", \"nation\"]\n",
    "].groupby(\"nation\").mean().sort_values(\"nation number\")"
   ]
  },
  {
   "cell_type": "code",
   "execution_count": 7,
   "metadata": {},
   "outputs": [
    {
     "data": {
      "text/plain": [
       "[(0, Nation of Camhammer),\n",
       " (1, Nation of Camrise),\n",
       " (2, Nation of Badgerchild),\n",
       " (3, Nation of Snowcombe),\n",
       " (4, Nation of Purerest),\n",
       " (5, Nation of Servantslight),\n",
       " (6, Nation of Buckspike),\n",
       " (7, Nation of Magerest)]"
      ]
     },
     "execution_count": 7,
     "metadata": {},
     "output_type": "execute_result"
    }
   ],
   "source": [
    "[(i, e) for i, e in enumerate(world.nations)]"
   ]
  },
  {
   "cell_type": "code",
   "execution_count": 8,
   "metadata": {},
   "outputs": [
    {
     "ename": "NameError",
     "evalue": "name 'n' is not defined",
     "output_type": "error",
     "traceback": [
      "\u001b[0;31m---------------------------------------------------------------------------\u001b[0m",
      "\u001b[0;31mNameError\u001b[0m                                 Traceback (most recent call last)",
      "\u001b[0;32m<ipython-input-8-054f806d4c71>\u001b[0m in \u001b[0;36m<module>\u001b[0;34m\u001b[0m\n\u001b[0;32m----> 1\u001b[0;31m \u001b[0mn\u001b[0m\u001b[0;34m.\u001b[0m\u001b[0mtowns\u001b[0m\u001b[0;34m\u001b[0m\u001b[0;34m\u001b[0m\u001b[0m\n\u001b[0m",
      "\u001b[0;31mNameError\u001b[0m: name 'n' is not defined"
     ]
    }
   ],
   "source": [
    "n.towns"
   ]
  },
  {
   "cell_type": "code",
   "execution_count": null,
   "metadata": {},
   "outputs": [],
   "source": []
  }
 ],
 "metadata": {
  "kernelspec": {
   "display_name": "Python 3",
   "language": "python",
   "name": "python3"
  },
  "language_info": {
   "codemirror_mode": {
    "name": "ipython",
    "version": 3
   },
   "file_extension": ".py",
   "mimetype": "text/x-python",
   "name": "python",
   "nbconvert_exporter": "python",
   "pygments_lexer": "ipython3",
   "version": "3.7.3"
  }
 },
 "nbformat": 4,
 "nbformat_minor": 2
}
