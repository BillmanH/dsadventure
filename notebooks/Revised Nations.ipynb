{
 "cells": [
  {
   "cell_type": "markdown",
   "metadata": {},
   "source": [
    "# Redesign of nations and how they are created. \n",
    "\n",
    "Events are happening all the time. Several events happen before the Character quest begins. "
   ]
  },
  {
   "cell_type": "code",
   "execution_count": 1,
   "metadata": {},
   "outputs": [],
   "source": [
    "import pandas as pd\n",
    "import numpy as np\n",
    "import os\n",
    "\n",
    "import os\n",
    "import sys\n",
    "import django\n",
    "sys.path.append('../..')\n",
    "#Loading my project settings from prodweb. This allows me to load and query models. \n",
    "os.environ.setdefault('DJANGO_SETTINGS_MODULE', 'prodweb.settings')\n",
    "django.setup()\n",
    "\n",
    "#I'm mapping to the actual files in the repo so that I can also use this to troubleshoot\n",
    "import sys,pickle\n",
    "sys.path.append('../')\n",
    "from lib.builders import people,towns\n",
    "\n",
    "with (open(\"../pickles/billmanhworld.pkl\", 'rb')) as pickle_file:\n",
    "    world = pickle.load(pickle_file)"
   ]
  },
  {
   "cell_type": "code",
   "execution_count": 2,
   "metadata": {},
   "outputs": [
    {
     "name": "stdout",
     "output_type": "stream",
     "text": [
      "Nation of Ragefort\n"
     ]
    }
   ],
   "source": [
    "from sklearn.cluster import KMeans\n",
    "\n",
    "def cluster_nations(world):\n",
    "    cities = world.df_features[world.df_features['terrain']=='town']\n",
    "    k = KMeans(init='k-means++', n_clusters=world.culture.n_nations, n_init=10)\n",
    "    k.fit(cities[['x','y']])\n",
    "    labelNations(k,world)\n",
    "\n",
    "def labelNations(k,world):\n",
    "    world.nations = []\n",
    "    for n in np.unique(k.labels_):\n",
    "        nation = Nation(world,k=n)\n",
    "        world.nations.append(nation)\n",
    "        \n",
    "\n",
    "class Nation:\n",
    "    def __init__(self,world,**kwargs):\n",
    "        self.name = self.name_nation(world)\n",
    "        if kwargs.get(\"k\",None):\n",
    "            #Kmeans is the default (when the world is created)\n",
    "            #Requires the integer value used when creating the world. \n",
    "            self.cast_nation(world,kwargs.get(\"k\"))\n",
    "            self.towns = self.addTowns(world)\n",
    "        \n",
    "        self.diplomacy = self.add_diplomacy(world)\n",
    "    \n",
    "    def cast_nation(self,world,k):\n",
    "        world.df_features.loc[world.df_features['nation number']==k] = self.name\n",
    "        \n",
    "    def add_towns(self,world):\n",
    "        towns = [town for town in world.towns \n",
    "                 if town.diplomacy.get('nation','none')==self.name] \n",
    "        return towns\n",
    "    \n",
    "    def name_nation(self,world):\n",
    "        \"\"\"\n",
    "        lables a list of nations from a k-means cluster\n",
    "        \"\"\"\n",
    "        nation_name = world.culture.townNameGenerator()\n",
    "        return nation_name\n",
    "\n",
    "    def __repr__(self):\n",
    "        return f\"Nation of {self.name}\"\n",
    "       \n",
    "    def addTowns(self,world):\n",
    "        towns = [town for town in world.towns \n",
    "                 if town.diplomacy.get('nation','none')==self.name]\n",
    "        self.towns = towns\n",
    "        \n",
    "    def get_capitol(self):\n",
    "        c = [t for t in self.towns if t.type == 'capitol'][0]\n",
    "        return c\n",
    "    \n",
    "    def get_random_town(self):\n",
    "        return np.random.choice(self.towns)\n",
    "\n",
    "    def getRuler_str(self):\n",
    "        return self.ruler.name\n",
    "    \n",
    "    def getRuler(self):\n",
    "        return self.ruler\n",
    "    \n",
    "    def add_diplomacy(self,world):\n",
    "        # if the world already has nations, then this is a new nation. \n",
    "        diplomacy = {}\n",
    "        otherNations = [n for n in world.nations if n.name != self.name]\n",
    "        for o in otherNations:\n",
    "            diplomacy[o] = {'favor':.8}\n",
    "        return diplomacy\n",
    "    \n",
    "    def get_deplomacy_df(self):\n",
    "        d = pd.DataFrame(self.diplomacy).T.reset_index(drop=False)\n",
    "        d['nation'] = self.name\n",
    "        d.columns = ['neighbor','favor','stance','nation']\n",
    "        return d[['nation','neighbor','favor','stance']]\n",
    "            \n",
    "    def appointRuler(self,person):\n",
    "        t = self.getCapitol_str(self.towns)\n",
    "        self.ruler = person(f'ruler of {self.name}',t)\n",
    "        \n",
    "nation = Nation(world,k=0)\n",
    "print(nation)"
   ]
  },
  {
   "cell_type": "code",
   "execution_count": 3,
   "metadata": {},
   "outputs": [],
   "source": [
    "cluster_nations(world)"
   ]
  },
  {
   "cell_type": "code",
   "execution_count": 4,
   "metadata": {},
   "outputs": [
    {
     "data": {
      "text/plain": [
       "[Nation of Brinelight,\n",
       " Nation of Warkeep,\n",
       " Nation of Lordscombe,\n",
       " Nation of Gleamlair,\n",
       " Nation of Clearmain,\n",
       " Nation of Heartforth,\n",
       " Nation of Stenchtown,\n",
       " Nation of Solrun]"
      ]
     },
     "execution_count": 4,
     "metadata": {},
     "output_type": "execute_result"
    }
   ],
   "source": [
    "world.nations"
   ]
  },
  {
   "cell_type": "code",
   "execution_count": 5,
   "metadata": {},
   "outputs": [
    {
     "ename": "AttributeError",
     "evalue": "'Nation' object has no attribute 'towns'",
     "output_type": "error",
     "traceback": [
      "\u001b[0;31m---------------------------------------------------------------------------\u001b[0m",
      "\u001b[0;31mAttributeError\u001b[0m                            Traceback (most recent call last)",
      "\u001b[0;32m<ipython-input-5-fdb6846c4426>\u001b[0m in \u001b[0;36m<module>\u001b[0;34m\u001b[0m\n\u001b[0;32m----> 1\u001b[0;31m \u001b[0;34m[\u001b[0m\u001b[0;34m[\u001b[0m\u001b[0mtown\u001b[0m \u001b[0;32mfor\u001b[0m \u001b[0mtown\u001b[0m \u001b[0;32min\u001b[0m \u001b[0mnation\u001b[0m\u001b[0;34m.\u001b[0m\u001b[0mtowns\u001b[0m\u001b[0;34m]\u001b[0m \u001b[0;32mfor\u001b[0m \u001b[0mnation\u001b[0m \u001b[0;32min\u001b[0m \u001b[0mworld\u001b[0m\u001b[0;34m.\u001b[0m\u001b[0mnations\u001b[0m\u001b[0;34m]\u001b[0m\u001b[0;34m\u001b[0m\u001b[0;34m\u001b[0m\u001b[0m\n\u001b[0m",
      "\u001b[0;32m<ipython-input-5-fdb6846c4426>\u001b[0m in \u001b[0;36m<listcomp>\u001b[0;34m(.0)\u001b[0m\n\u001b[0;32m----> 1\u001b[0;31m \u001b[0;34m[\u001b[0m\u001b[0;34m[\u001b[0m\u001b[0mtown\u001b[0m \u001b[0;32mfor\u001b[0m \u001b[0mtown\u001b[0m \u001b[0;32min\u001b[0m \u001b[0mnation\u001b[0m\u001b[0;34m.\u001b[0m\u001b[0mtowns\u001b[0m\u001b[0;34m]\u001b[0m \u001b[0;32mfor\u001b[0m \u001b[0mnation\u001b[0m \u001b[0;32min\u001b[0m \u001b[0mworld\u001b[0m\u001b[0;34m.\u001b[0m\u001b[0mnations\u001b[0m\u001b[0;34m]\u001b[0m\u001b[0;34m\u001b[0m\u001b[0;34m\u001b[0m\u001b[0m\n\u001b[0m",
      "\u001b[0;31mAttributeError\u001b[0m: 'Nation' object has no attribute 'towns'"
     ]
    }
   ],
   "source": [
    "[[town for town in nation.towns] for nation in world.nations]"
   ]
  },
  {
   "cell_type": "code",
   "execution_count": 7,
   "metadata": {},
   "outputs": [],
   "source": [
    "n = world.nations[1]"
   ]
  },
  {
   "cell_type": "code",
   "execution_count": 8,
   "metadata": {},
   "outputs": [],
   "source": [
    "n.towns"
   ]
  },
  {
   "cell_type": "code",
   "execution_count": null,
   "metadata": {},
   "outputs": [],
   "source": []
  }
 ],
 "metadata": {
  "kernelspec": {
   "display_name": "Python 3",
   "language": "python",
   "name": "python3"
  },
  "language_info": {
   "codemirror_mode": {
    "name": "ipython",
    "version": 3
   },
   "file_extension": ".py",
   "mimetype": "text/x-python",
   "name": "python",
   "nbconvert_exporter": "python",
   "pygments_lexer": "ipython3",
   "version": "3.7.3"
  }
 },
 "nbformat": 4,
 "nbformat_minor": 2
}
