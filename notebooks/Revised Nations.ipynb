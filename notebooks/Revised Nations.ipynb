{
 "cells": [
  {
   "cell_type": "markdown",
   "metadata": {},
   "source": [
    "# Redesign of nations and how they are created. \n",
    "\n",
    "Events are happening all the time. Several events happen before the Character quest begins. "
   ]
  },
  {
   "cell_type": "code",
   "execution_count": 1,
   "metadata": {},
   "outputs": [],
   "source": [
    "import pandas as pd\n",
    "import numpy as np\n",
    "import os\n",
    "\n",
    "import os\n",
    "import sys\n",
    "import django\n",
    "\n",
    "import altair as alt\n",
    "\n",
    "sys.path.append(\"../..\")\n",
    "# Loading my project settings from prodweb. This allows me to load and query models.\n",
    "os.environ.setdefault(\"DJANGO_SETTINGS_MODULE\", \"prodweb.settings\")\n",
    "django.setup()\n",
    "\n",
    "# I'm mapping to the actual files in the repo so that I can also use this to troubleshoot\n",
    "import sys, pickle\n",
    "\n",
    "sys.path.append(\"../\")\n",
    "from lib.builders import people, towns, world as w\n",
    "import lib.drawMaps as draw\n",
    "\n",
    "pd.set_option(\"display.max_columns\", 10)\n",
    "pd.set_option(\"display.max_rows\", 10)\n",
    "%load_ext lab_black"
   ]
  },
  {
   "cell_type": "code",
   "execution_count": 2,
   "metadata": {},
   "outputs": [],
   "source": [
    "with (open(\"../pickles/billmanhworld.pkl\", \"rb\")) as pickle_file:\n",
    "    world = pickle.load(pickle_file)"
   ]
  },
  {
   "cell_type": "markdown",
   "metadata": {},
   "source": [
    "## This will be the new Nations builder module. "
   ]
  },
  {
   "cell_type": "code",
   "execution_count": 28,
   "metadata": {},
   "outputs": [],
   "source": [
    "from sklearn.cluster import KMeans\n",
    "\n",
    "\n",
    "def cluster_nations(world):\n",
    "    cities = world.df_features[world.df_features[\"terrain\"] == \"town\"]\n",
    "    world.nations = []\n",
    "    world.df_features[\"nation number\"] = np.nan\n",
    "    world.df_features[\"nation\"] = np.nan\n",
    "    #     world.df_features[\"nation number\"] = world.df_features[\"nation number\"].\n",
    "    k = KMeans(init=\"k-means++\", n_clusters=world.culture.n_nations, n_init=10).fit(\n",
    "        cities[[\"x\", \"y\"]]\n",
    "    )\n",
    "    world.nations_k = k\n",
    "    predict_nations(world)\n",
    "    world.nations = [\n",
    "        Nation(world, cluster=True, k=i) for i in np.unique(world.nations_k.labels_)\n",
    "    ]\n",
    "    return k\n",
    "\n",
    "\n",
    "def predict_nations(world):\n",
    "    world.df_features[\"nation number\"] = world.nations_k.predict(\n",
    "        world.df_features[[\"x\", \"y\"]]\n",
    "    )\n",
    "\n",
    "\n",
    "class Nation:\n",
    "    def __init__(self, world, **kwargs):\n",
    "        self.name = self.name_nation(world)\n",
    "        if kwargs.get(\"cluster\", None):\n",
    "            # Kmeans is the default (when the world is created)\n",
    "            # Requires the integer value used when creating the world.\n",
    "            self.cast_nation(world, kwargs.get(\"k\"))\n",
    "        self.diplomacy = {}\n",
    "        self.capitol = None\n",
    "\n",
    "    def cast_nation(self, world, k):\n",
    "        world.df_features.loc[\n",
    "            world.df_features[\"nation number\"] == k, \"nation\"\n",
    "        ] = self.name\n",
    "\n",
    "    def name_nation(self, world):\n",
    "        nation_name = world.culture.townNameGenerator()\n",
    "        return nation_name\n",
    "\n",
    "    def __repr__(self):\n",
    "        return f\"Nation of {self.name}\"\n",
    "\n",
    "    def set_capitol(self, world):\n",
    "        ts = self.get_all_towns(world)\n",
    "        cap = [\n",
    "            t for t in ts if len(t.population) == max([len(t.population) for t in ts])\n",
    "        ][0]\n",
    "        cap.type = \"capitol\"\n",
    "        self.capitol = cap\n",
    "\n",
    "    def get_capitol(self, world):\n",
    "        ts = self.get_all_towns(world)\n",
    "        cap = [t for t in ts if t.type == \"capitol\"][0]\n",
    "        return cap\n",
    "\n",
    "    def get_all_towns(self, world):\n",
    "        all_towns = world.df_features.loc[\n",
    "            (world.df_features[\"nation\"] == self.name)\n",
    "            & (world.df_features[\"terrain\"] == \"town\"),\n",
    "            \"feature\",\n",
    "        ].unique()\n",
    "        return [t for t in world.towns if t.name in all_towns]\n",
    "\n",
    "    def get_random_town(self):\n",
    "        return np.random.choice(self.towns)\n",
    "\n",
    "    def getRuler(self):\n",
    "        if self.ruler:\n",
    "            return self.ruler\n",
    "        else:\n",
    "            return None\n",
    "\n",
    "    def get_deplomacy_df(self):\n",
    "        d = pd.DataFrame(self.diplomacy).T.reset_index(drop=False)\n",
    "        d[\"nation\"] = self.name\n",
    "        d.columns = [\"neighbor\", \"favor\", \"stance\", \"nation\"]\n",
    "        return d[[\"nation\", \"neighbor\", \"favor\", \"stance\"]]\n",
    "\n",
    "\n",
    "def appointRuler(world, person):\n",
    "    t = self.get_capitol(self,world)\n",
    "    nation.ruler = person(f\"ruler of {self.name}\", t)\n",
    "\n",
    "\n",
    "# nation = Nation(world,k=0)\n",
    "# print(nation)"
   ]
  },
  {
   "cell_type": "code",
   "execution_count": 29,
   "metadata": {},
   "outputs": [
    {
     "data": {
      "text/plain": [
       "KMeans(algorithm='auto', copy_x=True, init='k-means++', max_iter=300,\n",
       "       n_clusters=8, n_init=10, n_jobs=None, precompute_distances='auto',\n",
       "       random_state=None, tol=0.0001, verbose=0)"
      ]
     },
     "execution_count": 29,
     "metadata": {},
     "output_type": "execute_result"
    }
   ],
   "source": [
    "k = cluster_nations(world)\n",
    "k"
   ]
  },
  {
   "cell_type": "code",
   "execution_count": 30,
   "metadata": {},
   "outputs": [],
   "source": [
    "n = world.nations[1]"
   ]
  },
  {
   "cell_type": "code",
   "execution_count": 31,
   "metadata": {},
   "outputs": [
    {
     "data": {
      "text/plain": [
       "capitol of Hardrest: population: 2 location: [17,34] founded 0"
      ]
     },
     "execution_count": 31,
     "metadata": {},
     "output_type": "execute_result"
    }
   ],
   "source": [
    "n.get_capitol(world)"
   ]
  },
  {
   "cell_type": "code",
   "execution_count": 40,
   "metadata": {},
   "outputs": [
    {
     "name": "stdout",
     "output_type": "stream",
     "text": [
      "38:16 town\n",
      "17:34 town\n",
      "3:31 town\n",
      "35:32 town\n",
      "25:27 town\n",
      "13:37 town\n",
      "9:28 town\n",
      "5:24 town\n"
     ]
    },
    {
     "data": {
      "text/plain": [
       "[None, None, None, None, None, None, None, None]"
      ]
     },
     "execution_count": 40,
     "metadata": {},
     "output_type": "execute_result"
    }
   ],
   "source": [
    "def appointRuler(world, n, people):\n",
    "    t = n.get_capitol(world)\n",
    "    n.ruler = people.Person(world, role=f\"ruler of {n.name}\", location=t.key)\n",
    "\n",
    "\n",
    "[appointRuler(world, n, people) for n in world.nations]"
   ]
  },
  {
   "cell_type": "code",
   "execution_count": 38,
   "metadata": {},
   "outputs": [
    {
     "data": {
      "text/plain": [
       "[Traboldoh the Speaker of Ravenlair,\n",
       " Xacarror the Speaker of Hardrest,\n",
       " Dakillale the Speaker of Doomcraft,\n",
       " Lolarkove the Speaker of Kingsspike,\n",
       " Delindnan the commoner,\n",
       " Negordab the commoner,\n",
       " Ortoldif the Speaker of Badgerspring,\n",
       " Chirdic the commoner,\n",
       " Quacanace the commoner,\n",
       " Mowallos the Speaker of Rageloch,\n",
       " Mayellen the commoner,\n",
       " Erebrot the Speaker of Earthhammer,\n",
       " Pagged the Speaker of Tearjaw,\n",
       " Meflish the commoner,\n",
       " Fedrove the Speaker of Mageblade,\n",
       " Stiparted the commoner,\n",
       " Groshorg the commoner,\n",
       " Lapeltark the commoner,\n",
       " Zhonnomir the Speaker of Waterjaw,\n",
       " Figrunder the Speaker of Ragerise,\n",
       " Volarkot the commoner,\n",
       " Toharkorb the commoner,\n",
       " Elelandunder the commoner,\n",
       " Elinettort the commoner,\n",
       " Ulcksenton the Speaker of Hardmark,\n",
       " Alocksoh the Speaker of Coreblade,\n",
       " Grobrunt the commoner,\n",
       " Thelleh the commoner,\n",
       " Sascelton the commoner,\n",
       " Xassis the commoner,\n",
       " Xakkottle the commoner,\n",
       " Stummard the Speaker of Fallford,\n",
       " Zhoscob the Speaker of Ragecrawl,\n",
       " Stufarrace the commoner,\n",
       " Dalnart the commoner,\n",
       " Krafalloe the commoner,\n",
       " Leffart the commoner,\n",
       " Rankoe the commoner,\n",
       " Thoffar the commoner,\n",
       " Ulflen the commoner,\n",
       " Thareshik the commoner,\n",
       " Haklos the commoner,\n",
       " Peppundle the commoner,\n",
       " Urndek the commoner,\n",
       " Boboldea the ruler of Brineborourgh,\n",
       " Maspart the ruler of Brineborourgh]"
      ]
     },
     "execution_count": 38,
     "metadata": {},
     "output_type": "execute_result"
    }
   ],
   "source": [
    "world.people"
   ]
  },
  {
   "cell_type": "code",
   "execution_count": 7,
   "metadata": {},
   "outputs": [
    {
     "data": {
      "text/plain": [
       "[capitol of Ravenlair: population: 4 location: [13,37] founded 0,\n",
       " town of Kingsspike: population: 4 location: [9,35] founded 1,\n",
       " town of Fallford: population: 2 location: [10,38] founded 8]"
      ]
     },
     "execution_count": 7,
     "metadata": {},
     "output_type": "execute_result"
    }
   ],
   "source": [
    "ts = n.get_all_towns(world)\n",
    "ts"
   ]
  },
  {
   "cell_type": "code",
   "execution_count": 8,
   "metadata": {},
   "outputs": [
    {
     "data": {
      "text/plain": [
       "town of Snowchild: population: 4 location: [13,33] founded 1"
      ]
     },
     "execution_count": 8,
     "metadata": {},
     "output_type": "execute_result"
    }
   ],
   "source": [
    "[t for t in ts if len(t.population) == max([len(t.population) for t in ts])][0]"
   ]
  },
  {
   "cell_type": "code",
   "execution_count": 9,
   "metadata": {},
   "outputs": [
    {
     "data": {
      "text/plain": [
       "8"
      ]
     },
     "execution_count": 9,
     "metadata": {},
     "output_type": "execute_result"
    }
   ],
   "source": [
    "len(np.unique(world.df_features[\"nation\"].dropna()))"
   ]
  },
  {
   "cell_type": "code",
   "execution_count": 10,
   "metadata": {},
   "outputs": [],
   "source": [
    "n.capitol"
   ]
  },
  {
   "cell_type": "code",
   "execution_count": 11,
   "metadata": {},
   "outputs": [],
   "source": [
    "n.set_capitol(world)"
   ]
  },
  {
   "cell_type": "code",
   "execution_count": 12,
   "metadata": {},
   "outputs": [
    {
     "data": {
      "text/plain": [
       "capitol of Snowchild: population: 4 location: [13,33] founded 1"
      ]
     },
     "execution_count": 12,
     "metadata": {},
     "output_type": "execute_result"
    }
   ],
   "source": [
    "n.capitol"
   ]
  },
  {
   "cell_type": "code",
   "execution_count": 13,
   "metadata": {},
   "outputs": [
    {
     "data": {
      "text/plain": [
       "[town of Lionhaven: population: 4 location: [21,35] founded 1,\n",
       " capitol of Snowchild: population: 4 location: [13,33] founded 1,\n",
       " town of Servantsmore: population: 3 location: [13,31] founded 3,\n",
       " town of Heirford: population: 3 location: [21,36] founded 3,\n",
       " town of Stonefort: population: 4 location: [6,36] founded 3,\n",
       " town of Leafspring: population: 3 location: [0,30] founded 4,\n",
       " town of Badgerford: population: 2 location: [10,39] founded 4,\n",
       " town of Waterbridge: population: 3 location: [4,9] founded 5,\n",
       " town of Hearthail: population: 3 location: [3,14] founded 6,\n",
       " town of Doommain: population: 2 location: [23,39] founded 6,\n",
       " town of Icehost: population: 4 location: [39,19] founded 6,\n",
       " town of Kingshollow: population: 2 location: [32,17] founded 7,\n",
       " town of Demonsmoral: population: 2 location: [3,12] founded 7,\n",
       " town of Doomhaven: population: 1 location: [21,32] founded 8,\n",
       " town of Doomrun: population: 1 location: [16,35] founded 8,\n",
       " town of Flamerise: population: 2 location: [1,30] founded 9,\n",
       " town of Iceblaze: population: 2 location: [3,30] founded 9]"
      ]
     },
     "execution_count": 13,
     "metadata": {},
     "output_type": "execute_result"
    }
   ],
   "source": [
    "world.towns"
   ]
  },
  {
   "cell_type": "code",
   "execution_count": null,
   "metadata": {},
   "outputs": [],
   "source": []
  }
 ],
 "metadata": {
  "kernelspec": {
   "display_name": "Python 3",
   "language": "python",
   "name": "python3"
  },
  "language_info": {
   "codemirror_mode": {
    "name": "ipython",
    "version": 3
   },
   "file_extension": ".py",
   "mimetype": "text/x-python",
   "name": "python",
   "nbconvert_exporter": "python",
   "pygments_lexer": "ipython3",
   "version": "3.7.6"
  }
 },
 "nbformat": 4,
 "nbformat_minor": 4
}
