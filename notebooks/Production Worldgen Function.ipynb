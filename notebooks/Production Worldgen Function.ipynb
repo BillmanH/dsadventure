{
 "cells": [
  {
   "cell_type": "markdown",
   "metadata": {},
   "source": [
    "# this is the actual production function\n",
    "`create world`\n",
    "I'm a big fan of rouge-like games and RPGs. I'm also a big fan of data science tools for Python. This is my attempt to have it all. "
   ]
  },
  {
   "cell_type": "code",
   "execution_count": 1,
   "metadata": {},
   "outputs": [],
   "source": [
    "import pandas as pd\n",
    "import numpy as np\n",
    "\n",
    "import sys\n",
    "sys.path.append('../')\n",
    "\n",
    "import lib.create_world as c\n",
    "import lib.drawMaps as draw"
   ]
  },
  {
   "cell_type": "markdown",
   "metadata": {},
   "source": [
    "`timeit` functions to examin the runtime of each component. "
   ]
  },
  {
   "cell_type": "code",
   "execution_count": 2,
   "metadata": {},
   "outputs": [
    {
     "name": "stdout",
     "output_type": "stream",
     "text": [
      "2.25 s ± 34.8 ms per loop (mean ± std. dev. of 7 runs, 1 loop each)\n"
     ]
    }
   ],
   "source": [
    "%%timeit\n",
    "geo_world = c.the_first_age({})"
   ]
  },
  {
   "cell_type": "code",
   "execution_count": 4,
   "metadata": {},
   "outputs": [],
   "source": [
    "geo_world = c.the_first_age({})"
   ]
  },
  {
   "cell_type": "code",
   "execution_count": 5,
   "metadata": {},
   "outputs": [
    {
     "data": {
      "application/vnd.vegalite.v2+json": {
       "$schema": "https://vega.github.io/schema/vega-lite/v2.6.0.json",
       "config": {
        "view": {
         "height": 300,
         "width": 400
        }
       },
       "data": {
        "name": "data-d5dd47d8a392fef40ce3243453f1baad"
       },
       "datasets": {
        "data-d5dd47d8a392fef40ce3243453f1baad": [
         {
          "terrain": "land",
          "value": 1,
          "x": 0,
          "y": 0
         },
         {
          "terrain": "land",
          "value": 1,
          "x": 1,
          "y": 0
         },
         {
          "terrain": "ocean",
          "value": 0,
          "x": 2,
          "y": 0
         },
         {
          "terrain": "ocean",
          "value": 0,
          "x": 3,
          "y": 0
         },
         {
          "terrain": "ocean",
          "value": -1,
          "x": 4,
          "y": 0
         },
         {
          "terrain": "ocean",
          "value": 0,
          "x": 5,
          "y": 0
         },
         {
          "terrain": "land",
          "value": 1,
          "x": 6,
          "y": 0
         },
         {
          "terrain": "ocean",
          "value": -2,
          "x": 7,
          "y": 0
         },
         {
          "terrain": "land",
          "value": 1,
          "x": 8,
          "y": 0
         },
         {
          "terrain": "land",
          "value": 1,
          "x": 9,
          "y": 0
         },
         {
          "terrain": "land",
          "value": 1,
          "x": 10,
          "y": 0
         },
         {
          "terrain": "ocean",
          "value": -1,
          "x": 11,
          "y": 0
         },
         {
          "terrain": "ocean",
          "value": 0,
          "x": 12,
          "y": 0
         },
         {
          "terrain": "ocean",
          "value": 0,
          "x": 13,
          "y": 0
         },
         {
          "terrain": "land",
          "value": 1,
          "x": 14,
          "y": 0
         },
         {
          "terrain": "land",
          "value": 3,
          "x": 15,
          "y": 0
         },
         {
          "terrain": "land",
          "value": 1,
          "x": 16,
          "y": 0
         },
         {
          "terrain": "ocean",
          "value": -1,
          "x": 17,
          "y": 0
         },
         {
          "terrain": "ocean",
          "value": 0,
          "x": 18,
          "y": 0
         },
         {
          "terrain": "land",
          "value": 1,
          "x": 19,
          "y": 0
         },
         {
          "terrain": "ocean",
          "value": 0,
          "x": 20,
          "y": 0
         },
         {
          "terrain": "ocean",
          "value": 0,
          "x": 21,
          "y": 0
         },
         {
          "terrain": "ocean",
          "value": -1,
          "x": 22,
          "y": 0
         },
         {
          "terrain": "land",
          "value": 2,
          "x": 23,
          "y": 0
         },
         {
          "terrain": "ocean",
          "value": 0,
          "x": 24,
          "y": 0
         },
         {
          "terrain": "land",
          "value": 2,
          "x": 25,
          "y": 0
         },
         {
          "terrain": "ocean",
          "value": 0,
          "x": 26,
          "y": 0
         },
         {
          "terrain": "land",
          "value": 2,
          "x": 27,
          "y": 0
         },
         {
          "terrain": "ocean",
          "value": 0,
          "x": 28,
          "y": 0
         },
         {
          "terrain": "land",
          "value": 6,
          "x": 29,
          "y": 0
         },
         {
          "terrain": "land",
          "value": 8,
          "x": 30,
          "y": 0
         },
         {
          "terrain": "land",
          "value": 11,
          "x": 31,
          "y": 0
         },
         {
          "terrain": "land",
          "value": 19,
          "x": 32,
          "y": 0
         },
         {
          "terrain": "land",
          "value": 21,
          "x": 33,
          "y": 0
         },
         {
          "terrain": "land",
          "value": 23,
          "x": 34,
          "y": 0
         },
         {
          "terrain": "mountain",
          "value": 33,
          "x": 35,
          "y": 0
         },
         {
          "terrain": "mountain",
          "value": 34,
          "x": 36,
          "y": 0
         },
         {
          "terrain": "mountain",
          "value": 35,
          "x": 37,
          "y": 0
         },
         {
          "terrain": "mountain",
          "value": 36,
          "x": 38,
          "y": 0
         },
         {
          "terrain": "mountain",
          "value": 27,
          "x": 39,
          "y": 0
         },
         {
          "terrain": "ocean",
          "value": -1,
          "x": 0,
          "y": 1
         },
         {
          "terrain": "ocean",
          "value": -1,
          "x": 1,
          "y": 1
         },
         {
          "terrain": "ocean",
          "value": 0,
          "x": 2,
          "y": 1
         },
         {
          "terrain": "land",
          "value": 1,
          "x": 3,
          "y": 1
         },
         {
          "terrain": "land",
          "value": 1,
          "x": 4,
          "y": 1
         },
         {
          "terrain": "ocean",
          "value": 0,
          "x": 5,
          "y": 1
         },
         {
          "terrain": "land",
          "value": 1,
          "x": 6,
          "y": 1
         },
         {
          "terrain": "ocean",
          "value": 0,
          "x": 7,
          "y": 1
         },
         {
          "terrain": "ocean",
          "value": 0,
          "x": 8,
          "y": 1
         },
         {
          "terrain": "land",
          "value": 1,
          "x": 9,
          "y": 1
         },
         {
          "terrain": "land",
          "value": 1,
          "x": 10,
          "y": 1
         },
         {
          "terrain": "ocean",
          "value": 0,
          "x": 11,
          "y": 1
         },
         {
          "terrain": "land",
          "value": 1,
          "x": 12,
          "y": 1
         },
         {
          "terrain": "ocean",
          "value": 0,
          "x": 13,
          "y": 1
         },
         {
          "terrain": "ocean",
          "value": -1,
          "x": 14,
          "y": 1
         },
         {
          "terrain": "land",
          "value": 1,
          "x": 15,
          "y": 1
         },
         {
          "terrain": "land",
          "value": 1,
          "x": 16,
          "y": 1
         },
         {
          "terrain": "ocean",
          "value": -1,
          "x": 17,
          "y": 1
         },
         {
          "terrain": "land",
          "value": 1,
          "x": 18,
          "y": 1
         },
         {
          "terrain": "ocean",
          "value": -1,
          "x": 19,
          "y": 1
         },
         {
          "terrain": "ocean",
          "value": 0,
          "x": 20,
          "y": 1
         },
         {
          "terrain": "ocean",
          "value": -1,
          "x": 21,
          "y": 1
         },
         {
          "terrain": "ocean",
          "value": 0,
          "x": 22,
          "y": 1
         },
         {
          "terrain": "land",
          "value": 2,
          "x": 23,
          "y": 1
         },
         {
          "terrain": "ocean",
          "value": -1,
          "x": 24,
          "y": 1
         },
         {
          "terrain": "ocean",
          "value": 0,
          "x": 25,
          "y": 1
         },
         {
          "terrain": "ocean",
          "value": -1,
          "x": 26,
          "y": 1
         },
         {
          "terrain": "ocean",
          "value": -1,
          "x": 27,
          "y": 1
         },
         {
          "terrain": "ocean",
          "value": 0,
          "x": 28,
          "y": 1
         },
         {
          "terrain": "land",
          "value": 2,
          "x": 29,
          "y": 1
         },
         {
          "terrain": "land",
          "value": 5,
          "x": 30,
          "y": 1
         },
         {
          "terrain": "land",
          "value": 11,
          "x": 31,
          "y": 1
         },
         {
          "terrain": "land",
          "value": 19,
          "x": 32,
          "y": 1
         },
         {
          "terrain": "land",
          "value": 24,
          "x": 33,
          "y": 1
         },
         {
          "terrain": "mountain",
          "value": 30,
          "x": 34,
          "y": 1
         },
         {
          "terrain": "mountain",
          "value": 32,
          "x": 35,
          "y": 1
         },
         {
          "terrain": "mountain",
          "value": 40,
          "x": 36,
          "y": 1
         },
         {
          "terrain": "mountain",
          "value": 41,
          "x": 37,
          "y": 1
         },
         {
          "terrain": "mountain",
          "value": 39,
          "x": 38,
          "y": 1
         },
         {
          "terrain": "mountain",
          "value": 36,
          "x": 39,
          "y": 1
         },
         {
          "terrain": "ocean",
          "value": 0,
          "x": 0,
          "y": 2
         },
         {
          "terrain": "ocean",
          "value": 0,
          "x": 1,
          "y": 2
         },
         {
          "terrain": "ocean",
          "value": -2,
          "x": 2,
          "y": 2
         },
         {
          "terrain": "ocean",
          "value": 0,
          "x": 3,
          "y": 2
         },
         {
          "terrain": "land",
          "value": 1,
          "x": 4,
          "y": 2
         },
         {
          "terrain": "land",
          "value": 1,
          "x": 5,
          "y": 2
         },
         {
          "terrain": "land",
          "value": 2,
          "x": 6,
          "y": 2
         },
         {
          "terrain": "ocean",
          "value": 0,
          "x": 7,
          "y": 2
         },
         {
          "terrain": "ocean",
          "value": -1,
          "x": 8,
          "y": 2
         },
         {
          "terrain": "ocean",
          "value": 0,
          "x": 9,
          "y": 2
         },
         {
          "terrain": "ocean",
          "value": -1,
          "x": 10,
          "y": 2
         },
         {
          "terrain": "land",
          "value": 1,
          "x": 11,
          "y": 2
         },
         {
          "terrain": "land",
          "value": 1,
          "x": 12,
          "y": 2
         },
         {
          "terrain": "land",
          "value": 1,
          "x": 13,
          "y": 2
         },
         {
          "terrain": "ocean",
          "value": 0,
          "x": 14,
          "y": 2
         },
         {
          "terrain": "ocean",
          "value": -1,
          "x": 15,
          "y": 2
         },
         {
          "terrain": "ocean",
          "value": 0,
          "x": 16,
          "y": 2
         },
         {
          "terrain": "ocean",
          "value": -1,
          "x": 17,
          "y": 2
         },
         {
          "terrain": "land",
          "value": 2,
          "x": 18,
          "y": 2
         },
         {
          "terrain": "ocean",
          "value": 0,
          "x": 19,
          "y": 2
         },
         {
          "terrain": "ocean",
          "value": 0,
          "x": 20,
          "y": 2
         },
         {
          "terrain": "land",
          "value": 1,
          "x": 21,
          "y": 2
         },
         {
          "terrain": "ocean",
          "value": -1,
          "x": 22,
          "y": 2
         },
         {
          "terrain": "ocean",
          "value": 0,
          "x": 23,
          "y": 2
         },
         {
          "terrain": "ocean",
          "value": -1,
          "x": 24,
          "y": 2
         },
         {
          "terrain": "ocean",
          "value": 0,
          "x": 25,
          "y": 2
         },
         {
          "terrain": "ocean",
          "value": -1,
          "x": 26,
          "y": 2
         },
         {
          "terrain": "land",
          "value": 2,
          "x": 27,
          "y": 2
         },
         {
          "terrain": "land",
          "value": 1,
          "x": 28,
          "y": 2
         },
         {
          "terrain": "land",
          "value": 1,
          "x": 29,
          "y": 2
         },
         {
          "terrain": "land",
          "value": 4,
          "x": 30,
          "y": 2
         },
         {
          "terrain": "land",
          "value": 9,
          "x": 31,
          "y": 2
         },
         {
          "terrain": "land",
          "value": 18,
          "x": 32,
          "y": 2
         },
         {
          "terrain": "land",
          "value": 24,
          "x": 33,
          "y": 2
         },
         {
          "terrain": "mountain",
          "value": 29,
          "x": 34,
          "y": 2
         },
         {
          "terrain": "mountain",
          "value": 34,
          "x": 35,
          "y": 2
         },
         {
          "terrain": "mountain",
          "value": 37,
          "x": 36,
          "y": 2
         },
         {
          "terrain": "mountain",
          "value": 40,
          "x": 37,
          "y": 2
         },
         {
          "terrain": "mountain",
          "value": 40,
          "x": 38,
          "y": 2
         },
         {
          "terrain": "mountain",
          "value": 33,
          "x": 39,
          "y": 2
         },
         {
          "terrain": "ocean",
          "value": 0,
          "x": 0,
          "y": 3
         },
         {
          "terrain": "land",
          "value": 1,
          "x": 1,
          "y": 3
         },
         {
          "terrain": "ocean",
          "value": 0,
          "x": 2,
          "y": 3
         },
         {
          "terrain": "ocean",
          "value": 0,
          "x": 3,
          "y": 3
         },
         {
          "terrain": "land",
          "value": 1,
          "x": 4,
          "y": 3
         },
         {
          "terrain": "ocean",
          "value": -1,
          "x": 5,
          "y": 3
         },
         {
          "terrain": "ocean",
          "value": -2,
          "x": 6,
          "y": 3
         },
         {
          "terrain": "land",
          "value": 1,
          "x": 7,
          "y": 3
         },
         {
          "terrain": "land",
          "value": 1,
          "x": 8,
          "y": 3
         },
         {
          "terrain": "ocean",
          "value": 0,
          "x": 9,
          "y": 3
         },
         {
          "terrain": "ocean",
          "value": -1,
          "x": 10,
          "y": 3
         },
         {
          "terrain": "ocean",
          "value": 0,
          "x": 11,
          "y": 3
         },
         {
          "terrain": "land",
          "value": 1,
          "x": 12,
          "y": 3
         },
         {
          "terrain": "land",
          "value": 1,
          "x": 13,
          "y": 3
         },
         {
          "terrain": "ocean",
          "value": 0,
          "x": 14,
          "y": 3
         },
         {
          "terrain": "ocean",
          "value": -2,
          "x": 15,
          "y": 3
         },
         {
          "terrain": "land",
          "value": 2,
          "x": 16,
          "y": 3
         },
         {
          "terrain": "ocean",
          "value": -2,
          "x": 17,
          "y": 3
         },
         {
          "terrain": "land",
          "value": 2,
          "x": 18,
          "y": 3
         },
         {
          "terrain": "land",
          "value": 1,
          "x": 19,
          "y": 3
         },
         {
          "terrain": "ocean",
          "value": -1,
          "x": 20,
          "y": 3
         },
         {
          "terrain": "ocean",
          "value": 0,
          "x": 21,
          "y": 3
         },
         {
          "terrain": "ocean",
          "value": 0,
          "x": 22,
          "y": 3
         },
         {
          "terrain": "ocean",
          "value": -1,
          "x": 23,
          "y": 3
         },
         {
          "terrain": "ocean",
          "value": 0,
          "x": 24,
          "y": 3
         },
         {
          "terrain": "ocean",
          "value": 0,
          "x": 25,
          "y": 3
         },
         {
          "terrain": "land",
          "value": 1,
          "x": 26,
          "y": 3
         },
         {
          "terrain": "ocean",
          "value": 0,
          "x": 27,
          "y": 3
         },
         {
          "terrain": "ocean",
          "value": 0,
          "x": 28,
          "y": 3
         },
         {
          "terrain": "land",
          "value": 1,
          "x": 29,
          "y": 3
         },
         {
          "terrain": "land",
          "value": 6,
          "x": 30,
          "y": 3
         },
         {
          "terrain": "land",
          "value": 7,
          "x": 31,
          "y": 3
         },
         {
          "terrain": "land",
          "value": 14,
          "x": 32,
          "y": 3
         },
         {
          "terrain": "land",
          "value": 19,
          "x": 33,
          "y": 3
         },
         {
          "terrain": "mountain",
          "value": 28,
          "x": 34,
          "y": 3
         },
         {
          "terrain": "mountain",
          "value": 32,
          "x": 35,
          "y": 3
         },
         {
          "terrain": "mountain",
          "value": 33,
          "x": 36,
          "y": 3
         },
         {
          "terrain": "mountain",
          "value": 32,
          "x": 37,
          "y": 3
         },
         {
          "terrain": "mountain",
          "value": 36,
          "x": 38,
          "y": 3
         },
         {
          "terrain": "mountain",
          "value": 32,
          "x": 39,
          "y": 3
         },
         {
          "terrain": "ocean",
          "value": -1,
          "x": 0,
          "y": 4
         },
         {
          "terrain": "land",
          "value": 1,
          "x": 1,
          "y": 4
         },
         {
          "terrain": "land",
          "value": 1,
          "x": 2,
          "y": 4
         },
         {
          "terrain": "ocean",
          "value": -1,
          "x": 3,
          "y": 4
         },
         {
          "terrain": "ocean",
          "value": -1,
          "x": 4,
          "y": 4
         },
         {
          "terrain": "land",
          "value": 1,
          "x": 5,
          "y": 4
         },
         {
          "terrain": "land",
          "value": 1,
          "x": 6,
          "y": 4
         },
         {
          "terrain": "ocean",
          "value": 0,
          "x": 7,
          "y": 4
         },
         {
          "terrain": "land",
          "value": 1,
          "x": 8,
          "y": 4
         },
         {
          "terrain": "ocean",
          "value": -2,
          "x": 9,
          "y": 4
         },
         {
          "terrain": "ocean",
          "value": 0,
          "x": 10,
          "y": 4
         },
         {
          "terrain": "ocean",
          "value": 0,
          "x": 11,
          "y": 4
         },
         {
          "terrain": "land",
          "value": 1,
          "x": 12,
          "y": 4
         },
         {
          "terrain": "ocean",
          "value": -1,
          "x": 13,
          "y": 4
         },
         {
          "terrain": "ocean",
          "value": 0,
          "x": 14,
          "y": 4
         },
         {
          "terrain": "land",
          "value": 1,
          "x": 15,
          "y": 4
         },
         {
          "terrain": "ocean",
          "value": 0,
          "x": 16,
          "y": 4
         },
         {
          "terrain": "ocean",
          "value": 0,
          "x": 17,
          "y": 4
         },
         {
          "terrain": "land",
          "value": 1,
          "x": 18,
          "y": 4
         },
         {
          "terrain": "land",
          "value": 1,
          "x": 19,
          "y": 4
         },
         {
          "terrain": "land",
          "value": 2,
          "x": 20,
          "y": 4
         },
         {
          "terrain": "land",
          "value": 1,
          "x": 21,
          "y": 4
         },
         {
          "terrain": "ocean",
          "value": -1,
          "x": 22,
          "y": 4
         },
         {
          "terrain": "ocean",
          "value": 0,
          "x": 23,
          "y": 4
         },
         {
          "terrain": "land",
          "value": 1,
          "x": 24,
          "y": 4
         },
         {
          "terrain": "ocean",
          "value": -1,
          "x": 25,
          "y": 4
         },
         {
          "terrain": "ocean",
          "value": -1,
          "x": 26,
          "y": 4
         },
         {
          "terrain": "ocean",
          "value": 0,
          "x": 27,
          "y": 4
         },
         {
          "terrain": "ocean",
          "value": -1,
          "x": 28,
          "y": 4
         },
         {
          "terrain": "land",
          "value": 1,
          "x": 29,
          "y": 4
         },
         {
          "terrain": "ocean",
          "value": 0,
          "x": 30,
          "y": 4
         },
         {
          "terrain": "land",
          "value": 5,
          "x": 31,
          "y": 4
         },
         {
          "terrain": "land",
          "value": 11,
          "x": 32,
          "y": 4
         },
         {
          "terrain": "land",
          "value": 14,
          "x": 33,
          "y": 4
         },
         {
          "terrain": "land",
          "value": 19,
          "x": 34,
          "y": 4
         },
         {
          "terrain": "land",
          "value": 22,
          "x": 35,
          "y": 4
         },
         {
          "terrain": "land",
          "value": 23,
          "x": 36,
          "y": 4
         },
         {
          "terrain": "land",
          "value": 24,
          "x": 37,
          "y": 4
         },
         {
          "terrain": "land",
          "value": 23,
          "x": 38,
          "y": 4
         },
         {
          "terrain": "mountain",
          "value": 26,
          "x": 39,
          "y": 4
         },
         {
          "terrain": "land",
          "value": 1,
          "x": 0,
          "y": 5
         },
         {
          "terrain": "land",
          "value": 1,
          "x": 1,
          "y": 5
         },
         {
          "terrain": "ocean",
          "value": 0,
          "x": 2,
          "y": 5
         },
         {
          "terrain": "ocean",
          "value": 0,
          "x": 3,
          "y": 5
         },
         {
          "terrain": "ocean",
          "value": 0,
          "x": 4,
          "y": 5
         },
         {
          "terrain": "ocean",
          "value": 0,
          "x": 5,
          "y": 5
         },
         {
          "terrain": "ocean",
          "value": -1,
          "x": 6,
          "y": 5
         },
         {
          "terrain": "ocean",
          "value": -1,
          "x": 7,
          "y": 5
         },
         {
          "terrain": "ocean",
          "value": -2,
          "x": 8,
          "y": 5
         },
         {
          "terrain": "land",
          "value": 1,
          "x": 9,
          "y": 5
         },
         {
          "terrain": "ocean",
          "value": 0,
          "x": 10,
          "y": 5
         },
         {
          "terrain": "ocean",
          "value": 0,
          "x": 11,
          "y": 5
         },
         {
          "terrain": "land",
          "value": 1,
          "x": 12,
          "y": 5
         },
         {
          "terrain": "ocean",
          "value": 0,
          "x": 13,
          "y": 5
         },
         {
          "terrain": "ocean",
          "value": -1,
          "x": 14,
          "y": 5
         },
         {
          "terrain": "ocean",
          "value": -1,
          "x": 15,
          "y": 5
         },
         {
          "terrain": "land",
          "value": 1,
          "x": 16,
          "y": 5
         },
         {
          "terrain": "land",
          "value": 1,
          "x": 17,
          "y": 5
         },
         {
          "terrain": "ocean",
          "value": 0,
          "x": 18,
          "y": 5
         },
         {
          "terrain": "land",
          "value": 2,
          "x": 19,
          "y": 5
         },
         {
          "terrain": "land",
          "value": 2,
          "x": 20,
          "y": 5
         },
         {
          "terrain": "ocean",
          "value": 0,
          "x": 21,
          "y": 5
         },
         {
          "terrain": "ocean",
          "value": 0,
          "x": 22,
          "y": 5
         },
         {
          "terrain": "ocean",
          "value": 0,
          "x": 23,
          "y": 5
         },
         {
          "terrain": "land",
          "value": 2,
          "x": 24,
          "y": 5
         },
         {
          "terrain": "ocean",
          "value": -2,
          "x": 25,
          "y": 5
         },
         {
          "terrain": "ocean",
          "value": 0,
          "x": 26,
          "y": 5
         },
         {
          "terrain": "ocean",
          "value": -1,
          "x": 27,
          "y": 5
         },
         {
          "terrain": "ocean",
          "value": -1,
          "x": 28,
          "y": 5
         },
         {
          "terrain": "land",
          "value": 1,
          "x": 29,
          "y": 5
         },
         {
          "terrain": "land",
          "value": 1,
          "x": 30,
          "y": 5
         },
         {
          "terrain": "land",
          "value": 5,
          "x": 31,
          "y": 5
         },
         {
          "terrain": "land",
          "value": 7,
          "x": 32,
          "y": 5
         },
         {
          "terrain": "land",
          "value": 9,
          "x": 33,
          "y": 5
         },
         {
          "terrain": "land",
          "value": 11,
          "x": 34,
          "y": 5
         },
         {
          "terrain": "land",
          "value": 11,
          "x": 35,
          "y": 5
         },
         {
          "terrain": "land",
          "value": 12,
          "x": 36,
          "y": 5
         },
         {
          "terrain": "land",
          "value": 13,
          "x": 37,
          "y": 5
         },
         {
          "terrain": "land",
          "value": 15,
          "x": 38,
          "y": 5
         },
         {
          "terrain": "land",
          "value": 17,
          "x": 39,
          "y": 5
         },
         {
          "terrain": "land",
          "value": 1,
          "x": 0,
          "y": 6
         },
         {
          "terrain": "ocean",
          "value": 0,
          "x": 1,
          "y": 6
         },
         {
          "terrain": "ocean",
          "value": 0,
          "x": 2,
          "y": 6
         },
         {
          "terrain": "land",
          "value": 1,
          "x": 3,
          "y": 6
         },
         {
          "terrain": "land",
          "value": 2,
          "x": 4,
          "y": 6
         },
         {
          "terrain": "land",
          "value": 1,
          "x": 5,
          "y": 6
         },
         {
          "terrain": "ocean",
          "value": -1,
          "x": 6,
          "y": 6
         },
         {
          "terrain": "land",
          "value": 1,
          "x": 7,
          "y": 6
         },
         {
          "terrain": "land",
          "value": 1,
          "x": 8,
          "y": 6
         },
         {
          "terrain": "ocean",
          "value": 0,
          "x": 9,
          "y": 6
         },
         {
          "terrain": "land",
          "value": 1,
          "x": 10,
          "y": 6
         },
         {
          "terrain": "ocean",
          "value": -2,
          "x": 11,
          "y": 6
         },
         {
          "terrain": "ocean",
          "value": 0,
          "x": 12,
          "y": 6
         },
         {
          "terrain": "ocean",
          "value": -1,
          "x": 13,
          "y": 6
         },
         {
          "terrain": "ocean",
          "value": 0,
          "x": 14,
          "y": 6
         },
         {
          "terrain": "ocean",
          "value": 0,
          "x": 15,
          "y": 6
         },
         {
          "terrain": "ocean",
          "value": 0,
          "x": 16,
          "y": 6
         },
         {
          "terrain": "ocean",
          "value": 0,
          "x": 17,
          "y": 6
         },
         {
          "terrain": "ocean",
          "value": 0,
          "x": 18,
          "y": 6
         },
         {
          "terrain": "ocean",
          "value": -2,
          "x": 19,
          "y": 6
         },
         {
          "terrain": "land",
          "value": 1,
          "x": 20,
          "y": 6
         },
         {
          "terrain": "ocean",
          "value": 0,
          "x": 21,
          "y": 6
         },
         {
          "terrain": "ocean",
          "value": -1,
          "x": 22,
          "y": 6
         },
         {
          "terrain": "ocean",
          "value": -1,
          "x": 23,
          "y": 6
         },
         {
          "terrain": "ocean",
          "value": 0,
          "x": 24,
          "y": 6
         },
         {
          "terrain": "ocean",
          "value": -1,
          "x": 25,
          "y": 6
         },
         {
          "terrain": "ocean",
          "value": 0,
          "x": 26,
          "y": 6
         },
         {
          "terrain": "ocean",
          "value": -1,
          "x": 27,
          "y": 6
         },
         {
          "terrain": "ocean",
          "value": 0,
          "x": 28,
          "y": 6
         },
         {
          "terrain": "land",
          "value": 2,
          "x": 29,
          "y": 6
         },
         {
          "terrain": "land",
          "value": 2,
          "x": 30,
          "y": 6
         },
         {
          "terrain": "land",
          "value": 3,
          "x": 31,
          "y": 6
         },
         {
          "terrain": "land",
          "value": 3,
          "x": 32,
          "y": 6
         },
         {
          "terrain": "land",
          "value": 4,
          "x": 33,
          "y": 6
         },
         {
          "terrain": "land",
          "value": 7,
          "x": 34,
          "y": 6
         },
         {
          "terrain": "land",
          "value": 8,
          "x": 35,
          "y": 6
         },
         {
          "terrain": "land",
          "value": 7,
          "x": 36,
          "y": 6
         },
         {
          "terrain": "land",
          "value": 9,
          "x": 37,
          "y": 6
         },
         {
          "terrain": "land",
          "value": 10,
          "x": 38,
          "y": 6
         },
         {
          "terrain": "land",
          "value": 8,
          "x": 39,
          "y": 6
         },
         {
          "terrain": "ocean",
          "value": -1,
          "x": 0,
          "y": 7
         },
         {
          "terrain": "ocean",
          "value": -1,
          "x": 1,
          "y": 7
         },
         {
          "terrain": "land",
          "value": 2,
          "x": 2,
          "y": 7
         },
         {
          "terrain": "ocean",
          "value": 0,
          "x": 3,
          "y": 7
         },
         {
          "terrain": "ocean",
          "value": 0,
          "x": 4,
          "y": 7
         },
         {
          "terrain": "ocean",
          "value": -1,
          "x": 5,
          "y": 7
         },
         {
          "terrain": "land",
          "value": 1,
          "x": 6,
          "y": 7
         },
         {
          "terrain": "ocean",
          "value": 0,
          "x": 7,
          "y": 7
         },
         {
          "terrain": "ocean",
          "value": 0,
          "x": 8,
          "y": 7
         },
         {
          "terrain": "ocean",
          "value": 0,
          "x": 9,
          "y": 7
         },
         {
          "terrain": "land",
          "value": 1,
          "x": 10,
          "y": 7
         },
         {
          "terrain": "land",
          "value": 1,
          "x": 11,
          "y": 7
         },
         {
          "terrain": "ocean",
          "value": 0,
          "x": 12,
          "y": 7
         },
         {
          "terrain": "land",
          "value": 1,
          "x": 13,
          "y": 7
         },
         {
          "terrain": "ocean",
          "value": -1,
          "x": 14,
          "y": 7
         },
         {
          "terrain": "land",
          "value": 1,
          "x": 15,
          "y": 7
         },
         {
          "terrain": "land",
          "value": 1,
          "x": 16,
          "y": 7
         },
         {
          "terrain": "ocean",
          "value": -1,
          "x": 17,
          "y": 7
         },
         {
          "terrain": "land",
          "value": 1,
          "x": 18,
          "y": 7
         },
         {
          "terrain": "ocean",
          "value": -1,
          "x": 19,
          "y": 7
         },
         {
          "terrain": "ocean",
          "value": 0,
          "x": 20,
          "y": 7
         },
         {
          "terrain": "land",
          "value": 1,
          "x": 21,
          "y": 7
         },
         {
          "terrain": "ocean",
          "value": -1,
          "x": 22,
          "y": 7
         },
         {
          "terrain": "ocean",
          "value": -1,
          "x": 23,
          "y": 7
         },
         {
          "terrain": "land",
          "value": 1,
          "x": 24,
          "y": 7
         },
         {
          "terrain": "ocean",
          "value": -1,
          "x": 25,
          "y": 7
         },
         {
          "terrain": "ocean",
          "value": 0,
          "x": 26,
          "y": 7
         },
         {
          "terrain": "ocean",
          "value": 0,
          "x": 27,
          "y": 7
         },
         {
          "terrain": "ocean",
          "value": 0,
          "x": 28,
          "y": 7
         },
         {
          "terrain": "ocean",
          "value": 0,
          "x": 29,
          "y": 7
         },
         {
          "terrain": "land",
          "value": 2,
          "x": 30,
          "y": 7
         },
         {
          "terrain": "land",
          "value": 4,
          "x": 31,
          "y": 7
         },
         {
          "terrain": "land",
          "value": 4,
          "x": 32,
          "y": 7
         },
         {
          "terrain": "land",
          "value": 3,
          "x": 33,
          "y": 7
         },
         {
          "terrain": "land",
          "value": 3,
          "x": 34,
          "y": 7
         },
         {
          "terrain": "land",
          "value": 2,
          "x": 35,
          "y": 7
         },
         {
          "terrain": "land",
          "value": 5,
          "x": 36,
          "y": 7
         },
         {
          "terrain": "land",
          "value": 6,
          "x": 37,
          "y": 7
         },
         {
          "terrain": "land",
          "value": 5,
          "x": 38,
          "y": 7
         },
         {
          "terrain": "land",
          "value": 9,
          "x": 39,
          "y": 7
         },
         {
          "terrain": "ocean",
          "value": -1,
          "x": 0,
          "y": 8
         },
         {
          "terrain": "ocean",
          "value": -1,
          "x": 1,
          "y": 8
         },
         {
          "terrain": "ocean",
          "value": -1,
          "x": 2,
          "y": 8
         },
         {
          "terrain": "ocean",
          "value": -2,
          "x": 3,
          "y": 8
         },
         {
          "terrain": "ocean",
          "value": 0,
          "x": 4,
          "y": 8
         },
         {
          "terrain": "land",
          "value": 2,
          "x": 5,
          "y": 8
         },
         {
          "terrain": "land",
          "value": 1,
          "x": 6,
          "y": 8
         },
         {
          "terrain": "ocean",
          "value": 0,
          "x": 7,
          "y": 8
         },
         {
          "terrain": "ocean",
          "value": -1,
          "x": 8,
          "y": 8
         },
         {
          "terrain": "land",
          "value": 1,
          "x": 9,
          "y": 8
         },
         {
          "terrain": "ocean",
          "value": 0,
          "x": 10,
          "y": 8
         },
         {
          "terrain": "land",
          "value": 1,
          "x": 11,
          "y": 8
         },
         {
          "terrain": "ocean",
          "value": -1,
          "x": 12,
          "y": 8
         },
         {
          "terrain": "ocean",
          "value": 0,
          "x": 13,
          "y": 8
         },
         {
          "terrain": "ocean",
          "value": -1,
          "x": 14,
          "y": 8
         },
         {
          "terrain": "ocean",
          "value": 0,
          "x": 15,
          "y": 8
         },
         {
          "terrain": "land",
          "value": 2,
          "x": 16,
          "y": 8
         },
         {
          "terrain": "ocean",
          "value": -1,
          "x": 17,
          "y": 8
         },
         {
          "terrain": "ocean",
          "value": -1,
          "x": 18,
          "y": 8
         },
         {
          "terrain": "ocean",
          "value": 0,
          "x": 19,
          "y": 8
         },
         {
          "terrain": "land",
          "value": 1,
          "x": 20,
          "y": 8
         },
         {
          "terrain": "ocean",
          "value": -1,
          "x": 21,
          "y": 8
         },
         {
          "terrain": "land",
          "value": 2,
          "x": 22,
          "y": 8
         },
         {
          "terrain": "ocean",
          "value": -1,
          "x": 23,
          "y": 8
         },
         {
          "terrain": "ocean",
          "value": 0,
          "x": 24,
          "y": 8
         },
         {
          "terrain": "ocean",
          "value": -2,
          "x": 25,
          "y": 8
         },
         {
          "terrain": "land",
          "value": 2,
          "x": 26,
          "y": 8
         },
         {
          "terrain": "ocean",
          "value": -1,
          "x": 27,
          "y": 8
         },
         {
          "terrain": "ocean",
          "value": 0,
          "x": 28,
          "y": 8
         },
         {
          "terrain": "land",
          "value": 1,
          "x": 29,
          "y": 8
         },
         {
          "terrain": "land",
          "value": 2,
          "x": 30,
          "y": 8
         },
         {
          "terrain": "land",
          "value": 2,
          "x": 31,
          "y": 8
         },
         {
          "terrain": "land",
          "value": 4,
          "x": 32,
          "y": 8
         },
         {
          "terrain": "ocean",
          "value": 0,
          "x": 33,
          "y": 8
         },
         {
          "terrain": "ocean",
          "value": 0,
          "x": 34,
          "y": 8
         },
         {
          "terrain": "land",
          "value": 3,
          "x": 35,
          "y": 8
         },
         {
          "terrain": "land",
          "value": 5,
          "x": 36,
          "y": 8
         },
         {
          "terrain": "land",
          "value": 6,
          "x": 37,
          "y": 8
         },
         {
          "terrain": "land",
          "value": 6,
          "x": 38,
          "y": 8
         },
         {
          "terrain": "land",
          "value": 4,
          "x": 39,
          "y": 8
         },
         {
          "terrain": "ocean",
          "value": -1,
          "x": 0,
          "y": 9
         },
         {
          "terrain": "ocean",
          "value": -2,
          "x": 1,
          "y": 9
         },
         {
          "terrain": "ocean",
          "value": 0,
          "x": 2,
          "y": 9
         },
         {
          "terrain": "ocean",
          "value": 0,
          "x": 3,
          "y": 9
         },
         {
          "terrain": "ocean",
          "value": -2,
          "x": 4,
          "y": 9
         },
         {
          "terrain": "ocean",
          "value": 0,
          "x": 5,
          "y": 9
         },
         {
          "terrain": "ocean",
          "value": 0,
          "x": 6,
          "y": 9
         },
         {
          "terrain": "ocean",
          "value": -1,
          "x": 7,
          "y": 9
         },
         {
          "terrain": "ocean",
          "value": 0,
          "x": 8,
          "y": 9
         },
         {
          "terrain": "ocean",
          "value": -1,
          "x": 9,
          "y": 9
         },
         {
          "terrain": "land",
          "value": 2,
          "x": 10,
          "y": 9
         },
         {
          "terrain": "ocean",
          "value": 0,
          "x": 11,
          "y": 9
         },
         {
          "terrain": "land",
          "value": 1,
          "x": 12,
          "y": 9
         },
         {
          "terrain": "land",
          "value": 1,
          "x": 13,
          "y": 9
         },
         {
          "terrain": "ocean",
          "value": -1,
          "x": 14,
          "y": 9
         },
         {
          "terrain": "ocean",
          "value": -1,
          "x": 15,
          "y": 9
         },
         {
          "terrain": "ocean",
          "value": -2,
          "x": 16,
          "y": 9
         },
         {
          "terrain": "ocean",
          "value": 0,
          "x": 17,
          "y": 9
         },
         {
          "terrain": "land",
          "value": 1,
          "x": 18,
          "y": 9
         },
         {
          "terrain": "ocean",
          "value": -1,
          "x": 19,
          "y": 9
         },
         {
          "terrain": "ocean",
          "value": 0,
          "x": 20,
          "y": 9
         },
         {
          "terrain": "ocean",
          "value": 0,
          "x": 21,
          "y": 9
         },
         {
          "terrain": "ocean",
          "value": -1,
          "x": 22,
          "y": 9
         },
         {
          "terrain": "ocean",
          "value": 0,
          "x": 23,
          "y": 9
         },
         {
          "terrain": "land",
          "value": 1,
          "x": 24,
          "y": 9
         },
         {
          "terrain": "ocean",
          "value": 0,
          "x": 25,
          "y": 9
         },
         {
          "terrain": "ocean",
          "value": 0,
          "x": 26,
          "y": 9
         },
         {
          "terrain": "land",
          "value": 1,
          "x": 27,
          "y": 9
         },
         {
          "terrain": "land",
          "value": 1,
          "x": 28,
          "y": 9
         },
         {
          "terrain": "land",
          "value": 2,
          "x": 29,
          "y": 9
         },
         {
          "terrain": "land",
          "value": 2,
          "x": 30,
          "y": 9
         },
         {
          "terrain": "land",
          "value": 1,
          "x": 31,
          "y": 9
         },
         {
          "terrain": "ocean",
          "value": 0,
          "x": 32,
          "y": 9
         },
         {
          "terrain": "land",
          "value": 1,
          "x": 33,
          "y": 9
         },
         {
          "terrain": "ocean",
          "value": 0,
          "x": 34,
          "y": 9
         },
         {
          "terrain": "land",
          "value": 2,
          "x": 35,
          "y": 9
         },
         {
          "terrain": "land",
          "value": 4,
          "x": 36,
          "y": 9
         },
         {
          "terrain": "land",
          "value": 4,
          "x": 37,
          "y": 9
         },
         {
          "terrain": "land",
          "value": 3,
          "x": 38,
          "y": 9
         },
         {
          "terrain": "land",
          "value": 3,
          "x": 39,
          "y": 9
         },
         {
          "terrain": "ocean",
          "value": -1,
          "x": 0,
          "y": 10
         },
         {
          "terrain": "ocean",
          "value": 0,
          "x": 1,
          "y": 10
         },
         {
          "terrain": "ocean",
          "value": -1,
          "x": 2,
          "y": 10
         },
         {
          "terrain": "ocean",
          "value": -1,
          "x": 3,
          "y": 10
         },
         {
          "terrain": "land",
          "value": 1,
          "x": 4,
          "y": 10
         },
         {
          "terrain": "ocean",
          "value": 0,
          "x": 5,
          "y": 10
         },
         {
          "terrain": "land",
          "value": 2,
          "x": 6,
          "y": 10
         },
         {
          "terrain": "ocean",
          "value": -1,
          "x": 7,
          "y": 10
         },
         {
          "terrain": "ocean",
          "value": 0,
          "x": 8,
          "y": 10
         },
         {
          "terrain": "ocean",
          "value": -1,
          "x": 9,
          "y": 10
         },
         {
          "terrain": "land",
          "value": 1,
          "x": 10,
          "y": 10
         },
         {
          "terrain": "ocean",
          "value": -1,
          "x": 11,
          "y": 10
         },
         {
          "terrain": "ocean",
          "value": 0,
          "x": 12,
          "y": 10
         },
         {
          "terrain": "ocean",
          "value": 0,
          "x": 13,
          "y": 10
         },
         {
          "terrain": "ocean",
          "value": 0,
          "x": 14,
          "y": 10
         },
         {
          "terrain": "ocean",
          "value": -1,
          "x": 15,
          "y": 10
         },
         {
          "terrain": "ocean",
          "value": -1,
          "x": 16,
          "y": 10
         },
         {
          "terrain": "ocean",
          "value": 0,
          "x": 17,
          "y": 10
         },
         {
          "terrain": "ocean",
          "value": -2,
          "x": 18,
          "y": 10
         },
         {
          "terrain": "ocean",
          "value": 0,
          "x": 19,
          "y": 10
         },
         {
          "terrain": "ocean",
          "value": -1,
          "x": 20,
          "y": 10
         },
         {
          "terrain": "ocean",
          "value": 0,
          "x": 21,
          "y": 10
         },
         {
          "terrain": "ocean",
          "value": -1,
          "x": 22,
          "y": 10
         },
         {
          "terrain": "ocean",
          "value": 0,
          "x": 23,
          "y": 10
         },
         {
          "terrain": "ocean",
          "value": -1,
          "x": 24,
          "y": 10
         },
         {
          "terrain": "ocean",
          "value": -2,
          "x": 25,
          "y": 10
         },
         {
          "terrain": "land",
          "value": 1,
          "x": 26,
          "y": 10
         },
         {
          "terrain": "land",
          "value": 2,
          "x": 27,
          "y": 10
         },
         {
          "terrain": "land",
          "value": 1,
          "x": 28,
          "y": 10
         },
         {
          "terrain": "land",
          "value": 1,
          "x": 29,
          "y": 10
         },
         {
          "terrain": "ocean",
          "value": 0,
          "x": 30,
          "y": 10
         },
         {
          "terrain": "land",
          "value": 2,
          "x": 31,
          "y": 10
         },
         {
          "terrain": "land",
          "value": 1,
          "x": 32,
          "y": 10
         },
         {
          "terrain": "ocean",
          "value": -1,
          "x": 33,
          "y": 10
         },
         {
          "terrain": "ocean",
          "value": -1,
          "x": 34,
          "y": 10
         },
         {
          "terrain": "land",
          "value": 2,
          "x": 35,
          "y": 10
         },
         {
          "terrain": "ocean",
          "value": 0,
          "x": 36,
          "y": 10
         },
         {
          "terrain": "land",
          "value": 1,
          "x": 37,
          "y": 10
         },
         {
          "terrain": "land",
          "value": 1,
          "x": 38,
          "y": 10
         },
         {
          "terrain": "land",
          "value": 2,
          "x": 39,
          "y": 10
         },
         {
          "terrain": "ocean",
          "value": 0,
          "x": 0,
          "y": 11
         },
         {
          "terrain": "ocean",
          "value": 0,
          "x": 1,
          "y": 11
         },
         {
          "terrain": "ocean",
          "value": -1,
          "x": 2,
          "y": 11
         },
         {
          "terrain": "ocean",
          "value": -1,
          "x": 3,
          "y": 11
         },
         {
          "terrain": "ocean",
          "value": 0,
          "x": 4,
          "y": 11
         },
         {
          "terrain": "ocean",
          "value": 0,
          "x": 5,
          "y": 11
         },
         {
          "terrain": "ocean",
          "value": 0,
          "x": 6,
          "y": 11
         },
         {
          "terrain": "land",
          "value": 1,
          "x": 7,
          "y": 11
         },
         {
          "terrain": "ocean",
          "value": -1,
          "x": 8,
          "y": 11
         },
         {
          "terrain": "ocean",
          "value": 0,
          "x": 9,
          "y": 11
         },
         {
          "terrain": "land",
          "value": 1,
          "x": 10,
          "y": 11
         },
         {
          "terrain": "ocean",
          "value": -1,
          "x": 11,
          "y": 11
         },
         {
          "terrain": "ocean",
          "value": -1,
          "x": 12,
          "y": 11
         },
         {
          "terrain": "land",
          "value": 1,
          "x": 13,
          "y": 11
         },
         {
          "terrain": "ocean",
          "value": -2,
          "x": 14,
          "y": 11
         },
         {
          "terrain": "ocean",
          "value": 0,
          "x": 15,
          "y": 11
         },
         {
          "terrain": "ocean",
          "value": 0,
          "x": 16,
          "y": 11
         },
         {
          "terrain": "ocean",
          "value": 0,
          "x": 17,
          "y": 11
         },
         {
          "terrain": "ocean",
          "value": -1,
          "x": 18,
          "y": 11
         },
         {
          "terrain": "ocean",
          "value": 0,
          "x": 19,
          "y": 11
         },
         {
          "terrain": "land",
          "value": 1,
          "x": 20,
          "y": 11
         },
         {
          "terrain": "ocean",
          "value": 0,
          "x": 21,
          "y": 11
         },
         {
          "terrain": "ocean",
          "value": -2,
          "x": 22,
          "y": 11
         },
         {
          "terrain": "ocean",
          "value": 0,
          "x": 23,
          "y": 11
         },
         {
          "terrain": "ocean",
          "value": 0,
          "x": 24,
          "y": 11
         },
         {
          "terrain": "ocean",
          "value": 0,
          "x": 25,
          "y": 11
         },
         {
          "terrain": "ocean",
          "value": -3,
          "x": 26,
          "y": 11
         },
         {
          "terrain": "ocean",
          "value": 0,
          "x": 27,
          "y": 11
         },
         {
          "terrain": "ocean",
          "value": -1,
          "x": 28,
          "y": 11
         },
         {
          "terrain": "ocean",
          "value": 0,
          "x": 29,
          "y": 11
         },
         {
          "terrain": "ocean",
          "value": 0,
          "x": 30,
          "y": 11
         },
         {
          "terrain": "ocean",
          "value": 0,
          "x": 31,
          "y": 11
         },
         {
          "terrain": "land",
          "value": 1,
          "x": 32,
          "y": 11
         },
         {
          "terrain": "land",
          "value": 1,
          "x": 33,
          "y": 11
         },
         {
          "terrain": "ocean",
          "value": -1,
          "x": 34,
          "y": 11
         },
         {
          "terrain": "ocean",
          "value": 0,
          "x": 35,
          "y": 11
         },
         {
          "terrain": "land",
          "value": 1,
          "x": 36,
          "y": 11
         },
         {
          "terrain": "ocean",
          "value": 0,
          "x": 37,
          "y": 11
         },
         {
          "terrain": "land",
          "value": 1,
          "x": 38,
          "y": 11
         },
         {
          "terrain": "ocean",
          "value": 0,
          "x": 39,
          "y": 11
         },
         {
          "terrain": "ocean",
          "value": 0,
          "x": 0,
          "y": 12
         },
         {
          "terrain": "ocean",
          "value": -2,
          "x": 1,
          "y": 12
         },
         {
          "terrain": "ocean",
          "value": -1,
          "x": 2,
          "y": 12
         },
         {
          "terrain": "ocean",
          "value": -1,
          "x": 3,
          "y": 12
         },
         {
          "terrain": "ocean",
          "value": 0,
          "x": 4,
          "y": 12
         },
         {
          "terrain": "land",
          "value": 1,
          "x": 5,
          "y": 12
         },
         {
          "terrain": "land",
          "value": 1,
          "x": 6,
          "y": 12
         },
         {
          "terrain": "ocean",
          "value": 0,
          "x": 7,
          "y": 12
         },
         {
          "terrain": "ocean",
          "value": -1,
          "x": 8,
          "y": 12
         },
         {
          "terrain": "ocean",
          "value": 0,
          "x": 9,
          "y": 12
         },
         {
          "terrain": "ocean",
          "value": 0,
          "x": 10,
          "y": 12
         },
         {
          "terrain": "ocean",
          "value": 0,
          "x": 11,
          "y": 12
         },
         {
          "terrain": "ocean",
          "value": 0,
          "x": 12,
          "y": 12
         },
         {
          "terrain": "ocean",
          "value": 0,
          "x": 13,
          "y": 12
         },
         {
          "terrain": "ocean",
          "value": 0,
          "x": 14,
          "y": 12
         },
         {
          "terrain": "land",
          "value": 2,
          "x": 15,
          "y": 12
         },
         {
          "terrain": "ocean",
          "value": 0,
          "x": 16,
          "y": 12
         },
         {
          "terrain": "ocean",
          "value": 0,
          "x": 17,
          "y": 12
         },
         {
          "terrain": "ocean",
          "value": 0,
          "x": 18,
          "y": 12
         },
         {
          "terrain": "ocean",
          "value": -1,
          "x": 19,
          "y": 12
         },
         {
          "terrain": "ocean",
          "value": 0,
          "x": 20,
          "y": 12
         },
         {
          "terrain": "ocean",
          "value": -1,
          "x": 21,
          "y": 12
         },
         {
          "terrain": "ocean",
          "value": 0,
          "x": 22,
          "y": 12
         },
         {
          "terrain": "ocean",
          "value": -1,
          "x": 23,
          "y": 12
         },
         {
          "terrain": "ocean",
          "value": -1,
          "x": 24,
          "y": 12
         },
         {
          "terrain": "ocean",
          "value": 0,
          "x": 25,
          "y": 12
         },
         {
          "terrain": "ocean",
          "value": -1,
          "x": 26,
          "y": 12
         },
         {
          "terrain": "land",
          "value": 2,
          "x": 27,
          "y": 12
         },
         {
          "terrain": "ocean",
          "value": -1,
          "x": 28,
          "y": 12
         },
         {
          "terrain": "ocean",
          "value": -1,
          "x": 29,
          "y": 12
         },
         {
          "terrain": "ocean",
          "value": 0,
          "x": 30,
          "y": 12
         },
         {
          "terrain": "ocean",
          "value": -1,
          "x": 31,
          "y": 12
         },
         {
          "terrain": "ocean",
          "value": -1,
          "x": 32,
          "y": 12
         },
         {
          "terrain": "ocean",
          "value": -1,
          "x": 33,
          "y": 12
         },
         {
          "terrain": "ocean",
          "value": 0,
          "x": 34,
          "y": 12
         },
         {
          "terrain": "ocean",
          "value": -1,
          "x": 35,
          "y": 12
         },
         {
          "terrain": "land",
          "value": 1,
          "x": 36,
          "y": 12
         },
         {
          "terrain": "ocean",
          "value": -1,
          "x": 37,
          "y": 12
         },
         {
          "terrain": "ocean",
          "value": 0,
          "x": 38,
          "y": 12
         },
         {
          "terrain": "ocean",
          "value": -1,
          "x": 39,
          "y": 12
         },
         {
          "terrain": "land",
          "value": 1,
          "x": 0,
          "y": 13
         },
         {
          "terrain": "ocean",
          "value": 0,
          "x": 1,
          "y": 13
         },
         {
          "terrain": "land",
          "value": 2,
          "x": 2,
          "y": 13
         },
         {
          "terrain": "land",
          "value": 1,
          "x": 3,
          "y": 13
         },
         {
          "terrain": "land",
          "value": 2,
          "x": 4,
          "y": 13
         },
         {
          "terrain": "ocean",
          "value": 0,
          "x": 5,
          "y": 13
         },
         {
          "terrain": "land",
          "value": 2,
          "x": 6,
          "y": 13
         },
         {
          "terrain": "ocean",
          "value": -1,
          "x": 7,
          "y": 13
         },
         {
          "terrain": "ocean",
          "value": 0,
          "x": 8,
          "y": 13
         },
         {
          "terrain": "ocean",
          "value": 0,
          "x": 9,
          "y": 13
         },
         {
          "terrain": "ocean",
          "value": -2,
          "x": 10,
          "y": 13
         },
         {
          "terrain": "ocean",
          "value": 0,
          "x": 11,
          "y": 13
         },
         {
          "terrain": "ocean",
          "value": -1,
          "x": 12,
          "y": 13
         },
         {
          "terrain": "ocean",
          "value": 0,
          "x": 13,
          "y": 13
         },
         {
          "terrain": "ocean",
          "value": 0,
          "x": 14,
          "y": 13
         },
         {
          "terrain": "ocean",
          "value": -2,
          "x": 15,
          "y": 13
         },
         {
          "terrain": "ocean",
          "value": 0,
          "x": 16,
          "y": 13
         },
         {
          "terrain": "land",
          "value": 1,
          "x": 17,
          "y": 13
         },
         {
          "terrain": "ocean",
          "value": -1,
          "x": 18,
          "y": 13
         },
         {
          "terrain": "land",
          "value": 1,
          "x": 19,
          "y": 13
         },
         {
          "terrain": "land",
          "value": 1,
          "x": 20,
          "y": 13
         },
         {
          "terrain": "ocean",
          "value": -1,
          "x": 21,
          "y": 13
         },
         {
          "terrain": "land",
          "value": 1,
          "x": 22,
          "y": 13
         },
         {
          "terrain": "ocean",
          "value": -1,
          "x": 23,
          "y": 13
         },
         {
          "terrain": "ocean",
          "value": 0,
          "x": 24,
          "y": 13
         },
         {
          "terrain": "ocean",
          "value": -1,
          "x": 25,
          "y": 13
         },
         {
          "terrain": "ocean",
          "value": 0,
          "x": 26,
          "y": 13
         },
         {
          "terrain": "ocean",
          "value": 0,
          "x": 27,
          "y": 13
         },
         {
          "terrain": "ocean",
          "value": 0,
          "x": 28,
          "y": 13
         },
         {
          "terrain": "land",
          "value": 1,
          "x": 29,
          "y": 13
         },
         {
          "terrain": "ocean",
          "value": -1,
          "x": 30,
          "y": 13
         },
         {
          "terrain": "land",
          "value": 1,
          "x": 31,
          "y": 13
         },
         {
          "terrain": "ocean",
          "value": 0,
          "x": 32,
          "y": 13
         },
         {
          "terrain": "ocean",
          "value": -3,
          "x": 33,
          "y": 13
         },
         {
          "terrain": "land",
          "value": 1,
          "x": 34,
          "y": 13
         },
         {
          "terrain": "land",
          "value": 1,
          "x": 35,
          "y": 13
         },
         {
          "terrain": "land",
          "value": 1,
          "x": 36,
          "y": 13
         },
         {
          "terrain": "ocean",
          "value": -1,
          "x": 37,
          "y": 13
         },
         {
          "terrain": "ocean",
          "value": -1,
          "x": 38,
          "y": 13
         },
         {
          "terrain": "land",
          "value": 1,
          "x": 39,
          "y": 13
         },
         {
          "terrain": "ocean",
          "value": -1,
          "x": 0,
          "y": 14
         },
         {
          "terrain": "land",
          "value": 2,
          "x": 1,
          "y": 14
         },
         {
          "terrain": "ocean",
          "value": 0,
          "x": 2,
          "y": 14
         },
         {
          "terrain": "land",
          "value": 2,
          "x": 3,
          "y": 14
         },
         {
          "terrain": "ocean",
          "value": -1,
          "x": 4,
          "y": 14
         },
         {
          "terrain": "ocean",
          "value": 0,
          "x": 5,
          "y": 14
         },
         {
          "terrain": "ocean",
          "value": 0,
          "x": 6,
          "y": 14
         },
         {
          "terrain": "land",
          "value": 2,
          "x": 7,
          "y": 14
         },
         {
          "terrain": "land",
          "value": 1,
          "x": 8,
          "y": 14
         },
         {
          "terrain": "land",
          "value": 1,
          "x": 9,
          "y": 14
         },
         {
          "terrain": "land",
          "value": 3,
          "x": 10,
          "y": 14
         },
         {
          "terrain": "ocean",
          "value": -1,
          "x": 11,
          "y": 14
         },
         {
          "terrain": "ocean",
          "value": -1,
          "x": 12,
          "y": 14
         },
         {
          "terrain": "ocean",
          "value": -1,
          "x": 13,
          "y": 14
         },
         {
          "terrain": "ocean",
          "value": -1,
          "x": 14,
          "y": 14
         },
         {
          "terrain": "ocean",
          "value": 0,
          "x": 15,
          "y": 14
         },
         {
          "terrain": "ocean",
          "value": 0,
          "x": 16,
          "y": 14
         },
         {
          "terrain": "land",
          "value": 1,
          "x": 17,
          "y": 14
         },
         {
          "terrain": "ocean",
          "value": -1,
          "x": 18,
          "y": 14
         },
         {
          "terrain": "land",
          "value": 1,
          "x": 19,
          "y": 14
         },
         {
          "terrain": "ocean",
          "value": -1,
          "x": 20,
          "y": 14
         },
         {
          "terrain": "ocean",
          "value": 0,
          "x": 21,
          "y": 14
         },
         {
          "terrain": "ocean",
          "value": -1,
          "x": 22,
          "y": 14
         },
         {
          "terrain": "ocean",
          "value": -1,
          "x": 23,
          "y": 14
         },
         {
          "terrain": "ocean",
          "value": -1,
          "x": 24,
          "y": 14
         },
         {
          "terrain": "ocean",
          "value": 0,
          "x": 25,
          "y": 14
         },
         {
          "terrain": "ocean",
          "value": 0,
          "x": 26,
          "y": 14
         },
         {
          "terrain": "ocean",
          "value": 0,
          "x": 27,
          "y": 14
         },
         {
          "terrain": "land",
          "value": 1,
          "x": 28,
          "y": 14
         },
         {
          "terrain": "ocean",
          "value": 0,
          "x": 29,
          "y": 14
         },
         {
          "terrain": "land",
          "value": 1,
          "x": 30,
          "y": 14
         },
         {
          "terrain": "ocean",
          "value": -1,
          "x": 31,
          "y": 14
         },
         {
          "terrain": "ocean",
          "value": 0,
          "x": 32,
          "y": 14
         },
         {
          "terrain": "ocean",
          "value": -1,
          "x": 33,
          "y": 14
         },
         {
          "terrain": "ocean",
          "value": 0,
          "x": 34,
          "y": 14
         },
         {
          "terrain": "ocean",
          "value": -1,
          "x": 35,
          "y": 14
         },
         {
          "terrain": "land",
          "value": 1,
          "x": 36,
          "y": 14
         },
         {
          "terrain": "ocean",
          "value": 0,
          "x": 37,
          "y": 14
         },
         {
          "terrain": "ocean",
          "value": 0,
          "x": 38,
          "y": 14
         },
         {
          "terrain": "ocean",
          "value": -2,
          "x": 39,
          "y": 14
         },
         {
          "terrain": "land",
          "value": 1,
          "x": 0,
          "y": 15
         },
         {
          "terrain": "ocean",
          "value": 0,
          "x": 1,
          "y": 15
         },
         {
          "terrain": "ocean",
          "value": 0,
          "x": 2,
          "y": 15
         },
         {
          "terrain": "land",
          "value": 2,
          "x": 3,
          "y": 15
         },
         {
          "terrain": "land",
          "value": 1,
          "x": 4,
          "y": 15
         },
         {
          "terrain": "ocean",
          "value": -1,
          "x": 5,
          "y": 15
         },
         {
          "terrain": "ocean",
          "value": 0,
          "x": 6,
          "y": 15
         },
         {
          "terrain": "ocean",
          "value": 0,
          "x": 7,
          "y": 15
         },
         {
          "terrain": "ocean",
          "value": -1,
          "x": 8,
          "y": 15
         },
         {
          "terrain": "ocean",
          "value": -1,
          "x": 9,
          "y": 15
         },
         {
          "terrain": "land",
          "value": 2,
          "x": 10,
          "y": 15
         },
         {
          "terrain": "ocean",
          "value": 0,
          "x": 11,
          "y": 15
         },
         {
          "terrain": "ocean",
          "value": 0,
          "x": 12,
          "y": 15
         },
         {
          "terrain": "land",
          "value": 1,
          "x": 13,
          "y": 15
         },
         {
          "terrain": "land",
          "value": 2,
          "x": 14,
          "y": 15
         },
         {
          "terrain": "land",
          "value": 1,
          "x": 15,
          "y": 15
         },
         {
          "terrain": "ocean",
          "value": -1,
          "x": 16,
          "y": 15
         },
         {
          "terrain": "ocean",
          "value": 0,
          "x": 17,
          "y": 15
         },
         {
          "terrain": "land",
          "value": 2,
          "x": 18,
          "y": 15
         },
         {
          "terrain": "land",
          "value": 1,
          "x": 19,
          "y": 15
         },
         {
          "terrain": "land",
          "value": 2,
          "x": 20,
          "y": 15
         },
         {
          "terrain": "land",
          "value": 1,
          "x": 21,
          "y": 15
         },
         {
          "terrain": "land",
          "value": 1,
          "x": 22,
          "y": 15
         },
         {
          "terrain": "ocean",
          "value": -1,
          "x": 23,
          "y": 15
         },
         {
          "terrain": "land",
          "value": 1,
          "x": 24,
          "y": 15
         },
         {
          "terrain": "ocean",
          "value": -1,
          "x": 25,
          "y": 15
         },
         {
          "terrain": "ocean",
          "value": -1,
          "x": 26,
          "y": 15
         },
         {
          "terrain": "land",
          "value": 1,
          "x": 27,
          "y": 15
         },
         {
          "terrain": "ocean",
          "value": -1,
          "x": 28,
          "y": 15
         },
         {
          "terrain": "ocean",
          "value": 0,
          "x": 29,
          "y": 15
         },
         {
          "terrain": "land",
          "value": 2,
          "x": 30,
          "y": 15
         },
         {
          "terrain": "ocean",
          "value": 0,
          "x": 31,
          "y": 15
         },
         {
          "terrain": "land",
          "value": 1,
          "x": 32,
          "y": 15
         },
         {
          "terrain": "land",
          "value": 1,
          "x": 33,
          "y": 15
         },
         {
          "terrain": "ocean",
          "value": -1,
          "x": 34,
          "y": 15
         },
         {
          "terrain": "land",
          "value": 1,
          "x": 35,
          "y": 15
         },
         {
          "terrain": "ocean",
          "value": -1,
          "x": 36,
          "y": 15
         },
         {
          "terrain": "land",
          "value": 2,
          "x": 37,
          "y": 15
         },
         {
          "terrain": "land",
          "value": 2,
          "x": 38,
          "y": 15
         },
         {
          "terrain": "ocean",
          "value": -1,
          "x": 39,
          "y": 15
         },
         {
          "terrain": "land",
          "value": 2,
          "x": 0,
          "y": 16
         },
         {
          "terrain": "land",
          "value": 1,
          "x": 1,
          "y": 16
         },
         {
          "terrain": "land",
          "value": 2,
          "x": 2,
          "y": 16
         },
         {
          "terrain": "land",
          "value": 1,
          "x": 3,
          "y": 16
         },
         {
          "terrain": "land",
          "value": 3,
          "x": 4,
          "y": 16
         },
         {
          "terrain": "land",
          "value": 2,
          "x": 5,
          "y": 16
         },
         {
          "terrain": "land",
          "value": 1,
          "x": 6,
          "y": 16
         },
         {
          "terrain": "land",
          "value": 2,
          "x": 7,
          "y": 16
         },
         {
          "terrain": "land",
          "value": 2,
          "x": 8,
          "y": 16
         },
         {
          "terrain": "land",
          "value": 3,
          "x": 9,
          "y": 16
         },
         {
          "terrain": "land",
          "value": 1,
          "x": 10,
          "y": 16
         },
         {
          "terrain": "land",
          "value": 4,
          "x": 11,
          "y": 16
         },
         {
          "terrain": "land",
          "value": 2,
          "x": 12,
          "y": 16
         },
         {
          "terrain": "land",
          "value": 1,
          "x": 13,
          "y": 16
         },
         {
          "terrain": "land",
          "value": 2,
          "x": 14,
          "y": 16
         },
         {
          "terrain": "land",
          "value": 1,
          "x": 15,
          "y": 16
         },
         {
          "terrain": "ocean",
          "value": 0,
          "x": 16,
          "y": 16
         },
         {
          "terrain": "land",
          "value": 1,
          "x": 17,
          "y": 16
         },
         {
          "terrain": "ocean",
          "value": -1,
          "x": 18,
          "y": 16
         },
         {
          "terrain": "ocean",
          "value": 0,
          "x": 19,
          "y": 16
         },
         {
          "terrain": "ocean",
          "value": -1,
          "x": 20,
          "y": 16
         },
         {
          "terrain": "land",
          "value": 1,
          "x": 21,
          "y": 16
         },
         {
          "terrain": "ocean",
          "value": 0,
          "x": 22,
          "y": 16
         },
         {
          "terrain": "land",
          "value": 1,
          "x": 23,
          "y": 16
         },
         {
          "terrain": "ocean",
          "value": -1,
          "x": 24,
          "y": 16
         },
         {
          "terrain": "land",
          "value": 1,
          "x": 25,
          "y": 16
         },
         {
          "terrain": "ocean",
          "value": 0,
          "x": 26,
          "y": 16
         },
         {
          "terrain": "land",
          "value": 1,
          "x": 27,
          "y": 16
         },
         {
          "terrain": "land",
          "value": 1,
          "x": 28,
          "y": 16
         },
         {
          "terrain": "ocean",
          "value": -1,
          "x": 29,
          "y": 16
         },
         {
          "terrain": "ocean",
          "value": 0,
          "x": 30,
          "y": 16
         },
         {
          "terrain": "ocean",
          "value": 0,
          "x": 31,
          "y": 16
         },
         {
          "terrain": "ocean",
          "value": 0,
          "x": 32,
          "y": 16
         },
         {
          "terrain": "ocean",
          "value": -1,
          "x": 33,
          "y": 16
         },
         {
          "terrain": "ocean",
          "value": 0,
          "x": 34,
          "y": 16
         },
         {
          "terrain": "ocean",
          "value": 0,
          "x": 35,
          "y": 16
         },
         {
          "terrain": "land",
          "value": 1,
          "x": 36,
          "y": 16
         },
         {
          "terrain": "land",
          "value": 1,
          "x": 37,
          "y": 16
         },
         {
          "terrain": "land",
          "value": 2,
          "x": 38,
          "y": 16
         },
         {
          "terrain": "ocean",
          "value": 0,
          "x": 39,
          "y": 16
         },
         {
          "terrain": "ocean",
          "value": 0,
          "x": 0,
          "y": 17
         },
         {
          "terrain": "land",
          "value": 4,
          "x": 1,
          "y": 17
         },
         {
          "terrain": "land",
          "value": 5,
          "x": 2,
          "y": 17
         },
         {
          "terrain": "land",
          "value": 5,
          "x": 3,
          "y": 17
         },
         {
          "terrain": "land",
          "value": 8,
          "x": 4,
          "y": 17
         },
         {
          "terrain": "land",
          "value": 8,
          "x": 5,
          "y": 17
         },
         {
          "terrain": "land",
          "value": 7,
          "x": 6,
          "y": 17
         },
         {
          "terrain": "land",
          "value": 5,
          "x": 7,
          "y": 17
         },
         {
          "terrain": "land",
          "value": 7,
          "x": 8,
          "y": 17
         },
         {
          "terrain": "land",
          "value": 5,
          "x": 9,
          "y": 17
         },
         {
          "terrain": "land",
          "value": 5,
          "x": 10,
          "y": 17
         },
         {
          "terrain": "land",
          "value": 3,
          "x": 11,
          "y": 17
         },
         {
          "terrain": "land",
          "value": 3,
          "x": 12,
          "y": 17
         },
         {
          "terrain": "land",
          "value": 4,
          "x": 13,
          "y": 17
         },
         {
          "terrain": "land",
          "value": 2,
          "x": 14,
          "y": 17
         },
         {
          "terrain": "land",
          "value": 2,
          "x": 15,
          "y": 17
         },
         {
          "terrain": "ocean",
          "value": 0,
          "x": 16,
          "y": 17
         },
         {
          "terrain": "ocean",
          "value": -2,
          "x": 17,
          "y": 17
         },
         {
          "terrain": "ocean",
          "value": -1,
          "x": 18,
          "y": 17
         },
         {
          "terrain": "land",
          "value": 1,
          "x": 19,
          "y": 17
         },
         {
          "terrain": "ocean",
          "value": -1,
          "x": 20,
          "y": 17
         },
         {
          "terrain": "ocean",
          "value": 0,
          "x": 21,
          "y": 17
         },
         {
          "terrain": "land",
          "value": 1,
          "x": 22,
          "y": 17
         },
         {
          "terrain": "ocean",
          "value": 0,
          "x": 23,
          "y": 17
         },
         {
          "terrain": "land",
          "value": 1,
          "x": 24,
          "y": 17
         },
         {
          "terrain": "ocean",
          "value": -1,
          "x": 25,
          "y": 17
         },
         {
          "terrain": "ocean",
          "value": -1,
          "x": 26,
          "y": 17
         },
         {
          "terrain": "ocean",
          "value": 0,
          "x": 27,
          "y": 17
         },
         {
          "terrain": "land",
          "value": 1,
          "x": 28,
          "y": 17
         },
         {
          "terrain": "ocean",
          "value": 0,
          "x": 29,
          "y": 17
         },
         {
          "terrain": "ocean",
          "value": 0,
          "x": 30,
          "y": 17
         },
         {
          "terrain": "ocean",
          "value": -2,
          "x": 31,
          "y": 17
         },
         {
          "terrain": "ocean",
          "value": 0,
          "x": 32,
          "y": 17
         },
         {
          "terrain": "land",
          "value": 1,
          "x": 33,
          "y": 17
         },
         {
          "terrain": "ocean",
          "value": 0,
          "x": 34,
          "y": 17
         },
         {
          "terrain": "ocean",
          "value": -1,
          "x": 35,
          "y": 17
         },
         {
          "terrain": "ocean",
          "value": 0,
          "x": 36,
          "y": 17
         },
         {
          "terrain": "ocean",
          "value": -2,
          "x": 37,
          "y": 17
         },
         {
          "terrain": "ocean",
          "value": 0,
          "x": 38,
          "y": 17
         },
         {
          "terrain": "ocean",
          "value": 0,
          "x": 39,
          "y": 17
         },
         {
          "terrain": "land",
          "value": 6,
          "x": 0,
          "y": 18
         },
         {
          "terrain": "land",
          "value": 6,
          "x": 1,
          "y": 18
         },
         {
          "terrain": "land",
          "value": 8,
          "x": 2,
          "y": 18
         },
         {
          "terrain": "land",
          "value": 9,
          "x": 3,
          "y": 18
         },
         {
          "terrain": "land",
          "value": 8,
          "x": 4,
          "y": 18
         },
         {
          "terrain": "land",
          "value": 11,
          "x": 5,
          "y": 18
         },
         {
          "terrain": "land",
          "value": 9,
          "x": 6,
          "y": 18
         },
         {
          "terrain": "land",
          "value": 10,
          "x": 7,
          "y": 18
         },
         {
          "terrain": "land",
          "value": 8,
          "x": 8,
          "y": 18
         },
         {
          "terrain": "land",
          "value": 7,
          "x": 9,
          "y": 18
         },
         {
          "terrain": "land",
          "value": 6,
          "x": 10,
          "y": 18
         },
         {
          "terrain": "land",
          "value": 5,
          "x": 11,
          "y": 18
         },
         {
          "terrain": "land",
          "value": 5,
          "x": 12,
          "y": 18
         },
         {
          "terrain": "land",
          "value": 5,
          "x": 13,
          "y": 18
         },
         {
          "terrain": "land",
          "value": 4,
          "x": 14,
          "y": 18
         },
         {
          "terrain": "land",
          "value": 1,
          "x": 15,
          "y": 18
         },
         {
          "terrain": "land",
          "value": 1,
          "x": 16,
          "y": 18
         },
         {
          "terrain": "ocean",
          "value": -1,
          "x": 17,
          "y": 18
         },
         {
          "terrain": "ocean",
          "value": -1,
          "x": 18,
          "y": 18
         },
         {
          "terrain": "ocean",
          "value": -1,
          "x": 19,
          "y": 18
         },
         {
          "terrain": "ocean",
          "value": 0,
          "x": 20,
          "y": 18
         },
         {
          "terrain": "land",
          "value": 1,
          "x": 21,
          "y": 18
         },
         {
          "terrain": "ocean",
          "value": 0,
          "x": 22,
          "y": 18
         },
         {
          "terrain": "ocean",
          "value": -1,
          "x": 23,
          "y": 18
         },
         {
          "terrain": "ocean",
          "value": -3,
          "x": 24,
          "y": 18
         },
         {
          "terrain": "ocean",
          "value": 0,
          "x": 25,
          "y": 18
         },
         {
          "terrain": "ocean",
          "value": -1,
          "x": 26,
          "y": 18
         },
         {
          "terrain": "land",
          "value": 1,
          "x": 27,
          "y": 18
         },
         {
          "terrain": "ocean",
          "value": 0,
          "x": 28,
          "y": 18
         },
         {
          "terrain": "ocean",
          "value": 0,
          "x": 29,
          "y": 18
         },
         {
          "terrain": "ocean",
          "value": -1,
          "x": 30,
          "y": 18
         },
         {
          "terrain": "ocean",
          "value": -1,
          "x": 31,
          "y": 18
         },
         {
          "terrain": "ocean",
          "value": 0,
          "x": 32,
          "y": 18
         },
         {
          "terrain": "land",
          "value": 1,
          "x": 33,
          "y": 18
         },
         {
          "terrain": "land",
          "value": 1,
          "x": 34,
          "y": 18
         },
         {
          "terrain": "ocean",
          "value": -1,
          "x": 35,
          "y": 18
         },
         {
          "terrain": "land",
          "value": 1,
          "x": 36,
          "y": 18
         },
         {
          "terrain": "ocean",
          "value": 0,
          "x": 37,
          "y": 18
         },
         {
          "terrain": "land",
          "value": 1,
          "x": 38,
          "y": 18
         },
         {
          "terrain": "ocean",
          "value": -1,
          "x": 39,
          "y": 18
         },
         {
          "terrain": "land",
          "value": 4,
          "x": 0,
          "y": 19
         },
         {
          "terrain": "land",
          "value": 8,
          "x": 1,
          "y": 19
         },
         {
          "terrain": "land",
          "value": 13,
          "x": 2,
          "y": 19
         },
         {
          "terrain": "land",
          "value": 16,
          "x": 3,
          "y": 19
         },
         {
          "terrain": "land",
          "value": 19,
          "x": 4,
          "y": 19
         },
         {
          "terrain": "land",
          "value": 19,
          "x": 5,
          "y": 19
         },
         {
          "terrain": "land",
          "value": 17,
          "x": 6,
          "y": 19
         },
         {
          "terrain": "land",
          "value": 15,
          "x": 7,
          "y": 19
         },
         {
          "terrain": "land",
          "value": 13,
          "x": 8,
          "y": 19
         },
         {
          "terrain": "land",
          "value": 11,
          "x": 9,
          "y": 19
         },
         {
          "terrain": "land",
          "value": 8,
          "x": 10,
          "y": 19
         },
         {
          "terrain": "land",
          "value": 8,
          "x": 11,
          "y": 19
         },
         {
          "terrain": "land",
          "value": 4,
          "x": 12,
          "y": 19
         },
         {
          "terrain": "land",
          "value": 5,
          "x": 13,
          "y": 19
         },
         {
          "terrain": "land",
          "value": 3,
          "x": 14,
          "y": 19
         },
         {
          "terrain": "land",
          "value": 2,
          "x": 15,
          "y": 19
         },
         {
          "terrain": "ocean",
          "value": -1,
          "x": 16,
          "y": 19
         },
         {
          "terrain": "land",
          "value": 2,
          "x": 17,
          "y": 19
         },
         {
          "terrain": "land",
          "value": 1,
          "x": 18,
          "y": 19
         },
         {
          "terrain": "land",
          "value": 2,
          "x": 19,
          "y": 19
         },
         {
          "terrain": "land",
          "value": 2,
          "x": 20,
          "y": 19
         },
         {
          "terrain": "ocean",
          "value": 0,
          "x": 21,
          "y": 19
         },
         {
          "terrain": "land",
          "value": 1,
          "x": 22,
          "y": 19
         },
         {
          "terrain": "land",
          "value": 1,
          "x": 23,
          "y": 19
         },
         {
          "terrain": "ocean",
          "value": 0,
          "x": 24,
          "y": 19
         },
         {
          "terrain": "ocean",
          "value": -2,
          "x": 25,
          "y": 19
         },
         {
          "terrain": "land",
          "value": 1,
          "x": 26,
          "y": 19
         },
         {
          "terrain": "land",
          "value": 2,
          "x": 27,
          "y": 19
         },
         {
          "terrain": "land",
          "value": 1,
          "x": 28,
          "y": 19
         },
         {
          "terrain": "ocean",
          "value": -1,
          "x": 29,
          "y": 19
         },
         {
          "terrain": "land",
          "value": 1,
          "x": 30,
          "y": 19
         },
         {
          "terrain": "ocean",
          "value": -1,
          "x": 31,
          "y": 19
         },
         {
          "terrain": "land",
          "value": 1,
          "x": 32,
          "y": 19
         },
         {
          "terrain": "ocean",
          "value": -1,
          "x": 33,
          "y": 19
         },
         {
          "terrain": "ocean",
          "value": 0,
          "x": 34,
          "y": 19
         },
         {
          "terrain": "ocean",
          "value": 0,
          "x": 35,
          "y": 19
         },
         {
          "terrain": "ocean",
          "value": 0,
          "x": 36,
          "y": 19
         },
         {
          "terrain": "land",
          "value": 1,
          "x": 37,
          "y": 19
         },
         {
          "terrain": "ocean",
          "value": 0,
          "x": 38,
          "y": 19
         },
         {
          "terrain": "land",
          "value": 3,
          "x": 39,
          "y": 19
         },
         {
          "terrain": "land",
          "value": 9,
          "x": 0,
          "y": 20
         },
         {
          "terrain": "land",
          "value": 14,
          "x": 1,
          "y": 20
         },
         {
          "terrain": "land",
          "value": 20,
          "x": 2,
          "y": 20
         },
         {
          "terrain": "mountain",
          "value": 27,
          "x": 3,
          "y": 20
         },
         {
          "terrain": "mountain",
          "value": 34,
          "x": 4,
          "y": 20
         },
         {
          "terrain": "mountain",
          "value": 33,
          "x": 5,
          "y": 20
         },
         {
          "terrain": "mountain",
          "value": 28,
          "x": 6,
          "y": 20
         },
         {
          "terrain": "mountain",
          "value": 25,
          "x": 7,
          "y": 20
         },
         {
          "terrain": "land",
          "value": 20,
          "x": 8,
          "y": 20
         },
         {
          "terrain": "land",
          "value": 17,
          "x": 9,
          "y": 20
         },
         {
          "terrain": "land",
          "value": 15,
          "x": 10,
          "y": 20
         },
         {
          "terrain": "land",
          "value": 11,
          "x": 11,
          "y": 20
         },
         {
          "terrain": "land",
          "value": 8,
          "x": 12,
          "y": 20
         },
         {
          "terrain": "land",
          "value": 5,
          "x": 13,
          "y": 20
         },
         {
          "terrain": "land",
          "value": 3,
          "x": 14,
          "y": 20
         },
         {
          "terrain": "ocean",
          "value": 0,
          "x": 15,
          "y": 20
         },
         {
          "terrain": "ocean",
          "value": 0,
          "x": 16,
          "y": 20
         },
         {
          "terrain": "land",
          "value": 2,
          "x": 17,
          "y": 20
         },
         {
          "terrain": "land",
          "value": 1,
          "x": 18,
          "y": 20
         },
         {
          "terrain": "ocean",
          "value": 0,
          "x": 19,
          "y": 20
         },
         {
          "terrain": "ocean",
          "value": 0,
          "x": 20,
          "y": 20
         },
         {
          "terrain": "ocean",
          "value": -1,
          "x": 21,
          "y": 20
         },
         {
          "terrain": "ocean",
          "value": 0,
          "x": 22,
          "y": 20
         },
         {
          "terrain": "ocean",
          "value": -1,
          "x": 23,
          "y": 20
         },
         {
          "terrain": "ocean",
          "value": -1,
          "x": 24,
          "y": 20
         },
         {
          "terrain": "land",
          "value": 1,
          "x": 25,
          "y": 20
         },
         {
          "terrain": "ocean",
          "value": -2,
          "x": 26,
          "y": 20
         },
         {
          "terrain": "ocean",
          "value": -1,
          "x": 27,
          "y": 20
         },
         {
          "terrain": "land",
          "value": 1,
          "x": 28,
          "y": 20
         },
         {
          "terrain": "ocean",
          "value": 0,
          "x": 29,
          "y": 20
         },
         {
          "terrain": "ocean",
          "value": -2,
          "x": 30,
          "y": 20
         },
         {
          "terrain": "land",
          "value": 1,
          "x": 31,
          "y": 20
         },
         {
          "terrain": "ocean",
          "value": -1,
          "x": 32,
          "y": 20
         },
         {
          "terrain": "land",
          "value": 1,
          "x": 33,
          "y": 20
         },
         {
          "terrain": "ocean",
          "value": 0,
          "x": 34,
          "y": 20
         },
         {
          "terrain": "ocean",
          "value": -1,
          "x": 35,
          "y": 20
         },
         {
          "terrain": "land",
          "value": 1,
          "x": 36,
          "y": 20
         },
         {
          "terrain": "land",
          "value": 2,
          "x": 37,
          "y": 20
         },
         {
          "terrain": "ocean",
          "value": 0,
          "x": 38,
          "y": 20
         },
         {
          "terrain": "ocean",
          "value": 0,
          "x": 39,
          "y": 20
         },
         {
          "terrain": "land",
          "value": 13,
          "x": 0,
          "y": 21
         },
         {
          "terrain": "land",
          "value": 20,
          "x": 1,
          "y": 21
         },
         {
          "terrain": "mountain",
          "value": 31,
          "x": 2,
          "y": 21
         },
         {
          "terrain": "mountain",
          "value": 46,
          "x": 3,
          "y": 21
         },
         {
          "terrain": "mountain",
          "value": 52,
          "x": 4,
          "y": 21
         },
         {
          "terrain": "mountain",
          "value": 50,
          "x": 5,
          "y": 21
         },
         {
          "terrain": "mountain",
          "value": 44,
          "x": 6,
          "y": 21
         },
         {
          "terrain": "mountain",
          "value": 36,
          "x": 7,
          "y": 21
         },
         {
          "terrain": "mountain",
          "value": 32,
          "x": 8,
          "y": 21
         },
         {
          "terrain": "mountain",
          "value": 28,
          "x": 9,
          "y": 21
         },
         {
          "terrain": "land",
          "value": 23,
          "x": 10,
          "y": 21
         },
         {
          "terrain": "land",
          "value": 17,
          "x": 11,
          "y": 21
         },
         {
          "terrain": "land",
          "value": 11,
          "x": 12,
          "y": 21
         },
         {
          "terrain": "land",
          "value": 4,
          "x": 13,
          "y": 21
         },
         {
          "terrain": "land",
          "value": 2,
          "x": 14,
          "y": 21
         },
         {
          "terrain": "land",
          "value": 1,
          "x": 15,
          "y": 21
         },
         {
          "terrain": "land",
          "value": 2,
          "x": 16,
          "y": 21
         },
         {
          "terrain": "ocean",
          "value": 0,
          "x": 17,
          "y": 21
         },
         {
          "terrain": "land",
          "value": 1,
          "x": 18,
          "y": 21
         },
         {
          "terrain": "ocean",
          "value": 0,
          "x": 19,
          "y": 21
         },
         {
          "terrain": "land",
          "value": 1,
          "x": 20,
          "y": 21
         },
         {
          "terrain": "ocean",
          "value": -2,
          "x": 21,
          "y": 21
         },
         {
          "terrain": "land",
          "value": 1,
          "x": 22,
          "y": 21
         },
         {
          "terrain": "ocean",
          "value": 0,
          "x": 23,
          "y": 21
         },
         {
          "terrain": "ocean",
          "value": 0,
          "x": 24,
          "y": 21
         },
         {
          "terrain": "ocean",
          "value": 0,
          "x": 25,
          "y": 21
         },
         {
          "terrain": "ocean",
          "value": 0,
          "x": 26,
          "y": 21
         },
         {
          "terrain": "ocean",
          "value": 0,
          "x": 27,
          "y": 21
         },
         {
          "terrain": "ocean",
          "value": 0,
          "x": 28,
          "y": 21
         },
         {
          "terrain": "ocean",
          "value": 0,
          "x": 29,
          "y": 21
         },
         {
          "terrain": "land",
          "value": 2,
          "x": 30,
          "y": 21
         },
         {
          "terrain": "land",
          "value": 1,
          "x": 31,
          "y": 21
         },
         {
          "terrain": "ocean",
          "value": 0,
          "x": 32,
          "y": 21
         },
         {
          "terrain": "ocean",
          "value": 0,
          "x": 33,
          "y": 21
         },
         {
          "terrain": "land",
          "value": 1,
          "x": 34,
          "y": 21
         },
         {
          "terrain": "land",
          "value": 2,
          "x": 35,
          "y": 21
         },
         {
          "terrain": "ocean",
          "value": -1,
          "x": 36,
          "y": 21
         },
         {
          "terrain": "land",
          "value": 1,
          "x": 37,
          "y": 21
         },
         {
          "terrain": "land",
          "value": 1,
          "x": 38,
          "y": 21
         },
         {
          "terrain": "ocean",
          "value": -2,
          "x": 39,
          "y": 21
         },
         {
          "terrain": "land",
          "value": 20,
          "x": 0,
          "y": 22
         },
         {
          "terrain": "mountain",
          "value": 28,
          "x": 1,
          "y": 22
         },
         {
          "terrain": "mountain",
          "value": 44,
          "x": 2,
          "y": 22
         },
         {
          "terrain": "mountain",
          "value": 61,
          "x": 3,
          "y": 22
         },
         {
          "terrain": "mountain",
          "value": 70,
          "x": 4,
          "y": 22
         },
         {
          "terrain": "mountain",
          "value": 68,
          "x": 5,
          "y": 22
         },
         {
          "terrain": "mountain",
          "value": 66,
          "x": 6,
          "y": 22
         },
         {
          "terrain": "mountain",
          "value": 54,
          "x": 7,
          "y": 22
         },
         {
          "terrain": "mountain",
          "value": 48,
          "x": 8,
          "y": 22
         },
         {
          "terrain": "mountain",
          "value": 40,
          "x": 9,
          "y": 22
         },
         {
          "terrain": "mountain",
          "value": 31,
          "x": 10,
          "y": 22
         },
         {
          "terrain": "land",
          "value": 22,
          "x": 11,
          "y": 22
         },
         {
          "terrain": "land",
          "value": 12,
          "x": 12,
          "y": 22
         },
         {
          "terrain": "land",
          "value": 6,
          "x": 13,
          "y": 22
         },
         {
          "terrain": "land",
          "value": 5,
          "x": 14,
          "y": 22
         },
         {
          "terrain": "land",
          "value": 1,
          "x": 15,
          "y": 22
         },
         {
          "terrain": "ocean",
          "value": -1,
          "x": 16,
          "y": 22
         },
         {
          "terrain": "ocean",
          "value": -2,
          "x": 17,
          "y": 22
         },
         {
          "terrain": "land",
          "value": 1,
          "x": 18,
          "y": 22
         },
         {
          "terrain": "ocean",
          "value": 0,
          "x": 19,
          "y": 22
         },
         {
          "terrain": "ocean",
          "value": 0,
          "x": 20,
          "y": 22
         },
         {
          "terrain": "ocean",
          "value": 0,
          "x": 21,
          "y": 22
         },
         {
          "terrain": "ocean",
          "value": 0,
          "x": 22,
          "y": 22
         },
         {
          "terrain": "ocean",
          "value": -1,
          "x": 23,
          "y": 22
         },
         {
          "terrain": "ocean",
          "value": -1,
          "x": 24,
          "y": 22
         },
         {
          "terrain": "ocean",
          "value": -1,
          "x": 25,
          "y": 22
         },
         {
          "terrain": "ocean",
          "value": 0,
          "x": 26,
          "y": 22
         },
         {
          "terrain": "ocean",
          "value": 0,
          "x": 27,
          "y": 22
         },
         {
          "terrain": "ocean",
          "value": 0,
          "x": 28,
          "y": 22
         },
         {
          "terrain": "ocean",
          "value": 0,
          "x": 29,
          "y": 22
         },
         {
          "terrain": "ocean",
          "value": 0,
          "x": 30,
          "y": 22
         },
         {
          "terrain": "ocean",
          "value": 0,
          "x": 31,
          "y": 22
         },
         {
          "terrain": "ocean",
          "value": 0,
          "x": 32,
          "y": 22
         },
         {
          "terrain": "land",
          "value": 1,
          "x": 33,
          "y": 22
         },
         {
          "terrain": "ocean",
          "value": 0,
          "x": 34,
          "y": 22
         },
         {
          "terrain": "ocean",
          "value": 0,
          "x": 35,
          "y": 22
         },
         {
          "terrain": "ocean",
          "value": 0,
          "x": 36,
          "y": 22
         },
         {
          "terrain": "ocean",
          "value": 0,
          "x": 37,
          "y": 22
         },
         {
          "terrain": "ocean",
          "value": 0,
          "x": 38,
          "y": 22
         },
         {
          "terrain": "land",
          "value": 1,
          "x": 39,
          "y": 22
         },
         {
          "terrain": "land",
          "value": 22,
          "x": 0,
          "y": 23
         },
         {
          "terrain": "mountain",
          "value": 37,
          "x": 1,
          "y": 23
         },
         {
          "terrain": "mountain",
          "value": 52,
          "x": 2,
          "y": 23
         },
         {
          "terrain": "mountain",
          "value": 68,
          "x": 3,
          "y": 23
         },
         {
          "terrain": "mountain",
          "value": 79,
          "x": 4,
          "y": 23
         },
         {
          "terrain": "mountain",
          "value": 87,
          "x": 5,
          "y": 23
         },
         {
          "terrain": "mountain",
          "value": 82,
          "x": 6,
          "y": 23
         },
         {
          "terrain": "mountain",
          "value": 73,
          "x": 7,
          "y": 23
         },
         {
          "terrain": "mountain",
          "value": 65,
          "x": 8,
          "y": 23
         },
         {
          "terrain": "mountain",
          "value": 55,
          "x": 9,
          "y": 23
         },
         {
          "terrain": "mountain",
          "value": 40,
          "x": 10,
          "y": 23
         },
         {
          "terrain": "mountain",
          "value": 25,
          "x": 11,
          "y": 23
         },
         {
          "terrain": "land",
          "value": 16,
          "x": 12,
          "y": 23
         },
         {
          "terrain": "land",
          "value": 4,
          "x": 13,
          "y": 23
         },
         {
          "terrain": "land",
          "value": 4,
          "x": 14,
          "y": 23
         },
         {
          "terrain": "land",
          "value": 1,
          "x": 15,
          "y": 23
         },
         {
          "terrain": "ocean",
          "value": 0,
          "x": 16,
          "y": 23
         },
         {
          "terrain": "ocean",
          "value": 0,
          "x": 17,
          "y": 23
         },
         {
          "terrain": "ocean",
          "value": -1,
          "x": 18,
          "y": 23
         },
         {
          "terrain": "ocean",
          "value": 0,
          "x": 19,
          "y": 23
         },
         {
          "terrain": "ocean",
          "value": 0,
          "x": 20,
          "y": 23
         },
         {
          "terrain": "ocean",
          "value": -1,
          "x": 21,
          "y": 23
         },
         {
          "terrain": "land",
          "value": 1,
          "x": 22,
          "y": 23
         },
         {
          "terrain": "ocean",
          "value": -1,
          "x": 23,
          "y": 23
         },
         {
          "terrain": "land",
          "value": 2,
          "x": 24,
          "y": 23
         },
         {
          "terrain": "ocean",
          "value": -1,
          "x": 25,
          "y": 23
         },
         {
          "terrain": "ocean",
          "value": 0,
          "x": 26,
          "y": 23
         },
         {
          "terrain": "ocean",
          "value": -2,
          "x": 27,
          "y": 23
         },
         {
          "terrain": "ocean",
          "value": 0,
          "x": 28,
          "y": 23
         },
         {
          "terrain": "ocean",
          "value": 0,
          "x": 29,
          "y": 23
         },
         {
          "terrain": "ocean",
          "value": -1,
          "x": 30,
          "y": 23
         },
         {
          "terrain": "land",
          "value": 1,
          "x": 31,
          "y": 23
         },
         {
          "terrain": "ocean",
          "value": -1,
          "x": 32,
          "y": 23
         },
         {
          "terrain": "ocean",
          "value": 0,
          "x": 33,
          "y": 23
         },
         {
          "terrain": "land",
          "value": 2,
          "x": 34,
          "y": 23
         },
         {
          "terrain": "land",
          "value": 1,
          "x": 35,
          "y": 23
         },
         {
          "terrain": "land",
          "value": 1,
          "x": 36,
          "y": 23
         },
         {
          "terrain": "ocean",
          "value": 0,
          "x": 37,
          "y": 23
         },
         {
          "terrain": "ocean",
          "value": 0,
          "x": 38,
          "y": 23
         },
         {
          "terrain": "ocean",
          "value": 0,
          "x": 39,
          "y": 23
         },
         {
          "terrain": "mountain",
          "value": 30,
          "x": 0,
          "y": 24
         },
         {
          "terrain": "mountain",
          "value": 38,
          "x": 1,
          "y": 24
         },
         {
          "terrain": "mountain",
          "value": 54,
          "x": 2,
          "y": 24
         },
         {
          "terrain": "mountain",
          "value": 71,
          "x": 3,
          "y": 24
         },
         {
          "terrain": "mountain",
          "value": 86,
          "x": 4,
          "y": 24
         },
         {
          "terrain": "mountain",
          "value": 97,
          "x": 5,
          "y": 24
         },
         {
          "terrain": "mountain",
          "value": 101,
          "x": 6,
          "y": 24
         },
         {
          "terrain": "mountain",
          "value": 87,
          "x": 7,
          "y": 24
         },
         {
          "terrain": "mountain",
          "value": 74,
          "x": 8,
          "y": 24
         },
         {
          "terrain": "mountain",
          "value": 61,
          "x": 9,
          "y": 24
         },
         {
          "terrain": "mountain",
          "value": 44,
          "x": 10,
          "y": 24
         },
         {
          "terrain": "mountain",
          "value": 28,
          "x": 11,
          "y": 24
         },
         {
          "terrain": "land",
          "value": 12,
          "x": 12,
          "y": 24
         },
         {
          "terrain": "land",
          "value": 6,
          "x": 13,
          "y": 24
         },
         {
          "terrain": "land",
          "value": 3,
          "x": 14,
          "y": 24
         },
         {
          "terrain": "land",
          "value": 2,
          "x": 15,
          "y": 24
         },
         {
          "terrain": "land",
          "value": 2,
          "x": 16,
          "y": 24
         },
         {
          "terrain": "ocean",
          "value": 0,
          "x": 17,
          "y": 24
         },
         {
          "terrain": "ocean",
          "value": 0,
          "x": 18,
          "y": 24
         },
         {
          "terrain": "land",
          "value": 1,
          "x": 19,
          "y": 24
         },
         {
          "terrain": "land",
          "value": 3,
          "x": 20,
          "y": 24
         },
         {
          "terrain": "ocean",
          "value": 0,
          "x": 21,
          "y": 24
         },
         {
          "terrain": "ocean",
          "value": 0,
          "x": 22,
          "y": 24
         },
         {
          "terrain": "land",
          "value": 1,
          "x": 23,
          "y": 24
         },
         {
          "terrain": "ocean",
          "value": -1,
          "x": 24,
          "y": 24
         },
         {
          "terrain": "land",
          "value": 1,
          "x": 25,
          "y": 24
         },
         {
          "terrain": "land",
          "value": 1,
          "x": 26,
          "y": 24
         },
         {
          "terrain": "land",
          "value": 1,
          "x": 27,
          "y": 24
         },
         {
          "terrain": "ocean",
          "value": 0,
          "x": 28,
          "y": 24
         },
         {
          "terrain": "ocean",
          "value": -1,
          "x": 29,
          "y": 24
         },
         {
          "terrain": "ocean",
          "value": -1,
          "x": 30,
          "y": 24
         },
         {
          "terrain": "ocean",
          "value": 0,
          "x": 31,
          "y": 24
         },
         {
          "terrain": "land",
          "value": 2,
          "x": 32,
          "y": 24
         },
         {
          "terrain": "ocean",
          "value": 0,
          "x": 33,
          "y": 24
         },
         {
          "terrain": "ocean",
          "value": -1,
          "x": 34,
          "y": 24
         },
         {
          "terrain": "ocean",
          "value": 0,
          "x": 35,
          "y": 24
         },
         {
          "terrain": "ocean",
          "value": 0,
          "x": 36,
          "y": 24
         },
         {
          "terrain": "ocean",
          "value": -1,
          "x": 37,
          "y": 24
         },
         {
          "terrain": "ocean",
          "value": 0,
          "x": 38,
          "y": 24
         },
         {
          "terrain": "ocean",
          "value": 0,
          "x": 39,
          "y": 24
         },
         {
          "terrain": "mountain",
          "value": 32,
          "x": 0,
          "y": 25
         },
         {
          "terrain": "mountain",
          "value": 44,
          "x": 1,
          "y": 25
         },
         {
          "terrain": "mountain",
          "value": 59,
          "x": 2,
          "y": 25
         },
         {
          "terrain": "mountain",
          "value": 75,
          "x": 3,
          "y": 25
         },
         {
          "terrain": "mountain",
          "value": 88,
          "x": 4,
          "y": 25
         },
         {
          "terrain": "mountain",
          "value": 102,
          "x": 5,
          "y": 25
         },
         {
          "terrain": "mountain",
          "value": 106,
          "x": 6,
          "y": 25
         },
         {
          "terrain": "mountain",
          "value": 98,
          "x": 7,
          "y": 25
         },
         {
          "terrain": "mountain",
          "value": 82,
          "x": 8,
          "y": 25
         },
         {
          "terrain": "mountain",
          "value": 69,
          "x": 9,
          "y": 25
         },
         {
          "terrain": "mountain",
          "value": 43,
          "x": 10,
          "y": 25
         },
         {
          "terrain": "mountain",
          "value": 28,
          "x": 11,
          "y": 25
         },
         {
          "terrain": "land",
          "value": 14,
          "x": 12,
          "y": 25
         },
         {
          "terrain": "land",
          "value": 5,
          "x": 13,
          "y": 25
         },
         {
          "terrain": "land",
          "value": 3,
          "x": 14,
          "y": 25
         },
         {
          "terrain": "land",
          "value": 3,
          "x": 15,
          "y": 25
         },
         {
          "terrain": "ocean",
          "value": 0,
          "x": 16,
          "y": 25
         },
         {
          "terrain": "ocean",
          "value": 0,
          "x": 17,
          "y": 25
         },
         {
          "terrain": "land",
          "value": 1,
          "x": 18,
          "y": 25
         },
         {
          "terrain": "land",
          "value": 1,
          "x": 19,
          "y": 25
         },
         {
          "terrain": "ocean",
          "value": -1,
          "x": 20,
          "y": 25
         },
         {
          "terrain": "ocean",
          "value": 0,
          "x": 21,
          "y": 25
         },
         {
          "terrain": "land",
          "value": 2,
          "x": 22,
          "y": 25
         },
         {
          "terrain": "ocean",
          "value": 0,
          "x": 23,
          "y": 25
         },
         {
          "terrain": "ocean",
          "value": -1,
          "x": 24,
          "y": 25
         },
         {
          "terrain": "land",
          "value": 2,
          "x": 25,
          "y": 25
         },
         {
          "terrain": "ocean",
          "value": 0,
          "x": 26,
          "y": 25
         },
         {
          "terrain": "ocean",
          "value": -1,
          "x": 27,
          "y": 25
         },
         {
          "terrain": "ocean",
          "value": 0,
          "x": 28,
          "y": 25
         },
         {
          "terrain": "ocean",
          "value": 0,
          "x": 29,
          "y": 25
         },
         {
          "terrain": "ocean",
          "value": 0,
          "x": 30,
          "y": 25
         },
         {
          "terrain": "ocean",
          "value": 0,
          "x": 31,
          "y": 25
         },
         {
          "terrain": "land",
          "value": 2,
          "x": 32,
          "y": 25
         },
         {
          "terrain": "ocean",
          "value": -1,
          "x": 33,
          "y": 25
         },
         {
          "terrain": "ocean",
          "value": -1,
          "x": 34,
          "y": 25
         },
         {
          "terrain": "land",
          "value": 1,
          "x": 35,
          "y": 25
         },
         {
          "terrain": "ocean",
          "value": 0,
          "x": 36,
          "y": 25
         },
         {
          "terrain": "ocean",
          "value": -1,
          "x": 37,
          "y": 25
         },
         {
          "terrain": "ocean",
          "value": -1,
          "x": 38,
          "y": 25
         },
         {
          "terrain": "land",
          "value": 1,
          "x": 39,
          "y": 25
         },
         {
          "terrain": "mountain",
          "value": 35,
          "x": 0,
          "y": 26
         },
         {
          "terrain": "mountain",
          "value": 45,
          "x": 1,
          "y": 26
         },
         {
          "terrain": "mountain",
          "value": 61,
          "x": 2,
          "y": 26
         },
         {
          "terrain": "mountain",
          "value": 72,
          "x": 3,
          "y": 26
         },
         {
          "terrain": "mountain",
          "value": 86,
          "x": 4,
          "y": 26
         },
         {
          "terrain": "mountain",
          "value": 101,
          "x": 5,
          "y": 26
         },
         {
          "terrain": "mountain",
          "value": 100,
          "x": 6,
          "y": 26
         },
         {
          "terrain": "mountain",
          "value": 94,
          "x": 7,
          "y": 26
         },
         {
          "terrain": "mountain",
          "value": 84,
          "x": 8,
          "y": 26
         },
         {
          "terrain": "mountain",
          "value": 64,
          "x": 9,
          "y": 26
         },
         {
          "terrain": "mountain",
          "value": 44,
          "x": 10,
          "y": 26
         },
         {
          "terrain": "land",
          "value": 24,
          "x": 11,
          "y": 26
         },
         {
          "terrain": "land",
          "value": 15,
          "x": 12,
          "y": 26
         },
         {
          "terrain": "land",
          "value": 6,
          "x": 13,
          "y": 26
         },
         {
          "terrain": "land",
          "value": 4,
          "x": 14,
          "y": 26
         },
         {
          "terrain": "land",
          "value": 2,
          "x": 15,
          "y": 26
         },
         {
          "terrain": "land",
          "value": 1,
          "x": 16,
          "y": 26
         },
         {
          "terrain": "ocean",
          "value": -1,
          "x": 17,
          "y": 26
         },
         {
          "terrain": "land",
          "value": 1,
          "x": 18,
          "y": 26
         },
         {
          "terrain": "ocean",
          "value": -3,
          "x": 19,
          "y": 26
         },
         {
          "terrain": "ocean",
          "value": -1,
          "x": 20,
          "y": 26
         },
         {
          "terrain": "land",
          "value": 1,
          "x": 21,
          "y": 26
         },
         {
          "terrain": "land",
          "value": 1,
          "x": 22,
          "y": 26
         },
         {
          "terrain": "ocean",
          "value": -2,
          "x": 23,
          "y": 26
         },
         {
          "terrain": "ocean",
          "value": 0,
          "x": 24,
          "y": 26
         },
         {
          "terrain": "ocean",
          "value": 0,
          "x": 25,
          "y": 26
         },
         {
          "terrain": "ocean",
          "value": -1,
          "x": 26,
          "y": 26
         },
         {
          "terrain": "land",
          "value": 1,
          "x": 27,
          "y": 26
         },
         {
          "terrain": "land",
          "value": 1,
          "x": 28,
          "y": 26
         },
         {
          "terrain": "ocean",
          "value": 0,
          "x": 29,
          "y": 26
         },
         {
          "terrain": "ocean",
          "value": -2,
          "x": 30,
          "y": 26
         },
         {
          "terrain": "ocean",
          "value": -1,
          "x": 31,
          "y": 26
         },
         {
          "terrain": "land",
          "value": 2,
          "x": 32,
          "y": 26
         },
         {
          "terrain": "ocean",
          "value": 0,
          "x": 33,
          "y": 26
         },
         {
          "terrain": "ocean",
          "value": -1,
          "x": 34,
          "y": 26
         },
         {
          "terrain": "ocean",
          "value": -1,
          "x": 35,
          "y": 26
         },
         {
          "terrain": "land",
          "value": 2,
          "x": 36,
          "y": 26
         },
         {
          "terrain": "ocean",
          "value": 0,
          "x": 37,
          "y": 26
         },
         {
          "terrain": "ocean",
          "value": 0,
          "x": 38,
          "y": 26
         },
         {
          "terrain": "ocean",
          "value": 0,
          "x": 39,
          "y": 26
         },
         {
          "terrain": "mountain",
          "value": 31,
          "x": 0,
          "y": 27
         },
         {
          "terrain": "mountain",
          "value": 44,
          "x": 1,
          "y": 27
         },
         {
          "terrain": "mountain",
          "value": 57,
          "x": 2,
          "y": 27
         },
         {
          "terrain": "mountain",
          "value": 71,
          "x": 3,
          "y": 27
         },
         {
          "terrain": "mountain",
          "value": 79,
          "x": 4,
          "y": 27
         },
         {
          "terrain": "mountain",
          "value": 92,
          "x": 5,
          "y": 27
         },
         {
          "terrain": "mountain",
          "value": 92,
          "x": 6,
          "y": 27
         },
         {
          "terrain": "mountain",
          "value": 84,
          "x": 7,
          "y": 27
         },
         {
          "terrain": "mountain",
          "value": 74,
          "x": 8,
          "y": 27
         },
         {
          "terrain": "mountain",
          "value": 62,
          "x": 9,
          "y": 27
         },
         {
          "terrain": "mountain",
          "value": 42,
          "x": 10,
          "y": 27
         },
         {
          "terrain": "mountain",
          "value": 25,
          "x": 11,
          "y": 27
         },
         {
          "terrain": "land",
          "value": 10,
          "x": 12,
          "y": 27
         },
         {
          "terrain": "land",
          "value": 5,
          "x": 13,
          "y": 27
         },
         {
          "terrain": "land",
          "value": 4,
          "x": 14,
          "y": 27
         },
         {
          "terrain": "land",
          "value": 1,
          "x": 15,
          "y": 27
         },
         {
          "terrain": "land",
          "value": 1,
          "x": 16,
          "y": 27
         },
         {
          "terrain": "land",
          "value": 1,
          "x": 17,
          "y": 27
         },
         {
          "terrain": "ocean",
          "value": 0,
          "x": 18,
          "y": 27
         },
         {
          "terrain": "land",
          "value": 2,
          "x": 19,
          "y": 27
         },
         {
          "terrain": "ocean",
          "value": -2,
          "x": 20,
          "y": 27
         },
         {
          "terrain": "ocean",
          "value": 0,
          "x": 21,
          "y": 27
         },
         {
          "terrain": "ocean",
          "value": -1,
          "x": 22,
          "y": 27
         },
         {
          "terrain": "ocean",
          "value": 0,
          "x": 23,
          "y": 27
         },
         {
          "terrain": "land",
          "value": 1,
          "x": 24,
          "y": 27
         },
         {
          "terrain": "land",
          "value": 2,
          "x": 25,
          "y": 27
         },
         {
          "terrain": "ocean",
          "value": 0,
          "x": 26,
          "y": 27
         },
         {
          "terrain": "ocean",
          "value": -1,
          "x": 27,
          "y": 27
         },
         {
          "terrain": "ocean",
          "value": 0,
          "x": 28,
          "y": 27
         },
         {
          "terrain": "land",
          "value": 2,
          "x": 29,
          "y": 27
         },
         {
          "terrain": "ocean",
          "value": -2,
          "x": 30,
          "y": 27
         },
         {
          "terrain": "ocean",
          "value": 0,
          "x": 31,
          "y": 27
         },
         {
          "terrain": "land",
          "value": 1,
          "x": 32,
          "y": 27
         },
         {
          "terrain": "ocean",
          "value": -1,
          "x": 33,
          "y": 27
         },
         {
          "terrain": "land",
          "value": 2,
          "x": 34,
          "y": 27
         },
         {
          "terrain": "ocean",
          "value": 0,
          "x": 35,
          "y": 27
         },
         {
          "terrain": "land",
          "value": 1,
          "x": 36,
          "y": 27
         },
         {
          "terrain": "ocean",
          "value": 0,
          "x": 37,
          "y": 27
         },
         {
          "terrain": "ocean",
          "value": 0,
          "x": 38,
          "y": 27
         },
         {
          "terrain": "ocean",
          "value": 0,
          "x": 39,
          "y": 27
         },
         {
          "terrain": "mountain",
          "value": 30,
          "x": 0,
          "y": 28
         },
         {
          "terrain": "mountain",
          "value": 38,
          "x": 1,
          "y": 28
         },
         {
          "terrain": "mountain",
          "value": 52,
          "x": 2,
          "y": 28
         },
         {
          "terrain": "mountain",
          "value": 62,
          "x": 3,
          "y": 28
         },
         {
          "terrain": "mountain",
          "value": 68,
          "x": 4,
          "y": 28
         },
         {
          "terrain": "mountain",
          "value": 71,
          "x": 5,
          "y": 28
         },
         {
          "terrain": "mountain",
          "value": 71,
          "x": 6,
          "y": 28
         },
         {
          "terrain": "mountain",
          "value": 68,
          "x": 7,
          "y": 28
         },
         {
          "terrain": "mountain",
          "value": 57,
          "x": 8,
          "y": 28
         },
         {
          "terrain": "mountain",
          "value": 48,
          "x": 9,
          "y": 28
         },
         {
          "terrain": "mountain",
          "value": 36,
          "x": 10,
          "y": 28
         },
         {
          "terrain": "land",
          "value": 22,
          "x": 11,
          "y": 28
         },
         {
          "terrain": "land",
          "value": 12,
          "x": 12,
          "y": 28
         },
         {
          "terrain": "land",
          "value": 4,
          "x": 13,
          "y": 28
         },
         {
          "terrain": "land",
          "value": 2,
          "x": 14,
          "y": 28
         },
         {
          "terrain": "land",
          "value": 4,
          "x": 15,
          "y": 28
         },
         {
          "terrain": "land",
          "value": 1,
          "x": 16,
          "y": 28
         },
         {
          "terrain": "ocean",
          "value": -1,
          "x": 17,
          "y": 28
         },
         {
          "terrain": "land",
          "value": 1,
          "x": 18,
          "y": 28
         },
         {
          "terrain": "ocean",
          "value": -1,
          "x": 19,
          "y": 28
         },
         {
          "terrain": "ocean",
          "value": -1,
          "x": 20,
          "y": 28
         },
         {
          "terrain": "ocean",
          "value": 0,
          "x": 21,
          "y": 28
         },
         {
          "terrain": "land",
          "value": 1,
          "x": 22,
          "y": 28
         },
         {
          "terrain": "ocean",
          "value": 0,
          "x": 23,
          "y": 28
         },
         {
          "terrain": "land",
          "value": 2,
          "x": 24,
          "y": 28
         },
         {
          "terrain": "ocean",
          "value": 0,
          "x": 25,
          "y": 28
         },
         {
          "terrain": "ocean",
          "value": 0,
          "x": 26,
          "y": 28
         },
         {
          "terrain": "ocean",
          "value": 0,
          "x": 27,
          "y": 28
         },
         {
          "terrain": "land",
          "value": 1,
          "x": 28,
          "y": 28
         },
         {
          "terrain": "ocean",
          "value": 0,
          "x": 29,
          "y": 28
         },
         {
          "terrain": "land",
          "value": 1,
          "x": 30,
          "y": 28
         },
         {
          "terrain": "ocean",
          "value": 0,
          "x": 31,
          "y": 28
         },
         {
          "terrain": "land",
          "value": 2,
          "x": 32,
          "y": 28
         },
         {
          "terrain": "ocean",
          "value": -1,
          "x": 33,
          "y": 28
         },
         {
          "terrain": "ocean",
          "value": 0,
          "x": 34,
          "y": 28
         },
         {
          "terrain": "ocean",
          "value": -1,
          "x": 35,
          "y": 28
         },
         {
          "terrain": "ocean",
          "value": -1,
          "x": 36,
          "y": 28
         },
         {
          "terrain": "land",
          "value": 1,
          "x": 37,
          "y": 28
         },
         {
          "terrain": "land",
          "value": 1,
          "x": 38,
          "y": 28
         },
         {
          "terrain": "ocean",
          "value": -1,
          "x": 39,
          "y": 28
         },
         {
          "terrain": "land",
          "value": 22,
          "x": 0,
          "y": 29
         },
         {
          "terrain": "mountain",
          "value": 33,
          "x": 1,
          "y": 29
         },
         {
          "terrain": "mountain",
          "value": 40,
          "x": 2,
          "y": 29
         },
         {
          "terrain": "mountain",
          "value": 48,
          "x": 3,
          "y": 29
         },
         {
          "terrain": "mountain",
          "value": 53,
          "x": 4,
          "y": 29
         },
         {
          "terrain": "mountain",
          "value": 53,
          "x": 5,
          "y": 29
         },
         {
          "terrain": "mountain",
          "value": 51,
          "x": 6,
          "y": 29
         },
         {
          "terrain": "mountain",
          "value": 47,
          "x": 7,
          "y": 29
         },
         {
          "terrain": "mountain",
          "value": 41,
          "x": 8,
          "y": 29
         },
         {
          "terrain": "mountain",
          "value": 34,
          "x": 9,
          "y": 29
         },
         {
          "terrain": "mountain",
          "value": 28,
          "x": 10,
          "y": 29
         },
         {
          "terrain": "land",
          "value": 19,
          "x": 11,
          "y": 29
         },
         {
          "terrain": "land",
          "value": 10,
          "x": 12,
          "y": 29
         },
         {
          "terrain": "land",
          "value": 3,
          "x": 13,
          "y": 29
         },
         {
          "terrain": "land",
          "value": 1,
          "x": 14,
          "y": 29
         },
         {
          "terrain": "land",
          "value": 1,
          "x": 15,
          "y": 29
         },
         {
          "terrain": "ocean",
          "value": -1,
          "x": 16,
          "y": 29
         },
         {
          "terrain": "land",
          "value": 1,
          "x": 17,
          "y": 29
         },
         {
          "terrain": "land",
          "value": 2,
          "x": 18,
          "y": 29
         },
         {
          "terrain": "land",
          "value": 1,
          "x": 19,
          "y": 29
         },
         {
          "terrain": "ocean",
          "value": 0,
          "x": 20,
          "y": 29
         },
         {
          "terrain": "land",
          "value": 1,
          "x": 21,
          "y": 29
         },
         {
          "terrain": "ocean",
          "value": -2,
          "x": 22,
          "y": 29
         },
         {
          "terrain": "land",
          "value": 1,
          "x": 23,
          "y": 29
         },
         {
          "terrain": "ocean",
          "value": -1,
          "x": 24,
          "y": 29
         },
         {
          "terrain": "land",
          "value": 1,
          "x": 25,
          "y": 29
         },
         {
          "terrain": "ocean",
          "value": 0,
          "x": 26,
          "y": 29
         },
         {
          "terrain": "ocean",
          "value": 0,
          "x": 27,
          "y": 29
         },
         {
          "terrain": "land",
          "value": 1,
          "x": 28,
          "y": 29
         },
         {
          "terrain": "ocean",
          "value": 0,
          "x": 29,
          "y": 29
         },
         {
          "terrain": "ocean",
          "value": 0,
          "x": 30,
          "y": 29
         },
         {
          "terrain": "land",
          "value": 1,
          "x": 31,
          "y": 29
         },
         {
          "terrain": "land",
          "value": 1,
          "x": 32,
          "y": 29
         },
         {
          "terrain": "land",
          "value": 1,
          "x": 33,
          "y": 29
         },
         {
          "terrain": "ocean",
          "value": 0,
          "x": 34,
          "y": 29
         },
         {
          "terrain": "ocean",
          "value": 0,
          "x": 35,
          "y": 29
         },
         {
          "terrain": "ocean",
          "value": -2,
          "x": 36,
          "y": 29
         },
         {
          "terrain": "ocean",
          "value": 0,
          "x": 37,
          "y": 29
         },
         {
          "terrain": "ocean",
          "value": 0,
          "x": 38,
          "y": 29
         },
         {
          "terrain": "ocean",
          "value": -1,
          "x": 39,
          "y": 29
         },
         {
          "terrain": "land",
          "value": 19,
          "x": 0,
          "y": 30
         },
         {
          "terrain": "mountain",
          "value": 26,
          "x": 1,
          "y": 30
         },
         {
          "terrain": "mountain",
          "value": 30,
          "x": 2,
          "y": 30
         },
         {
          "terrain": "mountain",
          "value": 34,
          "x": 3,
          "y": 30
         },
         {
          "terrain": "mountain",
          "value": 37,
          "x": 4,
          "y": 30
         },
         {
          "terrain": "mountain",
          "value": 37,
          "x": 5,
          "y": 30
         },
         {
          "terrain": "mountain",
          "value": 36,
          "x": 6,
          "y": 30
         },
         {
          "terrain": "mountain",
          "value": 30,
          "x": 7,
          "y": 30
         },
         {
          "terrain": "mountain",
          "value": 25,
          "x": 8,
          "y": 30
         },
         {
          "terrain": "land",
          "value": 22,
          "x": 9,
          "y": 30
         },
         {
          "terrain": "land",
          "value": 17,
          "x": 10,
          "y": 30
         },
         {
          "terrain": "land",
          "value": 13,
          "x": 11,
          "y": 30
         },
         {
          "terrain": "land",
          "value": 9,
          "x": 12,
          "y": 30
         },
         {
          "terrain": "land",
          "value": 4,
          "x": 13,
          "y": 30
         },
         {
          "terrain": "land",
          "value": 1,
          "x": 14,
          "y": 30
         },
         {
          "terrain": "ocean",
          "value": 0,
          "x": 15,
          "y": 30
         },
         {
          "terrain": "ocean",
          "value": 0,
          "x": 16,
          "y": 30
         },
         {
          "terrain": "ocean",
          "value": -1,
          "x": 17,
          "y": 30
         },
         {
          "terrain": "land",
          "value": 1,
          "x": 18,
          "y": 30
         },
         {
          "terrain": "ocean",
          "value": -2,
          "x": 19,
          "y": 30
         },
         {
          "terrain": "ocean",
          "value": -1,
          "x": 20,
          "y": 30
         },
         {
          "terrain": "ocean",
          "value": 0,
          "x": 21,
          "y": 30
         },
         {
          "terrain": "land",
          "value": 1,
          "x": 22,
          "y": 30
         },
         {
          "terrain": "ocean",
          "value": 0,
          "x": 23,
          "y": 30
         },
         {
          "terrain": "ocean",
          "value": 0,
          "x": 24,
          "y": 30
         },
         {
          "terrain": "ocean",
          "value": -1,
          "x": 25,
          "y": 30
         },
         {
          "terrain": "ocean",
          "value": 0,
          "x": 26,
          "y": 30
         },
         {
          "terrain": "ocean",
          "value": -1,
          "x": 27,
          "y": 30
         },
         {
          "terrain": "ocean",
          "value": 0,
          "x": 28,
          "y": 30
         },
         {
          "terrain": "land",
          "value": 2,
          "x": 29,
          "y": 30
         },
         {
          "terrain": "land",
          "value": 1,
          "x": 30,
          "y": 30
         },
         {
          "terrain": "ocean",
          "value": 0,
          "x": 31,
          "y": 30
         },
         {
          "terrain": "ocean",
          "value": 0,
          "x": 32,
          "y": 30
         },
         {
          "terrain": "ocean",
          "value": -2,
          "x": 33,
          "y": 30
         },
         {
          "terrain": "ocean",
          "value": -1,
          "x": 34,
          "y": 30
         },
         {
          "terrain": "land",
          "value": 1,
          "x": 35,
          "y": 30
         },
         {
          "terrain": "ocean",
          "value": -1,
          "x": 36,
          "y": 30
         },
         {
          "terrain": "ocean",
          "value": 0,
          "x": 37,
          "y": 30
         },
         {
          "terrain": "ocean",
          "value": 0,
          "x": 38,
          "y": 30
         },
         {
          "terrain": "ocean",
          "value": -1,
          "x": 39,
          "y": 30
         },
         {
          "terrain": "land",
          "value": 17,
          "x": 0,
          "y": 31
         },
         {
          "terrain": "land",
          "value": 18,
          "x": 1,
          "y": 31
         },
         {
          "terrain": "land",
          "value": 22,
          "x": 2,
          "y": 31
         },
         {
          "terrain": "land",
          "value": 24,
          "x": 3,
          "y": 31
         },
         {
          "terrain": "land",
          "value": 24,
          "x": 4,
          "y": 31
         },
         {
          "terrain": "land",
          "value": 23,
          "x": 5,
          "y": 31
         },
         {
          "terrain": "land",
          "value": 22,
          "x": 6,
          "y": 31
         },
         {
          "terrain": "land",
          "value": 18,
          "x": 7,
          "y": 31
         },
         {
          "terrain": "land",
          "value": 17,
          "x": 8,
          "y": 31
         },
         {
          "terrain": "land",
          "value": 14,
          "x": 9,
          "y": 31
         },
         {
          "terrain": "land",
          "value": 9,
          "x": 10,
          "y": 31
         },
         {
          "terrain": "land",
          "value": 8,
          "x": 11,
          "y": 31
         },
         {
          "terrain": "land",
          "value": 5,
          "x": 12,
          "y": 31
         },
         {
          "terrain": "land",
          "value": 1,
          "x": 13,
          "y": 31
         },
         {
          "terrain": "land",
          "value": 2,
          "x": 14,
          "y": 31
         },
         {
          "terrain": "land",
          "value": 1,
          "x": 15,
          "y": 31
         },
         {
          "terrain": "ocean",
          "value": -1,
          "x": 16,
          "y": 31
         },
         {
          "terrain": "ocean",
          "value": -1,
          "x": 17,
          "y": 31
         },
         {
          "terrain": "ocean",
          "value": 0,
          "x": 18,
          "y": 31
         },
         {
          "terrain": "land",
          "value": 1,
          "x": 19,
          "y": 31
         },
         {
          "terrain": "ocean",
          "value": -1,
          "x": 20,
          "y": 31
         },
         {
          "terrain": "land",
          "value": 1,
          "x": 21,
          "y": 31
         },
         {
          "terrain": "ocean",
          "value": 0,
          "x": 22,
          "y": 31
         },
         {
          "terrain": "ocean",
          "value": -1,
          "x": 23,
          "y": 31
         },
         {
          "terrain": "ocean",
          "value": -1,
          "x": 24,
          "y": 31
         },
         {
          "terrain": "ocean",
          "value": -1,
          "x": 25,
          "y": 31
         },
         {
          "terrain": "ocean",
          "value": 0,
          "x": 26,
          "y": 31
         },
         {
          "terrain": "ocean",
          "value": 0,
          "x": 27,
          "y": 31
         },
         {
          "terrain": "ocean",
          "value": 0,
          "x": 28,
          "y": 31
         },
         {
          "terrain": "land",
          "value": 1,
          "x": 29,
          "y": 31
         },
         {
          "terrain": "land",
          "value": 1,
          "x": 30,
          "y": 31
         },
         {
          "terrain": "ocean",
          "value": 0,
          "x": 31,
          "y": 31
         },
         {
          "terrain": "land",
          "value": 2,
          "x": 32,
          "y": 31
         },
         {
          "terrain": "ocean",
          "value": 0,
          "x": 33,
          "y": 31
         },
         {
          "terrain": "ocean",
          "value": 0,
          "x": 34,
          "y": 31
         },
         {
          "terrain": "land",
          "value": 1,
          "x": 35,
          "y": 31
         },
         {
          "terrain": "land",
          "value": 1,
          "x": 36,
          "y": 31
         },
         {
          "terrain": "ocean",
          "value": 0,
          "x": 37,
          "y": 31
         },
         {
          "terrain": "ocean",
          "value": 0,
          "x": 38,
          "y": 31
         },
         {
          "terrain": "ocean",
          "value": -1,
          "x": 39,
          "y": 31
         },
         {
          "terrain": "land",
          "value": 13,
          "x": 0,
          "y": 32
         },
         {
          "terrain": "land",
          "value": 16,
          "x": 1,
          "y": 32
         },
         {
          "terrain": "land",
          "value": 15,
          "x": 2,
          "y": 32
         },
         {
          "terrain": "land",
          "value": 15,
          "x": 3,
          "y": 32
         },
         {
          "terrain": "land",
          "value": 16,
          "x": 4,
          "y": 32
         },
         {
          "terrain": "land",
          "value": 13,
          "x": 5,
          "y": 32
         },
         {
          "terrain": "land",
          "value": 16,
          "x": 6,
          "y": 32
         },
         {
          "terrain": "land",
          "value": 13,
          "x": 7,
          "y": 32
         },
         {
          "terrain": "land",
          "value": 12,
          "x": 8,
          "y": 32
         },
         {
          "terrain": "land",
          "value": 10,
          "x": 9,
          "y": 32
         },
         {
          "terrain": "land",
          "value": 9,
          "x": 10,
          "y": 32
         },
         {
          "terrain": "land",
          "value": 10,
          "x": 11,
          "y": 32
         },
         {
          "terrain": "land",
          "value": 5,
          "x": 12,
          "y": 32
         },
         {
          "terrain": "land",
          "value": 3,
          "x": 13,
          "y": 32
         },
         {
          "terrain": "ocean",
          "value": 0,
          "x": 14,
          "y": 32
         },
         {
          "terrain": "land",
          "value": 1,
          "x": 15,
          "y": 32
         },
         {
          "terrain": "ocean",
          "value": -1,
          "x": 16,
          "y": 32
         },
         {
          "terrain": "ocean",
          "value": -1,
          "x": 17,
          "y": 32
         },
         {
          "terrain": "ocean",
          "value": -2,
          "x": 18,
          "y": 32
         },
         {
          "terrain": "ocean",
          "value": -1,
          "x": 19,
          "y": 32
         },
         {
          "terrain": "ocean",
          "value": -1,
          "x": 20,
          "y": 32
         },
         {
          "terrain": "ocean",
          "value": 0,
          "x": 21,
          "y": 32
         },
         {
          "terrain": "land",
          "value": 1,
          "x": 22,
          "y": 32
         },
         {
          "terrain": "ocean",
          "value": -1,
          "x": 23,
          "y": 32
         },
         {
          "terrain": "ocean",
          "value": -1,
          "x": 24,
          "y": 32
         },
         {
          "terrain": "ocean",
          "value": -1,
          "x": 25,
          "y": 32
         },
         {
          "terrain": "land",
          "value": 2,
          "x": 26,
          "y": 32
         },
         {
          "terrain": "ocean",
          "value": 0,
          "x": 27,
          "y": 32
         },
         {
          "terrain": "land",
          "value": 2,
          "x": 28,
          "y": 32
         },
         {
          "terrain": "ocean",
          "value": 0,
          "x": 29,
          "y": 32
         },
         {
          "terrain": "land",
          "value": 1,
          "x": 30,
          "y": 32
         },
         {
          "terrain": "ocean",
          "value": 0,
          "x": 31,
          "y": 32
         },
         {
          "terrain": "ocean",
          "value": -3,
          "x": 32,
          "y": 32
         },
         {
          "terrain": "ocean",
          "value": -1,
          "x": 33,
          "y": 32
         },
         {
          "terrain": "ocean",
          "value": 0,
          "x": 34,
          "y": 32
         },
         {
          "terrain": "ocean",
          "value": -1,
          "x": 35,
          "y": 32
         },
         {
          "terrain": "land",
          "value": 2,
          "x": 36,
          "y": 32
         },
         {
          "terrain": "land",
          "value": 2,
          "x": 37,
          "y": 32
         },
         {
          "terrain": "ocean",
          "value": 0,
          "x": 38,
          "y": 32
         },
         {
          "terrain": "land",
          "value": 1,
          "x": 39,
          "y": 32
         },
         {
          "terrain": "land",
          "value": 7,
          "x": 0,
          "y": 33
         },
         {
          "terrain": "land",
          "value": 6,
          "x": 1,
          "y": 33
         },
         {
          "terrain": "land",
          "value": 7,
          "x": 2,
          "y": 33
         },
         {
          "terrain": "land",
          "value": 6,
          "x": 3,
          "y": 33
         },
         {
          "terrain": "land",
          "value": 8,
          "x": 4,
          "y": 33
         },
         {
          "terrain": "land",
          "value": 8,
          "x": 5,
          "y": 33
         },
         {
          "terrain": "land",
          "value": 7,
          "x": 6,
          "y": 33
         },
         {
          "terrain": "land",
          "value": 8,
          "x": 7,
          "y": 33
         },
         {
          "terrain": "land",
          "value": 8,
          "x": 8,
          "y": 33
         },
         {
          "terrain": "land",
          "value": 7,
          "x": 9,
          "y": 33
         },
         {
          "terrain": "land",
          "value": 6,
          "x": 10,
          "y": 33
         },
         {
          "terrain": "land",
          "value": 4,
          "x": 11,
          "y": 33
         },
         {
          "terrain": "land",
          "value": 1,
          "x": 12,
          "y": 33
         },
         {
          "terrain": "ocean",
          "value": 0,
          "x": 13,
          "y": 33
         },
         {
          "terrain": "ocean",
          "value": -1,
          "x": 14,
          "y": 33
         },
         {
          "terrain": "land",
          "value": 2,
          "x": 15,
          "y": 33
         },
         {
          "terrain": "land",
          "value": 1,
          "x": 16,
          "y": 33
         },
         {
          "terrain": "ocean",
          "value": 0,
          "x": 17,
          "y": 33
         },
         {
          "terrain": "land",
          "value": 1,
          "x": 18,
          "y": 33
         },
         {
          "terrain": "ocean",
          "value": -1,
          "x": 19,
          "y": 33
         },
         {
          "terrain": "ocean",
          "value": 0,
          "x": 20,
          "y": 33
         },
         {
          "terrain": "land",
          "value": 3,
          "x": 21,
          "y": 33
         },
         {
          "terrain": "land",
          "value": 1,
          "x": 22,
          "y": 33
         },
         {
          "terrain": "ocean",
          "value": 0,
          "x": 23,
          "y": 33
         },
         {
          "terrain": "land",
          "value": 2,
          "x": 24,
          "y": 33
         },
         {
          "terrain": "land",
          "value": 2,
          "x": 25,
          "y": 33
         },
         {
          "terrain": "land",
          "value": 2,
          "x": 26,
          "y": 33
         },
         {
          "terrain": "land",
          "value": 1,
          "x": 27,
          "y": 33
         },
         {
          "terrain": "ocean",
          "value": 0,
          "x": 28,
          "y": 33
         },
         {
          "terrain": "land",
          "value": 1,
          "x": 29,
          "y": 33
         },
         {
          "terrain": "ocean",
          "value": 0,
          "x": 30,
          "y": 33
         },
         {
          "terrain": "land",
          "value": 1,
          "x": 31,
          "y": 33
         },
         {
          "terrain": "land",
          "value": 1,
          "x": 32,
          "y": 33
         },
         {
          "terrain": "ocean",
          "value": -1,
          "x": 33,
          "y": 33
         },
         {
          "terrain": "ocean",
          "value": -1,
          "x": 34,
          "y": 33
         },
         {
          "terrain": "ocean",
          "value": -2,
          "x": 35,
          "y": 33
         },
         {
          "terrain": "land",
          "value": 1,
          "x": 36,
          "y": 33
         },
         {
          "terrain": "ocean",
          "value": -1,
          "x": 37,
          "y": 33
         },
         {
          "terrain": "land",
          "value": 1,
          "x": 38,
          "y": 33
         },
         {
          "terrain": "ocean",
          "value": -1,
          "x": 39,
          "y": 33
         },
         {
          "terrain": "land",
          "value": 4,
          "x": 0,
          "y": 34
         },
         {
          "terrain": "land",
          "value": 4,
          "x": 1,
          "y": 34
         },
         {
          "terrain": "land",
          "value": 4,
          "x": 2,
          "y": 34
         },
         {
          "terrain": "land",
          "value": 3,
          "x": 3,
          "y": 34
         },
         {
          "terrain": "land",
          "value": 2,
          "x": 4,
          "y": 34
         },
         {
          "terrain": "land",
          "value": 3,
          "x": 5,
          "y": 34
         },
         {
          "terrain": "land",
          "value": 5,
          "x": 6,
          "y": 34
         },
         {
          "terrain": "land",
          "value": 1,
          "x": 7,
          "y": 34
         },
         {
          "terrain": "land",
          "value": 4,
          "x": 8,
          "y": 34
         },
         {
          "terrain": "land",
          "value": 4,
          "x": 9,
          "y": 34
         },
         {
          "terrain": "land",
          "value": 2,
          "x": 10,
          "y": 34
         },
         {
          "terrain": "land",
          "value": 1,
          "x": 11,
          "y": 34
         },
         {
          "terrain": "land",
          "value": 1,
          "x": 12,
          "y": 34
         },
         {
          "terrain": "ocean",
          "value": -3,
          "x": 13,
          "y": 34
         },
         {
          "terrain": "land",
          "value": 1,
          "x": 14,
          "y": 34
         },
         {
          "terrain": "ocean",
          "value": -1,
          "x": 15,
          "y": 34
         },
         {
          "terrain": "ocean",
          "value": 0,
          "x": 16,
          "y": 34
         },
         {
          "terrain": "land",
          "value": 1,
          "x": 17,
          "y": 34
         },
         {
          "terrain": "land",
          "value": 1,
          "x": 18,
          "y": 34
         },
         {
          "terrain": "land",
          "value": 2,
          "x": 19,
          "y": 34
         },
         {
          "terrain": "land",
          "value": 2,
          "x": 20,
          "y": 34
         },
         {
          "terrain": "land",
          "value": 2,
          "x": 21,
          "y": 34
         },
         {
          "terrain": "land",
          "value": 4,
          "x": 22,
          "y": 34
         },
         {
          "terrain": "land",
          "value": 2,
          "x": 23,
          "y": 34
         },
         {
          "terrain": "land",
          "value": 1,
          "x": 24,
          "y": 34
         },
         {
          "terrain": "land",
          "value": 3,
          "x": 25,
          "y": 34
         },
         {
          "terrain": "land",
          "value": 3,
          "x": 26,
          "y": 34
         },
         {
          "terrain": "land",
          "value": 3,
          "x": 27,
          "y": 34
         },
         {
          "terrain": "ocean",
          "value": 0,
          "x": 28,
          "y": 34
         },
         {
          "terrain": "ocean",
          "value": 0,
          "x": 29,
          "y": 34
         },
         {
          "terrain": "ocean",
          "value": -2,
          "x": 30,
          "y": 34
         },
         {
          "terrain": "ocean",
          "value": -1,
          "x": 31,
          "y": 34
         },
         {
          "terrain": "ocean",
          "value": 0,
          "x": 32,
          "y": 34
         },
         {
          "terrain": "ocean",
          "value": -1,
          "x": 33,
          "y": 34
         },
         {
          "terrain": "ocean",
          "value": 0,
          "x": 34,
          "y": 34
         },
         {
          "terrain": "ocean",
          "value": -2,
          "x": 35,
          "y": 34
         },
         {
          "terrain": "land",
          "value": 1,
          "x": 36,
          "y": 34
         },
         {
          "terrain": "ocean",
          "value": -1,
          "x": 37,
          "y": 34
         },
         {
          "terrain": "land",
          "value": 2,
          "x": 38,
          "y": 34
         },
         {
          "terrain": "land",
          "value": 1,
          "x": 39,
          "y": 34
         },
         {
          "terrain": "land",
          "value": 1,
          "x": 0,
          "y": 35
         },
         {
          "terrain": "land",
          "value": 2,
          "x": 1,
          "y": 35
         },
         {
          "terrain": "land",
          "value": 3,
          "x": 2,
          "y": 35
         },
         {
          "terrain": "land",
          "value": 1,
          "x": 3,
          "y": 35
         },
         {
          "terrain": "land",
          "value": 3,
          "x": 4,
          "y": 35
         },
         {
          "terrain": "land",
          "value": 1,
          "x": 5,
          "y": 35
         },
         {
          "terrain": "land",
          "value": 1,
          "x": 6,
          "y": 35
         },
         {
          "terrain": "land",
          "value": 3,
          "x": 7,
          "y": 35
         },
         {
          "terrain": "land",
          "value": 2,
          "x": 8,
          "y": 35
         },
         {
          "terrain": "land",
          "value": 1,
          "x": 9,
          "y": 35
         },
         {
          "terrain": "land",
          "value": 3,
          "x": 10,
          "y": 35
         },
         {
          "terrain": "land",
          "value": 2,
          "x": 11,
          "y": 35
         },
         {
          "terrain": "land",
          "value": 2,
          "x": 12,
          "y": 35
         },
         {
          "terrain": "ocean",
          "value": 0,
          "x": 13,
          "y": 35
         },
         {
          "terrain": "land",
          "value": 1,
          "x": 14,
          "y": 35
         },
         {
          "terrain": "ocean",
          "value": 0,
          "x": 15,
          "y": 35
         },
         {
          "terrain": "ocean",
          "value": 0,
          "x": 16,
          "y": 35
         },
         {
          "terrain": "land",
          "value": 2,
          "x": 17,
          "y": 35
         },
         {
          "terrain": "land",
          "value": 3,
          "x": 18,
          "y": 35
         },
         {
          "terrain": "land",
          "value": 5,
          "x": 19,
          "y": 35
         },
         {
          "terrain": "land",
          "value": 4,
          "x": 20,
          "y": 35
         },
         {
          "terrain": "land",
          "value": 5,
          "x": 21,
          "y": 35
         },
         {
          "terrain": "land",
          "value": 4,
          "x": 22,
          "y": 35
         },
         {
          "terrain": "land",
          "value": 3,
          "x": 23,
          "y": 35
         },
         {
          "terrain": "land",
          "value": 6,
          "x": 24,
          "y": 35
         },
         {
          "terrain": "land",
          "value": 5,
          "x": 25,
          "y": 35
         },
         {
          "terrain": "land",
          "value": 4,
          "x": 26,
          "y": 35
         },
         {
          "terrain": "land",
          "value": 3,
          "x": 27,
          "y": 35
         },
         {
          "terrain": "land",
          "value": 4,
          "x": 28,
          "y": 35
         },
         {
          "terrain": "land",
          "value": 1,
          "x": 29,
          "y": 35
         },
         {
          "terrain": "ocean",
          "value": 0,
          "x": 30,
          "y": 35
         },
         {
          "terrain": "land",
          "value": 1,
          "x": 31,
          "y": 35
         },
         {
          "terrain": "land",
          "value": 1,
          "x": 32,
          "y": 35
         },
         {
          "terrain": "land",
          "value": 1,
          "x": 33,
          "y": 35
         },
         {
          "terrain": "ocean",
          "value": -2,
          "x": 34,
          "y": 35
         },
         {
          "terrain": "land",
          "value": 1,
          "x": 35,
          "y": 35
         },
         {
          "terrain": "ocean",
          "value": -1,
          "x": 36,
          "y": 35
         },
         {
          "terrain": "ocean",
          "value": 0,
          "x": 37,
          "y": 35
         },
         {
          "terrain": "ocean",
          "value": 0,
          "x": 38,
          "y": 35
         },
         {
          "terrain": "ocean",
          "value": -2,
          "x": 39,
          "y": 35
         },
         {
          "terrain": "land",
          "value": 2,
          "x": 0,
          "y": 36
         },
         {
          "terrain": "ocean",
          "value": 0,
          "x": 1,
          "y": 36
         },
         {
          "terrain": "land",
          "value": 1,
          "x": 2,
          "y": 36
         },
         {
          "terrain": "land",
          "value": 1,
          "x": 3,
          "y": 36
         },
         {
          "terrain": "ocean",
          "value": 0,
          "x": 4,
          "y": 36
         },
         {
          "terrain": "land",
          "value": 1,
          "x": 5,
          "y": 36
         },
         {
          "terrain": "ocean",
          "value": 0,
          "x": 6,
          "y": 36
         },
         {
          "terrain": "ocean",
          "value": 0,
          "x": 7,
          "y": 36
         },
         {
          "terrain": "land",
          "value": 2,
          "x": 8,
          "y": 36
         },
         {
          "terrain": "land",
          "value": 3,
          "x": 9,
          "y": 36
         },
         {
          "terrain": "land",
          "value": 1,
          "x": 10,
          "y": 36
         },
         {
          "terrain": "land",
          "value": 2,
          "x": 11,
          "y": 36
         },
         {
          "terrain": "land",
          "value": 1,
          "x": 12,
          "y": 36
         },
         {
          "terrain": "land",
          "value": 1,
          "x": 13,
          "y": 36
         },
         {
          "terrain": "ocean",
          "value": -2,
          "x": 14,
          "y": 36
         },
         {
          "terrain": "ocean",
          "value": -2,
          "x": 15,
          "y": 36
         },
         {
          "terrain": "ocean",
          "value": 0,
          "x": 16,
          "y": 36
         },
         {
          "terrain": "ocean",
          "value": 0,
          "x": 17,
          "y": 36
         },
         {
          "terrain": "land",
          "value": 3,
          "x": 18,
          "y": 36
         },
         {
          "terrain": "land",
          "value": 4,
          "x": 19,
          "y": 36
         },
         {
          "terrain": "land",
          "value": 7,
          "x": 20,
          "y": 36
         },
         {
          "terrain": "land",
          "value": 7,
          "x": 21,
          "y": 36
         },
         {
          "terrain": "land",
          "value": 8,
          "x": 22,
          "y": 36
         },
         {
          "terrain": "land",
          "value": 7,
          "x": 23,
          "y": 36
         },
         {
          "terrain": "land",
          "value": 7,
          "x": 24,
          "y": 36
         },
         {
          "terrain": "land",
          "value": 7,
          "x": 25,
          "y": 36
         },
         {
          "terrain": "land",
          "value": 7,
          "x": 26,
          "y": 36
         },
         {
          "terrain": "land",
          "value": 3,
          "x": 27,
          "y": 36
         },
         {
          "terrain": "land",
          "value": 1,
          "x": 28,
          "y": 36
         },
         {
          "terrain": "land",
          "value": 1,
          "x": 29,
          "y": 36
         },
         {
          "terrain": "ocean",
          "value": -1,
          "x": 30,
          "y": 36
         },
         {
          "terrain": "ocean",
          "value": -1,
          "x": 31,
          "y": 36
         },
         {
          "terrain": "ocean",
          "value": 0,
          "x": 32,
          "y": 36
         },
         {
          "terrain": "ocean",
          "value": 0,
          "x": 33,
          "y": 36
         },
         {
          "terrain": "ocean",
          "value": -1,
          "x": 34,
          "y": 36
         },
         {
          "terrain": "ocean",
          "value": 0,
          "x": 35,
          "y": 36
         },
         {
          "terrain": "ocean",
          "value": 0,
          "x": 36,
          "y": 36
         },
         {
          "terrain": "ocean",
          "value": 0,
          "x": 37,
          "y": 36
         },
         {
          "terrain": "land",
          "value": 2,
          "x": 38,
          "y": 36
         },
         {
          "terrain": "ocean",
          "value": -1,
          "x": 39,
          "y": 36
         },
         {
          "terrain": "land",
          "value": 1,
          "x": 0,
          "y": 37
         },
         {
          "terrain": "ocean",
          "value": -1,
          "x": 1,
          "y": 37
         },
         {
          "terrain": "ocean",
          "value": -1,
          "x": 2,
          "y": 37
         },
         {
          "terrain": "ocean",
          "value": 0,
          "x": 3,
          "y": 37
         },
         {
          "terrain": "ocean",
          "value": -1,
          "x": 4,
          "y": 37
         },
         {
          "terrain": "ocean",
          "value": -1,
          "x": 5,
          "y": 37
         },
         {
          "terrain": "ocean",
          "value": -1,
          "x": 6,
          "y": 37
         },
         {
          "terrain": "land",
          "value": 1,
          "x": 7,
          "y": 37
         },
         {
          "terrain": "land",
          "value": 1,
          "x": 8,
          "y": 37
         },
         {
          "terrain": "ocean",
          "value": 0,
          "x": 9,
          "y": 37
         },
         {
          "terrain": "ocean",
          "value": 0,
          "x": 10,
          "y": 37
         },
         {
          "terrain": "ocean",
          "value": -1,
          "x": 11,
          "y": 37
         },
         {
          "terrain": "land",
          "value": 1,
          "x": 12,
          "y": 37
         },
         {
          "terrain": "ocean",
          "value": -1,
          "x": 13,
          "y": 37
         },
         {
          "terrain": "land",
          "value": 2,
          "x": 14,
          "y": 37
         },
         {
          "terrain": "land",
          "value": 1,
          "x": 15,
          "y": 37
         },
         {
          "terrain": "ocean",
          "value": -1,
          "x": 16,
          "y": 37
         },
         {
          "terrain": "land",
          "value": 1,
          "x": 17,
          "y": 37
         },
         {
          "terrain": "land",
          "value": 2,
          "x": 18,
          "y": 37
         },
         {
          "terrain": "land",
          "value": 4,
          "x": 19,
          "y": 37
         },
         {
          "terrain": "land",
          "value": 7,
          "x": 20,
          "y": 37
         },
         {
          "terrain": "land",
          "value": 10,
          "x": 21,
          "y": 37
         },
         {
          "terrain": "land",
          "value": 14,
          "x": 22,
          "y": 37
         },
         {
          "terrain": "land",
          "value": 16,
          "x": 23,
          "y": 37
         },
         {
          "terrain": "land",
          "value": 13,
          "x": 24,
          "y": 37
         },
         {
          "terrain": "land",
          "value": 11,
          "x": 25,
          "y": 37
         },
         {
          "terrain": "land",
          "value": 7,
          "x": 26,
          "y": 37
         },
         {
          "terrain": "land",
          "value": 6,
          "x": 27,
          "y": 37
         },
         {
          "terrain": "ocean",
          "value": 0,
          "x": 28,
          "y": 37
         },
         {
          "terrain": "land",
          "value": 1,
          "x": 29,
          "y": 37
         },
         {
          "terrain": "ocean",
          "value": -2,
          "x": 30,
          "y": 37
         },
         {
          "terrain": "land",
          "value": 1,
          "x": 31,
          "y": 37
         },
         {
          "terrain": "ocean",
          "value": 0,
          "x": 32,
          "y": 37
         },
         {
          "terrain": "ocean",
          "value": 0,
          "x": 33,
          "y": 37
         },
         {
          "terrain": "land",
          "value": 2,
          "x": 34,
          "y": 37
         },
         {
          "terrain": "land",
          "value": 1,
          "x": 35,
          "y": 37
         },
         {
          "terrain": "land",
          "value": 1,
          "x": 36,
          "y": 37
         },
         {
          "terrain": "ocean",
          "value": -1,
          "x": 37,
          "y": 37
         },
         {
          "terrain": "land",
          "value": 1,
          "x": 38,
          "y": 37
         },
         {
          "terrain": "ocean",
          "value": -1,
          "x": 39,
          "y": 37
         },
         {
          "terrain": "land",
          "value": 1,
          "x": 0,
          "y": 38
         },
         {
          "terrain": "ocean",
          "value": -2,
          "x": 1,
          "y": 38
         },
         {
          "terrain": "land",
          "value": 1,
          "x": 2,
          "y": 38
         },
         {
          "terrain": "ocean",
          "value": -2,
          "x": 3,
          "y": 38
         },
         {
          "terrain": "ocean",
          "value": -1,
          "x": 4,
          "y": 38
         },
         {
          "terrain": "ocean",
          "value": 0,
          "x": 5,
          "y": 38
         },
         {
          "terrain": "land",
          "value": 2,
          "x": 6,
          "y": 38
         },
         {
          "terrain": "ocean",
          "value": -1,
          "x": 7,
          "y": 38
         },
         {
          "terrain": "land",
          "value": 2,
          "x": 8,
          "y": 38
         },
         {
          "terrain": "land",
          "value": 2,
          "x": 9,
          "y": 38
         },
         {
          "terrain": "ocean",
          "value": 0,
          "x": 10,
          "y": 38
         },
         {
          "terrain": "ocean",
          "value": 0,
          "x": 11,
          "y": 38
         },
         {
          "terrain": "land",
          "value": 2,
          "x": 12,
          "y": 38
         },
         {
          "terrain": "land",
          "value": 1,
          "x": 13,
          "y": 38
         },
         {
          "terrain": "land",
          "value": 1,
          "x": 14,
          "y": 38
         },
         {
          "terrain": "land",
          "value": 2,
          "x": 15,
          "y": 38
         },
         {
          "terrain": "land",
          "value": 1,
          "x": 16,
          "y": 38
         },
         {
          "terrain": "land",
          "value": 3,
          "x": 17,
          "y": 38
         },
         {
          "terrain": "land",
          "value": 3,
          "x": 18,
          "y": 38
         },
         {
          "terrain": "land",
          "value": 7,
          "x": 19,
          "y": 38
         },
         {
          "terrain": "land",
          "value": 10,
          "x": 20,
          "y": 38
         },
         {
          "terrain": "land",
          "value": 17,
          "x": 21,
          "y": 38
         },
         {
          "terrain": "land",
          "value": 20,
          "x": 22,
          "y": 38
         },
         {
          "terrain": "land",
          "value": 23,
          "x": 23,
          "y": 38
         },
         {
          "terrain": "land",
          "value": 18,
          "x": 24,
          "y": 38
         },
         {
          "terrain": "land",
          "value": 14,
          "x": 25,
          "y": 38
         },
         {
          "terrain": "land",
          "value": 8,
          "x": 26,
          "y": 38
         },
         {
          "terrain": "land",
          "value": 5,
          "x": 27,
          "y": 38
         },
         {
          "terrain": "land",
          "value": 3,
          "x": 28,
          "y": 38
         },
         {
          "terrain": "ocean",
          "value": 0,
          "x": 29,
          "y": 38
         },
         {
          "terrain": "ocean",
          "value": 0,
          "x": 30,
          "y": 38
         },
         {
          "terrain": "ocean",
          "value": 0,
          "x": 31,
          "y": 38
         },
         {
          "terrain": "land",
          "value": 2,
          "x": 32,
          "y": 38
         },
         {
          "terrain": "land",
          "value": 1,
          "x": 33,
          "y": 38
         },
         {
          "terrain": "ocean",
          "value": 0,
          "x": 34,
          "y": 38
         },
         {
          "terrain": "ocean",
          "value": -1,
          "x": 35,
          "y": 38
         },
         {
          "terrain": "ocean",
          "value": -1,
          "x": 36,
          "y": 38
         },
         {
          "terrain": "land",
          "value": 1,
          "x": 37,
          "y": 38
         },
         {
          "terrain": "land",
          "value": 1,
          "x": 38,
          "y": 38
         },
         {
          "terrain": "ocean",
          "value": -1,
          "x": 39,
          "y": 38
         },
         {
          "terrain": "ocean",
          "value": -2,
          "x": 0,
          "y": 39
         },
         {
          "terrain": "ocean",
          "value": 0,
          "x": 1,
          "y": 39
         },
         {
          "terrain": "ocean",
          "value": 0,
          "x": 2,
          "y": 39
         },
         {
          "terrain": "land",
          "value": 1,
          "x": 3,
          "y": 39
         },
         {
          "terrain": "ocean",
          "value": -3,
          "x": 4,
          "y": 39
         },
         {
          "terrain": "land",
          "value": 1,
          "x": 5,
          "y": 39
         },
         {
          "terrain": "land",
          "value": 2,
          "x": 6,
          "y": 39
         },
         {
          "terrain": "ocean",
          "value": 0,
          "x": 7,
          "y": 39
         },
         {
          "terrain": "ocean",
          "value": 0,
          "x": 8,
          "y": 39
         },
         {
          "terrain": "ocean",
          "value": 0,
          "x": 9,
          "y": 39
         },
         {
          "terrain": "ocean",
          "value": -1,
          "x": 10,
          "y": 39
         },
         {
          "terrain": "land",
          "value": 1,
          "x": 11,
          "y": 39
         },
         {
          "terrain": "land",
          "value": 4,
          "x": 12,
          "y": 39
         },
         {
          "terrain": "land",
          "value": 1,
          "x": 13,
          "y": 39
         },
         {
          "terrain": "land",
          "value": 1,
          "x": 14,
          "y": 39
         },
         {
          "terrain": "land",
          "value": 2,
          "x": 15,
          "y": 39
         },
         {
          "terrain": "land",
          "value": 5,
          "x": 16,
          "y": 39
         },
         {
          "terrain": "land",
          "value": 6,
          "x": 17,
          "y": 39
         },
         {
          "terrain": "land",
          "value": 6,
          "x": 18,
          "y": 39
         },
         {
          "terrain": "land",
          "value": 8,
          "x": 19,
          "y": 39
         },
         {
          "terrain": "land",
          "value": 11,
          "x": 20,
          "y": 39
         },
         {
          "terrain": "land",
          "value": 18,
          "x": 21,
          "y": 39
         },
         {
          "terrain": "mountain",
          "value": 25,
          "x": 22,
          "y": 39
         },
         {
          "terrain": "mountain",
          "value": 26,
          "x": 23,
          "y": 39
         },
         {
          "terrain": "land",
          "value": 20,
          "x": 24,
          "y": 39
         },
         {
          "terrain": "land",
          "value": 12,
          "x": 25,
          "y": 39
         },
         {
          "terrain": "land",
          "value": 9,
          "x": 26,
          "y": 39
         },
         {
          "terrain": "land",
          "value": 6,
          "x": 27,
          "y": 39
         },
         {
          "terrain": "land",
          "value": 2,
          "x": 28,
          "y": 39
         },
         {
          "terrain": "ocean",
          "value": -1,
          "x": 29,
          "y": 39
         },
         {
          "terrain": "ocean",
          "value": 0,
          "x": 30,
          "y": 39
         },
         {
          "terrain": "ocean",
          "value": 0,
          "x": 31,
          "y": 39
         },
         {
          "terrain": "ocean",
          "value": 0,
          "x": 32,
          "y": 39
         },
         {
          "terrain": "ocean",
          "value": 0,
          "x": 33,
          "y": 39
         },
         {
          "terrain": "ocean",
          "value": -1,
          "x": 34,
          "y": 39
         },
         {
          "terrain": "ocean",
          "value": 0,
          "x": 35,
          "y": 39
         },
         {
          "terrain": "land",
          "value": 1,
          "x": 36,
          "y": 39
         },
         {
          "terrain": "land",
          "value": 1,
          "x": 37,
          "y": 39
         },
         {
          "terrain": "land",
          "value": 1,
          "x": 38,
          "y": 39
         },
         {
          "terrain": "ocean",
          "value": -1,
          "x": 39,
          "y": 39
         }
        ]
       },
       "encoding": {
        "color": {
         "field": "terrain",
         "scale": {
          "domain": [
           "land",
           "mountain",
           "ocean"
          ],
          "range": [
           "green",
           "brown",
           "blue"
          ]
         },
         "type": "nominal"
        },
        "x": {
         "field": "x",
         "type": "ordinal"
        },
        "y": {
         "field": "y",
         "type": "ordinal"
        }
       },
       "mark": "rect"
      },
      "image/png": "[encoded data removed]",
      "text/plain": [
       "<VegaLite 2 object>\n",
       "\n",
       "If you see this message, it means the renderer has not been properly enabled\n",
       "for the frontend that you are using. For more information, see\n",
       "https://altair-viz.github.io/user_guide/troubleshooting.html\n"
      ]
     },
     "execution_count": 5,
     "metadata": {},
     "output_type": "execute_result"
    }
   ],
   "source": [
    "draw.drawTerrainTypes(geo_world.grid_elevation,geo_world.landscape)"
   ]
  },
  {
   "cell_type": "code",
   "execution_count": 6,
   "metadata": {},
   "outputs": [
    {
     "name": "stdout",
     "output_type": "stream",
     "text": [
      "388 ms ± 2.95 ms per loop (mean ± std. dev. of 7 runs, 1 loop each)\n"
     ]
    }
   ],
   "source": [
    "%%timeit\n",
    "wa = [geo_world.df_features.loc[m].to_dict() for m in geo_world.df_features.index]\n",
    "dim_1 = np.unique(geo_world.df_features['x']) \n",
    "dim_1 = np.unique(geo_world.df_features['y']) "
   ]
  },
  {
   "cell_type": "code",
   "execution_count": 7,
   "metadata": {},
   "outputs": [],
   "source": [
    "wa = [geo_world.df_features.loc[m].to_dict() for m in geo_world.df_features.index]\n",
    "dim_1 = np.unique(geo_world.df_features['x']) \n",
    "dim_1 = np.unique(geo_world.df_features['y']) "
   ]
  },
  {
   "cell_type": "code",
   "execution_count": 8,
   "metadata": {},
   "outputs": [
    {
     "data": {
      "text/plain": [
       "{'y': 0,\n",
       " 'rainfall': 0.0,\n",
       " 'x': 1,\n",
       " 'key': '1:0',\n",
       " 'elevation': 1.0,\n",
       " 'terrain': 'desert'}"
      ]
     },
     "execution_count": 8,
     "metadata": {},
     "output_type": "execute_result"
    }
   ],
   "source": [
    "m = geo_world.df_features.index[1]\n",
    "geo_world.df_features.loc[m].to_dict()"
   ]
  },
  {
   "cell_type": "code",
   "execution_count": 9,
   "metadata": {},
   "outputs": [],
   "source": [
    "geo_world.culture"
   ]
  },
  {
   "cell_type": "code",
   "execution_count": null,
   "metadata": {},
   "outputs": [],
   "source": []
  }
 ],
 "metadata": {
  "kernelspec": {
   "display_name": "Python 3",
   "language": "python",
   "name": "python3"
  },
  "language_info": {
   "codemirror_mode": {
    "name": "ipython",
    "version": 3
   },
   "file_extension": ".py",
   "mimetype": "text/x-python",
   "name": "python",
   "nbconvert_exporter": "python",
   "pygments_lexer": "ipython3",
   "version": "3.7.3"
  }
 },
 "nbformat": 4,
 "nbformat_minor": 2
}
