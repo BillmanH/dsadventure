{
 "cells": [
  {
   "cell_type": "markdown",
   "metadata": {},
   "source": [
    "# this is the actual production function\n",
    "`create world`\n",
    "I'm a big fan of rouge-like games and RPGs. I'm also a big fan of data science tools for Python. This is my attempt to have it all. "
   ]
  },
  {
   "cell_type": "code",
   "execution_count": 1,
   "metadata": {},
   "outputs": [],
   "source": [
    "import pandas as pd\n",
    "import numpy as np\n",
    "\n",
    "import sys\n",
    "sys.path.append('../')\n",
    "\n",
    "import lib.create_world as c\n",
    "import lib.drawMaps as draw"
   ]
  },
  {
   "cell_type": "markdown",
   "metadata": {},
   "source": [
    "`timeit` functions to examin the runtime of each component. "
   ]
  },
  {
   "cell_type": "code",
   "execution_count": 2,
   "metadata": {},
   "outputs": [
    {
     "name": "stdout",
     "output_type": "stream",
     "text": [
      "2.06 s ± 22.5 ms per loop (mean ± std. dev. of 7 runs, 1 loop each)\n"
     ]
    }
   ],
   "source": [
    "%%timeit\n",
    "geo_world = c.the_first_age({})"
   ]
  },
  {
   "cell_type": "code",
   "execution_count": 3,
   "metadata": {},
   "outputs": [],
   "source": [
    "geo_world = c.the_first_age({})"
   ]
  },
  {
   "cell_type": "code",
   "execution_count": 4,
   "metadata": {},
   "outputs": [
    {
     "data": {
      "application/vnd.vegalite.v2+json": {
       "$schema": "https://vega.github.io/schema/vega-lite/v2.6.0.json",
       "config": {
        "view": {
         "height": 300,
         "width": 400
        }
       },
       "data": {
        "name": "data-ca09eca0ce37b7f58e2e06e14e5c7cdb"
       },
       "datasets": {
        "data-ca09eca0ce37b7f58e2e06e14e5c7cdb": [
         {
          "terrain": "ocean",
          "value": -1,
          "x": 0,
          "y": 0
         },
         {
          "terrain": "land",
          "value": 1,
          "x": 1,
          "y": 0
         },
         {
          "terrain": "land",
          "value": 1,
          "x": 2,
          "y": 0
         },
         {
          "terrain": "ocean",
          "value": 0,
          "x": 3,
          "y": 0
         },
         {
          "terrain": "ocean",
          "value": -1,
          "x": 4,
          "y": 0
         },
         {
          "terrain": "ocean",
          "value": -1,
          "x": 5,
          "y": 0
         },
         {
          "terrain": "land",
          "value": 1,
          "x": 6,
          "y": 0
         },
         {
          "terrain": "ocean",
          "value": 0,
          "x": 7,
          "y": 0
         },
         {
          "terrain": "land",
          "value": 2,
          "x": 8,
          "y": 0
         },
         {
          "terrain": "ocean",
          "value": -1,
          "x": 9,
          "y": 0
         },
         {
          "terrain": "ocean",
          "value": 0,
          "x": 10,
          "y": 0
         },
         {
          "terrain": "land",
          "value": 1,
          "x": 11,
          "y": 0
         },
         {
          "terrain": "land",
          "value": 1,
          "x": 12,
          "y": 0
         },
         {
          "terrain": "land",
          "value": 3,
          "x": 13,
          "y": 0
         },
         {
          "terrain": "ocean",
          "value": -1,
          "x": 14,
          "y": 0
         },
         {
          "terrain": "ocean",
          "value": -1,
          "x": 15,
          "y": 0
         },
         {
          "terrain": "ocean",
          "value": 0,
          "x": 16,
          "y": 0
         },
         {
          "terrain": "ocean",
          "value": 0,
          "x": 17,
          "y": 0
         },
         {
          "terrain": "ocean",
          "value": -1,
          "x": 18,
          "y": 0
         },
         {
          "terrain": "ocean",
          "value": -1,
          "x": 19,
          "y": 0
         },
         {
          "terrain": "ocean",
          "value": 0,
          "x": 20,
          "y": 0
         },
         {
          "terrain": "ocean",
          "value": 0,
          "x": 21,
          "y": 0
         },
         {
          "terrain": "ocean",
          "value": 0,
          "x": 22,
          "y": 0
         },
         {
          "terrain": "ocean",
          "value": 0,
          "x": 23,
          "y": 0
         },
         {
          "terrain": "ocean",
          "value": 0,
          "x": 24,
          "y": 0
         },
         {
          "terrain": "land",
          "value": 2,
          "x": 25,
          "y": 0
         },
         {
          "terrain": "ocean",
          "value": -2,
          "x": 26,
          "y": 0
         },
         {
          "terrain": "ocean",
          "value": 0,
          "x": 27,
          "y": 0
         },
         {
          "terrain": "land",
          "value": 1,
          "x": 28,
          "y": 0
         },
         {
          "terrain": "ocean",
          "value": -2,
          "x": 29,
          "y": 0
         },
         {
          "terrain": "ocean",
          "value": 0,
          "x": 30,
          "y": 0
         },
         {
          "terrain": "ocean",
          "value": -1,
          "x": 31,
          "y": 0
         },
         {
          "terrain": "ocean",
          "value": 0,
          "x": 32,
          "y": 0
         },
         {
          "terrain": "ocean",
          "value": -1,
          "x": 33,
          "y": 0
         },
         {
          "terrain": "ocean",
          "value": -1,
          "x": 34,
          "y": 0
         },
         {
          "terrain": "ocean",
          "value": -1,
          "x": 35,
          "y": 0
         },
         {
          "terrain": "land",
          "value": 1,
          "x": 36,
          "y": 0
         },
         {
          "terrain": "ocean",
          "value": -1,
          "x": 37,
          "y": 0
         },
         {
          "terrain": "ocean",
          "value": -1,
          "x": 38,
          "y": 0
         },
         {
          "terrain": "ocean",
          "value": 0,
          "x": 39,
          "y": 0
         },
         {
          "terrain": "land",
          "value": 1,
          "x": 0,
          "y": 1
         },
         {
          "terrain": "ocean",
          "value": -1,
          "x": 1,
          "y": 1
         },
         {
          "terrain": "ocean",
          "value": 0,
          "x": 2,
          "y": 1
         },
         {
          "terrain": "land",
          "value": 1,
          "x": 3,
          "y": 1
         },
         {
          "terrain": "land",
          "value": 1,
          "x": 4,
          "y": 1
         },
         {
          "terrain": "ocean",
          "value": -2,
          "x": 5,
          "y": 1
         },
         {
          "terrain": "ocean",
          "value": -2,
          "x": 6,
          "y": 1
         },
         {
          "terrain": "ocean",
          "value": 0,
          "x": 7,
          "y": 1
         },
         {
          "terrain": "ocean",
          "value": 0,
          "x": 8,
          "y": 1
         },
         {
          "terrain": "ocean",
          "value": 0,
          "x": 9,
          "y": 1
         },
         {
          "terrain": "ocean",
          "value": 0,
          "x": 10,
          "y": 1
         },
         {
          "terrain": "land",
          "value": 1,
          "x": 11,
          "y": 1
         },
         {
          "terrain": "ocean",
          "value": 0,
          "x": 12,
          "y": 1
         },
         {
          "terrain": "land",
          "value": 1,
          "x": 13,
          "y": 1
         },
         {
          "terrain": "land",
          "value": 1,
          "x": 14,
          "y": 1
         },
         {
          "terrain": "ocean",
          "value": -1,
          "x": 15,
          "y": 1
         },
         {
          "terrain": "land",
          "value": 1,
          "x": 16,
          "y": 1
         },
         {
          "terrain": "ocean",
          "value": 0,
          "x": 17,
          "y": 1
         },
         {
          "terrain": "land",
          "value": 2,
          "x": 18,
          "y": 1
         },
         {
          "terrain": "land",
          "value": 1,
          "x": 19,
          "y": 1
         },
         {
          "terrain": "ocean",
          "value": -1,
          "x": 20,
          "y": 1
         },
         {
          "terrain": "ocean",
          "value": -1,
          "x": 21,
          "y": 1
         },
         {
          "terrain": "ocean",
          "value": -1,
          "x": 22,
          "y": 1
         },
         {
          "terrain": "ocean",
          "value": 0,
          "x": 23,
          "y": 1
         },
         {
          "terrain": "ocean",
          "value": -2,
          "x": 24,
          "y": 1
         },
         {
          "terrain": "ocean",
          "value": 0,
          "x": 25,
          "y": 1
         },
         {
          "terrain": "land",
          "value": 1,
          "x": 26,
          "y": 1
         },
         {
          "terrain": "ocean",
          "value": -2,
          "x": 27,
          "y": 1
         },
         {
          "terrain": "ocean",
          "value": 0,
          "x": 28,
          "y": 1
         },
         {
          "terrain": "land",
          "value": 2,
          "x": 29,
          "y": 1
         },
         {
          "terrain": "ocean",
          "value": 0,
          "x": 30,
          "y": 1
         },
         {
          "terrain": "land",
          "value": 1,
          "x": 31,
          "y": 1
         },
         {
          "terrain": "land",
          "value": 1,
          "x": 32,
          "y": 1
         },
         {
          "terrain": "ocean",
          "value": 0,
          "x": 33,
          "y": 1
         },
         {
          "terrain": "ocean",
          "value": -1,
          "x": 34,
          "y": 1
         },
         {
          "terrain": "land",
          "value": 2,
          "x": 35,
          "y": 1
         },
         {
          "terrain": "land",
          "value": 1,
          "x": 36,
          "y": 1
         },
         {
          "terrain": "land",
          "value": 1,
          "x": 37,
          "y": 1
         },
         {
          "terrain": "ocean",
          "value": 0,
          "x": 38,
          "y": 1
         },
         {
          "terrain": "land",
          "value": 1,
          "x": 39,
          "y": 1
         },
         {
          "terrain": "ocean",
          "value": -1,
          "x": 0,
          "y": 2
         },
         {
          "terrain": "ocean",
          "value": -1,
          "x": 1,
          "y": 2
         },
         {
          "terrain": "land",
          "value": 1,
          "x": 2,
          "y": 2
         },
         {
          "terrain": "ocean",
          "value": 0,
          "x": 3,
          "y": 2
         },
         {
          "terrain": "land",
          "value": 1,
          "x": 4,
          "y": 2
         },
         {
          "terrain": "ocean",
          "value": 0,
          "x": 5,
          "y": 2
         },
         {
          "terrain": "land",
          "value": 1,
          "x": 6,
          "y": 2
         },
         {
          "terrain": "ocean",
          "value": -1,
          "x": 7,
          "y": 2
         },
         {
          "terrain": "ocean",
          "value": -1,
          "x": 8,
          "y": 2
         },
         {
          "terrain": "land",
          "value": 2,
          "x": 9,
          "y": 2
         },
         {
          "terrain": "ocean",
          "value": -2,
          "x": 10,
          "y": 2
         },
         {
          "terrain": "ocean",
          "value": -1,
          "x": 11,
          "y": 2
         },
         {
          "terrain": "land",
          "value": 1,
          "x": 12,
          "y": 2
         },
         {
          "terrain": "ocean",
          "value": -2,
          "x": 13,
          "y": 2
         },
         {
          "terrain": "ocean",
          "value": -1,
          "x": 14,
          "y": 2
         },
         {
          "terrain": "ocean",
          "value": -1,
          "x": 15,
          "y": 2
         },
         {
          "terrain": "ocean",
          "value": -1,
          "x": 16,
          "y": 2
         },
         {
          "terrain": "ocean",
          "value": 0,
          "x": 17,
          "y": 2
         },
         {
          "terrain": "ocean",
          "value": 0,
          "x": 18,
          "y": 2
         },
         {
          "terrain": "ocean",
          "value": 0,
          "x": 19,
          "y": 2
         },
         {
          "terrain": "ocean",
          "value": 0,
          "x": 20,
          "y": 2
         },
         {
          "terrain": "ocean",
          "value": 0,
          "x": 21,
          "y": 2
         },
         {
          "terrain": "land",
          "value": 1,
          "x": 22,
          "y": 2
         },
         {
          "terrain": "ocean",
          "value": 0,
          "x": 23,
          "y": 2
         },
         {
          "terrain": "land",
          "value": 1,
          "x": 24,
          "y": 2
         },
         {
          "terrain": "ocean",
          "value": -1,
          "x": 25,
          "y": 2
         },
         {
          "terrain": "ocean",
          "value": 0,
          "x": 26,
          "y": 2
         },
         {
          "terrain": "land",
          "value": 1,
          "x": 27,
          "y": 2
         },
         {
          "terrain": "ocean",
          "value": 0,
          "x": 28,
          "y": 2
         },
         {
          "terrain": "ocean",
          "value": 0,
          "x": 29,
          "y": 2
         },
         {
          "terrain": "ocean",
          "value": 0,
          "x": 30,
          "y": 2
         },
         {
          "terrain": "land",
          "value": 1,
          "x": 31,
          "y": 2
         },
         {
          "terrain": "ocean",
          "value": -2,
          "x": 32,
          "y": 2
         },
         {
          "terrain": "ocean",
          "value": 0,
          "x": 33,
          "y": 2
         },
         {
          "terrain": "ocean",
          "value": 0,
          "x": 34,
          "y": 2
         },
         {
          "terrain": "ocean",
          "value": 0,
          "x": 35,
          "y": 2
         },
         {
          "terrain": "ocean",
          "value": 0,
          "x": 36,
          "y": 2
         },
         {
          "terrain": "ocean",
          "value": -1,
          "x": 37,
          "y": 2
         },
         {
          "terrain": "land",
          "value": 2,
          "x": 38,
          "y": 2
         },
         {
          "terrain": "land",
          "value": 2,
          "x": 39,
          "y": 2
         },
         {
          "terrain": "ocean",
          "value": 0,
          "x": 0,
          "y": 3
         },
         {
          "terrain": "ocean",
          "value": 0,
          "x": 1,
          "y": 3
         },
         {
          "terrain": "land",
          "value": 1,
          "x": 2,
          "y": 3
         },
         {
          "terrain": "ocean",
          "value": 0,
          "x": 3,
          "y": 3
         },
         {
          "terrain": "ocean",
          "value": 0,
          "x": 4,
          "y": 3
         },
         {
          "terrain": "ocean",
          "value": 0,
          "x": 5,
          "y": 3
         },
         {
          "terrain": "land",
          "value": 1,
          "x": 6,
          "y": 3
         },
         {
          "terrain": "ocean",
          "value": 0,
          "x": 7,
          "y": 3
         },
         {
          "terrain": "ocean",
          "value": 0,
          "x": 8,
          "y": 3
         },
         {
          "terrain": "ocean",
          "value": -1,
          "x": 9,
          "y": 3
         },
         {
          "terrain": "ocean",
          "value": 0,
          "x": 10,
          "y": 3
         },
         {
          "terrain": "ocean",
          "value": 0,
          "x": 11,
          "y": 3
         },
         {
          "terrain": "ocean",
          "value": 0,
          "x": 12,
          "y": 3
         },
         {
          "terrain": "ocean",
          "value": 0,
          "x": 13,
          "y": 3
         },
         {
          "terrain": "ocean",
          "value": 0,
          "x": 14,
          "y": 3
         },
         {
          "terrain": "ocean",
          "value": 0,
          "x": 15,
          "y": 3
         },
         {
          "terrain": "ocean",
          "value": 0,
          "x": 16,
          "y": 3
         },
         {
          "terrain": "ocean",
          "value": -1,
          "x": 17,
          "y": 3
         },
         {
          "terrain": "ocean",
          "value": 0,
          "x": 18,
          "y": 3
         },
         {
          "terrain": "ocean",
          "value": 0,
          "x": 19,
          "y": 3
         },
         {
          "terrain": "ocean",
          "value": 0,
          "x": 20,
          "y": 3
         },
         {
          "terrain": "ocean",
          "value": -1,
          "x": 21,
          "y": 3
         },
         {
          "terrain": "land",
          "value": 1,
          "x": 22,
          "y": 3
         },
         {
          "terrain": "ocean",
          "value": 0,
          "x": 23,
          "y": 3
         },
         {
          "terrain": "land",
          "value": 1,
          "x": 24,
          "y": 3
         },
         {
          "terrain": "ocean",
          "value": -1,
          "x": 25,
          "y": 3
         },
         {
          "terrain": "land",
          "value": 1,
          "x": 26,
          "y": 3
         },
         {
          "terrain": "land",
          "value": 1,
          "x": 27,
          "y": 3
         },
         {
          "terrain": "land",
          "value": 1,
          "x": 28,
          "y": 3
         },
         {
          "terrain": "land",
          "value": 1,
          "x": 29,
          "y": 3
         },
         {
          "terrain": "ocean",
          "value": -1,
          "x": 30,
          "y": 3
         },
         {
          "terrain": "ocean",
          "value": -2,
          "x": 31,
          "y": 3
         },
         {
          "terrain": "land",
          "value": 1,
          "x": 32,
          "y": 3
         },
         {
          "terrain": "ocean",
          "value": 0,
          "x": 33,
          "y": 3
         },
         {
          "terrain": "ocean",
          "value": 0,
          "x": 34,
          "y": 3
         },
         {
          "terrain": "ocean",
          "value": 0,
          "x": 35,
          "y": 3
         },
         {
          "terrain": "ocean",
          "value": 0,
          "x": 36,
          "y": 3
         },
         {
          "terrain": "ocean",
          "value": -1,
          "x": 37,
          "y": 3
         },
         {
          "terrain": "land",
          "value": 1,
          "x": 38,
          "y": 3
         },
         {
          "terrain": "ocean",
          "value": 0,
          "x": 39,
          "y": 3
         },
         {
          "terrain": "ocean",
          "value": 0,
          "x": 0,
          "y": 4
         },
         {
          "terrain": "ocean",
          "value": 0,
          "x": 1,
          "y": 4
         },
         {
          "terrain": "land",
          "value": 1,
          "x": 2,
          "y": 4
         },
         {
          "terrain": "ocean",
          "value": 0,
          "x": 3,
          "y": 4
         },
         {
          "terrain": "ocean",
          "value": -1,
          "x": 4,
          "y": 4
         },
         {
          "terrain": "land",
          "value": 1,
          "x": 5,
          "y": 4
         },
         {
          "terrain": "ocean",
          "value": 0,
          "x": 6,
          "y": 4
         },
         {
          "terrain": "land",
          "value": 1,
          "x": 7,
          "y": 4
         },
         {
          "terrain": "ocean",
          "value": 0,
          "x": 8,
          "y": 4
         },
         {
          "terrain": "ocean",
          "value": -2,
          "x": 9,
          "y": 4
         },
         {
          "terrain": "land",
          "value": 1,
          "x": 10,
          "y": 4
         },
         {
          "terrain": "land",
          "value": 1,
          "x": 11,
          "y": 4
         },
         {
          "terrain": "ocean",
          "value": 0,
          "x": 12,
          "y": 4
         },
         {
          "terrain": "land",
          "value": 1,
          "x": 13,
          "y": 4
         },
         {
          "terrain": "ocean",
          "value": 0,
          "x": 14,
          "y": 4
         },
         {
          "terrain": "ocean",
          "value": 0,
          "x": 15,
          "y": 4
         },
         {
          "terrain": "ocean",
          "value": -1,
          "x": 16,
          "y": 4
         },
         {
          "terrain": "ocean",
          "value": -1,
          "x": 17,
          "y": 4
         },
         {
          "terrain": "ocean",
          "value": -1,
          "x": 18,
          "y": 4
         },
         {
          "terrain": "ocean",
          "value": 0,
          "x": 19,
          "y": 4
         },
         {
          "terrain": "ocean",
          "value": 0,
          "x": 20,
          "y": 4
         },
         {
          "terrain": "ocean",
          "value": 0,
          "x": 21,
          "y": 4
         },
         {
          "terrain": "land",
          "value": 1,
          "x": 22,
          "y": 4
         },
         {
          "terrain": "land",
          "value": 2,
          "x": 23,
          "y": 4
         },
         {
          "terrain": "land",
          "value": 1,
          "x": 24,
          "y": 4
         },
         {
          "terrain": "ocean",
          "value": 0,
          "x": 25,
          "y": 4
         },
         {
          "terrain": "ocean",
          "value": -1,
          "x": 26,
          "y": 4
         },
         {
          "terrain": "ocean",
          "value": -1,
          "x": 27,
          "y": 4
         },
         {
          "terrain": "ocean",
          "value": 0,
          "x": 28,
          "y": 4
         },
         {
          "terrain": "ocean",
          "value": -2,
          "x": 29,
          "y": 4
         },
         {
          "terrain": "ocean",
          "value": -2,
          "x": 30,
          "y": 4
         },
         {
          "terrain": "land",
          "value": 1,
          "x": 31,
          "y": 4
         },
         {
          "terrain": "land",
          "value": 1,
          "x": 32,
          "y": 4
         },
         {
          "terrain": "ocean",
          "value": -1,
          "x": 33,
          "y": 4
         },
         {
          "terrain": "ocean",
          "value": -1,
          "x": 34,
          "y": 4
         },
         {
          "terrain": "ocean",
          "value": -1,
          "x": 35,
          "y": 4
         },
         {
          "terrain": "ocean",
          "value": 0,
          "x": 36,
          "y": 4
         },
         {
          "terrain": "ocean",
          "value": -1,
          "x": 37,
          "y": 4
         },
         {
          "terrain": "ocean",
          "value": 0,
          "x": 38,
          "y": 4
         },
         {
          "terrain": "land",
          "value": 2,
          "x": 39,
          "y": 4
         },
         {
          "terrain": "ocean",
          "value": -2,
          "x": 0,
          "y": 5
         },
         {
          "terrain": "ocean",
          "value": 0,
          "x": 1,
          "y": 5
         },
         {
          "terrain": "ocean",
          "value": -1,
          "x": 2,
          "y": 5
         },
         {
          "terrain": "ocean",
          "value": -1,
          "x": 3,
          "y": 5
         },
         {
          "terrain": "land",
          "value": 1,
          "x": 4,
          "y": 5
         },
         {
          "terrain": "land",
          "value": 1,
          "x": 5,
          "y": 5
         },
         {
          "terrain": "ocean",
          "value": -2,
          "x": 6,
          "y": 5
         },
         {
          "terrain": "ocean",
          "value": 0,
          "x": 7,
          "y": 5
         },
         {
          "terrain": "land",
          "value": 1,
          "x": 8,
          "y": 5
         },
         {
          "terrain": "land",
          "value": 1,
          "x": 9,
          "y": 5
         },
         {
          "terrain": "ocean",
          "value": -2,
          "x": 10,
          "y": 5
         },
         {
          "terrain": "ocean",
          "value": -1,
          "x": 11,
          "y": 5
         },
         {
          "terrain": "ocean",
          "value": -1,
          "x": 12,
          "y": 5
         },
         {
          "terrain": "ocean",
          "value": 0,
          "x": 13,
          "y": 5
         },
         {
          "terrain": "ocean",
          "value": 0,
          "x": 14,
          "y": 5
         },
         {
          "terrain": "land",
          "value": 1,
          "x": 15,
          "y": 5
         },
         {
          "terrain": "ocean",
          "value": -2,
          "x": 16,
          "y": 5
         },
         {
          "terrain": "ocean",
          "value": -1,
          "x": 17,
          "y": 5
         },
         {
          "terrain": "land",
          "value": 2,
          "x": 18,
          "y": 5
         },
         {
          "terrain": "land",
          "value": 1,
          "x": 19,
          "y": 5
         },
         {
          "terrain": "ocean",
          "value": -1,
          "x": 20,
          "y": 5
         },
         {
          "terrain": "ocean",
          "value": -1,
          "x": 21,
          "y": 5
         },
         {
          "terrain": "ocean",
          "value": 0,
          "x": 22,
          "y": 5
         },
         {
          "terrain": "land",
          "value": 1,
          "x": 23,
          "y": 5
         },
         {
          "terrain": "land",
          "value": 1,
          "x": 24,
          "y": 5
         },
         {
          "terrain": "land",
          "value": 1,
          "x": 25,
          "y": 5
         },
         {
          "terrain": "land",
          "value": 1,
          "x": 26,
          "y": 5
         },
         {
          "terrain": "land",
          "value": 2,
          "x": 27,
          "y": 5
         },
         {
          "terrain": "land",
          "value": 1,
          "x": 28,
          "y": 5
         },
         {
          "terrain": "ocean",
          "value": 0,
          "x": 29,
          "y": 5
         },
         {
          "terrain": "ocean",
          "value": -1,
          "x": 30,
          "y": 5
         },
         {
          "terrain": "ocean",
          "value": 0,
          "x": 31,
          "y": 5
         },
         {
          "terrain": "ocean",
          "value": -1,
          "x": 32,
          "y": 5
         },
         {
          "terrain": "ocean",
          "value": 0,
          "x": 33,
          "y": 5
         },
         {
          "terrain": "land",
          "value": 2,
          "x": 34,
          "y": 5
         },
         {
          "terrain": "ocean",
          "value": 0,
          "x": 35,
          "y": 5
         },
         {
          "terrain": "land",
          "value": 1,
          "x": 36,
          "y": 5
         },
         {
          "terrain": "land",
          "value": 1,
          "x": 37,
          "y": 5
         },
         {
          "terrain": "land",
          "value": 1,
          "x": 38,
          "y": 5
         },
         {
          "terrain": "ocean",
          "value": 0,
          "x": 39,
          "y": 5
         },
         {
          "terrain": "ocean",
          "value": 0,
          "x": 0,
          "y": 6
         },
         {
          "terrain": "ocean",
          "value": 0,
          "x": 1,
          "y": 6
         },
         {
          "terrain": "ocean",
          "value": 0,
          "x": 2,
          "y": 6
         },
         {
          "terrain": "ocean",
          "value": 0,
          "x": 3,
          "y": 6
         },
         {
          "terrain": "land",
          "value": 1,
          "x": 4,
          "y": 6
         },
         {
          "terrain": "land",
          "value": 1,
          "x": 5,
          "y": 6
         },
         {
          "terrain": "ocean",
          "value": -1,
          "x": 6,
          "y": 6
         },
         {
          "terrain": "ocean",
          "value": 0,
          "x": 7,
          "y": 6
         },
         {
          "terrain": "ocean",
          "value": 0,
          "x": 8,
          "y": 6
         },
         {
          "terrain": "ocean",
          "value": 0,
          "x": 9,
          "y": 6
         },
         {
          "terrain": "ocean",
          "value": -1,
          "x": 10,
          "y": 6
         },
         {
          "terrain": "land",
          "value": 1,
          "x": 11,
          "y": 6
         },
         {
          "terrain": "land",
          "value": 1,
          "x": 12,
          "y": 6
         },
         {
          "terrain": "ocean",
          "value": -1,
          "x": 13,
          "y": 6
         },
         {
          "terrain": "ocean",
          "value": 0,
          "x": 14,
          "y": 6
         },
         {
          "terrain": "ocean",
          "value": 0,
          "x": 15,
          "y": 6
         },
         {
          "terrain": "land",
          "value": 2,
          "x": 16,
          "y": 6
         },
         {
          "terrain": "ocean",
          "value": 0,
          "x": 17,
          "y": 6
         },
         {
          "terrain": "ocean",
          "value": -1,
          "x": 18,
          "y": 6
         },
         {
          "terrain": "land",
          "value": 1,
          "x": 19,
          "y": 6
         },
         {
          "terrain": "land",
          "value": 1,
          "x": 20,
          "y": 6
         },
         {
          "terrain": "ocean",
          "value": 0,
          "x": 21,
          "y": 6
         },
         {
          "terrain": "ocean",
          "value": 0,
          "x": 22,
          "y": 6
         },
         {
          "terrain": "ocean",
          "value": 0,
          "x": 23,
          "y": 6
         },
         {
          "terrain": "ocean",
          "value": -1,
          "x": 24,
          "y": 6
         },
         {
          "terrain": "land",
          "value": 1,
          "x": 25,
          "y": 6
         },
         {
          "terrain": "ocean",
          "value": -1,
          "x": 26,
          "y": 6
         },
         {
          "terrain": "ocean",
          "value": -1,
          "x": 27,
          "y": 6
         },
         {
          "terrain": "ocean",
          "value": 0,
          "x": 28,
          "y": 6
         },
         {
          "terrain": "land",
          "value": 1,
          "x": 29,
          "y": 6
         },
         {
          "terrain": "ocean",
          "value": 0,
          "x": 30,
          "y": 6
         },
         {
          "terrain": "ocean",
          "value": -1,
          "x": 31,
          "y": 6
         },
         {
          "terrain": "land",
          "value": 2,
          "x": 32,
          "y": 6
         },
         {
          "terrain": "ocean",
          "value": 0,
          "x": 33,
          "y": 6
         },
         {
          "terrain": "ocean",
          "value": 0,
          "x": 34,
          "y": 6
         },
         {
          "terrain": "land",
          "value": 1,
          "x": 35,
          "y": 6
         },
         {
          "terrain": "land",
          "value": 1,
          "x": 36,
          "y": 6
         },
         {
          "terrain": "ocean",
          "value": -2,
          "x": 37,
          "y": 6
         },
         {
          "terrain": "land",
          "value": 1,
          "x": 38,
          "y": 6
         },
         {
          "terrain": "ocean",
          "value": -2,
          "x": 39,
          "y": 6
         },
         {
          "terrain": "ocean",
          "value": 0,
          "x": 0,
          "y": 7
         },
         {
          "terrain": "land",
          "value": 1,
          "x": 1,
          "y": 7
         },
         {
          "terrain": "land",
          "value": 1,
          "x": 2,
          "y": 7
         },
         {
          "terrain": "land",
          "value": 1,
          "x": 3,
          "y": 7
         },
         {
          "terrain": "land",
          "value": 1,
          "x": 4,
          "y": 7
         },
         {
          "terrain": "ocean",
          "value": 0,
          "x": 5,
          "y": 7
         },
         {
          "terrain": "ocean",
          "value": -1,
          "x": 6,
          "y": 7
         },
         {
          "terrain": "ocean",
          "value": 0,
          "x": 7,
          "y": 7
         },
         {
          "terrain": "land",
          "value": 2,
          "x": 8,
          "y": 7
         },
         {
          "terrain": "ocean",
          "value": -1,
          "x": 9,
          "y": 7
         },
         {
          "terrain": "ocean",
          "value": 0,
          "x": 10,
          "y": 7
         },
         {
          "terrain": "ocean",
          "value": 0,
          "x": 11,
          "y": 7
         },
         {
          "terrain": "ocean",
          "value": 0,
          "x": 12,
          "y": 7
         },
         {
          "terrain": "ocean",
          "value": 0,
          "x": 13,
          "y": 7
         },
         {
          "terrain": "ocean",
          "value": -1,
          "x": 14,
          "y": 7
         },
         {
          "terrain": "ocean",
          "value": -1,
          "x": 15,
          "y": 7
         },
         {
          "terrain": "ocean",
          "value": 0,
          "x": 16,
          "y": 7
         },
         {
          "terrain": "ocean",
          "value": -1,
          "x": 17,
          "y": 7
         },
         {
          "terrain": "land",
          "value": 1,
          "x": 18,
          "y": 7
         },
         {
          "terrain": "ocean",
          "value": 0,
          "x": 19,
          "y": 7
         },
         {
          "terrain": "ocean",
          "value": -2,
          "x": 20,
          "y": 7
         },
         {
          "terrain": "ocean",
          "value": 0,
          "x": 21,
          "y": 7
         },
         {
          "terrain": "land",
          "value": 1,
          "x": 22,
          "y": 7
         },
         {
          "terrain": "ocean",
          "value": -1,
          "x": 23,
          "y": 7
         },
         {
          "terrain": "ocean",
          "value": -1,
          "x": 24,
          "y": 7
         },
         {
          "terrain": "land",
          "value": 1,
          "x": 25,
          "y": 7
         },
         {
          "terrain": "ocean",
          "value": -1,
          "x": 26,
          "y": 7
         },
         {
          "terrain": "ocean",
          "value": 0,
          "x": 27,
          "y": 7
         },
         {
          "terrain": "ocean",
          "value": 0,
          "x": 28,
          "y": 7
         },
         {
          "terrain": "ocean",
          "value": 0,
          "x": 29,
          "y": 7
         },
         {
          "terrain": "ocean",
          "value": 0,
          "x": 30,
          "y": 7
         },
         {
          "terrain": "ocean",
          "value": -1,
          "x": 31,
          "y": 7
         },
         {
          "terrain": "ocean",
          "value": -1,
          "x": 32,
          "y": 7
         },
         {
          "terrain": "land",
          "value": 1,
          "x": 33,
          "y": 7
         },
         {
          "terrain": "land",
          "value": 1,
          "x": 34,
          "y": 7
         },
         {
          "terrain": "land",
          "value": 1,
          "x": 35,
          "y": 7
         },
         {
          "terrain": "ocean",
          "value": 0,
          "x": 36,
          "y": 7
         },
         {
          "terrain": "land",
          "value": 1,
          "x": 37,
          "y": 7
         },
         {
          "terrain": "ocean",
          "value": 0,
          "x": 38,
          "y": 7
         },
         {
          "terrain": "ocean",
          "value": -1,
          "x": 39,
          "y": 7
         },
         {
          "terrain": "ocean",
          "value": 0,
          "x": 0,
          "y": 8
         },
         {
          "terrain": "ocean",
          "value": 0,
          "x": 1,
          "y": 8
         },
         {
          "terrain": "land",
          "value": 1,
          "x": 2,
          "y": 8
         },
         {
          "terrain": "ocean",
          "value": -2,
          "x": 3,
          "y": 8
         },
         {
          "terrain": "ocean",
          "value": 0,
          "x": 4,
          "y": 8
         },
         {
          "terrain": "land",
          "value": 1,
          "x": 5,
          "y": 8
         },
         {
          "terrain": "land",
          "value": 1,
          "x": 6,
          "y": 8
         },
         {
          "terrain": "ocean",
          "value": -1,
          "x": 7,
          "y": 8
         },
         {
          "terrain": "ocean",
          "value": 0,
          "x": 8,
          "y": 8
         },
         {
          "terrain": "ocean",
          "value": 0,
          "x": 9,
          "y": 8
         },
         {
          "terrain": "land",
          "value": 2,
          "x": 10,
          "y": 8
         },
         {
          "terrain": "ocean",
          "value": 0,
          "x": 11,
          "y": 8
         },
         {
          "terrain": "land",
          "value": 1,
          "x": 12,
          "y": 8
         },
         {
          "terrain": "ocean",
          "value": 0,
          "x": 13,
          "y": 8
         },
         {
          "terrain": "land",
          "value": 1,
          "x": 14,
          "y": 8
         },
         {
          "terrain": "land",
          "value": 1,
          "x": 15,
          "y": 8
         },
         {
          "terrain": "ocean",
          "value": -1,
          "x": 16,
          "y": 8
         },
         {
          "terrain": "ocean",
          "value": 0,
          "x": 17,
          "y": 8
         },
         {
          "terrain": "ocean",
          "value": 0,
          "x": 18,
          "y": 8
         },
         {
          "terrain": "ocean",
          "value": -1,
          "x": 19,
          "y": 8
         },
         {
          "terrain": "ocean",
          "value": 0,
          "x": 20,
          "y": 8
         },
         {
          "terrain": "ocean",
          "value": -2,
          "x": 21,
          "y": 8
         },
         {
          "terrain": "land",
          "value": 1,
          "x": 22,
          "y": 8
         },
         {
          "terrain": "land",
          "value": 1,
          "x": 23,
          "y": 8
         },
         {
          "terrain": "ocean",
          "value": 0,
          "x": 24,
          "y": 8
         },
         {
          "terrain": "ocean",
          "value": 0,
          "x": 25,
          "y": 8
         },
         {
          "terrain": "ocean",
          "value": 0,
          "x": 26,
          "y": 8
         },
         {
          "terrain": "land",
          "value": 2,
          "x": 27,
          "y": 8
         },
         {
          "terrain": "ocean",
          "value": 0,
          "x": 28,
          "y": 8
         },
         {
          "terrain": "land",
          "value": 2,
          "x": 29,
          "y": 8
         },
         {
          "terrain": "ocean",
          "value": 0,
          "x": 30,
          "y": 8
         },
         {
          "terrain": "ocean",
          "value": 0,
          "x": 31,
          "y": 8
         },
         {
          "terrain": "ocean",
          "value": 0,
          "x": 32,
          "y": 8
         },
         {
          "terrain": "land",
          "value": 1,
          "x": 33,
          "y": 8
         },
         {
          "terrain": "land",
          "value": 1,
          "x": 34,
          "y": 8
         },
         {
          "terrain": "land",
          "value": 1,
          "x": 35,
          "y": 8
         },
         {
          "terrain": "ocean",
          "value": -2,
          "x": 36,
          "y": 8
         },
         {
          "terrain": "ocean",
          "value": 0,
          "x": 37,
          "y": 8
         },
         {
          "terrain": "ocean",
          "value": 0,
          "x": 38,
          "y": 8
         },
         {
          "terrain": "land",
          "value": 1,
          "x": 39,
          "y": 8
         },
         {
          "terrain": "ocean",
          "value": 0,
          "x": 0,
          "y": 9
         },
         {
          "terrain": "ocean",
          "value": -2,
          "x": 1,
          "y": 9
         },
         {
          "terrain": "land",
          "value": 1,
          "x": 2,
          "y": 9
         },
         {
          "terrain": "ocean",
          "value": -1,
          "x": 3,
          "y": 9
         },
         {
          "terrain": "ocean",
          "value": 0,
          "x": 4,
          "y": 9
         },
         {
          "terrain": "land",
          "value": 1,
          "x": 5,
          "y": 9
         },
         {
          "terrain": "land",
          "value": 2,
          "x": 6,
          "y": 9
         },
         {
          "terrain": "land",
          "value": 1,
          "x": 7,
          "y": 9
         },
         {
          "terrain": "ocean",
          "value": 0,
          "x": 8,
          "y": 9
         },
         {
          "terrain": "ocean",
          "value": -1,
          "x": 9,
          "y": 9
         },
         {
          "terrain": "ocean",
          "value": 0,
          "x": 10,
          "y": 9
         },
         {
          "terrain": "ocean",
          "value": 0,
          "x": 11,
          "y": 9
         },
         {
          "terrain": "ocean",
          "value": -1,
          "x": 12,
          "y": 9
         },
         {
          "terrain": "land",
          "value": 1,
          "x": 13,
          "y": 9
         },
         {
          "terrain": "ocean",
          "value": -1,
          "x": 14,
          "y": 9
         },
         {
          "terrain": "ocean",
          "value": 0,
          "x": 15,
          "y": 9
         },
         {
          "terrain": "land",
          "value": 3,
          "x": 16,
          "y": 9
         },
         {
          "terrain": "ocean",
          "value": 0,
          "x": 17,
          "y": 9
         },
         {
          "terrain": "ocean",
          "value": 0,
          "x": 18,
          "y": 9
         },
         {
          "terrain": "ocean",
          "value": -2,
          "x": 19,
          "y": 9
         },
         {
          "terrain": "ocean",
          "value": 0,
          "x": 20,
          "y": 9
         },
         {
          "terrain": "land",
          "value": 1,
          "x": 21,
          "y": 9
         },
         {
          "terrain": "land",
          "value": 1,
          "x": 22,
          "y": 9
         },
         {
          "terrain": "ocean",
          "value": 0,
          "x": 23,
          "y": 9
         },
         {
          "terrain": "ocean",
          "value": 0,
          "x": 24,
          "y": 9
         },
         {
          "terrain": "ocean",
          "value": -1,
          "x": 25,
          "y": 9
         },
         {
          "terrain": "ocean",
          "value": -1,
          "x": 26,
          "y": 9
         },
         {
          "terrain": "ocean",
          "value": -2,
          "x": 27,
          "y": 9
         },
         {
          "terrain": "land",
          "value": 1,
          "x": 28,
          "y": 9
         },
         {
          "terrain": "ocean",
          "value": 0,
          "x": 29,
          "y": 9
         },
         {
          "terrain": "ocean",
          "value": -2,
          "x": 30,
          "y": 9
         },
         {
          "terrain": "land",
          "value": 1,
          "x": 31,
          "y": 9
         },
         {
          "terrain": "land",
          "value": 1,
          "x": 32,
          "y": 9
         },
         {
          "terrain": "ocean",
          "value": 0,
          "x": 33,
          "y": 9
         },
         {
          "terrain": "ocean",
          "value": 0,
          "x": 34,
          "y": 9
         },
         {
          "terrain": "ocean",
          "value": 0,
          "x": 35,
          "y": 9
         },
         {
          "terrain": "ocean",
          "value": 0,
          "x": 36,
          "y": 9
         },
         {
          "terrain": "ocean",
          "value": -2,
          "x": 37,
          "y": 9
         },
         {
          "terrain": "land",
          "value": 1,
          "x": 38,
          "y": 9
         },
         {
          "terrain": "ocean",
          "value": 0,
          "x": 39,
          "y": 9
         },
         {
          "terrain": "ocean",
          "value": 0,
          "x": 0,
          "y": 10
         },
         {
          "terrain": "land",
          "value": 1,
          "x": 1,
          "y": 10
         },
         {
          "terrain": "ocean",
          "value": -1,
          "x": 2,
          "y": 10
         },
         {
          "terrain": "ocean",
          "value": 0,
          "x": 3,
          "y": 10
         },
         {
          "terrain": "land",
          "value": 2,
          "x": 4,
          "y": 10
         },
         {
          "terrain": "ocean",
          "value": 0,
          "x": 5,
          "y": 10
         },
         {
          "terrain": "land",
          "value": 1,
          "x": 6,
          "y": 10
         },
         {
          "terrain": "ocean",
          "value": 0,
          "x": 7,
          "y": 10
         },
         {
          "terrain": "ocean",
          "value": -1,
          "x": 8,
          "y": 10
         },
         {
          "terrain": "ocean",
          "value": 0,
          "x": 9,
          "y": 10
         },
         {
          "terrain": "land",
          "value": 1,
          "x": 10,
          "y": 10
         },
         {
          "terrain": "ocean",
          "value": 0,
          "x": 11,
          "y": 10
         },
         {
          "terrain": "ocean",
          "value": -2,
          "x": 12,
          "y": 10
         },
         {
          "terrain": "ocean",
          "value": -1,
          "x": 13,
          "y": 10
         },
         {
          "terrain": "ocean",
          "value": -1,
          "x": 14,
          "y": 10
         },
         {
          "terrain": "ocean",
          "value": -1,
          "x": 15,
          "y": 10
         },
         {
          "terrain": "ocean",
          "value": 0,
          "x": 16,
          "y": 10
         },
         {
          "terrain": "ocean",
          "value": -1,
          "x": 17,
          "y": 10
         },
         {
          "terrain": "ocean",
          "value": 0,
          "x": 18,
          "y": 10
         },
         {
          "terrain": "ocean",
          "value": -2,
          "x": 19,
          "y": 10
         },
         {
          "terrain": "ocean",
          "value": -1,
          "x": 20,
          "y": 10
         },
         {
          "terrain": "ocean",
          "value": 0,
          "x": 21,
          "y": 10
         },
         {
          "terrain": "ocean",
          "value": 0,
          "x": 22,
          "y": 10
         },
         {
          "terrain": "ocean",
          "value": 0,
          "x": 23,
          "y": 10
         },
         {
          "terrain": "land",
          "value": 1,
          "x": 24,
          "y": 10
         },
         {
          "terrain": "ocean",
          "value": -1,
          "x": 25,
          "y": 10
         },
         {
          "terrain": "ocean",
          "value": -1,
          "x": 26,
          "y": 10
         },
         {
          "terrain": "land",
          "value": 1,
          "x": 27,
          "y": 10
         },
         {
          "terrain": "ocean",
          "value": 0,
          "x": 28,
          "y": 10
         },
         {
          "terrain": "ocean",
          "value": 0,
          "x": 29,
          "y": 10
         },
         {
          "terrain": "ocean",
          "value": 0,
          "x": 30,
          "y": 10
         },
         {
          "terrain": "ocean",
          "value": -1,
          "x": 31,
          "y": 10
         },
         {
          "terrain": "ocean",
          "value": 0,
          "x": 32,
          "y": 10
         },
         {
          "terrain": "ocean",
          "value": 0,
          "x": 33,
          "y": 10
         },
         {
          "terrain": "ocean",
          "value": 0,
          "x": 34,
          "y": 10
         },
         {
          "terrain": "land",
          "value": 1,
          "x": 35,
          "y": 10
         },
         {
          "terrain": "land",
          "value": 2,
          "x": 36,
          "y": 10
         },
         {
          "terrain": "ocean",
          "value": 0,
          "x": 37,
          "y": 10
         },
         {
          "terrain": "ocean",
          "value": 0,
          "x": 38,
          "y": 10
         },
         {
          "terrain": "land",
          "value": 1,
          "x": 39,
          "y": 10
         },
         {
          "terrain": "ocean",
          "value": 0,
          "x": 0,
          "y": 11
         },
         {
          "terrain": "ocean",
          "value": -1,
          "x": 1,
          "y": 11
         },
         {
          "terrain": "land",
          "value": 1,
          "x": 2,
          "y": 11
         },
         {
          "terrain": "ocean",
          "value": -1,
          "x": 3,
          "y": 11
         },
         {
          "terrain": "ocean",
          "value": -1,
          "x": 4,
          "y": 11
         },
         {
          "terrain": "ocean",
          "value": 0,
          "x": 5,
          "y": 11
         },
         {
          "terrain": "ocean",
          "value": -1,
          "x": 6,
          "y": 11
         },
         {
          "terrain": "ocean",
          "value": 0,
          "x": 7,
          "y": 11
         },
         {
          "terrain": "ocean",
          "value": 0,
          "x": 8,
          "y": 11
         },
         {
          "terrain": "land",
          "value": 1,
          "x": 9,
          "y": 11
         },
         {
          "terrain": "land",
          "value": 1,
          "x": 10,
          "y": 11
         },
         {
          "terrain": "land",
          "value": 1,
          "x": 11,
          "y": 11
         },
         {
          "terrain": "ocean",
          "value": 0,
          "x": 12,
          "y": 11
         },
         {
          "terrain": "ocean",
          "value": -1,
          "x": 13,
          "y": 11
         },
         {
          "terrain": "land",
          "value": 1,
          "x": 14,
          "y": 11
         },
         {
          "terrain": "ocean",
          "value": -1,
          "x": 15,
          "y": 11
         },
         {
          "terrain": "ocean",
          "value": -1,
          "x": 16,
          "y": 11
         },
         {
          "terrain": "ocean",
          "value": -1,
          "x": 17,
          "y": 11
         },
         {
          "terrain": "land",
          "value": 1,
          "x": 18,
          "y": 11
         },
         {
          "terrain": "ocean",
          "value": 0,
          "x": 19,
          "y": 11
         },
         {
          "terrain": "ocean",
          "value": 0,
          "x": 20,
          "y": 11
         },
         {
          "terrain": "ocean",
          "value": -1,
          "x": 21,
          "y": 11
         },
         {
          "terrain": "land",
          "value": 1,
          "x": 22,
          "y": 11
         },
         {
          "terrain": "ocean",
          "value": -1,
          "x": 23,
          "y": 11
         },
         {
          "terrain": "ocean",
          "value": 0,
          "x": 24,
          "y": 11
         },
         {
          "terrain": "land",
          "value": 2,
          "x": 25,
          "y": 11
         },
         {
          "terrain": "ocean",
          "value": 0,
          "x": 26,
          "y": 11
         },
         {
          "terrain": "land",
          "value": 1,
          "x": 27,
          "y": 11
         },
         {
          "terrain": "ocean",
          "value": -2,
          "x": 28,
          "y": 11
         },
         {
          "terrain": "ocean",
          "value": 0,
          "x": 29,
          "y": 11
         },
         {
          "terrain": "ocean",
          "value": 0,
          "x": 30,
          "y": 11
         },
         {
          "terrain": "ocean",
          "value": 0,
          "x": 31,
          "y": 11
         },
         {
          "terrain": "ocean",
          "value": 0,
          "x": 32,
          "y": 11
         },
         {
          "terrain": "ocean",
          "value": 0,
          "x": 33,
          "y": 11
         },
         {
          "terrain": "ocean",
          "value": 0,
          "x": 34,
          "y": 11
         },
         {
          "terrain": "land",
          "value": 1,
          "x": 35,
          "y": 11
         },
         {
          "terrain": "ocean",
          "value": -1,
          "x": 36,
          "y": 11
         },
         {
          "terrain": "ocean",
          "value": -1,
          "x": 37,
          "y": 11
         },
         {
          "terrain": "ocean",
          "value": -1,
          "x": 38,
          "y": 11
         },
         {
          "terrain": "ocean",
          "value": -1,
          "x": 39,
          "y": 11
         },
         {
          "terrain": "ocean",
          "value": 0,
          "x": 0,
          "y": 12
         },
         {
          "terrain": "ocean",
          "value": 0,
          "x": 1,
          "y": 12
         },
         {
          "terrain": "ocean",
          "value": 0,
          "x": 2,
          "y": 12
         },
         {
          "terrain": "ocean",
          "value": -2,
          "x": 3,
          "y": 12
         },
         {
          "terrain": "ocean",
          "value": 0,
          "x": 4,
          "y": 12
         },
         {
          "terrain": "land",
          "value": 1,
          "x": 5,
          "y": 12
         },
         {
          "terrain": "ocean",
          "value": -1,
          "x": 6,
          "y": 12
         },
         {
          "terrain": "land",
          "value": 1,
          "x": 7,
          "y": 12
         },
         {
          "terrain": "ocean",
          "value": 0,
          "x": 8,
          "y": 12
         },
         {
          "terrain": "ocean",
          "value": -1,
          "x": 9,
          "y": 12
         },
         {
          "terrain": "ocean",
          "value": 0,
          "x": 10,
          "y": 12
         },
         {
          "terrain": "ocean",
          "value": -1,
          "x": 11,
          "y": 12
         },
         {
          "terrain": "land",
          "value": 1,
          "x": 12,
          "y": 12
         },
         {
          "terrain": "ocean",
          "value": 0,
          "x": 13,
          "y": 12
         },
         {
          "terrain": "ocean",
          "value": 0,
          "x": 14,
          "y": 12
         },
         {
          "terrain": "ocean",
          "value": -1,
          "x": 15,
          "y": 12
         },
         {
          "terrain": "land",
          "value": 1,
          "x": 16,
          "y": 12
         },
         {
          "terrain": "land",
          "value": 1,
          "x": 17,
          "y": 12
         },
         {
          "terrain": "ocean",
          "value": 0,
          "x": 18,
          "y": 12
         },
         {
          "terrain": "land",
          "value": 2,
          "x": 19,
          "y": 12
         },
         {
          "terrain": "ocean",
          "value": 0,
          "x": 20,
          "y": 12
         },
         {
          "terrain": "ocean",
          "value": 0,
          "x": 21,
          "y": 12
         },
         {
          "terrain": "ocean",
          "value": 0,
          "x": 22,
          "y": 12
         },
         {
          "terrain": "ocean",
          "value": -1,
          "x": 23,
          "y": 12
         },
         {
          "terrain": "ocean",
          "value": 0,
          "x": 24,
          "y": 12
         },
         {
          "terrain": "land",
          "value": 1,
          "x": 25,
          "y": 12
         },
         {
          "terrain": "ocean",
          "value": -1,
          "x": 26,
          "y": 12
         },
         {
          "terrain": "land",
          "value": 1,
          "x": 27,
          "y": 12
         },
         {
          "terrain": "ocean",
          "value": -1,
          "x": 28,
          "y": 12
         },
         {
          "terrain": "ocean",
          "value": -1,
          "x": 29,
          "y": 12
         },
         {
          "terrain": "land",
          "value": 1,
          "x": 30,
          "y": 12
         },
         {
          "terrain": "ocean",
          "value": -1,
          "x": 31,
          "y": 12
         },
         {
          "terrain": "land",
          "value": 1,
          "x": 32,
          "y": 12
         },
         {
          "terrain": "ocean",
          "value": 0,
          "x": 33,
          "y": 12
         },
         {
          "terrain": "land",
          "value": 1,
          "x": 34,
          "y": 12
         },
         {
          "terrain": "land",
          "value": 2,
          "x": 35,
          "y": 12
         },
         {
          "terrain": "land",
          "value": 1,
          "x": 36,
          "y": 12
         },
         {
          "terrain": "ocean",
          "value": 0,
          "x": 37,
          "y": 12
         },
         {
          "terrain": "ocean",
          "value": -1,
          "x": 38,
          "y": 12
         },
         {
          "terrain": "land",
          "value": 1,
          "x": 39,
          "y": 12
         },
         {
          "terrain": "ocean",
          "value": -1,
          "x": 0,
          "y": 13
         },
         {
          "terrain": "ocean",
          "value": -2,
          "x": 1,
          "y": 13
         },
         {
          "terrain": "land",
          "value": 2,
          "x": 2,
          "y": 13
         },
         {
          "terrain": "land",
          "value": 1,
          "x": 3,
          "y": 13
         },
         {
          "terrain": "ocean",
          "value": -1,
          "x": 4,
          "y": 13
         },
         {
          "terrain": "land",
          "value": 1,
          "x": 5,
          "y": 13
         },
         {
          "terrain": "ocean",
          "value": -2,
          "x": 6,
          "y": 13
         },
         {
          "terrain": "ocean",
          "value": 0,
          "x": 7,
          "y": 13
         },
         {
          "terrain": "land",
          "value": 2,
          "x": 8,
          "y": 13
         },
         {
          "terrain": "ocean",
          "value": -2,
          "x": 9,
          "y": 13
         },
         {
          "terrain": "land",
          "value": 1,
          "x": 10,
          "y": 13
         },
         {
          "terrain": "land",
          "value": 2,
          "x": 11,
          "y": 13
         },
         {
          "terrain": "ocean",
          "value": 0,
          "x": 12,
          "y": 13
         },
         {
          "terrain": "ocean",
          "value": -1,
          "x": 13,
          "y": 13
         },
         {
          "terrain": "ocean",
          "value": -1,
          "x": 14,
          "y": 13
         },
         {
          "terrain": "ocean",
          "value": -1,
          "x": 15,
          "y": 13
         },
         {
          "terrain": "ocean",
          "value": 0,
          "x": 16,
          "y": 13
         },
         {
          "terrain": "ocean",
          "value": -1,
          "x": 17,
          "y": 13
         },
         {
          "terrain": "land",
          "value": 1,
          "x": 18,
          "y": 13
         },
         {
          "terrain": "ocean",
          "value": -1,
          "x": 19,
          "y": 13
         },
         {
          "terrain": "ocean",
          "value": -1,
          "x": 20,
          "y": 13
         },
         {
          "terrain": "ocean",
          "value": 0,
          "x": 21,
          "y": 13
         },
         {
          "terrain": "ocean",
          "value": 0,
          "x": 22,
          "y": 13
         },
         {
          "terrain": "ocean",
          "value": 0,
          "x": 23,
          "y": 13
         },
         {
          "terrain": "ocean",
          "value": 0,
          "x": 24,
          "y": 13
         },
         {
          "terrain": "ocean",
          "value": -2,
          "x": 25,
          "y": 13
         },
         {
          "terrain": "land",
          "value": 1,
          "x": 26,
          "y": 13
         },
         {
          "terrain": "land",
          "value": 1,
          "x": 27,
          "y": 13
         },
         {
          "terrain": "ocean",
          "value": 0,
          "x": 28,
          "y": 13
         },
         {
          "terrain": "ocean",
          "value": -3,
          "x": 29,
          "y": 13
         },
         {
          "terrain": "ocean",
          "value": 0,
          "x": 30,
          "y": 13
         },
         {
          "terrain": "ocean",
          "value": -2,
          "x": 31,
          "y": 13
         },
         {
          "terrain": "ocean",
          "value": 0,
          "x": 32,
          "y": 13
         },
         {
          "terrain": "land",
          "value": 1,
          "x": 33,
          "y": 13
         },
         {
          "terrain": "ocean",
          "value": 0,
          "x": 34,
          "y": 13
         },
         {
          "terrain": "land",
          "value": 1,
          "x": 35,
          "y": 13
         },
         {
          "terrain": "ocean",
          "value": 0,
          "x": 36,
          "y": 13
         },
         {
          "terrain": "ocean",
          "value": -1,
          "x": 37,
          "y": 13
         },
         {
          "terrain": "land",
          "value": 2,
          "x": 38,
          "y": 13
         },
         {
          "terrain": "ocean",
          "value": -1,
          "x": 39,
          "y": 13
         },
         {
          "terrain": "ocean",
          "value": -1,
          "x": 0,
          "y": 14
         },
         {
          "terrain": "ocean",
          "value": 0,
          "x": 1,
          "y": 14
         },
         {
          "terrain": "ocean",
          "value": 0,
          "x": 2,
          "y": 14
         },
         {
          "terrain": "land",
          "value": 2,
          "x": 3,
          "y": 14
         },
         {
          "terrain": "ocean",
          "value": 0,
          "x": 4,
          "y": 14
         },
         {
          "terrain": "ocean",
          "value": 0,
          "x": 5,
          "y": 14
         },
         {
          "terrain": "land",
          "value": 1,
          "x": 6,
          "y": 14
         },
         {
          "terrain": "ocean",
          "value": 0,
          "x": 7,
          "y": 14
         },
         {
          "terrain": "land",
          "value": 1,
          "x": 8,
          "y": 14
         },
         {
          "terrain": "ocean",
          "value": 0,
          "x": 9,
          "y": 14
         },
         {
          "terrain": "ocean",
          "value": -1,
          "x": 10,
          "y": 14
         },
         {
          "terrain": "ocean",
          "value": -1,
          "x": 11,
          "y": 14
         },
         {
          "terrain": "land",
          "value": 2,
          "x": 12,
          "y": 14
         },
         {
          "terrain": "ocean",
          "value": -1,
          "x": 13,
          "y": 14
         },
         {
          "terrain": "ocean",
          "value": 0,
          "x": 14,
          "y": 14
         },
         {
          "terrain": "ocean",
          "value": -1,
          "x": 15,
          "y": 14
         },
         {
          "terrain": "ocean",
          "value": -1,
          "x": 16,
          "y": 14
         },
         {
          "terrain": "land",
          "value": 1,
          "x": 17,
          "y": 14
         },
         {
          "terrain": "ocean",
          "value": 0,
          "x": 18,
          "y": 14
         },
         {
          "terrain": "ocean",
          "value": 0,
          "x": 19,
          "y": 14
         },
         {
          "terrain": "ocean",
          "value": -1,
          "x": 20,
          "y": 14
         },
         {
          "terrain": "land",
          "value": 1,
          "x": 21,
          "y": 14
         },
         {
          "terrain": "ocean",
          "value": 0,
          "x": 22,
          "y": 14
         },
         {
          "terrain": "ocean",
          "value": 0,
          "x": 23,
          "y": 14
         },
         {
          "terrain": "land",
          "value": 1,
          "x": 24,
          "y": 14
         },
         {
          "terrain": "ocean",
          "value": -1,
          "x": 25,
          "y": 14
         },
         {
          "terrain": "ocean",
          "value": -2,
          "x": 26,
          "y": 14
         },
         {
          "terrain": "land",
          "value": 1,
          "x": 27,
          "y": 14
         },
         {
          "terrain": "ocean",
          "value": -1,
          "x": 28,
          "y": 14
         },
         {
          "terrain": "ocean",
          "value": 0,
          "x": 29,
          "y": 14
         },
         {
          "terrain": "ocean",
          "value": 0,
          "x": 30,
          "y": 14
         },
         {
          "terrain": "ocean",
          "value": 0,
          "x": 31,
          "y": 14
         },
         {
          "terrain": "land",
          "value": 2,
          "x": 32,
          "y": 14
         },
         {
          "terrain": "land",
          "value": 1,
          "x": 33,
          "y": 14
         },
         {
          "terrain": "land",
          "value": 2,
          "x": 34,
          "y": 14
         },
         {
          "terrain": "ocean",
          "value": 0,
          "x": 35,
          "y": 14
         },
         {
          "terrain": "ocean",
          "value": 0,
          "x": 36,
          "y": 14
         },
         {
          "terrain": "ocean",
          "value": 0,
          "x": 37,
          "y": 14
         },
         {
          "terrain": "ocean",
          "value": 0,
          "x": 38,
          "y": 14
         },
         {
          "terrain": "ocean",
          "value": -1,
          "x": 39,
          "y": 14
         },
         {
          "terrain": "land",
          "value": 1,
          "x": 0,
          "y": 15
         },
         {
          "terrain": "ocean",
          "value": 0,
          "x": 1,
          "y": 15
         },
         {
          "terrain": "land",
          "value": 1,
          "x": 2,
          "y": 15
         },
         {
          "terrain": "ocean",
          "value": 0,
          "x": 3,
          "y": 15
         },
         {
          "terrain": "land",
          "value": 3,
          "x": 4,
          "y": 15
         },
         {
          "terrain": "land",
          "value": 2,
          "x": 5,
          "y": 15
         },
         {
          "terrain": "land",
          "value": 1,
          "x": 6,
          "y": 15
         },
         {
          "terrain": "ocean",
          "value": 0,
          "x": 7,
          "y": 15
         },
         {
          "terrain": "ocean",
          "value": -1,
          "x": 8,
          "y": 15
         },
         {
          "terrain": "land",
          "value": 1,
          "x": 9,
          "y": 15
         },
         {
          "terrain": "ocean",
          "value": 0,
          "x": 10,
          "y": 15
         },
         {
          "terrain": "land",
          "value": 2,
          "x": 11,
          "y": 15
         },
         {
          "terrain": "land",
          "value": 1,
          "x": 12,
          "y": 15
         },
         {
          "terrain": "ocean",
          "value": -1,
          "x": 13,
          "y": 15
         },
         {
          "terrain": "land",
          "value": 1,
          "x": 14,
          "y": 15
         },
         {
          "terrain": "land",
          "value": 1,
          "x": 15,
          "y": 15
         },
         {
          "terrain": "land",
          "value": 1,
          "x": 16,
          "y": 15
         },
         {
          "terrain": "ocean",
          "value": 0,
          "x": 17,
          "y": 15
         },
         {
          "terrain": "ocean",
          "value": 0,
          "x": 18,
          "y": 15
         },
         {
          "terrain": "land",
          "value": 1,
          "x": 19,
          "y": 15
         },
         {
          "terrain": "ocean",
          "value": 0,
          "x": 20,
          "y": 15
         },
         {
          "terrain": "ocean",
          "value": 0,
          "x": 21,
          "y": 15
         },
         {
          "terrain": "ocean",
          "value": -1,
          "x": 22,
          "y": 15
         },
         {
          "terrain": "ocean",
          "value": -1,
          "x": 23,
          "y": 15
         },
         {
          "terrain": "land",
          "value": 1,
          "x": 24,
          "y": 15
         },
         {
          "terrain": "ocean",
          "value": 0,
          "x": 25,
          "y": 15
         },
         {
          "terrain": "ocean",
          "value": 0,
          "x": 26,
          "y": 15
         },
         {
          "terrain": "ocean",
          "value": -1,
          "x": 27,
          "y": 15
         },
         {
          "terrain": "land",
          "value": 1,
          "x": 28,
          "y": 15
         },
         {
          "terrain": "land",
          "value": 2,
          "x": 29,
          "y": 15
         },
         {
          "terrain": "land",
          "value": 1,
          "x": 30,
          "y": 15
         },
         {
          "terrain": "ocean",
          "value": -1,
          "x": 31,
          "y": 15
         },
         {
          "terrain": "ocean",
          "value": -1,
          "x": 32,
          "y": 15
         },
         {
          "terrain": "ocean",
          "value": -1,
          "x": 33,
          "y": 15
         },
         {
          "terrain": "land",
          "value": 2,
          "x": 34,
          "y": 15
         },
         {
          "terrain": "ocean",
          "value": 0,
          "x": 35,
          "y": 15
         },
         {
          "terrain": "ocean",
          "value": -2,
          "x": 36,
          "y": 15
         },
         {
          "terrain": "ocean",
          "value": 0,
          "x": 37,
          "y": 15
         },
         {
          "terrain": "ocean",
          "value": -1,
          "x": 38,
          "y": 15
         },
         {
          "terrain": "ocean",
          "value": 0,
          "x": 39,
          "y": 15
         },
         {
          "terrain": "land",
          "value": 4,
          "x": 0,
          "y": 16
         },
         {
          "terrain": "land",
          "value": 1,
          "x": 1,
          "y": 16
         },
         {
          "terrain": "land",
          "value": 2,
          "x": 2,
          "y": 16
         },
         {
          "terrain": "land",
          "value": 2,
          "x": 3,
          "y": 16
         },
         {
          "terrain": "land",
          "value": 2,
          "x": 4,
          "y": 16
         },
         {
          "terrain": "land",
          "value": 1,
          "x": 5,
          "y": 16
         },
         {
          "terrain": "land",
          "value": 2,
          "x": 6,
          "y": 16
         },
         {
          "terrain": "land",
          "value": 4,
          "x": 7,
          "y": 16
         },
         {
          "terrain": "land",
          "value": 2,
          "x": 8,
          "y": 16
         },
         {
          "terrain": "land",
          "value": 1,
          "x": 9,
          "y": 16
         },
         {
          "terrain": "land",
          "value": 1,
          "x": 10,
          "y": 16
         },
         {
          "terrain": "land",
          "value": 1,
          "x": 11,
          "y": 16
         },
         {
          "terrain": "land",
          "value": 3,
          "x": 12,
          "y": 16
         },
         {
          "terrain": "land",
          "value": 3,
          "x": 13,
          "y": 16
         },
         {
          "terrain": "land",
          "value": 2,
          "x": 14,
          "y": 16
         },
         {
          "terrain": "land",
          "value": 1,
          "x": 15,
          "y": 16
         },
         {
          "terrain": "ocean",
          "value": 0,
          "x": 16,
          "y": 16
         },
         {
          "terrain": "ocean",
          "value": -1,
          "x": 17,
          "y": 16
         },
         {
          "terrain": "ocean",
          "value": 0,
          "x": 18,
          "y": 16
         },
         {
          "terrain": "land",
          "value": 1,
          "x": 19,
          "y": 16
         },
         {
          "terrain": "ocean",
          "value": -1,
          "x": 20,
          "y": 16
         },
         {
          "terrain": "ocean",
          "value": -1,
          "x": 21,
          "y": 16
         },
         {
          "terrain": "ocean",
          "value": 0,
          "x": 22,
          "y": 16
         },
         {
          "terrain": "land",
          "value": 1,
          "x": 23,
          "y": 16
         },
         {
          "terrain": "ocean",
          "value": 0,
          "x": 24,
          "y": 16
         },
         {
          "terrain": "ocean",
          "value": 0,
          "x": 25,
          "y": 16
         },
         {
          "terrain": "land",
          "value": 1,
          "x": 26,
          "y": 16
         },
         {
          "terrain": "ocean",
          "value": 0,
          "x": 27,
          "y": 16
         },
         {
          "terrain": "ocean",
          "value": 0,
          "x": 28,
          "y": 16
         },
         {
          "terrain": "land",
          "value": 1,
          "x": 29,
          "y": 16
         },
         {
          "terrain": "ocean",
          "value": 0,
          "x": 30,
          "y": 16
         },
         {
          "terrain": "ocean",
          "value": -2,
          "x": 31,
          "y": 16
         },
         {
          "terrain": "land",
          "value": 1,
          "x": 32,
          "y": 16
         },
         {
          "terrain": "ocean",
          "value": -1,
          "x": 33,
          "y": 16
         },
         {
          "terrain": "ocean",
          "value": -2,
          "x": 34,
          "y": 16
         },
         {
          "terrain": "ocean",
          "value": 0,
          "x": 35,
          "y": 16
         },
         {
          "terrain": "land",
          "value": 2,
          "x": 36,
          "y": 16
         },
         {
          "terrain": "ocean",
          "value": -1,
          "x": 37,
          "y": 16
         },
         {
          "terrain": "land",
          "value": 1,
          "x": 38,
          "y": 16
         },
         {
          "terrain": "ocean",
          "value": 0,
          "x": 39,
          "y": 16
         },
         {
          "terrain": "land",
          "value": 3,
          "x": 0,
          "y": 17
         },
         {
          "terrain": "land",
          "value": 3,
          "x": 1,
          "y": 17
         },
         {
          "terrain": "land",
          "value": 5,
          "x": 2,
          "y": 17
         },
         {
          "terrain": "land",
          "value": 5,
          "x": 3,
          "y": 17
         },
         {
          "terrain": "land",
          "value": 5,
          "x": 4,
          "y": 17
         },
         {
          "terrain": "land",
          "value": 5,
          "x": 5,
          "y": 17
         },
         {
          "terrain": "land",
          "value": 5,
          "x": 6,
          "y": 17
         },
         {
          "terrain": "land",
          "value": 4,
          "x": 7,
          "y": 17
         },
         {
          "terrain": "land",
          "value": 4,
          "x": 8,
          "y": 17
         },
         {
          "terrain": "land",
          "value": 4,
          "x": 9,
          "y": 17
         },
         {
          "terrain": "land",
          "value": 3,
          "x": 10,
          "y": 17
         },
         {
          "terrain": "land",
          "value": 4,
          "x": 11,
          "y": 17
         },
         {
          "terrain": "land",
          "value": 5,
          "x": 12,
          "y": 17
         },
         {
          "terrain": "land",
          "value": 3,
          "x": 13,
          "y": 17
         },
         {
          "terrain": "land",
          "value": 2,
          "x": 14,
          "y": 17
         },
         {
          "terrain": "land",
          "value": 1,
          "x": 15,
          "y": 17
         },
         {
          "terrain": "land",
          "value": 3,
          "x": 16,
          "y": 17
         },
         {
          "terrain": "land",
          "value": 1,
          "x": 17,
          "y": 17
         },
         {
          "terrain": "ocean",
          "value": -1,
          "x": 18,
          "y": 17
         },
         {
          "terrain": "ocean",
          "value": 0,
          "x": 19,
          "y": 17
         },
         {
          "terrain": "land",
          "value": 1,
          "x": 20,
          "y": 17
         },
         {
          "terrain": "land",
          "value": 1,
          "x": 21,
          "y": 17
         },
         {
          "terrain": "ocean",
          "value": 0,
          "x": 22,
          "y": 17
         },
         {
          "terrain": "ocean",
          "value": -1,
          "x": 23,
          "y": 17
         },
         {
          "terrain": "ocean",
          "value": -1,
          "x": 24,
          "y": 17
         },
         {
          "terrain": "land",
          "value": 2,
          "x": 25,
          "y": 17
         },
         {
          "terrain": "land",
          "value": 1,
          "x": 26,
          "y": 17
         },
         {
          "terrain": "land",
          "value": 2,
          "x": 27,
          "y": 17
         },
         {
          "terrain": "land",
          "value": 2,
          "x": 28,
          "y": 17
         },
         {
          "terrain": "land",
          "value": 2,
          "x": 29,
          "y": 17
         },
         {
          "terrain": "land",
          "value": 4,
          "x": 30,
          "y": 17
         },
         {
          "terrain": "land",
          "value": 2,
          "x": 31,
          "y": 17
         },
         {
          "terrain": "land",
          "value": 3,
          "x": 32,
          "y": 17
         },
         {
          "terrain": "land",
          "value": 2,
          "x": 33,
          "y": 17
         },
         {
          "terrain": "land",
          "value": 1,
          "x": 34,
          "y": 17
         },
         {
          "terrain": "ocean",
          "value": -1,
          "x": 35,
          "y": 17
         },
         {
          "terrain": "land",
          "value": 3,
          "x": 36,
          "y": 17
         },
         {
          "terrain": "land",
          "value": 1,
          "x": 37,
          "y": 17
         },
         {
          "terrain": "land",
          "value": 1,
          "x": 38,
          "y": 17
         },
         {
          "terrain": "land",
          "value": 1,
          "x": 39,
          "y": 17
         },
         {
          "terrain": "land",
          "value": 3,
          "x": 0,
          "y": 18
         },
         {
          "terrain": "land",
          "value": 6,
          "x": 1,
          "y": 18
         },
         {
          "terrain": "land",
          "value": 7,
          "x": 2,
          "y": 18
         },
         {
          "terrain": "land",
          "value": 9,
          "x": 3,
          "y": 18
         },
         {
          "terrain": "land",
          "value": 9,
          "x": 4,
          "y": 18
         },
         {
          "terrain": "land",
          "value": 8,
          "x": 5,
          "y": 18
         },
         {
          "terrain": "land",
          "value": 7,
          "x": 6,
          "y": 18
         },
         {
          "terrain": "land",
          "value": 9,
          "x": 7,
          "y": 18
         },
         {
          "terrain": "land",
          "value": 6,
          "x": 8,
          "y": 18
         },
         {
          "terrain": "land",
          "value": 6,
          "x": 9,
          "y": 18
         },
         {
          "terrain": "land",
          "value": 7,
          "x": 10,
          "y": 18
         },
         {
          "terrain": "land",
          "value": 6,
          "x": 11,
          "y": 18
         },
         {
          "terrain": "land",
          "value": 6,
          "x": 12,
          "y": 18
         },
         {
          "terrain": "land",
          "value": 5,
          "x": 13,
          "y": 18
         },
         {
          "terrain": "land",
          "value": 3,
          "x": 14,
          "y": 18
         },
         {
          "terrain": "land",
          "value": 4,
          "x": 15,
          "y": 18
         },
         {
          "terrain": "ocean",
          "value": 0,
          "x": 16,
          "y": 18
         },
         {
          "terrain": "land",
          "value": 1,
          "x": 17,
          "y": 18
         },
         {
          "terrain": "ocean",
          "value": 0,
          "x": 18,
          "y": 18
         },
         {
          "terrain": "ocean",
          "value": 0,
          "x": 19,
          "y": 18
         },
         {
          "terrain": "land",
          "value": 1,
          "x": 20,
          "y": 18
         },
         {
          "terrain": "ocean",
          "value": 0,
          "x": 21,
          "y": 18
         },
         {
          "terrain": "ocean",
          "value": -1,
          "x": 22,
          "y": 18
         },
         {
          "terrain": "ocean",
          "value": -1,
          "x": 23,
          "y": 18
         },
         {
          "terrain": "land",
          "value": 2,
          "x": 24,
          "y": 18
         },
         {
          "terrain": "land",
          "value": 3,
          "x": 25,
          "y": 18
         },
         {
          "terrain": "land",
          "value": 3,
          "x": 26,
          "y": 18
         },
         {
          "terrain": "land",
          "value": 5,
          "x": 27,
          "y": 18
         },
         {
          "terrain": "land",
          "value": 4,
          "x": 28,
          "y": 18
         },
         {
          "terrain": "land",
          "value": 6,
          "x": 29,
          "y": 18
         },
         {
          "terrain": "land",
          "value": 5,
          "x": 30,
          "y": 18
         },
         {
          "terrain": "land",
          "value": 4,
          "x": 31,
          "y": 18
         },
         {
          "terrain": "land",
          "value": 4,
          "x": 32,
          "y": 18
         },
         {
          "terrain": "land",
          "value": 3,
          "x": 33,
          "y": 18
         },
         {
          "terrain": "land",
          "value": 3,
          "x": 34,
          "y": 18
         },
         {
          "terrain": "land",
          "value": 2,
          "x": 35,
          "y": 18
         },
         {
          "terrain": "ocean",
          "value": 0,
          "x": 36,
          "y": 18
         },
         {
          "terrain": "land",
          "value": 1,
          "x": 37,
          "y": 18
         },
         {
          "terrain": "ocean",
          "value": -1,
          "x": 38,
          "y": 18
         },
         {
          "terrain": "ocean",
          "value": 0,
          "x": 39,
          "y": 18
         },
         {
          "terrain": "land",
          "value": 5,
          "x": 0,
          "y": 19
         },
         {
          "terrain": "land",
          "value": 7,
          "x": 1,
          "y": 19
         },
         {
          "terrain": "land",
          "value": 8,
          "x": 2,
          "y": 19
         },
         {
          "terrain": "land",
          "value": 10,
          "x": 3,
          "y": 19
         },
         {
          "terrain": "land",
          "value": 11,
          "x": 4,
          "y": 19
         },
         {
          "terrain": "land",
          "value": 11,
          "x": 5,
          "y": 19
         },
         {
          "terrain": "land",
          "value": 10,
          "x": 6,
          "y": 19
         },
         {
          "terrain": "land",
          "value": 10,
          "x": 7,
          "y": 19
         },
         {
          "terrain": "land",
          "value": 11,
          "x": 8,
          "y": 19
         },
         {
          "terrain": "land",
          "value": 9,
          "x": 9,
          "y": 19
         },
         {
          "terrain": "land",
          "value": 8,
          "x": 10,
          "y": 19
         },
         {
          "terrain": "land",
          "value": 7,
          "x": 11,
          "y": 19
         },
         {
          "terrain": "land",
          "value": 5,
          "x": 12,
          "y": 19
         },
         {
          "terrain": "land",
          "value": 1,
          "x": 13,
          "y": 19
         },
         {
          "terrain": "land",
          "value": 3,
          "x": 14,
          "y": 19
         },
         {
          "terrain": "land",
          "value": 2,
          "x": 15,
          "y": 19
         },
         {
          "terrain": "ocean",
          "value": 0,
          "x": 16,
          "y": 19
         },
         {
          "terrain": "ocean",
          "value": 0,
          "x": 17,
          "y": 19
         },
         {
          "terrain": "ocean",
          "value": 0,
          "x": 18,
          "y": 19
         },
         {
          "terrain": "land",
          "value": 1,
          "x": 19,
          "y": 19
         },
         {
          "terrain": "ocean",
          "value": -2,
          "x": 20,
          "y": 19
         },
         {
          "terrain": "land",
          "value": 1,
          "x": 21,
          "y": 19
         },
         {
          "terrain": "ocean",
          "value": 0,
          "x": 22,
          "y": 19
         },
         {
          "terrain": "ocean",
          "value": -1,
          "x": 23,
          "y": 19
         },
         {
          "terrain": "ocean",
          "value": -1,
          "x": 24,
          "y": 19
         },
         {
          "terrain": "land",
          "value": 2,
          "x": 25,
          "y": 19
         },
         {
          "terrain": "land",
          "value": 7,
          "x": 26,
          "y": 19
         },
         {
          "terrain": "land",
          "value": 9,
          "x": 27,
          "y": 19
         },
         {
          "terrain": "land",
          "value": 9,
          "x": 28,
          "y": 19
         },
         {
          "terrain": "land",
          "value": 9,
          "x": 29,
          "y": 19
         },
         {
          "terrain": "land",
          "value": 6,
          "x": 30,
          "y": 19
         },
         {
          "terrain": "land",
          "value": 9,
          "x": 31,
          "y": 19
         },
         {
          "terrain": "land",
          "value": 8,
          "x": 32,
          "y": 19
         },
         {
          "terrain": "land",
          "value": 6,
          "x": 33,
          "y": 19
         },
         {
          "terrain": "land",
          "value": 4,
          "x": 34,
          "y": 19
         },
         {
          "terrain": "land",
          "value": 2,
          "x": 35,
          "y": 19
         },
         {
          "terrain": "land",
          "value": 1,
          "x": 36,
          "y": 19
         },
         {
          "terrain": "land",
          "value": 1,
          "x": 37,
          "y": 19
         },
         {
          "terrain": "ocean",
          "value": 0,
          "x": 38,
          "y": 19
         },
         {
          "terrain": "land",
          "value": 1,
          "x": 39,
          "y": 19
         },
         {
          "terrain": "land",
          "value": 6,
          "x": 0,
          "y": 20
         },
         {
          "terrain": "land",
          "value": 7,
          "x": 1,
          "y": 20
         },
         {
          "terrain": "land",
          "value": 10,
          "x": 2,
          "y": 20
         },
         {
          "terrain": "land",
          "value": 12,
          "x": 3,
          "y": 20
         },
         {
          "terrain": "land",
          "value": 11,
          "x": 4,
          "y": 20
         },
         {
          "terrain": "land",
          "value": 12,
          "x": 5,
          "y": 20
         },
         {
          "terrain": "land",
          "value": 14,
          "x": 6,
          "y": 20
         },
         {
          "terrain": "land",
          "value": 12,
          "x": 7,
          "y": 20
         },
         {
          "terrain": "land",
          "value": 13,
          "x": 8,
          "y": 20
         },
         {
          "terrain": "land",
          "value": 12,
          "x": 9,
          "y": 20
         },
         {
          "terrain": "land",
          "value": 9,
          "x": 10,
          "y": 20
         },
         {
          "terrain": "land",
          "value": 10,
          "x": 11,
          "y": 20
         },
         {
          "terrain": "land",
          "value": 6,
          "x": 12,
          "y": 20
         },
         {
          "terrain": "land",
          "value": 5,
          "x": 13,
          "y": 20
         },
         {
          "terrain": "land",
          "value": 3,
          "x": 14,
          "y": 20
         },
         {
          "terrain": "land",
          "value": 3,
          "x": 15,
          "y": 20
         },
         {
          "terrain": "ocean",
          "value": 0,
          "x": 16,
          "y": 20
         },
         {
          "terrain": "land",
          "value": 2,
          "x": 17,
          "y": 20
         },
         {
          "terrain": "ocean",
          "value": -1,
          "x": 18,
          "y": 20
         },
         {
          "terrain": "ocean",
          "value": -1,
          "x": 19,
          "y": 20
         },
         {
          "terrain": "ocean",
          "value": -1,
          "x": 20,
          "y": 20
         },
         {
          "terrain": "ocean",
          "value": -1,
          "x": 21,
          "y": 20
         },
         {
          "terrain": "ocean",
          "value": 0,
          "x": 22,
          "y": 20
         },
         {
          "terrain": "ocean",
          "value": -2,
          "x": 23,
          "y": 20
         },
         {
          "terrain": "land",
          "value": 1,
          "x": 24,
          "y": 20
         },
         {
          "terrain": "land",
          "value": 2,
          "x": 25,
          "y": 20
         },
         {
          "terrain": "land",
          "value": 5,
          "x": 26,
          "y": 20
         },
         {
          "terrain": "land",
          "value": 8,
          "x": 27,
          "y": 20
         },
         {
          "terrain": "land",
          "value": 14,
          "x": 28,
          "y": 20
         },
         {
          "terrain": "land",
          "value": 14,
          "x": 29,
          "y": 20
         },
         {
          "terrain": "land",
          "value": 14,
          "x": 30,
          "y": 20
         },
         {
          "terrain": "land",
          "value": 11,
          "x": 31,
          "y": 20
         },
         {
          "terrain": "land",
          "value": 9,
          "x": 32,
          "y": 20
         },
         {
          "terrain": "land",
          "value": 8,
          "x": 33,
          "y": 20
         },
         {
          "terrain": "land",
          "value": 3,
          "x": 34,
          "y": 20
         },
         {
          "terrain": "land",
          "value": 2,
          "x": 35,
          "y": 20
         },
         {
          "terrain": "ocean",
          "value": 0,
          "x": 36,
          "y": 20
         },
         {
          "terrain": "ocean",
          "value": -1,
          "x": 37,
          "y": 20
         },
         {
          "terrain": "ocean",
          "value": -2,
          "x": 38,
          "y": 20
         },
         {
          "terrain": "land",
          "value": 1,
          "x": 39,
          "y": 20
         },
         {
          "terrain": "land",
          "value": 9,
          "x": 0,
          "y": 21
         },
         {
          "terrain": "land",
          "value": 13,
          "x": 1,
          "y": 21
         },
         {
          "terrain": "land",
          "value": 16,
          "x": 2,
          "y": 21
         },
         {
          "terrain": "land",
          "value": 17,
          "x": 3,
          "y": 21
         },
         {
          "terrain": "land",
          "value": 19,
          "x": 4,
          "y": 21
         },
         {
          "terrain": "land",
          "value": 18,
          "x": 5,
          "y": 21
         },
         {
          "terrain": "land",
          "value": 21,
          "x": 6,
          "y": 21
         },
         {
          "terrain": "land",
          "value": 18,
          "x": 7,
          "y": 21
         },
         {
          "terrain": "land",
          "value": 19,
          "x": 8,
          "y": 21
         },
         {
          "terrain": "land",
          "value": 18,
          "x": 9,
          "y": 21
         },
         {
          "terrain": "land",
          "value": 14,
          "x": 10,
          "y": 21
         },
         {
          "terrain": "land",
          "value": 14,
          "x": 11,
          "y": 21
         },
         {
          "terrain": "land",
          "value": 8,
          "x": 12,
          "y": 21
         },
         {
          "terrain": "land",
          "value": 9,
          "x": 13,
          "y": 21
         },
         {
          "terrain": "land",
          "value": 5,
          "x": 14,
          "y": 21
         },
         {
          "terrain": "land",
          "value": 3,
          "x": 15,
          "y": 21
         },
         {
          "terrain": "ocean",
          "value": 0,
          "x": 16,
          "y": 21
         },
         {
          "terrain": "ocean",
          "value": 0,
          "x": 17,
          "y": 21
         },
         {
          "terrain": "land",
          "value": 1,
          "x": 18,
          "y": 21
         },
         {
          "terrain": "ocean",
          "value": -1,
          "x": 19,
          "y": 21
         },
         {
          "terrain": "land",
          "value": 2,
          "x": 20,
          "y": 21
         },
         {
          "terrain": "ocean",
          "value": 0,
          "x": 21,
          "y": 21
         },
         {
          "terrain": "land",
          "value": 1,
          "x": 22,
          "y": 21
         },
         {
          "terrain": "ocean",
          "value": 0,
          "x": 23,
          "y": 21
         },
         {
          "terrain": "land",
          "value": 1,
          "x": 24,
          "y": 21
         },
         {
          "terrain": "land",
          "value": 3,
          "x": 25,
          "y": 21
         },
         {
          "terrain": "land",
          "value": 6,
          "x": 26,
          "y": 21
         },
         {
          "terrain": "land",
          "value": 10,
          "x": 27,
          "y": 21
         },
         {
          "terrain": "land",
          "value": 13,
          "x": 28,
          "y": 21
         },
         {
          "terrain": "land",
          "value": 15,
          "x": 29,
          "y": 21
         },
         {
          "terrain": "land",
          "value": 17,
          "x": 30,
          "y": 21
         },
         {
          "terrain": "land",
          "value": 16,
          "x": 31,
          "y": 21
         },
         {
          "terrain": "land",
          "value": 12,
          "x": 32,
          "y": 21
         },
         {
          "terrain": "land",
          "value": 8,
          "x": 33,
          "y": 21
         },
         {
          "terrain": "land",
          "value": 4,
          "x": 34,
          "y": 21
         },
         {
          "terrain": "land",
          "value": 3,
          "x": 35,
          "y": 21
         },
         {
          "terrain": "land",
          "value": 2,
          "x": 36,
          "y": 21
         },
         {
          "terrain": "ocean",
          "value": -1,
          "x": 37,
          "y": 21
         },
         {
          "terrain": "land",
          "value": 1,
          "x": 38,
          "y": 21
         },
         {
          "terrain": "land",
          "value": 2,
          "x": 39,
          "y": 21
         },
         {
          "terrain": "land",
          "value": 15,
          "x": 0,
          "y": 22
         },
         {
          "terrain": "land",
          "value": 18,
          "x": 1,
          "y": 22
         },
         {
          "terrain": "land",
          "value": 22,
          "x": 2,
          "y": 22
         },
         {
          "terrain": "mountain",
          "value": 25,
          "x": 3,
          "y": 22
         },
         {
          "terrain": "land",
          "value": 24,
          "x": 4,
          "y": 22
         },
         {
          "terrain": "mountain",
          "value": 26,
          "x": 5,
          "y": 22
         },
         {
          "terrain": "land",
          "value": 24,
          "x": 6,
          "y": 22
         },
         {
          "terrain": "land",
          "value": 24,
          "x": 7,
          "y": 22
         },
         {
          "terrain": "land",
          "value": 24,
          "x": 8,
          "y": 22
         },
         {
          "terrain": "land",
          "value": 21,
          "x": 9,
          "y": 22
         },
         {
          "terrain": "land",
          "value": 18,
          "x": 10,
          "y": 22
         },
         {
          "terrain": "land",
          "value": 13,
          "x": 11,
          "y": 22
         },
         {
          "terrain": "land",
          "value": 12,
          "x": 12,
          "y": 22
         },
         {
          "terrain": "land",
          "value": 8,
          "x": 13,
          "y": 22
         },
         {
          "terrain": "land",
          "value": 4,
          "x": 14,
          "y": 22
         },
         {
          "terrain": "land",
          "value": 4,
          "x": 15,
          "y": 22
         },
         {
          "terrain": "land",
          "value": 2,
          "x": 16,
          "y": 22
         },
         {
          "terrain": "ocean",
          "value": 0,
          "x": 17,
          "y": 22
         },
         {
          "terrain": "ocean",
          "value": -1,
          "x": 18,
          "y": 22
         },
         {
          "terrain": "land",
          "value": 1,
          "x": 19,
          "y": 22
         },
         {
          "terrain": "ocean",
          "value": 0,
          "x": 20,
          "y": 22
         },
         {
          "terrain": "ocean",
          "value": 0,
          "x": 21,
          "y": 22
         },
         {
          "terrain": "ocean",
          "value": -1,
          "x": 22,
          "y": 22
         },
         {
          "terrain": "ocean",
          "value": 0,
          "x": 23,
          "y": 22
         },
         {
          "terrain": "land",
          "value": 2,
          "x": 24,
          "y": 22
         },
         {
          "terrain": "land",
          "value": 2,
          "x": 25,
          "y": 22
         },
         {
          "terrain": "land",
          "value": 6,
          "x": 26,
          "y": 22
         },
         {
          "terrain": "land",
          "value": 8,
          "x": 27,
          "y": 22
         },
         {
          "terrain": "land",
          "value": 14,
          "x": 28,
          "y": 22
         },
         {
          "terrain": "land",
          "value": 18,
          "x": 29,
          "y": 22
         },
         {
          "terrain": "land",
          "value": 17,
          "x": 30,
          "y": 22
         },
         {
          "terrain": "land",
          "value": 18,
          "x": 31,
          "y": 22
         },
         {
          "terrain": "land",
          "value": 15,
          "x": 32,
          "y": 22
         },
         {
          "terrain": "land",
          "value": 12,
          "x": 33,
          "y": 22
         },
         {
          "terrain": "land",
          "value": 8,
          "x": 34,
          "y": 22
         },
         {
          "terrain": "land",
          "value": 7,
          "x": 35,
          "y": 22
         },
         {
          "terrain": "land",
          "value": 3,
          "x": 36,
          "y": 22
         },
         {
          "terrain": "land",
          "value": 1,
          "x": 37,
          "y": 22
         },
         {
          "terrain": "land",
          "value": 2,
          "x": 38,
          "y": 22
         },
         {
          "terrain": "ocean",
          "value": -1,
          "x": 39,
          "y": 22
         },
         {
          "terrain": "land",
          "value": 23,
          "x": 0,
          "y": 23
         },
         {
          "terrain": "mountain",
          "value": 25,
          "x": 1,
          "y": 23
         },
         {
          "terrain": "mountain",
          "value": 30,
          "x": 2,
          "y": 23
         },
         {
          "terrain": "mountain",
          "value": 35,
          "x": 3,
          "y": 23
         },
         {
          "terrain": "mountain",
          "value": 32,
          "x": 4,
          "y": 23
         },
         {
          "terrain": "mountain",
          "value": 32,
          "x": 5,
          "y": 23
         },
         {
          "terrain": "mountain",
          "value": 31,
          "x": 6,
          "y": 23
         },
         {
          "terrain": "mountain",
          "value": 32,
          "x": 7,
          "y": 23
         },
         {
          "terrain": "mountain",
          "value": 27,
          "x": 8,
          "y": 23
         },
         {
          "terrain": "land",
          "value": 24,
          "x": 9,
          "y": 23
         },
         {
          "terrain": "land",
          "value": 21,
          "x": 10,
          "y": 23
         },
         {
          "terrain": "land",
          "value": 18,
          "x": 11,
          "y": 23
         },
         {
          "terrain": "land",
          "value": 16,
          "x": 12,
          "y": 23
         },
         {
          "terrain": "land",
          "value": 13,
          "x": 13,
          "y": 23
         },
         {
          "terrain": "land",
          "value": 9,
          "x": 14,
          "y": 23
         },
         {
          "terrain": "land",
          "value": 5,
          "x": 15,
          "y": 23
         },
         {
          "terrain": "land",
          "value": 1,
          "x": 16,
          "y": 23
         },
         {
          "terrain": "ocean",
          "value": -2,
          "x": 17,
          "y": 23
         },
         {
          "terrain": "land",
          "value": 1,
          "x": 18,
          "y": 23
         },
         {
          "terrain": "ocean",
          "value": -1,
          "x": 19,
          "y": 23
         },
         {
          "terrain": "ocean",
          "value": 0,
          "x": 20,
          "y": 23
         },
         {
          "terrain": "ocean",
          "value": 0,
          "x": 21,
          "y": 23
         },
         {
          "terrain": "ocean",
          "value": -1,
          "x": 22,
          "y": 23
         },
         {
          "terrain": "land",
          "value": 1,
          "x": 23,
          "y": 23
         },
         {
          "terrain": "land",
          "value": 1,
          "x": 24,
          "y": 23
         },
         {
          "terrain": "land",
          "value": 4,
          "x": 25,
          "y": 23
         },
         {
          "terrain": "land",
          "value": 7,
          "x": 26,
          "y": 23
         },
         {
          "terrain": "land",
          "value": 8,
          "x": 27,
          "y": 23
         },
         {
          "terrain": "land",
          "value": 12,
          "x": 28,
          "y": 23
         },
         {
          "terrain": "land",
          "value": 14,
          "x": 29,
          "y": 23
         },
         {
          "terrain": "land",
          "value": 19,
          "x": 30,
          "y": 23
         },
         {
          "terrain": "land",
          "value": 21,
          "x": 31,
          "y": 23
         },
         {
          "terrain": "land",
          "value": 20,
          "x": 32,
          "y": 23
         },
         {
          "terrain": "land",
          "value": 15,
          "x": 33,
          "y": 23
         },
         {
          "terrain": "land",
          "value": 12,
          "x": 34,
          "y": 23
         },
         {
          "terrain": "land",
          "value": 6,
          "x": 35,
          "y": 23
         },
         {
          "terrain": "land",
          "value": 2,
          "x": 36,
          "y": 23
         },
         {
          "terrain": "land",
          "value": 1,
          "x": 37,
          "y": 23
         },
         {
          "terrain": "land",
          "value": 1,
          "x": 38,
          "y": 23
         },
         {
          "terrain": "ocean",
          "value": -2,
          "x": 39,
          "y": 23
         },
         {
          "terrain": "mountain",
          "value": 30,
          "x": 0,
          "y": 24
         },
         {
          "terrain": "mountain",
          "value": 34,
          "x": 1,
          "y": 24
         },
         {
          "terrain": "mountain",
          "value": 41,
          "x": 2,
          "y": 24
         },
         {
          "terrain": "mountain",
          "value": 39,
          "x": 3,
          "y": 24
         },
         {
          "terrain": "mountain",
          "value": 40,
          "x": 4,
          "y": 24
         },
         {
          "terrain": "mountain",
          "value": 38,
          "x": 5,
          "y": 24
         },
         {
          "terrain": "mountain",
          "value": 39,
          "x": 6,
          "y": 24
         },
         {
          "terrain": "mountain",
          "value": 36,
          "x": 7,
          "y": 24
         },
         {
          "terrain": "mountain",
          "value": 31,
          "x": 8,
          "y": 24
         },
         {
          "terrain": "mountain",
          "value": 30,
          "x": 9,
          "y": 24
         },
         {
          "terrain": "land",
          "value": 22,
          "x": 10,
          "y": 24
         },
         {
          "terrain": "land",
          "value": 22,
          "x": 11,
          "y": 24
         },
         {
          "terrain": "land",
          "value": 20,
          "x": 12,
          "y": 24
         },
         {
          "terrain": "land",
          "value": 13,
          "x": 13,
          "y": 24
         },
         {
          "terrain": "land",
          "value": 10,
          "x": 14,
          "y": 24
         },
         {
          "terrain": "land",
          "value": 5,
          "x": 15,
          "y": 24
         },
         {
          "terrain": "land",
          "value": 3,
          "x": 16,
          "y": 24
         },
         {
          "terrain": "ocean",
          "value": 0,
          "x": 17,
          "y": 24
         },
         {
          "terrain": "land",
          "value": 1,
          "x": 18,
          "y": 24
         },
         {
          "terrain": "ocean",
          "value": 0,
          "x": 19,
          "y": 24
         },
         {
          "terrain": "ocean",
          "value": -1,
          "x": 20,
          "y": 24
         },
         {
          "terrain": "ocean",
          "value": 0,
          "x": 21,
          "y": 24
         },
         {
          "terrain": "land",
          "value": 1,
          "x": 22,
          "y": 24
         },
         {
          "terrain": "land",
          "value": 2,
          "x": 23,
          "y": 24
         },
         {
          "terrain": "land",
          "value": 2,
          "x": 24,
          "y": 24
         },
         {
          "terrain": "land",
          "value": 5,
          "x": 25,
          "y": 24
         },
         {
          "terrain": "land",
          "value": 8,
          "x": 26,
          "y": 24
         },
         {
          "terrain": "land",
          "value": 9,
          "x": 27,
          "y": 24
         },
         {
          "terrain": "land",
          "value": 11,
          "x": 28,
          "y": 24
         },
         {
          "terrain": "land",
          "value": 13,
          "x": 29,
          "y": 24
         },
         {
          "terrain": "land",
          "value": 17,
          "x": 30,
          "y": 24
         },
         {
          "terrain": "land",
          "value": 22,
          "x": 31,
          "y": 24
         },
         {
          "terrain": "land",
          "value": 23,
          "x": 32,
          "y": 24
         },
         {
          "terrain": "land",
          "value": 23,
          "x": 33,
          "y": 24
         },
         {
          "terrain": "land",
          "value": 19,
          "x": 34,
          "y": 24
         },
         {
          "terrain": "land",
          "value": 12,
          "x": 35,
          "y": 24
         },
         {
          "terrain": "land",
          "value": 7,
          "x": 36,
          "y": 24
         },
         {
          "terrain": "land",
          "value": 2,
          "x": 37,
          "y": 24
         },
         {
          "terrain": "ocean",
          "value": 0,
          "x": 38,
          "y": 24
         },
         {
          "terrain": "ocean",
          "value": 0,
          "x": 39,
          "y": 24
         },
         {
          "terrain": "mountain",
          "value": 35,
          "x": 0,
          "y": 25
         },
         {
          "terrain": "mountain",
          "value": 43,
          "x": 1,
          "y": 25
         },
         {
          "terrain": "mountain",
          "value": 50,
          "x": 2,
          "y": 25
         },
         {
          "terrain": "mountain",
          "value": 46,
          "x": 3,
          "y": 25
         },
         {
          "terrain": "mountain",
          "value": 46,
          "x": 4,
          "y": 25
         },
         {
          "terrain": "mountain",
          "value": 49,
          "x": 5,
          "y": 25
         },
         {
          "terrain": "mountain",
          "value": 45,
          "x": 6,
          "y": 25
         },
         {
          "terrain": "mountain",
          "value": 38,
          "x": 7,
          "y": 25
         },
         {
          "terrain": "mountain",
          "value": 34,
          "x": 8,
          "y": 25
         },
         {
          "terrain": "mountain",
          "value": 30,
          "x": 9,
          "y": 25
         },
         {
          "terrain": "mountain",
          "value": 29,
          "x": 10,
          "y": 25
         },
         {
          "terrain": "mountain",
          "value": 26,
          "x": 11,
          "y": 25
         },
         {
          "terrain": "land",
          "value": 23,
          "x": 12,
          "y": 25
         },
         {
          "terrain": "land",
          "value": 18,
          "x": 13,
          "y": 25
         },
         {
          "terrain": "land",
          "value": 11,
          "x": 14,
          "y": 25
         },
         {
          "terrain": "land",
          "value": 5,
          "x": 15,
          "y": 25
         },
         {
          "terrain": "land",
          "value": 2,
          "x": 16,
          "y": 25
         },
         {
          "terrain": "land",
          "value": 1,
          "x": 17,
          "y": 25
         },
         {
          "terrain": "land",
          "value": 1,
          "x": 18,
          "y": 25
         },
         {
          "terrain": "land",
          "value": 2,
          "x": 19,
          "y": 25
         },
         {
          "terrain": "land",
          "value": 3,
          "x": 20,
          "y": 25
         },
         {
          "terrain": "land",
          "value": 2,
          "x": 21,
          "y": 25
         },
         {
          "terrain": "land",
          "value": 1,
          "x": 22,
          "y": 25
         },
         {
          "terrain": "land",
          "value": 3,
          "x": 23,
          "y": 25
         },
         {
          "terrain": "land",
          "value": 4,
          "x": 24,
          "y": 25
         },
         {
          "terrain": "land",
          "value": 7,
          "x": 25,
          "y": 25
         },
         {
          "terrain": "land",
          "value": 10,
          "x": 26,
          "y": 25
         },
         {
          "terrain": "land",
          "value": 12,
          "x": 27,
          "y": 25
         },
         {
          "terrain": "land",
          "value": 13,
          "x": 28,
          "y": 25
         },
         {
          "terrain": "land",
          "value": 13,
          "x": 29,
          "y": 25
         },
         {
          "terrain": "land",
          "value": 16,
          "x": 30,
          "y": 25
         },
         {
          "terrain": "land",
          "value": 22,
          "x": 31,
          "y": 25
         },
         {
          "terrain": "mountain",
          "value": 26,
          "x": 32,
          "y": 25
         },
         {
          "terrain": "mountain",
          "value": 26,
          "x": 33,
          "y": 25
         },
         {
          "terrain": "land",
          "value": 20,
          "x": 34,
          "y": 25
         },
         {
          "terrain": "land",
          "value": 13,
          "x": 35,
          "y": 25
         },
         {
          "terrain": "land",
          "value": 6,
          "x": 36,
          "y": 25
         },
         {
          "terrain": "land",
          "value": 1,
          "x": 37,
          "y": 25
         },
         {
          "terrain": "land",
          "value": 1,
          "x": 38,
          "y": 25
         },
         {
          "terrain": "ocean",
          "value": 0,
          "x": 39,
          "y": 25
         },
         {
          "terrain": "mountain",
          "value": 38,
          "x": 0,
          "y": 26
         },
         {
          "terrain": "mountain",
          "value": 46,
          "x": 1,
          "y": 26
         },
         {
          "terrain": "mountain",
          "value": 53,
          "x": 2,
          "y": 26
         },
         {
          "terrain": "mountain",
          "value": 55,
          "x": 3,
          "y": 26
         },
         {
          "terrain": "mountain",
          "value": 55,
          "x": 4,
          "y": 26
         },
         {
          "terrain": "mountain",
          "value": 54,
          "x": 5,
          "y": 26
         },
         {
          "terrain": "mountain",
          "value": 49,
          "x": 6,
          "y": 26
         },
         {
          "terrain": "mountain",
          "value": 40,
          "x": 7,
          "y": 26
         },
         {
          "terrain": "mountain",
          "value": 37,
          "x": 8,
          "y": 26
         },
         {
          "terrain": "mountain",
          "value": 34,
          "x": 9,
          "y": 26
         },
         {
          "terrain": "mountain",
          "value": 29,
          "x": 10,
          "y": 26
         },
         {
          "terrain": "mountain",
          "value": 26,
          "x": 11,
          "y": 26
         },
         {
          "terrain": "land",
          "value": 24,
          "x": 12,
          "y": 26
         },
         {
          "terrain": "land",
          "value": 16,
          "x": 13,
          "y": 26
         },
         {
          "terrain": "land",
          "value": 11,
          "x": 14,
          "y": 26
         },
         {
          "terrain": "land",
          "value": 7,
          "x": 15,
          "y": 26
         },
         {
          "terrain": "land",
          "value": 5,
          "x": 16,
          "y": 26
         },
         {
          "terrain": "land",
          "value": 3,
          "x": 17,
          "y": 26
         },
         {
          "terrain": "land",
          "value": 5,
          "x": 18,
          "y": 26
         },
         {
          "terrain": "land",
          "value": 1,
          "x": 19,
          "y": 26
         },
         {
          "terrain": "land",
          "value": 4,
          "x": 20,
          "y": 26
         },
         {
          "terrain": "land",
          "value": 3,
          "x": 21,
          "y": 26
         },
         {
          "terrain": "land",
          "value": 3,
          "x": 22,
          "y": 26
         },
         {
          "terrain": "land",
          "value": 3,
          "x": 23,
          "y": 26
         },
         {
          "terrain": "land",
          "value": 5,
          "x": 24,
          "y": 26
         },
         {
          "terrain": "land",
          "value": 8,
          "x": 25,
          "y": 26
         },
         {
          "terrain": "land",
          "value": 13,
          "x": 26,
          "y": 26
         },
         {
          "terrain": "land",
          "value": 15,
          "x": 27,
          "y": 26
         },
         {
          "terrain": "land",
          "value": 17,
          "x": 28,
          "y": 26
         },
         {
          "terrain": "land",
          "value": 17,
          "x": 29,
          "y": 26
         },
         {
          "terrain": "land",
          "value": 19,
          "x": 30,
          "y": 26
         },
         {
          "terrain": "land",
          "value": 23,
          "x": 31,
          "y": 26
         },
         {
          "terrain": "mountain",
          "value": 27,
          "x": 32,
          "y": 26
         },
         {
          "terrain": "mountain",
          "value": 28,
          "x": 33,
          "y": 26
         },
         {
          "terrain": "land",
          "value": 22,
          "x": 34,
          "y": 26
         },
         {
          "terrain": "land",
          "value": 16,
          "x": 35,
          "y": 26
         },
         {
          "terrain": "land",
          "value": 11,
          "x": 36,
          "y": 26
         },
         {
          "terrain": "land",
          "value": 6,
          "x": 37,
          "y": 26
         },
         {
          "terrain": "land",
          "value": 1,
          "x": 38,
          "y": 26
         },
         {
          "terrain": "ocean",
          "value": 0,
          "x": 39,
          "y": 26
         },
         {
          "terrain": "mountain",
          "value": 37,
          "x": 0,
          "y": 27
         },
         {
          "terrain": "mountain",
          "value": 45,
          "x": 1,
          "y": 27
         },
         {
          "terrain": "mountain",
          "value": 54,
          "x": 2,
          "y": 27
         },
         {
          "terrain": "mountain",
          "value": 63,
          "x": 3,
          "y": 27
         },
         {
          "terrain": "mountain",
          "value": 61,
          "x": 4,
          "y": 27
         },
         {
          "terrain": "mountain",
          "value": 57,
          "x": 5,
          "y": 27
         },
         {
          "terrain": "mountain",
          "value": 50,
          "x": 6,
          "y": 27
         },
         {
          "terrain": "mountain",
          "value": 42,
          "x": 7,
          "y": 27
         },
         {
          "terrain": "mountain",
          "value": 37,
          "x": 8,
          "y": 27
         },
         {
          "terrain": "mountain",
          "value": 35,
          "x": 9,
          "y": 27
         },
         {
          "terrain": "mountain",
          "value": 28,
          "x": 10,
          "y": 27
         },
         {
          "terrain": "mountain",
          "value": 26,
          "x": 11,
          "y": 27
         },
         {
          "terrain": "land",
          "value": 20,
          "x": 12,
          "y": 27
         },
         {
          "terrain": "land",
          "value": 16,
          "x": 13,
          "y": 27
         },
         {
          "terrain": "land",
          "value": 12,
          "x": 14,
          "y": 27
         },
         {
          "terrain": "land",
          "value": 8,
          "x": 15,
          "y": 27
         },
         {
          "terrain": "land",
          "value": 8,
          "x": 16,
          "y": 27
         },
         {
          "terrain": "land",
          "value": 4,
          "x": 17,
          "y": 27
         },
         {
          "terrain": "land",
          "value": 5,
          "x": 18,
          "y": 27
         },
         {
          "terrain": "land",
          "value": 6,
          "x": 19,
          "y": 27
         },
         {
          "terrain": "land",
          "value": 6,
          "x": 20,
          "y": 27
         },
         {
          "terrain": "land",
          "value": 4,
          "x": 21,
          "y": 27
         },
         {
          "terrain": "land",
          "value": 5,
          "x": 22,
          "y": 27
         },
         {
          "terrain": "land",
          "value": 7,
          "x": 23,
          "y": 27
         },
         {
          "terrain": "land",
          "value": 9,
          "x": 24,
          "y": 27
         },
         {
          "terrain": "land",
          "value": 11,
          "x": 25,
          "y": 27
         },
         {
          "terrain": "land",
          "value": 14,
          "x": 26,
          "y": 27
         },
         {
          "terrain": "land",
          "value": 18,
          "x": 27,
          "y": 27
         },
         {
          "terrain": "land",
          "value": 17,
          "x": 28,
          "y": 27
         },
         {
          "terrain": "land",
          "value": 24,
          "x": 29,
          "y": 27
         },
         {
          "terrain": "land",
          "value": 24,
          "x": 30,
          "y": 27
         },
         {
          "terrain": "mountain",
          "value": 26,
          "x": 31,
          "y": 27
         },
         {
          "terrain": "mountain",
          "value": 31,
          "x": 32,
          "y": 27
         },
         {
          "terrain": "mountain",
          "value": 28,
          "x": 33,
          "y": 27
         },
         {
          "terrain": "mountain",
          "value": 26,
          "x": 34,
          "y": 27
         },
         {
          "terrain": "land",
          "value": 19,
          "x": 35,
          "y": 27
         },
         {
          "terrain": "land",
          "value": 13,
          "x": 36,
          "y": 27
         },
         {
          "terrain": "land",
          "value": 6,
          "x": 37,
          "y": 27
         },
         {
          "terrain": "land",
          "value": 5,
          "x": 38,
          "y": 27
         },
         {
          "terrain": "land",
          "value": 1,
          "x": 39,
          "y": 27
         },
         {
          "terrain": "mountain",
          "value": 37,
          "x": 0,
          "y": 28
         },
         {
          "terrain": "mountain",
          "value": 42,
          "x": 1,
          "y": 28
         },
         {
          "terrain": "mountain",
          "value": 54,
          "x": 2,
          "y": 28
         },
         {
          "terrain": "mountain",
          "value": 69,
          "x": 3,
          "y": 28
         },
         {
          "terrain": "mountain",
          "value": 66,
          "x": 4,
          "y": 28
         },
         {
          "terrain": "mountain",
          "value": 65,
          "x": 5,
          "y": 28
         },
         {
          "terrain": "mountain",
          "value": 53,
          "x": 6,
          "y": 28
         },
         {
          "terrain": "mountain",
          "value": 44,
          "x": 7,
          "y": 28
         },
         {
          "terrain": "mountain",
          "value": 38,
          "x": 8,
          "y": 28
         },
         {
          "terrain": "mountain",
          "value": 31,
          "x": 9,
          "y": 28
         },
         {
          "terrain": "land",
          "value": 24,
          "x": 10,
          "y": 28
         },
         {
          "terrain": "land",
          "value": 22,
          "x": 11,
          "y": 28
         },
         {
          "terrain": "land",
          "value": 18,
          "x": 12,
          "y": 28
         },
         {
          "terrain": "land",
          "value": 14,
          "x": 13,
          "y": 28
         },
         {
          "terrain": "land",
          "value": 13,
          "x": 14,
          "y": 28
         },
         {
          "terrain": "land",
          "value": 8,
          "x": 15,
          "y": 28
         },
         {
          "terrain": "land",
          "value": 7,
          "x": 16,
          "y": 28
         },
         {
          "terrain": "land",
          "value": 8,
          "x": 17,
          "y": 28
         },
         {
          "terrain": "land",
          "value": 8,
          "x": 18,
          "y": 28
         },
         {
          "terrain": "land",
          "value": 9,
          "x": 19,
          "y": 28
         },
         {
          "terrain": "land",
          "value": 8,
          "x": 20,
          "y": 28
         },
         {
          "terrain": "land",
          "value": 9,
          "x": 21,
          "y": 28
         },
         {
          "terrain": "land",
          "value": 10,
          "x": 22,
          "y": 28
         },
         {
          "terrain": "land",
          "value": 12,
          "x": 23,
          "y": 28
         },
         {
          "terrain": "land",
          "value": 12,
          "x": 24,
          "y": 28
         },
         {
          "terrain": "land",
          "value": 15,
          "x": 25,
          "y": 28
         },
         {
          "terrain": "land",
          "value": 17,
          "x": 26,
          "y": 28
         },
         {
          "terrain": "land",
          "value": 22,
          "x": 27,
          "y": 28
         },
         {
          "terrain": "land",
          "value": 23,
          "x": 28,
          "y": 28
         },
         {
          "terrain": "mountain",
          "value": 27,
          "x": 29,
          "y": 28
         },
         {
          "terrain": "mountain",
          "value": 34,
          "x": 30,
          "y": 28
         },
         {
          "terrain": "mountain",
          "value": 39,
          "x": 31,
          "y": 28
         },
         {
          "terrain": "mountain",
          "value": 34,
          "x": 32,
          "y": 28
         },
         {
          "terrain": "mountain",
          "value": 30,
          "x": 33,
          "y": 28
         },
         {
          "terrain": "mountain",
          "value": 26,
          "x": 34,
          "y": 28
         },
         {
          "terrain": "land",
          "value": 24,
          "x": 35,
          "y": 28
         },
         {
          "terrain": "land",
          "value": 13,
          "x": 36,
          "y": 28
         },
         {
          "terrain": "land",
          "value": 7,
          "x": 37,
          "y": 28
         },
         {
          "terrain": "land",
          "value": 4,
          "x": 38,
          "y": 28
         },
         {
          "terrain": "ocean",
          "value": 0,
          "x": 39,
          "y": 28
         },
         {
          "terrain": "mountain",
          "value": 36,
          "x": 0,
          "y": 29
         },
         {
          "terrain": "mountain",
          "value": 43,
          "x": 1,
          "y": 29
         },
         {
          "terrain": "mountain",
          "value": 53,
          "x": 2,
          "y": 29
         },
         {
          "terrain": "mountain",
          "value": 63,
          "x": 3,
          "y": 29
         },
         {
          "terrain": "mountain",
          "value": 68,
          "x": 4,
          "y": 29
         },
         {
          "terrain": "mountain",
          "value": 65,
          "x": 5,
          "y": 29
         },
         {
          "terrain": "mountain",
          "value": 55,
          "x": 6,
          "y": 29
         },
         {
          "terrain": "mountain",
          "value": 42,
          "x": 7,
          "y": 29
         },
         {
          "terrain": "mountain",
          "value": 32,
          "x": 8,
          "y": 29
         },
         {
          "terrain": "mountain",
          "value": 26,
          "x": 9,
          "y": 29
         },
         {
          "terrain": "land",
          "value": 19,
          "x": 10,
          "y": 29
         },
         {
          "terrain": "land",
          "value": 15,
          "x": 11,
          "y": 29
         },
         {
          "terrain": "land",
          "value": 13,
          "x": 12,
          "y": 29
         },
         {
          "terrain": "land",
          "value": 14,
          "x": 13,
          "y": 29
         },
         {
          "terrain": "land",
          "value": 12,
          "x": 14,
          "y": 29
         },
         {
          "terrain": "land",
          "value": 11,
          "x": 15,
          "y": 29
         },
         {
          "terrain": "land",
          "value": 10,
          "x": 16,
          "y": 29
         },
         {
          "terrain": "land",
          "value": 8,
          "x": 17,
          "y": 29
         },
         {
          "terrain": "land",
          "value": 11,
          "x": 18,
          "y": 29
         },
         {
          "terrain": "land",
          "value": 12,
          "x": 19,
          "y": 29
         },
         {
          "terrain": "land",
          "value": 11,
          "x": 20,
          "y": 29
         },
         {
          "terrain": "land",
          "value": 13,
          "x": 21,
          "y": 29
         },
         {
          "terrain": "land",
          "value": 13,
          "x": 22,
          "y": 29
         },
         {
          "terrain": "land",
          "value": 14,
          "x": 23,
          "y": 29
         },
         {
          "terrain": "land",
          "value": 18,
          "x": 24,
          "y": 29
         },
         {
          "terrain": "land",
          "value": 18,
          "x": 25,
          "y": 29
         },
         {
          "terrain": "land",
          "value": 17,
          "x": 26,
          "y": 29
         },
         {
          "terrain": "land",
          "value": 22,
          "x": 27,
          "y": 29
         },
         {
          "terrain": "mountain",
          "value": 25,
          "x": 28,
          "y": 29
         },
         {
          "terrain": "mountain",
          "value": 33,
          "x": 29,
          "y": 29
         },
         {
          "terrain": "mountain",
          "value": 37,
          "x": 30,
          "y": 29
         },
         {
          "terrain": "mountain",
          "value": 40,
          "x": 31,
          "y": 29
         },
         {
          "terrain": "mountain",
          "value": 37,
          "x": 32,
          "y": 29
         },
         {
          "terrain": "mountain",
          "value": 33,
          "x": 33,
          "y": 29
         },
         {
          "terrain": "mountain",
          "value": 27,
          "x": 34,
          "y": 29
         },
         {
          "terrain": "land",
          "value": 19,
          "x": 35,
          "y": 29
         },
         {
          "terrain": "land",
          "value": 14,
          "x": 36,
          "y": 29
         },
         {
          "terrain": "land",
          "value": 7,
          "x": 37,
          "y": 29
         },
         {
          "terrain": "land",
          "value": 6,
          "x": 38,
          "y": 29
         },
         {
          "terrain": "land",
          "value": 1,
          "x": 39,
          "y": 29
         },
         {
          "terrain": "mountain",
          "value": 39,
          "x": 0,
          "y": 30
         },
         {
          "terrain": "mountain",
          "value": 43,
          "x": 1,
          "y": 30
         },
         {
          "terrain": "mountain",
          "value": 51,
          "x": 2,
          "y": 30
         },
         {
          "terrain": "mountain",
          "value": 58,
          "x": 3,
          "y": 30
         },
         {
          "terrain": "mountain",
          "value": 60,
          "x": 4,
          "y": 30
         },
         {
          "terrain": "mountain",
          "value": 59,
          "x": 5,
          "y": 30
         },
         {
          "terrain": "mountain",
          "value": 53,
          "x": 6,
          "y": 30
         },
         {
          "terrain": "mountain",
          "value": 38,
          "x": 7,
          "y": 30
         },
         {
          "terrain": "mountain",
          "value": 30,
          "x": 8,
          "y": 30
         },
         {
          "terrain": "land",
          "value": 23,
          "x": 9,
          "y": 30
         },
         {
          "terrain": "land",
          "value": 11,
          "x": 10,
          "y": 30
         },
         {
          "terrain": "land",
          "value": 10,
          "x": 11,
          "y": 30
         },
         {
          "terrain": "land",
          "value": 13,
          "x": 12,
          "y": 30
         },
         {
          "terrain": "land",
          "value": 11,
          "x": 13,
          "y": 30
         },
         {
          "terrain": "land",
          "value": 11,
          "x": 14,
          "y": 30
         },
         {
          "terrain": "land",
          "value": 13,
          "x": 15,
          "y": 30
         },
         {
          "terrain": "land",
          "value": 15,
          "x": 16,
          "y": 30
         },
         {
          "terrain": "land",
          "value": 14,
          "x": 17,
          "y": 30
         },
         {
          "terrain": "land",
          "value": 14,
          "x": 18,
          "y": 30
         },
         {
          "terrain": "land",
          "value": 15,
          "x": 19,
          "y": 30
         },
         {
          "terrain": "land",
          "value": 19,
          "x": 20,
          "y": 30
         },
         {
          "terrain": "land",
          "value": 20,
          "x": 21,
          "y": 30
         },
         {
          "terrain": "land",
          "value": 21,
          "x": 22,
          "y": 30
         },
         {
          "terrain": "land",
          "value": 24,
          "x": 23,
          "y": 30
         },
         {
          "terrain": "land",
          "value": 21,
          "x": 24,
          "y": 30
         },
         {
          "terrain": "land",
          "value": 19,
          "x": 25,
          "y": 30
         },
         {
          "terrain": "land",
          "value": 18,
          "x": 26,
          "y": 30
         },
         {
          "terrain": "land",
          "value": 24,
          "x": 27,
          "y": 30
         },
         {
          "terrain": "mountain",
          "value": 28,
          "x": 28,
          "y": 30
         },
         {
          "terrain": "mountain",
          "value": 37,
          "x": 29,
          "y": 30
         },
         {
          "terrain": "mountain",
          "value": 38,
          "x": 30,
          "y": 30
         },
         {
          "terrain": "mountain",
          "value": 38,
          "x": 31,
          "y": 30
         },
         {
          "terrain": "mountain",
          "value": 38,
          "x": 32,
          "y": 30
         },
         {
          "terrain": "mountain",
          "value": 33,
          "x": 33,
          "y": 30
         },
         {
          "terrain": "mountain",
          "value": 27,
          "x": 34,
          "y": 30
         },
         {
          "terrain": "land",
          "value": 22,
          "x": 35,
          "y": 30
         },
         {
          "terrain": "land",
          "value": 14,
          "x": 36,
          "y": 30
         },
         {
          "terrain": "land",
          "value": 9,
          "x": 37,
          "y": 30
         },
         {
          "terrain": "land",
          "value": 4,
          "x": 38,
          "y": 30
         },
         {
          "terrain": "land",
          "value": 3,
          "x": 39,
          "y": 30
         },
         {
          "terrain": "mountain",
          "value": 39,
          "x": 0,
          "y": 31
         },
         {
          "terrain": "mountain",
          "value": 45,
          "x": 1,
          "y": 31
         },
         {
          "terrain": "mountain",
          "value": 53,
          "x": 2,
          "y": 31
         },
         {
          "terrain": "mountain",
          "value": 52,
          "x": 3,
          "y": 31
         },
         {
          "terrain": "mountain",
          "value": 51,
          "x": 4,
          "y": 31
         },
         {
          "terrain": "mountain",
          "value": 51,
          "x": 5,
          "y": 31
         },
         {
          "terrain": "mountain",
          "value": 48,
          "x": 6,
          "y": 31
         },
         {
          "terrain": "mountain",
          "value": 39,
          "x": 7,
          "y": 31
         },
         {
          "terrain": "mountain",
          "value": 29,
          "x": 8,
          "y": 31
         },
         {
          "terrain": "land",
          "value": 14,
          "x": 9,
          "y": 31
         },
         {
          "terrain": "land",
          "value": 8,
          "x": 10,
          "y": 31
         },
         {
          "terrain": "land",
          "value": 8,
          "x": 11,
          "y": 31
         },
         {
          "terrain": "land",
          "value": 9,
          "x": 12,
          "y": 31
         },
         {
          "terrain": "land",
          "value": 14,
          "x": 13,
          "y": 31
         },
         {
          "terrain": "land",
          "value": 12,
          "x": 14,
          "y": 31
         },
         {
          "terrain": "land",
          "value": 14,
          "x": 15,
          "y": 31
         },
         {
          "terrain": "land",
          "value": 19,
          "x": 16,
          "y": 31
         },
         {
          "terrain": "land",
          "value": 21,
          "x": 17,
          "y": 31
         },
         {
          "terrain": "land",
          "value": 20,
          "x": 18,
          "y": 31
         },
         {
          "terrain": "land",
          "value": 23,
          "x": 19,
          "y": 31
         },
         {
          "terrain": "mountain",
          "value": 27,
          "x": 20,
          "y": 31
         },
         {
          "terrain": "mountain",
          "value": 29,
          "x": 21,
          "y": 31
         },
         {
          "terrain": "mountain",
          "value": 30,
          "x": 22,
          "y": 31
         },
         {
          "terrain": "mountain",
          "value": 30,
          "x": 23,
          "y": 31
         },
         {
          "terrain": "mountain",
          "value": 28,
          "x": 24,
          "y": 31
         },
         {
          "terrain": "mountain",
          "value": 26,
          "x": 25,
          "y": 31
         },
         {
          "terrain": "land",
          "value": 22,
          "x": 26,
          "y": 31
         },
         {
          "terrain": "mountain",
          "value": 27,
          "x": 27,
          "y": 31
         },
         {
          "terrain": "mountain",
          "value": 32,
          "x": 28,
          "y": 31
         },
         {
          "terrain": "mountain",
          "value": 33,
          "x": 29,
          "y": 31
         },
         {
          "terrain": "mountain",
          "value": 37,
          "x": 30,
          "y": 31
         },
         {
          "terrain": "mountain",
          "value": 40,
          "x": 31,
          "y": 31
         },
         {
          "terrain": "mountain",
          "value": 43,
          "x": 32,
          "y": 31
         },
         {
          "terrain": "mountain",
          "value": 37,
          "x": 33,
          "y": 31
         },
         {
          "terrain": "mountain",
          "value": 32,
          "x": 34,
          "y": 31
         },
         {
          "terrain": "land",
          "value": 23,
          "x": 35,
          "y": 31
         },
         {
          "terrain": "land",
          "value": 12,
          "x": 36,
          "y": 31
         },
         {
          "terrain": "land",
          "value": 7,
          "x": 37,
          "y": 31
         },
         {
          "terrain": "land",
          "value": 5,
          "x": 38,
          "y": 31
         },
         {
          "terrain": "land",
          "value": 2,
          "x": 39,
          "y": 31
         },
         {
          "terrain": "mountain",
          "value": 38,
          "x": 0,
          "y": 32
         },
         {
          "terrain": "mountain",
          "value": 44,
          "x": 1,
          "y": 32
         },
         {
          "terrain": "mountain",
          "value": 48,
          "x": 2,
          "y": 32
         },
         {
          "terrain": "mountain",
          "value": 47,
          "x": 3,
          "y": 32
         },
         {
          "terrain": "mountain",
          "value": 45,
          "x": 4,
          "y": 32
         },
         {
          "terrain": "mountain",
          "value": 41,
          "x": 5,
          "y": 32
         },
         {
          "terrain": "mountain",
          "value": 38,
          "x": 6,
          "y": 32
         },
         {
          "terrain": "mountain",
          "value": 33,
          "x": 7,
          "y": 32
         },
         {
          "terrain": "land",
          "value": 22,
          "x": 8,
          "y": 32
         },
         {
          "terrain": "land",
          "value": 14,
          "x": 9,
          "y": 32
         },
         {
          "terrain": "land",
          "value": 6,
          "x": 10,
          "y": 32
         },
         {
          "terrain": "land",
          "value": 4,
          "x": 11,
          "y": 32
         },
         {
          "terrain": "land",
          "value": 8,
          "x": 12,
          "y": 32
         },
         {
          "terrain": "land",
          "value": 12,
          "x": 13,
          "y": 32
         },
         {
          "terrain": "land",
          "value": 15,
          "x": 14,
          "y": 32
         },
         {
          "terrain": "land",
          "value": 18,
          "x": 15,
          "y": 32
         },
         {
          "terrain": "land",
          "value": 22,
          "x": 16,
          "y": 32
         },
         {
          "terrain": "mountain",
          "value": 27,
          "x": 17,
          "y": 32
         },
         {
          "terrain": "mountain",
          "value": 29,
          "x": 18,
          "y": 32
         },
         {
          "terrain": "mountain",
          "value": 31,
          "x": 19,
          "y": 32
         },
         {
          "terrain": "mountain",
          "value": 33,
          "x": 20,
          "y": 32
         },
         {
          "terrain": "mountain",
          "value": 42,
          "x": 21,
          "y": 32
         },
         {
          "terrain": "mountain",
          "value": 41,
          "x": 22,
          "y": 32
         },
         {
          "terrain": "mountain",
          "value": 41,
          "x": 23,
          "y": 32
         },
         {
          "terrain": "mountain",
          "value": 37,
          "x": 24,
          "y": 32
         },
         {
          "terrain": "mountain",
          "value": 35,
          "x": 25,
          "y": 32
         },
         {
          "terrain": "mountain",
          "value": 32,
          "x": 26,
          "y": 32
         },
         {
          "terrain": "mountain",
          "value": 34,
          "x": 27,
          "y": 32
         },
         {
          "terrain": "mountain",
          "value": 33,
          "x": 28,
          "y": 32
         },
         {
          "terrain": "mountain",
          "value": 32,
          "x": 29,
          "y": 32
         },
         {
          "terrain": "mountain",
          "value": 36,
          "x": 30,
          "y": 32
         },
         {
          "terrain": "mountain",
          "value": 42,
          "x": 31,
          "y": 32
         },
         {
          "terrain": "mountain",
          "value": 44,
          "x": 32,
          "y": 32
         },
         {
          "terrain": "mountain",
          "value": 38,
          "x": 33,
          "y": 32
         },
         {
          "terrain": "mountain",
          "value": 32,
          "x": 34,
          "y": 32
         },
         {
          "terrain": "land",
          "value": 23,
          "x": 35,
          "y": 32
         },
         {
          "terrain": "land",
          "value": 14,
          "x": 36,
          "y": 32
         },
         {
          "terrain": "land",
          "value": 8,
          "x": 37,
          "y": 32
         },
         {
          "terrain": "land",
          "value": 4,
          "x": 38,
          "y": 32
         },
         {
          "terrain": "land",
          "value": 1,
          "x": 39,
          "y": 32
         },
         {
          "terrain": "mountain",
          "value": 34,
          "x": 0,
          "y": 33
         },
         {
          "terrain": "mountain",
          "value": 39,
          "x": 1,
          "y": 33
         },
         {
          "terrain": "mountain",
          "value": 44,
          "x": 2,
          "y": 33
         },
         {
          "terrain": "mountain",
          "value": 43,
          "x": 3,
          "y": 33
         },
         {
          "terrain": "mountain",
          "value": 39,
          "x": 4,
          "y": 33
         },
         {
          "terrain": "mountain",
          "value": 36,
          "x": 5,
          "y": 33
         },
         {
          "terrain": "mountain",
          "value": 25,
          "x": 6,
          "y": 33
         },
         {
          "terrain": "land",
          "value": 19,
          "x": 7,
          "y": 33
         },
         {
          "terrain": "land",
          "value": 16,
          "x": 8,
          "y": 33
         },
         {
          "terrain": "land",
          "value": 10,
          "x": 9,
          "y": 33
         },
         {
          "terrain": "land",
          "value": 3,
          "x": 10,
          "y": 33
         },
         {
          "terrain": "land",
          "value": 4,
          "x": 11,
          "y": 33
         },
         {
          "terrain": "land",
          "value": 6,
          "x": 12,
          "y": 33
         },
         {
          "terrain": "land",
          "value": 11,
          "x": 13,
          "y": 33
         },
         {
          "terrain": "land",
          "value": 13,
          "x": 14,
          "y": 33
         },
         {
          "terrain": "land",
          "value": 22,
          "x": 15,
          "y": 33
         },
         {
          "terrain": "mountain",
          "value": 26,
          "x": 16,
          "y": 33
         },
         {
          "terrain": "mountain",
          "value": 34,
          "x": 17,
          "y": 33
         },
         {
          "terrain": "mountain",
          "value": 40,
          "x": 18,
          "y": 33
         },
         {
          "terrain": "mountain",
          "value": 42,
          "x": 19,
          "y": 33
         },
         {
          "terrain": "mountain",
          "value": 43,
          "x": 20,
          "y": 33
         },
         {
          "terrain": "mountain",
          "value": 49,
          "x": 21,
          "y": 33
         },
         {
          "terrain": "mountain",
          "value": 51,
          "x": 22,
          "y": 33
         },
         {
          "terrain": "mountain",
          "value": 49,
          "x": 23,
          "y": 33
         },
         {
          "terrain": "mountain",
          "value": 48,
          "x": 24,
          "y": 33
         },
         {
          "terrain": "mountain",
          "value": 43,
          "x": 25,
          "y": 33
         },
         {
          "terrain": "mountain",
          "value": 42,
          "x": 26,
          "y": 33
         },
         {
          "terrain": "mountain",
          "value": 38,
          "x": 27,
          "y": 33
         },
         {
          "terrain": "mountain",
          "value": 33,
          "x": 28,
          "y": 33
         },
         {
          "terrain": "mountain",
          "value": 33,
          "x": 29,
          "y": 33
         },
         {
          "terrain": "mountain",
          "value": 35,
          "x": 30,
          "y": 33
         },
         {
          "terrain": "mountain",
          "value": 37,
          "x": 31,
          "y": 33
         },
         {
          "terrain": "mountain",
          "value": 41,
          "x": 32,
          "y": 33
         },
         {
          "terrain": "mountain",
          "value": 37,
          "x": 33,
          "y": 33
         },
         {
          "terrain": "mountain",
          "value": 28,
          "x": 34,
          "y": 33
         },
         {
          "terrain": "land",
          "value": 19,
          "x": 35,
          "y": 33
         },
         {
          "terrain": "land",
          "value": 14,
          "x": 36,
          "y": 33
         },
         {
          "terrain": "land",
          "value": 8,
          "x": 37,
          "y": 33
         },
         {
          "terrain": "land",
          "value": 2,
          "x": 38,
          "y": 33
         },
         {
          "terrain": "land",
          "value": 2,
          "x": 39,
          "y": 33
         },
         {
          "terrain": "land",
          "value": 24,
          "x": 0,
          "y": 34
         },
         {
          "terrain": "mountain",
          "value": 33,
          "x": 1,
          "y": 34
         },
         {
          "terrain": "mountain",
          "value": 37,
          "x": 2,
          "y": 34
         },
         {
          "terrain": "mountain",
          "value": 38,
          "x": 3,
          "y": 34
         },
         {
          "terrain": "mountain",
          "value": 37,
          "x": 4,
          "y": 34
         },
         {
          "terrain": "mountain",
          "value": 28,
          "x": 5,
          "y": 34
         },
         {
          "terrain": "land",
          "value": 22,
          "x": 6,
          "y": 34
         },
         {
          "terrain": "land",
          "value": 16,
          "x": 7,
          "y": 34
         },
         {
          "terrain": "land",
          "value": 10,
          "x": 8,
          "y": 34
         },
         {
          "terrain": "land",
          "value": 5,
          "x": 9,
          "y": 34
         },
         {
          "terrain": "land",
          "value": 3,
          "x": 10,
          "y": 34
         },
         {
          "terrain": "land",
          "value": 3,
          "x": 11,
          "y": 34
         },
         {
          "terrain": "land",
          "value": 5,
          "x": 12,
          "y": 34
         },
         {
          "terrain": "land",
          "value": 12,
          "x": 13,
          "y": 34
         },
         {
          "terrain": "land",
          "value": 16,
          "x": 14,
          "y": 34
         },
         {
          "terrain": "land",
          "value": 23,
          "x": 15,
          "y": 34
         },
         {
          "terrain": "mountain",
          "value": 31,
          "x": 16,
          "y": 34
         },
         {
          "terrain": "mountain",
          "value": 38,
          "x": 17,
          "y": 34
         },
         {
          "terrain": "mountain",
          "value": 46,
          "x": 18,
          "y": 34
         },
         {
          "terrain": "mountain",
          "value": 51,
          "x": 19,
          "y": 34
         },
         {
          "terrain": "mountain",
          "value": 56,
          "x": 20,
          "y": 34
         },
         {
          "terrain": "mountain",
          "value": 56,
          "x": 21,
          "y": 34
         },
         {
          "terrain": "mountain",
          "value": 56,
          "x": 22,
          "y": 34
         },
         {
          "terrain": "mountain",
          "value": 54,
          "x": 23,
          "y": 34
         },
         {
          "terrain": "mountain",
          "value": 52,
          "x": 24,
          "y": 34
         },
         {
          "terrain": "mountain",
          "value": 50,
          "x": 25,
          "y": 34
         },
         {
          "terrain": "mountain",
          "value": 42,
          "x": 26,
          "y": 34
         },
         {
          "terrain": "mountain",
          "value": 39,
          "x": 27,
          "y": 34
         },
         {
          "terrain": "mountain",
          "value": 34,
          "x": 28,
          "y": 34
         },
         {
          "terrain": "mountain",
          "value": 28,
          "x": 29,
          "y": 34
         },
         {
          "terrain": "mountain",
          "value": 32,
          "x": 30,
          "y": 34
         },
         {
          "terrain": "mountain",
          "value": 37,
          "x": 31,
          "y": 34
         },
         {
          "terrain": "mountain",
          "value": 38,
          "x": 32,
          "y": 34
         },
         {
          "terrain": "mountain",
          "value": 31,
          "x": 33,
          "y": 34
         },
         {
          "terrain": "land",
          "value": 23,
          "x": 34,
          "y": 34
         },
         {
          "terrain": "land",
          "value": 16,
          "x": 35,
          "y": 34
         },
         {
          "terrain": "land",
          "value": 12,
          "x": 36,
          "y": 34
         },
         {
          "terrain": "land",
          "value": 8,
          "x": 37,
          "y": 34
         },
         {
          "terrain": "land",
          "value": 5,
          "x": 38,
          "y": 34
         },
         {
          "terrain": "land",
          "value": 1,
          "x": 39,
          "y": 34
         },
         {
          "terrain": "land",
          "value": 20,
          "x": 0,
          "y": 35
         },
         {
          "terrain": "land",
          "value": 23,
          "x": 1,
          "y": 35
         },
         {
          "terrain": "mountain",
          "value": 29,
          "x": 2,
          "y": 35
         },
         {
          "terrain": "mountain",
          "value": 30,
          "x": 3,
          "y": 35
         },
         {
          "terrain": "mountain",
          "value": 30,
          "x": 4,
          "y": 35
         },
         {
          "terrain": "mountain",
          "value": 25,
          "x": 5,
          "y": 35
         },
         {
          "terrain": "land",
          "value": 17,
          "x": 6,
          "y": 35
         },
         {
          "terrain": "land",
          "value": 11,
          "x": 7,
          "y": 35
         },
         {
          "terrain": "land",
          "value": 5,
          "x": 8,
          "y": 35
         },
         {
          "terrain": "land",
          "value": 4,
          "x": 9,
          "y": 35
         },
         {
          "terrain": "land",
          "value": 2,
          "x": 10,
          "y": 35
         },
         {
          "terrain": "land",
          "value": 5,
          "x": 11,
          "y": 35
         },
         {
          "terrain": "land",
          "value": 5,
          "x": 12,
          "y": 35
         },
         {
          "terrain": "land",
          "value": 9,
          "x": 13,
          "y": 35
         },
         {
          "terrain": "land",
          "value": 14,
          "x": 14,
          "y": 35
         },
         {
          "terrain": "land",
          "value": 24,
          "x": 15,
          "y": 35
         },
         {
          "terrain": "mountain",
          "value": 33,
          "x": 16,
          "y": 35
         },
         {
          "terrain": "mountain",
          "value": 44,
          "x": 17,
          "y": 35
         },
         {
          "terrain": "mountain",
          "value": 52,
          "x": 18,
          "y": 35
         },
         {
          "terrain": "mountain",
          "value": 62,
          "x": 19,
          "y": 35
         },
         {
          "terrain": "mountain",
          "value": 66,
          "x": 20,
          "y": 35
         },
         {
          "terrain": "mountain",
          "value": 63,
          "x": 21,
          "y": 35
         },
         {
          "terrain": "mountain",
          "value": 59,
          "x": 22,
          "y": 35
         },
         {
          "terrain": "mountain",
          "value": 59,
          "x": 23,
          "y": 35
         },
         {
          "terrain": "mountain",
          "value": 58,
          "x": 24,
          "y": 35
         },
         {
          "terrain": "mountain",
          "value": 54,
          "x": 25,
          "y": 35
         },
         {
          "terrain": "mountain",
          "value": 45,
          "x": 26,
          "y": 35
         },
         {
          "terrain": "mountain",
          "value": 39,
          "x": 27,
          "y": 35
         },
         {
          "terrain": "mountain",
          "value": 32,
          "x": 28,
          "y": 35
         },
         {
          "terrain": "mountain",
          "value": 29,
          "x": 29,
          "y": 35
         },
         {
          "terrain": "mountain",
          "value": 29,
          "x": 30,
          "y": 35
         },
         {
          "terrain": "mountain",
          "value": 31,
          "x": 31,
          "y": 35
         },
         {
          "terrain": "mountain",
          "value": 27,
          "x": 32,
          "y": 35
         },
         {
          "terrain": "land",
          "value": 19,
          "x": 33,
          "y": 35
         },
         {
          "terrain": "land",
          "value": 18,
          "x": 34,
          "y": 35
         },
         {
          "terrain": "land",
          "value": 12,
          "x": 35,
          "y": 35
         },
         {
          "terrain": "land",
          "value": 10,
          "x": 36,
          "y": 35
         },
         {
          "terrain": "land",
          "value": 8,
          "x": 37,
          "y": 35
         },
         {
          "terrain": "land",
          "value": 4,
          "x": 38,
          "y": 35
         },
         {
          "terrain": "land",
          "value": 3,
          "x": 39,
          "y": 35
         },
         {
          "terrain": "land",
          "value": 18,
          "x": 0,
          "y": 36
         },
         {
          "terrain": "land",
          "value": 19,
          "x": 1,
          "y": 36
         },
         {
          "terrain": "land",
          "value": 24,
          "x": 2,
          "y": 36
         },
         {
          "terrain": "mountain",
          "value": 25,
          "x": 3,
          "y": 36
         },
         {
          "terrain": "land",
          "value": 20,
          "x": 4,
          "y": 36
         },
         {
          "terrain": "land",
          "value": 18,
          "x": 5,
          "y": 36
         },
         {
          "terrain": "land",
          "value": 15,
          "x": 6,
          "y": 36
         },
         {
          "terrain": "land",
          "value": 9,
          "x": 7,
          "y": 36
         },
         {
          "terrain": "land",
          "value": 6,
          "x": 8,
          "y": 36
         },
         {
          "terrain": "land",
          "value": 4,
          "x": 9,
          "y": 36
         },
         {
          "terrain": "land",
          "value": 2,
          "x": 10,
          "y": 36
         },
         {
          "terrain": "land",
          "value": 5,
          "x": 11,
          "y": 36
         },
         {
          "terrain": "land",
          "value": 7,
          "x": 12,
          "y": 36
         },
         {
          "terrain": "land",
          "value": 11,
          "x": 13,
          "y": 36
         },
         {
          "terrain": "land",
          "value": 16,
          "x": 14,
          "y": 36
         },
         {
          "terrain": "land",
          "value": 23,
          "x": 15,
          "y": 36
         },
         {
          "terrain": "mountain",
          "value": 32,
          "x": 16,
          "y": 36
         },
         {
          "terrain": "mountain",
          "value": 46,
          "x": 17,
          "y": 36
         },
         {
          "terrain": "mountain",
          "value": 58,
          "x": 18,
          "y": 36
         },
         {
          "terrain": "mountain",
          "value": 63,
          "x": 19,
          "y": 36
         },
         {
          "terrain": "mountain",
          "value": 70,
          "x": 20,
          "y": 36
         },
         {
          "terrain": "mountain",
          "value": 71,
          "x": 21,
          "y": 36
         },
         {
          "terrain": "mountain",
          "value": 64,
          "x": 22,
          "y": 36
         },
         {
          "terrain": "mountain",
          "value": 61,
          "x": 23,
          "y": 36
         },
         {
          "terrain": "mountain",
          "value": 53,
          "x": 24,
          "y": 36
         },
         {
          "terrain": "mountain",
          "value": 51,
          "x": 25,
          "y": 36
         },
         {
          "terrain": "mountain",
          "value": 43,
          "x": 26,
          "y": 36
         },
         {
          "terrain": "mountain",
          "value": 38,
          "x": 27,
          "y": 36
         },
         {
          "terrain": "mountain",
          "value": 34,
          "x": 28,
          "y": 36
         },
         {
          "terrain": "mountain",
          "value": 30,
          "x": 29,
          "y": 36
         },
         {
          "terrain": "mountain",
          "value": 31,
          "x": 30,
          "y": 36
         },
         {
          "terrain": "mountain",
          "value": 26,
          "x": 31,
          "y": 36
         },
         {
          "terrain": "land",
          "value": 19,
          "x": 32,
          "y": 36
         },
         {
          "terrain": "land",
          "value": 13,
          "x": 33,
          "y": 36
         },
         {
          "terrain": "land",
          "value": 9,
          "x": 34,
          "y": 36
         },
         {
          "terrain": "land",
          "value": 9,
          "x": 35,
          "y": 36
         },
         {
          "terrain": "land",
          "value": 10,
          "x": 36,
          "y": 36
         },
         {
          "terrain": "land",
          "value": 8,
          "x": 37,
          "y": 36
         },
         {
          "terrain": "land",
          "value": 5,
          "x": 38,
          "y": 36
         },
         {
          "terrain": "land",
          "value": 2,
          "x": 39,
          "y": 36
         },
         {
          "terrain": "land",
          "value": 10,
          "x": 0,
          "y": 37
         },
         {
          "terrain": "land",
          "value": 11,
          "x": 1,
          "y": 37
         },
         {
          "terrain": "land",
          "value": 13,
          "x": 2,
          "y": 37
         },
         {
          "terrain": "land",
          "value": 12,
          "x": 3,
          "y": 37
         },
         {
          "terrain": "land",
          "value": 11,
          "x": 4,
          "y": 37
         },
         {
          "terrain": "land",
          "value": 11,
          "x": 5,
          "y": 37
         },
         {
          "terrain": "land",
          "value": 9,
          "x": 6,
          "y": 37
         },
         {
          "terrain": "land",
          "value": 9,
          "x": 7,
          "y": 37
         },
         {
          "terrain": "land",
          "value": 5,
          "x": 8,
          "y": 37
         },
         {
          "terrain": "land",
          "value": 3,
          "x": 9,
          "y": 37
         },
         {
          "terrain": "land",
          "value": 2,
          "x": 10,
          "y": 37
         },
         {
          "terrain": "land",
          "value": 3,
          "x": 11,
          "y": 37
         },
         {
          "terrain": "land",
          "value": 5,
          "x": 12,
          "y": 37
         },
         {
          "terrain": "land",
          "value": 10,
          "x": 13,
          "y": 37
         },
         {
          "terrain": "land",
          "value": 16,
          "x": 14,
          "y": 37
         },
         {
          "terrain": "land",
          "value": 24,
          "x": 15,
          "y": 37
         },
         {
          "terrain": "mountain",
          "value": 32,
          "x": 16,
          "y": 37
         },
         {
          "terrain": "mountain",
          "value": 46,
          "x": 17,
          "y": 37
         },
         {
          "terrain": "mountain",
          "value": 56,
          "x": 18,
          "y": 37
         },
         {
          "terrain": "mountain",
          "value": 66,
          "x": 19,
          "y": 37
         },
         {
          "terrain": "mountain",
          "value": 71,
          "x": 20,
          "y": 37
         },
         {
          "terrain": "mountain",
          "value": 71,
          "x": 21,
          "y": 37
         },
         {
          "terrain": "mountain",
          "value": 67,
          "x": 22,
          "y": 37
         },
         {
          "terrain": "mountain",
          "value": 60,
          "x": 23,
          "y": 37
         },
         {
          "terrain": "mountain",
          "value": 49,
          "x": 24,
          "y": 37
         },
         {
          "terrain": "mountain",
          "value": 42,
          "x": 25,
          "y": 37
         },
         {
          "terrain": "mountain",
          "value": 37,
          "x": 26,
          "y": 37
         },
         {
          "terrain": "mountain",
          "value": 36,
          "x": 27,
          "y": 37
         },
         {
          "terrain": "mountain",
          "value": 33,
          "x": 28,
          "y": 37
         },
         {
          "terrain": "mountain",
          "value": 28,
          "x": 29,
          "y": 37
         },
         {
          "terrain": "mountain",
          "value": 25,
          "x": 30,
          "y": 37
         },
         {
          "terrain": "land",
          "value": 21,
          "x": 31,
          "y": 37
         },
         {
          "terrain": "land",
          "value": 11,
          "x": 32,
          "y": 37
         },
         {
          "terrain": "land",
          "value": 10,
          "x": 33,
          "y": 37
         },
         {
          "terrain": "land",
          "value": 5,
          "x": 34,
          "y": 37
         },
         {
          "terrain": "land",
          "value": 5,
          "x": 35,
          "y": 37
         },
         {
          "terrain": "land",
          "value": 3,
          "x": 36,
          "y": 37
         },
         {
          "terrain": "land",
          "value": 4,
          "x": 37,
          "y": 37
         },
         {
          "terrain": "land",
          "value": 3,
          "x": 38,
          "y": 37
         },
         {
          "terrain": "land",
          "value": 3,
          "x": 39,
          "y": 37
         },
         {
          "terrain": "land",
          "value": 7,
          "x": 0,
          "y": 38
         },
         {
          "terrain": "land",
          "value": 8,
          "x": 1,
          "y": 38
         },
         {
          "terrain": "land",
          "value": 9,
          "x": 2,
          "y": 38
         },
         {
          "terrain": "land",
          "value": 9,
          "x": 3,
          "y": 38
         },
         {
          "terrain": "land",
          "value": 8,
          "x": 4,
          "y": 38
         },
         {
          "terrain": "land",
          "value": 8,
          "x": 5,
          "y": 38
         },
         {
          "terrain": "land",
          "value": 7,
          "x": 6,
          "y": 38
         },
         {
          "terrain": "land",
          "value": 7,
          "x": 7,
          "y": 38
         },
         {
          "terrain": "land",
          "value": 3,
          "x": 8,
          "y": 38
         },
         {
          "terrain": "land",
          "value": 3,
          "x": 9,
          "y": 38
         },
         {
          "terrain": "land",
          "value": 1,
          "x": 10,
          "y": 38
         },
         {
          "terrain": "land",
          "value": 5,
          "x": 11,
          "y": 38
         },
         {
          "terrain": "land",
          "value": 6,
          "x": 12,
          "y": 38
         },
         {
          "terrain": "land",
          "value": 12,
          "x": 13,
          "y": 38
         },
         {
          "terrain": "land",
          "value": 15,
          "x": 14,
          "y": 38
         },
         {
          "terrain": "land",
          "value": 24,
          "x": 15,
          "y": 38
         },
         {
          "terrain": "mountain",
          "value": 32,
          "x": 16,
          "y": 38
         },
         {
          "terrain": "mountain",
          "value": 41,
          "x": 17,
          "y": 38
         },
         {
          "terrain": "mountain",
          "value": 48,
          "x": 18,
          "y": 38
         },
         {
          "terrain": "mountain",
          "value": 57,
          "x": 19,
          "y": 38
         },
         {
          "terrain": "mountain",
          "value": 66,
          "x": 20,
          "y": 38
         },
         {
          "terrain": "mountain",
          "value": 67,
          "x": 21,
          "y": 38
         },
         {
          "terrain": "mountain",
          "value": 67,
          "x": 22,
          "y": 38
         },
         {
          "terrain": "mountain",
          "value": 57,
          "x": 23,
          "y": 38
         },
         {
          "terrain": "mountain",
          "value": 44,
          "x": 24,
          "y": 38
         },
         {
          "terrain": "mountain",
          "value": 38,
          "x": 25,
          "y": 38
         },
         {
          "terrain": "mountain",
          "value": 32,
          "x": 26,
          "y": 38
         },
         {
          "terrain": "mountain",
          "value": 32,
          "x": 27,
          "y": 38
         },
         {
          "terrain": "mountain",
          "value": 28,
          "x": 28,
          "y": 38
         },
         {
          "terrain": "mountain",
          "value": 25,
          "x": 29,
          "y": 38
         },
         {
          "terrain": "land",
          "value": 18,
          "x": 30,
          "y": 38
         },
         {
          "terrain": "land",
          "value": 15,
          "x": 31,
          "y": 38
         },
         {
          "terrain": "land",
          "value": 9,
          "x": 32,
          "y": 38
         },
         {
          "terrain": "land",
          "value": 5,
          "x": 33,
          "y": 38
         },
         {
          "terrain": "land",
          "value": 2,
          "x": 34,
          "y": 38
         },
         {
          "terrain": "land",
          "value": 2,
          "x": 35,
          "y": 38
         },
         {
          "terrain": "land",
          "value": 2,
          "x": 36,
          "y": 38
         },
         {
          "terrain": "land",
          "value": 5,
          "x": 37,
          "y": 38
         },
         {
          "terrain": "land",
          "value": 4,
          "x": 38,
          "y": 38
         },
         {
          "terrain": "land",
          "value": 3,
          "x": 39,
          "y": 38
         },
         {
          "terrain": "land",
          "value": 5,
          "x": 0,
          "y": 39
         },
         {
          "terrain": "land",
          "value": 5,
          "x": 1,
          "y": 39
         },
         {
          "terrain": "land",
          "value": 5,
          "x": 2,
          "y": 39
         },
         {
          "terrain": "land",
          "value": 4,
          "x": 3,
          "y": 39
         },
         {
          "terrain": "land",
          "value": 4,
          "x": 4,
          "y": 39
         },
         {
          "terrain": "land",
          "value": 5,
          "x": 5,
          "y": 39
         },
         {
          "terrain": "land",
          "value": 4,
          "x": 6,
          "y": 39
         },
         {
          "terrain": "land",
          "value": 4,
          "x": 7,
          "y": 39
         },
         {
          "terrain": "land",
          "value": 3,
          "x": 8,
          "y": 39
         },
         {
          "terrain": "land",
          "value": 4,
          "x": 9,
          "y": 39
         },
         {
          "terrain": "land",
          "value": 2,
          "x": 10,
          "y": 39
         },
         {
          "terrain": "land",
          "value": 6,
          "x": 11,
          "y": 39
         },
         {
          "terrain": "land",
          "value": 8,
          "x": 12,
          "y": 39
         },
         {
          "terrain": "land",
          "value": 13,
          "x": 13,
          "y": 39
         },
         {
          "terrain": "land",
          "value": 18,
          "x": 14,
          "y": 39
         },
         {
          "terrain": "mountain",
          "value": 26,
          "x": 15,
          "y": 39
         },
         {
          "terrain": "mountain",
          "value": 29,
          "x": 16,
          "y": 39
         },
         {
          "terrain": "mountain",
          "value": 40,
          "x": 17,
          "y": 39
         },
         {
          "terrain": "mountain",
          "value": 40,
          "x": 18,
          "y": 39
         },
         {
          "terrain": "mountain",
          "value": 51,
          "x": 19,
          "y": 39
         },
         {
          "terrain": "mountain",
          "value": 56,
          "x": 20,
          "y": 39
         },
         {
          "terrain": "mountain",
          "value": 58,
          "x": 21,
          "y": 39
         },
         {
          "terrain": "mountain",
          "value": 57,
          "x": 22,
          "y": 39
         },
         {
          "terrain": "mountain",
          "value": 53,
          "x": 23,
          "y": 39
         },
         {
          "terrain": "mountain",
          "value": 39,
          "x": 24,
          "y": 39
         },
         {
          "terrain": "mountain",
          "value": 33,
          "x": 25,
          "y": 39
         },
         {
          "terrain": "mountain",
          "value": 26,
          "x": 26,
          "y": 39
         },
         {
          "terrain": "land",
          "value": 23,
          "x": 27,
          "y": 39
         },
         {
          "terrain": "land",
          "value": 21,
          "x": 28,
          "y": 39
         },
         {
          "terrain": "land",
          "value": 17,
          "x": 29,
          "y": 39
         },
         {
          "terrain": "land",
          "value": 13,
          "x": 30,
          "y": 39
         },
         {
          "terrain": "land",
          "value": 10,
          "x": 31,
          "y": 39
         },
         {
          "terrain": "land",
          "value": 5,
          "x": 32,
          "y": 39
         },
         {
          "terrain": "land",
          "value": 2,
          "x": 33,
          "y": 39
         },
         {
          "terrain": "ocean",
          "value": -1,
          "x": 34,
          "y": 39
         },
         {
          "terrain": "ocean",
          "value": 0,
          "x": 35,
          "y": 39
         },
         {
          "terrain": "land",
          "value": 2,
          "x": 36,
          "y": 39
         },
         {
          "terrain": "land",
          "value": 2,
          "x": 37,
          "y": 39
         },
         {
          "terrain": "land",
          "value": 2,
          "x": 38,
          "y": 39
         },
         {
          "terrain": "land",
          "value": 3,
          "x": 39,
          "y": 39
         }
        ]
       },
       "encoding": {
        "color": {
         "field": "terrain",
         "scale": {
          "domain": [
           "land",
           "mountain",
           "ocean"
          ],
          "range": [
           "green",
           "brown",
           "blue"
          ]
         },
         "type": "nominal"
        },
        "x": {
         "field": "x",
         "type": "ordinal"
        },
        "y": {
         "field": "y",
         "type": "ordinal"
        }
       },
       "mark": "rect"
      },
      "image/png": "[encoded data removed]",
      "text/plain": [
       "<VegaLite 2 object>\n",
       "\n",
       "If you see this message, it means the renderer has not been properly enabled\n",
       "for the frontend that you are using. For more information, see\n",
       "https://altair-viz.github.io/user_guide/troubleshooting.html\n"
      ]
     },
     "execution_count": 4,
     "metadata": {},
     "output_type": "execute_result"
    }
   ],
   "source": [
    "draw.drawTerrainTypes(geo_world.grid_elevation,geo_world.landscape)"
   ]
  },
  {
   "cell_type": "code",
   "execution_count": 5,
   "metadata": {},
   "outputs": [
    {
     "name": "stdout",
     "output_type": "stream",
     "text": [
      "366 ms ± 1.07 ms per loop (mean ± std. dev. of 7 runs, 1 loop each)\n"
     ]
    }
   ],
   "source": [
    "%%timeit\n",
    "wa = [geo_world.df_features.loc[m].to_dict() for m in geo_world.df_features.index]\n",
    "dim_1 = np.unique(geo_world.df_features['x']) \n",
    "dim_1 = np.unique(geo_world.df_features['y']) "
   ]
  },
  {
   "cell_type": "code",
   "execution_count": 6,
   "metadata": {},
   "outputs": [
    {
     "data": {
      "text/plain": [
       "[{'y': 0,\n",
       "  'rainfall': -1.0,\n",
       "  'x': 0,\n",
       "  'key': '0:0',\n",
       "  'elevation': -1.0,\n",
       "  'terrain': 'ocean'},\n",
       " {'y': 0,\n",
       "  'rainfall': 1.0,\n",
       "  'x': 1,\n",
       "  'key': '1:0',\n",
       "  'elevation': 1.0,\n",
       "  'terrain': 'land'},\n",
       " {'y': 0,\n",
       "  'rainfall': 1.0,\n",
       "  'x': 2,\n",
       "  'key': '2:0',\n",
       "  'elevation': 1.0,\n",
       "  'terrain': 'land'},\n",
       " {'y': 0,\n",
       "  'rainfall': 0.0,\n",
       "  'x': 3,\n",
       "  'key': '3:0',\n",
       "  'elevation': 0.0,\n",
       "  'terrain': 'ocean'},\n",
       " {'y': 0,\n",
       "  'rainfall': -1.0,\n",
       "  'x': 4,\n",
       "  'key': '4:0',\n",
       "  'elevation': -1.0,\n",
       "  'terrain': 'ocean'},\n",
       " {'y': 0,\n",
       "  'rainfall': -1.0,\n",
       "  'x': 5,\n",
       "  'key': '5:0',\n",
       "  'elevation': -1.0,\n",
       "  'terrain': 'ocean'},\n",
       " {'y': 0,\n",
       "  'rainfall': 1.0,\n",
       "  'x': 6,\n",
       "  'key': '6:0',\n",
       "  'elevation': 1.0,\n",
       "  'terrain': 'land'},\n",
       " {'y': 0,\n",
       "  'rainfall': 0.0,\n",
       "  'x': 7,\n",
       "  'key': '7:0',\n",
       "  'elevation': 0.0,\n",
       "  'terrain': 'ocean'},\n",
       " {'y': 0,\n",
       "  'rainfall': 2.0,\n",
       "  'x': 8,\n",
       "  'key': '8:0',\n",
       "  'elevation': 2.0,\n",
       "  'terrain': 'land'},\n",
       " {'y': 0,\n",
       "  'rainfall': -1.0,\n",
       "  'x': 9,\n",
       "  'key': '9:0',\n",
       "  'elevation': -1.0,\n",
       "  'terrain': 'ocean'},\n",
       " {'y': 0,\n",
       "  'rainfall': 2.0,\n",
       "  'x': 10,\n",
       "  'key': '10:0',\n",
       "  'elevation': 0.0,\n",
       "  'terrain': 'ocean'},\n",
       " {'y': 0,\n",
       "  'rainfall': 8.0,\n",
       "  'x': 11,\n",
       "  'key': '11:0',\n",
       "  'elevation': 1.0,\n",
       "  'terrain': 'land'},\n",
       " {'y': 0,\n",
       "  'rainfall': 15.0,\n",
       "  'x': 12,\n",
       "  'key': '12:0',\n",
       "  'elevation': 1.0,\n",
       "  'terrain': 'land'},\n",
       " {'y': 0,\n",
       "  'rainfall': 27.0,\n",
       "  'x': 13,\n",
       "  'key': '13:0',\n",
       "  'elevation': 3.0,\n",
       "  'terrain': 'land'},\n",
       " {'y': 0,\n",
       "  'rainfall': 27.0,\n",
       "  'x': 14,\n",
       "  'key': '14:0',\n",
       "  'elevation': -1.0,\n",
       "  'terrain': 'ocean'},\n",
       " {'y': 0,\n",
       "  'rainfall': 28.0,\n",
       "  'x': 15,\n",
       "  'key': '15:0',\n",
       "  'elevation': -1.0,\n",
       "  'terrain': 'ocean'},\n",
       " {'y': 0,\n",
       "  'rainfall': 31.0,\n",
       "  'x': 16,\n",
       "  'key': '16:0',\n",
       "  'elevation': 0.0,\n",
       "  'terrain': 'ocean'},\n",
       " {'y': 0,\n",
       "  'rainfall': 30.0,\n",
       "  'x': 17,\n",
       "  'key': '17:0',\n",
       "  'elevation': 0.0,\n",
       "  'terrain': 'ocean'},\n",
       " {'y': 0,\n",
       "  'rainfall': 28.0,\n",
       "  'x': 18,\n",
       "  'key': '18:0',\n",
       "  'elevation': -1.0,\n",
       "  'terrain': 'ocean'},\n",
       " {'y': 0,\n",
       "  'rainfall': 26.0,\n",
       "  'x': 19,\n",
       "  'key': '19:0',\n",
       "  'elevation': -1.0,\n",
       "  'terrain': 'ocean'},\n",
       " {'y': 0,\n",
       "  'rainfall': 27.0,\n",
       "  'x': 20,\n",
       "  'key': '20:0',\n",
       "  'elevation': 0.0,\n",
       "  'terrain': 'ocean'},\n",
       " {'y': 0,\n",
       "  'rainfall': 24.0,\n",
       "  'x': 21,\n",
       "  'key': '21:0',\n",
       "  'elevation': 0.0,\n",
       "  'terrain': 'ocean'},\n",
       " {'y': 0,\n",
       "  'rainfall': 22.0,\n",
       "  'x': 22,\n",
       "  'key': '22:0',\n",
       "  'elevation': 0.0,\n",
       "  'terrain': 'ocean'},\n",
       " {'y': 0,\n",
       "  'rainfall': 18.0,\n",
       "  'x': 23,\n",
       "  'key': '23:0',\n",
       "  'elevation': 0.0,\n",
       "  'terrain': 'ocean'},\n",
       " {'y': 0,\n",
       "  'rainfall': 14.0,\n",
       "  'x': 24,\n",
       "  'key': '24:0',\n",
       "  'elevation': 0.0,\n",
       "  'terrain': 'ocean'},\n",
       " {'y': 0,\n",
       "  'rainfall': 11.0,\n",
       "  'x': 25,\n",
       "  'key': '25:0',\n",
       "  'elevation': 2.0,\n",
       "  'terrain': 'land'},\n",
       " {'y': 0,\n",
       "  'rainfall': 4.0,\n",
       "  'x': 26,\n",
       "  'key': '26:0',\n",
       "  'elevation': -2.0,\n",
       "  'terrain': 'ocean'},\n",
       " {'y': 0,\n",
       "  'rainfall': 5.0,\n",
       "  'x': 27,\n",
       "  'key': '27:0',\n",
       "  'elevation': 0.0,\n",
       "  'terrain': 'ocean'},\n",
       " {'y': 0,\n",
       "  'rainfall': 6.0,\n",
       "  'x': 28,\n",
       "  'key': '28:0',\n",
       "  'elevation': 1.0,\n",
       "  'terrain': 'land'},\n",
       " {'y': 0,\n",
       "  'rainfall': 3.0,\n",
       "  'x': 29,\n",
       "  'key': '29:0',\n",
       "  'elevation': -2.0,\n",
       "  'terrain': 'ocean'},\n",
       " {'y': 0,\n",
       "  'rainfall': 3.0,\n",
       "  'x': 30,\n",
       "  'key': '30:0',\n",
       "  'elevation': 0.0,\n",
       "  'terrain': 'ocean'},\n",
       " {'y': 0,\n",
       "  'rainfall': 1.0,\n",
       "  'x': 31,\n",
       "  'key': '31:0',\n",
       "  'elevation': -1.0,\n",
       "  'terrain': 'ocean'},\n",
       " {'y': 0,\n",
       "  'rainfall': 1.0,\n",
       "  'x': 32,\n",
       "  'key': '32:0',\n",
       "  'elevation': 0.0,\n",
       "  'terrain': 'ocean'},\n",
       " {'y': 0,\n",
       "  'rainfall': -1.0,\n",
       "  'x': 33,\n",
       "  'key': '33:0',\n",
       "  'elevation': -1.0,\n",
       "  'terrain': 'ocean'},\n",
       " {'y': 0,\n",
       "  'rainfall': -1.0,\n",
       "  'x': 34,\n",
       "  'key': '34:0',\n",
       "  'elevation': -1.0,\n",
       "  'terrain': 'ocean'},\n",
       " {'y': 0,\n",
       "  'rainfall': -1.0,\n",
       "  'x': 35,\n",
       "  'key': '35:0',\n",
       "  'elevation': -1.0,\n",
       "  'terrain': 'ocean'},\n",
       " {'y': 0,\n",
       "  'rainfall': 1.0,\n",
       "  'x': 36,\n",
       "  'key': '36:0',\n",
       "  'elevation': 1.0,\n",
       "  'terrain': 'land'},\n",
       " {'y': 0,\n",
       "  'rainfall': -1.0,\n",
       "  'x': 37,\n",
       "  'key': '37:0',\n",
       "  'elevation': -1.0,\n",
       "  'terrain': 'ocean'},\n",
       " {'y': 0,\n",
       "  'rainfall': -1.0,\n",
       "  'x': 38,\n",
       "  'key': '38:0',\n",
       "  'elevation': -1.0,\n",
       "  'terrain': 'ocean'},\n",
       " {'y': 0,\n",
       "  'rainfall': 0.0,\n",
       "  'x': 39,\n",
       "  'key': '39:0',\n",
       "  'elevation': 0.0,\n",
       "  'terrain': 'ocean'},\n",
       " {'y': 1,\n",
       "  'rainfall': 1.0,\n",
       "  'x': 0,\n",
       "  'key': '0:1',\n",
       "  'elevation': 1.0,\n",
       "  'terrain': 'land'},\n",
       " {'y': 1,\n",
       "  'rainfall': -1.0,\n",
       "  'x': 1,\n",
       "  'key': '1:1',\n",
       "  'elevation': -1.0,\n",
       "  'terrain': 'ocean'},\n",
       " {'y': 1,\n",
       "  'rainfall': 0.0,\n",
       "  'x': 2,\n",
       "  'key': '2:1',\n",
       "  'elevation': 0.0,\n",
       "  'terrain': 'ocean'},\n",
       " {'y': 1,\n",
       "  'rainfall': 1.0,\n",
       "  'x': 3,\n",
       "  'key': '3:1',\n",
       "  'elevation': 1.0,\n",
       "  'terrain': 'land'},\n",
       " {'y': 1,\n",
       "  'rainfall': 1.0,\n",
       "  'x': 4,\n",
       "  'key': '4:1',\n",
       "  'elevation': 1.0,\n",
       "  'terrain': 'land'},\n",
       " {'y': 1,\n",
       "  'rainfall': -2.0,\n",
       "  'x': 5,\n",
       "  'key': '5:1',\n",
       "  'elevation': -2.0,\n",
       "  'terrain': 'ocean'},\n",
       " {'y': 1,\n",
       "  'rainfall': -2.0,\n",
       "  'x': 6,\n",
       "  'key': '6:1',\n",
       "  'elevation': -2.0,\n",
       "  'terrain': 'ocean'},\n",
       " {'y': 1,\n",
       "  'rainfall': 0.0,\n",
       "  'x': 7,\n",
       "  'key': '7:1',\n",
       "  'elevation': 0.0,\n",
       "  'terrain': 'ocean'},\n",
       " {'y': 1,\n",
       "  'rainfall': 0.0,\n",
       "  'x': 8,\n",
       "  'key': '8:1',\n",
       "  'elevation': 0.0,\n",
       "  'terrain': 'ocean'},\n",
       " {'y': 1,\n",
       "  'rainfall': 0.0,\n",
       "  'x': 9,\n",
       "  'key': '9:1',\n",
       "  'elevation': 0.0,\n",
       "  'terrain': 'ocean'},\n",
       " {'y': 1,\n",
       "  'rainfall': 2.0,\n",
       "  'x': 10,\n",
       "  'key': '10:1',\n",
       "  'elevation': 0.0,\n",
       "  'terrain': 'ocean'},\n",
       " {'y': 1,\n",
       "  'rainfall': 8.0,\n",
       "  'x': 11,\n",
       "  'key': '11:1',\n",
       "  'elevation': 1.0,\n",
       "  'terrain': 'land'},\n",
       " {'y': 1,\n",
       "  'rainfall': 14.0,\n",
       "  'x': 12,\n",
       "  'key': '12:1',\n",
       "  'elevation': 0.0,\n",
       "  'terrain': 'ocean'},\n",
       " {'y': 1,\n",
       "  'rainfall': 26.0,\n",
       "  'x': 13,\n",
       "  'key': '13:1',\n",
       "  'elevation': 1.0,\n",
       "  'terrain': 'land'},\n",
       " {'y': 1,\n",
       "  'rainfall': 38.0,\n",
       "  'x': 14,\n",
       "  'key': '14:1',\n",
       "  'elevation': 1.0,\n",
       "  'terrain': 'land'},\n",
       " {'y': 1,\n",
       "  'rainfall': 36.0,\n",
       "  'x': 15,\n",
       "  'key': '15:1',\n",
       "  'elevation': -1.0,\n",
       "  'terrain': 'ocean'},\n",
       " {'y': 1,\n",
       "  'rainfall': 40.0,\n",
       "  'x': 16,\n",
       "  'key': '16:1',\n",
       "  'elevation': 1.0,\n",
       "  'terrain': 'land'},\n",
       " {'y': 1,\n",
       "  'rainfall': 40.0,\n",
       "  'x': 17,\n",
       "  'key': '17:1',\n",
       "  'elevation': 0.0,\n",
       "  'terrain': 'ocean'},\n",
       " {'y': 1,\n",
       "  'rainfall': 42.0,\n",
       "  'x': 18,\n",
       "  'key': '18:1',\n",
       "  'elevation': 2.0,\n",
       "  'terrain': 'land'},\n",
       " {'y': 1,\n",
       "  'rainfall': 39.0,\n",
       "  'x': 19,\n",
       "  'key': '19:1',\n",
       "  'elevation': 1.0,\n",
       "  'terrain': 'land'},\n",
       " {'y': 1,\n",
       "  'rainfall': 36.0,\n",
       "  'x': 20,\n",
       "  'key': '20:1',\n",
       "  'elevation': -1.0,\n",
       "  'terrain': 'ocean'},\n",
       " {'y': 1,\n",
       "  'rainfall': 35.0,\n",
       "  'x': 21,\n",
       "  'key': '21:1',\n",
       "  'elevation': -1.0,\n",
       "  'terrain': 'ocean'},\n",
       " {'y': 1,\n",
       "  'rainfall': 32.0,\n",
       "  'x': 22,\n",
       "  'key': '22:1',\n",
       "  'elevation': -1.0,\n",
       "  'terrain': 'ocean'},\n",
       " {'y': 1,\n",
       "  'rainfall': 29.0,\n",
       "  'x': 23,\n",
       "  'key': '23:1',\n",
       "  'elevation': 0.0,\n",
       "  'terrain': 'ocean'},\n",
       " {'y': 1,\n",
       "  'rainfall': 18.0,\n",
       "  'x': 24,\n",
       "  'key': '24:1',\n",
       "  'elevation': -2.0,\n",
       "  'terrain': 'ocean'},\n",
       " {'y': 1,\n",
       "  'rainfall': 12.0,\n",
       "  'x': 25,\n",
       "  'key': '25:1',\n",
       "  'elevation': 0.0,\n",
       "  'terrain': 'ocean'},\n",
       " {'y': 1,\n",
       "  'rainfall': 9.0,\n",
       "  'x': 26,\n",
       "  'key': '26:1',\n",
       "  'elevation': 1.0,\n",
       "  'terrain': 'land'},\n",
       " {'y': 1,\n",
       "  'rainfall': 5.0,\n",
       "  'x': 27,\n",
       "  'key': '27:1',\n",
       "  'elevation': -2.0,\n",
       "  'terrain': 'ocean'},\n",
       " {'y': 1,\n",
       "  'rainfall': 7.0,\n",
       "  'x': 28,\n",
       "  'key': '28:1',\n",
       "  'elevation': 0.0,\n",
       "  'terrain': 'ocean'},\n",
       " {'y': 1,\n",
       "  'rainfall': 7.0,\n",
       "  'x': 29,\n",
       "  'key': '29:1',\n",
       "  'elevation': 2.0,\n",
       "  'terrain': 'land'},\n",
       " {'y': 1,\n",
       "  'rainfall': 3.0,\n",
       "  'x': 30,\n",
       "  'key': '30:1',\n",
       "  'elevation': 0.0,\n",
       "  'terrain': 'ocean'},\n",
       " {'y': 1,\n",
       "  'rainfall': 3.0,\n",
       "  'x': 31,\n",
       "  'key': '31:1',\n",
       "  'elevation': 1.0,\n",
       "  'terrain': 'land'},\n",
       " {'y': 1,\n",
       "  'rainfall': 2.0,\n",
       "  'x': 32,\n",
       "  'key': '32:1',\n",
       "  'elevation': 1.0,\n",
       "  'terrain': 'land'},\n",
       " {'y': 1,\n",
       "  'rainfall': 0.0,\n",
       "  'x': 33,\n",
       "  'key': '33:1',\n",
       "  'elevation': 0.0,\n",
       "  'terrain': 'ocean'},\n",
       " {'y': 1,\n",
       "  'rainfall': -1.0,\n",
       "  'x': 34,\n",
       "  'key': '34:1',\n",
       "  'elevation': -1.0,\n",
       "  'terrain': 'ocean'},\n",
       " {'y': 1,\n",
       "  'rainfall': 2.0,\n",
       "  'x': 35,\n",
       "  'key': '35:1',\n",
       "  'elevation': 2.0,\n",
       "  'terrain': 'land'},\n",
       " {'y': 1,\n",
       "  'rainfall': 1.0,\n",
       "  'x': 36,\n",
       "  'key': '36:1',\n",
       "  'elevation': 1.0,\n",
       "  'terrain': 'land'},\n",
       " {'y': 1,\n",
       "  'rainfall': 1.0,\n",
       "  'x': 37,\n",
       "  'key': '37:1',\n",
       "  'elevation': 1.0,\n",
       "  'terrain': 'land'},\n",
       " {'y': 1,\n",
       "  'rainfall': 0.0,\n",
       "  'x': 38,\n",
       "  'key': '38:1',\n",
       "  'elevation': 0.0,\n",
       "  'terrain': 'ocean'},\n",
       " {'y': 1,\n",
       "  'rainfall': 1.0,\n",
       "  'x': 39,\n",
       "  'key': '39:1',\n",
       "  'elevation': 1.0,\n",
       "  'terrain': 'land'},\n",
       " {'y': 2,\n",
       "  'rainfall': -1.0,\n",
       "  'x': 0,\n",
       "  'key': '0:2',\n",
       "  'elevation': -1.0,\n",
       "  'terrain': 'ocean'},\n",
       " {'y': 2,\n",
       "  'rainfall': -1.0,\n",
       "  'x': 1,\n",
       "  'key': '1:2',\n",
       "  'elevation': -1.0,\n",
       "  'terrain': 'ocean'},\n",
       " {'y': 2,\n",
       "  'rainfall': 1.0,\n",
       "  'x': 2,\n",
       "  'key': '2:2',\n",
       "  'elevation': 1.0,\n",
       "  'terrain': 'land'},\n",
       " {'y': 2,\n",
       "  'rainfall': 0.0,\n",
       "  'x': 3,\n",
       "  'key': '3:2',\n",
       "  'elevation': 0.0,\n",
       "  'terrain': 'ocean'},\n",
       " {'y': 2,\n",
       "  'rainfall': 1.0,\n",
       "  'x': 4,\n",
       "  'key': '4:2',\n",
       "  'elevation': 1.0,\n",
       "  'terrain': 'land'},\n",
       " {'y': 2,\n",
       "  'rainfall': 0.0,\n",
       "  'x': 5,\n",
       "  'key': '5:2',\n",
       "  'elevation': 0.0,\n",
       "  'terrain': 'ocean'},\n",
       " {'y': 2,\n",
       "  'rainfall': 1.0,\n",
       "  'x': 6,\n",
       "  'key': '6:2',\n",
       "  'elevation': 1.0,\n",
       "  'terrain': 'land'},\n",
       " {'y': 2,\n",
       "  'rainfall': -1.0,\n",
       "  'x': 7,\n",
       "  'key': '7:2',\n",
       "  'elevation': -1.0,\n",
       "  'terrain': 'ocean'},\n",
       " {'y': 2,\n",
       "  'rainfall': 0.0,\n",
       "  'x': 8,\n",
       "  'key': '8:2',\n",
       "  'elevation': -1.0,\n",
       "  'terrain': 'ocean'},\n",
       " {'y': 2,\n",
       "  'rainfall': 3.0,\n",
       "  'x': 9,\n",
       "  'key': '9:2',\n",
       "  'elevation': 2.0,\n",
       "  'terrain': 'land'},\n",
       " {'y': 2,\n",
       "  'rainfall': 1.0,\n",
       "  'x': 10,\n",
       "  'key': '10:2',\n",
       "  'elevation': -2.0,\n",
       "  'terrain': 'ocean'},\n",
       " {'y': 2,\n",
       "  'rainfall': 7.0,\n",
       "  'x': 11,\n",
       "  'key': '11:2',\n",
       "  'elevation': -1.0,\n",
       "  'terrain': 'ocean'},\n",
       " {'y': 2,\n",
       "  'rainfall': 16.0,\n",
       "  'x': 12,\n",
       "  'key': '12:2',\n",
       "  'elevation': 1.0,\n",
       "  'terrain': 'land'},\n",
       " {'y': 2,\n",
       "  'rainfall': 25.0,\n",
       "  'x': 13,\n",
       "  'key': '13:2',\n",
       "  'elevation': -2.0,\n",
       "  'terrain': 'ocean'},\n",
       " {'y': 2,\n",
       "  'rainfall': 35.0,\n",
       "  'x': 14,\n",
       "  'key': '14:2',\n",
       "  'elevation': -1.0,\n",
       "  'terrain': 'ocean'},\n",
       " {'y': 2,\n",
       "  'rainfall': 43.0,\n",
       "  'x': 15,\n",
       "  'key': '15:2',\n",
       "  'elevation': -1.0,\n",
       "  'terrain': 'ocean'},\n",
       " {'y': 2,\n",
       "  'rainfall': 48.0,\n",
       "  'x': 16,\n",
       "  'key': '16:2',\n",
       "  'elevation': -1.0,\n",
       "  'terrain': 'ocean'},\n",
       " {'y': 2,\n",
       "  'rainfall': 49.0,\n",
       "  'x': 17,\n",
       "  'key': '17:2',\n",
       "  'elevation': 0.0,\n",
       "  'terrain': 'ocean'},\n",
       " {'y': 2,\n",
       "  'rainfall': 51.0,\n",
       "  'x': 18,\n",
       "  'key': '18:2',\n",
       "  'elevation': 0.0,\n",
       "  'terrain': 'ocean'},\n",
       " {'y': 2,\n",
       "  'rainfall': 48.0,\n",
       "  'x': 19,\n",
       "  'key': '19:2',\n",
       "  'elevation': 0.0,\n",
       "  'terrain': 'ocean'},\n",
       " {'y': 2,\n",
       "  'rainfall': 46.0,\n",
       "  'x': 20,\n",
       "  'key': '20:2',\n",
       "  'elevation': 0.0,\n",
       "  'terrain': 'ocean'},\n",
       " {'y': 2,\n",
       "  'rainfall': 46.0,\n",
       "  'x': 21,\n",
       "  'key': '21:2',\n",
       "  'elevation': 0.0,\n",
       "  'terrain': 'ocean'},\n",
       " {'y': 2,\n",
       "  'rainfall': 43.0,\n",
       "  'x': 22,\n",
       "  'key': '22:2',\n",
       "  'elevation': 1.0,\n",
       "  'terrain': 'land'},\n",
       " {'y': 2,\n",
       "  'rainfall': 34.0,\n",
       "  'x': 23,\n",
       "  'key': '23:2',\n",
       "  'elevation': 0.0,\n",
       "  'terrain': 'ocean'},\n",
       " {'y': 2,\n",
       "  'rainfall': 26.0,\n",
       "  'x': 24,\n",
       "  'key': '24:2',\n",
       "  'elevation': 1.0,\n",
       "  'terrain': 'land'},\n",
       " {'y': 2,\n",
       "  'rainfall': 15.0,\n",
       "  'x': 25,\n",
       "  'key': '25:2',\n",
       "  'elevation': -1.0,\n",
       "  'terrain': 'ocean'},\n",
       " {'y': 2,\n",
       "  'rainfall': 10.0,\n",
       "  'x': 26,\n",
       "  'key': '26:2',\n",
       "  'elevation': 0.0,\n",
       "  'terrain': 'ocean'},\n",
       " {'y': 2,\n",
       "  'rainfall': 10.0,\n",
       "  'x': 27,\n",
       "  'key': '27:2',\n",
       "  'elevation': 1.0,\n",
       "  'terrain': 'land'},\n",
       " {'y': 2,\n",
       "  'rainfall': 7.0,\n",
       "  'x': 28,\n",
       "  'key': '28:2',\n",
       "  'elevation': 0.0,\n",
       "  'terrain': 'ocean'},\n",
       " {'y': 2,\n",
       "  'rainfall': 5.0,\n",
       "  'x': 29,\n",
       "  'key': '29:2',\n",
       "  'elevation': 0.0,\n",
       "  'terrain': 'ocean'},\n",
       " {'y': 2,\n",
       "  'rainfall': 3.0,\n",
       "  'x': 30,\n",
       "  'key': '30:2',\n",
       "  'elevation': 0.0,\n",
       "  'terrain': 'ocean'},\n",
       " {'y': 2,\n",
       "  'rainfall': 3.0,\n",
       "  'x': 31,\n",
       "  'key': '31:2',\n",
       "  'elevation': 1.0,\n",
       "  'terrain': 'land'},\n",
       " {'y': 2,\n",
       "  'rainfall': -1.0,\n",
       "  'x': 32,\n",
       "  'key': '32:2',\n",
       "  'elevation': -2.0,\n",
       "  'terrain': 'ocean'},\n",
       " {'y': 2,\n",
       "  'rainfall': 0.0,\n",
       "  'x': 33,\n",
       "  'key': '33:2',\n",
       "  'elevation': 0.0,\n",
       "  'terrain': 'ocean'},\n",
       " {'y': 2,\n",
       "  'rainfall': 0.0,\n",
       "  'x': 34,\n",
       "  'key': '34:2',\n",
       "  'elevation': 0.0,\n",
       "  'terrain': 'ocean'},\n",
       " {'y': 2,\n",
       "  'rainfall': 0.0,\n",
       "  'x': 35,\n",
       "  'key': '35:2',\n",
       "  'elevation': 0.0,\n",
       "  'terrain': 'ocean'},\n",
       " {'y': 2,\n",
       "  'rainfall': 0.0,\n",
       "  'x': 36,\n",
       "  'key': '36:2',\n",
       "  'elevation': 0.0,\n",
       "  'terrain': 'ocean'},\n",
       " {'y': 2,\n",
       "  'rainfall': -1.0,\n",
       "  'x': 37,\n",
       "  'key': '37:2',\n",
       "  'elevation': -1.0,\n",
       "  'terrain': 'ocean'},\n",
       " {'y': 2,\n",
       "  'rainfall': 2.0,\n",
       "  'x': 38,\n",
       "  'key': '38:2',\n",
       "  'elevation': 2.0,\n",
       "  'terrain': 'land'},\n",
       " {'y': 2,\n",
       "  'rainfall': 2.0,\n",
       "  'x': 39,\n",
       "  'key': '39:2',\n",
       "  'elevation': 2.0,\n",
       "  'terrain': 'land'},\n",
       " {'y': 3,\n",
       "  'rainfall': 0.0,\n",
       "  'x': 0,\n",
       "  'key': '0:3',\n",
       "  'elevation': 0.0,\n",
       "  'terrain': 'ocean'},\n",
       " {'y': 3,\n",
       "  'rainfall': 0.0,\n",
       "  'x': 1,\n",
       "  'key': '1:3',\n",
       "  'elevation': 0.0,\n",
       "  'terrain': 'ocean'},\n",
       " {'y': 3,\n",
       "  'rainfall': 1.0,\n",
       "  'x': 2,\n",
       "  'key': '2:3',\n",
       "  'elevation': 1.0,\n",
       "  'terrain': 'land'},\n",
       " {'y': 3,\n",
       "  'rainfall': 0.0,\n",
       "  'x': 3,\n",
       "  'key': '3:3',\n",
       "  'elevation': 0.0,\n",
       "  'terrain': 'ocean'},\n",
       " {'y': 3,\n",
       "  'rainfall': 0.0,\n",
       "  'x': 4,\n",
       "  'key': '4:3',\n",
       "  'elevation': 0.0,\n",
       "  'terrain': 'ocean'},\n",
       " {'y': 3,\n",
       "  'rainfall': 0.0,\n",
       "  'x': 5,\n",
       "  'key': '5:3',\n",
       "  'elevation': 0.0,\n",
       "  'terrain': 'ocean'},\n",
       " {'y': 3,\n",
       "  'rainfall': 1.0,\n",
       "  'x': 6,\n",
       "  'key': '6:3',\n",
       "  'elevation': 1.0,\n",
       "  'terrain': 'land'},\n",
       " {'y': 3,\n",
       "  'rainfall': 0.0,\n",
       "  'x': 7,\n",
       "  'key': '7:3',\n",
       "  'elevation': 0.0,\n",
       "  'terrain': 'ocean'},\n",
       " {'y': 3,\n",
       "  'rainfall': 1.0,\n",
       "  'x': 8,\n",
       "  'key': '8:3',\n",
       "  'elevation': 0.0,\n",
       "  'terrain': 'ocean'},\n",
       " {'y': 3,\n",
       "  'rainfall': 2.0,\n",
       "  'x': 9,\n",
       "  'key': '9:3',\n",
       "  'elevation': -1.0,\n",
       "  'terrain': 'ocean'},\n",
       " {'y': 3,\n",
       "  'rainfall': 5.0,\n",
       "  'x': 10,\n",
       "  'key': '10:3',\n",
       "  'elevation': 0.0,\n",
       "  'terrain': 'ocean'},\n",
       " {'y': 3,\n",
       "  'rainfall': 10.0,\n",
       "  'x': 11,\n",
       "  'key': '11:3',\n",
       "  'elevation': 0.0,\n",
       "  'terrain': 'ocean'},\n",
       " {'y': 3,\n",
       "  'rainfall': 17.0,\n",
       "  'x': 12,\n",
       "  'key': '12:3',\n",
       "  'elevation': 0.0,\n",
       "  'terrain': 'ocean'},\n",
       " {'y': 3,\n",
       "  'rainfall': 27.0,\n",
       "  'x': 13,\n",
       "  'key': '13:3',\n",
       "  'elevation': 0.0,\n",
       "  'terrain': 'ocean'},\n",
       " {'y': 3,\n",
       "  'rainfall': 36.0,\n",
       "  'x': 14,\n",
       "  'key': '14:3',\n",
       "  'elevation': 0.0,\n",
       "  'terrain': 'ocean'},\n",
       " {'y': 3,\n",
       "  'rainfall': 45.0,\n",
       "  'x': 15,\n",
       "  'key': '15:3',\n",
       "  'elevation': 0.0,\n",
       "  'terrain': 'ocean'},\n",
       " {'y': 3,\n",
       "  'rainfall': 54.0,\n",
       "  'x': 16,\n",
       "  'key': '16:3',\n",
       "  'elevation': 0.0,\n",
       "  'terrain': 'ocean'},\n",
       " {'y': 3,\n",
       "  'rainfall': 54.0,\n",
       "  'x': 17,\n",
       "  'key': '17:3',\n",
       "  'elevation': -1.0,\n",
       "  'terrain': 'ocean'},\n",
       " {'y': 3,\n",
       "  'rainfall': 57.0,\n",
       "  'x': 18,\n",
       "  'key': '18:3',\n",
       "  'elevation': 0.0,\n",
       "  'terrain': 'ocean'},\n",
       " {'y': 3,\n",
       "  'rainfall': 54.0,\n",
       "  'x': 19,\n",
       "  'key': '19:3',\n",
       "  'elevation': 0.0,\n",
       "  'terrain': 'ocean'},\n",
       " {'y': 3,\n",
       "  'rainfall': 53.0,\n",
       "  'x': 20,\n",
       "  'key': '20:3',\n",
       "  'elevation': 0.0,\n",
       "  'terrain': 'ocean'},\n",
       " {'y': 3,\n",
       "  'rainfall': 54.0,\n",
       "  'x': 21,\n",
       "  'key': '21:3',\n",
       "  'elevation': -1.0,\n",
       "  'terrain': 'ocean'},\n",
       " {'y': 3,\n",
       "  'rainfall': 49.0,\n",
       "  'x': 22,\n",
       "  'key': '22:3',\n",
       "  'elevation': 1.0,\n",
       "  'terrain': 'land'},\n",
       " {'y': 3,\n",
       "  'rainfall': 39.0,\n",
       "  'x': 23,\n",
       "  'key': '23:3',\n",
       "  'elevation': 0.0,\n",
       "  'terrain': 'ocean'},\n",
       " {'y': 3,\n",
       "  'rainfall': 30.0,\n",
       "  'x': 24,\n",
       "  'key': '24:3',\n",
       "  'elevation': 1.0,\n",
       "  'terrain': 'land'},\n",
       " {'y': 3,\n",
       "  'rainfall': 18.0,\n",
       "  'x': 25,\n",
       "  'key': '25:3',\n",
       "  'elevation': -1.0,\n",
       "  'terrain': 'ocean'},\n",
       " {'y': 3,\n",
       "  'rainfall': 14.0,\n",
       "  'x': 26,\n",
       "  'key': '26:3',\n",
       "  'elevation': 1.0,\n",
       "  'terrain': 'land'},\n",
       " {'y': 3,\n",
       "  'rainfall': 10.0,\n",
       "  'x': 27,\n",
       "  'key': '27:3',\n",
       "  'elevation': 1.0,\n",
       "  'terrain': 'land'},\n",
       " {'y': 3,\n",
       "  'rainfall': 8.0,\n",
       "  'x': 28,\n",
       "  'key': '28:3',\n",
       "  'elevation': 1.0,\n",
       "  'terrain': 'land'},\n",
       " {'y': 3,\n",
       "  'rainfall': 6.0,\n",
       "  'x': 29,\n",
       "  'key': '29:3',\n",
       "  'elevation': 1.0,\n",
       "  'terrain': 'land'},\n",
       " {'y': 3,\n",
       "  'rainfall': 2.0,\n",
       "  'x': 30,\n",
       "  'key': '30:3',\n",
       "  'elevation': -1.0,\n",
       "  'terrain': 'ocean'},\n",
       " {'y': 3,\n",
       "  'rainfall': 0.0,\n",
       "  'x': 31,\n",
       "  'key': '31:3',\n",
       "  'elevation': -2.0,\n",
       "  'terrain': 'ocean'},\n",
       " {'y': 3,\n",
       "  'rainfall': 2.0,\n",
       "  'x': 32,\n",
       "  'key': '32:3',\n",
       "  'elevation': 1.0,\n",
       "  'terrain': 'land'},\n",
       " {'y': 3,\n",
       "  'rainfall': 0.0,\n",
       "  'x': 33,\n",
       "  'key': '33:3',\n",
       "  'elevation': 0.0,\n",
       "  'terrain': 'ocean'},\n",
       " {'y': 3,\n",
       "  'rainfall': 0.0,\n",
       "  'x': 34,\n",
       "  'key': '34:3',\n",
       "  'elevation': 0.0,\n",
       "  'terrain': 'ocean'},\n",
       " {'y': 3,\n",
       "  'rainfall': 0.0,\n",
       "  'x': 35,\n",
       "  'key': '35:3',\n",
       "  'elevation': 0.0,\n",
       "  'terrain': 'ocean'},\n",
       " {'y': 3,\n",
       "  'rainfall': 0.0,\n",
       "  'x': 36,\n",
       "  'key': '36:3',\n",
       "  'elevation': 0.0,\n",
       "  'terrain': 'ocean'},\n",
       " {'y': 3,\n",
       "  'rainfall': -1.0,\n",
       "  'x': 37,\n",
       "  'key': '37:3',\n",
       "  'elevation': -1.0,\n",
       "  'terrain': 'ocean'},\n",
       " {'y': 3,\n",
       "  'rainfall': 1.0,\n",
       "  'x': 38,\n",
       "  'key': '38:3',\n",
       "  'elevation': 1.0,\n",
       "  'terrain': 'land'},\n",
       " {'y': 3,\n",
       "  'rainfall': 0.0,\n",
       "  'x': 39,\n",
       "  'key': '39:3',\n",
       "  'elevation': 0.0,\n",
       "  'terrain': 'ocean'},\n",
       " {'y': 4,\n",
       "  'rainfall': 0.0,\n",
       "  'x': 0,\n",
       "  'key': '0:4',\n",
       "  'elevation': 0.0,\n",
       "  'terrain': 'ocean'},\n",
       " {'y': 4,\n",
       "  'rainfall': 0.0,\n",
       "  'x': 1,\n",
       "  'key': '1:4',\n",
       "  'elevation': 0.0,\n",
       "  'terrain': 'ocean'},\n",
       " {'y': 4,\n",
       "  'rainfall': 1.0,\n",
       "  'x': 2,\n",
       "  'key': '2:4',\n",
       "  'elevation': 1.0,\n",
       "  'terrain': 'land'},\n",
       " {'y': 4,\n",
       "  'rainfall': 0.0,\n",
       "  'x': 3,\n",
       "  'key': '3:4',\n",
       "  'elevation': 0.0,\n",
       "  'terrain': 'ocean'},\n",
       " {'y': 4,\n",
       "  'rainfall': -1.0,\n",
       "  'x': 4,\n",
       "  'key': '4:4',\n",
       "  'elevation': -1.0,\n",
       "  'terrain': 'ocean'},\n",
       " {'y': 4,\n",
       "  'rainfall': 1.0,\n",
       "  'x': 5,\n",
       "  'key': '5:4',\n",
       "  'elevation': 1.0,\n",
       "  'terrain': 'land'},\n",
       " {'y': 4,\n",
       "  'rainfall': 0.0,\n",
       "  'x': 6,\n",
       "  'key': '6:4',\n",
       "  'elevation': 0.0,\n",
       "  'terrain': 'ocean'},\n",
       " {'y': 4,\n",
       "  'rainfall': 1.0,\n",
       "  'x': 7,\n",
       "  'key': '7:4',\n",
       "  'elevation': 1.0,\n",
       "  'terrain': 'land'},\n",
       " {'y': 4,\n",
       "  'rainfall': 1.0,\n",
       "  'x': 8,\n",
       "  'key': '8:4',\n",
       "  'elevation': 0.0,\n",
       "  'terrain': 'ocean'},\n",
       " {'y': 4,\n",
       "  'rainfall': 1.0,\n",
       "  'x': 9,\n",
       "  'key': '9:4',\n",
       "  'elevation': -2.0,\n",
       "  'terrain': 'ocean'},\n",
       " {'y': 4,\n",
       "  'rainfall': 11.0,\n",
       "  'x': 10,\n",
       "  'key': '10:4',\n",
       "  'elevation': 1.0,\n",
       "  'terrain': 'land'},\n",
       " {'y': 4,\n",
       "  'rainfall': 16.0,\n",
       "  'x': 11,\n",
       "  'key': '11:4',\n",
       "  'elevation': 1.0,\n",
       "  'terrain': 'land'},\n",
       " {'y': 4,\n",
       "  'rainfall': 20.0,\n",
       "  'x': 12,\n",
       "  'key': '12:4',\n",
       "  'elevation': 0.0,\n",
       "  'terrain': 'ocean'},\n",
       " {'y': 4,\n",
       "  'rainfall': 30.0,\n",
       "  'x': 13,\n",
       "  'key': '13:4',\n",
       "  'elevation': 1.0,\n",
       "  'terrain': 'land'},\n",
       " {'y': 4,\n",
       "  'rainfall': 38.0,\n",
       "  'x': 14,\n",
       "  'key': '14:4',\n",
       "  'elevation': 0.0,\n",
       "  'terrain': 'ocean'},\n",
       " {'y': 4,\n",
       "  'rainfall': 43.0,\n",
       "  'x': 15,\n",
       "  'key': '15:4',\n",
       "  'elevation': 0.0,\n",
       "  'terrain': 'ocean'},\n",
       " {'y': 4,\n",
       "  'rainfall': 50.0,\n",
       "  'x': 16,\n",
       "  'key': '16:4',\n",
       "  'elevation': -1.0,\n",
       "  'terrain': 'ocean'},\n",
       " {'y': 4,\n",
       "  'rainfall': 56.0,\n",
       "  'x': 17,\n",
       "  'key': '17:4',\n",
       "  'elevation': -1.0,\n",
       "  'terrain': 'ocean'},\n",
       " {'y': 4,\n",
       "  'rainfall': 54.0,\n",
       "  'x': 18,\n",
       "  'key': '18:4',\n",
       "  'elevation': -1.0,\n",
       "  'terrain': 'ocean'},\n",
       " {'y': 4,\n",
       "  'rainfall': 58.0,\n",
       "  'x': 19,\n",
       "  'key': '19:4',\n",
       "  'elevation': 0.0,\n",
       "  'terrain': 'ocean'},\n",
       " {'y': 4,\n",
       "  'rainfall': 59.0,\n",
       "  'x': 20,\n",
       "  'key': '20:4',\n",
       "  'elevation': 0.0,\n",
       "  'terrain': 'ocean'},\n",
       " {'y': 4,\n",
       "  'rainfall': 56.0,\n",
       "  'x': 21,\n",
       "  'key': '21:4',\n",
       "  'elevation': 0.0,\n",
       "  'terrain': 'ocean'},\n",
       " {'y': 4,\n",
       "  'rainfall': 52.0,\n",
       "  'x': 22,\n",
       "  'key': '22:4',\n",
       "  'elevation': 1.0,\n",
       "  'terrain': 'land'},\n",
       " {'y': 4,\n",
       "  'rainfall': 47.0,\n",
       "  'x': 23,\n",
       "  'key': '23:4',\n",
       "  'elevation': 2.0,\n",
       "  'terrain': 'land'},\n",
       " {'y': 4,\n",
       "  'rainfall': 35.0,\n",
       "  'x': 24,\n",
       "  'key': '24:4',\n",
       "  'elevation': 1.0,\n",
       "  'terrain': 'land'},\n",
       " {'y': 4,\n",
       "  'rainfall': 24.0,\n",
       "  'x': 25,\n",
       "  'key': '25:4',\n",
       "  'elevation': 0.0,\n",
       "  'terrain': 'ocean'},\n",
       " {'y': 4,\n",
       "  'rainfall': 14.0,\n",
       "  'x': 26,\n",
       "  'key': '26:4',\n",
       "  'elevation': -1.0,\n",
       "  'terrain': 'ocean'},\n",
       " {'y': 4,\n",
       "  'rainfall': 9.0,\n",
       "  'x': 27,\n",
       "  'key': '27:4',\n",
       "  'elevation': -1.0,\n",
       "  'terrain': 'ocean'},\n",
       " {'y': 4,\n",
       "  'rainfall': 7.0,\n",
       "  'x': 28,\n",
       "  'key': '28:4',\n",
       "  'elevation': 0.0,\n",
       "  'terrain': 'ocean'},\n",
       " {'y': 4,\n",
       "  'rainfall': 3.0,\n",
       "  'x': 29,\n",
       "  'key': '29:4',\n",
       "  'elevation': -2.0,\n",
       "  'terrain': 'ocean'},\n",
       " {'y': 4,\n",
       "  'rainfall': 1.0,\n",
       "  'x': 30,\n",
       "  'key': '30:4',\n",
       "  'elevation': -2.0,\n",
       "  'terrain': 'ocean'},\n",
       " {'y': 4,\n",
       "  'rainfall': 3.0,\n",
       "  'x': 31,\n",
       "  'key': '31:4',\n",
       "  'elevation': 1.0,\n",
       "  'terrain': 'land'},\n",
       " {'y': 4,\n",
       "  'rainfall': 2.0,\n",
       "  'x': 32,\n",
       "  'key': '32:4',\n",
       "  'elevation': 1.0,\n",
       "  'terrain': 'land'},\n",
       " {'y': 4,\n",
       "  'rainfall': -1.0,\n",
       "  'x': 33,\n",
       "  'key': '33:4',\n",
       "  'elevation': -1.0,\n",
       "  'terrain': 'ocean'},\n",
       " {'y': 4,\n",
       "  'rainfall': -1.0,\n",
       "  'x': 34,\n",
       "  'key': '34:4',\n",
       "  'elevation': -1.0,\n",
       "  'terrain': 'ocean'},\n",
       " {'y': 4,\n",
       "  'rainfall': -1.0,\n",
       "  'x': 35,\n",
       "  'key': '35:4',\n",
       "  'elevation': -1.0,\n",
       "  'terrain': 'ocean'},\n",
       " {'y': 4,\n",
       "  'rainfall': 0.0,\n",
       "  'x': 36,\n",
       "  'key': '36:4',\n",
       "  'elevation': 0.0,\n",
       "  'terrain': 'ocean'},\n",
       " {'y': 4,\n",
       "  'rainfall': -1.0,\n",
       "  'x': 37,\n",
       "  'key': '37:4',\n",
       "  'elevation': -1.0,\n",
       "  'terrain': 'ocean'},\n",
       " {'y': 4,\n",
       "  'rainfall': 0.0,\n",
       "  'x': 38,\n",
       "  'key': '38:4',\n",
       "  'elevation': 0.0,\n",
       "  'terrain': 'ocean'},\n",
       " {'y': 4,\n",
       "  'rainfall': 2.0,\n",
       "  'x': 39,\n",
       "  'key': '39:4',\n",
       "  'elevation': 2.0,\n",
       "  'terrain': 'land'},\n",
       " {'y': 5,\n",
       "  'rainfall': -1.0,\n",
       "  'x': 0,\n",
       "  'key': '0:5',\n",
       "  'elevation': -2.0,\n",
       "  'terrain': 'ocean'},\n",
       " {'y': 5,\n",
       "  'rainfall': 1.0,\n",
       "  'x': 1,\n",
       "  'key': '1:5',\n",
       "  'elevation': 0.0,\n",
       "  'terrain': 'ocean'},\n",
       " {'y': 5,\n",
       "  'rainfall': 0.0,\n",
       "  'x': 2,\n",
       "  'key': '2:5',\n",
       "  'elevation': -1.0,\n",
       "  'terrain': 'ocean'},\n",
       " {'y': 5,\n",
       "  'rainfall': 0.0,\n",
       "  'x': 3,\n",
       "  'key': '3:5',\n",
       "  'elevation': -1.0,\n",
       "  'terrain': 'ocean'},\n",
       " {'y': 5,\n",
       "  'rainfall': 2.0,\n",
       "  'x': 4,\n",
       "  'key': '4:5',\n",
       "  'elevation': 1.0,\n",
       "  'terrain': 'land'},\n",
       " {'y': 5,\n",
       "  'rainfall': 2.0,\n",
       "  'x': 5,\n",
       "  'key': '5:5',\n",
       "  'elevation': 1.0,\n",
       "  'terrain': 'land'},\n",
       " {'y': 5,\n",
       "  'rainfall': -1.0,\n",
       "  'x': 6,\n",
       "  'key': '6:5',\n",
       "  'elevation': -2.0,\n",
       "  'terrain': 'ocean'},\n",
       " {'y': 5,\n",
       "  'rainfall': 1.0,\n",
       "  'x': 7,\n",
       "  'key': '7:5',\n",
       "  'elevation': 0.0,\n",
       "  'terrain': 'ocean'},\n",
       " {'y': 5,\n",
       "  'rainfall': 3.0,\n",
       "  'x': 8,\n",
       "  'key': '8:5',\n",
       "  'elevation': 1.0,\n",
       "  'terrain': 'land'},\n",
       " {'y': 5,\n",
       "  'rainfall': 5.0,\n",
       "  'x': 9,\n",
       "  'key': '9:5',\n",
       "  'elevation': 1.0,\n",
       "  'terrain': 'land'},\n",
       " {'y': 5,\n",
       "  'rainfall': 10.0,\n",
       "  'x': 10,\n",
       "  'key': '10:5',\n",
       "  'elevation': -2.0,\n",
       "  'terrain': 'ocean'},\n",
       " {'y': 5,\n",
       "  'rainfall': 19.0,\n",
       "  'x': 11,\n",
       "  'key': '11:5',\n",
       "  'elevation': -1.0,\n",
       "  'terrain': 'ocean'},\n",
       " {'y': 5,\n",
       "  'rainfall': 23.0,\n",
       "  'x': 12,\n",
       "  'key': '12:5',\n",
       "  'elevation': -1.0,\n",
       "  'terrain': 'ocean'},\n",
       " {'y': 5,\n",
       "  'rainfall': 33.0,\n",
       "  'x': 13,\n",
       "  'key': '13:5',\n",
       "  'elevation': 0.0,\n",
       "  'terrain': 'ocean'},\n",
       " {'y': 5,\n",
       "  'rainfall': 38.0,\n",
       "  'x': 14,\n",
       "  'key': '14:5',\n",
       "  'elevation': 0.0,\n",
       "  'terrain': 'ocean'},\n",
       " {'y': 5,\n",
       "  'rainfall': 40.0,\n",
       "  'x': 15,\n",
       "  'key': '15:5',\n",
       "  'elevation': 1.0,\n",
       "  'terrain': 'land'},\n",
       " {'y': 5,\n",
       "  'rainfall': 43.0,\n",
       "  'x': 16,\n",
       "  'key': '16:5',\n",
       "  'elevation': -2.0,\n",
       "  'terrain': 'ocean'},\n",
       " {'y': 5,\n",
       "  'rainfall': 46.0,\n",
       "  'x': 17,\n",
       "  'key': '17:5',\n",
       "  'elevation': -1.0,\n",
       "  'terrain': 'ocean'},\n",
       " {'y': 5,\n",
       "  'rainfall': 57.0,\n",
       "  'x': 18,\n",
       "  'key': '18:5',\n",
       "  'elevation': 2.0,\n",
       "  'terrain': 'land'},\n",
       " {'y': 5,\n",
       "  'rainfall': 59.0,\n",
       "  'x': 19,\n",
       "  'key': '19:5',\n",
       "  'elevation': 1.0,\n",
       "  'terrain': 'land'},\n",
       " {'y': 5,\n",
       "  'rainfall': 59.0,\n",
       "  'x': 20,\n",
       "  'key': '20:5',\n",
       "  'elevation': -1.0,\n",
       "  'terrain': 'ocean'},\n",
       " {'y': 5,\n",
       "  'rainfall': 60.0,\n",
       "  'x': 21,\n",
       "  'key': '21:5',\n",
       "  'elevation': -1.0,\n",
       "  'terrain': 'ocean'},\n",
       " {'y': 5,\n",
       "  'rainfall': 54.0,\n",
       "  'x': 22,\n",
       "  'key': '22:5',\n",
       "  'elevation': 0.0,\n",
       "  'terrain': 'ocean'},\n",
       " {'y': 5,\n",
       "  'rainfall': 47.0,\n",
       "  'x': 23,\n",
       "  'key': '23:5',\n",
       "  'elevation': 1.0,\n",
       "  'terrain': 'land'},\n",
       " {'y': 5,\n",
       "  'rainfall': 40.0,\n",
       "  'x': 24,\n",
       "  'key': '24:5',\n",
       "  'elevation': 1.0,\n",
       "  'terrain': 'land'},\n",
       " {'y': 5,\n",
       "  'rainfall': 27.0,\n",
       "  'x': 25,\n",
       "  'key': '25:5',\n",
       "  'elevation': 1.0,\n",
       "  'terrain': 'land'},\n",
       " {'y': 5,\n",
       "  'rainfall': 18.0,\n",
       "  'x': 26,\n",
       "  'key': '26:5',\n",
       "  'elevation': 1.0,\n",
       "  'terrain': 'land'},\n",
       " {'y': 5,\n",
       "  'rainfall': 13.0,\n",
       "  'x': 27,\n",
       "  'key': '27:5',\n",
       "  'elevation': 2.0,\n",
       "  'terrain': 'land'},\n",
       " {'y': 5,\n",
       "  'rainfall': 9.0,\n",
       "  'x': 28,\n",
       "  'key': '28:5',\n",
       "  'elevation': 1.0,\n",
       "  'terrain': 'land'},\n",
       " {'y': 5,\n",
       "  'rainfall': 6.0,\n",
       "  'x': 29,\n",
       "  'key': '29:5',\n",
       "  'elevation': 0.0,\n",
       "  'terrain': 'ocean'},\n",
       " {'y': 5,\n",
       "  'rainfall': 3.0,\n",
       "  'x': 30,\n",
       "  'key': '30:5',\n",
       "  'elevation': -1.0,\n",
       "  'terrain': 'ocean'},\n",
       " {'y': 5,\n",
       "  'rainfall': 2.0,\n",
       "  'x': 31,\n",
       "  'key': '31:5',\n",
       "  'elevation': 0.0,\n",
       "  'terrain': 'ocean'},\n",
       " {'y': 5,\n",
       "  'rainfall': 0.0,\n",
       "  'x': 32,\n",
       "  'key': '32:5',\n",
       "  'elevation': -1.0,\n",
       "  'terrain': 'ocean'},\n",
       " {'y': 5,\n",
       "  'rainfall': 0.0,\n",
       "  'x': 33,\n",
       "  'key': '33:5',\n",
       "  'elevation': 0.0,\n",
       "  'terrain': 'ocean'},\n",
       " {'y': 5,\n",
       "  'rainfall': 2.0,\n",
       "  'x': 34,\n",
       "  'key': '34:5',\n",
       "  'elevation': 2.0,\n",
       "  'terrain': 'land'},\n",
       " {'y': 5,\n",
       "  'rainfall': 0.0,\n",
       "  'x': 35,\n",
       "  'key': '35:5',\n",
       "  'elevation': 0.0,\n",
       "  'terrain': 'ocean'},\n",
       " {'y': 5,\n",
       "  'rainfall': 1.0,\n",
       "  'x': 36,\n",
       "  'key': '36:5',\n",
       "  'elevation': 1.0,\n",
       "  'terrain': 'land'},\n",
       " {'y': 5,\n",
       "  'rainfall': 1.0,\n",
       "  'x': 37,\n",
       "  'key': '37:5',\n",
       "  'elevation': 1.0,\n",
       "  'terrain': 'land'},\n",
       " {'y': 5,\n",
       "  'rainfall': 1.0,\n",
       "  'x': 38,\n",
       "  'key': '38:5',\n",
       "  'elevation': 1.0,\n",
       "  'terrain': 'land'},\n",
       " {'y': 5,\n",
       "  'rainfall': 0.0,\n",
       "  'x': 39,\n",
       "  'key': '39:5',\n",
       "  'elevation': 0.0,\n",
       "  'terrain': 'ocean'},\n",
       " {'y': 6,\n",
       "  'rainfall': 2.0,\n",
       "  'x': 0,\n",
       "  'key': '0:6',\n",
       "  'elevation': 0.0,\n",
       "  'terrain': 'ocean'},\n",
       " {'y': 6,\n",
       "  'rainfall': 2.0,\n",
       "  'x': 1,\n",
       "  'key': '1:6',\n",
       "  'elevation': 0.0,\n",
       "  'terrain': 'ocean'},\n",
       " {'y': 6,\n",
       "  'rainfall': 2.0,\n",
       "  'x': 2,\n",
       "  'key': '2:6',\n",
       "  'elevation': 0.0,\n",
       "  'terrain': 'ocean'},\n",
       " {'y': 6,\n",
       "  'rainfall': 2.0,\n",
       "  'x': 3,\n",
       "  'key': '3:6',\n",
       "  'elevation': 0.0,\n",
       "  'terrain': 'ocean'},\n",
       " {'y': 6,\n",
       "  'rainfall': 3.0,\n",
       "  'x': 4,\n",
       "  'key': '4:6',\n",
       "  'elevation': 1.0,\n",
       "  'terrain': 'land'},\n",
       " {'y': 6,\n",
       "  'rainfall': 3.0,\n",
       "  'x': 5,\n",
       "  'key': '5:6',\n",
       "  'elevation': 1.0,\n",
       "  'terrain': 'land'},\n",
       " {'y': 6,\n",
       "  'rainfall': 1.0,\n",
       "  'x': 6,\n",
       "  'key': '6:6',\n",
       "  'elevation': -1.0,\n",
       "  'terrain': 'ocean'},\n",
       " {'y': 6,\n",
       "  'rainfall': 2.0,\n",
       "  'x': 7,\n",
       "  'key': '7:6',\n",
       "  'elevation': 0.0,\n",
       "  'terrain': 'ocean'},\n",
       " {'y': 6,\n",
       "  'rainfall': 4.0,\n",
       "  'x': 8,\n",
       "  'key': '8:6',\n",
       "  'elevation': 0.0,\n",
       "  'terrain': 'ocean'},\n",
       " {'y': 6,\n",
       "  'rainfall': 6.0,\n",
       "  'x': 9,\n",
       "  'key': '9:6',\n",
       "  'elevation': 0.0,\n",
       "  'terrain': 'ocean'},\n",
       " {'y': 6,\n",
       "  'rainfall': 11.0,\n",
       "  'x': 10,\n",
       "  'key': '10:6',\n",
       "  'elevation': -1.0,\n",
       "  'terrain': 'ocean'},\n",
       " {'y': 6,\n",
       "  'rainfall': 21.0,\n",
       "  'x': 11,\n",
       "  'key': '11:6',\n",
       "  'elevation': 1.0,\n",
       "  'terrain': 'land'},\n",
       " {'y': 6,\n",
       "  'rainfall': 29.0,\n",
       "  'x': 12,\n",
       "  'key': '12:6',\n",
       "  'elevation': 1.0,\n",
       "  'terrain': 'land'},\n",
       " {'y': 6,\n",
       "  'rainfall': 30.0,\n",
       "  'x': 13,\n",
       "  'key': '13:6',\n",
       "  'elevation': -1.0,\n",
       "  'terrain': 'ocean'},\n",
       " {'y': 6,\n",
       "  'rainfall': 32.0,\n",
       "  'x': 14,\n",
       "  'key': '14:6',\n",
       "  'elevation': 0.0,\n",
       "  'terrain': 'ocean'},\n",
       " {'y': 6,\n",
       "  'rainfall': 33.0,\n",
       "  'x': 15,\n",
       "  'key': '15:6',\n",
       "  'elevation': 0.0,\n",
       "  'terrain': 'ocean'},\n",
       " {'y': 6,\n",
       "  'rainfall': 38.0,\n",
       "  'x': 16,\n",
       "  'key': '16:6',\n",
       "  'elevation': 2.0,\n",
       "  'terrain': 'land'},\n",
       " {'y': 6,\n",
       "  'rainfall': 41.0,\n",
       "  'x': 17,\n",
       "  'key': '17:6',\n",
       "  'elevation': 0.0,\n",
       "  'terrain': 'ocean'},\n",
       " {'y': 6,\n",
       "  'rainfall': 47.0,\n",
       "  'x': 18,\n",
       "  'key': '18:6',\n",
       "  'elevation': -1.0,\n",
       "  'terrain': 'ocean'},\n",
       " {'y': 6,\n",
       "  'rainfall': 57.0,\n",
       "  'x': 19,\n",
       "  'key': '19:6',\n",
       "  'elevation': 1.0,\n",
       "  'terrain': 'land'},\n",
       " {'y': 6,\n",
       "  'rainfall': 59.0,\n",
       "  'x': 20,\n",
       "  'key': '20:6',\n",
       "  'elevation': 1.0,\n",
       "  'terrain': 'land'},\n",
       " {'y': 6,\n",
       "  'rainfall': 61.0,\n",
       "  'x': 21,\n",
       "  'key': '21:6',\n",
       "  'elevation': 0.0,\n",
       "  'terrain': 'ocean'},\n",
       " {'y': 6,\n",
       "  'rainfall': 57.0,\n",
       "  'x': 22,\n",
       "  'key': '22:6',\n",
       "  'elevation': 0.0,\n",
       "  'terrain': 'ocean'},\n",
       " {'y': 6,\n",
       "  'rainfall': 50.0,\n",
       "  'x': 23,\n",
       "  'key': '23:6',\n",
       "  'elevation': 0.0,\n",
       "  'terrain': 'ocean'},\n",
       " {'y': 6,\n",
       "  'rainfall': 38.0,\n",
       "  'x': 24,\n",
       "  'key': '24:6',\n",
       "  'elevation': -1.0,\n",
       "  'terrain': 'ocean'},\n",
       " {'y': 6,\n",
       "  'rainfall': 30.0,\n",
       "  'x': 25,\n",
       "  'key': '25:6',\n",
       "  'elevation': 1.0,\n",
       "  'terrain': 'land'},\n",
       " {'y': 6,\n",
       "  'rainfall': 18.0,\n",
       "  'x': 26,\n",
       "  'key': '26:6',\n",
       "  'elevation': -1.0,\n",
       "  'terrain': 'ocean'},\n",
       " {'y': 6,\n",
       "  'rainfall': 13.0,\n",
       "  'x': 27,\n",
       "  'key': '27:6',\n",
       "  'elevation': -1.0,\n",
       "  'terrain': 'ocean'},\n",
       " {'y': 6,\n",
       "  'rainfall': 10.0,\n",
       "  'x': 28,\n",
       "  'key': '28:6',\n",
       "  'elevation': 0.0,\n",
       "  'terrain': 'ocean'},\n",
       " {'y': 6,\n",
       "  'rainfall': 8.0,\n",
       "  'x': 29,\n",
       "  'key': '29:6',\n",
       "  'elevation': 1.0,\n",
       "  'terrain': 'land'},\n",
       " {'y': 6,\n",
       "  'rainfall': 4.0,\n",
       "  'x': 30,\n",
       "  'key': '30:6',\n",
       "  'elevation': 0.0,\n",
       "  'terrain': 'ocean'},\n",
       " {'y': 6,\n",
       "  'rainfall': 1.0,\n",
       "  'x': 31,\n",
       "  'key': '31:6',\n",
       "  'elevation': -1.0,\n",
       "  'terrain': 'ocean'},\n",
       " {'y': 6,\n",
       "  'rainfall': 3.0,\n",
       "  'x': 32,\n",
       "  'key': '32:6',\n",
       "  'elevation': 2.0,\n",
       "  'terrain': 'land'},\n",
       " {'y': 6,\n",
       "  'rainfall': 0.0,\n",
       "  'x': 33,\n",
       "  'key': '33:6',\n",
       "  'elevation': 0.0,\n",
       "  'terrain': 'ocean'},\n",
       " {'y': 6,\n",
       "  'rainfall': 0.0,\n",
       "  'x': 34,\n",
       "  'key': '34:6',\n",
       "  'elevation': 0.0,\n",
       "  'terrain': 'ocean'},\n",
       " {'y': 6,\n",
       "  'rainfall': 1.0,\n",
       "  'x': 35,\n",
       "  'key': '35:6',\n",
       "  'elevation': 1.0,\n",
       "  'terrain': 'land'},\n",
       " {'y': 6,\n",
       "  'rainfall': 1.0,\n",
       "  'x': 36,\n",
       "  'key': '36:6',\n",
       "  'elevation': 1.0,\n",
       "  'terrain': 'land'},\n",
       " {'y': 6,\n",
       "  'rainfall': -2.0,\n",
       "  'x': 37,\n",
       "  'key': '37:6',\n",
       "  'elevation': -2.0,\n",
       "  'terrain': 'ocean'},\n",
       " {'y': 6,\n",
       "  'rainfall': 1.0,\n",
       "  'x': 38,\n",
       "  'key': '38:6',\n",
       "  'elevation': 1.0,\n",
       "  'terrain': 'land'},\n",
       " {'y': 6,\n",
       "  'rainfall': -2.0,\n",
       "  'x': 39,\n",
       "  'key': '39:6',\n",
       "  'elevation': -2.0,\n",
       "  'terrain': 'ocean'},\n",
       " {'y': 7,\n",
       "  'rainfall': 3.0,\n",
       "  'x': 0,\n",
       "  'key': '0:7',\n",
       "  'elevation': 0.0,\n",
       "  'terrain': 'ocean'},\n",
       " {'y': 7,\n",
       "  'rainfall': 4.0,\n",
       "  'x': 1,\n",
       "  'key': '1:7',\n",
       "  'elevation': 1.0,\n",
       "  'terrain': 'land'},\n",
       " {'y': 7,\n",
       "  'rainfall': 4.0,\n",
       "  'x': 2,\n",
       "  'key': '2:7',\n",
       "  'elevation': 1.0,\n",
       "  'terrain': 'land'},\n",
       " {'y': 7,\n",
       "  'rainfall': 4.0,\n",
       "  'x': 3,\n",
       "  'key': '3:7',\n",
       "  'elevation': 1.0,\n",
       "  'terrain': 'land'},\n",
       " {'y': 7,\n",
       "  'rainfall': 4.0,\n",
       "  'x': 4,\n",
       "  'key': '4:7',\n",
       "  'elevation': 1.0,\n",
       "  'terrain': 'land'},\n",
       " {'y': 7,\n",
       "  'rainfall': 3.0,\n",
       "  'x': 5,\n",
       "  'key': '5:7',\n",
       "  'elevation': 0.0,\n",
       "  'terrain': 'ocean'},\n",
       " {'y': 7,\n",
       "  'rainfall': 2.0,\n",
       "  'x': 6,\n",
       "  'key': '6:7',\n",
       "  'elevation': -1.0,\n",
       "  'terrain': 'ocean'},\n",
       " {'y': 7,\n",
       "  'rainfall': 3.0,\n",
       "  'x': 7,\n",
       "  'key': '7:7',\n",
       "  'elevation': 0.0,\n",
       "  'terrain': 'ocean'},\n",
       " {'y': 7,\n",
       "  'rainfall': 7.0,\n",
       "  'x': 8,\n",
       "  'key': '8:7',\n",
       "  'elevation': 2.0,\n",
       "  'terrain': 'land'},\n",
       " {'y': 7,\n",
       "  'rainfall': 7.0,\n",
       "  'x': 9,\n",
       "  'key': '9:7',\n",
       "  'elevation': -1.0,\n",
       "  'terrain': 'ocean'},\n",
       " {'y': 7,\n",
       "  'rainfall': 14.0,\n",
       "  'x': 10,\n",
       "  'key': '10:7',\n",
       "  'elevation': 0.0,\n",
       "  'terrain': 'ocean'},\n",
       " {'y': 7,\n",
       "  'rainfall': 21.0,\n",
       "  'x': 11,\n",
       "  'key': '11:7',\n",
       "  'elevation': 0.0,\n",
       "  'terrain': 'ocean'},\n",
       " {'y': 7,\n",
       "  'rainfall': 25.0,\n",
       "  'x': 12,\n",
       "  'key': '12:7',\n",
       "  'elevation': 0.0,\n",
       "  'terrain': 'ocean'},\n",
       " {'y': 7,\n",
       "  'rainfall': 31.0,\n",
       "  'x': 13,\n",
       "  'key': '13:7',\n",
       "  'elevation': 0.0,\n",
       "  'terrain': 'ocean'},\n",
       " {'y': 7,\n",
       "  'rainfall': 28.0,\n",
       "  'x': 14,\n",
       "  'key': '14:7',\n",
       "  'elevation': -1.0,\n",
       "  'terrain': 'ocean'},\n",
       " {'y': 7,\n",
       "  'rainfall': 25.0,\n",
       "  'x': 15,\n",
       "  'key': '15:7',\n",
       "  'elevation': -1.0,\n",
       "  'terrain': 'ocean'},\n",
       " {'y': 7,\n",
       "  'rainfall': 30.0,\n",
       "  'x': 16,\n",
       "  'key': '16:7',\n",
       "  'elevation': 0.0,\n",
       "  'terrain': 'ocean'},\n",
       " {'y': 7,\n",
       "  'rainfall': 33.0,\n",
       "  'x': 17,\n",
       "  'key': '17:7',\n",
       "  'elevation': -1.0,\n",
       "  'terrain': 'ocean'},\n",
       " {'y': 7,\n",
       "  'rainfall': 41.0,\n",
       "  'x': 18,\n",
       "  'key': '18:7',\n",
       "  'elevation': 1.0,\n",
       "  'terrain': 'land'},\n",
       " {'y': 7,\n",
       "  'rainfall': 49.0,\n",
       "  'x': 19,\n",
       "  'key': '19:7',\n",
       "  'elevation': 0.0,\n",
       "  'terrain': 'ocean'},\n",
       " {'y': 7,\n",
       "  'rainfall': 53.0,\n",
       "  'x': 20,\n",
       "  'key': '20:7',\n",
       "  'elevation': -2.0,\n",
       "  'terrain': 'ocean'},\n",
       " {'y': 7,\n",
       "  'rainfall': 57.0,\n",
       "  'x': 21,\n",
       "  'key': '21:7',\n",
       "  'elevation': 0.0,\n",
       "  'terrain': 'ocean'},\n",
       " {'y': 7,\n",
       "  'rainfall': 60.0,\n",
       "  'x': 22,\n",
       "  'key': '22:7',\n",
       "  'elevation': 1.0,\n",
       "  'terrain': 'land'},\n",
       " {'y': 7,\n",
       "  'rainfall': 51.0,\n",
       "  'x': 23,\n",
       "  'key': '23:7',\n",
       "  'elevation': -1.0,\n",
       "  'terrain': 'ocean'},\n",
       " {'y': 7,\n",
       "  'rainfall': 39.0,\n",
       "  'x': 24,\n",
       "  'key': '24:7',\n",
       "  'elevation': -1.0,\n",
       "  'terrain': 'ocean'},\n",
       " {'y': 7,\n",
       "  'rainfall': 30.0,\n",
       "  'x': 25,\n",
       "  'key': '25:7',\n",
       "  'elevation': 1.0,\n",
       "  'terrain': 'land'},\n",
       " {'y': 7,\n",
       "  'rainfall': 22.0,\n",
       "  'x': 26,\n",
       "  'key': '26:7',\n",
       "  'elevation': -1.0,\n",
       "  'terrain': 'ocean'},\n",
       " {'y': 7,\n",
       "  'rainfall': 16.0,\n",
       "  'x': 27,\n",
       "  'key': '27:7',\n",
       "  'elevation': 0.0,\n",
       "  'terrain': 'ocean'},\n",
       " {'y': 7,\n",
       "  'rainfall': 12.0,\n",
       "  'x': 28,\n",
       "  'key': '28:7',\n",
       "  'elevation': 0.0,\n",
       "  'terrain': 'ocean'},\n",
       " {'y': 7,\n",
       "  'rainfall': 8.0,\n",
       "  'x': 29,\n",
       "  'key': '29:7',\n",
       "  'elevation': 0.0,\n",
       "  'terrain': 'ocean'},\n",
       " {'y': 7,\n",
       "  'rainfall': 4.0,\n",
       "  'x': 30,\n",
       "  'key': '30:7',\n",
       "  'elevation': 0.0,\n",
       "  'terrain': 'ocean'},\n",
       " {'y': 7,\n",
       "  'rainfall': 1.0,\n",
       "  'x': 31,\n",
       "  'key': '31:7',\n",
       "  'elevation': -1.0,\n",
       "  'terrain': 'ocean'},\n",
       " {'y': 7,\n",
       "  'rainfall': 0.0,\n",
       "  'x': 32,\n",
       "  'key': '32:7',\n",
       "  'elevation': -1.0,\n",
       "  'terrain': 'ocean'},\n",
       " {'y': 7,\n",
       "  'rainfall': 1.0,\n",
       "  'x': 33,\n",
       "  'key': '33:7',\n",
       "  'elevation': 1.0,\n",
       "  'terrain': 'land'},\n",
       " {'y': 7,\n",
       "  'rainfall': 1.0,\n",
       "  'x': 34,\n",
       "  'key': '34:7',\n",
       "  'elevation': 1.0,\n",
       "  'terrain': 'land'},\n",
       " {'y': 7,\n",
       "  'rainfall': 1.0,\n",
       "  'x': 35,\n",
       "  'key': '35:7',\n",
       "  'elevation': 1.0,\n",
       "  'terrain': 'land'},\n",
       " {'y': 7,\n",
       "  'rainfall': 0.0,\n",
       "  'x': 36,\n",
       "  'key': '36:7',\n",
       "  'elevation': 0.0,\n",
       "  'terrain': 'ocean'},\n",
       " {'y': 7,\n",
       "  'rainfall': 1.0,\n",
       "  'x': 37,\n",
       "  'key': '37:7',\n",
       "  'elevation': 1.0,\n",
       "  'terrain': 'land'},\n",
       " {'y': 7,\n",
       "  'rainfall': 0.0,\n",
       "  'x': 38,\n",
       "  'key': '38:7',\n",
       "  'elevation': 0.0,\n",
       "  'terrain': 'ocean'},\n",
       " {'y': 7,\n",
       "  'rainfall': -1.0,\n",
       "  'x': 39,\n",
       "  'key': '39:7',\n",
       "  'elevation': -1.0,\n",
       "  'terrain': 'ocean'},\n",
       " {'y': 8,\n",
       "  'rainfall': 4.0,\n",
       "  'x': 0,\n",
       "  'key': '0:8',\n",
       "  'elevation': 0.0,\n",
       "  'terrain': 'ocean'},\n",
       " {'y': 8,\n",
       "  'rainfall': 4.0,\n",
       "  'x': 1,\n",
       "  'key': '1:8',\n",
       "  'elevation': 0.0,\n",
       "  'terrain': 'ocean'},\n",
       " {'y': 8,\n",
       "  'rainfall': 5.0,\n",
       "  'x': 2,\n",
       "  'key': '2:8',\n",
       "  'elevation': 1.0,\n",
       "  'terrain': 'land'},\n",
       " {'y': 8,\n",
       "  'rainfall': 2.0,\n",
       "  'x': 3,\n",
       "  'key': '3:8',\n",
       "  'elevation': -2.0,\n",
       "  'terrain': 'ocean'},\n",
       " {'y': 8,\n",
       "  'rainfall': 4.0,\n",
       "  'x': 4,\n",
       "  'key': '4:8',\n",
       "  'elevation': 0.0,\n",
       "  'terrain': 'ocean'},\n",
       " {'y': 8,\n",
       "  'rainfall': 5.0,\n",
       "  'x': 5,\n",
       "  'key': '5:8',\n",
       "  'elevation': 1.0,\n",
       "  'terrain': 'land'},\n",
       " {'y': 8,\n",
       "  'rainfall': 5.0,\n",
       "  'x': 6,\n",
       "  'key': '6:8',\n",
       "  'elevation': 1.0,\n",
       "  'terrain': 'land'},\n",
       " {'y': 8,\n",
       "  'rainfall': 3.0,\n",
       "  'x': 7,\n",
       "  'key': '7:8',\n",
       "  'elevation': -1.0,\n",
       "  'terrain': 'ocean'},\n",
       " {'y': 8,\n",
       "  'rainfall': 6.0,\n",
       "  'x': 8,\n",
       "  'key': '8:8',\n",
       "  'elevation': 0.0,\n",
       "  'terrain': 'ocean'},\n",
       " {'y': 8,\n",
       "  'rainfall': 9.0,\n",
       "  'x': 9,\n",
       "  'key': '9:8',\n",
       "  'elevation': 0.0,\n",
       "  'terrain': 'ocean'},\n",
       " {'y': 8,\n",
       "  'rainfall': 19.0,\n",
       "  'x': 10,\n",
       "  'key': '10:8',\n",
       "  'elevation': 2.0,\n",
       "  'terrain': 'land'},\n",
       " {'y': 8,\n",
       "  'rainfall': 19.0,\n",
       "  'x': 11,\n",
       "  'key': '11:8',\n",
       "  'elevation': 0.0,\n",
       "  'terrain': 'ocean'},\n",
       " {'y': 8,\n",
       "  'rainfall': 22.0,\n",
       "  'x': 12,\n",
       "  'key': '12:8',\n",
       "  'elevation': 1.0,\n",
       "  'terrain': 'land'},\n",
       " {'y': 8,\n",
       "  'rainfall': 25.0,\n",
       "  'x': 13,\n",
       "  'key': '13:8',\n",
       "  'elevation': 0.0,\n",
       "  'terrain': 'ocean'},\n",
       " {'y': 8,\n",
       "  'rainfall': 26.0,\n",
       "  'x': 14,\n",
       "  'key': '14:8',\n",
       "  'elevation': 1.0,\n",
       "  'terrain': 'land'},\n",
       " {'y': 8,\n",
       "  'rainfall': 23.0,\n",
       "  'x': 15,\n",
       "  'key': '15:8',\n",
       "  'elevation': 1.0,\n",
       "  'terrain': 'land'},\n",
       " {'y': 8,\n",
       "  'rainfall': 23.0,\n",
       "  'x': 16,\n",
       "  'key': '16:8',\n",
       "  'elevation': -1.0,\n",
       "  'terrain': 'ocean'},\n",
       " {'y': 8,\n",
       "  'rainfall': 28.0,\n",
       "  'x': 17,\n",
       "  'key': '17:8',\n",
       "  'elevation': 0.0,\n",
       "  'terrain': 'ocean'},\n",
       " {'y': 8,\n",
       "  'rainfall': 34.0,\n",
       "  'x': 18,\n",
       "  'key': '18:8',\n",
       "  'elevation': 0.0,\n",
       "  'terrain': 'ocean'},\n",
       " {'y': 8,\n",
       "  'rainfall': 40.0,\n",
       "  'x': 19,\n",
       "  'key': '19:8',\n",
       "  'elevation': -1.0,\n",
       "  'terrain': 'ocean'},\n",
       " {'y': 8,\n",
       "  'rainfall': 47.0,\n",
       "  'x': 20,\n",
       "  'key': '20:8',\n",
       "  'elevation': 0.0,\n",
       "  'terrain': 'ocean'},\n",
       " {'y': 8,\n",
       "  'rainfall': 51.0,\n",
       "  'x': 21,\n",
       "  'key': '21:8',\n",
       "  'elevation': -2.0,\n",
       "  'terrain': 'ocean'},\n",
       " {'y': 8,\n",
       "  'rainfall': 54.0,\n",
       "  'x': 22,\n",
       "  'key': '22:8',\n",
       "  'elevation': 1.0,\n",
       "  'terrain': 'land'},\n",
       " {'y': 8,\n",
       "  'rainfall': 51.0,\n",
       "  'x': 23,\n",
       "  'key': '23:8',\n",
       "  'elevation': 1.0,\n",
       "  'terrain': 'land'},\n",
       " {'y': 8,\n",
       "  'rainfall': 40.0,\n",
       "  'x': 24,\n",
       "  'key': '24:8',\n",
       "  'elevation': 0.0,\n",
       "  'terrain': 'ocean'},\n",
       " {'y': 8,\n",
       "  'rainfall': 30.0,\n",
       "  'x': 25,\n",
       "  'key': '25:8',\n",
       "  'elevation': 0.0,\n",
       "  'terrain': 'ocean'},\n",
       " {'y': 8,\n",
       "  'rainfall': 22.0,\n",
       "  'x': 26,\n",
       "  'key': '26:8',\n",
       "  'elevation': 0.0,\n",
       "  'terrain': 'ocean'},\n",
       " {'y': 8,\n",
       "  'rainfall': 19.0,\n",
       "  'x': 27,\n",
       "  'key': '27:8',\n",
       "  'elevation': 2.0,\n",
       "  'terrain': 'land'},\n",
       " {'y': 8,\n",
       "  'rainfall': 12.0,\n",
       "  'x': 28,\n",
       "  'key': '28:8',\n",
       "  'elevation': 0.0,\n",
       "  'terrain': 'ocean'},\n",
       " {'y': 8,\n",
       "  'rainfall': 10.0,\n",
       "  'x': 29,\n",
       "  'key': '29:8',\n",
       "  'elevation': 2.0,\n",
       "  'terrain': 'land'},\n",
       " {'y': 8,\n",
       "  'rainfall': 4.0,\n",
       "  'x': 30,\n",
       "  'key': '30:8',\n",
       "  'elevation': 0.0,\n",
       "  'terrain': 'ocean'},\n",
       " {'y': 8,\n",
       "  'rainfall': 2.0,\n",
       "  'x': 31,\n",
       "  'key': '31:8',\n",
       "  'elevation': 0.0,\n",
       "  'terrain': 'ocean'},\n",
       " {'y': 8,\n",
       "  'rainfall': 1.0,\n",
       "  'x': 32,\n",
       "  'key': '32:8',\n",
       "  'elevation': 0.0,\n",
       "  'terrain': 'ocean'},\n",
       " {'y': 8,\n",
       "  'rainfall': 1.0,\n",
       "  'x': 33,\n",
       "  'key': '33:8',\n",
       "  'elevation': 1.0,\n",
       "  'terrain': 'land'},\n",
       " {'y': 8,\n",
       "  'rainfall': 1.0,\n",
       "  'x': 34,\n",
       "  'key': '34:8',\n",
       "  'elevation': 1.0,\n",
       "  'terrain': 'land'},\n",
       " {'y': 8,\n",
       "  'rainfall': 1.0,\n",
       "  'x': 35,\n",
       "  'key': '35:8',\n",
       "  'elevation': 1.0,\n",
       "  'terrain': 'land'},\n",
       " {'y': 8,\n",
       "  'rainfall': -2.0,\n",
       "  'x': 36,\n",
       "  'key': '36:8',\n",
       "  'elevation': -2.0,\n",
       "  'terrain': 'ocean'},\n",
       " {'y': 8,\n",
       "  'rainfall': 0.0,\n",
       "  'x': 37,\n",
       "  'key': '37:8',\n",
       "  'elevation': 0.0,\n",
       "  'terrain': 'ocean'},\n",
       " {'y': 8,\n",
       "  'rainfall': 0.0,\n",
       "  'x': 38,\n",
       "  'key': '38:8',\n",
       "  'elevation': 0.0,\n",
       "  'terrain': 'ocean'},\n",
       " {'y': 8,\n",
       "  'rainfall': 1.0,\n",
       "  'x': 39,\n",
       "  'key': '39:8',\n",
       "  'elevation': 1.0,\n",
       "  'terrain': 'land'},\n",
       " {'y': 9,\n",
       "  'rainfall': 5.0,\n",
       "  'x': 0,\n",
       "  'key': '0:9',\n",
       "  'elevation': 0.0,\n",
       "  'terrain': 'ocean'},\n",
       " {'y': 9,\n",
       "  'rainfall': 3.0,\n",
       "  'x': 1,\n",
       "  'key': '1:9',\n",
       "  'elevation': -2.0,\n",
       "  'terrain': 'ocean'},\n",
       " {'y': 9,\n",
       "  'rainfall': 6.0,\n",
       "  'x': 2,\n",
       "  'key': '2:9',\n",
       "  'elevation': 1.0,\n",
       "  'terrain': 'land'},\n",
       " {'y': 9,\n",
       "  'rainfall': 4.0,\n",
       "  'x': 3,\n",
       "  'key': '3:9',\n",
       "  'elevation': -1.0,\n",
       "  'terrain': 'ocean'},\n",
       " {'y': 9,\n",
       "  'rainfall': 5.0,\n",
       "  'x': 4,\n",
       "  'key': '4:9',\n",
       "  'elevation': 0.0,\n",
       "  'terrain': 'ocean'},\n",
       " {'y': 9,\n",
       "  'rainfall': 6.0,\n",
       "  'x': 5,\n",
       "  'key': '5:9',\n",
       "  'elevation': 1.0,\n",
       "  'terrain': 'land'},\n",
       " {'y': 9,\n",
       "  'rainfall': 7.0,\n",
       "  'x': 6,\n",
       "  'key': '6:9',\n",
       "  'elevation': 2.0,\n",
       "  'terrain': 'land'},\n",
       " {'y': 9,\n",
       "  'rainfall': 6.0,\n",
       "  'x': 7,\n",
       "  'key': '7:9',\n",
       "  'elevation': 1.0,\n",
       "  'terrain': 'land'},\n",
       " {'y': 9,\n",
       "  'rainfall': 7.0,\n",
       "  'x': 8,\n",
       "  'key': '8:9',\n",
       "  'elevation': 0.0,\n",
       "  'terrain': 'ocean'},\n",
       " {'y': 9,\n",
       "  'rainfall': 9.0,\n",
       "  'x': 9,\n",
       "  'key': '9:9',\n",
       "  'elevation': -1.0,\n",
       "  'terrain': 'ocean'},\n",
       " {'y': 9,\n",
       "  'rainfall': 14.0,\n",
       "  'x': 10,\n",
       "  'key': '10:9',\n",
       "  'elevation': 0.0,\n",
       "  'terrain': 'ocean'},\n",
       " {'y': 9,\n",
       "  'rainfall': 17.0,\n",
       "  'x': 11,\n",
       "  'key': '11:9',\n",
       "  'elevation': 0.0,\n",
       "  'terrain': 'ocean'},\n",
       " {'y': 9,\n",
       "  'rainfall': 17.0,\n",
       "  'x': 12,\n",
       "  'key': '12:9',\n",
       "  'elevation': -1.0,\n",
       "  'terrain': 'ocean'},\n",
       " {'y': 9,\n",
       "  'rainfall': 20.0,\n",
       "  'x': 13,\n",
       "  'key': '13:9',\n",
       "  'elevation': 1.0,\n",
       "  'terrain': 'land'},\n",
       " {'y': 9,\n",
       "  'rainfall': 19.0,\n",
       "  'x': 14,\n",
       "  'key': '14:9',\n",
       "  'elevation': -1.0,\n",
       "  'terrain': 'ocean'},\n",
       " {'y': 9,\n",
       "  'rainfall': 20.0,\n",
       "  'x': 15,\n",
       "  'key': '15:9',\n",
       "  'elevation': 0.0,\n",
       "  'terrain': 'ocean'},\n",
       " {'y': 9,\n",
       "  'rainfall': 24.0,\n",
       "  'x': 16,\n",
       "  'key': '16:9',\n",
       "  'elevation': 3.0,\n",
       "  'terrain': 'land'},\n",
       " {'y': 9,\n",
       "  'rainfall': 24.0,\n",
       "  'x': 17,\n",
       "  'key': '17:9',\n",
       "  'elevation': 0.0,\n",
       "  'terrain': 'ocean'},\n",
       " {'y': 9,\n",
       "  'rainfall': 29.0,\n",
       "  'x': 18,\n",
       "  'key': '18:9',\n",
       "  'elevation': 0.0,\n",
       "  'terrain': 'ocean'},\n",
       " {'y': 9,\n",
       "  'rainfall': 33.0,\n",
       "  'x': 19,\n",
       "  'key': '19:9',\n",
       "  'elevation': -2.0,\n",
       "  'terrain': 'ocean'},\n",
       " {'y': 9,\n",
       "  'rainfall': 41.0,\n",
       "  'x': 20,\n",
       "  'key': '20:9',\n",
       "  'elevation': 0.0,\n",
       "  'terrain': 'ocean'},\n",
       " {'y': 9,\n",
       "  'rainfall': 46.0,\n",
       "  'x': 21,\n",
       "  'key': '21:9',\n",
       "  'elevation': 1.0,\n",
       "  'terrain': 'land'},\n",
       " {'y': 9,\n",
       "  'rainfall': 46.0,\n",
       "  'x': 22,\n",
       "  'key': '22:9',\n",
       "  'elevation': 1.0,\n",
       "  'terrain': 'land'},\n",
       " {'y': 9,\n",
       "  'rainfall': 43.0,\n",
       "  'x': 23,\n",
       "  'key': '23:9',\n",
       "  'elevation': 0.0,\n",
       "  'terrain': 'ocean'},\n",
       " {'y': 9,\n",
       "  'rainfall': 40.0,\n",
       "  'x': 24,\n",
       "  'key': '24:9',\n",
       "  'elevation': 0.0,\n",
       "  'terrain': 'ocean'},\n",
       " {'y': 9,\n",
       "  'rainfall': 29.0,\n",
       "  'x': 25,\n",
       "  'key': '25:9',\n",
       "  'elevation': -1.0,\n",
       "  'terrain': 'ocean'},\n",
       " {'y': 9,\n",
       "  'rainfall': 21.0,\n",
       "  'x': 26,\n",
       "  'key': '26:9',\n",
       "  'elevation': -1.0,\n",
       "  'terrain': 'ocean'},\n",
       " {'y': 9,\n",
       "  'rainfall': 14.0,\n",
       "  'x': 27,\n",
       "  'key': '27:9',\n",
       "  'elevation': -2.0,\n",
       "  'terrain': 'ocean'},\n",
       " {'y': 9,\n",
       "  'rainfall': 12.0,\n",
       "  'x': 28,\n",
       "  'key': '28:9',\n",
       "  'elevation': 1.0,\n",
       "  'terrain': 'land'},\n",
       " {'y': 9,\n",
       "  'rainfall': 7.0,\n",
       "  'x': 29,\n",
       "  'key': '29:9',\n",
       "  'elevation': 0.0,\n",
       "  'terrain': 'ocean'},\n",
       " {'y': 9,\n",
       "  'rainfall': 2.0,\n",
       "  'x': 30,\n",
       "  'key': '30:9',\n",
       "  'elevation': -2.0,\n",
       "  'terrain': 'ocean'},\n",
       " {'y': 9,\n",
       "  'rainfall': 3.0,\n",
       "  'x': 31,\n",
       "  'key': '31:9',\n",
       "  'elevation': 1.0,\n",
       "  'terrain': 'land'},\n",
       " {'y': 9,\n",
       "  'rainfall': 2.0,\n",
       "  'x': 32,\n",
       "  'key': '32:9',\n",
       "  'elevation': 1.0,\n",
       "  'terrain': 'land'},\n",
       " {'y': 9,\n",
       "  'rainfall': 0.0,\n",
       "  'x': 33,\n",
       "  'key': '33:9',\n",
       "  'elevation': 0.0,\n",
       "  'terrain': 'ocean'},\n",
       " {'y': 9,\n",
       "  'rainfall': 0.0,\n",
       "  'x': 34,\n",
       "  'key': '34:9',\n",
       "  'elevation': 0.0,\n",
       "  'terrain': 'ocean'},\n",
       " {'y': 9,\n",
       "  'rainfall': 0.0,\n",
       "  'x': 35,\n",
       "  'key': '35:9',\n",
       "  'elevation': 0.0,\n",
       "  'terrain': 'ocean'},\n",
       " {'y': 9,\n",
       "  'rainfall': 0.0,\n",
       "  'x': 36,\n",
       "  'key': '36:9',\n",
       "  'elevation': 0.0,\n",
       "  'terrain': 'ocean'},\n",
       " {'y': 9,\n",
       "  'rainfall': -2.0,\n",
       "  'x': 37,\n",
       "  'key': '37:9',\n",
       "  'elevation': -2.0,\n",
       "  'terrain': 'ocean'},\n",
       " {'y': 9,\n",
       "  'rainfall': 1.0,\n",
       "  'x': 38,\n",
       "  'key': '38:9',\n",
       "  'elevation': 1.0,\n",
       "  'terrain': 'land'},\n",
       " {'y': 9,\n",
       "  'rainfall': 0.0,\n",
       "  'x': 39,\n",
       "  'key': '39:9',\n",
       "  'elevation': 0.0,\n",
       "  'terrain': 'ocean'},\n",
       " {'y': 10,\n",
       "  'rainfall': 5.0,\n",
       "  'x': 0,\n",
       "  'key': '0:10',\n",
       "  'elevation': 0.0,\n",
       "  'terrain': 'ocean'},\n",
       " {'y': 10,\n",
       "  'rainfall': 7.0,\n",
       "  'x': 1,\n",
       "  'key': '1:10',\n",
       "  'elevation': 1.0,\n",
       "  'terrain': 'land'},\n",
       " {'y': 10,\n",
       "  'rainfall': 5.0,\n",
       "  'x': 2,\n",
       "  'key': '2:10',\n",
       "  'elevation': -1.0,\n",
       "  'terrain': 'ocean'},\n",
       " {'y': 10,\n",
       "  'rainfall': 6.0,\n",
       "  'x': 3,\n",
       "  'key': '3:10',\n",
       "  'elevation': 0.0,\n",
       "  'terrain': 'ocean'},\n",
       " {'y': 10,\n",
       "  'rainfall': 8.0,\n",
       "  'x': 4,\n",
       "  'key': '4:10',\n",
       "  'elevation': 2.0,\n",
       "  'terrain': 'land'},\n",
       " {'y': 10,\n",
       "  'rainfall': 6.0,\n",
       "  'x': 5,\n",
       "  'key': '5:10',\n",
       "  'elevation': 0.0,\n",
       "  'terrain': 'ocean'},\n",
       " {'y': 10,\n",
       "  'rainfall': 7.0,\n",
       "  'x': 6,\n",
       "  'key': '6:10',\n",
       "  'elevation': 1.0,\n",
       "  'terrain': 'land'},\n",
       " {'y': 10,\n",
       "  'rainfall': 6.0,\n",
       "  'x': 7,\n",
       "  'key': '7:10',\n",
       "  'elevation': 0.0,\n",
       "  'terrain': 'ocean'},\n",
       " {'y': 10,\n",
       "  'rainfall': 7.0,\n",
       "  'x': 8,\n",
       "  'key': '8:10',\n",
       "  'elevation': -1.0,\n",
       "  'terrain': 'ocean'},\n",
       " {'y': 10,\n",
       "  'rainfall': 10.0,\n",
       "  'x': 9,\n",
       "  'key': '9:10',\n",
       "  'elevation': 0.0,\n",
       "  'terrain': 'ocean'},\n",
       " {'y': 10,\n",
       "  'rainfall': 14.0,\n",
       "  'x': 10,\n",
       "  'key': '10:10',\n",
       "  'elevation': 1.0,\n",
       "  'terrain': 'land'},\n",
       " {'y': 10,\n",
       "  'rainfall': 16.0,\n",
       "  'x': 11,\n",
       "  'key': '11:10',\n",
       "  'elevation': 0.0,\n",
       "  'terrain': 'ocean'},\n",
       " {'y': 10,\n",
       "  'rainfall': 15.0,\n",
       "  'x': 12,\n",
       "  'key': '12:10',\n",
       "  'elevation': -2.0,\n",
       "  'terrain': 'ocean'},\n",
       " {'y': 10,\n",
       "  'rainfall': 17.0,\n",
       "  'x': 13,\n",
       "  'key': '13:10',\n",
       "  'elevation': -1.0,\n",
       "  'terrain': 'ocean'},\n",
       " {'y': 10,\n",
       "  'rainfall': 17.0,\n",
       "  'x': 14,\n",
       "  'key': '14:10',\n",
       "  'elevation': -1.0,\n",
       "  'terrain': 'ocean'},\n",
       " {'y': 10,\n",
       "  'rainfall': 18.0,\n",
       "  'x': 15,\n",
       "  'key': '15:10',\n",
       "  'elevation': -1.0,\n",
       "  'terrain': 'ocean'},\n",
       " {'y': 10,\n",
       "  'rainfall': 22.0,\n",
       "  'x': 16,\n",
       "  'key': '16:10',\n",
       "  'elevation': 0.0,\n",
       "  'terrain': 'ocean'},\n",
       " {'y': 10,\n",
       "  'rainfall': 22.0,\n",
       "  'x': 17,\n",
       "  'key': '17:10',\n",
       "  'elevation': -1.0,\n",
       "  'terrain': 'ocean'},\n",
       " {'y': 10,\n",
       "  'rainfall': 27.0,\n",
       "  'x': 18,\n",
       "  'key': '18:10',\n",
       "  'elevation': 0.0,\n",
       "  'terrain': 'ocean'},\n",
       " {'y': 10,\n",
       "  'rainfall': 32.0,\n",
       "  'x': 19,\n",
       "  'key': '19:10',\n",
       "  'elevation': -2.0,\n",
       "  'terrain': 'ocean'},\n",
       " {'y': 10,\n",
       "  'rainfall': 36.0,\n",
       "  'x': 20,\n",
       "  'key': '20:10',\n",
       "  'elevation': -1.0,\n",
       "  'terrain': 'ocean'},\n",
       " {'y': 10,\n",
       "  'rainfall': 40.0,\n",
       "  'x': 21,\n",
       "  'key': '21:10',\n",
       "  'elevation': 0.0,\n",
       "  'terrain': 'ocean'},\n",
       " {'y': 10,\n",
       "  'rainfall': 42.0,\n",
       "  'x': 22,\n",
       "  'key': '22:10',\n",
       "  'elevation': 0.0,\n",
       "  'terrain': 'ocean'},\n",
       " {'y': 10,\n",
       "  'rainfall': 43.0,\n",
       "  'x': 23,\n",
       "  'key': '23:10',\n",
       "  'elevation': 0.0,\n",
       "  'terrain': 'ocean'},\n",
       " {'y': 10,\n",
       "  'rainfall': 42.0,\n",
       "  'x': 24,\n",
       "  'key': '24:10',\n",
       "  'elevation': 1.0,\n",
       "  'terrain': 'land'},\n",
       " {'y': 10,\n",
       "  'rainfall': 34.0,\n",
       "  'x': 25,\n",
       "  'key': '25:10',\n",
       "  'elevation': -1.0,\n",
       "  'terrain': 'ocean'},\n",
       " {'y': 10,\n",
       "  'rainfall': 23.0,\n",
       "  'x': 26,\n",
       "  'key': '26:10',\n",
       "  'elevation': -1.0,\n",
       "  'terrain': 'ocean'},\n",
       " {'y': 10,\n",
       "  'rainfall': 17.0,\n",
       "  'x': 27,\n",
       "  'key': '27:10',\n",
       "  'elevation': 1.0,\n",
       "  'terrain': 'land'},\n",
       " {'y': 10,\n",
       "  'rainfall': 10.0,\n",
       "  'x': 28,\n",
       "  'key': '28:10',\n",
       "  'elevation': 0.0,\n",
       "  'terrain': 'ocean'},\n",
       " {'y': 10,\n",
       "  'rainfall': 7.0,\n",
       "  'x': 29,\n",
       "  'key': '29:10',\n",
       "  'elevation': 0.0,\n",
       "  'terrain': 'ocean'},\n",
       " {'y': 10,\n",
       "  'rainfall': 4.0,\n",
       "  'x': 30,\n",
       "  'key': '30:10',\n",
       "  'elevation': 0.0,\n",
       "  'terrain': 'ocean'},\n",
       " {'y': 10,\n",
       "  'rainfall': 1.0,\n",
       "  'x': 31,\n",
       "  'key': '31:10',\n",
       "  'elevation': -1.0,\n",
       "  'terrain': 'ocean'},\n",
       " {'y': 10,\n",
       "  'rainfall': 1.0,\n",
       "  'x': 32,\n",
       "  'key': '32:10',\n",
       "  'elevation': 0.0,\n",
       "  'terrain': 'ocean'},\n",
       " {'y': 10,\n",
       "  'rainfall': 0.0,\n",
       "  'x': 33,\n",
       "  'key': '33:10',\n",
       "  'elevation': 0.0,\n",
       "  'terrain': 'ocean'},\n",
       " {'y': 10,\n",
       "  'rainfall': 0.0,\n",
       "  'x': 34,\n",
       "  'key': '34:10',\n",
       "  'elevation': 0.0,\n",
       "  'terrain': 'ocean'},\n",
       " {'y': 10,\n",
       "  'rainfall': 1.0,\n",
       "  'x': 35,\n",
       "  'key': '35:10',\n",
       "  'elevation': 1.0,\n",
       "  'terrain': 'land'},\n",
       " {'y': 10,\n",
       "  'rainfall': 2.0,\n",
       "  'x': 36,\n",
       "  'key': '36:10',\n",
       "  'elevation': 2.0,\n",
       "  'terrain': 'land'},\n",
       " {'y': 10,\n",
       "  'rainfall': 0.0,\n",
       "  'x': 37,\n",
       "  'key': '37:10',\n",
       "  'elevation': 0.0,\n",
       "  'terrain': 'ocean'},\n",
       " {'y': 10,\n",
       "  'rainfall': 0.0,\n",
       "  'x': 38,\n",
       "  'key': '38:10',\n",
       "  'elevation': 0.0,\n",
       "  'terrain': 'ocean'},\n",
       " {'y': 10,\n",
       "  'rainfall': 1.0,\n",
       "  'x': 39,\n",
       "  'key': '39:10',\n",
       "  'elevation': 1.0,\n",
       "  'terrain': 'land'},\n",
       " {'y': 11,\n",
       "  'rainfall': 5.0,\n",
       "  'x': 0,\n",
       "  'key': '0:11',\n",
       "  'elevation': 0.0,\n",
       "  'terrain': 'ocean'},\n",
       " {'y': 11,\n",
       "  'rainfall': 5.0,\n",
       "  'x': 1,\n",
       "  'key': '1:11',\n",
       "  'elevation': -1.0,\n",
       "  'terrain': 'ocean'},\n",
       " {'y': 11,\n",
       "  'rainfall': 8.0,\n",
       "  'x': 2,\n",
       "  'key': '2:11',\n",
       "  'elevation': 1.0,\n",
       "  'terrain': 'land'},\n",
       " {'y': 11,\n",
       "  'rainfall': 6.0,\n",
       "  'x': 3,\n",
       "  'key': '3:11',\n",
       "  'elevation': -1.0,\n",
       "  'terrain': 'ocean'},\n",
       " {'y': 11,\n",
       "  'rainfall': 6.0,\n",
       "  'x': 4,\n",
       "  'key': '4:11',\n",
       "  'elevation': -1.0,\n",
       "  'terrain': 'ocean'},\n",
       " {'y': 11,\n",
       "  'rainfall': 8.0,\n",
       "  'x': 5,\n",
       "  'key': '5:11',\n",
       "  'elevation': 0.0,\n",
       "  'terrain': 'ocean'},\n",
       " {'y': 11,\n",
       "  'rainfall': 7.0,\n",
       "  'x': 6,\n",
       "  'key': '6:11',\n",
       "  'elevation': -1.0,\n",
       "  'terrain': 'ocean'},\n",
       " {'y': 11,\n",
       "  'rainfall': 8.0,\n",
       "  'x': 7,\n",
       "  'key': '7:11',\n",
       "  'elevation': 0.0,\n",
       "  'terrain': 'ocean'},\n",
       " {'y': 11,\n",
       "  'rainfall': 9.0,\n",
       "  'x': 8,\n",
       "  'key': '8:11',\n",
       "  'elevation': 0.0,\n",
       "  'terrain': 'ocean'},\n",
       " {'y': 11,\n",
       "  'rainfall': 12.0,\n",
       "  'x': 9,\n",
       "  'key': '9:11',\n",
       "  'elevation': 1.0,\n",
       "  'terrain': 'land'},\n",
       " {'y': 11,\n",
       "  'rainfall': 13.0,\n",
       "  'x': 10,\n",
       "  'key': '10:11',\n",
       "  'elevation': 1.0,\n",
       "  'terrain': 'land'},\n",
       " {'y': 11,\n",
       "  'rainfall': 15.0,\n",
       "  'x': 11,\n",
       "  'key': '11:11',\n",
       "  'elevation': 1.0,\n",
       "  'terrain': 'land'},\n",
       " {'y': 11,\n",
       "  'rainfall': 16.0,\n",
       "  'x': 12,\n",
       "  'key': '12:11',\n",
       "  'elevation': 0.0,\n",
       "  'terrain': 'ocean'},\n",
       " {'y': 11,\n",
       "  'rainfall': 18.0,\n",
       "  'x': 13,\n",
       "  'key': '13:11',\n",
       "  'elevation': -1.0,\n",
       "  'terrain': 'ocean'},\n",
       " {'y': 11,\n",
       "  'rainfall': 20.0,\n",
       "  'x': 14,\n",
       "  'key': '14:11',\n",
       "  'elevation': 1.0,\n",
       "  'terrain': 'land'},\n",
       " {'y': 11,\n",
       "  'rainfall': 19.0,\n",
       "  'x': 15,\n",
       "  'key': '15:11',\n",
       "  'elevation': -1.0,\n",
       "  'terrain': 'ocean'},\n",
       " {'y': 11,\n",
       "  'rainfall': 22.0,\n",
       "  'x': 16,\n",
       "  'key': '16:11',\n",
       "  'elevation': -1.0,\n",
       "  'terrain': 'ocean'},\n",
       " {'y': 11,\n",
       "  'rainfall': 25.0,\n",
       "  'x': 17,\n",
       "  'key': '17:11',\n",
       "  'elevation': -1.0,\n",
       "  'terrain': 'ocean'},\n",
       " {'y': 11,\n",
       "  'rainfall': 32.0,\n",
       "  'x': 18,\n",
       "  'key': '18:11',\n",
       "  'elevation': 1.0,\n",
       "  'terrain': 'land'},\n",
       " {'y': 11,\n",
       "  'rainfall': 37.0,\n",
       "  'x': 19,\n",
       "  'key': '19:11',\n",
       "  'elevation': 0.0,\n",
       "  'terrain': 'ocean'},\n",
       " {'y': 11,\n",
       "  'rainfall': 38.0,\n",
       "  'x': 20,\n",
       "  'key': '20:11',\n",
       "  'elevation': 0.0,\n",
       "  'terrain': 'ocean'},\n",
       " {'y': 11,\n",
       "  'rainfall': 40.0,\n",
       "  'x': 21,\n",
       "  'key': '21:11',\n",
       "  'elevation': -1.0,\n",
       "  'terrain': 'ocean'},\n",
       " {'y': 11,\n",
       "  'rainfall': 44.0,\n",
       "  'x': 22,\n",
       "  'key': '22:11',\n",
       "  'elevation': 1.0,\n",
       "  'terrain': 'land'},\n",
       " {'y': 11,\n",
       "  'rainfall': 42.0,\n",
       "  'x': 23,\n",
       "  'key': '23:11',\n",
       "  'elevation': -1.0,\n",
       "  'terrain': 'ocean'},\n",
       " {'y': 11,\n",
       "  'rainfall': 41.0,\n",
       "  'x': 24,\n",
       "  'key': '24:11',\n",
       "  'elevation': 0.0,\n",
       "  'terrain': 'ocean'},\n",
       " {'y': 11,\n",
       "  'rainfall': 35.0,\n",
       "  'x': 25,\n",
       "  'key': '25:11',\n",
       "  'elevation': 2.0,\n",
       "  'terrain': 'land'},\n",
       " {'y': 11,\n",
       "  'rainfall': 24.0,\n",
       "  'x': 26,\n",
       "  'key': '26:11',\n",
       "  'elevation': 0.0,\n",
       "  'terrain': 'ocean'},\n",
       " {'y': 11,\n",
       "  'rainfall': 16.0,\n",
       "  'x': 27,\n",
       "  'key': '27:11',\n",
       "  'elevation': 1.0,\n",
       "  'terrain': 'land'},\n",
       " {'y': 11,\n",
       "  'rainfall': 7.0,\n",
       "  'x': 28,\n",
       "  'key': '28:11',\n",
       "  'elevation': -2.0,\n",
       "  'terrain': 'ocean'},\n",
       " {'y': 11,\n",
       "  'rainfall': 6.0,\n",
       "  'x': 29,\n",
       "  'key': '29:11',\n",
       "  'elevation': 0.0,\n",
       "  'terrain': 'ocean'},\n",
       " {'y': 11,\n",
       "  'rainfall': 4.0,\n",
       "  'x': 30,\n",
       "  'key': '30:11',\n",
       "  'elevation': 0.0,\n",
       "  'terrain': 'ocean'},\n",
       " {'y': 11,\n",
       "  'rainfall': 2.0,\n",
       "  'x': 31,\n",
       "  'key': '31:11',\n",
       "  'elevation': 0.0,\n",
       "  'terrain': 'ocean'},\n",
       " {'y': 11,\n",
       "  'rainfall': 1.0,\n",
       "  'x': 32,\n",
       "  'key': '32:11',\n",
       "  'elevation': 0.0,\n",
       "  'terrain': 'ocean'},\n",
       " {'y': 11,\n",
       "  'rainfall': 0.0,\n",
       "  'x': 33,\n",
       "  'key': '33:11',\n",
       "  'elevation': 0.0,\n",
       "  'terrain': 'ocean'},\n",
       " {'y': 11,\n",
       "  'rainfall': 0.0,\n",
       "  'x': 34,\n",
       "  'key': '34:11',\n",
       "  'elevation': 0.0,\n",
       "  'terrain': 'ocean'},\n",
       " {'y': 11,\n",
       "  'rainfall': 1.0,\n",
       "  'x': 35,\n",
       "  'key': '35:11',\n",
       "  'elevation': 1.0,\n",
       "  'terrain': 'land'},\n",
       " {'y': 11,\n",
       "  'rainfall': -1.0,\n",
       "  'x': 36,\n",
       "  'key': '36:11',\n",
       "  'elevation': -1.0,\n",
       "  'terrain': 'ocean'},\n",
       " {'y': 11,\n",
       "  'rainfall': -1.0,\n",
       "  'x': 37,\n",
       "  'key': '37:11',\n",
       "  'elevation': -1.0,\n",
       "  'terrain': 'ocean'},\n",
       " {'y': 11,\n",
       "  'rainfall': -1.0,\n",
       "  'x': 38,\n",
       "  'key': '38:11',\n",
       "  'elevation': -1.0,\n",
       "  'terrain': 'ocean'},\n",
       " {'y': 11,\n",
       "  'rainfall': -1.0,\n",
       "  'x': 39,\n",
       "  'key': '39:11',\n",
       "  'elevation': -1.0,\n",
       "  'terrain': 'ocean'},\n",
       " {'y': 12,\n",
       "  'rainfall': 5.0,\n",
       "  'x': 0,\n",
       "  'key': '0:12',\n",
       "  'elevation': 0.0,\n",
       "  'terrain': 'ocean'},\n",
       " {'y': 12,\n",
       "  'rainfall': 6.0,\n",
       "  'x': 1,\n",
       "  'key': '1:12',\n",
       "  'elevation': 0.0,\n",
       "  'terrain': 'ocean'},\n",
       " {'y': 12,\n",
       "  'rainfall': 7.0,\n",
       "  'x': 2,\n",
       "  'key': '2:12',\n",
       "  'elevation': 0.0,\n",
       "  'terrain': 'ocean'},\n",
       " {'y': 12,\n",
       "  'rainfall': 6.0,\n",
       "  'x': 3,\n",
       "  'key': '3:12',\n",
       "  'elevation': -2.0,\n",
       "  'terrain': 'ocean'},\n",
       " {'y': 12,\n",
       "  'rainfall': 8.0,\n",
       "  'x': 4,\n",
       "  'key': '4:12',\n",
       "  'elevation': 0.0,\n",
       "  'terrain': 'ocean'},\n",
       " {'y': 12,\n",
       "  'rainfall': 10.0,\n",
       "  'x': 5,\n",
       "  'key': '5:12',\n",
       "  'elevation': 1.0,\n",
       "  'terrain': 'land'},\n",
       " {'y': 12,\n",
       "  'rainfall': 9.0,\n",
       "  'x': 6,\n",
       "  'key': '6:12',\n",
       "  'elevation': -1.0,\n",
       "  'terrain': 'ocean'},\n",
       " {'y': 12,\n",
       "  'rainfall': 11.0,\n",
       "  'x': 7,\n",
       "  'key': '7:12',\n",
       "  'elevation': 1.0,\n",
       "  'terrain': 'land'},\n",
       " {'y': 12,\n",
       "  'rainfall': 11.0,\n",
       "  'x': 8,\n",
       "  'key': '8:12',\n",
       "  'elevation': 0.0,\n",
       "  'terrain': 'ocean'},\n",
       " {'y': 12,\n",
       "  'rainfall': 10.0,\n",
       "  'x': 9,\n",
       "  'key': '9:12',\n",
       "  'elevation': -1.0,\n",
       "  'terrain': 'ocean'},\n",
       " {'y': 12,\n",
       "  'rainfall': 11.0,\n",
       "  'x': 10,\n",
       "  'key': '10:12',\n",
       "  'elevation': 0.0,\n",
       "  'terrain': 'ocean'},\n",
       " {'y': 12,\n",
       "  'rainfall': 12.0,\n",
       "  'x': 11,\n",
       "  'key': '11:12',\n",
       "  'elevation': -1.0,\n",
       "  'terrain': 'ocean'},\n",
       " {'y': 12,\n",
       "  'rainfall': 16.0,\n",
       "  'x': 12,\n",
       "  'key': '12:12',\n",
       "  'elevation': 1.0,\n",
       "  'terrain': 'land'},\n",
       " {'y': 12,\n",
       "  'rainfall': 19.0,\n",
       "  'x': 13,\n",
       "  'key': '13:12',\n",
       "  'elevation': 0.0,\n",
       "  'terrain': 'ocean'},\n",
       " {'y': 12,\n",
       "  'rainfall': 22.0,\n",
       "  'x': 14,\n",
       "  'key': '14:12',\n",
       "  'elevation': 0.0,\n",
       "  'terrain': 'ocean'},\n",
       " {'y': 12,\n",
       "  'rainfall': 22.0,\n",
       "  'x': 15,\n",
       "  'key': '15:12',\n",
       "  'elevation': -1.0,\n",
       "  'terrain': 'ocean'},\n",
       " {'y': 12,\n",
       "  'rainfall': 27.0,\n",
       "  'x': 16,\n",
       "  'key': '16:12',\n",
       "  'elevation': 1.0,\n",
       "  'terrain': 'land'},\n",
       " {'y': 12,\n",
       "  'rainfall': 31.0,\n",
       "  'x': 17,\n",
       "  'key': '17:12',\n",
       "  'elevation': 1.0,\n",
       "  'terrain': 'land'},\n",
       " {'y': 12,\n",
       "  'rainfall': 35.0,\n",
       "  'x': 18,\n",
       "  'key': '18:12',\n",
       "  'elevation': 0.0,\n",
       "  'terrain': 'ocean'},\n",
       " {'y': 12,\n",
       "  'rainfall': 41.0,\n",
       "  'x': 19,\n",
       "  'key': '19:12',\n",
       "  'elevation': 2.0,\n",
       "  'terrain': 'land'},\n",
       " {'y': 12,\n",
       "  'rainfall': 42.0,\n",
       "  'x': 20,\n",
       "  'key': '20:12',\n",
       "  'elevation': 0.0,\n",
       "  'terrain': 'ocean'},\n",
       " {'y': 12,\n",
       "  'rainfall': 43.0,\n",
       "  'x': 21,\n",
       "  'key': '21:12',\n",
       "  'elevation': 0.0,\n",
       "  'terrain': 'ocean'},\n",
       " {'y': 12,\n",
       "  'rainfall': 42.0,\n",
       "  'x': 22,\n",
       "  'key': '22:12',\n",
       "  'elevation': 0.0,\n",
       "  'terrain': 'ocean'},\n",
       " {'y': 12,\n",
       "  'rainfall': 40.0,\n",
       "  'x': 23,\n",
       "  'key': '23:12',\n",
       "  'elevation': -1.0,\n",
       "  'terrain': 'ocean'},\n",
       " {'y': 12,\n",
       "  'rainfall': 36.0,\n",
       "  'x': 24,\n",
       "  'key': '24:12',\n",
       "  'elevation': 0.0,\n",
       "  'terrain': 'ocean'},\n",
       " {'y': 12,\n",
       "  'rainfall': 30.0,\n",
       "  'x': 25,\n",
       "  'key': '25:12',\n",
       "  'elevation': 1.0,\n",
       "  'terrain': 'land'},\n",
       " {'y': 12,\n",
       "  'rainfall': 20.0,\n",
       "  'x': 26,\n",
       "  'key': '26:12',\n",
       "  'elevation': -1.0,\n",
       "  'terrain': 'ocean'},\n",
       " {'y': 12,\n",
       "  'rainfall': 15.0,\n",
       "  'x': 27,\n",
       "  'key': '27:12',\n",
       "  'elevation': 1.0,\n",
       "  'terrain': 'land'},\n",
       " {'y': 12,\n",
       "  'rainfall': 7.0,\n",
       "  'x': 28,\n",
       "  'key': '28:12',\n",
       "  'elevation': -1.0,\n",
       "  'terrain': 'ocean'},\n",
       " {'y': 12,\n",
       "  'rainfall': 4.0,\n",
       "  'x': 29,\n",
       "  'key': '29:12',\n",
       "  'elevation': -1.0,\n",
       "  'terrain': 'ocean'},\n",
       " {'y': 12,\n",
       "  'rainfall': 4.0,\n",
       "  'x': 30,\n",
       "  'key': '30:12',\n",
       "  'elevation': 1.0,\n",
       "  'terrain': 'land'},\n",
       " {'y': 12,\n",
       "  'rainfall': 1.0,\n",
       "  'x': 31,\n",
       "  'key': '31:12',\n",
       "  'elevation': -1.0,\n",
       "  'terrain': 'ocean'},\n",
       " {'y': 12,\n",
       "  'rainfall': 2.0,\n",
       "  'x': 32,\n",
       "  'key': '32:12',\n",
       "  'elevation': 1.0,\n",
       "  'terrain': 'land'},\n",
       " {'y': 12,\n",
       "  'rainfall': 0.0,\n",
       "  'x': 33,\n",
       "  'key': '33:12',\n",
       "  'elevation': 0.0,\n",
       "  'terrain': 'ocean'},\n",
       " {'y': 12,\n",
       "  'rainfall': 1.0,\n",
       "  'x': 34,\n",
       "  'key': '34:12',\n",
       "  'elevation': 1.0,\n",
       "  'terrain': 'land'},\n",
       " {'y': 12,\n",
       "  'rainfall': 2.0,\n",
       "  'x': 35,\n",
       "  'key': '35:12',\n",
       "  'elevation': 2.0,\n",
       "  'terrain': 'land'},\n",
       " {'y': 12,\n",
       "  'rainfall': 1.0,\n",
       "  'x': 36,\n",
       "  'key': '36:12',\n",
       "  'elevation': 1.0,\n",
       "  'terrain': 'land'},\n",
       " {'y': 12,\n",
       "  'rainfall': 0.0,\n",
       "  'x': 37,\n",
       "  'key': '37:12',\n",
       "  'elevation': 0.0,\n",
       "  'terrain': 'ocean'},\n",
       " {'y': 12,\n",
       "  'rainfall': -1.0,\n",
       "  'x': 38,\n",
       "  'key': '38:12',\n",
       "  'elevation': -1.0,\n",
       "  'terrain': 'ocean'},\n",
       " {'y': 12,\n",
       "  'rainfall': 1.0,\n",
       "  'x': 39,\n",
       "  'key': '39:12',\n",
       "  'elevation': 1.0,\n",
       "  'terrain': 'land'},\n",
       " {'y': 13,\n",
       "  'rainfall': 5.0,\n",
       "  'x': 0,\n",
       "  'key': '0:13',\n",
       "  'elevation': -1.0,\n",
       "  'terrain': 'ocean'},\n",
       " {'y': 13,\n",
       "  'rainfall': 5.0,\n",
       "  'x': 1,\n",
       "  'key': '1:13',\n",
       "  'elevation': -2.0,\n",
       "  'terrain': 'ocean'},\n",
       " {'y': 13,\n",
       "  'rainfall': 10.0,\n",
       "  'x': 2,\n",
       "  'key': '2:13',\n",
       "  'elevation': 2.0,\n",
       "  'terrain': 'land'},\n",
       " {'y': 13,\n",
       "  'rainfall': 10.0,\n",
       "  'x': 3,\n",
       "  'key': '3:13',\n",
       "  'elevation': 1.0,\n",
       "  'terrain': 'land'},\n",
       " {'y': 13,\n",
       "  'rainfall': 9.0,\n",
       "  'x': 4,\n",
       "  'key': '4:13',\n",
       "  'elevation': -1.0,\n",
       "  'terrain': 'ocean'},\n",
       " {'y': 13,\n",
       "  'rainfall': 12.0,\n",
       "  'x': 5,\n",
       "  'key': '5:13',\n",
       "  'elevation': 1.0,\n",
       "  'terrain': 'land'},\n",
       " {'y': 13,\n",
       "  'rainfall': 10.0,\n",
       "  'x': 6,\n",
       "  'key': '6:13',\n",
       "  'elevation': -2.0,\n",
       "  'terrain': 'ocean'},\n",
       " {'y': 13,\n",
       "  'rainfall': 13.0,\n",
       "  'x': 7,\n",
       "  'key': '7:13',\n",
       "  'elevation': 0.0,\n",
       "  'terrain': 'ocean'},\n",
       " {'y': 13,\n",
       "  'rainfall': 15.0,\n",
       "  'x': 8,\n",
       "  'key': '8:13',\n",
       "  'elevation': 2.0,\n",
       "  'terrain': 'land'},\n",
       " {'y': 13,\n",
       "  'rainfall': 10.0,\n",
       "  'x': 9,\n",
       "  'key': '9:13',\n",
       "  'elevation': -2.0,\n",
       "  'terrain': 'ocean'},\n",
       " {'y': 13,\n",
       "  'rainfall': 13.0,\n",
       "  'x': 10,\n",
       "  'key': '10:13',\n",
       "  'elevation': 1.0,\n",
       "  'terrain': 'land'},\n",
       " {'y': 13,\n",
       "  'rainfall': 16.0,\n",
       "  'x': 11,\n",
       "  'key': '11:13',\n",
       "  'elevation': 2.0,\n",
       "  'terrain': 'land'},\n",
       " {'y': 13,\n",
       "  'rainfall': 16.0,\n",
       "  'x': 12,\n",
       "  'key': '12:13',\n",
       "  'elevation': 0.0,\n",
       "  'terrain': 'ocean'},\n",
       " {'y': 13,\n",
       "  'rainfall': 19.0,\n",
       "  'x': 13,\n",
       "  'key': '13:13',\n",
       "  'elevation': -1.0,\n",
       "  'terrain': 'ocean'},\n",
       " {'y': 13,\n",
       "  'rainfall': 22.0,\n",
       "  'x': 14,\n",
       "  'key': '14:13',\n",
       "  'elevation': -1.0,\n",
       "  'terrain': 'ocean'},\n",
       " {'y': 13,\n",
       "  'rainfall': 26.0,\n",
       "  'x': 15,\n",
       "  'key': '15:13',\n",
       "  'elevation': -1.0,\n",
       "  'terrain': 'ocean'},\n",
       " {'y': 13,\n",
       "  'rainfall': 31.0,\n",
       "  'x': 16,\n",
       "  'key': '16:13',\n",
       "  'elevation': 0.0,\n",
       "  'terrain': 'ocean'},\n",
       " {'y': 13,\n",
       "  'rainfall': 31.0,\n",
       "  'x': 17,\n",
       "  'key': '17:13',\n",
       "  'elevation': -1.0,\n",
       "  'terrain': 'ocean'},\n",
       " {'y': 13,\n",
       "  'rainfall': 37.0,\n",
       "  'x': 18,\n",
       "  'key': '18:13',\n",
       "  'elevation': 1.0,\n",
       "  'terrain': 'land'},\n",
       " {'y': 13,\n",
       "  'rainfall': 37.0,\n",
       "  'x': 19,\n",
       "  'key': '19:13',\n",
       "  'elevation': -1.0,\n",
       "  'terrain': 'ocean'},\n",
       " {'y': 13,\n",
       "  'rainfall': 37.0,\n",
       "  'x': 20,\n",
       "  'key': '20:13',\n",
       "  'elevation': -1.0,\n",
       "  'terrain': 'ocean'},\n",
       " {'y': 13,\n",
       "  'rainfall': 40.0,\n",
       "  'x': 21,\n",
       "  'key': '21:13',\n",
       "  'elevation': 0.0,\n",
       "  'terrain': 'ocean'},\n",
       " {'y': 13,\n",
       "  'rainfall': 38.0,\n",
       "  'x': 22,\n",
       "  'key': '22:13',\n",
       "  'elevation': 0.0,\n",
       "  'terrain': 'ocean'},\n",
       " {'y': 13,\n",
       "  'rainfall': 34.0,\n",
       "  'x': 23,\n",
       "  'key': '23:13',\n",
       "  'elevation': 0.0,\n",
       "  'terrain': 'ocean'},\n",
       " {'y': 13,\n",
       "  'rainfall': 29.0,\n",
       "  'x': 24,\n",
       "  'key': '24:13',\n",
       "  'elevation': 0.0,\n",
       "  'terrain': 'ocean'},\n",
       " {'y': 13,\n",
       "  'rainfall': 21.0,\n",
       "  'x': 25,\n",
       "  'key': '25:13',\n",
       "  'elevation': -2.0,\n",
       "  'terrain': 'ocean'},\n",
       " {'y': 13,\n",
       "  'rainfall': 18.0,\n",
       "  'x': 26,\n",
       "  'key': '26:13',\n",
       "  'elevation': 1.0,\n",
       "  'terrain': 'land'},\n",
       " {'y': 13,\n",
       "  'rainfall': 13.0,\n",
       "  'x': 27,\n",
       "  'key': '27:13',\n",
       "  'elevation': 1.0,\n",
       "  'terrain': 'land'},\n",
       " {'y': 13,\n",
       "  'rainfall': 7.0,\n",
       "  'x': 28,\n",
       "  'key': '28:13',\n",
       "  'elevation': 0.0,\n",
       "  'terrain': 'ocean'},\n",
       " {'y': 13,\n",
       "  'rainfall': 1.0,\n",
       "  'x': 29,\n",
       "  'key': '29:13',\n",
       "  'elevation': -3.0,\n",
       "  'terrain': 'ocean'},\n",
       " {'y': 13,\n",
       "  'rainfall': 2.0,\n",
       "  'x': 30,\n",
       "  'key': '30:13',\n",
       "  'elevation': 0.0,\n",
       "  'terrain': 'ocean'},\n",
       " {'y': 13,\n",
       "  'rainfall': -1.0,\n",
       "  'x': 31,\n",
       "  'key': '31:13',\n",
       "  'elevation': -2.0,\n",
       "  'terrain': 'ocean'},\n",
       " {'y': 13,\n",
       "  'rainfall': 1.0,\n",
       "  'x': 32,\n",
       "  'key': '32:13',\n",
       "  'elevation': 0.0,\n",
       "  'terrain': 'ocean'},\n",
       " {'y': 13,\n",
       "  'rainfall': 1.0,\n",
       "  'x': 33,\n",
       "  'key': '33:13',\n",
       "  'elevation': 1.0,\n",
       "  'terrain': 'land'},\n",
       " {'y': 13,\n",
       "  'rainfall': 0.0,\n",
       "  'x': 34,\n",
       "  'key': '34:13',\n",
       "  'elevation': 0.0,\n",
       "  'terrain': 'ocean'},\n",
       " {'y': 13,\n",
       "  'rainfall': 1.0,\n",
       "  'x': 35,\n",
       "  'key': '35:13',\n",
       "  'elevation': 1.0,\n",
       "  'terrain': 'land'},\n",
       " {'y': 13,\n",
       "  'rainfall': 0.0,\n",
       "  'x': 36,\n",
       "  'key': '36:13',\n",
       "  'elevation': 0.0,\n",
       "  'terrain': 'ocean'},\n",
       " {'y': 13,\n",
       "  'rainfall': -1.0,\n",
       "  'x': 37,\n",
       "  'key': '37:13',\n",
       "  'elevation': -1.0,\n",
       "  'terrain': 'ocean'},\n",
       " {'y': 13,\n",
       "  'rainfall': 2.0,\n",
       "  'x': 38,\n",
       "  'key': '38:13',\n",
       "  'elevation': 2.0,\n",
       "  'terrain': 'land'},\n",
       " {'y': 13,\n",
       "  'rainfall': -1.0,\n",
       "  'x': 39,\n",
       "  'key': '39:13',\n",
       "  'elevation': -1.0,\n",
       "  'terrain': 'ocean'},\n",
       " {'y': 14,\n",
       "  'rainfall': 8.0,\n",
       "  'x': 0,\n",
       "  'key': '0:14',\n",
       "  'elevation': -1.0,\n",
       "  'terrain': 'ocean'},\n",
       " {'y': 14,\n",
       "  'rainfall': 13.0,\n",
       "  'x': 1,\n",
       "  'key': '1:14',\n",
       "  'elevation': 0.0,\n",
       "  'terrain': 'ocean'},\n",
       " {'y': 14,\n",
       "  'rainfall': 14.0,\n",
       "  'x': 2,\n",
       "  'key': '2:14',\n",
       "  'elevation': 0.0,\n",
       "  'terrain': 'ocean'},\n",
       " {'y': 14,\n",
       "  'rainfall': 17.0,\n",
       "  'x': 3,\n",
       "  'key': '3:14',\n",
       "  'elevation': 2.0,\n",
       "  'terrain': 'land'},\n",
       " {'y': 14,\n",
       "  'rainfall': 15.0,\n",
       "  'x': 4,\n",
       "  'key': '4:14',\n",
       "  'elevation': 0.0,\n",
       "  'terrain': 'ocean'},\n",
       " {'y': 14,\n",
       "  'rainfall': 18.0,\n",
       "  'x': 5,\n",
       "  'key': '5:14',\n",
       "  'elevation': 0.0,\n",
       "  'terrain': 'ocean'},\n",
       " {'y': 14,\n",
       "  'rainfall': 20.0,\n",
       "  'x': 6,\n",
       "  'key': '6:14',\n",
       "  'elevation': 1.0,\n",
       "  'terrain': 'land'},\n",
       " {'y': 14,\n",
       "  'rainfall': 19.0,\n",
       "  'x': 7,\n",
       "  'key': '7:14',\n",
       "  'elevation': 0.0,\n",
       "  'terrain': 'ocean'},\n",
       " {'y': 14,\n",
       "  'rainfall': 19.0,\n",
       "  'x': 8,\n",
       "  'key': '8:14',\n",
       "  'elevation': 1.0,\n",
       "  'terrain': 'land'},\n",
       " {'y': 14,\n",
       "  'rainfall': 17.0,\n",
       "  'x': 9,\n",
       "  'key': '9:14',\n",
       "  'elevation': 0.0,\n",
       "  'terrain': 'ocean'},\n",
       " {'y': 14,\n",
       "  'rainfall': 14.0,\n",
       "  'x': 10,\n",
       "  'key': '10:14',\n",
       "  'elevation': -1.0,\n",
       "  'terrain': 'ocean'},\n",
       " {'y': 14,\n",
       "  'rainfall': 14.0,\n",
       "  'x': 11,\n",
       "  'key': '11:14',\n",
       "  'elevation': -1.0,\n",
       "  'terrain': 'ocean'},\n",
       " {'y': 14,\n",
       "  'rainfall': 19.0,\n",
       "  'x': 12,\n",
       "  'key': '12:14',\n",
       "  'elevation': 2.0,\n",
       "  'terrain': 'land'},\n",
       " {'y': 14,\n",
       "  'rainfall': 19.0,\n",
       "  'x': 13,\n",
       "  'key': '13:14',\n",
       "  'elevation': -1.0,\n",
       "  'terrain': 'ocean'},\n",
       " {'y': 14,\n",
       "  'rainfall': 23.0,\n",
       "  'x': 14,\n",
       "  'key': '14:14',\n",
       "  'elevation': 0.0,\n",
       "  'terrain': 'ocean'},\n",
       " {'y': 14,\n",
       "  'rainfall': 27.0,\n",
       "  'x': 15,\n",
       "  'key': '15:14',\n",
       "  'elevation': -1.0,\n",
       "  'terrain': 'ocean'},\n",
       " {'y': 14,\n",
       "  'rainfall': 32.0,\n",
       "  'x': 16,\n",
       "  'key': '16:14',\n",
       "  'elevation': -1.0,\n",
       "  'terrain': 'ocean'},\n",
       " {'y': 14,\n",
       "  'rainfall': 33.0,\n",
       "  'x': 17,\n",
       "  'key': '17:14',\n",
       "  'elevation': 1.0,\n",
       "  'terrain': 'land'},\n",
       " {'y': 14,\n",
       "  'rainfall': 34.0,\n",
       "  'x': 18,\n",
       "  'key': '18:14',\n",
       "  'elevation': 0.0,\n",
       "  'terrain': 'ocean'},\n",
       " {'y': 14,\n",
       "  'rainfall': 36.0,\n",
       "  'x': 19,\n",
       "  'key': '19:14',\n",
       "  'elevation': 0.0,\n",
       "  'terrain': 'ocean'},\n",
       " {'y': 14,\n",
       "  'rainfall': 34.0,\n",
       "  'x': 20,\n",
       "  'key': '20:14',\n",
       "  'elevation': -1.0,\n",
       "  'terrain': 'ocean'},\n",
       " {'y': 14,\n",
       "  'rainfall': 37.0,\n",
       "  'x': 21,\n",
       "  'key': '21:14',\n",
       "  'elevation': 1.0,\n",
       "  'terrain': 'land'},\n",
       " {'y': 14,\n",
       "  'rainfall': 31.0,\n",
       "  'x': 22,\n",
       "  'key': '22:14',\n",
       "  'elevation': 0.0,\n",
       "  'terrain': 'ocean'},\n",
       " {'y': 14,\n",
       "  'rainfall': 26.0,\n",
       "  'x': 23,\n",
       "  'key': '23:14',\n",
       "  'elevation': 0.0,\n",
       "  'terrain': 'ocean'},\n",
       " {'y': 14,\n",
       "  'rainfall': 22.0,\n",
       "  'x': 24,\n",
       "  'key': '24:14',\n",
       "  'elevation': 1.0,\n",
       "  'terrain': 'land'},\n",
       " {'y': 14,\n",
       "  'rainfall': 16.0,\n",
       "  'x': 25,\n",
       "  'key': '25:14',\n",
       "  'elevation': -1.0,\n",
       "  'terrain': 'ocean'},\n",
       " {'y': 14,\n",
       "  'rainfall': 11.0,\n",
       "  'x': 26,\n",
       "  'key': '26:14',\n",
       "  'elevation': -2.0,\n",
       "  'terrain': 'ocean'},\n",
       " {'y': 14,\n",
       "  'rainfall': 11.0,\n",
       "  'x': 27,\n",
       "  'key': '27:14',\n",
       "  'elevation': 1.0,\n",
       "  'terrain': 'land'},\n",
       " {'y': 14,\n",
       "  'rainfall': 5.0,\n",
       "  'x': 28,\n",
       "  'key': '28:14',\n",
       "  'elevation': -1.0,\n",
       "  'terrain': 'ocean'},\n",
       " {'y': 14,\n",
       "  'rainfall': 3.0,\n",
       "  'x': 29,\n",
       "  'key': '29:14',\n",
       "  'elevation': 0.0,\n",
       "  'terrain': 'ocean'},\n",
       " {'y': 14,\n",
       "  'rainfall': 1.0,\n",
       "  'x': 30,\n",
       "  'key': '30:14',\n",
       "  'elevation': 0.0,\n",
       "  'terrain': 'ocean'},\n",
       " {'y': 14,\n",
       "  'rainfall': 0.0,\n",
       "  'x': 31,\n",
       "  'key': '31:14',\n",
       "  'elevation': 0.0,\n",
       "  'terrain': 'ocean'},\n",
       " {'y': 14,\n",
       "  'rainfall': 2.0,\n",
       "  'x': 32,\n",
       "  'key': '32:14',\n",
       "  'elevation': 2.0,\n",
       "  'terrain': 'land'},\n",
       " {'y': 14,\n",
       "  'rainfall': 1.0,\n",
       "  'x': 33,\n",
       "  'key': '33:14',\n",
       "  'elevation': 1.0,\n",
       "  'terrain': 'land'},\n",
       " {'y': 14,\n",
       "  'rainfall': 2.0,\n",
       "  'x': 34,\n",
       "  'key': '34:14',\n",
       "  'elevation': 2.0,\n",
       "  'terrain': 'land'},\n",
       " {'y': 14,\n",
       "  'rainfall': 0.0,\n",
       "  'x': 35,\n",
       "  'key': '35:14',\n",
       "  'elevation': 0.0,\n",
       "  'terrain': 'ocean'},\n",
       " {'y': 14,\n",
       "  'rainfall': 0.0,\n",
       "  'x': 36,\n",
       "  'key': '36:14',\n",
       "  'elevation': 0.0,\n",
       "  'terrain': 'ocean'},\n",
       " {'y': 14,\n",
       "  'rainfall': 0.0,\n",
       "  'x': 37,\n",
       "  'key': '37:14',\n",
       "  'elevation': 0.0,\n",
       "  'terrain': 'ocean'},\n",
       " {'y': 14,\n",
       "  'rainfall': 0.0,\n",
       "  'x': 38,\n",
       "  'key': '38:14',\n",
       "  'elevation': 0.0,\n",
       "  'terrain': 'ocean'},\n",
       " {'y': 14,\n",
       "  'rainfall': -1.0,\n",
       "  'x': 39,\n",
       "  'key': '39:14',\n",
       "  'elevation': -1.0,\n",
       "  'terrain': 'ocean'},\n",
       " {'y': 15,\n",
       "  'rainfall': 12.0,\n",
       "  'x': 0,\n",
       "  'key': '0:15',\n",
       "  'elevation': 1.0,\n",
       "  'terrain': 'land'},\n",
       " {'y': 15,\n",
       "  'rainfall': 17.0,\n",
       "  'x': 1,\n",
       "  'key': '1:15',\n",
       "  'elevation': 0.0,\n",
       "  'terrain': 'ocean'},\n",
       " {'y': 15,\n",
       "  'rainfall': 23.0,\n",
       "  'x': 2,\n",
       "  'key': '2:15',\n",
       "  'elevation': 1.0,\n",
       "  'terrain': 'land'},\n",
       " {'y': 15,\n",
       "  'rainfall': 22.0,\n",
       "  'x': 3,\n",
       "  'key': '3:15',\n",
       "  'elevation': 0.0,\n",
       "  'terrain': 'ocean'},\n",
       " {'y': 15,\n",
       "  'rainfall': 24.0,\n",
       "  'x': 4,\n",
       "  'key': '4:15',\n",
       "  'elevation': 3.0,\n",
       "  'terrain': 'land'},\n",
       " {'y': 15,\n",
       "  'rainfall': 25.0,\n",
       "  'x': 5,\n",
       "  'key': '5:15',\n",
       "  'elevation': 2.0,\n",
       "  'terrain': 'land'},\n",
       " {'y': 15,\n",
       "  'rainfall': 27.0,\n",
       "  'x': 6,\n",
       "  'key': '6:15',\n",
       "  'elevation': 1.0,\n",
       "  'terrain': 'land'},\n",
       " {'y': 15,\n",
       "  'rainfall': 26.0,\n",
       "  'x': 7,\n",
       "  'key': '7:15',\n",
       "  'elevation': 0.0,\n",
       "  'terrain': 'ocean'},\n",
       " {'y': 15,\n",
       "  'rainfall': 24.0,\n",
       "  'x': 8,\n",
       "  'key': '8:15',\n",
       "  'elevation': -1.0,\n",
       "  'terrain': 'ocean'},\n",
       " {'y': 15,\n",
       "  'rainfall': 25.0,\n",
       "  'x': 9,\n",
       "  'key': '9:15',\n",
       "  'elevation': 1.0,\n",
       "  'terrain': 'land'},\n",
       " {'y': 15,\n",
       "  'rainfall': 18.0,\n",
       "  'x': 10,\n",
       "  'key': '10:15',\n",
       "  'elevation': 0.0,\n",
       "  'terrain': 'ocean'},\n",
       " {'y': 15,\n",
       "  'rainfall': 19.0,\n",
       "  'x': 11,\n",
       "  'key': '11:15',\n",
       "  'elevation': 2.0,\n",
       "  'terrain': 'land'},\n",
       " {'y': 15,\n",
       "  'rainfall': 20.0,\n",
       "  'x': 12,\n",
       "  'key': '12:15',\n",
       "  'elevation': 1.0,\n",
       "  'terrain': 'land'},\n",
       " {'y': 15,\n",
       "  'rainfall': 21.0,\n",
       "  'x': 13,\n",
       "  'key': '13:15',\n",
       "  'elevation': -1.0,\n",
       "  'terrain': 'ocean'},\n",
       " {'y': 15,\n",
       "  'rainfall': 25.0,\n",
       "  'x': 14,\n",
       "  'key': '14:15',\n",
       "  'elevation': 1.0,\n",
       "  'terrain': 'land'},\n",
       " {'y': 15,\n",
       "  'rainfall': 28.0,\n",
       "  'x': 15,\n",
       "  'key': '15:15',\n",
       "  'elevation': 1.0,\n",
       "  'terrain': 'land'},\n",
       " {'y': 15,\n",
       "  'rainfall': 32.0,\n",
       "  'x': 16,\n",
       "  'key': '16:15',\n",
       "  'elevation': 1.0,\n",
       "  'terrain': 'land'},\n",
       " {'y': 15,\n",
       "  'rainfall': 33.0,\n",
       "  'x': 17,\n",
       "  'key': '17:15',\n",
       "  'elevation': 0.0,\n",
       "  'terrain': 'ocean'},\n",
       " {'y': 15,\n",
       "  'rainfall': 33.0,\n",
       "  'x': 18,\n",
       "  'key': '18:15',\n",
       "  'elevation': 0.0,\n",
       "  'terrain': 'ocean'},\n",
       " {'y': 15,\n",
       "  'rainfall': 34.0,\n",
       "  'x': 19,\n",
       "  'key': '19:15',\n",
       "  'elevation': 1.0,\n",
       "  'terrain': 'land'},\n",
       " {'y': 15,\n",
       "  'rainfall': 30.0,\n",
       "  'x': 20,\n",
       "  'key': '20:15',\n",
       "  'elevation': 0.0,\n",
       "  'terrain': 'ocean'},\n",
       " {'y': 15,\n",
       "  'rainfall': 27.0,\n",
       "  'x': 21,\n",
       "  'key': '21:15',\n",
       "  'elevation': 0.0,\n",
       "  'terrain': 'ocean'},\n",
       " {'y': 15,\n",
       "  'rainfall': 21.0,\n",
       "  'x': 22,\n",
       "  'key': '22:15',\n",
       "  'elevation': -1.0,\n",
       "  'terrain': 'ocean'},\n",
       " {'y': 15,\n",
       "  'rainfall': 17.0,\n",
       "  'x': 23,\n",
       "  'key': '23:15',\n",
       "  'elevation': -1.0,\n",
       "  'terrain': 'ocean'},\n",
       " {'y': 15,\n",
       "  'rainfall': 15.0,\n",
       "  'x': 24,\n",
       "  'key': '24:15',\n",
       "  'elevation': 1.0,\n",
       "  'terrain': 'land'},\n",
       " {'y': 15,\n",
       "  'rainfall': 11.0,\n",
       "  'x': 25,\n",
       "  'key': '25:15',\n",
       "  'elevation': 0.0,\n",
       "  'terrain': 'ocean'},\n",
       " {'y': 15,\n",
       "  'rainfall': 9.0,\n",
       "  'x': 26,\n",
       "  'key': '26:15',\n",
       "  'elevation': 0.0,\n",
       "  'terrain': 'ocean'},\n",
       " {'y': 15,\n",
       "  'rainfall': 6.0,\n",
       "  'x': 27,\n",
       "  'key': '27:15',\n",
       "  'elevation': -1.0,\n",
       "  'terrain': 'ocean'},\n",
       " {'y': 15,\n",
       "  'rainfall': 6.0,\n",
       "  'x': 28,\n",
       "  'key': '28:15',\n",
       "  'elevation': 1.0,\n",
       "  'terrain': 'land'},\n",
       " {'y': 15,\n",
       "  'rainfall': 5.0,\n",
       "  'x': 29,\n",
       "  'key': '29:15',\n",
       "  'elevation': 2.0,\n",
       "  'terrain': 'land'},\n",
       " {'y': 15,\n",
       "  'rainfall': 2.0,\n",
       "  'x': 30,\n",
       "  'key': '30:15',\n",
       "  'elevation': 1.0,\n",
       "  'terrain': 'land'},\n",
       " {'y': 15,\n",
       "  'rainfall': -1.0,\n",
       "  'x': 31,\n",
       "  'key': '31:15',\n",
       "  'elevation': -1.0,\n",
       "  'terrain': 'ocean'},\n",
       " {'y': 15,\n",
       "  'rainfall': -1.0,\n",
       "  'x': 32,\n",
       "  'key': '32:15',\n",
       "  'elevation': -1.0,\n",
       "  'terrain': 'ocean'},\n",
       " {'y': 15,\n",
       "  'rainfall': -1.0,\n",
       "  'x': 33,\n",
       "  'key': '33:15',\n",
       "  'elevation': -1.0,\n",
       "  'terrain': 'ocean'},\n",
       " {'y': 15,\n",
       "  'rainfall': 2.0,\n",
       "  'x': 34,\n",
       "  'key': '34:15',\n",
       "  'elevation': 2.0,\n",
       "  'terrain': 'land'},\n",
       " {'y': 15,\n",
       "  'rainfall': 0.0,\n",
       "  'x': 35,\n",
       "  'key': '35:15',\n",
       "  'elevation': 0.0,\n",
       "  'terrain': 'ocean'},\n",
       " {'y': 15,\n",
       "  'rainfall': -2.0,\n",
       "  'x': 36,\n",
       "  'key': '36:15',\n",
       "  'elevation': -2.0,\n",
       "  'terrain': 'ocean'},\n",
       " {'y': 15,\n",
       "  'rainfall': 0.0,\n",
       "  'x': 37,\n",
       "  'key': '37:15',\n",
       "  'elevation': 0.0,\n",
       "  'terrain': 'ocean'},\n",
       " {'y': 15,\n",
       "  'rainfall': -1.0,\n",
       "  'x': 38,\n",
       "  'key': '38:15',\n",
       "  'elevation': -1.0,\n",
       "  'terrain': 'ocean'},\n",
       " {'y': 15,\n",
       "  'rainfall': 0.0,\n",
       "  'x': 39,\n",
       "  'key': '39:15',\n",
       "  'elevation': 0.0,\n",
       "  'terrain': 'ocean'},\n",
       " {'y': 16,\n",
       "  'rainfall': 19.0,\n",
       "  'x': 0,\n",
       "  'key': '0:16',\n",
       "  'elevation': 4.0,\n",
       "  'terrain': 'land'},\n",
       " {'y': 16,\n",
       "  'rainfall': 22.0,\n",
       "  'x': 1,\n",
       "  'key': '1:16',\n",
       "  'elevation': 1.0,\n",
       "  'terrain': 'land'},\n",
       " {'y': 16,\n",
       "  'rainfall': 28.0,\n",
       "  'x': 2,\n",
       "  'key': '2:16',\n",
       "  'elevation': 2.0,\n",
       "  'terrain': 'land'},\n",
       " {'y': 16,\n",
       "  'rainfall': 29.0,\n",
       "  'x': 3,\n",
       "  'key': '3:16',\n",
       "  'elevation': 2.0,\n",
       "  'terrain': 'land'},\n",
       " {'y': 16,\n",
       "  'rainfall': 28.0,\n",
       "  'x': 4,\n",
       "  'key': '4:16',\n",
       "  'elevation': 2.0,\n",
       "  'terrain': 'land'},\n",
       " {'y': 16,\n",
       "  'rainfall': 27.0,\n",
       "  'x': 5,\n",
       "  'key': '5:16',\n",
       "  'elevation': 1.0,\n",
       "  'terrain': 'land'},\n",
       " {'y': 16,\n",
       "  'rainfall': 30.0,\n",
       "  'x': 6,\n",
       "  'key': '6:16',\n",
       "  'elevation': 2.0,\n",
       "  'terrain': 'land'},\n",
       " {'y': 16,\n",
       "  'rainfall': 35.0,\n",
       "  'x': 7,\n",
       "  'key': '7:16',\n",
       "  'elevation': 4.0,\n",
       "  'terrain': 'land'},\n",
       " {'y': 16,\n",
       "  'rainfall': 32.0,\n",
       "  'x': 8,\n",
       "  'key': '8:16',\n",
       "  'elevation': 2.0,\n",
       "  'terrain': 'land'},\n",
       " {'y': 16,\n",
       "  'rainfall': 26.0,\n",
       "  'x': 9,\n",
       "  'key': '9:16',\n",
       "  'elevation': 1.0,\n",
       "  'terrain': 'land'},\n",
       " {'y': 16,\n",
       "  'rainfall': 22.0,\n",
       "  'x': 10,\n",
       "  'key': '10:16',\n",
       "  'elevation': 1.0,\n",
       "  'terrain': 'land'},\n",
       " {'y': 16,\n",
       "  'rainfall': 20.0,\n",
       "  'x': 11,\n",
       "  'key': '11:16',\n",
       "  'elevation': 1.0,\n",
       "  'terrain': 'land'},\n",
       " {'y': 16,\n",
       "  'rainfall': 24.0,\n",
       "  'x': 12,\n",
       "  'key': '12:16',\n",
       "  'elevation': 3.0,\n",
       "  'terrain': 'land'},\n",
       " {'y': 16,\n",
       "  'rainfall': 26.0,\n",
       "  'x': 13,\n",
       "  'key': '13:16',\n",
       "  'elevation': 3.0,\n",
       "  'terrain': 'land'},\n",
       " {'y': 16,\n",
       "  'rainfall': 25.0,\n",
       "  'x': 14,\n",
       "  'key': '14:16',\n",
       "  'elevation': 2.0,\n",
       "  'terrain': 'land'},\n",
       " {'y': 16,\n",
       "  'rainfall': 25.0,\n",
       "  'x': 15,\n",
       "  'key': '15:16',\n",
       "  'elevation': 1.0,\n",
       "  'terrain': 'land'},\n",
       " {'y': 16,\n",
       "  'rainfall': 26.0,\n",
       "  'x': 16,\n",
       "  'key': '16:16',\n",
       "  'elevation': 0.0,\n",
       "  'terrain': 'ocean'},\n",
       " {'y': 16,\n",
       "  'rainfall': 26.0,\n",
       "  'x': 17,\n",
       "  'key': '17:16',\n",
       "  'elevation': -1.0,\n",
       "  'terrain': 'ocean'},\n",
       " {'y': 16,\n",
       "  'rainfall': 29.0,\n",
       "  'x': 18,\n",
       "  'key': '18:16',\n",
       "  'elevation': 0.0,\n",
       "  'terrain': 'ocean'},\n",
       " {'y': 16,\n",
       "  'rainfall': 28.0,\n",
       "  'x': 19,\n",
       "  'key': '19:16',\n",
       "  'elevation': 1.0,\n",
       "  'terrain': 'land'},\n",
       " {'y': 16,\n",
       "  'rainfall': 21.0,\n",
       "  'x': 20,\n",
       "  'key': '20:16',\n",
       "  'elevation': -1.0,\n",
       "  'terrain': 'ocean'},\n",
       " {'y': 16,\n",
       "  'rainfall': 18.0,\n",
       "  'x': 21,\n",
       "  'key': '21:16',\n",
       "  'elevation': -1.0,\n",
       "  'terrain': 'ocean'},\n",
       " {'y': 16,\n",
       "  'rainfall': 15.0,\n",
       "  'x': 22,\n",
       "  'key': '22:16',\n",
       "  'elevation': 0.0,\n",
       "  'terrain': 'ocean'},\n",
       " {'y': 16,\n",
       "  'rainfall': 13.0,\n",
       "  'x': 23,\n",
       "  'key': '23:16',\n",
       "  'elevation': 1.0,\n",
       "  'terrain': 'land'},\n",
       " {'y': 16,\n",
       "  'rainfall': 10.0,\n",
       "  'x': 24,\n",
       "  'key': '24:16',\n",
       "  'elevation': 0.0,\n",
       "  'terrain': 'ocean'},\n",
       " {'y': 16,\n",
       "  'rainfall': 8.0,\n",
       "  'x': 25,\n",
       "  'key': '25:16',\n",
       "  'elevation': 0.0,\n",
       "  'terrain': 'ocean'},\n",
       " {'y': 16,\n",
       "  'rainfall': 8.0,\n",
       "  'x': 26,\n",
       "  'key': '26:16',\n",
       "  'elevation': 1.0,\n",
       "  'terrain': 'land'},\n",
       " {'y': 16,\n",
       "  'rainfall': 5.0,\n",
       "  'x': 27,\n",
       "  'key': '27:16',\n",
       "  'elevation': 0.0,\n",
       "  'terrain': 'ocean'},\n",
       " {'y': 16,\n",
       "  'rainfall': 3.0,\n",
       "  'x': 28,\n",
       "  'key': '28:16',\n",
       "  'elevation': 0.0,\n",
       "  'terrain': 'ocean'},\n",
       " {'y': 16,\n",
       "  'rainfall': 3.0,\n",
       "  'x': 29,\n",
       "  'key': '29:16',\n",
       "  'elevation': 1.0,\n",
       "  'terrain': 'land'},\n",
       " {'y': 16,\n",
       "  'rainfall': 1.0,\n",
       "  'x': 30,\n",
       "  'key': '30:16',\n",
       "  'elevation': 0.0,\n",
       "  'terrain': 'ocean'},\n",
       " {'y': 16,\n",
       "  'rainfall': -2.0,\n",
       "  'x': 31,\n",
       "  'key': '31:16',\n",
       "  'elevation': -2.0,\n",
       "  'terrain': 'ocean'},\n",
       " {'y': 16,\n",
       "  'rainfall': 1.0,\n",
       "  'x': 32,\n",
       "  'key': '32:16',\n",
       "  'elevation': 1.0,\n",
       "  'terrain': 'land'},\n",
       " {'y': 16,\n",
       "  'rainfall': -1.0,\n",
       "  'x': 33,\n",
       "  'key': '33:16',\n",
       "  'elevation': -1.0,\n",
       "  'terrain': 'ocean'},\n",
       " {'y': 16,\n",
       "  'rainfall': -2.0,\n",
       "  'x': 34,\n",
       "  'key': '34:16',\n",
       "  'elevation': -2.0,\n",
       "  'terrain': 'ocean'},\n",
       " {'y': 16,\n",
       "  'rainfall': 0.0,\n",
       "  'x': 35,\n",
       "  'key': '35:16',\n",
       "  'elevation': 0.0,\n",
       "  'terrain': 'ocean'},\n",
       " {'y': 16,\n",
       "  'rainfall': 2.0,\n",
       "  'x': 36,\n",
       "  'key': '36:16',\n",
       "  'elevation': 2.0,\n",
       "  'terrain': 'land'},\n",
       " {'y': 16,\n",
       "  'rainfall': -1.0,\n",
       "  'x': 37,\n",
       "  'key': '37:16',\n",
       "  'elevation': -1.0,\n",
       "  'terrain': 'ocean'},\n",
       " {'y': 16,\n",
       "  'rainfall': 1.0,\n",
       "  'x': 38,\n",
       "  'key': '38:16',\n",
       "  'elevation': 1.0,\n",
       "  'terrain': 'land'},\n",
       " {'y': 16,\n",
       "  'rainfall': 0.0,\n",
       "  'x': 39,\n",
       "  'key': '39:16',\n",
       "  'elevation': 0.0,\n",
       "  'terrain': 'ocean'},\n",
       " {'y': 17,\n",
       "  'rainfall': 21.0,\n",
       "  'x': 0,\n",
       "  'key': '0:17',\n",
       "  'elevation': 3.0,\n",
       "  'terrain': 'land'},\n",
       " {'y': 17,\n",
       "  'rainfall': 26.0,\n",
       "  'x': 1,\n",
       "  'key': '1:17',\n",
       "  'elevation': 3.0,\n",
       "  'terrain': 'land'},\n",
       " {'y': 17,\n",
       "  'rainfall': 34.0,\n",
       "  'x': 2,\n",
       "  'key': '2:17',\n",
       "  'elevation': 5.0,\n",
       "  'terrain': 'land'},\n",
       " {'y': 17,\n",
       "  'rainfall': 37.0,\n",
       "  'x': 3,\n",
       "  'key': '3:17',\n",
       "  'elevation': 5.0,\n",
       "  'terrain': 'land'},\n",
       " {'y': 17,\n",
       "  'rainfall': 35.0,\n",
       "  'x': 4,\n",
       "  'key': '4:17',\n",
       "  'elevation': 5.0,\n",
       "  'terrain': 'land'},\n",
       " {'y': 17,\n",
       "  'rainfall': 34.0,\n",
       "  'x': 5,\n",
       "  'key': '5:17',\n",
       "  'elevation': 5.0,\n",
       "  'terrain': 'land'},\n",
       " {'y': 17,\n",
       "  'rainfall': 36.0,\n",
       "  'x': 6,\n",
       "  'key': '6:17',\n",
       "  'elevation': 5.0,\n",
       "  'terrain': 'land'},\n",
       " {'y': 17,\n",
       "  'rainfall': 39.0,\n",
       "  'x': 7,\n",
       "  'key': '7:17',\n",
       "  'elevation': 4.0,\n",
       "  'terrain': 'land'},\n",
       " {'y': 17,\n",
       "  'rainfall': 37.0,\n",
       "  'x': 8,\n",
       "  'key': '8:17',\n",
       "  'elevation': 4.0,\n",
       "  'terrain': 'land'},\n",
       " {'y': 17,\n",
       "  'rainfall': 32.0,\n",
       "  'x': 9,\n",
       "  'key': '9:17',\n",
       "  'elevation': 4.0,\n",
       "  'terrain': 'land'},\n",
       " {'y': 17,\n",
       "  'rainfall': 26.0,\n",
       "  'x': 10,\n",
       "  'key': '10:17',\n",
       "  'elevation': 3.0,\n",
       "  'terrain': 'land'},\n",
       " {'y': 17,\n",
       "  'rainfall': 26.0,\n",
       "  'x': 11,\n",
       "  'key': '11:17',\n",
       "  'elevation': 4.0,\n",
       "  'terrain': 'land'},\n",
       " {'y': 17,\n",
       "  'rainfall': 28.0,\n",
       "  'x': 12,\n",
       "  'key': '12:17',\n",
       "  'elevation': 5.0,\n",
       "  'terrain': 'land'},\n",
       " {'y': 17,\n",
       "  'rainfall': 26.0,\n",
       "  'x': 13,\n",
       "  'key': '13:17',\n",
       "  'elevation': 3.0,\n",
       "  'terrain': 'land'},\n",
       " {'y': 17,\n",
       "  'rainfall': 23.0,\n",
       "  'x': 14,\n",
       "  'key': '14:17',\n",
       "  'elevation': 2.0,\n",
       "  'terrain': 'land'},\n",
       " {'y': 17,\n",
       "  'rainfall': 21.0,\n",
       "  'x': 15,\n",
       "  'key': '15:17',\n",
       "  'elevation': 1.0,\n",
       "  'terrain': 'land'},\n",
       " {'y': 17,\n",
       "  'rainfall': 24.0,\n",
       "  'x': 16,\n",
       "  'key': '16:17',\n",
       "  'elevation': 3.0,\n",
       "  'terrain': 'land'},\n",
       " {'y': 17,\n",
       "  'rainfall': 22.0,\n",
       "  'x': 17,\n",
       "  'key': '17:17',\n",
       "  'elevation': 1.0,\n",
       "  'terrain': 'land'},\n",
       " {'y': 17,\n",
       "  'rainfall': 22.0,\n",
       "  'x': 18,\n",
       "  'key': '18:17',\n",
       "  'elevation': -1.0,\n",
       "  'terrain': 'ocean'},\n",
       " {'y': 17,\n",
       "  'rainfall': 22.0,\n",
       "  'x': 19,\n",
       "  'key': '19:17',\n",
       "  'elevation': 0.0,\n",
       "  'terrain': 'ocean'},\n",
       " {'y': 17,\n",
       "  'rainfall': 19.0,\n",
       "  'x': 20,\n",
       "  'key': '20:17',\n",
       "  'elevation': 1.0,\n",
       "  'terrain': 'land'},\n",
       " {'y': 17,\n",
       "  'rainfall': 16.0,\n",
       "  'x': 21,\n",
       "  'key': '21:17',\n",
       "  'elevation': 1.0,\n",
       "  'terrain': 'land'},\n",
       " {'y': 17,\n",
       "  'rainfall': 12.0,\n",
       "  'x': 22,\n",
       "  'key': '22:17',\n",
       "  'elevation': 0.0,\n",
       "  'terrain': 'ocean'},\n",
       " {'y': 17,\n",
       "  'rainfall': 8.0,\n",
       "  'x': 23,\n",
       "  'key': '23:17',\n",
       "  'elevation': -1.0,\n",
       "  'terrain': 'ocean'},\n",
       " {'y': 17,\n",
       "  'rainfall': 6.0,\n",
       "  'x': 24,\n",
       "  'key': '24:17',\n",
       "  'elevation': -1.0,\n",
       "  'terrain': 'ocean'},\n",
       " {'y': 17,\n",
       "  'rainfall': 7.0,\n",
       "  'x': 25,\n",
       "  'key': '25:17',\n",
       "  'elevation': 2.0,\n",
       "  'terrain': 'land'},\n",
       " {'y': 17,\n",
       "  'rainfall': 6.0,\n",
       "  'x': 26,\n",
       "  'key': '26:17',\n",
       "  'elevation': 1.0,\n",
       "  'terrain': 'land'},\n",
       " {'y': 17,\n",
       "  'rainfall': 6.0,\n",
       "  'x': 27,\n",
       "  'key': '27:17',\n",
       "  'elevation': 2.0,\n",
       "  'terrain': 'land'},\n",
       " {'y': 17,\n",
       "  'rainfall': 4.0,\n",
       "  'x': 28,\n",
       "  'key': '28:17',\n",
       "  'elevation': 2.0,\n",
       "  'terrain': 'land'},\n",
       " {'y': 17,\n",
       "  'rainfall': 3.0,\n",
       "  'x': 29,\n",
       "  'key': '29:17',\n",
       "  'elevation': 2.0,\n",
       "  'terrain': 'land'},\n",
       " {'y': 17,\n",
       "  'rainfall': 5.0,\n",
       "  'x': 30,\n",
       "  'key': '30:17',\n",
       "  'elevation': 4.0,\n",
       "  'terrain': 'land'},\n",
       " {'y': 17,\n",
       "  'rainfall': 2.0,\n",
       "  'x': 31,\n",
       "  'key': '31:17',\n",
       "  'elevation': 2.0,\n",
       "  'terrain': 'land'},\n",
       " {'y': 17,\n",
       "  'rainfall': 3.0,\n",
       "  'x': 32,\n",
       "  'key': '32:17',\n",
       "  'elevation': 3.0,\n",
       "  'terrain': 'land'},\n",
       " {'y': 17,\n",
       "  'rainfall': 2.0,\n",
       "  'x': 33,\n",
       "  'key': '33:17',\n",
       "  'elevation': 2.0,\n",
       "  'terrain': 'land'},\n",
       " {'y': 17,\n",
       "  'rainfall': 1.0,\n",
       "  'x': 34,\n",
       "  'key': '34:17',\n",
       "  'elevation': 1.0,\n",
       "  'terrain': 'land'},\n",
       " {'y': 17,\n",
       "  'rainfall': -1.0,\n",
       "  'x': 35,\n",
       "  'key': '35:17',\n",
       "  'elevation': -1.0,\n",
       "  'terrain': 'ocean'},\n",
       " {'y': 17,\n",
       "  'rainfall': 3.0,\n",
       "  'x': 36,\n",
       "  'key': '36:17',\n",
       "  'elevation': 3.0,\n",
       "  'terrain': 'land'},\n",
       " {'y': 17,\n",
       "  'rainfall': 1.0,\n",
       "  'x': 37,\n",
       "  'key': '37:17',\n",
       "  'elevation': 1.0,\n",
       "  'terrain': 'land'},\n",
       " {'y': 17,\n",
       "  'rainfall': 1.0,\n",
       "  'x': 38,\n",
       "  'key': '38:17',\n",
       "  'elevation': 1.0,\n",
       "  'terrain': 'land'},\n",
       " {'y': 17,\n",
       "  'rainfall': 1.0,\n",
       "  'x': 39,\n",
       "  'key': '39:17',\n",
       "  'elevation': 1.0,\n",
       "  'terrain': 'land'},\n",
       " {'y': 18,\n",
       "  'rainfall': 26.0,\n",
       "  'x': 0,\n",
       "  'key': '0:18',\n",
       "  'elevation': 3.0,\n",
       "  'terrain': 'land'},\n",
       " {'y': 18,\n",
       "  'rainfall': 33.0,\n",
       "  'x': 1,\n",
       "  'key': '1:18',\n",
       "  'elevation': 6.0,\n",
       "  'terrain': 'land'},\n",
       " {'y': 18,\n",
       "  'rainfall': 39.0,\n",
       "  'x': 2,\n",
       "  'key': '2:18',\n",
       "  'elevation': 7.0,\n",
       "  'terrain': 'land'},\n",
       " {'y': 18,\n",
       "  'rainfall': 44.0,\n",
       "  'x': 3,\n",
       "  'key': '3:18',\n",
       "  'elevation': 9.0,\n",
       "  'terrain': 'land'},\n",
       " {'y': 18,\n",
       "  'rainfall': 43.0,\n",
       "  'x': 4,\n",
       "  'key': '4:18',\n",
       "  'elevation': 9.0,\n",
       "  'terrain': 'land'},\n",
       " {'y': 18,\n",
       "  'rainfall': 41.0,\n",
       "  'x': 5,\n",
       "  'key': '5:18',\n",
       "  'elevation': 8.0,\n",
       "  'terrain': 'land'},\n",
       " {'y': 18,\n",
       "  'rainfall': 41.0,\n",
       "  'x': 6,\n",
       "  'key': '6:18',\n",
       "  'elevation': 7.0,\n",
       "  'terrain': 'land'},\n",
       " {'y': 18,\n",
       "  'rainfall': 41.0,\n",
       "  'x': 7,\n",
       "  'key': '7:18',\n",
       "  'elevation': 9.0,\n",
       "  'terrain': 'land'},\n",
       " {'y': 18,\n",
       "  'rainfall': 38.0,\n",
       "  'x': 8,\n",
       "  'key': '8:18',\n",
       "  'elevation': 6.0,\n",
       "  'terrain': 'land'},\n",
       " {'y': 18,\n",
       "  'rainfall': 37.0,\n",
       "  'x': 9,\n",
       "  'key': '9:18',\n",
       "  'elevation': 6.0,\n",
       "  'terrain': 'land'},\n",
       " {'y': 18,\n",
       "  'rainfall': 34.0,\n",
       "  'x': 10,\n",
       "  'key': '10:18',\n",
       "  'elevation': 7.0,\n",
       "  'terrain': 'land'},\n",
       " {'y': 18,\n",
       "  'rainfall': 31.0,\n",
       "  'x': 11,\n",
       "  'key': '11:18',\n",
       "  'elevation': 6.0,\n",
       "  'terrain': 'land'},\n",
       " {'y': 18,\n",
       "  'rainfall': 29.0,\n",
       "  'x': 12,\n",
       "  'key': '12:18',\n",
       "  'elevation': 6.0,\n",
       "  'terrain': 'land'},\n",
       " {'y': 18,\n",
       "  'rainfall': 27.0,\n",
       "  'x': 13,\n",
       "  'key': '13:18',\n",
       "  'elevation': 5.0,\n",
       "  'terrain': 'land'},\n",
       " {'y': 18,\n",
       "  'rainfall': 22.0,\n",
       "  'x': 14,\n",
       "  'key': '14:18',\n",
       "  'elevation': 3.0,\n",
       "  'terrain': 'land'},\n",
       " {'y': 18,\n",
       "  'rainfall': 21.0,\n",
       "  'x': 15,\n",
       "  'key': '15:18',\n",
       "  'elevation': 4.0,\n",
       "  'terrain': 'land'},\n",
       " {'y': 18,\n",
       "  'rainfall': 17.0,\n",
       "  'x': 16,\n",
       "  'key': '16:18',\n",
       "  'elevation': 0.0,\n",
       "  'terrain': 'ocean'},\n",
       " {'y': 18,\n",
       "  'rainfall': 17.0,\n",
       "  'x': 17,\n",
       "  'key': '17:18',\n",
       "  'elevation': 1.0,\n",
       "  'terrain': 'land'},\n",
       " {'y': 18,\n",
       "  'rainfall': 16.0,\n",
       "  'x': 18,\n",
       "  'key': '18:18',\n",
       "  'elevation': 0.0,\n",
       "  'terrain': 'ocean'},\n",
       " {'y': 18,\n",
       "  'rainfall': 16.0,\n",
       "  'x': 19,\n",
       "  'key': '19:18',\n",
       "  'elevation': 0.0,\n",
       "  'terrain': 'ocean'},\n",
       " {'y': 18,\n",
       "  'rainfall': 16.0,\n",
       "  'x': 20,\n",
       "  'key': '20:18',\n",
       "  'elevation': 1.0,\n",
       "  'terrain': 'land'},\n",
       " {'y': 18,\n",
       "  'rainfall': 12.0,\n",
       "  'x': 21,\n",
       "  'key': '21:18',\n",
       "  'elevation': 0.0,\n",
       "  'terrain': 'ocean'},\n",
       " {'y': 18,\n",
       "  'rainfall': 8.0,\n",
       "  'x': 22,\n",
       "  'key': '22:18',\n",
       "  'elevation': -1.0,\n",
       "  'terrain': 'ocean'},\n",
       " {'y': 18,\n",
       "  'rainfall': 7.0,\n",
       "  'x': 23,\n",
       "  'key': '23:18',\n",
       "  'elevation': -1.0,\n",
       "  'terrain': 'ocean'},\n",
       " {'y': 18,\n",
       "  'rainfall': 8.0,\n",
       "  'x': 24,\n",
       "  'key': '24:18',\n",
       "  'elevation': 2.0,\n",
       "  'terrain': 'land'},\n",
       " {'y': 18,\n",
       "  'rainfall': 7.0,\n",
       "  'x': 25,\n",
       "  'key': '25:18',\n",
       "  'elevation': 3.0,\n",
       "  'terrain': 'land'},\n",
       " {'y': 18,\n",
       "  'rainfall': 6.0,\n",
       "  'x': 26,\n",
       "  'key': '26:18',\n",
       "  'elevation': 3.0,\n",
       "  'terrain': 'land'},\n",
       " {'y': 18,\n",
       "  'rainfall': 8.0,\n",
       "  'x': 27,\n",
       "  'key': '27:18',\n",
       "  'elevation': 5.0,\n",
       "  'terrain': 'land'},\n",
       " {'y': 18,\n",
       "  'rainfall': 6.0,\n",
       "  'x': 28,\n",
       "  'key': '28:18',\n",
       "  'elevation': 4.0,\n",
       "  'terrain': 'land'},\n",
       " {'y': 18,\n",
       "  'rainfall': 7.0,\n",
       "  'x': 29,\n",
       "  'key': '29:18',\n",
       "  'elevation': 6.0,\n",
       "  'terrain': 'land'},\n",
       " {'y': 18,\n",
       "  'rainfall': 6.0,\n",
       "  'x': 30,\n",
       "  'key': '30:18',\n",
       "  'elevation': 5.0,\n",
       "  'terrain': 'land'},\n",
       " {'y': 18,\n",
       "  'rainfall': 5.0,\n",
       "  'x': 31,\n",
       "  'key': '31:18',\n",
       "  'elevation': 4.0,\n",
       "  'terrain': 'land'},\n",
       " {'y': 18,\n",
       "  'rainfall': 4.0,\n",
       "  'x': 32,\n",
       "  'key': '32:18',\n",
       "  'elevation': 4.0,\n",
       "  'terrain': 'land'},\n",
       " {'y': 18,\n",
       "  'rainfall': 3.0,\n",
       "  'x': 33,\n",
       "  'key': '33:18',\n",
       "  'elevation': 3.0,\n",
       "  'terrain': 'land'},\n",
       " {'y': 18,\n",
       "  'rainfall': 3.0,\n",
       "  'x': 34,\n",
       "  'key': '34:18',\n",
       "  'elevation': 3.0,\n",
       "  'terrain': 'land'},\n",
       " {'y': 18,\n",
       "  'rainfall': 2.0,\n",
       "  'x': 35,\n",
       "  'key': '35:18',\n",
       "  'elevation': 2.0,\n",
       "  'terrain': 'land'},\n",
       " {'y': 18,\n",
       "  'rainfall': 0.0,\n",
       "  'x': 36,\n",
       "  'key': '36:18',\n",
       "  'elevation': 0.0,\n",
       "  'terrain': 'ocean'},\n",
       " {'y': 18,\n",
       "  'rainfall': 1.0,\n",
       "  'x': 37,\n",
       "  'key': '37:18',\n",
       "  'elevation': 1.0,\n",
       "  'terrain': 'land'},\n",
       " {'y': 18,\n",
       "  'rainfall': -1.0,\n",
       "  'x': 38,\n",
       "  'key': '38:18',\n",
       "  'elevation': -1.0,\n",
       "  'terrain': 'ocean'},\n",
       " {'y': 18,\n",
       "  'rainfall': 0.0,\n",
       "  'x': 39,\n",
       "  'key': '39:18',\n",
       "  'elevation': 0.0,\n",
       "  'terrain': 'ocean'},\n",
       " {'y': 19,\n",
       "  'rainfall': 32.0,\n",
       "  'x': 0,\n",
       "  'key': '0:19',\n",
       "  'elevation': 5.0,\n",
       "  'terrain': 'land'},\n",
       " {'y': 19,\n",
       "  'rainfall': 40.0,\n",
       "  'x': 1,\n",
       "  'key': '1:19',\n",
       "  'elevation': 7.0,\n",
       "  'terrain': 'land'},\n",
       " {'y': 19,\n",
       "  'rainfall': 41.0,\n",
       "  'x': 2,\n",
       "  'key': '2:19',\n",
       "  'elevation': 8.0,\n",
       "  'terrain': 'land'},\n",
       " {'y': 19,\n",
       "  'rainfall': 44.0,\n",
       "  'x': 3,\n",
       "  'key': '3:19',\n",
       "  'elevation': 10.0,\n",
       "  'terrain': 'land'},\n",
       " {'y': 19,\n",
       "  'rainfall': 44.0,\n",
       "  'x': 4,\n",
       "  'key': '4:19',\n",
       "  'elevation': 11.0,\n",
       "  'terrain': 'land'},\n",
       " {'y': 19,\n",
       "  'rainfall': 44.0,\n",
       "  'x': 5,\n",
       "  'key': '5:19',\n",
       "  'elevation': 11.0,\n",
       "  'terrain': 'land'},\n",
       " {'y': 19,\n",
       "  'rainfall': 42.0,\n",
       "  'x': 6,\n",
       "  'key': '6:19',\n",
       "  'elevation': 10.0,\n",
       "  'terrain': 'land'},\n",
       " {'y': 19,\n",
       "  'rainfall': 40.0,\n",
       "  'x': 7,\n",
       "  'key': '7:19',\n",
       "  'elevation': 10.0,\n",
       "  'terrain': 'land'},\n",
       " {'y': 19,\n",
       "  'rainfall': 41.0,\n",
       "  'x': 8,\n",
       "  'key': '8:19',\n",
       "  'elevation': 11.0,\n",
       "  'terrain': 'land'},\n",
       " {'y': 19,\n",
       "  'rainfall': 39.0,\n",
       "  'x': 9,\n",
       "  'key': '9:19',\n",
       "  'elevation': 9.0,\n",
       "  'terrain': 'land'},\n",
       " {'y': 19,\n",
       "  'rainfall': 37.0,\n",
       "  'x': 10,\n",
       "  'key': '10:19',\n",
       "  'elevation': 8.0,\n",
       "  'terrain': 'land'},\n",
       " {'y': 19,\n",
       "  'rainfall': 32.0,\n",
       "  'x': 11,\n",
       "  'key': '11:19',\n",
       "  'elevation': 7.0,\n",
       "  'terrain': 'land'},\n",
       " {'y': 19,\n",
       "  'rainfall': 26.0,\n",
       "  'x': 12,\n",
       "  'key': '12:19',\n",
       "  'elevation': 5.0,\n",
       "  'terrain': 'land'},\n",
       " {'y': 19,\n",
       "  'rainfall': 20.0,\n",
       "  'x': 13,\n",
       "  'key': '13:19',\n",
       "  'elevation': 1.0,\n",
       "  'terrain': 'land'},\n",
       " {'y': 19,\n",
       "  'rainfall': 19.0,\n",
       "  'x': 14,\n",
       "  'key': '14:19',\n",
       "  'elevation': 3.0,\n",
       "  'terrain': 'land'},\n",
       " {'y': 19,\n",
       "  'rainfall': 15.0,\n",
       "  'x': 15,\n",
       "  'key': '15:19',\n",
       "  'elevation': 2.0,\n",
       "  'terrain': 'land'},\n",
       " {'y': 19,\n",
       "  'rainfall': 12.0,\n",
       "  'x': 16,\n",
       "  'key': '16:19',\n",
       "  'elevation': 0.0,\n",
       "  'terrain': 'ocean'},\n",
       " {'y': 19,\n",
       "  'rainfall': 10.0,\n",
       "  'x': 17,\n",
       "  'key': '17:19',\n",
       "  'elevation': 0.0,\n",
       "  'terrain': 'ocean'},\n",
       " {'y': 19,\n",
       "  'rainfall': 10.0,\n",
       "  'x': 18,\n",
       "  'key': '18:19',\n",
       "  'elevation': 0.0,\n",
       "  'terrain': 'ocean'},\n",
       " {'y': 19,\n",
       "  'rainfall': 11.0,\n",
       "  'x': 19,\n",
       "  'key': '19:19',\n",
       "  'elevation': 1.0,\n",
       "  'terrain': 'land'},\n",
       " {'y': 19,\n",
       "  'rainfall': 8.0,\n",
       "  'x': 20,\n",
       "  'key': '20:19',\n",
       "  'elevation': -2.0,\n",
       "  'terrain': 'ocean'},\n",
       " {'y': 19,\n",
       "  'rainfall': 11.0,\n",
       "  'x': 21,\n",
       "  'key': '21:19',\n",
       "  'elevation': 1.0,\n",
       "  'terrain': 'land'},\n",
       " {'y': 19,\n",
       "  'rainfall': 7.0,\n",
       "  'x': 22,\n",
       "  'key': '22:19',\n",
       "  'elevation': 0.0,\n",
       "  'terrain': 'ocean'},\n",
       " {'y': 19,\n",
       "  'rainfall': 7.0,\n",
       "  'x': 23,\n",
       "  'key': '23:19',\n",
       "  'elevation': -1.0,\n",
       "  'terrain': 'ocean'},\n",
       " {'y': 19,\n",
       "  'rainfall': 8.0,\n",
       "  'x': 24,\n",
       "  'key': '24:19',\n",
       "  'elevation': -1.0,\n",
       "  'terrain': 'ocean'},\n",
       " {'y': 19,\n",
       "  'rainfall': 8.0,\n",
       "  'x': 25,\n",
       "  'key': '25:19',\n",
       "  'elevation': 2.0,\n",
       "  'terrain': 'land'},\n",
       " {'y': 19,\n",
       "  'rainfall': 12.0,\n",
       "  'x': 26,\n",
       "  'key': '26:19',\n",
       "  'elevation': 7.0,\n",
       "  'terrain': 'land'},\n",
       " {'y': 19,\n",
       "  'rainfall': 14.0,\n",
       "  'x': 27,\n",
       "  'key': '27:19',\n",
       "  'elevation': 9.0,\n",
       "  'terrain': 'land'},\n",
       " {'y': 19,\n",
       "  'rainfall': 14.0,\n",
       "  'x': 28,\n",
       "  'key': '28:19',\n",
       "  'elevation': 9.0,\n",
       "  'terrain': 'land'},\n",
       " {'y': 19,\n",
       "  'rainfall': 14.0,\n",
       "  'x': 29,\n",
       "  'key': '29:19',\n",
       "  'elevation': 9.0,\n",
       "  'terrain': 'land'},\n",
       " {'y': 19,\n",
       "  'rainfall': 11.0,\n",
       "  'x': 30,\n",
       "  'key': '30:19',\n",
       "  'elevation': 6.0,\n",
       "  'terrain': 'land'},\n",
       " {'y': 19,\n",
       "  'rainfall': 13.0,\n",
       "  'x': 31,\n",
       "  'key': '31:19',\n",
       "  'elevation': 9.0,\n",
       "  'terrain': 'land'},\n",
       " {'y': 19,\n",
       "  'rainfall': 9.0,\n",
       "  'x': 32,\n",
       "  'key': '32:19',\n",
       "  'elevation': 8.0,\n",
       "  'terrain': 'land'},\n",
       " {'y': 19,\n",
       "  'rainfall': 6.0,\n",
       "  'x': 33,\n",
       "  'key': '33:19',\n",
       "  'elevation': 6.0,\n",
       "  'terrain': 'land'},\n",
       " {'y': 19,\n",
       "  'rainfall': 4.0,\n",
       "  'x': 34,\n",
       "  'key': '34:19',\n",
       "  'elevation': 4.0,\n",
       "  'terrain': 'land'},\n",
       " {'y': 19,\n",
       "  'rainfall': 2.0,\n",
       "  'x': 35,\n",
       "  'key': '35:19',\n",
       "  'elevation': 2.0,\n",
       "  'terrain': 'land'},\n",
       " {'y': 19,\n",
       "  'rainfall': 1.0,\n",
       "  'x': 36,\n",
       "  'key': '36:19',\n",
       "  'elevation': 1.0,\n",
       "  'terrain': 'land'},\n",
       " {'y': 19,\n",
       "  'rainfall': 1.0,\n",
       "  'x': 37,\n",
       "  'key': '37:19',\n",
       "  'elevation': 1.0,\n",
       "  'terrain': 'land'},\n",
       " {'y': 19,\n",
       "  'rainfall': 0.0,\n",
       "  'x': 38,\n",
       "  'key': '38:19',\n",
       "  'elevation': 0.0,\n",
       "  'terrain': 'ocean'},\n",
       " {'y': 19,\n",
       "  'rainfall': 1.0,\n",
       "  'x': 39,\n",
       "  'key': '39:19',\n",
       "  'elevation': 1.0,\n",
       "  'terrain': 'land'},\n",
       " {'y': 20,\n",
       "  'rainfall': 40.0,\n",
       "  'x': 0,\n",
       "  'key': '0:20',\n",
       "  'elevation': 6.0,\n",
       "  'terrain': 'land'},\n",
       " {'y': 20,\n",
       "  'rainfall': 43.0,\n",
       "  'x': 1,\n",
       "  'key': '1:20',\n",
       "  'elevation': 7.0,\n",
       "  'terrain': 'land'},\n",
       " {'y': 20,\n",
       "  'rainfall': 46.0,\n",
       "  'x': 2,\n",
       "  'key': '2:20',\n",
       "  'elevation': 10.0,\n",
       "  'terrain': 'land'},\n",
       " {'y': 20,\n",
       "  'rainfall': 47.0,\n",
       "  'x': 3,\n",
       "  'key': '3:20',\n",
       "  'elevation': 12.0,\n",
       "  'terrain': 'land'},\n",
       " {'y': 20,\n",
       "  'rainfall': 45.0,\n",
       "  'x': 4,\n",
       "  'key': '4:20',\n",
       "  'elevation': 11.0,\n",
       "  'terrain': 'land'},\n",
       " {'y': 20,\n",
       "  'rainfall': 46.0,\n",
       "  'x': 5,\n",
       "  'key': '5:20',\n",
       "  'elevation': 12.0,\n",
       "  'terrain': 'land'},\n",
       " {'y': 20,\n",
       "  'rainfall': 49.0,\n",
       "  'x': 6,\n",
       "  'key': '6:20',\n",
       "  'elevation': 14.0,\n",
       "  'terrain': 'land'},\n",
       " {'y': 20,\n",
       "  'rainfall': 45.0,\n",
       "  'x': 7,\n",
       "  'key': '7:20',\n",
       "  'elevation': 12.0,\n",
       "  'terrain': 'land'},\n",
       " {'y': 20,\n",
       "  'rainfall': 47.0,\n",
       "  'x': 8,\n",
       "  'key': '8:20',\n",
       "  'elevation': 13.0,\n",
       "  'terrain': 'land'},\n",
       " {'y': 20,\n",
       "  'rainfall': 45.0,\n",
       "  'x': 9,\n",
       "  'key': '9:20',\n",
       "  'elevation': 12.0,\n",
       "  'terrain': 'land'},\n",
       " {'y': 20,\n",
       "  'rainfall': 40.0,\n",
       "  'x': 10,\n",
       "  'key': '10:20',\n",
       "  'elevation': 9.0,\n",
       "  'terrain': 'land'},\n",
       " {'y': 20,\n",
       "  'rainfall': 35.0,\n",
       "  'x': 11,\n",
       "  'key': '11:20',\n",
       "  'elevation': 10.0,\n",
       "  'terrain': 'land'},\n",
       " {'y': 20,\n",
       "  'rainfall': 26.0,\n",
       "  'x': 12,\n",
       "  'key': '12:20',\n",
       "  'elevation': 6.0,\n",
       "  'terrain': 'land'},\n",
       " {'y': 20,\n",
       "  'rainfall': 22.0,\n",
       "  'x': 13,\n",
       "  'key': '13:20',\n",
       "  'elevation': 5.0,\n",
       "  'terrain': 'land'},\n",
       " {'y': 20,\n",
       "  'rainfall': 16.0,\n",
       "  'x': 14,\n",
       "  'key': '14:20',\n",
       "  'elevation': 3.0,\n",
       "  'terrain': 'land'},\n",
       " {'y': 20,\n",
       "  'rainfall': 14.0,\n",
       "  'x': 15,\n",
       "  'key': '15:20',\n",
       "  'elevation': 3.0,\n",
       "  'terrain': 'land'},\n",
       " {'y': 20,\n",
       "  'rainfall': 9.0,\n",
       "  'x': 16,\n",
       "  'key': '16:20',\n",
       "  'elevation': 0.0,\n",
       "  'terrain': 'ocean'},\n",
       " {'y': 20,\n",
       "  'rainfall': 9.0,\n",
       "  'x': 17,\n",
       "  'key': '17:20',\n",
       "  'elevation': 2.0,\n",
       "  'terrain': 'land'},\n",
       " {'y': 20,\n",
       "  'rainfall': 6.0,\n",
       "  'x': 18,\n",
       "  'key': '18:20',\n",
       "  'elevation': -1.0,\n",
       "  'terrain': 'ocean'},\n",
       " {'y': 20,\n",
       "  'rainfall': 6.0,\n",
       "  'x': 19,\n",
       "  'key': '19:20',\n",
       "  'elevation': -1.0,\n",
       "  'terrain': 'ocean'},\n",
       " {'y': 20,\n",
       "  'rainfall': 6.0,\n",
       "  'x': 20,\n",
       "  'key': '20:20',\n",
       "  'elevation': -1.0,\n",
       "  'terrain': 'ocean'},\n",
       " {'y': 20,\n",
       "  'rainfall': 6.0,\n",
       "  'x': 21,\n",
       "  'key': '21:20',\n",
       "  'elevation': -1.0,\n",
       "  'terrain': 'ocean'},\n",
       " {'y': 20,\n",
       "  'rainfall': 7.0,\n",
       "  'x': 22,\n",
       "  'key': '22:20',\n",
       "  'elevation': 0.0,\n",
       "  'terrain': 'ocean'},\n",
       " {'y': 20,\n",
       "  'rainfall': 6.0,\n",
       "  'x': 23,\n",
       "  'key': '23:20',\n",
       "  'elevation': -2.0,\n",
       "  'terrain': 'ocean'},\n",
       " {'y': 20,\n",
       "  'rainfall': 11.0,\n",
       "  'x': 24,\n",
       "  'key': '24:20',\n",
       "  'elevation': 1.0,\n",
       "  'terrain': 'land'},\n",
       " {'y': 20,\n",
       "  'rainfall': 12.0,\n",
       "  'x': 25,\n",
       "  'key': '25:20',\n",
       "  'elevation': 2.0,\n",
       "  'terrain': 'land'},\n",
       " {'y': 20,\n",
       "  'rainfall': 14.0,\n",
       "  'x': 26,\n",
       "  'key': '26:20',\n",
       "  'elevation': 5.0,\n",
       "  'terrain': 'land'},\n",
       " {'y': 20,\n",
       "  'rainfall': 18.0,\n",
       "  'x': 27,\n",
       "  'key': '27:20',\n",
       "  'elevation': 8.0,\n",
       "  'terrain': 'land'},\n",
       " {'y': 20,\n",
       "  'rainfall': 24.0,\n",
       "  'x': 28,\n",
       "  'key': '28:20',\n",
       "  'elevation': 14.0,\n",
       "  'terrain': 'land'},\n",
       " {'y': 20,\n",
       "  'rainfall': 24.0,\n",
       "  'x': 29,\n",
       "  'key': '29:20',\n",
       "  'elevation': 14.0,\n",
       "  'terrain': 'land'},\n",
       " {'y': 20,\n",
       "  'rainfall': 23.0,\n",
       "  'x': 30,\n",
       "  'key': '30:20',\n",
       "  'elevation': 14.0,\n",
       "  'terrain': 'land'},\n",
       " {'y': 20,\n",
       "  'rainfall': 17.0,\n",
       "  'x': 31,\n",
       "  'key': '31:20',\n",
       "  'elevation': 11.0,\n",
       "  'terrain': 'land'},\n",
       " {'y': 20,\n",
       "  'rainfall': 11.0,\n",
       "  'x': 32,\n",
       "  'key': '32:20',\n",
       "  'elevation': 9.0,\n",
       "  'terrain': 'land'},\n",
       " {'y': 20,\n",
       "  'rainfall': 9.0,\n",
       "  'x': 33,\n",
       "  'key': '33:20',\n",
       "  'elevation': 8.0,\n",
       "  'terrain': 'land'},\n",
       " {'y': 20,\n",
       "  'rainfall': 4.0,\n",
       "  'x': 34,\n",
       "  'key': '34:20',\n",
       "  'elevation': 3.0,\n",
       "  'terrain': 'land'},\n",
       " {'y': 20,\n",
       "  'rainfall': 3.0,\n",
       "  'x': 35,\n",
       "  'key': '35:20',\n",
       "  'elevation': 2.0,\n",
       "  'terrain': 'land'},\n",
       " {'y': 20,\n",
       "  'rainfall': 1.0,\n",
       "  'x': 36,\n",
       "  'key': '36:20',\n",
       "  'elevation': 0.0,\n",
       "  'terrain': 'ocean'},\n",
       " {'y': 20,\n",
       "  'rainfall': -1.0,\n",
       "  'x': 37,\n",
       "  'key': '37:20',\n",
       "  'elevation': -1.0,\n",
       "  'terrain': 'ocean'},\n",
       " {'y': 20,\n",
       "  'rainfall': -2.0,\n",
       "  'x': 38,\n",
       "  'key': '38:20',\n",
       "  'elevation': -2.0,\n",
       "  'terrain': 'ocean'},\n",
       " {'y': 20,\n",
       "  'rainfall': 1.0,\n",
       "  'x': 39,\n",
       "  'key': '39:20',\n",
       "  'elevation': 1.0,\n",
       "  'terrain': 'land'},\n",
       " {'y': 21,\n",
       "  'rainfall': 46.0,\n",
       "  'x': 0,\n",
       "  'key': '0:21',\n",
       "  'elevation': 9.0,\n",
       "  'terrain': 'land'},\n",
       " {'y': 21,\n",
       "  'rainfall': 51.0,\n",
       "  'x': 1,\n",
       "  'key': '1:21',\n",
       "  'elevation': 13.0,\n",
       "  'terrain': 'land'},\n",
       " {'y': 21,\n",
       "  'rainfall': 53.0,\n",
       "  'x': 2,\n",
       "  'key': '2:21',\n",
       "  'elevation': 16.0,\n",
       "  'terrain': 'land'},\n",
       " {'y': 21,\n",
       "  'rainfall': 54.0,\n",
       "  'x': 3,\n",
       "  'key': '3:21',\n",
       "  'elevation': 17.0,\n",
       "  'terrain': 'land'},\n",
       " {'y': 21,\n",
       "  'rainfall': 53.0,\n",
       "  'x': 4,\n",
       "  'key': '4:21',\n",
       "  'elevation': 19.0,\n",
       "  'terrain': 'land'},\n",
       " {'y': 21,\n",
       "  'rainfall': 53.0,\n",
       "  'x': 5,\n",
       "  'key': '5:21',\n",
       "  'elevation': 18.0,\n",
       "  'terrain': 'land'},\n",
       " {'y': 21,\n",
       "  'rainfall': 58.0,\n",
       "  'x': 6,\n",
       "  'key': '6:21',\n",
       "  'elevation': 21.0,\n",
       "  'terrain': 'land'},\n",
       " {'y': 21,\n",
       "  'rainfall': 57.0,\n",
       "  'x': 7,\n",
       "  'key': '7:21',\n",
       "  'elevation': 18.0,\n",
       "  'terrain': 'land'},\n",
       " {'y': 21,\n",
       "  'rainfall': 58.0,\n",
       "  'x': 8,\n",
       "  'key': '8:21',\n",
       "  'elevation': 19.0,\n",
       "  'terrain': 'land'},\n",
       " {'y': 21,\n",
       "  'rainfall': 55.0,\n",
       "  'x': 9,\n",
       "  'key': '9:21',\n",
       "  'elevation': 18.0,\n",
       "  'terrain': 'land'},\n",
       " {'y': 21,\n",
       "  'rainfall': 45.0,\n",
       "  'x': 10,\n",
       "  'key': '10:21',\n",
       "  'elevation': 14.0,\n",
       "  'terrain': 'land'},\n",
       " {'y': 21,\n",
       "  'rainfall': 39.0,\n",
       "  'x': 11,\n",
       "  'key': '11:21',\n",
       "  'elevation': 14.0,\n",
       "  'terrain': 'land'},\n",
       " {'y': 21,\n",
       "  'rainfall': 30.0,\n",
       "  'x': 12,\n",
       "  'key': '12:21',\n",
       "  'elevation': 8.0,\n",
       "  'terrain': 'land'},\n",
       " {'y': 21,\n",
       "  'rainfall': 28.0,\n",
       "  'x': 13,\n",
       "  'key': '13:21',\n",
       "  'elevation': 9.0,\n",
       "  'terrain': 'land'},\n",
       " {'y': 21,\n",
       "  'rainfall': 19.0,\n",
       "  'x': 14,\n",
       "  'key': '14:21',\n",
       "  'elevation': 5.0,\n",
       "  'terrain': 'land'},\n",
       " {'y': 21,\n",
       "  'rainfall': 16.0,\n",
       "  'x': 15,\n",
       "  'key': '15:21',\n",
       "  'elevation': 3.0,\n",
       "  'terrain': 'land'},\n",
       " {'y': 21,\n",
       "  'rainfall': 13.0,\n",
       "  'x': 16,\n",
       "  'key': '16:21',\n",
       "  'elevation': 0.0,\n",
       "  'terrain': 'ocean'},\n",
       " {'y': 21,\n",
       "  'rainfall': 10.0,\n",
       "  'x': 17,\n",
       "  'key': '17:21',\n",
       "  'elevation': 0.0,\n",
       "  'terrain': 'ocean'},\n",
       " {'y': 21,\n",
       "  'rainfall': 9.0,\n",
       "  'x': 18,\n",
       "  'key': '18:21',\n",
       "  'elevation': 1.0,\n",
       "  'terrain': 'land'},\n",
       " {'y': 21,\n",
       "  'rainfall': 7.0,\n",
       "  'x': 19,\n",
       "  'key': '19:21',\n",
       "  'elevation': -1.0,\n",
       "  'terrain': 'ocean'},\n",
       " {'y': 21,\n",
       "  'rainfall': 9.0,\n",
       "  'x': 20,\n",
       "  'key': '20:21',\n",
       "  'elevation': 2.0,\n",
       "  'terrain': 'land'},\n",
       " {'y': 21,\n",
       "  'rainfall': 6.0,\n",
       "  'x': 21,\n",
       "  'key': '21:21',\n",
       "  'elevation': 0.0,\n",
       "  'terrain': 'ocean'},\n",
       " {'y': 21,\n",
       "  'rainfall': 7.0,\n",
       "  'x': 22,\n",
       "  'key': '22:21',\n",
       "  'elevation': 1.0,\n",
       "  'terrain': 'land'},\n",
       " {'y': 21,\n",
       "  'rainfall': 8.0,\n",
       "  'x': 23,\n",
       "  'key': '23:21',\n",
       "  'elevation': 0.0,\n",
       "  'terrain': 'ocean'},\n",
       " {'y': 21,\n",
       "  'rainfall': 11.0,\n",
       "  'x': 24,\n",
       "  'key': '24:21',\n",
       "  'elevation': 1.0,\n",
       "  'terrain': 'land'},\n",
       " {'y': 21,\n",
       "  'rainfall': 15.0,\n",
       "  'x': 25,\n",
       "  'key': '25:21',\n",
       "  'elevation': 3.0,\n",
       "  'terrain': 'land'},\n",
       " {'y': 21,\n",
       "  'rainfall': 19.0,\n",
       "  'x': 26,\n",
       "  'key': '26:21',\n",
       "  'elevation': 6.0,\n",
       "  'terrain': 'land'},\n",
       " {'y': 21,\n",
       "  'rainfall': 24.0,\n",
       "  'x': 27,\n",
       "  'key': '27:21',\n",
       "  'elevation': 10.0,\n",
       "  'terrain': 'land'},\n",
       " {'y': 21,\n",
       "  'rainfall': 28.0,\n",
       "  'x': 28,\n",
       "  'key': '28:21',\n",
       "  'elevation': 13.0,\n",
       "  'terrain': 'land'},\n",
       " {'y': 21,\n",
       "  'rainfall': 29.0,\n",
       "  'x': 29,\n",
       "  'key': '29:21',\n",
       "  'elevation': 15.0,\n",
       "  'terrain': 'land'},\n",
       " {'y': 21,\n",
       "  'rainfall': 28.0,\n",
       "  'x': 30,\n",
       "  'key': '30:21',\n",
       "  'elevation': 17.0,\n",
       "  'terrain': 'land'},\n",
       " {'y': 21,\n",
       "  'rainfall': 22.0,\n",
       "  'x': 31,\n",
       "  'key': '31:21',\n",
       "  'elevation': 16.0,\n",
       "  'terrain': 'land'},\n",
       " {'y': 21,\n",
       "  'rainfall': 14.0,\n",
       "  'x': 32,\n",
       "  'key': '32:21',\n",
       "  'elevation': 12.0,\n",
       "  'terrain': 'land'},\n",
       " {'y': 21,\n",
       "  'rainfall': 10.0,\n",
       "  'x': 33,\n",
       "  'key': '33:21',\n",
       "  'elevation': 8.0,\n",
       "  'terrain': 'land'},\n",
       " {'y': 21,\n",
       "  'rainfall': 6.0,\n",
       "  'x': 34,\n",
       "  'key': '34:21',\n",
       "  'elevation': 4.0,\n",
       "  'terrain': 'land'},\n",
       " {'y': 21,\n",
       "  'rainfall': 5.0,\n",
       "  'x': 35,\n",
       "  'key': '35:21',\n",
       "  'elevation': 3.0,\n",
       "  'terrain': 'land'},\n",
       " {'y': 21,\n",
       "  'rainfall': 3.0,\n",
       "  'x': 36,\n",
       "  'key': '36:21',\n",
       "  'elevation': 2.0,\n",
       "  'terrain': 'land'},\n",
       " {'y': 21,\n",
       "  'rainfall': -1.0,\n",
       "  'x': 37,\n",
       "  'key': '37:21',\n",
       "  'elevation': -1.0,\n",
       "  'terrain': 'ocean'},\n",
       " {'y': 21,\n",
       "  'rainfall': 1.0,\n",
       "  'x': 38,\n",
       "  'key': '38:21',\n",
       "  'elevation': 1.0,\n",
       "  'terrain': 'land'},\n",
       " {'y': 21,\n",
       "  'rainfall': 2.0,\n",
       "  'x': 39,\n",
       "  'key': '39:21',\n",
       "  'elevation': 2.0,\n",
       "  'terrain': 'land'},\n",
       " {'y': 22,\n",
       "  'rainfall': 51.0,\n",
       "  'x': 0,\n",
       "  'key': '0:22',\n",
       "  'elevation': 15.0,\n",
       "  'terrain': 'land'},\n",
       " {'y': 22,\n",
       "  'rainfall': 54.0,\n",
       "  'x': 1,\n",
       "  'key': '1:22',\n",
       "  'elevation': 18.0,\n",
       "  'terrain': 'land'},\n",
       " {'y': 22,\n",
       "  'rainfall': 60.0,\n",
       "  'x': 2,\n",
       "  'key': '2:22',\n",
       "  'elevation': 22.0,\n",
       "  'terrain': 'land'},\n",
       " {'y': 22,\n",
       "  'rainfall': 61.0,\n",
       "  'x': 3,\n",
       "  'key': '3:22',\n",
       "  'elevation': 25.0,\n",
       "  'terrain': 'mountain'},\n",
       " {'y': 22,\n",
       "  'rainfall': 58.0,\n",
       "  'x': 4,\n",
       "  'key': '4:22',\n",
       "  'elevation': 24.0,\n",
       "  'terrain': 'land'},\n",
       " {'y': 22,\n",
       "  'rainfall': 60.0,\n",
       "  'x': 5,\n",
       "  'key': '5:22',\n",
       "  'elevation': 26.0,\n",
       "  'terrain': 'mountain'},\n",
       " {'y': 22,\n",
       "  'rainfall': 61.0,\n",
       "  'x': 6,\n",
       "  'key': '6:22',\n",
       "  'elevation': 24.0,\n",
       "  'terrain': 'land'},\n",
       " {'y': 22,\n",
       "  'rainfall': 64.0,\n",
       "  'x': 7,\n",
       "  'key': '7:22',\n",
       "  'elevation': 24.0,\n",
       "  'terrain': 'land'},\n",
       " {'y': 22,\n",
       "  'rainfall': 67.0,\n",
       "  'x': 8,\n",
       "  'key': '8:22',\n",
       "  'elevation': 24.0,\n",
       "  'terrain': 'land'},\n",
       " {'y': 22,\n",
       "  'rainfall': 59.0,\n",
       "  'x': 9,\n",
       "  'key': '9:22',\n",
       "  'elevation': 21.0,\n",
       "  'terrain': 'land'},\n",
       " {'y': 22,\n",
       "  'rainfall': 50.0,\n",
       "  'x': 10,\n",
       "  'key': '10:22',\n",
       "  'elevation': 18.0,\n",
       "  'terrain': 'land'},\n",
       " {'y': 22,\n",
       "  'rainfall': 39.0,\n",
       "  'x': 11,\n",
       "  'key': '11:22',\n",
       "  'elevation': 13.0,\n",
       "  'terrain': 'land'},\n",
       " {'y': 22,\n",
       "  'rainfall': 34.0,\n",
       "  'x': 12,\n",
       "  'key': '12:22',\n",
       "  'elevation': 12.0,\n",
       "  'terrain': 'land'},\n",
       " {'y': 22,\n",
       "  'rainfall': 27.0,\n",
       "  'x': 13,\n",
       "  'key': '13:22',\n",
       "  'elevation': 8.0,\n",
       "  'terrain': 'land'},\n",
       " {'y': 22,\n",
       "  'rainfall': 21.0,\n",
       "  'x': 14,\n",
       "  'key': '14:22',\n",
       "  'elevation': 4.0,\n",
       "  'terrain': 'land'},\n",
       " {'y': 22,\n",
       "  'rainfall': 20.0,\n",
       "  'x': 15,\n",
       "  'key': '15:22',\n",
       "  'elevation': 4.0,\n",
       "  'terrain': 'land'},\n",
       " {'y': 22,\n",
       "  'rainfall': 19.0,\n",
       "  'x': 16,\n",
       "  'key': '16:22',\n",
       "  'elevation': 2.0,\n",
       "  'terrain': 'land'},\n",
       " {'y': 22,\n",
       "  'rainfall': 14.0,\n",
       "  'x': 17,\n",
       "  'key': '17:22',\n",
       "  'elevation': 0.0,\n",
       "  'terrain': 'ocean'},\n",
       " {'y': 22,\n",
       "  'rainfall': 11.0,\n",
       "  'x': 18,\n",
       "  'key': '18:22',\n",
       "  'elevation': -1.0,\n",
       "  'terrain': 'ocean'},\n",
       " {'y': 22,\n",
       "  'rainfall': 12.0,\n",
       "  'x': 19,\n",
       "  'key': '19:22',\n",
       "  'elevation': 1.0,\n",
       "  'terrain': 'land'},\n",
       " {'y': 22,\n",
       "  'rainfall': 9.0,\n",
       "  'x': 20,\n",
       "  'key': '20:22',\n",
       "  'elevation': 0.0,\n",
       "  'terrain': 'ocean'},\n",
       " {'y': 22,\n",
       "  'rainfall': 7.0,\n",
       "  'x': 21,\n",
       "  'key': '21:22',\n",
       "  'elevation': 0.0,\n",
       "  'terrain': 'ocean'},\n",
       " {'y': 22,\n",
       "  'rainfall': 5.0,\n",
       "  'x': 22,\n",
       "  'key': '22:22',\n",
       "  'elevation': -1.0,\n",
       "  'terrain': 'ocean'},\n",
       " {'y': 22,\n",
       "  'rainfall': 7.0,\n",
       "  'x': 23,\n",
       "  'key': '23:22',\n",
       "  'elevation': 0.0,\n",
       "  'terrain': 'ocean'},\n",
       " {'y': 22,\n",
       "  'rainfall': 12.0,\n",
       "  'x': 24,\n",
       "  'key': '24:22',\n",
       "  'elevation': 2.0,\n",
       "  'terrain': 'land'},\n",
       " {'y': 22,\n",
       "  'rainfall': 14.0,\n",
       "  'x': 25,\n",
       "  'key': '25:22',\n",
       "  'elevation': 2.0,\n",
       "  'terrain': 'land'},\n",
       " {'y': 22,\n",
       "  'rainfall': 21.0,\n",
       "  'x': 26,\n",
       "  'key': '26:22',\n",
       "  'elevation': 6.0,\n",
       "  'terrain': 'land'},\n",
       " {'y': 22,\n",
       "  'rainfall': 26.0,\n",
       "  'x': 27,\n",
       "  'key': '27:22',\n",
       "  'elevation': 8.0,\n",
       "  'terrain': 'land'},\n",
       " {'y': 22,\n",
       "  'rainfall': 32.0,\n",
       "  'x': 28,\n",
       "  'key': '28:22',\n",
       "  'elevation': 14.0,\n",
       "  'terrain': 'land'},\n",
       " {'y': 22,\n",
       "  'rainfall': 34.0,\n",
       "  'x': 29,\n",
       "  'key': '29:22',\n",
       "  'elevation': 18.0,\n",
       "  'terrain': 'land'},\n",
       " {'y': 22,\n",
       "  'rainfall': 28.0,\n",
       "  'x': 30,\n",
       "  'key': '30:22',\n",
       "  'elevation': 17.0,\n",
       "  'terrain': 'land'},\n",
       " {'y': 22,\n",
       "  'rainfall': 24.0,\n",
       "  'x': 31,\n",
       "  'key': '31:22',\n",
       "  'elevation': 18.0,\n",
       "  'terrain': 'land'},\n",
       " {'y': 22,\n",
       "  'rainfall': 17.0,\n",
       "  'x': 32,\n",
       "  'key': '32:22',\n",
       "  'elevation': 15.0,\n",
       "  'terrain': 'land'},\n",
       " {'y': 22,\n",
       "  'rainfall': 14.0,\n",
       "  'x': 33,\n",
       "  'key': '33:22',\n",
       "  'elevation': 12.0,\n",
       "  'terrain': 'land'},\n",
       " {'y': 22,\n",
       "  'rainfall': 11.0,\n",
       "  'x': 34,\n",
       "  'key': '34:22',\n",
       "  'elevation': 8.0,\n",
       "  'terrain': 'land'},\n",
       " {'y': 22,\n",
       "  'rainfall': 9.0,\n",
       "  'x': 35,\n",
       "  'key': '35:22',\n",
       "  'elevation': 7.0,\n",
       "  'terrain': 'land'},\n",
       " {'y': 22,\n",
       "  'rainfall': 4.0,\n",
       "  'x': 36,\n",
       "  'key': '36:22',\n",
       "  'elevation': 3.0,\n",
       "  'terrain': 'land'},\n",
       " {'y': 22,\n",
       "  'rainfall': 1.0,\n",
       "  'x': 37,\n",
       "  'key': '37:22',\n",
       "  'elevation': 1.0,\n",
       "  'terrain': 'land'},\n",
       " {'y': 22,\n",
       "  'rainfall': 2.0,\n",
       "  'x': 38,\n",
       "  'key': '38:22',\n",
       "  'elevation': 2.0,\n",
       "  'terrain': 'land'},\n",
       " {'y': 22,\n",
       "  'rainfall': -1.0,\n",
       "  'x': 39,\n",
       "  'key': '39:22',\n",
       "  'elevation': -1.0,\n",
       "  'terrain': 'ocean'},\n",
       " {'y': 23,\n",
       "  'rainfall': 56.0,\n",
       "  'x': 0,\n",
       "  'key': '0:23',\n",
       "  'elevation': 23.0,\n",
       "  'terrain': 'land'},\n",
       " {'y': 23,\n",
       "  'rainfall': 61.0,\n",
       "  'x': 1,\n",
       "  'key': '1:23',\n",
       "  'elevation': 25.0,\n",
       "  'terrain': 'mountain'},\n",
       " {'y': 23,\n",
       "  'rainfall': 65.0,\n",
       "  'x': 2,\n",
       "  'key': '2:23',\n",
       "  'elevation': 30.0,\n",
       "  'terrain': 'mountain'},\n",
       " {'y': 23,\n",
       "  'rainfall': 71.0,\n",
       "  'x': 3,\n",
       "  'key': '3:23',\n",
       "  'elevation': 35.0,\n",
       "  'terrain': 'mountain'},\n",
       " {'y': 23,\n",
       "  'rainfall': 66.0,\n",
       "  'x': 4,\n",
       "  'key': '4:23',\n",
       "  'elevation': 32.0,\n",
       "  'terrain': 'mountain'},\n",
       " {'y': 23,\n",
       "  'rainfall': 66.0,\n",
       "  'x': 5,\n",
       "  'key': '5:23',\n",
       "  'elevation': 32.0,\n",
       "  'terrain': 'mountain'},\n",
       " {'y': 23,\n",
       "  'rainfall': 68.0,\n",
       "  'x': 6,\n",
       "  'key': '6:23',\n",
       "  'elevation': 31.0,\n",
       "  'terrain': 'mountain'},\n",
       " {'y': 23,\n",
       "  'rainfall': 74.0,\n",
       "  'x': 7,\n",
       "  'key': '7:23',\n",
       "  'elevation': 32.0,\n",
       "  'terrain': 'mountain'},\n",
       " {'y': 23,\n",
       "  'rainfall': 69.0,\n",
       "  'x': 8,\n",
       "  'key': '8:23',\n",
       "  'elevation': 27.0,\n",
       "  'terrain': 'mountain'},\n",
       " {'y': 23,\n",
       "  'rainfall': 65.0,\n",
       "  'x': 9,\n",
       "  'key': '9:23',\n",
       "  'elevation': 24.0,\n",
       "  'terrain': 'land'},\n",
       " {'y': 23,\n",
       "  'rainfall': 56.0,\n",
       "  'x': 10,\n",
       "  'key': '10:23',\n",
       "  'elevation': 21.0,\n",
       "  'terrain': 'land'},\n",
       " {'y': 23,\n",
       "  'rainfall': 46.0,\n",
       "  'x': 11,\n",
       "  'key': '11:23',\n",
       "  'elevation': 18.0,\n",
       "  'terrain': 'land'},\n",
       " {'y': 23,\n",
       "  'rainfall': 37.0,\n",
       "  'x': 12,\n",
       "  'key': '12:23',\n",
       "  'elevation': 16.0,\n",
       "  'terrain': 'land'},\n",
       " {'y': 23,\n",
       "  'rainfall': 31.0,\n",
       "  'x': 13,\n",
       "  'key': '13:23',\n",
       "  'elevation': 13.0,\n",
       "  'terrain': 'land'},\n",
       " {'y': 23,\n",
       "  'rainfall': 27.0,\n",
       "  'x': 14,\n",
       "  'key': '14:23',\n",
       "  'elevation': 9.0,\n",
       "  'terrain': 'land'},\n",
       " {'y': 23,\n",
       "  'rainfall': 25.0,\n",
       "  'x': 15,\n",
       "  'key': '15:23',\n",
       "  'elevation': 5.0,\n",
       "  'terrain': 'land'},\n",
       " {'y': 23,\n",
       "  'rainfall': 20.0,\n",
       "  'x': 16,\n",
       "  'key': '16:23',\n",
       "  'elevation': 1.0,\n",
       "  'terrain': 'land'},\n",
       " {'y': 23,\n",
       "  'rainfall': 16.0,\n",
       "  'x': 17,\n",
       "  'key': '17:23',\n",
       "  'elevation': -2.0,\n",
       "  'terrain': 'ocean'},\n",
       " {'y': 23,\n",
       "  'rainfall': 19.0,\n",
       "  'x': 18,\n",
       "  'key': '18:23',\n",
       "  'elevation': 1.0,\n",
       "  'terrain': 'land'},\n",
       " {'y': 23,\n",
       "  'rainfall': 15.0,\n",
       "  'x': 19,\n",
       "  'key': '19:23',\n",
       "  'elevation': -1.0,\n",
       "  'terrain': 'ocean'},\n",
       " {'y': 23,\n",
       "  'rainfall': 12.0,\n",
       "  'x': 20,\n",
       "  'key': '20:23',\n",
       "  'elevation': 0.0,\n",
       "  'terrain': 'ocean'},\n",
       " {'y': 23,\n",
       "  'rainfall': 9.0,\n",
       "  'x': 21,\n",
       "  'key': '21:23',\n",
       "  'elevation': 0.0,\n",
       "  'terrain': 'ocean'},\n",
       " {'y': 23,\n",
       "  'rainfall': 6.0,\n",
       "  'x': 22,\n",
       "  'key': '22:23',\n",
       "  'elevation': -1.0,\n",
       "  'terrain': 'ocean'},\n",
       " {'y': 23,\n",
       "  'rainfall': 8.0,\n",
       "  'x': 23,\n",
       "  'key': '23:23',\n",
       "  'elevation': 1.0,\n",
       "  'terrain': 'land'},\n",
       " {'y': 23,\n",
       "  'rainfall': 11.0,\n",
       "  'x': 24,\n",
       "  'key': '24:23',\n",
       "  'elevation': 1.0,\n",
       "  'terrain': 'land'},\n",
       " {'y': 23,\n",
       "  'rainfall': 17.0,\n",
       "  'x': 25,\n",
       "  'key': '25:23',\n",
       "  'elevation': 4.0,\n",
       "  'terrain': 'land'},\n",
       " {'y': 23,\n",
       "  'rainfall': 22.0,\n",
       "  'x': 26,\n",
       "  'key': '26:23',\n",
       "  'elevation': 7.0,\n",
       "  'terrain': 'land'},\n",
       " {'y': 23,\n",
       "  'rainfall': 27.0,\n",
       "  'x': 27,\n",
       "  'key': '27:23',\n",
       "  'elevation': 8.0,\n",
       "  'terrain': 'land'},\n",
       " {'y': 23,\n",
       "  'rainfall': 31.0,\n",
       "  'x': 28,\n",
       "  'key': '28:23',\n",
       "  'elevation': 12.0,\n",
       "  'terrain': 'land'},\n",
       " {'y': 23,\n",
       "  'rainfall': 29.0,\n",
       "  'x': 29,\n",
       "  'key': '29:23',\n",
       "  'elevation': 14.0,\n",
       "  'terrain': 'land'},\n",
       " {'y': 23,\n",
       "  'rainfall': 30.0,\n",
       "  'x': 30,\n",
       "  'key': '30:23',\n",
       "  'elevation': 19.0,\n",
       "  'terrain': 'land'},\n",
       " {'y': 23,\n",
       "  'rainfall': 27.0,\n",
       "  'x': 31,\n",
       "  'key': '31:23',\n",
       "  'elevation': 21.0,\n",
       "  'terrain': 'land'},\n",
       " {'y': 23,\n",
       "  'rainfall': 22.0,\n",
       "  'x': 32,\n",
       "  'key': '32:23',\n",
       "  'elevation': 20.0,\n",
       "  'terrain': 'land'},\n",
       " {'y': 23,\n",
       "  'rainfall': 17.0,\n",
       "  'x': 33,\n",
       "  'key': '33:23',\n",
       "  'elevation': 15.0,\n",
       "  'terrain': 'land'},\n",
       " {'y': 23,\n",
       "  'rainfall': 14.0,\n",
       "  'x': 34,\n",
       "  'key': '34:23',\n",
       "  'elevation': 12.0,\n",
       "  'terrain': 'land'},\n",
       " {'y': 23,\n",
       "  'rainfall': 8.0,\n",
       "  'x': 35,\n",
       "  'key': '35:23',\n",
       "  'elevation': 6.0,\n",
       "  'terrain': 'land'},\n",
       " {'y': 23,\n",
       "  'rainfall': 3.0,\n",
       "  'x': 36,\n",
       "  'key': '36:23',\n",
       "  'elevation': 2.0,\n",
       "  'terrain': 'land'},\n",
       " {'y': 23,\n",
       "  'rainfall': 1.0,\n",
       "  'x': 37,\n",
       "  'key': '37:23',\n",
       "  'elevation': 1.0,\n",
       "  'terrain': 'land'},\n",
       " {'y': 23,\n",
       "  'rainfall': 1.0,\n",
       "  'x': 38,\n",
       "  'key': '38:23',\n",
       "  'elevation': 1.0,\n",
       "  'terrain': 'land'},\n",
       " {'y': 23,\n",
       "  'rainfall': -2.0,\n",
       "  'x': 39,\n",
       "  'key': '39:23',\n",
       "  'elevation': -2.0,\n",
       "  'terrain': 'ocean'},\n",
       " {'y': 24,\n",
       "  'rainfall': 57.0,\n",
       "  'x': 0,\n",
       "  'key': '0:24',\n",
       "  'elevation': 30.0,\n",
       "  'terrain': 'mountain'},\n",
       " {'y': 24,\n",
       "  'rainfall': 64.0,\n",
       "  'x': 1,\n",
       "  'key': '1:24',\n",
       "  'elevation': 34.0,\n",
       "  'terrain': 'mountain'},\n",
       " {'y': 24,\n",
       "  'rainfall': 76.0,\n",
       "  'x': 2,\n",
       "  'key': '2:24',\n",
       "  'elevation': 41.0,\n",
       "  'terrain': 'mountain'},\n",
       " {'y': 24,\n",
       "  'rainfall': 74.0,\n",
       "  'x': 3,\n",
       "  'key': '3:24',\n",
       "  'elevation': 39.0,\n",
       "  'terrain': 'mountain'},\n",
       " {'y': 24,\n",
       "  'rainfall': 76.0,\n",
       "  'x': 4,\n",
       "  'key': '4:24',\n",
       "  'elevation': 40.0,\n",
       "  'terrain': 'mountain'},\n",
       " {'y': 24,\n",
       "  'rainfall': 75.0,\n",
       "  'x': 5,\n",
       "  'key': '5:24',\n",
       "  'elevation': 38.0,\n",
       "  'terrain': 'mountain'},\n",
       " {'y': 24,\n",
       "  'rainfall': 78.0,\n",
       "  'x': 6,\n",
       "  'key': '6:24',\n",
       "  'elevation': 39.0,\n",
       "  'terrain': 'mountain'},\n",
       " {'y': 24,\n",
       "  'rainfall': 76.0,\n",
       "  'x': 7,\n",
       "  'key': '7:24',\n",
       "  'elevation': 36.0,\n",
       "  'terrain': 'mountain'},\n",
       " {'y': 24,\n",
       "  'rainfall': 73.0,\n",
       "  'x': 8,\n",
       "  'key': '8:24',\n",
       "  'elevation': 31.0,\n",
       "  'terrain': 'mountain'},\n",
       " {'y': 24,\n",
       "  'rainfall': 75.0,\n",
       "  'x': 9,\n",
       "  'key': '9:24',\n",
       "  'elevation': 30.0,\n",
       "  'terrain': 'mountain'},\n",
       " {'y': 24,\n",
       "  'rainfall': 65.0,\n",
       "  'x': 10,\n",
       "  'key': '10:24',\n",
       "  'elevation': 22.0,\n",
       "  'terrain': 'land'},\n",
       " {'y': 24,\n",
       "  'rainfall': 53.0,\n",
       "  'x': 11,\n",
       "  'key': '11:24',\n",
       "  'elevation': 22.0,\n",
       "  'terrain': 'land'},\n",
       " {'y': 24,\n",
       "  'rainfall': 42.0,\n",
       "  'x': 12,\n",
       "  'key': '12:24',\n",
       "  'elevation': 20.0,\n",
       "  'terrain': 'land'},\n",
       " {'y': 24,\n",
       "  'rainfall': 33.0,\n",
       "  'x': 13,\n",
       "  'key': '13:24',\n",
       "  'elevation': 13.0,\n",
       "  'terrain': 'land'},\n",
       " {'y': 24,\n",
       "  'rainfall': 28.0,\n",
       "  'x': 14,\n",
       "  'key': '14:24',\n",
       "  'elevation': 10.0,\n",
       "  'terrain': 'land'},\n",
       " {'y': 24,\n",
       "  'rainfall': 24.0,\n",
       "  'x': 15,\n",
       "  'key': '15:24',\n",
       "  'elevation': 5.0,\n",
       "  'terrain': 'land'},\n",
       " {'y': 24,\n",
       "  'rainfall': 26.0,\n",
       "  'x': 16,\n",
       "  'key': '16:24',\n",
       "  'elevation': 3.0,\n",
       "  'terrain': 'land'},\n",
       " {'y': 24,\n",
       "  'rainfall': 21.0,\n",
       "  'x': 17,\n",
       "  'key': '17:24',\n",
       "  'elevation': 0.0,\n",
       "  'terrain': 'ocean'},\n",
       " {'y': 24,\n",
       "  'rainfall': 23.0,\n",
       "  'x': 18,\n",
       "  'key': '18:24',\n",
       "  'elevation': 1.0,\n",
       "  'terrain': 'land'},\n",
       " {'y': 24,\n",
       "  'rainfall': 22.0,\n",
       "  'x': 19,\n",
       "  'key': '19:24',\n",
       "  'elevation': 0.0,\n",
       "  'terrain': 'ocean'},\n",
       " {'y': 24,\n",
       "  'rainfall': 16.0,\n",
       "  'x': 20,\n",
       "  'key': '20:24',\n",
       "  'elevation': -1.0,\n",
       "  'terrain': 'ocean'},\n",
       " {'y': 24,\n",
       "  'rainfall': 12.0,\n",
       "  'x': 21,\n",
       "  'key': '21:24',\n",
       "  'elevation': 0.0,\n",
       "  'terrain': 'ocean'},\n",
       " {'y': 24,\n",
       "  'rainfall': 10.0,\n",
       "  'x': 22,\n",
       "  'key': '22:24',\n",
       "  'elevation': 1.0,\n",
       "  'terrain': 'land'},\n",
       " {'y': 24,\n",
       "  'rainfall': 11.0,\n",
       "  'x': 23,\n",
       "  'key': '23:24',\n",
       "  'elevation': 2.0,\n",
       "  'terrain': 'land'},\n",
       " {'y': 24,\n",
       "  'rainfall': 13.0,\n",
       "  'x': 24,\n",
       "  'key': '24:24',\n",
       "  'elevation': 2.0,\n",
       "  'terrain': 'land'},\n",
       " {'y': 24,\n",
       "  'rainfall': 18.0,\n",
       "  'x': 25,\n",
       "  'key': '25:24',\n",
       "  'elevation': 5.0,\n",
       "  'terrain': 'land'},\n",
       " {'y': 24,\n",
       "  'rainfall': 22.0,\n",
       "  'x': 26,\n",
       "  'key': '26:24',\n",
       "  'elevation': 8.0,\n",
       "  'terrain': 'land'},\n",
       " {'y': 24,\n",
       "  'rainfall': 25.0,\n",
       "  'x': 27,\n",
       "  'key': '27:24',\n",
       "  'elevation': 9.0,\n",
       "  'terrain': 'land'},\n",
       " {'y': 24,\n",
       "  'rainfall': 28.0,\n",
       "  'x': 28,\n",
       "  'key': '28:24',\n",
       "  'elevation': 11.0,\n",
       "  'terrain': 'land'},\n",
       " {'y': 24,\n",
       "  'rainfall': 28.0,\n",
       "  'x': 29,\n",
       "  'key': '29:24',\n",
       "  'elevation': 13.0,\n",
       "  'terrain': 'land'},\n",
       " {'y': 24,\n",
       "  'rainfall': 27.0,\n",
       "  'x': 30,\n",
       "  'key': '30:24',\n",
       "  'elevation': 17.0,\n",
       "  'terrain': 'land'},\n",
       " {'y': 24,\n",
       "  'rainfall': 28.0,\n",
       "  'x': 31,\n",
       "  'key': '31:24',\n",
       "  'elevation': 22.0,\n",
       "  'terrain': 'land'},\n",
       " {'y': 24,\n",
       "  'rainfall': 25.0,\n",
       "  'x': 32,\n",
       "  'key': '32:24',\n",
       "  'elevation': 23.0,\n",
       "  'terrain': 'land'},\n",
       " {'y': 24,\n",
       "  'rainfall': 24.0,\n",
       "  'x': 33,\n",
       "  'key': '33:24',\n",
       "  'elevation': 23.0,\n",
       "  'terrain': 'land'},\n",
       " {'y': 24,\n",
       "  'rainfall': 20.0,\n",
       "  'x': 34,\n",
       "  'key': '34:24',\n",
       "  'elevation': 19.0,\n",
       "  'terrain': 'land'},\n",
       " {'y': 24,\n",
       "  'rainfall': 13.0,\n",
       "  'x': 35,\n",
       "  'key': '35:24',\n",
       "  'elevation': 12.0,\n",
       "  'terrain': 'land'},\n",
       " {'y': 24,\n",
       "  'rainfall': 8.0,\n",
       "  'x': 36,\n",
       "  'key': '36:24',\n",
       "  'elevation': 7.0,\n",
       "  'terrain': 'land'},\n",
       " {'y': 24,\n",
       "  'rainfall': 2.0,\n",
       "  'x': 37,\n",
       "  'key': '37:24',\n",
       "  'elevation': 2.0,\n",
       "  'terrain': 'land'},\n",
       " {'y': 24,\n",
       "  'rainfall': 0.0,\n",
       "  'x': 38,\n",
       "  'key': '38:24',\n",
       "  'elevation': 0.0,\n",
       "  'terrain': 'ocean'},\n",
       " {'y': 24,\n",
       "  'rainfall': 0.0,\n",
       "  'x': 39,\n",
       "  'key': '39:24',\n",
       "  'elevation': 0.0,\n",
       "  'terrain': 'ocean'},\n",
       " ...]"
      ]
     },
     "execution_count": 6,
     "metadata": {},
     "output_type": "execute_result"
    }
   ],
   "source": [
    "wa = [geo_world.df_features.loc[m].to_dict() for m in geo_world.df_features.index]\n",
    "dim_1 = np.unique(geo_world.df_features['x']) \n",
    "dim_1 = np.unique(geo_world.df_features['y']) \n",
    "wa"
   ]
  },
  {
   "cell_type": "code",
   "execution_count": 7,
   "metadata": {},
   "outputs": [
    {
     "data": {
      "text/plain": [
       "{'y': 0,\n",
       " 'rainfall': 1.0,\n",
       " 'x': 1,\n",
       " 'key': '1:0',\n",
       " 'elevation': 1.0,\n",
       " 'terrain': 'land'}"
      ]
     },
     "execution_count": 7,
     "metadata": {},
     "output_type": "execute_result"
    }
   ],
   "source": [
    "m = geo_world.df_features.index[1]\n",
    "geo_world.df_features.loc[m].to_dict()"
   ]
  },
  {
   "cell_type": "code",
   "execution_count": null,
   "metadata": {},
   "outputs": [],
   "source": []
  }
 ],
 "metadata": {
  "kernelspec": {
   "display_name": "Python 3",
   "language": "python",
   "name": "python3"
  },
  "language_info": {
   "codemirror_mode": {
    "name": "ipython",
    "version": 3
   },
   "file_extension": ".py",
   "mimetype": "text/x-python",
   "name": "python",
   "nbconvert_exporter": "python",
   "pygments_lexer": "ipython3",
   "version": "3.7.3"
  }
 },
 "nbformat": 4,
 "nbformat_minor": 2
}
