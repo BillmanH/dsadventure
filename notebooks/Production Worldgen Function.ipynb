{
 "cells": [
  {
   "cell_type": "markdown",
   "metadata": {},
   "source": [
    "# This is the actual production function(s)\n",
    "\n",
    "`create_world.py` generates the full world. \n",
    "\n",
    "I'm a big fan of rouge-like games and RPGs. I'm also a big fan of data science tools for Python. This is my attempt to have it all. "
   ]
  },
  {
   "cell_type": "code",
   "execution_count": 1,
   "metadata": {},
   "outputs": [],
   "source": [
    "import pandas as pd\n",
    "import numpy as np\n",
    "import os\n",
    "import django\n",
    "import sys\n",
    "\n",
    "\n",
    "sys.path.append(\"../..\")\n",
    "os.environ.setdefault(\"DJANGO_SETTINGS_MODULE\", \"prodweb.settings\")\n",
    "django.setup()\n",
    "\n",
    "sys.path.append(\"../\")\n",
    "import lib.create_world as c\n",
    "import lib.drawMaps as draw\n",
    "import lib.builders.culture as culture\n",
    "import lib.builders.landscape as landscape\n",
    "import lib.builders.towns as towns\n",
    "import lib.builders.people as people\n",
    "import lib.builders.nations as nations\n",
    "\n",
    "\n",
    "pd.set_option(\"display.max_columns\", 10)\n",
    "pd.set_option(\"display.max_rows\", 10)\n",
    "%load_ext lab_black"
   ]
  },
  {
   "cell_type": "markdown",
   "metadata": {},
   "source": [
    "## `timeit` functions to examin the runtime of each component. "
   ]
  },
  {
   "cell_type": "code",
   "execution_count": 2,
   "metadata": {},
   "outputs": [],
   "source": [
    "# %%timeit\n",
    "# geo_world = c.the_first_age({})"
   ]
  },
  {
   "cell_type": "code",
   "execution_count": 3,
   "metadata": {},
   "outputs": [],
   "source": [
    "geo_world = c.the_first_age({})"
   ]
  },
  {
   "cell_type": "code",
   "execution_count": 4,
   "metadata": {},
   "outputs": [
    {
     "data": {
      "application/vnd.vegalite.v2+json": {
       "$schema": "https://vega.github.io/schema/vega-lite/v2.6.0.json",
       "config": {
        "view": {
         "height": 300,
         "width": 400
        }
       },
       "data": {
        "name": "data-d3c838413d6141a91597ae623b5daee7"
       },
       "datasets": {
        "data-d3c838413d6141a91597ae623b5daee7": [
         {
          "terrain": "ocean",
          "value": 0,
          "x": 0,
          "y": 0
         },
         {
          "terrain": "ocean",
          "value": 2,
          "x": 1,
          "y": 0
         },
         {
          "terrain": "ocean",
          "value": 1,
          "x": 2,
          "y": 0
         },
         {
          "terrain": "ocean",
          "value": 3,
          "x": 3,
          "y": 0
         },
         {
          "terrain": "plain",
          "value": 7,
          "x": 4,
          "y": 0
         },
         {
          "terrain": "plain",
          "value": 11,
          "x": 5,
          "y": 0
         },
         {
          "terrain": "plain",
          "value": 13,
          "x": 6,
          "y": 0
         },
         {
          "terrain": "plain",
          "value": 15,
          "x": 7,
          "y": 0
         },
         {
          "terrain": "plain",
          "value": 19,
          "x": 8,
          "y": 0
         },
         {
          "terrain": "mountain",
          "value": 25,
          "x": 9,
          "y": 0
         },
         {
          "terrain": "mountain",
          "value": 31,
          "x": 10,
          "y": 0
         },
         {
          "terrain": "mountain",
          "value": 33,
          "x": 11,
          "y": 0
         },
         {
          "terrain": "mountain",
          "value": 34,
          "x": 12,
          "y": 0
         },
         {
          "terrain": "mountain",
          "value": 37,
          "x": 13,
          "y": 0
         },
         {
          "terrain": "mountain",
          "value": 40,
          "x": 14,
          "y": 0
         },
         {
          "terrain": "mountain",
          "value": 37,
          "x": 15,
          "y": 0
         },
         {
          "terrain": "mountain",
          "value": 32,
          "x": 16,
          "y": 0
         },
         {
          "terrain": "mountain",
          "value": 30,
          "x": 17,
          "y": 0
         },
         {
          "terrain": "mountain",
          "value": 29,
          "x": 18,
          "y": 0
         },
         {
          "terrain": "mountain",
          "value": 25,
          "x": 19,
          "y": 0
         },
         {
          "terrain": "mountain",
          "value": 26,
          "x": 20,
          "y": 0
         },
         {
          "terrain": "plain",
          "value": 24,
          "x": 21,
          "y": 0
         },
         {
          "terrain": "plain",
          "value": 24,
          "x": 22,
          "y": 0
         },
         {
          "terrain": "mountain",
          "value": 25,
          "x": 23,
          "y": 0
         },
         {
          "terrain": "plain",
          "value": 24,
          "x": 24,
          "y": 0
         },
         {
          "terrain": "plain",
          "value": 23,
          "x": 25,
          "y": 0
         },
         {
          "terrain": "plain",
          "value": 20,
          "x": 26,
          "y": 0
         },
         {
          "terrain": "plain",
          "value": 17,
          "x": 27,
          "y": 0
         },
         {
          "terrain": "plain",
          "value": 13,
          "x": 28,
          "y": 0
         },
         {
          "terrain": "plain",
          "value": 10,
          "x": 29,
          "y": 0
         },
         {
          "terrain": "plain",
          "value": 6,
          "x": 30,
          "y": 0
         },
         {
          "terrain": "ocean",
          "value": 5,
          "x": 31,
          "y": 0
         },
         {
          "terrain": "ocean",
          "value": 2,
          "x": 32,
          "y": 0
         },
         {
          "terrain": "ocean",
          "value": 3,
          "x": 33,
          "y": 0
         },
         {
          "terrain": "ocean",
          "value": 0,
          "x": 34,
          "y": 0
         },
         {
          "terrain": "ocean",
          "value": 0,
          "x": 35,
          "y": 0
         },
         {
          "terrain": "ocean",
          "value": 2,
          "x": 36,
          "y": 0
         },
         {
          "terrain": "ocean",
          "value": -2,
          "x": 37,
          "y": 0
         },
         {
          "terrain": "ocean",
          "value": 0,
          "x": 38,
          "y": 0
         },
         {
          "terrain": "ocean",
          "value": 0,
          "x": 39,
          "y": 0
         },
         {
          "terrain": "ocean",
          "value": -1,
          "x": 0,
          "y": 1
         },
         {
          "terrain": "ocean",
          "value": -2,
          "x": 1,
          "y": 1
         },
         {
          "terrain": "ocean",
          "value": 3,
          "x": 2,
          "y": 1
         },
         {
          "terrain": "ocean",
          "value": 5,
          "x": 3,
          "y": 1
         },
         {
          "terrain": "plain",
          "value": 7,
          "x": 4,
          "y": 1
         },
         {
          "terrain": "plain",
          "value": 11,
          "x": 5,
          "y": 1
         },
         {
          "terrain": "plain",
          "value": 14,
          "x": 6,
          "y": 1
         },
         {
          "terrain": "plain",
          "value": 17,
          "x": 7,
          "y": 1
         },
         {
          "terrain": "plain",
          "value": 23,
          "x": 8,
          "y": 1
         },
         {
          "terrain": "mountain",
          "value": 29,
          "x": 9,
          "y": 1
         },
         {
          "terrain": "mountain",
          "value": 34,
          "x": 10,
          "y": 1
         },
         {
          "terrain": "mountain",
          "value": 36,
          "x": 11,
          "y": 1
         },
         {
          "terrain": "mountain",
          "value": 42,
          "x": 12,
          "y": 1
         },
         {
          "terrain": "mountain",
          "value": 45,
          "x": 13,
          "y": 1
         },
         {
          "terrain": "mountain",
          "value": 46,
          "x": 14,
          "y": 1
         },
         {
          "terrain": "mountain",
          "value": 39,
          "x": 15,
          "y": 1
         },
         {
          "terrain": "mountain",
          "value": 33,
          "x": 16,
          "y": 1
         },
         {
          "terrain": "mountain",
          "value": 30,
          "x": 17,
          "y": 1
         },
         {
          "terrain": "mountain",
          "value": 32,
          "x": 18,
          "y": 1
         },
         {
          "terrain": "mountain",
          "value": 29,
          "x": 19,
          "y": 1
         },
         {
          "terrain": "mountain",
          "value": 30,
          "x": 20,
          "y": 1
         },
         {
          "terrain": "mountain",
          "value": 31,
          "x": 21,
          "y": 1
         },
         {
          "terrain": "mountain",
          "value": 32,
          "x": 22,
          "y": 1
         },
         {
          "terrain": "mountain",
          "value": 33,
          "x": 23,
          "y": 1
         },
         {
          "terrain": "mountain",
          "value": 31,
          "x": 24,
          "y": 1
         },
         {
          "terrain": "mountain",
          "value": 29,
          "x": 25,
          "y": 1
         },
         {
          "terrain": "mountain",
          "value": 25,
          "x": 26,
          "y": 1
         },
         {
          "terrain": "plain",
          "value": 20,
          "x": 27,
          "y": 1
         },
         {
          "terrain": "plain",
          "value": 12,
          "x": 28,
          "y": 1
         },
         {
          "terrain": "plain",
          "value": 9,
          "x": 29,
          "y": 1
         },
         {
          "terrain": "plain",
          "value": 6,
          "x": 30,
          "y": 1
         },
         {
          "terrain": "ocean",
          "value": 3,
          "x": 31,
          "y": 1
         },
         {
          "terrain": "ocean",
          "value": 2,
          "x": 32,
          "y": 1
         },
         {
          "terrain": "ocean",
          "value": 1,
          "x": 33,
          "y": 1
         },
         {
          "terrain": "ocean",
          "value": 2,
          "x": 34,
          "y": 1
         },
         {
          "terrain": "ocean",
          "value": -1,
          "x": 35,
          "y": 1
         },
         {
          "terrain": "ocean",
          "value": -3,
          "x": 36,
          "y": 1
         },
         {
          "terrain": "ocean",
          "value": 2,
          "x": 37,
          "y": 1
         },
         {
          "terrain": "ocean",
          "value": -1,
          "x": 38,
          "y": 1
         },
         {
          "terrain": "ocean",
          "value": 0,
          "x": 39,
          "y": 1
         },
         {
          "terrain": "ocean",
          "value": -2,
          "x": 0,
          "y": 2
         },
         {
          "terrain": "ocean",
          "value": -1,
          "x": 1,
          "y": 2
         },
         {
          "terrain": "ocean",
          "value": 1,
          "x": 2,
          "y": 2
         },
         {
          "terrain": "ocean",
          "value": 5,
          "x": 3,
          "y": 2
         },
         {
          "terrain": "plain",
          "value": 9,
          "x": 4,
          "y": 2
         },
         {
          "terrain": "plain",
          "value": 13,
          "x": 5,
          "y": 2
         },
         {
          "terrain": "plain",
          "value": 15,
          "x": 6,
          "y": 2
         },
         {
          "terrain": "plain",
          "value": 18,
          "x": 7,
          "y": 2
         },
         {
          "terrain": "mountain",
          "value": 25,
          "x": 8,
          "y": 2
         },
         {
          "terrain": "mountain",
          "value": 30,
          "x": 9,
          "y": 2
         },
         {
          "terrain": "mountain",
          "value": 35,
          "x": 10,
          "y": 2
         },
         {
          "terrain": "mountain",
          "value": 43,
          "x": 11,
          "y": 2
         },
         {
          "terrain": "mountain",
          "value": 47,
          "x": 12,
          "y": 2
         },
         {
          "terrain": "mountain",
          "value": 48,
          "x": 13,
          "y": 2
         },
         {
          "terrain": "mountain",
          "value": 46,
          "x": 14,
          "y": 2
         },
         {
          "terrain": "mountain",
          "value": 46,
          "x": 15,
          "y": 2
         },
         {
          "terrain": "mountain",
          "value": 37,
          "x": 16,
          "y": 2
         },
         {
          "terrain": "mountain",
          "value": 34,
          "x": 17,
          "y": 2
         },
         {
          "terrain": "mountain",
          "value": 32,
          "x": 18,
          "y": 2
         },
         {
          "terrain": "mountain",
          "value": 33,
          "x": 19,
          "y": 2
         },
         {
          "terrain": "mountain",
          "value": 35,
          "x": 20,
          "y": 2
         },
         {
          "terrain": "mountain",
          "value": 37,
          "x": 21,
          "y": 2
         },
         {
          "terrain": "mountain",
          "value": 42,
          "x": 22,
          "y": 2
         },
         {
          "terrain": "mountain",
          "value": 41,
          "x": 23,
          "y": 2
         },
         {
          "terrain": "mountain",
          "value": 42,
          "x": 24,
          "y": 2
         },
         {
          "terrain": "mountain",
          "value": 38,
          "x": 25,
          "y": 2
         },
         {
          "terrain": "mountain",
          "value": 32,
          "x": 26,
          "y": 2
         },
         {
          "terrain": "plain",
          "value": 21,
          "x": 27,
          "y": 2
         },
         {
          "terrain": "plain",
          "value": 15,
          "x": 28,
          "y": 2
         },
         {
          "terrain": "plain",
          "value": 10,
          "x": 29,
          "y": 2
         },
         {
          "terrain": "plain",
          "value": 7,
          "x": 30,
          "y": 2
         },
         {
          "terrain": "plain",
          "value": 6,
          "x": 31,
          "y": 2
         },
         {
          "terrain": "ocean",
          "value": 3,
          "x": 32,
          "y": 2
         },
         {
          "terrain": "ocean",
          "value": 3,
          "x": 33,
          "y": 2
         },
         {
          "terrain": "ocean",
          "value": 0,
          "x": 34,
          "y": 2
         },
         {
          "terrain": "ocean",
          "value": 1,
          "x": 35,
          "y": 2
         },
         {
          "terrain": "ocean",
          "value": 0,
          "x": 36,
          "y": 2
         },
         {
          "terrain": "ocean",
          "value": 1,
          "x": 37,
          "y": 2
         },
         {
          "terrain": "ocean",
          "value": 1,
          "x": 38,
          "y": 2
         },
         {
          "terrain": "ocean",
          "value": -1,
          "x": 39,
          "y": 2
         },
         {
          "terrain": "ocean",
          "value": 2,
          "x": 0,
          "y": 3
         },
         {
          "terrain": "ocean",
          "value": 0,
          "x": 1,
          "y": 3
         },
         {
          "terrain": "ocean",
          "value": 1,
          "x": 2,
          "y": 3
         },
         {
          "terrain": "plain",
          "value": 7,
          "x": 3,
          "y": 3
         },
         {
          "terrain": "plain",
          "value": 9,
          "x": 4,
          "y": 3
         },
         {
          "terrain": "plain",
          "value": 14,
          "x": 5,
          "y": 3
         },
         {
          "terrain": "plain",
          "value": 17,
          "x": 6,
          "y": 3
         },
         {
          "terrain": "plain",
          "value": 22,
          "x": 7,
          "y": 3
         },
         {
          "terrain": "mountain",
          "value": 28,
          "x": 8,
          "y": 3
         },
         {
          "terrain": "mountain",
          "value": 33,
          "x": 9,
          "y": 3
         },
         {
          "terrain": "mountain",
          "value": 37,
          "x": 10,
          "y": 3
         },
         {
          "terrain": "mountain",
          "value": 43,
          "x": 11,
          "y": 3
         },
         {
          "terrain": "mountain",
          "value": 48,
          "x": 12,
          "y": 3
         },
         {
          "terrain": "mountain",
          "value": 50,
          "x": 13,
          "y": 3
         },
         {
          "terrain": "mountain",
          "value": 46,
          "x": 14,
          "y": 3
         },
         {
          "terrain": "mountain",
          "value": 41,
          "x": 15,
          "y": 3
         },
         {
          "terrain": "mountain",
          "value": 38,
          "x": 16,
          "y": 3
         },
         {
          "terrain": "mountain",
          "value": 37,
          "x": 17,
          "y": 3
         },
         {
          "terrain": "mountain",
          "value": 37,
          "x": 18,
          "y": 3
         },
         {
          "terrain": "mountain",
          "value": 39,
          "x": 19,
          "y": 3
         },
         {
          "terrain": "mountain",
          "value": 40,
          "x": 20,
          "y": 3
         },
         {
          "terrain": "mountain",
          "value": 45,
          "x": 21,
          "y": 3
         },
         {
          "terrain": "mountain",
          "value": 49,
          "x": 22,
          "y": 3
         },
         {
          "terrain": "mountain",
          "value": 54,
          "x": 23,
          "y": 3
         },
         {
          "terrain": "mountain",
          "value": 52,
          "x": 24,
          "y": 3
         },
         {
          "terrain": "mountain",
          "value": 45,
          "x": 25,
          "y": 3
         },
         {
          "terrain": "mountain",
          "value": 34,
          "x": 26,
          "y": 3
         },
         {
          "terrain": "plain",
          "value": 23,
          "x": 27,
          "y": 3
         },
         {
          "terrain": "plain",
          "value": 14,
          "x": 28,
          "y": 3
         },
         {
          "terrain": "plain",
          "value": 10,
          "x": 29,
          "y": 3
         },
         {
          "terrain": "ocean",
          "value": 5,
          "x": 30,
          "y": 3
         },
         {
          "terrain": "ocean",
          "value": 4,
          "x": 31,
          "y": 3
         },
         {
          "terrain": "ocean",
          "value": 3,
          "x": 32,
          "y": 3
         },
         {
          "terrain": "ocean",
          "value": 2,
          "x": 33,
          "y": 3
         },
         {
          "terrain": "ocean",
          "value": 1,
          "x": 34,
          "y": 3
         },
         {
          "terrain": "ocean",
          "value": 0,
          "x": 35,
          "y": 3
         },
         {
          "terrain": "ocean",
          "value": 1,
          "x": 36,
          "y": 3
         },
         {
          "terrain": "ocean",
          "value": 0,
          "x": 37,
          "y": 3
         },
         {
          "terrain": "ocean",
          "value": 2,
          "x": 38,
          "y": 3
         },
         {
          "terrain": "ocean",
          "value": 0,
          "x": 39,
          "y": 3
         },
         {
          "terrain": "ocean",
          "value": 0,
          "x": 0,
          "y": 4
         },
         {
          "terrain": "ocean",
          "value": 1,
          "x": 1,
          "y": 4
         },
         {
          "terrain": "ocean",
          "value": 3,
          "x": 2,
          "y": 4
         },
         {
          "terrain": "ocean",
          "value": 5,
          "x": 3,
          "y": 4
         },
         {
          "terrain": "plain",
          "value": 11,
          "x": 4,
          "y": 4
         },
         {
          "terrain": "plain",
          "value": 14,
          "x": 5,
          "y": 4
         },
         {
          "terrain": "plain",
          "value": 18,
          "x": 6,
          "y": 4
         },
         {
          "terrain": "plain",
          "value": 24,
          "x": 7,
          "y": 4
         },
         {
          "terrain": "mountain",
          "value": 27,
          "x": 8,
          "y": 4
         },
         {
          "terrain": "mountain",
          "value": 34,
          "x": 9,
          "y": 4
         },
         {
          "terrain": "mountain",
          "value": 36,
          "x": 10,
          "y": 4
         },
         {
          "terrain": "mountain",
          "value": 43,
          "x": 11,
          "y": 4
         },
         {
          "terrain": "mountain",
          "value": 42,
          "x": 12,
          "y": 4
         },
         {
          "terrain": "mountain",
          "value": 44,
          "x": 13,
          "y": 4
         },
         {
          "terrain": "mountain",
          "value": 40,
          "x": 14,
          "y": 4
         },
         {
          "terrain": "mountain",
          "value": 36,
          "x": 15,
          "y": 4
         },
         {
          "terrain": "mountain",
          "value": 34,
          "x": 16,
          "y": 4
         },
         {
          "terrain": "mountain",
          "value": 39,
          "x": 17,
          "y": 4
         },
         {
          "terrain": "mountain",
          "value": 40,
          "x": 18,
          "y": 4
         },
         {
          "terrain": "mountain",
          "value": 42,
          "x": 19,
          "y": 4
         },
         {
          "terrain": "mountain",
          "value": 48,
          "x": 20,
          "y": 4
         },
         {
          "terrain": "mountain",
          "value": 54,
          "x": 21,
          "y": 4
         },
         {
          "terrain": "mountain",
          "value": 58,
          "x": 22,
          "y": 4
         },
         {
          "terrain": "mountain",
          "value": 64,
          "x": 23,
          "y": 4
         },
         {
          "terrain": "mountain",
          "value": 60,
          "x": 24,
          "y": 4
         },
         {
          "terrain": "mountain",
          "value": 48,
          "x": 25,
          "y": 4
         },
         {
          "terrain": "mountain",
          "value": 36,
          "x": 26,
          "y": 4
         },
         {
          "terrain": "plain",
          "value": 22,
          "x": 27,
          "y": 4
         },
         {
          "terrain": "plain",
          "value": 16,
          "x": 28,
          "y": 4
         },
         {
          "terrain": "plain",
          "value": 8,
          "x": 29,
          "y": 4
         },
         {
          "terrain": "plain",
          "value": 6,
          "x": 30,
          "y": 4
         },
         {
          "terrain": "ocean",
          "value": 3,
          "x": 31,
          "y": 4
         },
         {
          "terrain": "ocean",
          "value": 4,
          "x": 32,
          "y": 4
         },
         {
          "terrain": "ocean",
          "value": 3,
          "x": 33,
          "y": 4
         },
         {
          "terrain": "ocean",
          "value": 0,
          "x": 34,
          "y": 4
         },
         {
          "terrain": "ocean",
          "value": 0,
          "x": 35,
          "y": 4
         },
         {
          "terrain": "ocean",
          "value": 0,
          "x": 36,
          "y": 4
         },
         {
          "terrain": "ocean",
          "value": 0,
          "x": 37,
          "y": 4
         },
         {
          "terrain": "ocean",
          "value": 1,
          "x": 38,
          "y": 4
         },
         {
          "terrain": "ocean",
          "value": 2,
          "x": 39,
          "y": 4
         },
         {
          "terrain": "ocean",
          "value": 1,
          "x": 0,
          "y": 5
         },
         {
          "terrain": "ocean",
          "value": 0,
          "x": 1,
          "y": 5
         },
         {
          "terrain": "ocean",
          "value": 3,
          "x": 2,
          "y": 5
         },
         {
          "terrain": "plain",
          "value": 6,
          "x": 3,
          "y": 5
         },
         {
          "terrain": "plain",
          "value": 11,
          "x": 4,
          "y": 5
         },
         {
          "terrain": "plain",
          "value": 16,
          "x": 5,
          "y": 5
         },
         {
          "terrain": "plain",
          "value": 22,
          "x": 6,
          "y": 5
         },
         {
          "terrain": "mountain",
          "value": 25,
          "x": 7,
          "y": 5
         },
         {
          "terrain": "mountain",
          "value": 30,
          "x": 8,
          "y": 5
         },
         {
          "terrain": "mountain",
          "value": 34,
          "x": 9,
          "y": 5
         },
         {
          "terrain": "mountain",
          "value": 35,
          "x": 10,
          "y": 5
         },
         {
          "terrain": "mountain",
          "value": 34,
          "x": 11,
          "y": 5
         },
         {
          "terrain": "mountain",
          "value": 35,
          "x": 12,
          "y": 5
         },
         {
          "terrain": "mountain",
          "value": 33,
          "x": 13,
          "y": 5
         },
         {
          "terrain": "mountain",
          "value": 35,
          "x": 14,
          "y": 5
         },
         {
          "terrain": "mountain",
          "value": 33,
          "x": 15,
          "y": 5
         },
         {
          "terrain": "mountain",
          "value": 35,
          "x": 16,
          "y": 5
         },
         {
          "terrain": "mountain",
          "value": 38,
          "x": 17,
          "y": 5
         },
         {
          "terrain": "mountain",
          "value": 44,
          "x": 18,
          "y": 5
         },
         {
          "terrain": "mountain",
          "value": 46,
          "x": 19,
          "y": 5
         },
         {
          "terrain": "mountain",
          "value": 51,
          "x": 20,
          "y": 5
         },
         {
          "terrain": "mountain",
          "value": 59,
          "x": 21,
          "y": 5
         },
         {
          "terrain": "mountain",
          "value": 69,
          "x": 22,
          "y": 5
         },
         {
          "terrain": "mountain",
          "value": 67,
          "x": 23,
          "y": 5
         },
         {
          "terrain": "mountain",
          "value": 56,
          "x": 24,
          "y": 5
         },
         {
          "terrain": "mountain",
          "value": 47,
          "x": 25,
          "y": 5
         },
         {
          "terrain": "mountain",
          "value": 31,
          "x": 26,
          "y": 5
         },
         {
          "terrain": "plain",
          "value": 24,
          "x": 27,
          "y": 5
         },
         {
          "terrain": "plain",
          "value": 14,
          "x": 28,
          "y": 5
         },
         {
          "terrain": "plain",
          "value": 10,
          "x": 29,
          "y": 5
         },
         {
          "terrain": "ocean",
          "value": 5,
          "x": 30,
          "y": 5
         },
         {
          "terrain": "ocean",
          "value": 4,
          "x": 31,
          "y": 5
         },
         {
          "terrain": "ocean",
          "value": 4,
          "x": 32,
          "y": 5
         },
         {
          "terrain": "ocean",
          "value": 1,
          "x": 33,
          "y": 5
         },
         {
          "terrain": "ocean",
          "value": 2,
          "x": 34,
          "y": 5
         },
         {
          "terrain": "ocean",
          "value": -1,
          "x": 35,
          "y": 5
         },
         {
          "terrain": "ocean",
          "value": 2,
          "x": 36,
          "y": 5
         },
         {
          "terrain": "ocean",
          "value": 0,
          "x": 37,
          "y": 5
         },
         {
          "terrain": "ocean",
          "value": -2,
          "x": 38,
          "y": 5
         },
         {
          "terrain": "ocean",
          "value": 0,
          "x": 39,
          "y": 5
         },
         {
          "terrain": "ocean",
          "value": 0,
          "x": 0,
          "y": 6
         },
         {
          "terrain": "ocean",
          "value": 0,
          "x": 1,
          "y": 6
         },
         {
          "terrain": "ocean",
          "value": 1,
          "x": 2,
          "y": 6
         },
         {
          "terrain": "ocean",
          "value": 3,
          "x": 3,
          "y": 6
         },
         {
          "terrain": "plain",
          "value": 9,
          "x": 4,
          "y": 6
         },
         {
          "terrain": "plain",
          "value": 15,
          "x": 5,
          "y": 6
         },
         {
          "terrain": "plain",
          "value": 19,
          "x": 6,
          "y": 6
         },
         {
          "terrain": "plain",
          "value": 20,
          "x": 7,
          "y": 6
         },
         {
          "terrain": "mountain",
          "value": 32,
          "x": 8,
          "y": 6
         },
         {
          "terrain": "mountain",
          "value": 29,
          "x": 9,
          "y": 6
         },
         {
          "terrain": "mountain",
          "value": 29,
          "x": 10,
          "y": 6
         },
         {
          "terrain": "mountain",
          "value": 30,
          "x": 11,
          "y": 6
         },
         {
          "terrain": "mountain",
          "value": 28,
          "x": 12,
          "y": 6
         },
         {
          "terrain": "mountain",
          "value": 30,
          "x": 13,
          "y": 6
         },
         {
          "terrain": "mountain",
          "value": 29,
          "x": 14,
          "y": 6
         },
         {
          "terrain": "mountain",
          "value": 27,
          "x": 15,
          "y": 6
         },
         {
          "terrain": "mountain",
          "value": 31,
          "x": 16,
          "y": 6
         },
         {
          "terrain": "mountain",
          "value": 36,
          "x": 17,
          "y": 6
         },
         {
          "terrain": "mountain",
          "value": 39,
          "x": 18,
          "y": 6
         },
         {
          "terrain": "mountain",
          "value": 47,
          "x": 19,
          "y": 6
         },
         {
          "terrain": "mountain",
          "value": 52,
          "x": 20,
          "y": 6
         },
         {
          "terrain": "mountain",
          "value": 60,
          "x": 21,
          "y": 6
         },
         {
          "terrain": "mountain",
          "value": 61,
          "x": 22,
          "y": 6
         },
         {
          "terrain": "mountain",
          "value": 61,
          "x": 23,
          "y": 6
         },
         {
          "terrain": "mountain",
          "value": 53,
          "x": 24,
          "y": 6
         },
         {
          "terrain": "mountain",
          "value": 39,
          "x": 25,
          "y": 6
         },
         {
          "terrain": "mountain",
          "value": 32,
          "x": 26,
          "y": 6
         },
         {
          "terrain": "plain",
          "value": 21,
          "x": 27,
          "y": 6
         },
         {
          "terrain": "plain",
          "value": 15,
          "x": 28,
          "y": 6
         },
         {
          "terrain": "plain",
          "value": 10,
          "x": 29,
          "y": 6
         },
         {
          "terrain": "ocean",
          "value": 5,
          "x": 30,
          "y": 6
         },
         {
          "terrain": "plain",
          "value": 6,
          "x": 31,
          "y": 6
         },
         {
          "terrain": "ocean",
          "value": 2,
          "x": 32,
          "y": 6
         },
         {
          "terrain": "ocean",
          "value": 2,
          "x": 33,
          "y": 6
         },
         {
          "terrain": "ocean",
          "value": 3,
          "x": 34,
          "y": 6
         },
         {
          "terrain": "ocean",
          "value": 0,
          "x": 35,
          "y": 6
         },
         {
          "terrain": "ocean",
          "value": 0,
          "x": 36,
          "y": 6
         },
         {
          "terrain": "ocean",
          "value": 0,
          "x": 37,
          "y": 6
         },
         {
          "terrain": "ocean",
          "value": 0,
          "x": 38,
          "y": 6
         },
         {
          "terrain": "ocean",
          "value": 0,
          "x": 39,
          "y": 6
         },
         {
          "terrain": "ocean",
          "value": 0,
          "x": 0,
          "y": 7
         },
         {
          "terrain": "ocean",
          "value": 0,
          "x": 1,
          "y": 7
         },
         {
          "terrain": "ocean",
          "value": 1,
          "x": 2,
          "y": 7
         },
         {
          "terrain": "plain",
          "value": 6,
          "x": 3,
          "y": 7
         },
         {
          "terrain": "plain",
          "value": 8,
          "x": 4,
          "y": 7
         },
         {
          "terrain": "plain",
          "value": 12,
          "x": 5,
          "y": 7
         },
         {
          "terrain": "plain",
          "value": 15,
          "x": 6,
          "y": 7
         },
         {
          "terrain": "plain",
          "value": 21,
          "x": 7,
          "y": 7
         },
         {
          "terrain": "plain",
          "value": 24,
          "x": 8,
          "y": 7
         },
         {
          "terrain": "mountain",
          "value": 25,
          "x": 9,
          "y": 7
         },
         {
          "terrain": "plain",
          "value": 23,
          "x": 10,
          "y": 7
         },
         {
          "terrain": "plain",
          "value": 19,
          "x": 11,
          "y": 7
         },
         {
          "terrain": "plain",
          "value": 20,
          "x": 12,
          "y": 7
         },
         {
          "terrain": "plain",
          "value": 19,
          "x": 13,
          "y": 7
         },
         {
          "terrain": "plain",
          "value": 23,
          "x": 14,
          "y": 7
         },
         {
          "terrain": "plain",
          "value": 24,
          "x": 15,
          "y": 7
         },
         {
          "terrain": "mountain",
          "value": 29,
          "x": 16,
          "y": 7
         },
         {
          "terrain": "mountain",
          "value": 33,
          "x": 17,
          "y": 7
         },
         {
          "terrain": "mountain",
          "value": 38,
          "x": 18,
          "y": 7
         },
         {
          "terrain": "mountain",
          "value": 44,
          "x": 19,
          "y": 7
         },
         {
          "terrain": "mountain",
          "value": 51,
          "x": 20,
          "y": 7
         },
         {
          "terrain": "mountain",
          "value": 52,
          "x": 21,
          "y": 7
         },
         {
          "terrain": "mountain",
          "value": 52,
          "x": 22,
          "y": 7
         },
         {
          "terrain": "mountain",
          "value": 52,
          "x": 23,
          "y": 7
         },
         {
          "terrain": "mountain",
          "value": 42,
          "x": 24,
          "y": 7
         },
         {
          "terrain": "mountain",
          "value": 35,
          "x": 25,
          "y": 7
         },
         {
          "terrain": "mountain",
          "value": 27,
          "x": 26,
          "y": 7
         },
         {
          "terrain": "plain",
          "value": 20,
          "x": 27,
          "y": 7
         },
         {
          "terrain": "plain",
          "value": 15,
          "x": 28,
          "y": 7
         },
         {
          "terrain": "plain",
          "value": 11,
          "x": 29,
          "y": 7
         },
         {
          "terrain": "ocean",
          "value": 5,
          "x": 30,
          "y": 7
         },
         {
          "terrain": "ocean",
          "value": 4,
          "x": 31,
          "y": 7
         },
         {
          "terrain": "ocean",
          "value": 2,
          "x": 32,
          "y": 7
         },
         {
          "terrain": "ocean",
          "value": 2,
          "x": 33,
          "y": 7
         },
         {
          "terrain": "ocean",
          "value": 0,
          "x": 34,
          "y": 7
         },
         {
          "terrain": "ocean",
          "value": 0,
          "x": 35,
          "y": 7
         },
         {
          "terrain": "ocean",
          "value": 1,
          "x": 36,
          "y": 7
         },
         {
          "terrain": "ocean",
          "value": 0,
          "x": 37,
          "y": 7
         },
         {
          "terrain": "ocean",
          "value": 1,
          "x": 38,
          "y": 7
         },
         {
          "terrain": "ocean",
          "value": 1,
          "x": 39,
          "y": 7
         },
         {
          "terrain": "ocean",
          "value": -2,
          "x": 0,
          "y": 8
         },
         {
          "terrain": "ocean",
          "value": -1,
          "x": 1,
          "y": 8
         },
         {
          "terrain": "ocean",
          "value": 2,
          "x": 2,
          "y": 8
         },
         {
          "terrain": "ocean",
          "value": 4,
          "x": 3,
          "y": 8
         },
         {
          "terrain": "plain",
          "value": 7,
          "x": 4,
          "y": 8
         },
         {
          "terrain": "plain",
          "value": 9,
          "x": 5,
          "y": 8
         },
         {
          "terrain": "plain",
          "value": 12,
          "x": 6,
          "y": 8
         },
         {
          "terrain": "plain",
          "value": 16,
          "x": 7,
          "y": 8
         },
         {
          "terrain": "plain",
          "value": 17,
          "x": 8,
          "y": 8
         },
         {
          "terrain": "plain",
          "value": 18,
          "x": 9,
          "y": 8
         },
         {
          "terrain": "plain",
          "value": 14,
          "x": 10,
          "y": 8
         },
         {
          "terrain": "plain",
          "value": 14,
          "x": 11,
          "y": 8
         },
         {
          "terrain": "plain",
          "value": 11,
          "x": 12,
          "y": 8
         },
         {
          "terrain": "plain",
          "value": 14,
          "x": 13,
          "y": 8
         },
         {
          "terrain": "plain",
          "value": 14,
          "x": 14,
          "y": 8
         },
         {
          "terrain": "plain",
          "value": 17,
          "x": 15,
          "y": 8
         },
         {
          "terrain": "plain",
          "value": 21,
          "x": 16,
          "y": 8
         },
         {
          "terrain": "mountain",
          "value": 26,
          "x": 17,
          "y": 8
         },
         {
          "terrain": "mountain",
          "value": 33,
          "x": 18,
          "y": 8
         },
         {
          "terrain": "mountain",
          "value": 39,
          "x": 19,
          "y": 8
         },
         {
          "terrain": "mountain",
          "value": 43,
          "x": 20,
          "y": 8
         },
         {
          "terrain": "mountain",
          "value": 44,
          "x": 21,
          "y": 8
         },
         {
          "terrain": "mountain",
          "value": 40,
          "x": 22,
          "y": 8
         },
         {
          "terrain": "mountain",
          "value": 38,
          "x": 23,
          "y": 8
         },
         {
          "terrain": "mountain",
          "value": 35,
          "x": 24,
          "y": 8
         },
         {
          "terrain": "mountain",
          "value": 29,
          "x": 25,
          "y": 8
         },
         {
          "terrain": "plain",
          "value": 24,
          "x": 26,
          "y": 8
         },
         {
          "terrain": "plain",
          "value": 18,
          "x": 27,
          "y": 8
         },
         {
          "terrain": "plain",
          "value": 14,
          "x": 28,
          "y": 8
         },
         {
          "terrain": "plain",
          "value": 10,
          "x": 29,
          "y": 8
         },
         {
          "terrain": "plain",
          "value": 8,
          "x": 30,
          "y": 8
         },
         {
          "terrain": "ocean",
          "value": 3,
          "x": 31,
          "y": 8
         },
         {
          "terrain": "ocean",
          "value": 5,
          "x": 32,
          "y": 8
         },
         {
          "terrain": "ocean",
          "value": 2,
          "x": 33,
          "y": 8
         },
         {
          "terrain": "ocean",
          "value": 1,
          "x": 34,
          "y": 8
         },
         {
          "terrain": "ocean",
          "value": -1,
          "x": 35,
          "y": 8
         },
         {
          "terrain": "ocean",
          "value": 0,
          "x": 36,
          "y": 8
         },
         {
          "terrain": "ocean",
          "value": 0,
          "x": 37,
          "y": 8
         },
         {
          "terrain": "ocean",
          "value": 0,
          "x": 38,
          "y": 8
         },
         {
          "terrain": "ocean",
          "value": -1,
          "x": 39,
          "y": 8
         },
         {
          "terrain": "ocean",
          "value": 0,
          "x": 0,
          "y": 9
         },
         {
          "terrain": "ocean",
          "value": -1,
          "x": 1,
          "y": 9
         },
         {
          "terrain": "ocean",
          "value": 1,
          "x": 2,
          "y": 9
         },
         {
          "terrain": "ocean",
          "value": 2,
          "x": 3,
          "y": 9
         },
         {
          "terrain": "ocean",
          "value": 3,
          "x": 4,
          "y": 9
         },
         {
          "terrain": "plain",
          "value": 8,
          "x": 5,
          "y": 9
         },
         {
          "terrain": "plain",
          "value": 9,
          "x": 6,
          "y": 9
         },
         {
          "terrain": "plain",
          "value": 9,
          "x": 7,
          "y": 9
         },
         {
          "terrain": "plain",
          "value": 12,
          "x": 8,
          "y": 9
         },
         {
          "terrain": "plain",
          "value": 9,
          "x": 9,
          "y": 9
         },
         {
          "terrain": "plain",
          "value": 9,
          "x": 10,
          "y": 9
         },
         {
          "terrain": "plain",
          "value": 10,
          "x": 11,
          "y": 9
         },
         {
          "terrain": "plain",
          "value": 7,
          "x": 12,
          "y": 9
         },
         {
          "terrain": "plain",
          "value": 9,
          "x": 13,
          "y": 9
         },
         {
          "terrain": "plain",
          "value": 12,
          "x": 14,
          "y": 9
         },
         {
          "terrain": "plain",
          "value": 13,
          "x": 15,
          "y": 9
         },
         {
          "terrain": "plain",
          "value": 18,
          "x": 16,
          "y": 9
         },
         {
          "terrain": "plain",
          "value": 22,
          "x": 17,
          "y": 9
         },
         {
          "terrain": "mountain",
          "value": 29,
          "x": 18,
          "y": 9
         },
         {
          "terrain": "mountain",
          "value": 32,
          "x": 19,
          "y": 9
         },
         {
          "terrain": "mountain",
          "value": 32,
          "x": 20,
          "y": 9
         },
         {
          "terrain": "mountain",
          "value": 33,
          "x": 21,
          "y": 9
         },
         {
          "terrain": "mountain",
          "value": 34,
          "x": 22,
          "y": 9
         },
         {
          "terrain": "mountain",
          "value": 28,
          "x": 23,
          "y": 9
         },
         {
          "terrain": "mountain",
          "value": 28,
          "x": 24,
          "y": 9
         },
         {
          "terrain": "plain",
          "value": 24,
          "x": 25,
          "y": 9
         },
         {
          "terrain": "plain",
          "value": 23,
          "x": 26,
          "y": 9
         },
         {
          "terrain": "plain",
          "value": 20,
          "x": 27,
          "y": 9
         },
         {
          "terrain": "plain",
          "value": 15,
          "x": 28,
          "y": 9
         },
         {
          "terrain": "plain",
          "value": 15,
          "x": 29,
          "y": 9
         },
         {
          "terrain": "plain",
          "value": 7,
          "x": 30,
          "y": 9
         },
         {
          "terrain": "ocean",
          "value": 1,
          "x": 31,
          "y": 9
         },
         {
          "terrain": "plain",
          "value": 6,
          "x": 32,
          "y": 9
         },
         {
          "terrain": "ocean",
          "value": 3,
          "x": 33,
          "y": 9
         },
         {
          "terrain": "ocean",
          "value": 0,
          "x": 34,
          "y": 9
         },
         {
          "terrain": "ocean",
          "value": 0,
          "x": 35,
          "y": 9
         },
         {
          "terrain": "ocean",
          "value": 0,
          "x": 36,
          "y": 9
         },
         {
          "terrain": "ocean",
          "value": 0,
          "x": 37,
          "y": 9
         },
         {
          "terrain": "ocean",
          "value": -1,
          "x": 38,
          "y": 9
         },
         {
          "terrain": "ocean",
          "value": 0,
          "x": 39,
          "y": 9
         },
         {
          "terrain": "ocean",
          "value": -1,
          "x": 0,
          "y": 10
         },
         {
          "terrain": "ocean",
          "value": 1,
          "x": 1,
          "y": 10
         },
         {
          "terrain": "ocean",
          "value": 0,
          "x": 2,
          "y": 10
         },
         {
          "terrain": "ocean",
          "value": 2,
          "x": 3,
          "y": 10
         },
         {
          "terrain": "ocean",
          "value": 3,
          "x": 4,
          "y": 10
         },
         {
          "terrain": "plain",
          "value": 6,
          "x": 5,
          "y": 10
         },
         {
          "terrain": "ocean",
          "value": 5,
          "x": 6,
          "y": 10
         },
         {
          "terrain": "plain",
          "value": 6,
          "x": 7,
          "y": 10
         },
         {
          "terrain": "plain",
          "value": 9,
          "x": 8,
          "y": 10
         },
         {
          "terrain": "plain",
          "value": 8,
          "x": 9,
          "y": 10
         },
         {
          "terrain": "plain",
          "value": 8,
          "x": 10,
          "y": 10
         },
         {
          "terrain": "plain",
          "value": 9,
          "x": 11,
          "y": 10
         },
         {
          "terrain": "plain",
          "value": 9,
          "x": 12,
          "y": 10
         },
         {
          "terrain": "plain",
          "value": 8,
          "x": 13,
          "y": 10
         },
         {
          "terrain": "plain",
          "value": 11,
          "x": 14,
          "y": 10
         },
         {
          "terrain": "plain",
          "value": 11,
          "x": 15,
          "y": 10
         },
         {
          "terrain": "plain",
          "value": 15,
          "x": 16,
          "y": 10
         },
         {
          "terrain": "plain",
          "value": 19,
          "x": 17,
          "y": 10
         },
         {
          "terrain": "plain",
          "value": 22,
          "x": 18,
          "y": 10
         },
         {
          "terrain": "mountain",
          "value": 26,
          "x": 19,
          "y": 10
         },
         {
          "terrain": "mountain",
          "value": 25,
          "x": 20,
          "y": 10
         },
         {
          "terrain": "plain",
          "value": 24,
          "x": 21,
          "y": 10
         },
         {
          "terrain": "mountain",
          "value": 25,
          "x": 22,
          "y": 10
         },
         {
          "terrain": "mountain",
          "value": 26,
          "x": 23,
          "y": 10
         },
         {
          "terrain": "plain",
          "value": 23,
          "x": 24,
          "y": 10
         },
         {
          "terrain": "plain",
          "value": 21,
          "x": 25,
          "y": 10
         },
         {
          "terrain": "plain",
          "value": 21,
          "x": 26,
          "y": 10
         },
         {
          "terrain": "plain",
          "value": 16,
          "x": 27,
          "y": 10
         },
         {
          "terrain": "plain",
          "value": 15,
          "x": 28,
          "y": 10
         },
         {
          "terrain": "plain",
          "value": 10,
          "x": 29,
          "y": 10
         },
         {
          "terrain": "plain",
          "value": 8,
          "x": 30,
          "y": 10
         },
         {
          "terrain": "ocean",
          "value": 5,
          "x": 31,
          "y": 10
         },
         {
          "terrain": "ocean",
          "value": 3,
          "x": 32,
          "y": 10
         },
         {
          "terrain": "ocean",
          "value": 3,
          "x": 33,
          "y": 10
         },
         {
          "terrain": "ocean",
          "value": 1,
          "x": 34,
          "y": 10
         },
         {
          "terrain": "ocean",
          "value": -2,
          "x": 35,
          "y": 10
         },
         {
          "terrain": "ocean",
          "value": 0,
          "x": 36,
          "y": 10
         },
         {
          "terrain": "ocean",
          "value": 0,
          "x": 37,
          "y": 10
         },
         {
          "terrain": "ocean",
          "value": 1,
          "x": 38,
          "y": 10
         },
         {
          "terrain": "ocean",
          "value": 0,
          "x": 39,
          "y": 10
         },
         {
          "terrain": "ocean",
          "value": 1,
          "x": 0,
          "y": 11
         },
         {
          "terrain": "ocean",
          "value": -2,
          "x": 1,
          "y": 11
         },
         {
          "terrain": "ocean",
          "value": 1,
          "x": 2,
          "y": 11
         },
         {
          "terrain": "ocean",
          "value": 5,
          "x": 3,
          "y": 11
         },
         {
          "terrain": "ocean",
          "value": 1,
          "x": 4,
          "y": 11
         },
         {
          "terrain": "ocean",
          "value": 5,
          "x": 5,
          "y": 11
         },
         {
          "terrain": "ocean",
          "value": 3,
          "x": 6,
          "y": 11
         },
         {
          "terrain": "ocean",
          "value": 3,
          "x": 7,
          "y": 11
         },
         {
          "terrain": "ocean",
          "value": 3,
          "x": 8,
          "y": 11
         },
         {
          "terrain": "ocean",
          "value": 5,
          "x": 9,
          "y": 11
         },
         {
          "terrain": "plain",
          "value": 7,
          "x": 10,
          "y": 11
         },
         {
          "terrain": "ocean",
          "value": 4,
          "x": 11,
          "y": 11
         },
         {
          "terrain": "ocean",
          "value": 4,
          "x": 12,
          "y": 11
         },
         {
          "terrain": "plain",
          "value": 6,
          "x": 13,
          "y": 11
         },
         {
          "terrain": "plain",
          "value": 8,
          "x": 14,
          "y": 11
         },
         {
          "terrain": "plain",
          "value": 8,
          "x": 15,
          "y": 11
         },
         {
          "terrain": "plain",
          "value": 9,
          "x": 16,
          "y": 11
         },
         {
          "terrain": "plain",
          "value": 13,
          "x": 17,
          "y": 11
         },
         {
          "terrain": "plain",
          "value": 15,
          "x": 18,
          "y": 11
         },
         {
          "terrain": "plain",
          "value": 15,
          "x": 19,
          "y": 11
         },
         {
          "terrain": "plain",
          "value": 14,
          "x": 20,
          "y": 11
         },
         {
          "terrain": "plain",
          "value": 16,
          "x": 21,
          "y": 11
         },
         {
          "terrain": "plain",
          "value": 18,
          "x": 22,
          "y": 11
         },
         {
          "terrain": "plain",
          "value": 20,
          "x": 23,
          "y": 11
         },
         {
          "terrain": "plain",
          "value": 20,
          "x": 24,
          "y": 11
         },
         {
          "terrain": "plain",
          "value": 19,
          "x": 25,
          "y": 11
         },
         {
          "terrain": "plain",
          "value": 17,
          "x": 26,
          "y": 11
         },
         {
          "terrain": "plain",
          "value": 15,
          "x": 27,
          "y": 11
         },
         {
          "terrain": "plain",
          "value": 13,
          "x": 28,
          "y": 11
         },
         {
          "terrain": "plain",
          "value": 8,
          "x": 29,
          "y": 11
         },
         {
          "terrain": "plain",
          "value": 7,
          "x": 30,
          "y": 11
         },
         {
          "terrain": "ocean",
          "value": 3,
          "x": 31,
          "y": 11
         },
         {
          "terrain": "ocean",
          "value": 2,
          "x": 32,
          "y": 11
         },
         {
          "terrain": "ocean",
          "value": 2,
          "x": 33,
          "y": 11
         },
         {
          "terrain": "ocean",
          "value": 4,
          "x": 34,
          "y": 11
         },
         {
          "terrain": "ocean",
          "value": 0,
          "x": 35,
          "y": 11
         },
         {
          "terrain": "ocean",
          "value": -1,
          "x": 36,
          "y": 11
         },
         {
          "terrain": "ocean",
          "value": 0,
          "x": 37,
          "y": 11
         },
         {
          "terrain": "ocean",
          "value": 0,
          "x": 38,
          "y": 11
         },
         {
          "terrain": "ocean",
          "value": 0,
          "x": 39,
          "y": 11
         },
         {
          "terrain": "ocean",
          "value": 2,
          "x": 0,
          "y": 12
         },
         {
          "terrain": "ocean",
          "value": 0,
          "x": 1,
          "y": 12
         },
         {
          "terrain": "ocean",
          "value": 1,
          "x": 2,
          "y": 12
         },
         {
          "terrain": "ocean",
          "value": 2,
          "x": 3,
          "y": 12
         },
         {
          "terrain": "ocean",
          "value": 0,
          "x": 4,
          "y": 12
         },
         {
          "terrain": "ocean",
          "value": 1,
          "x": 5,
          "y": 12
         },
         {
          "terrain": "ocean",
          "value": 1,
          "x": 6,
          "y": 12
         },
         {
          "terrain": "ocean",
          "value": 1,
          "x": 7,
          "y": 12
         },
         {
          "terrain": "ocean",
          "value": 3,
          "x": 8,
          "y": 12
         },
         {
          "terrain": "ocean",
          "value": 2,
          "x": 9,
          "y": 12
         },
         {
          "terrain": "ocean",
          "value": 5,
          "x": 10,
          "y": 12
         },
         {
          "terrain": "ocean",
          "value": 5,
          "x": 11,
          "y": 12
         },
         {
          "terrain": "ocean",
          "value": 4,
          "x": 12,
          "y": 12
         },
         {
          "terrain": "ocean",
          "value": 3,
          "x": 13,
          "y": 12
         },
         {
          "terrain": "plain",
          "value": 9,
          "x": 14,
          "y": 12
         },
         {
          "terrain": "plain",
          "value": 9,
          "x": 15,
          "y": 12
         },
         {
          "terrain": "plain",
          "value": 12,
          "x": 16,
          "y": 12
         },
         {
          "terrain": "plain",
          "value": 12,
          "x": 17,
          "y": 12
         },
         {
          "terrain": "plain",
          "value": 12,
          "x": 18,
          "y": 12
         },
         {
          "terrain": "plain",
          "value": 14,
          "x": 19,
          "y": 12
         },
         {
          "terrain": "plain",
          "value": 13,
          "x": 20,
          "y": 12
         },
         {
          "terrain": "plain",
          "value": 15,
          "x": 21,
          "y": 12
         },
         {
          "terrain": "plain",
          "value": 16,
          "x": 22,
          "y": 12
         },
         {
          "terrain": "plain",
          "value": 20,
          "x": 23,
          "y": 12
         },
         {
          "terrain": "plain",
          "value": 21,
          "x": 24,
          "y": 12
         },
         {
          "terrain": "plain",
          "value": 21,
          "x": 25,
          "y": 12
         },
         {
          "terrain": "plain",
          "value": 21,
          "x": 26,
          "y": 12
         },
         {
          "terrain": "plain",
          "value": 16,
          "x": 27,
          "y": 12
         },
         {
          "terrain": "plain",
          "value": 10,
          "x": 28,
          "y": 12
         },
         {
          "terrain": "plain",
          "value": 7,
          "x": 29,
          "y": 12
         },
         {
          "terrain": "ocean",
          "value": 2,
          "x": 30,
          "y": 12
         },
         {
          "terrain": "ocean",
          "value": 4,
          "x": 31,
          "y": 12
         },
         {
          "terrain": "ocean",
          "value": 3,
          "x": 32,
          "y": 12
         },
         {
          "terrain": "ocean",
          "value": 3,
          "x": 33,
          "y": 12
         },
         {
          "terrain": "ocean",
          "value": -1,
          "x": 34,
          "y": 12
         },
         {
          "terrain": "ocean",
          "value": -1,
          "x": 35,
          "y": 12
         },
         {
          "terrain": "ocean",
          "value": 1,
          "x": 36,
          "y": 12
         },
         {
          "terrain": "ocean",
          "value": 0,
          "x": 37,
          "y": 12
         },
         {
          "terrain": "ocean",
          "value": 1,
          "x": 38,
          "y": 12
         },
         {
          "terrain": "ocean",
          "value": 1,
          "x": 39,
          "y": 12
         },
         {
          "terrain": "ocean",
          "value": -1,
          "x": 0,
          "y": 13
         },
         {
          "terrain": "ocean",
          "value": 0,
          "x": 1,
          "y": 13
         },
         {
          "terrain": "ocean",
          "value": 0,
          "x": 2,
          "y": 13
         },
         {
          "terrain": "ocean",
          "value": 0,
          "x": 3,
          "y": 13
         },
         {
          "terrain": "ocean",
          "value": 2,
          "x": 4,
          "y": 13
         },
         {
          "terrain": "ocean",
          "value": 0,
          "x": 5,
          "y": 13
         },
         {
          "terrain": "ocean",
          "value": 1,
          "x": 6,
          "y": 13
         },
         {
          "terrain": "ocean",
          "value": -1,
          "x": 7,
          "y": 13
         },
         {
          "terrain": "ocean",
          "value": 3,
          "x": 8,
          "y": 13
         },
         {
          "terrain": "ocean",
          "value": 3,
          "x": 9,
          "y": 13
         },
         {
          "terrain": "plain",
          "value": 6,
          "x": 10,
          "y": 13
         },
         {
          "terrain": "ocean",
          "value": 4,
          "x": 11,
          "y": 13
         },
         {
          "terrain": "plain",
          "value": 6,
          "x": 12,
          "y": 13
         },
         {
          "terrain": "plain",
          "value": 6,
          "x": 13,
          "y": 13
         },
         {
          "terrain": "plain",
          "value": 9,
          "x": 14,
          "y": 13
         },
         {
          "terrain": "plain",
          "value": 12,
          "x": 15,
          "y": 13
         },
         {
          "terrain": "plain",
          "value": 16,
          "x": 16,
          "y": 13
         },
         {
          "terrain": "plain",
          "value": 15,
          "x": 17,
          "y": 13
         },
         {
          "terrain": "plain",
          "value": 14,
          "x": 18,
          "y": 13
         },
         {
          "terrain": "plain",
          "value": 15,
          "x": 19,
          "y": 13
         },
         {
          "terrain": "plain",
          "value": 18,
          "x": 20,
          "y": 13
         },
         {
          "terrain": "plain",
          "value": 19,
          "x": 21,
          "y": 13
         },
         {
          "terrain": "plain",
          "value": 22,
          "x": 22,
          "y": 13
         },
         {
          "terrain": "plain",
          "value": 22,
          "x": 23,
          "y": 13
         },
         {
          "terrain": "mountain",
          "value": 26,
          "x": 24,
          "y": 13
         },
         {
          "terrain": "mountain",
          "value": 27,
          "x": 25,
          "y": 13
         },
         {
          "terrain": "plain",
          "value": 22,
          "x": 26,
          "y": 13
         },
         {
          "terrain": "plain",
          "value": 14,
          "x": 27,
          "y": 13
         },
         {
          "terrain": "plain",
          "value": 11,
          "x": 28,
          "y": 13
         },
         {
          "terrain": "plain",
          "value": 6,
          "x": 29,
          "y": 13
         },
         {
          "terrain": "ocean",
          "value": 3,
          "x": 30,
          "y": 13
         },
         {
          "terrain": "ocean",
          "value": 3,
          "x": 31,
          "y": 13
         },
         {
          "terrain": "ocean",
          "value": 3,
          "x": 32,
          "y": 13
         },
         {
          "terrain": "ocean",
          "value": 1,
          "x": 33,
          "y": 13
         },
         {
          "terrain": "ocean",
          "value": 1,
          "x": 34,
          "y": 13
         },
         {
          "terrain": "ocean",
          "value": 2,
          "x": 35,
          "y": 13
         },
         {
          "terrain": "ocean",
          "value": 1,
          "x": 36,
          "y": 13
         },
         {
          "terrain": "ocean",
          "value": 1,
          "x": 37,
          "y": 13
         },
         {
          "terrain": "ocean",
          "value": -2,
          "x": 38,
          "y": 13
         },
         {
          "terrain": "ocean",
          "value": 1,
          "x": 39,
          "y": 13
         },
         {
          "terrain": "ocean",
          "value": 3,
          "x": 0,
          "y": 14
         },
         {
          "terrain": "ocean",
          "value": 1,
          "x": 1,
          "y": 14
         },
         {
          "terrain": "ocean",
          "value": 1,
          "x": 2,
          "y": 14
         },
         {
          "terrain": "ocean",
          "value": 2,
          "x": 3,
          "y": 14
         },
         {
          "terrain": "ocean",
          "value": 2,
          "x": 4,
          "y": 14
         },
         {
          "terrain": "ocean",
          "value": 3,
          "x": 5,
          "y": 14
         },
         {
          "terrain": "ocean",
          "value": 1,
          "x": 6,
          "y": 14
         },
         {
          "terrain": "ocean",
          "value": -1,
          "x": 7,
          "y": 14
         },
         {
          "terrain": "ocean",
          "value": 4,
          "x": 8,
          "y": 14
         },
         {
          "terrain": "ocean",
          "value": 5,
          "x": 9,
          "y": 14
         },
         {
          "terrain": "plain",
          "value": 6,
          "x": 10,
          "y": 14
         },
         {
          "terrain": "plain",
          "value": 7,
          "x": 11,
          "y": 14
         },
         {
          "terrain": "plain",
          "value": 6,
          "x": 12,
          "y": 14
         },
         {
          "terrain": "plain",
          "value": 10,
          "x": 13,
          "y": 14
         },
         {
          "terrain": "plain",
          "value": 13,
          "x": 14,
          "y": 14
         },
         {
          "terrain": "plain",
          "value": 17,
          "x": 15,
          "y": 14
         },
         {
          "terrain": "plain",
          "value": 19,
          "x": 16,
          "y": 14
         },
         {
          "terrain": "plain",
          "value": 21,
          "x": 17,
          "y": 14
         },
         {
          "terrain": "plain",
          "value": 21,
          "x": 18,
          "y": 14
         },
         {
          "terrain": "plain",
          "value": 22,
          "x": 19,
          "y": 14
         },
         {
          "terrain": "plain",
          "value": 24,
          "x": 20,
          "y": 14
         },
         {
          "terrain": "plain",
          "value": 21,
          "x": 21,
          "y": 14
         },
         {
          "terrain": "mountain",
          "value": 27,
          "x": 22,
          "y": 14
         },
         {
          "terrain": "mountain",
          "value": 28,
          "x": 23,
          "y": 14
         },
         {
          "terrain": "mountain",
          "value": 30,
          "x": 24,
          "y": 14
         },
         {
          "terrain": "mountain",
          "value": 28,
          "x": 25,
          "y": 14
         },
         {
          "terrain": "plain",
          "value": 24,
          "x": 26,
          "y": 14
         },
         {
          "terrain": "plain",
          "value": 16,
          "x": 27,
          "y": 14
         },
         {
          "terrain": "plain",
          "value": 12,
          "x": 28,
          "y": 14
         },
         {
          "terrain": "plain",
          "value": 7,
          "x": 29,
          "y": 14
         },
         {
          "terrain": "ocean",
          "value": 3,
          "x": 30,
          "y": 14
         },
         {
          "terrain": "ocean",
          "value": 0,
          "x": 31,
          "y": 14
         },
         {
          "terrain": "ocean",
          "value": 2,
          "x": 32,
          "y": 14
         },
         {
          "terrain": "ocean",
          "value": 1,
          "x": 33,
          "y": 14
         },
         {
          "terrain": "ocean",
          "value": 0,
          "x": 34,
          "y": 14
         },
         {
          "terrain": "ocean",
          "value": -1,
          "x": 35,
          "y": 14
         },
         {
          "terrain": "ocean",
          "value": -1,
          "x": 36,
          "y": 14
         },
         {
          "terrain": "ocean",
          "value": -1,
          "x": 37,
          "y": 14
         },
         {
          "terrain": "ocean",
          "value": -1,
          "x": 38,
          "y": 14
         },
         {
          "terrain": "ocean",
          "value": 1,
          "x": 39,
          "y": 14
         },
         {
          "terrain": "ocean",
          "value": 1,
          "x": 0,
          "y": 15
         },
         {
          "terrain": "ocean",
          "value": 3,
          "x": 1,
          "y": 15
         },
         {
          "terrain": "plain",
          "value": 6,
          "x": 2,
          "y": 15
         },
         {
          "terrain": "plain",
          "value": 7,
          "x": 3,
          "y": 15
         },
         {
          "terrain": "plain",
          "value": 6,
          "x": 4,
          "y": 15
         },
         {
          "terrain": "ocean",
          "value": 5,
          "x": 5,
          "y": 15
         },
         {
          "terrain": "plain",
          "value": 7,
          "x": 6,
          "y": 15
         },
         {
          "terrain": "plain",
          "value": 7,
          "x": 7,
          "y": 15
         },
         {
          "terrain": "plain",
          "value": 8,
          "x": 8,
          "y": 15
         },
         {
          "terrain": "plain",
          "value": 11,
          "x": 9,
          "y": 15
         },
         {
          "terrain": "plain",
          "value": 9,
          "x": 10,
          "y": 15
         },
         {
          "terrain": "plain",
          "value": 12,
          "x": 11,
          "y": 15
         },
         {
          "terrain": "plain",
          "value": 11,
          "x": 12,
          "y": 15
         },
         {
          "terrain": "plain",
          "value": 13,
          "x": 13,
          "y": 15
         },
         {
          "terrain": "plain",
          "value": 16,
          "x": 14,
          "y": 15
         },
         {
          "terrain": "plain",
          "value": 20,
          "x": 15,
          "y": 15
         },
         {
          "terrain": "plain",
          "value": 23,
          "x": 16,
          "y": 15
         },
         {
          "terrain": "mountain",
          "value": 28,
          "x": 17,
          "y": 15
         },
         {
          "terrain": "mountain",
          "value": 30,
          "x": 18,
          "y": 15
         },
         {
          "terrain": "mountain",
          "value": 31,
          "x": 19,
          "y": 15
         },
         {
          "terrain": "mountain",
          "value": 29,
          "x": 20,
          "y": 15
         },
         {
          "terrain": "mountain",
          "value": 30,
          "x": 21,
          "y": 15
         },
         {
          "terrain": "mountain",
          "value": 29,
          "x": 22,
          "y": 15
         },
         {
          "terrain": "mountain",
          "value": 30,
          "x": 23,
          "y": 15
         },
         {
          "terrain": "mountain",
          "value": 30,
          "x": 24,
          "y": 15
         },
         {
          "terrain": "plain",
          "value": 24,
          "x": 25,
          "y": 15
         },
         {
          "terrain": "plain",
          "value": 22,
          "x": 26,
          "y": 15
         },
         {
          "terrain": "plain",
          "value": 15,
          "x": 27,
          "y": 15
         },
         {
          "terrain": "plain",
          "value": 10,
          "x": 28,
          "y": 15
         },
         {
          "terrain": "ocean",
          "value": 5,
          "x": 29,
          "y": 15
         },
         {
          "terrain": "ocean",
          "value": 0,
          "x": 30,
          "y": 15
         },
         {
          "terrain": "ocean",
          "value": 1,
          "x": 31,
          "y": 15
         },
         {
          "terrain": "ocean",
          "value": 1,
          "x": 32,
          "y": 15
         },
         {
          "terrain": "ocean",
          "value": 0,
          "x": 33,
          "y": 15
         },
         {
          "terrain": "ocean",
          "value": 0,
          "x": 34,
          "y": 15
         },
         {
          "terrain": "ocean",
          "value": 0,
          "x": 35,
          "y": 15
         },
         {
          "terrain": "ocean",
          "value": -1,
          "x": 36,
          "y": 15
         },
         {
          "terrain": "ocean",
          "value": -1,
          "x": 37,
          "y": 15
         },
         {
          "terrain": "ocean",
          "value": 1,
          "x": 38,
          "y": 15
         },
         {
          "terrain": "ocean",
          "value": 0,
          "x": 39,
          "y": 15
         },
         {
          "terrain": "ocean",
          "value": 3,
          "x": 0,
          "y": 16
         },
         {
          "terrain": "ocean",
          "value": 5,
          "x": 1,
          "y": 16
         },
         {
          "terrain": "plain",
          "value": 9,
          "x": 2,
          "y": 16
         },
         {
          "terrain": "plain",
          "value": 9,
          "x": 3,
          "y": 16
         },
         {
          "terrain": "plain",
          "value": 9,
          "x": 4,
          "y": 16
         },
         {
          "terrain": "plain",
          "value": 10,
          "x": 5,
          "y": 16
         },
         {
          "terrain": "plain",
          "value": 13,
          "x": 6,
          "y": 16
         },
         {
          "terrain": "plain",
          "value": 12,
          "x": 7,
          "y": 16
         },
         {
          "terrain": "plain",
          "value": 13,
          "x": 8,
          "y": 16
         },
         {
          "terrain": "plain",
          "value": 16,
          "x": 9,
          "y": 16
         },
         {
          "terrain": "plain",
          "value": 18,
          "x": 10,
          "y": 16
         },
         {
          "terrain": "plain",
          "value": 17,
          "x": 11,
          "y": 16
         },
         {
          "terrain": "plain",
          "value": 17,
          "x": 12,
          "y": 16
         },
         {
          "terrain": "plain",
          "value": 17,
          "x": 13,
          "y": 16
         },
         {
          "terrain": "plain",
          "value": 19,
          "x": 14,
          "y": 16
         },
         {
          "terrain": "plain",
          "value": 24,
          "x": 15,
          "y": 16
         },
         {
          "terrain": "mountain",
          "value": 29,
          "x": 16,
          "y": 16
         },
         {
          "terrain": "mountain",
          "value": 35,
          "x": 17,
          "y": 16
         },
         {
          "terrain": "mountain",
          "value": 40,
          "x": 18,
          "y": 16
         },
         {
          "terrain": "mountain",
          "value": 43,
          "x": 19,
          "y": 16
         },
         {
          "terrain": "mountain",
          "value": 41,
          "x": 20,
          "y": 16
         },
         {
          "terrain": "mountain",
          "value": 37,
          "x": 21,
          "y": 16
         },
         {
          "terrain": "mountain",
          "value": 38,
          "x": 22,
          "y": 16
         },
         {
          "terrain": "mountain",
          "value": 31,
          "x": 23,
          "y": 16
         },
         {
          "terrain": "mountain",
          "value": 26,
          "x": 24,
          "y": 16
         },
         {
          "terrain": "plain",
          "value": 21,
          "x": 25,
          "y": 16
         },
         {
          "terrain": "plain",
          "value": 19,
          "x": 26,
          "y": 16
         },
         {
          "terrain": "plain",
          "value": 15,
          "x": 27,
          "y": 16
         },
         {
          "terrain": "plain",
          "value": 7,
          "x": 28,
          "y": 16
         },
         {
          "terrain": "ocean",
          "value": 3,
          "x": 29,
          "y": 16
         },
         {
          "terrain": "ocean",
          "value": 2,
          "x": 30,
          "y": 16
         },
         {
          "terrain": "ocean",
          "value": 0,
          "x": 31,
          "y": 16
         },
         {
          "terrain": "ocean",
          "value": 1,
          "x": 32,
          "y": 16
         },
         {
          "terrain": "ocean",
          "value": 0,
          "x": 33,
          "y": 16
         },
         {
          "terrain": "ocean",
          "value": 0,
          "x": 34,
          "y": 16
         },
         {
          "terrain": "ocean",
          "value": 0,
          "x": 35,
          "y": 16
         },
         {
          "terrain": "ocean",
          "value": 0,
          "x": 36,
          "y": 16
         },
         {
          "terrain": "ocean",
          "value": -1,
          "x": 37,
          "y": 16
         },
         {
          "terrain": "ocean",
          "value": -1,
          "x": 38,
          "y": 16
         },
         {
          "terrain": "ocean",
          "value": 1,
          "x": 39,
          "y": 16
         },
         {
          "terrain": "plain",
          "value": 7,
          "x": 0,
          "y": 17
         },
         {
          "terrain": "plain",
          "value": 10,
          "x": 1,
          "y": 17
         },
         {
          "terrain": "plain",
          "value": 9,
          "x": 2,
          "y": 17
         },
         {
          "terrain": "plain",
          "value": 12,
          "x": 3,
          "y": 17
         },
         {
          "terrain": "plain",
          "value": 15,
          "x": 4,
          "y": 17
         },
         {
          "terrain": "plain",
          "value": 17,
          "x": 5,
          "y": 17
         },
         {
          "terrain": "plain",
          "value": 18,
          "x": 6,
          "y": 17
         },
         {
          "terrain": "plain",
          "value": 23,
          "x": 7,
          "y": 17
         },
         {
          "terrain": "plain",
          "value": 23,
          "x": 8,
          "y": 17
         },
         {
          "terrain": "mountain",
          "value": 25,
          "x": 9,
          "y": 17
         },
         {
          "terrain": "mountain",
          "value": 26,
          "x": 10,
          "y": 17
         },
         {
          "terrain": "mountain",
          "value": 25,
          "x": 11,
          "y": 17
         },
         {
          "terrain": "plain",
          "value": 19,
          "x": 12,
          "y": 17
         },
         {
          "terrain": "plain",
          "value": 20,
          "x": 13,
          "y": 17
         },
         {
          "terrain": "plain",
          "value": 20,
          "x": 14,
          "y": 17
         },
         {
          "terrain": "plain",
          "value": 24,
          "x": 15,
          "y": 17
         },
         {
          "terrain": "mountain",
          "value": 32,
          "x": 16,
          "y": 17
         },
         {
          "terrain": "mountain",
          "value": 41,
          "x": 17,
          "y": 17
         },
         {
          "terrain": "mountain",
          "value": 47,
          "x": 18,
          "y": 17
         },
         {
          "terrain": "mountain",
          "value": 50,
          "x": 19,
          "y": 17
         },
         {
          "terrain": "mountain",
          "value": 49,
          "x": 20,
          "y": 17
         },
         {
          "terrain": "mountain",
          "value": 41,
          "x": 21,
          "y": 17
         },
         {
          "terrain": "mountain",
          "value": 37,
          "x": 22,
          "y": 17
         },
         {
          "terrain": "mountain",
          "value": 31,
          "x": 23,
          "y": 17
         },
         {
          "terrain": "plain",
          "value": 23,
          "x": 24,
          "y": 17
         },
         {
          "terrain": "plain",
          "value": 19,
          "x": 25,
          "y": 17
         },
         {
          "terrain": "plain",
          "value": 15,
          "x": 26,
          "y": 17
         },
         {
          "terrain": "plain",
          "value": 10,
          "x": 27,
          "y": 17
         },
         {
          "terrain": "plain",
          "value": 7,
          "x": 28,
          "y": 17
         },
         {
          "terrain": "ocean",
          "value": 2,
          "x": 29,
          "y": 17
         },
         {
          "terrain": "ocean",
          "value": -1,
          "x": 30,
          "y": 17
         },
         {
          "terrain": "ocean",
          "value": 1,
          "x": 31,
          "y": 17
         },
         {
          "terrain": "ocean",
          "value": 0,
          "x": 32,
          "y": 17
         },
         {
          "terrain": "ocean",
          "value": -2,
          "x": 33,
          "y": 17
         },
         {
          "terrain": "ocean",
          "value": -1,
          "x": 34,
          "y": 17
         },
         {
          "terrain": "ocean",
          "value": 0,
          "x": 35,
          "y": 17
         },
         {
          "terrain": "ocean",
          "value": 0,
          "x": 36,
          "y": 17
         },
         {
          "terrain": "ocean",
          "value": 0,
          "x": 37,
          "y": 17
         },
         {
          "terrain": "ocean",
          "value": 0,
          "x": 38,
          "y": 17
         },
         {
          "terrain": "ocean",
          "value": 2,
          "x": 39,
          "y": 17
         },
         {
          "terrain": "plain",
          "value": 7,
          "x": 0,
          "y": 18
         },
         {
          "terrain": "plain",
          "value": 11,
          "x": 1,
          "y": 18
         },
         {
          "terrain": "plain",
          "value": 16,
          "x": 2,
          "y": 18
         },
         {
          "terrain": "plain",
          "value": 23,
          "x": 3,
          "y": 18
         },
         {
          "terrain": "plain",
          "value": 24,
          "x": 4,
          "y": 18
         },
         {
          "terrain": "plain",
          "value": 24,
          "x": 5,
          "y": 18
         },
         {
          "terrain": "mountain",
          "value": 26,
          "x": 6,
          "y": 18
         },
         {
          "terrain": "mountain",
          "value": 30,
          "x": 7,
          "y": 18
         },
         {
          "terrain": "mountain",
          "value": 34,
          "x": 8,
          "y": 18
         },
         {
          "terrain": "mountain",
          "value": 34,
          "x": 9,
          "y": 18
         },
         {
          "terrain": "mountain",
          "value": 35,
          "x": 10,
          "y": 18
         },
         {
          "terrain": "mountain",
          "value": 32,
          "x": 11,
          "y": 18
         },
         {
          "terrain": "mountain",
          "value": 26,
          "x": 12,
          "y": 18
         },
         {
          "terrain": "plain",
          "value": 21,
          "x": 13,
          "y": 18
         },
         {
          "terrain": "plain",
          "value": 22,
          "x": 14,
          "y": 18
         },
         {
          "terrain": "plain",
          "value": 24,
          "x": 15,
          "y": 18
         },
         {
          "terrain": "mountain",
          "value": 35,
          "x": 16,
          "y": 18
         },
         {
          "terrain": "mountain",
          "value": 44,
          "x": 17,
          "y": 18
         },
         {
          "terrain": "mountain",
          "value": 52,
          "x": 18,
          "y": 18
         },
         {
          "terrain": "mountain",
          "value": 49,
          "x": 19,
          "y": 18
         },
         {
          "terrain": "mountain",
          "value": 51,
          "x": 20,
          "y": 18
         },
         {
          "terrain": "mountain",
          "value": 42,
          "x": 21,
          "y": 18
         },
         {
          "terrain": "mountain",
          "value": 38,
          "x": 22,
          "y": 18
         },
         {
          "terrain": "mountain",
          "value": 30,
          "x": 23,
          "y": 18
         },
         {
          "terrain": "plain",
          "value": 24,
          "x": 24,
          "y": 18
         },
         {
          "terrain": "plain",
          "value": 13,
          "x": 25,
          "y": 18
         },
         {
          "terrain": "plain",
          "value": 11,
          "x": 26,
          "y": 18
         },
         {
          "terrain": "ocean",
          "value": 5,
          "x": 27,
          "y": 18
         },
         {
          "terrain": "ocean",
          "value": 5,
          "x": 28,
          "y": 18
         },
         {
          "terrain": "ocean",
          "value": 2,
          "x": 29,
          "y": 18
         },
         {
          "terrain": "ocean",
          "value": 2,
          "x": 30,
          "y": 18
         },
         {
          "terrain": "ocean",
          "value": 1,
          "x": 31,
          "y": 18
         },
         {
          "terrain": "ocean",
          "value": -1,
          "x": 32,
          "y": 18
         },
         {
          "terrain": "ocean",
          "value": -2,
          "x": 33,
          "y": 18
         },
         {
          "terrain": "ocean",
          "value": 0,
          "x": 34,
          "y": 18
         },
         {
          "terrain": "ocean",
          "value": 0,
          "x": 35,
          "y": 18
         },
         {
          "terrain": "ocean",
          "value": 0,
          "x": 36,
          "y": 18
         },
         {
          "terrain": "ocean",
          "value": -2,
          "x": 37,
          "y": 18
         },
         {
          "terrain": "ocean",
          "value": -1,
          "x": 38,
          "y": 18
         },
         {
          "terrain": "ocean",
          "value": -1,
          "x": 39,
          "y": 18
         },
         {
          "terrain": "plain",
          "value": 7,
          "x": 0,
          "y": 19
         },
         {
          "terrain": "plain",
          "value": 10,
          "x": 1,
          "y": 19
         },
         {
          "terrain": "plain",
          "value": 19,
          "x": 2,
          "y": 19
         },
         {
          "terrain": "mountain",
          "value": 27,
          "x": 3,
          "y": 19
         },
         {
          "terrain": "mountain",
          "value": 25,
          "x": 4,
          "y": 19
         },
         {
          "terrain": "mountain",
          "value": 31,
          "x": 5,
          "y": 19
         },
         {
          "terrain": "mountain",
          "value": 32,
          "x": 6,
          "y": 19
         },
         {
          "terrain": "mountain",
          "value": 32,
          "x": 7,
          "y": 19
         },
         {
          "terrain": "mountain",
          "value": 37,
          "x": 8,
          "y": 19
         },
         {
          "terrain": "mountain",
          "value": 40,
          "x": 9,
          "y": 19
         },
         {
          "terrain": "mountain",
          "value": 37,
          "x": 10,
          "y": 19
         },
         {
          "terrain": "mountain",
          "value": 35,
          "x": 11,
          "y": 19
         },
         {
          "terrain": "mountain",
          "value": 30,
          "x": 12,
          "y": 19
         },
         {
          "terrain": "mountain",
          "value": 25,
          "x": 13,
          "y": 19
         },
         {
          "terrain": "plain",
          "value": 23,
          "x": 14,
          "y": 19
         },
         {
          "terrain": "mountain",
          "value": 25,
          "x": 15,
          "y": 19
         },
         {
          "terrain": "mountain",
          "value": 36,
          "x": 16,
          "y": 19
         },
         {
          "terrain": "mountain",
          "value": 43,
          "x": 17,
          "y": 19
         },
         {
          "terrain": "mountain",
          "value": 45,
          "x": 18,
          "y": 19
         },
         {
          "terrain": "mountain",
          "value": 47,
          "x": 19,
          "y": 19
         },
         {
          "terrain": "mountain",
          "value": 44,
          "x": 20,
          "y": 19
         },
         {
          "terrain": "mountain",
          "value": 40,
          "x": 21,
          "y": 19
         },
         {
          "terrain": "mountain",
          "value": 34,
          "x": 22,
          "y": 19
         },
         {
          "terrain": "plain",
          "value": 24,
          "x": 23,
          "y": 19
         },
         {
          "terrain": "plain",
          "value": 19,
          "x": 24,
          "y": 19
         },
         {
          "terrain": "plain",
          "value": 12,
          "x": 25,
          "y": 19
         },
         {
          "terrain": "plain",
          "value": 8,
          "x": 26,
          "y": 19
         },
         {
          "terrain": "ocean",
          "value": 3,
          "x": 27,
          "y": 19
         },
         {
          "terrain": "ocean",
          "value": 1,
          "x": 28,
          "y": 19
         },
         {
          "terrain": "ocean",
          "value": 0,
          "x": 29,
          "y": 19
         },
         {
          "terrain": "ocean",
          "value": 0,
          "x": 30,
          "y": 19
         },
         {
          "terrain": "ocean",
          "value": -2,
          "x": 31,
          "y": 19
         },
         {
          "terrain": "ocean",
          "value": 0,
          "x": 32,
          "y": 19
         },
         {
          "terrain": "ocean",
          "value": 0,
          "x": 33,
          "y": 19
         },
         {
          "terrain": "ocean",
          "value": 1,
          "x": 34,
          "y": 19
         },
         {
          "terrain": "ocean",
          "value": 0,
          "x": 35,
          "y": 19
         },
         {
          "terrain": "ocean",
          "value": -1,
          "x": 36,
          "y": 19
         },
         {
          "terrain": "ocean",
          "value": -1,
          "x": 37,
          "y": 19
         },
         {
          "terrain": "ocean",
          "value": 1,
          "x": 38,
          "y": 19
         },
         {
          "terrain": "ocean",
          "value": 0,
          "x": 39,
          "y": 19
         },
         {
          "terrain": "plain",
          "value": 6,
          "x": 0,
          "y": 20
         },
         {
          "terrain": "plain",
          "value": 12,
          "x": 1,
          "y": 20
         },
         {
          "terrain": "plain",
          "value": 17,
          "x": 2,
          "y": 20
         },
         {
          "terrain": "mountain",
          "value": 25,
          "x": 3,
          "y": 20
         },
         {
          "terrain": "mountain",
          "value": 34,
          "x": 4,
          "y": 20
         },
         {
          "terrain": "mountain",
          "value": 36,
          "x": 5,
          "y": 20
         },
         {
          "terrain": "mountain",
          "value": 36,
          "x": 6,
          "y": 20
         },
         {
          "terrain": "mountain",
          "value": 37,
          "x": 7,
          "y": 20
         },
         {
          "terrain": "mountain",
          "value": 43,
          "x": 8,
          "y": 20
         },
         {
          "terrain": "mountain",
          "value": 39,
          "x": 9,
          "y": 20
         },
         {
          "terrain": "mountain",
          "value": 37,
          "x": 10,
          "y": 20
         },
         {
          "terrain": "mountain",
          "value": 32,
          "x": 11,
          "y": 20
         },
         {
          "terrain": "mountain",
          "value": 26,
          "x": 12,
          "y": 20
         },
         {
          "terrain": "plain",
          "value": 23,
          "x": 13,
          "y": 20
         },
         {
          "terrain": "mountain",
          "value": 25,
          "x": 14,
          "y": 20
         },
         {
          "terrain": "mountain",
          "value": 25,
          "x": 15,
          "y": 20
         },
         {
          "terrain": "mountain",
          "value": 34,
          "x": 16,
          "y": 20
         },
         {
          "terrain": "mountain",
          "value": 35,
          "x": 17,
          "y": 20
         },
         {
          "terrain": "mountain",
          "value": 36,
          "x": 18,
          "y": 20
         },
         {
          "terrain": "mountain",
          "value": 34,
          "x": 19,
          "y": 20
         },
         {
          "terrain": "mountain",
          "value": 36,
          "x": 20,
          "y": 20
         },
         {
          "terrain": "mountain",
          "value": 31,
          "x": 21,
          "y": 20
         },
         {
          "terrain": "mountain",
          "value": 27,
          "x": 22,
          "y": 20
         },
         {
          "terrain": "plain",
          "value": 22,
          "x": 23,
          "y": 20
         },
         {
          "terrain": "plain",
          "value": 17,
          "x": 24,
          "y": 20
         },
         {
          "terrain": "plain",
          "value": 12,
          "x": 25,
          "y": 20
         },
         {
          "terrain": "plain",
          "value": 9,
          "x": 26,
          "y": 20
         },
         {
          "terrain": "ocean",
          "value": 4,
          "x": 27,
          "y": 20
         },
         {
          "terrain": "ocean",
          "value": 1,
          "x": 28,
          "y": 20
         },
         {
          "terrain": "ocean",
          "value": 1,
          "x": 29,
          "y": 20
         },
         {
          "terrain": "ocean",
          "value": 0,
          "x": 30,
          "y": 20
         },
         {
          "terrain": "ocean",
          "value": -1,
          "x": 31,
          "y": 20
         },
         {
          "terrain": "ocean",
          "value": 0,
          "x": 32,
          "y": 20
         },
         {
          "terrain": "ocean",
          "value": 1,
          "x": 33,
          "y": 20
         },
         {
          "terrain": "ocean",
          "value": 1,
          "x": 34,
          "y": 20
         },
         {
          "terrain": "ocean",
          "value": 0,
          "x": 35,
          "y": 20
         },
         {
          "terrain": "ocean",
          "value": 0,
          "x": 36,
          "y": 20
         },
         {
          "terrain": "ocean",
          "value": 0,
          "x": 37,
          "y": 20
         },
         {
          "terrain": "ocean",
          "value": -1,
          "x": 38,
          "y": 20
         },
         {
          "terrain": "ocean",
          "value": 0,
          "x": 39,
          "y": 20
         },
         {
          "terrain": "plain",
          "value": 6,
          "x": 0,
          "y": 21
         },
         {
          "terrain": "plain",
          "value": 11,
          "x": 1,
          "y": 21
         },
         {
          "terrain": "plain",
          "value": 16,
          "x": 2,
          "y": 21
         },
         {
          "terrain": "mountain",
          "value": 27,
          "x": 3,
          "y": 21
         },
         {
          "terrain": "mountain",
          "value": 33,
          "x": 4,
          "y": 21
         },
         {
          "terrain": "mountain",
          "value": 40,
          "x": 5,
          "y": 21
         },
         {
          "terrain": "mountain",
          "value": 39,
          "x": 6,
          "y": 21
         },
         {
          "terrain": "mountain",
          "value": 43,
          "x": 7,
          "y": 21
         },
         {
          "terrain": "mountain",
          "value": 35,
          "x": 8,
          "y": 21
         },
         {
          "terrain": "mountain",
          "value": 34,
          "x": 9,
          "y": 21
         },
         {
          "terrain": "mountain",
          "value": 32,
          "x": 10,
          "y": 21
         },
         {
          "terrain": "mountain",
          "value": 29,
          "x": 11,
          "y": 21
         },
         {
          "terrain": "mountain",
          "value": 25,
          "x": 12,
          "y": 21
         },
         {
          "terrain": "plain",
          "value": 22,
          "x": 13,
          "y": 21
         },
         {
          "terrain": "plain",
          "value": 22,
          "x": 14,
          "y": 21
         },
         {
          "terrain": "plain",
          "value": 24,
          "x": 15,
          "y": 21
         },
         {
          "terrain": "mountain",
          "value": 26,
          "x": 16,
          "y": 21
         },
         {
          "terrain": "mountain",
          "value": 28,
          "x": 17,
          "y": 21
         },
         {
          "terrain": "mountain",
          "value": 25,
          "x": 18,
          "y": 21
         },
         {
          "terrain": "mountain",
          "value": 26,
          "x": 19,
          "y": 21
         },
         {
          "terrain": "plain",
          "value": 23,
          "x": 20,
          "y": 21
         },
         {
          "terrain": "plain",
          "value": 22,
          "x": 21,
          "y": 21
         },
         {
          "terrain": "plain",
          "value": 21,
          "x": 22,
          "y": 21
         },
         {
          "terrain": "plain",
          "value": 17,
          "x": 23,
          "y": 21
         },
         {
          "terrain": "plain",
          "value": 16,
          "x": 24,
          "y": 21
         },
         {
          "terrain": "plain",
          "value": 10,
          "x": 25,
          "y": 21
         },
         {
          "terrain": "plain",
          "value": 6,
          "x": 26,
          "y": 21
         },
         {
          "terrain": "ocean",
          "value": 4,
          "x": 27,
          "y": 21
         },
         {
          "terrain": "ocean",
          "value": 2,
          "x": 28,
          "y": 21
         },
         {
          "terrain": "ocean",
          "value": 2,
          "x": 29,
          "y": 21
         },
         {
          "terrain": "ocean",
          "value": 1,
          "x": 30,
          "y": 21
         },
         {
          "terrain": "ocean",
          "value": 1,
          "x": 31,
          "y": 21
         },
         {
          "terrain": "ocean",
          "value": -2,
          "x": 32,
          "y": 21
         },
         {
          "terrain": "ocean",
          "value": -1,
          "x": 33,
          "y": 21
         },
         {
          "terrain": "ocean",
          "value": 1,
          "x": 34,
          "y": 21
         },
         {
          "terrain": "ocean",
          "value": -1,
          "x": 35,
          "y": 21
         },
         {
          "terrain": "ocean",
          "value": -1,
          "x": 36,
          "y": 21
         },
         {
          "terrain": "ocean",
          "value": -1,
          "x": 37,
          "y": 21
         },
         {
          "terrain": "ocean",
          "value": -1,
          "x": 38,
          "y": 21
         },
         {
          "terrain": "ocean",
          "value": -1,
          "x": 39,
          "y": 21
         },
         {
          "terrain": "plain",
          "value": 8,
          "x": 0,
          "y": 22
         },
         {
          "terrain": "plain",
          "value": 9,
          "x": 1,
          "y": 22
         },
         {
          "terrain": "plain",
          "value": 17,
          "x": 2,
          "y": 22
         },
         {
          "terrain": "plain",
          "value": 23,
          "x": 3,
          "y": 22
         },
         {
          "terrain": "mountain",
          "value": 30,
          "x": 4,
          "y": 22
         },
         {
          "terrain": "mountain",
          "value": 35,
          "x": 5,
          "y": 22
         },
         {
          "terrain": "mountain",
          "value": 40,
          "x": 6,
          "y": 22
         },
         {
          "terrain": "mountain",
          "value": 37,
          "x": 7,
          "y": 22
         },
         {
          "terrain": "mountain",
          "value": 31,
          "x": 8,
          "y": 22
         },
         {
          "terrain": "mountain",
          "value": 28,
          "x": 9,
          "y": 22
         },
         {
          "terrain": "plain",
          "value": 22,
          "x": 10,
          "y": 22
         },
         {
          "terrain": "plain",
          "value": 21,
          "x": 11,
          "y": 22
         },
         {
          "terrain": "plain",
          "value": 20,
          "x": 12,
          "y": 22
         },
         {
          "terrain": "plain",
          "value": 17,
          "x": 13,
          "y": 22
         },
         {
          "terrain": "plain",
          "value": 18,
          "x": 14,
          "y": 22
         },
         {
          "terrain": "plain",
          "value": 18,
          "x": 15,
          "y": 22
         },
         {
          "terrain": "plain",
          "value": 20,
          "x": 16,
          "y": 22
         },
         {
          "terrain": "plain",
          "value": 22,
          "x": 17,
          "y": 22
         },
         {
          "terrain": "plain",
          "value": 20,
          "x": 18,
          "y": 22
         },
         {
          "terrain": "plain",
          "value": 17,
          "x": 19,
          "y": 22
         },
         {
          "terrain": "plain",
          "value": 15,
          "x": 20,
          "y": 22
         },
         {
          "terrain": "plain",
          "value": 17,
          "x": 21,
          "y": 22
         },
         {
          "terrain": "plain",
          "value": 14,
          "x": 22,
          "y": 22
         },
         {
          "terrain": "plain",
          "value": 12,
          "x": 23,
          "y": 22
         },
         {
          "terrain": "plain",
          "value": 11,
          "x": 24,
          "y": 22
         },
         {
          "terrain": "plain",
          "value": 8,
          "x": 25,
          "y": 22
         },
         {
          "terrain": "ocean",
          "value": 5,
          "x": 26,
          "y": 22
         },
         {
          "terrain": "ocean",
          "value": 3,
          "x": 27,
          "y": 22
         },
         {
          "terrain": "ocean",
          "value": 2,
          "x": 28,
          "y": 22
         },
         {
          "terrain": "ocean",
          "value": 0,
          "x": 29,
          "y": 22
         },
         {
          "terrain": "ocean",
          "value": 0,
          "x": 30,
          "y": 22
         },
         {
          "terrain": "ocean",
          "value": 0,
          "x": 31,
          "y": 22
         },
         {
          "terrain": "ocean",
          "value": -1,
          "x": 32,
          "y": 22
         },
         {
          "terrain": "ocean",
          "value": -2,
          "x": 33,
          "y": 22
         },
         {
          "terrain": "ocean",
          "value": -3,
          "x": 34,
          "y": 22
         },
         {
          "terrain": "ocean",
          "value": 1,
          "x": 35,
          "y": 22
         },
         {
          "terrain": "ocean",
          "value": -1,
          "x": 36,
          "y": 22
         },
         {
          "terrain": "ocean",
          "value": 0,
          "x": 37,
          "y": 22
         },
         {
          "terrain": "ocean",
          "value": 0,
          "x": 38,
          "y": 22
         },
         {
          "terrain": "ocean",
          "value": 0,
          "x": 39,
          "y": 22
         },
         {
          "terrain": "ocean",
          "value": 5,
          "x": 0,
          "y": 23
         },
         {
          "terrain": "plain",
          "value": 10,
          "x": 1,
          "y": 23
         },
         {
          "terrain": "plain",
          "value": 14,
          "x": 2,
          "y": 23
         },
         {
          "terrain": "plain",
          "value": 20,
          "x": 3,
          "y": 23
         },
         {
          "terrain": "plain",
          "value": 24,
          "x": 4,
          "y": 23
         },
         {
          "terrain": "mountain",
          "value": 28,
          "x": 5,
          "y": 23
         },
         {
          "terrain": "mountain",
          "value": 31,
          "x": 6,
          "y": 23
         },
         {
          "terrain": "mountain",
          "value": 31,
          "x": 7,
          "y": 23
         },
         {
          "terrain": "mountain",
          "value": 27,
          "x": 8,
          "y": 23
         },
         {
          "terrain": "plain",
          "value": 22,
          "x": 9,
          "y": 23
         },
         {
          "terrain": "plain",
          "value": 22,
          "x": 10,
          "y": 23
         },
         {
          "terrain": "plain",
          "value": 17,
          "x": 11,
          "y": 23
         },
         {
          "terrain": "plain",
          "value": 13,
          "x": 12,
          "y": 23
         },
         {
          "terrain": "plain",
          "value": 15,
          "x": 13,
          "y": 23
         },
         {
          "terrain": "plain",
          "value": 13,
          "x": 14,
          "y": 23
         },
         {
          "terrain": "plain",
          "value": 13,
          "x": 15,
          "y": 23
         },
         {
          "terrain": "plain",
          "value": 14,
          "x": 16,
          "y": 23
         },
         {
          "terrain": "plain",
          "value": 12,
          "x": 17,
          "y": 23
         },
         {
          "terrain": "plain",
          "value": 13,
          "x": 18,
          "y": 23
         },
         {
          "terrain": "plain",
          "value": 11,
          "x": 19,
          "y": 23
         },
         {
          "terrain": "plain",
          "value": 10,
          "x": 20,
          "y": 23
         },
         {
          "terrain": "plain",
          "value": 11,
          "x": 21,
          "y": 23
         },
         {
          "terrain": "plain",
          "value": 10,
          "x": 22,
          "y": 23
         },
         {
          "terrain": "plain",
          "value": 10,
          "x": 23,
          "y": 23
         },
         {
          "terrain": "plain",
          "value": 9,
          "x": 24,
          "y": 23
         },
         {
          "terrain": "plain",
          "value": 7,
          "x": 25,
          "y": 23
         },
         {
          "terrain": "plain",
          "value": 7,
          "x": 26,
          "y": 23
         },
         {
          "terrain": "ocean",
          "value": 3,
          "x": 27,
          "y": 23
         },
         {
          "terrain": "ocean",
          "value": 2,
          "x": 28,
          "y": 23
         },
         {
          "terrain": "ocean",
          "value": 1,
          "x": 29,
          "y": 23
         },
         {
          "terrain": "ocean",
          "value": 0,
          "x": 30,
          "y": 23
         },
         {
          "terrain": "ocean",
          "value": -1,
          "x": 31,
          "y": 23
         },
         {
          "terrain": "ocean",
          "value": 0,
          "x": 32,
          "y": 23
         },
         {
          "terrain": "ocean",
          "value": 1,
          "x": 33,
          "y": 23
         },
         {
          "terrain": "ocean",
          "value": 0,
          "x": 34,
          "y": 23
         },
         {
          "terrain": "ocean",
          "value": 0,
          "x": 35,
          "y": 23
         },
         {
          "terrain": "ocean",
          "value": 0,
          "x": 36,
          "y": 23
         },
         {
          "terrain": "ocean",
          "value": -1,
          "x": 37,
          "y": 23
         },
         {
          "terrain": "ocean",
          "value": 1,
          "x": 38,
          "y": 23
         },
         {
          "terrain": "ocean",
          "value": 1,
          "x": 39,
          "y": 23
         },
         {
          "terrain": "ocean",
          "value": 5,
          "x": 0,
          "y": 24
         },
         {
          "terrain": "plain",
          "value": 11,
          "x": 1,
          "y": 24
         },
         {
          "terrain": "plain",
          "value": 14,
          "x": 2,
          "y": 24
         },
         {
          "terrain": "plain",
          "value": 17,
          "x": 3,
          "y": 24
         },
         {
          "terrain": "plain",
          "value": 23,
          "x": 4,
          "y": 24
         },
         {
          "terrain": "plain",
          "value": 21,
          "x": 5,
          "y": 24
         },
         {
          "terrain": "plain",
          "value": 22,
          "x": 6,
          "y": 24
         },
         {
          "terrain": "plain",
          "value": 22,
          "x": 7,
          "y": 24
         },
         {
          "terrain": "plain",
          "value": 23,
          "x": 8,
          "y": 24
         },
         {
          "terrain": "plain",
          "value": 20,
          "x": 9,
          "y": 24
         },
         {
          "terrain": "plain",
          "value": 17,
          "x": 10,
          "y": 24
         },
         {
          "terrain": "plain",
          "value": 14,
          "x": 11,
          "y": 24
         },
         {
          "terrain": "plain",
          "value": 12,
          "x": 12,
          "y": 24
         },
         {
          "terrain": "plain",
          "value": 11,
          "x": 13,
          "y": 24
         },
         {
          "terrain": "plain",
          "value": 12,
          "x": 14,
          "y": 24
         },
         {
          "terrain": "plain",
          "value": 11,
          "x": 15,
          "y": 24
         },
         {
          "terrain": "plain",
          "value": 9,
          "x": 16,
          "y": 24
         },
         {
          "terrain": "plain",
          "value": 9,
          "x": 17,
          "y": 24
         },
         {
          "terrain": "plain",
          "value": 6,
          "x": 18,
          "y": 24
         },
         {
          "terrain": "plain",
          "value": 6,
          "x": 19,
          "y": 24
         },
         {
          "terrain": "plain",
          "value": 8,
          "x": 20,
          "y": 24
         },
         {
          "terrain": "plain",
          "value": 6,
          "x": 21,
          "y": 24
         },
         {
          "terrain": "plain",
          "value": 7,
          "x": 22,
          "y": 24
         },
         {
          "terrain": "plain",
          "value": 7,
          "x": 23,
          "y": 24
         },
         {
          "terrain": "ocean",
          "value": 5,
          "x": 24,
          "y": 24
         },
         {
          "terrain": "ocean",
          "value": 3,
          "x": 25,
          "y": 24
         },
         {
          "terrain": "ocean",
          "value": 3,
          "x": 26,
          "y": 24
         },
         {
          "terrain": "ocean",
          "value": 4,
          "x": 27,
          "y": 24
         },
         {
          "terrain": "ocean",
          "value": 2,
          "x": 28,
          "y": 24
         },
         {
          "terrain": "ocean",
          "value": 3,
          "x": 29,
          "y": 24
         },
         {
          "terrain": "ocean",
          "value": -1,
          "x": 30,
          "y": 24
         },
         {
          "terrain": "ocean",
          "value": -1,
          "x": 31,
          "y": 24
         },
         {
          "terrain": "ocean",
          "value": -1,
          "x": 32,
          "y": 24
         },
         {
          "terrain": "ocean",
          "value": 1,
          "x": 33,
          "y": 24
         },
         {
          "terrain": "ocean",
          "value": 1,
          "x": 34,
          "y": 24
         },
         {
          "terrain": "ocean",
          "value": 0,
          "x": 35,
          "y": 24
         },
         {
          "terrain": "ocean",
          "value": 0,
          "x": 36,
          "y": 24
         },
         {
          "terrain": "ocean",
          "value": 0,
          "x": 37,
          "y": 24
         },
         {
          "terrain": "ocean",
          "value": -1,
          "x": 38,
          "y": 24
         },
         {
          "terrain": "ocean",
          "value": 1,
          "x": 39,
          "y": 24
         },
         {
          "terrain": "ocean",
          "value": 5,
          "x": 0,
          "y": 25
         },
         {
          "terrain": "plain",
          "value": 9,
          "x": 1,
          "y": 25
         },
         {
          "terrain": "plain",
          "value": 11,
          "x": 2,
          "y": 25
         },
         {
          "terrain": "plain",
          "value": 14,
          "x": 3,
          "y": 25
         },
         {
          "terrain": "plain",
          "value": 13,
          "x": 4,
          "y": 25
         },
         {
          "terrain": "plain",
          "value": 14,
          "x": 5,
          "y": 25
         },
         {
          "terrain": "plain",
          "value": 14,
          "x": 6,
          "y": 25
         },
         {
          "terrain": "plain",
          "value": 17,
          "x": 7,
          "y": 25
         },
         {
          "terrain": "plain",
          "value": 18,
          "x": 8,
          "y": 25
         },
         {
          "terrain": "plain",
          "value": 18,
          "x": 9,
          "y": 25
         },
         {
          "terrain": "plain",
          "value": 17,
          "x": 10,
          "y": 25
         },
         {
          "terrain": "plain",
          "value": 12,
          "x": 11,
          "y": 25
         },
         {
          "terrain": "plain",
          "value": 11,
          "x": 12,
          "y": 25
         },
         {
          "terrain": "plain",
          "value": 7,
          "x": 13,
          "y": 25
         },
         {
          "terrain": "plain",
          "value": 9,
          "x": 14,
          "y": 25
         },
         {
          "terrain": "plain",
          "value": 6,
          "x": 15,
          "y": 25
         },
         {
          "terrain": "plain",
          "value": 7,
          "x": 16,
          "y": 25
         },
         {
          "terrain": "plain",
          "value": 6,
          "x": 17,
          "y": 25
         },
         {
          "terrain": "ocean",
          "value": 5,
          "x": 18,
          "y": 25
         },
         {
          "terrain": "ocean",
          "value": 1,
          "x": 19,
          "y": 25
         },
         {
          "terrain": "ocean",
          "value": 2,
          "x": 20,
          "y": 25
         },
         {
          "terrain": "ocean",
          "value": 4,
          "x": 21,
          "y": 25
         },
         {
          "terrain": "ocean",
          "value": 3,
          "x": 22,
          "y": 25
         },
         {
          "terrain": "ocean",
          "value": 2,
          "x": 23,
          "y": 25
         },
         {
          "terrain": "ocean",
          "value": 3,
          "x": 24,
          "y": 25
         },
         {
          "terrain": "ocean",
          "value": 1,
          "x": 25,
          "y": 25
         },
         {
          "terrain": "ocean",
          "value": 1,
          "x": 26,
          "y": 25
         },
         {
          "terrain": "ocean",
          "value": 1,
          "x": 27,
          "y": 25
         },
         {
          "terrain": "ocean",
          "value": 1,
          "x": 28,
          "y": 25
         },
         {
          "terrain": "ocean",
          "value": 0,
          "x": 29,
          "y": 25
         },
         {
          "terrain": "ocean",
          "value": 0,
          "x": 30,
          "y": 25
         },
         {
          "terrain": "ocean",
          "value": 0,
          "x": 31,
          "y": 25
         },
         {
          "terrain": "ocean",
          "value": -1,
          "x": 32,
          "y": 25
         },
         {
          "terrain": "ocean",
          "value": 0,
          "x": 33,
          "y": 25
         },
         {
          "terrain": "ocean",
          "value": -1,
          "x": 34,
          "y": 25
         },
         {
          "terrain": "ocean",
          "value": 2,
          "x": 35,
          "y": 25
         },
         {
          "terrain": "ocean",
          "value": 1,
          "x": 36,
          "y": 25
         },
         {
          "terrain": "ocean",
          "value": 1,
          "x": 37,
          "y": 25
         },
         {
          "terrain": "ocean",
          "value": -1,
          "x": 38,
          "y": 25
         },
         {
          "terrain": "ocean",
          "value": 0,
          "x": 39,
          "y": 25
         },
         {
          "terrain": "ocean",
          "value": 4,
          "x": 0,
          "y": 26
         },
         {
          "terrain": "plain",
          "value": 6,
          "x": 1,
          "y": 26
         },
         {
          "terrain": "plain",
          "value": 6,
          "x": 2,
          "y": 26
         },
         {
          "terrain": "plain",
          "value": 9,
          "x": 3,
          "y": 26
         },
         {
          "terrain": "plain",
          "value": 9,
          "x": 4,
          "y": 26
         },
         {
          "terrain": "plain",
          "value": 8,
          "x": 5,
          "y": 26
         },
         {
          "terrain": "plain",
          "value": 8,
          "x": 6,
          "y": 26
         },
         {
          "terrain": "plain",
          "value": 13,
          "x": 7,
          "y": 26
         },
         {
          "terrain": "plain",
          "value": 16,
          "x": 8,
          "y": 26
         },
         {
          "terrain": "plain",
          "value": 15,
          "x": 9,
          "y": 26
         },
         {
          "terrain": "plain",
          "value": 14,
          "x": 10,
          "y": 26
         },
         {
          "terrain": "plain",
          "value": 10,
          "x": 11,
          "y": 26
         },
         {
          "terrain": "plain",
          "value": 9,
          "x": 12,
          "y": 26
         },
         {
          "terrain": "plain",
          "value": 9,
          "x": 13,
          "y": 26
         },
         {
          "terrain": "plain",
          "value": 7,
          "x": 14,
          "y": 26
         },
         {
          "terrain": "plain",
          "value": 6,
          "x": 15,
          "y": 26
         },
         {
          "terrain": "plain",
          "value": 7,
          "x": 16,
          "y": 26
         },
         {
          "terrain": "ocean",
          "value": 4,
          "x": 17,
          "y": 26
         },
         {
          "terrain": "ocean",
          "value": 3,
          "x": 18,
          "y": 26
         },
         {
          "terrain": "ocean",
          "value": 2,
          "x": 19,
          "y": 26
         },
         {
          "terrain": "ocean",
          "value": 2,
          "x": 20,
          "y": 26
         },
         {
          "terrain": "ocean",
          "value": -1,
          "x": 21,
          "y": 26
         },
         {
          "terrain": "ocean",
          "value": 0,
          "x": 22,
          "y": 26
         },
         {
          "terrain": "ocean",
          "value": 3,
          "x": 23,
          "y": 26
         },
         {
          "terrain": "ocean",
          "value": 0,
          "x": 24,
          "y": 26
         },
         {
          "terrain": "ocean",
          "value": 0,
          "x": 25,
          "y": 26
         },
         {
          "terrain": "ocean",
          "value": 2,
          "x": 26,
          "y": 26
         },
         {
          "terrain": "ocean",
          "value": 1,
          "x": 27,
          "y": 26
         },
         {
          "terrain": "ocean",
          "value": 0,
          "x": 28,
          "y": 26
         },
         {
          "terrain": "ocean",
          "value": -1,
          "x": 29,
          "y": 26
         },
         {
          "terrain": "ocean",
          "value": 0,
          "x": 30,
          "y": 26
         },
         {
          "terrain": "ocean",
          "value": -3,
          "x": 31,
          "y": 26
         },
         {
          "terrain": "ocean",
          "value": -1,
          "x": 32,
          "y": 26
         },
         {
          "terrain": "ocean",
          "value": 1,
          "x": 33,
          "y": 26
         },
         {
          "terrain": "ocean",
          "value": -1,
          "x": 34,
          "y": 26
         },
         {
          "terrain": "ocean",
          "value": 2,
          "x": 35,
          "y": 26
         },
         {
          "terrain": "ocean",
          "value": -1,
          "x": 36,
          "y": 26
         },
         {
          "terrain": "ocean",
          "value": 0,
          "x": 37,
          "y": 26
         },
         {
          "terrain": "ocean",
          "value": 0,
          "x": 38,
          "y": 26
         },
         {
          "terrain": "ocean",
          "value": 1,
          "x": 39,
          "y": 26
         },
         {
          "terrain": "ocean",
          "value": 4,
          "x": 0,
          "y": 27
         },
         {
          "terrain": "plain",
          "value": 7,
          "x": 1,
          "y": 27
         },
         {
          "terrain": "ocean",
          "value": 5,
          "x": 2,
          "y": 27
         },
         {
          "terrain": "ocean",
          "value": 5,
          "x": 3,
          "y": 27
         },
         {
          "terrain": "plain",
          "value": 6,
          "x": 4,
          "y": 27
         },
         {
          "terrain": "plain",
          "value": 6,
          "x": 5,
          "y": 27
         },
         {
          "terrain": "plain",
          "value": 8,
          "x": 6,
          "y": 27
         },
         {
          "terrain": "plain",
          "value": 9,
          "x": 7,
          "y": 27
         },
         {
          "terrain": "plain",
          "value": 10,
          "x": 8,
          "y": 27
         },
         {
          "terrain": "plain",
          "value": 12,
          "x": 9,
          "y": 27
         },
         {
          "terrain": "plain",
          "value": 12,
          "x": 10,
          "y": 27
         },
         {
          "terrain": "plain",
          "value": 12,
          "x": 11,
          "y": 27
         },
         {
          "terrain": "plain",
          "value": 10,
          "x": 12,
          "y": 27
         },
         {
          "terrain": "plain",
          "value": 8,
          "x": 13,
          "y": 27
         },
         {
          "terrain": "plain",
          "value": 7,
          "x": 14,
          "y": 27
         },
         {
          "terrain": "ocean",
          "value": 5,
          "x": 15,
          "y": 27
         },
         {
          "terrain": "ocean",
          "value": 5,
          "x": 16,
          "y": 27
         },
         {
          "terrain": "ocean",
          "value": 2,
          "x": 17,
          "y": 27
         },
         {
          "terrain": "ocean",
          "value": 1,
          "x": 18,
          "y": 27
         },
         {
          "terrain": "ocean",
          "value": 0,
          "x": 19,
          "y": 27
         },
         {
          "terrain": "ocean",
          "value": -2,
          "x": 20,
          "y": 27
         },
         {
          "terrain": "ocean",
          "value": 0,
          "x": 21,
          "y": 27
         },
         {
          "terrain": "ocean",
          "value": -1,
          "x": 22,
          "y": 27
         },
         {
          "terrain": "ocean",
          "value": 0,
          "x": 23,
          "y": 27
         },
         {
          "terrain": "ocean",
          "value": 1,
          "x": 24,
          "y": 27
         },
         {
          "terrain": "ocean",
          "value": 1,
          "x": 25,
          "y": 27
         },
         {
          "terrain": "ocean",
          "value": 0,
          "x": 26,
          "y": 27
         },
         {
          "terrain": "ocean",
          "value": -1,
          "x": 27,
          "y": 27
         },
         {
          "terrain": "ocean",
          "value": -1,
          "x": 28,
          "y": 27
         },
         {
          "terrain": "ocean",
          "value": 0,
          "x": 29,
          "y": 27
         },
         {
          "terrain": "ocean",
          "value": -1,
          "x": 30,
          "y": 27
         },
         {
          "terrain": "ocean",
          "value": -1,
          "x": 31,
          "y": 27
         },
         {
          "terrain": "ocean",
          "value": 1,
          "x": 32,
          "y": 27
         },
         {
          "terrain": "ocean",
          "value": 0,
          "x": 33,
          "y": 27
         },
         {
          "terrain": "ocean",
          "value": -1,
          "x": 34,
          "y": 27
         },
         {
          "terrain": "ocean",
          "value": -1,
          "x": 35,
          "y": 27
         },
         {
          "terrain": "ocean",
          "value": 2,
          "x": 36,
          "y": 27
         },
         {
          "terrain": "ocean",
          "value": 1,
          "x": 37,
          "y": 27
         },
         {
          "terrain": "ocean",
          "value": 1,
          "x": 38,
          "y": 27
         },
         {
          "terrain": "ocean",
          "value": 0,
          "x": 39,
          "y": 27
         },
         {
          "terrain": "ocean",
          "value": 3,
          "x": 0,
          "y": 28
         },
         {
          "terrain": "ocean",
          "value": 4,
          "x": 1,
          "y": 28
         },
         {
          "terrain": "ocean",
          "value": 4,
          "x": 2,
          "y": 28
         },
         {
          "terrain": "ocean",
          "value": 5,
          "x": 3,
          "y": 28
         },
         {
          "terrain": "ocean",
          "value": 4,
          "x": 4,
          "y": 28
         },
         {
          "terrain": "plain",
          "value": 6,
          "x": 5,
          "y": 28
         },
         {
          "terrain": "plain",
          "value": 6,
          "x": 6,
          "y": 28
         },
         {
          "terrain": "plain",
          "value": 8,
          "x": 7,
          "y": 28
         },
         {
          "terrain": "plain",
          "value": 8,
          "x": 8,
          "y": 28
         },
         {
          "terrain": "plain",
          "value": 11,
          "x": 9,
          "y": 28
         },
         {
          "terrain": "plain",
          "value": 13,
          "x": 10,
          "y": 28
         },
         {
          "terrain": "plain",
          "value": 12,
          "x": 11,
          "y": 28
         },
         {
          "terrain": "plain",
          "value": 12,
          "x": 12,
          "y": 28
         },
         {
          "terrain": "plain",
          "value": 12,
          "x": 13,
          "y": 28
         },
         {
          "terrain": "plain",
          "value": 10,
          "x": 14,
          "y": 28
         },
         {
          "terrain": "plain",
          "value": 7,
          "x": 15,
          "y": 28
         },
         {
          "terrain": "ocean",
          "value": 3,
          "x": 16,
          "y": 28
         },
         {
          "terrain": "ocean",
          "value": 2,
          "x": 17,
          "y": 28
         },
         {
          "terrain": "ocean",
          "value": 1,
          "x": 18,
          "y": 28
         },
         {
          "terrain": "ocean",
          "value": -2,
          "x": 19,
          "y": 28
         },
         {
          "terrain": "ocean",
          "value": 0,
          "x": 20,
          "y": 28
         },
         {
          "terrain": "ocean",
          "value": 0,
          "x": 21,
          "y": 28
         },
         {
          "terrain": "ocean",
          "value": -1,
          "x": 22,
          "y": 28
         },
         {
          "terrain": "ocean",
          "value": -1,
          "x": 23,
          "y": 28
         },
         {
          "terrain": "ocean",
          "value": 0,
          "x": 24,
          "y": 28
         },
         {
          "terrain": "ocean",
          "value": 0,
          "x": 25,
          "y": 28
         },
         {
          "terrain": "ocean",
          "value": 0,
          "x": 26,
          "y": 28
         },
         {
          "terrain": "ocean",
          "value": 1,
          "x": 27,
          "y": 28
         },
         {
          "terrain": "ocean",
          "value": -1,
          "x": 28,
          "y": 28
         },
         {
          "terrain": "ocean",
          "value": -1,
          "x": 29,
          "y": 28
         },
         {
          "terrain": "ocean",
          "value": 1,
          "x": 30,
          "y": 28
         },
         {
          "terrain": "ocean",
          "value": 1,
          "x": 31,
          "y": 28
         },
         {
          "terrain": "ocean",
          "value": -2,
          "x": 32,
          "y": 28
         },
         {
          "terrain": "ocean",
          "value": -2,
          "x": 33,
          "y": 28
         },
         {
          "terrain": "ocean",
          "value": 2,
          "x": 34,
          "y": 28
         },
         {
          "terrain": "ocean",
          "value": 1,
          "x": 35,
          "y": 28
         },
         {
          "terrain": "ocean",
          "value": 1,
          "x": 36,
          "y": 28
         },
         {
          "terrain": "ocean",
          "value": -1,
          "x": 37,
          "y": 28
         },
         {
          "terrain": "ocean",
          "value": 1,
          "x": 38,
          "y": 28
         },
         {
          "terrain": "ocean",
          "value": -1,
          "x": 39,
          "y": 28
         },
         {
          "terrain": "ocean",
          "value": 1,
          "x": 0,
          "y": 29
         },
         {
          "terrain": "ocean",
          "value": 3,
          "x": 1,
          "y": 29
         },
         {
          "terrain": "plain",
          "value": 6,
          "x": 2,
          "y": 29
         },
         {
          "terrain": "plain",
          "value": 9,
          "x": 3,
          "y": 29
         },
         {
          "terrain": "plain",
          "value": 10,
          "x": 4,
          "y": 29
         },
         {
          "terrain": "plain",
          "value": 10,
          "x": 5,
          "y": 29
         },
         {
          "terrain": "plain",
          "value": 9,
          "x": 6,
          "y": 29
         },
         {
          "terrain": "plain",
          "value": 11,
          "x": 7,
          "y": 29
         },
         {
          "terrain": "plain",
          "value": 13,
          "x": 8,
          "y": 29
         },
         {
          "terrain": "plain",
          "value": 17,
          "x": 9,
          "y": 29
         },
         {
          "terrain": "plain",
          "value": 18,
          "x": 10,
          "y": 29
         },
         {
          "terrain": "plain",
          "value": 19,
          "x": 11,
          "y": 29
         },
         {
          "terrain": "plain",
          "value": 20,
          "x": 12,
          "y": 29
         },
         {
          "terrain": "plain",
          "value": 18,
          "x": 13,
          "y": 29
         },
         {
          "terrain": "plain",
          "value": 13,
          "x": 14,
          "y": 29
         },
         {
          "terrain": "plain",
          "value": 6,
          "x": 15,
          "y": 29
         },
         {
          "terrain": "ocean",
          "value": 3,
          "x": 16,
          "y": 29
         },
         {
          "terrain": "ocean",
          "value": 1,
          "x": 17,
          "y": 29
         },
         {
          "terrain": "ocean",
          "value": -2,
          "x": 18,
          "y": 29
         },
         {
          "terrain": "ocean",
          "value": -2,
          "x": 19,
          "y": 29
         },
         {
          "terrain": "ocean",
          "value": -1,
          "x": 20,
          "y": 29
         },
         {
          "terrain": "ocean",
          "value": 0,
          "x": 21,
          "y": 29
         },
         {
          "terrain": "ocean",
          "value": 1,
          "x": 22,
          "y": 29
         },
         {
          "terrain": "ocean",
          "value": 1,
          "x": 23,
          "y": 29
         },
         {
          "terrain": "ocean",
          "value": 1,
          "x": 24,
          "y": 29
         },
         {
          "terrain": "ocean",
          "value": 1,
          "x": 25,
          "y": 29
         },
         {
          "terrain": "ocean",
          "value": -2,
          "x": 26,
          "y": 29
         },
         {
          "terrain": "ocean",
          "value": 0,
          "x": 27,
          "y": 29
         },
         {
          "terrain": "ocean",
          "value": -2,
          "x": 28,
          "y": 29
         },
         {
          "terrain": "ocean",
          "value": -2,
          "x": 29,
          "y": 29
         },
         {
          "terrain": "ocean",
          "value": 1,
          "x": 30,
          "y": 29
         },
         {
          "terrain": "ocean",
          "value": 0,
          "x": 31,
          "y": 29
         },
         {
          "terrain": "ocean",
          "value": 1,
          "x": 32,
          "y": 29
         },
         {
          "terrain": "ocean",
          "value": 1,
          "x": 33,
          "y": 29
         },
         {
          "terrain": "ocean",
          "value": 0,
          "x": 34,
          "y": 29
         },
         {
          "terrain": "ocean",
          "value": 1,
          "x": 35,
          "y": 29
         },
         {
          "terrain": "ocean",
          "value": 1,
          "x": 36,
          "y": 29
         },
         {
          "terrain": "ocean",
          "value": 0,
          "x": 37,
          "y": 29
         },
         {
          "terrain": "ocean",
          "value": 0,
          "x": 38,
          "y": 29
         },
         {
          "terrain": "ocean",
          "value": 0,
          "x": 39,
          "y": 29
         },
         {
          "terrain": "ocean",
          "value": 1,
          "x": 0,
          "y": 30
         },
         {
          "terrain": "ocean",
          "value": 3,
          "x": 1,
          "y": 30
         },
         {
          "terrain": "plain",
          "value": 7,
          "x": 2,
          "y": 30
         },
         {
          "terrain": "plain",
          "value": 11,
          "x": 3,
          "y": 30
         },
         {
          "terrain": "plain",
          "value": 14,
          "x": 4,
          "y": 30
         },
         {
          "terrain": "plain",
          "value": 15,
          "x": 5,
          "y": 30
         },
         {
          "terrain": "plain",
          "value": 16,
          "x": 6,
          "y": 30
         },
         {
          "terrain": "plain",
          "value": 17,
          "x": 7,
          "y": 30
         },
         {
          "terrain": "plain",
          "value": 17,
          "x": 8,
          "y": 30
         },
         {
          "terrain": "plain",
          "value": 21,
          "x": 9,
          "y": 30
         },
         {
          "terrain": "plain",
          "value": 24,
          "x": 10,
          "y": 30
         },
         {
          "terrain": "mountain",
          "value": 25,
          "x": 11,
          "y": 30
         },
         {
          "terrain": "plain",
          "value": 24,
          "x": 12,
          "y": 30
         },
         {
          "terrain": "plain",
          "value": 22,
          "x": 13,
          "y": 30
         },
         {
          "terrain": "plain",
          "value": 14,
          "x": 14,
          "y": 30
         },
         {
          "terrain": "plain",
          "value": 8,
          "x": 15,
          "y": 30
         },
         {
          "terrain": "plain",
          "value": 6,
          "x": 16,
          "y": 30
         },
         {
          "terrain": "ocean",
          "value": 4,
          "x": 17,
          "y": 30
         },
         {
          "terrain": "ocean",
          "value": 1,
          "x": 18,
          "y": 30
         },
         {
          "terrain": "ocean",
          "value": 0,
          "x": 19,
          "y": 30
         },
         {
          "terrain": "ocean",
          "value": -1,
          "x": 20,
          "y": 30
         },
         {
          "terrain": "ocean",
          "value": -2,
          "x": 21,
          "y": 30
         },
         {
          "terrain": "ocean",
          "value": 1,
          "x": 22,
          "y": 30
         },
         {
          "terrain": "ocean",
          "value": -2,
          "x": 23,
          "y": 30
         },
         {
          "terrain": "ocean",
          "value": -1,
          "x": 24,
          "y": 30
         },
         {
          "terrain": "ocean",
          "value": 1,
          "x": 25,
          "y": 30
         },
         {
          "terrain": "ocean",
          "value": -1,
          "x": 26,
          "y": 30
         },
         {
          "terrain": "ocean",
          "value": -2,
          "x": 27,
          "y": 30
         },
         {
          "terrain": "ocean",
          "value": 0,
          "x": 28,
          "y": 30
         },
         {
          "terrain": "ocean",
          "value": -2,
          "x": 29,
          "y": 30
         },
         {
          "terrain": "ocean",
          "value": 0,
          "x": 30,
          "y": 30
         },
         {
          "terrain": "ocean",
          "value": 1,
          "x": 31,
          "y": 30
         },
         {
          "terrain": "ocean",
          "value": 1,
          "x": 32,
          "y": 30
         },
         {
          "terrain": "ocean",
          "value": 2,
          "x": 33,
          "y": 30
         },
         {
          "terrain": "ocean",
          "value": 0,
          "x": 34,
          "y": 30
         },
         {
          "terrain": "ocean",
          "value": -1,
          "x": 35,
          "y": 30
         },
         {
          "terrain": "ocean",
          "value": -1,
          "x": 36,
          "y": 30
         },
         {
          "terrain": "ocean",
          "value": 1,
          "x": 37,
          "y": 30
         },
         {
          "terrain": "ocean",
          "value": -1,
          "x": 38,
          "y": 30
         },
         {
          "terrain": "ocean",
          "value": 0,
          "x": 39,
          "y": 30
         },
         {
          "terrain": "ocean",
          "value": 0,
          "x": 0,
          "y": 31
         },
         {
          "terrain": "ocean",
          "value": 2,
          "x": 1,
          "y": 31
         },
         {
          "terrain": "plain",
          "value": 6,
          "x": 2,
          "y": 31
         },
         {
          "terrain": "plain",
          "value": 14,
          "x": 3,
          "y": 31
         },
         {
          "terrain": "plain",
          "value": 15,
          "x": 4,
          "y": 31
         },
         {
          "terrain": "plain",
          "value": 18,
          "x": 5,
          "y": 31
         },
         {
          "terrain": "plain",
          "value": 23,
          "x": 6,
          "y": 31
         },
         {
          "terrain": "mountain",
          "value": 25,
          "x": 7,
          "y": 31
         },
         {
          "terrain": "mountain",
          "value": 26,
          "x": 8,
          "y": 31
         },
         {
          "terrain": "mountain",
          "value": 25,
          "x": 9,
          "y": 31
         },
         {
          "terrain": "mountain",
          "value": 28,
          "x": 10,
          "y": 31
         },
         {
          "terrain": "mountain",
          "value": 31,
          "x": 11,
          "y": 31
         },
         {
          "terrain": "mountain",
          "value": 30,
          "x": 12,
          "y": 31
         },
         {
          "terrain": "plain",
          "value": 24,
          "x": 13,
          "y": 31
         },
         {
          "terrain": "plain",
          "value": 16,
          "x": 14,
          "y": 31
         },
         {
          "terrain": "plain",
          "value": 10,
          "x": 15,
          "y": 31
         },
         {
          "terrain": "plain",
          "value": 6,
          "x": 16,
          "y": 31
         },
         {
          "terrain": "ocean",
          "value": 5,
          "x": 17,
          "y": 31
         },
         {
          "terrain": "ocean",
          "value": 1,
          "x": 18,
          "y": 31
         },
         {
          "terrain": "ocean",
          "value": 1,
          "x": 19,
          "y": 31
         },
         {
          "terrain": "ocean",
          "value": -1,
          "x": 20,
          "y": 31
         },
         {
          "terrain": "ocean",
          "value": -2,
          "x": 21,
          "y": 31
         },
         {
          "terrain": "ocean",
          "value": 0,
          "x": 22,
          "y": 31
         },
         {
          "terrain": "ocean",
          "value": 1,
          "x": 23,
          "y": 31
         },
         {
          "terrain": "ocean",
          "value": 1,
          "x": 24,
          "y": 31
         },
         {
          "terrain": "ocean",
          "value": -1,
          "x": 25,
          "y": 31
         },
         {
          "terrain": "ocean",
          "value": 0,
          "x": 26,
          "y": 31
         },
         {
          "terrain": "ocean",
          "value": 0,
          "x": 27,
          "y": 31
         },
         {
          "terrain": "ocean",
          "value": 0,
          "x": 28,
          "y": 31
         },
         {
          "terrain": "ocean",
          "value": 0,
          "x": 29,
          "y": 31
         },
         {
          "terrain": "ocean",
          "value": 0,
          "x": 30,
          "y": 31
         },
         {
          "terrain": "ocean",
          "value": 0,
          "x": 31,
          "y": 31
         },
         {
          "terrain": "ocean",
          "value": -1,
          "x": 32,
          "y": 31
         },
         {
          "terrain": "ocean",
          "value": 0,
          "x": 33,
          "y": 31
         },
         {
          "terrain": "ocean",
          "value": 0,
          "x": 34,
          "y": 31
         },
         {
          "terrain": "ocean",
          "value": 0,
          "x": 35,
          "y": 31
         },
         {
          "terrain": "ocean",
          "value": 0,
          "x": 36,
          "y": 31
         },
         {
          "terrain": "ocean",
          "value": -1,
          "x": 37,
          "y": 31
         },
         {
          "terrain": "ocean",
          "value": 1,
          "x": 38,
          "y": 31
         },
         {
          "terrain": "ocean",
          "value": 3,
          "x": 39,
          "y": 31
         },
         {
          "terrain": "ocean",
          "value": 0,
          "x": 0,
          "y": 32
         },
         {
          "terrain": "ocean",
          "value": 3,
          "x": 1,
          "y": 32
         },
         {
          "terrain": "plain",
          "value": 8,
          "x": 2,
          "y": 32
         },
         {
          "terrain": "plain",
          "value": 13,
          "x": 3,
          "y": 32
         },
         {
          "terrain": "plain",
          "value": 20,
          "x": 4,
          "y": 32
         },
         {
          "terrain": "mountain",
          "value": 25,
          "x": 5,
          "y": 32
         },
         {
          "terrain": "mountain",
          "value": 29,
          "x": 6,
          "y": 32
         },
         {
          "terrain": "mountain",
          "value": 33,
          "x": 7,
          "y": 32
         },
         {
          "terrain": "mountain",
          "value": 36,
          "x": 8,
          "y": 32
         },
         {
          "terrain": "mountain",
          "value": 38,
          "x": 9,
          "y": 32
         },
         {
          "terrain": "mountain",
          "value": 41,
          "x": 10,
          "y": 32
         },
         {
          "terrain": "mountain",
          "value": 37,
          "x": 11,
          "y": 32
         },
         {
          "terrain": "mountain",
          "value": 32,
          "x": 12,
          "y": 32
         },
         {
          "terrain": "mountain",
          "value": 27,
          "x": 13,
          "y": 32
         },
         {
          "terrain": "plain",
          "value": 19,
          "x": 14,
          "y": 32
         },
         {
          "terrain": "plain",
          "value": 14,
          "x": 15,
          "y": 32
         },
         {
          "terrain": "plain",
          "value": 8,
          "x": 16,
          "y": 32
         },
         {
          "terrain": "ocean",
          "value": 5,
          "x": 17,
          "y": 32
         },
         {
          "terrain": "ocean",
          "value": 2,
          "x": 18,
          "y": 32
         },
         {
          "terrain": "ocean",
          "value": 1,
          "x": 19,
          "y": 32
         },
         {
          "terrain": "ocean",
          "value": -1,
          "x": 20,
          "y": 32
         },
         {
          "terrain": "ocean",
          "value": 1,
          "x": 21,
          "y": 32
         },
         {
          "terrain": "ocean",
          "value": 0,
          "x": 22,
          "y": 32
         },
         {
          "terrain": "ocean",
          "value": 1,
          "x": 23,
          "y": 32
         },
         {
          "terrain": "ocean",
          "value": -1,
          "x": 24,
          "y": 32
         },
         {
          "terrain": "ocean",
          "value": 2,
          "x": 25,
          "y": 32
         },
         {
          "terrain": "ocean",
          "value": 0,
          "x": 26,
          "y": 32
         },
         {
          "terrain": "ocean",
          "value": -1,
          "x": 27,
          "y": 32
         },
         {
          "terrain": "ocean",
          "value": -1,
          "x": 28,
          "y": 32
         },
         {
          "terrain": "ocean",
          "value": 0,
          "x": 29,
          "y": 32
         },
         {
          "terrain": "ocean",
          "value": 0,
          "x": 30,
          "y": 32
         },
         {
          "terrain": "ocean",
          "value": 0,
          "x": 31,
          "y": 32
         },
         {
          "terrain": "ocean",
          "value": 0,
          "x": 32,
          "y": 32
         },
         {
          "terrain": "ocean",
          "value": 0,
          "x": 33,
          "y": 32
         },
         {
          "terrain": "ocean",
          "value": 0,
          "x": 34,
          "y": 32
         },
         {
          "terrain": "ocean",
          "value": 1,
          "x": 35,
          "y": 32
         },
         {
          "terrain": "ocean",
          "value": -1,
          "x": 36,
          "y": 32
         },
         {
          "terrain": "ocean",
          "value": -1,
          "x": 37,
          "y": 32
         },
         {
          "terrain": "ocean",
          "value": -1,
          "x": 38,
          "y": 32
         },
         {
          "terrain": "ocean",
          "value": 0,
          "x": 39,
          "y": 32
         },
         {
          "terrain": "ocean",
          "value": 1,
          "x": 0,
          "y": 33
         },
         {
          "terrain": "ocean",
          "value": 3,
          "x": 1,
          "y": 33
         },
         {
          "terrain": "plain",
          "value": 10,
          "x": 2,
          "y": 33
         },
         {
          "terrain": "plain",
          "value": 15,
          "x": 3,
          "y": 33
         },
         {
          "terrain": "plain",
          "value": 22,
          "x": 4,
          "y": 33
         },
         {
          "terrain": "mountain",
          "value": 31,
          "x": 5,
          "y": 33
         },
         {
          "terrain": "mountain",
          "value": 37,
          "x": 6,
          "y": 33
         },
         {
          "terrain": "mountain",
          "value": 45,
          "x": 7,
          "y": 33
         },
         {
          "terrain": "mountain",
          "value": 48,
          "x": 8,
          "y": 33
         },
         {
          "terrain": "mountain",
          "value": 50,
          "x": 9,
          "y": 33
         },
         {
          "terrain": "mountain",
          "value": 48,
          "x": 10,
          "y": 33
         },
         {
          "terrain": "mountain",
          "value": 42,
          "x": 11,
          "y": 33
         },
         {
          "terrain": "mountain",
          "value": 36,
          "x": 12,
          "y": 33
         },
         {
          "terrain": "mountain",
          "value": 27,
          "x": 13,
          "y": 33
         },
         {
          "terrain": "plain",
          "value": 20,
          "x": 14,
          "y": 33
         },
         {
          "terrain": "plain",
          "value": 14,
          "x": 15,
          "y": 33
         },
         {
          "terrain": "plain",
          "value": 9,
          "x": 16,
          "y": 33
         },
         {
          "terrain": "ocean",
          "value": 4,
          "x": 17,
          "y": 33
         },
         {
          "terrain": "ocean",
          "value": 0,
          "x": 18,
          "y": 33
         },
         {
          "terrain": "ocean",
          "value": 0,
          "x": 19,
          "y": 33
         },
         {
          "terrain": "ocean",
          "value": 2,
          "x": 20,
          "y": 33
         },
         {
          "terrain": "ocean",
          "value": -1,
          "x": 21,
          "y": 33
         },
         {
          "terrain": "ocean",
          "value": -1,
          "x": 22,
          "y": 33
         },
         {
          "terrain": "ocean",
          "value": 0,
          "x": 23,
          "y": 33
         },
         {
          "terrain": "ocean",
          "value": 0,
          "x": 24,
          "y": 33
         },
         {
          "terrain": "ocean",
          "value": -1,
          "x": 25,
          "y": 33
         },
         {
          "terrain": "ocean",
          "value": 0,
          "x": 26,
          "y": 33
         },
         {
          "terrain": "ocean",
          "value": 1,
          "x": 27,
          "y": 33
         },
         {
          "terrain": "ocean",
          "value": 0,
          "x": 28,
          "y": 33
         },
         {
          "terrain": "ocean",
          "value": -1,
          "x": 29,
          "y": 33
         },
         {
          "terrain": "ocean",
          "value": 0,
          "x": 30,
          "y": 33
         },
         {
          "terrain": "ocean",
          "value": -1,
          "x": 31,
          "y": 33
         },
         {
          "terrain": "ocean",
          "value": 2,
          "x": 32,
          "y": 33
         },
         {
          "terrain": "ocean",
          "value": -1,
          "x": 33,
          "y": 33
         },
         {
          "terrain": "ocean",
          "value": 0,
          "x": 34,
          "y": 33
         },
         {
          "terrain": "ocean",
          "value": 0,
          "x": 35,
          "y": 33
         },
         {
          "terrain": "ocean",
          "value": -2,
          "x": 36,
          "y": 33
         },
         {
          "terrain": "ocean",
          "value": 1,
          "x": 37,
          "y": 33
         },
         {
          "terrain": "ocean",
          "value": 0,
          "x": 38,
          "y": 33
         },
         {
          "terrain": "ocean",
          "value": 0,
          "x": 39,
          "y": 33
         },
         {
          "terrain": "ocean",
          "value": 0,
          "x": 0,
          "y": 34
         },
         {
          "terrain": "ocean",
          "value": 0,
          "x": 1,
          "y": 34
         },
         {
          "terrain": "plain",
          "value": 9,
          "x": 2,
          "y": 34
         },
         {
          "terrain": "plain",
          "value": 14,
          "x": 3,
          "y": 34
         },
         {
          "terrain": "mountain",
          "value": 25,
          "x": 4,
          "y": 34
         },
         {
          "terrain": "mountain",
          "value": 34,
          "x": 5,
          "y": 34
         },
         {
          "terrain": "mountain",
          "value": 44,
          "x": 6,
          "y": 34
         },
         {
          "terrain": "mountain",
          "value": 53,
          "x": 7,
          "y": 34
         },
         {
          "terrain": "mountain",
          "value": 60,
          "x": 8,
          "y": 34
         },
         {
          "terrain": "mountain",
          "value": 59,
          "x": 9,
          "y": 34
         },
         {
          "terrain": "mountain",
          "value": 52,
          "x": 10,
          "y": 34
         },
         {
          "terrain": "mountain",
          "value": 44,
          "x": 11,
          "y": 34
         },
         {
          "terrain": "mountain",
          "value": 38,
          "x": 12,
          "y": 34
         },
         {
          "terrain": "mountain",
          "value": 28,
          "x": 13,
          "y": 34
         },
         {
          "terrain": "plain",
          "value": 18,
          "x": 14,
          "y": 34
         },
         {
          "terrain": "plain",
          "value": 13,
          "x": 15,
          "y": 34
         },
         {
          "terrain": "plain",
          "value": 9,
          "x": 16,
          "y": 34
         },
         {
          "terrain": "ocean",
          "value": 5,
          "x": 17,
          "y": 34
         },
         {
          "terrain": "ocean",
          "value": 2,
          "x": 18,
          "y": 34
         },
         {
          "terrain": "ocean",
          "value": 2,
          "x": 19,
          "y": 34
         },
         {
          "terrain": "ocean",
          "value": 0,
          "x": 20,
          "y": 34
         },
         {
          "terrain": "ocean",
          "value": 0,
          "x": 21,
          "y": 34
         },
         {
          "terrain": "ocean",
          "value": -1,
          "x": 22,
          "y": 34
         },
         {
          "terrain": "ocean",
          "value": 0,
          "x": 23,
          "y": 34
         },
         {
          "terrain": "ocean",
          "value": -2,
          "x": 24,
          "y": 34
         },
         {
          "terrain": "ocean",
          "value": 1,
          "x": 25,
          "y": 34
         },
         {
          "terrain": "ocean",
          "value": -3,
          "x": 26,
          "y": 34
         },
         {
          "terrain": "ocean",
          "value": 1,
          "x": 27,
          "y": 34
         },
         {
          "terrain": "ocean",
          "value": -1,
          "x": 28,
          "y": 34
         },
         {
          "terrain": "ocean",
          "value": -1,
          "x": 29,
          "y": 34
         },
         {
          "terrain": "ocean",
          "value": 0,
          "x": 30,
          "y": 34
         },
         {
          "terrain": "ocean",
          "value": -1,
          "x": 31,
          "y": 34
         },
         {
          "terrain": "ocean",
          "value": 1,
          "x": 32,
          "y": 34
         },
         {
          "terrain": "ocean",
          "value": 0,
          "x": 33,
          "y": 34
         },
         {
          "terrain": "ocean",
          "value": 1,
          "x": 34,
          "y": 34
         },
         {
          "terrain": "ocean",
          "value": 0,
          "x": 35,
          "y": 34
         },
         {
          "terrain": "ocean",
          "value": 0,
          "x": 36,
          "y": 34
         },
         {
          "terrain": "ocean",
          "value": 1,
          "x": 37,
          "y": 34
         },
         {
          "terrain": "ocean",
          "value": -1,
          "x": 38,
          "y": 34
         },
         {
          "terrain": "ocean",
          "value": 0,
          "x": 39,
          "y": 34
         },
         {
          "terrain": "ocean",
          "value": 0,
          "x": 0,
          "y": 35
         },
         {
          "terrain": "ocean",
          "value": 2,
          "x": 1,
          "y": 35
         },
         {
          "terrain": "plain",
          "value": 8,
          "x": 2,
          "y": 35
         },
         {
          "terrain": "plain",
          "value": 16,
          "x": 3,
          "y": 35
         },
         {
          "terrain": "mountain",
          "value": 28,
          "x": 4,
          "y": 35
         },
         {
          "terrain": "mountain",
          "value": 37,
          "x": 5,
          "y": 35
         },
         {
          "terrain": "mountain",
          "value": 50,
          "x": 6,
          "y": 35
         },
         {
          "terrain": "mountain",
          "value": 62,
          "x": 7,
          "y": 35
         },
         {
          "terrain": "mountain",
          "value": 66,
          "x": 8,
          "y": 35
         },
         {
          "terrain": "mountain",
          "value": 61,
          "x": 9,
          "y": 35
         },
         {
          "terrain": "mountain",
          "value": 56,
          "x": 10,
          "y": 35
         },
         {
          "terrain": "mountain",
          "value": 45,
          "x": 11,
          "y": 35
         },
         {
          "terrain": "mountain",
          "value": 39,
          "x": 12,
          "y": 35
         },
         {
          "terrain": "mountain",
          "value": 26,
          "x": 13,
          "y": 35
         },
         {
          "terrain": "plain",
          "value": 17,
          "x": 14,
          "y": 35
         },
         {
          "terrain": "plain",
          "value": 13,
          "x": 15,
          "y": 35
         },
         {
          "terrain": "plain",
          "value": 7,
          "x": 16,
          "y": 35
         },
         {
          "terrain": "ocean",
          "value": 4,
          "x": 17,
          "y": 35
         },
         {
          "terrain": "ocean",
          "value": 0,
          "x": 18,
          "y": 35
         },
         {
          "terrain": "ocean",
          "value": 0,
          "x": 19,
          "y": 35
         },
         {
          "terrain": "ocean",
          "value": 0,
          "x": 20,
          "y": 35
         },
         {
          "terrain": "ocean",
          "value": 0,
          "x": 21,
          "y": 35
         },
         {
          "terrain": "ocean",
          "value": 0,
          "x": 22,
          "y": 35
         },
         {
          "terrain": "ocean",
          "value": 1,
          "x": 23,
          "y": 35
         },
         {
          "terrain": "ocean",
          "value": -1,
          "x": 24,
          "y": 35
         },
         {
          "terrain": "ocean",
          "value": 0,
          "x": 25,
          "y": 35
         },
         {
          "terrain": "ocean",
          "value": 0,
          "x": 26,
          "y": 35
         },
         {
          "terrain": "ocean",
          "value": 1,
          "x": 27,
          "y": 35
         },
         {
          "terrain": "ocean",
          "value": 0,
          "x": 28,
          "y": 35
         },
         {
          "terrain": "ocean",
          "value": 0,
          "x": 29,
          "y": 35
         },
         {
          "terrain": "ocean",
          "value": -1,
          "x": 30,
          "y": 35
         },
         {
          "terrain": "ocean",
          "value": -1,
          "x": 31,
          "y": 35
         },
         {
          "terrain": "ocean",
          "value": 0,
          "x": 32,
          "y": 35
         },
         {
          "terrain": "ocean",
          "value": 0,
          "x": 33,
          "y": 35
         },
         {
          "terrain": "ocean",
          "value": 0,
          "x": 34,
          "y": 35
         },
         {
          "terrain": "ocean",
          "value": 0,
          "x": 35,
          "y": 35
         },
         {
          "terrain": "ocean",
          "value": 0,
          "x": 36,
          "y": 35
         },
         {
          "terrain": "ocean",
          "value": -2,
          "x": 37,
          "y": 35
         },
         {
          "terrain": "ocean",
          "value": 1,
          "x": 38,
          "y": 35
         },
         {
          "terrain": "ocean",
          "value": 1,
          "x": 39,
          "y": 35
         },
         {
          "terrain": "ocean",
          "value": -1,
          "x": 0,
          "y": 36
         },
         {
          "terrain": "ocean",
          "value": 2,
          "x": 1,
          "y": 36
         },
         {
          "terrain": "plain",
          "value": 7,
          "x": 2,
          "y": 36
         },
         {
          "terrain": "plain",
          "value": 16,
          "x": 3,
          "y": 36
         },
         {
          "terrain": "mountain",
          "value": 27,
          "x": 4,
          "y": 36
         },
         {
          "terrain": "mountain",
          "value": 40,
          "x": 5,
          "y": 36
         },
         {
          "terrain": "mountain",
          "value": 57,
          "x": 6,
          "y": 36
         },
         {
          "terrain": "mountain",
          "value": 66,
          "x": 7,
          "y": 36
         },
         {
          "terrain": "mountain",
          "value": 68,
          "x": 8,
          "y": 36
         },
         {
          "terrain": "mountain",
          "value": 65,
          "x": 9,
          "y": 36
         },
         {
          "terrain": "mountain",
          "value": 56,
          "x": 10,
          "y": 36
         },
         {
          "terrain": "mountain",
          "value": 45,
          "x": 11,
          "y": 36
         },
         {
          "terrain": "mountain",
          "value": 36,
          "x": 12,
          "y": 36
         },
         {
          "terrain": "mountain",
          "value": 25,
          "x": 13,
          "y": 36
         },
         {
          "terrain": "plain",
          "value": 15,
          "x": 14,
          "y": 36
         },
         {
          "terrain": "plain",
          "value": 10,
          "x": 15,
          "y": 36
         },
         {
          "terrain": "plain",
          "value": 6,
          "x": 16,
          "y": 36
         },
         {
          "terrain": "ocean",
          "value": 4,
          "x": 17,
          "y": 36
         },
         {
          "terrain": "ocean",
          "value": 3,
          "x": 18,
          "y": 36
         },
         {
          "terrain": "ocean",
          "value": 0,
          "x": 19,
          "y": 36
         },
         {
          "terrain": "ocean",
          "value": 2,
          "x": 20,
          "y": 36
         },
         {
          "terrain": "ocean",
          "value": 0,
          "x": 21,
          "y": 36
         },
         {
          "terrain": "ocean",
          "value": -1,
          "x": 22,
          "y": 36
         },
         {
          "terrain": "ocean",
          "value": 0,
          "x": 23,
          "y": 36
         },
         {
          "terrain": "ocean",
          "value": 1,
          "x": 24,
          "y": 36
         },
         {
          "terrain": "ocean",
          "value": 1,
          "x": 25,
          "y": 36
         },
         {
          "terrain": "ocean",
          "value": 1,
          "x": 26,
          "y": 36
         },
         {
          "terrain": "ocean",
          "value": 0,
          "x": 27,
          "y": 36
         },
         {
          "terrain": "ocean",
          "value": 1,
          "x": 28,
          "y": 36
         },
         {
          "terrain": "ocean",
          "value": 0,
          "x": 29,
          "y": 36
         },
         {
          "terrain": "ocean",
          "value": -1,
          "x": 30,
          "y": 36
         },
         {
          "terrain": "ocean",
          "value": 1,
          "x": 31,
          "y": 36
         },
         {
          "terrain": "ocean",
          "value": 0,
          "x": 32,
          "y": 36
         },
         {
          "terrain": "ocean",
          "value": -1,
          "x": 33,
          "y": 36
         },
         {
          "terrain": "ocean",
          "value": 0,
          "x": 34,
          "y": 36
         },
         {
          "terrain": "ocean",
          "value": 0,
          "x": 35,
          "y": 36
         },
         {
          "terrain": "ocean",
          "value": 0,
          "x": 36,
          "y": 36
         },
         {
          "terrain": "ocean",
          "value": 0,
          "x": 37,
          "y": 36
         },
         {
          "terrain": "ocean",
          "value": 1,
          "x": 38,
          "y": 36
         },
         {
          "terrain": "ocean",
          "value": 0,
          "x": 39,
          "y": 36
         },
         {
          "terrain": "ocean",
          "value": 0,
          "x": 0,
          "y": 37
         },
         {
          "terrain": "ocean",
          "value": 3,
          "x": 1,
          "y": 37
         },
         {
          "terrain": "plain",
          "value": 8,
          "x": 2,
          "y": 37
         },
         {
          "terrain": "plain",
          "value": 16,
          "x": 3,
          "y": 37
         },
         {
          "terrain": "mountain",
          "value": 27,
          "x": 4,
          "y": 37
         },
         {
          "terrain": "mountain",
          "value": 40,
          "x": 5,
          "y": 37
         },
         {
          "terrain": "mountain",
          "value": 55,
          "x": 6,
          "y": 37
         },
         {
          "terrain": "mountain",
          "value": 63,
          "x": 7,
          "y": 37
         },
         {
          "terrain": "mountain",
          "value": 63,
          "x": 8,
          "y": 37
         },
         {
          "terrain": "mountain",
          "value": 62,
          "x": 9,
          "y": 37
         },
         {
          "terrain": "mountain",
          "value": 52,
          "x": 10,
          "y": 37
         },
         {
          "terrain": "mountain",
          "value": 44,
          "x": 11,
          "y": 37
         },
         {
          "terrain": "mountain",
          "value": 33,
          "x": 12,
          "y": 37
         },
         {
          "terrain": "plain",
          "value": 23,
          "x": 13,
          "y": 37
         },
         {
          "terrain": "plain",
          "value": 15,
          "x": 14,
          "y": 37
         },
         {
          "terrain": "plain",
          "value": 10,
          "x": 15,
          "y": 37
         },
         {
          "terrain": "ocean",
          "value": 4,
          "x": 16,
          "y": 37
         },
         {
          "terrain": "ocean",
          "value": 5,
          "x": 17,
          "y": 37
         },
         {
          "terrain": "ocean",
          "value": 2,
          "x": 18,
          "y": 37
         },
         {
          "terrain": "ocean",
          "value": 0,
          "x": 19,
          "y": 37
         },
         {
          "terrain": "ocean",
          "value": 1,
          "x": 20,
          "y": 37
         },
         {
          "terrain": "ocean",
          "value": -1,
          "x": 21,
          "y": 37
         },
         {
          "terrain": "ocean",
          "value": 0,
          "x": 22,
          "y": 37
         },
         {
          "terrain": "ocean",
          "value": 0,
          "x": 23,
          "y": 37
         },
         {
          "terrain": "ocean",
          "value": -2,
          "x": 24,
          "y": 37
         },
         {
          "terrain": "ocean",
          "value": 0,
          "x": 25,
          "y": 37
         },
         {
          "terrain": "ocean",
          "value": -1,
          "x": 26,
          "y": 37
         },
         {
          "terrain": "ocean",
          "value": 1,
          "x": 27,
          "y": 37
         },
         {
          "terrain": "ocean",
          "value": 1,
          "x": 28,
          "y": 37
         },
         {
          "terrain": "ocean",
          "value": 1,
          "x": 29,
          "y": 37
         },
         {
          "terrain": "ocean",
          "value": 1,
          "x": 30,
          "y": 37
         },
         {
          "terrain": "ocean",
          "value": -1,
          "x": 31,
          "y": 37
         },
         {
          "terrain": "ocean",
          "value": -1,
          "x": 32,
          "y": 37
         },
         {
          "terrain": "ocean",
          "value": -1,
          "x": 33,
          "y": 37
         },
         {
          "terrain": "ocean",
          "value": -1,
          "x": 34,
          "y": 37
         },
         {
          "terrain": "ocean",
          "value": 1,
          "x": 35,
          "y": 37
         },
         {
          "terrain": "ocean",
          "value": 0,
          "x": 36,
          "y": 37
         },
         {
          "terrain": "ocean",
          "value": 0,
          "x": 37,
          "y": 37
         },
         {
          "terrain": "ocean",
          "value": 1,
          "x": 38,
          "y": 37
         },
         {
          "terrain": "ocean",
          "value": -2,
          "x": 39,
          "y": 37
         },
         {
          "terrain": "ocean",
          "value": 0,
          "x": 0,
          "y": 38
         },
         {
          "terrain": "ocean",
          "value": 2,
          "x": 1,
          "y": 38
         },
         {
          "terrain": "plain",
          "value": 9,
          "x": 2,
          "y": 38
         },
         {
          "terrain": "plain",
          "value": 17,
          "x": 3,
          "y": 38
         },
         {
          "terrain": "mountain",
          "value": 27,
          "x": 4,
          "y": 38
         },
         {
          "terrain": "mountain",
          "value": 39,
          "x": 5,
          "y": 38
         },
         {
          "terrain": "mountain",
          "value": 46,
          "x": 6,
          "y": 38
         },
         {
          "terrain": "mountain",
          "value": 52,
          "x": 7,
          "y": 38
         },
         {
          "terrain": "mountain",
          "value": 53,
          "x": 8,
          "y": 38
         },
         {
          "terrain": "mountain",
          "value": 49,
          "x": 9,
          "y": 38
         },
         {
          "terrain": "mountain",
          "value": 44,
          "x": 10,
          "y": 38
         },
         {
          "terrain": "mountain",
          "value": 38,
          "x": 11,
          "y": 38
         },
         {
          "terrain": "mountain",
          "value": 32,
          "x": 12,
          "y": 38
         },
         {
          "terrain": "plain",
          "value": 20,
          "x": 13,
          "y": 38
         },
         {
          "terrain": "plain",
          "value": 14,
          "x": 14,
          "y": 38
         },
         {
          "terrain": "plain",
          "value": 8,
          "x": 15,
          "y": 38
         },
         {
          "terrain": "plain",
          "value": 6,
          "x": 16,
          "y": 38
         },
         {
          "terrain": "ocean",
          "value": 3,
          "x": 17,
          "y": 38
         },
         {
          "terrain": "ocean",
          "value": 1,
          "x": 18,
          "y": 38
         },
         {
          "terrain": "ocean",
          "value": -1,
          "x": 19,
          "y": 38
         },
         {
          "terrain": "ocean",
          "value": -1,
          "x": 20,
          "y": 38
         },
         {
          "terrain": "ocean",
          "value": -1,
          "x": 21,
          "y": 38
         },
         {
          "terrain": "ocean",
          "value": -1,
          "x": 22,
          "y": 38
         },
         {
          "terrain": "ocean",
          "value": 1,
          "x": 23,
          "y": 38
         },
         {
          "terrain": "ocean",
          "value": 1,
          "x": 24,
          "y": 38
         },
         {
          "terrain": "ocean",
          "value": 2,
          "x": 25,
          "y": 38
         },
         {
          "terrain": "ocean",
          "value": -1,
          "x": 26,
          "y": 38
         },
         {
          "terrain": "ocean",
          "value": 0,
          "x": 27,
          "y": 38
         },
         {
          "terrain": "ocean",
          "value": -1,
          "x": 28,
          "y": 38
         },
         {
          "terrain": "ocean",
          "value": -1,
          "x": 29,
          "y": 38
         },
         {
          "terrain": "ocean",
          "value": 0,
          "x": 30,
          "y": 38
         },
         {
          "terrain": "ocean",
          "value": -1,
          "x": 31,
          "y": 38
         },
         {
          "terrain": "ocean",
          "value": -1,
          "x": 32,
          "y": 38
         },
         {
          "terrain": "ocean",
          "value": -1,
          "x": 33,
          "y": 38
         },
         {
          "terrain": "ocean",
          "value": 0,
          "x": 34,
          "y": 38
         },
         {
          "terrain": "ocean",
          "value": 2,
          "x": 35,
          "y": 38
         },
         {
          "terrain": "ocean",
          "value": 0,
          "x": 36,
          "y": 38
         },
         {
          "terrain": "ocean",
          "value": -2,
          "x": 37,
          "y": 38
         },
         {
          "terrain": "ocean",
          "value": 1,
          "x": 38,
          "y": 38
         },
         {
          "terrain": "ocean",
          "value": -1,
          "x": 39,
          "y": 38
         },
         {
          "terrain": "ocean",
          "value": -1,
          "x": 0,
          "y": 39
         },
         {
          "terrain": "ocean",
          "value": 3,
          "x": 1,
          "y": 39
         },
         {
          "terrain": "plain",
          "value": 8,
          "x": 2,
          "y": 39
         },
         {
          "terrain": "plain",
          "value": 16,
          "x": 3,
          "y": 39
         },
         {
          "terrain": "plain",
          "value": 24,
          "x": 4,
          "y": 39
         },
         {
          "terrain": "mountain",
          "value": 34,
          "x": 5,
          "y": 39
         },
         {
          "terrain": "mountain",
          "value": 35,
          "x": 6,
          "y": 39
         },
         {
          "terrain": "mountain",
          "value": 41,
          "x": 7,
          "y": 39
         },
         {
          "terrain": "mountain",
          "value": 41,
          "x": 8,
          "y": 39
         },
         {
          "terrain": "mountain",
          "value": 40,
          "x": 9,
          "y": 39
         },
         {
          "terrain": "mountain",
          "value": 37,
          "x": 10,
          "y": 39
         },
         {
          "terrain": "mountain",
          "value": 34,
          "x": 11,
          "y": 39
         },
         {
          "terrain": "mountain",
          "value": 27,
          "x": 12,
          "y": 39
         },
         {
          "terrain": "plain",
          "value": 22,
          "x": 13,
          "y": 39
         },
         {
          "terrain": "plain",
          "value": 13,
          "x": 14,
          "y": 39
         },
         {
          "terrain": "plain",
          "value": 7,
          "x": 15,
          "y": 39
         },
         {
          "terrain": "ocean",
          "value": 5,
          "x": 16,
          "y": 39
         },
         {
          "terrain": "ocean",
          "value": 3,
          "x": 17,
          "y": 39
         },
         {
          "terrain": "ocean",
          "value": 1,
          "x": 18,
          "y": 39
         },
         {
          "terrain": "ocean",
          "value": 1,
          "x": 19,
          "y": 39
         },
         {
          "terrain": "ocean",
          "value": 0,
          "x": 20,
          "y": 39
         },
         {
          "terrain": "ocean",
          "value": -1,
          "x": 21,
          "y": 39
         },
         {
          "terrain": "ocean",
          "value": 1,
          "x": 22,
          "y": 39
         },
         {
          "terrain": "ocean",
          "value": 1,
          "x": 23,
          "y": 39
         },
         {
          "terrain": "ocean",
          "value": 1,
          "x": 24,
          "y": 39
         },
         {
          "terrain": "ocean",
          "value": 0,
          "x": 25,
          "y": 39
         },
         {
          "terrain": "ocean",
          "value": -1,
          "x": 26,
          "y": 39
         },
         {
          "terrain": "ocean",
          "value": 0,
          "x": 27,
          "y": 39
         },
         {
          "terrain": "ocean",
          "value": -1,
          "x": 28,
          "y": 39
         },
         {
          "terrain": "ocean",
          "value": 1,
          "x": 29,
          "y": 39
         },
         {
          "terrain": "ocean",
          "value": 1,
          "x": 30,
          "y": 39
         },
         {
          "terrain": "ocean",
          "value": 2,
          "x": 31,
          "y": 39
         },
         {
          "terrain": "ocean",
          "value": 1,
          "x": 32,
          "y": 39
         },
         {
          "terrain": "ocean",
          "value": -1,
          "x": 33,
          "y": 39
         },
         {
          "terrain": "ocean",
          "value": 0,
          "x": 34,
          "y": 39
         },
         {
          "terrain": "ocean",
          "value": 2,
          "x": 35,
          "y": 39
         },
         {
          "terrain": "ocean",
          "value": -1,
          "x": 36,
          "y": 39
         },
         {
          "terrain": "ocean",
          "value": 0,
          "x": 37,
          "y": 39
         },
         {
          "terrain": "ocean",
          "value": 0,
          "x": 38,
          "y": 39
         },
         {
          "terrain": "ocean",
          "value": 1,
          "x": 39,
          "y": 39
         }
        ]
       },
       "encoding": {
        "color": {
         "field": "terrain",
         "scale": {
          "domain": [
           "plain",
           "mountain",
           "ocean"
          ],
          "range": [
           "green",
           "brown",
           "blue"
          ]
         },
         "type": "nominal"
        },
        "x": {
         "field": "x",
         "type": "ordinal"
        },
        "y": {
         "field": "y",
         "type": "ordinal"
        }
       },
       "mark": "rect"
      },
      "image/png": "[encoded data removed]",
      "text/plain": [
       "<VegaLite 2 object>\n",
       "\n",
       "If you see this message, it means the renderer has not been properly enabled\n",
       "for the frontend that you are using. For more information, see\n",
       "https://altair-viz.github.io/user_guide/troubleshooting.html\n"
      ]
     },
     "execution_count": 4,
     "metadata": {},
     "output_type": "execute_result"
    }
   ],
   "source": [
    "draw.drawTerrainTypes(geo_world.grid_elevation, geo_world.landscape)"
   ]
  },
  {
   "cell_type": "markdown",
   "metadata": {},
   "source": [
    "# Second Age : Towns and Nations"
   ]
  },
  {
   "cell_type": "code",
   "execution_count": 5,
   "metadata": {},
   "outputs": [
    {
     "ename": "AttributeError",
     "evalue": "'Culture' object has no attribute 'culture'",
     "output_type": "error",
     "traceback": [
      "\u001b[0;31m---------------------------------------------------------------------------\u001b[0m",
      "\u001b[0;31mAttributeError\u001b[0m                            Traceback (most recent call last)",
      "\u001b[0;32m<ipython-input-5-e8f93b50143a>\u001b[0m in \u001b[0;36m<module>\u001b[0;34m\u001b[0m\n\u001b[0;32m----> 1\u001b[0;31m \u001b[0mworld\u001b[0m \u001b[0;34m=\u001b[0m \u001b[0mc\u001b[0m\u001b[0;34m.\u001b[0m\u001b[0mthe_second_age\u001b[0m\u001b[0;34m(\u001b[0m\u001b[0mgeo_world\u001b[0m\u001b[0;34m,\u001b[0m \u001b[0;34m{\u001b[0m\u001b[0;34m}\u001b[0m\u001b[0;34m)\u001b[0m\u001b[0;34m\u001b[0m\u001b[0;34m\u001b[0m\u001b[0m\n\u001b[0m",
      "\u001b[0;32m~/prodweb/game/lib/create_world.py\u001b[0m in \u001b[0;36mthe_second_age\u001b[0;34m(world, default_params, c)\u001b[0m\n\u001b[1;32m     21\u001b[0m \u001b[0;32mdef\u001b[0m \u001b[0mthe_second_age\u001b[0m\u001b[0;34m(\u001b[0m\u001b[0mworld\u001b[0m\u001b[0;34m,\u001b[0m \u001b[0mdefault_params\u001b[0m\u001b[0;34m,\u001b[0m \u001b[0mc\u001b[0m\u001b[0;34m=\u001b[0m\u001b[0mc\u001b[0m\u001b[0;34m)\u001b[0m\u001b[0;34m:\u001b[0m\u001b[0;34m\u001b[0m\u001b[0;34m\u001b[0m\u001b[0m\n\u001b[1;32m     22\u001b[0m     \u001b[0mworld\u001b[0m\u001b[0;34m.\u001b[0m\u001b[0mculture\u001b[0m \u001b[0;34m=\u001b[0m \u001b[0mc\u001b[0m\u001b[0;34m.\u001b[0m\u001b[0mCulture\u001b[0m\u001b[0;34m(\u001b[0m\u001b[0mparams\u001b[0m\u001b[0;34m=\u001b[0m\u001b[0mdefault_params\u001b[0m\u001b[0;34m)\u001b[0m\u001b[0;34m\u001b[0m\u001b[0;34m\u001b[0m\u001b[0m\n\u001b[0;32m---> 23\u001b[0;31m     \u001b[0mall_towns\u001b[0m \u001b[0;34m=\u001b[0m \u001b[0mtowns\u001b[0m\u001b[0;34m.\u001b[0m\u001b[0mbuild_towns\u001b[0m\u001b[0;34m(\u001b[0m\u001b[0mworld\u001b[0m\u001b[0;34m,\u001b[0m \u001b[0mpeople\u001b[0m\u001b[0;34m)\u001b[0m\u001b[0;34m\u001b[0m\u001b[0;34m\u001b[0m\u001b[0m\n\u001b[0m\u001b[1;32m     24\u001b[0m     \u001b[0mworld\u001b[0m\u001b[0;34m.\u001b[0m\u001b[0madd_features\u001b[0m\u001b[0;34m(\u001b[0m\u001b[0mall_towns\u001b[0m\u001b[0;34m)\u001b[0m\u001b[0;34m\u001b[0m\u001b[0;34m\u001b[0m\u001b[0m\n\u001b[1;32m     25\u001b[0m     \u001b[0mworld\u001b[0m\u001b[0;34m.\u001b[0m\u001b[0mtowns\u001b[0m \u001b[0;34m=\u001b[0m \u001b[0mall_towns\u001b[0m\u001b[0;34m\u001b[0m\u001b[0;34m\u001b[0m\u001b[0m\n",
      "\u001b[0;32m~/prodweb/game/lib/builders/towns.py\u001b[0m in \u001b[0;36mbuild_towns\u001b[0;34m(world, people)\u001b[0m\n\u001b[1;32m     97\u001b[0m \u001b[0;34m\u001b[0m\u001b[0m\n\u001b[1;32m     98\u001b[0m         \u001b[0;32mfor\u001b[0m \u001b[0mt\u001b[0m \u001b[0;32min\u001b[0m \u001b[0mtowns\u001b[0m\u001b[0;34m:\u001b[0m\u001b[0;34m\u001b[0m\u001b[0;34m\u001b[0m\u001b[0m\n\u001b[0;32m---> 99\u001b[0;31m             \u001b[0mt\u001b[0m\u001b[0;34m.\u001b[0m\u001b[0mpopulation_growth\u001b[0m\u001b[0;34m(\u001b[0m\u001b[0mworld\u001b[0m\u001b[0;34m.\u001b[0m\u001b[0mculture\u001b[0m\u001b[0;34m.\u001b[0m\u001b[0mtown_birthrate\u001b[0m\u001b[0;34m,\u001b[0m\u001b[0mpeople\u001b[0m\u001b[0;34m)\u001b[0m\u001b[0;34m\u001b[0m\u001b[0;34m\u001b[0m\u001b[0m\n\u001b[0m\u001b[1;32m    100\u001b[0m     \u001b[0;32mreturn\u001b[0m \u001b[0mtowns\u001b[0m\u001b[0;34m\u001b[0m\u001b[0;34m\u001b[0m\u001b[0m\n\u001b[1;32m    101\u001b[0m \u001b[0;34m\u001b[0m\u001b[0m\n",
      "\u001b[0;32m~/prodweb/game/lib/builders/towns.py\u001b[0m in \u001b[0;36mpopulation_growth\u001b[0;34m(self, birthrate, people)\u001b[0m\n\u001b[1;32m     64\u001b[0m         \u001b[0;32mif\u001b[0m \u001b[0mnp\u001b[0m\u001b[0;34m.\u001b[0m\u001b[0mrandom\u001b[0m\u001b[0;34m.\u001b[0m\u001b[0muniform\u001b[0m\u001b[0;34m(\u001b[0m\u001b[0;34m)\u001b[0m \u001b[0;34m<\u001b[0m \u001b[0mbirthrate\u001b[0m\u001b[0;34m:\u001b[0m\u001b[0;34m\u001b[0m\u001b[0;34m\u001b[0m\u001b[0m\n\u001b[1;32m     65\u001b[0m             \u001b[0mself\u001b[0m\u001b[0;34m.\u001b[0m\u001b[0mpop\u001b[0m \u001b[0;34m+=\u001b[0m \u001b[0;36m1\u001b[0m\u001b[0;34m\u001b[0m\u001b[0;34m\u001b[0m\u001b[0m\n\u001b[0;32m---> 66\u001b[0;31m             \u001b[0mself\u001b[0m\u001b[0;34m.\u001b[0m\u001b[0mpopulation\u001b[0m\u001b[0;34m.\u001b[0m\u001b[0mappend\u001b[0m\u001b[0;34m(\u001b[0m\u001b[0mpeople\u001b[0m\u001b[0;34m.\u001b[0m\u001b[0mPerson\u001b[0m\u001b[0;34m(\u001b[0m\u001b[0mself\u001b[0m\u001b[0;34m.\u001b[0m\u001b[0mculture\u001b[0m\u001b[0;34m,\u001b[0m \u001b[0mlocation\u001b[0m\u001b[0;34m=\u001b[0m\u001b[0mself\u001b[0m\u001b[0;34m.\u001b[0m\u001b[0mname\u001b[0m\u001b[0;34m)\u001b[0m\u001b[0;34m)\u001b[0m\u001b[0;34m\u001b[0m\u001b[0;34m\u001b[0m\u001b[0m\n\u001b[0m\u001b[1;32m     67\u001b[0m \u001b[0;34m\u001b[0m\u001b[0m\n\u001b[1;32m     68\u001b[0m     \u001b[0;32mdef\u001b[0m \u001b[0mhaveDiplomacy\u001b[0m\u001b[0;34m(\u001b[0m\u001b[0mself\u001b[0m\u001b[0;34m,\u001b[0m \u001b[0mtowns\u001b[0m\u001b[0;34m)\u001b[0m\u001b[0;34m:\u001b[0m\u001b[0;34m\u001b[0m\u001b[0;34m\u001b[0m\u001b[0m\n",
      "\u001b[0;32m~/prodweb/game/lib/builders/people.py\u001b[0m in \u001b[0;36m__init__\u001b[0;34m(self, world, culture, role, location)\u001b[0m\n\u001b[1;32m      7\u001b[0m             \u001b[0mculture\u001b[0m \u001b[0;34m=\u001b[0m \u001b[0mculture\u001b[0m\u001b[0;34m\u001b[0m\u001b[0;34m\u001b[0m\u001b[0m\n\u001b[1;32m      8\u001b[0m         \u001b[0;32melse\u001b[0m\u001b[0;34m:\u001b[0m\u001b[0;34m\u001b[0m\u001b[0;34m\u001b[0m\u001b[0m\n\u001b[0;32m----> 9\u001b[0;31m             \u001b[0mculture\u001b[0m \u001b[0;34m=\u001b[0m \u001b[0mworld\u001b[0m\u001b[0;34m.\u001b[0m\u001b[0mculture\u001b[0m\u001b[0;34m\u001b[0m\u001b[0;34m\u001b[0m\u001b[0m\n\u001b[0m\u001b[1;32m     10\u001b[0m         \u001b[0mself\u001b[0m\u001b[0;34m.\u001b[0m\u001b[0mname\u001b[0m \u001b[0;34m=\u001b[0m \u001b[0mculture\u001b[0m\u001b[0;34m.\u001b[0m\u001b[0mpersonNameGenerator\u001b[0m\u001b[0;34m(\u001b[0m\u001b[0;34m)\u001b[0m\u001b[0;34m\u001b[0m\u001b[0;34m\u001b[0m\u001b[0m\n\u001b[1;32m     11\u001b[0m         \u001b[0mself\u001b[0m\u001b[0;34m.\u001b[0m\u001b[0mrole\u001b[0m \u001b[0;34m=\u001b[0m \u001b[0mrole\u001b[0m\u001b[0;34m\u001b[0m\u001b[0;34m\u001b[0m\u001b[0m\n",
      "\u001b[0;31mAttributeError\u001b[0m: 'Culture' object has no attribute 'culture'"
     ]
    }
   ],
   "source": [
    "world = c.the_second_age(geo_world, {})"
   ]
  },
  {
   "cell_type": "code",
   "execution_count": null,
   "metadata": {},
   "outputs": [],
   "source": [
    "draw.drawboarders(world.df_features)"
   ]
  },
  {
   "cell_type": "code",
   "execution_count": null,
   "metadata": {},
   "outputs": [],
   "source": [
    "draw.drawterrainadvanced(world.df_features)"
   ]
  },
  {
   "cell_type": "markdown",
   "metadata": {},
   "source": [
    "## The third age, conflict"
   ]
  },
  {
   "cell_type": "code",
   "execution_count": null,
   "metadata": {},
   "outputs": [],
   "source": [
    "world, events = c.the_third_age(world)"
   ]
  },
  {
   "cell_type": "code",
   "execution_count": null,
   "metadata": {},
   "outputs": [],
   "source": [
    "world"
   ]
  },
  {
   "cell_type": "code",
   "execution_count": null,
   "metadata": {},
   "outputs": [],
   "source": [
    "events"
   ]
  },
  {
   "cell_type": "code",
   "execution_count": null,
   "metadata": {},
   "outputs": [],
   "source": []
  }
 ],
 "metadata": {
  "kernelspec": {
   "display_name": "Python 3",
   "language": "python",
   "name": "python3"
  },
  "language_info": {
   "codemirror_mode": {
    "name": "ipython",
    "version": 3
   },
   "file_extension": ".py",
   "mimetype": "text/x-python",
   "name": "python",
   "nbconvert_exporter": "python",
   "pygments_lexer": "ipython3",
   "version": "3.7.3"
  }
 },
 "nbformat": 4,
 "nbformat_minor": 2
}
