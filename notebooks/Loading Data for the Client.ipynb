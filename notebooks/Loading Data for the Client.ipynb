{
 "cells": [
  {
   "cell_type": "markdown",
   "metadata": {},
   "source": [
    "# Getting the info that the client needs for D3.js\n",
    "\n",
    "Often it is easier to transform data in the backend to be used by D3. In general all data in D3 needs to be a list of dicts. In this example I'm using an existing `world` object to demonstrate the methods that do these transformations. "
   ]
  },
  {
   "cell_type": "code",
   "execution_count": 1,
   "metadata": {},
   "outputs": [],
   "source": [
    "#I'm mapping to the actual files in the repo so that I can also use this to troubleshoot\n",
    "import os\n",
    "import sys\n",
    "import numpy as np\n",
    "import pandas as pd\n",
    "import pickle\n",
    "import django\n",
    "sys.path.append('../..')\n",
    "#Loading my project settings from prodweb. This allows me to load and query models. \n",
    "os.environ.setdefault('DJANGO_SETTINGS_MODULE', 'prodweb.settings')\n",
    "django.setup()\n",
    "\n",
    "\n",
    "with (open(\"../pickles/billmanhworld.pkl\", 'rb')) as pickle_file:\n",
    "    world = pickle.load(pickle_file)"
   ]
  },
  {
   "cell_type": "code",
   "execution_count": 2,
   "metadata": {
    "scrolled": true
   },
   "outputs": [],
   "source": [
    "sys.path.append('..')\n",
    "from lib.builders import world as w"
   ]
  },
  {
   "cell_type": "markdown",
   "metadata": {},
   "source": [
    "`w.get_area_data(world)` gets the area relevant to where the character is. This includes surrounding areas."
   ]
  },
  {
   "cell_type": "code",
   "execution_count": 3,
   "metadata": {},
   "outputs": [
    {
     "data": {
      "text/plain": [
       "<game.lib.builders.world.World at 0x7f1edcef65f8>"
      ]
     },
     "execution_count": 3,
     "metadata": {},
     "output_type": "execute_result"
    }
   ],
   "source": [
    "world"
   ]
  },
  {
   "cell_type": "code",
   "execution_count": 4,
   "metadata": {},
   "outputs": [
    {
     "name": "stdout",
     "output_type": "stream",
     "text": [
      "[13, 7]\n"
     ]
    },
    {
     "data": {
      "text/html": [
       "<div>\n",
       "<style scoped>\n",
       "    .dataframe tbody tr th:only-of-type {\n",
       "        vertical-align: middle;\n",
       "    }\n",
       "\n",
       "    .dataframe tbody tr th {\n",
       "        vertical-align: top;\n",
       "    }\n",
       "\n",
       "    .dataframe thead th {\n",
       "        text-align: right;\n",
       "    }\n",
       "</style>\n",
       "<table border=\"1\" class=\"dataframe\">\n",
       "  <thead>\n",
       "    <tr style=\"text-align: right;\">\n",
       "      <th></th>\n",
       "      <th>aware</th>\n",
       "      <th>danger</th>\n",
       "      <th>elevation</th>\n",
       "      <th>feature</th>\n",
       "      <th>key</th>\n",
       "      <th>nation</th>\n",
       "      <th>nation number</th>\n",
       "      <th>rainfall</th>\n",
       "      <th>terrain</th>\n",
       "      <th>turn_last_visited</th>\n",
       "      <th>visited</th>\n",
       "      <th>x</th>\n",
       "      <th>y</th>\n",
       "    </tr>\n",
       "  </thead>\n",
       "  <tbody>\n",
       "    <tr>\n",
       "      <th>area</th>\n",
       "      <td>1</td>\n",
       "      <td>0.804</td>\n",
       "      <td>32</td>\n",
       "      <td>Kingsloch</td>\n",
       "      <td>13:7</td>\n",
       "      <td>Starbrook</td>\n",
       "      <td>6</td>\n",
       "      <td>0</td>\n",
       "      <td>town</td>\n",
       "      <td>0</td>\n",
       "      <td>0</td>\n",
       "      <td>13</td>\n",
       "      <td>7</td>\n",
       "    </tr>\n",
       "    <tr>\n",
       "      <th>NArea</th>\n",
       "      <td>1</td>\n",
       "      <td>0.553</td>\n",
       "      <td>17</td>\n",
       "      <td>none</td>\n",
       "      <td>13:6</td>\n",
       "      <td>Starbrook</td>\n",
       "      <td>6</td>\n",
       "      <td>0</td>\n",
       "      <td>desert</td>\n",
       "      <td>0</td>\n",
       "      <td>0</td>\n",
       "      <td>13</td>\n",
       "      <td>6</td>\n",
       "    </tr>\n",
       "    <tr>\n",
       "      <th>SArea</th>\n",
       "      <td>1</td>\n",
       "      <td>0.952</td>\n",
       "      <td>37</td>\n",
       "      <td>none</td>\n",
       "      <td>13:8</td>\n",
       "      <td>Starbrook</td>\n",
       "      <td>6</td>\n",
       "      <td>0</td>\n",
       "      <td>mountain</td>\n",
       "      <td>8</td>\n",
       "      <td>1</td>\n",
       "      <td>13</td>\n",
       "      <td>8</td>\n",
       "    </tr>\n",
       "    <tr>\n",
       "      <th>EArea</th>\n",
       "      <td>1</td>\n",
       "      <td>1.029</td>\n",
       "      <td>23</td>\n",
       "      <td>none</td>\n",
       "      <td>14:7</td>\n",
       "      <td>Starbrook</td>\n",
       "      <td>6</td>\n",
       "      <td>0</td>\n",
       "      <td>desert</td>\n",
       "      <td>0</td>\n",
       "      <td>0</td>\n",
       "      <td>14</td>\n",
       "      <td>7</td>\n",
       "    </tr>\n",
       "    <tr>\n",
       "      <th>WArea</th>\n",
       "      <td>1</td>\n",
       "      <td>0.855</td>\n",
       "      <td>33</td>\n",
       "      <td>none</td>\n",
       "      <td>12:7</td>\n",
       "      <td>Starbrook</td>\n",
       "      <td>6</td>\n",
       "      <td>0</td>\n",
       "      <td>mountain</td>\n",
       "      <td>0</td>\n",
       "      <td>0</td>\n",
       "      <td>12</td>\n",
       "      <td>7</td>\n",
       "    </tr>\n",
       "  </tbody>\n",
       "</table>\n",
       "</div>"
      ],
      "text/plain": [
       "      aware danger elevation    feature   key     nation nation number  \\\n",
       "area      1  0.804        32  Kingsloch  13:7  Starbrook             6   \n",
       "NArea     1  0.553        17       none  13:6  Starbrook             6   \n",
       "SArea     1  0.952        37       none  13:8  Starbrook             6   \n",
       "EArea     1  1.029        23       none  14:7  Starbrook             6   \n",
       "WArea     1  0.855        33       none  12:7  Starbrook             6   \n",
       "\n",
       "      rainfall   terrain turn_last_visited visited   x  y  \n",
       "area         0      town                 0       0  13  7  \n",
       "NArea        0    desert                 0       0  13  6  \n",
       "SArea        0  mountain                 8       1  13  8  \n",
       "EArea        0    desert                 0       0  14  7  \n",
       "WArea        0  mountain                 0       0  12  7  "
      ]
     },
     "execution_count": 4,
     "metadata": {},
     "output_type": "execute_result"
    }
   ],
   "source": [
    "print(world.Character.location)\n",
    "pd.DataFrame(w.get_area_data(world)).T"
   ]
  },
  {
   "cell_type": "markdown",
   "metadata": {},
   "source": [
    "For other game principals, it's easy to just make regular `pandas` and `numpy` queries on those datasets. "
   ]
  },
  {
   "cell_type": "code",
   "execution_count": 5,
   "metadata": {
    "scrolled": true
   },
   "outputs": [
    {
     "data": {
      "text/plain": [
       "False"
      ]
     },
     "execution_count": 5,
     "metadata": {},
     "output_type": "execute_result"
    }
   ],
   "source": [
    "world.df_features.loc[world.Character.get_location_key(),'visited'] >= 1"
   ]
  },
  {
   "cell_type": "markdown",
   "metadata": {},
   "source": [
    "Querying the terrain is easy as well. For example, here is a query of all of the world where the _terrain_ is _desert_ and the _danger_ is above .5. These queries are fast and cheap. "
   ]
  },
  {
   "cell_type": "code",
   "execution_count": 6,
   "metadata": {
    "scrolled": true
   },
   "outputs": [
    {
     "data": {
      "text/html": [
       "<div>\n",
       "<style scoped>\n",
       "    .dataframe tbody tr th:only-of-type {\n",
       "        vertical-align: middle;\n",
       "    }\n",
       "\n",
       "    .dataframe tbody tr th {\n",
       "        vertical-align: top;\n",
       "    }\n",
       "\n",
       "    .dataframe thead th {\n",
       "        text-align: right;\n",
       "    }\n",
       "</style>\n",
       "<table border=\"1\" class=\"dataframe\">\n",
       "  <thead>\n",
       "    <tr style=\"text-align: right;\">\n",
       "      <th></th>\n",
       "      <th>y</th>\n",
       "      <th>rainfall</th>\n",
       "      <th>x</th>\n",
       "      <th>key</th>\n",
       "      <th>elevation</th>\n",
       "      <th>terrain</th>\n",
       "      <th>feature</th>\n",
       "      <th>nation number</th>\n",
       "      <th>nation</th>\n",
       "      <th>visited</th>\n",
       "      <th>aware</th>\n",
       "      <th>turn_last_visited</th>\n",
       "      <th>danger</th>\n",
       "    </tr>\n",
       "    <tr>\n",
       "      <th>key</th>\n",
       "      <th></th>\n",
       "      <th></th>\n",
       "      <th></th>\n",
       "      <th></th>\n",
       "      <th></th>\n",
       "      <th></th>\n",
       "      <th></th>\n",
       "      <th></th>\n",
       "      <th></th>\n",
       "      <th></th>\n",
       "      <th></th>\n",
       "      <th></th>\n",
       "      <th></th>\n",
       "    </tr>\n",
       "  </thead>\n",
       "  <tbody>\n",
       "    <tr>\n",
       "      <th>6:4</th>\n",
       "      <td>4</td>\n",
       "      <td>0.0</td>\n",
       "      <td>6</td>\n",
       "      <td>6:4</td>\n",
       "      <td>8.0</td>\n",
       "      <td>desert</td>\n",
       "      <td>NaN</td>\n",
       "      <td>3.0</td>\n",
       "      <td>Warchild</td>\n",
       "      <td>0</td>\n",
       "      <td>0</td>\n",
       "      <td>0</td>\n",
       "      <td>1.210</td>\n",
       "    </tr>\n",
       "    <tr>\n",
       "      <th>7:4</th>\n",
       "      <td>4</td>\n",
       "      <td>0.0</td>\n",
       "      <td>7</td>\n",
       "      <td>7:4</td>\n",
       "      <td>7.0</td>\n",
       "      <td>desert</td>\n",
       "      <td>NaN</td>\n",
       "      <td>3.0</td>\n",
       "      <td>Warchild</td>\n",
       "      <td>0</td>\n",
       "      <td>0</td>\n",
       "      <td>0</td>\n",
       "      <td>0.933</td>\n",
       "    </tr>\n",
       "    <tr>\n",
       "      <th>8:4</th>\n",
       "      <td>4</td>\n",
       "      <td>0.0</td>\n",
       "      <td>8</td>\n",
       "      <td>8:4</td>\n",
       "      <td>6.0</td>\n",
       "      <td>desert</td>\n",
       "      <td>NaN</td>\n",
       "      <td>3.0</td>\n",
       "      <td>Warchild</td>\n",
       "      <td>0</td>\n",
       "      <td>0</td>\n",
       "      <td>0</td>\n",
       "      <td>0.731</td>\n",
       "    </tr>\n",
       "    <tr>\n",
       "      <th>9:4</th>\n",
       "      <td>4</td>\n",
       "      <td>0.0</td>\n",
       "      <td>9</td>\n",
       "      <td>9:4</td>\n",
       "      <td>7.0</td>\n",
       "      <td>desert</td>\n",
       "      <td>NaN</td>\n",
       "      <td>3.0</td>\n",
       "      <td>Warchild</td>\n",
       "      <td>0</td>\n",
       "      <td>0</td>\n",
       "      <td>0</td>\n",
       "      <td>0.827</td>\n",
       "    </tr>\n",
       "    <tr>\n",
       "      <th>12:4</th>\n",
       "      <td>4</td>\n",
       "      <td>0.0</td>\n",
       "      <td>12</td>\n",
       "      <td>12:4</td>\n",
       "      <td>6.0</td>\n",
       "      <td>desert</td>\n",
       "      <td>NaN</td>\n",
       "      <td>6.0</td>\n",
       "      <td>Starbrook</td>\n",
       "      <td>0</td>\n",
       "      <td>1</td>\n",
       "      <td>0</td>\n",
       "      <td>1.156</td>\n",
       "    </tr>\n",
       "  </tbody>\n",
       "</table>\n",
       "</div>"
      ],
      "text/plain": [
       "      y  rainfall   x   key  elevation terrain feature  nation number  \\\n",
       "key                                                                     \n",
       "6:4   4       0.0   6   6:4        8.0  desert     NaN            3.0   \n",
       "7:4   4       0.0   7   7:4        7.0  desert     NaN            3.0   \n",
       "8:4   4       0.0   8   8:4        6.0  desert     NaN            3.0   \n",
       "9:4   4       0.0   9   9:4        7.0  desert     NaN            3.0   \n",
       "12:4  4       0.0  12  12:4        6.0  desert     NaN            6.0   \n",
       "\n",
       "         nation  visited  aware  turn_last_visited  danger  \n",
       "key                                                         \n",
       "6:4    Warchild        0      0                  0   1.210  \n",
       "7:4    Warchild        0      0                  0   0.933  \n",
       "8:4    Warchild        0      0                  0   0.731  \n",
       "9:4    Warchild        0      0                  0   0.827  \n",
       "12:4  Starbrook        0      1                  0   1.156  "
      ]
     },
     "execution_count": 6,
     "metadata": {},
     "output_type": "execute_result"
    }
   ],
   "source": [
    "world.df_features.loc[(world.df_features['terrain']=='desert') & \n",
    "                     (world.df_features['danger']>=.5)].head()"
   ]
  },
  {
   "cell_type": "markdown",
   "metadata": {},
   "source": [
    "You can also _mask_ the terrain where the character has no knowledge. "
   ]
  },
  {
   "cell_type": "code",
   "execution_count": 7,
   "metadata": {
    "scrolled": false
   },
   "outputs": [
    {
     "data": {
      "text/html": [
       "<div>\n",
       "<style scoped>\n",
       "    .dataframe tbody tr th:only-of-type {\n",
       "        vertical-align: middle;\n",
       "    }\n",
       "\n",
       "    .dataframe tbody tr th {\n",
       "        vertical-align: top;\n",
       "    }\n",
       "\n",
       "    .dataframe thead th {\n",
       "        text-align: right;\n",
       "    }\n",
       "</style>\n",
       "<table border=\"1\" class=\"dataframe\">\n",
       "  <thead>\n",
       "    <tr style=\"text-align: right;\">\n",
       "      <th></th>\n",
       "      <th>y</th>\n",
       "      <th>rainfall</th>\n",
       "      <th>x</th>\n",
       "      <th>key</th>\n",
       "      <th>elevation</th>\n",
       "      <th>terrain</th>\n",
       "      <th>feature</th>\n",
       "      <th>nation number</th>\n",
       "      <th>nation</th>\n",
       "      <th>visited</th>\n",
       "      <th>aware</th>\n",
       "      <th>turn_last_visited</th>\n",
       "      <th>danger</th>\n",
       "    </tr>\n",
       "    <tr>\n",
       "      <th>key</th>\n",
       "      <th></th>\n",
       "      <th></th>\n",
       "      <th></th>\n",
       "      <th></th>\n",
       "      <th></th>\n",
       "      <th></th>\n",
       "      <th></th>\n",
       "      <th></th>\n",
       "      <th></th>\n",
       "      <th></th>\n",
       "      <th></th>\n",
       "      <th></th>\n",
       "      <th></th>\n",
       "    </tr>\n",
       "  </thead>\n",
       "  <tbody>\n",
       "    <tr>\n",
       "      <th>0:0</th>\n",
       "      <td>0</td>\n",
       "      <td>0.0</td>\n",
       "      <td>0</td>\n",
       "      <td>0:0</td>\n",
       "      <td>2.0</td>\n",
       "      <td>ocean</td>\n",
       "      <td>NaN</td>\n",
       "      <td>NaN</td>\n",
       "      <td>NaN</td>\n",
       "      <td>0</td>\n",
       "      <td>1</td>\n",
       "      <td>0</td>\n",
       "      <td>0.500</td>\n",
       "    </tr>\n",
       "    <tr>\n",
       "      <th>1:0</th>\n",
       "      <td>0</td>\n",
       "      <td>0.0</td>\n",
       "      <td>1</td>\n",
       "      <td>1:0</td>\n",
       "      <td>-2.0</td>\n",
       "      <td>ocean</td>\n",
       "      <td>NaN</td>\n",
       "      <td>NaN</td>\n",
       "      <td>NaN</td>\n",
       "      <td>0</td>\n",
       "      <td>1</td>\n",
       "      <td>0</td>\n",
       "      <td>0.882</td>\n",
       "    </tr>\n",
       "    <tr>\n",
       "      <th>2:0</th>\n",
       "      <td>0</td>\n",
       "      <td>0.0</td>\n",
       "      <td>2</td>\n",
       "      <td>2:0</td>\n",
       "      <td>1.0</td>\n",
       "      <td>ocean</td>\n",
       "      <td>NaN</td>\n",
       "      <td>NaN</td>\n",
       "      <td>NaN</td>\n",
       "      <td>0</td>\n",
       "      <td>1</td>\n",
       "      <td>0</td>\n",
       "      <td>0.427</td>\n",
       "    </tr>\n",
       "    <tr>\n",
       "      <th>3:0</th>\n",
       "      <td>0</td>\n",
       "      <td>0.0</td>\n",
       "      <td>3</td>\n",
       "      <td>3:0</td>\n",
       "      <td>1.0</td>\n",
       "      <td>ocean</td>\n",
       "      <td>NaN</td>\n",
       "      <td>NaN</td>\n",
       "      <td>NaN</td>\n",
       "      <td>0</td>\n",
       "      <td>1</td>\n",
       "      <td>0</td>\n",
       "      <td>0.467</td>\n",
       "    </tr>\n",
       "    <tr>\n",
       "      <th>4:0</th>\n",
       "      <td>0</td>\n",
       "      <td>0.0</td>\n",
       "      <td>4</td>\n",
       "      <td>4:0</td>\n",
       "      <td>1.0</td>\n",
       "      <td>ocean</td>\n",
       "      <td>NaN</td>\n",
       "      <td>NaN</td>\n",
       "      <td>NaN</td>\n",
       "      <td>0</td>\n",
       "      <td>1</td>\n",
       "      <td>0</td>\n",
       "      <td>0.759</td>\n",
       "    </tr>\n",
       "  </tbody>\n",
       "</table>\n",
       "</div>"
      ],
      "text/plain": [
       "     y  rainfall  x  key  elevation terrain feature nation number nation  \\\n",
       "key                                                                        \n",
       "0:0  0       0.0  0  0:0        2.0   ocean     NaN           NaN    NaN   \n",
       "1:0  0       0.0  1  1:0       -2.0   ocean     NaN           NaN    NaN   \n",
       "2:0  0       0.0  2  2:0        1.0   ocean     NaN           NaN    NaN   \n",
       "3:0  0       0.0  3  3:0        1.0   ocean     NaN           NaN    NaN   \n",
       "4:0  0       0.0  4  4:0        1.0   ocean     NaN           NaN    NaN   \n",
       "\n",
       "     visited  aware  turn_last_visited  danger  \n",
       "key                                             \n",
       "0:0        0      1                  0   0.500  \n",
       "1:0        0      1                  0   0.882  \n",
       "2:0        0      1                  0   0.427  \n",
       "3:0        0      1                  0   0.467  \n",
       "4:0        0      1                  0   0.759  "
      ]
     },
     "execution_count": 7,
     "metadata": {},
     "output_type": "execute_result"
    }
   ],
   "source": [
    "masked_world = w.mask_unknown(world)\n",
    "world.Character.title = \"Noble\"\n",
    "masked_world.head()"
   ]
  },
  {
   "cell_type": "markdown",
   "metadata": {},
   "source": [
    "Querying people is also easy, but you need to use _list comprehension_ to do it. This is the general structure. "
   ]
  },
  {
   "cell_type": "code",
   "execution_count": 8,
   "metadata": {},
   "outputs": [
    {
     "data": {
      "text/plain": [
       "[['Monkam', 'Quisassif', 'Xayangoh'],\n",
       " ['Pirnab', 'Chirnorb'],\n",
       " ['Hallaf', 'Iragordis', 'Olordave'],\n",
       " ['Trirnaf', 'Tickich', 'Drornorb', 'Glasasselle', 'Scomattoh'],\n",
       " ['Alrpad', 'Heklich'],\n",
       " ['Pinoddof', 'Aniladdich', 'Deggid', 'Quosassace'],\n",
       " ['Ekoxeb'],\n",
       " ['Scoscadle', 'Rogennaf', 'Fewaker'],\n",
       " ['Vockrich', 'Milarkunt'],\n",
       " ['Theladdottle'],\n",
       " ['Scafillion', 'Shelandai', 'Rascundle', 'Thellut'],\n",
       " ['Stifarrunt', 'Quappraf'],\n",
       " ['Rekillud', 'Ulckow', 'Legsid'],\n",
       " ['Pozed', 'Helarkel'],\n",
       " ['Nocinnaker'],\n",
       " ['Nekkis', 'Fapprif'],\n",
       " ['Stefillow'],\n",
       " ['Erokillid'],\n",
       " ['Urnnadle'],\n",
       " ['Pollox', 'Jomendish'],\n",
       " ['Pogordeb'],\n",
       " ['Grorpun', 'Ultendace', 'Detoldion'],\n",
       " ['Bolanda'],\n",
       " ['Thalandep', 'Maharkea'],\n",
       " ['Laggnan']]"
      ]
     },
     "execution_count": 8,
     "metadata": {},
     "output_type": "execute_result"
    }
   ],
   "source": [
    "[[person.name for person in t.population] for t in world.towns]"
   ]
  },
  {
   "cell_type": "markdown",
   "metadata": {},
   "source": [
    "Query the people in the town by setting conditions in the list. These people are the highest in temperment. "
   ]
  },
  {
   "cell_type": "code",
   "execution_count": 9,
   "metadata": {},
   "outputs": [
    {
     "data": {
      "text/plain": [
       "[[],\n",
       " [],\n",
       " [('Hallaf', 0.9), ('Olordave', 0.83)],\n",
       " [('Trirnaf', 0.94), ('Tickich', 0.6), ('Scomattoh', 0.67)],\n",
       " [('Alrpad', 0.8)],\n",
       " [('Pinoddof', 0.75), ('Deggid', 0.91)],\n",
       " [('Ekoxeb', 0.93)],\n",
       " [('Scoscadle', 0.64), ('Rogennaf', 0.78)],\n",
       " [('Milarkunt', 0.83)],\n",
       " [],\n",
       " [('Rascundle', 0.65), ('Thellut', 0.98)],\n",
       " [('Quappraf', 0.69)],\n",
       " [('Ulckow', 0.58), ('Legsid', 0.75)],\n",
       " [],\n",
       " [],\n",
       " [('Nekkis', 0.87), ('Fapprif', 0.97)],\n",
       " [('Stefillow', 0.53)],\n",
       " [],\n",
       " [('Urnnadle', 0.98)],\n",
       " [('Pollox', 0.61)],\n",
       " [('Pogordeb', 0.61)],\n",
       " [('Grorpun', 0.64), ('Ultendace', 0.67), ('Detoldion', 0.98)],\n",
       " [('Bolanda', 0.94)],\n",
       " [('Thalandep', 0.76), ('Maharkea', 0.51)],\n",
       " [('Laggnan', 0.96)]]"
      ]
     },
     "execution_count": 9,
     "metadata": {},
     "output_type": "execute_result"
    }
   ],
   "source": [
    "[[(person.name,person.temperment) for person in t.population if person.temperment>.5] for t in world.towns]"
   ]
  },
  {
   "cell_type": "markdown",
   "metadata": {},
   "source": [
    "You can also get summary stats on people. For example, the average temperment per town."
   ]
  },
  {
   "cell_type": "code",
   "execution_count": 10,
   "metadata": {},
   "outputs": [
    {
     "data": {
      "text/plain": [
       "[('Corerun', 0.3233333333333333),\n",
       " ('Hellcombe', 0.15000000000000002),\n",
       " ('Hardspring', 0.67),\n",
       " ('Earthrise', 0.6),\n",
       " ('Rockfort', 0.505),\n",
       " ('Kingsfellow', 0.46499999999999997),\n",
       " ('Stenchcraft', 0.93),\n",
       " ('Puregarden', 0.5),\n",
       " ('Hellspring', 0.42),\n",
       " ('Kingsloch', 0.26),\n",
       " ('Snowborourgh', 0.5525),\n",
       " ('Soilpike', 0.5249999999999999),\n",
       " ('Rageplace', 0.59),\n",
       " ('Lionhenge', 0.37),\n",
       " ('Heirwish', 0.23),\n",
       " ('Heirhenge', 0.9199999999999999),\n",
       " ('Starhenge', 0.53),\n",
       " ('Demonscrest', 0.33),\n",
       " ('Coretear', 0.98),\n",
       " ('Splitcombe', 0.47),\n",
       " ('Ratfort', 0.61),\n",
       " ('Lilyspring', 0.7633333333333333),\n",
       " ('Buckfold', 0.94),\n",
       " ('Warrun', 0.635),\n",
       " ('Flameforth', 0.96)]"
      ]
     },
     "execution_count": 10,
     "metadata": {},
     "output_type": "execute_result"
    }
   ],
   "source": [
    "[(t.name,np.mean([person.temperment for person in t.population])) for t in world.towns]"
   ]
  },
  {
   "cell_type": "markdown",
   "metadata": {},
   "source": [
    "For some purposes you may want to get a collection of people and edit them in bulk. This is also possible using list comprehension. "
   ]
  },
  {
   "cell_type": "code",
   "execution_count": 11,
   "metadata": {},
   "outputs": [
    {
     "data": {
      "text/html": [
       "<div>\n",
       "<style scoped>\n",
       "    .dataframe tbody tr th:only-of-type {\n",
       "        vertical-align: middle;\n",
       "    }\n",
       "\n",
       "    .dataframe tbody tr th {\n",
       "        vertical-align: top;\n",
       "    }\n",
       "\n",
       "    .dataframe thead th {\n",
       "        text-align: right;\n",
       "    }\n",
       "</style>\n",
       "<table border=\"1\" class=\"dataframe\">\n",
       "  <thead>\n",
       "    <tr style=\"text-align: right;\">\n",
       "      <th></th>\n",
       "      <th>y</th>\n",
       "      <th>rainfall</th>\n",
       "      <th>x</th>\n",
       "      <th>key</th>\n",
       "      <th>elevation</th>\n",
       "      <th>terrain</th>\n",
       "      <th>feature</th>\n",
       "      <th>nation number</th>\n",
       "      <th>nation</th>\n",
       "      <th>visited</th>\n",
       "      <th>aware</th>\n",
       "      <th>turn_last_visited</th>\n",
       "      <th>danger</th>\n",
       "    </tr>\n",
       "    <tr>\n",
       "      <th>key</th>\n",
       "      <th></th>\n",
       "      <th></th>\n",
       "      <th></th>\n",
       "      <th></th>\n",
       "      <th></th>\n",
       "      <th></th>\n",
       "      <th></th>\n",
       "      <th></th>\n",
       "      <th></th>\n",
       "      <th></th>\n",
       "      <th></th>\n",
       "      <th></th>\n",
       "      <th></th>\n",
       "    </tr>\n",
       "  </thead>\n",
       "  <tbody>\n",
       "    <tr>\n",
       "      <th>13:8</th>\n",
       "      <td>8</td>\n",
       "      <td>0.0</td>\n",
       "      <td>13</td>\n",
       "      <td>13:8</td>\n",
       "      <td>37.0</td>\n",
       "      <td>mountain</td>\n",
       "      <td>NaN</td>\n",
       "      <td>6.0</td>\n",
       "      <td>Starbrook</td>\n",
       "      <td>1</td>\n",
       "      <td>1</td>\n",
       "      <td>8</td>\n",
       "      <td>0.952</td>\n",
       "    </tr>\n",
       "    <tr>\n",
       "      <th>13:9</th>\n",
       "      <td>9</td>\n",
       "      <td>0.0</td>\n",
       "      <td>13</td>\n",
       "      <td>13:9</td>\n",
       "      <td>44.0</td>\n",
       "      <td>mountain</td>\n",
       "      <td>NaN</td>\n",
       "      <td>6.0</td>\n",
       "      <td>Starbrook</td>\n",
       "      <td>1</td>\n",
       "      <td>1</td>\n",
       "      <td>7</td>\n",
       "      <td>0.841</td>\n",
       "    </tr>\n",
       "    <tr>\n",
       "      <th>12:10</th>\n",
       "      <td>10</td>\n",
       "      <td>0.0</td>\n",
       "      <td>12</td>\n",
       "      <td>12:10</td>\n",
       "      <td>62.0</td>\n",
       "      <td>town</td>\n",
       "      <td>Rageplace</td>\n",
       "      <td>6.0</td>\n",
       "      <td>Starbrook</td>\n",
       "      <td>1</td>\n",
       "      <td>1</td>\n",
       "      <td>5</td>\n",
       "      <td>0.604</td>\n",
       "    </tr>\n",
       "    <tr>\n",
       "      <th>13:10</th>\n",
       "      <td>10</td>\n",
       "      <td>0.0</td>\n",
       "      <td>13</td>\n",
       "      <td>13:10</td>\n",
       "      <td>51.0</td>\n",
       "      <td>mountain</td>\n",
       "      <td>NaN</td>\n",
       "      <td>6.0</td>\n",
       "      <td>Starbrook</td>\n",
       "      <td>1</td>\n",
       "      <td>1</td>\n",
       "      <td>6</td>\n",
       "      <td>0.537</td>\n",
       "    </tr>\n",
       "  </tbody>\n",
       "</table>\n",
       "</div>"
      ],
      "text/plain": [
       "        y  rainfall   x    key  elevation   terrain    feature  nation number  \\\n",
       "key                                                                             \n",
       "13:8    8       0.0  13   13:8       37.0  mountain        NaN            6.0   \n",
       "13:9    9       0.0  13   13:9       44.0  mountain        NaN            6.0   \n",
       "12:10  10       0.0  12  12:10       62.0      town  Rageplace            6.0   \n",
       "13:10  10       0.0  13  13:10       51.0  mountain        NaN            6.0   \n",
       "\n",
       "          nation  visited  aware  turn_last_visited  danger  \n",
       "key                                                          \n",
       "13:8   Starbrook        1      1                  8   0.952  \n",
       "13:9   Starbrook        1      1                  7   0.841  \n",
       "12:10  Starbrook        1      1                  5   0.604  \n",
       "13:10  Starbrook        1      1                  6   0.537  "
      ]
     },
     "execution_count": 11,
     "metadata": {},
     "output_type": "execute_result"
    }
   ],
   "source": [
    "where_the_char_has_been = world.df_features.loc[world.df_features['visited']==1]\n",
    "where_the_char_has_been"
   ]
  },
  {
   "cell_type": "code",
   "execution_count": 12,
   "metadata": {},
   "outputs": [
    {
     "data": {
      "text/plain": [
       "array(['Starbrook'], dtype=object)"
      ]
     },
     "execution_count": 12,
     "metadata": {},
     "output_type": "execute_result"
    }
   ],
   "source": [
    "nations_where_character_has_been = np.unique(where_the_char_has_been['nation'])\n",
    "nations_where_character_has_been"
   ]
  },
  {
   "cell_type": "markdown",
   "metadata": {},
   "source": [
    "You can use this to get lists of people who the character knows. "
   ]
  },
  {
   "cell_type": "code",
   "execution_count": 13,
   "metadata": {},
   "outputs": [
    {
     "data": {
      "text/plain": [
       "[[town of Kingsloch: population: 1 location: [13,7] founded 3,\n",
       "  capitol of Rageplace: population: 2 location: [12,10] founded 4,\n",
       "  town of Ratfort: population: 1 location: [17,10] founded 8]]"
      ]
     },
     "execution_count": 13,
     "metadata": {},
     "output_type": "execute_result"
    }
   ],
   "source": [
    "[[t for t in n.towns] for n in world.nations if n.name in nations_where_character_has_been]"
   ]
  },
  {
   "cell_type": "code",
   "execution_count": 14,
   "metadata": {},
   "outputs": [
    {
     "data": {
      "text/plain": [
       "[[Theladdottle the Speaker of Kingsloch],\n",
       " [Rekillud the Speaker of Rageplace,\n",
       "  Ulckow the commoner,\n",
       "  Legsid the Ruler of the nation of Starbrook],\n",
       " [Pogordeb the Speaker of Ratfort]]"
      ]
     },
     "execution_count": 14,
     "metadata": {},
     "output_type": "execute_result"
    }
   ],
   "source": [
    "[[t for t in T.population] for T in world.towns if T.nation in nations_where_character_has_been]"
   ]
  },
  {
   "cell_type": "code",
   "execution_count": 15,
   "metadata": {
    "scrolled": true
   },
   "outputs": [
    {
     "data": {
      "text/plain": [
       "[[{'name': 'Theladdottle',\n",
       "   'role': 'Speaker of Kingsloch',\n",
       "   'loyalty': 0.5,\n",
       "   'temperment': 0.26,\n",
       "   'attributes': ['alive'],\n",
       "   'messages': ['Hello stranger.',\n",
       "    'None',\n",
       "    'None',\n",
       "    'What a great wedding. So glad the people of [Nation of Starbrook] are our friends.']}],\n",
       " [{'name': 'Rekillud',\n",
       "   'role': 'Speaker of Rageplace',\n",
       "   'loyalty': 0.5,\n",
       "   'temperment': 0.44,\n",
       "   'attributes': ['alive'],\n",
       "   'messages': ['Hello stranger.',\n",
       "    'None',\n",
       "    'None',\n",
       "    'What a great wedding. So glad the people of [Nation of Starbrook] are our friends.']},\n",
       "  {'name': 'Ulckow',\n",
       "   'role': 'commoner',\n",
       "   'loyalty': 0.5,\n",
       "   'temperment': 0.58,\n",
       "   'attributes': ['alive'],\n",
       "   'messages': ['Hello stranger.',\n",
       "    'None',\n",
       "    'None',\n",
       "    'What a great wedding. So glad the people of [Nation of Starbrook] are our friends.']},\n",
       "  {'name': 'Legsid',\n",
       "   'role': 'Ruler of the nation of Starbrook',\n",
       "   'loyalty': 0.5,\n",
       "   'temperment': 0.75,\n",
       "   'attributes': ['alive'],\n",
       "   'messages': ['Hello stranger.',\n",
       "    'None',\n",
       "    'None',\n",
       "    'What a great wedding. So glad the people of [Nation of Starbrook] are our friends.']}],\n",
       " [{'name': 'Pogordeb',\n",
       "   'role': 'Speaker of Ratfort',\n",
       "   'loyalty': 0.5,\n",
       "   'temperment': 0.61,\n",
       "   'attributes': ['alive'],\n",
       "   'messages': ['Hello stranger.',\n",
       "    'None',\n",
       "    'None',\n",
       "    'What a great wedding. So glad the people of [Nation of Starbrook] are our friends.']}]]"
      ]
     },
     "execution_count": 15,
     "metadata": {},
     "output_type": "execute_result"
    }
   ],
   "source": [
    "[[t.get_person_data() for t in T.population] for T in world.towns if T.nation in nations_where_character_has_been]"
   ]
  },
  {
   "cell_type": "code",
   "execution_count": 16,
   "metadata": {},
   "outputs": [
    {
     "data": {
      "text/plain": [
       "y                            7\n",
       "rainfall                     0\n",
       "x                           13\n",
       "key                       13:7\n",
       "elevation                   32\n",
       "terrain                   town\n",
       "feature              Kingsloch\n",
       "nation number                6\n",
       "nation               Starbrook\n",
       "visited                      0\n",
       "aware                        1\n",
       "turn_last_visited            0\n",
       "danger                   0.804\n",
       "Name: 13:7, dtype: object"
      ]
     },
     "execution_count": 16,
     "metadata": {},
     "output_type": "execute_result"
    }
   ],
   "source": [
    "masked_world.loc[world.Character.get_location_key()]"
   ]
  },
  {
   "cell_type": "markdown",
   "metadata": {},
   "source": [
    "You can query nations or towns. `world.nations` is a list of _nations_ and `world.towns` is a list of _towns_"
   ]
  },
  {
   "cell_type": "code",
   "execution_count": 17,
   "metadata": {
    "scrolled": true
   },
   "outputs": [
    {
     "data": {
      "text/html": [
       "<div>\n",
       "<style scoped>\n",
       "    .dataframe tbody tr th:only-of-type {\n",
       "        vertical-align: middle;\n",
       "    }\n",
       "\n",
       "    .dataframe tbody tr th {\n",
       "        vertical-align: top;\n",
       "    }\n",
       "\n",
       "    .dataframe thead th {\n",
       "        text-align: right;\n",
       "    }\n",
       "</style>\n",
       "<table border=\"1\" class=\"dataframe\">\n",
       "  <thead>\n",
       "    <tr style=\"text-align: right;\">\n",
       "      <th></th>\n",
       "      <th>y</th>\n",
       "      <th>rainfall</th>\n",
       "      <th>x</th>\n",
       "      <th>key</th>\n",
       "      <th>elevation</th>\n",
       "      <th>terrain</th>\n",
       "      <th>feature</th>\n",
       "      <th>nation number</th>\n",
       "      <th>nation</th>\n",
       "      <th>visited</th>\n",
       "      <th>aware</th>\n",
       "      <th>turn_last_visited</th>\n",
       "      <th>danger</th>\n",
       "    </tr>\n",
       "    <tr>\n",
       "      <th>key</th>\n",
       "      <th></th>\n",
       "      <th></th>\n",
       "      <th></th>\n",
       "      <th></th>\n",
       "      <th></th>\n",
       "      <th></th>\n",
       "      <th></th>\n",
       "      <th></th>\n",
       "      <th></th>\n",
       "      <th></th>\n",
       "      <th></th>\n",
       "      <th></th>\n",
       "      <th></th>\n",
       "    </tr>\n",
       "  </thead>\n",
       "  <tbody>\n",
       "    <tr>\n",
       "      <th>12:10</th>\n",
       "      <td>10</td>\n",
       "      <td>0.0</td>\n",
       "      <td>12</td>\n",
       "      <td>12:10</td>\n",
       "      <td>62.0</td>\n",
       "      <td>town</td>\n",
       "      <td>Rageplace</td>\n",
       "      <td>6.0</td>\n",
       "      <td>Starbrook</td>\n",
       "      <td>1</td>\n",
       "      <td>1</td>\n",
       "      <td>5</td>\n",
       "      <td>0.604</td>\n",
       "    </tr>\n",
       "  </tbody>\n",
       "</table>\n",
       "</div>"
      ],
      "text/plain": [
       "        y  rainfall   x    key  elevation terrain    feature  nation number  \\\n",
       "key                                                                           \n",
       "12:10  10       0.0  12  12:10       62.0    town  Rageplace            6.0   \n",
       "\n",
       "          nation  visited  aware  turn_last_visited  danger  \n",
       "key                                                          \n",
       "12:10  Starbrook        1      1                  5   0.604  "
      ]
     },
     "execution_count": 17,
     "metadata": {},
     "output_type": "execute_result"
    }
   ],
   "source": [
    "where_the_char_has_been = world.df_features.loc[(world.df_features['visited']==1)&\n",
    "                                                (world.df_features['terrain']=='town')]\n",
    "where_the_char_has_been"
   ]
  },
  {
   "cell_type": "markdown",
   "metadata": {},
   "source": [
    "## Getting the diplomacy and relationships data for the journal page"
   ]
  },
  {
   "cell_type": "code",
   "execution_count": 18,
   "metadata": {},
   "outputs": [
    {
     "data": {
      "text/plain": [
       "[{'town': capitol of Rageplace: population: 2 location: [12,10] founded 4,\n",
       "  'people': [Rekillud the Speaker of Rageplace,\n",
       "   Ulckow the commoner,\n",
       "   Legsid the Ruler of the nation of Starbrook]}]"
      ]
     },
     "execution_count": 18,
     "metadata": {},
     "output_type": "execute_result"
    }
   ],
   "source": [
    "rel = w.get_people_where_char_has_visited(world)\n",
    "rel"
   ]
  },
  {
   "cell_type": "code",
   "execution_count": 19,
   "metadata": {},
   "outputs": [
    {
     "data": {
      "text/plain": [
       "[{'name': 'Rageplace',\n",
       "  'children': [{'name': 'Rekillud',\n",
       "    'role': 'Speaker of Rageplace',\n",
       "    'temperment': 0.44,\n",
       "    'loyalty': 0.5},\n",
       "   {'name': 'Ulckow', 'role': 'commoner', 'temperment': 0.58, 'loyalty': 0.5},\n",
       "   {'name': 'Legsid',\n",
       "    'role': 'Ruler of the nation of Starbrook',\n",
       "    'temperment': 0.75,\n",
       "    'loyalty': 0.5}]}]"
      ]
     },
     "execution_count": 19,
     "metadata": {},
     "output_type": "execute_result"
    }
   ],
   "source": [
    "w.get_relationships_node_map(world)"
   ]
  },
  {
   "cell_type": "code",
   "execution_count": null,
   "metadata": {},
   "outputs": [],
   "source": []
  }
 ],
 "metadata": {
  "kernelspec": {
   "display_name": "Python 3",
   "language": "python",
   "name": "python3"
  },
  "language_info": {
   "codemirror_mode": {
    "name": "ipython",
    "version": 3
   },
   "file_extension": ".py",
   "mimetype": "text/x-python",
   "name": "python",
   "nbconvert_exporter": "python",
   "pygments_lexer": "ipython3",
   "version": "3.7.3"
  }
 },
 "nbformat": 4,
 "nbformat_minor": 2
}
