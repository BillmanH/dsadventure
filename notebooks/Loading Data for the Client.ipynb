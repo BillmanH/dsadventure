{
 "cells": [
  {
   "cell_type": "markdown",
   "metadata": {},
   "source": [
    "# Getting the info that the client needs for D3.js\n",
    "\n",
    "Often it is easier to transform data in the backend to be used by D3. In general all data in D3 needs to be a list of dicts. In this example I'm using an existing `world` object to demonstrate the methods that do these transformations. "
   ]
  },
  {
   "cell_type": "code",
   "execution_count": 1,
   "metadata": {},
   "outputs": [],
   "source": [
    "#I'm mapping to the actual files in the repo so that I can also use this to troubleshoot\n",
    "import os\n",
    "import sys\n",
    "import numpy as np\n",
    "import pandas as pd\n",
    "import pickle\n",
    "import django\n",
    "sys.path.append('../..')\n",
    "#Loading my project settings from prodweb. This allows me to load and query models. \n",
    "os.environ.setdefault('DJANGO_SETTINGS_MODULE', 'prodweb.settings')\n",
    "django.setup()\n",
    "\n",
    "\n",
    "with (open(\"../pickles/billmanhworld.pkl\", 'rb')) as pickle_file:\n",
    "    world = pickle.load(pickle_file)"
   ]
  },
  {
   "cell_type": "code",
   "execution_count": 2,
   "metadata": {
    "scrolled": true
   },
   "outputs": [],
   "source": [
    "sys.path.append('..')\n",
    "from lib.builders import world as w"
   ]
  },
  {
   "cell_type": "markdown",
   "metadata": {},
   "source": [
    "`w.get_area_data(world)` gets the area relevant to where the character is. This includes surrounding areas."
   ]
  },
  {
   "cell_type": "code",
   "execution_count": 3,
   "metadata": {},
   "outputs": [
    {
     "data": {
      "text/plain": [
       "<game.lib.builders.world.World at 0x7f093db3ac50>"
      ]
     },
     "execution_count": 3,
     "metadata": {},
     "output_type": "execute_result"
    }
   ],
   "source": [
    "world"
   ]
  },
  {
   "cell_type": "code",
   "execution_count": 4,
   "metadata": {},
   "outputs": [
    {
     "name": "stdout",
     "output_type": "stream",
     "text": [
      "[1, 17]\n"
     ]
    },
    {
     "data": {
      "text/html": [
       "<div>\n",
       "<style scoped>\n",
       "    .dataframe tbody tr th:only-of-type {\n",
       "        vertical-align: middle;\n",
       "    }\n",
       "\n",
       "    .dataframe tbody tr th {\n",
       "        vertical-align: top;\n",
       "    }\n",
       "\n",
       "    .dataframe thead th {\n",
       "        text-align: right;\n",
       "    }\n",
       "</style>\n",
       "<table border=\"1\" class=\"dataframe\">\n",
       "  <thead>\n",
       "    <tr style=\"text-align: right;\">\n",
       "      <th></th>\n",
       "      <th>aware</th>\n",
       "      <th>danger</th>\n",
       "      <th>elevation</th>\n",
       "      <th>feature</th>\n",
       "      <th>key</th>\n",
       "      <th>nation</th>\n",
       "      <th>nation number</th>\n",
       "      <th>rainfall</th>\n",
       "      <th>terrain</th>\n",
       "      <th>turn_last_visited</th>\n",
       "      <th>visited</th>\n",
       "      <th>x</th>\n",
       "      <th>y</th>\n",
       "    </tr>\n",
       "  </thead>\n",
       "  <tbody>\n",
       "    <tr>\n",
       "      <th>area</th>\n",
       "      <td>1</td>\n",
       "      <td>0.153</td>\n",
       "      <td>12</td>\n",
       "      <td>Heartblade</td>\n",
       "      <td>1:17</td>\n",
       "      <td>Artbridge</td>\n",
       "      <td>2</td>\n",
       "      <td>15</td>\n",
       "      <td>town</td>\n",
       "      <td>2</td>\n",
       "      <td>1</td>\n",
       "      <td>1</td>\n",
       "      <td>17</td>\n",
       "    </tr>\n",
       "    <tr>\n",
       "      <th>NArea</th>\n",
       "      <td>1</td>\n",
       "      <td>0.339</td>\n",
       "      <td>9</td>\n",
       "      <td>none</td>\n",
       "      <td>1:16</td>\n",
       "      <td>Artbridge</td>\n",
       "      <td>2</td>\n",
       "      <td>11</td>\n",
       "      <td>plain</td>\n",
       "      <td>3</td>\n",
       "      <td>1</td>\n",
       "      <td>1</td>\n",
       "      <td>16</td>\n",
       "    </tr>\n",
       "    <tr>\n",
       "      <th>SArea</th>\n",
       "      <td>1</td>\n",
       "      <td>0.56</td>\n",
       "      <td>15</td>\n",
       "      <td>none</td>\n",
       "      <td>1:18</td>\n",
       "      <td>Artbridge</td>\n",
       "      <td>2</td>\n",
       "      <td>22</td>\n",
       "      <td>plain</td>\n",
       "      <td>0</td>\n",
       "      <td>0</td>\n",
       "      <td>1</td>\n",
       "      <td>18</td>\n",
       "    </tr>\n",
       "    <tr>\n",
       "      <th>EArea</th>\n",
       "      <td>1</td>\n",
       "      <td>0.338</td>\n",
       "      <td>13</td>\n",
       "      <td>none</td>\n",
       "      <td>2:17</td>\n",
       "      <td>Artbridge</td>\n",
       "      <td>2</td>\n",
       "      <td>11</td>\n",
       "      <td>plain</td>\n",
       "      <td>0</td>\n",
       "      <td>0</td>\n",
       "      <td>2</td>\n",
       "      <td>17</td>\n",
       "    </tr>\n",
       "    <tr>\n",
       "      <th>WArea</th>\n",
       "      <td>1</td>\n",
       "      <td>0.27</td>\n",
       "      <td>12</td>\n",
       "      <td>none</td>\n",
       "      <td>0:17</td>\n",
       "      <td>Artbridge</td>\n",
       "      <td>2</td>\n",
       "      <td>19</td>\n",
       "      <td>plain</td>\n",
       "      <td>0</td>\n",
       "      <td>0</td>\n",
       "      <td>0</td>\n",
       "      <td>17</td>\n",
       "    </tr>\n",
       "  </tbody>\n",
       "</table>\n",
       "</div>"
      ],
      "text/plain": [
       "      aware danger elevation     feature   key     nation nation number  \\\n",
       "area      1  0.153        12  Heartblade  1:17  Artbridge             2   \n",
       "NArea     1  0.339         9        none  1:16  Artbridge             2   \n",
       "SArea     1   0.56        15        none  1:18  Artbridge             2   \n",
       "EArea     1  0.338        13        none  2:17  Artbridge             2   \n",
       "WArea     1   0.27        12        none  0:17  Artbridge             2   \n",
       "\n",
       "      rainfall terrain turn_last_visited visited  x   y  \n",
       "area        15    town                 2       1  1  17  \n",
       "NArea       11   plain                 3       1  1  16  \n",
       "SArea       22   plain                 0       0  1  18  \n",
       "EArea       11   plain                 0       0  2  17  \n",
       "WArea       19   plain                 0       0  0  17  "
      ]
     },
     "execution_count": 4,
     "metadata": {},
     "output_type": "execute_result"
    }
   ],
   "source": [
    "print(world.Character.location)\n",
    "pd.DataFrame(w.get_area_data(world)).T"
   ]
  },
  {
   "cell_type": "markdown",
   "metadata": {},
   "source": [
    "For other game principals, it's easy to just make regular `pandas` and `numpy` queries on those datasets. "
   ]
  },
  {
   "cell_type": "code",
   "execution_count": 5,
   "metadata": {
    "scrolled": true
   },
   "outputs": [
    {
     "data": {
      "text/plain": [
       "True"
      ]
     },
     "execution_count": 5,
     "metadata": {},
     "output_type": "execute_result"
    }
   ],
   "source": [
    "world.df_features.loc[world.Character.get_location_key(),'visited'] >= 1"
   ]
  },
  {
   "cell_type": "markdown",
   "metadata": {},
   "source": [
    "Querying the terrain is easy as well. For example, here is a query of all of the world where the _terrain_ is _desert_ and the _danger_ is above .5. These queries are fast and cheap. "
   ]
  },
  {
   "cell_type": "code",
   "execution_count": 6,
   "metadata": {
    "scrolled": true
   },
   "outputs": [
    {
     "data": {
      "text/html": [
       "<div>\n",
       "<style scoped>\n",
       "    .dataframe tbody tr th:only-of-type {\n",
       "        vertical-align: middle;\n",
       "    }\n",
       "\n",
       "    .dataframe tbody tr th {\n",
       "        vertical-align: top;\n",
       "    }\n",
       "\n",
       "    .dataframe thead th {\n",
       "        text-align: right;\n",
       "    }\n",
       "</style>\n",
       "<table border=\"1\" class=\"dataframe\">\n",
       "  <thead>\n",
       "    <tr style=\"text-align: right;\">\n",
       "      <th></th>\n",
       "      <th>y</th>\n",
       "      <th>rainfall</th>\n",
       "      <th>x</th>\n",
       "      <th>key</th>\n",
       "      <th>elevation</th>\n",
       "      <th>terrain</th>\n",
       "      <th>feature</th>\n",
       "      <th>nation number</th>\n",
       "      <th>nation</th>\n",
       "      <th>visited</th>\n",
       "      <th>aware</th>\n",
       "      <th>turn_last_visited</th>\n",
       "      <th>danger</th>\n",
       "    </tr>\n",
       "    <tr>\n",
       "      <th>key</th>\n",
       "      <th></th>\n",
       "      <th></th>\n",
       "      <th></th>\n",
       "      <th></th>\n",
       "      <th></th>\n",
       "      <th></th>\n",
       "      <th></th>\n",
       "      <th></th>\n",
       "      <th></th>\n",
       "      <th></th>\n",
       "      <th></th>\n",
       "      <th></th>\n",
       "      <th></th>\n",
       "    </tr>\n",
       "  </thead>\n",
       "  <tbody>\n",
       "    <tr>\n",
       "      <th>6:0</th>\n",
       "      <td>0</td>\n",
       "      <td>0.0</td>\n",
       "      <td>6</td>\n",
       "      <td>6:0</td>\n",
       "      <td>8.0</td>\n",
       "      <td>desert</td>\n",
       "      <td>NaN</td>\n",
       "      <td>1</td>\n",
       "      <td>Fallwish</td>\n",
       "      <td>0</td>\n",
       "      <td>1</td>\n",
       "      <td>0</td>\n",
       "      <td>0.613</td>\n",
       "    </tr>\n",
       "    <tr>\n",
       "      <th>7:0</th>\n",
       "      <td>0</td>\n",
       "      <td>0.0</td>\n",
       "      <td>7</td>\n",
       "      <td>7:0</td>\n",
       "      <td>9.0</td>\n",
       "      <td>desert</td>\n",
       "      <td>NaN</td>\n",
       "      <td>1</td>\n",
       "      <td>Fallwish</td>\n",
       "      <td>0</td>\n",
       "      <td>1</td>\n",
       "      <td>0</td>\n",
       "      <td>0.850</td>\n",
       "    </tr>\n",
       "    <tr>\n",
       "      <th>10:0</th>\n",
       "      <td>0</td>\n",
       "      <td>0.0</td>\n",
       "      <td>10</td>\n",
       "      <td>10:0</td>\n",
       "      <td>19.0</td>\n",
       "      <td>desert</td>\n",
       "      <td>NaN</td>\n",
       "      <td>1</td>\n",
       "      <td>Fallwish</td>\n",
       "      <td>0</td>\n",
       "      <td>1</td>\n",
       "      <td>0</td>\n",
       "      <td>0.607</td>\n",
       "    </tr>\n",
       "    <tr>\n",
       "      <th>11:0</th>\n",
       "      <td>0</td>\n",
       "      <td>0.0</td>\n",
       "      <td>11</td>\n",
       "      <td>11:0</td>\n",
       "      <td>20.0</td>\n",
       "      <td>desert</td>\n",
       "      <td>NaN</td>\n",
       "      <td>1</td>\n",
       "      <td>Fallwish</td>\n",
       "      <td>0</td>\n",
       "      <td>1</td>\n",
       "      <td>0</td>\n",
       "      <td>0.578</td>\n",
       "    </tr>\n",
       "    <tr>\n",
       "      <th>38:0</th>\n",
       "      <td>0</td>\n",
       "      <td>0.0</td>\n",
       "      <td>38</td>\n",
       "      <td>38:0</td>\n",
       "      <td>9.0</td>\n",
       "      <td>desert</td>\n",
       "      <td>NaN</td>\n",
       "      <td>5</td>\n",
       "      <td>Kingsborourgh</td>\n",
       "      <td>0</td>\n",
       "      <td>1</td>\n",
       "      <td>0</td>\n",
       "      <td>0.658</td>\n",
       "    </tr>\n",
       "  </tbody>\n",
       "</table>\n",
       "</div>"
      ],
      "text/plain": [
       "      y  rainfall   x   key  elevation terrain feature  nation number  \\\n",
       "key                                                                     \n",
       "6:0   0       0.0   6   6:0        8.0  desert     NaN              1   \n",
       "7:0   0       0.0   7   7:0        9.0  desert     NaN              1   \n",
       "10:0  0       0.0  10  10:0       19.0  desert     NaN              1   \n",
       "11:0  0       0.0  11  11:0       20.0  desert     NaN              1   \n",
       "38:0  0       0.0  38  38:0        9.0  desert     NaN              5   \n",
       "\n",
       "             nation  visited  aware  turn_last_visited  danger  \n",
       "key                                                             \n",
       "6:0        Fallwish        0      1                  0   0.613  \n",
       "7:0        Fallwish        0      1                  0   0.850  \n",
       "10:0       Fallwish        0      1                  0   0.607  \n",
       "11:0       Fallwish        0      1                  0   0.578  \n",
       "38:0  Kingsborourgh        0      1                  0   0.658  "
      ]
     },
     "execution_count": 6,
     "metadata": {},
     "output_type": "execute_result"
    }
   ],
   "source": [
    "world.df_features.loc[(world.df_features['terrain']=='desert') & \n",
    "                     (world.df_features['danger']>=.5)].head()"
   ]
  },
  {
   "cell_type": "markdown",
   "metadata": {},
   "source": [
    "You can also _mask_ the terrain where the character has no knowledge. "
   ]
  },
  {
   "cell_type": "code",
   "execution_count": 7,
   "metadata": {
    "scrolled": false
   },
   "outputs": [
    {
     "data": {
      "text/html": [
       "<div>\n",
       "<style scoped>\n",
       "    .dataframe tbody tr th:only-of-type {\n",
       "        vertical-align: middle;\n",
       "    }\n",
       "\n",
       "    .dataframe tbody tr th {\n",
       "        vertical-align: top;\n",
       "    }\n",
       "\n",
       "    .dataframe thead th {\n",
       "        text-align: right;\n",
       "    }\n",
       "</style>\n",
       "<table border=\"1\" class=\"dataframe\">\n",
       "  <thead>\n",
       "    <tr style=\"text-align: right;\">\n",
       "      <th></th>\n",
       "      <th>y</th>\n",
       "      <th>rainfall</th>\n",
       "      <th>x</th>\n",
       "      <th>key</th>\n",
       "      <th>elevation</th>\n",
       "      <th>terrain</th>\n",
       "      <th>feature</th>\n",
       "      <th>nation number</th>\n",
       "      <th>nation</th>\n",
       "      <th>visited</th>\n",
       "      <th>aware</th>\n",
       "      <th>turn_last_visited</th>\n",
       "      <th>danger</th>\n",
       "    </tr>\n",
       "    <tr>\n",
       "      <th>key</th>\n",
       "      <th></th>\n",
       "      <th></th>\n",
       "      <th></th>\n",
       "      <th></th>\n",
       "      <th></th>\n",
       "      <th></th>\n",
       "      <th></th>\n",
       "      <th></th>\n",
       "      <th></th>\n",
       "      <th></th>\n",
       "      <th></th>\n",
       "      <th></th>\n",
       "      <th></th>\n",
       "    </tr>\n",
       "  </thead>\n",
       "  <tbody>\n",
       "    <tr>\n",
       "      <th>0:0</th>\n",
       "      <td>0</td>\n",
       "      <td>0.0</td>\n",
       "      <td>0</td>\n",
       "      <td>0:0</td>\n",
       "      <td>0.0</td>\n",
       "      <td>ocean</td>\n",
       "      <td>NaN</td>\n",
       "      <td>1</td>\n",
       "      <td>Fallwish</td>\n",
       "      <td>0</td>\n",
       "      <td>1</td>\n",
       "      <td>0</td>\n",
       "      <td>0.221</td>\n",
       "    </tr>\n",
       "    <tr>\n",
       "      <th>1:0</th>\n",
       "      <td>0</td>\n",
       "      <td>0.0</td>\n",
       "      <td>1</td>\n",
       "      <td>1:0</td>\n",
       "      <td>2.0</td>\n",
       "      <td>ocean</td>\n",
       "      <td>NaN</td>\n",
       "      <td>1</td>\n",
       "      <td>Fallwish</td>\n",
       "      <td>0</td>\n",
       "      <td>1</td>\n",
       "      <td>0</td>\n",
       "      <td>-0.567</td>\n",
       "    </tr>\n",
       "    <tr>\n",
       "      <th>2:0</th>\n",
       "      <td>0</td>\n",
       "      <td>0.0</td>\n",
       "      <td>2</td>\n",
       "      <td>2:0</td>\n",
       "      <td>1.0</td>\n",
       "      <td>ocean</td>\n",
       "      <td>NaN</td>\n",
       "      <td>1</td>\n",
       "      <td>Fallwish</td>\n",
       "      <td>0</td>\n",
       "      <td>1</td>\n",
       "      <td>0</td>\n",
       "      <td>0.406</td>\n",
       "    </tr>\n",
       "    <tr>\n",
       "      <th>3:0</th>\n",
       "      <td>0</td>\n",
       "      <td>0.0</td>\n",
       "      <td>3</td>\n",
       "      <td>3:0</td>\n",
       "      <td>0.0</td>\n",
       "      <td>ocean</td>\n",
       "      <td>NaN</td>\n",
       "      <td>1</td>\n",
       "      <td>Fallwish</td>\n",
       "      <td>0</td>\n",
       "      <td>1</td>\n",
       "      <td>0</td>\n",
       "      <td>0.081</td>\n",
       "    </tr>\n",
       "    <tr>\n",
       "      <th>4:0</th>\n",
       "      <td>0</td>\n",
       "      <td>0.0</td>\n",
       "      <td>4</td>\n",
       "      <td>4:0</td>\n",
       "      <td>1.0</td>\n",
       "      <td>ocean</td>\n",
       "      <td>NaN</td>\n",
       "      <td>1</td>\n",
       "      <td>Fallwish</td>\n",
       "      <td>0</td>\n",
       "      <td>1</td>\n",
       "      <td>0</td>\n",
       "      <td>-0.416</td>\n",
       "    </tr>\n",
       "  </tbody>\n",
       "</table>\n",
       "</div>"
      ],
      "text/plain": [
       "     y  rainfall  x  key  elevation terrain feature nation number    nation  \\\n",
       "key                                                                           \n",
       "0:0  0       0.0  0  0:0        0.0   ocean     NaN             1  Fallwish   \n",
       "1:0  0       0.0  1  1:0        2.0   ocean     NaN             1  Fallwish   \n",
       "2:0  0       0.0  2  2:0        1.0   ocean     NaN             1  Fallwish   \n",
       "3:0  0       0.0  3  3:0        0.0   ocean     NaN             1  Fallwish   \n",
       "4:0  0       0.0  4  4:0        1.0   ocean     NaN             1  Fallwish   \n",
       "\n",
       "     visited  aware  turn_last_visited  danger  \n",
       "key                                             \n",
       "0:0        0      1                  0   0.221  \n",
       "1:0        0      1                  0  -0.567  \n",
       "2:0        0      1                  0   0.406  \n",
       "3:0        0      1                  0   0.081  \n",
       "4:0        0      1                  0  -0.416  "
      ]
     },
     "execution_count": 7,
     "metadata": {},
     "output_type": "execute_result"
    }
   ],
   "source": [
    "masked_world = w.mask_unknown(world)\n",
    "world.Character.title = \"Noble\"\n",
    "masked_world.head()"
   ]
  },
  {
   "cell_type": "markdown",
   "metadata": {},
   "source": [
    "## Analysis via list comprehension"
   ]
  },
  {
   "cell_type": "markdown",
   "metadata": {},
   "source": [
    "Querying people is also easy, but you need to use _list comprehension_ to do it. This is the general structure. "
   ]
  },
  {
   "cell_type": "code",
   "execution_count": 8,
   "metadata": {},
   "outputs": [
    {
     "data": {
      "text/plain": [
       "[Stiboldox the Speaker of Fairhail,\n",
       " Akillit the Speaker of Heartblade,\n",
       " Feffis the Speaker of Buckkeep,\n",
       " Hicklab the commoner,\n",
       " Chacher the Speaker of Kingsfold,\n",
       " Scommaker the Speaker of Stonemark,\n",
       " Elekellunt the commoner,\n",
       " Oggesh the Speaker of Ratcrest,\n",
       " Shoppol the Speaker of Foundersborourgh,\n",
       " Ulcklolen the commoner,\n",
       " Groklipoch the commoner,\n",
       " Tavort the commoner,\n",
       " Trihorkol the Speaker of Tearblaze,\n",
       " Erelordadle the Speaker of Tearrest,\n",
       " Oltoldob the commoner,\n",
       " Quiwildem the commoner,\n",
       " Urcarraker the Speaker of Foundersplace,\n",
       " Mospaker the Speaker of Fentown,\n",
       " Sesalkomir the commoner,\n",
       " Ekipeltart the commoner,\n",
       " Anikilleb the commoner,\n",
       " Kilsoth the commoner,\n",
       " Chacinnal the Speaker of Snakeblade,\n",
       " Domatter the Speaker of Leafspring,\n",
       " Febranam the Speaker of Landsblade,\n",
       " Saldrad the commoner,\n",
       " Erjenna the commoner,\n",
       " Fehorkard the commoner,\n",
       " Nozac the commoner,\n",
       " Quorpal the Speaker of Rockmelt,\n",
       " Anascin the Speaker of Godjaw,\n",
       " Truladdep the commoner,\n",
       " Prankand the commoner,\n",
       " Heklipai the commoner,\n",
       " Nohorkah the commoner,\n",
       " Tricksash the Speaker of Badgerchild,\n",
       " Anacksur the Speaker of Demonsfold,\n",
       " Thommel the commoner,\n",
       " Quildam the commoner,\n",
       " Olppnan the commoner,\n",
       " Mepartaker the commoner,\n",
       " Derpach the commoner,\n",
       " Lokliport the commoner,\n",
       " Orpeltunder the commoner,\n",
       " Stuldrart the commoner,\n",
       " Bayellust the commoner,\n",
       " Groplomir the commoner,\n",
       " Bochith the Speaker of Doomhail,\n",
       " Zhawallob the Speaker of Solspring,\n",
       " Stecinnof the Speaker of Splithammer,\n",
       " Droladdnan the commoner,\n",
       " Scorpove the commoner,\n",
       " Elohut the commoner,\n",
       " Zhoblat the commoner,\n",
       " Vadellek the commoner,\n",
       " Ekolla the commoner,\n",
       " Thaladdel the ruler of Starloch,\n",
       " Fockra the ruler of Fallwish,\n",
       " Elirpich the ruler of Artbridge,\n",
       " Shaklan the ruler of Tearring,\n",
       " Akiyellox the ruler of Fallfold,\n",
       " Zhocinnish the ruler of Kingsborourgh,\n",
       " Fapprumber the ruler of Hellhail,\n",
       " Bebranai the ruler of Buckfort]"
      ]
     },
     "execution_count": 8,
     "metadata": {},
     "output_type": "execute_result"
    }
   ],
   "source": [
    "world.people\n"
   ]
  },
  {
   "cell_type": "markdown",
   "metadata": {},
   "source": [
    "Query the people in the town by setting conditions in the list. These people are the highest in temperment. "
   ]
  },
  {
   "cell_type": "code",
   "execution_count": 9,
   "metadata": {},
   "outputs": [
    {
     "data": {
      "text/plain": [
       "[[('Ulcklolen', 0.53)],\n",
       " [('Hicklab', 0.98), ('Elekellunt', 1.0)],\n",
       " [('Ekipeltart', 0.93),\n",
       "  ('Saldrad', 0.81),\n",
       "  ('Truladdep', 0.61),\n",
       "  ('Quildam', 0.73)],\n",
       " [('Chacher', 0.78), ('Olppnan', 0.66), ('Scorpove', 0.65), ('Fockra', 0.72)],\n",
       " [('Elohut', 0.84)],\n",
       " [('Oggesh', 0.8),\n",
       "  ('Anikilleb', 0.92),\n",
       "  ('Mepartaker', 0.97),\n",
       "  ('Shaklan', 0.84)],\n",
       " [('Shoppol', 0.81), ('Derpach', 0.9), ('Zhoblat', 0.58)],\n",
       " [('Kilsoth', 0.78)],\n",
       " [('Erelordadle', 0.74),\n",
       "  ('Quiwildem', 0.69),\n",
       "  ('Lokliport', 0.52),\n",
       "  ('Thaladdel', 0.62)],\n",
       " [('Prankand', 0.55), ('Akiyellox', 0.59)],\n",
       " [('Nozac', 0.91)],\n",
       " [],\n",
       " [('Nohorkah', 0.87)],\n",
       " [],\n",
       " [],\n",
       " [],\n",
       " [('Tricksash', 0.94), ('Groplomir', 0.97)],\n",
       " [],\n",
       " [('Bochith', 0.59)],\n",
       " [('Zhawallob', 0.95), ('Ekolla', 0.53), ('Zhocinnish', 0.98)],\n",
       " []]"
      ]
     },
     "execution_count": 9,
     "metadata": {},
     "output_type": "execute_result"
    }
   ],
   "source": [
    "[[(person.name,person.temperment) for person in t.get_population(world) if person.temperment>.5] for t in world.towns]"
   ]
  },
  {
   "cell_type": "markdown",
   "metadata": {},
   "source": [
    "You can also get summary stats on towns. For example, the average temperment per town."
   ]
  },
  {
   "cell_type": "code",
   "execution_count": 10,
   "metadata": {},
   "outputs": [
    {
     "data": {
      "text/plain": [
       "[('Fairhail', 0.3325),\n",
       " ('Heartblade', 0.618),\n",
       " ('Buckkeep', 0.53),\n",
       " ('Kingsfold', 0.608),\n",
       " ('Stonemark', 0.485),\n",
       " ('Ratcrest', 0.756),\n",
       " ('Foundersborourgh', 0.528),\n",
       " ('Tearblaze', 0.41000000000000003),\n",
       " ('Tearrest', 0.562),\n",
       " ('Foundersplace', 0.34800000000000003),\n",
       " ('Fentown', 0.68),\n",
       " ('Snakeblade', 0.08),\n",
       " ('Leafspring', 0.59),\n",
       " ('Landsblade', 0.5),\n",
       " ('Rockmelt', 0.295),\n",
       " ('Godjaw', 0.345),\n",
       " ('Badgerchild', 0.955),\n",
       " ('Demonsfold', 0.41),\n",
       " ('Doomhail', 0.59),\n",
       " ('Solspring', 0.82),\n",
       " ('Splithammer', 0.03)]"
      ]
     },
     "execution_count": 10,
     "metadata": {},
     "output_type": "execute_result"
    }
   ],
   "source": [
    "[(t.name,np.mean([person.temperment for person in t.get_population(world)])) for t in world.towns]"
   ]
  },
  {
   "cell_type": "markdown",
   "metadata": {},
   "source": [
    "For some purposes you may want to get a collection of people and edit them in bulk. This is also possible using list comprehension. "
   ]
  },
  {
   "cell_type": "code",
   "execution_count": 11,
   "metadata": {},
   "outputs": [
    {
     "data": {
      "text/plain": [
       "[{'town': capitol of Heartblade. Location: [1:17]. Founded 1101 </br>In the nation of Artbridge,\n",
       "  'people': [Akillit the Speaker of Heartblade,\n",
       "   Hicklab the commoner,\n",
       "   Elekellunt the commoner,\n",
       "   Thommel the commoner,\n",
       "   Elirpich the ruler of Artbridge]}]"
      ]
     },
     "execution_count": 11,
     "metadata": {},
     "output_type": "execute_result"
    }
   ],
   "source": [
    "w.get_people_where_char_has_visited(world)"
   ]
  },
  {
   "cell_type": "code",
   "execution_count": 12,
   "metadata": {},
   "outputs": [
    {
     "data": {
      "text/plain": [
       "{'town': capitol of Heartblade. Location: [1:17]. Founded 1101 </br>In the nation of Artbridge,\n",
       " 'people': [Akillit the Speaker of Heartblade,\n",
       "  Hicklab the commoner,\n",
       "  Elekellunt the commoner,\n",
       "  Thommel the commoner,\n",
       "  Elirpich the ruler of Artbridge]}"
      ]
     },
     "execution_count": 12,
     "metadata": {},
     "output_type": "execute_result"
    }
   ],
   "source": [
    "r = w.get_people_where_char_has_visited(world)[0]\n",
    "r"
   ]
  },
  {
   "cell_type": "code",
   "execution_count": 13,
   "metadata": {},
   "outputs": [
    {
     "data": {
      "text/plain": [
       "'Artbridge'"
      ]
     },
     "execution_count": 13,
     "metadata": {},
     "output_type": "execute_result"
    }
   ],
   "source": [
    "r['town'].nation"
   ]
  },
  {
   "cell_type": "code",
   "execution_count": 14,
   "metadata": {},
   "outputs": [
    {
     "data": {
      "text/plain": [
       "[{'name': 'Heartblade',\n",
       "  'title': 'capitol of Heartblade. Location',\n",
       "  'nation': 'Artbridge',\n",
       "  'population': 5,\n",
       "  'type': 'capitol',\n",
       "  'location': '1:17',\n",
       "  'founded year': 1101,\n",
       "  'children': [{'name': 'Akillit',\n",
       "    'role': 'Speaker of Heartblade',\n",
       "    'temperment': 0.38,\n",
       "    'loyalty': 0.5,\n",
       "    'type': 'person'},\n",
       "   {'name': 'Hicklab',\n",
       "    'role': 'commoner',\n",
       "    'temperment': 0.98,\n",
       "    'loyalty': 0.5,\n",
       "    'type': 'person'},\n",
       "   {'name': 'Elekellunt',\n",
       "    'role': 'commoner',\n",
       "    'temperment': 1.0,\n",
       "    'loyalty': 0.5,\n",
       "    'type': 'person'},\n",
       "   {'name': 'Thommel',\n",
       "    'role': 'commoner',\n",
       "    'temperment': 0.33,\n",
       "    'loyalty': 0.5,\n",
       "    'type': 'person'},\n",
       "   {'name': 'Elirpich',\n",
       "    'role': 'ruler of Artbridge',\n",
       "    'temperment': 0.4,\n",
       "    'loyalty': 1,\n",
       "    'type': 'person'}]}]"
      ]
     },
     "execution_count": 14,
     "metadata": {},
     "output_type": "execute_result"
    }
   ],
   "source": [
    "w.get_relationships_node_map(world)"
   ]
  },
  {
   "cell_type": "markdown",
   "metadata": {},
   "source": [
    "## Getting map data (mapData): "
   ]
  },
  {
   "cell_type": "markdown",
   "metadata": {},
   "source": [
    "You can use this to get lists of people who the character knows. "
   ]
  },
  {
   "cell_type": "code",
   "execution_count": 20,
   "metadata": {},
   "outputs": [
    {
     "data": {
      "text/plain": [
       "[('Buckfort', 'Fairhail'),\n",
       " ('Artbridge', 'Heartblade'),\n",
       " ('Buckfort', 'Buckkeep'),\n",
       " ('Fallwish', 'Kingsfold'),\n",
       " ('Fallwish', 'Stonemark'),\n",
       " ('Tearring', 'Ratcrest'),\n",
       " ('Hellhail', 'Foundersborourgh'),\n",
       " ('Buckfort', 'Tearblaze'),\n",
       " ('Starloch', 'Tearrest'),\n",
       " ('Fallfold', 'Foundersplace'),\n",
       " ('Artbridge', 'Fentown'),\n",
       " ('Starloch', 'Snakeblade'),\n",
       " ('Fallwish', 'Leafspring'),\n",
       " ('Fallwish', 'Landsblade'),\n",
       " ('Starloch', 'Rockmelt'),\n",
       " ('Starloch', 'Godjaw'),\n",
       " ('Buckfort', 'Badgerchild'),\n",
       " ('Fallwish', 'Demonsfold'),\n",
       " ('Fallfold', 'Doomhail'),\n",
       " ('Kingsborourgh', 'Solspring'),\n",
       " ('Tearring', 'Splithammer')]"
      ]
     },
     "execution_count": 20,
     "metadata": {},
     "output_type": "execute_result"
    }
   ],
   "source": [
    "[(T.nation,T.name) for T in world.towns]"
   ]
  },
  {
   "cell_type": "code",
   "execution_count": 22,
   "metadata": {},
   "outputs": [
    {
     "data": {
      "text/plain": [
       "y                            17\n",
       "rainfall                     15\n",
       "x                             1\n",
       "key                        1:17\n",
       "elevation                    12\n",
       "terrain                    town\n",
       "feature              Heartblade\n",
       "nation number                 2\n",
       "nation                Artbridge\n",
       "visited                       1\n",
       "aware                         1\n",
       "turn_last_visited             2\n",
       "danger                    0.153\n",
       "Name: 1:17, dtype: object"
      ]
     },
     "execution_count": 22,
     "metadata": {},
     "output_type": "execute_result"
    }
   ],
   "source": [
    "masked_world.loc[world.Character.get_location_key()]"
   ]
  },
  {
   "cell_type": "markdown",
   "metadata": {},
   "source": [
    "You can query nations or towns. `world.nations` is a list of _nations_ and `world.towns` is a list of _towns_"
   ]
  },
  {
   "cell_type": "code",
   "execution_count": 23,
   "metadata": {
    "scrolled": true
   },
   "outputs": [
    {
     "data": {
      "text/html": [
       "<div>\n",
       "<style scoped>\n",
       "    .dataframe tbody tr th:only-of-type {\n",
       "        vertical-align: middle;\n",
       "    }\n",
       "\n",
       "    .dataframe tbody tr th {\n",
       "        vertical-align: top;\n",
       "    }\n",
       "\n",
       "    .dataframe thead th {\n",
       "        text-align: right;\n",
       "    }\n",
       "</style>\n",
       "<table border=\"1\" class=\"dataframe\">\n",
       "  <thead>\n",
       "    <tr style=\"text-align: right;\">\n",
       "      <th></th>\n",
       "      <th>y</th>\n",
       "      <th>rainfall</th>\n",
       "      <th>x</th>\n",
       "      <th>key</th>\n",
       "      <th>elevation</th>\n",
       "      <th>terrain</th>\n",
       "      <th>feature</th>\n",
       "      <th>nation number</th>\n",
       "      <th>nation</th>\n",
       "      <th>visited</th>\n",
       "      <th>aware</th>\n",
       "      <th>turn_last_visited</th>\n",
       "      <th>danger</th>\n",
       "    </tr>\n",
       "    <tr>\n",
       "      <th>key</th>\n",
       "      <th></th>\n",
       "      <th></th>\n",
       "      <th></th>\n",
       "      <th></th>\n",
       "      <th></th>\n",
       "      <th></th>\n",
       "      <th></th>\n",
       "      <th></th>\n",
       "      <th></th>\n",
       "      <th></th>\n",
       "      <th></th>\n",
       "      <th></th>\n",
       "      <th></th>\n",
       "    </tr>\n",
       "  </thead>\n",
       "  <tbody>\n",
       "    <tr>\n",
       "      <th>1:17</th>\n",
       "      <td>17</td>\n",
       "      <td>15.0</td>\n",
       "      <td>1</td>\n",
       "      <td>1:17</td>\n",
       "      <td>12.0</td>\n",
       "      <td>town</td>\n",
       "      <td>Heartblade</td>\n",
       "      <td>2</td>\n",
       "      <td>Artbridge</td>\n",
       "      <td>1</td>\n",
       "      <td>1</td>\n",
       "      <td>2</td>\n",
       "      <td>0.153</td>\n",
       "    </tr>\n",
       "  </tbody>\n",
       "</table>\n",
       "</div>"
      ],
      "text/plain": [
       "       y  rainfall  x   key  elevation terrain     feature  nation number  \\\n",
       "key                                                                         \n",
       "1:17  17      15.0  1  1:17       12.0    town  Heartblade              2   \n",
       "\n",
       "         nation  visited  aware  turn_last_visited  danger  \n",
       "key                                                         \n",
       "1:17  Artbridge        1      1                  2   0.153  "
      ]
     },
     "execution_count": 23,
     "metadata": {},
     "output_type": "execute_result"
    }
   ],
   "source": [
    "where_the_char_has_been = world.df_features.loc[(world.df_features['visited']==1)&\n",
    "                                                (world.df_features['terrain']=='town')]\n",
    "where_the_char_has_been"
   ]
  },
  {
   "cell_type": "markdown",
   "metadata": {},
   "source": [
    "## Getting the diplomacy and relationships data for the journal page"
   ]
  },
  {
   "cell_type": "code",
   "execution_count": 24,
   "metadata": {},
   "outputs": [
    {
     "data": {
      "text/plain": [
       "[{'town': capitol of Heartblade. Location: [1:17]. Founded 1101 </br>In the nation of Artbridge,\n",
       "  'people': [Akillit the Speaker of Heartblade,\n",
       "   Hicklab the commoner,\n",
       "   Elekellunt the commoner,\n",
       "   Thommel the commoner,\n",
       "   Elirpich the ruler of Artbridge]}]"
      ]
     },
     "execution_count": 24,
     "metadata": {},
     "output_type": "execute_result"
    }
   ],
   "source": [
    "rel = w.get_people_where_char_has_visited(world)\n",
    "rel"
   ]
  },
  {
   "cell_type": "code",
   "execution_count": 25,
   "metadata": {},
   "outputs": [
    {
     "data": {
      "text/plain": [
       "[{'name': 'Heartblade',\n",
       "  'title': 'capitol of Heartblade. Location',\n",
       "  'nation': 'Artbridge',\n",
       "  'population': 5,\n",
       "  'type': 'capitol',\n",
       "  'location': '1:17',\n",
       "  'founded year': 1101,\n",
       "  'children': [{'name': 'Akillit',\n",
       "    'role': 'Speaker of Heartblade',\n",
       "    'temperment': 0.38,\n",
       "    'loyalty': 0.5,\n",
       "    'type': 'person'},\n",
       "   {'name': 'Hicklab',\n",
       "    'role': 'commoner',\n",
       "    'temperment': 0.98,\n",
       "    'loyalty': 0.5,\n",
       "    'type': 'person'},\n",
       "   {'name': 'Elekellunt',\n",
       "    'role': 'commoner',\n",
       "    'temperment': 1.0,\n",
       "    'loyalty': 0.5,\n",
       "    'type': 'person'},\n",
       "   {'name': 'Thommel',\n",
       "    'role': 'commoner',\n",
       "    'temperment': 0.33,\n",
       "    'loyalty': 0.5,\n",
       "    'type': 'person'},\n",
       "   {'name': 'Elirpich',\n",
       "    'role': 'ruler of Artbridge',\n",
       "    'temperment': 0.4,\n",
       "    'loyalty': 1,\n",
       "    'type': 'person'}]}]"
      ]
     },
     "execution_count": 25,
     "metadata": {},
     "output_type": "execute_result"
    }
   ],
   "source": [
    "w.get_relationships_node_map(world)"
   ]
  },
  {
   "cell_type": "code",
   "execution_count": 26,
   "metadata": {},
   "outputs": [],
   "source": [
    "hierarchy = [{'nation':i.name,\n",
    "              'children':i.diplomacy} for i in world.nations]\n",
    "\n"
   ]
  },
  {
   "cell_type": "code",
   "execution_count": 28,
   "metadata": {},
   "outputs": [
    {
     "data": {
      "text/plain": [
       "[{'name': 'Heartblade',\n",
       "  'title': 'capitol of Heartblade. Location',\n",
       "  'nation': 'Artbridge',\n",
       "  'population': 5,\n",
       "  'type': 'capitol',\n",
       "  'location': '1:17',\n",
       "  'founded year': 1101,\n",
       "  'children': [{'name': 'Akillit',\n",
       "    'role': 'Speaker of Heartblade',\n",
       "    'temperment': 0.38,\n",
       "    'loyalty': 0.5,\n",
       "    'type': 'person'},\n",
       "   {'name': 'Hicklab',\n",
       "    'role': 'commoner',\n",
       "    'temperment': 0.98,\n",
       "    'loyalty': 0.5,\n",
       "    'type': 'person'},\n",
       "   {'name': 'Elekellunt',\n",
       "    'role': 'commoner',\n",
       "    'temperment': 1.0,\n",
       "    'loyalty': 0.5,\n",
       "    'type': 'person'},\n",
       "   {'name': 'Thommel',\n",
       "    'role': 'commoner',\n",
       "    'temperment': 0.33,\n",
       "    'loyalty': 0.5,\n",
       "    'type': 'person'},\n",
       "   {'name': 'Elirpich',\n",
       "    'role': 'ruler of Artbridge',\n",
       "    'temperment': 0.4,\n",
       "    'loyalty': 1,\n",
       "    'type': 'person'}]}]"
      ]
     },
     "execution_count": 28,
     "metadata": {},
     "output_type": "execute_result"
    }
   ],
   "source": [
    "relationships = w.get_relationships_node_map(world)\n",
    "relationships"
   ]
  },
  {
   "cell_type": "code",
   "execution_count": 29,
   "metadata": {},
   "outputs": [
    {
     "data": {
      "text/plain": [
       "['Artbridge']"
      ]
     },
     "execution_count": 29,
     "metadata": {},
     "output_type": "execute_result"
    }
   ],
   "source": [
    "nations = [s['nation'] for s in relationships]\n",
    "nations"
   ]
  },
  {
   "cell_type": "code",
   "execution_count": 30,
   "metadata": {},
   "outputs": [
    {
     "data": {
      "text/plain": [
       "[{'name': 'Heartblade',\n",
       "  'title': 'capitol of Heartblade. Location',\n",
       "  'nation': 'Artbridge',\n",
       "  'population': 5,\n",
       "  'type': 'capitol',\n",
       "  'location': '1:17',\n",
       "  'founded year': 1101,\n",
       "  'children': [{'name': 'Akillit',\n",
       "    'role': 'Speaker of Heartblade',\n",
       "    'temperment': 0.38,\n",
       "    'loyalty': 0.5,\n",
       "    'type': 'person'},\n",
       "   {'name': 'Hicklab',\n",
       "    'role': 'commoner',\n",
       "    'temperment': 0.98,\n",
       "    'loyalty': 0.5,\n",
       "    'type': 'person'},\n",
       "   {'name': 'Elekellunt',\n",
       "    'role': 'commoner',\n",
       "    'temperment': 1.0,\n",
       "    'loyalty': 0.5,\n",
       "    'type': 'person'},\n",
       "   {'name': 'Thommel',\n",
       "    'role': 'commoner',\n",
       "    'temperment': 0.33,\n",
       "    'loyalty': 0.5,\n",
       "    'type': 'person'},\n",
       "   {'name': 'Elirpich',\n",
       "    'role': 'ruler of Artbridge',\n",
       "    'temperment': 0.4,\n",
       "    'loyalty': 1,\n",
       "    'type': 'person'}]}]"
      ]
     },
     "execution_count": 30,
     "metadata": {},
     "output_type": "execute_result"
    }
   ],
   "source": [
    "[i for i in relationships]"
   ]
  },
  {
   "cell_type": "code",
   "execution_count": 31,
   "metadata": {},
   "outputs": [
    {
     "data": {
      "text/plain": [
       "[{'nation': 'Artbridge',\n",
       "  'towns': [{'name': 'Heartblade',\n",
       "    'title': 'capitol of Heartblade. Location',\n",
       "    'nation': 'Artbridge',\n",
       "    'population': 5,\n",
       "    'type': 'capitol',\n",
       "    'location': '1:17',\n",
       "    'founded year': 1101,\n",
       "    'children': [{'name': 'Akillit',\n",
       "      'role': 'Speaker of Heartblade',\n",
       "      'temperment': 0.38,\n",
       "      'loyalty': 0.5,\n",
       "      'type': 'person'},\n",
       "     {'name': 'Hicklab',\n",
       "      'role': 'commoner',\n",
       "      'temperment': 0.98,\n",
       "      'loyalty': 0.5,\n",
       "      'type': 'person'},\n",
       "     {'name': 'Elekellunt',\n",
       "      'role': 'commoner',\n",
       "      'temperment': 1.0,\n",
       "      'loyalty': 0.5,\n",
       "      'type': 'person'},\n",
       "     {'name': 'Thommel',\n",
       "      'role': 'commoner',\n",
       "      'temperment': 0.33,\n",
       "      'loyalty': 0.5,\n",
       "      'type': 'person'},\n",
       "     {'name': 'Elirpich',\n",
       "      'role': 'ruler of Artbridge',\n",
       "      'temperment': 0.4,\n",
       "      'loyalty': 1,\n",
       "      'type': 'person'}]}]}]"
      ]
     },
     "execution_count": 31,
     "metadata": {},
     "output_type": "execute_result"
    }
   ],
   "source": [
    "[{'nation':i,'towns':[t for t in relationships if t['nation']==i]} for i in nations]"
   ]
  },
  {
   "cell_type": "code",
   "execution_count": 32,
   "metadata": {},
   "outputs": [
    {
     "data": {
      "text/plain": [
       "['Artbridge']"
      ]
     },
     "execution_count": 32,
     "metadata": {},
     "output_type": "execute_result"
    }
   ],
   "source": [
    "[i for i in nations]"
   ]
  },
  {
   "cell_type": "code",
   "execution_count": null,
   "metadata": {},
   "outputs": [],
   "source": []
  }
 ],
 "metadata": {
  "kernelspec": {
   "display_name": "Python 3",
   "language": "python",
   "name": "python3"
  },
  "language_info": {
   "codemirror_mode": {
    "name": "ipython",
    "version": 3
   },
   "file_extension": ".py",
   "mimetype": "text/x-python",
   "name": "python",
   "nbconvert_exporter": "python",
   "pygments_lexer": "ipython3",
   "version": "3.7.3"
  }
 },
 "nbformat": 4,
 "nbformat_minor": 2
}
