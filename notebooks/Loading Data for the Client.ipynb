{
 "cells": [
  {
   "cell_type": "markdown",
   "metadata": {},
   "source": [
    "# Getting the info that the client needs for D3.js\n",
    "\n",
    "Often it is easier to transform data in the backend to be used by D3. In general all data in D3 needs to be a list of dicts. In this example I'm using an existing `world` object to demonstrate the methods that do these transformations. "
   ]
  },
  {
   "cell_type": "code",
   "execution_count": 1,
   "metadata": {},
   "outputs": [],
   "source": [
    "#I'm mapping to the actual files in the repo so that I can also use this to troubleshoot\n",
    "import os\n",
    "import sys\n",
    "import numpy as np\n",
    "import pandas as pd\n",
    "import pickle\n",
    "import django\n",
    "sys.path.append('../..')\n",
    "#Loading my project settings from prodweb. This allows me to load and query models. \n",
    "os.environ.setdefault('DJANGO_SETTINGS_MODULE', 'prodweb.settings')\n",
    "django.setup()\n",
    "\n",
    "\n",
    "with (open(\"../pickles/billmanhworld.pkl\", 'rb')) as pickle_file:\n",
    "    world = pickle.load(pickle_file)"
   ]
  },
  {
   "cell_type": "code",
   "execution_count": 2,
   "metadata": {
    "scrolled": true
   },
   "outputs": [],
   "source": [
    "sys.path.append('..')\n",
    "from lib.builders import world as w"
   ]
  },
  {
   "cell_type": "markdown",
   "metadata": {},
   "source": [
    "`w.get_area_data(world)` gets the area relevant to where the character is. This includes surrounding areas."
   ]
  },
  {
   "cell_type": "code",
   "execution_count": 3,
   "metadata": {},
   "outputs": [
    {
     "data": {
      "text/plain": [
       "<game.lib.builders.world.World at 0x7f4e9902dba8>"
      ]
     },
     "execution_count": 3,
     "metadata": {},
     "output_type": "execute_result"
    }
   ],
   "source": [
    "world"
   ]
  },
  {
   "cell_type": "code",
   "execution_count": 4,
   "metadata": {},
   "outputs": [
    {
     "name": "stdout",
     "output_type": "stream",
     "text": [
      "[35, 32]\n"
     ]
    },
    {
     "data": {
      "text/html": [
       "<div>\n",
       "<style scoped>\n",
       "    .dataframe tbody tr th:only-of-type {\n",
       "        vertical-align: middle;\n",
       "    }\n",
       "\n",
       "    .dataframe tbody tr th {\n",
       "        vertical-align: top;\n",
       "    }\n",
       "\n",
       "    .dataframe thead th {\n",
       "        text-align: right;\n",
       "    }\n",
       "</style>\n",
       "<table border=\"1\" class=\"dataframe\">\n",
       "  <thead>\n",
       "    <tr style=\"text-align: right;\">\n",
       "      <th></th>\n",
       "      <th>aware</th>\n",
       "      <th>danger</th>\n",
       "      <th>elevation</th>\n",
       "      <th>feature</th>\n",
       "      <th>key</th>\n",
       "      <th>nation</th>\n",
       "      <th>nation number</th>\n",
       "      <th>rainfall</th>\n",
       "      <th>terrain</th>\n",
       "      <th>turn_last_visited</th>\n",
       "      <th>visited</th>\n",
       "      <th>x</th>\n",
       "      <th>y</th>\n",
       "    </tr>\n",
       "  </thead>\n",
       "  <tbody>\n",
       "    <tr>\n",
       "      <th>area</th>\n",
       "      <td>0</td>\n",
       "      <td>0.563</td>\n",
       "      <td>6</td>\n",
       "      <td>Lordshenge</td>\n",
       "      <td>35:32</td>\n",
       "      <td>Lionwish</td>\n",
       "      <td>0</td>\n",
       "      <td>2</td>\n",
       "      <td>town</td>\n",
       "      <td>0</td>\n",
       "      <td>1</td>\n",
       "      <td>35</td>\n",
       "      <td>32</td>\n",
       "    </tr>\n",
       "    <tr>\n",
       "      <th>NArea</th>\n",
       "      <td>NaN</td>\n",
       "      <td>NaN</td>\n",
       "      <td>NaN</td>\n",
       "      <td>NaN</td>\n",
       "      <td>NaN</td>\n",
       "      <td>NaN</td>\n",
       "      <td>NaN</td>\n",
       "      <td>NaN</td>\n",
       "      <td>void</td>\n",
       "      <td>NaN</td>\n",
       "      <td>NaN</td>\n",
       "      <td>NaN</td>\n",
       "      <td>NaN</td>\n",
       "    </tr>\n",
       "    <tr>\n",
       "      <th>SArea</th>\n",
       "      <td>NaN</td>\n",
       "      <td>NaN</td>\n",
       "      <td>NaN</td>\n",
       "      <td>NaN</td>\n",
       "      <td>NaN</td>\n",
       "      <td>NaN</td>\n",
       "      <td>NaN</td>\n",
       "      <td>NaN</td>\n",
       "      <td>void</td>\n",
       "      <td>NaN</td>\n",
       "      <td>NaN</td>\n",
       "      <td>NaN</td>\n",
       "      <td>NaN</td>\n",
       "    </tr>\n",
       "    <tr>\n",
       "      <th>EArea</th>\n",
       "      <td>NaN</td>\n",
       "      <td>NaN</td>\n",
       "      <td>NaN</td>\n",
       "      <td>NaN</td>\n",
       "      <td>NaN</td>\n",
       "      <td>NaN</td>\n",
       "      <td>NaN</td>\n",
       "      <td>NaN</td>\n",
       "      <td>void</td>\n",
       "      <td>NaN</td>\n",
       "      <td>NaN</td>\n",
       "      <td>NaN</td>\n",
       "      <td>NaN</td>\n",
       "    </tr>\n",
       "    <tr>\n",
       "      <th>WArea</th>\n",
       "      <td>NaN</td>\n",
       "      <td>NaN</td>\n",
       "      <td>NaN</td>\n",
       "      <td>NaN</td>\n",
       "      <td>NaN</td>\n",
       "      <td>NaN</td>\n",
       "      <td>NaN</td>\n",
       "      <td>NaN</td>\n",
       "      <td>void</td>\n",
       "      <td>NaN</td>\n",
       "      <td>NaN</td>\n",
       "      <td>NaN</td>\n",
       "      <td>NaN</td>\n",
       "    </tr>\n",
       "  </tbody>\n",
       "</table>\n",
       "</div>"
      ],
      "text/plain": [
       "      aware danger elevation     feature    key    nation nation number  \\\n",
       "area      0  0.563         6  Lordshenge  35:32  Lionwish             0   \n",
       "NArea   NaN    NaN       NaN         NaN    NaN       NaN           NaN   \n",
       "SArea   NaN    NaN       NaN         NaN    NaN       NaN           NaN   \n",
       "EArea   NaN    NaN       NaN         NaN    NaN       NaN           NaN   \n",
       "WArea   NaN    NaN       NaN         NaN    NaN       NaN           NaN   \n",
       "\n",
       "      rainfall terrain turn_last_visited visited    x    y  \n",
       "area         2    town                 0       1   35   32  \n",
       "NArea      NaN    void               NaN     NaN  NaN  NaN  \n",
       "SArea      NaN    void               NaN     NaN  NaN  NaN  \n",
       "EArea      NaN    void               NaN     NaN  NaN  NaN  \n",
       "WArea      NaN    void               NaN     NaN  NaN  NaN  "
      ]
     },
     "execution_count": 4,
     "metadata": {},
     "output_type": "execute_result"
    }
   ],
   "source": [
    "print(world.Character.location)\n",
    "pd.DataFrame(w.get_area_data(world)).T"
   ]
  },
  {
   "cell_type": "markdown",
   "metadata": {},
   "source": [
    "For other game principals, it's easy to just make regular `pandas` and `numpy` queries on those datasets. "
   ]
  },
  {
   "cell_type": "code",
   "execution_count": 5,
   "metadata": {
    "scrolled": true
   },
   "outputs": [
    {
     "data": {
      "text/plain": [
       "True"
      ]
     },
     "execution_count": 5,
     "metadata": {},
     "output_type": "execute_result"
    }
   ],
   "source": [
    "world.df_features.loc[world.Character.get_location_key(),'visited'] >= 1"
   ]
  },
  {
   "cell_type": "markdown",
   "metadata": {},
   "source": [
    "Querying the terrain is easy as well. For example, here is a query of all of the world where the _terrain_ is _desert_ and the _danger_ is above .5. These queries are fast and cheap. "
   ]
  },
  {
   "cell_type": "code",
   "execution_count": 6,
   "metadata": {
    "scrolled": true
   },
   "outputs": [
    {
     "data": {
      "text/html": [
       "<div>\n",
       "<style scoped>\n",
       "    .dataframe tbody tr th:only-of-type {\n",
       "        vertical-align: middle;\n",
       "    }\n",
       "\n",
       "    .dataframe tbody tr th {\n",
       "        vertical-align: top;\n",
       "    }\n",
       "\n",
       "    .dataframe thead th {\n",
       "        text-align: right;\n",
       "    }\n",
       "</style>\n",
       "<table border=\"1\" class=\"dataframe\">\n",
       "  <thead>\n",
       "    <tr style=\"text-align: right;\">\n",
       "      <th></th>\n",
       "      <th>y</th>\n",
       "      <th>rainfall</th>\n",
       "      <th>x</th>\n",
       "      <th>key</th>\n",
       "      <th>elevation</th>\n",
       "      <th>terrain</th>\n",
       "      <th>feature</th>\n",
       "      <th>nation number</th>\n",
       "      <th>nation</th>\n",
       "      <th>visited</th>\n",
       "      <th>aware</th>\n",
       "      <th>turn_last_visited</th>\n",
       "      <th>danger</th>\n",
       "    </tr>\n",
       "    <tr>\n",
       "      <th>key</th>\n",
       "      <th></th>\n",
       "      <th></th>\n",
       "      <th></th>\n",
       "      <th></th>\n",
       "      <th></th>\n",
       "      <th></th>\n",
       "      <th></th>\n",
       "      <th></th>\n",
       "      <th></th>\n",
       "      <th></th>\n",
       "      <th></th>\n",
       "      <th></th>\n",
       "      <th></th>\n",
       "    </tr>\n",
       "  </thead>\n",
       "  <tbody>\n",
       "    <tr>\n",
       "      <th>28:3</th>\n",
       "      <td>3</td>\n",
       "      <td>0.0</td>\n",
       "      <td>28</td>\n",
       "      <td>28:3</td>\n",
       "      <td>6.0</td>\n",
       "      <td>desert</td>\n",
       "      <td>NaN</td>\n",
       "      <td>4</td>\n",
       "      <td>Puremain</td>\n",
       "      <td>0</td>\n",
       "      <td>1</td>\n",
       "      <td>0</td>\n",
       "      <td>0.703</td>\n",
       "    </tr>\n",
       "    <tr>\n",
       "      <th>24:4</th>\n",
       "      <td>4</td>\n",
       "      <td>1.0</td>\n",
       "      <td>24</td>\n",
       "      <td>24:4</td>\n",
       "      <td>6.0</td>\n",
       "      <td>desert</td>\n",
       "      <td>NaN</td>\n",
       "      <td>4</td>\n",
       "      <td>Puremain</td>\n",
       "      <td>0</td>\n",
       "      <td>1</td>\n",
       "      <td>0</td>\n",
       "      <td>0.720</td>\n",
       "    </tr>\n",
       "    <tr>\n",
       "      <th>29:4</th>\n",
       "      <td>4</td>\n",
       "      <td>0.0</td>\n",
       "      <td>29</td>\n",
       "      <td>29:4</td>\n",
       "      <td>6.0</td>\n",
       "      <td>desert</td>\n",
       "      <td>NaN</td>\n",
       "      <td>3</td>\n",
       "      <td>Earthvale</td>\n",
       "      <td>0</td>\n",
       "      <td>1</td>\n",
       "      <td>0</td>\n",
       "      <td>0.759</td>\n",
       "    </tr>\n",
       "    <tr>\n",
       "      <th>28:5</th>\n",
       "      <td>5</td>\n",
       "      <td>0.0</td>\n",
       "      <td>28</td>\n",
       "      <td>28:5</td>\n",
       "      <td>6.0</td>\n",
       "      <td>desert</td>\n",
       "      <td>NaN</td>\n",
       "      <td>3</td>\n",
       "      <td>Earthvale</td>\n",
       "      <td>0</td>\n",
       "      <td>1</td>\n",
       "      <td>0</td>\n",
       "      <td>0.850</td>\n",
       "    </tr>\n",
       "    <tr>\n",
       "      <th>29:6</th>\n",
       "      <td>6</td>\n",
       "      <td>1.0</td>\n",
       "      <td>29</td>\n",
       "      <td>29:6</td>\n",
       "      <td>6.0</td>\n",
       "      <td>desert</td>\n",
       "      <td>NaN</td>\n",
       "      <td>3</td>\n",
       "      <td>Earthvale</td>\n",
       "      <td>0</td>\n",
       "      <td>1</td>\n",
       "      <td>0</td>\n",
       "      <td>0.683</td>\n",
       "    </tr>\n",
       "  </tbody>\n",
       "</table>\n",
       "</div>"
      ],
      "text/plain": [
       "      y  rainfall   x   key  elevation terrain feature  nation number  \\\n",
       "key                                                                     \n",
       "28:3  3       0.0  28  28:3        6.0  desert     NaN              4   \n",
       "24:4  4       1.0  24  24:4        6.0  desert     NaN              4   \n",
       "29:4  4       0.0  29  29:4        6.0  desert     NaN              3   \n",
       "28:5  5       0.0  28  28:5        6.0  desert     NaN              3   \n",
       "29:6  6       1.0  29  29:6        6.0  desert     NaN              3   \n",
       "\n",
       "         nation  visited  aware  turn_last_visited  danger  \n",
       "key                                                         \n",
       "28:3   Puremain        0      1                  0   0.703  \n",
       "24:4   Puremain        0      1                  0   0.720  \n",
       "29:4  Earthvale        0      1                  0   0.759  \n",
       "28:5  Earthvale        0      1                  0   0.850  \n",
       "29:6  Earthvale        0      1                  0   0.683  "
      ]
     },
     "execution_count": 6,
     "metadata": {},
     "output_type": "execute_result"
    }
   ],
   "source": [
    "world.df_features.loc[(world.df_features['terrain']=='desert') & \n",
    "                     (world.df_features['danger']>=.5)].head()"
   ]
  },
  {
   "cell_type": "markdown",
   "metadata": {},
   "source": [
    "You can also _mask_ the terrain where the character has no knowledge. "
   ]
  },
  {
   "cell_type": "code",
   "execution_count": 11,
   "metadata": {
    "scrolled": false
   },
   "outputs": [
    {
     "data": {
      "text/html": [
       "<div>\n",
       "<style scoped>\n",
       "    .dataframe tbody tr th:only-of-type {\n",
       "        vertical-align: middle;\n",
       "    }\n",
       "\n",
       "    .dataframe tbody tr th {\n",
       "        vertical-align: top;\n",
       "    }\n",
       "\n",
       "    .dataframe thead th {\n",
       "        text-align: right;\n",
       "    }\n",
       "</style>\n",
       "<table border=\"1\" class=\"dataframe\">\n",
       "  <thead>\n",
       "    <tr style=\"text-align: right;\">\n",
       "      <th></th>\n",
       "      <th>y</th>\n",
       "      <th>rainfall</th>\n",
       "      <th>x</th>\n",
       "      <th>key</th>\n",
       "      <th>elevation</th>\n",
       "      <th>terrain</th>\n",
       "      <th>feature</th>\n",
       "      <th>nation number</th>\n",
       "      <th>nation</th>\n",
       "      <th>visited</th>\n",
       "      <th>aware</th>\n",
       "      <th>turn_last_visited</th>\n",
       "      <th>danger</th>\n",
       "    </tr>\n",
       "    <tr>\n",
       "      <th>key</th>\n",
       "      <th></th>\n",
       "      <th></th>\n",
       "      <th></th>\n",
       "      <th></th>\n",
       "      <th></th>\n",
       "      <th></th>\n",
       "      <th></th>\n",
       "      <th></th>\n",
       "      <th></th>\n",
       "      <th></th>\n",
       "      <th></th>\n",
       "      <th></th>\n",
       "      <th></th>\n",
       "    </tr>\n",
       "  </thead>\n",
       "  <tbody>\n",
       "    <tr>\n",
       "      <th>0:0</th>\n",
       "      <td>0</td>\n",
       "      <td>1.0</td>\n",
       "      <td>0</td>\n",
       "      <td>0:0</td>\n",
       "      <td>0.0</td>\n",
       "      <td>ocean</td>\n",
       "      <td>NaN</td>\n",
       "      <td>4</td>\n",
       "      <td>Puremain</td>\n",
       "      <td>0</td>\n",
       "      <td>1</td>\n",
       "      <td>0</td>\n",
       "      <td>0.515</td>\n",
       "    </tr>\n",
       "    <tr>\n",
       "      <th>1:0</th>\n",
       "      <td>0</td>\n",
       "      <td>1.0</td>\n",
       "      <td>1</td>\n",
       "      <td>1:0</td>\n",
       "      <td>0.0</td>\n",
       "      <td>ocean</td>\n",
       "      <td>NaN</td>\n",
       "      <td>4</td>\n",
       "      <td>Puremain</td>\n",
       "      <td>0</td>\n",
       "      <td>1</td>\n",
       "      <td>0</td>\n",
       "      <td>0.132</td>\n",
       "    </tr>\n",
       "    <tr>\n",
       "      <th>2:0</th>\n",
       "      <td>0</td>\n",
       "      <td>1.0</td>\n",
       "      <td>2</td>\n",
       "      <td>2:0</td>\n",
       "      <td>0.0</td>\n",
       "      <td>ocean</td>\n",
       "      <td>NaN</td>\n",
       "      <td>4</td>\n",
       "      <td>Puremain</td>\n",
       "      <td>0</td>\n",
       "      <td>1</td>\n",
       "      <td>0</td>\n",
       "      <td>0.473</td>\n",
       "    </tr>\n",
       "    <tr>\n",
       "      <th>3:0</th>\n",
       "      <td>0</td>\n",
       "      <td>1.0</td>\n",
       "      <td>3</td>\n",
       "      <td>3:0</td>\n",
       "      <td>0.0</td>\n",
       "      <td>ocean</td>\n",
       "      <td>NaN</td>\n",
       "      <td>4</td>\n",
       "      <td>Puremain</td>\n",
       "      <td>0</td>\n",
       "      <td>1</td>\n",
       "      <td>0</td>\n",
       "      <td>0.507</td>\n",
       "    </tr>\n",
       "    <tr>\n",
       "      <th>4:0</th>\n",
       "      <td>0</td>\n",
       "      <td>1.0</td>\n",
       "      <td>4</td>\n",
       "      <td>4:0</td>\n",
       "      <td>0.0</td>\n",
       "      <td>ocean</td>\n",
       "      <td>NaN</td>\n",
       "      <td>4</td>\n",
       "      <td>Puremain</td>\n",
       "      <td>0</td>\n",
       "      <td>1</td>\n",
       "      <td>0</td>\n",
       "      <td>0.415</td>\n",
       "    </tr>\n",
       "  </tbody>\n",
       "</table>\n",
       "</div>"
      ],
      "text/plain": [
       "     y  rainfall  x  key  elevation terrain feature nation number    nation  \\\n",
       "key                                                                           \n",
       "0:0  0       1.0  0  0:0        0.0   ocean     NaN             4  Puremain   \n",
       "1:0  0       1.0  1  1:0        0.0   ocean     NaN             4  Puremain   \n",
       "2:0  0       1.0  2  2:0        0.0   ocean     NaN             4  Puremain   \n",
       "3:0  0       1.0  3  3:0        0.0   ocean     NaN             4  Puremain   \n",
       "4:0  0       1.0  4  4:0        0.0   ocean     NaN             4  Puremain   \n",
       "\n",
       "     visited  aware  turn_last_visited  danger  \n",
       "key                                             \n",
       "0:0        0      1                  0   0.515  \n",
       "1:0        0      1                  0   0.132  \n",
       "2:0        0      1                  0   0.473  \n",
       "3:0        0      1                  0   0.507  \n",
       "4:0        0      1                  0   0.415  "
      ]
     },
     "execution_count": 11,
     "metadata": {},
     "output_type": "execute_result"
    }
   ],
   "source": [
    "masked_world = w.mask_unknown(world)\n",
    "world.Character.title = \"Noble\"\n",
    "masked_world.head()"
   ]
  },
  {
   "cell_type": "markdown",
   "metadata": {},
   "source": [
    "## Analysis via list comprehension"
   ]
  },
  {
   "cell_type": "markdown",
   "metadata": {},
   "source": [
    "Querying people is also easy, but you need to use _list comprehension_ to do it. This is the general structure. "
   ]
  },
  {
   "cell_type": "code",
   "execution_count": 8,
   "metadata": {},
   "outputs": [
    {
     "data": {
      "text/plain": [
       "[['Erffale', 'Alicarrunt', 'Joshim', 'Erklaf', 'Chissash'],\n",
       " ['Newillut', 'Atendolen', 'Krasassec', 'Tonsust', 'Olfaddunder'],\n",
       " ['Fiharkadle', 'Olkrackust', 'Dowallomir'],\n",
       " ['Thagennnan', 'Leboldent', 'Xirushaker', 'Hannak', 'Anapprion'],\n",
       " ['Drayellep', 'Xangnan', 'Lezennnan'],\n",
       " ['Thentoh', 'Mezodin', 'Quamendodin', 'Locarrak', 'Trimsar'],\n",
       " ['Ekihorkar', 'Ekikkin'],\n",
       " ['Dondir'],\n",
       " ['Tatendef', 'Stelordat', 'Chiladdark'],\n",
       " ['Pekknan', 'Hatallad', 'Secksow'],\n",
       " ['Pelandumber', 'Fewillak'],\n",
       " ['Eroven', 'Thaladdech'],\n",
       " ['Vofaddor'],\n",
       " ['Groharkit'],\n",
       " ['Drakkand'],\n",
       " ['Moflomir']]"
      ]
     },
     "execution_count": 8,
     "metadata": {},
     "output_type": "execute_result"
    }
   ],
   "source": [
    "[[person.name for person in t.population] for t in world.towns]"
   ]
  },
  {
   "cell_type": "markdown",
   "metadata": {},
   "source": [
    "Query the people in the town by setting conditions in the list. These people are the highest in temperment. "
   ]
  },
  {
   "cell_type": "code",
   "execution_count": 12,
   "metadata": {},
   "outputs": [
    {
     "data": {
      "text/plain": [
       "[[('Erffale', 0.85), ('Chissash', 0.83)],\n",
       " [('Atendolen', 0.72), ('Tonsust', 1.0)],\n",
       " [('Olkrackust', 0.61)],\n",
       " [('Leboldent', 0.91), ('Xirushaker', 0.59), ('Anapprion', 0.63)],\n",
       " [],\n",
       " [],\n",
       " [('Ekihorkar', 0.85)],\n",
       " [('Dondir', 0.54)],\n",
       " [('Stelordat', 0.94)],\n",
       " [('Secksow', 0.86)],\n",
       " [],\n",
       " [('Thaladdech', 0.56)],\n",
       " [],\n",
       " [],\n",
       " [('Drakkand', 0.52)],\n",
       " []]"
      ]
     },
     "execution_count": 12,
     "metadata": {},
     "output_type": "execute_result"
    }
   ],
   "source": [
    "[[(person.name,person.temperment) for person in t.population if person.temperment>.5] for t in world.towns]"
   ]
  },
  {
   "cell_type": "markdown",
   "metadata": {},
   "source": [
    "You can also get summary stats on towns. For example, the average temperment per town."
   ]
  },
  {
   "cell_type": "code",
   "execution_count": 41,
   "metadata": {},
   "outputs": [
    {
     "data": {
      "text/plain": [
       "[('Artblade', 0.40599999999999997),\n",
       " ('Fairspring', 0.48999999999999994),\n",
       " ('Oakspring', 0.36000000000000004),\n",
       " ('Hardforth', 0.5359999999999999),\n",
       " ('Heircatch', 0.32666666666666666),\n",
       " ('Ravencrawl', 0.322),\n",
       " ('Fenforth', 0.495),\n",
       " ('Starpike', 0.54),\n",
       " ('Tearrest', 0.33),\n",
       " ('Gleamcombe', 0.48333333333333334),\n",
       " ('Badgerblade', 0.21000000000000002),\n",
       " ('Badgerchild', 0.48000000000000004),\n",
       " ('Lordshenge', 0.12),\n",
       " ('Lionglen', 0.36),\n",
       " ('Earthborourgh', 0.52),\n",
       " ('Ratbrook', 0.49)]"
      ]
     },
     "execution_count": 41,
     "metadata": {},
     "output_type": "execute_result"
    }
   ],
   "source": [
    "[(t.name,np.mean([person.temperment for person in t.population])) for t in world.towns]"
   ]
  },
  {
   "cell_type": "markdown",
   "metadata": {},
   "source": [
    "For some purposes you may want to get a collection of people and edit them in bulk. This is also possible using list comprehension. "
   ]
  },
  {
   "cell_type": "code",
   "execution_count": 47,
   "metadata": {},
   "outputs": [
    {
     "data": {
      "text/plain": [
       "[{'town': town of Lordshenge: population: 1 location: [35,32] founded 8,\n",
       "  'people': [Vofaddor the Speaker of Lordshenge]}]"
      ]
     },
     "execution_count": 47,
     "metadata": {},
     "output_type": "execute_result"
    }
   ],
   "source": [
    "w.get_people_where_char_has_visited(world)"
   ]
  },
  {
   "cell_type": "code",
   "execution_count": 50,
   "metadata": {},
   "outputs": [
    {
     "data": {
      "text/plain": [
       "{'town': town of Lordshenge: population: 1 location: [35,32] founded 8,\n",
       " 'people': [Vofaddor the Speaker of Lordshenge]}"
      ]
     },
     "execution_count": 50,
     "metadata": {},
     "output_type": "execute_result"
    }
   ],
   "source": [
    "r = w.get_people_where_char_has_visited(world)[0]\n",
    "r"
   ]
  },
  {
   "cell_type": "code",
   "execution_count": 55,
   "metadata": {},
   "outputs": [
    {
     "data": {
      "text/plain": [
       "'Lordshenge'"
      ]
     },
     "execution_count": 55,
     "metadata": {},
     "output_type": "execute_result"
    }
   ],
   "source": [
    "r['town'].nation"
   ]
  },
  {
   "cell_type": "code",
   "execution_count": 40,
   "metadata": {},
   "outputs": [
    {
     "ename": "KeyError",
     "evalue": "'nation'",
     "output_type": "error",
     "traceback": [
      "\u001b[0;31m---------------------------------------------------------------------------\u001b[0m",
      "\u001b[0;31mKeyError\u001b[0m                                  Traceback (most recent call last)",
      "\u001b[0;32m<ipython-input-40-ba216c4cb5e6>\u001b[0m in \u001b[0;36m<module>\u001b[0;34m\u001b[0m\n\u001b[0;32m----> 1\u001b[0;31m \u001b[0mw\u001b[0m\u001b[0;34m.\u001b[0m\u001b[0mget_relationships_node_map\u001b[0m\u001b[0;34m(\u001b[0m\u001b[0mworld\u001b[0m\u001b[0;34m)\u001b[0m\u001b[0;34m\u001b[0m\u001b[0;34m\u001b[0m\u001b[0m\n\u001b[0m",
      "\u001b[0;32m~/prodweb/game/lib/builders/world.py\u001b[0m in \u001b[0;36mget_relationships_node_map\u001b[0;34m(world)\u001b[0m\n\u001b[1;32m    345\u001b[0m                           \u001b[0;34m'loyalty'\u001b[0m\u001b[0;34m:\u001b[0m\u001b[0mp\u001b[0m\u001b[0;34m.\u001b[0m\u001b[0mloyalty\u001b[0m\u001b[0;34m,\u001b[0m\u001b[0;34m\u001b[0m\u001b[0;34m\u001b[0m\u001b[0m\n\u001b[1;32m    346\u001b[0m                           'type':'person'} for p in r['people']]} \n\u001b[0;32m--> 347\u001b[0;31m              for r in get_people_where_char_has_visited(world)]\n\u001b[0m\u001b[1;32m    348\u001b[0m     \u001b[0;32mreturn\u001b[0m \u001b[0mnodes\u001b[0m\u001b[0;34m\u001b[0m\u001b[0;34m\u001b[0m\u001b[0m\n\u001b[1;32m    349\u001b[0m \u001b[0;34m\u001b[0m\u001b[0m\n",
      "\u001b[0;32m~/prodweb/game/lib/builders/world.py\u001b[0m in \u001b[0;36m<listcomp>\u001b[0;34m(.0)\u001b[0m\n\u001b[1;32m    345\u001b[0m                           \u001b[0;34m'loyalty'\u001b[0m\u001b[0;34m:\u001b[0m\u001b[0mp\u001b[0m\u001b[0;34m.\u001b[0m\u001b[0mloyalty\u001b[0m\u001b[0;34m,\u001b[0m\u001b[0;34m\u001b[0m\u001b[0;34m\u001b[0m\u001b[0m\n\u001b[1;32m    346\u001b[0m                           'type':'person'} for p in r['people']]} \n\u001b[0;32m--> 347\u001b[0;31m              for r in get_people_where_char_has_visited(world)]\n\u001b[0m\u001b[1;32m    348\u001b[0m     \u001b[0;32mreturn\u001b[0m \u001b[0mnodes\u001b[0m\u001b[0;34m\u001b[0m\u001b[0;34m\u001b[0m\u001b[0m\n\u001b[1;32m    349\u001b[0m \u001b[0;34m\u001b[0m\u001b[0m\n",
      "\u001b[0;31mKeyError\u001b[0m: 'nation'"
     ]
    }
   ],
   "source": [
    "w.get_relationships_node_map(world)"
   ]
  },
  {
   "cell_type": "code",
   "execution_count": 16,
   "metadata": {},
   "outputs": [
    {
     "data": {
      "text/plain": [
       "key\n",
       "35:32    Lionwish\n",
       "Name: nation, dtype: object"
      ]
     },
     "execution_count": 16,
     "metadata": {},
     "output_type": "execute_result"
    }
   ],
   "source": [
    "where_the_char_has_been['nation'].dropna()"
   ]
  },
  {
   "cell_type": "code",
   "execution_count": 19,
   "metadata": {},
   "outputs": [
    {
     "data": {
      "text/plain": [
       "array(['Lionwish'], dtype=object)"
      ]
     },
     "execution_count": 19,
     "metadata": {},
     "output_type": "execute_result"
    }
   ],
   "source": [
    "nations_where_character_has_been = np.unique(where_the_char_has_been['nation'].dropna())\n",
    "nations_where_character_has_been"
   ]
  },
  {
   "cell_type": "markdown",
   "metadata": {},
   "source": [
    "You can use this to get lists of people who the character knows. "
   ]
  },
  {
   "cell_type": "code",
   "execution_count": 31,
   "metadata": {},
   "outputs": [
    {
     "data": {
      "text/plain": [
       "[[capitol of Gleamcombe: population: 3 location: [36,26] founded 5,\n",
       "  town of Lordshenge: population: 1 location: [35,32] founded 8]]"
      ]
     },
     "execution_count": 31,
     "metadata": {},
     "output_type": "execute_result"
    }
   ],
   "source": [
    "[[t for t in n.get_all_towns(world)] for n in world.nations if n.name in nations_where_character_has_been]"
   ]
  },
  {
   "cell_type": "code",
   "execution_count": 32,
   "metadata": {},
   "outputs": [
    {
     "data": {
      "text/plain": [
       "[]"
      ]
     },
     "execution_count": 32,
     "metadata": {},
     "output_type": "execute_result"
    }
   ],
   "source": [
    "[[t for t in T.population] for T in world.towns if T.nation in nations_where_character_has_been]"
   ]
  },
  {
   "cell_type": "code",
   "execution_count": 35,
   "metadata": {},
   "outputs": [
    {
     "data": {
      "text/plain": [
       "[('Artblade', 'Artblade'),\n",
       " ('Fairspring', 'Fairspring'),\n",
       " ('Oakspring', 'Oakspring'),\n",
       " ('Hardforth', 'Hardforth'),\n",
       " ('Heircatch', 'Heircatch'),\n",
       " ('Ravencrawl', 'Ravencrawl'),\n",
       " ('Fenforth', 'Fenforth'),\n",
       " ('Starpike', 'Starpike'),\n",
       " ('Tearrest', 'Tearrest'),\n",
       " ('Gleamcombe', 'Gleamcombe'),\n",
       " ('Badgerblade', 'Badgerblade'),\n",
       " ('Badgerchild', 'Badgerchild'),\n",
       " ('Lordshenge', 'Lordshenge'),\n",
       " ('Lionglen', 'Lionglen'),\n",
       " ('Earthborourgh', 'Earthborourgh'),\n",
       " ('Ratbrook', 'Ratbrook')]"
      ]
     },
     "execution_count": 35,
     "metadata": {},
     "output_type": "execute_result"
    }
   ],
   "source": [
    "[(T.nation,T.name) for T in world.towns]"
   ]
  },
  {
   "cell_type": "code",
   "execution_count": 36,
   "metadata": {
    "scrolled": true
   },
   "outputs": [
    {
     "data": {
      "text/plain": [
       "[]"
      ]
     },
     "execution_count": 36,
     "metadata": {},
     "output_type": "execute_result"
    }
   ],
   "source": [
    "[[t.get_person_data() for t in T.population] for T in world.towns if T.nation in nations_where_character_has_been]"
   ]
  },
  {
   "cell_type": "code",
   "execution_count": 37,
   "metadata": {},
   "outputs": [
    {
     "data": {
      "text/plain": [
       "y                            32\n",
       "rainfall                      2\n",
       "x                            35\n",
       "key                       35:32\n",
       "elevation                     6\n",
       "terrain                    town\n",
       "feature              Lordshenge\n",
       "nation number                 0\n",
       "nation                 Lionwish\n",
       "visited                       1\n",
       "aware                         0\n",
       "turn_last_visited             0\n",
       "danger                    0.563\n",
       "Name: 35:32, dtype: object"
      ]
     },
     "execution_count": 37,
     "metadata": {},
     "output_type": "execute_result"
    }
   ],
   "source": [
    "masked_world.loc[world.Character.get_location_key()]"
   ]
  },
  {
   "cell_type": "markdown",
   "metadata": {},
   "source": [
    "You can query nations or towns. `world.nations` is a list of _nations_ and `world.towns` is a list of _towns_"
   ]
  },
  {
   "cell_type": "code",
   "execution_count": 38,
   "metadata": {
    "scrolled": true
   },
   "outputs": [
    {
     "data": {
      "text/html": [
       "<div>\n",
       "<style scoped>\n",
       "    .dataframe tbody tr th:only-of-type {\n",
       "        vertical-align: middle;\n",
       "    }\n",
       "\n",
       "    .dataframe tbody tr th {\n",
       "        vertical-align: top;\n",
       "    }\n",
       "\n",
       "    .dataframe thead th {\n",
       "        text-align: right;\n",
       "    }\n",
       "</style>\n",
       "<table border=\"1\" class=\"dataframe\">\n",
       "  <thead>\n",
       "    <tr style=\"text-align: right;\">\n",
       "      <th></th>\n",
       "      <th>y</th>\n",
       "      <th>rainfall</th>\n",
       "      <th>x</th>\n",
       "      <th>key</th>\n",
       "      <th>elevation</th>\n",
       "      <th>terrain</th>\n",
       "      <th>feature</th>\n",
       "      <th>nation number</th>\n",
       "      <th>nation</th>\n",
       "      <th>visited</th>\n",
       "      <th>aware</th>\n",
       "      <th>turn_last_visited</th>\n",
       "      <th>danger</th>\n",
       "    </tr>\n",
       "    <tr>\n",
       "      <th>key</th>\n",
       "      <th></th>\n",
       "      <th></th>\n",
       "      <th></th>\n",
       "      <th></th>\n",
       "      <th></th>\n",
       "      <th></th>\n",
       "      <th></th>\n",
       "      <th></th>\n",
       "      <th></th>\n",
       "      <th></th>\n",
       "      <th></th>\n",
       "      <th></th>\n",
       "      <th></th>\n",
       "    </tr>\n",
       "  </thead>\n",
       "  <tbody>\n",
       "    <tr>\n",
       "      <th>35:32</th>\n",
       "      <td>32</td>\n",
       "      <td>2.0</td>\n",
       "      <td>35</td>\n",
       "      <td>35:32</td>\n",
       "      <td>6.0</td>\n",
       "      <td>town</td>\n",
       "      <td>Lordshenge</td>\n",
       "      <td>0</td>\n",
       "      <td>Lionwish</td>\n",
       "      <td>1</td>\n",
       "      <td>0</td>\n",
       "      <td>0</td>\n",
       "      <td>0.563</td>\n",
       "    </tr>\n",
       "  </tbody>\n",
       "</table>\n",
       "</div>"
      ],
      "text/plain": [
       "        y  rainfall   x    key  elevation terrain     feature  nation number  \\\n",
       "key                                                                            \n",
       "35:32  32       2.0  35  35:32        6.0    town  Lordshenge              0   \n",
       "\n",
       "         nation  visited  aware  turn_last_visited  danger  \n",
       "key                                                         \n",
       "35:32  Lionwish        1      0                  0   0.563  "
      ]
     },
     "execution_count": 38,
     "metadata": {},
     "output_type": "execute_result"
    }
   ],
   "source": [
    "where_the_char_has_been = world.df_features.loc[(world.df_features['visited']==1)&\n",
    "                                                (world.df_features['terrain']=='town')]\n",
    "where_the_char_has_been"
   ]
  },
  {
   "cell_type": "markdown",
   "metadata": {},
   "source": [
    "## Getting the diplomacy and relationships data for the journal page"
   ]
  },
  {
   "cell_type": "code",
   "execution_count": 19,
   "metadata": {},
   "outputs": [
    {
     "data": {
      "text/plain": [
       "[{'town': town of Earthmark: population: 2 location: [18,17] founded 6,\n",
       "  'people': [Shensith the Speaker of Earthmark, Vogennart the commoner]}]"
      ]
     },
     "execution_count": 19,
     "metadata": {},
     "output_type": "execute_result"
    }
   ],
   "source": [
    "rel = w.get_people_where_char_has_visited(world)\n",
    "rel"
   ]
  },
  {
   "cell_type": "code",
   "execution_count": 20,
   "metadata": {},
   "outputs": [
    {
     "data": {
      "text/plain": [
       "[{'name': 'Earthmark',\n",
       "  'title': 'town of Earthmark',\n",
       "  'nation': 'Brinehaven',\n",
       "  'population': 2,\n",
       "  'type': 'town',\n",
       "  'location': '18:17',\n",
       "  'founded year': 6,\n",
       "  'national fealty': 1,\n",
       "  'children': [{'name': 'Shensith',\n",
       "    'role': 'Speaker of Earthmark',\n",
       "    'temperment': 0.43,\n",
       "    'loyalty': 0.5,\n",
       "    'type': 'person'},\n",
       "   {'name': 'Vogennart',\n",
       "    'role': 'commoner',\n",
       "    'temperment': 0.25,\n",
       "    'loyalty': 0.5,\n",
       "    'type': 'person'}]}]"
      ]
     },
     "execution_count": 20,
     "metadata": {},
     "output_type": "execute_result"
    }
   ],
   "source": [
    "w.get_relationships_node_map(world)"
   ]
  },
  {
   "cell_type": "code",
   "execution_count": 21,
   "metadata": {},
   "outputs": [],
   "source": [
    "hierarchy = [{'nation':i.name,\n",
    "              'children':i.diplomacy} for i in world.nations]\n",
    "\n"
   ]
  },
  {
   "cell_type": "code",
   "execution_count": 22,
   "metadata": {},
   "outputs": [],
   "source": [
    "p = rel[0]['town'].population[0]\n"
   ]
  },
  {
   "cell_type": "code",
   "execution_count": 26,
   "metadata": {},
   "outputs": [
    {
     "data": {
      "text/plain": [
       "[{'town': town of Earthmark: population: 2 location: [18,17] founded 6,\n",
       "  'people': [Shensith the Speaker of Earthmark, Vogennart the commoner]}]"
      ]
     },
     "execution_count": 26,
     "metadata": {},
     "output_type": "execute_result"
    }
   ],
   "source": [
    "def get_people_where_char_has_visited(world):\n",
    "    \"\"\"\n",
    "    returns a dictionary of {{\"town\":[<obj>],\"people\":[<obj>]}\n",
    "    filtered to where the character has been. \n",
    "    \"\"\"\n",
    "    where_the_char_has_been = world.df_features.loc[(world.df_features['visited']==1)&\n",
    "                                                    (world.df_features['terrain']=='town')].dropna()\n",
    "    towns_and_people = [{\"town\":T,\n",
    "                         \"people\":[t for t in T.population]} \n",
    "                        for T in world.towns if T.name in np.unique(w.where_the_char_has_been['feature'])]\n",
    "    return towns_and_people\n",
    "\n",
    "def get_relationships_node_map(world):\n",
    "    nodes = [{'name':r['town'].name,\n",
    "              'title':str(r['town']).split(\":\")[0],\n",
    "              'nation':r['town'].diplomacy['nation'],\n",
    "              'population':r['town'].pop,\n",
    "              'type':r['town'].type,\n",
    "              'location':r['town'].key,\n",
    "              'founded year':r['town'].founded,\n",
    "              'national fealty':r['town'].diplomacy['national fealty'],\n",
    "             'children': [{'name':p.name,\n",
    "                          'role':p.role,\n",
    "                          'temperment':p.temperment,\n",
    "                          'loyalty':p.loyalty,\n",
    "                          'type':'person'} for p in r['people']]} \n",
    "             for r in w.get_people_where_char_has_visited(world)]\n",
    "    return nodes\n",
    "        \n",
    "w.get_people_where_char_has_visited(world)"
   ]
  },
  {
   "cell_type": "code",
   "execution_count": 28,
   "metadata": {},
   "outputs": [
    {
     "data": {
      "text/plain": [
       "[{'name': 'Earthmark',\n",
       "  'title': 'town of Earthmark',\n",
       "  'nation': 'Brinehaven',\n",
       "  'population': 2,\n",
       "  'type': 'town',\n",
       "  'location': '18:17',\n",
       "  'founded year': 6,\n",
       "  'national fealty': 1,\n",
       "  'children': [{'name': 'Shensith',\n",
       "    'role': 'Speaker of Earthmark',\n",
       "    'temperment': 0.43,\n",
       "    'loyalty': 0.5,\n",
       "    'type': 'person'},\n",
       "   {'name': 'Vogennart',\n",
       "    'role': 'commoner',\n",
       "    'temperment': 0.25,\n",
       "    'loyalty': 0.5,\n",
       "    'type': 'person'}]}]"
      ]
     },
     "execution_count": 28,
     "metadata": {},
     "output_type": "execute_result"
    }
   ],
   "source": [
    "relationships = w.get_relationships_node_map(world)\n",
    "relationships"
   ]
  },
  {
   "cell_type": "code",
   "execution_count": 36,
   "metadata": {},
   "outputs": [
    {
     "data": {
      "text/plain": [
       "['Brinehaven']"
      ]
     },
     "execution_count": 36,
     "metadata": {},
     "output_type": "execute_result"
    }
   ],
   "source": [
    "nations = [s['nation'] for s in relationships]\n",
    "nations"
   ]
  },
  {
   "cell_type": "code",
   "execution_count": 40,
   "metadata": {},
   "outputs": [
    {
     "data": {
      "text/plain": [
       "[{'name': 'Earthmark',\n",
       "  'title': 'town of Earthmark',\n",
       "  'nation': 'Brinehaven',\n",
       "  'population': 2,\n",
       "  'type': 'town',\n",
       "  'location': '18:17',\n",
       "  'founded year': 6,\n",
       "  'national fealty': 1,\n",
       "  'children': [{'name': 'Shensith',\n",
       "    'role': 'Speaker of Earthmark',\n",
       "    'temperment': 0.43,\n",
       "    'loyalty': 0.5,\n",
       "    'type': 'person'},\n",
       "   {'name': 'Vogennart',\n",
       "    'role': 'commoner',\n",
       "    'temperment': 0.25,\n",
       "    'loyalty': 0.5,\n",
       "    'type': 'person'}]}]"
      ]
     },
     "execution_count": 40,
     "metadata": {},
     "output_type": "execute_result"
    }
   ],
   "source": [
    "[i for i in relationships]"
   ]
  },
  {
   "cell_type": "code",
   "execution_count": 49,
   "metadata": {},
   "outputs": [
    {
     "data": {
      "text/plain": [
       "[{'nation': 'Brinehaven',\n",
       "  'towns': [{'name': 'Earthmark',\n",
       "    'title': 'town of Earthmark',\n",
       "    'nation': 'Brinehaven',\n",
       "    'population': 2,\n",
       "    'type': 'town',\n",
       "    'location': '18:17',\n",
       "    'founded year': 6,\n",
       "    'national fealty': 1,\n",
       "    'children': [{'name': 'Shensith',\n",
       "      'role': 'Speaker of Earthmark',\n",
       "      'temperment': 0.43,\n",
       "      'loyalty': 0.5,\n",
       "      'type': 'person'},\n",
       "     {'name': 'Vogennart',\n",
       "      'role': 'commoner',\n",
       "      'temperment': 0.25,\n",
       "      'loyalty': 0.5,\n",
       "      'type': 'person'}]}]}]"
      ]
     },
     "execution_count": 49,
     "metadata": {},
     "output_type": "execute_result"
    }
   ],
   "source": [
    "[{'nation':i,'towns':[t for t in relationships if t['nation']==i]} for i in nations]"
   ]
  },
  {
   "cell_type": "code",
   "execution_count": 46,
   "metadata": {},
   "outputs": [
    {
     "data": {
      "text/plain": [
       "['Brinehaven']"
      ]
     },
     "execution_count": 46,
     "metadata": {},
     "output_type": "execute_result"
    }
   ],
   "source": [
    "[i for i in nations]"
   ]
  },
  {
   "cell_type": "code",
   "execution_count": null,
   "metadata": {},
   "outputs": [],
   "source": []
  }
 ],
 "metadata": {
  "kernelspec": {
   "display_name": "Python 3",
   "language": "python",
   "name": "python3"
  },
  "language_info": {
   "codemirror_mode": {
    "name": "ipython",
    "version": 3
   },
   "file_extension": ".py",
   "mimetype": "text/x-python",
   "name": "python",
   "nbconvert_exporter": "python",
   "pygments_lexer": "ipython3",
   "version": "3.7.3"
  }
 },
 "nbformat": 4,
 "nbformat_minor": 2
}
