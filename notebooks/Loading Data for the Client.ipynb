{
 "cells": [
  {
   "cell_type": "markdown",
   "metadata": {},
   "source": [
    "# Getting the info that the client needs for D3.js\n",
    "\n",
    "Often it is easier to transform data in the backend to be used by D3. In general all data in D3 needs to be a list of dicts. In this example I'm using an existing `world` object to demonstrate the methods that do these transformations. "
   ]
  },
  {
   "cell_type": "code",
   "execution_count": 1,
   "metadata": {},
   "outputs": [],
   "source": [
    "#I'm mapping to the actual files in the repo so that I can also use this to troubleshoot\n",
    "import os\n",
    "import sys\n",
    "import numpy as np\n",
    "import pandas as pd\n",
    "import pickle\n",
    "import django\n",
    "sys.path.append('../..')\n",
    "#Loading my project settings from prodweb. This allows me to load and query models. \n",
    "os.environ.setdefault('DJANGO_SETTINGS_MODULE', 'prodweb.settings')\n",
    "django.setup()\n",
    "\n",
    "\n",
    "with (open(\"../pickles/billmanhworld.pkl\", 'rb')) as pickle_file:\n",
    "    world = pickle.load(pickle_file)"
   ]
  },
  {
   "cell_type": "code",
   "execution_count": 2,
   "metadata": {
    "scrolled": true
   },
   "outputs": [],
   "source": [
    "sys.path.append('..')\n",
    "from lib.builders import world as w"
   ]
  },
  {
   "cell_type": "markdown",
   "metadata": {},
   "source": [
    "`w.get_area_data(world)` gets the area relevant to where the character is. This includes surrounding areas."
   ]
  },
  {
   "cell_type": "code",
   "execution_count": 3,
   "metadata": {},
   "outputs": [
    {
     "data": {
      "text/plain": [
       "<game.lib.builders.world.World at 0x7f5995ae8f98>"
      ]
     },
     "execution_count": 3,
     "metadata": {},
     "output_type": "execute_result"
    }
   ],
   "source": [
    "world"
   ]
  },
  {
   "cell_type": "code",
   "execution_count": 4,
   "metadata": {},
   "outputs": [
    {
     "name": "stdout",
     "output_type": "stream",
     "text": [
      "[2, 30]\n"
     ]
    },
    {
     "data": {
      "text/html": [
       "<div>\n",
       "<style scoped>\n",
       "    .dataframe tbody tr th:only-of-type {\n",
       "        vertical-align: middle;\n",
       "    }\n",
       "\n",
       "    .dataframe tbody tr th {\n",
       "        vertical-align: top;\n",
       "    }\n",
       "\n",
       "    .dataframe thead th {\n",
       "        text-align: right;\n",
       "    }\n",
       "</style>\n",
       "<table border=\"1\" class=\"dataframe\">\n",
       "  <thead>\n",
       "    <tr style=\"text-align: right;\">\n",
       "      <th></th>\n",
       "      <th>aware</th>\n",
       "      <th>danger</th>\n",
       "      <th>elevation</th>\n",
       "      <th>feature</th>\n",
       "      <th>key</th>\n",
       "      <th>nation</th>\n",
       "      <th>nation number</th>\n",
       "      <th>rainfall</th>\n",
       "      <th>terrain</th>\n",
       "      <th>turn_last_visited</th>\n",
       "      <th>visited</th>\n",
       "      <th>x</th>\n",
       "      <th>y</th>\n",
       "    </tr>\n",
       "  </thead>\n",
       "  <tbody>\n",
       "    <tr>\n",
       "      <th>area</th>\n",
       "      <td>0</td>\n",
       "      <td>0.4</td>\n",
       "      <td>11</td>\n",
       "      <td>Cambridge</td>\n",
       "      <td>2:30</td>\n",
       "      <td>Snowring</td>\n",
       "      <td>2</td>\n",
       "      <td>11</td>\n",
       "      <td>town</td>\n",
       "      <td>0</td>\n",
       "      <td>1</td>\n",
       "      <td>2</td>\n",
       "      <td>30</td>\n",
       "    </tr>\n",
       "    <tr>\n",
       "      <th>NArea</th>\n",
       "      <td>NaN</td>\n",
       "      <td>NaN</td>\n",
       "      <td>NaN</td>\n",
       "      <td>NaN</td>\n",
       "      <td>NaN</td>\n",
       "      <td>NaN</td>\n",
       "      <td>NaN</td>\n",
       "      <td>NaN</td>\n",
       "      <td>void</td>\n",
       "      <td>NaN</td>\n",
       "      <td>NaN</td>\n",
       "      <td>NaN</td>\n",
       "      <td>NaN</td>\n",
       "    </tr>\n",
       "    <tr>\n",
       "      <th>SArea</th>\n",
       "      <td>NaN</td>\n",
       "      <td>NaN</td>\n",
       "      <td>NaN</td>\n",
       "      <td>NaN</td>\n",
       "      <td>NaN</td>\n",
       "      <td>NaN</td>\n",
       "      <td>NaN</td>\n",
       "      <td>NaN</td>\n",
       "      <td>void</td>\n",
       "      <td>NaN</td>\n",
       "      <td>NaN</td>\n",
       "      <td>NaN</td>\n",
       "      <td>NaN</td>\n",
       "    </tr>\n",
       "    <tr>\n",
       "      <th>EArea</th>\n",
       "      <td>NaN</td>\n",
       "      <td>NaN</td>\n",
       "      <td>NaN</td>\n",
       "      <td>NaN</td>\n",
       "      <td>NaN</td>\n",
       "      <td>NaN</td>\n",
       "      <td>NaN</td>\n",
       "      <td>NaN</td>\n",
       "      <td>void</td>\n",
       "      <td>NaN</td>\n",
       "      <td>NaN</td>\n",
       "      <td>NaN</td>\n",
       "      <td>NaN</td>\n",
       "    </tr>\n",
       "    <tr>\n",
       "      <th>WArea</th>\n",
       "      <td>NaN</td>\n",
       "      <td>NaN</td>\n",
       "      <td>NaN</td>\n",
       "      <td>NaN</td>\n",
       "      <td>NaN</td>\n",
       "      <td>NaN</td>\n",
       "      <td>NaN</td>\n",
       "      <td>NaN</td>\n",
       "      <td>void</td>\n",
       "      <td>NaN</td>\n",
       "      <td>NaN</td>\n",
       "      <td>NaN</td>\n",
       "      <td>NaN</td>\n",
       "    </tr>\n",
       "  </tbody>\n",
       "</table>\n",
       "</div>"
      ],
      "text/plain": [
       "      aware danger elevation    feature   key    nation nation number  \\\n",
       "area      0    0.4        11  Cambridge  2:30  Snowring             2   \n",
       "NArea   NaN    NaN       NaN        NaN   NaN       NaN           NaN   \n",
       "SArea   NaN    NaN       NaN        NaN   NaN       NaN           NaN   \n",
       "EArea   NaN    NaN       NaN        NaN   NaN       NaN           NaN   \n",
       "WArea   NaN    NaN       NaN        NaN   NaN       NaN           NaN   \n",
       "\n",
       "      rainfall terrain turn_last_visited visited    x    y  \n",
       "area        11    town                 0       1    2   30  \n",
       "NArea      NaN    void               NaN     NaN  NaN  NaN  \n",
       "SArea      NaN    void               NaN     NaN  NaN  NaN  \n",
       "EArea      NaN    void               NaN     NaN  NaN  NaN  \n",
       "WArea      NaN    void               NaN     NaN  NaN  NaN  "
      ]
     },
     "execution_count": 4,
     "metadata": {},
     "output_type": "execute_result"
    }
   ],
   "source": [
    "print(world.Character.location)\n",
    "pd.DataFrame(w.get_area_data(world)).T"
   ]
  },
  {
   "cell_type": "markdown",
   "metadata": {},
   "source": [
    "For other game principals, it's easy to just make regular `pandas` and `numpy` queries on those datasets. "
   ]
  },
  {
   "cell_type": "code",
   "execution_count": 5,
   "metadata": {
    "scrolled": true
   },
   "outputs": [
    {
     "data": {
      "text/plain": [
       "True"
      ]
     },
     "execution_count": 5,
     "metadata": {},
     "output_type": "execute_result"
    }
   ],
   "source": [
    "world.df_features.loc[world.Character.get_location_key(),'visited'] >= 1"
   ]
  },
  {
   "cell_type": "markdown",
   "metadata": {},
   "source": [
    "Querying the terrain is easy as well. For example, here is a query of all of the world where the _terrain_ is _desert_ and the _danger_ is above .5. These queries are fast and cheap. "
   ]
  },
  {
   "cell_type": "code",
   "execution_count": 6,
   "metadata": {
    "scrolled": true
   },
   "outputs": [
    {
     "data": {
      "text/html": [
       "<div>\n",
       "<style scoped>\n",
       "    .dataframe tbody tr th:only-of-type {\n",
       "        vertical-align: middle;\n",
       "    }\n",
       "\n",
       "    .dataframe tbody tr th {\n",
       "        vertical-align: top;\n",
       "    }\n",
       "\n",
       "    .dataframe thead th {\n",
       "        text-align: right;\n",
       "    }\n",
       "</style>\n",
       "<table border=\"1\" class=\"dataframe\">\n",
       "  <thead>\n",
       "    <tr style=\"text-align: right;\">\n",
       "      <th></th>\n",
       "      <th>y</th>\n",
       "      <th>rainfall</th>\n",
       "      <th>x</th>\n",
       "      <th>key</th>\n",
       "      <th>elevation</th>\n",
       "      <th>terrain</th>\n",
       "      <th>feature</th>\n",
       "      <th>nation number</th>\n",
       "      <th>nation</th>\n",
       "      <th>visited</th>\n",
       "      <th>aware</th>\n",
       "      <th>turn_last_visited</th>\n",
       "      <th>danger</th>\n",
       "    </tr>\n",
       "    <tr>\n",
       "      <th>key</th>\n",
       "      <th></th>\n",
       "      <th></th>\n",
       "      <th></th>\n",
       "      <th></th>\n",
       "      <th></th>\n",
       "      <th></th>\n",
       "      <th></th>\n",
       "      <th></th>\n",
       "      <th></th>\n",
       "      <th></th>\n",
       "      <th></th>\n",
       "      <th></th>\n",
       "      <th></th>\n",
       "    </tr>\n",
       "  </thead>\n",
       "  <tbody>\n",
       "    <tr>\n",
       "      <th>24:11</th>\n",
       "      <td>11</td>\n",
       "      <td>1.0</td>\n",
       "      <td>24</td>\n",
       "      <td>24:11</td>\n",
       "      <td>16.0</td>\n",
       "      <td>desert</td>\n",
       "      <td>NaN</td>\n",
       "      <td>1</td>\n",
       "      <td>Malvale</td>\n",
       "      <td>0</td>\n",
       "      <td>0</td>\n",
       "      <td>0</td>\n",
       "      <td>0.890</td>\n",
       "    </tr>\n",
       "    <tr>\n",
       "      <th>27:11</th>\n",
       "      <td>11</td>\n",
       "      <td>1.0</td>\n",
       "      <td>27</td>\n",
       "      <td>27:11</td>\n",
       "      <td>8.0</td>\n",
       "      <td>desert</td>\n",
       "      <td>NaN</td>\n",
       "      <td>1</td>\n",
       "      <td>Malvale</td>\n",
       "      <td>0</td>\n",
       "      <td>0</td>\n",
       "      <td>0</td>\n",
       "      <td>0.522</td>\n",
       "    </tr>\n",
       "    <tr>\n",
       "      <th>30:11</th>\n",
       "      <td>11</td>\n",
       "      <td>1.0</td>\n",
       "      <td>30</td>\n",
       "      <td>30:11</td>\n",
       "      <td>6.0</td>\n",
       "      <td>desert</td>\n",
       "      <td>NaN</td>\n",
       "      <td>1</td>\n",
       "      <td>Malvale</td>\n",
       "      <td>0</td>\n",
       "      <td>0</td>\n",
       "      <td>0</td>\n",
       "      <td>0.847</td>\n",
       "    </tr>\n",
       "    <tr>\n",
       "      <th>24:12</th>\n",
       "      <td>12</td>\n",
       "      <td>0.0</td>\n",
       "      <td>24</td>\n",
       "      <td>24:12</td>\n",
       "      <td>22.0</td>\n",
       "      <td>desert</td>\n",
       "      <td>NaN</td>\n",
       "      <td>1</td>\n",
       "      <td>Malvale</td>\n",
       "      <td>0</td>\n",
       "      <td>0</td>\n",
       "      <td>0</td>\n",
       "      <td>0.673</td>\n",
       "    </tr>\n",
       "    <tr>\n",
       "      <th>26:12</th>\n",
       "      <td>12</td>\n",
       "      <td>0.0</td>\n",
       "      <td>26</td>\n",
       "      <td>26:12</td>\n",
       "      <td>12.0</td>\n",
       "      <td>desert</td>\n",
       "      <td>NaN</td>\n",
       "      <td>1</td>\n",
       "      <td>Malvale</td>\n",
       "      <td>0</td>\n",
       "      <td>0</td>\n",
       "      <td>0</td>\n",
       "      <td>0.732</td>\n",
       "    </tr>\n",
       "  </tbody>\n",
       "</table>\n",
       "</div>"
      ],
      "text/plain": [
       "        y  rainfall   x    key  elevation terrain feature  nation number  \\\n",
       "key                                                                        \n",
       "24:11  11       1.0  24  24:11       16.0  desert     NaN              1   \n",
       "27:11  11       1.0  27  27:11        8.0  desert     NaN              1   \n",
       "30:11  11       1.0  30  30:11        6.0  desert     NaN              1   \n",
       "24:12  12       0.0  24  24:12       22.0  desert     NaN              1   \n",
       "26:12  12       0.0  26  26:12       12.0  desert     NaN              1   \n",
       "\n",
       "        nation  visited  aware  turn_last_visited  danger  \n",
       "key                                                        \n",
       "24:11  Malvale        0      0                  0   0.890  \n",
       "27:11  Malvale        0      0                  0   0.522  \n",
       "30:11  Malvale        0      0                  0   0.847  \n",
       "24:12  Malvale        0      0                  0   0.673  \n",
       "26:12  Malvale        0      0                  0   0.732  "
      ]
     },
     "execution_count": 6,
     "metadata": {},
     "output_type": "execute_result"
    }
   ],
   "source": [
    "world.df_features.loc[(world.df_features['terrain']=='desert') & \n",
    "                     (world.df_features['danger']>=.5)].head()"
   ]
  },
  {
   "cell_type": "markdown",
   "metadata": {},
   "source": [
    "You can also _mask_ the terrain where the character has no knowledge. "
   ]
  },
  {
   "cell_type": "code",
   "execution_count": 7,
   "metadata": {
    "scrolled": false
   },
   "outputs": [
    {
     "data": {
      "text/html": [
       "<div>\n",
       "<style scoped>\n",
       "    .dataframe tbody tr th:only-of-type {\n",
       "        vertical-align: middle;\n",
       "    }\n",
       "\n",
       "    .dataframe tbody tr th {\n",
       "        vertical-align: top;\n",
       "    }\n",
       "\n",
       "    .dataframe thead th {\n",
       "        text-align: right;\n",
       "    }\n",
       "</style>\n",
       "<table border=\"1\" class=\"dataframe\">\n",
       "  <thead>\n",
       "    <tr style=\"text-align: right;\">\n",
       "      <th></th>\n",
       "      <th>y</th>\n",
       "      <th>rainfall</th>\n",
       "      <th>x</th>\n",
       "      <th>key</th>\n",
       "      <th>elevation</th>\n",
       "      <th>terrain</th>\n",
       "      <th>feature</th>\n",
       "      <th>nation number</th>\n",
       "      <th>nation</th>\n",
       "      <th>visited</th>\n",
       "      <th>aware</th>\n",
       "      <th>turn_last_visited</th>\n",
       "      <th>danger</th>\n",
       "    </tr>\n",
       "    <tr>\n",
       "      <th>key</th>\n",
       "      <th></th>\n",
       "      <th></th>\n",
       "      <th></th>\n",
       "      <th></th>\n",
       "      <th></th>\n",
       "      <th></th>\n",
       "      <th></th>\n",
       "      <th></th>\n",
       "      <th></th>\n",
       "      <th></th>\n",
       "      <th></th>\n",
       "      <th></th>\n",
       "      <th></th>\n",
       "    </tr>\n",
       "  </thead>\n",
       "  <tbody>\n",
       "    <tr>\n",
       "      <th>0:0</th>\n",
       "      <td>0</td>\n",
       "      <td>9.0</td>\n",
       "      <td>0</td>\n",
       "      <td>0:0</td>\n",
       "      <td>0.0</td>\n",
       "      <td>ocean</td>\n",
       "      <td>NaN</td>\n",
       "      <td>4</td>\n",
       "      <td>Snowblaze</td>\n",
       "      <td>0</td>\n",
       "      <td>1</td>\n",
       "      <td>0</td>\n",
       "      <td>0.184</td>\n",
       "    </tr>\n",
       "    <tr>\n",
       "      <th>1:0</th>\n",
       "      <td>0</td>\n",
       "      <td>10.0</td>\n",
       "      <td>1</td>\n",
       "      <td>1:0</td>\n",
       "      <td>2.0</td>\n",
       "      <td>ocean</td>\n",
       "      <td>NaN</td>\n",
       "      <td>4</td>\n",
       "      <td>Snowblaze</td>\n",
       "      <td>0</td>\n",
       "      <td>1</td>\n",
       "      <td>0</td>\n",
       "      <td>0.289</td>\n",
       "    </tr>\n",
       "    <tr>\n",
       "      <th>2:0</th>\n",
       "      <td>0</td>\n",
       "      <td>13.0</td>\n",
       "      <td>2</td>\n",
       "      <td>2:0</td>\n",
       "      <td>2.0</td>\n",
       "      <td>ocean</td>\n",
       "      <td>NaN</td>\n",
       "      <td>4</td>\n",
       "      <td>Snowblaze</td>\n",
       "      <td>0</td>\n",
       "      <td>1</td>\n",
       "      <td>0</td>\n",
       "      <td>-0.107</td>\n",
       "    </tr>\n",
       "    <tr>\n",
       "      <th>3:0</th>\n",
       "      <td>0</td>\n",
       "      <td>17.0</td>\n",
       "      <td>3</td>\n",
       "      <td>3:0</td>\n",
       "      <td>-1.0</td>\n",
       "      <td>ocean</td>\n",
       "      <td>NaN</td>\n",
       "      <td>4</td>\n",
       "      <td>Snowblaze</td>\n",
       "      <td>0</td>\n",
       "      <td>1</td>\n",
       "      <td>0</td>\n",
       "      <td>0.263</td>\n",
       "    </tr>\n",
       "    <tr>\n",
       "      <th>4:0</th>\n",
       "      <td>0</td>\n",
       "      <td>22.0</td>\n",
       "      <td>4</td>\n",
       "      <td>4:0</td>\n",
       "      <td>-1.0</td>\n",
       "      <td>ocean</td>\n",
       "      <td>NaN</td>\n",
       "      <td>4</td>\n",
       "      <td>Snowblaze</td>\n",
       "      <td>0</td>\n",
       "      <td>1</td>\n",
       "      <td>0</td>\n",
       "      <td>0.435</td>\n",
       "    </tr>\n",
       "  </tbody>\n",
       "</table>\n",
       "</div>"
      ],
      "text/plain": [
       "     y  rainfall  x  key  elevation terrain feature nation number     nation  \\\n",
       "key                                                                            \n",
       "0:0  0       9.0  0  0:0        0.0   ocean     NaN             4  Snowblaze   \n",
       "1:0  0      10.0  1  1:0        2.0   ocean     NaN             4  Snowblaze   \n",
       "2:0  0      13.0  2  2:0        2.0   ocean     NaN             4  Snowblaze   \n",
       "3:0  0      17.0  3  3:0       -1.0   ocean     NaN             4  Snowblaze   \n",
       "4:0  0      22.0  4  4:0       -1.0   ocean     NaN             4  Snowblaze   \n",
       "\n",
       "     visited  aware  turn_last_visited  danger  \n",
       "key                                             \n",
       "0:0        0      1                  0   0.184  \n",
       "1:0        0      1                  0   0.289  \n",
       "2:0        0      1                  0  -0.107  \n",
       "3:0        0      1                  0   0.263  \n",
       "4:0        0      1                  0   0.435  "
      ]
     },
     "execution_count": 7,
     "metadata": {},
     "output_type": "execute_result"
    }
   ],
   "source": [
    "masked_world = w.mask_unknown(world)\n",
    "world.Character.title = \"Noble\"\n",
    "masked_world.head()"
   ]
  },
  {
   "cell_type": "markdown",
   "metadata": {},
   "source": [
    "## Analysis via list comprehension"
   ]
  },
  {
   "cell_type": "markdown",
   "metadata": {},
   "source": [
    "Querying people is also easy, but you need to use _list comprehension_ to do it. This is the general structure. "
   ]
  },
  {
   "cell_type": "code",
   "execution_count": 8,
   "metadata": {},
   "outputs": [
    {
     "data": {
      "text/plain": [
       "[['Elissove', 'Theklipak', 'Lackrnan', 'Defrep', 'Shosalkath'],\n",
       " ['Quigennis', 'Aloreshent', 'Pifaddab', 'Zhahorkess'],\n",
       " ['Marrath', 'Xallad', 'Elobrat'],\n",
       " ['Xarnust', 'Bropproh', 'Shosalkur'],\n",
       " ['Elekrackep', 'Quanetteh'],\n",
       " ['Illiahilloe', 'Kilsot', 'Kindod', 'Behorka'],\n",
       " ['Soklipep', 'Quakillan', 'Alowil'],\n",
       " ['Olspove', 'Sheldosh'],\n",
       " ['Xibrane', 'Quokrackelton'],\n",
       " ['Mirpan', 'Pepeltun'],\n",
       " ['Vasassoe', 'Thegrish', 'Zhobrett'],\n",
       " ['Tafillur', 'Tholnodin', 'Drondaf'],\n",
       " ['Truranda', 'Kirpart', 'Alscir'],\n",
       " ['Parushunt', 'Noppsodin', 'Chiladdis'],\n",
       " ['Ozennea', 'Xiyellish'],\n",
       " ['Kannis', 'Stupartis'],\n",
       " ['Ulrushic', 'Dowildumber'],\n",
       " ['Senettnan'],\n",
       " ['Irareshnan']]"
      ]
     },
     "execution_count": 8,
     "metadata": {},
     "output_type": "execute_result"
    }
   ],
   "source": [
    "[[person.name for person in t.population] for t in world.towns]"
   ]
  },
  {
   "cell_type": "markdown",
   "metadata": {},
   "source": [
    "Query the people in the town by setting conditions in the list. These people are the highest in temperment. "
   ]
  },
  {
   "cell_type": "code",
   "execution_count": 9,
   "metadata": {},
   "outputs": [
    {
     "data": {
      "text/plain": [
       "[[('Elissove', 0.54),\n",
       "  ('Theklipak', 0.91),\n",
       "  ('Lackrnan', 0.71),\n",
       "  ('Shosalkath', 0.64)],\n",
       " [('Aloreshent', 0.77), ('Pifaddab', 0.94), ('Zhahorkess', 0.67)],\n",
       " [('Xallad', 0.94)],\n",
       " [('Bropproh', 0.58), ('Shosalkur', 0.83)],\n",
       " [('Elekrackep', 0.67)],\n",
       " [('Illiahilloe', 0.95), ('Kilsot', 0.66), ('Kindod', 1.0), ('Behorka', 0.72)],\n",
       " [('Soklipep', 0.82)],\n",
       " [],\n",
       " [('Quokrackelton', 0.61)],\n",
       " [('Pepeltun', 0.85)],\n",
       " [('Vasassoe', 0.93), ('Thegrish', 0.83), ('Zhobrett', 0.51)],\n",
       " [('Tafillur', 0.86), ('Tholnodin', 0.76)],\n",
       " [('Truranda', 0.72), ('Kirpart', 0.62)],\n",
       " [('Parushunt', 0.54), ('Chiladdis', 0.84)],\n",
       " [('Ozennea', 0.9), ('Xiyellish', 0.59)],\n",
       " [('Kannis', 0.61)],\n",
       " [('Ulrushic', 0.96), ('Dowildumber', 0.81)],\n",
       " [],\n",
       " [('Irareshnan', 0.86)]]"
      ]
     },
     "execution_count": 9,
     "metadata": {},
     "output_type": "execute_result"
    }
   ],
   "source": [
    "[[(person.name,person.temperment) for person in t.population if person.temperment>.5] for t in world.towns]"
   ]
  },
  {
   "cell_type": "markdown",
   "metadata": {},
   "source": [
    "You can also get summary stats on towns. For example, the average temperment per town."
   ]
  },
  {
   "cell_type": "code",
   "execution_count": 10,
   "metadata": {},
   "outputs": [
    {
     "data": {
      "text/plain": [
       "[('Starlair', 0.632),\n",
       " ('Tearhenge', 0.6575),\n",
       " ('Snakespike', 0.36999999999999994),\n",
       " ('Demonsforth', 0.5233333333333333),\n",
       " ('Soilloch', 0.43500000000000005),\n",
       " ('Rockmore', 0.8325),\n",
       " ('Cambridge', 0.5299999999999999),\n",
       " ('Fencoil', 0.12000000000000001),\n",
       " ('Rocklight', 0.495),\n",
       " ('Coreloch', 0.45),\n",
       " ('Hellcraft', 0.7566666666666667),\n",
       " ('Lionblaze', 0.5933333333333334),\n",
       " ('Waterridge', 0.6033333333333333),\n",
       " ('Fairfold', 0.52),\n",
       " ('Fenring', 0.745),\n",
       " ('Malhail', 0.48),\n",
       " ('Rockhenge', 0.885),\n",
       " ('Badgervale', 0.08),\n",
       " ('Lionkeep', 0.86)]"
      ]
     },
     "execution_count": 10,
     "metadata": {},
     "output_type": "execute_result"
    }
   ],
   "source": [
    "[(t.name,np.mean([person.temperment for person in t.population])) for t in world.towns]"
   ]
  },
  {
   "cell_type": "markdown",
   "metadata": {},
   "source": [
    "For some purposes you may want to get a collection of people and edit them in bulk. This is also possible using list comprehension. "
   ]
  },
  {
   "cell_type": "code",
   "execution_count": 11,
   "metadata": {},
   "outputs": [
    {
     "data": {
      "text/plain": [
       "[{'town': capitol of Cambridge: population: 3 location: [2,30] founded 1006,\n",
       "  'people': [Soklipep the Speaker of Cambridge,\n",
       "   Quakillan the commoner,\n",
       "   Alowil the commoner]}]"
      ]
     },
     "execution_count": 11,
     "metadata": {},
     "output_type": "execute_result"
    }
   ],
   "source": [
    "w.get_people_where_char_has_visited(world)"
   ]
  },
  {
   "cell_type": "code",
   "execution_count": 12,
   "metadata": {},
   "outputs": [
    {
     "data": {
      "text/plain": [
       "{'town': capitol of Cambridge: population: 3 location: [2,30] founded 1006,\n",
       " 'people': [Soklipep the Speaker of Cambridge,\n",
       "  Quakillan the commoner,\n",
       "  Alowil the commoner]}"
      ]
     },
     "execution_count": 12,
     "metadata": {},
     "output_type": "execute_result"
    }
   ],
   "source": [
    "r = w.get_people_where_char_has_visited(world)[0]\n",
    "r"
   ]
  },
  {
   "cell_type": "code",
   "execution_count": 13,
   "metadata": {},
   "outputs": [
    {
     "data": {
      "text/plain": [
       "'Cambridge'"
      ]
     },
     "execution_count": 13,
     "metadata": {},
     "output_type": "execute_result"
    }
   ],
   "source": [
    "r['town'].nation"
   ]
  },
  {
   "cell_type": "code",
   "execution_count": 14,
   "metadata": {},
   "outputs": [
    {
     "data": {
      "text/plain": [
       "[{'name': 'Cambridge',\n",
       "  'title': 'capitol of Cambridge',\n",
       "  'nation': 'Cambridge',\n",
       "  'population': 3,\n",
       "  'type': 'capitol',\n",
       "  'location': '2:30',\n",
       "  'founded year': 1006,\n",
       "  'children': [{'name': 'Soklipep',\n",
       "    'role': 'Speaker of Cambridge',\n",
       "    'temperment': 0.82,\n",
       "    'loyalty': 0.5,\n",
       "    'type': 'person'},\n",
       "   {'name': 'Quakillan',\n",
       "    'role': 'commoner',\n",
       "    'temperment': 0.34,\n",
       "    'loyalty': 0.5,\n",
       "    'type': 'person'},\n",
       "   {'name': 'Alowil',\n",
       "    'role': 'commoner',\n",
       "    'temperment': 0.43,\n",
       "    'loyalty': 0.5,\n",
       "    'type': 'person'}]}]"
      ]
     },
     "execution_count": 14,
     "metadata": {},
     "output_type": "execute_result"
    }
   ],
   "source": [
    "w.get_relationships_node_map(world)"
   ]
  },
  {
   "cell_type": "markdown",
   "metadata": {},
   "source": [
    "## Getting map data (mapData): "
   ]
  },
  {
   "cell_type": "code",
   "execution_count": 28,
   "metadata": {},
   "outputs": [
    {
     "data": {
      "text/plain": [
       "{'area': {'y': 30,\n",
       "  'rainfall': 11.0,\n",
       "  'x': 2,\n",
       "  'key': '2:30',\n",
       "  'elevation': 11.0,\n",
       "  'terrain': 'town',\n",
       "  'feature': 'Cambridge',\n",
       "  'nation number': 2,\n",
       "  'nation': 'Snowring',\n",
       "  'visited': 1,\n",
       "  'aware': 0,\n",
       "  'turn_last_visited': 0,\n",
       "  'danger': 0.4},\n",
       " 'NArea': {'terrain': 'void'},\n",
       " 'SArea': {'terrain': 'void'},\n",
       " 'EArea': {'terrain': 'void'},\n",
       " 'WArea': {'terrain': 'void'}}"
      ]
     },
     "execution_count": 28,
     "metadata": {},
     "output_type": "execute_result"
    }
   ],
   "source": [
    "def coordkey(coord):\n",
    "    '''\n",
    "    takes a coord [1,1], returns key \"1:1\"\n",
    "    '''\n",
    "    key = \":\".join([str(i) for i in coord])\n",
    "    return key\n",
    "\n",
    "\n",
    "def get_features_or_NA(world,coord):\n",
    "    try:\n",
    "        l = world.df_features.loc[\n",
    "                chordKey([\n",
    "                    int(coord[0]),int(coord[1])\n",
    "                    ])\n",
    "                ].fillna(\"none\").to_dict(),\n",
    "    except: \n",
    "        l = [{\"terrain\":\"void\"}]\n",
    "    return l[0]\n",
    "\n",
    "\n",
    "def get_area_data(world):\n",
    "    \"\"\"\n",
    "    note: requires Character\n",
    "    \"\"\"\n",
    "    mapData = {}\n",
    "    coord = world.Character.location\n",
    "    key = world.Character.get_location_key()\n",
    "    l = world.df_features.loc[key]\n",
    "    mapData = {'area':world.df_features.loc[key].fillna(\"none\").to_dict(),\n",
    "              'NArea':get_features_or_NA(world,[coord[0],coord[1]-1]),\n",
    "              'SArea':get_features_or_NA(world,[coord[0],coord[1]+1]),\n",
    "              'EArea':get_features_or_NA(world,[coord[0]+1,coord[1]]),\n",
    "              'WArea':get_features_or_NA(world,[coord[0]-1,coord[1]])}\n",
    "    return mapData\n",
    "\n",
    "\n",
    "get_area_data(world)"
   ]
  },
  {
   "cell_type": "code",
   "execution_count": 31,
   "metadata": {},
   "outputs": [
    {
     "ename": "NameError",
     "evalue": "name 'chordKey' is not defined",
     "output_type": "error",
     "traceback": [
      "\u001b[0;31m---------------------------------------------------------------------------\u001b[0m",
      "\u001b[0;31mNameError\u001b[0m                                 Traceback (most recent call last)",
      "\u001b[0;32m<ipython-input-31-d1ec6af499e8>\u001b[0m in \u001b[0;36m<module>\u001b[0;34m\u001b[0m\n\u001b[1;32m      1\u001b[0m world.df_features.loc[\n\u001b[0;32m----> 2\u001b[0;31m                 chordKey([\n\u001b[0m\u001b[1;32m      3\u001b[0m                     \u001b[0mint\u001b[0m\u001b[0;34m(\u001b[0m\u001b[0mcoord\u001b[0m\u001b[0;34m[\u001b[0m\u001b[0;36m0\u001b[0m\u001b[0;34m]\u001b[0m\u001b[0;34m)\u001b[0m\u001b[0;34m,\u001b[0m\u001b[0mint\u001b[0m\u001b[0;34m(\u001b[0m\u001b[0mcoord\u001b[0m\u001b[0;34m[\u001b[0m\u001b[0;36m1\u001b[0m\u001b[0;34m]\u001b[0m\u001b[0;34m)\u001b[0m\u001b[0;34m\u001b[0m\u001b[0;34m\u001b[0m\u001b[0m\n\u001b[1;32m      4\u001b[0m                     ])\n\u001b[1;32m      5\u001b[0m                 ]\n",
      "\u001b[0;31mNameError\u001b[0m: name 'chordKey' is not defined"
     ]
    }
   ],
   "source": [
    "world.df_features.loc[\n",
    "                chordKey([\n",
    "                    int(coord[0]),int(coord[1])\n",
    "                    ])\n",
    "                ]"
   ]
  },
  {
   "cell_type": "code",
   "execution_count": 30,
   "metadata": {},
   "outputs": [
    {
     "data": {
      "text/plain": [
       "{'terrain': 'void'}"
      ]
     },
     "execution_count": 30,
     "metadata": {},
     "output_type": "execute_result"
    }
   ],
   "source": [
    "get_features_or_NA(world,[coord[0],coord[1]-1])"
   ]
  },
  {
   "cell_type": "code",
   "execution_count": null,
   "metadata": {},
   "outputs": [],
   "source": [
    "nations_where_character_has_been = np.unique(where_the_char_has_been['nation'].dropna())\n",
    "nations_where_character_has_been"
   ]
  },
  {
   "cell_type": "markdown",
   "metadata": {},
   "source": [
    "You can use this to get lists of people who the character knows. "
   ]
  },
  {
   "cell_type": "code",
   "execution_count": null,
   "metadata": {},
   "outputs": [],
   "source": [
    "[[t for t in n.get_all_towns(world)] for n in world.nations if n.name in nations_where_character_has_been]"
   ]
  },
  {
   "cell_type": "code",
   "execution_count": null,
   "metadata": {},
   "outputs": [],
   "source": [
    "[[t for t in T.population] for T in world.towns if T.nation in nations_where_character_has_been]"
   ]
  },
  {
   "cell_type": "code",
   "execution_count": null,
   "metadata": {},
   "outputs": [],
   "source": [
    "[(T.nation,T.name) for T in world.towns]"
   ]
  },
  {
   "cell_type": "code",
   "execution_count": null,
   "metadata": {
    "scrolled": true
   },
   "outputs": [],
   "source": [
    "[[t.get_person_data() for t in T.population] for T in world.towns if T.nation in nations_where_character_has_been]"
   ]
  },
  {
   "cell_type": "code",
   "execution_count": null,
   "metadata": {},
   "outputs": [],
   "source": [
    "masked_world.loc[world.Character.get_location_key()]"
   ]
  },
  {
   "cell_type": "markdown",
   "metadata": {},
   "source": [
    "You can query nations or towns. `world.nations` is a list of _nations_ and `world.towns` is a list of _towns_"
   ]
  },
  {
   "cell_type": "code",
   "execution_count": null,
   "metadata": {
    "scrolled": true
   },
   "outputs": [],
   "source": [
    "where_the_char_has_been = world.df_features.loc[(world.df_features['visited']==1)&\n",
    "                                                (world.df_features['terrain']=='town')]\n",
    "where_the_char_has_been"
   ]
  },
  {
   "cell_type": "markdown",
   "metadata": {},
   "source": [
    "## Getting the diplomacy and relationships data for the journal page"
   ]
  },
  {
   "cell_type": "code",
   "execution_count": null,
   "metadata": {},
   "outputs": [],
   "source": [
    "rel = w.get_people_where_char_has_visited(world)\n",
    "rel"
   ]
  },
  {
   "cell_type": "code",
   "execution_count": null,
   "metadata": {},
   "outputs": [],
   "source": [
    "w.get_relationships_node_map(world)"
   ]
  },
  {
   "cell_type": "code",
   "execution_count": null,
   "metadata": {},
   "outputs": [],
   "source": [
    "hierarchy = [{'nation':i.name,\n",
    "              'children':i.diplomacy} for i in world.nations]\n",
    "\n"
   ]
  },
  {
   "cell_type": "code",
   "execution_count": null,
   "metadata": {},
   "outputs": [],
   "source": [
    "p = rel[0]['town'].population[0]\n"
   ]
  },
  {
   "cell_type": "code",
   "execution_count": null,
   "metadata": {},
   "outputs": [],
   "source": [
    "def get_people_where_char_has_visited(world):\n",
    "    \"\"\"\n",
    "    returns a dictionary of {{\"town\":[<obj>],\"people\":[<obj>]}\n",
    "    filtered to where the character has been. \n",
    "    \"\"\"\n",
    "    where_the_char_has_been = world.df_features.loc[(world.df_features['visited']==1)&\n",
    "                                                    (world.df_features['terrain']=='town')].dropna()\n",
    "    towns_and_people = [{\"town\":T,\n",
    "                         \"people\":[t for t in T.population]} \n",
    "                        for T in world.towns if T.name in np.unique(w.where_the_char_has_been['feature'])]\n",
    "    return towns_and_people\n",
    "\n",
    "def get_relationships_node_map(world):\n",
    "    nodes = [{'name':r['town'].name,\n",
    "              'title':str(r['town']).split(\":\")[0],\n",
    "              'nation':r['town'].diplomacy['nation'],\n",
    "              'population':r['town'].pop,\n",
    "              'type':r['town'].type,\n",
    "              'location':r['town'].key,\n",
    "              'founded year':r['town'].founded,\n",
    "              'national fealty':r['town'].diplomacy['national fealty'],\n",
    "             'children': [{'name':p.name,\n",
    "                          'role':p.role,\n",
    "                          'temperment':p.temperment,\n",
    "                          'loyalty':p.loyalty,\n",
    "                          'type':'person'} for p in r['people']]} \n",
    "             for r in w.get_people_where_char_has_visited(world)]\n",
    "    return nodes\n",
    "        \n",
    "w.get_people_where_char_has_visited(world)"
   ]
  },
  {
   "cell_type": "code",
   "execution_count": null,
   "metadata": {},
   "outputs": [],
   "source": [
    "relationships = w.get_relationships_node_map(world)\n",
    "relationships"
   ]
  },
  {
   "cell_type": "code",
   "execution_count": null,
   "metadata": {},
   "outputs": [],
   "source": [
    "nations = [s['nation'] for s in relationships]\n",
    "nations"
   ]
  },
  {
   "cell_type": "code",
   "execution_count": null,
   "metadata": {},
   "outputs": [],
   "source": [
    "[i for i in relationships]"
   ]
  },
  {
   "cell_type": "code",
   "execution_count": null,
   "metadata": {},
   "outputs": [],
   "source": [
    "[{'nation':i,'towns':[t for t in relationships if t['nation']==i]} for i in nations]"
   ]
  },
  {
   "cell_type": "code",
   "execution_count": null,
   "metadata": {},
   "outputs": [],
   "source": [
    "[i for i in nations]"
   ]
  },
  {
   "cell_type": "code",
   "execution_count": null,
   "metadata": {},
   "outputs": [],
   "source": []
  }
 ],
 "metadata": {
  "kernelspec": {
   "display_name": "Python 3",
   "language": "python",
   "name": "python3"
  },
  "language_info": {
   "codemirror_mode": {
    "name": "ipython",
    "version": 3
   },
   "file_extension": ".py",
   "mimetype": "text/x-python",
   "name": "python",
   "nbconvert_exporter": "python",
   "pygments_lexer": "ipython3",
   "version": "3.7.3"
  }
 },
 "nbformat": 4,
 "nbformat_minor": 2
}
