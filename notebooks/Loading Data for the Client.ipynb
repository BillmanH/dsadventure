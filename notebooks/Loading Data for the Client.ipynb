{
 "cells": [
  {
   "cell_type": "markdown",
   "metadata": {},
   "source": [
    "# Getting the info that the client needs for D3.js\n",
    "\n",
    "Often it is easier to transform data in the backend to be used by D3. In general all data in D3 needs to be a list of dicts. In this example I'm using an existing `world` object to demonstrate the methods that do these transformations. "
   ]
  },
  {
   "cell_type": "code",
   "execution_count": 1,
   "metadata": {},
   "outputs": [],
   "source": [
    "#I'm mapping to the actual files in the repo so that I can also use this to troubleshoot\n",
    "import os\n",
    "import sys\n",
    "import numpy as np\n",
    "import pandas as pd\n",
    "import pickle\n",
    "import django\n",
    "sys.path.append('../..')\n",
    "#Loading my project settings from prodweb. This allows me to load and query models. \n",
    "os.environ.setdefault('DJANGO_SETTINGS_MODULE', 'prodweb.settings')\n",
    "django.setup()\n",
    "\n",
    "\n",
    "with (open(\"../pickles/billmanhworld.pkl\", 'rb')) as pickle_file:\n",
    "    world = pickle.load(pickle_file)"
   ]
  },
  {
   "cell_type": "code",
   "execution_count": 2,
   "metadata": {
    "scrolled": true
   },
   "outputs": [],
   "source": [
    "sys.path.append('..')\n",
    "from lib.builders import world as w"
   ]
  },
  {
   "cell_type": "markdown",
   "metadata": {},
   "source": [
    "`w.get_area_data(world)` gets the area relevant to where the character is. This includes surrounding areas."
   ]
  },
  {
   "cell_type": "code",
   "execution_count": 3,
   "metadata": {},
   "outputs": [
    {
     "data": {
      "text/plain": [
       "<game.lib.builders.world.World at 0x7f3707acdbe0>"
      ]
     },
     "execution_count": 3,
     "metadata": {},
     "output_type": "execute_result"
    }
   ],
   "source": [
    "world"
   ]
  },
  {
   "cell_type": "code",
   "execution_count": 4,
   "metadata": {},
   "outputs": [
    {
     "name": "stdout",
     "output_type": "stream",
     "text": [
      "[16, 33]\n"
     ]
    },
    {
     "data": {
      "text/html": [
       "<div>\n",
       "<style scoped>\n",
       "    .dataframe tbody tr th:only-of-type {\n",
       "        vertical-align: middle;\n",
       "    }\n",
       "\n",
       "    .dataframe tbody tr th {\n",
       "        vertical-align: top;\n",
       "    }\n",
       "\n",
       "    .dataframe thead th {\n",
       "        text-align: right;\n",
       "    }\n",
       "</style>\n",
       "<table border=\"1\" class=\"dataframe\">\n",
       "  <thead>\n",
       "    <tr style=\"text-align: right;\">\n",
       "      <th></th>\n",
       "      <th>aware</th>\n",
       "      <th>danger</th>\n",
       "      <th>elevation</th>\n",
       "      <th>feature</th>\n",
       "      <th>key</th>\n",
       "      <th>nation</th>\n",
       "      <th>nation number</th>\n",
       "      <th>rainfall</th>\n",
       "      <th>terrain</th>\n",
       "      <th>turn_last_visited</th>\n",
       "      <th>visited</th>\n",
       "      <th>x</th>\n",
       "      <th>y</th>\n",
       "    </tr>\n",
       "  </thead>\n",
       "  <tbody>\n",
       "    <tr>\n",
       "      <th>area</th>\n",
       "      <td>1</td>\n",
       "      <td>1.005</td>\n",
       "      <td>42</td>\n",
       "      <td>Magerail</td>\n",
       "      <td>16:33</td>\n",
       "      <td>Ratspring</td>\n",
       "      <td>5</td>\n",
       "      <td>30</td>\n",
       "      <td>town</td>\n",
       "      <td>0</td>\n",
       "      <td>1</td>\n",
       "      <td>16</td>\n",
       "      <td>33</td>\n",
       "    </tr>\n",
       "    <tr>\n",
       "      <th>NArea</th>\n",
       "      <td>1</td>\n",
       "      <td>0.382</td>\n",
       "      <td>43</td>\n",
       "      <td>none</td>\n",
       "      <td>16:32</td>\n",
       "      <td>Ratspring</td>\n",
       "      <td>5</td>\n",
       "      <td>33</td>\n",
       "      <td>mountain</td>\n",
       "      <td>0</td>\n",
       "      <td>0</td>\n",
       "      <td>16</td>\n",
       "      <td>32</td>\n",
       "    </tr>\n",
       "    <tr>\n",
       "      <th>SArea</th>\n",
       "      <td>1</td>\n",
       "      <td>0.624</td>\n",
       "      <td>42</td>\n",
       "      <td>none</td>\n",
       "      <td>16:34</td>\n",
       "      <td>Ratspring</td>\n",
       "      <td>5</td>\n",
       "      <td>29</td>\n",
       "      <td>mountain</td>\n",
       "      <td>0</td>\n",
       "      <td>0</td>\n",
       "      <td>16</td>\n",
       "      <td>34</td>\n",
       "    </tr>\n",
       "    <tr>\n",
       "      <th>EArea</th>\n",
       "      <td>1</td>\n",
       "      <td>0.498</td>\n",
       "      <td>43</td>\n",
       "      <td>none</td>\n",
       "      <td>17:33</td>\n",
       "      <td>Ratspring</td>\n",
       "      <td>5</td>\n",
       "      <td>30</td>\n",
       "      <td>mountain</td>\n",
       "      <td>0</td>\n",
       "      <td>0</td>\n",
       "      <td>17</td>\n",
       "      <td>33</td>\n",
       "    </tr>\n",
       "    <tr>\n",
       "      <th>WArea</th>\n",
       "      <td>1</td>\n",
       "      <td>0.716</td>\n",
       "      <td>41</td>\n",
       "      <td>none</td>\n",
       "      <td>15:33</td>\n",
       "      <td>Ratspring</td>\n",
       "      <td>5</td>\n",
       "      <td>28</td>\n",
       "      <td>mountain</td>\n",
       "      <td>0</td>\n",
       "      <td>0</td>\n",
       "      <td>15</td>\n",
       "      <td>33</td>\n",
       "    </tr>\n",
       "  </tbody>\n",
       "</table>\n",
       "</div>"
      ],
      "text/plain": [
       "      aware danger elevation   feature    key     nation nation number  \\\n",
       "area      1  1.005        42  Magerail  16:33  Ratspring             5   \n",
       "NArea     1  0.382        43      none  16:32  Ratspring             5   \n",
       "SArea     1  0.624        42      none  16:34  Ratspring             5   \n",
       "EArea     1  0.498        43      none  17:33  Ratspring             5   \n",
       "WArea     1  0.716        41      none  15:33  Ratspring             5   \n",
       "\n",
       "      rainfall   terrain turn_last_visited visited   x   y  \n",
       "area        30      town                 0       1  16  33  \n",
       "NArea       33  mountain                 0       0  16  32  \n",
       "SArea       29  mountain                 0       0  16  34  \n",
       "EArea       30  mountain                 0       0  17  33  \n",
       "WArea       28  mountain                 0       0  15  33  "
      ]
     },
     "execution_count": 4,
     "metadata": {},
     "output_type": "execute_result"
    }
   ],
   "source": [
    "print(world.Character.location)\n",
    "pd.DataFrame(w.get_area_data(world)).T"
   ]
  },
  {
   "cell_type": "markdown",
   "metadata": {},
   "source": [
    "For other game principals, it's easy to just make regular `pandas` and `numpy` queries on those datasets. "
   ]
  },
  {
   "cell_type": "code",
   "execution_count": 5,
   "metadata": {
    "scrolled": true
   },
   "outputs": [
    {
     "data": {
      "text/plain": [
       "True"
      ]
     },
     "execution_count": 5,
     "metadata": {},
     "output_type": "execute_result"
    }
   ],
   "source": [
    "world.df_features.loc[world.Character.get_location_key(),'visited'] >= 1"
   ]
  },
  {
   "cell_type": "markdown",
   "metadata": {},
   "source": [
    "Querying the terrain is easy as well. For example, here is a query of all of the world where the _terrain_ is _desert_ and the _danger_ is above .5. These queries are fast and cheap. "
   ]
  },
  {
   "cell_type": "code",
   "execution_count": 6,
   "metadata": {
    "scrolled": true
   },
   "outputs": [
    {
     "data": {
      "text/html": [
       "<div>\n",
       "<style scoped>\n",
       "    .dataframe tbody tr th:only-of-type {\n",
       "        vertical-align: middle;\n",
       "    }\n",
       "\n",
       "    .dataframe tbody tr th {\n",
       "        vertical-align: top;\n",
       "    }\n",
       "\n",
       "    .dataframe thead th {\n",
       "        text-align: right;\n",
       "    }\n",
       "</style>\n",
       "<table border=\"1\" class=\"dataframe\">\n",
       "  <thead>\n",
       "    <tr style=\"text-align: right;\">\n",
       "      <th></th>\n",
       "      <th>y</th>\n",
       "      <th>rainfall</th>\n",
       "      <th>x</th>\n",
       "      <th>key</th>\n",
       "      <th>elevation</th>\n",
       "      <th>terrain</th>\n",
       "      <th>feature</th>\n",
       "      <th>nation number</th>\n",
       "      <th>nation</th>\n",
       "      <th>visited</th>\n",
       "      <th>aware</th>\n",
       "      <th>turn_last_visited</th>\n",
       "      <th>danger</th>\n",
       "    </tr>\n",
       "    <tr>\n",
       "      <th>key</th>\n",
       "      <th></th>\n",
       "      <th></th>\n",
       "      <th></th>\n",
       "      <th></th>\n",
       "      <th></th>\n",
       "      <th></th>\n",
       "      <th></th>\n",
       "      <th></th>\n",
       "      <th></th>\n",
       "      <th></th>\n",
       "      <th></th>\n",
       "      <th></th>\n",
       "      <th></th>\n",
       "    </tr>\n",
       "  </thead>\n",
       "  <tbody>\n",
       "    <tr>\n",
       "      <th>28:1</th>\n",
       "      <td>1</td>\n",
       "      <td>0.0</td>\n",
       "      <td>28</td>\n",
       "      <td>28:1</td>\n",
       "      <td>7.0</td>\n",
       "      <td>desert</td>\n",
       "      <td>NaN</td>\n",
       "      <td>3</td>\n",
       "      <td>Fenfort</td>\n",
       "      <td>0</td>\n",
       "      <td>0</td>\n",
       "      <td>0</td>\n",
       "      <td>0.612</td>\n",
       "    </tr>\n",
       "    <tr>\n",
       "      <th>29:1</th>\n",
       "      <td>1</td>\n",
       "      <td>0.0</td>\n",
       "      <td>29</td>\n",
       "      <td>29:1</td>\n",
       "      <td>8.0</td>\n",
       "      <td>desert</td>\n",
       "      <td>NaN</td>\n",
       "      <td>3</td>\n",
       "      <td>Fenfort</td>\n",
       "      <td>0</td>\n",
       "      <td>0</td>\n",
       "      <td>0</td>\n",
       "      <td>0.765</td>\n",
       "    </tr>\n",
       "    <tr>\n",
       "      <th>30:1</th>\n",
       "      <td>1</td>\n",
       "      <td>0.0</td>\n",
       "      <td>30</td>\n",
       "      <td>30:1</td>\n",
       "      <td>8.0</td>\n",
       "      <td>desert</td>\n",
       "      <td>NaN</td>\n",
       "      <td>3</td>\n",
       "      <td>Fenfort</td>\n",
       "      <td>0</td>\n",
       "      <td>0</td>\n",
       "      <td>0</td>\n",
       "      <td>0.846</td>\n",
       "    </tr>\n",
       "    <tr>\n",
       "      <th>34:1</th>\n",
       "      <td>1</td>\n",
       "      <td>0.0</td>\n",
       "      <td>34</td>\n",
       "      <td>34:1</td>\n",
       "      <td>8.0</td>\n",
       "      <td>desert</td>\n",
       "      <td>NaN</td>\n",
       "      <td>3</td>\n",
       "      <td>Fenfort</td>\n",
       "      <td>0</td>\n",
       "      <td>0</td>\n",
       "      <td>0</td>\n",
       "      <td>0.660</td>\n",
       "    </tr>\n",
       "    <tr>\n",
       "      <th>28:2</th>\n",
       "      <td>2</td>\n",
       "      <td>0.0</td>\n",
       "      <td>28</td>\n",
       "      <td>28:2</td>\n",
       "      <td>9.0</td>\n",
       "      <td>desert</td>\n",
       "      <td>NaN</td>\n",
       "      <td>3</td>\n",
       "      <td>Fenfort</td>\n",
       "      <td>0</td>\n",
       "      <td>0</td>\n",
       "      <td>0</td>\n",
       "      <td>0.825</td>\n",
       "    </tr>\n",
       "  </tbody>\n",
       "</table>\n",
       "</div>"
      ],
      "text/plain": [
       "      y  rainfall   x   key  elevation terrain feature  nation number  \\\n",
       "key                                                                     \n",
       "28:1  1       0.0  28  28:1        7.0  desert     NaN              3   \n",
       "29:1  1       0.0  29  29:1        8.0  desert     NaN              3   \n",
       "30:1  1       0.0  30  30:1        8.0  desert     NaN              3   \n",
       "34:1  1       0.0  34  34:1        8.0  desert     NaN              3   \n",
       "28:2  2       0.0  28  28:2        9.0  desert     NaN              3   \n",
       "\n",
       "       nation  visited  aware  turn_last_visited  danger  \n",
       "key                                                       \n",
       "28:1  Fenfort        0      0                  0   0.612  \n",
       "29:1  Fenfort        0      0                  0   0.765  \n",
       "30:1  Fenfort        0      0                  0   0.846  \n",
       "34:1  Fenfort        0      0                  0   0.660  \n",
       "28:2  Fenfort        0      0                  0   0.825  "
      ]
     },
     "execution_count": 6,
     "metadata": {},
     "output_type": "execute_result"
    }
   ],
   "source": [
    "world.df_features.loc[(world.df_features['terrain']=='desert') & \n",
    "                     (world.df_features['danger']>=.5)].head()"
   ]
  },
  {
   "cell_type": "markdown",
   "metadata": {},
   "source": [
    "You can also _mask_ the terrain where the character has no knowledge. "
   ]
  },
  {
   "cell_type": "code",
   "execution_count": 7,
   "metadata": {
    "scrolled": false
   },
   "outputs": [
    {
     "data": {
      "text/html": [
       "<div>\n",
       "<style scoped>\n",
       "    .dataframe tbody tr th:only-of-type {\n",
       "        vertical-align: middle;\n",
       "    }\n",
       "\n",
       "    .dataframe tbody tr th {\n",
       "        vertical-align: top;\n",
       "    }\n",
       "\n",
       "    .dataframe thead th {\n",
       "        text-align: right;\n",
       "    }\n",
       "</style>\n",
       "<table border=\"1\" class=\"dataframe\">\n",
       "  <thead>\n",
       "    <tr style=\"text-align: right;\">\n",
       "      <th></th>\n",
       "      <th>y</th>\n",
       "      <th>rainfall</th>\n",
       "      <th>x</th>\n",
       "      <th>key</th>\n",
       "      <th>elevation</th>\n",
       "      <th>terrain</th>\n",
       "      <th>feature</th>\n",
       "      <th>nation number</th>\n",
       "      <th>nation</th>\n",
       "      <th>visited</th>\n",
       "      <th>aware</th>\n",
       "      <th>turn_last_visited</th>\n",
       "      <th>danger</th>\n",
       "    </tr>\n",
       "    <tr>\n",
       "      <th>key</th>\n",
       "      <th></th>\n",
       "      <th></th>\n",
       "      <th></th>\n",
       "      <th></th>\n",
       "      <th></th>\n",
       "      <th></th>\n",
       "      <th></th>\n",
       "      <th></th>\n",
       "      <th></th>\n",
       "      <th></th>\n",
       "      <th></th>\n",
       "      <th></th>\n",
       "      <th></th>\n",
       "    </tr>\n",
       "  </thead>\n",
       "  <tbody>\n",
       "    <tr>\n",
       "      <th>0:0</th>\n",
       "      <td>0</td>\n",
       "      <td>2.0</td>\n",
       "      <td>0</td>\n",
       "      <td>0:0</td>\n",
       "      <td>1.0</td>\n",
       "      <td>ocean</td>\n",
       "      <td>NaN</td>\n",
       "      <td>2</td>\n",
       "      <td>Ratlight</td>\n",
       "      <td>0</td>\n",
       "      <td>1</td>\n",
       "      <td>0</td>\n",
       "      <td>-0.169</td>\n",
       "    </tr>\n",
       "    <tr>\n",
       "      <th>1:0</th>\n",
       "      <td>0</td>\n",
       "      <td>4.0</td>\n",
       "      <td>1</td>\n",
       "      <td>1:0</td>\n",
       "      <td>-2.0</td>\n",
       "      <td>ocean</td>\n",
       "      <td>NaN</td>\n",
       "      <td>2</td>\n",
       "      <td>Ratlight</td>\n",
       "      <td>0</td>\n",
       "      <td>1</td>\n",
       "      <td>0</td>\n",
       "      <td>-0.080</td>\n",
       "    </tr>\n",
       "    <tr>\n",
       "      <th>2:0</th>\n",
       "      <td>0</td>\n",
       "      <td>6.0</td>\n",
       "      <td>2</td>\n",
       "      <td>2:0</td>\n",
       "      <td>0.0</td>\n",
       "      <td>ocean</td>\n",
       "      <td>NaN</td>\n",
       "      <td>2</td>\n",
       "      <td>Ratlight</td>\n",
       "      <td>0</td>\n",
       "      <td>1</td>\n",
       "      <td>0</td>\n",
       "      <td>0.212</td>\n",
       "    </tr>\n",
       "    <tr>\n",
       "      <th>3:0</th>\n",
       "      <td>0</td>\n",
       "      <td>9.0</td>\n",
       "      <td>3</td>\n",
       "      <td>3:0</td>\n",
       "      <td>0.0</td>\n",
       "      <td>ocean</td>\n",
       "      <td>NaN</td>\n",
       "      <td>2</td>\n",
       "      <td>Ratlight</td>\n",
       "      <td>0</td>\n",
       "      <td>1</td>\n",
       "      <td>0</td>\n",
       "      <td>-0.102</td>\n",
       "    </tr>\n",
       "    <tr>\n",
       "      <th>4:0</th>\n",
       "      <td>0</td>\n",
       "      <td>10.0</td>\n",
       "      <td>4</td>\n",
       "      <td>4:0</td>\n",
       "      <td>0.0</td>\n",
       "      <td>ocean</td>\n",
       "      <td>NaN</td>\n",
       "      <td>2</td>\n",
       "      <td>Ratlight</td>\n",
       "      <td>0</td>\n",
       "      <td>1</td>\n",
       "      <td>0</td>\n",
       "      <td>0.310</td>\n",
       "    </tr>\n",
       "  </tbody>\n",
       "</table>\n",
       "</div>"
      ],
      "text/plain": [
       "     y  rainfall  x  key  elevation terrain feature nation number    nation  \\\n",
       "key                                                                           \n",
       "0:0  0       2.0  0  0:0        1.0   ocean     NaN             2  Ratlight   \n",
       "1:0  0       4.0  1  1:0       -2.0   ocean     NaN             2  Ratlight   \n",
       "2:0  0       6.0  2  2:0        0.0   ocean     NaN             2  Ratlight   \n",
       "3:0  0       9.0  3  3:0        0.0   ocean     NaN             2  Ratlight   \n",
       "4:0  0      10.0  4  4:0        0.0   ocean     NaN             2  Ratlight   \n",
       "\n",
       "     visited  aware  turn_last_visited  danger  \n",
       "key                                             \n",
       "0:0        0      1                  0  -0.169  \n",
       "1:0        0      1                  0  -0.080  \n",
       "2:0        0      1                  0   0.212  \n",
       "3:0        0      1                  0  -0.102  \n",
       "4:0        0      1                  0   0.310  "
      ]
     },
     "execution_count": 7,
     "metadata": {},
     "output_type": "execute_result"
    }
   ],
   "source": [
    "masked_world = w.mask_unknown(world)\n",
    "world.Character.title = \"Noble\"\n",
    "masked_world.head()"
   ]
  },
  {
   "cell_type": "markdown",
   "metadata": {},
   "source": [
    "## Analysis via list comprehension"
   ]
  },
  {
   "cell_type": "markdown",
   "metadata": {},
   "source": [
    "Querying people is also easy, but you need to use _list comprehension_ to do it. This is the general structure. "
   ]
  },
  {
   "cell_type": "code",
   "execution_count": 8,
   "metadata": {},
   "outputs": [
    {
     "data": {
      "text/plain": [
       "[Lakkar the Speaker of Stenchglen,\n",
       " Reppove the Speaker of Stormward,\n",
       " Truscoh the commoner,\n",
       " Depprith the commoner,\n",
       " Xigordur the Speaker of Oakvale,\n",
       " Nereshef the Speaker of Camloch,\n",
       " Iralordut the Speaker of Godrail,\n",
       " Anasassod the commoner,\n",
       " Drokkol the commoner,\n",
       " Botendis the Speaker of Fenglen,\n",
       " Minkim the Speaker of Foundersmoral,\n",
       " Prakrackorb the Speaker of Brinejaw,\n",
       " Brorandart the commoner,\n",
       " Ekinoddeb the commoner,\n",
       " Shestaker the Speaker of Ravenhenge,\n",
       " Nockish the Speaker of Warlair,\n",
       " Olarkol the commoner,\n",
       " Kiscottle the commoner,\n",
       " Adackolen the commoner,\n",
       " Eleklipove the commoner,\n",
       " Necklottle the Speaker of Fallhaven,\n",
       " Zhaldren the Speaker of Magerail,\n",
       " Afforb the Speaker of Servantshaven,\n",
       " Scakkich the commoner,\n",
       " Prankoe the commoner,\n",
       " Bestek the commoner,\n",
       " Dolordion the commoner,\n",
       " Femmark the Speaker of Clearhenge,\n",
       " Maklipar the Speaker of Lionhaven,\n",
       " Roldundle the commoner,\n",
       " Wrayellish the commoner,\n",
       " Mensof the commoner,\n",
       " Ovallir the commoner,\n",
       " Urbbenton the Speaker of Mageward,\n",
       " Brokrackich the commoner,\n",
       " Thezennumber the commoner,\n",
       " Thotallave the commoner,\n",
       " Morandosh the commoner,\n",
       " Femattaker the Speaker of Kingscraft,\n",
       " Elehottle the Speaker of Fallwish,\n",
       " Rarushett the commoner,\n",
       " Seblit the commoner,\n",
       " Pebbend the commoner,\n",
       " Akichot the commoner,\n",
       " Bazennelton the commoner,\n",
       " Shagsnan the commoner,\n",
       " Thacarradle the commoner,\n",
       " Hahilloh the Speaker of Magecrest,\n",
       " Larpish the Speaker of Kingsjaw,\n",
       " Stifaddottle the Speaker of Ravenvale,\n",
       " Akirrud the commoner,\n",
       " Misalkim the commoner,\n",
       " Akiggunder the commoner,\n",
       " Chingis the ruler of Earthkeep,\n",
       " Famattenton the ruler of Lilyloch,\n",
       " Joyangod the ruler of Ratlight,\n",
       " Stenettard the ruler of Fenfort,\n",
       " Trafrec the ruler of Landshost,\n",
       " Anasheh the ruler of Ratspring,\n",
       " Reladdosh the ruler of Brinetown,\n",
       " Akiklob the ruler of Malhail]"
      ]
     },
     "execution_count": 8,
     "metadata": {},
     "output_type": "execute_result"
    }
   ],
   "source": [
    "world.people\n"
   ]
  },
  {
   "cell_type": "markdown",
   "metadata": {},
   "source": [
    "Query the people in the town by setting conditions in the list. These people are the highest in temperment. "
   ]
  },
  {
   "cell_type": "code",
   "execution_count": 9,
   "metadata": {},
   "outputs": [
    {
     "data": {
      "text/plain": [
       "[[('Anasassod', 0.81), ('Scakkich', 0.99), ('Rarushett', 0.95)],\n",
       " [('Depprith', 0.9), ('Olarkol', 0.75)],\n",
       " [('Kiscottle', 0.84), ('Bestek', 0.87)],\n",
       " [('Nereshef', 0.66),\n",
       "  ('Thezennumber', 0.53),\n",
       "  ('Seblit', 0.71),\n",
       "  ('Trafrec', 0.93)],\n",
       " [('Adackolen', 0.88), ('Dolordion', 0.54)],\n",
       " [],\n",
       " [('Minkim', 0.68)],\n",
       " [('Prakrackorb', 0.84), ('Roldundle', 0.95)],\n",
       " [('Shestaker', 0.61)],\n",
       " [('Mensof', 0.99), ('Akichot', 0.84)],\n",
       " [],\n",
       " [('Anasheh', 0.69)],\n",
       " [('Afforb', 0.72)],\n",
       " [],\n",
       " [('Maklipar', 0.92)],\n",
       " [('Urbbenton', 0.97), ('Joyangod', 0.73)],\n",
       " [('Femattaker', 0.8)],\n",
       " [('Elehottle', 0.72)],\n",
       " [('Hahilloh', 0.57)],\n",
       " [],\n",
       " []]"
      ]
     },
     "execution_count": 9,
     "metadata": {},
     "output_type": "execute_result"
    }
   ],
   "source": [
    "[[(person.name,person.temperment) for person in t.get_population(world) if person.temperment>.5] for t in world.towns]"
   ]
  },
  {
   "cell_type": "markdown",
   "metadata": {},
   "source": [
    "You can also get summary stats on towns. For example, the average temperment per town."
   ]
  },
  {
   "cell_type": "code",
   "execution_count": 10,
   "metadata": {},
   "outputs": [
    {
     "data": {
      "text/plain": [
       "[('Stenchglen', 0.5085714285714286),\n",
       " ('Stormward', 0.46),\n",
       " ('Oakvale', 0.655),\n",
       " ('Camloch', 0.5860000000000001),\n",
       " ('Godrail', 0.4175),\n",
       " ('Fenglen', 0.23666666666666666),\n",
       " ('Foundersmoral', 0.68),\n",
       " ('Brinejaw', 0.5299999999999999),\n",
       " ('Ravenhenge', 0.33249999999999996),\n",
       " ('Warlair', 0.69),\n",
       " ('Fallhaven', 0.165),\n",
       " ('Magerail', 0.40499999999999997),\n",
       " ('Servantshaven', 0.43),\n",
       " ('Clearhenge', 0.09),\n",
       " ('Lionhaven', 0.39333333333333337),\n",
       " ('Mageward', 0.7200000000000001),\n",
       " ('Kingscraft', 0.455),\n",
       " ('Fallwish', 0.53),\n",
       " ('Magecrest', 0.57),\n",
       " ('Kingsjaw', 0.01),\n",
       " ('Ravenvale', 0.34)]"
      ]
     },
     "execution_count": 10,
     "metadata": {},
     "output_type": "execute_result"
    }
   ],
   "source": [
    "[(t.name,np.mean([person.temperment for person in t.get_population(world)])) for t in world.towns]"
   ]
  },
  {
   "cell_type": "markdown",
   "metadata": {},
   "source": [
    "For some purposes you may want to get a collection of people and edit them in bulk. This is also possible using list comprehension. "
   ]
  },
  {
   "cell_type": "code",
   "execution_count": 11,
   "metadata": {},
   "outputs": [
    {
     "data": {
      "text/plain": [
       "[{'town': capitol of Magerail. Location: [16:33]. Founded 1111 </br>In the nation of Ratspring,\n",
       "  'people': [Zhaldren the Speaker of Magerail,\n",
       "   Anasheh the ruler of Ratspring]}]"
      ]
     },
     "execution_count": 11,
     "metadata": {},
     "output_type": "execute_result"
    }
   ],
   "source": [
    "w.get_people_where_char_has_visited(world)"
   ]
  },
  {
   "cell_type": "code",
   "execution_count": 12,
   "metadata": {},
   "outputs": [
    {
     "data": {
      "text/plain": [
       "{'town': capitol of Magerail. Location: [16:33]. Founded 1111 </br>In the nation of Ratspring,\n",
       " 'people': [Zhaldren the Speaker of Magerail, Anasheh the ruler of Ratspring]}"
      ]
     },
     "execution_count": 12,
     "metadata": {},
     "output_type": "execute_result"
    }
   ],
   "source": [
    "r = w.get_people_where_char_has_visited(world)[0]\n",
    "r"
   ]
  },
  {
   "cell_type": "code",
   "execution_count": 13,
   "metadata": {},
   "outputs": [
    {
     "data": {
      "text/plain": [
       "'Ratspring'"
      ]
     },
     "execution_count": 13,
     "metadata": {},
     "output_type": "execute_result"
    }
   ],
   "source": [
    "r['town'].nation"
   ]
  },
  {
   "cell_type": "code",
   "execution_count": 14,
   "metadata": {},
   "outputs": [
    {
     "data": {
      "text/plain": [
       "[{'name': 'Magerail',\n",
       "  'title': 'capitol of Magerail. Location',\n",
       "  'nation': 'Ratspring',\n",
       "  'population': 2,\n",
       "  'type': 'capitol',\n",
       "  'location': '16:33',\n",
       "  'founded year': 1111,\n",
       "  'children': [{'name': 'Zhaldren',\n",
       "    'role': 'Speaker of Magerail',\n",
       "    'temperment': 0.12,\n",
       "    'loyalty': 0.5,\n",
       "    'type': 'person'},\n",
       "   {'name': 'Anasheh',\n",
       "    'role': 'ruler of Ratspring',\n",
       "    'temperment': 0.69,\n",
       "    'loyalty': 1,\n",
       "    'type': 'person'}]}]"
      ]
     },
     "execution_count": 14,
     "metadata": {},
     "output_type": "execute_result"
    }
   ],
   "source": [
    "w.get_relationships_node_map(world)"
   ]
  },
  {
   "cell_type": "markdown",
   "metadata": {},
   "source": [
    "## Getting map data (mapData): "
   ]
  },
  {
   "cell_type": "markdown",
   "metadata": {},
   "source": [
    "You can use this to get lists of people who the character knows. "
   ]
  },
  {
   "cell_type": "code",
   "execution_count": 15,
   "metadata": {},
   "outputs": [
    {
     "data": {
      "text/plain": [
       "[('Lilyloch', 'Stenchglen'),\n",
       " ('Earthkeep', 'Stormward'),\n",
       " ('Lilyloch', 'Oakvale'),\n",
       " ('Landshost', 'Camloch'),\n",
       " ('Fenfort', 'Godrail'),\n",
       " ('Malhail', 'Fenglen'),\n",
       " ('Earthkeep', 'Foundersmoral'),\n",
       " ('Brinetown', 'Brinejaw'),\n",
       " ('Landshost', 'Ravenhenge'),\n",
       " ('Fenfort', 'Warlair'),\n",
       " ('Landshost', 'Fallhaven'),\n",
       " ('Ratspring', 'Magerail'),\n",
       " ('Brinetown', 'Servantshaven'),\n",
       " ('Lilyloch', 'Clearhenge'),\n",
       " ('Lilyloch', 'Lionhaven'),\n",
       " ('Ratlight', 'Mageward'),\n",
       " ('Lilyloch', 'Kingscraft'),\n",
       " ('Earthkeep', 'Fallwish'),\n",
       " ('Ratlight', 'Magecrest'),\n",
       " ('Malhail', 'Kingsjaw'),\n",
       " ('Brinetown', 'Ravenvale')]"
      ]
     },
     "execution_count": 15,
     "metadata": {},
     "output_type": "execute_result"
    }
   ],
   "source": [
    "[(T.nation,T.name) for T in world.towns]"
   ]
  },
  {
   "cell_type": "code",
   "execution_count": 16,
   "metadata": {},
   "outputs": [
    {
     "data": {
      "text/plain": [
       "y                           33\n",
       "rainfall                    30\n",
       "x                           16\n",
       "key                      16:33\n",
       "elevation                   42\n",
       "terrain                   town\n",
       "feature               Magerail\n",
       "nation number                5\n",
       "nation               Ratspring\n",
       "visited                      1\n",
       "aware                        1\n",
       "turn_last_visited            0\n",
       "danger                   1.005\n",
       "Name: 16:33, dtype: object"
      ]
     },
     "execution_count": 16,
     "metadata": {},
     "output_type": "execute_result"
    }
   ],
   "source": [
    "masked_world.loc[world.Character.get_location_key()]"
   ]
  },
  {
   "cell_type": "markdown",
   "metadata": {},
   "source": [
    "You can query nations or towns. `world.nations` is a list of _nations_ and `world.towns` is a list of _towns_"
   ]
  },
  {
   "cell_type": "code",
   "execution_count": 17,
   "metadata": {
    "scrolled": true
   },
   "outputs": [
    {
     "data": {
      "text/html": [
       "<div>\n",
       "<style scoped>\n",
       "    .dataframe tbody tr th:only-of-type {\n",
       "        vertical-align: middle;\n",
       "    }\n",
       "\n",
       "    .dataframe tbody tr th {\n",
       "        vertical-align: top;\n",
       "    }\n",
       "\n",
       "    .dataframe thead th {\n",
       "        text-align: right;\n",
       "    }\n",
       "</style>\n",
       "<table border=\"1\" class=\"dataframe\">\n",
       "  <thead>\n",
       "    <tr style=\"text-align: right;\">\n",
       "      <th></th>\n",
       "      <th>y</th>\n",
       "      <th>rainfall</th>\n",
       "      <th>x</th>\n",
       "      <th>key</th>\n",
       "      <th>elevation</th>\n",
       "      <th>terrain</th>\n",
       "      <th>feature</th>\n",
       "      <th>nation number</th>\n",
       "      <th>nation</th>\n",
       "      <th>visited</th>\n",
       "      <th>aware</th>\n",
       "      <th>turn_last_visited</th>\n",
       "      <th>danger</th>\n",
       "    </tr>\n",
       "    <tr>\n",
       "      <th>key</th>\n",
       "      <th></th>\n",
       "      <th></th>\n",
       "      <th></th>\n",
       "      <th></th>\n",
       "      <th></th>\n",
       "      <th></th>\n",
       "      <th></th>\n",
       "      <th></th>\n",
       "      <th></th>\n",
       "      <th></th>\n",
       "      <th></th>\n",
       "      <th></th>\n",
       "      <th></th>\n",
       "    </tr>\n",
       "  </thead>\n",
       "  <tbody>\n",
       "    <tr>\n",
       "      <th>16:33</th>\n",
       "      <td>33</td>\n",
       "      <td>30.0</td>\n",
       "      <td>16</td>\n",
       "      <td>16:33</td>\n",
       "      <td>42.0</td>\n",
       "      <td>town</td>\n",
       "      <td>Magerail</td>\n",
       "      <td>5</td>\n",
       "      <td>Ratspring</td>\n",
       "      <td>1</td>\n",
       "      <td>1</td>\n",
       "      <td>0</td>\n",
       "      <td>1.005</td>\n",
       "    </tr>\n",
       "  </tbody>\n",
       "</table>\n",
       "</div>"
      ],
      "text/plain": [
       "        y  rainfall   x    key  elevation terrain   feature  nation number  \\\n",
       "key                                                                          \n",
       "16:33  33      30.0  16  16:33       42.0    town  Magerail              5   \n",
       "\n",
       "          nation  visited  aware  turn_last_visited  danger  \n",
       "key                                                          \n",
       "16:33  Ratspring        1      1                  0   1.005  "
      ]
     },
     "execution_count": 17,
     "metadata": {},
     "output_type": "execute_result"
    }
   ],
   "source": [
    "where_the_char_has_been = world.df_features.loc[(world.df_features['visited']==1)&\n",
    "                                                (world.df_features['terrain']=='town')]\n",
    "where_the_char_has_been"
   ]
  },
  {
   "cell_type": "markdown",
   "metadata": {},
   "source": [
    "## Getting the diplomacy and relationships data for the journal page"
   ]
  },
  {
   "cell_type": "code",
   "execution_count": 18,
   "metadata": {},
   "outputs": [
    {
     "data": {
      "text/plain": [
       "[{'town': capitol of Magerail. Location: [16:33]. Founded 1111 </br>In the nation of Ratspring,\n",
       "  'people': [Zhaldren the Speaker of Magerail,\n",
       "   Anasheh the ruler of Ratspring]}]"
      ]
     },
     "execution_count": 18,
     "metadata": {},
     "output_type": "execute_result"
    }
   ],
   "source": [
    "rel = w.get_people_where_char_has_visited(world)\n",
    "rel"
   ]
  },
  {
   "cell_type": "code",
   "execution_count": 19,
   "metadata": {},
   "outputs": [
    {
     "data": {
      "text/plain": [
       "[{'name': 'Magerail',\n",
       "  'title': 'capitol of Magerail. Location',\n",
       "  'nation': 'Ratspring',\n",
       "  'population': 2,\n",
       "  'type': 'capitol',\n",
       "  'location': '16:33',\n",
       "  'founded year': 1111,\n",
       "  'children': [{'name': 'Zhaldren',\n",
       "    'role': 'Speaker of Magerail',\n",
       "    'temperment': 0.12,\n",
       "    'loyalty': 0.5,\n",
       "    'type': 'person'},\n",
       "   {'name': 'Anasheh',\n",
       "    'role': 'ruler of Ratspring',\n",
       "    'temperment': 0.69,\n",
       "    'loyalty': 1,\n",
       "    'type': 'person'}]}]"
      ]
     },
     "execution_count": 19,
     "metadata": {},
     "output_type": "execute_result"
    }
   ],
   "source": [
    "w.get_relationships_node_map(world)"
   ]
  },
  {
   "cell_type": "code",
   "execution_count": 20,
   "metadata": {},
   "outputs": [],
   "source": [
    "hierarchy = [{'nation':i.name,\n",
    "              'children':i.diplomacy} for i in world.nations]\n",
    "\n"
   ]
  },
  {
   "cell_type": "code",
   "execution_count": 21,
   "metadata": {},
   "outputs": [
    {
     "data": {
      "text/plain": [
       "[{'name': 'Magerail',\n",
       "  'title': 'capitol of Magerail. Location',\n",
       "  'nation': 'Ratspring',\n",
       "  'population': 2,\n",
       "  'type': 'capitol',\n",
       "  'location': '16:33',\n",
       "  'founded year': 1111,\n",
       "  'children': [{'name': 'Zhaldren',\n",
       "    'role': 'Speaker of Magerail',\n",
       "    'temperment': 0.12,\n",
       "    'loyalty': 0.5,\n",
       "    'type': 'person'},\n",
       "   {'name': 'Anasheh',\n",
       "    'role': 'ruler of Ratspring',\n",
       "    'temperment': 0.69,\n",
       "    'loyalty': 1,\n",
       "    'type': 'person'}]}]"
      ]
     },
     "execution_count": 21,
     "metadata": {},
     "output_type": "execute_result"
    }
   ],
   "source": [
    "relationships = w.get_relationships_node_map(world)\n",
    "relationships"
   ]
  },
  {
   "cell_type": "code",
   "execution_count": 22,
   "metadata": {},
   "outputs": [
    {
     "data": {
      "text/plain": [
       "['Ratspring']"
      ]
     },
     "execution_count": 22,
     "metadata": {},
     "output_type": "execute_result"
    }
   ],
   "source": [
    "nations = [s['nation'] for s in relationships]\n",
    "nations"
   ]
  },
  {
   "cell_type": "code",
   "execution_count": 23,
   "metadata": {},
   "outputs": [
    {
     "data": {
      "text/plain": [
       "[{'name': 'Magerail',\n",
       "  'title': 'capitol of Magerail. Location',\n",
       "  'nation': 'Ratspring',\n",
       "  'population': 2,\n",
       "  'type': 'capitol',\n",
       "  'location': '16:33',\n",
       "  'founded year': 1111,\n",
       "  'children': [{'name': 'Zhaldren',\n",
       "    'role': 'Speaker of Magerail',\n",
       "    'temperment': 0.12,\n",
       "    'loyalty': 0.5,\n",
       "    'type': 'person'},\n",
       "   {'name': 'Anasheh',\n",
       "    'role': 'ruler of Ratspring',\n",
       "    'temperment': 0.69,\n",
       "    'loyalty': 1,\n",
       "    'type': 'person'}]}]"
      ]
     },
     "execution_count": 23,
     "metadata": {},
     "output_type": "execute_result"
    }
   ],
   "source": [
    "[i for i in relationships]"
   ]
  },
  {
   "cell_type": "code",
   "execution_count": 24,
   "metadata": {},
   "outputs": [
    {
     "data": {
      "text/plain": [
       "[{'nation': 'Ratspring',\n",
       "  'towns': [{'name': 'Magerail',\n",
       "    'title': 'capitol of Magerail. Location',\n",
       "    'nation': 'Ratspring',\n",
       "    'population': 2,\n",
       "    'type': 'capitol',\n",
       "    'location': '16:33',\n",
       "    'founded year': 1111,\n",
       "    'children': [{'name': 'Zhaldren',\n",
       "      'role': 'Speaker of Magerail',\n",
       "      'temperment': 0.12,\n",
       "      'loyalty': 0.5,\n",
       "      'type': 'person'},\n",
       "     {'name': 'Anasheh',\n",
       "      'role': 'ruler of Ratspring',\n",
       "      'temperment': 0.69,\n",
       "      'loyalty': 1,\n",
       "      'type': 'person'}]}]}]"
      ]
     },
     "execution_count": 24,
     "metadata": {},
     "output_type": "execute_result"
    }
   ],
   "source": [
    "[{'nation':i,'towns':[t for t in relationships if t['nation']==i]} for i in nations]"
   ]
  },
  {
   "cell_type": "code",
   "execution_count": 25,
   "metadata": {},
   "outputs": [
    {
     "data": {
      "text/plain": [
       "['Ratspring']"
      ]
     },
     "execution_count": 25,
     "metadata": {},
     "output_type": "execute_result"
    }
   ],
   "source": [
    "[i for i in nations]"
   ]
  },
  {
   "cell_type": "code",
   "execution_count": 36,
   "metadata": {},
   "outputs": [
    {
     "data": {
      "text/plain": [
       "{'nodes': [{'id': 'capitol of Stenchglen', 'type': 'town'},\n",
       "  {'id': 'capitol of Stormward', 'type': 'town'},\n",
       "  {'id': 'town of Oakvale', 'type': 'town'},\n",
       "  {'id': 'capitol of Camloch', 'type': 'town'},\n",
       "  {'id': 'capitol of Godrail', 'type': 'town'},\n",
       "  {'id': 'capitol of Fenglen', 'type': 'town'},\n",
       "  {'id': 'town of Foundersmoral', 'type': 'town'},\n",
       "  {'id': 'capitol of Brinejaw', 'type': 'town'},\n",
       "  {'id': 'town of Ravenhenge', 'type': 'town'},\n",
       "  {'id': 'town of Warlair', 'type': 'town'},\n",
       "  {'id': 'town of Fallhaven', 'type': 'town'},\n",
       "  {'id': 'capitol of Magerail', 'type': 'town'},\n",
       "  {'id': 'town of Servantshaven', 'type': 'town'},\n",
       "  {'id': 'town of Clearhenge', 'type': 'town'},\n",
       "  {'id': 'town of Lionhaven', 'type': 'town'},\n",
       "  {'id': 'capitol of Mageward', 'type': 'town'},\n",
       "  {'id': 'town of Kingscraft', 'type': 'town'},\n",
       "  {'id': 'town of Fallwish', 'type': 'town'},\n",
       "  {'id': 'town of Magecrest', 'type': 'town'},\n",
       "  {'id': 'town of Kingsjaw', 'type': 'town'},\n",
       "  {'id': 'town of Ravenvale', 'type': 'town'},\n",
       "  {'id': 'Nation of Earthkeep', 'type': 'nation'},\n",
       "  {'id': 'Nation of Lilyloch', 'type': 'nation'},\n",
       "  {'id': 'Nation of Ratlight', 'type': 'nation'},\n",
       "  {'id': 'Nation of Fenfort', 'type': 'nation'},\n",
       "  {'id': 'Nation of Landshost', 'type': 'nation'},\n",
       "  {'id': 'Nation of Ratspring', 'type': 'nation'},\n",
       "  {'id': 'Nation of Brinetown', 'type': 'nation'},\n",
       "  {'id': 'Nation of Malhail', 'type': 'nation'},\n",
       "  {'id': 'Lakkar the Speaker of Stenchglen', 'type': 'person'},\n",
       "  {'id': 'Reppove the Speaker of Stormward', 'type': 'person'},\n",
       "  {'id': 'Truscoh the commoner', 'type': 'person'},\n",
       "  {'id': 'Depprith the commoner', 'type': 'person'},\n",
       "  {'id': 'Xigordur the Speaker of Oakvale', 'type': 'person'},\n",
       "  {'id': 'Nereshef the Speaker of Camloch', 'type': 'person'},\n",
       "  {'id': 'Iralordut the Speaker of Godrail', 'type': 'person'},\n",
       "  {'id': 'Anasassod the commoner', 'type': 'person'},\n",
       "  {'id': 'Drokkol the commoner', 'type': 'person'},\n",
       "  {'id': 'Botendis the Speaker of Fenglen', 'type': 'person'},\n",
       "  {'id': 'Minkim the Speaker of Foundersmoral', 'type': 'person'},\n",
       "  {'id': 'Prakrackorb the Speaker of Brinejaw', 'type': 'person'},\n",
       "  {'id': 'Brorandart the commoner', 'type': 'person'},\n",
       "  {'id': 'Ekinoddeb the commoner', 'type': 'person'},\n",
       "  {'id': 'Shestaker the Speaker of Ravenhenge', 'type': 'person'},\n",
       "  {'id': 'Nockish the Speaker of Warlair', 'type': 'person'},\n",
       "  {'id': 'Olarkol the commoner', 'type': 'person'},\n",
       "  {'id': 'Kiscottle the commoner', 'type': 'person'},\n",
       "  {'id': 'Adackolen the commoner', 'type': 'person'},\n",
       "  {'id': 'Eleklipove the commoner', 'type': 'person'},\n",
       "  {'id': 'Necklottle the Speaker of Fallhaven', 'type': 'person'},\n",
       "  {'id': 'Zhaldren the Speaker of Magerail', 'type': 'person'},\n",
       "  {'id': 'Afforb the Speaker of Servantshaven', 'type': 'person'},\n",
       "  {'id': 'Scakkich the commoner', 'type': 'person'},\n",
       "  {'id': 'Prankoe the commoner', 'type': 'person'},\n",
       "  {'id': 'Bestek the commoner', 'type': 'person'},\n",
       "  {'id': 'Dolordion the commoner', 'type': 'person'},\n",
       "  {'id': 'Femmark the Speaker of Clearhenge', 'type': 'person'},\n",
       "  {'id': 'Maklipar the Speaker of Lionhaven', 'type': 'person'},\n",
       "  {'id': 'Roldundle the commoner', 'type': 'person'},\n",
       "  {'id': 'Wrayellish the commoner', 'type': 'person'},\n",
       "  {'id': 'Mensof the commoner', 'type': 'person'},\n",
       "  {'id': 'Ovallir the commoner', 'type': 'person'},\n",
       "  {'id': 'Urbbenton the Speaker of Mageward', 'type': 'person'},\n",
       "  {'id': 'Brokrackich the commoner', 'type': 'person'},\n",
       "  {'id': 'Thezennumber the commoner', 'type': 'person'},\n",
       "  {'id': 'Thotallave the commoner', 'type': 'person'},\n",
       "  {'id': 'Morandosh the commoner', 'type': 'person'},\n",
       "  {'id': 'Femattaker the Speaker of Kingscraft', 'type': 'person'},\n",
       "  {'id': 'Elehottle the Speaker of Fallwish', 'type': 'person'},\n",
       "  {'id': 'Rarushett the commoner', 'type': 'person'},\n",
       "  {'id': 'Seblit the commoner', 'type': 'person'},\n",
       "  {'id': 'Pebbend the commoner', 'type': 'person'},\n",
       "  {'id': 'Akichot the commoner', 'type': 'person'},\n",
       "  {'id': 'Bazennelton the commoner', 'type': 'person'},\n",
       "  {'id': 'Shagsnan the commoner', 'type': 'person'},\n",
       "  {'id': 'Thacarradle the commoner', 'type': 'person'},\n",
       "  {'id': 'Hahilloh the Speaker of Magecrest', 'type': 'person'},\n",
       "  {'id': 'Larpish the Speaker of Kingsjaw', 'type': 'person'},\n",
       "  {'id': 'Stifaddottle the Speaker of Ravenvale', 'type': 'person'},\n",
       "  {'id': 'Akirrud the commoner', 'type': 'person'},\n",
       "  {'id': 'Misalkim the commoner', 'type': 'person'},\n",
       "  {'id': 'Akiggunder the commoner', 'type': 'person'},\n",
       "  {'id': 'Chingis the ruler of Earthkeep', 'type': 'person'},\n",
       "  {'id': 'Famattenton the ruler of Lilyloch', 'type': 'person'},\n",
       "  {'id': 'Joyangod the ruler of Ratlight', 'type': 'person'},\n",
       "  {'id': 'Stenettard the ruler of Fenfort', 'type': 'person'},\n",
       "  {'id': 'Trafrec the ruler of Landshost', 'type': 'person'},\n",
       "  {'id': 'Anasheh the ruler of Ratspring', 'type': 'person'},\n",
       "  {'id': 'Reladdosh the ruler of Brinetown', 'type': 'person'},\n",
       "  {'id': 'Akiklob the ruler of Malhail', 'type': 'person'}],\n",
       " 'links': [{'source': 'Nation of Earthkeep', 'target': 'capitol of Stormward'},\n",
       "  {'source': 'Nation of Earthkeep', 'target': 'town of Foundersmoral'},\n",
       "  {'source': 'Nation of Earthkeep', 'target': 'town of Fallwish'},\n",
       "  {'source': 'Nation of Lilyloch', 'target': 'capitol of Stenchglen'},\n",
       "  {'source': 'Nation of Lilyloch', 'target': 'town of Oakvale'},\n",
       "  {'source': 'Nation of Lilyloch', 'target': 'town of Clearhenge'},\n",
       "  {'source': 'Nation of Lilyloch', 'target': 'town of Lionhaven'},\n",
       "  {'source': 'Nation of Lilyloch', 'target': 'town of Kingscraft'},\n",
       "  {'source': 'Nation of Ratlight', 'target': 'capitol of Mageward'},\n",
       "  {'source': 'Nation of Ratlight', 'target': 'town of Magecrest'},\n",
       "  {'source': 'Nation of Fenfort', 'target': 'capitol of Godrail'},\n",
       "  {'source': 'Nation of Fenfort', 'target': 'town of Warlair'},\n",
       "  {'source': 'Nation of Landshost', 'target': 'capitol of Camloch'},\n",
       "  {'source': 'Nation of Landshost', 'target': 'town of Ravenhenge'},\n",
       "  {'source': 'Nation of Landshost', 'target': 'town of Fallhaven'},\n",
       "  {'source': 'Nation of Ratspring', 'target': 'capitol of Magerail'},\n",
       "  {'source': 'Nation of Brinetown', 'target': 'capitol of Brinejaw'},\n",
       "  {'source': 'Nation of Brinetown', 'target': 'town of Servantshaven'},\n",
       "  {'source': 'Nation of Brinetown', 'target': 'town of Ravenvale'},\n",
       "  {'source': 'Nation of Malhail', 'target': 'capitol of Fenglen'},\n",
       "  {'source': 'Nation of Malhail', 'target': 'town of Kingsjaw'},\n",
       "  {'source': 'person of Lakkar', 'target': 'Lakkar the Speaker of Stenchglen'},\n",
       "  {'source': 'person of Truscoh', 'target': 'Truscoh the commoner'},\n",
       "  {'source': 'person of Anasassod', 'target': 'Anasassod the commoner'},\n",
       "  {'source': 'person of Brorandart', 'target': 'Brorandart the commoner'},\n",
       "  {'source': 'person of Scakkich', 'target': 'Scakkich the commoner'},\n",
       "  {'source': 'person of Rarushett', 'target': 'Rarushett the commoner'},\n",
       "  {'source': 'person of Famattenton',\n",
       "   'target': 'Famattenton the ruler of Lilyloch'},\n",
       "  {'source': 'person of Reppove',\n",
       "   'target': 'Reppove the Speaker of Stormward'},\n",
       "  {'source': 'person of Depprith', 'target': 'Depprith the commoner'},\n",
       "  {'source': 'person of Olarkol', 'target': 'Olarkol the commoner'},\n",
       "  {'source': 'person of Prankoe', 'target': 'Prankoe the commoner'},\n",
       "  {'source': 'person of Brokrackich', 'target': 'Brokrackich the commoner'},\n",
       "  {'source': 'person of Chingis', 'target': 'Chingis the ruler of Earthkeep'},\n",
       "  {'source': 'person of Xigordur',\n",
       "   'target': 'Xigordur the Speaker of Oakvale'},\n",
       "  {'source': 'person of Drokkol', 'target': 'Drokkol the commoner'},\n",
       "  {'source': 'person of Kiscottle', 'target': 'Kiscottle the commoner'},\n",
       "  {'source': 'person of Bestek', 'target': 'Bestek the commoner'},\n",
       "  {'source': 'person of Nereshef',\n",
       "   'target': 'Nereshef the Speaker of Camloch'},\n",
       "  {'source': 'person of Thezennumber', 'target': 'Thezennumber the commoner'},\n",
       "  {'source': 'person of Seblit', 'target': 'Seblit the commoner'},\n",
       "  {'source': 'person of Akirrud', 'target': 'Akirrud the commoner'},\n",
       "  {'source': 'person of Trafrec', 'target': 'Trafrec the ruler of Landshost'},\n",
       "  {'source': 'person of Iralordut',\n",
       "   'target': 'Iralordut the Speaker of Godrail'},\n",
       "  {'source': 'person of Adackolen', 'target': 'Adackolen the commoner'},\n",
       "  {'source': 'person of Dolordion', 'target': 'Dolordion the commoner'},\n",
       "  {'source': 'person of Stenettard',\n",
       "   'target': 'Stenettard the ruler of Fenfort'},\n",
       "  {'source': 'person of Botendis',\n",
       "   'target': 'Botendis the Speaker of Fenglen'},\n",
       "  {'source': 'person of Thotallave', 'target': 'Thotallave the commoner'},\n",
       "  {'source': 'person of Akiklob', 'target': 'Akiklob the ruler of Malhail'},\n",
       "  {'source': 'person of Minkim',\n",
       "   'target': 'Minkim the Speaker of Foundersmoral'},\n",
       "  {'source': 'person of Prakrackorb',\n",
       "   'target': 'Prakrackorb the Speaker of Brinejaw'},\n",
       "  {'source': 'person of Ekinoddeb', 'target': 'Ekinoddeb the commoner'},\n",
       "  {'source': 'person of Roldundle', 'target': 'Roldundle the commoner'},\n",
       "  {'source': 'person of Reladdosh',\n",
       "   'target': 'Reladdosh the ruler of Brinetown'},\n",
       "  {'source': 'person of Shestaker',\n",
       "   'target': 'Shestaker the Speaker of Ravenhenge'},\n",
       "  {'source': 'person of Eleklipove', 'target': 'Eleklipove the commoner'},\n",
       "  {'source': 'person of Wrayellish', 'target': 'Wrayellish the commoner'},\n",
       "  {'source': 'person of Pebbend', 'target': 'Pebbend the commoner'},\n",
       "  {'source': 'person of Nockish', 'target': 'Nockish the Speaker of Warlair'},\n",
       "  {'source': 'person of Mensof', 'target': 'Mensof the commoner'},\n",
       "  {'source': 'person of Akichot', 'target': 'Akichot the commoner'},\n",
       "  {'source': 'person of Necklottle',\n",
       "   'target': 'Necklottle the Speaker of Fallhaven'},\n",
       "  {'source': 'person of Ovallir', 'target': 'Ovallir the commoner'},\n",
       "  {'source': 'person of Zhaldren',\n",
       "   'target': 'Zhaldren the Speaker of Magerail'},\n",
       "  {'source': 'person of Anasheh', 'target': 'Anasheh the ruler of Ratspring'},\n",
       "  {'source': 'person of Afforb',\n",
       "   'target': 'Afforb the Speaker of Servantshaven'},\n",
       "  {'source': 'person of Morandosh', 'target': 'Morandosh the commoner'},\n",
       "  {'source': 'person of Femmark',\n",
       "   'target': 'Femmark the Speaker of Clearhenge'},\n",
       "  {'source': 'person of Maklipar',\n",
       "   'target': 'Maklipar the Speaker of Lionhaven'},\n",
       "  {'source': 'person of Bazennelton', 'target': 'Bazennelton the commoner'},\n",
       "  {'source': 'person of Misalkim', 'target': 'Misalkim the commoner'},\n",
       "  {'source': 'person of Urbbenton',\n",
       "   'target': 'Urbbenton the Speaker of Mageward'},\n",
       "  {'source': 'person of Shagsnan', 'target': 'Shagsnan the commoner'},\n",
       "  {'source': 'person of Joyangod', 'target': 'Joyangod the ruler of Ratlight'},\n",
       "  {'source': 'person of Femattaker',\n",
       "   'target': 'Femattaker the Speaker of Kingscraft'},\n",
       "  {'source': 'person of Akiggunder', 'target': 'Akiggunder the commoner'},\n",
       "  {'source': 'person of Elehottle',\n",
       "   'target': 'Elehottle the Speaker of Fallwish'},\n",
       "  {'source': 'person of Thacarradle', 'target': 'Thacarradle the commoner'},\n",
       "  {'source': 'person of Hahilloh',\n",
       "   'target': 'Hahilloh the Speaker of Magecrest'},\n",
       "  {'source': 'person of Larpish', 'target': 'Larpish the Speaker of Kingsjaw'},\n",
       "  {'source': 'person of Stifaddottle',\n",
       "   'target': 'Stifaddottle the Speaker of Ravenvale'}]}"
      ]
     },
     "execution_count": 36,
     "metadata": {},
     "output_type": "execute_result"
    }
   ],
   "source": [
    "def get_all_nodes(world):\n",
    "    people = [{'id':str(t),'type':'person'} for t in world.people]\n",
    "    nations = [{'id':str(t),'type':'nation'} for t in world.nations]\n",
    "    towns = [{'id':f\"{t.type} of {t.name}\",'type':'town'} for t in world.towns]\n",
    "    return towns + nations + people\n",
    "\n",
    "def get_all_links(world):\n",
    "    all_links = []\n",
    "    town_links = [[all_links.append({'source':str(n),'target':f\"{t.type} of {t.name}\"}) for t in n.get_all_towns(world)] for n in world.nations]\n",
    "    people_links = [[all_links.append({'source':f\"{n.type} of {n.name}\",'target':str(t)}) for t in n.get_population(world)] for n in world.towns]\n",
    "    return all_links\n",
    "\n",
    "\n",
    "def get_nodes_and_links(world):\n",
    "    return {'nodes':get_all_nodes(world),\n",
    "           'links':get_all_links(world)}\n",
    "\n",
    "get_nodes_and_links(world)"
   ]
  },
  {
   "cell_type": "code",
   "execution_count": null,
   "metadata": {},
   "outputs": [],
   "source": []
  }
 ],
 "metadata": {
  "kernelspec": {
   "display_name": "Python 3",
   "language": "python",
   "name": "python3"
  },
  "language_info": {
   "codemirror_mode": {
    "name": "ipython",
    "version": 3
   },
   "file_extension": ".py",
   "mimetype": "text/x-python",
   "name": "python",
   "nbconvert_exporter": "python",
   "pygments_lexer": "ipython3",
   "version": "3.7.3"
  }
 },
 "nbformat": 4,
 "nbformat_minor": 2
}
