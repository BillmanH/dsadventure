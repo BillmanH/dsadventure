{
 "cells": [
  {
   "cell_type": "markdown",
   "metadata": {},
   "source": [
    "# Getting the info that the client needs for D3.js\n",
    "\n",
    "Often it is easier to transform data in the backend to be used by D3. In general all data in D3 needs to be a list of dicts. In this example I'm using an existing `world` object to demonstrate the methods that do these transformations. "
   ]
  },
  {
   "cell_type": "code",
   "execution_count": 1,
   "metadata": {},
   "outputs": [],
   "source": [
    "#I'm mapping to the actual files in the repo so that I can also use this to troubleshoot\n",
    "import os\n",
    "import sys\n",
    "import numpy as np\n",
    "import pandas as pd\n",
    "import pickle\n",
    "import django\n",
    "sys.path.append('../..')\n",
    "#Loading my project settings from prodweb. This allows me to load and query models. \n",
    "os.environ.setdefault('DJANGO_SETTINGS_MODULE', 'prodweb.settings')\n",
    "django.setup()\n",
    "\n",
    "\n",
    "with (open(\"../pickles/billmanhworld.pkl\", 'rb')) as pickle_file:\n",
    "    world = pickle.load(pickle_file)"
   ]
  },
  {
   "cell_type": "code",
   "execution_count": 2,
   "metadata": {
    "scrolled": true
   },
   "outputs": [],
   "source": [
    "sys.path.append('..')\n",
    "from lib.builders import world as w"
   ]
  },
  {
   "cell_type": "markdown",
   "metadata": {},
   "source": [
    "`w.get_area_data(world)` gets the area relevant to where the character is. This includes surrounding areas."
   ]
  },
  {
   "cell_type": "code",
   "execution_count": 3,
   "metadata": {},
   "outputs": [
    {
     "data": {
      "text/plain": [
       "<game.lib.builders.world.World at 0x7f004ea135c0>"
      ]
     },
     "execution_count": 3,
     "metadata": {},
     "output_type": "execute_result"
    }
   ],
   "source": [
    "world"
   ]
  },
  {
   "cell_type": "code",
   "execution_count": 4,
   "metadata": {},
   "outputs": [
    {
     "name": "stdout",
     "output_type": "stream",
     "text": [
      "[18, 17]\n"
     ]
    },
    {
     "data": {
      "text/html": [
       "<div>\n",
       "<style scoped>\n",
       "    .dataframe tbody tr th:only-of-type {\n",
       "        vertical-align: middle;\n",
       "    }\n",
       "\n",
       "    .dataframe tbody tr th {\n",
       "        vertical-align: top;\n",
       "    }\n",
       "\n",
       "    .dataframe thead th {\n",
       "        text-align: right;\n",
       "    }\n",
       "</style>\n",
       "<table border=\"1\" class=\"dataframe\">\n",
       "  <thead>\n",
       "    <tr style=\"text-align: right;\">\n",
       "      <th></th>\n",
       "      <th>aware</th>\n",
       "      <th>danger</th>\n",
       "      <th>elevation</th>\n",
       "      <th>feature</th>\n",
       "      <th>key</th>\n",
       "      <th>nation</th>\n",
       "      <th>nation number</th>\n",
       "      <th>rainfall</th>\n",
       "      <th>terrain</th>\n",
       "      <th>turn_last_visited</th>\n",
       "      <th>visited</th>\n",
       "      <th>x</th>\n",
       "      <th>y</th>\n",
       "    </tr>\n",
       "  </thead>\n",
       "  <tbody>\n",
       "    <tr>\n",
       "      <th>area</th>\n",
       "      <td>0</td>\n",
       "      <td>0.132</td>\n",
       "      <td>9</td>\n",
       "      <td>Earthmark</td>\n",
       "      <td>18:17</td>\n",
       "      <td>Brinehaven</td>\n",
       "      <td>3</td>\n",
       "      <td>0</td>\n",
       "      <td>town</td>\n",
       "      <td>0</td>\n",
       "      <td>1</td>\n",
       "      <td>18</td>\n",
       "      <td>17</td>\n",
       "    </tr>\n",
       "    <tr>\n",
       "      <th>NArea</th>\n",
       "      <td>0</td>\n",
       "      <td>1.149</td>\n",
       "      <td>15</td>\n",
       "      <td>none</td>\n",
       "      <td>18:16</td>\n",
       "      <td>Brinehaven</td>\n",
       "      <td>3</td>\n",
       "      <td>0</td>\n",
       "      <td>desert</td>\n",
       "      <td>0</td>\n",
       "      <td>0</td>\n",
       "      <td>18</td>\n",
       "      <td>16</td>\n",
       "    </tr>\n",
       "    <tr>\n",
       "      <th>SArea</th>\n",
       "      <td>1</td>\n",
       "      <td>0.829</td>\n",
       "      <td>5</td>\n",
       "      <td>none</td>\n",
       "      <td>18:18</td>\n",
       "      <td>none</td>\n",
       "      <td>none</td>\n",
       "      <td>0</td>\n",
       "      <td>ocean</td>\n",
       "      <td>0</td>\n",
       "      <td>0</td>\n",
       "      <td>18</td>\n",
       "      <td>18</td>\n",
       "    </tr>\n",
       "    <tr>\n",
       "      <th>EArea</th>\n",
       "      <td>0</td>\n",
       "      <td>0.842</td>\n",
       "      <td>9</td>\n",
       "      <td>none</td>\n",
       "      <td>19:17</td>\n",
       "      <td>Brinehaven</td>\n",
       "      <td>3</td>\n",
       "      <td>0</td>\n",
       "      <td>desert</td>\n",
       "      <td>0</td>\n",
       "      <td>0</td>\n",
       "      <td>19</td>\n",
       "      <td>17</td>\n",
       "    </tr>\n",
       "    <tr>\n",
       "      <th>WArea</th>\n",
       "      <td>0</td>\n",
       "      <td>0.661</td>\n",
       "      <td>8</td>\n",
       "      <td>none</td>\n",
       "      <td>17:17</td>\n",
       "      <td>Brinehaven</td>\n",
       "      <td>3</td>\n",
       "      <td>0</td>\n",
       "      <td>desert</td>\n",
       "      <td>0</td>\n",
       "      <td>0</td>\n",
       "      <td>17</td>\n",
       "      <td>17</td>\n",
       "    </tr>\n",
       "  </tbody>\n",
       "</table>\n",
       "</div>"
      ],
      "text/plain": [
       "      aware danger elevation    feature    key      nation nation number  \\\n",
       "area      0  0.132         9  Earthmark  18:17  Brinehaven             3   \n",
       "NArea     0  1.149        15       none  18:16  Brinehaven             3   \n",
       "SArea     1  0.829         5       none  18:18        none          none   \n",
       "EArea     0  0.842         9       none  19:17  Brinehaven             3   \n",
       "WArea     0  0.661         8       none  17:17  Brinehaven             3   \n",
       "\n",
       "      rainfall terrain turn_last_visited visited   x   y  \n",
       "area         0    town                 0       1  18  17  \n",
       "NArea        0  desert                 0       0  18  16  \n",
       "SArea        0   ocean                 0       0  18  18  \n",
       "EArea        0  desert                 0       0  19  17  \n",
       "WArea        0  desert                 0       0  17  17  "
      ]
     },
     "execution_count": 4,
     "metadata": {},
     "output_type": "execute_result"
    }
   ],
   "source": [
    "print(world.Character.location)\n",
    "pd.DataFrame(w.get_area_data(world)).T"
   ]
  },
  {
   "cell_type": "markdown",
   "metadata": {},
   "source": [
    "For other game principals, it's easy to just make regular `pandas` and `numpy` queries on those datasets. "
   ]
  },
  {
   "cell_type": "code",
   "execution_count": 5,
   "metadata": {
    "scrolled": true
   },
   "outputs": [
    {
     "data": {
      "text/plain": [
       "True"
      ]
     },
     "execution_count": 5,
     "metadata": {},
     "output_type": "execute_result"
    }
   ],
   "source": [
    "world.df_features.loc[world.Character.get_location_key(),'visited'] >= 1"
   ]
  },
  {
   "cell_type": "markdown",
   "metadata": {},
   "source": [
    "Querying the terrain is easy as well. For example, here is a query of all of the world where the _terrain_ is _desert_ and the _danger_ is above .5. These queries are fast and cheap. "
   ]
  },
  {
   "cell_type": "code",
   "execution_count": 6,
   "metadata": {
    "scrolled": true
   },
   "outputs": [
    {
     "data": {
      "text/html": [
       "<div>\n",
       "<style scoped>\n",
       "    .dataframe tbody tr th:only-of-type {\n",
       "        vertical-align: middle;\n",
       "    }\n",
       "\n",
       "    .dataframe tbody tr th {\n",
       "        vertical-align: top;\n",
       "    }\n",
       "\n",
       "    .dataframe thead th {\n",
       "        text-align: right;\n",
       "    }\n",
       "</style>\n",
       "<table border=\"1\" class=\"dataframe\">\n",
       "  <thead>\n",
       "    <tr style=\"text-align: right;\">\n",
       "      <th></th>\n",
       "      <th>y</th>\n",
       "      <th>rainfall</th>\n",
       "      <th>x</th>\n",
       "      <th>key</th>\n",
       "      <th>elevation</th>\n",
       "      <th>terrain</th>\n",
       "      <th>feature</th>\n",
       "      <th>nation number</th>\n",
       "      <th>nation</th>\n",
       "      <th>visited</th>\n",
       "      <th>aware</th>\n",
       "      <th>turn_last_visited</th>\n",
       "      <th>danger</th>\n",
       "    </tr>\n",
       "    <tr>\n",
       "      <th>key</th>\n",
       "      <th></th>\n",
       "      <th></th>\n",
       "      <th></th>\n",
       "      <th></th>\n",
       "      <th></th>\n",
       "      <th></th>\n",
       "      <th></th>\n",
       "      <th></th>\n",
       "      <th></th>\n",
       "      <th></th>\n",
       "      <th></th>\n",
       "      <th></th>\n",
       "      <th></th>\n",
       "    </tr>\n",
       "  </thead>\n",
       "  <tbody>\n",
       "    <tr>\n",
       "      <th>0:0</th>\n",
       "      <td>0</td>\n",
       "      <td>0.0</td>\n",
       "      <td>0</td>\n",
       "      <td>0:0</td>\n",
       "      <td>16.0</td>\n",
       "      <td>desert</td>\n",
       "      <td>NaN</td>\n",
       "      <td>2.0</td>\n",
       "      <td>Landsfellow</td>\n",
       "      <td>0</td>\n",
       "      <td>0</td>\n",
       "      <td>0</td>\n",
       "      <td>0.573</td>\n",
       "    </tr>\n",
       "    <tr>\n",
       "      <th>1:0</th>\n",
       "      <td>0</td>\n",
       "      <td>0.0</td>\n",
       "      <td>1</td>\n",
       "      <td>1:0</td>\n",
       "      <td>20.0</td>\n",
       "      <td>desert</td>\n",
       "      <td>NaN</td>\n",
       "      <td>2.0</td>\n",
       "      <td>Landsfellow</td>\n",
       "      <td>0</td>\n",
       "      <td>0</td>\n",
       "      <td>0</td>\n",
       "      <td>0.682</td>\n",
       "    </tr>\n",
       "    <tr>\n",
       "      <th>2:0</th>\n",
       "      <td>0</td>\n",
       "      <td>0.0</td>\n",
       "      <td>2</td>\n",
       "      <td>2:0</td>\n",
       "      <td>19.0</td>\n",
       "      <td>desert</td>\n",
       "      <td>NaN</td>\n",
       "      <td>2.0</td>\n",
       "      <td>Landsfellow</td>\n",
       "      <td>0</td>\n",
       "      <td>0</td>\n",
       "      <td>0</td>\n",
       "      <td>0.811</td>\n",
       "    </tr>\n",
       "    <tr>\n",
       "      <th>5:0</th>\n",
       "      <td>0</td>\n",
       "      <td>0.0</td>\n",
       "      <td>5</td>\n",
       "      <td>5:0</td>\n",
       "      <td>14.0</td>\n",
       "      <td>desert</td>\n",
       "      <td>NaN</td>\n",
       "      <td>2.0</td>\n",
       "      <td>Landsfellow</td>\n",
       "      <td>0</td>\n",
       "      <td>0</td>\n",
       "      <td>0</td>\n",
       "      <td>0.733</td>\n",
       "    </tr>\n",
       "    <tr>\n",
       "      <th>6:0</th>\n",
       "      <td>0</td>\n",
       "      <td>0.0</td>\n",
       "      <td>6</td>\n",
       "      <td>6:0</td>\n",
       "      <td>12.0</td>\n",
       "      <td>desert</td>\n",
       "      <td>NaN</td>\n",
       "      <td>2.0</td>\n",
       "      <td>Landsfellow</td>\n",
       "      <td>0</td>\n",
       "      <td>0</td>\n",
       "      <td>0</td>\n",
       "      <td>1.462</td>\n",
       "    </tr>\n",
       "  </tbody>\n",
       "</table>\n",
       "</div>"
      ],
      "text/plain": [
       "     y  rainfall  x  key  elevation terrain feature  nation number  \\\n",
       "key                                                                  \n",
       "0:0  0       0.0  0  0:0       16.0  desert     NaN            2.0   \n",
       "1:0  0       0.0  1  1:0       20.0  desert     NaN            2.0   \n",
       "2:0  0       0.0  2  2:0       19.0  desert     NaN            2.0   \n",
       "5:0  0       0.0  5  5:0       14.0  desert     NaN            2.0   \n",
       "6:0  0       0.0  6  6:0       12.0  desert     NaN            2.0   \n",
       "\n",
       "          nation  visited  aware  turn_last_visited  danger  \n",
       "key                                                          \n",
       "0:0  Landsfellow        0      0                  0   0.573  \n",
       "1:0  Landsfellow        0      0                  0   0.682  \n",
       "2:0  Landsfellow        0      0                  0   0.811  \n",
       "5:0  Landsfellow        0      0                  0   0.733  \n",
       "6:0  Landsfellow        0      0                  0   1.462  "
      ]
     },
     "execution_count": 6,
     "metadata": {},
     "output_type": "execute_result"
    }
   ],
   "source": [
    "world.df_features.loc[(world.df_features['terrain']=='desert') & \n",
    "                     (world.df_features['danger']>=.5)].head()"
   ]
  },
  {
   "cell_type": "markdown",
   "metadata": {},
   "source": [
    "You can also _mask_ the terrain where the character has no knowledge. "
   ]
  },
  {
   "cell_type": "code",
   "execution_count": 7,
   "metadata": {
    "scrolled": false
   },
   "outputs": [
    {
     "data": {
      "text/html": [
       "<div>\n",
       "<style scoped>\n",
       "    .dataframe tbody tr th:only-of-type {\n",
       "        vertical-align: middle;\n",
       "    }\n",
       "\n",
       "    .dataframe tbody tr th {\n",
       "        vertical-align: top;\n",
       "    }\n",
       "\n",
       "    .dataframe thead th {\n",
       "        text-align: right;\n",
       "    }\n",
       "</style>\n",
       "<table border=\"1\" class=\"dataframe\">\n",
       "  <thead>\n",
       "    <tr style=\"text-align: right;\">\n",
       "      <th></th>\n",
       "      <th>y</th>\n",
       "      <th>rainfall</th>\n",
       "      <th>x</th>\n",
       "      <th>key</th>\n",
       "      <th>elevation</th>\n",
       "      <th>terrain</th>\n",
       "      <th>feature</th>\n",
       "      <th>nation number</th>\n",
       "      <th>nation</th>\n",
       "      <th>visited</th>\n",
       "      <th>aware</th>\n",
       "      <th>turn_last_visited</th>\n",
       "      <th>danger</th>\n",
       "    </tr>\n",
       "    <tr>\n",
       "      <th>key</th>\n",
       "      <th></th>\n",
       "      <th></th>\n",
       "      <th></th>\n",
       "      <th></th>\n",
       "      <th></th>\n",
       "      <th></th>\n",
       "      <th></th>\n",
       "      <th></th>\n",
       "      <th></th>\n",
       "      <th></th>\n",
       "      <th></th>\n",
       "      <th></th>\n",
       "      <th></th>\n",
       "    </tr>\n",
       "  </thead>\n",
       "  <tbody>\n",
       "    <tr>\n",
       "      <th>0:0</th>\n",
       "      <td>0</td>\n",
       "      <td>0.0</td>\n",
       "      <td>0</td>\n",
       "      <td>0:0</td>\n",
       "      <td>16.0</td>\n",
       "      <td>unknown</td>\n",
       "      <td>unknown</td>\n",
       "      <td>0</td>\n",
       "      <td>unknown</td>\n",
       "      <td>0</td>\n",
       "      <td>0</td>\n",
       "      <td>0</td>\n",
       "      <td>0.573</td>\n",
       "    </tr>\n",
       "    <tr>\n",
       "      <th>1:0</th>\n",
       "      <td>0</td>\n",
       "      <td>0.0</td>\n",
       "      <td>1</td>\n",
       "      <td>1:0</td>\n",
       "      <td>20.0</td>\n",
       "      <td>unknown</td>\n",
       "      <td>unknown</td>\n",
       "      <td>0</td>\n",
       "      <td>unknown</td>\n",
       "      <td>0</td>\n",
       "      <td>0</td>\n",
       "      <td>0</td>\n",
       "      <td>0.682</td>\n",
       "    </tr>\n",
       "    <tr>\n",
       "      <th>2:0</th>\n",
       "      <td>0</td>\n",
       "      <td>0.0</td>\n",
       "      <td>2</td>\n",
       "      <td>2:0</td>\n",
       "      <td>19.0</td>\n",
       "      <td>unknown</td>\n",
       "      <td>unknown</td>\n",
       "      <td>0</td>\n",
       "      <td>unknown</td>\n",
       "      <td>0</td>\n",
       "      <td>0</td>\n",
       "      <td>0</td>\n",
       "      <td>0.811</td>\n",
       "    </tr>\n",
       "    <tr>\n",
       "      <th>3:0</th>\n",
       "      <td>0</td>\n",
       "      <td>0.0</td>\n",
       "      <td>3</td>\n",
       "      <td>3:0</td>\n",
       "      <td>18.0</td>\n",
       "      <td>unknown</td>\n",
       "      <td>unknown</td>\n",
       "      <td>0</td>\n",
       "      <td>unknown</td>\n",
       "      <td>0</td>\n",
       "      <td>0</td>\n",
       "      <td>0</td>\n",
       "      <td>0.171</td>\n",
       "    </tr>\n",
       "    <tr>\n",
       "      <th>4:0</th>\n",
       "      <td>0</td>\n",
       "      <td>0.0</td>\n",
       "      <td>4</td>\n",
       "      <td>4:0</td>\n",
       "      <td>17.0</td>\n",
       "      <td>unknown</td>\n",
       "      <td>unknown</td>\n",
       "      <td>0</td>\n",
       "      <td>unknown</td>\n",
       "      <td>0</td>\n",
       "      <td>0</td>\n",
       "      <td>0</td>\n",
       "      <td>0.333</td>\n",
       "    </tr>\n",
       "  </tbody>\n",
       "</table>\n",
       "</div>"
      ],
      "text/plain": [
       "     y  rainfall  x  key  elevation  terrain  feature nation number   nation  \\\n",
       "key                                                                            \n",
       "0:0  0       0.0  0  0:0       16.0  unknown  unknown             0  unknown   \n",
       "1:0  0       0.0  1  1:0       20.0  unknown  unknown             0  unknown   \n",
       "2:0  0       0.0  2  2:0       19.0  unknown  unknown             0  unknown   \n",
       "3:0  0       0.0  3  3:0       18.0  unknown  unknown             0  unknown   \n",
       "4:0  0       0.0  4  4:0       17.0  unknown  unknown             0  unknown   \n",
       "\n",
       "     visited  aware  turn_last_visited  danger  \n",
       "key                                             \n",
       "0:0        0      0                  0   0.573  \n",
       "1:0        0      0                  0   0.682  \n",
       "2:0        0      0                  0   0.811  \n",
       "3:0        0      0                  0   0.171  \n",
       "4:0        0      0                  0   0.333  "
      ]
     },
     "execution_count": 7,
     "metadata": {},
     "output_type": "execute_result"
    }
   ],
   "source": [
    "masked_world = w.mask_unknown(world)\n",
    "world.Character.title = \"Noble\"\n",
    "masked_world.head()"
   ]
  },
  {
   "cell_type": "markdown",
   "metadata": {},
   "source": [
    "Querying people is also easy, but you need to use _list comprehension_ to do it. This is the general structure. "
   ]
  },
  {
   "cell_type": "code",
   "execution_count": 8,
   "metadata": {},
   "outputs": [
    {
     "data": {
      "text/plain": [
       "[['Deldec', 'Frandun', 'Decknan'],\n",
       " ['Quardich', 'Marandos', 'Jogrox', 'Rojennunt'],\n",
       " ['Mantove', 'Brokelless', 'Latendod', 'Noyangox', 'Scofallesh'],\n",
       " ['Urfallod', 'Sereshol', 'Brolordale'],\n",
       " ['Tringan', 'Townan'],\n",
       " ['Frachust', 'Bafaddin', 'Neppsag', 'Darposh', 'Quaklak'],\n",
       " ['Zhaplent', 'Drawag', 'Wratallea', 'Alflak', 'Seblelle'],\n",
       " ['Hacinnec', 'Fentale', 'Scofloe', 'Lowillith', 'Lakrenton'],\n",
       " ['Afless', 'Secarraf', 'Vawildard'],\n",
       " ['Reyangess', 'Stidsah', 'Lahane'],\n",
       " ['Repprar', 'Erowildut'],\n",
       " ['Shensith', 'Vogennart'],\n",
       " ['Elossadle', 'Zhonnak'],\n",
       " ['Chickir', 'Loboldaker'],\n",
       " ['Lozennec'],\n",
       " ['Mefarrive', 'Zhopless'],\n",
       " ['Berpic', 'Kilarkoch'],\n",
       " ['Zhalarkane'],\n",
       " ['Erespnan']]"
      ]
     },
     "execution_count": 8,
     "metadata": {},
     "output_type": "execute_result"
    }
   ],
   "source": [
    "[[person.name for person in t.population] for t in world.towns]"
   ]
  },
  {
   "cell_type": "markdown",
   "metadata": {},
   "source": [
    "Query the people in the town by setting conditions in the list. These people are the highest in temperment. "
   ]
  },
  {
   "cell_type": "code",
   "execution_count": 9,
   "metadata": {},
   "outputs": [
    {
     "data": {
      "text/plain": [
       "[[('Frandun', 0.63)],\n",
       " [('Quardich', 0.54), ('Marandos', 0.91), ('Rojennunt', 0.76)],\n",
       " [('Mantove', 0.67), ('Latendod', 0.74)],\n",
       " [('Urfallod', 0.64), ('Sereshol', 0.83), ('Brolordale', 0.8)],\n",
       " [('Townan', 0.55)],\n",
       " [('Neppsag', 0.64), ('Darposh', 0.78)],\n",
       " [('Drawag', 0.78)],\n",
       " [('Lakrenton', 0.97)],\n",
       " [('Vawildard', 0.78)],\n",
       " [('Stidsah', 0.82)],\n",
       " [],\n",
       " [],\n",
       " [('Elossadle', 0.52)],\n",
       " [],\n",
       " [('Lozennec', 0.68)],\n",
       " [('Mefarrive', 0.6)],\n",
       " [('Berpic', 0.71)],\n",
       " [('Zhalarkane', 0.55)],\n",
       " [('Erespnan', 0.6)]]"
      ]
     },
     "execution_count": 9,
     "metadata": {},
     "output_type": "execute_result"
    }
   ],
   "source": [
    "[[(person.name,person.temperment) for person in t.population if person.temperment>.5] for t in world.towns]"
   ]
  },
  {
   "cell_type": "markdown",
   "metadata": {},
   "source": [
    "You can also get summary stats on people. For example, the average temperment per town."
   ]
  },
  {
   "cell_type": "code",
   "execution_count": 10,
   "metadata": {},
   "outputs": [
    {
     "data": {
      "text/plain": [
       "[('Founderstear', 0.4033333333333333),\n",
       " ('Gleamhost', 0.5900000000000001),\n",
       " ('Stormpike', 0.386),\n",
       " ('Splittown', 0.7566666666666667),\n",
       " ('Flameglen', 0.29000000000000004),\n",
       " ('Buckmelt', 0.35200000000000004),\n",
       " ('Warcatch', 0.4),\n",
       " ('Magering', 0.358),\n",
       " ('Soilwish', 0.43333333333333335),\n",
       " ('Doomchild', 0.47333333333333333),\n",
       " ('Magechild', 0.32),\n",
       " ('Earthmark', 0.33999999999999997),\n",
       " ('Lordsjaw', 0.28),\n",
       " ('Badgermark', 0.32499999999999996),\n",
       " ('Earthhenge', 0.68),\n",
       " ('Lordsring', 0.42),\n",
       " ('Soilchild', 0.52),\n",
       " ('Flamerise', 0.55),\n",
       " ('Lionfort', 0.6)]"
      ]
     },
     "execution_count": 10,
     "metadata": {},
     "output_type": "execute_result"
    }
   ],
   "source": [
    "[(t.name,np.mean([person.temperment for person in t.population])) for t in world.towns]"
   ]
  },
  {
   "cell_type": "markdown",
   "metadata": {},
   "source": [
    "For some purposes you may want to get a collection of people and edit them in bulk. This is also possible using list comprehension. "
   ]
  },
  {
   "cell_type": "code",
   "execution_count": 11,
   "metadata": {},
   "outputs": [
    {
     "data": {
      "text/html": [
       "<div>\n",
       "<style scoped>\n",
       "    .dataframe tbody tr th:only-of-type {\n",
       "        vertical-align: middle;\n",
       "    }\n",
       "\n",
       "    .dataframe tbody tr th {\n",
       "        vertical-align: top;\n",
       "    }\n",
       "\n",
       "    .dataframe thead th {\n",
       "        text-align: right;\n",
       "    }\n",
       "</style>\n",
       "<table border=\"1\" class=\"dataframe\">\n",
       "  <thead>\n",
       "    <tr style=\"text-align: right;\">\n",
       "      <th></th>\n",
       "      <th>y</th>\n",
       "      <th>rainfall</th>\n",
       "      <th>x</th>\n",
       "      <th>key</th>\n",
       "      <th>elevation</th>\n",
       "      <th>terrain</th>\n",
       "      <th>feature</th>\n",
       "      <th>nation number</th>\n",
       "      <th>nation</th>\n",
       "      <th>visited</th>\n",
       "      <th>aware</th>\n",
       "      <th>turn_last_visited</th>\n",
       "      <th>danger</th>\n",
       "    </tr>\n",
       "    <tr>\n",
       "      <th>key</th>\n",
       "      <th></th>\n",
       "      <th></th>\n",
       "      <th></th>\n",
       "      <th></th>\n",
       "      <th></th>\n",
       "      <th></th>\n",
       "      <th></th>\n",
       "      <th></th>\n",
       "      <th></th>\n",
       "      <th></th>\n",
       "      <th></th>\n",
       "      <th></th>\n",
       "      <th></th>\n",
       "    </tr>\n",
       "  </thead>\n",
       "  <tbody>\n",
       "    <tr>\n",
       "      <th>18:17</th>\n",
       "      <td>17</td>\n",
       "      <td>0.0</td>\n",
       "      <td>18</td>\n",
       "      <td>18:17</td>\n",
       "      <td>9.0</td>\n",
       "      <td>town</td>\n",
       "      <td>Earthmark</td>\n",
       "      <td>3.0</td>\n",
       "      <td>Brinehaven</td>\n",
       "      <td>1</td>\n",
       "      <td>0</td>\n",
       "      <td>0</td>\n",
       "      <td>0.132</td>\n",
       "    </tr>\n",
       "  </tbody>\n",
       "</table>\n",
       "</div>"
      ],
      "text/plain": [
       "        y  rainfall   x    key  elevation terrain    feature  nation number  \\\n",
       "key                                                                           \n",
       "18:17  17       0.0  18  18:17        9.0    town  Earthmark            3.0   \n",
       "\n",
       "           nation  visited  aware  turn_last_visited  danger  \n",
       "key                                                           \n",
       "18:17  Brinehaven        1      0                  0   0.132  "
      ]
     },
     "execution_count": 11,
     "metadata": {},
     "output_type": "execute_result"
    }
   ],
   "source": [
    "where_the_char_has_been = world.df_features.loc[world.df_features['visited']==1]\n",
    "where_the_char_has_been"
   ]
  },
  {
   "cell_type": "code",
   "execution_count": 12,
   "metadata": {},
   "outputs": [
    {
     "data": {
      "text/plain": [
       "key\n",
       "18:17    Brinehaven\n",
       "Name: nation, dtype: object"
      ]
     },
     "execution_count": 12,
     "metadata": {},
     "output_type": "execute_result"
    }
   ],
   "source": [
    "where_the_char_has_been['nation'].dropna()"
   ]
  },
  {
   "cell_type": "code",
   "execution_count": 13,
   "metadata": {},
   "outputs": [
    {
     "data": {
      "text/plain": [
       "array(['Brinehaven'], dtype=object)"
      ]
     },
     "execution_count": 13,
     "metadata": {},
     "output_type": "execute_result"
    }
   ],
   "source": [
    "nations_where_character_has_been = np.unique(where_the_char_has_been['nation'].dropna())\n",
    "nations_where_character_has_been"
   ]
  },
  {
   "cell_type": "markdown",
   "metadata": {},
   "source": [
    "You can use this to get lists of people who the character knows. "
   ]
  },
  {
   "cell_type": "code",
   "execution_count": 14,
   "metadata": {},
   "outputs": [
    {
     "data": {
      "text/plain": [
       "[[capitol of Gleamhost: population: 3 location: [24,16] founded 0,\n",
       "  town of Flameglen: population: 2 location: [20,13] founded 3,\n",
       "  town of Earthmark: population: 2 location: [18,17] founded 6]]"
      ]
     },
     "execution_count": 14,
     "metadata": {},
     "output_type": "execute_result"
    }
   ],
   "source": [
    "[[t for t in n.towns] for n in world.nations if n.name in nations_where_character_has_been]"
   ]
  },
  {
   "cell_type": "code",
   "execution_count": 15,
   "metadata": {},
   "outputs": [
    {
     "data": {
      "text/plain": [
       "[[Quardich the Speaker of Gleamhost,\n",
       "  Marandos the commoner,\n",
       "  Jogrox the commoner,\n",
       "  Rojennunt the Ruler of the nation of Brinehaven],\n",
       " [Tringan the Speaker of Flameglen, Townan the commoner],\n",
       " [Shensith the Speaker of Earthmark, Vogennart the commoner]]"
      ]
     },
     "execution_count": 15,
     "metadata": {},
     "output_type": "execute_result"
    }
   ],
   "source": [
    "[[t for t in T.population] for T in world.towns if T.nation in nations_where_character_has_been]"
   ]
  },
  {
   "cell_type": "code",
   "execution_count": 16,
   "metadata": {
    "scrolled": true
   },
   "outputs": [
    {
     "data": {
      "text/plain": [
       "[[{'name': 'Quardich',\n",
       "   'role': 'Speaker of Gleamhost',\n",
       "   'loyalty': 0.5,\n",
       "   'temperment': 0.54,\n",
       "   'attributes': ['alive'],\n",
       "   'messages': ['Hello stranger.',\n",
       "    'What a great wedding. So glad the people of [Nation of Brinehaven] are our friends.']},\n",
       "  {'name': 'Marandos',\n",
       "   'role': 'commoner',\n",
       "   'loyalty': 0.5,\n",
       "   'temperment': 0.91,\n",
       "   'attributes': ['alive'],\n",
       "   'messages': ['Hello stranger.',\n",
       "    'What a great wedding. So glad the people of [Nation of Brinehaven] are our friends.']},\n",
       "  {'name': 'Jogrox',\n",
       "   'role': 'commoner',\n",
       "   'loyalty': 0.5,\n",
       "   'temperment': 0.15,\n",
       "   'attributes': ['alive'],\n",
       "   'messages': ['Hello stranger.',\n",
       "    'What a great wedding. So glad the people of [Nation of Brinehaven] are our friends.']},\n",
       "  {'name': 'Rojennunt',\n",
       "   'role': 'Ruler of the nation of Brinehaven',\n",
       "   'loyalty': 0.5,\n",
       "   'temperment': 0.76,\n",
       "   'attributes': ['alive'],\n",
       "   'messages': ['Hello stranger.',\n",
       "    'What a great wedding. So glad the people of [Nation of Brinehaven] are our friends.']}],\n",
       " [{'name': 'Tringan',\n",
       "   'role': 'Speaker of Flameglen',\n",
       "   'loyalty': 0.5,\n",
       "   'temperment': 0.03,\n",
       "   'attributes': ['alive'],\n",
       "   'messages': ['Hello stranger.',\n",
       "    'What a great wedding. So glad the people of [Nation of Brinehaven] are our friends.']},\n",
       "  {'name': 'Townan',\n",
       "   'role': 'commoner',\n",
       "   'loyalty': 0.5,\n",
       "   'temperment': 0.55,\n",
       "   'attributes': ['alive'],\n",
       "   'messages': ['Hello stranger.',\n",
       "    'What a great wedding. So glad the people of [Nation of Brinehaven] are our friends.']}],\n",
       " [{'name': 'Shensith',\n",
       "   'role': 'Speaker of Earthmark',\n",
       "   'loyalty': 0.5,\n",
       "   'temperment': 0.43,\n",
       "   'attributes': ['alive'],\n",
       "   'messages': ['Hello stranger.',\n",
       "    'What a great wedding. So glad the people of [Nation of Brinehaven] are our friends.']},\n",
       "  {'name': 'Vogennart',\n",
       "   'role': 'commoner',\n",
       "   'loyalty': 0.5,\n",
       "   'temperment': 0.25,\n",
       "   'attributes': ['alive'],\n",
       "   'messages': ['Hello stranger.',\n",
       "    'What a great wedding. So glad the people of [Nation of Brinehaven] are our friends.']}]]"
      ]
     },
     "execution_count": 16,
     "metadata": {},
     "output_type": "execute_result"
    }
   ],
   "source": [
    "[[t.get_person_data() for t in T.population] for T in world.towns if T.nation in nations_where_character_has_been]"
   ]
  },
  {
   "cell_type": "code",
   "execution_count": 17,
   "metadata": {},
   "outputs": [
    {
     "data": {
      "text/plain": [
       "y                            17\n",
       "rainfall                      0\n",
       "x                            18\n",
       "key                       18:17\n",
       "elevation                     9\n",
       "terrain                    town\n",
       "feature               Earthmark\n",
       "nation number                 3\n",
       "nation               Brinehaven\n",
       "visited                       1\n",
       "aware                         0\n",
       "turn_last_visited             0\n",
       "danger                    0.132\n",
       "Name: 18:17, dtype: object"
      ]
     },
     "execution_count": 17,
     "metadata": {},
     "output_type": "execute_result"
    }
   ],
   "source": [
    "masked_world.loc[world.Character.get_location_key()]"
   ]
  },
  {
   "cell_type": "markdown",
   "metadata": {},
   "source": [
    "You can query nations or towns. `world.nations` is a list of _nations_ and `world.towns` is a list of _towns_"
   ]
  },
  {
   "cell_type": "code",
   "execution_count": 18,
   "metadata": {
    "scrolled": true
   },
   "outputs": [
    {
     "data": {
      "text/html": [
       "<div>\n",
       "<style scoped>\n",
       "    .dataframe tbody tr th:only-of-type {\n",
       "        vertical-align: middle;\n",
       "    }\n",
       "\n",
       "    .dataframe tbody tr th {\n",
       "        vertical-align: top;\n",
       "    }\n",
       "\n",
       "    .dataframe thead th {\n",
       "        text-align: right;\n",
       "    }\n",
       "</style>\n",
       "<table border=\"1\" class=\"dataframe\">\n",
       "  <thead>\n",
       "    <tr style=\"text-align: right;\">\n",
       "      <th></th>\n",
       "      <th>y</th>\n",
       "      <th>rainfall</th>\n",
       "      <th>x</th>\n",
       "      <th>key</th>\n",
       "      <th>elevation</th>\n",
       "      <th>terrain</th>\n",
       "      <th>feature</th>\n",
       "      <th>nation number</th>\n",
       "      <th>nation</th>\n",
       "      <th>visited</th>\n",
       "      <th>aware</th>\n",
       "      <th>turn_last_visited</th>\n",
       "      <th>danger</th>\n",
       "    </tr>\n",
       "    <tr>\n",
       "      <th>key</th>\n",
       "      <th></th>\n",
       "      <th></th>\n",
       "      <th></th>\n",
       "      <th></th>\n",
       "      <th></th>\n",
       "      <th></th>\n",
       "      <th></th>\n",
       "      <th></th>\n",
       "      <th></th>\n",
       "      <th></th>\n",
       "      <th></th>\n",
       "      <th></th>\n",
       "      <th></th>\n",
       "    </tr>\n",
       "  </thead>\n",
       "  <tbody>\n",
       "    <tr>\n",
       "      <th>18:17</th>\n",
       "      <td>17</td>\n",
       "      <td>0.0</td>\n",
       "      <td>18</td>\n",
       "      <td>18:17</td>\n",
       "      <td>9.0</td>\n",
       "      <td>town</td>\n",
       "      <td>Earthmark</td>\n",
       "      <td>3.0</td>\n",
       "      <td>Brinehaven</td>\n",
       "      <td>1</td>\n",
       "      <td>0</td>\n",
       "      <td>0</td>\n",
       "      <td>0.132</td>\n",
       "    </tr>\n",
       "  </tbody>\n",
       "</table>\n",
       "</div>"
      ],
      "text/plain": [
       "        y  rainfall   x    key  elevation terrain    feature  nation number  \\\n",
       "key                                                                           \n",
       "18:17  17       0.0  18  18:17        9.0    town  Earthmark            3.0   \n",
       "\n",
       "           nation  visited  aware  turn_last_visited  danger  \n",
       "key                                                           \n",
       "18:17  Brinehaven        1      0                  0   0.132  "
      ]
     },
     "execution_count": 18,
     "metadata": {},
     "output_type": "execute_result"
    }
   ],
   "source": [
    "where_the_char_has_been = world.df_features.loc[(world.df_features['visited']==1)&\n",
    "                                                (world.df_features['terrain']=='town')]\n",
    "where_the_char_has_been"
   ]
  },
  {
   "cell_type": "markdown",
   "metadata": {},
   "source": [
    "## Getting the diplomacy and relationships data for the journal page"
   ]
  },
  {
   "cell_type": "code",
   "execution_count": 19,
   "metadata": {},
   "outputs": [
    {
     "data": {
      "text/plain": [
       "[{'town': town of Earthmark: population: 2 location: [18,17] founded 6,\n",
       "  'people': [Shensith the Speaker of Earthmark, Vogennart the commoner]}]"
      ]
     },
     "execution_count": 19,
     "metadata": {},
     "output_type": "execute_result"
    }
   ],
   "source": [
    "rel = w.get_people_where_char_has_visited(world)\n",
    "rel"
   ]
  },
  {
   "cell_type": "code",
   "execution_count": 20,
   "metadata": {},
   "outputs": [
    {
     "data": {
      "text/plain": [
       "[{'name': 'Earthmark',\n",
       "  'title': 'town of Earthmark',\n",
       "  'nation': 'Brinehaven',\n",
       "  'population': 2,\n",
       "  'type': 'town',\n",
       "  'location': '18:17',\n",
       "  'founded year': 6,\n",
       "  'national fealty': 1,\n",
       "  'children': [{'name': 'Shensith',\n",
       "    'role': 'Speaker of Earthmark',\n",
       "    'temperment': 0.43,\n",
       "    'loyalty': 0.5,\n",
       "    'type': 'person'},\n",
       "   {'name': 'Vogennart',\n",
       "    'role': 'commoner',\n",
       "    'temperment': 0.25,\n",
       "    'loyalty': 0.5,\n",
       "    'type': 'person'}]}]"
      ]
     },
     "execution_count": 20,
     "metadata": {},
     "output_type": "execute_result"
    }
   ],
   "source": [
    "w.get_relationships_node_map(world)"
   ]
  },
  {
   "cell_type": "code",
   "execution_count": 21,
   "metadata": {},
   "outputs": [],
   "source": [
    "hierarchy = [{'nation':i.name,\n",
    "              'children':i.diplomacy} for i in world.nations]\n",
    "\n"
   ]
  },
  {
   "cell_type": "code",
   "execution_count": 22,
   "metadata": {},
   "outputs": [],
   "source": [
    "p = rel[0]['town'].population[0]\n"
   ]
  },
  {
   "cell_type": "code",
   "execution_count": 26,
   "metadata": {},
   "outputs": [
    {
     "data": {
      "text/plain": [
       "[{'town': town of Earthmark: population: 2 location: [18,17] founded 6,\n",
       "  'people': [Shensith the Speaker of Earthmark, Vogennart the commoner]}]"
      ]
     },
     "execution_count": 26,
     "metadata": {},
     "output_type": "execute_result"
    }
   ],
   "source": [
    "def get_people_where_char_has_visited(world):\n",
    "    \"\"\"\n",
    "    returns a dictionary of {{\"town\":[<obj>],\"people\":[<obj>]}\n",
    "    filtered to where the character has been. \n",
    "    \"\"\"\n",
    "    where_the_char_has_been = world.df_features.loc[(world.df_features['visited']==1)&\n",
    "                                                    (world.df_features['terrain']=='town')].dropna()\n",
    "    towns_and_people = [{\"town\":T,\n",
    "                         \"people\":[t for t in T.population]} \n",
    "                        for T in world.towns if T.name in np.unique(w.where_the_char_has_been['feature'])]\n",
    "    return towns_and_people\n",
    "\n",
    "def get_relationships_node_map(world):\n",
    "    nodes = [{'name':r['town'].name,\n",
    "              'title':str(r['town']).split(\":\")[0],\n",
    "              'nation':r['town'].diplomacy['nation'],\n",
    "              'population':r['town'].pop,\n",
    "              'type':r['town'].type,\n",
    "              'location':r['town'].key,\n",
    "              'founded year':r['town'].founded,\n",
    "              'national fealty':r['town'].diplomacy['national fealty'],\n",
    "             'children': [{'name':p.name,\n",
    "                          'role':p.role,\n",
    "                          'temperment':p.temperment,\n",
    "                          'loyalty':p.loyalty,\n",
    "                          'type':'person'} for p in r['people']]} \n",
    "             for r in w.get_people_where_char_has_visited(world)]\n",
    "    return nodes\n",
    "        \n",
    "w.get_people_where_char_has_visited(world)"
   ]
  },
  {
   "cell_type": "code",
   "execution_count": 28,
   "metadata": {},
   "outputs": [
    {
     "data": {
      "text/plain": [
       "[{'name': 'Earthmark',\n",
       "  'title': 'town of Earthmark',\n",
       "  'nation': 'Brinehaven',\n",
       "  'population': 2,\n",
       "  'type': 'town',\n",
       "  'location': '18:17',\n",
       "  'founded year': 6,\n",
       "  'national fealty': 1,\n",
       "  'children': [{'name': 'Shensith',\n",
       "    'role': 'Speaker of Earthmark',\n",
       "    'temperment': 0.43,\n",
       "    'loyalty': 0.5,\n",
       "    'type': 'person'},\n",
       "   {'name': 'Vogennart',\n",
       "    'role': 'commoner',\n",
       "    'temperment': 0.25,\n",
       "    'loyalty': 0.5,\n",
       "    'type': 'person'}]}]"
      ]
     },
     "execution_count": 28,
     "metadata": {},
     "output_type": "execute_result"
    }
   ],
   "source": [
    "relationships = w.get_relationships_node_map(world)\n",
    "relationships"
   ]
  },
  {
   "cell_type": "code",
   "execution_count": 36,
   "metadata": {},
   "outputs": [
    {
     "data": {
      "text/plain": [
       "['Brinehaven']"
      ]
     },
     "execution_count": 36,
     "metadata": {},
     "output_type": "execute_result"
    }
   ],
   "source": [
    "nations = [s['nation'] for s in relationships]\n",
    "nations"
   ]
  },
  {
   "cell_type": "code",
   "execution_count": 40,
   "metadata": {},
   "outputs": [
    {
     "data": {
      "text/plain": [
       "[{'name': 'Earthmark',\n",
       "  'title': 'town of Earthmark',\n",
       "  'nation': 'Brinehaven',\n",
       "  'population': 2,\n",
       "  'type': 'town',\n",
       "  'location': '18:17',\n",
       "  'founded year': 6,\n",
       "  'national fealty': 1,\n",
       "  'children': [{'name': 'Shensith',\n",
       "    'role': 'Speaker of Earthmark',\n",
       "    'temperment': 0.43,\n",
       "    'loyalty': 0.5,\n",
       "    'type': 'person'},\n",
       "   {'name': 'Vogennart',\n",
       "    'role': 'commoner',\n",
       "    'temperment': 0.25,\n",
       "    'loyalty': 0.5,\n",
       "    'type': 'person'}]}]"
      ]
     },
     "execution_count": 40,
     "metadata": {},
     "output_type": "execute_result"
    }
   ],
   "source": [
    "[i for i in relationships]"
   ]
  },
  {
   "cell_type": "code",
   "execution_count": 49,
   "metadata": {},
   "outputs": [
    {
     "data": {
      "text/plain": [
       "[{'nation': 'Brinehaven',\n",
       "  'towns': [{'name': 'Earthmark',\n",
       "    'title': 'town of Earthmark',\n",
       "    'nation': 'Brinehaven',\n",
       "    'population': 2,\n",
       "    'type': 'town',\n",
       "    'location': '18:17',\n",
       "    'founded year': 6,\n",
       "    'national fealty': 1,\n",
       "    'children': [{'name': 'Shensith',\n",
       "      'role': 'Speaker of Earthmark',\n",
       "      'temperment': 0.43,\n",
       "      'loyalty': 0.5,\n",
       "      'type': 'person'},\n",
       "     {'name': 'Vogennart',\n",
       "      'role': 'commoner',\n",
       "      'temperment': 0.25,\n",
       "      'loyalty': 0.5,\n",
       "      'type': 'person'}]}]}]"
      ]
     },
     "execution_count": 49,
     "metadata": {},
     "output_type": "execute_result"
    }
   ],
   "source": [
    "[{'nation':i,'towns':[t for t in relationships if t['nation']==i]} for i in nations]"
   ]
  },
  {
   "cell_type": "code",
   "execution_count": 46,
   "metadata": {},
   "outputs": [
    {
     "data": {
      "text/plain": [
       "['Brinehaven']"
      ]
     },
     "execution_count": 46,
     "metadata": {},
     "output_type": "execute_result"
    }
   ],
   "source": [
    "[i for i in nations]"
   ]
  },
  {
   "cell_type": "code",
   "execution_count": null,
   "metadata": {},
   "outputs": [],
   "source": []
  }
 ],
 "metadata": {
  "kernelspec": {
   "display_name": "Python 3",
   "language": "python",
   "name": "python3"
  },
  "language_info": {
   "codemirror_mode": {
    "name": "ipython",
    "version": 3
   },
   "file_extension": ".py",
   "mimetype": "text/x-python",
   "name": "python",
   "nbconvert_exporter": "python",
   "pygments_lexer": "ipython3",
   "version": "3.7.3"
  }
 },
 "nbformat": 4,
 "nbformat_minor": 2
}
