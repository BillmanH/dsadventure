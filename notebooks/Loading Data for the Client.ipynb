{
 "cells": [
  {
   "cell_type": "markdown",
   "metadata": {},
   "source": [
    "# Getting the info that the client needs for D3.js\n",
    "\n",
    "Often it is easier to transform data in the backend to be used by D3. In general all data in D3 needs to be a list of dicts. In this example I'm using an existing `world` object to demonstrate the methods that do these transformations. "
   ]
  },
  {
   "cell_type": "code",
   "execution_count": 1,
   "metadata": {},
   "outputs": [],
   "source": [
    "#I'm mapping to the actual files in the repo so that I can also use this to troubleshoot\n",
    "import os\n",
    "import sys\n",
    "import numpy as np\n",
    "import pandas as pd\n",
    "import pickle\n",
    "import django\n",
    "sys.path.append('../..')\n",
    "#Loading my project settings from prodweb. This allows me to load and query models. \n",
    "os.environ.setdefault('DJANGO_SETTINGS_MODULE', 'prodweb.settings')\n",
    "django.setup()\n",
    "\n",
    "\n",
    "with (open(\"../pickles/billmanhworld.pkl\", 'rb')) as pickle_file:\n",
    "    world = pickle.load(pickle_file)"
   ]
  },
  {
   "cell_type": "code",
   "execution_count": 2,
   "metadata": {
    "scrolled": true
   },
   "outputs": [],
   "source": [
    "sys.path.append('..')\n",
    "from lib.builders import world as w"
   ]
  },
  {
   "cell_type": "markdown",
   "metadata": {},
   "source": [
    "`w.get_area_data(world)` gets the area relevant to where the character is. This includes surrounding areas."
   ]
  },
  {
   "cell_type": "code",
   "execution_count": 3,
   "metadata": {},
   "outputs": [
    {
     "data": {
      "text/plain": [
       "<game.lib.builders.world.World at 0x7f87fbc24be0>"
      ]
     },
     "execution_count": 3,
     "metadata": {},
     "output_type": "execute_result"
    }
   ],
   "source": [
    "world"
   ]
  },
  {
   "cell_type": "code",
   "execution_count": 4,
   "metadata": {},
   "outputs": [
    {
     "name": "stdout",
     "output_type": "stream",
     "text": [
      "[38, 35]\n"
     ]
    },
    {
     "data": {
      "text/html": [
       "<div>\n",
       "<style scoped>\n",
       "    .dataframe tbody tr th:only-of-type {\n",
       "        vertical-align: middle;\n",
       "    }\n",
       "\n",
       "    .dataframe tbody tr th {\n",
       "        vertical-align: top;\n",
       "    }\n",
       "\n",
       "    .dataframe thead th {\n",
       "        text-align: right;\n",
       "    }\n",
       "</style>\n",
       "<table border=\"1\" class=\"dataframe\">\n",
       "  <thead>\n",
       "    <tr style=\"text-align: right;\">\n",
       "      <th></th>\n",
       "      <th>aware</th>\n",
       "      <th>danger</th>\n",
       "      <th>elevation</th>\n",
       "      <th>feature</th>\n",
       "      <th>key</th>\n",
       "      <th>nation</th>\n",
       "      <th>nation number</th>\n",
       "      <th>rainfall</th>\n",
       "      <th>terrain</th>\n",
       "      <th>turn_last_visited</th>\n",
       "      <th>visited</th>\n",
       "      <th>x</th>\n",
       "      <th>y</th>\n",
       "    </tr>\n",
       "  </thead>\n",
       "  <tbody>\n",
       "    <tr>\n",
       "      <th>area</th>\n",
       "      <td>1</td>\n",
       "      <td>0.782</td>\n",
       "      <td>17</td>\n",
       "      <td>Earthmore</td>\n",
       "      <td>38:35</td>\n",
       "      <td>Fallforth</td>\n",
       "      <td>1</td>\n",
       "      <td>1</td>\n",
       "      <td>town</td>\n",
       "      <td>10</td>\n",
       "      <td>1</td>\n",
       "      <td>38</td>\n",
       "      <td>35</td>\n",
       "    </tr>\n",
       "    <tr>\n",
       "      <th>NArea</th>\n",
       "      <td>1</td>\n",
       "      <td>0.046</td>\n",
       "      <td>12</td>\n",
       "      <td>none</td>\n",
       "      <td>38:34</td>\n",
       "      <td>Fallforth</td>\n",
       "      <td>1</td>\n",
       "      <td>1</td>\n",
       "      <td>desert</td>\n",
       "      <td>5</td>\n",
       "      <td>1</td>\n",
       "      <td>38</td>\n",
       "      <td>34</td>\n",
       "    </tr>\n",
       "    <tr>\n",
       "      <th>SArea</th>\n",
       "      <td>1</td>\n",
       "      <td>0.632</td>\n",
       "      <td>17</td>\n",
       "      <td>none</td>\n",
       "      <td>38:36</td>\n",
       "      <td>Fallforth</td>\n",
       "      <td>1</td>\n",
       "      <td>1</td>\n",
       "      <td>desert</td>\n",
       "      <td>0</td>\n",
       "      <td>0</td>\n",
       "      <td>38</td>\n",
       "      <td>36</td>\n",
       "    </tr>\n",
       "    <tr>\n",
       "      <th>EArea</th>\n",
       "      <td>1</td>\n",
       "      <td>0.954</td>\n",
       "      <td>11</td>\n",
       "      <td>none</td>\n",
       "      <td>39:35</td>\n",
       "      <td>Fallforth</td>\n",
       "      <td>1</td>\n",
       "      <td>0</td>\n",
       "      <td>desert</td>\n",
       "      <td>0</td>\n",
       "      <td>0</td>\n",
       "      <td>39</td>\n",
       "      <td>35</td>\n",
       "    </tr>\n",
       "    <tr>\n",
       "      <th>WArea</th>\n",
       "      <td>1</td>\n",
       "      <td>0.853</td>\n",
       "      <td>25</td>\n",
       "      <td>none</td>\n",
       "      <td>37:35</td>\n",
       "      <td>Fallforth</td>\n",
       "      <td>1</td>\n",
       "      <td>2</td>\n",
       "      <td>mountain</td>\n",
       "      <td>0</td>\n",
       "      <td>0</td>\n",
       "      <td>37</td>\n",
       "      <td>35</td>\n",
       "    </tr>\n",
       "  </tbody>\n",
       "</table>\n",
       "</div>"
      ],
      "text/plain": [
       "      aware danger elevation    feature    key     nation nation number  \\\n",
       "area      1  0.782        17  Earthmore  38:35  Fallforth             1   \n",
       "NArea     1  0.046        12       none  38:34  Fallforth             1   \n",
       "SArea     1  0.632        17       none  38:36  Fallforth             1   \n",
       "EArea     1  0.954        11       none  39:35  Fallforth             1   \n",
       "WArea     1  0.853        25       none  37:35  Fallforth             1   \n",
       "\n",
       "      rainfall   terrain turn_last_visited visited   x   y  \n",
       "area         1      town                10       1  38  35  \n",
       "NArea        1    desert                 5       1  38  34  \n",
       "SArea        1    desert                 0       0  38  36  \n",
       "EArea        0    desert                 0       0  39  35  \n",
       "WArea        2  mountain                 0       0  37  35  "
      ]
     },
     "execution_count": 4,
     "metadata": {},
     "output_type": "execute_result"
    }
   ],
   "source": [
    "print(world.Character.location)\n",
    "pd.DataFrame(w.get_area_data(world)).T"
   ]
  },
  {
   "cell_type": "markdown",
   "metadata": {},
   "source": [
    "For other game principals, it's easy to just make regular `pandas` and `numpy` queries on those datasets. "
   ]
  },
  {
   "cell_type": "code",
   "execution_count": 5,
   "metadata": {
    "scrolled": true
   },
   "outputs": [
    {
     "data": {
      "text/plain": [
       "True"
      ]
     },
     "execution_count": 5,
     "metadata": {},
     "output_type": "execute_result"
    }
   ],
   "source": [
    "world.df_features.loc[world.Character.get_location_key(),'visited'] >= 1"
   ]
  },
  {
   "cell_type": "markdown",
   "metadata": {},
   "source": [
    "Querying the terrain is easy as well. For example, here is a query of all of the world where the _terrain_ is _desert_ and the _danger_ is above .5. These queries are fast and cheap. "
   ]
  },
  {
   "cell_type": "code",
   "execution_count": 6,
   "metadata": {
    "scrolled": true
   },
   "outputs": [
    {
     "data": {
      "text/html": [
       "<div>\n",
       "<style scoped>\n",
       "    .dataframe tbody tr th:only-of-type {\n",
       "        vertical-align: middle;\n",
       "    }\n",
       "\n",
       "    .dataframe tbody tr th {\n",
       "        vertical-align: top;\n",
       "    }\n",
       "\n",
       "    .dataframe thead th {\n",
       "        text-align: right;\n",
       "    }\n",
       "</style>\n",
       "<table border=\"1\" class=\"dataframe\">\n",
       "  <thead>\n",
       "    <tr style=\"text-align: right;\">\n",
       "      <th></th>\n",
       "      <th>y</th>\n",
       "      <th>rainfall</th>\n",
       "      <th>x</th>\n",
       "      <th>key</th>\n",
       "      <th>elevation</th>\n",
       "      <th>terrain</th>\n",
       "      <th>feature</th>\n",
       "      <th>nation number</th>\n",
       "      <th>nation</th>\n",
       "      <th>visited</th>\n",
       "      <th>aware</th>\n",
       "      <th>turn_last_visited</th>\n",
       "      <th>danger</th>\n",
       "    </tr>\n",
       "    <tr>\n",
       "      <th>key</th>\n",
       "      <th></th>\n",
       "      <th></th>\n",
       "      <th></th>\n",
       "      <th></th>\n",
       "      <th></th>\n",
       "      <th></th>\n",
       "      <th></th>\n",
       "      <th></th>\n",
       "      <th></th>\n",
       "      <th></th>\n",
       "      <th></th>\n",
       "      <th></th>\n",
       "      <th></th>\n",
       "    </tr>\n",
       "  </thead>\n",
       "  <tbody>\n",
       "    <tr>\n",
       "      <th>0:15</th>\n",
       "      <td>15</td>\n",
       "      <td>0.0</td>\n",
       "      <td>0</td>\n",
       "      <td>0:15</td>\n",
       "      <td>17.0</td>\n",
       "      <td>desert</td>\n",
       "      <td>NaN</td>\n",
       "      <td>3</td>\n",
       "      <td>Heartpike</td>\n",
       "      <td>0</td>\n",
       "      <td>0</td>\n",
       "      <td>0</td>\n",
       "      <td>0.910</td>\n",
       "    </tr>\n",
       "    <tr>\n",
       "      <th>0:16</th>\n",
       "      <td>16</td>\n",
       "      <td>1.0</td>\n",
       "      <td>0</td>\n",
       "      <td>0:16</td>\n",
       "      <td>9.0</td>\n",
       "      <td>desert</td>\n",
       "      <td>NaN</td>\n",
       "      <td>3</td>\n",
       "      <td>Heartpike</td>\n",
       "      <td>0</td>\n",
       "      <td>0</td>\n",
       "      <td>0</td>\n",
       "      <td>0.823</td>\n",
       "    </tr>\n",
       "    <tr>\n",
       "      <th>38:32</th>\n",
       "      <td>32</td>\n",
       "      <td>1.0</td>\n",
       "      <td>38</td>\n",
       "      <td>38:32</td>\n",
       "      <td>8.0</td>\n",
       "      <td>desert</td>\n",
       "      <td>NaN</td>\n",
       "      <td>1</td>\n",
       "      <td>Fallforth</td>\n",
       "      <td>0</td>\n",
       "      <td>1</td>\n",
       "      <td>0</td>\n",
       "      <td>1.083</td>\n",
       "    </tr>\n",
       "    <tr>\n",
       "      <th>38:33</th>\n",
       "      <td>33</td>\n",
       "      <td>1.0</td>\n",
       "      <td>38</td>\n",
       "      <td>38:33</td>\n",
       "      <td>11.0</td>\n",
       "      <td>desert</td>\n",
       "      <td>NaN</td>\n",
       "      <td>1</td>\n",
       "      <td>Fallforth</td>\n",
       "      <td>1</td>\n",
       "      <td>1</td>\n",
       "      <td>4</td>\n",
       "      <td>0.806</td>\n",
       "    </tr>\n",
       "    <tr>\n",
       "      <th>39:33</th>\n",
       "      <td>33</td>\n",
       "      <td>0.0</td>\n",
       "      <td>39</td>\n",
       "      <td>39:33</td>\n",
       "      <td>9.0</td>\n",
       "      <td>desert</td>\n",
       "      <td>NaN</td>\n",
       "      <td>1</td>\n",
       "      <td>Fallforth</td>\n",
       "      <td>1</td>\n",
       "      <td>1</td>\n",
       "      <td>3</td>\n",
       "      <td>0.975</td>\n",
       "    </tr>\n",
       "  </tbody>\n",
       "</table>\n",
       "</div>"
      ],
      "text/plain": [
       "        y  rainfall   x    key  elevation terrain feature  nation number  \\\n",
       "key                                                                        \n",
       "0:15   15       0.0   0   0:15       17.0  desert     NaN              3   \n",
       "0:16   16       1.0   0   0:16        9.0  desert     NaN              3   \n",
       "38:32  32       1.0  38  38:32        8.0  desert     NaN              1   \n",
       "38:33  33       1.0  38  38:33       11.0  desert     NaN              1   \n",
       "39:33  33       0.0  39  39:33        9.0  desert     NaN              1   \n",
       "\n",
       "          nation  visited  aware  turn_last_visited  danger  \n",
       "key                                                          \n",
       "0:15   Heartpike        0      0                  0   0.910  \n",
       "0:16   Heartpike        0      0                  0   0.823  \n",
       "38:32  Fallforth        0      1                  0   1.083  \n",
       "38:33  Fallforth        1      1                  4   0.806  \n",
       "39:33  Fallforth        1      1                  3   0.975  "
      ]
     },
     "execution_count": 6,
     "metadata": {},
     "output_type": "execute_result"
    }
   ],
   "source": [
    "world.df_features.loc[(world.df_features['terrain']=='desert') & \n",
    "                     (world.df_features['danger']>=.5)].head()"
   ]
  },
  {
   "cell_type": "markdown",
   "metadata": {},
   "source": [
    "You can also _mask_ the terrain where the character has no knowledge. "
   ]
  },
  {
   "cell_type": "code",
   "execution_count": 7,
   "metadata": {
    "scrolled": false
   },
   "outputs": [
    {
     "data": {
      "text/html": [
       "<div>\n",
       "<style scoped>\n",
       "    .dataframe tbody tr th:only-of-type {\n",
       "        vertical-align: middle;\n",
       "    }\n",
       "\n",
       "    .dataframe tbody tr th {\n",
       "        vertical-align: top;\n",
       "    }\n",
       "\n",
       "    .dataframe thead th {\n",
       "        text-align: right;\n",
       "    }\n",
       "</style>\n",
       "<table border=\"1\" class=\"dataframe\">\n",
       "  <thead>\n",
       "    <tr style=\"text-align: right;\">\n",
       "      <th></th>\n",
       "      <th>y</th>\n",
       "      <th>rainfall</th>\n",
       "      <th>x</th>\n",
       "      <th>key</th>\n",
       "      <th>elevation</th>\n",
       "      <th>terrain</th>\n",
       "      <th>feature</th>\n",
       "      <th>nation number</th>\n",
       "      <th>nation</th>\n",
       "      <th>visited</th>\n",
       "      <th>aware</th>\n",
       "      <th>turn_last_visited</th>\n",
       "      <th>danger</th>\n",
       "    </tr>\n",
       "    <tr>\n",
       "      <th>key</th>\n",
       "      <th></th>\n",
       "      <th></th>\n",
       "      <th></th>\n",
       "      <th></th>\n",
       "      <th></th>\n",
       "      <th></th>\n",
       "      <th></th>\n",
       "      <th></th>\n",
       "      <th></th>\n",
       "      <th></th>\n",
       "      <th></th>\n",
       "      <th></th>\n",
       "      <th></th>\n",
       "    </tr>\n",
       "  </thead>\n",
       "  <tbody>\n",
       "    <tr>\n",
       "      <th>0:0</th>\n",
       "      <td>0</td>\n",
       "      <td>5.0</td>\n",
       "      <td>0</td>\n",
       "      <td>0:0</td>\n",
       "      <td>2.0</td>\n",
       "      <td>ocean</td>\n",
       "      <td>NaN</td>\n",
       "      <td>3</td>\n",
       "      <td>Heartpike</td>\n",
       "      <td>0</td>\n",
       "      <td>1</td>\n",
       "      <td>0</td>\n",
       "      <td>0.286</td>\n",
       "    </tr>\n",
       "    <tr>\n",
       "      <th>1:0</th>\n",
       "      <td>0</td>\n",
       "      <td>6.0</td>\n",
       "      <td>1</td>\n",
       "      <td>1:0</td>\n",
       "      <td>1.0</td>\n",
       "      <td>ocean</td>\n",
       "      <td>NaN</td>\n",
       "      <td>3</td>\n",
       "      <td>Heartpike</td>\n",
       "      <td>0</td>\n",
       "      <td>1</td>\n",
       "      <td>0</td>\n",
       "      <td>0.018</td>\n",
       "    </tr>\n",
       "    <tr>\n",
       "      <th>2:0</th>\n",
       "      <td>0</td>\n",
       "      <td>6.0</td>\n",
       "      <td>2</td>\n",
       "      <td>2:0</td>\n",
       "      <td>2.0</td>\n",
       "      <td>ocean</td>\n",
       "      <td>NaN</td>\n",
       "      <td>3</td>\n",
       "      <td>Heartpike</td>\n",
       "      <td>0</td>\n",
       "      <td>1</td>\n",
       "      <td>0</td>\n",
       "      <td>-0.409</td>\n",
       "    </tr>\n",
       "    <tr>\n",
       "      <th>3:0</th>\n",
       "      <td>0</td>\n",
       "      <td>6.0</td>\n",
       "      <td>3</td>\n",
       "      <td>3:0</td>\n",
       "      <td>0.0</td>\n",
       "      <td>ocean</td>\n",
       "      <td>NaN</td>\n",
       "      <td>3</td>\n",
       "      <td>Heartpike</td>\n",
       "      <td>0</td>\n",
       "      <td>1</td>\n",
       "      <td>0</td>\n",
       "      <td>-0.808</td>\n",
       "    </tr>\n",
       "    <tr>\n",
       "      <th>4:0</th>\n",
       "      <td>0</td>\n",
       "      <td>6.0</td>\n",
       "      <td>4</td>\n",
       "      <td>4:0</td>\n",
       "      <td>1.0</td>\n",
       "      <td>ocean</td>\n",
       "      <td>NaN</td>\n",
       "      <td>3</td>\n",
       "      <td>Heartpike</td>\n",
       "      <td>0</td>\n",
       "      <td>1</td>\n",
       "      <td>0</td>\n",
       "      <td>0.777</td>\n",
       "    </tr>\n",
       "  </tbody>\n",
       "</table>\n",
       "</div>"
      ],
      "text/plain": [
       "     y  rainfall  x  key  elevation terrain feature nation number     nation  \\\n",
       "key                                                                            \n",
       "0:0  0       5.0  0  0:0        2.0   ocean     NaN             3  Heartpike   \n",
       "1:0  0       6.0  1  1:0        1.0   ocean     NaN             3  Heartpike   \n",
       "2:0  0       6.0  2  2:0        2.0   ocean     NaN             3  Heartpike   \n",
       "3:0  0       6.0  3  3:0        0.0   ocean     NaN             3  Heartpike   \n",
       "4:0  0       6.0  4  4:0        1.0   ocean     NaN             3  Heartpike   \n",
       "\n",
       "     visited  aware  turn_last_visited  danger  \n",
       "key                                             \n",
       "0:0        0      1                  0   0.286  \n",
       "1:0        0      1                  0   0.018  \n",
       "2:0        0      1                  0  -0.409  \n",
       "3:0        0      1                  0  -0.808  \n",
       "4:0        0      1                  0   0.777  "
      ]
     },
     "execution_count": 7,
     "metadata": {},
     "output_type": "execute_result"
    }
   ],
   "source": [
    "masked_world = w.mask_unknown(world)\n",
    "world.Character.title = \"Noble\"\n",
    "masked_world.head()"
   ]
  },
  {
   "cell_type": "markdown",
   "metadata": {},
   "source": [
    "## Analysis via list comprehension"
   ]
  },
  {
   "cell_type": "markdown",
   "metadata": {},
   "source": [
    "Querying people is also easy, but you need to use _list comprehension_ to do it. This is the general structure. "
   ]
  },
  {
   "cell_type": "code",
   "execution_count": 8,
   "metadata": {},
   "outputs": [
    {
     "data": {
      "text/plain": [
       "[Lecinnech the Speaker of Clearcraft,\n",
       " Bohorkach the Speaker of Lilyrun,\n",
       " Stufillelle the Speaker of Starforth,\n",
       " Erongek the Speaker of Earthcatch,\n",
       " Xahillad the Speaker of Maljaw,\n",
       " Scamsam the commoner,\n",
       " Elennik the Speaker of Leafforth,\n",
       " Romendot the Speaker of Malblade,\n",
       " Anirandur the commoner,\n",
       " Scopeltob the Speaker of Soilring,\n",
       " Bemmek the Speaker of Warjaw,\n",
       " Stiwillath the commoner,\n",
       " Drospus the commoner,\n",
       " Scamattat the Speaker of Warfellow,\n",
       " Illiamendess the Speaker of Foundersvale,\n",
       " Jarpen the commoner,\n",
       " Zhoppadle the commoner,\n",
       " Stiyellod the Speaker of Spincrest,\n",
       " Fannel the Speaker of Snakemelt,\n",
       " Elopper the Speaker of Servantslair,\n",
       " Erflelton the commoner,\n",
       " Anikracka the commoner,\n",
       " Fashish the Speaker of Earthmore,\n",
       " Drogordosh the Speaker of Heartlight,\n",
       " Shecarrob the Speaker of Fallspring,\n",
       " Drapeltunt the commoner,\n",
       " Xippad the commoner,\n",
       " Betallep the commoner,\n",
       " Akikrackundle the commoner,\n",
       " Shakkish the commoner,\n",
       " Praggut the Speaker of Snowmore,\n",
       " Drodren the Speaker of Badgerward,\n",
       " Krapprolen the Speaker of Oakspring,\n",
       " Ekoyaker the Speaker of Buckrest,\n",
       " Tiplaf the Speaker of Brinetown,\n",
       " Dahillab the commoner,\n",
       " Pocklir the commoner,\n",
       " Elikliput the commoner,\n",
       " Lansane the commoner,\n",
       " Trafarrab the commoner,\n",
       " Onnunder the commoner,\n",
       " Trifadda the commoner,\n",
       " Leffad the commoner,\n",
       " Obbace the commoner,\n",
       " Thokrand the commoner,\n",
       " Packesh the Speaker of Warpike,\n",
       " Scakillor the Speaker of Landshenge,\n",
       " Pollut the commoner,\n",
       " Docken the commoner,\n",
       " Possess the commoner,\n",
       " Tazox the commoner,\n",
       " Meharkun the commoner,\n",
       " Fackort the commoner,\n",
       " Eronkob the commoner,\n",
       " Zhascend the ruler of Kingscoil,\n",
       " Thozennal the ruler of Fallforth,\n",
       " Stalindoh the ruler of Stormlight,\n",
       " Dekellunder the ruler of Heartpike,\n",
       " Zhofarrash the ruler of Starcrest,\n",
       " Illiapartech the ruler of Solplace,\n",
       " Ericarrich the ruler of Purelair,\n",
       " Xawiller the ruler of Kingsspring]"
      ]
     },
     "execution_count": 8,
     "metadata": {},
     "output_type": "execute_result"
    }
   ],
   "source": [
    "world.people\n"
   ]
  },
  {
   "cell_type": "code",
   "execution_count": 15,
   "metadata": {},
   "outputs": [
    {
     "data": {
      "text/plain": [
       "1134"
      ]
     },
     "execution_count": 15,
     "metadata": {},
     "output_type": "execute_result"
    }
   ],
   "source": [
    "world.year"
   ]
  },
  {
   "cell_type": "code",
   "execution_count": 14,
   "metadata": {},
   "outputs": [
    {
     "data": {
      "text/plain": [
       "[1000,\n",
       " 1001,\n",
       " 1002,\n",
       " 1003,\n",
       " 1004,\n",
       " 1005,\n",
       " 1006,\n",
       " 1007,\n",
       " 1008,\n",
       " 1009,\n",
       " 1010,\n",
       " 1011,\n",
       " 1012,\n",
       " 1013,\n",
       " 1014,\n",
       " 1015,\n",
       " 1016,\n",
       " 1017,\n",
       " 1018,\n",
       " 1019,\n",
       " 1020,\n",
       " 1021,\n",
       " 1022,\n",
       " 1023]"
      ]
     },
     "execution_count": 14,
     "metadata": {},
     "output_type": "execute_result"
    }
   ],
   "source": [
    "[t.founded for t in world.towns]"
   ]
  },
  {
   "cell_type": "markdown",
   "metadata": {},
   "source": [
    "Query the people in the town by setting conditions in the list. These people are the highest in temperment. "
   ]
  },
  {
   "cell_type": "code",
   "execution_count": null,
   "metadata": {},
   "outputs": [],
   "source": [
    "[[(person.name,person.temperment) for person in t.population if person.temperment>.5] for t in world.towns]"
   ]
  },
  {
   "cell_type": "markdown",
   "metadata": {},
   "source": [
    "You can also get summary stats on towns. For example, the average temperment per town."
   ]
  },
  {
   "cell_type": "code",
   "execution_count": null,
   "metadata": {},
   "outputs": [],
   "source": [
    "[(t.name,np.mean([person.temperment for person in t.population])) for t in world.towns]"
   ]
  },
  {
   "cell_type": "markdown",
   "metadata": {},
   "source": [
    "For some purposes you may want to get a collection of people and edit them in bulk. This is also possible using list comprehension. "
   ]
  },
  {
   "cell_type": "code",
   "execution_count": null,
   "metadata": {},
   "outputs": [],
   "source": [
    "w.get_people_where_char_has_visited(world)"
   ]
  },
  {
   "cell_type": "code",
   "execution_count": null,
   "metadata": {},
   "outputs": [],
   "source": [
    "r = w.get_people_where_char_has_visited(world)[0]\n",
    "r"
   ]
  },
  {
   "cell_type": "code",
   "execution_count": null,
   "metadata": {},
   "outputs": [],
   "source": [
    "r['town'].nation"
   ]
  },
  {
   "cell_type": "code",
   "execution_count": null,
   "metadata": {},
   "outputs": [],
   "source": [
    "w.get_relationships_node_map(world)"
   ]
  },
  {
   "cell_type": "markdown",
   "metadata": {},
   "source": [
    "## Getting map data (mapData): "
   ]
  },
  {
   "cell_type": "code",
   "execution_count": null,
   "metadata": {},
   "outputs": [],
   "source": [
    "def coordkey(coord):\n",
    "    '''\n",
    "    takes a coord [1,1], returns key \"1:1\"\n",
    "    '''\n",
    "    key = \":\".join([str(i) for i in coord])\n",
    "    return key\n",
    "\n",
    "\n",
    "def get_features_or_NA(world,coord):\n",
    "    try:\n",
    "        l = world.df_features.loc[\n",
    "                chordKey([\n",
    "                    int(coord[0]),int(coord[1])\n",
    "                    ])\n",
    "                ].fillna(\"none\").to_dict(),\n",
    "    except: \n",
    "        l = [{\"terrain\":\"void\"}]\n",
    "    return l[0]\n",
    "\n",
    "\n",
    "def get_area_data(world):\n",
    "    \"\"\"\n",
    "    note: requires Character\n",
    "    \"\"\"\n",
    "    mapData = {}\n",
    "    coord = world.Character.location\n",
    "    key = world.Character.get_location_key()\n",
    "    l = world.df_features.loc[key]\n",
    "    mapData = {'area':world.df_features.loc[key].fillna(\"none\").to_dict(),\n",
    "              'NArea':get_features_or_NA(world,[coord[0],coord[1]-1]),\n",
    "              'SArea':get_features_or_NA(world,[coord[0],coord[1]+1]),\n",
    "              'EArea':get_features_or_NA(world,[coord[0]+1,coord[1]]),\n",
    "              'WArea':get_features_or_NA(world,[coord[0]-1,coord[1]])}\n",
    "    return mapData\n",
    "\n",
    "\n",
    "get_area_data(world)"
   ]
  },
  {
   "cell_type": "code",
   "execution_count": null,
   "metadata": {},
   "outputs": [],
   "source": [
    "world.df_features.loc[\n",
    "                chordKey([\n",
    "                    int(coord[0]),int(coord[1])\n",
    "                    ])\n",
    "                ]"
   ]
  },
  {
   "cell_type": "code",
   "execution_count": null,
   "metadata": {},
   "outputs": [],
   "source": [
    "get_features_or_NA(world,[coord[0],coord[1]-1])"
   ]
  },
  {
   "cell_type": "code",
   "execution_count": null,
   "metadata": {},
   "outputs": [],
   "source": [
    "nations_where_character_has_been = np.unique(where_the_char_has_been['nation'].dropna())\n",
    "nations_where_character_has_been"
   ]
  },
  {
   "cell_type": "markdown",
   "metadata": {},
   "source": [
    "You can use this to get lists of people who the character knows. "
   ]
  },
  {
   "cell_type": "code",
   "execution_count": null,
   "metadata": {},
   "outputs": [],
   "source": [
    "[[t for t in n.get_all_towns(world)] for n in world.nations if n.name in nations_where_character_has_been]"
   ]
  },
  {
   "cell_type": "code",
   "execution_count": null,
   "metadata": {},
   "outputs": [],
   "source": [
    "[[t for t in T.population] for T in world.towns if T.nation in nations_where_character_has_been]"
   ]
  },
  {
   "cell_type": "code",
   "execution_count": null,
   "metadata": {},
   "outputs": [],
   "source": [
    "[(T.nation,T.name) for T in world.towns]"
   ]
  },
  {
   "cell_type": "code",
   "execution_count": null,
   "metadata": {
    "scrolled": true
   },
   "outputs": [],
   "source": [
    "[[t.get_person_data() for t in T.population] for T in world.towns if T.nation in nations_where_character_has_been]"
   ]
  },
  {
   "cell_type": "code",
   "execution_count": null,
   "metadata": {},
   "outputs": [],
   "source": [
    "masked_world.loc[world.Character.get_location_key()]"
   ]
  },
  {
   "cell_type": "markdown",
   "metadata": {},
   "source": [
    "You can query nations or towns. `world.nations` is a list of _nations_ and `world.towns` is a list of _towns_"
   ]
  },
  {
   "cell_type": "code",
   "execution_count": null,
   "metadata": {
    "scrolled": true
   },
   "outputs": [],
   "source": [
    "where_the_char_has_been = world.df_features.loc[(world.df_features['visited']==1)&\n",
    "                                                (world.df_features['terrain']=='town')]\n",
    "where_the_char_has_been"
   ]
  },
  {
   "cell_type": "markdown",
   "metadata": {},
   "source": [
    "## Getting the diplomacy and relationships data for the journal page"
   ]
  },
  {
   "cell_type": "code",
   "execution_count": null,
   "metadata": {},
   "outputs": [],
   "source": [
    "rel = w.get_people_where_char_has_visited(world)\n",
    "rel"
   ]
  },
  {
   "cell_type": "code",
   "execution_count": null,
   "metadata": {},
   "outputs": [],
   "source": [
    "w.get_relationships_node_map(world)"
   ]
  },
  {
   "cell_type": "code",
   "execution_count": null,
   "metadata": {},
   "outputs": [],
   "source": [
    "hierarchy = [{'nation':i.name,\n",
    "              'children':i.diplomacy} for i in world.nations]\n",
    "\n"
   ]
  },
  {
   "cell_type": "code",
   "execution_count": null,
   "metadata": {},
   "outputs": [],
   "source": [
    "p = rel[0]['town'].population[0]\n"
   ]
  },
  {
   "cell_type": "code",
   "execution_count": null,
   "metadata": {},
   "outputs": [],
   "source": [
    "def get_people_where_char_has_visited(world):\n",
    "    \"\"\"\n",
    "    returns a dictionary of {{\"town\":[<obj>],\"people\":[<obj>]}\n",
    "    filtered to where the character has been. \n",
    "    \"\"\"\n",
    "    where_the_char_has_been = world.df_features.loc[(world.df_features['visited']==1)&\n",
    "                                                    (world.df_features['terrain']=='town')].dropna()\n",
    "    towns_and_people = [{\"town\":T,\n",
    "                         \"people\":[t for t in T.population]} \n",
    "                        for T in world.towns if T.name in np.unique(w.where_the_char_has_been['feature'])]\n",
    "    return towns_and_people\n",
    "\n",
    "def get_relationships_node_map(world):\n",
    "    nodes = [{'name':r['town'].name,\n",
    "              'title':str(r['town']).split(\":\")[0],\n",
    "              'nation':r['town'].diplomacy['nation'],\n",
    "              'population':r['town'].pop,\n",
    "              'type':r['town'].type,\n",
    "              'location':r['town'].key,\n",
    "              'founded year':r['town'].founded,\n",
    "              'national fealty':r['town'].diplomacy['national fealty'],\n",
    "             'children': [{'name':p.name,\n",
    "                          'role':p.role,\n",
    "                          'temperment':p.temperment,\n",
    "                          'loyalty':p.loyalty,\n",
    "                          'type':'person'} for p in r['people']]} \n",
    "             for r in w.get_people_where_char_has_visited(world)]\n",
    "    return nodes\n",
    "        \n",
    "w.get_people_where_char_has_visited(world)"
   ]
  },
  {
   "cell_type": "code",
   "execution_count": null,
   "metadata": {},
   "outputs": [],
   "source": [
    "relationships = w.get_relationships_node_map(world)\n",
    "relationships"
   ]
  },
  {
   "cell_type": "code",
   "execution_count": null,
   "metadata": {},
   "outputs": [],
   "source": [
    "nations = [s['nation'] for s in relationships]\n",
    "nations"
   ]
  },
  {
   "cell_type": "code",
   "execution_count": null,
   "metadata": {},
   "outputs": [],
   "source": [
    "[i for i in relationships]"
   ]
  },
  {
   "cell_type": "code",
   "execution_count": null,
   "metadata": {},
   "outputs": [],
   "source": [
    "[{'nation':i,'towns':[t for t in relationships if t['nation']==i]} for i in nations]"
   ]
  },
  {
   "cell_type": "code",
   "execution_count": null,
   "metadata": {},
   "outputs": [],
   "source": [
    "[i for i in nations]"
   ]
  },
  {
   "cell_type": "code",
   "execution_count": null,
   "metadata": {},
   "outputs": [],
   "source": []
  }
 ],
 "metadata": {
  "kernelspec": {
   "display_name": "Python 3",
   "language": "python",
   "name": "python3"
  },
  "language_info": {
   "codemirror_mode": {
    "name": "ipython",
    "version": 3
   },
   "file_extension": ".py",
   "mimetype": "text/x-python",
   "name": "python",
   "nbconvert_exporter": "python",
   "pygments_lexer": "ipython3",
   "version": "3.7.3"
  }
 },
 "nbformat": 4,
 "nbformat_minor": 2
}
