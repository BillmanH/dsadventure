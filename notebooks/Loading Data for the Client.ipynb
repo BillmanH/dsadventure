{
 "cells": [
  {
   "cell_type": "markdown",
   "metadata": {},
   "source": [
    "# Getting the info that the client needs for D3.js"
   ]
  },
  {
   "cell_type": "code",
   "execution_count": 1,
   "metadata": {},
   "outputs": [],
   "source": [
    "#I'm mapping to the actual files in the repo so that I can also use this to troubleshoot\n",
    "import sys,pickle\n",
    "sys.path.append('../')\n",
    "from lib import modify_character\n",
    "\n",
    "from lib import builders\n",
    "\n",
    "with (open('world_4.p', 'rb')) as pickle_file:\n",
    "    world = pickle.load(pickle_file)"
   ]
  },
  {
   "cell_type": "code",
   "execution_count": 2,
   "metadata": {},
   "outputs": [
    {
     "data": {
      "text/plain": [
       "<lib.builders.world.World at 0x7f763c5fc908>"
      ]
     },
     "execution_count": 2,
     "metadata": {},
     "output_type": "execute_result"
    }
   ],
   "source": [
    "world"
   ]
  },
  {
   "cell_type": "code",
   "execution_count": 3,
   "metadata": {},
   "outputs": [
    {
     "data": {
      "text/plain": [
       "<module 'lib.builders.world' from '../lib/builders/world.py'>"
      ]
     },
     "execution_count": 3,
     "metadata": {},
     "output_type": "execute_result"
    }
   ],
   "source": [
    "WORLD = builders.world\n",
    "WORLD"
   ]
  },
  {
   "cell_type": "code",
   "execution_count": 4,
   "metadata": {},
   "outputs": [],
   "source": [
    "WORLD.get_area_data(world)"
   ]
  },
  {
   "cell_type": "code",
   "execution_count": 16,
   "metadata": {},
   "outputs": [
    {
     "data": {
      "text/plain": [
       "{'area': y                        30\n",
       " rainfall                 15\n",
       " x                        14\n",
       " key                   14:30\n",
       " elevation                 2\n",
       " terrain                town\n",
       " feature           Hellplace\n",
       " nation number             0\n",
       " nation           Flamehaven\n",
       " z                      City\n",
       " Name: 14:30, dtype: object,\n",
       " 'NArea': ({'y': 29,\n",
       "   'rainfall': 9.0,\n",
       "   'x': 14,\n",
       "   'key': '14:29',\n",
       "   'elevation': 0.0,\n",
       "   'terrain': 'ocean',\n",
       "   'feature': nan,\n",
       "   'nation number': nan,\n",
       "   'nation': nan,\n",
       "   'z': nan},),\n",
       " 'SArea': ({'y': 31,\n",
       "   'rainfall': 19.0,\n",
       "   'x': 14,\n",
       "   'key': '14:31',\n",
       "   'elevation': 2.0,\n",
       "   'terrain': 'land',\n",
       "   'feature': nan,\n",
       "   'nation number': 0.0,\n",
       "   'nation': 'Flamehaven',\n",
       "   'z': 'Flamehaven'},),\n",
       " 'EArea': ({'y': 30,\n",
       "   'rainfall': 9.0,\n",
       "   'x': 15,\n",
       "   'key': '15:30',\n",
       "   'elevation': -1.0,\n",
       "   'terrain': 'ocean',\n",
       "   'feature': nan,\n",
       "   'nation number': nan,\n",
       "   'nation': nan,\n",
       "   'z': nan},),\n",
       " 'WArea': ({'y': 30,\n",
       "   'rainfall': 18.0,\n",
       "   'x': 13,\n",
       "   'key': '13:30',\n",
       "   'elevation': 1.0,\n",
       "   'terrain': 'land',\n",
       "   'feature': nan,\n",
       "   'nation number': 0.0,\n",
       "   'nation': 'Flamehaven',\n",
       "   'z': 'Flamehaven'},)}"
      ]
     },
     "execution_count": 16,
     "metadata": {},
     "output_type": "execute_result"
    }
   ],
   "source": [
    "def chordKey(coord):\n",
    "    '''\n",
    "    takes a key [1,1], returns key \"1,1\"\n",
    "    '''\n",
    "    key = \":\".join([str(i) for i in coord])\n",
    "    return key\n",
    "\n",
    "def get_features_or_NA(world,coord):\n",
    "    try:\n",
    "        l = world.df_features.loc[chordKey([coord[0],coord[1]])].to_dict(),\n",
    "    except: \n",
    "        l = {\"area is not on map\"}\n",
    "    return l\n",
    "\n",
    "def get_area_data(self,world):\n",
    "    \"\"\"\n",
    "    note: requires Character\n",
    "    \"\"\"\n",
    "    mapData = {}\n",
    "    coord = world.Character.location\n",
    "    key = world.Character.get_location_key()\n",
    "    l = world.df_features.loc[key]\n",
    "    worldDim = {world}\n",
    "    mapData = {'area':world.df_features.loc[key],\n",
    "              'NArea':get_features_or_NA(world,[coord[0],coord[1]-1]),\n",
    "              'SArea':get_features_or_NA(world,[coord[0],coord[1]+1]),\n",
    "              'EArea':get_features_or_NA(world,[coord[0]+1,coord[1]]),\n",
    "              'WArea':get_features_or_NA(world,[coord[0]-1,coord[1]])}\n",
    "    return mapData\n",
    "    \n",
    "get_area_data(\"foo\",world)"
   ]
  },
  {
   "cell_type": "code",
   "execution_count": 12,
   "metadata": {},
   "outputs": [
    {
     "data": {
      "text/plain": [
       "'1:2'"
      ]
     },
     "execution_count": 12,
     "metadata": {},
     "output_type": "execute_result"
    }
   ],
   "source": [
    "builders.world.chordKey([1,2])"
   ]
  },
  {
   "cell_type": "code",
   "execution_count": 7,
   "metadata": {},
   "outputs": [
    {
     "ename": "TypeError",
     "evalue": "sequence item 0: expected str instance, int found",
     "output_type": "error",
     "traceback": [
      "\u001b[0;31m---------------------------------------------------------------------------\u001b[0m",
      "\u001b[0;31mTypeError\u001b[0m                                 Traceback (most recent call last)",
      "\u001b[0;32m<ipython-input-7-e40c4e64c821>\u001b[0m in \u001b[0;36m<module>\u001b[0;34m\u001b[0m\n\u001b[0;32m----> 1\u001b[0;31m \u001b[0;34m\":\"\u001b[0m\u001b[0;34m.\u001b[0m\u001b[0mjoin\u001b[0m\u001b[0;34m(\u001b[0m\u001b[0;34m[\u001b[0m\u001b[0;36m1\u001b[0m\u001b[0;34m,\u001b[0m\u001b[0;36m2\u001b[0m\u001b[0;34m]\u001b[0m\u001b[0;34m)\u001b[0m\u001b[0;34m\u001b[0m\u001b[0;34m\u001b[0m\u001b[0m\n\u001b[0m",
      "\u001b[0;31mTypeError\u001b[0m: sequence item 0: expected str instance, int found"
     ]
    }
   ],
   "source": [
    "\":\".join([1,2])"
   ]
  },
  {
   "cell_type": "code",
   "execution_count": null,
   "metadata": {},
   "outputs": [],
   "source": []
  }
 ],
 "metadata": {
  "kernelspec": {
   "display_name": "Python 3",
   "language": "python",
   "name": "python3"
  },
  "language_info": {
   "codemirror_mode": {
    "name": "ipython",
    "version": 3
   },
   "file_extension": ".py",
   "mimetype": "text/x-python",
   "name": "python",
   "nbconvert_exporter": "python",
   "pygments_lexer": "ipython3",
   "version": "3.7.3"
  }
 },
 "nbformat": 4,
 "nbformat_minor": 2
}
