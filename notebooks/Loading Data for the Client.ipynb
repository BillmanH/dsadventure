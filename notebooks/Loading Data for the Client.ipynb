{
 "cells": [
  {
   "cell_type": "markdown",
   "metadata": {},
   "source": [
    "# Getting the info that the client needs for D3.js\n",
    "\n",
    "Often it is easier to transform data in the backend to be used by D3. In general all data in D3 needs to be a list of dicts. In this example I'm using an existing `world` object to demonstrate the methods that do these transformations. "
   ]
  },
  {
   "cell_type": "code",
   "execution_count": 1,
   "metadata": {},
   "outputs": [],
   "source": [
    "#I'm mapping to the actual files in the repo so that I can also use this to troubleshoot\n",
    "import os\n",
    "import sys\n",
    "import numpy as np\n",
    "import pandas as pd\n",
    "import pickle\n",
    "import django\n",
    "sys.path.append('../..')\n",
    "#Loading my project settings from prodweb. This allows me to load and query models. \n",
    "os.environ.setdefault('DJANGO_SETTINGS_MODULE', 'prodweb.settings')\n",
    "django.setup()\n",
    "\n",
    "\n",
    "with (open(\"../pickles/billmanhworld.pkl\", 'rb')) as pickle_file:\n",
    "    world = pickle.load(pickle_file)"
   ]
  },
  {
   "cell_type": "code",
   "execution_count": 2,
   "metadata": {
    "scrolled": true
   },
   "outputs": [],
   "source": [
    "sys.path.append('..')\n",
    "from lib.builders import world as w"
   ]
  },
  {
   "cell_type": "markdown",
   "metadata": {},
   "source": [
    "`w.get_area_data(world)` gets the area relevant to where the character is. This includes surrounding areas."
   ]
  },
  {
   "cell_type": "code",
   "execution_count": 3,
   "metadata": {},
   "outputs": [
    {
     "data": {
      "text/plain": [
       "<game.lib.builders.world.World at 0x7fbe2cc1bc50>"
      ]
     },
     "execution_count": 3,
     "metadata": {},
     "output_type": "execute_result"
    }
   ],
   "source": [
    "world"
   ]
  },
  {
   "cell_type": "code",
   "execution_count": 4,
   "metadata": {},
   "outputs": [
    {
     "name": "stdout",
     "output_type": "stream",
     "text": [
      "[6, 3]\n"
     ]
    },
    {
     "data": {
      "text/html": [
       "<div>\n",
       "<style scoped>\n",
       "    .dataframe tbody tr th:only-of-type {\n",
       "        vertical-align: middle;\n",
       "    }\n",
       "\n",
       "    .dataframe tbody tr th {\n",
       "        vertical-align: top;\n",
       "    }\n",
       "\n",
       "    .dataframe thead th {\n",
       "        text-align: right;\n",
       "    }\n",
       "</style>\n",
       "<table border=\"1\" class=\"dataframe\">\n",
       "  <thead>\n",
       "    <tr style=\"text-align: right;\">\n",
       "      <th></th>\n",
       "      <th>aware</th>\n",
       "      <th>danger</th>\n",
       "      <th>elevation</th>\n",
       "      <th>feature</th>\n",
       "      <th>key</th>\n",
       "      <th>nation</th>\n",
       "      <th>nation number</th>\n",
       "      <th>rainfall</th>\n",
       "      <th>terrain</th>\n",
       "      <th>turn_last_visited</th>\n",
       "      <th>visited</th>\n",
       "      <th>x</th>\n",
       "      <th>y</th>\n",
       "    </tr>\n",
       "  </thead>\n",
       "  <tbody>\n",
       "    <tr>\n",
       "      <th>area</th>\n",
       "      <td>0</td>\n",
       "      <td>0.785</td>\n",
       "      <td>70</td>\n",
       "      <td>Stenchforth</td>\n",
       "      <td>6:3</td>\n",
       "      <td>Helllight</td>\n",
       "      <td>5</td>\n",
       "      <td>21</td>\n",
       "      <td>town</td>\n",
       "      <td>0</td>\n",
       "      <td>1</td>\n",
       "      <td>6</td>\n",
       "      <td>3</td>\n",
       "    </tr>\n",
       "    <tr>\n",
       "      <th>NArea</th>\n",
       "      <td>0</td>\n",
       "      <td>0.315</td>\n",
       "      <td>87</td>\n",
       "      <td>none</td>\n",
       "      <td>6:2</td>\n",
       "      <td>Helllight</td>\n",
       "      <td>5</td>\n",
       "      <td>22</td>\n",
       "      <td>mountain</td>\n",
       "      <td>0</td>\n",
       "      <td>0</td>\n",
       "      <td>6</td>\n",
       "      <td>2</td>\n",
       "    </tr>\n",
       "    <tr>\n",
       "      <th>SArea</th>\n",
       "      <td>0</td>\n",
       "      <td>0.276</td>\n",
       "      <td>56</td>\n",
       "      <td>none</td>\n",
       "      <td>6:4</td>\n",
       "      <td>Helllight</td>\n",
       "      <td>5</td>\n",
       "      <td>23</td>\n",
       "      <td>mountain</td>\n",
       "      <td>0</td>\n",
       "      <td>0</td>\n",
       "      <td>6</td>\n",
       "      <td>4</td>\n",
       "    </tr>\n",
       "    <tr>\n",
       "      <th>EArea</th>\n",
       "      <td>0</td>\n",
       "      <td>0.23</td>\n",
       "      <td>75</td>\n",
       "      <td>none</td>\n",
       "      <td>7:3</td>\n",
       "      <td>Helllight</td>\n",
       "      <td>5</td>\n",
       "      <td>32</td>\n",
       "      <td>mountain</td>\n",
       "      <td>0</td>\n",
       "      <td>0</td>\n",
       "      <td>7</td>\n",
       "      <td>3</td>\n",
       "    </tr>\n",
       "    <tr>\n",
       "      <th>WArea</th>\n",
       "      <td>0</td>\n",
       "      <td>0.334</td>\n",
       "      <td>61</td>\n",
       "      <td>none</td>\n",
       "      <td>5:3</td>\n",
       "      <td>Helllight</td>\n",
       "      <td>5</td>\n",
       "      <td>13</td>\n",
       "      <td>mountain</td>\n",
       "      <td>0</td>\n",
       "      <td>0</td>\n",
       "      <td>5</td>\n",
       "      <td>3</td>\n",
       "    </tr>\n",
       "  </tbody>\n",
       "</table>\n",
       "</div>"
      ],
      "text/plain": [
       "      aware danger elevation      feature  key     nation nation number  \\\n",
       "area      0  0.785        70  Stenchforth  6:3  Helllight             5   \n",
       "NArea     0  0.315        87         none  6:2  Helllight             5   \n",
       "SArea     0  0.276        56         none  6:4  Helllight             5   \n",
       "EArea     0   0.23        75         none  7:3  Helllight             5   \n",
       "WArea     0  0.334        61         none  5:3  Helllight             5   \n",
       "\n",
       "      rainfall   terrain turn_last_visited visited  x  y  \n",
       "area        21      town                 0       1  6  3  \n",
       "NArea       22  mountain                 0       0  6  2  \n",
       "SArea       23  mountain                 0       0  6  4  \n",
       "EArea       32  mountain                 0       0  7  3  \n",
       "WArea       13  mountain                 0       0  5  3  "
      ]
     },
     "execution_count": 4,
     "metadata": {},
     "output_type": "execute_result"
    }
   ],
   "source": [
    "print(world.Character.location)\n",
    "pd.DataFrame(w.get_area_data(world)).T"
   ]
  },
  {
   "cell_type": "markdown",
   "metadata": {},
   "source": [
    "For other game principals, it's easy to just make regular `pandas` and `numpy` queries on those datasets. "
   ]
  },
  {
   "cell_type": "code",
   "execution_count": 5,
   "metadata": {
    "scrolled": true
   },
   "outputs": [
    {
     "data": {
      "text/plain": [
       "True"
      ]
     },
     "execution_count": 5,
     "metadata": {},
     "output_type": "execute_result"
    }
   ],
   "source": [
    "world.df_features.loc[world.Character.get_location_key(),'visited'] >= 1"
   ]
  },
  {
   "cell_type": "markdown",
   "metadata": {},
   "source": [
    "Querying the terrain is easy as well. For example, here is a query of all of the world where the _terrain_ is _desert_ and the _danger_ is above .5. These queries are fast and cheap. "
   ]
  },
  {
   "cell_type": "code",
   "execution_count": 6,
   "metadata": {
    "scrolled": true
   },
   "outputs": [
    {
     "data": {
      "text/html": [
       "<div>\n",
       "<style scoped>\n",
       "    .dataframe tbody tr th:only-of-type {\n",
       "        vertical-align: middle;\n",
       "    }\n",
       "\n",
       "    .dataframe tbody tr th {\n",
       "        vertical-align: top;\n",
       "    }\n",
       "\n",
       "    .dataframe thead th {\n",
       "        text-align: right;\n",
       "    }\n",
       "</style>\n",
       "<table border=\"1\" class=\"dataframe\">\n",
       "  <thead>\n",
       "    <tr style=\"text-align: right;\">\n",
       "      <th></th>\n",
       "      <th>y</th>\n",
       "      <th>rainfall</th>\n",
       "      <th>x</th>\n",
       "      <th>key</th>\n",
       "      <th>elevation</th>\n",
       "      <th>terrain</th>\n",
       "      <th>feature</th>\n",
       "      <th>nation number</th>\n",
       "      <th>nation</th>\n",
       "      <th>visited</th>\n",
       "      <th>aware</th>\n",
       "      <th>turn_last_visited</th>\n",
       "      <th>danger</th>\n",
       "    </tr>\n",
       "    <tr>\n",
       "      <th>key</th>\n",
       "      <th></th>\n",
       "      <th></th>\n",
       "      <th></th>\n",
       "      <th></th>\n",
       "      <th></th>\n",
       "      <th></th>\n",
       "      <th></th>\n",
       "      <th></th>\n",
       "      <th></th>\n",
       "      <th></th>\n",
       "      <th></th>\n",
       "      <th></th>\n",
       "      <th></th>\n",
       "    </tr>\n",
       "  </thead>\n",
       "  <tbody>\n",
       "    <tr>\n",
       "      <th>0:2</th>\n",
       "      <td>2</td>\n",
       "      <td>0.0</td>\n",
       "      <td>0</td>\n",
       "      <td>0:2</td>\n",
       "      <td>22.0</td>\n",
       "      <td>desert</td>\n",
       "      <td>NaN</td>\n",
       "      <td>5</td>\n",
       "      <td>Helllight</td>\n",
       "      <td>0</td>\n",
       "      <td>1</td>\n",
       "      <td>0</td>\n",
       "      <td>0.887</td>\n",
       "    </tr>\n",
       "    <tr>\n",
       "      <th>0:4</th>\n",
       "      <td>4</td>\n",
       "      <td>0.0</td>\n",
       "      <td>0</td>\n",
       "      <td>0:4</td>\n",
       "      <td>16.0</td>\n",
       "      <td>desert</td>\n",
       "      <td>NaN</td>\n",
       "      <td>5</td>\n",
       "      <td>Helllight</td>\n",
       "      <td>0</td>\n",
       "      <td>1</td>\n",
       "      <td>0</td>\n",
       "      <td>0.831</td>\n",
       "    </tr>\n",
       "    <tr>\n",
       "      <th>1:4</th>\n",
       "      <td>4</td>\n",
       "      <td>1.0</td>\n",
       "      <td>1</td>\n",
       "      <td>1:4</td>\n",
       "      <td>20.0</td>\n",
       "      <td>desert</td>\n",
       "      <td>NaN</td>\n",
       "      <td>5</td>\n",
       "      <td>Helllight</td>\n",
       "      <td>0</td>\n",
       "      <td>1</td>\n",
       "      <td>0</td>\n",
       "      <td>0.759</td>\n",
       "    </tr>\n",
       "    <tr>\n",
       "      <th>0:5</th>\n",
       "      <td>5</td>\n",
       "      <td>0.0</td>\n",
       "      <td>0</td>\n",
       "      <td>0:5</td>\n",
       "      <td>10.0</td>\n",
       "      <td>desert</td>\n",
       "      <td>NaN</td>\n",
       "      <td>5</td>\n",
       "      <td>Helllight</td>\n",
       "      <td>0</td>\n",
       "      <td>1</td>\n",
       "      <td>0</td>\n",
       "      <td>0.763</td>\n",
       "    </tr>\n",
       "    <tr>\n",
       "      <th>1:5</th>\n",
       "      <td>5</td>\n",
       "      <td>1.0</td>\n",
       "      <td>1</td>\n",
       "      <td>1:5</td>\n",
       "      <td>15.0</td>\n",
       "      <td>desert</td>\n",
       "      <td>NaN</td>\n",
       "      <td>5</td>\n",
       "      <td>Helllight</td>\n",
       "      <td>0</td>\n",
       "      <td>1</td>\n",
       "      <td>0</td>\n",
       "      <td>1.041</td>\n",
       "    </tr>\n",
       "  </tbody>\n",
       "</table>\n",
       "</div>"
      ],
      "text/plain": [
       "     y  rainfall  x  key  elevation terrain feature  nation number     nation  \\\n",
       "key                                                                             \n",
       "0:2  2       0.0  0  0:2       22.0  desert     NaN              5  Helllight   \n",
       "0:4  4       0.0  0  0:4       16.0  desert     NaN              5  Helllight   \n",
       "1:4  4       1.0  1  1:4       20.0  desert     NaN              5  Helllight   \n",
       "0:5  5       0.0  0  0:5       10.0  desert     NaN              5  Helllight   \n",
       "1:5  5       1.0  1  1:5       15.0  desert     NaN              5  Helllight   \n",
       "\n",
       "     visited  aware  turn_last_visited  danger  \n",
       "key                                             \n",
       "0:2        0      1                  0   0.887  \n",
       "0:4        0      1                  0   0.831  \n",
       "1:4        0      1                  0   0.759  \n",
       "0:5        0      1                  0   0.763  \n",
       "1:5        0      1                  0   1.041  "
      ]
     },
     "execution_count": 6,
     "metadata": {},
     "output_type": "execute_result"
    }
   ],
   "source": [
    "world.df_features.loc[(world.df_features['terrain']=='desert') & \n",
    "                     (world.df_features['danger']>=.5)].head()"
   ]
  },
  {
   "cell_type": "markdown",
   "metadata": {},
   "source": [
    "You can also _mask_ the terrain where the character has no knowledge. "
   ]
  },
  {
   "cell_type": "code",
   "execution_count": 7,
   "metadata": {
    "scrolled": false
   },
   "outputs": [
    {
     "data": {
      "text/html": [
       "<div>\n",
       "<style scoped>\n",
       "    .dataframe tbody tr th:only-of-type {\n",
       "        vertical-align: middle;\n",
       "    }\n",
       "\n",
       "    .dataframe tbody tr th {\n",
       "        vertical-align: top;\n",
       "    }\n",
       "\n",
       "    .dataframe thead th {\n",
       "        text-align: right;\n",
       "    }\n",
       "</style>\n",
       "<table border=\"1\" class=\"dataframe\">\n",
       "  <thead>\n",
       "    <tr style=\"text-align: right;\">\n",
       "      <th></th>\n",
       "      <th>y</th>\n",
       "      <th>rainfall</th>\n",
       "      <th>x</th>\n",
       "      <th>key</th>\n",
       "      <th>elevation</th>\n",
       "      <th>terrain</th>\n",
       "      <th>feature</th>\n",
       "      <th>nation number</th>\n",
       "      <th>nation</th>\n",
       "      <th>visited</th>\n",
       "      <th>aware</th>\n",
       "      <th>turn_last_visited</th>\n",
       "      <th>danger</th>\n",
       "    </tr>\n",
       "    <tr>\n",
       "      <th>key</th>\n",
       "      <th></th>\n",
       "      <th></th>\n",
       "      <th></th>\n",
       "      <th></th>\n",
       "      <th></th>\n",
       "      <th></th>\n",
       "      <th></th>\n",
       "      <th></th>\n",
       "      <th></th>\n",
       "      <th></th>\n",
       "      <th></th>\n",
       "      <th></th>\n",
       "      <th></th>\n",
       "    </tr>\n",
       "  </thead>\n",
       "  <tbody>\n",
       "    <tr>\n",
       "      <th>0:0</th>\n",
       "      <td>0</td>\n",
       "      <td>0.0</td>\n",
       "      <td>0</td>\n",
       "      <td>0:0</td>\n",
       "      <td>32.0</td>\n",
       "      <td>unknown</td>\n",
       "      <td>unknown</td>\n",
       "      <td>0</td>\n",
       "      <td>unknown</td>\n",
       "      <td>0</td>\n",
       "      <td>0</td>\n",
       "      <td>0</td>\n",
       "      <td>0.507</td>\n",
       "    </tr>\n",
       "    <tr>\n",
       "      <th>1:0</th>\n",
       "      <td>0</td>\n",
       "      <td>0.0</td>\n",
       "      <td>1</td>\n",
       "      <td>1:0</td>\n",
       "      <td>41.0</td>\n",
       "      <td>unknown</td>\n",
       "      <td>unknown</td>\n",
       "      <td>0</td>\n",
       "      <td>unknown</td>\n",
       "      <td>0</td>\n",
       "      <td>0</td>\n",
       "      <td>0</td>\n",
       "      <td>0.470</td>\n",
       "    </tr>\n",
       "    <tr>\n",
       "      <th>2:0</th>\n",
       "      <td>0</td>\n",
       "      <td>1.0</td>\n",
       "      <td>2</td>\n",
       "      <td>2:0</td>\n",
       "      <td>47.0</td>\n",
       "      <td>unknown</td>\n",
       "      <td>unknown</td>\n",
       "      <td>0</td>\n",
       "      <td>unknown</td>\n",
       "      <td>0</td>\n",
       "      <td>0</td>\n",
       "      <td>0</td>\n",
       "      <td>0.590</td>\n",
       "    </tr>\n",
       "    <tr>\n",
       "      <th>3:0</th>\n",
       "      <td>0</td>\n",
       "      <td>3.0</td>\n",
       "      <td>3</td>\n",
       "      <td>3:0</td>\n",
       "      <td>53.0</td>\n",
       "      <td>unknown</td>\n",
       "      <td>unknown</td>\n",
       "      <td>0</td>\n",
       "      <td>unknown</td>\n",
       "      <td>0</td>\n",
       "      <td>0</td>\n",
       "      <td>0</td>\n",
       "      <td>0.891</td>\n",
       "    </tr>\n",
       "    <tr>\n",
       "      <th>4:0</th>\n",
       "      <td>0</td>\n",
       "      <td>6.0</td>\n",
       "      <td>4</td>\n",
       "      <td>4:0</td>\n",
       "      <td>69.0</td>\n",
       "      <td>unknown</td>\n",
       "      <td>unknown</td>\n",
       "      <td>0</td>\n",
       "      <td>unknown</td>\n",
       "      <td>0</td>\n",
       "      <td>0</td>\n",
       "      <td>0</td>\n",
       "      <td>0.745</td>\n",
       "    </tr>\n",
       "  </tbody>\n",
       "</table>\n",
       "</div>"
      ],
      "text/plain": [
       "     y  rainfall  x  key  elevation  terrain  feature nation number   nation  \\\n",
       "key                                                                            \n",
       "0:0  0       0.0  0  0:0       32.0  unknown  unknown             0  unknown   \n",
       "1:0  0       0.0  1  1:0       41.0  unknown  unknown             0  unknown   \n",
       "2:0  0       1.0  2  2:0       47.0  unknown  unknown             0  unknown   \n",
       "3:0  0       3.0  3  3:0       53.0  unknown  unknown             0  unknown   \n",
       "4:0  0       6.0  4  4:0       69.0  unknown  unknown             0  unknown   \n",
       "\n",
       "     visited  aware  turn_last_visited  danger  \n",
       "key                                             \n",
       "0:0        0      0                  0   0.507  \n",
       "1:0        0      0                  0   0.470  \n",
       "2:0        0      0                  0   0.590  \n",
       "3:0        0      0                  0   0.891  \n",
       "4:0        0      0                  0   0.745  "
      ]
     },
     "execution_count": 7,
     "metadata": {},
     "output_type": "execute_result"
    }
   ],
   "source": [
    "masked_world = w.mask_unknown(world)\n",
    "world.Character.title = \"Noble\"\n",
    "masked_world.head()"
   ]
  },
  {
   "cell_type": "markdown",
   "metadata": {},
   "source": [
    "## Analysis via list comprehension"
   ]
  },
  {
   "cell_type": "markdown",
   "metadata": {},
   "source": [
    "Querying people is also easy, but you need to use _list comprehension_ to do it. This is the general structure. "
   ]
  },
  {
   "cell_type": "code",
   "execution_count": 56,
   "metadata": {},
   "outputs": [
    {
     "data": {
      "text/plain": [
       "10"
      ]
     },
     "execution_count": 56,
     "metadata": {},
     "output_type": "execute_result"
    }
   ],
   "source": [
    "world.culture.eons-(world.towns[0].founded-1000)"
   ]
  },
  {
   "cell_type": "code",
   "execution_count": 47,
   "metadata": {},
   "outputs": [
    {
     "data": {
      "text/plain": [
       "[Orfrif the Speaker of Stenchforth, Urxand the commoner]"
      ]
     },
     "execution_count": 47,
     "metadata": {},
     "output_type": "execute_result"
    }
   ],
   "source": [
    "world.towns[12].population"
   ]
  },
  {
   "cell_type": "markdown",
   "metadata": {},
   "source": [
    "Query the people in the town by setting conditions in the list. These people are the highest in temperment. "
   ]
  },
  {
   "cell_type": "code",
   "execution_count": 9,
   "metadata": {},
   "outputs": [
    {
     "data": {
      "text/plain": [
       "[[('Laladdnan', 0.84), ('Akirushottle', 0.56)],\n",
       " [('Alifillunt', 0.65)],\n",
       " [('Thohoh', 0.8), ('Alresha', 0.9), ('Chifrow', 0.78)],\n",
       " [('Erepartath', 0.89), ('Fesassane', 0.61)],\n",
       " [('Alirrat', 0.56), ('Xatallun', 0.64)],\n",
       " [('Adadsnan', 0.83), ('Amendunder', 0.53), ('Shaplend', 0.66)],\n",
       " [],\n",
       " [('Chafadder', 0.75), ('Elenkea', 0.69)],\n",
       " [('Stitallorg', 0.7), ('Alondud', 0.89)],\n",
       " [('Drappselton', 0.52)],\n",
       " [('Quispus', 0.77)],\n",
       " [('Trucinnich', 0.72), ('Wrakrackoh', 0.8)],\n",
       " [('Orfrif', 0.67), ('Urxand', 0.75)],\n",
       " [('Mocanel', 0.65)],\n",
       " [('Xistot', 0.68)],\n",
       " [],\n",
       " [('Trangash', 0.74)],\n",
       " []]"
      ]
     },
     "execution_count": 9,
     "metadata": {},
     "output_type": "execute_result"
    }
   ],
   "source": [
    "[[(person.name,person.temperment) for person in t.population if person.temperment>.5] for t in world.towns]"
   ]
  },
  {
   "cell_type": "markdown",
   "metadata": {},
   "source": [
    "You can also get summary stats on towns. For example, the average temperment per town."
   ]
  },
  {
   "cell_type": "code",
   "execution_count": 10,
   "metadata": {},
   "outputs": [
    {
     "data": {
      "text/plain": [
       "[('Coremoral', 0.4116666666666666),\n",
       " ('Ragering', 0.365),\n",
       " ('Camcraft', 0.7424999999999999),\n",
       " ('Malcrest', 0.75),\n",
       " ('Snakeward', 0.4133333333333334),\n",
       " ('Waterblade', 0.556),\n",
       " ('Ravenhenge', 0.23500000000000001),\n",
       " ('Stenchtear', 0.72),\n",
       " ('Demonsborourgh', 0.5766666666666667),\n",
       " ('Soilcoil', 0.4033333333333333),\n",
       " ('Doomkeep', 0.41500000000000004),\n",
       " ('Rockforth', 0.76),\n",
       " ('Stenchforth', 0.71),\n",
       " ('Rocklair', 0.45333333333333337),\n",
       " ('Leafhost', 0.5700000000000001),\n",
       " ('Stenchvale', 0.22499999999999998),\n",
       " ('Flamerun', 0.32666666666666666),\n",
       " ('Clearpike', 0.23)]"
      ]
     },
     "execution_count": 10,
     "metadata": {},
     "output_type": "execute_result"
    }
   ],
   "source": [
    "[(t.name,np.mean([person.temperment for person in t.population])) for t in world.towns]"
   ]
  },
  {
   "cell_type": "markdown",
   "metadata": {},
   "source": [
    "For some purposes you may want to get a collection of people and edit them in bulk. This is also possible using list comprehension. "
   ]
  },
  {
   "cell_type": "code",
   "execution_count": 11,
   "metadata": {},
   "outputs": [
    {
     "data": {
      "text/plain": [
       "[{'town': capitol of Stenchforth: population: 2 location: [6,3] founded 1012,\n",
       "  'people': [Orfrif the Speaker of Stenchforth, Urxand the commoner]}]"
      ]
     },
     "execution_count": 11,
     "metadata": {},
     "output_type": "execute_result"
    }
   ],
   "source": [
    "w.get_people_where_char_has_visited(world)"
   ]
  },
  {
   "cell_type": "code",
   "execution_count": 12,
   "metadata": {},
   "outputs": [
    {
     "data": {
      "text/plain": [
       "{'town': capitol of Stenchforth: population: 2 location: [6,3] founded 1012,\n",
       " 'people': [Orfrif the Speaker of Stenchforth, Urxand the commoner]}"
      ]
     },
     "execution_count": 12,
     "metadata": {},
     "output_type": "execute_result"
    }
   ],
   "source": [
    "r = w.get_people_where_char_has_visited(world)[0]\n",
    "r"
   ]
  },
  {
   "cell_type": "code",
   "execution_count": 13,
   "metadata": {},
   "outputs": [
    {
     "data": {
      "text/plain": [
       "'Stenchforth'"
      ]
     },
     "execution_count": 13,
     "metadata": {},
     "output_type": "execute_result"
    }
   ],
   "source": [
    "r['town'].nation"
   ]
  },
  {
   "cell_type": "code",
   "execution_count": 14,
   "metadata": {},
   "outputs": [
    {
     "data": {
      "text/plain": [
       "[{'name': 'Stenchforth',\n",
       "  'title': 'capitol of Stenchforth',\n",
       "  'nation': 'Stenchforth',\n",
       "  'population': 2,\n",
       "  'type': 'capitol',\n",
       "  'location': '6:3',\n",
       "  'founded year': 1012,\n",
       "  'children': [{'name': 'Orfrif',\n",
       "    'role': 'Speaker of Stenchforth',\n",
       "    'temperment': 0.67,\n",
       "    'loyalty': 0.5,\n",
       "    'type': 'person'},\n",
       "   {'name': 'Urxand',\n",
       "    'role': 'commoner',\n",
       "    'temperment': 0.75,\n",
       "    'loyalty': 0.5,\n",
       "    'type': 'person'}]}]"
      ]
     },
     "execution_count": 14,
     "metadata": {},
     "output_type": "execute_result"
    }
   ],
   "source": [
    "w.get_relationships_node_map(world)"
   ]
  },
  {
   "cell_type": "markdown",
   "metadata": {},
   "source": [
    "## Getting map data (mapData): "
   ]
  },
  {
   "cell_type": "code",
   "execution_count": 15,
   "metadata": {},
   "outputs": [
    {
     "data": {
      "text/plain": [
       "{'area': {'y': 3,\n",
       "  'rainfall': 21.0,\n",
       "  'x': 6,\n",
       "  'key': '6:3',\n",
       "  'elevation': 70.0,\n",
       "  'terrain': 'town',\n",
       "  'feature': 'Stenchforth',\n",
       "  'nation number': 5,\n",
       "  'nation': 'Helllight',\n",
       "  'visited': 1,\n",
       "  'aware': 0,\n",
       "  'turn_last_visited': 0,\n",
       "  'danger': 0.785},\n",
       " 'NArea': {'terrain': 'void'},\n",
       " 'SArea': {'terrain': 'void'},\n",
       " 'EArea': {'terrain': 'void'},\n",
       " 'WArea': {'terrain': 'void'}}"
      ]
     },
     "execution_count": 15,
     "metadata": {},
     "output_type": "execute_result"
    }
   ],
   "source": [
    "def coordkey(coord):\n",
    "    '''\n",
    "    takes a coord [1,1], returns key \"1:1\"\n",
    "    '''\n",
    "    key = \":\".join([str(i) for i in coord])\n",
    "    return key\n",
    "\n",
    "\n",
    "def get_features_or_NA(world,coord):\n",
    "    try:\n",
    "        l = world.df_features.loc[\n",
    "                chordKey([\n",
    "                    int(coord[0]),int(coord[1])\n",
    "                    ])\n",
    "                ].fillna(\"none\").to_dict(),\n",
    "    except: \n",
    "        l = [{\"terrain\":\"void\"}]\n",
    "    return l[0]\n",
    "\n",
    "\n",
    "def get_area_data(world):\n",
    "    \"\"\"\n",
    "    note: requires Character\n",
    "    \"\"\"\n",
    "    mapData = {}\n",
    "    coord = world.Character.location\n",
    "    key = world.Character.get_location_key()\n",
    "    l = world.df_features.loc[key]\n",
    "    mapData = {'area':world.df_features.loc[key].fillna(\"none\").to_dict(),\n",
    "              'NArea':get_features_or_NA(world,[coord[0],coord[1]-1]),\n",
    "              'SArea':get_features_or_NA(world,[coord[0],coord[1]+1]),\n",
    "              'EArea':get_features_or_NA(world,[coord[0]+1,coord[1]]),\n",
    "              'WArea':get_features_or_NA(world,[coord[0]-1,coord[1]])}\n",
    "    return mapData\n",
    "\n",
    "\n",
    "get_area_data(world)"
   ]
  },
  {
   "cell_type": "code",
   "execution_count": 16,
   "metadata": {},
   "outputs": [
    {
     "ename": "NameError",
     "evalue": "name 'chordKey' is not defined",
     "output_type": "error",
     "traceback": [
      "\u001b[0;31m---------------------------------------------------------------------------\u001b[0m",
      "\u001b[0;31mNameError\u001b[0m                                 Traceback (most recent call last)",
      "\u001b[0;32m<ipython-input-16-d1ec6af499e8>\u001b[0m in \u001b[0;36m<module>\u001b[0;34m\u001b[0m\n\u001b[1;32m      1\u001b[0m world.df_features.loc[\n\u001b[0;32m----> 2\u001b[0;31m                 chordKey([\n\u001b[0m\u001b[1;32m      3\u001b[0m                     \u001b[0mint\u001b[0m\u001b[0;34m(\u001b[0m\u001b[0mcoord\u001b[0m\u001b[0;34m[\u001b[0m\u001b[0;36m0\u001b[0m\u001b[0;34m]\u001b[0m\u001b[0;34m)\u001b[0m\u001b[0;34m,\u001b[0m\u001b[0mint\u001b[0m\u001b[0;34m(\u001b[0m\u001b[0mcoord\u001b[0m\u001b[0;34m[\u001b[0m\u001b[0;36m1\u001b[0m\u001b[0;34m]\u001b[0m\u001b[0;34m)\u001b[0m\u001b[0;34m\u001b[0m\u001b[0;34m\u001b[0m\u001b[0m\n\u001b[1;32m      4\u001b[0m                     ])\n\u001b[1;32m      5\u001b[0m                 ]\n",
      "\u001b[0;31mNameError\u001b[0m: name 'chordKey' is not defined"
     ]
    }
   ],
   "source": [
    "world.df_features.loc[\n",
    "                chordKey([\n",
    "                    int(coord[0]),int(coord[1])\n",
    "                    ])\n",
    "                ]"
   ]
  },
  {
   "cell_type": "code",
   "execution_count": null,
   "metadata": {},
   "outputs": [],
   "source": [
    "get_features_or_NA(world,[coord[0],coord[1]-1])"
   ]
  },
  {
   "cell_type": "code",
   "execution_count": null,
   "metadata": {},
   "outputs": [],
   "source": [
    "nations_where_character_has_been = np.unique(where_the_char_has_been['nation'].dropna())\n",
    "nations_where_character_has_been"
   ]
  },
  {
   "cell_type": "markdown",
   "metadata": {},
   "source": [
    "You can use this to get lists of people who the character knows. "
   ]
  },
  {
   "cell_type": "code",
   "execution_count": null,
   "metadata": {},
   "outputs": [],
   "source": [
    "[[t for t in n.get_all_towns(world)] for n in world.nations if n.name in nations_where_character_has_been]"
   ]
  },
  {
   "cell_type": "code",
   "execution_count": null,
   "metadata": {},
   "outputs": [],
   "source": [
    "[[t for t in T.population] for T in world.towns if T.nation in nations_where_character_has_been]"
   ]
  },
  {
   "cell_type": "code",
   "execution_count": null,
   "metadata": {},
   "outputs": [],
   "source": [
    "[(T.nation,T.name) for T in world.towns]"
   ]
  },
  {
   "cell_type": "code",
   "execution_count": null,
   "metadata": {
    "scrolled": true
   },
   "outputs": [],
   "source": [
    "[[t.get_person_data() for t in T.population] for T in world.towns if T.nation in nations_where_character_has_been]"
   ]
  },
  {
   "cell_type": "code",
   "execution_count": null,
   "metadata": {},
   "outputs": [],
   "source": [
    "masked_world.loc[world.Character.get_location_key()]"
   ]
  },
  {
   "cell_type": "markdown",
   "metadata": {},
   "source": [
    "You can query nations or towns. `world.nations` is a list of _nations_ and `world.towns` is a list of _towns_"
   ]
  },
  {
   "cell_type": "code",
   "execution_count": null,
   "metadata": {
    "scrolled": true
   },
   "outputs": [],
   "source": [
    "where_the_char_has_been = world.df_features.loc[(world.df_features['visited']==1)&\n",
    "                                                (world.df_features['terrain']=='town')]\n",
    "where_the_char_has_been"
   ]
  },
  {
   "cell_type": "markdown",
   "metadata": {},
   "source": [
    "## Getting the diplomacy and relationships data for the journal page"
   ]
  },
  {
   "cell_type": "code",
   "execution_count": null,
   "metadata": {},
   "outputs": [],
   "source": [
    "rel = w.get_people_where_char_has_visited(world)\n",
    "rel"
   ]
  },
  {
   "cell_type": "code",
   "execution_count": null,
   "metadata": {},
   "outputs": [],
   "source": [
    "w.get_relationships_node_map(world)"
   ]
  },
  {
   "cell_type": "code",
   "execution_count": null,
   "metadata": {},
   "outputs": [],
   "source": [
    "hierarchy = [{'nation':i.name,\n",
    "              'children':i.diplomacy} for i in world.nations]\n",
    "\n"
   ]
  },
  {
   "cell_type": "code",
   "execution_count": null,
   "metadata": {},
   "outputs": [],
   "source": [
    "p = rel[0]['town'].population[0]\n"
   ]
  },
  {
   "cell_type": "code",
   "execution_count": null,
   "metadata": {},
   "outputs": [],
   "source": [
    "def get_people_where_char_has_visited(world):\n",
    "    \"\"\"\n",
    "    returns a dictionary of {{\"town\":[<obj>],\"people\":[<obj>]}\n",
    "    filtered to where the character has been. \n",
    "    \"\"\"\n",
    "    where_the_char_has_been = world.df_features.loc[(world.df_features['visited']==1)&\n",
    "                                                    (world.df_features['terrain']=='town')].dropna()\n",
    "    towns_and_people = [{\"town\":T,\n",
    "                         \"people\":[t for t in T.population]} \n",
    "                        for T in world.towns if T.name in np.unique(w.where_the_char_has_been['feature'])]\n",
    "    return towns_and_people\n",
    "\n",
    "def get_relationships_node_map(world):\n",
    "    nodes = [{'name':r['town'].name,\n",
    "              'title':str(r['town']).split(\":\")[0],\n",
    "              'nation':r['town'].diplomacy['nation'],\n",
    "              'population':r['town'].pop,\n",
    "              'type':r['town'].type,\n",
    "              'location':r['town'].key,\n",
    "              'founded year':r['town'].founded,\n",
    "              'national fealty':r['town'].diplomacy['national fealty'],\n",
    "             'children': [{'name':p.name,\n",
    "                          'role':p.role,\n",
    "                          'temperment':p.temperment,\n",
    "                          'loyalty':p.loyalty,\n",
    "                          'type':'person'} for p in r['people']]} \n",
    "             for r in w.get_people_where_char_has_visited(world)]\n",
    "    return nodes\n",
    "        \n",
    "w.get_people_where_char_has_visited(world)"
   ]
  },
  {
   "cell_type": "code",
   "execution_count": null,
   "metadata": {},
   "outputs": [],
   "source": [
    "relationships = w.get_relationships_node_map(world)\n",
    "relationships"
   ]
  },
  {
   "cell_type": "code",
   "execution_count": null,
   "metadata": {},
   "outputs": [],
   "source": [
    "nations = [s['nation'] for s in relationships]\n",
    "nations"
   ]
  },
  {
   "cell_type": "code",
   "execution_count": null,
   "metadata": {},
   "outputs": [],
   "source": [
    "[i for i in relationships]"
   ]
  },
  {
   "cell_type": "code",
   "execution_count": null,
   "metadata": {},
   "outputs": [],
   "source": [
    "[{'nation':i,'towns':[t for t in relationships if t['nation']==i]} for i in nations]"
   ]
  },
  {
   "cell_type": "code",
   "execution_count": null,
   "metadata": {},
   "outputs": [],
   "source": [
    "[i for i in nations]"
   ]
  },
  {
   "cell_type": "code",
   "execution_count": null,
   "metadata": {},
   "outputs": [],
   "source": []
  }
 ],
 "metadata": {
  "kernelspec": {
   "display_name": "Python 3",
   "language": "python",
   "name": "python3"
  },
  "language_info": {
   "codemirror_mode": {
    "name": "ipython",
    "version": 3
   },
   "file_extension": ".py",
   "mimetype": "text/x-python",
   "name": "python",
   "nbconvert_exporter": "python",
   "pygments_lexer": "ipython3",
   "version": "3.7.3"
  }
 },
 "nbformat": 4,
 "nbformat_minor": 2
}
