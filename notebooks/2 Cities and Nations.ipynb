{
 "cells": [
  {
   "cell_type": "code",
   "execution_count": 1,
   "metadata": {},
   "outputs": [
    {
     "data": {
      "text/plain": [
       "<lib.builders.world.World at 0x7fcb5d4da588>"
      ]
     },
     "execution_count": 1,
     "metadata": {},
     "output_type": "execute_result"
    }
   ],
   "source": [
    "import pandas as pd\n",
    "import numpy as np\n",
    "import pickle\n",
    "\n",
    "import altair as alt\n",
    "from functools import reduce\n",
    "from sklearn.cluster import KMeans\n",
    "\n",
    "#importing local libraries for drawings (because they clutter)\n",
    "#   They should still be available within the git repo but it's pretty much template stuff from altair\n",
    "import sys\n",
    "sys.path.append('../')\n",
    "from lib.builders import locators,names,towns,nations,culture as c\n",
    "import lib.drawMaps as draw\n",
    "\n",
    "with (open('world_1.p', 'rb')) as pickle_file:\n",
    "    world = pickle.load(pickle_file)\n",
    "    \n",
    "world"
   ]
  },
  {
   "cell_type": "code",
   "execution_count": 2,
   "metadata": {},
   "outputs": [
    {
     "data": {
      "text/plain": [
       "10"
      ]
     },
     "execution_count": 2,
     "metadata": {},
     "output_type": "execute_result"
    }
   ],
   "source": [
    "culture = c.Culture()\n",
    "culture.eons"
   ]
  },
  {
   "cell_type": "markdown",
   "metadata": {},
   "source": [
    "# The age of the ancients\n",
    "\n",
    "the terrain and all of the natural features are formed in the first age. Mountains, rivers, lakes, forrests. Once the land has settle, the first cities appear. "
   ]
  },
  {
   "cell_type": "code",
   "execution_count": 3,
   "metadata": {},
   "outputs": [
    {
     "data": {
      "application/vnd.vegalite.v2+json": {
       "$schema": "https://vega.github.io/schema/vega-lite/v2.6.0.json",
       "config": {
        "view": {
         "height": 300,
         "width": 400
        }
       },
       "data": {
        "name": "data-53564765692ba289118b0010c18b4ba1"
       },
       "datasets": {
        "data-53564765692ba289118b0010c18b4ba1": [
         {
          "terrain": "ocean",
          "value": 0,
          "x": 0,
          "y": 0
         },
         {
          "terrain": "ocean",
          "value": -1,
          "x": 1,
          "y": 0
         },
         {
          "terrain": "ocean",
          "value": -1,
          "x": 2,
          "y": 0
         },
         {
          "terrain": "ocean",
          "value": -1,
          "x": 3,
          "y": 0
         },
         {
          "terrain": "land",
          "value": 1,
          "x": 4,
          "y": 0
         },
         {
          "terrain": "land",
          "value": 2,
          "x": 5,
          "y": 0
         },
         {
          "terrain": "ocean",
          "value": -1,
          "x": 6,
          "y": 0
         },
         {
          "terrain": "ocean",
          "value": -1,
          "x": 7,
          "y": 0
         },
         {
          "terrain": "ocean",
          "value": -1,
          "x": 8,
          "y": 0
         },
         {
          "terrain": "ocean",
          "value": 0,
          "x": 9,
          "y": 0
         },
         {
          "terrain": "ocean",
          "value": 0,
          "x": 10,
          "y": 0
         },
         {
          "terrain": "land",
          "value": 1,
          "x": 11,
          "y": 0
         },
         {
          "terrain": "ocean",
          "value": -2,
          "x": 12,
          "y": 0
         },
         {
          "terrain": "ocean",
          "value": -1,
          "x": 13,
          "y": 0
         },
         {
          "terrain": "land",
          "value": 2,
          "x": 14,
          "y": 0
         },
         {
          "terrain": "ocean",
          "value": 0,
          "x": 15,
          "y": 0
         },
         {
          "terrain": "ocean",
          "value": 0,
          "x": 16,
          "y": 0
         },
         {
          "terrain": "ocean",
          "value": 0,
          "x": 17,
          "y": 0
         },
         {
          "terrain": "land",
          "value": 1,
          "x": 18,
          "y": 0
         },
         {
          "terrain": "ocean",
          "value": -1,
          "x": 19,
          "y": 0
         },
         {
          "terrain": "land",
          "value": 2,
          "x": 20,
          "y": 0
         },
         {
          "terrain": "ocean",
          "value": 0,
          "x": 21,
          "y": 0
         },
         {
          "terrain": "ocean",
          "value": 0,
          "x": 22,
          "y": 0
         },
         {
          "terrain": "ocean",
          "value": 0,
          "x": 23,
          "y": 0
         },
         {
          "terrain": "ocean",
          "value": -1,
          "x": 24,
          "y": 0
         },
         {
          "terrain": "ocean",
          "value": 0,
          "x": 25,
          "y": 0
         },
         {
          "terrain": "land",
          "value": 3,
          "x": 26,
          "y": 0
         },
         {
          "terrain": "land",
          "value": 1,
          "x": 27,
          "y": 0
         },
         {
          "terrain": "land",
          "value": 2,
          "x": 28,
          "y": 0
         },
         {
          "terrain": "ocean",
          "value": -1,
          "x": 29,
          "y": 0
         },
         {
          "terrain": "ocean",
          "value": 0,
          "x": 30,
          "y": 0
         },
         {
          "terrain": "ocean",
          "value": -2,
          "x": 31,
          "y": 0
         },
         {
          "terrain": "land",
          "value": 1,
          "x": 32,
          "y": 0
         },
         {
          "terrain": "ocean",
          "value": -2,
          "x": 33,
          "y": 0
         },
         {
          "terrain": "land",
          "value": 1,
          "x": 34,
          "y": 0
         },
         {
          "terrain": "ocean",
          "value": 0,
          "x": 35,
          "y": 0
         },
         {
          "terrain": "land",
          "value": 1,
          "x": 36,
          "y": 0
         },
         {
          "terrain": "ocean",
          "value": 0,
          "x": 37,
          "y": 0
         },
         {
          "terrain": "ocean",
          "value": 0,
          "x": 38,
          "y": 0
         },
         {
          "terrain": "ocean",
          "value": -2,
          "x": 39,
          "y": 0
         },
         {
          "terrain": "land",
          "value": 1,
          "x": 0,
          "y": 1
         },
         {
          "terrain": "ocean",
          "value": -1,
          "x": 1,
          "y": 1
         },
         {
          "terrain": "ocean",
          "value": -1,
          "x": 2,
          "y": 1
         },
         {
          "terrain": "ocean",
          "value": -2,
          "x": 3,
          "y": 1
         },
         {
          "terrain": "ocean",
          "value": -1,
          "x": 4,
          "y": 1
         },
         {
          "terrain": "land",
          "value": 1,
          "x": 5,
          "y": 1
         },
         {
          "terrain": "ocean",
          "value": 0,
          "x": 6,
          "y": 1
         },
         {
          "terrain": "ocean",
          "value": -1,
          "x": 7,
          "y": 1
         },
         {
          "terrain": "ocean",
          "value": -1,
          "x": 8,
          "y": 1
         },
         {
          "terrain": "ocean",
          "value": 0,
          "x": 9,
          "y": 1
         },
         {
          "terrain": "ocean",
          "value": 0,
          "x": 10,
          "y": 1
         },
         {
          "terrain": "ocean",
          "value": -1,
          "x": 11,
          "y": 1
         },
         {
          "terrain": "ocean",
          "value": 0,
          "x": 12,
          "y": 1
         },
         {
          "terrain": "ocean",
          "value": -1,
          "x": 13,
          "y": 1
         },
         {
          "terrain": "ocean",
          "value": -2,
          "x": 14,
          "y": 1
         },
         {
          "terrain": "ocean",
          "value": 0,
          "x": 15,
          "y": 1
         },
         {
          "terrain": "ocean",
          "value": 0,
          "x": 16,
          "y": 1
         },
         {
          "terrain": "ocean",
          "value": -1,
          "x": 17,
          "y": 1
         },
         {
          "terrain": "land",
          "value": 1,
          "x": 18,
          "y": 1
         },
         {
          "terrain": "land",
          "value": 2,
          "x": 19,
          "y": 1
         },
         {
          "terrain": "ocean",
          "value": 0,
          "x": 20,
          "y": 1
         },
         {
          "terrain": "land",
          "value": 1,
          "x": 21,
          "y": 1
         },
         {
          "terrain": "ocean",
          "value": 0,
          "x": 22,
          "y": 1
         },
         {
          "terrain": "ocean",
          "value": 0,
          "x": 23,
          "y": 1
         },
         {
          "terrain": "land",
          "value": 1,
          "x": 24,
          "y": 1
         },
         {
          "terrain": "ocean",
          "value": -1,
          "x": 25,
          "y": 1
         },
         {
          "terrain": "land",
          "value": 1,
          "x": 26,
          "y": 1
         },
         {
          "terrain": "ocean",
          "value": -1,
          "x": 27,
          "y": 1
         },
         {
          "terrain": "ocean",
          "value": 0,
          "x": 28,
          "y": 1
         },
         {
          "terrain": "ocean",
          "value": 0,
          "x": 29,
          "y": 1
         },
         {
          "terrain": "ocean",
          "value": 0,
          "x": 30,
          "y": 1
         },
         {
          "terrain": "land",
          "value": 3,
          "x": 31,
          "y": 1
         },
         {
          "terrain": "ocean",
          "value": 0,
          "x": 32,
          "y": 1
         },
         {
          "terrain": "ocean",
          "value": 0,
          "x": 33,
          "y": 1
         },
         {
          "terrain": "ocean",
          "value": -2,
          "x": 34,
          "y": 1
         },
         {
          "terrain": "ocean",
          "value": -1,
          "x": 35,
          "y": 1
         },
         {
          "terrain": "land",
          "value": 1,
          "x": 36,
          "y": 1
         },
         {
          "terrain": "land",
          "value": 1,
          "x": 37,
          "y": 1
         },
         {
          "terrain": "ocean",
          "value": 0,
          "x": 38,
          "y": 1
         },
         {
          "terrain": "land",
          "value": 1,
          "x": 39,
          "y": 1
         },
         {
          "terrain": "land",
          "value": 1,
          "x": 0,
          "y": 2
         },
         {
          "terrain": "land",
          "value": 1,
          "x": 1,
          "y": 2
         },
         {
          "terrain": "ocean",
          "value": 0,
          "x": 2,
          "y": 2
         },
         {
          "terrain": "land",
          "value": 1,
          "x": 3,
          "y": 2
         },
         {
          "terrain": "ocean",
          "value": 0,
          "x": 4,
          "y": 2
         },
         {
          "terrain": "ocean",
          "value": 0,
          "x": 5,
          "y": 2
         },
         {
          "terrain": "ocean",
          "value": 0,
          "x": 6,
          "y": 2
         },
         {
          "terrain": "land",
          "value": 1,
          "x": 7,
          "y": 2
         },
         {
          "terrain": "land",
          "value": 1,
          "x": 8,
          "y": 2
         },
         {
          "terrain": "ocean",
          "value": 0,
          "x": 9,
          "y": 2
         },
         {
          "terrain": "ocean",
          "value": 0,
          "x": 10,
          "y": 2
         },
         {
          "terrain": "ocean",
          "value": 0,
          "x": 11,
          "y": 2
         },
         {
          "terrain": "ocean",
          "value": 0,
          "x": 12,
          "y": 2
         },
         {
          "terrain": "land",
          "value": 1,
          "x": 13,
          "y": 2
         },
         {
          "terrain": "ocean",
          "value": 0,
          "x": 14,
          "y": 2
         },
         {
          "terrain": "ocean",
          "value": 0,
          "x": 15,
          "y": 2
         },
         {
          "terrain": "land",
          "value": 2,
          "x": 16,
          "y": 2
         },
         {
          "terrain": "ocean",
          "value": -1,
          "x": 17,
          "y": 2
         },
         {
          "terrain": "ocean",
          "value": 0,
          "x": 18,
          "y": 2
         },
         {
          "terrain": "land",
          "value": 1,
          "x": 19,
          "y": 2
         },
         {
          "terrain": "ocean",
          "value": 0,
          "x": 20,
          "y": 2
         },
         {
          "terrain": "ocean",
          "value": -1,
          "x": 21,
          "y": 2
         },
         {
          "terrain": "land",
          "value": 1,
          "x": 22,
          "y": 2
         },
         {
          "terrain": "ocean",
          "value": -2,
          "x": 23,
          "y": 2
         },
         {
          "terrain": "ocean",
          "value": -2,
          "x": 24,
          "y": 2
         },
         {
          "terrain": "land",
          "value": 1,
          "x": 25,
          "y": 2
         },
         {
          "terrain": "ocean",
          "value": 0,
          "x": 26,
          "y": 2
         },
         {
          "terrain": "land",
          "value": 1,
          "x": 27,
          "y": 2
         },
         {
          "terrain": "ocean",
          "value": 0,
          "x": 28,
          "y": 2
         },
         {
          "terrain": "ocean",
          "value": -1,
          "x": 29,
          "y": 2
         },
         {
          "terrain": "land",
          "value": 1,
          "x": 30,
          "y": 2
         },
         {
          "terrain": "land",
          "value": 1,
          "x": 31,
          "y": 2
         },
         {
          "terrain": "land",
          "value": 2,
          "x": 32,
          "y": 2
         },
         {
          "terrain": "ocean",
          "value": -2,
          "x": 33,
          "y": 2
         },
         {
          "terrain": "ocean",
          "value": -2,
          "x": 34,
          "y": 2
         },
         {
          "terrain": "land",
          "value": 2,
          "x": 35,
          "y": 2
         },
         {
          "terrain": "land",
          "value": 1,
          "x": 36,
          "y": 2
         },
         {
          "terrain": "ocean",
          "value": 0,
          "x": 37,
          "y": 2
         },
         {
          "terrain": "ocean",
          "value": 0,
          "x": 38,
          "y": 2
         },
         {
          "terrain": "ocean",
          "value": 0,
          "x": 39,
          "y": 2
         },
         {
          "terrain": "ocean",
          "value": 0,
          "x": 0,
          "y": 3
         },
         {
          "terrain": "land",
          "value": 1,
          "x": 1,
          "y": 3
         },
         {
          "terrain": "land",
          "value": 1,
          "x": 2,
          "y": 3
         },
         {
          "terrain": "ocean",
          "value": -1,
          "x": 3,
          "y": 3
         },
         {
          "terrain": "ocean",
          "value": 0,
          "x": 4,
          "y": 3
         },
         {
          "terrain": "ocean",
          "value": 0,
          "x": 5,
          "y": 3
         },
         {
          "terrain": "land",
          "value": 1,
          "x": 6,
          "y": 3
         },
         {
          "terrain": "ocean",
          "value": 0,
          "x": 7,
          "y": 3
         },
         {
          "terrain": "ocean",
          "value": 0,
          "x": 8,
          "y": 3
         },
         {
          "terrain": "land",
          "value": 1,
          "x": 9,
          "y": 3
         },
         {
          "terrain": "ocean",
          "value": -1,
          "x": 10,
          "y": 3
         },
         {
          "terrain": "ocean",
          "value": 0,
          "x": 11,
          "y": 3
         },
         {
          "terrain": "ocean",
          "value": -1,
          "x": 12,
          "y": 3
         },
         {
          "terrain": "land",
          "value": 1,
          "x": 13,
          "y": 3
         },
         {
          "terrain": "land",
          "value": 1,
          "x": 14,
          "y": 3
         },
         {
          "terrain": "ocean",
          "value": -1,
          "x": 15,
          "y": 3
         },
         {
          "terrain": "ocean",
          "value": -1,
          "x": 16,
          "y": 3
         },
         {
          "terrain": "ocean",
          "value": 0,
          "x": 17,
          "y": 3
         },
         {
          "terrain": "land",
          "value": 1,
          "x": 18,
          "y": 3
         },
         {
          "terrain": "ocean",
          "value": -2,
          "x": 19,
          "y": 3
         },
         {
          "terrain": "ocean",
          "value": 0,
          "x": 20,
          "y": 3
         },
         {
          "terrain": "land",
          "value": 1,
          "x": 21,
          "y": 3
         },
         {
          "terrain": "land",
          "value": 2,
          "x": 22,
          "y": 3
         },
         {
          "terrain": "land",
          "value": 1,
          "x": 23,
          "y": 3
         },
         {
          "terrain": "land",
          "value": 1,
          "x": 24,
          "y": 3
         },
         {
          "terrain": "ocean",
          "value": 0,
          "x": 25,
          "y": 3
         },
         {
          "terrain": "ocean",
          "value": 0,
          "x": 26,
          "y": 3
         },
         {
          "terrain": "land",
          "value": 3,
          "x": 27,
          "y": 3
         },
         {
          "terrain": "land",
          "value": 1,
          "x": 28,
          "y": 3
         },
         {
          "terrain": "ocean",
          "value": 0,
          "x": 29,
          "y": 3
         },
         {
          "terrain": "land",
          "value": 1,
          "x": 30,
          "y": 3
         },
         {
          "terrain": "ocean",
          "value": 0,
          "x": 31,
          "y": 3
         },
         {
          "terrain": "land",
          "value": 1,
          "x": 32,
          "y": 3
         },
         {
          "terrain": "ocean",
          "value": -1,
          "x": 33,
          "y": 3
         },
         {
          "terrain": "land",
          "value": 2,
          "x": 34,
          "y": 3
         },
         {
          "terrain": "land",
          "value": 2,
          "x": 35,
          "y": 3
         },
         {
          "terrain": "land",
          "value": 2,
          "x": 36,
          "y": 3
         },
         {
          "terrain": "land",
          "value": 1,
          "x": 37,
          "y": 3
         },
         {
          "terrain": "land",
          "value": 2,
          "x": 38,
          "y": 3
         },
         {
          "terrain": "land",
          "value": 1,
          "x": 39,
          "y": 3
         },
         {
          "terrain": "ocean",
          "value": -1,
          "x": 0,
          "y": 4
         },
         {
          "terrain": "ocean",
          "value": -1,
          "x": 1,
          "y": 4
         },
         {
          "terrain": "ocean",
          "value": 0,
          "x": 2,
          "y": 4
         },
         {
          "terrain": "ocean",
          "value": -2,
          "x": 3,
          "y": 4
         },
         {
          "terrain": "ocean",
          "value": 0,
          "x": 4,
          "y": 4
         },
         {
          "terrain": "ocean",
          "value": 0,
          "x": 5,
          "y": 4
         },
         {
          "terrain": "ocean",
          "value": -1,
          "x": 6,
          "y": 4
         },
         {
          "terrain": "ocean",
          "value": -1,
          "x": 7,
          "y": 4
         },
         {
          "terrain": "ocean",
          "value": -1,
          "x": 8,
          "y": 4
         },
         {
          "terrain": "land",
          "value": 2,
          "x": 9,
          "y": 4
         },
         {
          "terrain": "ocean",
          "value": -1,
          "x": 10,
          "y": 4
         },
         {
          "terrain": "ocean",
          "value": 0,
          "x": 11,
          "y": 4
         },
         {
          "terrain": "ocean",
          "value": -1,
          "x": 12,
          "y": 4
         },
         {
          "terrain": "ocean",
          "value": 0,
          "x": 13,
          "y": 4
         },
         {
          "terrain": "ocean",
          "value": 0,
          "x": 14,
          "y": 4
         },
         {
          "terrain": "ocean",
          "value": 0,
          "x": 15,
          "y": 4
         },
         {
          "terrain": "ocean",
          "value": 0,
          "x": 16,
          "y": 4
         },
         {
          "terrain": "land",
          "value": 1,
          "x": 17,
          "y": 4
         },
         {
          "terrain": "ocean",
          "value": 0,
          "x": 18,
          "y": 4
         },
         {
          "terrain": "ocean",
          "value": 0,
          "x": 19,
          "y": 4
         },
         {
          "terrain": "ocean",
          "value": 0,
          "x": 20,
          "y": 4
         },
         {
          "terrain": "land",
          "value": 1,
          "x": 21,
          "y": 4
         },
         {
          "terrain": "ocean",
          "value": -1,
          "x": 22,
          "y": 4
         },
         {
          "terrain": "ocean",
          "value": -1,
          "x": 23,
          "y": 4
         },
         {
          "terrain": "ocean",
          "value": 0,
          "x": 24,
          "y": 4
         },
         {
          "terrain": "land",
          "value": 1,
          "x": 25,
          "y": 4
         },
         {
          "terrain": "land",
          "value": 3,
          "x": 26,
          "y": 4
         },
         {
          "terrain": "land",
          "value": 3,
          "x": 27,
          "y": 4
         },
         {
          "terrain": "ocean",
          "value": 0,
          "x": 28,
          "y": 4
         },
         {
          "terrain": "land",
          "value": 4,
          "x": 29,
          "y": 4
         },
         {
          "terrain": "land",
          "value": 2,
          "x": 30,
          "y": 4
         },
         {
          "terrain": "land",
          "value": 3,
          "x": 31,
          "y": 4
         },
         {
          "terrain": "land",
          "value": 1,
          "x": 32,
          "y": 4
         },
         {
          "terrain": "land",
          "value": 3,
          "x": 33,
          "y": 4
         },
         {
          "terrain": "land",
          "value": 3,
          "x": 34,
          "y": 4
         },
         {
          "terrain": "land",
          "value": 4,
          "x": 35,
          "y": 4
         },
         {
          "terrain": "land",
          "value": 2,
          "x": 36,
          "y": 4
         },
         {
          "terrain": "land",
          "value": 3,
          "x": 37,
          "y": 4
         },
         {
          "terrain": "land",
          "value": 4,
          "x": 38,
          "y": 4
         },
         {
          "terrain": "land",
          "value": 2,
          "x": 39,
          "y": 4
         },
         {
          "terrain": "ocean",
          "value": -1,
          "x": 0,
          "y": 5
         },
         {
          "terrain": "land",
          "value": 1,
          "x": 1,
          "y": 5
         },
         {
          "terrain": "ocean",
          "value": 0,
          "x": 2,
          "y": 5
         },
         {
          "terrain": "land",
          "value": 1,
          "x": 3,
          "y": 5
         },
         {
          "terrain": "land",
          "value": 1,
          "x": 4,
          "y": 5
         },
         {
          "terrain": "ocean",
          "value": -2,
          "x": 5,
          "y": 5
         },
         {
          "terrain": "ocean",
          "value": 0,
          "x": 6,
          "y": 5
         },
         {
          "terrain": "ocean",
          "value": -1,
          "x": 7,
          "y": 5
         },
         {
          "terrain": "ocean",
          "value": 0,
          "x": 8,
          "y": 5
         },
         {
          "terrain": "land",
          "value": 1,
          "x": 9,
          "y": 5
         },
         {
          "terrain": "ocean",
          "value": 0,
          "x": 10,
          "y": 5
         },
         {
          "terrain": "ocean",
          "value": -1,
          "x": 11,
          "y": 5
         },
         {
          "terrain": "ocean",
          "value": -2,
          "x": 12,
          "y": 5
         },
         {
          "terrain": "land",
          "value": 1,
          "x": 13,
          "y": 5
         },
         {
          "terrain": "ocean",
          "value": -2,
          "x": 14,
          "y": 5
         },
         {
          "terrain": "land",
          "value": 1,
          "x": 15,
          "y": 5
         },
         {
          "terrain": "ocean",
          "value": -1,
          "x": 16,
          "y": 5
         },
         {
          "terrain": "ocean",
          "value": 0,
          "x": 17,
          "y": 5
         },
         {
          "terrain": "land",
          "value": 1,
          "x": 18,
          "y": 5
         },
         {
          "terrain": "land",
          "value": 1,
          "x": 19,
          "y": 5
         },
         {
          "terrain": "ocean",
          "value": 0,
          "x": 20,
          "y": 5
         },
         {
          "terrain": "ocean",
          "value": 0,
          "x": 21,
          "y": 5
         },
         {
          "terrain": "ocean",
          "value": 0,
          "x": 22,
          "y": 5
         },
         {
          "terrain": "ocean",
          "value": -1,
          "x": 23,
          "y": 5
         },
         {
          "terrain": "land",
          "value": 1,
          "x": 24,
          "y": 5
         },
         {
          "terrain": "land",
          "value": 1,
          "x": 25,
          "y": 5
         },
         {
          "terrain": "land",
          "value": 3,
          "x": 26,
          "y": 5
         },
         {
          "terrain": "land",
          "value": 4,
          "x": 27,
          "y": 5
         },
         {
          "terrain": "land",
          "value": 5,
          "x": 28,
          "y": 5
         },
         {
          "terrain": "land",
          "value": 4,
          "x": 29,
          "y": 5
         },
         {
          "terrain": "land",
          "value": 7,
          "x": 30,
          "y": 5
         },
         {
          "terrain": "land",
          "value": 5,
          "x": 31,
          "y": 5
         },
         {
          "terrain": "land",
          "value": 6,
          "x": 32,
          "y": 5
         },
         {
          "terrain": "land",
          "value": 6,
          "x": 33,
          "y": 5
         },
         {
          "terrain": "land",
          "value": 6,
          "x": 34,
          "y": 5
         },
         {
          "terrain": "land",
          "value": 6,
          "x": 35,
          "y": 5
         },
         {
          "terrain": "land",
          "value": 6,
          "x": 36,
          "y": 5
         },
         {
          "terrain": "land",
          "value": 8,
          "x": 37,
          "y": 5
         },
         {
          "terrain": "land",
          "value": 5,
          "x": 38,
          "y": 5
         },
         {
          "terrain": "land",
          "value": 6,
          "x": 39,
          "y": 5
         },
         {
          "terrain": "land",
          "value": 1,
          "x": 0,
          "y": 6
         },
         {
          "terrain": "ocean",
          "value": -1,
          "x": 1,
          "y": 6
         },
         {
          "terrain": "ocean",
          "value": -1,
          "x": 2,
          "y": 6
         },
         {
          "terrain": "ocean",
          "value": -1,
          "x": 3,
          "y": 6
         },
         {
          "terrain": "land",
          "value": 1,
          "x": 4,
          "y": 6
         },
         {
          "terrain": "ocean",
          "value": 0,
          "x": 5,
          "y": 6
         },
         {
          "terrain": "ocean",
          "value": 0,
          "x": 6,
          "y": 6
         },
         {
          "terrain": "land",
          "value": 2,
          "x": 7,
          "y": 6
         },
         {
          "terrain": "ocean",
          "value": -1,
          "x": 8,
          "y": 6
         },
         {
          "terrain": "ocean",
          "value": 0,
          "x": 9,
          "y": 6
         },
         {
          "terrain": "ocean",
          "value": -1,
          "x": 10,
          "y": 6
         },
         {
          "terrain": "ocean",
          "value": -2,
          "x": 11,
          "y": 6
         },
         {
          "terrain": "ocean",
          "value": 0,
          "x": 12,
          "y": 6
         },
         {
          "terrain": "ocean",
          "value": 0,
          "x": 13,
          "y": 6
         },
         {
          "terrain": "land",
          "value": 1,
          "x": 14,
          "y": 6
         },
         {
          "terrain": "ocean",
          "value": 0,
          "x": 15,
          "y": 6
         },
         {
          "terrain": "ocean",
          "value": 0,
          "x": 16,
          "y": 6
         },
         {
          "terrain": "ocean",
          "value": 0,
          "x": 17,
          "y": 6
         },
         {
          "terrain": "ocean",
          "value": 0,
          "x": 18,
          "y": 6
         },
         {
          "terrain": "land",
          "value": 2,
          "x": 19,
          "y": 6
         },
         {
          "terrain": "ocean",
          "value": -3,
          "x": 20,
          "y": 6
         },
         {
          "terrain": "ocean",
          "value": -1,
          "x": 21,
          "y": 6
         },
         {
          "terrain": "ocean",
          "value": -1,
          "x": 22,
          "y": 6
         },
         {
          "terrain": "ocean",
          "value": -1,
          "x": 23,
          "y": 6
         },
         {
          "terrain": "ocean",
          "value": 0,
          "x": 24,
          "y": 6
         },
         {
          "terrain": "land",
          "value": 1,
          "x": 25,
          "y": 6
         },
         {
          "terrain": "land",
          "value": 2,
          "x": 26,
          "y": 6
         },
         {
          "terrain": "land",
          "value": 6,
          "x": 27,
          "y": 6
         },
         {
          "terrain": "land",
          "value": 9,
          "x": 28,
          "y": 6
         },
         {
          "terrain": "land",
          "value": 10,
          "x": 29,
          "y": 6
         },
         {
          "terrain": "land",
          "value": 13,
          "x": 30,
          "y": 6
         },
         {
          "terrain": "land",
          "value": 12,
          "x": 31,
          "y": 6
         },
         {
          "terrain": "land",
          "value": 13,
          "x": 32,
          "y": 6
         },
         {
          "terrain": "land",
          "value": 13,
          "x": 33,
          "y": 6
         },
         {
          "terrain": "land",
          "value": 14,
          "x": 34,
          "y": 6
         },
         {
          "terrain": "land",
          "value": 12,
          "x": 35,
          "y": 6
         },
         {
          "terrain": "land",
          "value": 13,
          "x": 36,
          "y": 6
         },
         {
          "terrain": "land",
          "value": 11,
          "x": 37,
          "y": 6
         },
         {
          "terrain": "land",
          "value": 10,
          "x": 38,
          "y": 6
         },
         {
          "terrain": "land",
          "value": 9,
          "x": 39,
          "y": 6
         },
         {
          "terrain": "land",
          "value": 1,
          "x": 0,
          "y": 7
         },
         {
          "terrain": "ocean",
          "value": 0,
          "x": 1,
          "y": 7
         },
         {
          "terrain": "land",
          "value": 2,
          "x": 2,
          "y": 7
         },
         {
          "terrain": "ocean",
          "value": -3,
          "x": 3,
          "y": 7
         },
         {
          "terrain": "ocean",
          "value": 0,
          "x": 4,
          "y": 7
         },
         {
          "terrain": "ocean",
          "value": -1,
          "x": 5,
          "y": 7
         },
         {
          "terrain": "ocean",
          "value": 0,
          "x": 6,
          "y": 7
         },
         {
          "terrain": "land",
          "value": 1,
          "x": 7,
          "y": 7
         },
         {
          "terrain": "land",
          "value": 1,
          "x": 8,
          "y": 7
         },
         {
          "terrain": "ocean",
          "value": 0,
          "x": 9,
          "y": 7
         },
         {
          "terrain": "ocean",
          "value": 0,
          "x": 10,
          "y": 7
         },
         {
          "terrain": "ocean",
          "value": 0,
          "x": 11,
          "y": 7
         },
         {
          "terrain": "land",
          "value": 1,
          "x": 12,
          "y": 7
         },
         {
          "terrain": "land",
          "value": 1,
          "x": 13,
          "y": 7
         },
         {
          "terrain": "ocean",
          "value": 0,
          "x": 14,
          "y": 7
         },
         {
          "terrain": "ocean",
          "value": 0,
          "x": 15,
          "y": 7
         },
         {
          "terrain": "land",
          "value": 1,
          "x": 16,
          "y": 7
         },
         {
          "terrain": "ocean",
          "value": 0,
          "x": 17,
          "y": 7
         },
         {
          "terrain": "ocean",
          "value": 0,
          "x": 18,
          "y": 7
         },
         {
          "terrain": "ocean",
          "value": -1,
          "x": 19,
          "y": 7
         },
         {
          "terrain": "ocean",
          "value": 0,
          "x": 20,
          "y": 7
         },
         {
          "terrain": "land",
          "value": 1,
          "x": 21,
          "y": 7
         },
         {
          "terrain": "land",
          "value": 1,
          "x": 22,
          "y": 7
         },
         {
          "terrain": "land",
          "value": 1,
          "x": 23,
          "y": 7
         },
         {
          "terrain": "ocean",
          "value": 0,
          "x": 24,
          "y": 7
         },
         {
          "terrain": "ocean",
          "value": -1,
          "x": 25,
          "y": 7
         },
         {
          "terrain": "land",
          "value": 2,
          "x": 26,
          "y": 7
         },
         {
          "terrain": "land",
          "value": 4,
          "x": 27,
          "y": 7
         },
         {
          "terrain": "land",
          "value": 10,
          "x": 28,
          "y": 7
         },
         {
          "terrain": "land",
          "value": 14,
          "x": 29,
          "y": 7
         },
         {
          "terrain": "land",
          "value": 15,
          "x": 30,
          "y": 7
         },
         {
          "terrain": "land",
          "value": 20,
          "x": 31,
          "y": 7
         },
         {
          "terrain": "land",
          "value": 20,
          "x": 32,
          "y": 7
         },
         {
          "terrain": "land",
          "value": 22,
          "x": 33,
          "y": 7
         },
         {
          "terrain": "land",
          "value": 20,
          "x": 34,
          "y": 7
         },
         {
          "terrain": "land",
          "value": 22,
          "x": 35,
          "y": 7
         },
         {
          "terrain": "land",
          "value": 20,
          "x": 36,
          "y": 7
         },
         {
          "terrain": "land",
          "value": 15,
          "x": 37,
          "y": 7
         },
         {
          "terrain": "land",
          "value": 14,
          "x": 38,
          "y": 7
         },
         {
          "terrain": "land",
          "value": 12,
          "x": 39,
          "y": 7
         },
         {
          "terrain": "land",
          "value": 1,
          "x": 0,
          "y": 8
         },
         {
          "terrain": "ocean",
          "value": 0,
          "x": 1,
          "y": 8
         },
         {
          "terrain": "ocean",
          "value": 0,
          "x": 2,
          "y": 8
         },
         {
          "terrain": "land",
          "value": 1,
          "x": 3,
          "y": 8
         },
         {
          "terrain": "ocean",
          "value": 0,
          "x": 4,
          "y": 8
         },
         {
          "terrain": "ocean",
          "value": 0,
          "x": 5,
          "y": 8
         },
         {
          "terrain": "ocean",
          "value": 0,
          "x": 6,
          "y": 8
         },
         {
          "terrain": "ocean",
          "value": -1,
          "x": 7,
          "y": 8
         },
         {
          "terrain": "ocean",
          "value": -1,
          "x": 8,
          "y": 8
         },
         {
          "terrain": "ocean",
          "value": -3,
          "x": 9,
          "y": 8
         },
         {
          "terrain": "ocean",
          "value": 0,
          "x": 10,
          "y": 8
         },
         {
          "terrain": "ocean",
          "value": 0,
          "x": 11,
          "y": 8
         },
         {
          "terrain": "ocean",
          "value": 0,
          "x": 12,
          "y": 8
         },
         {
          "terrain": "land",
          "value": 1,
          "x": 13,
          "y": 8
         },
         {
          "terrain": "ocean",
          "value": -2,
          "x": 14,
          "y": 8
         },
         {
          "terrain": "ocean",
          "value": -1,
          "x": 15,
          "y": 8
         },
         {
          "terrain": "ocean",
          "value": 0,
          "x": 16,
          "y": 8
         },
         {
          "terrain": "ocean",
          "value": -2,
          "x": 17,
          "y": 8
         },
         {
          "terrain": "ocean",
          "value": 0,
          "x": 18,
          "y": 8
         },
         {
          "terrain": "ocean",
          "value": -1,
          "x": 19,
          "y": 8
         },
         {
          "terrain": "ocean",
          "value": 0,
          "x": 20,
          "y": 8
         },
         {
          "terrain": "ocean",
          "value": -1,
          "x": 21,
          "y": 8
         },
         {
          "terrain": "ocean",
          "value": -1,
          "x": 22,
          "y": 8
         },
         {
          "terrain": "land",
          "value": 1,
          "x": 23,
          "y": 8
         },
         {
          "terrain": "ocean",
          "value": 0,
          "x": 24,
          "y": 8
         },
         {
          "terrain": "land",
          "value": 2,
          "x": 25,
          "y": 8
         },
         {
          "terrain": "land",
          "value": 3,
          "x": 26,
          "y": 8
         },
         {
          "terrain": "land",
          "value": 4,
          "x": 27,
          "y": 8
         },
         {
          "terrain": "land",
          "value": 8,
          "x": 28,
          "y": 8
         },
         {
          "terrain": "land",
          "value": 16,
          "x": 29,
          "y": 8
         },
         {
          "terrain": "land",
          "value": 23,
          "x": 30,
          "y": 8
         },
         {
          "terrain": "mountain",
          "value": 26,
          "x": 31,
          "y": 8
         },
         {
          "terrain": "mountain",
          "value": 30,
          "x": 32,
          "y": 8
         },
         {
          "terrain": "mountain",
          "value": 34,
          "x": 33,
          "y": 8
         },
         {
          "terrain": "mountain",
          "value": 36,
          "x": 34,
          "y": 8
         },
         {
          "terrain": "mountain",
          "value": 33,
          "x": 35,
          "y": 8
         },
         {
          "terrain": "mountain",
          "value": 27,
          "x": 36,
          "y": 8
         },
         {
          "terrain": "mountain",
          "value": 26,
          "x": 37,
          "y": 8
         },
         {
          "terrain": "land",
          "value": 21,
          "x": 38,
          "y": 8
         },
         {
          "terrain": "land",
          "value": 16,
          "x": 39,
          "y": 8
         },
         {
          "terrain": "ocean",
          "value": -1,
          "x": 0,
          "y": 9
         },
         {
          "terrain": "land",
          "value": 1,
          "x": 1,
          "y": 9
         },
         {
          "terrain": "ocean",
          "value": 0,
          "x": 2,
          "y": 9
         },
         {
          "terrain": "ocean",
          "value": -1,
          "x": 3,
          "y": 9
         },
         {
          "terrain": "land",
          "value": 3,
          "x": 4,
          "y": 9
         },
         {
          "terrain": "ocean",
          "value": -1,
          "x": 5,
          "y": 9
         },
         {
          "terrain": "land",
          "value": 1,
          "x": 6,
          "y": 9
         },
         {
          "terrain": "land",
          "value": 4,
          "x": 7,
          "y": 9
         },
         {
          "terrain": "land",
          "value": 1,
          "x": 8,
          "y": 9
         },
         {
          "terrain": "land",
          "value": 1,
          "x": 9,
          "y": 9
         },
         {
          "terrain": "ocean",
          "value": 0,
          "x": 10,
          "y": 9
         },
         {
          "terrain": "land",
          "value": 2,
          "x": 11,
          "y": 9
         },
         {
          "terrain": "ocean",
          "value": 0,
          "x": 12,
          "y": 9
         },
         {
          "terrain": "ocean",
          "value": 0,
          "x": 13,
          "y": 9
         },
         {
          "terrain": "ocean",
          "value": 0,
          "x": 14,
          "y": 9
         },
         {
          "terrain": "ocean",
          "value": -2,
          "x": 15,
          "y": 9
         },
         {
          "terrain": "ocean",
          "value": -1,
          "x": 16,
          "y": 9
         },
         {
          "terrain": "land",
          "value": 1,
          "x": 17,
          "y": 9
         },
         {
          "terrain": "ocean",
          "value": 0,
          "x": 18,
          "y": 9
         },
         {
          "terrain": "ocean",
          "value": -1,
          "x": 19,
          "y": 9
         },
         {
          "terrain": "land",
          "value": 1,
          "x": 20,
          "y": 9
         },
         {
          "terrain": "ocean",
          "value": -1,
          "x": 21,
          "y": 9
         },
         {
          "terrain": "ocean",
          "value": 0,
          "x": 22,
          "y": 9
         },
         {
          "terrain": "ocean",
          "value": 0,
          "x": 23,
          "y": 9
         },
         {
          "terrain": "land",
          "value": 1,
          "x": 24,
          "y": 9
         },
         {
          "terrain": "land",
          "value": 1,
          "x": 25,
          "y": 9
         },
         {
          "terrain": "land",
          "value": 2,
          "x": 26,
          "y": 9
         },
         {
          "terrain": "land",
          "value": 4,
          "x": 27,
          "y": 9
         },
         {
          "terrain": "land",
          "value": 10,
          "x": 28,
          "y": 9
         },
         {
          "terrain": "land",
          "value": 19,
          "x": 29,
          "y": 9
         },
         {
          "terrain": "mountain",
          "value": 26,
          "x": 30,
          "y": 9
         },
         {
          "terrain": "mountain",
          "value": 33,
          "x": 31,
          "y": 9
         },
         {
          "terrain": "mountain",
          "value": 39,
          "x": 32,
          "y": 9
         },
         {
          "terrain": "mountain",
          "value": 44,
          "x": 33,
          "y": 9
         },
         {
          "terrain": "mountain",
          "value": 45,
          "x": 34,
          "y": 9
         },
         {
          "terrain": "mountain",
          "value": 44,
          "x": 35,
          "y": 9
         },
         {
          "terrain": "mountain",
          "value": 40,
          "x": 36,
          "y": 9
         },
         {
          "terrain": "mountain",
          "value": 32,
          "x": 37,
          "y": 9
         },
         {
          "terrain": "mountain",
          "value": 25,
          "x": 38,
          "y": 9
         },
         {
          "terrain": "land",
          "value": 22,
          "x": 39,
          "y": 9
         },
         {
          "terrain": "land",
          "value": 3,
          "x": 0,
          "y": 10
         },
         {
          "terrain": "land",
          "value": 2,
          "x": 1,
          "y": 10
         },
         {
          "terrain": "ocean",
          "value": 0,
          "x": 2,
          "y": 10
         },
         {
          "terrain": "ocean",
          "value": 0,
          "x": 3,
          "y": 10
         },
         {
          "terrain": "ocean",
          "value": 0,
          "x": 4,
          "y": 10
         },
         {
          "terrain": "land",
          "value": 1,
          "x": 5,
          "y": 10
         },
         {
          "terrain": "ocean",
          "value": -1,
          "x": 6,
          "y": 10
         },
         {
          "terrain": "land",
          "value": 1,
          "x": 7,
          "y": 10
         },
         {
          "terrain": "land",
          "value": 1,
          "x": 8,
          "y": 10
         },
         {
          "terrain": "land",
          "value": 1,
          "x": 9,
          "y": 10
         },
         {
          "terrain": "ocean",
          "value": -1,
          "x": 10,
          "y": 10
         },
         {
          "terrain": "land",
          "value": 1,
          "x": 11,
          "y": 10
         },
         {
          "terrain": "ocean",
          "value": 0,
          "x": 12,
          "y": 10
         },
         {
          "terrain": "ocean",
          "value": 0,
          "x": 13,
          "y": 10
         },
         {
          "terrain": "ocean",
          "value": 0,
          "x": 14,
          "y": 10
         },
         {
          "terrain": "land",
          "value": 2,
          "x": 15,
          "y": 10
         },
         {
          "terrain": "ocean",
          "value": -1,
          "x": 16,
          "y": 10
         },
         {
          "terrain": "ocean",
          "value": 0,
          "x": 17,
          "y": 10
         },
         {
          "terrain": "ocean",
          "value": -1,
          "x": 18,
          "y": 10
         },
         {
          "terrain": "ocean",
          "value": -1,
          "x": 19,
          "y": 10
         },
         {
          "terrain": "ocean",
          "value": -1,
          "x": 20,
          "y": 10
         },
         {
          "terrain": "ocean",
          "value": -1,
          "x": 21,
          "y": 10
         },
         {
          "terrain": "land",
          "value": 1,
          "x": 22,
          "y": 10
         },
         {
          "terrain": "land",
          "value": 1,
          "x": 23,
          "y": 10
         },
         {
          "terrain": "ocean",
          "value": 0,
          "x": 24,
          "y": 10
         },
         {
          "terrain": "land",
          "value": 1,
          "x": 25,
          "y": 10
         },
         {
          "terrain": "land",
          "value": 2,
          "x": 26,
          "y": 10
         },
         {
          "terrain": "land",
          "value": 4,
          "x": 27,
          "y": 10
         },
         {
          "terrain": "land",
          "value": 11,
          "x": 28,
          "y": 10
         },
         {
          "terrain": "land",
          "value": 17,
          "x": 29,
          "y": 10
         },
         {
          "terrain": "mountain",
          "value": 26,
          "x": 30,
          "y": 10
         },
         {
          "terrain": "mountain",
          "value": 35,
          "x": 31,
          "y": 10
         },
         {
          "terrain": "mountain",
          "value": 50,
          "x": 32,
          "y": 10
         },
         {
          "terrain": "mountain",
          "value": 55,
          "x": 33,
          "y": 10
         },
         {
          "terrain": "mountain",
          "value": 56,
          "x": 34,
          "y": 10
         },
         {
          "terrain": "mountain",
          "value": 55,
          "x": 35,
          "y": 10
         },
         {
          "terrain": "mountain",
          "value": 49,
          "x": 36,
          "y": 10
         },
         {
          "terrain": "mountain",
          "value": 39,
          "x": 37,
          "y": 10
         },
         {
          "terrain": "mountain",
          "value": 32,
          "x": 38,
          "y": 10
         },
         {
          "terrain": "land",
          "value": 24,
          "x": 39,
          "y": 10
         },
         {
          "terrain": "land",
          "value": 4,
          "x": 0,
          "y": 11
         },
         {
          "terrain": "land",
          "value": 2,
          "x": 1,
          "y": 11
         },
         {
          "terrain": "land",
          "value": 2,
          "x": 2,
          "y": 11
         },
         {
          "terrain": "land",
          "value": 2,
          "x": 3,
          "y": 11
         },
         {
          "terrain": "ocean",
          "value": -1,
          "x": 4,
          "y": 11
         },
         {
          "terrain": "ocean",
          "value": -1,
          "x": 5,
          "y": 11
         },
         {
          "terrain": "land",
          "value": 1,
          "x": 6,
          "y": 11
         },
         {
          "terrain": "land",
          "value": 1,
          "x": 7,
          "y": 11
         },
         {
          "terrain": "ocean",
          "value": 0,
          "x": 8,
          "y": 11
         },
         {
          "terrain": "ocean",
          "value": 0,
          "x": 9,
          "y": 11
         },
         {
          "terrain": "land",
          "value": 1,
          "x": 10,
          "y": 11
         },
         {
          "terrain": "land",
          "value": 1,
          "x": 11,
          "y": 11
         },
         {
          "terrain": "land",
          "value": 1,
          "x": 12,
          "y": 11
         },
         {
          "terrain": "ocean",
          "value": -1,
          "x": 13,
          "y": 11
         },
         {
          "terrain": "ocean",
          "value": 0,
          "x": 14,
          "y": 11
         },
         {
          "terrain": "ocean",
          "value": -2,
          "x": 15,
          "y": 11
         },
         {
          "terrain": "ocean",
          "value": -1,
          "x": 16,
          "y": 11
         },
         {
          "terrain": "ocean",
          "value": -1,
          "x": 17,
          "y": 11
         },
         {
          "terrain": "land",
          "value": 1,
          "x": 18,
          "y": 11
         },
         {
          "terrain": "ocean",
          "value": -1,
          "x": 19,
          "y": 11
         },
         {
          "terrain": "land",
          "value": 2,
          "x": 20,
          "y": 11
         },
         {
          "terrain": "ocean",
          "value": -1,
          "x": 21,
          "y": 11
         },
         {
          "terrain": "ocean",
          "value": 0,
          "x": 22,
          "y": 11
         },
         {
          "terrain": "ocean",
          "value": -1,
          "x": 23,
          "y": 11
         },
         {
          "terrain": "land",
          "value": 1,
          "x": 24,
          "y": 11
         },
         {
          "terrain": "land",
          "value": 1,
          "x": 25,
          "y": 11
         },
         {
          "terrain": "land",
          "value": 2,
          "x": 26,
          "y": 11
         },
         {
          "terrain": "land",
          "value": 4,
          "x": 27,
          "y": 11
         },
         {
          "terrain": "land",
          "value": 10,
          "x": 28,
          "y": 11
         },
         {
          "terrain": "land",
          "value": 19,
          "x": 29,
          "y": 11
         },
         {
          "terrain": "mountain",
          "value": 29,
          "x": 30,
          "y": 11
         },
         {
          "terrain": "mountain",
          "value": 38,
          "x": 31,
          "y": 11
         },
         {
          "terrain": "mountain",
          "value": 48,
          "x": 32,
          "y": 11
         },
         {
          "terrain": "mountain",
          "value": 62,
          "x": 33,
          "y": 11
         },
         {
          "terrain": "mountain",
          "value": 68,
          "x": 34,
          "y": 11
         },
         {
          "terrain": "mountain",
          "value": 66,
          "x": 35,
          "y": 11
         },
         {
          "terrain": "mountain",
          "value": 62,
          "x": 36,
          "y": 11
         },
         {
          "terrain": "mountain",
          "value": 50,
          "x": 37,
          "y": 11
         },
         {
          "terrain": "mountain",
          "value": 38,
          "x": 38,
          "y": 11
         },
         {
          "terrain": "mountain",
          "value": 28,
          "x": 39,
          "y": 11
         },
         {
          "terrain": "land",
          "value": 7,
          "x": 0,
          "y": 12
         },
         {
          "terrain": "land",
          "value": 4,
          "x": 1,
          "y": 12
         },
         {
          "terrain": "land",
          "value": 2,
          "x": 2,
          "y": 12
         },
         {
          "terrain": "land",
          "value": 1,
          "x": 3,
          "y": 12
         },
         {
          "terrain": "ocean",
          "value": 0,
          "x": 4,
          "y": 12
         },
         {
          "terrain": "ocean",
          "value": 0,
          "x": 5,
          "y": 12
         },
         {
          "terrain": "ocean",
          "value": 0,
          "x": 6,
          "y": 12
         },
         {
          "terrain": "ocean",
          "value": 0,
          "x": 7,
          "y": 12
         },
         {
          "terrain": "ocean",
          "value": -1,
          "x": 8,
          "y": 12
         },
         {
          "terrain": "land",
          "value": 1,
          "x": 9,
          "y": 12
         },
         {
          "terrain": "land",
          "value": 1,
          "x": 10,
          "y": 12
         },
         {
          "terrain": "land",
          "value": 1,
          "x": 11,
          "y": 12
         },
         {
          "terrain": "ocean",
          "value": -1,
          "x": 12,
          "y": 12
         },
         {
          "terrain": "ocean",
          "value": -1,
          "x": 13,
          "y": 12
         },
         {
          "terrain": "ocean",
          "value": -3,
          "x": 14,
          "y": 12
         },
         {
          "terrain": "ocean",
          "value": 0,
          "x": 15,
          "y": 12
         },
         {
          "terrain": "land",
          "value": 2,
          "x": 16,
          "y": 12
         },
         {
          "terrain": "land",
          "value": 1,
          "x": 17,
          "y": 12
         },
         {
          "terrain": "ocean",
          "value": -1,
          "x": 18,
          "y": 12
         },
         {
          "terrain": "land",
          "value": 1,
          "x": 19,
          "y": 12
         },
         {
          "terrain": "ocean",
          "value": -1,
          "x": 20,
          "y": 12
         },
         {
          "terrain": "ocean",
          "value": -1,
          "x": 21,
          "y": 12
         },
         {
          "terrain": "land",
          "value": 1,
          "x": 22,
          "y": 12
         },
         {
          "terrain": "ocean",
          "value": 0,
          "x": 23,
          "y": 12
         },
         {
          "terrain": "land",
          "value": 1,
          "x": 24,
          "y": 12
         },
         {
          "terrain": "land",
          "value": 2,
          "x": 25,
          "y": 12
         },
         {
          "terrain": "land",
          "value": 4,
          "x": 26,
          "y": 12
         },
         {
          "terrain": "land",
          "value": 6,
          "x": 27,
          "y": 12
         },
         {
          "terrain": "land",
          "value": 9,
          "x": 28,
          "y": 12
         },
         {
          "terrain": "land",
          "value": 18,
          "x": 29,
          "y": 12
         },
         {
          "terrain": "mountain",
          "value": 27,
          "x": 30,
          "y": 12
         },
         {
          "terrain": "mountain",
          "value": 35,
          "x": 31,
          "y": 12
         },
         {
          "terrain": "mountain",
          "value": 48,
          "x": 32,
          "y": 12
         },
         {
          "terrain": "mountain",
          "value": 62,
          "x": 33,
          "y": 12
         },
         {
          "terrain": "mountain",
          "value": 74,
          "x": 34,
          "y": 12
         },
         {
          "terrain": "mountain",
          "value": 75,
          "x": 35,
          "y": 12
         },
         {
          "terrain": "mountain",
          "value": 72,
          "x": 36,
          "y": 12
         },
         {
          "terrain": "mountain",
          "value": 58,
          "x": 37,
          "y": 12
         },
         {
          "terrain": "mountain",
          "value": 45,
          "x": 38,
          "y": 12
         },
         {
          "terrain": "mountain",
          "value": 29,
          "x": 39,
          "y": 12
         },
         {
          "terrain": "land",
          "value": 7,
          "x": 0,
          "y": 13
         },
         {
          "terrain": "land",
          "value": 4,
          "x": 1,
          "y": 13
         },
         {
          "terrain": "land",
          "value": 2,
          "x": 2,
          "y": 13
         },
         {
          "terrain": "land",
          "value": 1,
          "x": 3,
          "y": 13
         },
         {
          "terrain": "ocean",
          "value": 0,
          "x": 4,
          "y": 13
         },
         {
          "terrain": "land",
          "value": 1,
          "x": 5,
          "y": 13
         },
         {
          "terrain": "ocean",
          "value": -1,
          "x": 6,
          "y": 13
         },
         {
          "terrain": "ocean",
          "value": 0,
          "x": 7,
          "y": 13
         },
         {
          "terrain": "ocean",
          "value": -1,
          "x": 8,
          "y": 13
         },
         {
          "terrain": "land",
          "value": 1,
          "x": 9,
          "y": 13
         },
         {
          "terrain": "ocean",
          "value": 0,
          "x": 10,
          "y": 13
         },
         {
          "terrain": "ocean",
          "value": -1,
          "x": 11,
          "y": 13
         },
         {
          "terrain": "ocean",
          "value": -1,
          "x": 12,
          "y": 13
         },
         {
          "terrain": "ocean",
          "value": -1,
          "x": 13,
          "y": 13
         },
         {
          "terrain": "ocean",
          "value": 0,
          "x": 14,
          "y": 13
         },
         {
          "terrain": "ocean",
          "value": -1,
          "x": 15,
          "y": 13
         },
         {
          "terrain": "ocean",
          "value": -1,
          "x": 16,
          "y": 13
         },
         {
          "terrain": "ocean",
          "value": 0,
          "x": 17,
          "y": 13
         },
         {
          "terrain": "land",
          "value": 1,
          "x": 18,
          "y": 13
         },
         {
          "terrain": "ocean",
          "value": -1,
          "x": 19,
          "y": 13
         },
         {
          "terrain": "land",
          "value": 1,
          "x": 20,
          "y": 13
         },
         {
          "terrain": "land",
          "value": 1,
          "x": 21,
          "y": 13
         },
         {
          "terrain": "ocean",
          "value": 0,
          "x": 22,
          "y": 13
         },
         {
          "terrain": "ocean",
          "value": -1,
          "x": 23,
          "y": 13
         },
         {
          "terrain": "land",
          "value": 1,
          "x": 24,
          "y": 13
         },
         {
          "terrain": "land",
          "value": 1,
          "x": 25,
          "y": 13
         },
         {
          "terrain": "land",
          "value": 2,
          "x": 26,
          "y": 13
         },
         {
          "terrain": "land",
          "value": 5,
          "x": 27,
          "y": 13
         },
         {
          "terrain": "land",
          "value": 9,
          "x": 28,
          "y": 13
         },
         {
          "terrain": "land",
          "value": 19,
          "x": 29,
          "y": 13
         },
         {
          "terrain": "mountain",
          "value": 25,
          "x": 30,
          "y": 13
         },
         {
          "terrain": "mountain",
          "value": 32,
          "x": 31,
          "y": 13
         },
         {
          "terrain": "mountain",
          "value": 42,
          "x": 32,
          "y": 13
         },
         {
          "terrain": "mountain",
          "value": 57,
          "x": 33,
          "y": 13
         },
         {
          "terrain": "mountain",
          "value": 70,
          "x": 34,
          "y": 13
         },
         {
          "terrain": "mountain",
          "value": 77,
          "x": 35,
          "y": 13
         },
         {
          "terrain": "mountain",
          "value": 72,
          "x": 36,
          "y": 13
         },
         {
          "terrain": "mountain",
          "value": 63,
          "x": 37,
          "y": 13
         },
         {
          "terrain": "mountain",
          "value": 47,
          "x": 38,
          "y": 13
         },
         {
          "terrain": "mountain",
          "value": 34,
          "x": 39,
          "y": 13
         },
         {
          "terrain": "land",
          "value": 6,
          "x": 0,
          "y": 14
         },
         {
          "terrain": "land",
          "value": 3,
          "x": 1,
          "y": 14
         },
         {
          "terrain": "land",
          "value": 4,
          "x": 2,
          "y": 14
         },
         {
          "terrain": "ocean",
          "value": 0,
          "x": 3,
          "y": 14
         },
         {
          "terrain": "ocean",
          "value": -1,
          "x": 4,
          "y": 14
         },
         {
          "terrain": "ocean",
          "value": -1,
          "x": 5,
          "y": 14
         },
         {
          "terrain": "ocean",
          "value": -1,
          "x": 6,
          "y": 14
         },
         {
          "terrain": "ocean",
          "value": -1,
          "x": 7,
          "y": 14
         },
         {
          "terrain": "land",
          "value": 1,
          "x": 8,
          "y": 14
         },
         {
          "terrain": "land",
          "value": 1,
          "x": 9,
          "y": 14
         },
         {
          "terrain": "ocean",
          "value": -1,
          "x": 10,
          "y": 14
         },
         {
          "terrain": "ocean",
          "value": -2,
          "x": 11,
          "y": 14
         },
         {
          "terrain": "ocean",
          "value": 0,
          "x": 12,
          "y": 14
         },
         {
          "terrain": "land",
          "value": 2,
          "x": 13,
          "y": 14
         },
         {
          "terrain": "ocean",
          "value": 0,
          "x": 14,
          "y": 14
         },
         {
          "terrain": "land",
          "value": 1,
          "x": 15,
          "y": 14
         },
         {
          "terrain": "ocean",
          "value": 0,
          "x": 16,
          "y": 14
         },
         {
          "terrain": "ocean",
          "value": 0,
          "x": 17,
          "y": 14
         },
         {
          "terrain": "land",
          "value": 1,
          "x": 18,
          "y": 14
         },
         {
          "terrain": "ocean",
          "value": 0,
          "x": 19,
          "y": 14
         },
         {
          "terrain": "land",
          "value": 1,
          "x": 20,
          "y": 14
         },
         {
          "terrain": "land",
          "value": 1,
          "x": 21,
          "y": 14
         },
         {
          "terrain": "land",
          "value": 1,
          "x": 22,
          "y": 14
         },
         {
          "terrain": "ocean",
          "value": 0,
          "x": 23,
          "y": 14
         },
         {
          "terrain": "ocean",
          "value": 0,
          "x": 24,
          "y": 14
         },
         {
          "terrain": "land",
          "value": 2,
          "x": 25,
          "y": 14
         },
         {
          "terrain": "land",
          "value": 4,
          "x": 26,
          "y": 14
         },
         {
          "terrain": "land",
          "value": 4,
          "x": 27,
          "y": 14
         },
         {
          "terrain": "land",
          "value": 10,
          "x": 28,
          "y": 14
         },
         {
          "terrain": "land",
          "value": 17,
          "x": 29,
          "y": 14
         },
         {
          "terrain": "land",
          "value": 21,
          "x": 30,
          "y": 14
         },
         {
          "terrain": "mountain",
          "value": 29,
          "x": 31,
          "y": 14
         },
         {
          "terrain": "mountain",
          "value": 35,
          "x": 32,
          "y": 14
         },
         {
          "terrain": "mountain",
          "value": 48,
          "x": 33,
          "y": 14
         },
         {
          "terrain": "mountain",
          "value": 60,
          "x": 34,
          "y": 14
         },
         {
          "terrain": "mountain",
          "value": 68,
          "x": 35,
          "y": 14
         },
         {
          "terrain": "mountain",
          "value": 67,
          "x": 36,
          "y": 14
         },
         {
          "terrain": "mountain",
          "value": 61,
          "x": 37,
          "y": 14
         },
         {
          "terrain": "mountain",
          "value": 48,
          "x": 38,
          "y": 14
         },
         {
          "terrain": "mountain",
          "value": 34,
          "x": 39,
          "y": 14
         },
         {
          "terrain": "land",
          "value": 10,
          "x": 0,
          "y": 15
         },
         {
          "terrain": "land",
          "value": 9,
          "x": 1,
          "y": 15
         },
         {
          "terrain": "land",
          "value": 3,
          "x": 2,
          "y": 15
         },
         {
          "terrain": "land",
          "value": 1,
          "x": 3,
          "y": 15
         },
         {
          "terrain": "land",
          "value": 1,
          "x": 4,
          "y": 15
         },
         {
          "terrain": "ocean",
          "value": 0,
          "x": 5,
          "y": 15
         },
         {
          "terrain": "land",
          "value": 1,
          "x": 6,
          "y": 15
         },
         {
          "terrain": "ocean",
          "value": 0,
          "x": 7,
          "y": 15
         },
         {
          "terrain": "land",
          "value": 1,
          "x": 8,
          "y": 15
         },
         {
          "terrain": "land",
          "value": 1,
          "x": 9,
          "y": 15
         },
         {
          "terrain": "ocean",
          "value": 0,
          "x": 10,
          "y": 15
         },
         {
          "terrain": "ocean",
          "value": -2,
          "x": 11,
          "y": 15
         },
         {
          "terrain": "ocean",
          "value": -1,
          "x": 12,
          "y": 15
         },
         {
          "terrain": "ocean",
          "value": 0,
          "x": 13,
          "y": 15
         },
         {
          "terrain": "land",
          "value": 1,
          "x": 14,
          "y": 15
         },
         {
          "terrain": "ocean",
          "value": 0,
          "x": 15,
          "y": 15
         },
         {
          "terrain": "ocean",
          "value": -1,
          "x": 16,
          "y": 15
         },
         {
          "terrain": "ocean",
          "value": 0,
          "x": 17,
          "y": 15
         },
         {
          "terrain": "ocean",
          "value": -1,
          "x": 18,
          "y": 15
         },
         {
          "terrain": "ocean",
          "value": 0,
          "x": 19,
          "y": 15
         },
         {
          "terrain": "ocean",
          "value": 0,
          "x": 20,
          "y": 15
         },
         {
          "terrain": "ocean",
          "value": 0,
          "x": 21,
          "y": 15
         },
         {
          "terrain": "land",
          "value": 1,
          "x": 22,
          "y": 15
         },
         {
          "terrain": "ocean",
          "value": 0,
          "x": 23,
          "y": 15
         },
         {
          "terrain": "ocean",
          "value": 0,
          "x": 24,
          "y": 15
         },
         {
          "terrain": "land",
          "value": 1,
          "x": 25,
          "y": 15
         },
         {
          "terrain": "land",
          "value": 4,
          "x": 26,
          "y": 15
         },
         {
          "terrain": "land",
          "value": 4,
          "x": 27,
          "y": 15
         },
         {
          "terrain": "land",
          "value": 9,
          "x": 28,
          "y": 15
         },
         {
          "terrain": "land",
          "value": 14,
          "x": 29,
          "y": 15
         },
         {
          "terrain": "land",
          "value": 17,
          "x": 30,
          "y": 15
         },
         {
          "terrain": "land",
          "value": 23,
          "x": 31,
          "y": 15
         },
         {
          "terrain": "mountain",
          "value": 30,
          "x": 32,
          "y": 15
         },
         {
          "terrain": "mountain",
          "value": 35,
          "x": 33,
          "y": 15
         },
         {
          "terrain": "mountain",
          "value": 45,
          "x": 34,
          "y": 15
         },
         {
          "terrain": "mountain",
          "value": 51,
          "x": 35,
          "y": 15
         },
         {
          "terrain": "mountain",
          "value": 53,
          "x": 36,
          "y": 15
         },
         {
          "terrain": "mountain",
          "value": 53,
          "x": 37,
          "y": 15
         },
         {
          "terrain": "mountain",
          "value": 45,
          "x": 38,
          "y": 15
         },
         {
          "terrain": "mountain",
          "value": 33,
          "x": 39,
          "y": 15
         },
         {
          "terrain": "land",
          "value": 14,
          "x": 0,
          "y": 16
         },
         {
          "terrain": "land",
          "value": 10,
          "x": 1,
          "y": 16
         },
         {
          "terrain": "land",
          "value": 5,
          "x": 2,
          "y": 16
         },
         {
          "terrain": "land",
          "value": 3,
          "x": 3,
          "y": 16
         },
         {
          "terrain": "land",
          "value": 3,
          "x": 4,
          "y": 16
         },
         {
          "terrain": "land",
          "value": 2,
          "x": 5,
          "y": 16
         },
         {
          "terrain": "land",
          "value": 2,
          "x": 6,
          "y": 16
         },
         {
          "terrain": "land",
          "value": 2,
          "x": 7,
          "y": 16
         },
         {
          "terrain": "land",
          "value": 1,
          "x": 8,
          "y": 16
         },
         {
          "terrain": "land",
          "value": 1,
          "x": 9,
          "y": 16
         },
         {
          "terrain": "land",
          "value": 2,
          "x": 10,
          "y": 16
         },
         {
          "terrain": "land",
          "value": 1,
          "x": 11,
          "y": 16
         },
         {
          "terrain": "ocean",
          "value": 0,
          "x": 12,
          "y": 16
         },
         {
          "terrain": "land",
          "value": 2,
          "x": 13,
          "y": 16
         },
         {
          "terrain": "land",
          "value": 2,
          "x": 14,
          "y": 16
         },
         {
          "terrain": "land",
          "value": 1,
          "x": 15,
          "y": 16
         },
         {
          "terrain": "land",
          "value": 1,
          "x": 16,
          "y": 16
         },
         {
          "terrain": "land",
          "value": 1,
          "x": 17,
          "y": 16
         },
         {
          "terrain": "ocean",
          "value": 0,
          "x": 18,
          "y": 16
         },
         {
          "terrain": "land",
          "value": 1,
          "x": 19,
          "y": 16
         },
         {
          "terrain": "ocean",
          "value": 0,
          "x": 20,
          "y": 16
         },
         {
          "terrain": "ocean",
          "value": 0,
          "x": 21,
          "y": 16
         },
         {
          "terrain": "land",
          "value": 2,
          "x": 22,
          "y": 16
         },
         {
          "terrain": "land",
          "value": 2,
          "x": 23,
          "y": 16
         },
         {
          "terrain": "land",
          "value": 1,
          "x": 24,
          "y": 16
         },
         {
          "terrain": "land",
          "value": 1,
          "x": 25,
          "y": 16
         },
         {
          "terrain": "land",
          "value": 2,
          "x": 26,
          "y": 16
         },
         {
          "terrain": "land",
          "value": 4,
          "x": 27,
          "y": 16
         },
         {
          "terrain": "land",
          "value": 8,
          "x": 28,
          "y": 16
         },
         {
          "terrain": "land",
          "value": 11,
          "x": 29,
          "y": 16
         },
         {
          "terrain": "land",
          "value": 17,
          "x": 30,
          "y": 16
         },
         {
          "terrain": "land",
          "value": 19,
          "x": 31,
          "y": 16
         },
         {
          "terrain": "land",
          "value": 22,
          "x": 32,
          "y": 16
         },
         {
          "terrain": "mountain",
          "value": 27,
          "x": 33,
          "y": 16
         },
         {
          "terrain": "mountain",
          "value": 33,
          "x": 34,
          "y": 16
         },
         {
          "terrain": "mountain",
          "value": 37,
          "x": 35,
          "y": 16
         },
         {
          "terrain": "mountain",
          "value": 44,
          "x": 36,
          "y": 16
         },
         {
          "terrain": "mountain",
          "value": 39,
          "x": 37,
          "y": 16
         },
         {
          "terrain": "mountain",
          "value": 40,
          "x": 38,
          "y": 16
         },
         {
          "terrain": "mountain",
          "value": 33,
          "x": 39,
          "y": 16
         },
         {
          "terrain": "land",
          "value": 18,
          "x": 0,
          "y": 17
         },
         {
          "terrain": "land",
          "value": 15,
          "x": 1,
          "y": 17
         },
         {
          "terrain": "land",
          "value": 9,
          "x": 2,
          "y": 17
         },
         {
          "terrain": "land",
          "value": 6,
          "x": 3,
          "y": 17
         },
         {
          "terrain": "land",
          "value": 6,
          "x": 4,
          "y": 17
         },
         {
          "terrain": "land",
          "value": 5,
          "x": 5,
          "y": 17
         },
         {
          "terrain": "land",
          "value": 4,
          "x": 6,
          "y": 17
         },
         {
          "terrain": "land",
          "value": 2,
          "x": 7,
          "y": 17
         },
         {
          "terrain": "land",
          "value": 4,
          "x": 8,
          "y": 17
         },
         {
          "terrain": "land",
          "value": 5,
          "x": 9,
          "y": 17
         },
         {
          "terrain": "land",
          "value": 2,
          "x": 10,
          "y": 17
         },
         {
          "terrain": "land",
          "value": 3,
          "x": 11,
          "y": 17
         },
         {
          "terrain": "land",
          "value": 2,
          "x": 12,
          "y": 17
         },
         {
          "terrain": "land",
          "value": 3,
          "x": 13,
          "y": 17
         },
         {
          "terrain": "land",
          "value": 3,
          "x": 14,
          "y": 17
         },
         {
          "terrain": "land",
          "value": 1,
          "x": 15,
          "y": 17
         },
         {
          "terrain": "ocean",
          "value": -1,
          "x": 16,
          "y": 17
         },
         {
          "terrain": "land",
          "value": 2,
          "x": 17,
          "y": 17
         },
         {
          "terrain": "ocean",
          "value": -2,
          "x": 18,
          "y": 17
         },
         {
          "terrain": "ocean",
          "value": 0,
          "x": 19,
          "y": 17
         },
         {
          "terrain": "ocean",
          "value": 0,
          "x": 20,
          "y": 17
         },
         {
          "terrain": "ocean",
          "value": -1,
          "x": 21,
          "y": 17
         },
         {
          "terrain": "land",
          "value": 1,
          "x": 22,
          "y": 17
         },
         {
          "terrain": "ocean",
          "value": 0,
          "x": 23,
          "y": 17
         },
         {
          "terrain": "land",
          "value": 1,
          "x": 24,
          "y": 17
         },
         {
          "terrain": "ocean",
          "value": 0,
          "x": 25,
          "y": 17
         },
         {
          "terrain": "land",
          "value": 3,
          "x": 26,
          "y": 17
         },
         {
          "terrain": "land",
          "value": 5,
          "x": 27,
          "y": 17
         },
         {
          "terrain": "land",
          "value": 9,
          "x": 28,
          "y": 17
         },
         {
          "terrain": "land",
          "value": 12,
          "x": 29,
          "y": 17
         },
         {
          "terrain": "land",
          "value": 13,
          "x": 30,
          "y": 17
         },
         {
          "terrain": "land",
          "value": 16,
          "x": 31,
          "y": 17
         },
         {
          "terrain": "land",
          "value": 17,
          "x": 32,
          "y": 17
         },
         {
          "terrain": "land",
          "value": 19,
          "x": 33,
          "y": 17
         },
         {
          "terrain": "land",
          "value": 24,
          "x": 34,
          "y": 17
         },
         {
          "terrain": "mountain",
          "value": 29,
          "x": 35,
          "y": 17
         },
         {
          "terrain": "mountain",
          "value": 30,
          "x": 36,
          "y": 17
         },
         {
          "terrain": "mountain",
          "value": 32,
          "x": 37,
          "y": 17
         },
         {
          "terrain": "mountain",
          "value": 30,
          "x": 38,
          "y": 17
         },
         {
          "terrain": "mountain",
          "value": 25,
          "x": 39,
          "y": 17
         },
         {
          "terrain": "land",
          "value": 21,
          "x": 0,
          "y": 18
         },
         {
          "terrain": "land",
          "value": 18,
          "x": 1,
          "y": 18
         },
         {
          "terrain": "land",
          "value": 13,
          "x": 2,
          "y": 18
         },
         {
          "terrain": "land",
          "value": 12,
          "x": 3,
          "y": 18
         },
         {
          "terrain": "land",
          "value": 8,
          "x": 4,
          "y": 18
         },
         {
          "terrain": "land",
          "value": 7,
          "x": 5,
          "y": 18
         },
         {
          "terrain": "land",
          "value": 6,
          "x": 6,
          "y": 18
         },
         {
          "terrain": "land",
          "value": 8,
          "x": 7,
          "y": 18
         },
         {
          "terrain": "land",
          "value": 4,
          "x": 8,
          "y": 18
         },
         {
          "terrain": "land",
          "value": 5,
          "x": 9,
          "y": 18
         },
         {
          "terrain": "land",
          "value": 5,
          "x": 10,
          "y": 18
         },
         {
          "terrain": "land",
          "value": 4,
          "x": 11,
          "y": 18
         },
         {
          "terrain": "land",
          "value": 4,
          "x": 12,
          "y": 18
         },
         {
          "terrain": "land",
          "value": 3,
          "x": 13,
          "y": 18
         },
         {
          "terrain": "land",
          "value": 1,
          "x": 14,
          "y": 18
         },
         {
          "terrain": "ocean",
          "value": -1,
          "x": 15,
          "y": 18
         },
         {
          "terrain": "land",
          "value": 2,
          "x": 16,
          "y": 18
         },
         {
          "terrain": "ocean",
          "value": 0,
          "x": 17,
          "y": 18
         },
         {
          "terrain": "ocean",
          "value": -1,
          "x": 18,
          "y": 18
         },
         {
          "terrain": "ocean",
          "value": 0,
          "x": 19,
          "y": 18
         },
         {
          "terrain": "land",
          "value": 3,
          "x": 20,
          "y": 18
         },
         {
          "terrain": "land",
          "value": 2,
          "x": 21,
          "y": 18
         },
         {
          "terrain": "ocean",
          "value": 0,
          "x": 22,
          "y": 18
         },
         {
          "terrain": "ocean",
          "value": -1,
          "x": 23,
          "y": 18
         },
         {
          "terrain": "ocean",
          "value": -1,
          "x": 24,
          "y": 18
         },
         {
          "terrain": "ocean",
          "value": -1,
          "x": 25,
          "y": 18
         },
         {
          "terrain": "land",
          "value": 4,
          "x": 26,
          "y": 18
         },
         {
          "terrain": "land",
          "value": 5,
          "x": 27,
          "y": 18
         },
         {
          "terrain": "land",
          "value": 4,
          "x": 28,
          "y": 18
         },
         {
          "terrain": "land",
          "value": 10,
          "x": 29,
          "y": 18
         },
         {
          "terrain": "land",
          "value": 11,
          "x": 30,
          "y": 18
         },
         {
          "terrain": "land",
          "value": 11,
          "x": 31,
          "y": 18
         },
         {
          "terrain": "land",
          "value": 12,
          "x": 32,
          "y": 18
         },
         {
          "terrain": "land",
          "value": 16,
          "x": 33,
          "y": 18
         },
         {
          "terrain": "land",
          "value": 19,
          "x": 34,
          "y": 18
         },
         {
          "terrain": "land",
          "value": 21,
          "x": 35,
          "y": 18
         },
         {
          "terrain": "land",
          "value": 21,
          "x": 36,
          "y": 18
         },
         {
          "terrain": "land",
          "value": 24,
          "x": 37,
          "y": 18
         },
         {
          "terrain": "land",
          "value": 23,
          "x": 38,
          "y": 18
         },
         {
          "terrain": "land",
          "value": 18,
          "x": 39,
          "y": 18
         },
         {
          "terrain": "mountain",
          "value": 25,
          "x": 0,
          "y": 19
         },
         {
          "terrain": "land",
          "value": 22,
          "x": 1,
          "y": 19
         },
         {
          "terrain": "land",
          "value": 19,
          "x": 2,
          "y": 19
         },
         {
          "terrain": "land",
          "value": 14,
          "x": 3,
          "y": 19
         },
         {
          "terrain": "land",
          "value": 12,
          "x": 4,
          "y": 19
         },
         {
          "terrain": "land",
          "value": 11,
          "x": 5,
          "y": 19
         },
         {
          "terrain": "land",
          "value": 11,
          "x": 6,
          "y": 19
         },
         {
          "terrain": "land",
          "value": 10,
          "x": 7,
          "y": 19
         },
         {
          "terrain": "land",
          "value": 9,
          "x": 8,
          "y": 19
         },
         {
          "terrain": "land",
          "value": 9,
          "x": 9,
          "y": 19
         },
         {
          "terrain": "land",
          "value": 8,
          "x": 10,
          "y": 19
         },
         {
          "terrain": "land",
          "value": 7,
          "x": 11,
          "y": 19
         },
         {
          "terrain": "land",
          "value": 5,
          "x": 12,
          "y": 19
         },
         {
          "terrain": "land",
          "value": 3,
          "x": 13,
          "y": 19
         },
         {
          "terrain": "land",
          "value": 3,
          "x": 14,
          "y": 19
         },
         {
          "terrain": "ocean",
          "value": 0,
          "x": 15,
          "y": 19
         },
         {
          "terrain": "ocean",
          "value": -2,
          "x": 16,
          "y": 19
         },
         {
          "terrain": "ocean",
          "value": 0,
          "x": 17,
          "y": 19
         },
         {
          "terrain": "ocean",
          "value": 0,
          "x": 18,
          "y": 19
         },
         {
          "terrain": "ocean",
          "value": 0,
          "x": 19,
          "y": 19
         },
         {
          "terrain": "land",
          "value": 2,
          "x": 20,
          "y": 19
         },
         {
          "terrain": "ocean",
          "value": 0,
          "x": 21,
          "y": 19
         },
         {
          "terrain": "land",
          "value": 1,
          "x": 22,
          "y": 19
         },
         {
          "terrain": "ocean",
          "value": -1,
          "x": 23,
          "y": 19
         },
         {
          "terrain": "land",
          "value": 1,
          "x": 24,
          "y": 19
         },
         {
          "terrain": "land",
          "value": 3,
          "x": 25,
          "y": 19
         },
         {
          "terrain": "land",
          "value": 2,
          "x": 26,
          "y": 19
         },
         {
          "terrain": "land",
          "value": 3,
          "x": 27,
          "y": 19
         },
         {
          "terrain": "land",
          "value": 7,
          "x": 28,
          "y": 19
         },
         {
          "terrain": "land",
          "value": 7,
          "x": 29,
          "y": 19
         },
         {
          "terrain": "land",
          "value": 10,
          "x": 30,
          "y": 19
         },
         {
          "terrain": "land",
          "value": 11,
          "x": 31,
          "y": 19
         },
         {
          "terrain": "land",
          "value": 9,
          "x": 32,
          "y": 19
         },
         {
          "terrain": "land",
          "value": 12,
          "x": 33,
          "y": 19
         },
         {
          "terrain": "land",
          "value": 11,
          "x": 34,
          "y": 19
         },
         {
          "terrain": "land",
          "value": 14,
          "x": 35,
          "y": 19
         },
         {
          "terrain": "land",
          "value": 14,
          "x": 36,
          "y": 19
         },
         {
          "terrain": "land",
          "value": 15,
          "x": 37,
          "y": 19
         },
         {
          "terrain": "land",
          "value": 15,
          "x": 38,
          "y": 19
         },
         {
          "terrain": "land",
          "value": 13,
          "x": 39,
          "y": 19
         },
         {
          "terrain": "mountain",
          "value": 28,
          "x": 0,
          "y": 20
         },
         {
          "terrain": "land",
          "value": 23,
          "x": 1,
          "y": 20
         },
         {
          "terrain": "land",
          "value": 20,
          "x": 2,
          "y": 20
         },
         {
          "terrain": "land",
          "value": 16,
          "x": 3,
          "y": 20
         },
         {
          "terrain": "land",
          "value": 14,
          "x": 4,
          "y": 20
         },
         {
          "terrain": "land",
          "value": 14,
          "x": 5,
          "y": 20
         },
         {
          "terrain": "land",
          "value": 14,
          "x": 6,
          "y": 20
         },
         {
          "terrain": "land",
          "value": 10,
          "x": 7,
          "y": 20
         },
         {
          "terrain": "land",
          "value": 11,
          "x": 8,
          "y": 20
         },
         {
          "terrain": "land",
          "value": 11,
          "x": 9,
          "y": 20
         },
         {
          "terrain": "land",
          "value": 10,
          "x": 10,
          "y": 20
         },
         {
          "terrain": "land",
          "value": 7,
          "x": 11,
          "y": 20
         },
         {
          "terrain": "land",
          "value": 5,
          "x": 12,
          "y": 20
         },
         {
          "terrain": "land",
          "value": 2,
          "x": 13,
          "y": 20
         },
         {
          "terrain": "land",
          "value": 2,
          "x": 14,
          "y": 20
         },
         {
          "terrain": "land",
          "value": 2,
          "x": 15,
          "y": 20
         },
         {
          "terrain": "land",
          "value": 1,
          "x": 16,
          "y": 20
         },
         {
          "terrain": "ocean",
          "value": 0,
          "x": 17,
          "y": 20
         },
         {
          "terrain": "ocean",
          "value": 0,
          "x": 18,
          "y": 20
         },
         {
          "terrain": "ocean",
          "value": -1,
          "x": 19,
          "y": 20
         },
         {
          "terrain": "ocean",
          "value": -1,
          "x": 20,
          "y": 20
         },
         {
          "terrain": "ocean",
          "value": -1,
          "x": 21,
          "y": 20
         },
         {
          "terrain": "land",
          "value": 1,
          "x": 22,
          "y": 20
         },
         {
          "terrain": "land",
          "value": 1,
          "x": 23,
          "y": 20
         },
         {
          "terrain": "land",
          "value": 2,
          "x": 24,
          "y": 20
         },
         {
          "terrain": "land",
          "value": 2,
          "x": 25,
          "y": 20
         },
         {
          "terrain": "land",
          "value": 3,
          "x": 26,
          "y": 20
         },
         {
          "terrain": "land",
          "value": 4,
          "x": 27,
          "y": 20
         },
         {
          "terrain": "land",
          "value": 5,
          "x": 28,
          "y": 20
         },
         {
          "terrain": "land",
          "value": 6,
          "x": 29,
          "y": 20
         },
         {
          "terrain": "land",
          "value": 5,
          "x": 30,
          "y": 20
         },
         {
          "terrain": "land",
          "value": 6,
          "x": 31,
          "y": 20
         },
         {
          "terrain": "land",
          "value": 6,
          "x": 32,
          "y": 20
         },
         {
          "terrain": "land",
          "value": 7,
          "x": 33,
          "y": 20
         },
         {
          "terrain": "land",
          "value": 7,
          "x": 34,
          "y": 20
         },
         {
          "terrain": "land",
          "value": 9,
          "x": 35,
          "y": 20
         },
         {
          "terrain": "land",
          "value": 9,
          "x": 36,
          "y": 20
         },
         {
          "terrain": "land",
          "value": 9,
          "x": 37,
          "y": 20
         },
         {
          "terrain": "land",
          "value": 5,
          "x": 38,
          "y": 20
         },
         {
          "terrain": "land",
          "value": 6,
          "x": 39,
          "y": 20
         },
         {
          "terrain": "mountain",
          "value": 26,
          "x": 0,
          "y": 21
         },
         {
          "terrain": "land",
          "value": 22,
          "x": 1,
          "y": 21
         },
         {
          "terrain": "land",
          "value": 22,
          "x": 2,
          "y": 21
         },
         {
          "terrain": "land",
          "value": 20,
          "x": 3,
          "y": 21
         },
         {
          "terrain": "land",
          "value": 18,
          "x": 4,
          "y": 21
         },
         {
          "terrain": "land",
          "value": 17,
          "x": 5,
          "y": 21
         },
         {
          "terrain": "land",
          "value": 15,
          "x": 6,
          "y": 21
         },
         {
          "terrain": "land",
          "value": 15,
          "x": 7,
          "y": 21
         },
         {
          "terrain": "land",
          "value": 14,
          "x": 8,
          "y": 21
         },
         {
          "terrain": "land",
          "value": 12,
          "x": 9,
          "y": 21
         },
         {
          "terrain": "land",
          "value": 9,
          "x": 10,
          "y": 21
         },
         {
          "terrain": "land",
          "value": 7,
          "x": 11,
          "y": 21
         },
         {
          "terrain": "land",
          "value": 4,
          "x": 12,
          "y": 21
         },
         {
          "terrain": "land",
          "value": 3,
          "x": 13,
          "y": 21
         },
         {
          "terrain": "land",
          "value": 2,
          "x": 14,
          "y": 21
         },
         {
          "terrain": "land",
          "value": 2,
          "x": 15,
          "y": 21
         },
         {
          "terrain": "ocean",
          "value": -1,
          "x": 16,
          "y": 21
         },
         {
          "terrain": "ocean",
          "value": -1,
          "x": 17,
          "y": 21
         },
         {
          "terrain": "ocean",
          "value": -1,
          "x": 18,
          "y": 21
         },
         {
          "terrain": "land",
          "value": 1,
          "x": 19,
          "y": 21
         },
         {
          "terrain": "land",
          "value": 1,
          "x": 20,
          "y": 21
         },
         {
          "terrain": "ocean",
          "value": 0,
          "x": 21,
          "y": 21
         },
         {
          "terrain": "land",
          "value": 1,
          "x": 22,
          "y": 21
         },
         {
          "terrain": "land",
          "value": 3,
          "x": 23,
          "y": 21
         },
         {
          "terrain": "land",
          "value": 5,
          "x": 24,
          "y": 21
         },
         {
          "terrain": "land",
          "value": 5,
          "x": 25,
          "y": 21
         },
         {
          "terrain": "land",
          "value": 5,
          "x": 26,
          "y": 21
         },
         {
          "terrain": "land",
          "value": 4,
          "x": 27,
          "y": 21
         },
         {
          "terrain": "land",
          "value": 4,
          "x": 28,
          "y": 21
         },
         {
          "terrain": "land",
          "value": 5,
          "x": 29,
          "y": 21
         },
         {
          "terrain": "land",
          "value": 5,
          "x": 30,
          "y": 21
         },
         {
          "terrain": "land",
          "value": 4,
          "x": 31,
          "y": 21
         },
         {
          "terrain": "land",
          "value": 3,
          "x": 32,
          "y": 21
         },
         {
          "terrain": "land",
          "value": 4,
          "x": 33,
          "y": 21
         },
         {
          "terrain": "land",
          "value": 4,
          "x": 34,
          "y": 21
         },
         {
          "terrain": "land",
          "value": 4,
          "x": 35,
          "y": 21
         },
         {
          "terrain": "land",
          "value": 5,
          "x": 36,
          "y": 21
         },
         {
          "terrain": "land",
          "value": 4,
          "x": 37,
          "y": 21
         },
         {
          "terrain": "land",
          "value": 4,
          "x": 38,
          "y": 21
         },
         {
          "terrain": "land",
          "value": 2,
          "x": 39,
          "y": 21
         },
         {
          "terrain": "land",
          "value": 21,
          "x": 0,
          "y": 22
         },
         {
          "terrain": "land",
          "value": 23,
          "x": 1,
          "y": 22
         },
         {
          "terrain": "land",
          "value": 21,
          "x": 2,
          "y": 22
         },
         {
          "terrain": "land",
          "value": 21,
          "x": 3,
          "y": 22
         },
         {
          "terrain": "land",
          "value": 21,
          "x": 4,
          "y": 22
         },
         {
          "terrain": "land",
          "value": 21,
          "x": 5,
          "y": 22
         },
         {
          "terrain": "land",
          "value": 19,
          "x": 6,
          "y": 22
         },
         {
          "terrain": "land",
          "value": 18,
          "x": 7,
          "y": 22
         },
         {
          "terrain": "land",
          "value": 14,
          "x": 8,
          "y": 22
         },
         {
          "terrain": "land",
          "value": 13,
          "x": 9,
          "y": 22
         },
         {
          "terrain": "land",
          "value": 10,
          "x": 10,
          "y": 22
         },
         {
          "terrain": "land",
          "value": 7,
          "x": 11,
          "y": 22
         },
         {
          "terrain": "land",
          "value": 4,
          "x": 12,
          "y": 22
         },
         {
          "terrain": "land",
          "value": 4,
          "x": 13,
          "y": 22
         },
         {
          "terrain": "land",
          "value": 3,
          "x": 14,
          "y": 22
         },
         {
          "terrain": "land",
          "value": 1,
          "x": 15,
          "y": 22
         },
         {
          "terrain": "land",
          "value": 1,
          "x": 16,
          "y": 22
         },
         {
          "terrain": "ocean",
          "value": 0,
          "x": 17,
          "y": 22
         },
         {
          "terrain": "ocean",
          "value": -1,
          "x": 18,
          "y": 22
         },
         {
          "terrain": "land",
          "value": 1,
          "x": 19,
          "y": 22
         },
         {
          "terrain": "ocean",
          "value": -1,
          "x": 20,
          "y": 22
         },
         {
          "terrain": "ocean",
          "value": 0,
          "x": 21,
          "y": 22
         },
         {
          "terrain": "land",
          "value": 1,
          "x": 22,
          "y": 22
         },
         {
          "terrain": "land",
          "value": 1,
          "x": 23,
          "y": 22
         },
         {
          "terrain": "land",
          "value": 6,
          "x": 24,
          "y": 22
         },
         {
          "terrain": "land",
          "value": 8,
          "x": 25,
          "y": 22
         },
         {
          "terrain": "land",
          "value": 6,
          "x": 26,
          "y": 22
         },
         {
          "terrain": "land",
          "value": 6,
          "x": 27,
          "y": 22
         },
         {
          "terrain": "land",
          "value": 6,
          "x": 28,
          "y": 22
         },
         {
          "terrain": "land",
          "value": 5,
          "x": 29,
          "y": 22
         },
         {
          "terrain": "land",
          "value": 8,
          "x": 30,
          "y": 22
         },
         {
          "terrain": "land",
          "value": 5,
          "x": 31,
          "y": 22
         },
         {
          "terrain": "land",
          "value": 6,
          "x": 32,
          "y": 22
         },
         {
          "terrain": "land",
          "value": 6,
          "x": 33,
          "y": 22
         },
         {
          "terrain": "land",
          "value": 8,
          "x": 34,
          "y": 22
         },
         {
          "terrain": "land",
          "value": 8,
          "x": 35,
          "y": 22
         },
         {
          "terrain": "land",
          "value": 7,
          "x": 36,
          "y": 22
         },
         {
          "terrain": "land",
          "value": 5,
          "x": 37,
          "y": 22
         },
         {
          "terrain": "land",
          "value": 6,
          "x": 38,
          "y": 22
         },
         {
          "terrain": "land",
          "value": 2,
          "x": 39,
          "y": 22
         },
         {
          "terrain": "land",
          "value": 17,
          "x": 0,
          "y": 23
         },
         {
          "terrain": "land",
          "value": 22,
          "x": 1,
          "y": 23
         },
         {
          "terrain": "land",
          "value": 24,
          "x": 2,
          "y": 23
         },
         {
          "terrain": "mountain",
          "value": 25,
          "x": 3,
          "y": 23
         },
         {
          "terrain": "mountain",
          "value": 28,
          "x": 4,
          "y": 23
         },
         {
          "terrain": "mountain",
          "value": 29,
          "x": 5,
          "y": 23
         },
         {
          "terrain": "mountain",
          "value": 26,
          "x": 6,
          "y": 23
         },
         {
          "terrain": "land",
          "value": 24,
          "x": 7,
          "y": 23
         },
         {
          "terrain": "land",
          "value": 20,
          "x": 8,
          "y": 23
         },
         {
          "terrain": "land",
          "value": 16,
          "x": 9,
          "y": 23
         },
         {
          "terrain": "land",
          "value": 10,
          "x": 10,
          "y": 23
         },
         {
          "terrain": "land",
          "value": 7,
          "x": 11,
          "y": 23
         },
         {
          "terrain": "land",
          "value": 6,
          "x": 12,
          "y": 23
         },
         {
          "terrain": "land",
          "value": 4,
          "x": 13,
          "y": 23
         },
         {
          "terrain": "land",
          "value": 3,
          "x": 14,
          "y": 23
         },
         {
          "terrain": "land",
          "value": 1,
          "x": 15,
          "y": 23
         },
         {
          "terrain": "land",
          "value": 1,
          "x": 16,
          "y": 23
         },
         {
          "terrain": "land",
          "value": 1,
          "x": 17,
          "y": 23
         },
         {
          "terrain": "ocean",
          "value": -2,
          "x": 18,
          "y": 23
         },
         {
          "terrain": "ocean",
          "value": 0,
          "x": 19,
          "y": 23
         },
         {
          "terrain": "ocean",
          "value": 0,
          "x": 20,
          "y": 23
         },
         {
          "terrain": "ocean",
          "value": 0,
          "x": 21,
          "y": 23
         },
         {
          "terrain": "land",
          "value": 1,
          "x": 22,
          "y": 23
         },
         {
          "terrain": "land",
          "value": 4,
          "x": 23,
          "y": 23
         },
         {
          "terrain": "land",
          "value": 6,
          "x": 24,
          "y": 23
         },
         {
          "terrain": "land",
          "value": 7,
          "x": 25,
          "y": 23
         },
         {
          "terrain": "land",
          "value": 10,
          "x": 26,
          "y": 23
         },
         {
          "terrain": "land",
          "value": 9,
          "x": 27,
          "y": 23
         },
         {
          "terrain": "land",
          "value": 10,
          "x": 28,
          "y": 23
         },
         {
          "terrain": "land",
          "value": 11,
          "x": 29,
          "y": 23
         },
         {
          "terrain": "land",
          "value": 9,
          "x": 30,
          "y": 23
         },
         {
          "terrain": "land",
          "value": 10,
          "x": 31,
          "y": 23
         },
         {
          "terrain": "land",
          "value": 8,
          "x": 32,
          "y": 23
         },
         {
          "terrain": "land",
          "value": 9,
          "x": 33,
          "y": 23
         },
         {
          "terrain": "land",
          "value": 11,
          "x": 34,
          "y": 23
         },
         {
          "terrain": "land",
          "value": 8,
          "x": 35,
          "y": 23
         },
         {
          "terrain": "land",
          "value": 10,
          "x": 36,
          "y": 23
         },
         {
          "terrain": "land",
          "value": 9,
          "x": 37,
          "y": 23
         },
         {
          "terrain": "land",
          "value": 4,
          "x": 38,
          "y": 23
         },
         {
          "terrain": "land",
          "value": 1,
          "x": 39,
          "y": 23
         },
         {
          "terrain": "land",
          "value": 15,
          "x": 0,
          "y": 24
         },
         {
          "terrain": "land",
          "value": 19,
          "x": 1,
          "y": 24
         },
         {
          "terrain": "mountain",
          "value": 25,
          "x": 2,
          "y": 24
         },
         {
          "terrain": "mountain",
          "value": 29,
          "x": 3,
          "y": 24
         },
         {
          "terrain": "mountain",
          "value": 33,
          "x": 4,
          "y": 24
         },
         {
          "terrain": "mountain",
          "value": 34,
          "x": 5,
          "y": 24
         },
         {
          "terrain": "mountain",
          "value": 32,
          "x": 6,
          "y": 24
         },
         {
          "terrain": "mountain",
          "value": 31,
          "x": 7,
          "y": 24
         },
         {
          "terrain": "mountain",
          "value": 25,
          "x": 8,
          "y": 24
         },
         {
          "terrain": "land",
          "value": 18,
          "x": 9,
          "y": 24
         },
         {
          "terrain": "land",
          "value": 14,
          "x": 10,
          "y": 24
         },
         {
          "terrain": "land",
          "value": 8,
          "x": 11,
          "y": 24
         },
         {
          "terrain": "land",
          "value": 5,
          "x": 12,
          "y": 24
         },
         {
          "terrain": "land",
          "value": 4,
          "x": 13,
          "y": 24
         },
         {
          "terrain": "land",
          "value": 3,
          "x": 14,
          "y": 24
         },
         {
          "terrain": "land",
          "value": 1,
          "x": 15,
          "y": 24
         },
         {
          "terrain": "ocean",
          "value": -1,
          "x": 16,
          "y": 24
         },
         {
          "terrain": "ocean",
          "value": -1,
          "x": 17,
          "y": 24
         },
         {
          "terrain": "land",
          "value": 1,
          "x": 18,
          "y": 24
         },
         {
          "terrain": "ocean",
          "value": 0,
          "x": 19,
          "y": 24
         },
         {
          "terrain": "ocean",
          "value": 0,
          "x": 20,
          "y": 24
         },
         {
          "terrain": "land",
          "value": 1,
          "x": 21,
          "y": 24
         },
         {
          "terrain": "land",
          "value": 2,
          "x": 22,
          "y": 24
         },
         {
          "terrain": "land",
          "value": 6,
          "x": 23,
          "y": 24
         },
         {
          "terrain": "land",
          "value": 7,
          "x": 24,
          "y": 24
         },
         {
          "terrain": "land",
          "value": 10,
          "x": 25,
          "y": 24
         },
         {
          "terrain": "land",
          "value": 16,
          "x": 26,
          "y": 24
         },
         {
          "terrain": "land",
          "value": 21,
          "x": 27,
          "y": 24
         },
         {
          "terrain": "land",
          "value": 21,
          "x": 28,
          "y": 24
         },
         {
          "terrain": "land",
          "value": 20,
          "x": 29,
          "y": 24
         },
         {
          "terrain": "land",
          "value": 16,
          "x": 30,
          "y": 24
         },
         {
          "terrain": "land",
          "value": 14,
          "x": 31,
          "y": 24
         },
         {
          "terrain": "land",
          "value": 14,
          "x": 32,
          "y": 24
         },
         {
          "terrain": "land",
          "value": 15,
          "x": 33,
          "y": 24
         },
         {
          "terrain": "land",
          "value": 15,
          "x": 34,
          "y": 24
         },
         {
          "terrain": "land",
          "value": 14,
          "x": 35,
          "y": 24
         },
         {
          "terrain": "land",
          "value": 12,
          "x": 36,
          "y": 24
         },
         {
          "terrain": "land",
          "value": 10,
          "x": 37,
          "y": 24
         },
         {
          "terrain": "land",
          "value": 6,
          "x": 38,
          "y": 24
         },
         {
          "terrain": "land",
          "value": 1,
          "x": 39,
          "y": 24
         },
         {
          "terrain": "land",
          "value": 20,
          "x": 0,
          "y": 25
         },
         {
          "terrain": "mountain",
          "value": 27,
          "x": 1,
          "y": 25
         },
         {
          "terrain": "mountain",
          "value": 32,
          "x": 2,
          "y": 25
         },
         {
          "terrain": "mountain",
          "value": 34,
          "x": 3,
          "y": 25
         },
         {
          "terrain": "mountain",
          "value": 38,
          "x": 4,
          "y": 25
         },
         {
          "terrain": "mountain",
          "value": 37,
          "x": 5,
          "y": 25
         },
         {
          "terrain": "mountain",
          "value": 34,
          "x": 6,
          "y": 25
         },
         {
          "terrain": "mountain",
          "value": 36,
          "x": 7,
          "y": 25
         },
         {
          "terrain": "mountain",
          "value": 26,
          "x": 8,
          "y": 25
         },
         {
          "terrain": "land",
          "value": 21,
          "x": 9,
          "y": 25
         },
         {
          "terrain": "land",
          "value": 15,
          "x": 10,
          "y": 25
         },
         {
          "terrain": "land",
          "value": 10,
          "x": 11,
          "y": 25
         },
         {
          "terrain": "land",
          "value": 10,
          "x": 12,
          "y": 25
         },
         {
          "terrain": "land",
          "value": 3,
          "x": 13,
          "y": 25
         },
         {
          "terrain": "land",
          "value": 2,
          "x": 14,
          "y": 25
         },
         {
          "terrain": "land",
          "value": 2,
          "x": 15,
          "y": 25
         },
         {
          "terrain": "land",
          "value": 1,
          "x": 16,
          "y": 25
         },
         {
          "terrain": "land",
          "value": 1,
          "x": 17,
          "y": 25
         },
         {
          "terrain": "ocean",
          "value": -1,
          "x": 18,
          "y": 25
         },
         {
          "terrain": "ocean",
          "value": 0,
          "x": 19,
          "y": 25
         },
         {
          "terrain": "ocean",
          "value": -1,
          "x": 20,
          "y": 25
         },
         {
          "terrain": "ocean",
          "value": 0,
          "x": 21,
          "y": 25
         },
         {
          "terrain": "land",
          "value": 3,
          "x": 22,
          "y": 25
         },
         {
          "terrain": "land",
          "value": 7,
          "x": 23,
          "y": 25
         },
         {
          "terrain": "land",
          "value": 11,
          "x": 24,
          "y": 25
         },
         {
          "terrain": "land",
          "value": 13,
          "x": 25,
          "y": 25
         },
         {
          "terrain": "land",
          "value": 22,
          "x": 26,
          "y": 25
         },
         {
          "terrain": "mountain",
          "value": 28,
          "x": 27,
          "y": 25
         },
         {
          "terrain": "mountain",
          "value": 30,
          "x": 28,
          "y": 25
         },
         {
          "terrain": "mountain",
          "value": 30,
          "x": 29,
          "y": 25
         },
         {
          "terrain": "mountain",
          "value": 28,
          "x": 30,
          "y": 25
         },
         {
          "terrain": "land",
          "value": 22,
          "x": 31,
          "y": 25
         },
         {
          "terrain": "land",
          "value": 22,
          "x": 32,
          "y": 25
         },
         {
          "terrain": "land",
          "value": 19,
          "x": 33,
          "y": 25
         },
         {
          "terrain": "land",
          "value": 15,
          "x": 34,
          "y": 25
         },
         {
          "terrain": "land",
          "value": 13,
          "x": 35,
          "y": 25
         },
         {
          "terrain": "land",
          "value": 9,
          "x": 36,
          "y": 25
         },
         {
          "terrain": "land",
          "value": 8,
          "x": 37,
          "y": 25
         },
         {
          "terrain": "land",
          "value": 5,
          "x": 38,
          "y": 25
         },
         {
          "terrain": "land",
          "value": 2,
          "x": 39,
          "y": 25
         },
         {
          "terrain": "land",
          "value": 24,
          "x": 0,
          "y": 26
         },
         {
          "terrain": "mountain",
          "value": 32,
          "x": 1,
          "y": 26
         },
         {
          "terrain": "mountain",
          "value": 34,
          "x": 2,
          "y": 26
         },
         {
          "terrain": "mountain",
          "value": 37,
          "x": 3,
          "y": 26
         },
         {
          "terrain": "mountain",
          "value": 42,
          "x": 4,
          "y": 26
         },
         {
          "terrain": "mountain",
          "value": 44,
          "x": 5,
          "y": 26
         },
         {
          "terrain": "mountain",
          "value": 40,
          "x": 6,
          "y": 26
         },
         {
          "terrain": "mountain",
          "value": 37,
          "x": 7,
          "y": 26
         },
         {
          "terrain": "mountain",
          "value": 29,
          "x": 8,
          "y": 26
         },
         {
          "terrain": "land",
          "value": 24,
          "x": 9,
          "y": 26
         },
         {
          "terrain": "land",
          "value": 20,
          "x": 10,
          "y": 26
         },
         {
          "terrain": "land",
          "value": 9,
          "x": 11,
          "y": 26
         },
         {
          "terrain": "land",
          "value": 9,
          "x": 12,
          "y": 26
         },
         {
          "terrain": "land",
          "value": 4,
          "x": 13,
          "y": 26
         },
         {
          "terrain": "land",
          "value": 3,
          "x": 14,
          "y": 26
         },
         {
          "terrain": "land",
          "value": 1,
          "x": 15,
          "y": 26
         },
         {
          "terrain": "ocean",
          "value": -1,
          "x": 16,
          "y": 26
         },
         {
          "terrain": "ocean",
          "value": 0,
          "x": 17,
          "y": 26
         },
         {
          "terrain": "land",
          "value": 2,
          "x": 18,
          "y": 26
         },
         {
          "terrain": "ocean",
          "value": 0,
          "x": 19,
          "y": 26
         },
         {
          "terrain": "land",
          "value": 1,
          "x": 20,
          "y": 26
         },
         {
          "terrain": "land",
          "value": 2,
          "x": 21,
          "y": 26
         },
         {
          "terrain": "land",
          "value": 4,
          "x": 22,
          "y": 26
         },
         {
          "terrain": "land",
          "value": 8,
          "x": 23,
          "y": 26
         },
         {
          "terrain": "land",
          "value": 15,
          "x": 24,
          "y": 26
         },
         {
          "terrain": "land",
          "value": 20,
          "x": 25,
          "y": 26
         },
         {
          "terrain": "mountain",
          "value": 29,
          "x": 26,
          "y": 26
         },
         {
          "terrain": "mountain",
          "value": 36,
          "x": 27,
          "y": 26
         },
         {
          "terrain": "mountain",
          "value": 40,
          "x": 28,
          "y": 26
         },
         {
          "terrain": "mountain",
          "value": 41,
          "x": 29,
          "y": 26
         },
         {
          "terrain": "mountain",
          "value": 42,
          "x": 30,
          "y": 26
         },
         {
          "terrain": "mountain",
          "value": 34,
          "x": 31,
          "y": 26
         },
         {
          "terrain": "mountain",
          "value": 25,
          "x": 32,
          "y": 26
         },
         {
          "terrain": "land",
          "value": 21,
          "x": 33,
          "y": 26
         },
         {
          "terrain": "land",
          "value": 14,
          "x": 34,
          "y": 26
         },
         {
          "terrain": "land",
          "value": 10,
          "x": 35,
          "y": 26
         },
         {
          "terrain": "land",
          "value": 10,
          "x": 36,
          "y": 26
         },
         {
          "terrain": "land",
          "value": 7,
          "x": 37,
          "y": 26
         },
         {
          "terrain": "land",
          "value": 4,
          "x": 38,
          "y": 26
         },
         {
          "terrain": "land",
          "value": 2,
          "x": 39,
          "y": 26
         },
         {
          "terrain": "mountain",
          "value": 28,
          "x": 0,
          "y": 27
         },
         {
          "terrain": "mountain",
          "value": 32,
          "x": 1,
          "y": 27
         },
         {
          "terrain": "mountain",
          "value": 38,
          "x": 2,
          "y": 27
         },
         {
          "terrain": "mountain",
          "value": 41,
          "x": 3,
          "y": 27
         },
         {
          "terrain": "mountain",
          "value": 46,
          "x": 4,
          "y": 27
         },
         {
          "terrain": "mountain",
          "value": 44,
          "x": 5,
          "y": 27
         },
         {
          "terrain": "mountain",
          "value": 41,
          "x": 6,
          "y": 27
         },
         {
          "terrain": "mountain",
          "value": 35,
          "x": 7,
          "y": 27
         },
         {
          "terrain": "mountain",
          "value": 30,
          "x": 8,
          "y": 27
         },
         {
          "terrain": "land",
          "value": 23,
          "x": 9,
          "y": 27
         },
         {
          "terrain": "land",
          "value": 16,
          "x": 10,
          "y": 27
         },
         {
          "terrain": "land",
          "value": 11,
          "x": 11,
          "y": 27
         },
         {
          "terrain": "land",
          "value": 8,
          "x": 12,
          "y": 27
         },
         {
          "terrain": "land",
          "value": 5,
          "x": 13,
          "y": 27
         },
         {
          "terrain": "land",
          "value": 3,
          "x": 14,
          "y": 27
         },
         {
          "terrain": "land",
          "value": 1,
          "x": 15,
          "y": 27
         },
         {
          "terrain": "land",
          "value": 1,
          "x": 16,
          "y": 27
         },
         {
          "terrain": "land",
          "value": 1,
          "x": 17,
          "y": 27
         },
         {
          "terrain": "land",
          "value": 3,
          "x": 18,
          "y": 27
         },
         {
          "terrain": "land",
          "value": 2,
          "x": 19,
          "y": 27
         },
         {
          "terrain": "land",
          "value": 4,
          "x": 20,
          "y": 27
         },
         {
          "terrain": "land",
          "value": 4,
          "x": 21,
          "y": 27
         },
         {
          "terrain": "land",
          "value": 8,
          "x": 22,
          "y": 27
         },
         {
          "terrain": "land",
          "value": 11,
          "x": 23,
          "y": 27
         },
         {
          "terrain": "land",
          "value": 19,
          "x": 24,
          "y": 27
         },
         {
          "terrain": "mountain",
          "value": 25,
          "x": 25,
          "y": 27
         },
         {
          "terrain": "mountain",
          "value": 36,
          "x": 26,
          "y": 27
         },
         {
          "terrain": "mountain",
          "value": 46,
          "x": 27,
          "y": 27
         },
         {
          "terrain": "mountain",
          "value": 47,
          "x": 28,
          "y": 27
         },
         {
          "terrain": "mountain",
          "value": 47,
          "x": 29,
          "y": 27
         },
         {
          "terrain": "mountain",
          "value": 48,
          "x": 30,
          "y": 27
         },
         {
          "terrain": "mountain",
          "value": 36,
          "x": 31,
          "y": 27
         },
         {
          "terrain": "mountain",
          "value": 26,
          "x": 32,
          "y": 27
         },
         {
          "terrain": "land",
          "value": 19,
          "x": 33,
          "y": 27
         },
         {
          "terrain": "land",
          "value": 11,
          "x": 34,
          "y": 27
         },
         {
          "terrain": "land",
          "value": 7,
          "x": 35,
          "y": 27
         },
         {
          "terrain": "land",
          "value": 8,
          "x": 36,
          "y": 27
         },
         {
          "terrain": "land",
          "value": 6,
          "x": 37,
          "y": 27
         },
         {
          "terrain": "land",
          "value": 3,
          "x": 38,
          "y": 27
         },
         {
          "terrain": "land",
          "value": 1,
          "x": 39,
          "y": 27
         },
         {
          "terrain": "mountain",
          "value": 26,
          "x": 0,
          "y": 28
         },
         {
          "terrain": "mountain",
          "value": 32,
          "x": 1,
          "y": 28
         },
         {
          "terrain": "mountain",
          "value": 42,
          "x": 2,
          "y": 28
         },
         {
          "terrain": "mountain",
          "value": 45,
          "x": 3,
          "y": 28
         },
         {
          "terrain": "mountain",
          "value": 47,
          "x": 4,
          "y": 28
         },
         {
          "terrain": "mountain",
          "value": 51,
          "x": 5,
          "y": 28
         },
         {
          "terrain": "mountain",
          "value": 43,
          "x": 6,
          "y": 28
         },
         {
          "terrain": "mountain",
          "value": 37,
          "x": 7,
          "y": 28
         },
         {
          "terrain": "mountain",
          "value": 31,
          "x": 8,
          "y": 28
         },
         {
          "terrain": "mountain",
          "value": 25,
          "x": 9,
          "y": 28
         },
         {
          "terrain": "land",
          "value": 20,
          "x": 10,
          "y": 28
         },
         {
          "terrain": "land",
          "value": 10,
          "x": 11,
          "y": 28
         },
         {
          "terrain": "land",
          "value": 8,
          "x": 12,
          "y": 28
         },
         {
          "terrain": "land",
          "value": 5,
          "x": 13,
          "y": 28
         },
         {
          "terrain": "land",
          "value": 4,
          "x": 14,
          "y": 28
         },
         {
          "terrain": "land",
          "value": 1,
          "x": 15,
          "y": 28
         },
         {
          "terrain": "ocean",
          "value": -1,
          "x": 16,
          "y": 28
         },
         {
          "terrain": "land",
          "value": 4,
          "x": 17,
          "y": 28
         },
         {
          "terrain": "land",
          "value": 2,
          "x": 18,
          "y": 28
         },
         {
          "terrain": "land",
          "value": 5,
          "x": 19,
          "y": 28
         },
         {
          "terrain": "land",
          "value": 5,
          "x": 20,
          "y": 28
         },
         {
          "terrain": "land",
          "value": 5,
          "x": 21,
          "y": 28
         },
         {
          "terrain": "land",
          "value": 8,
          "x": 22,
          "y": 28
         },
         {
          "terrain": "land",
          "value": 13,
          "x": 23,
          "y": 28
         },
         {
          "terrain": "land",
          "value": 19,
          "x": 24,
          "y": 28
         },
         {
          "terrain": "mountain",
          "value": 26,
          "x": 25,
          "y": 28
         },
         {
          "terrain": "mountain",
          "value": 39,
          "x": 26,
          "y": 28
         },
         {
          "terrain": "mountain",
          "value": 48,
          "x": 27,
          "y": 28
         },
         {
          "terrain": "mountain",
          "value": 49,
          "x": 28,
          "y": 28
         },
         {
          "terrain": "mountain",
          "value": 48,
          "x": 29,
          "y": 28
         },
         {
          "terrain": "mountain",
          "value": 45,
          "x": 30,
          "y": 28
         },
         {
          "terrain": "mountain",
          "value": 32,
          "x": 31,
          "y": 28
         },
         {
          "terrain": "mountain",
          "value": 28,
          "x": 32,
          "y": 28
         },
         {
          "terrain": "land",
          "value": 18,
          "x": 33,
          "y": 28
         },
         {
          "terrain": "land",
          "value": 10,
          "x": 34,
          "y": 28
         },
         {
          "terrain": "land",
          "value": 8,
          "x": 35,
          "y": 28
         },
         {
          "terrain": "land",
          "value": 4,
          "x": 36,
          "y": 28
         },
         {
          "terrain": "land",
          "value": 5,
          "x": 37,
          "y": 28
         },
         {
          "terrain": "land",
          "value": 1,
          "x": 38,
          "y": 28
         },
         {
          "terrain": "land",
          "value": 1,
          "x": 39,
          "y": 28
         },
         {
          "terrain": "mountain",
          "value": 28,
          "x": 0,
          "y": 29
         },
         {
          "terrain": "mountain",
          "value": 37,
          "x": 1,
          "y": 29
         },
         {
          "terrain": "mountain",
          "value": 45,
          "x": 2,
          "y": 29
         },
         {
          "terrain": "mountain",
          "value": 53,
          "x": 3,
          "y": 29
         },
         {
          "terrain": "mountain",
          "value": 55,
          "x": 4,
          "y": 29
         },
         {
          "terrain": "mountain",
          "value": 55,
          "x": 5,
          "y": 29
         },
         {
          "terrain": "mountain",
          "value": 48,
          "x": 6,
          "y": 29
         },
         {
          "terrain": "mountain",
          "value": 40,
          "x": 7,
          "y": 29
         },
         {
          "terrain": "mountain",
          "value": 30,
          "x": 8,
          "y": 29
         },
         {
          "terrain": "mountain",
          "value": 25,
          "x": 9,
          "y": 29
         },
         {
          "terrain": "land",
          "value": 21,
          "x": 10,
          "y": 29
         },
         {
          "terrain": "land",
          "value": 12,
          "x": 11,
          "y": 29
         },
         {
          "terrain": "land",
          "value": 9,
          "x": 12,
          "y": 29
         },
         {
          "terrain": "land",
          "value": 5,
          "x": 13,
          "y": 29
         },
         {
          "terrain": "land",
          "value": 3,
          "x": 14,
          "y": 29
         },
         {
          "terrain": "ocean",
          "value": 0,
          "x": 15,
          "y": 29
         },
         {
          "terrain": "land",
          "value": 2,
          "x": 16,
          "y": 29
         },
         {
          "terrain": "land",
          "value": 1,
          "x": 17,
          "y": 29
         },
         {
          "terrain": "land",
          "value": 1,
          "x": 18,
          "y": 29
         },
         {
          "terrain": "land",
          "value": 5,
          "x": 19,
          "y": 29
         },
         {
          "terrain": "land",
          "value": 7,
          "x": 20,
          "y": 29
         },
         {
          "terrain": "land",
          "value": 8,
          "x": 21,
          "y": 29
         },
         {
          "terrain": "land",
          "value": 10,
          "x": 22,
          "y": 29
         },
         {
          "terrain": "land",
          "value": 16,
          "x": 23,
          "y": 29
         },
         {
          "terrain": "land",
          "value": 20,
          "x": 24,
          "y": 29
         },
         {
          "terrain": "mountain",
          "value": 25,
          "x": 25,
          "y": 29
         },
         {
          "terrain": "mountain",
          "value": 36,
          "x": 26,
          "y": 29
         },
         {
          "terrain": "mountain",
          "value": 48,
          "x": 27,
          "y": 29
         },
         {
          "terrain": "mountain",
          "value": 47,
          "x": 28,
          "y": 29
         },
         {
          "terrain": "mountain",
          "value": 46,
          "x": 29,
          "y": 29
         },
         {
          "terrain": "mountain",
          "value": 35,
          "x": 30,
          "y": 29
         },
         {
          "terrain": "mountain",
          "value": 28,
          "x": 31,
          "y": 29
         },
         {
          "terrain": "land",
          "value": 22,
          "x": 32,
          "y": 29
         },
         {
          "terrain": "land",
          "value": 18,
          "x": 33,
          "y": 29
         },
         {
          "terrain": "land",
          "value": 7,
          "x": 34,
          "y": 29
         },
         {
          "terrain": "land",
          "value": 6,
          "x": 35,
          "y": 29
         },
         {
          "terrain": "land",
          "value": 4,
          "x": 36,
          "y": 29
         },
         {
          "terrain": "land",
          "value": 3,
          "x": 37,
          "y": 29
         },
         {
          "terrain": "land",
          "value": 3,
          "x": 38,
          "y": 29
         },
         {
          "terrain": "land",
          "value": 1,
          "x": 39,
          "y": 29
         },
         {
          "terrain": "mountain",
          "value": 29,
          "x": 0,
          "y": 30
         },
         {
          "terrain": "mountain",
          "value": 42,
          "x": 1,
          "y": 30
         },
         {
          "terrain": "mountain",
          "value": 49,
          "x": 2,
          "y": 30
         },
         {
          "terrain": "mountain",
          "value": 57,
          "x": 3,
          "y": 30
         },
         {
          "terrain": "mountain",
          "value": 63,
          "x": 4,
          "y": 30
         },
         {
          "terrain": "mountain",
          "value": 64,
          "x": 5,
          "y": 30
         },
         {
          "terrain": "mountain",
          "value": 57,
          "x": 6,
          "y": 30
         },
         {
          "terrain": "mountain",
          "value": 49,
          "x": 7,
          "y": 30
         },
         {
          "terrain": "mountain",
          "value": 36,
          "x": 8,
          "y": 30
         },
         {
          "terrain": "mountain",
          "value": 30,
          "x": 9,
          "y": 30
         },
         {
          "terrain": "land",
          "value": 18,
          "x": 10,
          "y": 30
         },
         {
          "terrain": "land",
          "value": 10,
          "x": 11,
          "y": 30
         },
         {
          "terrain": "land",
          "value": 8,
          "x": 12,
          "y": 30
         },
         {
          "terrain": "land",
          "value": 5,
          "x": 13,
          "y": 30
         },
         {
          "terrain": "land",
          "value": 6,
          "x": 14,
          "y": 30
         },
         {
          "terrain": "land",
          "value": 2,
          "x": 15,
          "y": 30
         },
         {
          "terrain": "land",
          "value": 2,
          "x": 16,
          "y": 30
         },
         {
          "terrain": "land",
          "value": 2,
          "x": 17,
          "y": 30
         },
         {
          "terrain": "land",
          "value": 3,
          "x": 18,
          "y": 30
         },
         {
          "terrain": "land",
          "value": 6,
          "x": 19,
          "y": 30
         },
         {
          "terrain": "land",
          "value": 10,
          "x": 20,
          "y": 30
         },
         {
          "terrain": "land",
          "value": 9,
          "x": 21,
          "y": 30
         },
         {
          "terrain": "land",
          "value": 13,
          "x": 22,
          "y": 30
         },
         {
          "terrain": "land",
          "value": 18,
          "x": 23,
          "y": 30
         },
         {
          "terrain": "land",
          "value": 22,
          "x": 24,
          "y": 30
         },
         {
          "terrain": "mountain",
          "value": 28,
          "x": 25,
          "y": 30
         },
         {
          "terrain": "mountain",
          "value": 38,
          "x": 26,
          "y": 30
         },
         {
          "terrain": "mountain",
          "value": 44,
          "x": 27,
          "y": 30
         },
         {
          "terrain": "mountain",
          "value": 41,
          "x": 28,
          "y": 30
         },
         {
          "terrain": "mountain",
          "value": 35,
          "x": 29,
          "y": 30
         },
         {
          "terrain": "mountain",
          "value": 29,
          "x": 30,
          "y": 30
         },
         {
          "terrain": "land",
          "value": 24,
          "x": 31,
          "y": 30
         },
         {
          "terrain": "land",
          "value": 15,
          "x": 32,
          "y": 30
         },
         {
          "terrain": "land",
          "value": 14,
          "x": 33,
          "y": 30
         },
         {
          "terrain": "land",
          "value": 7,
          "x": 34,
          "y": 30
         },
         {
          "terrain": "land",
          "value": 4,
          "x": 35,
          "y": 30
         },
         {
          "terrain": "land",
          "value": 4,
          "x": 36,
          "y": 30
         },
         {
          "terrain": "land",
          "value": 3,
          "x": 37,
          "y": 30
         },
         {
          "terrain": "ocean",
          "value": 0,
          "x": 38,
          "y": 30
         },
         {
          "terrain": "ocean",
          "value": 0,
          "x": 39,
          "y": 30
         },
         {
          "terrain": "mountain",
          "value": 29,
          "x": 0,
          "y": 31
         },
         {
          "terrain": "mountain",
          "value": 43,
          "x": 1,
          "y": 31
         },
         {
          "terrain": "mountain",
          "value": 51,
          "x": 2,
          "y": 31
         },
         {
          "terrain": "mountain",
          "value": 59,
          "x": 3,
          "y": 31
         },
         {
          "terrain": "mountain",
          "value": 69,
          "x": 4,
          "y": 31
         },
         {
          "terrain": "mountain",
          "value": 70,
          "x": 5,
          "y": 31
         },
         {
          "terrain": "mountain",
          "value": 65,
          "x": 6,
          "y": 31
         },
         {
          "terrain": "mountain",
          "value": 54,
          "x": 7,
          "y": 31
         },
         {
          "terrain": "mountain",
          "value": 44,
          "x": 8,
          "y": 31
         },
         {
          "terrain": "mountain",
          "value": 28,
          "x": 9,
          "y": 31
         },
         {
          "terrain": "land",
          "value": 18,
          "x": 10,
          "y": 31
         },
         {
          "terrain": "land",
          "value": 9,
          "x": 11,
          "y": 31
         },
         {
          "terrain": "land",
          "value": 5,
          "x": 12,
          "y": 31
         },
         {
          "terrain": "land",
          "value": 5,
          "x": 13,
          "y": 31
         },
         {
          "terrain": "land",
          "value": 4,
          "x": 14,
          "y": 31
         },
         {
          "terrain": "land",
          "value": 5,
          "x": 15,
          "y": 31
         },
         {
          "terrain": "land",
          "value": 1,
          "x": 16,
          "y": 31
         },
         {
          "terrain": "land",
          "value": 5,
          "x": 17,
          "y": 31
         },
         {
          "terrain": "land",
          "value": 5,
          "x": 18,
          "y": 31
         },
         {
          "terrain": "land",
          "value": 6,
          "x": 19,
          "y": 31
         },
         {
          "terrain": "land",
          "value": 10,
          "x": 20,
          "y": 31
         },
         {
          "terrain": "land",
          "value": 13,
          "x": 21,
          "y": 31
         },
         {
          "terrain": "land",
          "value": 17,
          "x": 22,
          "y": 31
         },
         {
          "terrain": "land",
          "value": 24,
          "x": 23,
          "y": 31
         },
         {
          "terrain": "land",
          "value": 23,
          "x": 24,
          "y": 31
         },
         {
          "terrain": "mountain",
          "value": 30,
          "x": 25,
          "y": 31
         },
         {
          "terrain": "mountain",
          "value": 32,
          "x": 26,
          "y": 31
         },
         {
          "terrain": "mountain",
          "value": 34,
          "x": 27,
          "y": 31
         },
         {
          "terrain": "mountain",
          "value": 32,
          "x": 28,
          "y": 31
         },
         {
          "terrain": "mountain",
          "value": 29,
          "x": 29,
          "y": 31
         },
         {
          "terrain": "land",
          "value": 23,
          "x": 30,
          "y": 31
         },
         {
          "terrain": "land",
          "value": 17,
          "x": 31,
          "y": 31
         },
         {
          "terrain": "land",
          "value": 16,
          "x": 32,
          "y": 31
         },
         {
          "terrain": "land",
          "value": 12,
          "x": 33,
          "y": 31
         },
         {
          "terrain": "land",
          "value": 7,
          "x": 34,
          "y": 31
         },
         {
          "terrain": "land",
          "value": 3,
          "x": 35,
          "y": 31
         },
         {
          "terrain": "land",
          "value": 4,
          "x": 36,
          "y": 31
         },
         {
          "terrain": "ocean",
          "value": 0,
          "x": 37,
          "y": 31
         },
         {
          "terrain": "ocean",
          "value": 0,
          "x": 38,
          "y": 31
         },
         {
          "terrain": "ocean",
          "value": 0,
          "x": 39,
          "y": 31
         },
         {
          "terrain": "mountain",
          "value": 26,
          "x": 0,
          "y": 32
         },
         {
          "terrain": "mountain",
          "value": 34,
          "x": 1,
          "y": 32
         },
         {
          "terrain": "mountain",
          "value": 47,
          "x": 2,
          "y": 32
         },
         {
          "terrain": "mountain",
          "value": 58,
          "x": 3,
          "y": 32
         },
         {
          "terrain": "mountain",
          "value": 64,
          "x": 4,
          "y": 32
         },
         {
          "terrain": "mountain",
          "value": 72,
          "x": 5,
          "y": 32
         },
         {
          "terrain": "mountain",
          "value": 68,
          "x": 6,
          "y": 32
         },
         {
          "terrain": "mountain",
          "value": 59,
          "x": 7,
          "y": 32
         },
         {
          "terrain": "mountain",
          "value": 41,
          "x": 8,
          "y": 32
         },
         {
          "terrain": "mountain",
          "value": 29,
          "x": 9,
          "y": 32
         },
         {
          "terrain": "land",
          "value": 16,
          "x": 10,
          "y": 32
         },
         {
          "terrain": "land",
          "value": 8,
          "x": 11,
          "y": 32
         },
         {
          "terrain": "land",
          "value": 2,
          "x": 12,
          "y": 32
         },
         {
          "terrain": "land",
          "value": 3,
          "x": 13,
          "y": 32
         },
         {
          "terrain": "land",
          "value": 3,
          "x": 14,
          "y": 32
         },
         {
          "terrain": "land",
          "value": 3,
          "x": 15,
          "y": 32
         },
         {
          "terrain": "land",
          "value": 3,
          "x": 16,
          "y": 32
         },
         {
          "terrain": "land",
          "value": 2,
          "x": 17,
          "y": 32
         },
         {
          "terrain": "land",
          "value": 3,
          "x": 18,
          "y": 32
         },
         {
          "terrain": "land",
          "value": 6,
          "x": 19,
          "y": 32
         },
         {
          "terrain": "land",
          "value": 12,
          "x": 20,
          "y": 32
         },
         {
          "terrain": "land",
          "value": 14,
          "x": 21,
          "y": 32
         },
         {
          "terrain": "land",
          "value": 21,
          "x": 22,
          "y": 32
         },
         {
          "terrain": "land",
          "value": 21,
          "x": 23,
          "y": 32
         },
         {
          "terrain": "mountain",
          "value": 28,
          "x": 24,
          "y": 32
         },
         {
          "terrain": "mountain",
          "value": 28,
          "x": 25,
          "y": 32
         },
         {
          "terrain": "mountain",
          "value": 30,
          "x": 26,
          "y": 32
         },
         {
          "terrain": "mountain",
          "value": 28,
          "x": 27,
          "y": 32
         },
         {
          "terrain": "land",
          "value": 21,
          "x": 28,
          "y": 32
         },
         {
          "terrain": "land",
          "value": 23,
          "x": 29,
          "y": 32
         },
         {
          "terrain": "land",
          "value": 20,
          "x": 30,
          "y": 32
         },
         {
          "terrain": "land",
          "value": 16,
          "x": 31,
          "y": 32
         },
         {
          "terrain": "land",
          "value": 13,
          "x": 32,
          "y": 32
         },
         {
          "terrain": "land",
          "value": 8,
          "x": 33,
          "y": 32
         },
         {
          "terrain": "land",
          "value": 5,
          "x": 34,
          "y": 32
         },
         {
          "terrain": "land",
          "value": 4,
          "x": 35,
          "y": 32
         },
         {
          "terrain": "land",
          "value": 4,
          "x": 36,
          "y": 32
         },
         {
          "terrain": "land",
          "value": 3,
          "x": 37,
          "y": 32
         },
         {
          "terrain": "land",
          "value": 2,
          "x": 38,
          "y": 32
         },
         {
          "terrain": "ocean",
          "value": 0,
          "x": 39,
          "y": 32
         },
         {
          "terrain": "land",
          "value": 20,
          "x": 0,
          "y": 33
         },
         {
          "terrain": "mountain",
          "value": 28,
          "x": 1,
          "y": 33
         },
         {
          "terrain": "mountain",
          "value": 37,
          "x": 2,
          "y": 33
         },
         {
          "terrain": "mountain",
          "value": 48,
          "x": 3,
          "y": 33
         },
         {
          "terrain": "mountain",
          "value": 56,
          "x": 4,
          "y": 33
         },
         {
          "terrain": "mountain",
          "value": 61,
          "x": 5,
          "y": 33
         },
         {
          "terrain": "mountain",
          "value": 64,
          "x": 6,
          "y": 33
         },
         {
          "terrain": "mountain",
          "value": 53,
          "x": 7,
          "y": 33
         },
         {
          "terrain": "mountain",
          "value": 41,
          "x": 8,
          "y": 33
         },
         {
          "terrain": "mountain",
          "value": 28,
          "x": 9,
          "y": 33
         },
         {
          "terrain": "land",
          "value": 14,
          "x": 10,
          "y": 33
         },
         {
          "terrain": "land",
          "value": 7,
          "x": 11,
          "y": 33
         },
         {
          "terrain": "land",
          "value": 3,
          "x": 12,
          "y": 33
         },
         {
          "terrain": "land",
          "value": 1,
          "x": 13,
          "y": 33
         },
         {
          "terrain": "ocean",
          "value": 0,
          "x": 14,
          "y": 33
         },
         {
          "terrain": "land",
          "value": 3,
          "x": 15,
          "y": 33
         },
         {
          "terrain": "land",
          "value": 3,
          "x": 16,
          "y": 33
         },
         {
          "terrain": "land",
          "value": 5,
          "x": 17,
          "y": 33
         },
         {
          "terrain": "land",
          "value": 6,
          "x": 18,
          "y": 33
         },
         {
          "terrain": "land",
          "value": 7,
          "x": 19,
          "y": 33
         },
         {
          "terrain": "land",
          "value": 12,
          "x": 20,
          "y": 33
         },
         {
          "terrain": "land",
          "value": 16,
          "x": 21,
          "y": 33
         },
         {
          "terrain": "land",
          "value": 19,
          "x": 22,
          "y": 33
         },
         {
          "terrain": "land",
          "value": 22,
          "x": 23,
          "y": 33
         },
         {
          "terrain": "mountain",
          "value": 25,
          "x": 24,
          "y": 33
         },
         {
          "terrain": "mountain",
          "value": 26,
          "x": 25,
          "y": 33
         },
         {
          "terrain": "mountain",
          "value": 25,
          "x": 26,
          "y": 33
         },
         {
          "terrain": "land",
          "value": 20,
          "x": 27,
          "y": 33
         },
         {
          "terrain": "land",
          "value": 19,
          "x": 28,
          "y": 33
         },
         {
          "terrain": "land",
          "value": 15,
          "x": 29,
          "y": 33
         },
         {
          "terrain": "land",
          "value": 15,
          "x": 30,
          "y": 33
         },
         {
          "terrain": "land",
          "value": 14,
          "x": 31,
          "y": 33
         },
         {
          "terrain": "land",
          "value": 8,
          "x": 32,
          "y": 33
         },
         {
          "terrain": "land",
          "value": 6,
          "x": 33,
          "y": 33
         },
         {
          "terrain": "land",
          "value": 6,
          "x": 34,
          "y": 33
         },
         {
          "terrain": "land",
          "value": 4,
          "x": 35,
          "y": 33
         },
         {
          "terrain": "land",
          "value": 3,
          "x": 36,
          "y": 33
         },
         {
          "terrain": "land",
          "value": 3,
          "x": 37,
          "y": 33
         },
         {
          "terrain": "land",
          "value": 1,
          "x": 38,
          "y": 33
         },
         {
          "terrain": "land",
          "value": 1,
          "x": 39,
          "y": 33
         },
         {
          "terrain": "land",
          "value": 16,
          "x": 0,
          "y": 34
         },
         {
          "terrain": "land",
          "value": 22,
          "x": 1,
          "y": 34
         },
         {
          "terrain": "mountain",
          "value": 29,
          "x": 2,
          "y": 34
         },
         {
          "terrain": "mountain",
          "value": 40,
          "x": 3,
          "y": 34
         },
         {
          "terrain": "mountain",
          "value": 46,
          "x": 4,
          "y": 34
         },
         {
          "terrain": "mountain",
          "value": 56,
          "x": 5,
          "y": 34
         },
         {
          "terrain": "mountain",
          "value": 50,
          "x": 6,
          "y": 34
         },
         {
          "terrain": "mountain",
          "value": 46,
          "x": 7,
          "y": 34
         },
         {
          "terrain": "mountain",
          "value": 37,
          "x": 8,
          "y": 34
         },
         {
          "terrain": "mountain",
          "value": 27,
          "x": 9,
          "y": 34
         },
         {
          "terrain": "land",
          "value": 15,
          "x": 10,
          "y": 34
         },
         {
          "terrain": "land",
          "value": 6,
          "x": 11,
          "y": 34
         },
         {
          "terrain": "land",
          "value": 4,
          "x": 12,
          "y": 34
         },
         {
          "terrain": "land",
          "value": 3,
          "x": 13,
          "y": 34
         },
         {
          "terrain": "land",
          "value": 3,
          "x": 14,
          "y": 34
         },
         {
          "terrain": "land",
          "value": 4,
          "x": 15,
          "y": 34
         },
         {
          "terrain": "land",
          "value": 3,
          "x": 16,
          "y": 34
         },
         {
          "terrain": "land",
          "value": 7,
          "x": 17,
          "y": 34
         },
         {
          "terrain": "land",
          "value": 6,
          "x": 18,
          "y": 34
         },
         {
          "terrain": "land",
          "value": 9,
          "x": 19,
          "y": 34
         },
         {
          "terrain": "land",
          "value": 13,
          "x": 20,
          "y": 34
         },
         {
          "terrain": "land",
          "value": 18,
          "x": 21,
          "y": 34
         },
         {
          "terrain": "land",
          "value": 17,
          "x": 22,
          "y": 34
         },
         {
          "terrain": "land",
          "value": 20,
          "x": 23,
          "y": 34
         },
         {
          "terrain": "land",
          "value": 22,
          "x": 24,
          "y": 34
         },
         {
          "terrain": "land",
          "value": 22,
          "x": 25,
          "y": 34
         },
         {
          "terrain": "land",
          "value": 19,
          "x": 26,
          "y": 34
         },
         {
          "terrain": "land",
          "value": 16,
          "x": 27,
          "y": 34
         },
         {
          "terrain": "land",
          "value": 12,
          "x": 28,
          "y": 34
         },
         {
          "terrain": "land",
          "value": 11,
          "x": 29,
          "y": 34
         },
         {
          "terrain": "land",
          "value": 11,
          "x": 30,
          "y": 34
         },
         {
          "terrain": "land",
          "value": 9,
          "x": 31,
          "y": 34
         },
         {
          "terrain": "land",
          "value": 10,
          "x": 32,
          "y": 34
         },
         {
          "terrain": "land",
          "value": 4,
          "x": 33,
          "y": 34
         },
         {
          "terrain": "land",
          "value": 6,
          "x": 34,
          "y": 34
         },
         {
          "terrain": "land",
          "value": 3,
          "x": 35,
          "y": 34
         },
         {
          "terrain": "land",
          "value": 1,
          "x": 36,
          "y": 34
         },
         {
          "terrain": "land",
          "value": 3,
          "x": 37,
          "y": 34
         },
         {
          "terrain": "land",
          "value": 1,
          "x": 38,
          "y": 34
         },
         {
          "terrain": "ocean",
          "value": 0,
          "x": 39,
          "y": 34
         },
         {
          "terrain": "land",
          "value": 11,
          "x": 0,
          "y": 35
         },
         {
          "terrain": "land",
          "value": 18,
          "x": 1,
          "y": 35
         },
         {
          "terrain": "land",
          "value": 22,
          "x": 2,
          "y": 35
         },
         {
          "terrain": "mountain",
          "value": 28,
          "x": 3,
          "y": 35
         },
         {
          "terrain": "mountain",
          "value": 36,
          "x": 4,
          "y": 35
         },
         {
          "terrain": "mountain",
          "value": 38,
          "x": 5,
          "y": 35
         },
         {
          "terrain": "mountain",
          "value": 38,
          "x": 6,
          "y": 35
         },
         {
          "terrain": "mountain",
          "value": 33,
          "x": 7,
          "y": 35
         },
         {
          "terrain": "mountain",
          "value": 29,
          "x": 8,
          "y": 35
         },
         {
          "terrain": "land",
          "value": 22,
          "x": 9,
          "y": 35
         },
         {
          "terrain": "land",
          "value": 15,
          "x": 10,
          "y": 35
         },
         {
          "terrain": "land",
          "value": 6,
          "x": 11,
          "y": 35
         },
         {
          "terrain": "land",
          "value": 5,
          "x": 12,
          "y": 35
         },
         {
          "terrain": "land",
          "value": 5,
          "x": 13,
          "y": 35
         },
         {
          "terrain": "land",
          "value": 5,
          "x": 14,
          "y": 35
         },
         {
          "terrain": "land",
          "value": 5,
          "x": 15,
          "y": 35
         },
         {
          "terrain": "land",
          "value": 7,
          "x": 16,
          "y": 35
         },
         {
          "terrain": "land",
          "value": 10,
          "x": 17,
          "y": 35
         },
         {
          "terrain": "land",
          "value": 10,
          "x": 18,
          "y": 35
         },
         {
          "terrain": "land",
          "value": 12,
          "x": 19,
          "y": 35
         },
         {
          "terrain": "land",
          "value": 16,
          "x": 20,
          "y": 35
         },
         {
          "terrain": "land",
          "value": 16,
          "x": 21,
          "y": 35
         },
         {
          "terrain": "land",
          "value": 18,
          "x": 22,
          "y": 35
         },
         {
          "terrain": "land",
          "value": 18,
          "x": 23,
          "y": 35
         },
         {
          "terrain": "land",
          "value": 14,
          "x": 24,
          "y": 35
         },
         {
          "terrain": "land",
          "value": 14,
          "x": 25,
          "y": 35
         },
         {
          "terrain": "land",
          "value": 12,
          "x": 26,
          "y": 35
         },
         {
          "terrain": "land",
          "value": 10,
          "x": 27,
          "y": 35
         },
         {
          "terrain": "land",
          "value": 8,
          "x": 28,
          "y": 35
         },
         {
          "terrain": "land",
          "value": 7,
          "x": 29,
          "y": 35
         },
         {
          "terrain": "land",
          "value": 7,
          "x": 30,
          "y": 35
         },
         {
          "terrain": "land",
          "value": 8,
          "x": 31,
          "y": 35
         },
         {
          "terrain": "land",
          "value": 6,
          "x": 32,
          "y": 35
         },
         {
          "terrain": "land",
          "value": 6,
          "x": 33,
          "y": 35
         },
         {
          "terrain": "land",
          "value": 4,
          "x": 34,
          "y": 35
         },
         {
          "terrain": "land",
          "value": 2,
          "x": 35,
          "y": 35
         },
         {
          "terrain": "land",
          "value": 2,
          "x": 36,
          "y": 35
         },
         {
          "terrain": "land",
          "value": 3,
          "x": 37,
          "y": 35
         },
         {
          "terrain": "land",
          "value": 2,
          "x": 38,
          "y": 35
         },
         {
          "terrain": "land",
          "value": 1,
          "x": 39,
          "y": 35
         },
         {
          "terrain": "land",
          "value": 10,
          "x": 0,
          "y": 36
         },
         {
          "terrain": "land",
          "value": 14,
          "x": 1,
          "y": 36
         },
         {
          "terrain": "land",
          "value": 17,
          "x": 2,
          "y": 36
         },
         {
          "terrain": "land",
          "value": 22,
          "x": 3,
          "y": 36
         },
         {
          "terrain": "land",
          "value": 24,
          "x": 4,
          "y": 36
         },
         {
          "terrain": "mountain",
          "value": 26,
          "x": 5,
          "y": 36
         },
         {
          "terrain": "mountain",
          "value": 25,
          "x": 6,
          "y": 36
         },
         {
          "terrain": "land",
          "value": 23,
          "x": 7,
          "y": 36
         },
         {
          "terrain": "land",
          "value": 22,
          "x": 8,
          "y": 36
         },
         {
          "terrain": "land",
          "value": 18,
          "x": 9,
          "y": 36
         },
         {
          "terrain": "land",
          "value": 13,
          "x": 10,
          "y": 36
         },
         {
          "terrain": "land",
          "value": 7,
          "x": 11,
          "y": 36
         },
         {
          "terrain": "land",
          "value": 6,
          "x": 12,
          "y": 36
         },
         {
          "terrain": "land",
          "value": 5,
          "x": 13,
          "y": 36
         },
         {
          "terrain": "land",
          "value": 10,
          "x": 14,
          "y": 36
         },
         {
          "terrain": "land",
          "value": 7,
          "x": 15,
          "y": 36
         },
         {
          "terrain": "land",
          "value": 6,
          "x": 16,
          "y": 36
         },
         {
          "terrain": "land",
          "value": 10,
          "x": 17,
          "y": 36
         },
         {
          "terrain": "land",
          "value": 13,
          "x": 18,
          "y": 36
         },
         {
          "terrain": "land",
          "value": 15,
          "x": 19,
          "y": 36
         },
         {
          "terrain": "land",
          "value": 16,
          "x": 20,
          "y": 36
         },
         {
          "terrain": "land",
          "value": 15,
          "x": 21,
          "y": 36
         },
         {
          "terrain": "land",
          "value": 13,
          "x": 22,
          "y": 36
         },
         {
          "terrain": "land",
          "value": 11,
          "x": 23,
          "y": 36
         },
         {
          "terrain": "land",
          "value": 11,
          "x": 24,
          "y": 36
         },
         {
          "terrain": "land",
          "value": 9,
          "x": 25,
          "y": 36
         },
         {
          "terrain": "land",
          "value": 9,
          "x": 26,
          "y": 36
         },
         {
          "terrain": "land",
          "value": 7,
          "x": 27,
          "y": 36
         },
         {
          "terrain": "land",
          "value": 5,
          "x": 28,
          "y": 36
         },
         {
          "terrain": "land",
          "value": 4,
          "x": 29,
          "y": 36
         },
         {
          "terrain": "land",
          "value": 2,
          "x": 30,
          "y": 36
         },
         {
          "terrain": "land",
          "value": 3,
          "x": 31,
          "y": 36
         },
         {
          "terrain": "land",
          "value": 4,
          "x": 32,
          "y": 36
         },
         {
          "terrain": "land",
          "value": 1,
          "x": 33,
          "y": 36
         },
         {
          "terrain": "land",
          "value": 3,
          "x": 34,
          "y": 36
         },
         {
          "terrain": "land",
          "value": 1,
          "x": 35,
          "y": 36
         },
         {
          "terrain": "ocean",
          "value": 0,
          "x": 36,
          "y": 36
         },
         {
          "terrain": "ocean",
          "value": -1,
          "x": 37,
          "y": 36
         },
         {
          "terrain": "ocean",
          "value": 0,
          "x": 38,
          "y": 36
         },
         {
          "terrain": "land",
          "value": 1,
          "x": 39,
          "y": 36
         },
         {
          "terrain": "land",
          "value": 4,
          "x": 0,
          "y": 37
         },
         {
          "terrain": "land",
          "value": 8,
          "x": 1,
          "y": 37
         },
         {
          "terrain": "land",
          "value": 14,
          "x": 2,
          "y": 37
         },
         {
          "terrain": "land",
          "value": 13,
          "x": 3,
          "y": 37
         },
         {
          "terrain": "land",
          "value": 14,
          "x": 4,
          "y": 37
         },
         {
          "terrain": "land",
          "value": 15,
          "x": 5,
          "y": 37
         },
         {
          "terrain": "land",
          "value": 15,
          "x": 6,
          "y": 37
         },
         {
          "terrain": "land",
          "value": 13,
          "x": 7,
          "y": 37
         },
         {
          "terrain": "land",
          "value": 15,
          "x": 8,
          "y": 37
         },
         {
          "terrain": "land",
          "value": 12,
          "x": 9,
          "y": 37
         },
         {
          "terrain": "land",
          "value": 10,
          "x": 10,
          "y": 37
         },
         {
          "terrain": "land",
          "value": 9,
          "x": 11,
          "y": 37
         },
         {
          "terrain": "land",
          "value": 8,
          "x": 12,
          "y": 37
         },
         {
          "terrain": "land",
          "value": 10,
          "x": 13,
          "y": 37
         },
         {
          "terrain": "land",
          "value": 12,
          "x": 14,
          "y": 37
         },
         {
          "terrain": "land",
          "value": 12,
          "x": 15,
          "y": 37
         },
         {
          "terrain": "land",
          "value": 12,
          "x": 16,
          "y": 37
         },
         {
          "terrain": "land",
          "value": 13,
          "x": 17,
          "y": 37
         },
         {
          "terrain": "land",
          "value": 16,
          "x": 18,
          "y": 37
         },
         {
          "terrain": "land",
          "value": 18,
          "x": 19,
          "y": 37
         },
         {
          "terrain": "land",
          "value": 17,
          "x": 20,
          "y": 37
         },
         {
          "terrain": "land",
          "value": 16,
          "x": 21,
          "y": 37
         },
         {
          "terrain": "land",
          "value": 11,
          "x": 22,
          "y": 37
         },
         {
          "terrain": "land",
          "value": 8,
          "x": 23,
          "y": 37
         },
         {
          "terrain": "land",
          "value": 6,
          "x": 24,
          "y": 37
         },
         {
          "terrain": "land",
          "value": 5,
          "x": 25,
          "y": 37
         },
         {
          "terrain": "land",
          "value": 4,
          "x": 26,
          "y": 37
         },
         {
          "terrain": "land",
          "value": 3,
          "x": 27,
          "y": 37
         },
         {
          "terrain": "land",
          "value": 2,
          "x": 28,
          "y": 37
         },
         {
          "terrain": "ocean",
          "value": 0,
          "x": 29,
          "y": 37
         },
         {
          "terrain": "ocean",
          "value": 0,
          "x": 30,
          "y": 37
         },
         {
          "terrain": "ocean",
          "value": -1,
          "x": 31,
          "y": 37
         },
         {
          "terrain": "land",
          "value": 2,
          "x": 32,
          "y": 37
         },
         {
          "terrain": "ocean",
          "value": 0,
          "x": 33,
          "y": 37
         },
         {
          "terrain": "land",
          "value": 2,
          "x": 34,
          "y": 37
         },
         {
          "terrain": "ocean",
          "value": 0,
          "x": 35,
          "y": 37
         },
         {
          "terrain": "ocean",
          "value": 0,
          "x": 36,
          "y": 37
         },
         {
          "terrain": "land",
          "value": 1,
          "x": 37,
          "y": 37
         },
         {
          "terrain": "land",
          "value": 1,
          "x": 38,
          "y": 37
         },
         {
          "terrain": "ocean",
          "value": 0,
          "x": 39,
          "y": 37
         },
         {
          "terrain": "land",
          "value": 3,
          "x": 0,
          "y": 38
         },
         {
          "terrain": "land",
          "value": 5,
          "x": 1,
          "y": 38
         },
         {
          "terrain": "land",
          "value": 5,
          "x": 2,
          "y": 38
         },
         {
          "terrain": "land",
          "value": 7,
          "x": 3,
          "y": 38
         },
         {
          "terrain": "land",
          "value": 7,
          "x": 4,
          "y": 38
         },
         {
          "terrain": "land",
          "value": 6,
          "x": 5,
          "y": 38
         },
         {
          "terrain": "land",
          "value": 6,
          "x": 6,
          "y": 38
         },
         {
          "terrain": "land",
          "value": 7,
          "x": 7,
          "y": 38
         },
         {
          "terrain": "land",
          "value": 6,
          "x": 8,
          "y": 38
         },
         {
          "terrain": "land",
          "value": 9,
          "x": 9,
          "y": 38
         },
         {
          "terrain": "land",
          "value": 9,
          "x": 10,
          "y": 38
         },
         {
          "terrain": "land",
          "value": 9,
          "x": 11,
          "y": 38
         },
         {
          "terrain": "land",
          "value": 13,
          "x": 12,
          "y": 38
         },
         {
          "terrain": "land",
          "value": 16,
          "x": 13,
          "y": 38
         },
         {
          "terrain": "land",
          "value": 18,
          "x": 14,
          "y": 38
         },
         {
          "terrain": "land",
          "value": 17,
          "x": 15,
          "y": 38
         },
         {
          "terrain": "land",
          "value": 18,
          "x": 16,
          "y": 38
         },
         {
          "terrain": "land",
          "value": 21,
          "x": 17,
          "y": 38
         },
         {
          "terrain": "land",
          "value": 23,
          "x": 18,
          "y": 38
         },
         {
          "terrain": "land",
          "value": 23,
          "x": 19,
          "y": 38
         },
         {
          "terrain": "land",
          "value": 20,
          "x": 20,
          "y": 38
         },
         {
          "terrain": "land",
          "value": 12,
          "x": 21,
          "y": 38
         },
         {
          "terrain": "land",
          "value": 7,
          "x": 22,
          "y": 38
         },
         {
          "terrain": "land",
          "value": 5,
          "x": 23,
          "y": 38
         },
         {
          "terrain": "land",
          "value": 1,
          "x": 24,
          "y": 38
         },
         {
          "terrain": "land",
          "value": 2,
          "x": 25,
          "y": 38
         },
         {
          "terrain": "ocean",
          "value": -1,
          "x": 26,
          "y": 38
         },
         {
          "terrain": "land",
          "value": 2,
          "x": 27,
          "y": 38
         },
         {
          "terrain": "land",
          "value": 2,
          "x": 28,
          "y": 38
         },
         {
          "terrain": "land",
          "value": 1,
          "x": 29,
          "y": 38
         },
         {
          "terrain": "land",
          "value": 1,
          "x": 30,
          "y": 38
         },
         {
          "terrain": "ocean",
          "value": 0,
          "x": 31,
          "y": 38
         },
         {
          "terrain": "land",
          "value": 1,
          "x": 32,
          "y": 38
         },
         {
          "terrain": "ocean",
          "value": -2,
          "x": 33,
          "y": 38
         },
         {
          "terrain": "ocean",
          "value": -1,
          "x": 34,
          "y": 38
         },
         {
          "terrain": "ocean",
          "value": -1,
          "x": 35,
          "y": 38
         },
         {
          "terrain": "ocean",
          "value": -1,
          "x": 36,
          "y": 38
         },
         {
          "terrain": "land",
          "value": 1,
          "x": 37,
          "y": 38
         },
         {
          "terrain": "land",
          "value": 2,
          "x": 38,
          "y": 38
         },
         {
          "terrain": "ocean",
          "value": 0,
          "x": 39,
          "y": 38
         },
         {
          "terrain": "land",
          "value": 1,
          "x": 0,
          "y": 39
         },
         {
          "terrain": "ocean",
          "value": -1,
          "x": 1,
          "y": 39
         },
         {
          "terrain": "land",
          "value": 1,
          "x": 2,
          "y": 39
         },
         {
          "terrain": "land",
          "value": 2,
          "x": 3,
          "y": 39
         },
         {
          "terrain": "land",
          "value": 3,
          "x": 4,
          "y": 39
         },
         {
          "terrain": "ocean",
          "value": 0,
          "x": 5,
          "y": 39
         },
         {
          "terrain": "land",
          "value": 2,
          "x": 6,
          "y": 39
         },
         {
          "terrain": "land",
          "value": 1,
          "x": 7,
          "y": 39
         },
         {
          "terrain": "land",
          "value": 2,
          "x": 8,
          "y": 39
         },
         {
          "terrain": "land",
          "value": 2,
          "x": 9,
          "y": 39
         },
         {
          "terrain": "land",
          "value": 6,
          "x": 10,
          "y": 39
         },
         {
          "terrain": "land",
          "value": 10,
          "x": 11,
          "y": 39
         },
         {
          "terrain": "land",
          "value": 17,
          "x": 12,
          "y": 39
         },
         {
          "terrain": "land",
          "value": 20,
          "x": 13,
          "y": 39
         },
         {
          "terrain": "land",
          "value": 24,
          "x": 14,
          "y": 39
         },
         {
          "terrain": "mountain",
          "value": 28,
          "x": 15,
          "y": 39
         },
         {
          "terrain": "mountain",
          "value": 33,
          "x": 16,
          "y": 39
         },
         {
          "terrain": "mountain",
          "value": 30,
          "x": 17,
          "y": 39
         },
         {
          "terrain": "mountain",
          "value": 29,
          "x": 18,
          "y": 39
         },
         {
          "terrain": "mountain",
          "value": 27,
          "x": 19,
          "y": 39
         },
         {
          "terrain": "land",
          "value": 18,
          "x": 20,
          "y": 39
         },
         {
          "terrain": "land",
          "value": 12,
          "x": 21,
          "y": 39
         },
         {
          "terrain": "land",
          "value": 8,
          "x": 22,
          "y": 39
         },
         {
          "terrain": "land",
          "value": 3,
          "x": 23,
          "y": 39
         },
         {
          "terrain": "land",
          "value": 2,
          "x": 24,
          "y": 39
         },
         {
          "terrain": "ocean",
          "value": 0,
          "x": 25,
          "y": 39
         },
         {
          "terrain": "ocean",
          "value": 0,
          "x": 26,
          "y": 39
         },
         {
          "terrain": "ocean",
          "value": 0,
          "x": 27,
          "y": 39
         },
         {
          "terrain": "ocean",
          "value": -1,
          "x": 28,
          "y": 39
         },
         {
          "terrain": "land",
          "value": 1,
          "x": 29,
          "y": 39
         },
         {
          "terrain": "ocean",
          "value": -1,
          "x": 30,
          "y": 39
         },
         {
          "terrain": "land",
          "value": 1,
          "x": 31,
          "y": 39
         },
         {
          "terrain": "ocean",
          "value": -1,
          "x": 32,
          "y": 39
         },
         {
          "terrain": "land",
          "value": 3,
          "x": 33,
          "y": 39
         },
         {
          "terrain": "ocean",
          "value": -1,
          "x": 34,
          "y": 39
         },
         {
          "terrain": "ocean",
          "value": -1,
          "x": 35,
          "y": 39
         },
         {
          "terrain": "land",
          "value": 1,
          "x": 36,
          "y": 39
         },
         {
          "terrain": "ocean",
          "value": -1,
          "x": 37,
          "y": 39
         },
         {
          "terrain": "ocean",
          "value": 0,
          "x": 38,
          "y": 39
         },
         {
          "terrain": "land",
          "value": 2,
          "x": 39,
          "y": 39
         }
        ]
       },
       "encoding": {
        "color": {
         "field": "terrain",
         "scale": {
          "domain": [
           "land",
           "mountain",
           "ocean"
          ],
          "range": [
           "green",
           "brown",
           "blue"
          ]
         },
         "type": "nominal"
        },
        "x": {
         "field": "x",
         "type": "ordinal"
        },
        "y": {
         "field": "y",
         "type": "ordinal"
        }
       },
       "mark": "rect"
      },
      "image/png": "[encoded data removed]",
      "text/plain": [
       "<VegaLite 2 object>\n",
       "\n",
       "If you see this message, it means the renderer has not been properly enabled\n",
       "for the frontend that you are using. For more information, see\n",
       "https://altair-viz.github.io/user_guide/troubleshooting.html\n"
      ]
     },
     "execution_count": 3,
     "metadata": {},
     "output_type": "execute_result"
    }
   ],
   "source": [
    "draw.drawTerrainTypes(world.grid_elevation,world.landscape)"
   ]
  },
  {
   "cell_type": "markdown",
   "metadata": {},
   "source": [
    "the `__init__` method of a city takes a founding age and a location (which can be generated randomly via `World.get_random_chord`). The init method automatically generates a name. The default nation is the name of the town."
   ]
  },
  {
   "cell_type": "code",
   "execution_count": 4,
   "metadata": {},
   "outputs": [
    {
     "data": {
      "text/plain": [
       "town of Earthcraft: population: 1 location: [21,6] founded 1"
      ]
     },
     "execution_count": 4,
     "metadata": {},
     "output_type": "execute_result"
    }
   ],
   "source": [
    "new_town = towns.Town(world.get_random_chord(),1,names)\n",
    "new_town"
   ]
  },
  {
   "cell_type": "markdown",
   "metadata": {},
   "source": [
    "## The age of civilization\n",
    "\n",
    "Cities grow for a set number of aeons. During each eon\n",
    "* n new villages are born\n",
    "* each village has g% chance to grow\n",
    "\n",
    "at the end of this age cities merge together to become nations. "
   ]
  },
  {
   "cell_type": "code",
   "execution_count": 5,
   "metadata": {},
   "outputs": [
    {
     "data": {
      "text/plain": [
       "[town of Artmoral: population: 5 location: [24,34] founded 0,\n",
       " town of Solchild: population: 2 location: [12,22] founded 0,\n",
       " town of Snakespike: population: 5 location: [27,2] founded 1,\n",
       " town of Oakfort: population: 5 location: [4,34] founded 1,\n",
       " town of Gleamring: population: 4 location: [5,27] founded 2,\n",
       " town of Stonegarden: population: 5 location: [0,27] founded 2,\n",
       " town of Founder'smore: population: 2 location: [5,27] founded 2,\n",
       " town of Brinemoral: population: 3 location: [17,32] founded 3,\n",
       " town of Heartrest: population: 5 location: [20,28] founded 3,\n",
       " town of Corehaven: population: 1 location: [11,38] founded 3,\n",
       " town of Lilyspike: population: 3 location: [39,9] founded 4,\n",
       " town of Snowcrest: population: 5 location: [15,21] founded 4,\n",
       " town of Malhost: population: 2 location: [33,31] founded 4,\n",
       " town of Buckrun: population: 2 location: [0,38] founded 4,\n",
       " town of Splitgarden: population: 2 location: [31,1] founded 5,\n",
       " town of Gleamcatch: population: 3 location: [25,19] founded 5,\n",
       " town of Doomcatch: population: 1 location: [0,17] founded 5,\n",
       " town of King'spike: population: 1 location: [27,32] founded 5,\n",
       " town of Ratfellow: population: 2 location: [21,35] founded 6,\n",
       " town of Lord'sgarden: population: 3 location: [32,0] founded 6,\n",
       " town of Lord'slair: population: 2 location: [39,11] founded 7,\n",
       " town of Hardtear: population: 1 location: [14,19] founded 7,\n",
       " town of Tearbrook: population: 1 location: [35,5] founded 8,\n",
       " town of Snowkeep: population: 1 location: [9,14] founded 9,\n",
       " town of Godblaze: population: 1 location: [38,12] founded 9]"
      ]
     },
     "execution_count": 5,
     "metadata": {},
     "output_type": "execute_result"
    }
   ],
   "source": [
    "all_towns = towns.build_towns(world,culture,names)\n",
    "all_towns"
   ]
  },
  {
   "cell_type": "code",
   "execution_count": 6,
   "metadata": {},
   "outputs": [],
   "source": [
    "towns.get_town(all_towns,'Brinecrawl')"
   ]
  },
  {
   "cell_type": "code",
   "execution_count": 7,
   "metadata": {},
   "outputs": [
    {
     "data": {
      "text/html": [
       "<div>\n",
       "<style scoped>\n",
       "    .dataframe tbody tr th:only-of-type {\n",
       "        vertical-align: middle;\n",
       "    }\n",
       "\n",
       "    .dataframe tbody tr th {\n",
       "        vertical-align: top;\n",
       "    }\n",
       "\n",
       "    .dataframe thead th {\n",
       "        text-align: right;\n",
       "    }\n",
       "</style>\n",
       "<table border=\"1\" class=\"dataframe\">\n",
       "  <thead>\n",
       "    <tr style=\"text-align: right;\">\n",
       "      <th></th>\n",
       "      <th>y</th>\n",
       "      <th>rainfall</th>\n",
       "      <th>x</th>\n",
       "      <th>key</th>\n",
       "      <th>elevation</th>\n",
       "      <th>terrain</th>\n",
       "    </tr>\n",
       "    <tr>\n",
       "      <th>key</th>\n",
       "      <th></th>\n",
       "      <th></th>\n",
       "      <th></th>\n",
       "      <th></th>\n",
       "      <th></th>\n",
       "      <th></th>\n",
       "    </tr>\n",
       "  </thead>\n",
       "  <tbody>\n",
       "    <tr>\n",
       "      <th>0:0</th>\n",
       "      <td>0</td>\n",
       "      <td>0.0</td>\n",
       "      <td>0</td>\n",
       "      <td>0:0</td>\n",
       "      <td>0.0</td>\n",
       "      <td>ocean</td>\n",
       "    </tr>\n",
       "    <tr>\n",
       "      <th>1:0</th>\n",
       "      <td>0</td>\n",
       "      <td>-1.0</td>\n",
       "      <td>1</td>\n",
       "      <td>1:0</td>\n",
       "      <td>-1.0</td>\n",
       "      <td>ocean</td>\n",
       "    </tr>\n",
       "    <tr>\n",
       "      <th>2:0</th>\n",
       "      <td>0</td>\n",
       "      <td>-1.0</td>\n",
       "      <td>2</td>\n",
       "      <td>2:0</td>\n",
       "      <td>-1.0</td>\n",
       "      <td>ocean</td>\n",
       "    </tr>\n",
       "    <tr>\n",
       "      <th>3:0</th>\n",
       "      <td>0</td>\n",
       "      <td>0.0</td>\n",
       "      <td>3</td>\n",
       "      <td>3:0</td>\n",
       "      <td>-1.0</td>\n",
       "      <td>ocean</td>\n",
       "    </tr>\n",
       "    <tr>\n",
       "      <th>4:0</th>\n",
       "      <td>0</td>\n",
       "      <td>3.0</td>\n",
       "      <td>4</td>\n",
       "      <td>4:0</td>\n",
       "      <td>1.0</td>\n",
       "      <td>land</td>\n",
       "    </tr>\n",
       "  </tbody>\n",
       "</table>\n",
       "</div>"
      ],
      "text/plain": [
       "     y  rainfall  x  key  elevation terrain\n",
       "key                                        \n",
       "0:0  0       0.0  0  0:0        0.0   ocean\n",
       "1:0  0      -1.0  1  1:0       -1.0   ocean\n",
       "2:0  0      -1.0  2  2:0       -1.0   ocean\n",
       "3:0  0       0.0  3  3:0       -1.0   ocean\n",
       "4:0  0       3.0  4  4:0        1.0    land"
      ]
     },
     "execution_count": 7,
     "metadata": {},
     "output_type": "execute_result"
    }
   ],
   "source": [
    "world.df_features.head()"
   ]
  },
  {
   "cell_type": "code",
   "execution_count": null,
   "metadata": {},
   "outputs": [],
   "source": [
    "world.add_features(all_towns)"
   ]
  },
  {
   "cell_type": "code",
   "execution_count": 8,
   "metadata": {},
   "outputs": [
    {
     "data": {
      "application/vnd.vegalite.v2+json": {
       "$schema": "https://vega.github.io/schema/vega-lite/v2.6.0.json",
       "config": {
        "view": {
         "height": 300,
         "width": 400
        }
       },
       "data": {
        "name": "data-1e748b097c6651c0cba6ba5390b743f2"
       },
       "datasets": {
        "data-1e748b097c6651c0cba6ba5390b743f2": [
         {
          "elevation": 0,
          "feature": null,
          "key": "0:0",
          "rainfall": 0,
          "terrain": "ocean",
          "x": 0,
          "y": 0
         },
         {
          "elevation": -1,
          "feature": null,
          "key": "1:0",
          "rainfall": -1,
          "terrain": "ocean",
          "x": 1,
          "y": 0
         },
         {
          "elevation": -1,
          "feature": null,
          "key": "2:0",
          "rainfall": -1,
          "terrain": "ocean",
          "x": 2,
          "y": 0
         },
         {
          "elevation": -1,
          "feature": null,
          "key": "3:0",
          "rainfall": 0,
          "terrain": "ocean",
          "x": 3,
          "y": 0
         },
         {
          "elevation": 1,
          "feature": null,
          "key": "4:0",
          "rainfall": 3,
          "terrain": "land",
          "x": 4,
          "y": 0
         },
         {
          "elevation": 2,
          "feature": null,
          "key": "5:0",
          "rainfall": 5,
          "terrain": "land",
          "x": 5,
          "y": 0
         },
         {
          "elevation": -1,
          "feature": null,
          "key": "6:0",
          "rainfall": 4,
          "terrain": "ocean",
          "x": 6,
          "y": 0
         },
         {
          "elevation": -1,
          "feature": null,
          "key": "7:0",
          "rainfall": 7,
          "terrain": "ocean",
          "x": 7,
          "y": 0
         },
         {
          "elevation": -1,
          "feature": null,
          "key": "8:0",
          "rainfall": 10,
          "terrain": "ocean",
          "x": 8,
          "y": 0
         },
         {
          "elevation": 0,
          "feature": null,
          "key": "9:0",
          "rainfall": 14,
          "terrain": "ocean",
          "x": 9,
          "y": 0
         },
         {
          "elevation": 0,
          "feature": null,
          "key": "10:0",
          "rainfall": 17,
          "terrain": "ocean",
          "x": 10,
          "y": 0
         },
         {
          "elevation": 1,
          "feature": null,
          "key": "11:0",
          "rainfall": 20,
          "terrain": "land",
          "x": 11,
          "y": 0
         },
         {
          "elevation": -2,
          "feature": null,
          "key": "12:0",
          "rainfall": 15,
          "terrain": "ocean",
          "x": 12,
          "y": 0
         },
         {
          "elevation": -1,
          "feature": null,
          "key": "13:0",
          "rainfall": 13,
          "terrain": "ocean",
          "x": 13,
          "y": 0
         },
         {
          "elevation": 2,
          "feature": null,
          "key": "14:0",
          "rainfall": 15,
          "terrain": "land",
          "x": 14,
          "y": 0
         },
         {
          "elevation": 0,
          "feature": null,
          "key": "15:0",
          "rainfall": 12,
          "terrain": "ocean",
          "x": 15,
          "y": 0
         },
         {
          "elevation": 0,
          "feature": null,
          "key": "16:0",
          "rainfall": 10,
          "terrain": "ocean",
          "x": 16,
          "y": 0
         },
         {
          "elevation": 0,
          "feature": null,
          "key": "17:0",
          "rainfall": 10,
          "terrain": "ocean",
          "x": 17,
          "y": 0
         },
         {
          "elevation": 1,
          "feature": null,
          "key": "18:0",
          "rainfall": 13,
          "terrain": "land",
          "x": 18,
          "y": 0
         },
         {
          "elevation": -1,
          "feature": null,
          "key": "19:0",
          "rainfall": 16,
          "terrain": "ocean",
          "x": 19,
          "y": 0
         },
         {
          "elevation": 2,
          "feature": null,
          "key": "20:0",
          "rainfall": 28,
          "terrain": "land",
          "x": 20,
          "y": 0
         },
         {
          "elevation": 0,
          "feature": null,
          "key": "21:0",
          "rainfall": 39,
          "terrain": "ocean",
          "x": 21,
          "y": 0
         },
         {
          "elevation": 0,
          "feature": null,
          "key": "22:0",
          "rainfall": 45,
          "terrain": "ocean",
          "x": 22,
          "y": 0
         },
         {
          "elevation": 0,
          "feature": null,
          "key": "23:0",
          "rainfall": 48,
          "terrain": "ocean",
          "x": 23,
          "y": 0
         },
         {
          "elevation": -1,
          "feature": null,
          "key": "24:0",
          "rainfall": 43,
          "terrain": "ocean",
          "x": 24,
          "y": 0
         },
         {
          "elevation": 0,
          "feature": null,
          "key": "25:0",
          "rainfall": 39,
          "terrain": "ocean",
          "x": 25,
          "y": 0
         },
         {
          "elevation": 3,
          "feature": null,
          "key": "26:0",
          "rainfall": 39,
          "terrain": "land",
          "x": 26,
          "y": 0
         },
         {
          "elevation": 1,
          "feature": null,
          "key": "27:0",
          "rainfall": 30,
          "terrain": "land",
          "x": 27,
          "y": 0
         },
         {
          "elevation": 2,
          "feature": null,
          "key": "28:0",
          "rainfall": 27,
          "terrain": "land",
          "x": 28,
          "y": 0
         },
         {
          "elevation": -1,
          "feature": null,
          "key": "29:0",
          "rainfall": 20,
          "terrain": "ocean",
          "x": 29,
          "y": 0
         },
         {
          "elevation": 0,
          "feature": null,
          "key": "30:0",
          "rainfall": 19,
          "terrain": "ocean",
          "x": 30,
          "y": 0
         },
         {
          "elevation": -2,
          "feature": null,
          "key": "31:0",
          "rainfall": 14,
          "terrain": "ocean",
          "x": 31,
          "y": 0
         },
         {
          "elevation": 1,
          "feature": "Lord'sgarden",
          "key": "32:0",
          "rainfall": 18,
          "terrain": "land",
          "x": 32,
          "y": 0
         },
         {
          "elevation": -2,
          "feature": null,
          "key": "33:0",
          "rainfall": 13,
          "terrain": "ocean",
          "x": 33,
          "y": 0
         },
         {
          "elevation": 1,
          "feature": null,
          "key": "34:0",
          "rainfall": 12,
          "terrain": "land",
          "x": 34,
          "y": 0
         },
         {
          "elevation": 0,
          "feature": null,
          "key": "35:0",
          "rainfall": 7,
          "terrain": "ocean",
          "x": 35,
          "y": 0
         },
         {
          "elevation": 1,
          "feature": null,
          "key": "36:0",
          "rainfall": 5,
          "terrain": "land",
          "x": 36,
          "y": 0
         },
         {
          "elevation": 0,
          "feature": null,
          "key": "37:0",
          "rainfall": 2,
          "terrain": "ocean",
          "x": 37,
          "y": 0
         },
         {
          "elevation": 0,
          "feature": null,
          "key": "38:0",
          "rainfall": 1,
          "terrain": "ocean",
          "x": 38,
          "y": 0
         },
         {
          "elevation": -2,
          "feature": null,
          "key": "39:0",
          "rainfall": -2,
          "terrain": "ocean",
          "x": 39,
          "y": 0
         },
         {
          "elevation": 1,
          "feature": null,
          "key": "0:1",
          "rainfall": 1,
          "terrain": "land",
          "x": 0,
          "y": 1
         },
         {
          "elevation": -1,
          "feature": null,
          "key": "1:1",
          "rainfall": -1,
          "terrain": "ocean",
          "x": 1,
          "y": 1
         },
         {
          "elevation": -1,
          "feature": null,
          "key": "2:1",
          "rainfall": -1,
          "terrain": "ocean",
          "x": 2,
          "y": 1
         },
         {
          "elevation": -2,
          "feature": null,
          "key": "3:1",
          "rainfall": -1,
          "terrain": "ocean",
          "x": 3,
          "y": 1
         },
         {
          "elevation": -1,
          "feature": null,
          "key": "4:1",
          "rainfall": 1,
          "terrain": "ocean",
          "x": 4,
          "y": 1
         },
         {
          "elevation": 1,
          "feature": null,
          "key": "5:1",
          "rainfall": 4,
          "terrain": "land",
          "x": 5,
          "y": 1
         },
         {
          "elevation": 0,
          "feature": null,
          "key": "6:1",
          "rainfall": 5,
          "terrain": "ocean",
          "x": 6,
          "y": 1
         },
         {
          "elevation": -1,
          "feature": null,
          "key": "7:1",
          "rainfall": 7,
          "terrain": "ocean",
          "x": 7,
          "y": 1
         },
         {
          "elevation": -1,
          "feature": null,
          "key": "8:1",
          "rainfall": 11,
          "terrain": "ocean",
          "x": 8,
          "y": 1
         },
         {
          "elevation": 0,
          "feature": null,
          "key": "9:1",
          "rainfall": 16,
          "terrain": "ocean",
          "x": 9,
          "y": 1
         },
         {
          "elevation": 0,
          "feature": null,
          "key": "10:1",
          "rainfall": 19,
          "terrain": "ocean",
          "x": 10,
          "y": 1
         },
         {
          "elevation": -1,
          "feature": null,
          "key": "11:1",
          "rainfall": 19,
          "terrain": "ocean",
          "x": 11,
          "y": 1
         },
         {
          "elevation": 0,
          "feature": null,
          "key": "12:1",
          "rainfall": 20,
          "terrain": "ocean",
          "x": 12,
          "y": 1
         },
         {
          "elevation": -1,
          "feature": null,
          "key": "13:1",
          "rainfall": 17,
          "terrain": "ocean",
          "x": 13,
          "y": 1
         },
         {
          "elevation": -2,
          "feature": null,
          "key": "14:1",
          "rainfall": 14,
          "terrain": "ocean",
          "x": 14,
          "y": 1
         },
         {
          "elevation": 0,
          "feature": null,
          "key": "15:1",
          "rainfall": 14,
          "terrain": "ocean",
          "x": 15,
          "y": 1
         },
         {
          "elevation": 0,
          "feature": null,
          "key": "16:1",
          "rainfall": 12,
          "terrain": "ocean",
          "x": 16,
          "y": 1
         },
         {
          "elevation": -1,
          "feature": null,
          "key": "17:1",
          "rainfall": 9,
          "terrain": "ocean",
          "x": 17,
          "y": 1
         },
         {
          "elevation": 1,
          "feature": null,
          "key": "18:1",
          "rainfall": 10,
          "terrain": "land",
          "x": 18,
          "y": 1
         },
         {
          "elevation": 2,
          "feature": null,
          "key": "19:1",
          "rainfall": 16,
          "terrain": "land",
          "x": 19,
          "y": 1
         },
         {
          "elevation": 0,
          "feature": null,
          "key": "20:1",
          "rainfall": 23,
          "terrain": "ocean",
          "x": 20,
          "y": 1
         },
         {
          "elevation": 1,
          "feature": null,
          "key": "21:1",
          "rainfall": 31,
          "terrain": "land",
          "x": 21,
          "y": 1
         },
         {
          "elevation": 0,
          "feature": null,
          "key": "22:1",
          "rainfall": 38,
          "terrain": "ocean",
          "x": 22,
          "y": 1
         },
         {
          "elevation": 0,
          "feature": null,
          "key": "23:1",
          "rainfall": 41,
          "terrain": "ocean",
          "x": 23,
          "y": 1
         },
         {
          "elevation": 1,
          "feature": null,
          "key": "24:1",
          "rainfall": 41,
          "terrain": "land",
          "x": 24,
          "y": 1
         },
         {
          "elevation": -1,
          "feature": null,
          "key": "25:1",
          "rainfall": 34,
          "terrain": "ocean",
          "x": 25,
          "y": 1
         },
         {
          "elevation": 1,
          "feature": null,
          "key": "26:1",
          "rainfall": 29,
          "terrain": "land",
          "x": 26,
          "y": 1
         },
         {
          "elevation": -1,
          "feature": null,
          "key": "27:1",
          "rainfall": 21,
          "terrain": "ocean",
          "x": 27,
          "y": 1
         },
         {
          "elevation": 0,
          "feature": null,
          "key": "28:1",
          "rainfall": 19,
          "terrain": "ocean",
          "x": 28,
          "y": 1
         },
         {
          "elevation": 0,
          "feature": null,
          "key": "29:1",
          "rainfall": 15,
          "terrain": "ocean",
          "x": 29,
          "y": 1
         },
         {
          "elevation": 0,
          "feature": null,
          "key": "30:1",
          "rainfall": 13,
          "terrain": "ocean",
          "x": 30,
          "y": 1
         },
         {
          "elevation": 3,
          "feature": "Splitgarden",
          "key": "31:1",
          "rainfall": 15,
          "terrain": "land",
          "x": 31,
          "y": 1
         },
         {
          "elevation": 0,
          "feature": null,
          "key": "32:1",
          "rainfall": 11,
          "terrain": "ocean",
          "x": 32,
          "y": 1
         },
         {
          "elevation": 0,
          "feature": null,
          "key": "33:1",
          "rainfall": 10,
          "terrain": "ocean",
          "x": 33,
          "y": 1
         },
         {
          "elevation": -2,
          "feature": null,
          "key": "34:1",
          "rainfall": 5,
          "terrain": "ocean",
          "x": 34,
          "y": 1
         },
         {
          "elevation": -1,
          "feature": null,
          "key": "35:1",
          "rainfall": 3,
          "terrain": "ocean",
          "x": 35,
          "y": 1
         },
         {
          "elevation": 1,
          "feature": null,
          "key": "36:1",
          "rainfall": 3,
          "terrain": "land",
          "x": 36,
          "y": 1
         },
         {
          "elevation": 1,
          "feature": null,
          "key": "37:1",
          "rainfall": 2,
          "terrain": "land",
          "x": 37,
          "y": 1
         },
         {
          "elevation": 0,
          "feature": null,
          "key": "38:1",
          "rainfall": 1,
          "terrain": "ocean",
          "x": 38,
          "y": 1
         },
         {
          "elevation": 1,
          "feature": null,
          "key": "39:1",
          "rainfall": 1,
          "terrain": "land",
          "x": 39,
          "y": 1
         },
         {
          "elevation": 1,
          "feature": null,
          "key": "0:2",
          "rainfall": 1,
          "terrain": "land",
          "x": 0,
          "y": 2
         },
         {
          "elevation": 1,
          "feature": null,
          "key": "1:2",
          "rainfall": 1,
          "terrain": "land",
          "x": 1,
          "y": 2
         },
         {
          "elevation": 0,
          "feature": null,
          "key": "2:2",
          "rainfall": 0,
          "terrain": "ocean",
          "x": 2,
          "y": 2
         },
         {
          "elevation": 1,
          "feature": null,
          "key": "3:2",
          "rainfall": 2,
          "terrain": "land",
          "x": 3,
          "y": 2
         },
         {
          "elevation": 0,
          "feature": null,
          "key": "4:2",
          "rainfall": 2,
          "terrain": "ocean",
          "x": 4,
          "y": 2
         },
         {
          "elevation": 0,
          "feature": null,
          "key": "5:2",
          "rainfall": 3,
          "terrain": "ocean",
          "x": 5,
          "y": 2
         },
         {
          "elevation": 0,
          "feature": null,
          "key": "6:2",
          "rainfall": 5,
          "terrain": "ocean",
          "x": 6,
          "y": 2
         },
         {
          "elevation": 1,
          "feature": null,
          "key": "7:2",
          "rainfall": 9,
          "terrain": "land",
          "x": 7,
          "y": 2
         },
         {
          "elevation": 1,
          "feature": null,
          "key": "8:2",
          "rainfall": 13,
          "terrain": "land",
          "x": 8,
          "y": 2
         },
         {
          "elevation": 0,
          "feature": null,
          "key": "9:2",
          "rainfall": 17,
          "terrain": "ocean",
          "x": 9,
          "y": 2
         },
         {
          "elevation": 0,
          "feature": null,
          "key": "10:2",
          "rainfall": 19,
          "terrain": "ocean",
          "x": 10,
          "y": 2
         },
         {
          "elevation": 0,
          "feature": null,
          "key": "11:2",
          "rainfall": 19,
          "terrain": "ocean",
          "x": 11,
          "y": 2
         },
         {
          "elevation": 0,
          "feature": null,
          "key": "12:2",
          "rainfall": 20,
          "terrain": "ocean",
          "x": 12,
          "y": 2
         },
         {
          "elevation": 1,
          "feature": null,
          "key": "13:2",
          "rainfall": 21,
          "terrain": "land",
          "x": 13,
          "y": 2
         },
         {
          "elevation": 0,
          "feature": null,
          "key": "14:2",
          "rainfall": 18,
          "terrain": "ocean",
          "x": 14,
          "y": 2
         },
         {
          "elevation": 0,
          "feature": null,
          "key": "15:2",
          "rainfall": 16,
          "terrain": "ocean",
          "x": 15,
          "y": 2
         },
         {
          "elevation": 2,
          "feature": null,
          "key": "16:2",
          "rainfall": 14,
          "terrain": "land",
          "x": 16,
          "y": 2
         },
         {
          "elevation": -1,
          "feature": null,
          "key": "17:2",
          "rainfall": 7,
          "terrain": "ocean",
          "x": 17,
          "y": 2
         },
         {
          "elevation": 0,
          "feature": null,
          "key": "18:2",
          "rainfall": 7,
          "terrain": "ocean",
          "x": 18,
          "y": 2
         },
         {
          "elevation": 1,
          "feature": null,
          "key": "19:2",
          "rainfall": 13,
          "terrain": "land",
          "x": 19,
          "y": 2
         },
         {
          "elevation": 0,
          "feature": null,
          "key": "20:2",
          "rainfall": 16,
          "terrain": "ocean",
          "x": 20,
          "y": 2
         },
         {
          "elevation": -1,
          "feature": null,
          "key": "21:2",
          "rainfall": 21,
          "terrain": "ocean",
          "x": 21,
          "y": 2
         },
         {
          "elevation": 1,
          "feature": null,
          "key": "22:2",
          "rainfall": 28,
          "terrain": "land",
          "x": 22,
          "y": 2
         },
         {
          "elevation": -2,
          "feature": null,
          "key": "23:2",
          "rainfall": 29,
          "terrain": "ocean",
          "x": 23,
          "y": 2
         },
         {
          "elevation": -2,
          "feature": null,
          "key": "24:2",
          "rainfall": 28,
          "terrain": "ocean",
          "x": 24,
          "y": 2
         },
         {
          "elevation": 1,
          "feature": null,
          "key": "25:2",
          "rainfall": 30,
          "terrain": "land",
          "x": 25,
          "y": 2
         },
         {
          "elevation": 0,
          "feature": null,
          "key": "26:2",
          "rainfall": 24,
          "terrain": "ocean",
          "x": 26,
          "y": 2
         },
         {
          "elevation": 1,
          "feature": "Snakespike",
          "key": "27:2",
          "rainfall": 19,
          "terrain": "land",
          "x": 27,
          "y": 2
         },
         {
          "elevation": 0,
          "feature": null,
          "key": "28:2",
          "rainfall": 15,
          "terrain": "ocean",
          "x": 28,
          "y": 2
         },
         {
          "elevation": -1,
          "feature": null,
          "key": "29:2",
          "rainfall": 11,
          "terrain": "ocean",
          "x": 29,
          "y": 2
         },
         {
          "elevation": 1,
          "feature": null,
          "key": "30:2",
          "rainfall": 11,
          "terrain": "land",
          "x": 30,
          "y": 2
         },
         {
          "elevation": 1,
          "feature": null,
          "key": "31:2",
          "rainfall": 9,
          "terrain": "land",
          "x": 31,
          "y": 2
         },
         {
          "elevation": 2,
          "feature": null,
          "key": "32:2",
          "rainfall": 9,
          "terrain": "land",
          "x": 32,
          "y": 2
         },
         {
          "elevation": -2,
          "feature": null,
          "key": "33:2",
          "rainfall": 4,
          "terrain": "ocean",
          "x": 33,
          "y": 2
         },
         {
          "elevation": -2,
          "feature": null,
          "key": "34:2",
          "rainfall": 3,
          "terrain": "ocean",
          "x": 34,
          "y": 2
         },
         {
          "elevation": 2,
          "feature": null,
          "key": "35:2",
          "rainfall": 4,
          "terrain": "land",
          "x": 35,
          "y": 2
         },
         {
          "elevation": 1,
          "feature": null,
          "key": "36:2",
          "rainfall": 1,
          "terrain": "land",
          "x": 36,
          "y": 2
         },
         {
          "elevation": 0,
          "feature": null,
          "key": "37:2",
          "rainfall": 0,
          "terrain": "ocean",
          "x": 37,
          "y": 2
         },
         {
          "elevation": 0,
          "feature": null,
          "key": "38:2",
          "rainfall": 0,
          "terrain": "ocean",
          "x": 38,
          "y": 2
         },
         {
          "elevation": 0,
          "feature": null,
          "key": "39:2",
          "rainfall": 0,
          "terrain": "ocean",
          "x": 39,
          "y": 2
         },
         {
          "elevation": 0,
          "feature": null,
          "key": "0:3",
          "rainfall": 0,
          "terrain": "ocean",
          "x": 0,
          "y": 3
         },
         {
          "elevation": 1,
          "feature": null,
          "key": "1:3",
          "rainfall": 1,
          "terrain": "land",
          "x": 1,
          "y": 3
         },
         {
          "elevation": 1,
          "feature": null,
          "key": "2:3",
          "rainfall": 1,
          "terrain": "land",
          "x": 2,
          "y": 3
         },
         {
          "elevation": -1,
          "feature": null,
          "key": "3:3",
          "rainfall": 0,
          "terrain": "ocean",
          "x": 3,
          "y": 3
         },
         {
          "elevation": 0,
          "feature": null,
          "key": "4:3",
          "rainfall": 2,
          "terrain": "ocean",
          "x": 4,
          "y": 3
         },
         {
          "elevation": 0,
          "feature": null,
          "key": "5:3",
          "rainfall": 3,
          "terrain": "ocean",
          "x": 5,
          "y": 3
         },
         {
          "elevation": 1,
          "feature": null,
          "key": "6:3",
          "rainfall": 6,
          "terrain": "land",
          "x": 6,
          "y": 3
         },
         {
          "elevation": 0,
          "feature": null,
          "key": "7:3",
          "rainfall": 8,
          "terrain": "ocean",
          "x": 7,
          "y": 3
         },
         {
          "elevation": 0,
          "feature": null,
          "key": "8:3",
          "rainfall": 12,
          "terrain": "ocean",
          "x": 8,
          "y": 3
         },
         {
          "elevation": 1,
          "feature": null,
          "key": "9:3",
          "rainfall": 16,
          "terrain": "land",
          "x": 9,
          "y": 3
         },
         {
          "elevation": -1,
          "feature": null,
          "key": "10:3",
          "rainfall": 16,
          "terrain": "ocean",
          "x": 10,
          "y": 3
         },
         {
          "elevation": 0,
          "feature": null,
          "key": "11:3",
          "rainfall": 18,
          "terrain": "ocean",
          "x": 11,
          "y": 3
         },
         {
          "elevation": -1,
          "feature": null,
          "key": "12:3",
          "rainfall": 17,
          "terrain": "ocean",
          "x": 12,
          "y": 3
         },
         {
          "elevation": 1,
          "feature": null,
          "key": "13:3",
          "rainfall": 20,
          "terrain": "land",
          "x": 13,
          "y": 3
         },
         {
          "elevation": 1,
          "feature": null,
          "key": "14:3",
          "rainfall": 20,
          "terrain": "land",
          "x": 14,
          "y": 3
         },
         {
          "elevation": -1,
          "feature": null,
          "key": "15:3",
          "rainfall": 15,
          "terrain": "ocean",
          "x": 15,
          "y": 3
         },
         {
          "elevation": -1,
          "feature": null,
          "key": "16:3",
          "rainfall": 9,
          "terrain": "ocean",
          "x": 16,
          "y": 3
         },
         {
          "elevation": 0,
          "feature": null,
          "key": "17:3",
          "rainfall": 6,
          "terrain": "ocean",
          "x": 17,
          "y": 3
         },
         {
          "elevation": 1,
          "feature": null,
          "key": "18:3",
          "rainfall": 6,
          "terrain": "land",
          "x": 18,
          "y": 3
         },
         {
          "elevation": -2,
          "feature": null,
          "key": "19:3",
          "rainfall": 5,
          "terrain": "ocean",
          "x": 19,
          "y": 3
         },
         {
          "elevation": 0,
          "feature": null,
          "key": "20:3",
          "rainfall": 11,
          "terrain": "ocean",
          "x": 20,
          "y": 3
         },
         {
          "elevation": 1,
          "feature": null,
          "key": "21:3",
          "rainfall": 16,
          "terrain": "land",
          "x": 21,
          "y": 3
         },
         {
          "elevation": 2,
          "feature": null,
          "key": "22:3",
          "rainfall": 20,
          "terrain": "land",
          "x": 22,
          "y": 3
         },
         {
          "elevation": 1,
          "feature": null,
          "key": "23:3",
          "rainfall": 21,
          "terrain": "land",
          "x": 23,
          "y": 3
         },
         {
          "elevation": 1,
          "feature": null,
          "key": "24:3",
          "rainfall": 21,
          "terrain": "land",
          "x": 24,
          "y": 3
         },
         {
          "elevation": 0,
          "feature": null,
          "key": "25:3",
          "rainfall": 20,
          "terrain": "ocean",
          "x": 25,
          "y": 3
         },
         {
          "elevation": 0,
          "feature": null,
          "key": "26:3",
          "rainfall": 19,
          "terrain": "ocean",
          "x": 26,
          "y": 3
         },
         {
          "elevation": 3,
          "feature": null,
          "key": "27:3",
          "rainfall": 18,
          "terrain": "land",
          "x": 27,
          "y": 3
         },
         {
          "elevation": 1,
          "feature": null,
          "key": "28:3",
          "rainfall": 13,
          "terrain": "land",
          "x": 28,
          "y": 3
         },
         {
          "elevation": 0,
          "feature": null,
          "key": "29:3",
          "rainfall": 9,
          "terrain": "ocean",
          "x": 29,
          "y": 3
         },
         {
          "elevation": 1,
          "feature": null,
          "key": "30:3",
          "rainfall": 8,
          "terrain": "land",
          "x": 30,
          "y": 3
         },
         {
          "elevation": 0,
          "feature": null,
          "key": "31:3",
          "rainfall": 5,
          "terrain": "ocean",
          "x": 31,
          "y": 3
         },
         {
          "elevation": 1,
          "feature": null,
          "key": "32:3",
          "rainfall": 5,
          "terrain": "land",
          "x": 32,
          "y": 3
         },
         {
          "elevation": -1,
          "feature": null,
          "key": "33:3",
          "rainfall": 3,
          "terrain": "ocean",
          "x": 33,
          "y": 3
         },
         {
          "elevation": 2,
          "feature": null,
          "key": "34:3",
          "rainfall": 5,
          "terrain": "land",
          "x": 34,
          "y": 3
         },
         {
          "elevation": 2,
          "feature": null,
          "key": "35:3",
          "rainfall": 4,
          "terrain": "land",
          "x": 35,
          "y": 3
         },
         {
          "elevation": 2,
          "feature": null,
          "key": "36:3",
          "rainfall": 2,
          "terrain": "land",
          "x": 36,
          "y": 3
         },
         {
          "elevation": 1,
          "feature": null,
          "key": "37:3",
          "rainfall": 1,
          "terrain": "land",
          "x": 37,
          "y": 3
         },
         {
          "elevation": 2,
          "feature": null,
          "key": "38:3",
          "rainfall": 2,
          "terrain": "land",
          "x": 38,
          "y": 3
         },
         {
          "elevation": 1,
          "feature": null,
          "key": "39:3",
          "rainfall": 1,
          "terrain": "land",
          "x": 39,
          "y": 3
         },
         {
          "elevation": -1,
          "feature": null,
          "key": "0:4",
          "rainfall": -1,
          "terrain": "ocean",
          "x": 0,
          "y": 4
         },
         {
          "elevation": -1,
          "feature": null,
          "key": "1:4",
          "rainfall": -1,
          "terrain": "ocean",
          "x": 1,
          "y": 4
         },
         {
          "elevation": 0,
          "feature": null,
          "key": "2:4",
          "rainfall": 0,
          "terrain": "ocean",
          "x": 2,
          "y": 4
         },
         {
          "elevation": -2,
          "feature": null,
          "key": "3:4",
          "rainfall": -1,
          "terrain": "ocean",
          "x": 3,
          "y": 4
         },
         {
          "elevation": 0,
          "feature": null,
          "key": "4:4",
          "rainfall": 2,
          "terrain": "ocean",
          "x": 4,
          "y": 4
         },
         {
          "elevation": 0,
          "feature": null,
          "key": "5:4",
          "rainfall": 3,
          "terrain": "ocean",
          "x": 5,
          "y": 4
         },
         {
          "elevation": -1,
          "feature": null,
          "key": "6:4",
          "rainfall": 4,
          "terrain": "ocean",
          "x": 6,
          "y": 4
         },
         {
          "elevation": -1,
          "feature": null,
          "key": "7:4",
          "rainfall": 7,
          "terrain": "ocean",
          "x": 7,
          "y": 4
         },
         {
          "elevation": -1,
          "feature": null,
          "key": "8:4",
          "rainfall": 9,
          "terrain": "ocean",
          "x": 8,
          "y": 4
         },
         {
          "elevation": 2,
          "feature": null,
          "key": "9:4",
          "rainfall": 14,
          "terrain": "land",
          "x": 9,
          "y": 4
         },
         {
          "elevation": -1,
          "feature": null,
          "key": "10:4",
          "rainfall": 13,
          "terrain": "ocean",
          "x": 10,
          "y": 4
         },
         {
          "elevation": 0,
          "feature": null,
          "key": "11:4",
          "rainfall": 16,
          "terrain": "ocean",
          "x": 11,
          "y": 4
         },
         {
          "elevation": -1,
          "feature": null,
          "key": "12:4",
          "rainfall": 15,
          "terrain": "ocean",
          "x": 12,
          "y": 4
         },
         {
          "elevation": 0,
          "feature": null,
          "key": "13:4",
          "rainfall": 16,
          "terrain": "ocean",
          "x": 13,
          "y": 4
         },
         {
          "elevation": 0,
          "feature": null,
          "key": "14:4",
          "rainfall": 16,
          "terrain": "ocean",
          "x": 14,
          "y": 4
         },
         {
          "elevation": 0,
          "feature": null,
          "key": "15:4",
          "rainfall": 15,
          "terrain": "ocean",
          "x": 15,
          "y": 4
         },
         {
          "elevation": 0,
          "feature": null,
          "key": "16:4",
          "rainfall": 8,
          "terrain": "ocean",
          "x": 16,
          "y": 4
         },
         {
          "elevation": 1,
          "feature": null,
          "key": "17:4",
          "rainfall": 5,
          "terrain": "land",
          "x": 17,
          "y": 4
         },
         {
          "elevation": 0,
          "feature": null,
          "key": "18:4",
          "rainfall": 2,
          "terrain": "ocean",
          "x": 18,
          "y": 4
         },
         {
          "elevation": 0,
          "feature": null,
          "key": "19:4",
          "rainfall": 4,
          "terrain": "ocean",
          "x": 19,
          "y": 4
         },
         {
          "elevation": 0,
          "feature": null,
          "key": "20:4",
          "rainfall": 7,
          "terrain": "ocean",
          "x": 20,
          "y": 4
         },
         {
          "elevation": 1,
          "feature": null,
          "key": "21:4",
          "rainfall": 10,
          "terrain": "land",
          "x": 21,
          "y": 4
         },
         {
          "elevation": -1,
          "feature": null,
          "key": "22:4",
          "rainfall": 10,
          "terrain": "ocean",
          "x": 22,
          "y": 4
         },
         {
          "elevation": -1,
          "feature": null,
          "key": "23:4",
          "rainfall": 10,
          "terrain": "ocean",
          "x": 23,
          "y": 4
         },
         {
          "elevation": 0,
          "feature": null,
          "key": "24:4",
          "rainfall": 11,
          "terrain": "ocean",
          "x": 24,
          "y": 4
         },
         {
          "elevation": 1,
          "feature": null,
          "key": "25:4",
          "rainfall": 12,
          "terrain": "land",
          "x": 25,
          "y": 4
         },
         {
          "elevation": 3,
          "feature": null,
          "key": "26:4",
          "rainfall": 14,
          "terrain": "land",
          "x": 26,
          "y": 4
         },
         {
          "elevation": 3,
          "feature": null,
          "key": "27:4",
          "rainfall": 13,
          "terrain": "land",
          "x": 27,
          "y": 4
         },
         {
          "elevation": 0,
          "feature": null,
          "key": "28:4",
          "rainfall": 9,
          "terrain": "ocean",
          "x": 28,
          "y": 4
         },
         {
          "elevation": 4,
          "feature": null,
          "key": "29:4",
          "rainfall": 10,
          "terrain": "land",
          "x": 29,
          "y": 4
         },
         {
          "elevation": 2,
          "feature": null,
          "key": "30:4",
          "rainfall": 6,
          "terrain": "land",
          "x": 30,
          "y": 4
         },
         {
          "elevation": 3,
          "feature": null,
          "key": "31:4",
          "rainfall": 6,
          "terrain": "land",
          "x": 31,
          "y": 4
         },
         {
          "elevation": 1,
          "feature": null,
          "key": "32:4",
          "rainfall": 3,
          "terrain": "land",
          "x": 32,
          "y": 4
         },
         {
          "elevation": 3,
          "feature": null,
          "key": "33:4",
          "rainfall": 5,
          "terrain": "land",
          "x": 33,
          "y": 4
         },
         {
          "elevation": 3,
          "feature": null,
          "key": "34:4",
          "rainfall": 5,
          "terrain": "land",
          "x": 34,
          "y": 4
         },
         {
          "elevation": 4,
          "feature": null,
          "key": "35:4",
          "rainfall": 5,
          "terrain": "land",
          "x": 35,
          "y": 4
         },
         {
          "elevation": 2,
          "feature": null,
          "key": "36:4",
          "rainfall": 2,
          "terrain": "land",
          "x": 36,
          "y": 4
         },
         {
          "elevation": 3,
          "feature": null,
          "key": "37:4",
          "rainfall": 3,
          "terrain": "land",
          "x": 37,
          "y": 4
         },
         {
          "elevation": 4,
          "feature": null,
          "key": "38:4",
          "rainfall": 4,
          "terrain": "land",
          "x": 38,
          "y": 4
         },
         {
          "elevation": 2,
          "feature": null,
          "key": "39:4",
          "rainfall": 2,
          "terrain": "land",
          "x": 39,
          "y": 4
         },
         {
          "elevation": -1,
          "feature": null,
          "key": "0:5",
          "rainfall": -1,
          "terrain": "ocean",
          "x": 0,
          "y": 5
         },
         {
          "elevation": 1,
          "feature": null,
          "key": "1:5",
          "rainfall": 1,
          "terrain": "land",
          "x": 1,
          "y": 5
         },
         {
          "elevation": 0,
          "feature": null,
          "key": "2:5",
          "rainfall": 0,
          "terrain": "ocean",
          "x": 2,
          "y": 5
         },
         {
          "elevation": 1,
          "feature": null,
          "key": "3:5",
          "rainfall": 2,
          "terrain": "land",
          "x": 3,
          "y": 5
         },
         {
          "elevation": 1,
          "feature": null,
          "key": "4:5",
          "rainfall": 3,
          "terrain": "land",
          "x": 4,
          "y": 5
         },
         {
          "elevation": -2,
          "feature": null,
          "key": "5:5",
          "rainfall": 1,
          "terrain": "ocean",
          "x": 5,
          "y": 5
         },
         {
          "elevation": 0,
          "feature": null,
          "key": "6:5",
          "rainfall": 5,
          "terrain": "ocean",
          "x": 6,
          "y": 5
         },
         {
          "elevation": -1,
          "feature": null,
          "key": "7:5",
          "rainfall": 5,
          "terrain": "ocean",
          "x": 7,
          "y": 5
         },
         {
          "elevation": 0,
          "feature": null,
          "key": "8:5",
          "rainfall": 7,
          "terrain": "ocean",
          "x": 8,
          "y": 5
         },
         {
          "elevation": 1,
          "feature": null,
          "key": "9:5",
          "rainfall": 11,
          "terrain": "land",
          "x": 9,
          "y": 5
         },
         {
          "elevation": 0,
          "feature": null,
          "key": "10:5",
          "rainfall": 12,
          "terrain": "ocean",
          "x": 10,
          "y": 5
         },
         {
          "elevation": -1,
          "feature": null,
          "key": "11:5",
          "rainfall": 12,
          "terrain": "ocean",
          "x": 11,
          "y": 5
         },
         {
          "elevation": -2,
          "feature": null,
          "key": "12:5",
          "rainfall": 14,
          "terrain": "ocean",
          "x": 12,
          "y": 5
         },
         {
          "elevation": 1,
          "feature": null,
          "key": "13:5",
          "rainfall": 16,
          "terrain": "land",
          "x": 13,
          "y": 5
         },
         {
          "elevation": -2,
          "feature": null,
          "key": "14:5",
          "rainfall": 12,
          "terrain": "ocean",
          "x": 14,
          "y": 5
         },
         {
          "elevation": 1,
          "feature": null,
          "key": "15:5",
          "rainfall": 12,
          "terrain": "land",
          "x": 15,
          "y": 5
         },
         {
          "elevation": -1,
          "feature": null,
          "key": "16:5",
          "rainfall": 7,
          "terrain": "ocean",
          "x": 16,
          "y": 5
         },
         {
          "elevation": 0,
          "feature": null,
          "key": "17:5",
          "rainfall": 6,
          "terrain": "ocean",
          "x": 17,
          "y": 5
         },
         {
          "elevation": 1,
          "feature": null,
          "key": "18:5",
          "rainfall": 5,
          "terrain": "land",
          "x": 18,
          "y": 5
         },
         {
          "elevation": 1,
          "feature": null,
          "key": "19:5",
          "rainfall": 6,
          "terrain": "land",
          "x": 19,
          "y": 5
         },
         {
          "elevation": 0,
          "feature": null,
          "key": "20:5",
          "rainfall": 6,
          "terrain": "ocean",
          "x": 20,
          "y": 5
         },
         {
          "elevation": 0,
          "feature": null,
          "key": "21:5",
          "rainfall": 7,
          "terrain": "ocean",
          "x": 21,
          "y": 5
         },
         {
          "elevation": 0,
          "feature": null,
          "key": "22:5",
          "rainfall": 6,
          "terrain": "ocean",
          "x": 22,
          "y": 5
         },
         {
          "elevation": -1,
          "feature": null,
          "key": "23:5",
          "rainfall": 5,
          "terrain": "ocean",
          "x": 23,
          "y": 5
         },
         {
          "elevation": 1,
          "feature": null,
          "key": "24:5",
          "rainfall": 7,
          "terrain": "land",
          "x": 24,
          "y": 5
         },
         {
          "elevation": 1,
          "feature": null,
          "key": "25:5",
          "rainfall": 7,
          "terrain": "land",
          "x": 25,
          "y": 5
         },
         {
          "elevation": 3,
          "feature": null,
          "key": "26:5",
          "rainfall": 9,
          "terrain": "land",
          "x": 26,
          "y": 5
         },
         {
          "elevation": 4,
          "feature": null,
          "key": "27:5",
          "rainfall": 10,
          "terrain": "land",
          "x": 27,
          "y": 5
         },
         {
          "elevation": 5,
          "feature": null,
          "key": "28:5",
          "rainfall": 11,
          "terrain": "land",
          "x": 28,
          "y": 5
         },
         {
          "elevation": 4,
          "feature": null,
          "key": "29:5",
          "rainfall": 9,
          "terrain": "land",
          "x": 29,
          "y": 5
         },
         {
          "elevation": 7,
          "feature": null,
          "key": "30:5",
          "rainfall": 9,
          "terrain": "land",
          "x": 30,
          "y": 5
         },
         {
          "elevation": 5,
          "feature": null,
          "key": "31:5",
          "rainfall": 6,
          "terrain": "land",
          "x": 31,
          "y": 5
         },
         {
          "elevation": 6,
          "feature": null,
          "key": "32:5",
          "rainfall": 7,
          "terrain": "land",
          "x": 32,
          "y": 5
         },
         {
          "elevation": 6,
          "feature": null,
          "key": "33:5",
          "rainfall": 7,
          "terrain": "land",
          "x": 33,
          "y": 5
         },
         {
          "elevation": 6,
          "feature": null,
          "key": "34:5",
          "rainfall": 7,
          "terrain": "land",
          "x": 34,
          "y": 5
         },
         {
          "elevation": 6,
          "feature": "Tearbrook",
          "key": "35:5",
          "rainfall": 7,
          "terrain": "land",
          "x": 35,
          "y": 5
         },
         {
          "elevation": 6,
          "feature": null,
          "key": "36:5",
          "rainfall": 6,
          "terrain": "land",
          "x": 36,
          "y": 5
         },
         {
          "elevation": 8,
          "feature": null,
          "key": "37:5",
          "rainfall": 8,
          "terrain": "land",
          "x": 37,
          "y": 5
         },
         {
          "elevation": 5,
          "feature": null,
          "key": "38:5",
          "rainfall": 5,
          "terrain": "land",
          "x": 38,
          "y": 5
         },
         {
          "elevation": 6,
          "feature": null,
          "key": "39:5",
          "rainfall": 6,
          "terrain": "land",
          "x": 39,
          "y": 5
         },
         {
          "elevation": 1,
          "feature": null,
          "key": "0:6",
          "rainfall": 1,
          "terrain": "land",
          "x": 0,
          "y": 6
         },
         {
          "elevation": -1,
          "feature": null,
          "key": "1:6",
          "rainfall": -1,
          "terrain": "ocean",
          "x": 1,
          "y": 6
         },
         {
          "elevation": -1,
          "feature": null,
          "key": "2:6",
          "rainfall": -1,
          "terrain": "ocean",
          "x": 2,
          "y": 6
         },
         {
          "elevation": -1,
          "feature": null,
          "key": "3:6",
          "rainfall": 0,
          "terrain": "ocean",
          "x": 3,
          "y": 6
         },
         {
          "elevation": 1,
          "feature": null,
          "key": "4:6",
          "rainfall": 3,
          "terrain": "land",
          "x": 4,
          "y": 6
         },
         {
          "elevation": 0,
          "feature": null,
          "key": "5:6",
          "rainfall": 3,
          "terrain": "ocean",
          "x": 5,
          "y": 6
         },
         {
          "elevation": 0,
          "feature": null,
          "key": "6:6",
          "rainfall": 4,
          "terrain": "ocean",
          "x": 6,
          "y": 6
         },
         {
          "elevation": 2,
          "feature": null,
          "key": "7:6",
          "rainfall": 7,
          "terrain": "land",
          "x": 7,
          "y": 6
         },
         {
          "elevation": -1,
          "feature": null,
          "key": "8:6",
          "rainfall": 5,
          "terrain": "ocean",
          "x": 8,
          "y": 6
         },
         {
          "elevation": 0,
          "feature": null,
          "key": "9:6",
          "rainfall": 8,
          "terrain": "ocean",
          "x": 9,
          "y": 6
         },
         {
          "elevation": -1,
          "feature": null,
          "key": "10:6",
          "rainfall": 9,
          "terrain": "ocean",
          "x": 10,
          "y": 6
         },
         {
          "elevation": -2,
          "feature": null,
          "key": "11:6",
          "rainfall": 10,
          "terrain": "ocean",
          "x": 11,
          "y": 6
         },
         {
          "elevation": 0,
          "feature": null,
          "key": "12:6",
          "rainfall": 13,
          "terrain": "ocean",
          "x": 12,
          "y": 6
         },
         {
          "elevation": 0,
          "feature": null,
          "key": "13:6",
          "rainfall": 14,
          "terrain": "ocean",
          "x": 13,
          "y": 6
         },
         {
          "elevation": 1,
          "feature": null,
          "key": "14:6",
          "rainfall": 13,
          "terrain": "land",
          "x": 14,
          "y": 6
         },
         {
          "elevation": 0,
          "feature": null,
          "key": "15:6",
          "rainfall": 9,
          "terrain": "ocean",
          "x": 15,
          "y": 6
         },
         {
          "elevation": 0,
          "feature": null,
          "key": "16:6",
          "rainfall": 7,
          "terrain": "ocean",
          "x": 16,
          "y": 6
         },
         {
          "elevation": 0,
          "feature": null,
          "key": "17:6",
          "rainfall": 7,
          "terrain": "ocean",
          "x": 17,
          "y": 6
         },
         {
          "elevation": 0,
          "feature": null,
          "key": "18:6",
          "rainfall": 7,
          "terrain": "ocean",
          "x": 18,
          "y": 6
         },
         {
          "elevation": 2,
          "feature": null,
          "key": "19:6",
          "rainfall": 9,
          "terrain": "land",
          "x": 19,
          "y": 6
         },
         {
          "elevation": -3,
          "feature": null,
          "key": "20:6",
          "rainfall": 4,
          "terrain": "ocean",
          "x": 20,
          "y": 6
         },
         {
          "elevation": -1,
          "feature": null,
          "key": "21:6",
          "rainfall": 5,
          "terrain": "ocean",
          "x": 21,
          "y": 6
         },
         {
          "elevation": -1,
          "feature": null,
          "key": "22:6",
          "rainfall": 4,
          "terrain": "ocean",
          "x": 22,
          "y": 6
         },
         {
          "elevation": -1,
          "feature": null,
          "key": "23:6",
          "rainfall": 4,
          "terrain": "ocean",
          "x": 23,
          "y": 6
         },
         {
          "elevation": 0,
          "feature": null,
          "key": "24:6",
          "rainfall": 5,
          "terrain": "ocean",
          "x": 24,
          "y": 6
         },
         {
          "elevation": 1,
          "feature": null,
          "key": "25:6",
          "rainfall": 6,
          "terrain": "land",
          "x": 25,
          "y": 6
         },
         {
          "elevation": 2,
          "feature": null,
          "key": "26:6",
          "rainfall": 7,
          "terrain": "land",
          "x": 26,
          "y": 6
         },
         {
          "elevation": 6,
          "feature": null,
          "key": "27:6",
          "rainfall": 10,
          "terrain": "land",
          "x": 27,
          "y": 6
         },
         {
          "elevation": 9,
          "feature": null,
          "key": "28:6",
          "rainfall": 13,
          "terrain": "land",
          "x": 28,
          "y": 6
         },
         {
          "elevation": 10,
          "feature": null,
          "key": "29:6",
          "rainfall": 13,
          "terrain": "land",
          "x": 29,
          "y": 6
         },
         {
          "elevation": 13,
          "feature": null,
          "key": "30:6",
          "rainfall": 14,
          "terrain": "land",
          "x": 30,
          "y": 6
         },
         {
          "elevation": 12,
          "feature": null,
          "key": "31:6",
          "rainfall": 12,
          "terrain": "land",
          "x": 31,
          "y": 6
         },
         {
          "elevation": 13,
          "feature": null,
          "key": "32:6",
          "rainfall": 13,
          "terrain": "land",
          "x": 32,
          "y": 6
         },
         {
          "elevation": 13,
          "feature": null,
          "key": "33:6",
          "rainfall": 13,
          "terrain": "land",
          "x": 33,
          "y": 6
         },
         {
          "elevation": 14,
          "feature": null,
          "key": "34:6",
          "rainfall": 14,
          "terrain": "land",
          "x": 34,
          "y": 6
         },
         {
          "elevation": 12,
          "feature": null,
          "key": "35:6",
          "rainfall": 12,
          "terrain": "land",
          "x": 35,
          "y": 6
         },
         {
          "elevation": 13,
          "feature": null,
          "key": "36:6",
          "rainfall": 13,
          "terrain": "land",
          "x": 36,
          "y": 6
         },
         {
          "elevation": 11,
          "feature": null,
          "key": "37:6",
          "rainfall": 11,
          "terrain": "land",
          "x": 37,
          "y": 6
         },
         {
          "elevation": 10,
          "feature": null,
          "key": "38:6",
          "rainfall": 10,
          "terrain": "land",
          "x": 38,
          "y": 6
         },
         {
          "elevation": 9,
          "feature": null,
          "key": "39:6",
          "rainfall": 9,
          "terrain": "land",
          "x": 39,
          "y": 6
         },
         {
          "elevation": 1,
          "feature": null,
          "key": "0:7",
          "rainfall": 1,
          "terrain": "land",
          "x": 0,
          "y": 7
         },
         {
          "elevation": 0,
          "feature": null,
          "key": "1:7",
          "rainfall": 0,
          "terrain": "ocean",
          "x": 1,
          "y": 7
         },
         {
          "elevation": 2,
          "feature": null,
          "key": "2:7",
          "rainfall": 2,
          "terrain": "land",
          "x": 2,
          "y": 7
         },
         {
          "elevation": -3,
          "feature": null,
          "key": "3:7",
          "rainfall": -2,
          "terrain": "ocean",
          "x": 3,
          "y": 7
         },
         {
          "elevation": 0,
          "feature": null,
          "key": "4:7",
          "rainfall": 2,
          "terrain": "ocean",
          "x": 4,
          "y": 7
         },
         {
          "elevation": -1,
          "feature": null,
          "key": "5:7",
          "rainfall": 1,
          "terrain": "ocean",
          "x": 5,
          "y": 7
         },
         {
          "elevation": 0,
          "feature": null,
          "key": "6:7",
          "rainfall": 3,
          "terrain": "ocean",
          "x": 6,
          "y": 7
         },
         {
          "elevation": 1,
          "feature": null,
          "key": "7:7",
          "rainfall": 5,
          "terrain": "land",
          "x": 7,
          "y": 7
         },
         {
          "elevation": 1,
          "feature": null,
          "key": "8:7",
          "rainfall": 5,
          "terrain": "land",
          "x": 8,
          "y": 7
         },
         {
          "elevation": 0,
          "feature": null,
          "key": "9:7",
          "rainfall": 5,
          "terrain": "ocean",
          "x": 9,
          "y": 7
         },
         {
          "elevation": 0,
          "feature": null,
          "key": "10:7",
          "rainfall": 7,
          "terrain": "ocean",
          "x": 10,
          "y": 7
         },
         {
          "elevation": 0,
          "feature": null,
          "key": "11:7",
          "rainfall": 10,
          "terrain": "ocean",
          "x": 11,
          "y": 7
         },
         {
          "elevation": 1,
          "feature": null,
          "key": "12:7",
          "rainfall": 13,
          "terrain": "land",
          "x": 12,
          "y": 7
         },
         {
          "elevation": 1,
          "feature": null,
          "key": "13:7",
          "rainfall": 12,
          "terrain": "land",
          "x": 13,
          "y": 7
         },
         {
          "elevation": 0,
          "feature": null,
          "key": "14:7",
          "rainfall": 12,
          "terrain": "ocean",
          "x": 14,
          "y": 7
         },
         {
          "elevation": 0,
          "feature": null,
          "key": "15:7",
          "rainfall": 9,
          "terrain": "ocean",
          "x": 15,
          "y": 7
         },
         {
          "elevation": 1,
          "feature": null,
          "key": "16:7",
          "rainfall": 8,
          "terrain": "land",
          "x": 16,
          "y": 7
         },
         {
          "elevation": 0,
          "feature": null,
          "key": "17:7",
          "rainfall": 9,
          "terrain": "ocean",
          "x": 17,
          "y": 7
         },
         {
          "elevation": 0,
          "feature": null,
          "key": "18:7",
          "rainfall": 10,
          "terrain": "ocean",
          "x": 18,
          "y": 7
         },
         {
          "elevation": -1,
          "feature": null,
          "key": "19:7",
          "rainfall": 10,
          "terrain": "ocean",
          "x": 19,
          "y": 7
         },
         {
          "elevation": 0,
          "feature": null,
          "key": "20:7",
          "rainfall": 10,
          "terrain": "ocean",
          "x": 20,
          "y": 7
         },
         {
          "elevation": 1,
          "feature": null,
          "key": "21:7",
          "rainfall": 10,
          "terrain": "land",
          "x": 21,
          "y": 7
         },
         {
          "elevation": 1,
          "feature": null,
          "key": "22:7",
          "rainfall": 9,
          "terrain": "land",
          "x": 22,
          "y": 7
         },
         {
          "elevation": 1,
          "feature": null,
          "key": "23:7",
          "rainfall": 9,
          "terrain": "land",
          "x": 23,
          "y": 7
         },
         {
          "elevation": 0,
          "feature": null,
          "key": "24:7",
          "rainfall": 8,
          "terrain": "ocean",
          "x": 24,
          "y": 7
         },
         {
          "elevation": -1,
          "feature": null,
          "key": "25:7",
          "rainfall": 7,
          "terrain": "ocean",
          "x": 25,
          "y": 7
         },
         {
          "elevation": 2,
          "feature": null,
          "key": "26:7",
          "rainfall": 9,
          "terrain": "land",
          "x": 26,
          "y": 7
         },
         {
          "elevation": 4,
          "feature": null,
          "key": "27:7",
          "rainfall": 10,
          "terrain": "land",
          "x": 27,
          "y": 7
         },
         {
          "elevation": 10,
          "feature": null,
          "key": "28:7",
          "rainfall": 14,
          "terrain": "land",
          "x": 28,
          "y": 7
         },
         {
          "elevation": 14,
          "feature": null,
          "key": "29:7",
          "rainfall": 17,
          "terrain": "land",
          "x": 29,
          "y": 7
         },
         {
          "elevation": 15,
          "feature": null,
          "key": "30:7",
          "rainfall": 16,
          "terrain": "land",
          "x": 30,
          "y": 7
         },
         {
          "elevation": 20,
          "feature": null,
          "key": "31:7",
          "rainfall": 20,
          "terrain": "land",
          "x": 31,
          "y": 7
         },
         {
          "elevation": 20,
          "feature": null,
          "key": "32:7",
          "rainfall": 20,
          "terrain": "land",
          "x": 32,
          "y": 7
         },
         {
          "elevation": 22,
          "feature": null,
          "key": "33:7",
          "rainfall": 22,
          "terrain": "land",
          "x": 33,
          "y": 7
         },
         {
          "elevation": 20,
          "feature": null,
          "key": "34:7",
          "rainfall": 20,
          "terrain": "land",
          "x": 34,
          "y": 7
         },
         {
          "elevation": 22,
          "feature": null,
          "key": "35:7",
          "rainfall": 22,
          "terrain": "land",
          "x": 35,
          "y": 7
         },
         {
          "elevation": 20,
          "feature": null,
          "key": "36:7",
          "rainfall": 20,
          "terrain": "land",
          "x": 36,
          "y": 7
         },
         {
          "elevation": 15,
          "feature": null,
          "key": "37:7",
          "rainfall": 15,
          "terrain": "land",
          "x": 37,
          "y": 7
         },
         {
          "elevation": 14,
          "feature": null,
          "key": "38:7",
          "rainfall": 14,
          "terrain": "land",
          "x": 38,
          "y": 7
         },
         {
          "elevation": 12,
          "feature": null,
          "key": "39:7",
          "rainfall": 12,
          "terrain": "land",
          "x": 39,
          "y": 7
         },
         {
          "elevation": 1,
          "feature": null,
          "key": "0:8",
          "rainfall": 1,
          "terrain": "land",
          "x": 0,
          "y": 8
         },
         {
          "elevation": 0,
          "feature": null,
          "key": "1:8",
          "rainfall": 0,
          "terrain": "ocean",
          "x": 1,
          "y": 8
         },
         {
          "elevation": 0,
          "feature": null,
          "key": "2:8",
          "rainfall": 0,
          "terrain": "ocean",
          "x": 2,
          "y": 8
         },
         {
          "elevation": 1,
          "feature": null,
          "key": "3:8",
          "rainfall": 2,
          "terrain": "land",
          "x": 3,
          "y": 8
         },
         {
          "elevation": 0,
          "feature": null,
          "key": "4:8",
          "rainfall": 1,
          "terrain": "ocean",
          "x": 4,
          "y": 8
         },
         {
          "elevation": 0,
          "feature": null,
          "key": "5:8",
          "rainfall": 1,
          "terrain": "ocean",
          "x": 5,
          "y": 8
         },
         {
          "elevation": 0,
          "feature": null,
          "key": "6:8",
          "rainfall": 2,
          "terrain": "ocean",
          "x": 6,
          "y": 8
         },
         {
          "elevation": -1,
          "feature": null,
          "key": "7:8",
          "rainfall": 1,
          "terrain": "ocean",
          "x": 7,
          "y": 8
         },
         {
          "elevation": -1,
          "feature": null,
          "key": "8:8",
          "rainfall": 1,
          "terrain": "ocean",
          "x": 8,
          "y": 8
         },
         {
          "elevation": -3,
          "feature": null,
          "key": "9:8",
          "rainfall": 0,
          "terrain": "ocean",
          "x": 9,
          "y": 8
         },
         {
          "elevation": 0,
          "feature": null,
          "key": "10:8",
          "rainfall": 5,
          "terrain": "ocean",
          "x": 10,
          "y": 8
         },
         {
          "elevation": 0,
          "feature": null,
          "key": "11:8",
          "rainfall": 8,
          "terrain": "ocean",
          "x": 11,
          "y": 8
         },
         {
          "elevation": 0,
          "feature": null,
          "key": "12:8",
          "rainfall": 10,
          "terrain": "ocean",
          "x": 12,
          "y": 8
         },
         {
          "elevation": 1,
          "feature": null,
          "key": "13:8",
          "rainfall": 11,
          "terrain": "land",
          "x": 13,
          "y": 8
         },
         {
          "elevation": -2,
          "feature": null,
          "key": "14:8",
          "rainfall": 8,
          "terrain": "ocean",
          "x": 14,
          "y": 8
         },
         {
          "elevation": -1,
          "feature": null,
          "key": "15:8",
          "rainfall": 9,
          "terrain": "ocean",
          "x": 15,
          "y": 8
         },
         {
          "elevation": 0,
          "feature": null,
          "key": "16:8",
          "rainfall": 9,
          "terrain": "ocean",
          "x": 16,
          "y": 8
         },
         {
          "elevation": -2,
          "feature": null,
          "key": "17:8",
          "rainfall": 9,
          "terrain": "ocean",
          "x": 17,
          "y": 8
         },
         {
          "elevation": 0,
          "feature": null,
          "key": "18:8",
          "rainfall": 13,
          "terrain": "ocean",
          "x": 18,
          "y": 8
         },
         {
          "elevation": -1,
          "feature": null,
          "key": "19:8",
          "rainfall": 13,
          "terrain": "ocean",
          "x": 19,
          "y": 8
         },
         {
          "elevation": 0,
          "feature": null,
          "key": "20:8",
          "rainfall": 15,
          "terrain": "ocean",
          "x": 20,
          "y": 8
         },
         {
          "elevation": -1,
          "feature": null,
          "key": "21:8",
          "rainfall": 12,
          "terrain": "ocean",
          "x": 21,
          "y": 8
         },
         {
          "elevation": -1,
          "feature": null,
          "key": "22:8",
          "rainfall": 11,
          "terrain": "ocean",
          "x": 22,
          "y": 8
         },
         {
          "elevation": 1,
          "feature": null,
          "key": "23:8",
          "rainfall": 13,
          "terrain": "land",
          "x": 23,
          "y": 8
         },
         {
          "elevation": 0,
          "feature": null,
          "key": "24:8",
          "rainfall": 12,
          "terrain": "ocean",
          "x": 24,
          "y": 8
         },
         {
          "elevation": 2,
          "feature": null,
          "key": "25:8",
          "rainfall": 13,
          "terrain": "land",
          "x": 25,
          "y": 8
         },
         {
          "elevation": 3,
          "feature": null,
          "key": "26:8",
          "rainfall": 13,
          "terrain": "land",
          "x": 26,
          "y": 8
         },
         {
          "elevation": 4,
          "feature": null,
          "key": "27:8",
          "rainfall": 11,
          "terrain": "land",
          "x": 27,
          "y": 8
         },
         {
          "elevation": 8,
          "feature": null,
          "key": "28:8",
          "rainfall": 12,
          "terrain": "land",
          "x": 28,
          "y": 8
         },
         {
          "elevation": 16,
          "feature": null,
          "key": "29:8",
          "rainfall": 18,
          "terrain": "land",
          "x": 29,
          "y": 8
         },
         {
          "elevation": 23,
          "feature": null,
          "key": "30:8",
          "rainfall": 23,
          "terrain": "land",
          "x": 30,
          "y": 8
         },
         {
          "elevation": 26,
          "feature": null,
          "key": "31:8",
          "rainfall": 26,
          "terrain": "mountain",
          "x": 31,
          "y": 8
         },
         {
          "elevation": 30,
          "feature": null,
          "key": "32:8",
          "rainfall": 30,
          "terrain": "mountain",
          "x": 32,
          "y": 8
         },
         {
          "elevation": 34,
          "feature": null,
          "key": "33:8",
          "rainfall": 34,
          "terrain": "mountain",
          "x": 33,
          "y": 8
         },
         {
          "elevation": 36,
          "feature": null,
          "key": "34:8",
          "rainfall": 36,
          "terrain": "mountain",
          "x": 34,
          "y": 8
         },
         {
          "elevation": 33,
          "feature": null,
          "key": "35:8",
          "rainfall": 33,
          "terrain": "mountain",
          "x": 35,
          "y": 8
         },
         {
          "elevation": 27,
          "feature": null,
          "key": "36:8",
          "rainfall": 27,
          "terrain": "mountain",
          "x": 36,
          "y": 8
         },
         {
          "elevation": 26,
          "feature": null,
          "key": "37:8",
          "rainfall": 26,
          "terrain": "mountain",
          "x": 37,
          "y": 8
         },
         {
          "elevation": 21,
          "feature": null,
          "key": "38:8",
          "rainfall": 21,
          "terrain": "land",
          "x": 38,
          "y": 8
         },
         {
          "elevation": 16,
          "feature": null,
          "key": "39:8",
          "rainfall": 16,
          "terrain": "land",
          "x": 39,
          "y": 8
         },
         {
          "elevation": -1,
          "feature": null,
          "key": "0:9",
          "rainfall": -1,
          "terrain": "ocean",
          "x": 0,
          "y": 9
         },
         {
          "elevation": 1,
          "feature": null,
          "key": "1:9",
          "rainfall": 1,
          "terrain": "land",
          "x": 1,
          "y": 9
         },
         {
          "elevation": 0,
          "feature": null,
          "key": "2:9",
          "rainfall": 0,
          "terrain": "ocean",
          "x": 2,
          "y": 9
         },
         {
          "elevation": -1,
          "feature": null,
          "key": "3:9",
          "rainfall": -1,
          "terrain": "ocean",
          "x": 3,
          "y": 9
         },
         {
          "elevation": 3,
          "feature": null,
          "key": "4:9",
          "rainfall": 3,
          "terrain": "land",
          "x": 4,
          "y": 9
         },
         {
          "elevation": -1,
          "feature": null,
          "key": "5:9",
          "rainfall": -1,
          "terrain": "ocean",
          "x": 5,
          "y": 9
         },
         {
          "elevation": 1,
          "feature": null,
          "key": "6:9",
          "rainfall": 1,
          "terrain": "land",
          "x": 6,
          "y": 9
         },
         {
          "elevation": 4,
          "feature": null,
          "key": "7:9",
          "rainfall": 4,
          "terrain": "land",
          "x": 7,
          "y": 9
         },
         {
          "elevation": 1,
          "feature": null,
          "key": "8:9",
          "rainfall": 1,
          "terrain": "land",
          "x": 8,
          "y": 9
         },
         {
          "elevation": 1,
          "feature": null,
          "key": "9:9",
          "rainfall": 2,
          "terrain": "land",
          "x": 9,
          "y": 9
         },
         {
          "elevation": 0,
          "feature": null,
          "key": "10:9",
          "rainfall": 3,
          "terrain": "ocean",
          "x": 10,
          "y": 9
         },
         {
          "elevation": 2,
          "feature": null,
          "key": "11:9",
          "rainfall": 7,
          "terrain": "land",
          "x": 11,
          "y": 9
         },
         {
          "elevation": 0,
          "feature": null,
          "key": "12:9",
          "rainfall": 7,
          "terrain": "ocean",
          "x": 12,
          "y": 9
         },
         {
          "elevation": 0,
          "feature": null,
          "key": "13:9",
          "rainfall": 9,
          "terrain": "ocean",
          "x": 13,
          "y": 9
         },
         {
          "elevation": 0,
          "feature": null,
          "key": "14:9",
          "rainfall": 10,
          "terrain": "ocean",
          "x": 14,
          "y": 9
         },
         {
          "elevation": -2,
          "feature": null,
          "key": "15:9",
          "rainfall": 10,
          "terrain": "ocean",
          "x": 15,
          "y": 9
         },
         {
          "elevation": -1,
          "feature": null,
          "key": "16:9",
          "rainfall": 9,
          "terrain": "ocean",
          "x": 16,
          "y": 9
         },
         {
          "elevation": 1,
          "feature": null,
          "key": "17:9",
          "rainfall": 14,
          "terrain": "land",
          "x": 17,
          "y": 9
         },
         {
          "elevation": 0,
          "feature": null,
          "key": "18:9",
          "rainfall": 14,
          "terrain": "ocean",
          "x": 18,
          "y": 9
         },
         {
          "elevation": -1,
          "feature": null,
          "key": "19:9",
          "rainfall": 17,
          "terrain": "ocean",
          "x": 19,
          "y": 9
         },
         {
          "elevation": 1,
          "feature": null,
          "key": "20:9",
          "rainfall": 22,
          "terrain": "land",
          "x": 20,
          "y": 9
         },
         {
          "elevation": -1,
          "feature": null,
          "key": "21:9",
          "rainfall": 20,
          "terrain": "ocean",
          "x": 21,
          "y": 9
         },
         {
          "elevation": 0,
          "feature": null,
          "key": "22:9",
          "rainfall": 20,
          "terrain": "ocean",
          "x": 22,
          "y": 9
         },
         {
          "elevation": 0,
          "feature": null,
          "key": "23:9",
          "rainfall": 20,
          "terrain": "ocean",
          "x": 23,
          "y": 9
         },
         {
          "elevation": 1,
          "feature": null,
          "key": "24:9",
          "rainfall": 20,
          "terrain": "land",
          "x": 24,
          "y": 9
         },
         {
          "elevation": 1,
          "feature": null,
          "key": "25:9",
          "rainfall": 17,
          "terrain": "land",
          "x": 25,
          "y": 9
         },
         {
          "elevation": 2,
          "feature": null,
          "key": "26:9",
          "rainfall": 15,
          "terrain": "land",
          "x": 26,
          "y": 9
         },
         {
          "elevation": 4,
          "feature": null,
          "key": "27:9",
          "rainfall": 13,
          "terrain": "land",
          "x": 27,
          "y": 9
         },
         {
          "elevation": 10,
          "feature": null,
          "key": "28:9",
          "rainfall": 14,
          "terrain": "land",
          "x": 28,
          "y": 9
         },
         {
          "elevation": 19,
          "feature": null,
          "key": "29:9",
          "rainfall": 21,
          "terrain": "land",
          "x": 29,
          "y": 9
         },
         {
          "elevation": 26,
          "feature": null,
          "key": "30:9",
          "rainfall": 26,
          "terrain": "mountain",
          "x": 30,
          "y": 9
         },
         {
          "elevation": 33,
          "feature": null,
          "key": "31:9",
          "rainfall": 33,
          "terrain": "mountain",
          "x": 31,
          "y": 9
         },
         {
          "elevation": 39,
          "feature": null,
          "key": "32:9",
          "rainfall": 39,
          "terrain": "mountain",
          "x": 32,
          "y": 9
         },
         {
          "elevation": 44,
          "feature": null,
          "key": "33:9",
          "rainfall": 44,
          "terrain": "mountain",
          "x": 33,
          "y": 9
         },
         {
          "elevation": 45,
          "feature": null,
          "key": "34:9",
          "rainfall": 45,
          "terrain": "mountain",
          "x": 34,
          "y": 9
         },
         {
          "elevation": 44,
          "feature": null,
          "key": "35:9",
          "rainfall": 44,
          "terrain": "mountain",
          "x": 35,
          "y": 9
         },
         {
          "elevation": 40,
          "feature": null,
          "key": "36:9",
          "rainfall": 40,
          "terrain": "mountain",
          "x": 36,
          "y": 9
         },
         {
          "elevation": 32,
          "feature": null,
          "key": "37:9",
          "rainfall": 32,
          "terrain": "mountain",
          "x": 37,
          "y": 9
         },
         {
          "elevation": 25,
          "feature": null,
          "key": "38:9",
          "rainfall": 25,
          "terrain": "mountain",
          "x": 38,
          "y": 9
         },
         {
          "elevation": 22,
          "feature": "Lilyspike",
          "key": "39:9",
          "rainfall": 22,
          "terrain": "land",
          "x": 39,
          "y": 9
         },
         {
          "elevation": 3,
          "feature": null,
          "key": "0:10",
          "rainfall": 3,
          "terrain": "land",
          "x": 0,
          "y": 10
         },
         {
          "elevation": 2,
          "feature": null,
          "key": "1:10",
          "rainfall": 2,
          "terrain": "land",
          "x": 1,
          "y": 10
         },
         {
          "elevation": 0,
          "feature": null,
          "key": "2:10",
          "rainfall": 0,
          "terrain": "ocean",
          "x": 2,
          "y": 10
         },
         {
          "elevation": 0,
          "feature": null,
          "key": "3:10",
          "rainfall": 0,
          "terrain": "ocean",
          "x": 3,
          "y": 10
         },
         {
          "elevation": 0,
          "feature": null,
          "key": "4:10",
          "rainfall": 0,
          "terrain": "ocean",
          "x": 4,
          "y": 10
         },
         {
          "elevation": 1,
          "feature": null,
          "key": "5:10",
          "rainfall": 1,
          "terrain": "land",
          "x": 5,
          "y": 10
         },
         {
          "elevation": -1,
          "feature": null,
          "key": "6:10",
          "rainfall": -1,
          "terrain": "ocean",
          "x": 6,
          "y": 10
         },
         {
          "elevation": 1,
          "feature": null,
          "key": "7:10",
          "rainfall": 2,
          "terrain": "land",
          "x": 7,
          "y": 10
         },
         {
          "elevation": 1,
          "feature": null,
          "key": "8:10",
          "rainfall": 2,
          "terrain": "land",
          "x": 8,
          "y": 10
         },
         {
          "elevation": 1,
          "feature": null,
          "key": "9:10",
          "rainfall": 3,
          "terrain": "land",
          "x": 9,
          "y": 10
         },
         {
          "elevation": -1,
          "feature": null,
          "key": "10:10",
          "rainfall": 4,
          "terrain": "ocean",
          "x": 10,
          "y": 10
         },
         {
          "elevation": 1,
          "feature": null,
          "key": "11:10",
          "rainfall": 8,
          "terrain": "land",
          "x": 11,
          "y": 10
         },
         {
          "elevation": 0,
          "feature": null,
          "key": "12:10",
          "rainfall": 11,
          "terrain": "ocean",
          "x": 12,
          "y": 10
         },
         {
          "elevation": 0,
          "feature": null,
          "key": "13:10",
          "rainfall": 14,
          "terrain": "ocean",
          "x": 13,
          "y": 10
         },
         {
          "elevation": 0,
          "feature": null,
          "key": "14:10",
          "rainfall": 17,
          "terrain": "ocean",
          "x": 14,
          "y": 10
         },
         {
          "elevation": 2,
          "feature": null,
          "key": "15:10",
          "rainfall": 19,
          "terrain": "land",
          "x": 15,
          "y": 10
         },
         {
          "elevation": -1,
          "feature": null,
          "key": "16:10",
          "rainfall": 16,
          "terrain": "ocean",
          "x": 16,
          "y": 10
         },
         {
          "elevation": 0,
          "feature": null,
          "key": "17:10",
          "rainfall": 20,
          "terrain": "ocean",
          "x": 17,
          "y": 10
         },
         {
          "elevation": -1,
          "feature": null,
          "key": "18:10",
          "rainfall": 21,
          "terrain": "ocean",
          "x": 18,
          "y": 10
         },
         {
          "elevation": -1,
          "feature": null,
          "key": "19:10",
          "rainfall": 22,
          "terrain": "ocean",
          "x": 19,
          "y": 10
         },
         {
          "elevation": -1,
          "feature": null,
          "key": "20:10",
          "rainfall": 26,
          "terrain": "ocean",
          "x": 20,
          "y": 10
         },
         {
          "elevation": -1,
          "feature": null,
          "key": "21:10",
          "rainfall": 29,
          "terrain": "ocean",
          "x": 21,
          "y": 10
         },
         {
          "elevation": 1,
          "feature": null,
          "key": "22:10",
          "rainfall": 31,
          "terrain": "land",
          "x": 22,
          "y": 10
         },
         {
          "elevation": 1,
          "feature": null,
          "key": "23:10",
          "rainfall": 30,
          "terrain": "land",
          "x": 23,
          "y": 10
         },
         {
          "elevation": 0,
          "feature": null,
          "key": "24:10",
          "rainfall": 26,
          "terrain": "ocean",
          "x": 24,
          "y": 10
         },
         {
          "elevation": 1,
          "feature": null,
          "key": "25:10",
          "rainfall": 21,
          "terrain": "land",
          "x": 25,
          "y": 10
         },
         {
          "elevation": 2,
          "feature": null,
          "key": "26:10",
          "rainfall": 18,
          "terrain": "land",
          "x": 26,
          "y": 10
         },
         {
          "elevation": 4,
          "feature": null,
          "key": "27:10",
          "rainfall": 14,
          "terrain": "land",
          "x": 27,
          "y": 10
         },
         {
          "elevation": 11,
          "feature": null,
          "key": "28:10",
          "rainfall": 16,
          "terrain": "land",
          "x": 28,
          "y": 10
         },
         {
          "elevation": 17,
          "feature": null,
          "key": "29:10",
          "rainfall": 20,
          "terrain": "land",
          "x": 29,
          "y": 10
         },
         {
          "elevation": 26,
          "feature": null,
          "key": "30:10",
          "rainfall": 26,
          "terrain": "mountain",
          "x": 30,
          "y": 10
         },
         {
          "elevation": 35,
          "feature": null,
          "key": "31:10",
          "rainfall": 35,
          "terrain": "mountain",
          "x": 31,
          "y": 10
         },
         {
          "elevation": 50,
          "feature": null,
          "key": "32:10",
          "rainfall": 50,
          "terrain": "mountain",
          "x": 32,
          "y": 10
         },
         {
          "elevation": 55,
          "feature": null,
          "key": "33:10",
          "rainfall": 55,
          "terrain": "mountain",
          "x": 33,
          "y": 10
         },
         {
          "elevation": 56,
          "feature": null,
          "key": "34:10",
          "rainfall": 56,
          "terrain": "mountain",
          "x": 34,
          "y": 10
         },
         {
          "elevation": 55,
          "feature": null,
          "key": "35:10",
          "rainfall": 55,
          "terrain": "mountain",
          "x": 35,
          "y": 10
         },
         {
          "elevation": 49,
          "feature": null,
          "key": "36:10",
          "rainfall": 49,
          "terrain": "mountain",
          "x": 36,
          "y": 10
         },
         {
          "elevation": 39,
          "feature": null,
          "key": "37:10",
          "rainfall": 39,
          "terrain": "mountain",
          "x": 37,
          "y": 10
         },
         {
          "elevation": 32,
          "feature": null,
          "key": "38:10",
          "rainfall": 32,
          "terrain": "mountain",
          "x": 38,
          "y": 10
         },
         {
          "elevation": 24,
          "feature": null,
          "key": "39:10",
          "rainfall": 24,
          "terrain": "land",
          "x": 39,
          "y": 10
         },
         {
          "elevation": 4,
          "feature": null,
          "key": "0:11",
          "rainfall": 4,
          "terrain": "land",
          "x": 0,
          "y": 11
         },
         {
          "elevation": 2,
          "feature": null,
          "key": "1:11",
          "rainfall": 2,
          "terrain": "land",
          "x": 1,
          "y": 11
         },
         {
          "elevation": 2,
          "feature": null,
          "key": "2:11",
          "rainfall": 2,
          "terrain": "land",
          "x": 2,
          "y": 11
         },
         {
          "elevation": 2,
          "feature": null,
          "key": "3:11",
          "rainfall": 2,
          "terrain": "land",
          "x": 3,
          "y": 11
         },
         {
          "elevation": -1,
          "feature": null,
          "key": "4:11",
          "rainfall": -1,
          "terrain": "ocean",
          "x": 4,
          "y": 11
         },
         {
          "elevation": -1,
          "feature": null,
          "key": "5:11",
          "rainfall": -1,
          "terrain": "ocean",
          "x": 5,
          "y": 11
         },
         {
          "elevation": 1,
          "feature": null,
          "key": "6:11",
          "rainfall": 1,
          "terrain": "land",
          "x": 6,
          "y": 11
         },
         {
          "elevation": 1,
          "feature": null,
          "key": "7:11",
          "rainfall": 2,
          "terrain": "land",
          "x": 7,
          "y": 11
         },
         {
          "elevation": 0,
          "feature": null,
          "key": "8:11",
          "rainfall": 2,
          "terrain": "ocean",
          "x": 8,
          "y": 11
         },
         {
          "elevation": 0,
          "feature": null,
          "key": "9:11",
          "rainfall": 3,
          "terrain": "ocean",
          "x": 9,
          "y": 11
         },
         {
          "elevation": 1,
          "feature": null,
          "key": "10:11",
          "rainfall": 9,
          "terrain": "land",
          "x": 10,
          "y": 11
         },
         {
          "elevation": 1,
          "feature": null,
          "key": "11:11",
          "rainfall": 14,
          "terrain": "land",
          "x": 11,
          "y": 11
         },
         {
          "elevation": 1,
          "feature": null,
          "key": "12:11",
          "rainfall": 20,
          "terrain": "land",
          "x": 12,
          "y": 11
         },
         {
          "elevation": -1,
          "feature": null,
          "key": "13:11",
          "rainfall": 23,
          "terrain": "ocean",
          "x": 13,
          "y": 11
         },
         {
          "elevation": 0,
          "feature": null,
          "key": "14:11",
          "rainfall": 28,
          "terrain": "ocean",
          "x": 14,
          "y": 11
         },
         {
          "elevation": -2,
          "feature": null,
          "key": "15:11",
          "rainfall": 27,
          "terrain": "ocean",
          "x": 15,
          "y": 11
         },
         {
          "elevation": -1,
          "feature": null,
          "key": "16:11",
          "rainfall": 27,
          "terrain": "ocean",
          "x": 16,
          "y": 11
         },
         {
          "elevation": -1,
          "feature": null,
          "key": "17:11",
          "rainfall": 28,
          "terrain": "ocean",
          "x": 17,
          "y": 11
         },
         {
          "elevation": 1,
          "feature": null,
          "key": "18:11",
          "rainfall": 31,
          "terrain": "land",
          "x": 18,
          "y": 11
         },
         {
          "elevation": -1,
          "feature": null,
          "key": "19:11",
          "rainfall": 29,
          "terrain": "ocean",
          "x": 19,
          "y": 11
         },
         {
          "elevation": 2,
          "feature": null,
          "key": "20:11",
          "rainfall": 36,
          "terrain": "land",
          "x": 20,
          "y": 11
         },
         {
          "elevation": -1,
          "feature": null,
          "key": "21:11",
          "rainfall": 38,
          "terrain": "ocean",
          "x": 21,
          "y": 11
         },
         {
          "elevation": 0,
          "feature": null,
          "key": "22:11",
          "rainfall": 41,
          "terrain": "ocean",
          "x": 22,
          "y": 11
         },
         {
          "elevation": -1,
          "feature": null,
          "key": "23:11",
          "rainfall": 38,
          "terrain": "ocean",
          "x": 23,
          "y": 11
         },
         {
          "elevation": 1,
          "feature": null,
          "key": "24:11",
          "rainfall": 34,
          "terrain": "land",
          "x": 24,
          "y": 11
         },
         {
          "elevation": 1,
          "feature": null,
          "key": "25:11",
          "rainfall": 26,
          "terrain": "land",
          "x": 25,
          "y": 11
         },
         {
          "elevation": 2,
          "feature": null,
          "key": "26:11",
          "rainfall": 20,
          "terrain": "land",
          "x": 26,
          "y": 11
         },
         {
          "elevation": 4,
          "feature": null,
          "key": "27:11",
          "rainfall": 16,
          "terrain": "land",
          "x": 27,
          "y": 11
         },
         {
          "elevation": 10,
          "feature": null,
          "key": "28:11",
          "rainfall": 17,
          "terrain": "land",
          "x": 28,
          "y": 11
         },
         {
          "elevation": 19,
          "feature": null,
          "key": "29:11",
          "rainfall": 23,
          "terrain": "land",
          "x": 29,
          "y": 11
         },
         {
          "elevation": 29,
          "feature": null,
          "key": "30:11",
          "rainfall": 30,
          "terrain": "mountain",
          "x": 30,
          "y": 11
         },
         {
          "elevation": 38,
          "feature": null,
          "key": "31:11",
          "rainfall": 38,
          "terrain": "mountain",
          "x": 31,
          "y": 11
         },
         {
          "elevation": 48,
          "feature": null,
          "key": "32:11",
          "rainfall": 49,
          "terrain": "mountain",
          "x": 32,
          "y": 11
         },
         {
          "elevation": 62,
          "feature": null,
          "key": "33:11",
          "rainfall": 63,
          "terrain": "mountain",
          "x": 33,
          "y": 11
         },
         {
          "elevation": 68,
          "feature": null,
          "key": "34:11",
          "rainfall": 69,
          "terrain": "mountain",
          "x": 34,
          "y": 11
         },
         {
          "elevation": 66,
          "feature": null,
          "key": "35:11",
          "rainfall": 67,
          "terrain": "mountain",
          "x": 35,
          "y": 11
         },
         {
          "elevation": 62,
          "feature": null,
          "key": "36:11",
          "rainfall": 63,
          "terrain": "mountain",
          "x": 36,
          "y": 11
         },
         {
          "elevation": 50,
          "feature": null,
          "key": "37:11",
          "rainfall": 51,
          "terrain": "mountain",
          "x": 37,
          "y": 11
         },
         {
          "elevation": 38,
          "feature": null,
          "key": "38:11",
          "rainfall": 39,
          "terrain": "mountain",
          "x": 38,
          "y": 11
         },
         {
          "elevation": 28,
          "feature": "Lord'slair",
          "key": "39:11",
          "rainfall": 29,
          "terrain": "mountain",
          "x": 39,
          "y": 11
         },
         {
          "elevation": 7,
          "feature": null,
          "key": "0:12",
          "rainfall": 7,
          "terrain": "land",
          "x": 0,
          "y": 12
         },
         {
          "elevation": 4,
          "feature": null,
          "key": "1:12",
          "rainfall": 4,
          "terrain": "land",
          "x": 1,
          "y": 12
         },
         {
          "elevation": 2,
          "feature": null,
          "key": "2:12",
          "rainfall": 2,
          "terrain": "land",
          "x": 2,
          "y": 12
         },
         {
          "elevation": 1,
          "feature": null,
          "key": "3:12",
          "rainfall": 1,
          "terrain": "land",
          "x": 3,
          "y": 12
         },
         {
          "elevation": 0,
          "feature": null,
          "key": "4:12",
          "rainfall": 0,
          "terrain": "ocean",
          "x": 4,
          "y": 12
         },
         {
          "elevation": 0,
          "feature": null,
          "key": "5:12",
          "rainfall": 0,
          "terrain": "ocean",
          "x": 5,
          "y": 12
         },
         {
          "elevation": 0,
          "feature": null,
          "key": "6:12",
          "rainfall": 0,
          "terrain": "ocean",
          "x": 6,
          "y": 12
         },
         {
          "elevation": 0,
          "feature": null,
          "key": "7:12",
          "rainfall": 1,
          "terrain": "ocean",
          "x": 7,
          "y": 12
         },
         {
          "elevation": -1,
          "feature": null,
          "key": "8:12",
          "rainfall": 2,
          "terrain": "ocean",
          "x": 8,
          "y": 12
         },
         {
          "elevation": 1,
          "feature": null,
          "key": "9:12",
          "rainfall": 6,
          "terrain": "land",
          "x": 9,
          "y": 12
         },
         {
          "elevation": 1,
          "feature": null,
          "key": "10:12",
          "rainfall": 11,
          "terrain": "land",
          "x": 10,
          "y": 12
         },
         {
          "elevation": 1,
          "feature": null,
          "key": "11:12",
          "rainfall": 18,
          "terrain": "land",
          "x": 11,
          "y": 12
         },
         {
          "elevation": -1,
          "feature": null,
          "key": "12:12",
          "rainfall": 25,
          "terrain": "ocean",
          "x": 12,
          "y": 12
         },
         {
          "elevation": -1,
          "feature": null,
          "key": "13:12",
          "rainfall": 32,
          "terrain": "ocean",
          "x": 13,
          "y": 12
         },
         {
          "elevation": -3,
          "feature": null,
          "key": "14:12",
          "rainfall": 36,
          "terrain": "ocean",
          "x": 14,
          "y": 12
         },
         {
          "elevation": 0,
          "feature": null,
          "key": "15:12",
          "rainfall": 40,
          "terrain": "ocean",
          "x": 15,
          "y": 12
         },
         {
          "elevation": 2,
          "feature": null,
          "key": "16:12",
          "rainfall": 42,
          "terrain": "land",
          "x": 16,
          "y": 12
         },
         {
          "elevation": 1,
          "feature": null,
          "key": "17:12",
          "rainfall": 39,
          "terrain": "land",
          "x": 17,
          "y": 12
         },
         {
          "elevation": -1,
          "feature": null,
          "key": "18:12",
          "rainfall": 36,
          "terrain": "ocean",
          "x": 18,
          "y": 12
         },
         {
          "elevation": 1,
          "feature": null,
          "key": "19:12",
          "rainfall": 40,
          "terrain": "land",
          "x": 19,
          "y": 12
         },
         {
          "elevation": -1,
          "feature": null,
          "key": "20:12",
          "rainfall": 42,
          "terrain": "ocean",
          "x": 20,
          "y": 12
         },
         {
          "elevation": -1,
          "feature": null,
          "key": "21:12",
          "rainfall": 45,
          "terrain": "ocean",
          "x": 21,
          "y": 12
         },
         {
          "elevation": 1,
          "feature": null,
          "key": "22:12",
          "rainfall": 48,
          "terrain": "land",
          "x": 22,
          "y": 12
         },
         {
          "elevation": 0,
          "feature": null,
          "key": "23:12",
          "rainfall": 45,
          "terrain": "ocean",
          "x": 23,
          "y": 12
         },
         {
          "elevation": 1,
          "feature": null,
          "key": "24:12",
          "rainfall": 40,
          "terrain": "land",
          "x": 24,
          "y": 12
         },
         {
          "elevation": 2,
          "feature": null,
          "key": "25:12",
          "rainfall": 30,
          "terrain": "land",
          "x": 25,
          "y": 12
         },
         {
          "elevation": 4,
          "feature": null,
          "key": "26:12",
          "rainfall": 25,
          "terrain": "land",
          "x": 26,
          "y": 12
         },
         {
          "elevation": 6,
          "feature": null,
          "key": "27:12",
          "rainfall": 21,
          "terrain": "land",
          "x": 27,
          "y": 12
         },
         {
          "elevation": 9,
          "feature": null,
          "key": "28:12",
          "rainfall": 17,
          "terrain": "land",
          "x": 28,
          "y": 12
         },
         {
          "elevation": 18,
          "feature": null,
          "key": "29:12",
          "rainfall": 23,
          "terrain": "land",
          "x": 29,
          "y": 12
         },
         {
          "elevation": 27,
          "feature": null,
          "key": "30:12",
          "rainfall": 28,
          "terrain": "mountain",
          "x": 30,
          "y": 12
         },
         {
          "elevation": 35,
          "feature": null,
          "key": "31:12",
          "rainfall": 35,
          "terrain": "mountain",
          "x": 31,
          "y": 12
         },
         {
          "elevation": 48,
          "feature": null,
          "key": "32:12",
          "rainfall": 50,
          "terrain": "mountain",
          "x": 32,
          "y": 12
         },
         {
          "elevation": 62,
          "feature": null,
          "key": "33:12",
          "rainfall": 65,
          "terrain": "mountain",
          "x": 33,
          "y": 12
         },
         {
          "elevation": 74,
          "feature": null,
          "key": "34:12",
          "rainfall": 78,
          "terrain": "mountain",
          "x": 34,
          "y": 12
         },
         {
          "elevation": 75,
          "feature": null,
          "key": "35:12",
          "rainfall": 79,
          "terrain": "mountain",
          "x": 35,
          "y": 12
         },
         {
          "elevation": 72,
          "feature": null,
          "key": "36:12",
          "rainfall": 76,
          "terrain": "mountain",
          "x": 36,
          "y": 12
         },
         {
          "elevation": 58,
          "feature": null,
          "key": "37:12",
          "rainfall": 62,
          "terrain": "mountain",
          "x": 37,
          "y": 12
         },
         {
          "elevation": 45,
          "feature": "Godblaze",
          "key": "38:12",
          "rainfall": 49,
          "terrain": "mountain",
          "x": 38,
          "y": 12
         },
         {
          "elevation": 29,
          "feature": null,
          "key": "39:12",
          "rainfall": 33,
          "terrain": "mountain",
          "x": 39,
          "y": 12
         },
         {
          "elevation": 7,
          "feature": null,
          "key": "0:13",
          "rainfall": 7,
          "terrain": "land",
          "x": 0,
          "y": 13
         },
         {
          "elevation": 4,
          "feature": null,
          "key": "1:13",
          "rainfall": 4,
          "terrain": "land",
          "x": 1,
          "y": 13
         },
         {
          "elevation": 2,
          "feature": null,
          "key": "2:13",
          "rainfall": 2,
          "terrain": "land",
          "x": 2,
          "y": 13
         },
         {
          "elevation": 1,
          "feature": null,
          "key": "3:13",
          "rainfall": 1,
          "terrain": "land",
          "x": 3,
          "y": 13
         },
         {
          "elevation": 0,
          "feature": null,
          "key": "4:13",
          "rainfall": 0,
          "terrain": "ocean",
          "x": 4,
          "y": 13
         },
         {
          "elevation": 1,
          "feature": null,
          "key": "5:13",
          "rainfall": 1,
          "terrain": "land",
          "x": 5,
          "y": 13
         },
         {
          "elevation": -1,
          "feature": null,
          "key": "6:13",
          "rainfall": -1,
          "terrain": "ocean",
          "x": 6,
          "y": 13
         },
         {
          "elevation": 0,
          "feature": null,
          "key": "7:13",
          "rainfall": 1,
          "terrain": "ocean",
          "x": 7,
          "y": 13
         },
         {
          "elevation": -1,
          "feature": null,
          "key": "8:13",
          "rainfall": 2,
          "terrain": "ocean",
          "x": 8,
          "y": 13
         },
         {
          "elevation": 1,
          "feature": null,
          "key": "9:13",
          "rainfall": 8,
          "terrain": "land",
          "x": 9,
          "y": 13
         },
         {
          "elevation": 0,
          "feature": null,
          "key": "10:13",
          "rainfall": 14,
          "terrain": "ocean",
          "x": 10,
          "y": 13
         },
         {
          "elevation": -1,
          "feature": null,
          "key": "11:13",
          "rainfall": 25,
          "terrain": "ocean",
          "x": 11,
          "y": 13
         },
         {
          "elevation": -1,
          "feature": null,
          "key": "12:13",
          "rainfall": 37,
          "terrain": "ocean",
          "x": 12,
          "y": 13
         },
         {
          "elevation": -1,
          "feature": null,
          "key": "13:13",
          "rainfall": 47,
          "terrain": "ocean",
          "x": 13,
          "y": 13
         },
         {
          "elevation": 0,
          "feature": null,
          "key": "14:13",
          "rainfall": 56,
          "terrain": "ocean",
          "x": 14,
          "y": 13
         },
         {
          "elevation": -1,
          "feature": null,
          "key": "15:13",
          "rainfall": 60,
          "terrain": "ocean",
          "x": 15,
          "y": 13
         },
         {
          "elevation": -1,
          "feature": null,
          "key": "16:13",
          "rainfall": 53,
          "terrain": "ocean",
          "x": 16,
          "y": 13
         },
         {
          "elevation": 0,
          "feature": null,
          "key": "17:13",
          "rainfall": 50,
          "terrain": "ocean",
          "x": 17,
          "y": 13
         },
         {
          "elevation": 1,
          "feature": null,
          "key": "18:13",
          "rainfall": 52,
          "terrain": "land",
          "x": 18,
          "y": 13
         },
         {
          "elevation": -1,
          "feature": null,
          "key": "19:13",
          "rainfall": 47,
          "terrain": "ocean",
          "x": 19,
          "y": 13
         },
         {
          "elevation": 1,
          "feature": null,
          "key": "20:13",
          "rainfall": 55,
          "terrain": "land",
          "x": 20,
          "y": 13
         },
         {
          "elevation": 1,
          "feature": null,
          "key": "21:13",
          "rainfall": 54,
          "terrain": "land",
          "x": 21,
          "y": 13
         },
         {
          "elevation": 0,
          "feature": null,
          "key": "22:13",
          "rainfall": 50,
          "terrain": "ocean",
          "x": 22,
          "y": 13
         },
         {
          "elevation": -1,
          "feature": null,
          "key": "23:13",
          "rainfall": 48,
          "terrain": "ocean",
          "x": 23,
          "y": 13
         },
         {
          "elevation": 1,
          "feature": null,
          "key": "24:13",
          "rainfall": 44,
          "terrain": "land",
          "x": 24,
          "y": 13
         },
         {
          "elevation": 1,
          "feature": null,
          "key": "25:13",
          "rainfall": 33,
          "terrain": "land",
          "x": 25,
          "y": 13
         },
         {
          "elevation": 2,
          "feature": null,
          "key": "26:13",
          "rainfall": 27,
          "terrain": "land",
          "x": 26,
          "y": 13
         },
         {
          "elevation": 5,
          "feature": null,
          "key": "27:13",
          "rainfall": 21,
          "terrain": "land",
          "x": 27,
          "y": 13
         },
         {
          "elevation": 9,
          "feature": null,
          "key": "28:13",
          "rainfall": 18,
          "terrain": "land",
          "x": 28,
          "y": 13
         },
         {
          "elevation": 19,
          "feature": null,
          "key": "29:13",
          "rainfall": 24,
          "terrain": "land",
          "x": 29,
          "y": 13
         },
         {
          "elevation": 25,
          "feature": null,
          "key": "30:13",
          "rainfall": 26,
          "terrain": "mountain",
          "x": 30,
          "y": 13
         },
         {
          "elevation": 32,
          "feature": null,
          "key": "31:13",
          "rainfall": 32,
          "terrain": "mountain",
          "x": 31,
          "y": 13
         },
         {
          "elevation": 42,
          "feature": null,
          "key": "32:13",
          "rainfall": 44,
          "terrain": "mountain",
          "x": 32,
          "y": 13
         },
         {
          "elevation": 57,
          "feature": null,
          "key": "33:13",
          "rainfall": 61,
          "terrain": "mountain",
          "x": 33,
          "y": 13
         },
         {
          "elevation": 70,
          "feature": null,
          "key": "34:13",
          "rainfall": 76,
          "terrain": "mountain",
          "x": 34,
          "y": 13
         },
         {
          "elevation": 77,
          "feature": null,
          "key": "35:13",
          "rainfall": 85,
          "terrain": "mountain",
          "x": 35,
          "y": 13
         },
         {
          "elevation": 72,
          "feature": null,
          "key": "36:13",
          "rainfall": 80,
          "terrain": "mountain",
          "x": 36,
          "y": 13
         },
         {
          "elevation": 63,
          "feature": null,
          "key": "37:13",
          "rainfall": 71,
          "terrain": "mountain",
          "x": 37,
          "y": 13
         },
         {
          "elevation": 47,
          "feature": null,
          "key": "38:13",
          "rainfall": 55,
          "terrain": "mountain",
          "x": 38,
          "y": 13
         },
         {
          "elevation": 34,
          "feature": null,
          "key": "39:13",
          "rainfall": 42,
          "terrain": "mountain",
          "x": 39,
          "y": 13
         },
         {
          "elevation": 6,
          "feature": null,
          "key": "0:14",
          "rainfall": 6,
          "terrain": "land",
          "x": 0,
          "y": 14
         },
         {
          "elevation": 3,
          "feature": null,
          "key": "1:14",
          "rainfall": 3,
          "terrain": "land",
          "x": 1,
          "y": 14
         },
         {
          "elevation": 4,
          "feature": null,
          "key": "2:14",
          "rainfall": 4,
          "terrain": "land",
          "x": 2,
          "y": 14
         },
         {
          "elevation": 0,
          "feature": null,
          "key": "3:14",
          "rainfall": 0,
          "terrain": "ocean",
          "x": 3,
          "y": 14
         },
         {
          "elevation": -1,
          "feature": null,
          "key": "4:14",
          "rainfall": -1,
          "terrain": "ocean",
          "x": 4,
          "y": 14
         },
         {
          "elevation": -1,
          "feature": null,
          "key": "5:14",
          "rainfall": -1,
          "terrain": "ocean",
          "x": 5,
          "y": 14
         },
         {
          "elevation": -1,
          "feature": null,
          "key": "6:14",
          "rainfall": 0,
          "terrain": "ocean",
          "x": 6,
          "y": 14
         },
         {
          "elevation": -1,
          "feature": null,
          "key": "7:14",
          "rainfall": 1,
          "terrain": "ocean",
          "x": 7,
          "y": 14
         },
         {
          "elevation": 1,
          "feature": null,
          "key": "8:14",
          "rainfall": 6,
          "terrain": "land",
          "x": 8,
          "y": 14
         },
         {
          "elevation": 1,
          "feature": "Snowkeep",
          "key": "9:14",
          "rainfall": 10,
          "terrain": "land",
          "x": 9,
          "y": 14
         },
         {
          "elevation": -1,
          "feature": null,
          "key": "10:14",
          "rainfall": 17,
          "terrain": "ocean",
          "x": 10,
          "y": 14
         },
         {
          "elevation": -2,
          "feature": null,
          "key": "11:14",
          "rainfall": 29,
          "terrain": "ocean",
          "x": 11,
          "y": 14
         },
         {
          "elevation": 0,
          "feature": null,
          "key": "12:14",
          "rainfall": 50,
          "terrain": "ocean",
          "x": 12,
          "y": 14
         },
         {
          "elevation": 2,
          "feature": null,
          "key": "13:14",
          "rainfall": 66,
          "terrain": "land",
          "x": 13,
          "y": 14
         },
         {
          "elevation": 0,
          "feature": null,
          "key": "14:14",
          "rainfall": 75,
          "terrain": "ocean",
          "x": 14,
          "y": 14
         },
         {
          "elevation": 1,
          "feature": null,
          "key": "15:14",
          "rainfall": 78,
          "terrain": "land",
          "x": 15,
          "y": 14
         },
         {
          "elevation": 0,
          "feature": null,
          "key": "16:14",
          "rainfall": 67,
          "terrain": "ocean",
          "x": 16,
          "y": 14
         },
         {
          "elevation": 0,
          "feature": null,
          "key": "17:14",
          "rainfall": 65,
          "terrain": "ocean",
          "x": 17,
          "y": 14
         },
         {
          "elevation": 1,
          "feature": null,
          "key": "18:14",
          "rainfall": 65,
          "terrain": "land",
          "x": 18,
          "y": 14
         },
         {
          "elevation": 0,
          "feature": null,
          "key": "19:14",
          "rainfall": 58,
          "terrain": "ocean",
          "x": 19,
          "y": 14
         },
         {
          "elevation": 1,
          "feature": null,
          "key": "20:14",
          "rainfall": 59,
          "terrain": "land",
          "x": 20,
          "y": 14
         },
         {
          "elevation": 1,
          "feature": null,
          "key": "21:14",
          "rainfall": 59,
          "terrain": "land",
          "x": 21,
          "y": 14
         },
         {
          "elevation": 1,
          "feature": null,
          "key": "22:14",
          "rainfall": 53,
          "terrain": "land",
          "x": 22,
          "y": 14
         },
         {
          "elevation": 0,
          "feature": null,
          "key": "23:14",
          "rainfall": 47,
          "terrain": "ocean",
          "x": 23,
          "y": 14
         },
         {
          "elevation": 0,
          "feature": null,
          "key": "24:14",
          "rainfall": 42,
          "terrain": "ocean",
          "x": 24,
          "y": 14
         },
         {
          "elevation": 2,
          "feature": null,
          "key": "25:14",
          "rainfall": 36,
          "terrain": "land",
          "x": 25,
          "y": 14
         },
         {
          "elevation": 4,
          "feature": null,
          "key": "26:14",
          "rainfall": 30,
          "terrain": "land",
          "x": 26,
          "y": 14
         },
         {
          "elevation": 4,
          "feature": null,
          "key": "27:14",
          "rainfall": 21,
          "terrain": "land",
          "x": 27,
          "y": 14
         },
         {
          "elevation": 10,
          "feature": null,
          "key": "28:14",
          "rainfall": 19,
          "terrain": "land",
          "x": 28,
          "y": 14
         },
         {
          "elevation": 17,
          "feature": null,
          "key": "29:14",
          "rainfall": 22,
          "terrain": "land",
          "x": 29,
          "y": 14
         },
         {
          "elevation": 21,
          "feature": null,
          "key": "30:14",
          "rainfall": 22,
          "terrain": "land",
          "x": 30,
          "y": 14
         },
         {
          "elevation": 29,
          "feature": null,
          "key": "31:14",
          "rainfall": 29,
          "terrain": "mountain",
          "x": 31,
          "y": 14
         },
         {
          "elevation": 35,
          "feature": null,
          "key": "32:14",
          "rainfall": 37,
          "terrain": "mountain",
          "x": 32,
          "y": 14
         },
         {
          "elevation": 48,
          "feature": null,
          "key": "33:14",
          "rainfall": 52,
          "terrain": "mountain",
          "x": 33,
          "y": 14
         },
         {
          "elevation": 60,
          "feature": null,
          "key": "34:14",
          "rainfall": 67,
          "terrain": "mountain",
          "x": 34,
          "y": 14
         },
         {
          "elevation": 68,
          "feature": null,
          "key": "35:14",
          "rainfall": 79,
          "terrain": "mountain",
          "x": 35,
          "y": 14
         },
         {
          "elevation": 67,
          "feature": null,
          "key": "36:14",
          "rainfall": 82,
          "terrain": "mountain",
          "x": 36,
          "y": 14
         },
         {
          "elevation": 61,
          "feature": null,
          "key": "37:14",
          "rainfall": 76,
          "terrain": "mountain",
          "x": 37,
          "y": 14
         },
         {
          "elevation": 48,
          "feature": null,
          "key": "38:14",
          "rainfall": 63,
          "terrain": "mountain",
          "x": 38,
          "y": 14
         },
         {
          "elevation": 34,
          "feature": null,
          "key": "39:14",
          "rainfall": 49,
          "terrain": "mountain",
          "x": 39,
          "y": 14
         },
         {
          "elevation": 10,
          "feature": null,
          "key": "0:15",
          "rainfall": 10,
          "terrain": "land",
          "x": 0,
          "y": 15
         },
         {
          "elevation": 9,
          "feature": null,
          "key": "1:15",
          "rainfall": 9,
          "terrain": "land",
          "x": 1,
          "y": 15
         },
         {
          "elevation": 3,
          "feature": null,
          "key": "2:15",
          "rainfall": 3,
          "terrain": "land",
          "x": 2,
          "y": 15
         },
         {
          "elevation": 1,
          "feature": null,
          "key": "3:15",
          "rainfall": 1,
          "terrain": "land",
          "x": 3,
          "y": 15
         },
         {
          "elevation": 1,
          "feature": null,
          "key": "4:15",
          "rainfall": 1,
          "terrain": "land",
          "x": 4,
          "y": 15
         },
         {
          "elevation": 0,
          "feature": null,
          "key": "5:15",
          "rainfall": 0,
          "terrain": "ocean",
          "x": 5,
          "y": 15
         },
         {
          "elevation": 1,
          "feature": null,
          "key": "6:15",
          "rainfall": 2,
          "terrain": "land",
          "x": 6,
          "y": 15
         },
         {
          "elevation": 0,
          "feature": null,
          "key": "7:15",
          "rainfall": 3,
          "terrain": "ocean",
          "x": 7,
          "y": 15
         },
         {
          "elevation": 1,
          "feature": null,
          "key": "8:15",
          "rainfall": 8,
          "terrain": "land",
          "x": 8,
          "y": 15
         },
         {
          "elevation": 1,
          "feature": null,
          "key": "9:15",
          "rainfall": 13,
          "terrain": "land",
          "x": 9,
          "y": 15
         },
         {
          "elevation": 0,
          "feature": null,
          "key": "10:15",
          "rainfall": 21,
          "terrain": "ocean",
          "x": 10,
          "y": 15
         },
         {
          "elevation": -2,
          "feature": null,
          "key": "11:15",
          "rainfall": 34,
          "terrain": "ocean",
          "x": 11,
          "y": 15
         },
         {
          "elevation": -1,
          "feature": null,
          "key": "12:15",
          "rainfall": 56,
          "terrain": "ocean",
          "x": 12,
          "y": 15
         },
         {
          "elevation": 0,
          "feature": null,
          "key": "13:15",
          "rainfall": 77,
          "terrain": "ocean",
          "x": 13,
          "y": 15
         },
         {
          "elevation": 1,
          "feature": null,
          "key": "14:15",
          "rainfall": 86,
          "terrain": "land",
          "x": 14,
          "y": 15
         },
         {
          "elevation": 0,
          "feature": null,
          "key": "15:15",
          "rainfall": 88,
          "terrain": "ocean",
          "x": 15,
          "y": 15
         },
         {
          "elevation": -1,
          "feature": null,
          "key": "16:15",
          "rainfall": 82,
          "terrain": "ocean",
          "x": 16,
          "y": 15
         },
         {
          "elevation": 0,
          "feature": null,
          "key": "17:15",
          "rainfall": 75,
          "terrain": "ocean",
          "x": 17,
          "y": 15
         },
         {
          "elevation": -1,
          "feature": null,
          "key": "18:15",
          "rainfall": 71,
          "terrain": "ocean",
          "x": 18,
          "y": 15
         },
         {
          "elevation": 0,
          "feature": null,
          "key": "19:15",
          "rainfall": 66,
          "terrain": "ocean",
          "x": 19,
          "y": 15
         },
         {
          "elevation": 0,
          "feature": null,
          "key": "20:15",
          "rainfall": 62,
          "terrain": "ocean",
          "x": 20,
          "y": 15
         },
         {
          "elevation": 0,
          "feature": null,
          "key": "21:15",
          "rainfall": 58,
          "terrain": "ocean",
          "x": 21,
          "y": 15
         },
         {
          "elevation": 1,
          "feature": null,
          "key": "22:15",
          "rainfall": 54,
          "terrain": "land",
          "x": 22,
          "y": 15
         },
         {
          "elevation": 0,
          "feature": null,
          "key": "23:15",
          "rainfall": 47,
          "terrain": "ocean",
          "x": 23,
          "y": 15
         },
         {
          "elevation": 0,
          "feature": null,
          "key": "24:15",
          "rainfall": 42,
          "terrain": "ocean",
          "x": 24,
          "y": 15
         },
         {
          "elevation": 1,
          "feature": null,
          "key": "25:15",
          "rainfall": 35,
          "terrain": "land",
          "x": 25,
          "y": 15
         },
         {
          "elevation": 4,
          "feature": null,
          "key": "26:15",
          "rainfall": 29,
          "terrain": "land",
          "x": 26,
          "y": 15
         },
         {
          "elevation": 4,
          "feature": null,
          "key": "27:15",
          "rainfall": 21,
          "terrain": "land",
          "x": 27,
          "y": 15
         },
         {
          "elevation": 9,
          "feature": null,
          "key": "28:15",
          "rainfall": 18,
          "terrain": "land",
          "x": 28,
          "y": 15
         },
         {
          "elevation": 14,
          "feature": null,
          "key": "29:15",
          "rainfall": 19,
          "terrain": "land",
          "x": 29,
          "y": 15
         },
         {
          "elevation": 17,
          "feature": null,
          "key": "30:15",
          "rainfall": 18,
          "terrain": "land",
          "x": 30,
          "y": 15
         },
         {
          "elevation": 23,
          "feature": null,
          "key": "31:15",
          "rainfall": 23,
          "terrain": "land",
          "x": 31,
          "y": 15
         },
         {
          "elevation": 30,
          "feature": null,
          "key": "32:15",
          "rainfall": 32,
          "terrain": "mountain",
          "x": 32,
          "y": 15
         },
         {
          "elevation": 35,
          "feature": null,
          "key": "33:15",
          "rainfall": 40,
          "terrain": "mountain",
          "x": 33,
          "y": 15
         },
         {
          "elevation": 45,
          "feature": null,
          "key": "34:15",
          "rainfall": 53,
          "terrain": "mountain",
          "x": 34,
          "y": 15
         },
         {
          "elevation": 51,
          "feature": null,
          "key": "35:15",
          "rainfall": 64,
          "terrain": "mountain",
          "x": 35,
          "y": 15
         },
         {
          "elevation": 53,
          "feature": null,
          "key": "36:15",
          "rainfall": 77,
          "terrain": "mountain",
          "x": 36,
          "y": 15
         },
         {
          "elevation": 53,
          "feature": null,
          "key": "37:15",
          "rainfall": 82,
          "terrain": "mountain",
          "x": 37,
          "y": 15
         },
         {
          "elevation": 45,
          "feature": null,
          "key": "38:15",
          "rainfall": 74,
          "terrain": "mountain",
          "x": 38,
          "y": 15
         },
         {
          "elevation": 33,
          "feature": null,
          "key": "39:15",
          "rainfall": 62,
          "terrain": "mountain",
          "x": 39,
          "y": 15
         },
         {
          "elevation": 14,
          "feature": null,
          "key": "0:16",
          "rainfall": 14,
          "terrain": "land",
          "x": 0,
          "y": 16
         },
         {
          "elevation": 10,
          "feature": null,
          "key": "1:16",
          "rainfall": 10,
          "terrain": "land",
          "x": 1,
          "y": 16
         },
         {
          "elevation": 5,
          "feature": null,
          "key": "2:16",
          "rainfall": 5,
          "terrain": "land",
          "x": 2,
          "y": 16
         },
         {
          "elevation": 3,
          "feature": null,
          "key": "3:16",
          "rainfall": 3,
          "terrain": "land",
          "x": 3,
          "y": 16
         },
         {
          "elevation": 3,
          "feature": null,
          "key": "4:16",
          "rainfall": 3,
          "terrain": "land",
          "x": 4,
          "y": 16
         },
         {
          "elevation": 2,
          "feature": null,
          "key": "5:16",
          "rainfall": 2,
          "terrain": "land",
          "x": 5,
          "y": 16
         },
         {
          "elevation": 2,
          "feature": null,
          "key": "6:16",
          "rainfall": 3,
          "terrain": "land",
          "x": 6,
          "y": 16
         },
         {
          "elevation": 2,
          "feature": null,
          "key": "7:16",
          "rainfall": 5,
          "terrain": "land",
          "x": 7,
          "y": 16
         },
         {
          "elevation": 1,
          "feature": null,
          "key": "8:16",
          "rainfall": 9,
          "terrain": "land",
          "x": 8,
          "y": 16
         },
         {
          "elevation": 1,
          "feature": null,
          "key": "9:16",
          "rainfall": 17,
          "terrain": "land",
          "x": 9,
          "y": 16
         },
         {
          "elevation": 2,
          "feature": null,
          "key": "10:16",
          "rainfall": 29,
          "terrain": "land",
          "x": 10,
          "y": 16
         },
         {
          "elevation": 1,
          "feature": null,
          "key": "11:16",
          "rainfall": 43,
          "terrain": "land",
          "x": 11,
          "y": 16
         },
         {
          "elevation": 0,
          "feature": null,
          "key": "12:16",
          "rainfall": 64,
          "terrain": "ocean",
          "x": 12,
          "y": 16
         },
         {
          "elevation": 2,
          "feature": null,
          "key": "13:16",
          "rainfall": 83,
          "terrain": "land",
          "x": 13,
          "y": 16
         },
         {
          "elevation": 2,
          "feature": null,
          "key": "14:16",
          "rainfall": 93,
          "terrain": "land",
          "x": 14,
          "y": 16
         },
         {
          "elevation": 1,
          "feature": null,
          "key": "15:16",
          "rainfall": 97,
          "terrain": "land",
          "x": 15,
          "y": 16
         },
         {
          "elevation": 1,
          "feature": null,
          "key": "16:16",
          "rainfall": 89,
          "terrain": "land",
          "x": 16,
          "y": 16
         },
         {
          "elevation": 1,
          "feature": null,
          "key": "17:16",
          "rainfall": 83,
          "terrain": "land",
          "x": 17,
          "y": 16
         },
         {
          "elevation": 0,
          "feature": null,
          "key": "18:16",
          "rainfall": 76,
          "terrain": "ocean",
          "x": 18,
          "y": 16
         },
         {
          "elevation": 1,
          "feature": null,
          "key": "19:16",
          "rainfall": 68,
          "terrain": "land",
          "x": 19,
          "y": 16
         },
         {
          "elevation": 0,
          "feature": null,
          "key": "20:16",
          "rainfall": 61,
          "terrain": "ocean",
          "x": 20,
          "y": 16
         },
         {
          "elevation": 0,
          "feature": null,
          "key": "21:16",
          "rainfall": 55,
          "terrain": "ocean",
          "x": 21,
          "y": 16
         },
         {
          "elevation": 2,
          "feature": null,
          "key": "22:16",
          "rainfall": 52,
          "terrain": "land",
          "x": 22,
          "y": 16
         },
         {
          "elevation": 2,
          "feature": null,
          "key": "23:16",
          "rainfall": 50,
          "terrain": "land",
          "x": 23,
          "y": 16
         },
         {
          "elevation": 1,
          "feature": null,
          "key": "24:16",
          "rainfall": 42,
          "terrain": "land",
          "x": 24,
          "y": 16
         },
         {
          "elevation": 1,
          "feature": null,
          "key": "25:16",
          "rainfall": 31,
          "terrain": "land",
          "x": 25,
          "y": 16
         },
         {
          "elevation": 2,
          "feature": null,
          "key": "26:16",
          "rainfall": 24,
          "terrain": "land",
          "x": 26,
          "y": 16
         },
         {
          "elevation": 4,
          "feature": null,
          "key": "27:16",
          "rainfall": 19,
          "terrain": "land",
          "x": 27,
          "y": 16
         },
         {
          "elevation": 8,
          "feature": null,
          "key": "28:16",
          "rainfall": 17,
          "terrain": "land",
          "x": 28,
          "y": 16
         },
         {
          "elevation": 11,
          "feature": null,
          "key": "29:16",
          "rainfall": 16,
          "terrain": "land",
          "x": 29,
          "y": 16
         },
         {
          "elevation": 17,
          "feature": null,
          "key": "30:16",
          "rainfall": 18,
          "terrain": "land",
          "x": 30,
          "y": 16
         },
         {
          "elevation": 19,
          "feature": null,
          "key": "31:16",
          "rainfall": 19,
          "terrain": "land",
          "x": 31,
          "y": 16
         },
         {
          "elevation": 22,
          "feature": null,
          "key": "32:16",
          "rainfall": 24,
          "terrain": "land",
          "x": 32,
          "y": 16
         },
         {
          "elevation": 27,
          "feature": null,
          "key": "33:16",
          "rainfall": 32,
          "terrain": "mountain",
          "x": 33,
          "y": 16
         },
         {
          "elevation": 33,
          "feature": null,
          "key": "34:16",
          "rainfall": 42,
          "terrain": "mountain",
          "x": 34,
          "y": 16
         },
         {
          "elevation": 37,
          "feature": null,
          "key": "35:16",
          "rainfall": 51,
          "terrain": "mountain",
          "x": 35,
          "y": 16
         },
         {
          "elevation": 44,
          "feature": null,
          "key": "36:16",
          "rainfall": 70,
          "terrain": "mountain",
          "x": 36,
          "y": 16
         },
         {
          "elevation": 39,
          "feature": null,
          "key": "37:16",
          "rainfall": 77,
          "terrain": "mountain",
          "x": 37,
          "y": 16
         },
         {
          "elevation": 40,
          "feature": null,
          "key": "38:16",
          "rainfall": 85,
          "terrain": "mountain",
          "x": 38,
          "y": 16
         },
         {
          "elevation": 33,
          "feature": null,
          "key": "39:16",
          "rainfall": 74,
          "terrain": "mountain",
          "x": 39,
          "y": 16
         },
         {
          "elevation": 18,
          "feature": "Doomcatch",
          "key": "0:17",
          "rainfall": 18,
          "terrain": "land",
          "x": 0,
          "y": 17
         },
         {
          "elevation": 15,
          "feature": null,
          "key": "1:17",
          "rainfall": 15,
          "terrain": "land",
          "x": 1,
          "y": 17
         },
         {
          "elevation": 9,
          "feature": null,
          "key": "2:17",
          "rainfall": 9,
          "terrain": "land",
          "x": 2,
          "y": 17
         },
         {
          "elevation": 6,
          "feature": null,
          "key": "3:17",
          "rainfall": 6,
          "terrain": "land",
          "x": 3,
          "y": 17
         },
         {
          "elevation": 6,
          "feature": null,
          "key": "4:17",
          "rainfall": 6,
          "terrain": "land",
          "x": 4,
          "y": 17
         },
         {
          "elevation": 5,
          "feature": null,
          "key": "5:17",
          "rainfall": 5,
          "terrain": "land",
          "x": 5,
          "y": 17
         },
         {
          "elevation": 4,
          "feature": null,
          "key": "6:17",
          "rainfall": 5,
          "terrain": "land",
          "x": 6,
          "y": 17
         },
         {
          "elevation": 2,
          "feature": null,
          "key": "7:17",
          "rainfall": 5,
          "terrain": "land",
          "x": 7,
          "y": 17
         },
         {
          "elevation": 4,
          "feature": null,
          "key": "8:17",
          "rainfall": 12,
          "terrain": "land",
          "x": 8,
          "y": 17
         },
         {
          "elevation": 5,
          "feature": null,
          "key": "9:17",
          "rainfall": 23,
          "terrain": "land",
          "x": 9,
          "y": 17
         },
         {
          "elevation": 2,
          "feature": null,
          "key": "10:17",
          "rainfall": 33,
          "terrain": "land",
          "x": 10,
          "y": 17
         },
         {
          "elevation": 3,
          "feature": null,
          "key": "11:17",
          "rainfall": 52,
          "terrain": "land",
          "x": 11,
          "y": 17
         },
         {
          "elevation": 2,
          "feature": null,
          "key": "12:17",
          "rainfall": 70,
          "terrain": "land",
          "x": 12,
          "y": 17
         },
         {
          "elevation": 3,
          "feature": null,
          "key": "13:17",
          "rainfall": 85,
          "terrain": "land",
          "x": 13,
          "y": 17
         },
         {
          "elevation": 3,
          "feature": null,
          "key": "14:17",
          "rainfall": 97,
          "terrain": "land",
          "x": 14,
          "y": 17
         },
         {
          "elevation": 1,
          "feature": null,
          "key": "15:17",
          "rainfall": 101,
          "terrain": "land",
          "x": 15,
          "y": 17
         },
         {
          "elevation": -1,
          "feature": null,
          "key": "16:17",
          "rainfall": 92,
          "terrain": "ocean",
          "x": 16,
          "y": 17
         },
         {
          "elevation": 2,
          "feature": null,
          "key": "17:17",
          "rainfall": 86,
          "terrain": "land",
          "x": 17,
          "y": 17
         },
         {
          "elevation": -2,
          "feature": null,
          "key": "18:17",
          "rainfall": 73,
          "terrain": "ocean",
          "x": 18,
          "y": 17
         },
         {
          "elevation": 0,
          "feature": null,
          "key": "19:17",
          "rainfall": 61,
          "terrain": "ocean",
          "x": 19,
          "y": 17
         },
         {
          "elevation": 0,
          "feature": null,
          "key": "20:17",
          "rainfall": 57,
          "terrain": "ocean",
          "x": 20,
          "y": 17
         },
         {
          "elevation": -1,
          "feature": null,
          "key": "21:17",
          "rainfall": 51,
          "terrain": "ocean",
          "x": 21,
          "y": 17
         },
         {
          "elevation": 1,
          "feature": null,
          "key": "22:17",
          "rainfall": 49,
          "terrain": "land",
          "x": 22,
          "y": 17
         },
         {
          "elevation": 0,
          "feature": null,
          "key": "23:17",
          "rainfall": 45,
          "terrain": "ocean",
          "x": 23,
          "y": 17
         },
         {
          "elevation": 1,
          "feature": null,
          "key": "24:17",
          "rainfall": 40,
          "terrain": "land",
          "x": 24,
          "y": 17
         },
         {
          "elevation": 0,
          "feature": null,
          "key": "25:17",
          "rainfall": 26,
          "terrain": "ocean",
          "x": 25,
          "y": 17
         },
         {
          "elevation": 3,
          "feature": null,
          "key": "26:17",
          "rainfall": 21,
          "terrain": "land",
          "x": 26,
          "y": 17
         },
         {
          "elevation": 5,
          "feature": null,
          "key": "27:17",
          "rainfall": 18,
          "terrain": "land",
          "x": 27,
          "y": 17
         },
         {
          "elevation": 9,
          "feature": null,
          "key": "28:17",
          "rainfall": 17,
          "terrain": "land",
          "x": 28,
          "y": 17
         },
         {
          "elevation": 12,
          "feature": null,
          "key": "29:17",
          "rainfall": 17,
          "terrain": "land",
          "x": 29,
          "y": 17
         },
         {
          "elevation": 13,
          "feature": null,
          "key": "30:17",
          "rainfall": 14,
          "terrain": "land",
          "x": 30,
          "y": 17
         },
         {
          "elevation": 16,
          "feature": null,
          "key": "31:17",
          "rainfall": 16,
          "terrain": "land",
          "x": 31,
          "y": 17
         },
         {
          "elevation": 17,
          "feature": null,
          "key": "32:17",
          "rainfall": 19,
          "terrain": "land",
          "x": 32,
          "y": 17
         },
         {
          "elevation": 19,
          "feature": null,
          "key": "33:17",
          "rainfall": 25,
          "terrain": "land",
          "x": 33,
          "y": 17
         },
         {
          "elevation": 24,
          "feature": null,
          "key": "34:17",
          "rainfall": 34,
          "terrain": "land",
          "x": 34,
          "y": 17
         },
         {
          "elevation": 29,
          "feature": null,
          "key": "35:17",
          "rainfall": 46,
          "terrain": "mountain",
          "x": 35,
          "y": 17
         },
         {
          "elevation": 30,
          "feature": null,
          "key": "36:17",
          "rainfall": 59,
          "terrain": "mountain",
          "x": 36,
          "y": 17
         },
         {
          "elevation": 32,
          "feature": null,
          "key": "37:17",
          "rainfall": 75,
          "terrain": "mountain",
          "x": 37,
          "y": 17
         },
         {
          "elevation": 30,
          "feature": null,
          "key": "38:17",
          "rainfall": 82,
          "terrain": "mountain",
          "x": 38,
          "y": 17
         },
         {
          "elevation": 25,
          "feature": null,
          "key": "39:17",
          "rainfall": 74,
          "terrain": "mountain",
          "x": 39,
          "y": 17
         },
         {
          "elevation": 21,
          "feature": null,
          "key": "0:18",
          "rainfall": 21,
          "terrain": "land",
          "x": 0,
          "y": 18
         },
         {
          "elevation": 18,
          "feature": null,
          "key": "1:18",
          "rainfall": 18,
          "terrain": "land",
          "x": 1,
          "y": 18
         },
         {
          "elevation": 13,
          "feature": null,
          "key": "2:18",
          "rainfall": 13,
          "terrain": "land",
          "x": 2,
          "y": 18
         },
         {
          "elevation": 12,
          "feature": null,
          "key": "3:18",
          "rainfall": 12,
          "terrain": "land",
          "x": 3,
          "y": 18
         },
         {
          "elevation": 8,
          "feature": null,
          "key": "4:18",
          "rainfall": 8,
          "terrain": "land",
          "x": 4,
          "y": 18
         },
         {
          "elevation": 7,
          "feature": null,
          "key": "5:18",
          "rainfall": 7,
          "terrain": "land",
          "x": 5,
          "y": 18
         },
         {
          "elevation": 6,
          "feature": null,
          "key": "6:18",
          "rainfall": 7,
          "terrain": "land",
          "x": 6,
          "y": 18
         },
         {
          "elevation": 8,
          "feature": null,
          "key": "7:18",
          "rainfall": 11,
          "terrain": "land",
          "x": 7,
          "y": 18
         },
         {
          "elevation": 4,
          "feature": null,
          "key": "8:18",
          "rainfall": 12,
          "terrain": "land",
          "x": 8,
          "y": 18
         },
         {
          "elevation": 5,
          "feature": null,
          "key": "9:18",
          "rainfall": 22,
          "terrain": "land",
          "x": 9,
          "y": 18
         },
         {
          "elevation": 5,
          "feature": null,
          "key": "10:18",
          "rainfall": 37,
          "terrain": "land",
          "x": 10,
          "y": 18
         },
         {
          "elevation": 4,
          "feature": null,
          "key": "11:18",
          "rainfall": 50,
          "terrain": "land",
          "x": 11,
          "y": 18
         },
         {
          "elevation": 4,
          "feature": null,
          "key": "12:18",
          "rainfall": 66,
          "terrain": "land",
          "x": 12,
          "y": 18
         },
         {
          "elevation": 3,
          "feature": null,
          "key": "13:18",
          "rainfall": 81,
          "terrain": "land",
          "x": 13,
          "y": 18
         },
         {
          "elevation": 1,
          "feature": null,
          "key": "14:18",
          "rainfall": 88,
          "terrain": "land",
          "x": 14,
          "y": 18
         },
         {
          "elevation": -1,
          "feature": null,
          "key": "15:18",
          "rainfall": 91,
          "terrain": "ocean",
          "x": 15,
          "y": 18
         },
         {
          "elevation": 2,
          "feature": null,
          "key": "16:18",
          "rainfall": 92,
          "terrain": "land",
          "x": 16,
          "y": 18
         },
         {
          "elevation": 0,
          "feature": null,
          "key": "17:18",
          "rainfall": 80,
          "terrain": "ocean",
          "x": 17,
          "y": 18
         },
         {
          "elevation": -1,
          "feature": null,
          "key": "18:18",
          "rainfall": 68,
          "terrain": "ocean",
          "x": 18,
          "y": 18
         },
         {
          "elevation": 0,
          "feature": null,
          "key": "19:18",
          "rainfall": 57,
          "terrain": "ocean",
          "x": 19,
          "y": 18
         },
         {
          "elevation": 3,
          "feature": null,
          "key": "20:18",
          "rainfall": 54,
          "terrain": "land",
          "x": 20,
          "y": 18
         },
         {
          "elevation": 2,
          "feature": null,
          "key": "21:18",
          "rainfall": 50,
          "terrain": "land",
          "x": 21,
          "y": 18
         },
         {
          "elevation": 0,
          "feature": null,
          "key": "22:18",
          "rainfall": 44,
          "terrain": "ocean",
          "x": 22,
          "y": 18
         },
         {
          "elevation": -1,
          "feature": null,
          "key": "23:18",
          "rainfall": 38,
          "terrain": "ocean",
          "x": 23,
          "y": 18
         },
         {
          "elevation": -1,
          "feature": null,
          "key": "24:18",
          "rainfall": 31,
          "terrain": "ocean",
          "x": 24,
          "y": 18
         },
         {
          "elevation": -1,
          "feature": null,
          "key": "25:18",
          "rainfall": 23,
          "terrain": "ocean",
          "x": 25,
          "y": 18
         },
         {
          "elevation": 4,
          "feature": null,
          "key": "26:18",
          "rainfall": 21,
          "terrain": "land",
          "x": 26,
          "y": 18
         },
         {
          "elevation": 5,
          "feature": null,
          "key": "27:18",
          "rainfall": 16,
          "terrain": "land",
          "x": 27,
          "y": 18
         },
         {
          "elevation": 4,
          "feature": null,
          "key": "28:18",
          "rainfall": 12,
          "terrain": "land",
          "x": 28,
          "y": 18
         },
         {
          "elevation": 10,
          "feature": null,
          "key": "29:18",
          "rainfall": 14,
          "terrain": "land",
          "x": 29,
          "y": 18
         },
         {
          "elevation": 11,
          "feature": null,
          "key": "30:18",
          "rainfall": 12,
          "terrain": "land",
          "x": 30,
          "y": 18
         },
         {
          "elevation": 11,
          "feature": null,
          "key": "31:18",
          "rainfall": 11,
          "terrain": "land",
          "x": 31,
          "y": 18
         },
         {
          "elevation": 12,
          "feature": null,
          "key": "32:18",
          "rainfall": 14,
          "terrain": "land",
          "x": 32,
          "y": 18
         },
         {
          "elevation": 16,
          "feature": null,
          "key": "33:18",
          "rainfall": 23,
          "terrain": "land",
          "x": 33,
          "y": 18
         },
         {
          "elevation": 19,
          "feature": null,
          "key": "34:18",
          "rainfall": 32,
          "terrain": "land",
          "x": 34,
          "y": 18
         },
         {
          "elevation": 21,
          "feature": null,
          "key": "35:18",
          "rainfall": 41,
          "terrain": "land",
          "x": 35,
          "y": 18
         },
         {
          "elevation": 21,
          "feature": null,
          "key": "36:18",
          "rainfall": 57,
          "terrain": "land",
          "x": 36,
          "y": 18
         },
         {
          "elevation": 24,
          "feature": null,
          "key": "37:18",
          "rainfall": 68,
          "terrain": "land",
          "x": 37,
          "y": 18
         },
         {
          "elevation": 23,
          "feature": null,
          "key": "38:18",
          "rainfall": 72,
          "terrain": "land",
          "x": 38,
          "y": 18
         },
         {
          "elevation": 18,
          "feature": null,
          "key": "39:18",
          "rainfall": 66,
          "terrain": "land",
          "x": 39,
          "y": 18
         },
         {
          "elevation": 25,
          "feature": null,
          "key": "0:19",
          "rainfall": 25,
          "terrain": "mountain",
          "x": 0,
          "y": 19
         },
         {
          "elevation": 22,
          "feature": null,
          "key": "1:19",
          "rainfall": 22,
          "terrain": "land",
          "x": 1,
          "y": 19
         },
         {
          "elevation": 19,
          "feature": null,
          "key": "2:19",
          "rainfall": 19,
          "terrain": "land",
          "x": 2,
          "y": 19
         },
         {
          "elevation": 14,
          "feature": null,
          "key": "3:19",
          "rainfall": 14,
          "terrain": "land",
          "x": 3,
          "y": 19
         },
         {
          "elevation": 12,
          "feature": null,
          "key": "4:19",
          "rainfall": 12,
          "terrain": "land",
          "x": 4,
          "y": 19
         },
         {
          "elevation": 11,
          "feature": null,
          "key": "5:19",
          "rainfall": 11,
          "terrain": "land",
          "x": 5,
          "y": 19
         },
         {
          "elevation": 11,
          "feature": null,
          "key": "6:19",
          "rainfall": 12,
          "terrain": "land",
          "x": 6,
          "y": 19
         },
         {
          "elevation": 10,
          "feature": null,
          "key": "7:19",
          "rainfall": 13,
          "terrain": "land",
          "x": 7,
          "y": 19
         },
         {
          "elevation": 9,
          "feature": null,
          "key": "8:19",
          "rainfall": 17,
          "terrain": "land",
          "x": 8,
          "y": 19
         },
         {
          "elevation": 9,
          "feature": null,
          "key": "9:19",
          "rainfall": 26,
          "terrain": "land",
          "x": 9,
          "y": 19
         },
         {
          "elevation": 8,
          "feature": null,
          "key": "10:19",
          "rainfall": 37,
          "terrain": "land",
          "x": 10,
          "y": 19
         },
         {
          "elevation": 7,
          "feature": null,
          "key": "11:19",
          "rainfall": 49,
          "terrain": "land",
          "x": 11,
          "y": 19
         },
         {
          "elevation": 5,
          "feature": null,
          "key": "12:19",
          "rainfall": 65,
          "terrain": "land",
          "x": 12,
          "y": 19
         },
         {
          "elevation": 3,
          "feature": null,
          "key": "13:19",
          "rainfall": 73,
          "terrain": "land",
          "x": 13,
          "y": 19
         },
         {
          "elevation": 3,
          "feature": "Hardtear",
          "key": "14:19",
          "rainfall": 81,
          "terrain": "land",
          "x": 14,
          "y": 19
         },
         {
          "elevation": 0,
          "feature": null,
          "key": "15:19",
          "rainfall": 82,
          "terrain": "ocean",
          "x": 15,
          "y": 19
         },
         {
          "elevation": -2,
          "feature": null,
          "key": "16:19",
          "rainfall": 77,
          "terrain": "ocean",
          "x": 16,
          "y": 19
         },
         {
          "elevation": 0,
          "feature": null,
          "key": "17:19",
          "rainfall": 70,
          "terrain": "ocean",
          "x": 17,
          "y": 19
         },
         {
          "elevation": 0,
          "feature": null,
          "key": "18:19",
          "rainfall": 62,
          "terrain": "ocean",
          "x": 18,
          "y": 19
         },
         {
          "elevation": 0,
          "feature": null,
          "key": "19:19",
          "rainfall": 51,
          "terrain": "ocean",
          "x": 19,
          "y": 19
         },
         {
          "elevation": 2,
          "feature": null,
          "key": "20:19",
          "rainfall": 47,
          "terrain": "land",
          "x": 20,
          "y": 19
         },
         {
          "elevation": 0,
          "feature": null,
          "key": "21:19",
          "rainfall": 41,
          "terrain": "ocean",
          "x": 21,
          "y": 19
         },
         {
          "elevation": 1,
          "feature": null,
          "key": "22:19",
          "rainfall": 38,
          "terrain": "land",
          "x": 22,
          "y": 19
         },
         {
          "elevation": -1,
          "feature": null,
          "key": "23:19",
          "rainfall": 32,
          "terrain": "ocean",
          "x": 23,
          "y": 19
         },
         {
          "elevation": 1,
          "feature": null,
          "key": "24:19",
          "rainfall": 29,
          "terrain": "land",
          "x": 24,
          "y": 19
         },
         {
          "elevation": 3,
          "feature": "Gleamcatch",
          "key": "25:19",
          "rainfall": 25,
          "terrain": "land",
          "x": 25,
          "y": 19
         },
         {
          "elevation": 2,
          "feature": null,
          "key": "26:19",
          "rainfall": 18,
          "terrain": "land",
          "x": 26,
          "y": 19
         },
         {
          "elevation": 3,
          "feature": null,
          "key": "27:19",
          "rainfall": 14,
          "terrain": "land",
          "x": 27,
          "y": 19
         },
         {
          "elevation": 7,
          "feature": null,
          "key": "28:19",
          "rainfall": 14,
          "terrain": "land",
          "x": 28,
          "y": 19
         },
         {
          "elevation": 7,
          "feature": null,
          "key": "29:19",
          "rainfall": 11,
          "terrain": "land",
          "x": 29,
          "y": 19
         },
         {
          "elevation": 10,
          "feature": null,
          "key": "30:19",
          "rainfall": 11,
          "terrain": "land",
          "x": 30,
          "y": 19
         },
         {
          "elevation": 11,
          "feature": null,
          "key": "31:19",
          "rainfall": 11,
          "terrain": "land",
          "x": 31,
          "y": 19
         },
         {
          "elevation": 9,
          "feature": null,
          "key": "32:19",
          "rainfall": 11,
          "terrain": "land",
          "x": 32,
          "y": 19
         },
         {
          "elevation": 12,
          "feature": null,
          "key": "33:19",
          "rainfall": 19,
          "terrain": "land",
          "x": 33,
          "y": 19
         },
         {
          "elevation": 11,
          "feature": null,
          "key": "34:19",
          "rainfall": 27,
          "terrain": "land",
          "x": 34,
          "y": 19
         },
         {
          "elevation": 14,
          "feature": null,
          "key": "35:19",
          "rainfall": 41,
          "terrain": "land",
          "x": 35,
          "y": 19
         },
         {
          "elevation": 14,
          "feature": null,
          "key": "36:19",
          "rainfall": 51,
          "terrain": "land",
          "x": 36,
          "y": 19
         },
         {
          "elevation": 15,
          "feature": null,
          "key": "37:19",
          "rainfall": 59,
          "terrain": "land",
          "x": 37,
          "y": 19
         },
         {
          "elevation": 15,
          "feature": null,
          "key": "38:19",
          "rainfall": 58,
          "terrain": "land",
          "x": 38,
          "y": 19
         },
         {
          "elevation": 13,
          "feature": null,
          "key": "39:19",
          "rainfall": 56,
          "terrain": "land",
          "x": 39,
          "y": 19
         },
         {
          "elevation": 28,
          "feature": null,
          "key": "0:20",
          "rainfall": 29,
          "terrain": "mountain",
          "x": 0,
          "y": 20
         },
         {
          "elevation": 23,
          "feature": null,
          "key": "1:20",
          "rainfall": 24,
          "terrain": "land",
          "x": 1,
          "y": 20
         },
         {
          "elevation": 20,
          "feature": null,
          "key": "2:20",
          "rainfall": 21,
          "terrain": "land",
          "x": 2,
          "y": 20
         },
         {
          "elevation": 16,
          "feature": null,
          "key": "3:20",
          "rainfall": 17,
          "terrain": "land",
          "x": 3,
          "y": 20
         },
         {
          "elevation": 14,
          "feature": null,
          "key": "4:20",
          "rainfall": 15,
          "terrain": "land",
          "x": 4,
          "y": 20
         },
         {
          "elevation": 14,
          "feature": null,
          "key": "5:20",
          "rainfall": 15,
          "terrain": "land",
          "x": 5,
          "y": 20
         },
         {
          "elevation": 14,
          "feature": null,
          "key": "6:20",
          "rainfall": 16,
          "terrain": "land",
          "x": 6,
          "y": 20
         },
         {
          "elevation": 10,
          "feature": null,
          "key": "7:20",
          "rainfall": 14,
          "terrain": "land",
          "x": 7,
          "y": 20
         },
         {
          "elevation": 11,
          "feature": null,
          "key": "8:20",
          "rainfall": 20,
          "terrain": "land",
          "x": 8,
          "y": 20
         },
         {
          "elevation": 11,
          "feature": null,
          "key": "9:20",
          "rainfall": 28,
          "terrain": "land",
          "x": 9,
          "y": 20
         },
         {
          "elevation": 10,
          "feature": null,
          "key": "10:20",
          "rainfall": 36,
          "terrain": "land",
          "x": 10,
          "y": 20
         },
         {
          "elevation": 7,
          "feature": null,
          "key": "11:20",
          "rainfall": 44,
          "terrain": "land",
          "x": 11,
          "y": 20
         },
         {
          "elevation": 5,
          "feature": null,
          "key": "12:20",
          "rainfall": 56,
          "terrain": "land",
          "x": 12,
          "y": 20
         },
         {
          "elevation": 2,
          "feature": null,
          "key": "13:20",
          "rainfall": 65,
          "terrain": "land",
          "x": 13,
          "y": 20
         },
         {
          "elevation": 2,
          "feature": null,
          "key": "14:20",
          "rainfall": 70,
          "terrain": "land",
          "x": 14,
          "y": 20
         },
         {
          "elevation": 2,
          "feature": null,
          "key": "15:20",
          "rainfall": 73,
          "terrain": "land",
          "x": 15,
          "y": 20
         },
         {
          "elevation": 1,
          "feature": null,
          "key": "16:20",
          "rainfall": 68,
          "terrain": "land",
          "x": 16,
          "y": 20
         },
         {
          "elevation": 0,
          "feature": null,
          "key": "17:20",
          "rainfall": 64,
          "terrain": "ocean",
          "x": 17,
          "y": 20
         },
         {
          "elevation": 0,
          "feature": null,
          "key": "18:20",
          "rainfall": 57,
          "terrain": "ocean",
          "x": 18,
          "y": 20
         },
         {
          "elevation": -1,
          "feature": null,
          "key": "19:20",
          "rainfall": 47,
          "terrain": "ocean",
          "x": 19,
          "y": 20
         },
         {
          "elevation": -1,
          "feature": null,
          "key": "20:20",
          "rainfall": 38,
          "terrain": "ocean",
          "x": 20,
          "y": 20
         },
         {
          "elevation": -1,
          "feature": null,
          "key": "21:20",
          "rainfall": 32,
          "terrain": "ocean",
          "x": 21,
          "y": 20
         },
         {
          "elevation": 1,
          "feature": null,
          "key": "22:20",
          "rainfall": 31,
          "terrain": "land",
          "x": 22,
          "y": 20
         },
         {
          "elevation": 1,
          "feature": null,
          "key": "23:20",
          "rainfall": 28,
          "terrain": "land",
          "x": 23,
          "y": 20
         },
         {
          "elevation": 2,
          "feature": null,
          "key": "24:20",
          "rainfall": 25,
          "terrain": "land",
          "x": 24,
          "y": 20
         },
         {
          "elevation": 2,
          "feature": null,
          "key": "25:20",
          "rainfall": 20,
          "terrain": "land",
          "x": 25,
          "y": 20
         },
         {
          "elevation": 3,
          "feature": null,
          "key": "26:20",
          "rainfall": 17,
          "terrain": "land",
          "x": 26,
          "y": 20
         },
         {
          "elevation": 4,
          "feature": null,
          "key": "27:20",
          "rainfall": 14,
          "terrain": "land",
          "x": 27,
          "y": 20
         },
         {
          "elevation": 5,
          "feature": null,
          "key": "28:20",
          "rainfall": 11,
          "terrain": "land",
          "x": 28,
          "y": 20
         },
         {
          "elevation": 6,
          "feature": null,
          "key": "29:20",
          "rainfall": 9,
          "terrain": "land",
          "x": 29,
          "y": 20
         },
         {
          "elevation": 5,
          "feature": null,
          "key": "30:20",
          "rainfall": 7,
          "terrain": "land",
          "x": 30,
          "y": 20
         },
         {
          "elevation": 6,
          "feature": null,
          "key": "31:20",
          "rainfall": 7,
          "terrain": "land",
          "x": 31,
          "y": 20
         },
         {
          "elevation": 6,
          "feature": null,
          "key": "32:20",
          "rainfall": 9,
          "terrain": "land",
          "x": 32,
          "y": 20
         },
         {
          "elevation": 7,
          "feature": null,
          "key": "33:20",
          "rainfall": 16,
          "terrain": "land",
          "x": 33,
          "y": 20
         },
         {
          "elevation": 7,
          "feature": null,
          "key": "34:20",
          "rainfall": 25,
          "terrain": "land",
          "x": 34,
          "y": 20
         },
         {
          "elevation": 9,
          "feature": null,
          "key": "35:20",
          "rainfall": 39,
          "terrain": "land",
          "x": 35,
          "y": 20
         },
         {
          "elevation": 9,
          "feature": null,
          "key": "36:20",
          "rainfall": 46,
          "terrain": "land",
          "x": 36,
          "y": 20
         },
         {
          "elevation": 9,
          "feature": null,
          "key": "37:20",
          "rainfall": 48,
          "terrain": "land",
          "x": 37,
          "y": 20
         },
         {
          "elevation": 5,
          "feature": null,
          "key": "38:20",
          "rainfall": 45,
          "terrain": "land",
          "x": 38,
          "y": 20
         },
         {
          "elevation": 6,
          "feature": null,
          "key": "39:20",
          "rainfall": 40,
          "terrain": "land",
          "x": 39,
          "y": 20
         },
         {
          "elevation": 26,
          "feature": null,
          "key": "0:21",
          "rainfall": 27,
          "terrain": "mountain",
          "x": 0,
          "y": 21
         },
         {
          "elevation": 22,
          "feature": null,
          "key": "1:21",
          "rainfall": 24,
          "terrain": "land",
          "x": 1,
          "y": 21
         },
         {
          "elevation": 22,
          "feature": null,
          "key": "2:21",
          "rainfall": 24,
          "terrain": "land",
          "x": 2,
          "y": 21
         },
         {
          "elevation": 20,
          "feature": null,
          "key": "3:21",
          "rainfall": 22,
          "terrain": "land",
          "x": 3,
          "y": 21
         },
         {
          "elevation": 18,
          "feature": null,
          "key": "4:21",
          "rainfall": 20,
          "terrain": "land",
          "x": 4,
          "y": 21
         },
         {
          "elevation": 17,
          "feature": null,
          "key": "5:21",
          "rainfall": 20,
          "terrain": "land",
          "x": 5,
          "y": 21
         },
         {
          "elevation": 15,
          "feature": null,
          "key": "6:21",
          "rainfall": 19,
          "terrain": "land",
          "x": 6,
          "y": 21
         },
         {
          "elevation": 15,
          "feature": null,
          "key": "7:21",
          "rainfall": 21,
          "terrain": "land",
          "x": 7,
          "y": 21
         },
         {
          "elevation": 14,
          "feature": null,
          "key": "8:21",
          "rainfall": 24,
          "terrain": "land",
          "x": 8,
          "y": 21
         },
         {
          "elevation": 12,
          "feature": null,
          "key": "9:21",
          "rainfall": 28,
          "terrain": "land",
          "x": 9,
          "y": 21
         },
         {
          "elevation": 9,
          "feature": null,
          "key": "10:21",
          "rainfall": 32,
          "terrain": "land",
          "x": 10,
          "y": 21
         },
         {
          "elevation": 7,
          "feature": null,
          "key": "11:21",
          "rainfall": 37,
          "terrain": "land",
          "x": 11,
          "y": 21
         },
         {
          "elevation": 4,
          "feature": null,
          "key": "12:21",
          "rainfall": 44,
          "terrain": "land",
          "x": 12,
          "y": 21
         },
         {
          "elevation": 3,
          "feature": null,
          "key": "13:21",
          "rainfall": 52,
          "terrain": "land",
          "x": 13,
          "y": 21
         },
         {
          "elevation": 2,
          "feature": null,
          "key": "14:21",
          "rainfall": 54,
          "terrain": "land",
          "x": 14,
          "y": 21
         },
         {
          "elevation": 2,
          "feature": "Snowcrest",
          "key": "15:21",
          "rainfall": 55,
          "terrain": "land",
          "x": 15,
          "y": 21
         },
         {
          "elevation": -1,
          "feature": null,
          "key": "16:21",
          "rainfall": 52,
          "terrain": "ocean",
          "x": 16,
          "y": 21
         },
         {
          "elevation": -1,
          "feature": null,
          "key": "17:21",
          "rainfall": 50,
          "terrain": "ocean",
          "x": 17,
          "y": 21
         },
         {
          "elevation": -1,
          "feature": null,
          "key": "18:21",
          "rainfall": 47,
          "terrain": "ocean",
          "x": 18,
          "y": 21
         },
         {
          "elevation": 1,
          "feature": null,
          "key": "19:21",
          "rainfall": 41,
          "terrain": "land",
          "x": 19,
          "y": 21
         },
         {
          "elevation": 1,
          "feature": null,
          "key": "20:21",
          "rainfall": 33,
          "terrain": "land",
          "x": 20,
          "y": 21
         },
         {
          "elevation": 0,
          "feature": null,
          "key": "21:21",
          "rainfall": 24,
          "terrain": "ocean",
          "x": 21,
          "y": 21
         },
         {
          "elevation": 1,
          "feature": null,
          "key": "22:21",
          "rainfall": 25,
          "terrain": "land",
          "x": 22,
          "y": 21
         },
         {
          "elevation": 3,
          "feature": null,
          "key": "23:21",
          "rainfall": 25,
          "terrain": "land",
          "x": 23,
          "y": 21
         },
         {
          "elevation": 5,
          "feature": null,
          "key": "24:21",
          "rainfall": 23,
          "terrain": "land",
          "x": 24,
          "y": 21
         },
         {
          "elevation": 5,
          "feature": null,
          "key": "25:21",
          "rainfall": 20,
          "terrain": "land",
          "x": 25,
          "y": 21
         },
         {
          "elevation": 5,
          "feature": null,
          "key": "26:21",
          "rainfall": 17,
          "terrain": "land",
          "x": 26,
          "y": 21
         },
         {
          "elevation": 4,
          "feature": null,
          "key": "27:21",
          "rainfall": 12,
          "terrain": "land",
          "x": 27,
          "y": 21
         },
         {
          "elevation": 4,
          "feature": null,
          "key": "28:21",
          "rainfall": 10,
          "terrain": "land",
          "x": 28,
          "y": 21
         },
         {
          "elevation": 5,
          "feature": null,
          "key": "29:21",
          "rainfall": 8,
          "terrain": "land",
          "x": 29,
          "y": 21
         },
         {
          "elevation": 5,
          "feature": null,
          "key": "30:21",
          "rainfall": 7,
          "terrain": "land",
          "x": 30,
          "y": 21
         },
         {
          "elevation": 4,
          "feature": null,
          "key": "31:21",
          "rainfall": 6,
          "terrain": "land",
          "x": 31,
          "y": 21
         },
         {
          "elevation": 3,
          "feature": null,
          "key": "32:21",
          "rainfall": 7,
          "terrain": "land",
          "x": 32,
          "y": 21
         },
         {
          "elevation": 4,
          "feature": null,
          "key": "33:21",
          "rainfall": 14,
          "terrain": "land",
          "x": 33,
          "y": 21
         },
         {
          "elevation": 4,
          "feature": null,
          "key": "34:21",
          "rainfall": 24,
          "terrain": "land",
          "x": 34,
          "y": 21
         },
         {
          "elevation": 4,
          "feature": null,
          "key": "35:21",
          "rainfall": 34,
          "terrain": "land",
          "x": 35,
          "y": 21
         },
         {
          "elevation": 5,
          "feature": null,
          "key": "36:21",
          "rainfall": 41,
          "terrain": "land",
          "x": 36,
          "y": 21
         },
         {
          "elevation": 4,
          "feature": null,
          "key": "37:21",
          "rainfall": 43,
          "terrain": "land",
          "x": 37,
          "y": 21
         },
         {
          "elevation": 4,
          "feature": null,
          "key": "38:21",
          "rainfall": 39,
          "terrain": "land",
          "x": 38,
          "y": 21
         },
         {
          "elevation": 2,
          "feature": null,
          "key": "39:21",
          "rainfall": 34,
          "terrain": "land",
          "x": 39,
          "y": 21
         },
         {
          "elevation": 21,
          "feature": null,
          "key": "0:22",
          "rainfall": 22,
          "terrain": "land",
          "x": 0,
          "y": 22
         },
         {
          "elevation": 23,
          "feature": null,
          "key": "1:22",
          "rainfall": 25,
          "terrain": "land",
          "x": 1,
          "y": 22
         },
         {
          "elevation": 21,
          "feature": null,
          "key": "2:22",
          "rainfall": 24,
          "terrain": "land",
          "x": 2,
          "y": 22
         },
         {
          "elevation": 21,
          "feature": null,
          "key": "3:22",
          "rainfall": 24,
          "terrain": "land",
          "x": 3,
          "y": 22
         },
         {
          "elevation": 21,
          "feature": null,
          "key": "4:22",
          "rainfall": 24,
          "terrain": "land",
          "x": 4,
          "y": 22
         },
         {
          "elevation": 21,
          "feature": null,
          "key": "5:22",
          "rainfall": 25,
          "terrain": "land",
          "x": 5,
          "y": 22
         },
         {
          "elevation": 19,
          "feature": null,
          "key": "6:22",
          "rainfall": 25,
          "terrain": "land",
          "x": 6,
          "y": 22
         },
         {
          "elevation": 18,
          "feature": null,
          "key": "7:22",
          "rainfall": 26,
          "terrain": "land",
          "x": 7,
          "y": 22
         },
         {
          "elevation": 14,
          "feature": null,
          "key": "8:22",
          "rainfall": 26,
          "terrain": "land",
          "x": 8,
          "y": 22
         },
         {
          "elevation": 13,
          "feature": null,
          "key": "9:22",
          "rainfall": 29,
          "terrain": "land",
          "x": 9,
          "y": 22
         },
         {
          "elevation": 10,
          "feature": null,
          "key": "10:22",
          "rainfall": 31,
          "terrain": "land",
          "x": 10,
          "y": 22
         },
         {
          "elevation": 7,
          "feature": null,
          "key": "11:22",
          "rainfall": 31,
          "terrain": "land",
          "x": 11,
          "y": 22
         },
         {
          "elevation": 4,
          "feature": "Solchild",
          "key": "12:22",
          "rainfall": 35,
          "terrain": "land",
          "x": 12,
          "y": 22
         },
         {
          "elevation": 4,
          "feature": null,
          "key": "13:22",
          "rainfall": 38,
          "terrain": "land",
          "x": 13,
          "y": 22
         },
         {
          "elevation": 3,
          "feature": null,
          "key": "14:22",
          "rainfall": 38,
          "terrain": "land",
          "x": 14,
          "y": 22
         },
         {
          "elevation": 1,
          "feature": null,
          "key": "15:22",
          "rainfall": 39,
          "terrain": "land",
          "x": 15,
          "y": 22
         },
         {
          "elevation": 1,
          "feature": null,
          "key": "16:22",
          "rainfall": 40,
          "terrain": "land",
          "x": 16,
          "y": 22
         },
         {
          "elevation": 0,
          "feature": null,
          "key": "17:22",
          "rainfall": 35,
          "terrain": "ocean",
          "x": 17,
          "y": 22
         },
         {
          "elevation": -1,
          "feature": null,
          "key": "18:22",
          "rainfall": 31,
          "terrain": "ocean",
          "x": 18,
          "y": 22
         },
         {
          "elevation": 1,
          "feature": null,
          "key": "19:22",
          "rainfall": 30,
          "terrain": "land",
          "x": 19,
          "y": 22
         },
         {
          "elevation": -1,
          "feature": null,
          "key": "20:22",
          "rainfall": 23,
          "terrain": "ocean",
          "x": 20,
          "y": 22
         },
         {
          "elevation": 0,
          "feature": null,
          "key": "21:22",
          "rainfall": 18,
          "terrain": "ocean",
          "x": 21,
          "y": 22
         },
         {
          "elevation": 1,
          "feature": null,
          "key": "22:22",
          "rainfall": 17,
          "terrain": "land",
          "x": 22,
          "y": 22
         },
         {
          "elevation": 1,
          "feature": null,
          "key": "23:22",
          "rainfall": 17,
          "terrain": "land",
          "x": 23,
          "y": 22
         },
         {
          "elevation": 6,
          "feature": null,
          "key": "24:22",
          "rainfall": 21,
          "terrain": "land",
          "x": 24,
          "y": 22
         },
         {
          "elevation": 8,
          "feature": null,
          "key": "25:22",
          "rainfall": 19,
          "terrain": "land",
          "x": 25,
          "y": 22
         },
         {
          "elevation": 6,
          "feature": null,
          "key": "26:22",
          "rainfall": 15,
          "terrain": "land",
          "x": 26,
          "y": 22
         },
         {
          "elevation": 6,
          "feature": null,
          "key": "27:22",
          "rainfall": 12,
          "terrain": "land",
          "x": 27,
          "y": 22
         },
         {
          "elevation": 6,
          "feature": null,
          "key": "28:22",
          "rainfall": 10,
          "terrain": "land",
          "x": 28,
          "y": 22
         },
         {
          "elevation": 5,
          "feature": null,
          "key": "29:22",
          "rainfall": 8,
          "terrain": "land",
          "x": 29,
          "y": 22
         },
         {
          "elevation": 8,
          "feature": null,
          "key": "30:22",
          "rainfall": 10,
          "terrain": "land",
          "x": 30,
          "y": 22
         },
         {
          "elevation": 5,
          "feature": null,
          "key": "31:22",
          "rainfall": 7,
          "terrain": "land",
          "x": 31,
          "y": 22
         },
         {
          "elevation": 6,
          "feature": null,
          "key": "32:22",
          "rainfall": 11,
          "terrain": "land",
          "x": 32,
          "y": 22
         },
         {
          "elevation": 6,
          "feature": null,
          "key": "33:22",
          "rainfall": 16,
          "terrain": "land",
          "x": 33,
          "y": 22
         },
         {
          "elevation": 8,
          "feature": null,
          "key": "34:22",
          "rainfall": 26,
          "terrain": "land",
          "x": 34,
          "y": 22
         },
         {
          "elevation": 8,
          "feature": null,
          "key": "35:22",
          "rainfall": 33,
          "terrain": "land",
          "x": 35,
          "y": 22
         },
         {
          "elevation": 7,
          "feature": null,
          "key": "36:22",
          "rainfall": 36,
          "terrain": "land",
          "x": 36,
          "y": 22
         },
         {
          "elevation": 5,
          "feature": null,
          "key": "37:22",
          "rainfall": 40,
          "terrain": "land",
          "x": 37,
          "y": 22
         },
         {
          "elevation": 6,
          "feature": null,
          "key": "38:22",
          "rainfall": 37,
          "terrain": "land",
          "x": 38,
          "y": 22
         },
         {
          "elevation": 2,
          "feature": null,
          "key": "39:22",
          "rainfall": 29,
          "terrain": "land",
          "x": 39,
          "y": 22
         },
         {
          "elevation": 17,
          "feature": null,
          "key": "0:23",
          "rainfall": 18,
          "terrain": "land",
          "x": 0,
          "y": 23
         },
         {
          "elevation": 22,
          "feature": null,
          "key": "1:23",
          "rainfall": 24,
          "terrain": "land",
          "x": 1,
          "y": 23
         },
         {
          "elevation": 24,
          "feature": null,
          "key": "2:23",
          "rainfall": 27,
          "terrain": "land",
          "x": 2,
          "y": 23
         },
         {
          "elevation": 25,
          "feature": null,
          "key": "3:23",
          "rainfall": 29,
          "terrain": "mountain",
          "x": 3,
          "y": 23
         },
         {
          "elevation": 28,
          "feature": null,
          "key": "4:23",
          "rainfall": 32,
          "terrain": "mountain",
          "x": 4,
          "y": 23
         },
         {
          "elevation": 29,
          "feature": null,
          "key": "5:23",
          "rainfall": 35,
          "terrain": "mountain",
          "x": 5,
          "y": 23
         },
         {
          "elevation": 26,
          "feature": null,
          "key": "6:23",
          "rainfall": 34,
          "terrain": "mountain",
          "x": 6,
          "y": 23
         },
         {
          "elevation": 24,
          "feature": null,
          "key": "7:23",
          "rainfall": 34,
          "terrain": "land",
          "x": 7,
          "y": 23
         },
         {
          "elevation": 20,
          "feature": null,
          "key": "8:23",
          "rainfall": 35,
          "terrain": "land",
          "x": 8,
          "y": 23
         },
         {
          "elevation": 16,
          "feature": null,
          "key": "9:23",
          "rainfall": 36,
          "terrain": "land",
          "x": 9,
          "y": 23
         },
         {
          "elevation": 10,
          "feature": null,
          "key": "10:23",
          "rainfall": 32,
          "terrain": "land",
          "x": 10,
          "y": 23
         },
         {
          "elevation": 7,
          "feature": null,
          "key": "11:23",
          "rainfall": 30,
          "terrain": "land",
          "x": 11,
          "y": 23
         },
         {
          "elevation": 6,
          "feature": null,
          "key": "12:23",
          "rainfall": 31,
          "terrain": "land",
          "x": 12,
          "y": 23
         },
         {
          "elevation": 4,
          "feature": null,
          "key": "13:23",
          "rainfall": 29,
          "terrain": "land",
          "x": 13,
          "y": 23
         },
         {
          "elevation": 3,
          "feature": null,
          "key": "14:23",
          "rainfall": 28,
          "terrain": "land",
          "x": 14,
          "y": 23
         },
         {
          "elevation": 1,
          "feature": null,
          "key": "15:23",
          "rainfall": 28,
          "terrain": "land",
          "x": 15,
          "y": 23
         },
         {
          "elevation": 1,
          "feature": null,
          "key": "16:23",
          "rainfall": 27,
          "terrain": "land",
          "x": 16,
          "y": 23
         },
         {
          "elevation": 1,
          "feature": null,
          "key": "17:23",
          "rainfall": 21,
          "terrain": "land",
          "x": 17,
          "y": 23
         },
         {
          "elevation": -2,
          "feature": null,
          "key": "18:23",
          "rainfall": 16,
          "terrain": "ocean",
          "x": 18,
          "y": 23
         },
         {
          "elevation": 0,
          "feature": null,
          "key": "19:23",
          "rainfall": 16,
          "terrain": "ocean",
          "x": 19,
          "y": 23
         },
         {
          "elevation": 0,
          "feature": null,
          "key": "20:23",
          "rainfall": 15,
          "terrain": "ocean",
          "x": 20,
          "y": 23
         },
         {
          "elevation": 0,
          "feature": null,
          "key": "21:23",
          "rainfall": 11,
          "terrain": "ocean",
          "x": 21,
          "y": 23
         },
         {
          "elevation": 1,
          "feature": null,
          "key": "22:23",
          "rainfall": 12,
          "terrain": "land",
          "x": 22,
          "y": 23
         },
         {
          "elevation": 4,
          "feature": null,
          "key": "23:23",
          "rainfall": 13,
          "terrain": "land",
          "x": 23,
          "y": 23
         },
         {
          "elevation": 6,
          "feature": null,
          "key": "24:23",
          "rainfall": 14,
          "terrain": "land",
          "x": 24,
          "y": 23
         },
         {
          "elevation": 7,
          "feature": null,
          "key": "25:23",
          "rainfall": 14,
          "terrain": "land",
          "x": 25,
          "y": 23
         },
         {
          "elevation": 10,
          "feature": null,
          "key": "26:23",
          "rainfall": 16,
          "terrain": "land",
          "x": 26,
          "y": 23
         },
         {
          "elevation": 9,
          "feature": null,
          "key": "27:23",
          "rainfall": 13,
          "terrain": "land",
          "x": 27,
          "y": 23
         },
         {
          "elevation": 10,
          "feature": null,
          "key": "28:23",
          "rainfall": 12,
          "terrain": "land",
          "x": 28,
          "y": 23
         },
         {
          "elevation": 11,
          "feature": null,
          "key": "29:23",
          "rainfall": 12,
          "terrain": "land",
          "x": 29,
          "y": 23
         },
         {
          "elevation": 9,
          "feature": null,
          "key": "30:23",
          "rainfall": 11,
          "terrain": "land",
          "x": 30,
          "y": 23
         },
         {
          "elevation": 10,
          "feature": null,
          "key": "31:23",
          "rainfall": 12,
          "terrain": "land",
          "x": 31,
          "y": 23
         },
         {
          "elevation": 8,
          "feature": null,
          "key": "32:23",
          "rainfall": 13,
          "terrain": "land",
          "x": 32,
          "y": 23
         },
         {
          "elevation": 9,
          "feature": null,
          "key": "33:23",
          "rainfall": 19,
          "terrain": "land",
          "x": 33,
          "y": 23
         },
         {
          "elevation": 11,
          "feature": null,
          "key": "34:23",
          "rainfall": 26,
          "terrain": "land",
          "x": 34,
          "y": 23
         },
         {
          "elevation": 8,
          "feature": null,
          "key": "35:23",
          "rainfall": 28,
          "terrain": "land",
          "x": 35,
          "y": 23
         },
         {
          "elevation": 10,
          "feature": null,
          "key": "36:23",
          "rainfall": 33,
          "terrain": "land",
          "x": 36,
          "y": 23
         },
         {
          "elevation": 9,
          "feature": null,
          "key": "37:23",
          "rainfall": 35,
          "terrain": "land",
          "x": 37,
          "y": 23
         },
         {
          "elevation": 4,
          "feature": null,
          "key": "38:23",
          "rainfall": 32,
          "terrain": "land",
          "x": 38,
          "y": 23
         },
         {
          "elevation": 1,
          "feature": null,
          "key": "39:23",
          "rainfall": 26,
          "terrain": "land",
          "x": 39,
          "y": 23
         },
         {
          "elevation": 15,
          "feature": null,
          "key": "0:24",
          "rainfall": 16,
          "terrain": "land",
          "x": 0,
          "y": 24
         },
         {
          "elevation": 19,
          "feature": null,
          "key": "1:24",
          "rainfall": 21,
          "terrain": "land",
          "x": 1,
          "y": 24
         },
         {
          "elevation": 25,
          "feature": null,
          "key": "2:24",
          "rainfall": 28,
          "terrain": "mountain",
          "x": 2,
          "y": 24
         },
         {
          "elevation": 29,
          "feature": null,
          "key": "3:24",
          "rainfall": 33,
          "terrain": "mountain",
          "x": 3,
          "y": 24
         },
         {
          "elevation": 33,
          "feature": null,
          "key": "4:24",
          "rainfall": 38,
          "terrain": "mountain",
          "x": 4,
          "y": 24
         },
         {
          "elevation": 34,
          "feature": null,
          "key": "5:24",
          "rainfall": 41,
          "terrain": "mountain",
          "x": 5,
          "y": 24
         },
         {
          "elevation": 32,
          "feature": null,
          "key": "6:24",
          "rainfall": 43,
          "terrain": "mountain",
          "x": 6,
          "y": 24
         },
         {
          "elevation": 31,
          "feature": null,
          "key": "7:24",
          "rainfall": 44,
          "terrain": "mountain",
          "x": 7,
          "y": 24
         },
         {
          "elevation": 25,
          "feature": null,
          "key": "8:24",
          "rainfall": 43,
          "terrain": "mountain",
          "x": 8,
          "y": 24
         },
         {
          "elevation": 18,
          "feature": null,
          "key": "9:24",
          "rainfall": 40,
          "terrain": "land",
          "x": 9,
          "y": 24
         },
         {
          "elevation": 14,
          "feature": null,
          "key": "10:24",
          "rainfall": 39,
          "terrain": "land",
          "x": 10,
          "y": 24
         },
         {
          "elevation": 8,
          "feature": null,
          "key": "11:24",
          "rainfall": 30,
          "terrain": "land",
          "x": 11,
          "y": 24
         },
         {
          "elevation": 5,
          "feature": null,
          "key": "12:24",
          "rainfall": 27,
          "terrain": "land",
          "x": 12,
          "y": 24
         },
         {
          "elevation": 4,
          "feature": null,
          "key": "13:24",
          "rainfall": 25,
          "terrain": "land",
          "x": 13,
          "y": 24
         },
         {
          "elevation": 3,
          "feature": null,
          "key": "14:24",
          "rainfall": 23,
          "terrain": "land",
          "x": 14,
          "y": 24
         },
         {
          "elevation": 1,
          "feature": null,
          "key": "15:24",
          "rainfall": 20,
          "terrain": "land",
          "x": 15,
          "y": 24
         },
         {
          "elevation": -1,
          "feature": null,
          "key": "16:24",
          "rainfall": 15,
          "terrain": "ocean",
          "x": 16,
          "y": 24
         },
         {
          "elevation": -1,
          "feature": null,
          "key": "17:24",
          "rainfall": 11,
          "terrain": "ocean",
          "x": 17,
          "y": 24
         },
         {
          "elevation": 1,
          "feature": null,
          "key": "18:24",
          "rainfall": 11,
          "terrain": "land",
          "x": 18,
          "y": 24
         },
         {
          "elevation": 0,
          "feature": null,
          "key": "19:24",
          "rainfall": 9,
          "terrain": "ocean",
          "x": 19,
          "y": 24
         },
         {
          "elevation": 0,
          "feature": null,
          "key": "20:24",
          "rainfall": 9,
          "terrain": "ocean",
          "x": 20,
          "y": 24
         },
         {
          "elevation": 1,
          "feature": null,
          "key": "21:24",
          "rainfall": 7,
          "terrain": "land",
          "x": 21,
          "y": 24
         },
         {
          "elevation": 2,
          "feature": null,
          "key": "22:24",
          "rainfall": 7,
          "terrain": "land",
          "x": 22,
          "y": 24
         },
         {
          "elevation": 6,
          "feature": null,
          "key": "23:24",
          "rainfall": 11,
          "terrain": "land",
          "x": 23,
          "y": 24
         },
         {
          "elevation": 7,
          "feature": null,
          "key": "24:24",
          "rainfall": 11,
          "terrain": "land",
          "x": 24,
          "y": 24
         },
         {
          "elevation": 10,
          "feature": null,
          "key": "25:24",
          "rainfall": 14,
          "terrain": "land",
          "x": 25,
          "y": 24
         },
         {
          "elevation": 16,
          "feature": null,
          "key": "26:24",
          "rainfall": 20,
          "terrain": "land",
          "x": 26,
          "y": 24
         },
         {
          "elevation": 21,
          "feature": null,
          "key": "27:24",
          "rainfall": 24,
          "terrain": "land",
          "x": 27,
          "y": 24
         },
         {
          "elevation": 21,
          "feature": null,
          "key": "28:24",
          "rainfall": 22,
          "terrain": "land",
          "x": 28,
          "y": 24
         },
         {
          "elevation": 20,
          "feature": null,
          "key": "29:24",
          "rainfall": 20,
          "terrain": "land",
          "x": 29,
          "y": 24
         },
         {
          "elevation": 16,
          "feature": null,
          "key": "30:24",
          "rainfall": 17,
          "terrain": "land",
          "x": 30,
          "y": 24
         },
         {
          "elevation": 14,
          "feature": null,
          "key": "31:24",
          "rainfall": 16,
          "terrain": "land",
          "x": 31,
          "y": 24
         },
         {
          "elevation": 14,
          "feature": null,
          "key": "32:24",
          "rainfall": 18,
          "terrain": "land",
          "x": 32,
          "y": 24
         },
         {
          "elevation": 15,
          "feature": null,
          "key": "33:24",
          "rainfall": 22,
          "terrain": "land",
          "x": 33,
          "y": 24
         },
         {
          "elevation": 15,
          "feature": null,
          "key": "34:24",
          "rainfall": 27,
          "terrain": "land",
          "x": 34,
          "y": 24
         },
         {
          "elevation": 14,
          "feature": null,
          "key": "35:24",
          "rainfall": 29,
          "terrain": "land",
          "x": 35,
          "y": 24
         },
         {
          "elevation": 12,
          "feature": null,
          "key": "36:24",
          "rainfall": 29,
          "terrain": "land",
          "x": 36,
          "y": 24
         },
         {
          "elevation": 10,
          "feature": null,
          "key": "37:24",
          "rainfall": 32,
          "terrain": "land",
          "x": 37,
          "y": 24
         },
         {
          "elevation": 6,
          "feature": null,
          "key": "38:24",
          "rainfall": 29,
          "terrain": "land",
          "x": 38,
          "y": 24
         },
         {
          "elevation": 1,
          "feature": null,
          "key": "39:24",
          "rainfall": 23,
          "terrain": "land",
          "x": 39,
          "y": 24
         },
         {
          "elevation": 20,
          "feature": null,
          "key": "0:25",
          "rainfall": 22,
          "terrain": "land",
          "x": 0,
          "y": 25
         },
         {
          "elevation": 27,
          "feature": null,
          "key": "1:25",
          "rainfall": 30,
          "terrain": "mountain",
          "x": 1,
          "y": 25
         },
         {
          "elevation": 32,
          "feature": null,
          "key": "2:25",
          "rainfall": 36,
          "terrain": "mountain",
          "x": 2,
          "y": 25
         },
         {
          "elevation": 34,
          "feature": null,
          "key": "3:25",
          "rainfall": 39,
          "terrain": "mountain",
          "x": 3,
          "y": 25
         },
         {
          "elevation": 38,
          "feature": null,
          "key": "4:25",
          "rainfall": 44,
          "terrain": "mountain",
          "x": 4,
          "y": 25
         },
         {
          "elevation": 37,
          "feature": null,
          "key": "5:25",
          "rainfall": 46,
          "terrain": "mountain",
          "x": 5,
          "y": 25
         },
         {
          "elevation": 34,
          "feature": null,
          "key": "6:25",
          "rainfall": 47,
          "terrain": "mountain",
          "x": 6,
          "y": 25
         },
         {
          "elevation": 36,
          "feature": null,
          "key": "7:25",
          "rainfall": 53,
          "terrain": "mountain",
          "x": 7,
          "y": 25
         },
         {
          "elevation": 26,
          "feature": null,
          "key": "8:25",
          "rainfall": 46,
          "terrain": "mountain",
          "x": 8,
          "y": 25
         },
         {
          "elevation": 21,
          "feature": null,
          "key": "9:25",
          "rainfall": 45,
          "terrain": "land",
          "x": 9,
          "y": 25
         },
         {
          "elevation": 15,
          "feature": null,
          "key": "10:25",
          "rainfall": 40,
          "terrain": "land",
          "x": 10,
          "y": 25
         },
         {
          "elevation": 10,
          "feature": null,
          "key": "11:25",
          "rainfall": 36,
          "terrain": "land",
          "x": 11,
          "y": 25
         },
         {
          "elevation": 10,
          "feature": null,
          "key": "12:25",
          "rainfall": 35,
          "terrain": "land",
          "x": 12,
          "y": 25
         },
         {
          "elevation": 3,
          "feature": null,
          "key": "13:25",
          "rainfall": 26,
          "terrain": "land",
          "x": 13,
          "y": 25
         },
         {
          "elevation": 2,
          "feature": null,
          "key": "14:25",
          "rainfall": 21,
          "terrain": "land",
          "x": 14,
          "y": 25
         },
         {
          "elevation": 2,
          "feature": null,
          "key": "15:25",
          "rainfall": 16,
          "terrain": "land",
          "x": 15,
          "y": 25
         },
         {
          "elevation": 1,
          "feature": null,
          "key": "16:25",
          "rainfall": 12,
          "terrain": "land",
          "x": 16,
          "y": 25
         },
         {
          "elevation": 1,
          "feature": null,
          "key": "17:25",
          "rainfall": 9,
          "terrain": "land",
          "x": 17,
          "y": 25
         },
         {
          "elevation": -1,
          "feature": null,
          "key": "18:25",
          "rainfall": 6,
          "terrain": "ocean",
          "x": 18,
          "y": 25
         },
         {
          "elevation": 0,
          "feature": null,
          "key": "19:25",
          "rainfall": 6,
          "terrain": "ocean",
          "x": 19,
          "y": 25
         },
         {
          "elevation": -1,
          "feature": null,
          "key": "20:25",
          "rainfall": 4,
          "terrain": "ocean",
          "x": 20,
          "y": 25
         },
         {
          "elevation": 0,
          "feature": null,
          "key": "21:25",
          "rainfall": 4,
          "terrain": "ocean",
          "x": 21,
          "y": 25
         },
         {
          "elevation": 3,
          "feature": null,
          "key": "22:25",
          "rainfall": 5,
          "terrain": "land",
          "x": 22,
          "y": 25
         },
         {
          "elevation": 7,
          "feature": null,
          "key": "23:25",
          "rainfall": 9,
          "terrain": "land",
          "x": 23,
          "y": 25
         },
         {
          "elevation": 11,
          "feature": null,
          "key": "24:25",
          "rainfall": 13,
          "terrain": "land",
          "x": 24,
          "y": 25
         },
         {
          "elevation": 13,
          "feature": null,
          "key": "25:25",
          "rainfall": 15,
          "terrain": "land",
          "x": 25,
          "y": 25
         },
         {
          "elevation": 22,
          "feature": null,
          "key": "26:25",
          "rainfall": 24,
          "terrain": "land",
          "x": 26,
          "y": 25
         },
         {
          "elevation": 28,
          "feature": null,
          "key": "27:25",
          "rainfall": 30,
          "terrain": "mountain",
          "x": 27,
          "y": 25
         },
         {
          "elevation": 30,
          "feature": null,
          "key": "28:25",
          "rainfall": 31,
          "terrain": "mountain",
          "x": 28,
          "y": 25
         },
         {
          "elevation": 30,
          "feature": null,
          "key": "29:25",
          "rainfall": 30,
          "terrain": "mountain",
          "x": 29,
          "y": 25
         },
         {
          "elevation": 28,
          "feature": null,
          "key": "30:25",
          "rainfall": 29,
          "terrain": "mountain",
          "x": 30,
          "y": 25
         },
         {
          "elevation": 22,
          "feature": null,
          "key": "31:25",
          "rainfall": 24,
          "terrain": "land",
          "x": 31,
          "y": 25
         },
         {
          "elevation": 22,
          "feature": null,
          "key": "32:25",
          "rainfall": 25,
          "terrain": "land",
          "x": 32,
          "y": 25
         },
         {
          "elevation": 19,
          "feature": null,
          "key": "33:25",
          "rainfall": 25,
          "terrain": "land",
          "x": 33,
          "y": 25
         },
         {
          "elevation": 15,
          "feature": null,
          "key": "34:25",
          "rainfall": 25,
          "terrain": "land",
          "x": 34,
          "y": 25
         },
         {
          "elevation": 13,
          "feature": null,
          "key": "35:25",
          "rainfall": 26,
          "terrain": "land",
          "x": 35,
          "y": 25
         },
         {
          "elevation": 9,
          "feature": null,
          "key": "36:25",
          "rainfall": 24,
          "terrain": "land",
          "x": 36,
          "y": 25
         },
         {
          "elevation": 8,
          "feature": null,
          "key": "37:25",
          "rainfall": 26,
          "terrain": "land",
          "x": 37,
          "y": 25
         },
         {
          "elevation": 5,
          "feature": null,
          "key": "38:25",
          "rainfall": 25,
          "terrain": "land",
          "x": 38,
          "y": 25
         },
         {
          "elevation": 2,
          "feature": null,
          "key": "39:25",
          "rainfall": 21,
          "terrain": "land",
          "x": 39,
          "y": 25
         },
         {
          "elevation": 24,
          "feature": null,
          "key": "0:26",
          "rainfall": 27,
          "terrain": "land",
          "x": 0,
          "y": 26
         },
         {
          "elevation": 32,
          "feature": null,
          "key": "1:26",
          "rainfall": 36,
          "terrain": "mountain",
          "x": 1,
          "y": 26
         },
         {
          "elevation": 34,
          "feature": null,
          "key": "2:26",
          "rainfall": 39,
          "terrain": "mountain",
          "x": 2,
          "y": 26
         },
         {
          "elevation": 37,
          "feature": null,
          "key": "3:26",
          "rainfall": 43,
          "terrain": "mountain",
          "x": 3,
          "y": 26
         },
         {
          "elevation": 42,
          "feature": null,
          "key": "4:26",
          "rainfall": 49,
          "terrain": "mountain",
          "x": 4,
          "y": 26
         },
         {
          "elevation": 44,
          "feature": null,
          "key": "5:26",
          "rainfall": 55,
          "terrain": "mountain",
          "x": 5,
          "y": 26
         },
         {
          "elevation": 40,
          "feature": null,
          "key": "6:26",
          "rainfall": 56,
          "terrain": "mountain",
          "x": 6,
          "y": 26
         },
         {
          "elevation": 37,
          "feature": null,
          "key": "7:26",
          "rainfall": 54,
          "terrain": "mountain",
          "x": 7,
          "y": 26
         },
         {
          "elevation": 29,
          "feature": null,
          "key": "8:26",
          "rainfall": 53,
          "terrain": "mountain",
          "x": 8,
          "y": 26
         },
         {
          "elevation": 24,
          "feature": null,
          "key": "9:26",
          "rainfall": 51,
          "terrain": "land",
          "x": 9,
          "y": 26
         },
         {
          "elevation": 20,
          "feature": null,
          "key": "10:26",
          "rainfall": 49,
          "terrain": "land",
          "x": 10,
          "y": 26
         },
         {
          "elevation": 9,
          "feature": null,
          "key": "11:26",
          "rainfall": 40,
          "terrain": "land",
          "x": 11,
          "y": 26
         },
         {
          "elevation": 9,
          "feature": null,
          "key": "12:26",
          "rainfall": 43,
          "terrain": "land",
          "x": 12,
          "y": 26
         },
         {
          "elevation": 4,
          "feature": null,
          "key": "13:26",
          "rainfall": 33,
          "terrain": "land",
          "x": 13,
          "y": 26
         },
         {
          "elevation": 3,
          "feature": null,
          "key": "14:26",
          "rainfall": 26,
          "terrain": "land",
          "x": 14,
          "y": 26
         },
         {
          "elevation": 1,
          "feature": null,
          "key": "15:26",
          "rainfall": 19,
          "terrain": "land",
          "x": 15,
          "y": 26
         },
         {
          "elevation": -1,
          "feature": null,
          "key": "16:26",
          "rainfall": 14,
          "terrain": "ocean",
          "x": 16,
          "y": 26
         },
         {
          "elevation": 0,
          "feature": null,
          "key": "17:26",
          "rainfall": 10,
          "terrain": "ocean",
          "x": 17,
          "y": 26
         },
         {
          "elevation": 2,
          "feature": null,
          "key": "18:26",
          "rainfall": 9,
          "terrain": "land",
          "x": 18,
          "y": 26
         },
         {
          "elevation": 0,
          "feature": null,
          "key": "19:26",
          "rainfall": 3,
          "terrain": "ocean",
          "x": 19,
          "y": 26
         },
         {
          "elevation": 1,
          "feature": null,
          "key": "20:26",
          "rainfall": 3,
          "terrain": "land",
          "x": 20,
          "y": 26
         },
         {
          "elevation": 2,
          "feature": null,
          "key": "21:26",
          "rainfall": 3,
          "terrain": "land",
          "x": 21,
          "y": 26
         },
         {
          "elevation": 4,
          "feature": null,
          "key": "22:26",
          "rainfall": 5,
          "terrain": "land",
          "x": 22,
          "y": 26
         },
         {
          "elevation": 8,
          "feature": null,
          "key": "23:26",
          "rainfall": 9,
          "terrain": "land",
          "x": 23,
          "y": 26
         },
         {
          "elevation": 15,
          "feature": null,
          "key": "24:26",
          "rainfall": 16,
          "terrain": "land",
          "x": 24,
          "y": 26
         },
         {
          "elevation": 20,
          "feature": null,
          "key": "25:26",
          "rainfall": 21,
          "terrain": "land",
          "x": 25,
          "y": 26
         },
         {
          "elevation": 29,
          "feature": null,
          "key": "26:26",
          "rainfall": 30,
          "terrain": "mountain",
          "x": 26,
          "y": 26
         },
         {
          "elevation": 36,
          "feature": null,
          "key": "27:26",
          "rainfall": 37,
          "terrain": "mountain",
          "x": 27,
          "y": 26
         },
         {
          "elevation": 40,
          "feature": null,
          "key": "28:26",
          "rainfall": 41,
          "terrain": "mountain",
          "x": 28,
          "y": 26
         },
         {
          "elevation": 41,
          "feature": null,
          "key": "29:26",
          "rainfall": 41,
          "terrain": "mountain",
          "x": 29,
          "y": 26
         },
         {
          "elevation": 42,
          "feature": null,
          "key": "30:26",
          "rainfall": 43,
          "terrain": "mountain",
          "x": 30,
          "y": 26
         },
         {
          "elevation": 34,
          "feature": null,
          "key": "31:26",
          "rainfall": 36,
          "terrain": "mountain",
          "x": 31,
          "y": 26
         },
         {
          "elevation": 25,
          "feature": null,
          "key": "32:26",
          "rainfall": 28,
          "terrain": "mountain",
          "x": 32,
          "y": 26
         },
         {
          "elevation": 21,
          "feature": null,
          "key": "33:26",
          "rainfall": 26,
          "terrain": "land",
          "x": 33,
          "y": 26
         },
         {
          "elevation": 14,
          "feature": null,
          "key": "34:26",
          "rainfall": 22,
          "terrain": "land",
          "x": 34,
          "y": 26
         },
         {
          "elevation": 10,
          "feature": null,
          "key": "35:26",
          "rainfall": 21,
          "terrain": "land",
          "x": 35,
          "y": 26
         },
         {
          "elevation": 10,
          "feature": null,
          "key": "36:26",
          "rainfall": 22,
          "terrain": "land",
          "x": 36,
          "y": 26
         },
         {
          "elevation": 7,
          "feature": null,
          "key": "37:26",
          "rainfall": 21,
          "terrain": "land",
          "x": 37,
          "y": 26
         },
         {
          "elevation": 4,
          "feature": null,
          "key": "38:26",
          "rainfall": 19,
          "terrain": "land",
          "x": 38,
          "y": 26
         },
         {
          "elevation": 2,
          "feature": null,
          "key": "39:26",
          "rainfall": 16,
          "terrain": "land",
          "x": 39,
          "y": 26
         },
         {
          "elevation": 28,
          "feature": "Stonegarden",
          "key": "0:27",
          "rainfall": 32,
          "terrain": "mountain",
          "x": 0,
          "y": 27
         },
         {
          "elevation": 32,
          "feature": null,
          "key": "1:27",
          "rainfall": 37,
          "terrain": "mountain",
          "x": 1,
          "y": 27
         },
         {
          "elevation": 38,
          "feature": null,
          "key": "2:27",
          "rainfall": 44,
          "terrain": "mountain",
          "x": 2,
          "y": 27
         },
         {
          "elevation": 41,
          "feature": null,
          "key": "3:27",
          "rainfall": 48,
          "terrain": "mountain",
          "x": 3,
          "y": 27
         },
         {
          "elevation": 46,
          "feature": null,
          "key": "4:27",
          "rainfall": 54,
          "terrain": "mountain",
          "x": 4,
          "y": 27
         },
         {
          "elevation": 44,
          "feature": "Founder'smore",
          "key": "5:27",
          "rainfall": 56,
          "terrain": "mountain",
          "x": 5,
          "y": 27
         },
         {
          "elevation": 41,
          "feature": null,
          "key": "6:27",
          "rainfall": 56,
          "terrain": "mountain",
          "x": 6,
          "y": 27
         },
         {
          "elevation": 35,
          "feature": null,
          "key": "7:27",
          "rainfall": 54,
          "terrain": "mountain",
          "x": 7,
          "y": 27
         },
         {
          "elevation": 30,
          "feature": null,
          "key": "8:27",
          "rainfall": 54,
          "terrain": "mountain",
          "x": 8,
          "y": 27
         },
         {
          "elevation": 23,
          "feature": null,
          "key": "9:27",
          "rainfall": 53,
          "terrain": "land",
          "x": 9,
          "y": 27
         },
         {
          "elevation": 16,
          "feature": null,
          "key": "10:27",
          "rainfall": 49,
          "terrain": "land",
          "x": 10,
          "y": 27
         },
         {
          "elevation": 11,
          "feature": null,
          "key": "11:27",
          "rainfall": 46,
          "terrain": "land",
          "x": 11,
          "y": 27
         },
         {
          "elevation": 8,
          "feature": null,
          "key": "12:27",
          "rainfall": 45,
          "terrain": "land",
          "x": 12,
          "y": 27
         },
         {
          "elevation": 5,
          "feature": null,
          "key": "13:27",
          "rainfall": 40,
          "terrain": "land",
          "x": 13,
          "y": 27
         },
         {
          "elevation": 3,
          "feature": null,
          "key": "14:27",
          "rainfall": 34,
          "terrain": "land",
          "x": 14,
          "y": 27
         },
         {
          "elevation": 1,
          "feature": null,
          "key": "15:27",
          "rainfall": 29,
          "terrain": "land",
          "x": 15,
          "y": 27
         },
         {
          "elevation": 1,
          "feature": null,
          "key": "16:27",
          "rainfall": 22,
          "terrain": "land",
          "x": 16,
          "y": 27
         },
         {
          "elevation": 1,
          "feature": null,
          "key": "17:27",
          "rainfall": 13,
          "terrain": "land",
          "x": 17,
          "y": 27
         },
         {
          "elevation": 3,
          "feature": null,
          "key": "18:27",
          "rainfall": 9,
          "terrain": "land",
          "x": 18,
          "y": 27
         },
         {
          "elevation": 2,
          "feature": null,
          "key": "19:27",
          "rainfall": 5,
          "terrain": "land",
          "x": 19,
          "y": 27
         },
         {
          "elevation": 4,
          "feature": null,
          "key": "20:27",
          "rainfall": 5,
          "terrain": "land",
          "x": 20,
          "y": 27
         },
         {
          "elevation": 4,
          "feature": null,
          "key": "21:27",
          "rainfall": 4,
          "terrain": "land",
          "x": 21,
          "y": 27
         },
         {
          "elevation": 8,
          "feature": null,
          "key": "22:27",
          "rainfall": 8,
          "terrain": "land",
          "x": 22,
          "y": 27
         },
         {
          "elevation": 11,
          "feature": null,
          "key": "23:27",
          "rainfall": 11,
          "terrain": "land",
          "x": 23,
          "y": 27
         },
         {
          "elevation": 19,
          "feature": null,
          "key": "24:27",
          "rainfall": 19,
          "terrain": "land",
          "x": 24,
          "y": 27
         },
         {
          "elevation": 25,
          "feature": null,
          "key": "25:27",
          "rainfall": 25,
          "terrain": "mountain",
          "x": 25,
          "y": 27
         },
         {
          "elevation": 36,
          "feature": null,
          "key": "26:27",
          "rainfall": 36,
          "terrain": "mountain",
          "x": 26,
          "y": 27
         },
         {
          "elevation": 46,
          "feature": null,
          "key": "27:27",
          "rainfall": 46,
          "terrain": "mountain",
          "x": 27,
          "y": 27
         },
         {
          "elevation": 47,
          "feature": null,
          "key": "28:27",
          "rainfall": 47,
          "terrain": "mountain",
          "x": 28,
          "y": 27
         },
         {
          "elevation": 47,
          "feature": null,
          "key": "29:27",
          "rainfall": 47,
          "terrain": "mountain",
          "x": 29,
          "y": 27
         },
         {
          "elevation": 48,
          "feature": null,
          "key": "30:27",
          "rainfall": 49,
          "terrain": "mountain",
          "x": 30,
          "y": 27
         },
         {
          "elevation": 36,
          "feature": null,
          "key": "31:27",
          "rainfall": 38,
          "terrain": "mountain",
          "x": 31,
          "y": 27
         },
         {
          "elevation": 26,
          "feature": null,
          "key": "32:27",
          "rainfall": 28,
          "terrain": "mountain",
          "x": 32,
          "y": 27
         },
         {
          "elevation": 19,
          "feature": null,
          "key": "33:27",
          "rainfall": 22,
          "terrain": "land",
          "x": 33,
          "y": 27
         },
         {
          "elevation": 11,
          "feature": null,
          "key": "34:27",
          "rainfall": 17,
          "terrain": "land",
          "x": 34,
          "y": 27
         },
         {
          "elevation": 7,
          "feature": null,
          "key": "35:27",
          "rainfall": 14,
          "terrain": "land",
          "x": 35,
          "y": 27
         },
         {
          "elevation": 8,
          "feature": null,
          "key": "36:27",
          "rainfall": 16,
          "terrain": "land",
          "x": 36,
          "y": 27
         },
         {
          "elevation": 6,
          "feature": null,
          "key": "37:27",
          "rainfall": 16,
          "terrain": "land",
          "x": 37,
          "y": 27
         },
         {
          "elevation": 3,
          "feature": null,
          "key": "38:27",
          "rainfall": 12,
          "terrain": "land",
          "x": 38,
          "y": 27
         },
         {
          "elevation": 1,
          "feature": null,
          "key": "39:27",
          "rainfall": 9,
          "terrain": "land",
          "x": 39,
          "y": 27
         },
         {
          "elevation": 26,
          "feature": null,
          "key": "0:28",
          "rainfall": 31,
          "terrain": "mountain",
          "x": 0,
          "y": 28
         },
         {
          "elevation": 32,
          "feature": null,
          "key": "1:28",
          "rainfall": 40,
          "terrain": "mountain",
          "x": 1,
          "y": 28
         },
         {
          "elevation": 42,
          "feature": null,
          "key": "2:28",
          "rainfall": 51,
          "terrain": "mountain",
          "x": 2,
          "y": 28
         },
         {
          "elevation": 45,
          "feature": null,
          "key": "3:28",
          "rainfall": 55,
          "terrain": "mountain",
          "x": 3,
          "y": 28
         },
         {
          "elevation": 47,
          "feature": null,
          "key": "4:28",
          "rainfall": 58,
          "terrain": "mountain",
          "x": 4,
          "y": 28
         },
         {
          "elevation": 51,
          "feature": null,
          "key": "5:28",
          "rainfall": 63,
          "terrain": "mountain",
          "x": 5,
          "y": 28
         },
         {
          "elevation": 43,
          "feature": null,
          "key": "6:28",
          "rainfall": 59,
          "terrain": "mountain",
          "x": 6,
          "y": 28
         },
         {
          "elevation": 37,
          "feature": null,
          "key": "7:28",
          "rainfall": 55,
          "terrain": "mountain",
          "x": 7,
          "y": 28
         },
         {
          "elevation": 31,
          "feature": null,
          "key": "8:28",
          "rainfall": 55,
          "terrain": "mountain",
          "x": 8,
          "y": 28
         },
         {
          "elevation": 25,
          "feature": null,
          "key": "9:28",
          "rainfall": 54,
          "terrain": "mountain",
          "x": 9,
          "y": 28
         },
         {
          "elevation": 20,
          "feature": null,
          "key": "10:28",
          "rainfall": 55,
          "terrain": "land",
          "x": 10,
          "y": 28
         },
         {
          "elevation": 10,
          "feature": null,
          "key": "11:28",
          "rainfall": 47,
          "terrain": "land",
          "x": 11,
          "y": 28
         },
         {
          "elevation": 8,
          "feature": null,
          "key": "12:28",
          "rainfall": 46,
          "terrain": "land",
          "x": 12,
          "y": 28
         },
         {
          "elevation": 5,
          "feature": null,
          "key": "13:28",
          "rainfall": 44,
          "terrain": "land",
          "x": 13,
          "y": 28
         },
         {
          "elevation": 4,
          "feature": null,
          "key": "14:28",
          "rainfall": 45,
          "terrain": "land",
          "x": 14,
          "y": 28
         },
         {
          "elevation": 1,
          "feature": null,
          "key": "15:28",
          "rainfall": 34,
          "terrain": "land",
          "x": 15,
          "y": 28
         },
         {
          "elevation": -1,
          "feature": null,
          "key": "16:28",
          "rainfall": 23,
          "terrain": "ocean",
          "x": 16,
          "y": 28
         },
         {
          "elevation": 4,
          "feature": null,
          "key": "17:28",
          "rainfall": 16,
          "terrain": "land",
          "x": 17,
          "y": 28
         },
         {
          "elevation": 2,
          "feature": null,
          "key": "18:28",
          "rainfall": 8,
          "terrain": "land",
          "x": 18,
          "y": 28
         },
         {
          "elevation": 5,
          "feature": null,
          "key": "19:28",
          "rainfall": 8,
          "terrain": "land",
          "x": 19,
          "y": 28
         },
         {
          "elevation": 5,
          "feature": "Heartrest",
          "key": "20:28",
          "rainfall": 6,
          "terrain": "land",
          "x": 20,
          "y": 28
         },
         {
          "elevation": 5,
          "feature": null,
          "key": "21:28",
          "rainfall": 5,
          "terrain": "land",
          "x": 21,
          "y": 28
         },
         {
          "elevation": 8,
          "feature": null,
          "key": "22:28",
          "rainfall": 8,
          "terrain": "land",
          "x": 22,
          "y": 28
         },
         {
          "elevation": 13,
          "feature": null,
          "key": "23:28",
          "rainfall": 13,
          "terrain": "land",
          "x": 23,
          "y": 28
         },
         {
          "elevation": 19,
          "feature": null,
          "key": "24:28",
          "rainfall": 19,
          "terrain": "land",
          "x": 24,
          "y": 28
         },
         {
          "elevation": 26,
          "feature": null,
          "key": "25:28",
          "rainfall": 26,
          "terrain": "mountain",
          "x": 25,
          "y": 28
         },
         {
          "elevation": 39,
          "feature": null,
          "key": "26:28",
          "rainfall": 39,
          "terrain": "mountain",
          "x": 26,
          "y": 28
         },
         {
          "elevation": 48,
          "feature": null,
          "key": "27:28",
          "rainfall": 48,
          "terrain": "mountain",
          "x": 27,
          "y": 28
         },
         {
          "elevation": 49,
          "feature": null,
          "key": "28:28",
          "rainfall": 49,
          "terrain": "mountain",
          "x": 28,
          "y": 28
         },
         {
          "elevation": 48,
          "feature": null,
          "key": "29:28",
          "rainfall": 48,
          "terrain": "mountain",
          "x": 29,
          "y": 28
         },
         {
          "elevation": 45,
          "feature": null,
          "key": "30:28",
          "rainfall": 46,
          "terrain": "mountain",
          "x": 30,
          "y": 28
         },
         {
          "elevation": 32,
          "feature": null,
          "key": "31:28",
          "rainfall": 33,
          "terrain": "mountain",
          "x": 31,
          "y": 28
         },
         {
          "elevation": 28,
          "feature": null,
          "key": "32:28",
          "rainfall": 29,
          "terrain": "mountain",
          "x": 32,
          "y": 28
         },
         {
          "elevation": 18,
          "feature": null,
          "key": "33:28",
          "rainfall": 20,
          "terrain": "land",
          "x": 33,
          "y": 28
         },
         {
          "elevation": 10,
          "feature": null,
          "key": "34:28",
          "rainfall": 13,
          "terrain": "land",
          "x": 34,
          "y": 28
         },
         {
          "elevation": 8,
          "feature": null,
          "key": "35:28",
          "rainfall": 12,
          "terrain": "land",
          "x": 35,
          "y": 28
         },
         {
          "elevation": 4,
          "feature": null,
          "key": "36:28",
          "rainfall": 8,
          "terrain": "land",
          "x": 36,
          "y": 28
         },
         {
          "elevation": 5,
          "feature": null,
          "key": "37:28",
          "rainfall": 9,
          "terrain": "land",
          "x": 37,
          "y": 28
         },
         {
          "elevation": 1,
          "feature": null,
          "key": "38:28",
          "rainfall": 5,
          "terrain": "land",
          "x": 38,
          "y": 28
         },
         {
          "elevation": 1,
          "feature": null,
          "key": "39:28",
          "rainfall": 4,
          "terrain": "land",
          "x": 39,
          "y": 28
         },
         {
          "elevation": 28,
          "feature": null,
          "key": "0:29",
          "rainfall": 33,
          "terrain": "mountain",
          "x": 0,
          "y": 29
         },
         {
          "elevation": 37,
          "feature": null,
          "key": "1:29",
          "rainfall": 46,
          "terrain": "mountain",
          "x": 1,
          "y": 29
         },
         {
          "elevation": 45,
          "feature": null,
          "key": "2:29",
          "rainfall": 57,
          "terrain": "mountain",
          "x": 2,
          "y": 29
         },
         {
          "elevation": 53,
          "feature": null,
          "key": "3:29",
          "rainfall": 67,
          "terrain": "mountain",
          "x": 3,
          "y": 29
         },
         {
          "elevation": 55,
          "feature": null,
          "key": "4:29",
          "rainfall": 68,
          "terrain": "mountain",
          "x": 4,
          "y": 29
         },
         {
          "elevation": 55,
          "feature": null,
          "key": "5:29",
          "rainfall": 70,
          "terrain": "mountain",
          "x": 5,
          "y": 29
         },
         {
          "elevation": 48,
          "feature": null,
          "key": "6:29",
          "rainfall": 65,
          "terrain": "mountain",
          "x": 6,
          "y": 29
         },
         {
          "elevation": 40,
          "feature": null,
          "key": "7:29",
          "rainfall": 59,
          "terrain": "mountain",
          "x": 7,
          "y": 29
         },
         {
          "elevation": 30,
          "feature": null,
          "key": "8:29",
          "rainfall": 57,
          "terrain": "mountain",
          "x": 8,
          "y": 29
         },
         {
          "elevation": 25,
          "feature": null,
          "key": "9:29",
          "rainfall": 57,
          "terrain": "mountain",
          "x": 9,
          "y": 29
         },
         {
          "elevation": 21,
          "feature": null,
          "key": "10:29",
          "rainfall": 56,
          "terrain": "land",
          "x": 10,
          "y": 29
         },
         {
          "elevation": 12,
          "feature": null,
          "key": "11:29",
          "rainfall": 51,
          "terrain": "land",
          "x": 11,
          "y": 29
         },
         {
          "elevation": 9,
          "feature": null,
          "key": "12:29",
          "rainfall": 50,
          "terrain": "land",
          "x": 12,
          "y": 29
         },
         {
          "elevation": 5,
          "feature": null,
          "key": "13:29",
          "rainfall": 48,
          "terrain": "land",
          "x": 13,
          "y": 29
         },
         {
          "elevation": 3,
          "feature": null,
          "key": "14:29",
          "rainfall": 45,
          "terrain": "land",
          "x": 14,
          "y": 29
         },
         {
          "elevation": 0,
          "feature": null,
          "key": "15:29",
          "rainfall": 35,
          "terrain": "ocean",
          "x": 15,
          "y": 29
         },
         {
          "elevation": 2,
          "feature": null,
          "key": "16:29",
          "rainfall": 26,
          "terrain": "land",
          "x": 16,
          "y": 29
         },
         {
          "elevation": 1,
          "feature": null,
          "key": "17:29",
          "rainfall": 13,
          "terrain": "land",
          "x": 17,
          "y": 29
         },
         {
          "elevation": 1,
          "feature": null,
          "key": "18:29",
          "rainfall": 7,
          "terrain": "land",
          "x": 18,
          "y": 29
         },
         {
          "elevation": 5,
          "feature": null,
          "key": "19:29",
          "rainfall": 8,
          "terrain": "land",
          "x": 19,
          "y": 29
         },
         {
          "elevation": 7,
          "feature": null,
          "key": "20:29",
          "rainfall": 8,
          "terrain": "land",
          "x": 20,
          "y": 29
         },
         {
          "elevation": 8,
          "feature": null,
          "key": "21:29",
          "rainfall": 8,
          "terrain": "land",
          "x": 21,
          "y": 29
         },
         {
          "elevation": 10,
          "feature": null,
          "key": "22:29",
          "rainfall": 10,
          "terrain": "land",
          "x": 22,
          "y": 29
         },
         {
          "elevation": 16,
          "feature": null,
          "key": "23:29",
          "rainfall": 16,
          "terrain": "land",
          "x": 23,
          "y": 29
         },
         {
          "elevation": 20,
          "feature": null,
          "key": "24:29",
          "rainfall": 20,
          "terrain": "land",
          "x": 24,
          "y": 29
         },
         {
          "elevation": 25,
          "feature": null,
          "key": "25:29",
          "rainfall": 25,
          "terrain": "mountain",
          "x": 25,
          "y": 29
         },
         {
          "elevation": 36,
          "feature": null,
          "key": "26:29",
          "rainfall": 36,
          "terrain": "mountain",
          "x": 26,
          "y": 29
         },
         {
          "elevation": 48,
          "feature": null,
          "key": "27:29",
          "rainfall": 48,
          "terrain": "mountain",
          "x": 27,
          "y": 29
         },
         {
          "elevation": 47,
          "feature": null,
          "key": "28:29",
          "rainfall": 47,
          "terrain": "mountain",
          "x": 28,
          "y": 29
         },
         {
          "elevation": 46,
          "feature": null,
          "key": "29:29",
          "rainfall": 46,
          "terrain": "mountain",
          "x": 29,
          "y": 29
         },
         {
          "elevation": 35,
          "feature": null,
          "key": "30:29",
          "rainfall": 35,
          "terrain": "mountain",
          "x": 30,
          "y": 29
         },
         {
          "elevation": 28,
          "feature": null,
          "key": "31:29",
          "rainfall": 28,
          "terrain": "mountain",
          "x": 31,
          "y": 29
         },
         {
          "elevation": 22,
          "feature": null,
          "key": "32:29",
          "rainfall": 22,
          "terrain": "land",
          "x": 32,
          "y": 29
         },
         {
          "elevation": 18,
          "feature": null,
          "key": "33:29",
          "rainfall": 18,
          "terrain": "land",
          "x": 33,
          "y": 29
         },
         {
          "elevation": 7,
          "feature": null,
          "key": "34:29",
          "rainfall": 8,
          "terrain": "land",
          "x": 34,
          "y": 29
         },
         {
          "elevation": 6,
          "feature": null,
          "key": "35:29",
          "rainfall": 7,
          "terrain": "land",
          "x": 35,
          "y": 29
         },
         {
          "elevation": 4,
          "feature": null,
          "key": "36:29",
          "rainfall": 5,
          "terrain": "land",
          "x": 36,
          "y": 29
         },
         {
          "elevation": 3,
          "feature": null,
          "key": "37:29",
          "rainfall": 4,
          "terrain": "land",
          "x": 37,
          "y": 29
         },
         {
          "elevation": 3,
          "feature": null,
          "key": "38:29",
          "rainfall": 4,
          "terrain": "land",
          "x": 38,
          "y": 29
         },
         {
          "elevation": 1,
          "feature": null,
          "key": "39:29",
          "rainfall": 2,
          "terrain": "land",
          "x": 39,
          "y": 29
         },
         {
          "elevation": 29,
          "feature": null,
          "key": "0:30",
          "rainfall": 34,
          "terrain": "mountain",
          "x": 0,
          "y": 30
         },
         {
          "elevation": 42,
          "feature": null,
          "key": "1:30",
          "rainfall": 51,
          "terrain": "mountain",
          "x": 1,
          "y": 30
         },
         {
          "elevation": 49,
          "feature": null,
          "key": "2:30",
          "rainfall": 62,
          "terrain": "mountain",
          "x": 2,
          "y": 30
         },
         {
          "elevation": 57,
          "feature": null,
          "key": "3:30",
          "rainfall": 72,
          "terrain": "mountain",
          "x": 3,
          "y": 30
         },
         {
          "elevation": 63,
          "feature": null,
          "key": "4:30",
          "rainfall": 78,
          "terrain": "mountain",
          "x": 4,
          "y": 30
         },
         {
          "elevation": 64,
          "feature": null,
          "key": "5:30",
          "rainfall": 80,
          "terrain": "mountain",
          "x": 5,
          "y": 30
         },
         {
          "elevation": 57,
          "feature": null,
          "key": "6:30",
          "rainfall": 75,
          "terrain": "mountain",
          "x": 6,
          "y": 30
         },
         {
          "elevation": 49,
          "feature": null,
          "key": "7:30",
          "rainfall": 69,
          "terrain": "mountain",
          "x": 7,
          "y": 30
         },
         {
          "elevation": 36,
          "feature": null,
          "key": "8:30",
          "rainfall": 63,
          "terrain": "mountain",
          "x": 8,
          "y": 30
         },
         {
          "elevation": 30,
          "feature": null,
          "key": "9:30",
          "rainfall": 62,
          "terrain": "mountain",
          "x": 9,
          "y": 30
         },
         {
          "elevation": 18,
          "feature": null,
          "key": "10:30",
          "rainfall": 52,
          "terrain": "land",
          "x": 10,
          "y": 30
         },
         {
          "elevation": 10,
          "feature": null,
          "key": "11:30",
          "rainfall": 47,
          "terrain": "land",
          "x": 11,
          "y": 30
         },
         {
          "elevation": 8,
          "feature": null,
          "key": "12:30",
          "rainfall": 49,
          "terrain": "land",
          "x": 12,
          "y": 30
         },
         {
          "elevation": 5,
          "feature": null,
          "key": "13:30",
          "rainfall": 47,
          "terrain": "land",
          "x": 13,
          "y": 30
         },
         {
          "elevation": 6,
          "feature": null,
          "key": "14:30",
          "rainfall": 43,
          "terrain": "land",
          "x": 14,
          "y": 30
         },
         {
          "elevation": 2,
          "feature": null,
          "key": "15:30",
          "rainfall": 31,
          "terrain": "land",
          "x": 15,
          "y": 30
         },
         {
          "elevation": 2,
          "feature": null,
          "key": "16:30",
          "rainfall": 23,
          "terrain": "land",
          "x": 16,
          "y": 30
         },
         {
          "elevation": 2,
          "feature": null,
          "key": "17:30",
          "rainfall": 13,
          "terrain": "land",
          "x": 17,
          "y": 30
         },
         {
          "elevation": 3,
          "feature": null,
          "key": "18:30",
          "rainfall": 9,
          "terrain": "land",
          "x": 18,
          "y": 30
         },
         {
          "elevation": 6,
          "feature": null,
          "key": "19:30",
          "rainfall": 9,
          "terrain": "land",
          "x": 19,
          "y": 30
         },
         {
          "elevation": 10,
          "feature": null,
          "key": "20:30",
          "rainfall": 11,
          "terrain": "land",
          "x": 20,
          "y": 30
         },
         {
          "elevation": 9,
          "feature": null,
          "key": "21:30",
          "rainfall": 9,
          "terrain": "land",
          "x": 21,
          "y": 30
         },
         {
          "elevation": 13,
          "feature": null,
          "key": "22:30",
          "rainfall": 13,
          "terrain": "land",
          "x": 22,
          "y": 30
         },
         {
          "elevation": 18,
          "feature": null,
          "key": "23:30",
          "rainfall": 18,
          "terrain": "land",
          "x": 23,
          "y": 30
         },
         {
          "elevation": 22,
          "feature": null,
          "key": "24:30",
          "rainfall": 22,
          "terrain": "land",
          "x": 24,
          "y": 30
         },
         {
          "elevation": 28,
          "feature": null,
          "key": "25:30",
          "rainfall": 28,
          "terrain": "mountain",
          "x": 25,
          "y": 30
         },
         {
          "elevation": 38,
          "feature": null,
          "key": "26:30",
          "rainfall": 38,
          "terrain": "mountain",
          "x": 26,
          "y": 30
         },
         {
          "elevation": 44,
          "feature": null,
          "key": "27:30",
          "rainfall": 44,
          "terrain": "mountain",
          "x": 27,
          "y": 30
         },
         {
          "elevation": 41,
          "feature": null,
          "key": "28:30",
          "rainfall": 41,
          "terrain": "mountain",
          "x": 28,
          "y": 30
         },
         {
          "elevation": 35,
          "feature": null,
          "key": "29:30",
          "rainfall": 35,
          "terrain": "mountain",
          "x": 29,
          "y": 30
         },
         {
          "elevation": 29,
          "feature": null,
          "key": "30:30",
          "rainfall": 29,
          "terrain": "mountain",
          "x": 30,
          "y": 30
         },
         {
          "elevation": 24,
          "feature": null,
          "key": "31:30",
          "rainfall": 24,
          "terrain": "land",
          "x": 31,
          "y": 30
         },
         {
          "elevation": 15,
          "feature": null,
          "key": "32:30",
          "rainfall": 15,
          "terrain": "land",
          "x": 32,
          "y": 30
         },
         {
          "elevation": 14,
          "feature": null,
          "key": "33:30",
          "rainfall": 14,
          "terrain": "land",
          "x": 33,
          "y": 30
         },
         {
          "elevation": 7,
          "feature": null,
          "key": "34:30",
          "rainfall": 7,
          "terrain": "land",
          "x": 34,
          "y": 30
         },
         {
          "elevation": 4,
          "feature": null,
          "key": "35:30",
          "rainfall": 4,
          "terrain": "land",
          "x": 35,
          "y": 30
         },
         {
          "elevation": 4,
          "feature": null,
          "key": "36:30",
          "rainfall": 4,
          "terrain": "land",
          "x": 36,
          "y": 30
         },
         {
          "elevation": 3,
          "feature": null,
          "key": "37:30",
          "rainfall": 3,
          "terrain": "land",
          "x": 37,
          "y": 30
         },
         {
          "elevation": 0,
          "feature": null,
          "key": "38:30",
          "rainfall": 0,
          "terrain": "ocean",
          "x": 38,
          "y": 30
         },
         {
          "elevation": 0,
          "feature": null,
          "key": "39:30",
          "rainfall": 0,
          "terrain": "ocean",
          "x": 39,
          "y": 30
         },
         {
          "elevation": 29,
          "feature": null,
          "key": "0:31",
          "rainfall": 35,
          "terrain": "mountain",
          "x": 0,
          "y": 31
         },
         {
          "elevation": 43,
          "feature": null,
          "key": "1:31",
          "rainfall": 54,
          "terrain": "mountain",
          "x": 1,
          "y": 31
         },
         {
          "elevation": 51,
          "feature": null,
          "key": "2:31",
          "rainfall": 63,
          "terrain": "mountain",
          "x": 2,
          "y": 31
         },
         {
          "elevation": 59,
          "feature": null,
          "key": "3:31",
          "rainfall": 75,
          "terrain": "mountain",
          "x": 3,
          "y": 31
         },
         {
          "elevation": 69,
          "feature": null,
          "key": "4:31",
          "rainfall": 87,
          "terrain": "mountain",
          "x": 4,
          "y": 31
         },
         {
          "elevation": 70,
          "feature": null,
          "key": "5:31",
          "rainfall": 89,
          "terrain": "mountain",
          "x": 5,
          "y": 31
         },
         {
          "elevation": 65,
          "feature": null,
          "key": "6:31",
          "rainfall": 86,
          "terrain": "mountain",
          "x": 6,
          "y": 31
         },
         {
          "elevation": 54,
          "feature": null,
          "key": "7:31",
          "rainfall": 77,
          "terrain": "mountain",
          "x": 7,
          "y": 31
         },
         {
          "elevation": 44,
          "feature": null,
          "key": "8:31",
          "rainfall": 72,
          "terrain": "mountain",
          "x": 8,
          "y": 31
         },
         {
          "elevation": 28,
          "feature": null,
          "key": "9:31",
          "rainfall": 59,
          "terrain": "mountain",
          "x": 9,
          "y": 31
         },
         {
          "elevation": 18,
          "feature": null,
          "key": "10:31",
          "rainfall": 51,
          "terrain": "land",
          "x": 10,
          "y": 31
         },
         {
          "elevation": 9,
          "feature": null,
          "key": "11:31",
          "rainfall": 46,
          "terrain": "land",
          "x": 11,
          "y": 31
         },
         {
          "elevation": 5,
          "feature": null,
          "key": "12:31",
          "rainfall": 41,
          "terrain": "land",
          "x": 12,
          "y": 31
         },
         {
          "elevation": 5,
          "feature": null,
          "key": "13:31",
          "rainfall": 37,
          "terrain": "land",
          "x": 13,
          "y": 31
         },
         {
          "elevation": 4,
          "feature": null,
          "key": "14:31",
          "rainfall": 31,
          "terrain": "land",
          "x": 14,
          "y": 31
         },
         {
          "elevation": 5,
          "feature": null,
          "key": "15:31",
          "rainfall": 25,
          "terrain": "land",
          "x": 15,
          "y": 31
         },
         {
          "elevation": 1,
          "feature": null,
          "key": "16:31",
          "rainfall": 16,
          "terrain": "land",
          "x": 16,
          "y": 31
         },
         {
          "elevation": 5,
          "feature": null,
          "key": "17:31",
          "rainfall": 13,
          "terrain": "land",
          "x": 17,
          "y": 31
         },
         {
          "elevation": 5,
          "feature": null,
          "key": "18:31",
          "rainfall": 10,
          "terrain": "land",
          "x": 18,
          "y": 31
         },
         {
          "elevation": 6,
          "feature": null,
          "key": "19:31",
          "rainfall": 9,
          "terrain": "land",
          "x": 19,
          "y": 31
         },
         {
          "elevation": 10,
          "feature": null,
          "key": "20:31",
          "rainfall": 11,
          "terrain": "land",
          "x": 20,
          "y": 31
         },
         {
          "elevation": 13,
          "feature": null,
          "key": "21:31",
          "rainfall": 13,
          "terrain": "land",
          "x": 21,
          "y": 31
         },
         {
          "elevation": 17,
          "feature": null,
          "key": "22:31",
          "rainfall": 17,
          "terrain": "land",
          "x": 22,
          "y": 31
         },
         {
          "elevation": 24,
          "feature": null,
          "key": "23:31",
          "rainfall": 24,
          "terrain": "land",
          "x": 23,
          "y": 31
         },
         {
          "elevation": 23,
          "feature": null,
          "key": "24:31",
          "rainfall": 23,
          "terrain": "land",
          "x": 24,
          "y": 31
         },
         {
          "elevation": 30,
          "feature": null,
          "key": "25:31",
          "rainfall": 30,
          "terrain": "mountain",
          "x": 25,
          "y": 31
         },
         {
          "elevation": 32,
          "feature": null,
          "key": "26:31",
          "rainfall": 32,
          "terrain": "mountain",
          "x": 26,
          "y": 31
         },
         {
          "elevation": 34,
          "feature": null,
          "key": "27:31",
          "rainfall": 34,
          "terrain": "mountain",
          "x": 27,
          "y": 31
         },
         {
          "elevation": 32,
          "feature": null,
          "key": "28:31",
          "rainfall": 32,
          "terrain": "mountain",
          "x": 28,
          "y": 31
         },
         {
          "elevation": 29,
          "feature": null,
          "key": "29:31",
          "rainfall": 29,
          "terrain": "mountain",
          "x": 29,
          "y": 31
         },
         {
          "elevation": 23,
          "feature": null,
          "key": "30:31",
          "rainfall": 23,
          "terrain": "land",
          "x": 30,
          "y": 31
         },
         {
          "elevation": 17,
          "feature": null,
          "key": "31:31",
          "rainfall": 17,
          "terrain": "land",
          "x": 31,
          "y": 31
         },
         {
          "elevation": 16,
          "feature": null,
          "key": "32:31",
          "rainfall": 16,
          "terrain": "land",
          "x": 32,
          "y": 31
         },
         {
          "elevation": 12,
          "feature": "Malhost",
          "key": "33:31",
          "rainfall": 12,
          "terrain": "land",
          "x": 33,
          "y": 31
         },
         {
          "elevation": 7,
          "feature": null,
          "key": "34:31",
          "rainfall": 7,
          "terrain": "land",
          "x": 34,
          "y": 31
         },
         {
          "elevation": 3,
          "feature": null,
          "key": "35:31",
          "rainfall": 3,
          "terrain": "land",
          "x": 35,
          "y": 31
         },
         {
          "elevation": 4,
          "feature": null,
          "key": "36:31",
          "rainfall": 4,
          "terrain": "land",
          "x": 36,
          "y": 31
         },
         {
          "elevation": 0,
          "feature": null,
          "key": "37:31",
          "rainfall": 0,
          "terrain": "ocean",
          "x": 37,
          "y": 31
         },
         {
          "elevation": 0,
          "feature": null,
          "key": "38:31",
          "rainfall": 0,
          "terrain": "ocean",
          "x": 38,
          "y": 31
         },
         {
          "elevation": 0,
          "feature": null,
          "key": "39:31",
          "rainfall": 0,
          "terrain": "ocean",
          "x": 39,
          "y": 31
         },
         {
          "elevation": 26,
          "feature": null,
          "key": "0:32",
          "rainfall": 33,
          "terrain": "mountain",
          "x": 0,
          "y": 32
         },
         {
          "elevation": 34,
          "feature": null,
          "key": "1:32",
          "rainfall": 43,
          "terrain": "mountain",
          "x": 1,
          "y": 32
         },
         {
          "elevation": 47,
          "feature": null,
          "key": "2:32",
          "rainfall": 59,
          "terrain": "mountain",
          "x": 2,
          "y": 32
         },
         {
          "elevation": 58,
          "feature": null,
          "key": "3:32",
          "rainfall": 73,
          "terrain": "mountain",
          "x": 3,
          "y": 32
         },
         {
          "elevation": 64,
          "feature": null,
          "key": "4:32",
          "rainfall": 83,
          "terrain": "mountain",
          "x": 4,
          "y": 32
         },
         {
          "elevation": 72,
          "feature": null,
          "key": "5:32",
          "rainfall": 97,
          "terrain": "mountain",
          "x": 5,
          "y": 32
         },
         {
          "elevation": 68,
          "feature": null,
          "key": "6:32",
          "rainfall": 94,
          "terrain": "mountain",
          "x": 6,
          "y": 32
         },
         {
          "elevation": 59,
          "feature": null,
          "key": "7:32",
          "rainfall": 87,
          "terrain": "mountain",
          "x": 7,
          "y": 32
         },
         {
          "elevation": 41,
          "feature": null,
          "key": "8:32",
          "rainfall": 72,
          "terrain": "mountain",
          "x": 8,
          "y": 32
         },
         {
          "elevation": 29,
          "feature": null,
          "key": "9:32",
          "rainfall": 61,
          "terrain": "mountain",
          "x": 9,
          "y": 32
         },
         {
          "elevation": 16,
          "feature": null,
          "key": "10:32",
          "rainfall": 49,
          "terrain": "land",
          "x": 10,
          "y": 32
         },
         {
          "elevation": 8,
          "feature": null,
          "key": "11:32",
          "rainfall": 41,
          "terrain": "land",
          "x": 11,
          "y": 32
         },
         {
          "elevation": 2,
          "feature": null,
          "key": "12:32",
          "rainfall": 34,
          "terrain": "land",
          "x": 12,
          "y": 32
         },
         {
          "elevation": 3,
          "feature": null,
          "key": "13:32",
          "rainfall": 29,
          "terrain": "land",
          "x": 13,
          "y": 32
         },
         {
          "elevation": 3,
          "feature": null,
          "key": "14:32",
          "rainfall": 25,
          "terrain": "land",
          "x": 14,
          "y": 32
         },
         {
          "elevation": 3,
          "feature": null,
          "key": "15:32",
          "rainfall": 19,
          "terrain": "land",
          "x": 15,
          "y": 32
         },
         {
          "elevation": 3,
          "feature": null,
          "key": "16:32",
          "rainfall": 15,
          "terrain": "land",
          "x": 16,
          "y": 32
         },
         {
          "elevation": 2,
          "feature": "Brinemoral",
          "key": "17:32",
          "rainfall": 10,
          "terrain": "land",
          "x": 17,
          "y": 32
         },
         {
          "elevation": 3,
          "feature": null,
          "key": "18:32",
          "rainfall": 9,
          "terrain": "land",
          "x": 18,
          "y": 32
         },
         {
          "elevation": 6,
          "feature": null,
          "key": "19:32",
          "rainfall": 10,
          "terrain": "land",
          "x": 19,
          "y": 32
         },
         {
          "elevation": 12,
          "feature": null,
          "key": "20:32",
          "rainfall": 14,
          "terrain": "land",
          "x": 20,
          "y": 32
         },
         {
          "elevation": 14,
          "feature": null,
          "key": "21:32",
          "rainfall": 14,
          "terrain": "land",
          "x": 21,
          "y": 32
         },
         {
          "elevation": 21,
          "feature": null,
          "key": "22:32",
          "rainfall": 21,
          "terrain": "land",
          "x": 22,
          "y": 32
         },
         {
          "elevation": 21,
          "feature": null,
          "key": "23:32",
          "rainfall": 21,
          "terrain": "land",
          "x": 23,
          "y": 32
         },
         {
          "elevation": 28,
          "feature": null,
          "key": "24:32",
          "rainfall": 28,
          "terrain": "mountain",
          "x": 24,
          "y": 32
         },
         {
          "elevation": 28,
          "feature": null,
          "key": "25:32",
          "rainfall": 28,
          "terrain": "mountain",
          "x": 25,
          "y": 32
         },
         {
          "elevation": 30,
          "feature": null,
          "key": "26:32",
          "rainfall": 30,
          "terrain": "mountain",
          "x": 26,
          "y": 32
         },
         {
          "elevation": 28,
          "feature": "King'spike",
          "key": "27:32",
          "rainfall": 28,
          "terrain": "mountain",
          "x": 27,
          "y": 32
         },
         {
          "elevation": 21,
          "feature": null,
          "key": "28:32",
          "rainfall": 21,
          "terrain": "land",
          "x": 28,
          "y": 32
         },
         {
          "elevation": 23,
          "feature": null,
          "key": "29:32",
          "rainfall": 23,
          "terrain": "land",
          "x": 29,
          "y": 32
         },
         {
          "elevation": 20,
          "feature": null,
          "key": "30:32",
          "rainfall": 20,
          "terrain": "land",
          "x": 30,
          "y": 32
         },
         {
          "elevation": 16,
          "feature": null,
          "key": "31:32",
          "rainfall": 16,
          "terrain": "land",
          "x": 31,
          "y": 32
         },
         {
          "elevation": 13,
          "feature": null,
          "key": "32:32",
          "rainfall": 13,
          "terrain": "land",
          "x": 32,
          "y": 32
         },
         {
          "elevation": 8,
          "feature": null,
          "key": "33:32",
          "rainfall": 8,
          "terrain": "land",
          "x": 33,
          "y": 32
         },
         {
          "elevation": 5,
          "feature": null,
          "key": "34:32",
          "rainfall": 5,
          "terrain": "land",
          "x": 34,
          "y": 32
         },
         {
          "elevation": 4,
          "feature": null,
          "key": "35:32",
          "rainfall": 4,
          "terrain": "land",
          "x": 35,
          "y": 32
         },
         {
          "elevation": 4,
          "feature": null,
          "key": "36:32",
          "rainfall": 4,
          "terrain": "land",
          "x": 36,
          "y": 32
         },
         {
          "elevation": 3,
          "feature": null,
          "key": "37:32",
          "rainfall": 3,
          "terrain": "land",
          "x": 37,
          "y": 32
         },
         {
          "elevation": 2,
          "feature": null,
          "key": "38:32",
          "rainfall": 2,
          "terrain": "land",
          "x": 38,
          "y": 32
         },
         {
          "elevation": 0,
          "feature": null,
          "key": "39:32",
          "rainfall": 0,
          "terrain": "ocean",
          "x": 39,
          "y": 32
         },
         {
          "elevation": 20,
          "feature": null,
          "key": "0:33",
          "rainfall": 26,
          "terrain": "land",
          "x": 0,
          "y": 33
         },
         {
          "elevation": 28,
          "feature": null,
          "key": "1:33",
          "rainfall": 36,
          "terrain": "mountain",
          "x": 1,
          "y": 33
         },
         {
          "elevation": 37,
          "feature": null,
          "key": "2:33",
          "rainfall": 48,
          "terrain": "mountain",
          "x": 2,
          "y": 33
         },
         {
          "elevation": 48,
          "feature": null,
          "key": "3:33",
          "rainfall": 63,
          "terrain": "mountain",
          "x": 3,
          "y": 33
         },
         {
          "elevation": 56,
          "feature": null,
          "key": "4:33",
          "rainfall": 76,
          "terrain": "mountain",
          "x": 4,
          "y": 33
         },
         {
          "elevation": 61,
          "feature": null,
          "key": "5:33",
          "rainfall": 86,
          "terrain": "mountain",
          "x": 5,
          "y": 33
         },
         {
          "elevation": 64,
          "feature": null,
          "key": "6:33",
          "rainfall": 96,
          "terrain": "mountain",
          "x": 6,
          "y": 33
         },
         {
          "elevation": 53,
          "feature": null,
          "key": "7:33",
          "rainfall": 86,
          "terrain": "mountain",
          "x": 7,
          "y": 33
         },
         {
          "elevation": 41,
          "feature": null,
          "key": "8:33",
          "rainfall": 75,
          "terrain": "mountain",
          "x": 8,
          "y": 33
         },
         {
          "elevation": 28,
          "feature": null,
          "key": "9:33",
          "rainfall": 62,
          "terrain": "mountain",
          "x": 9,
          "y": 33
         },
         {
          "elevation": 14,
          "feature": null,
          "key": "10:33",
          "rainfall": 44,
          "terrain": "land",
          "x": 10,
          "y": 33
         },
         {
          "elevation": 7,
          "feature": null,
          "key": "11:33",
          "rainfall": 36,
          "terrain": "land",
          "x": 11,
          "y": 33
         },
         {
          "elevation": 3,
          "feature": null,
          "key": "12:33",
          "rainfall": 30,
          "terrain": "land",
          "x": 12,
          "y": 33
         },
         {
          "elevation": 1,
          "feature": null,
          "key": "13:33",
          "rainfall": 23,
          "terrain": "land",
          "x": 13,
          "y": 33
         },
         {
          "elevation": 0,
          "feature": null,
          "key": "14:33",
          "rainfall": 17,
          "terrain": "ocean",
          "x": 14,
          "y": 33
         },
         {
          "elevation": 3,
          "feature": null,
          "key": "15:33",
          "rainfall": 16,
          "terrain": "land",
          "x": 15,
          "y": 33
         },
         {
          "elevation": 3,
          "feature": null,
          "key": "16:33",
          "rainfall": 14,
          "terrain": "land",
          "x": 16,
          "y": 33
         },
         {
          "elevation": 5,
          "feature": null,
          "key": "17:33",
          "rainfall": 13,
          "terrain": "land",
          "x": 17,
          "y": 33
         },
         {
          "elevation": 6,
          "feature": null,
          "key": "18:33",
          "rainfall": 12,
          "terrain": "land",
          "x": 18,
          "y": 33
         },
         {
          "elevation": 7,
          "feature": null,
          "key": "19:33",
          "rainfall": 11,
          "terrain": "land",
          "x": 19,
          "y": 33
         },
         {
          "elevation": 12,
          "feature": null,
          "key": "20:33",
          "rainfall": 13,
          "terrain": "land",
          "x": 20,
          "y": 33
         },
         {
          "elevation": 16,
          "feature": null,
          "key": "21:33",
          "rainfall": 16,
          "terrain": "land",
          "x": 21,
          "y": 33
         },
         {
          "elevation": 19,
          "feature": null,
          "key": "22:33",
          "rainfall": 19,
          "terrain": "land",
          "x": 22,
          "y": 33
         },
         {
          "elevation": 22,
          "feature": null,
          "key": "23:33",
          "rainfall": 22,
          "terrain": "land",
          "x": 23,
          "y": 33
         },
         {
          "elevation": 25,
          "feature": null,
          "key": "24:33",
          "rainfall": 25,
          "terrain": "mountain",
          "x": 24,
          "y": 33
         },
         {
          "elevation": 26,
          "feature": null,
          "key": "25:33",
          "rainfall": 26,
          "terrain": "mountain",
          "x": 25,
          "y": 33
         },
         {
          "elevation": 25,
          "feature": null,
          "key": "26:33",
          "rainfall": 25,
          "terrain": "mountain",
          "x": 26,
          "y": 33
         },
         {
          "elevation": 20,
          "feature": null,
          "key": "27:33",
          "rainfall": 20,
          "terrain": "land",
          "x": 27,
          "y": 33
         },
         {
          "elevation": 19,
          "feature": null,
          "key": "28:33",
          "rainfall": 19,
          "terrain": "land",
          "x": 28,
          "y": 33
         },
         {
          "elevation": 15,
          "feature": null,
          "key": "29:33",
          "rainfall": 15,
          "terrain": "land",
          "x": 29,
          "y": 33
         },
         {
          "elevation": 15,
          "feature": null,
          "key": "30:33",
          "rainfall": 15,
          "terrain": "land",
          "x": 30,
          "y": 33
         },
         {
          "elevation": 14,
          "feature": null,
          "key": "31:33",
          "rainfall": 14,
          "terrain": "land",
          "x": 31,
          "y": 33
         },
         {
          "elevation": 8,
          "feature": null,
          "key": "32:33",
          "rainfall": 8,
          "terrain": "land",
          "x": 32,
          "y": 33
         },
         {
          "elevation": 6,
          "feature": null,
          "key": "33:33",
          "rainfall": 6,
          "terrain": "land",
          "x": 33,
          "y": 33
         },
         {
          "elevation": 6,
          "feature": null,
          "key": "34:33",
          "rainfall": 6,
          "terrain": "land",
          "x": 34,
          "y": 33
         },
         {
          "elevation": 4,
          "feature": null,
          "key": "35:33",
          "rainfall": 4,
          "terrain": "land",
          "x": 35,
          "y": 33
         },
         {
          "elevation": 3,
          "feature": null,
          "key": "36:33",
          "rainfall": 3,
          "terrain": "land",
          "x": 36,
          "y": 33
         },
         {
          "elevation": 3,
          "feature": null,
          "key": "37:33",
          "rainfall": 3,
          "terrain": "land",
          "x": 37,
          "y": 33
         },
         {
          "elevation": 1,
          "feature": null,
          "key": "38:33",
          "rainfall": 1,
          "terrain": "land",
          "x": 38,
          "y": 33
         },
         {
          "elevation": 1,
          "feature": null,
          "key": "39:33",
          "rainfall": 1,
          "terrain": "land",
          "x": 39,
          "y": 33
         },
         {
          "elevation": 16,
          "feature": null,
          "key": "0:34",
          "rainfall": 24,
          "terrain": "land",
          "x": 0,
          "y": 34
         },
         {
          "elevation": 22,
          "feature": null,
          "key": "1:34",
          "rainfall": 32,
          "terrain": "land",
          "x": 1,
          "y": 34
         },
         {
          "elevation": 29,
          "feature": null,
          "key": "2:34",
          "rainfall": 42,
          "terrain": "mountain",
          "x": 2,
          "y": 34
         },
         {
          "elevation": 40,
          "feature": null,
          "key": "3:34",
          "rainfall": 58,
          "terrain": "mountain",
          "x": 3,
          "y": 34
         },
         {
          "elevation": 46,
          "feature": "Oakfort",
          "key": "4:34",
          "rainfall": 69,
          "terrain": "mountain",
          "x": 4,
          "y": 34
         },
         {
          "elevation": 56,
          "feature": null,
          "key": "5:34",
          "rainfall": 85,
          "terrain": "mountain",
          "x": 5,
          "y": 34
         },
         {
          "elevation": 50,
          "feature": null,
          "key": "6:34",
          "rainfall": 85,
          "terrain": "mountain",
          "x": 6,
          "y": 34
         },
         {
          "elevation": 46,
          "feature": null,
          "key": "7:34",
          "rainfall": 86,
          "terrain": "mountain",
          "x": 7,
          "y": 34
         },
         {
          "elevation": 37,
          "feature": null,
          "key": "8:34",
          "rainfall": 76,
          "terrain": "mountain",
          "x": 8,
          "y": 34
         },
         {
          "elevation": 27,
          "feature": null,
          "key": "9:34",
          "rainfall": 62,
          "terrain": "mountain",
          "x": 9,
          "y": 34
         },
         {
          "elevation": 15,
          "feature": null,
          "key": "10:34",
          "rainfall": 45,
          "terrain": "land",
          "x": 10,
          "y": 34
         },
         {
          "elevation": 6,
          "feature": null,
          "key": "11:34",
          "rainfall": 32,
          "terrain": "land",
          "x": 11,
          "y": 34
         },
         {
          "elevation": 4,
          "feature": null,
          "key": "12:34",
          "rainfall": 26,
          "terrain": "land",
          "x": 12,
          "y": 34
         },
         {
          "elevation": 3,
          "feature": null,
          "key": "13:34",
          "rainfall": 21,
          "terrain": "land",
          "x": 13,
          "y": 34
         },
         {
          "elevation": 3,
          "feature": null,
          "key": "14:34",
          "rainfall": 18,
          "terrain": "land",
          "x": 14,
          "y": 34
         },
         {
          "elevation": 4,
          "feature": null,
          "key": "15:34",
          "rainfall": 14,
          "terrain": "land",
          "x": 15,
          "y": 34
         },
         {
          "elevation": 3,
          "feature": null,
          "key": "16:34",
          "rainfall": 12,
          "terrain": "land",
          "x": 16,
          "y": 34
         },
         {
          "elevation": 7,
          "feature": null,
          "key": "17:34",
          "rainfall": 15,
          "terrain": "land",
          "x": 17,
          "y": 34
         },
         {
          "elevation": 6,
          "feature": null,
          "key": "18:34",
          "rainfall": 12,
          "terrain": "land",
          "x": 18,
          "y": 34
         },
         {
          "elevation": 9,
          "feature": null,
          "key": "19:34",
          "rainfall": 12,
          "terrain": "land",
          "x": 19,
          "y": 34
         },
         {
          "elevation": 13,
          "feature": null,
          "key": "20:34",
          "rainfall": 14,
          "terrain": "land",
          "x": 20,
          "y": 34
         },
         {
          "elevation": 18,
          "feature": null,
          "key": "21:34",
          "rainfall": 18,
          "terrain": "land",
          "x": 21,
          "y": 34
         },
         {
          "elevation": 17,
          "feature": null,
          "key": "22:34",
          "rainfall": 17,
          "terrain": "land",
          "x": 22,
          "y": 34
         },
         {
          "elevation": 20,
          "feature": null,
          "key": "23:34",
          "rainfall": 20,
          "terrain": "land",
          "x": 23,
          "y": 34
         },
         {
          "elevation": 22,
          "feature": "Artmoral",
          "key": "24:34",
          "rainfall": 22,
          "terrain": "land",
          "x": 24,
          "y": 34
         },
         {
          "elevation": 22,
          "feature": null,
          "key": "25:34",
          "rainfall": 22,
          "terrain": "land",
          "x": 25,
          "y": 34
         },
         {
          "elevation": 19,
          "feature": null,
          "key": "26:34",
          "rainfall": 19,
          "terrain": "land",
          "x": 26,
          "y": 34
         },
         {
          "elevation": 16,
          "feature": null,
          "key": "27:34",
          "rainfall": 16,
          "terrain": "land",
          "x": 27,
          "y": 34
         },
         {
          "elevation": 12,
          "feature": null,
          "key": "28:34",
          "rainfall": 12,
          "terrain": "land",
          "x": 28,
          "y": 34
         },
         {
          "elevation": 11,
          "feature": null,
          "key": "29:34",
          "rainfall": 11,
          "terrain": "land",
          "x": 29,
          "y": 34
         },
         {
          "elevation": 11,
          "feature": null,
          "key": "30:34",
          "rainfall": 11,
          "terrain": "land",
          "x": 30,
          "y": 34
         },
         {
          "elevation": 9,
          "feature": null,
          "key": "31:34",
          "rainfall": 9,
          "terrain": "land",
          "x": 31,
          "y": 34
         },
         {
          "elevation": 10,
          "feature": null,
          "key": "32:34",
          "rainfall": 10,
          "terrain": "land",
          "x": 32,
          "y": 34
         },
         {
          "elevation": 4,
          "feature": null,
          "key": "33:34",
          "rainfall": 4,
          "terrain": "land",
          "x": 33,
          "y": 34
         },
         {
          "elevation": 6,
          "feature": null,
          "key": "34:34",
          "rainfall": 6,
          "terrain": "land",
          "x": 34,
          "y": 34
         },
         {
          "elevation": 3,
          "feature": null,
          "key": "35:34",
          "rainfall": 3,
          "terrain": "land",
          "x": 35,
          "y": 34
         },
         {
          "elevation": 1,
          "feature": null,
          "key": "36:34",
          "rainfall": 1,
          "terrain": "land",
          "x": 36,
          "y": 34
         },
         {
          "elevation": 3,
          "feature": null,
          "key": "37:34",
          "rainfall": 3,
          "terrain": "land",
          "x": 37,
          "y": 34
         },
         {
          "elevation": 1,
          "feature": null,
          "key": "38:34",
          "rainfall": 1,
          "terrain": "land",
          "x": 38,
          "y": 34
         },
         {
          "elevation": 0,
          "feature": null,
          "key": "39:34",
          "rainfall": 0,
          "terrain": "ocean",
          "x": 39,
          "y": 34
         },
         {
          "elevation": 11,
          "feature": null,
          "key": "0:35",
          "rainfall": 20,
          "terrain": "land",
          "x": 0,
          "y": 35
         },
         {
          "elevation": 18,
          "feature": null,
          "key": "1:35",
          "rainfall": 30,
          "terrain": "land",
          "x": 1,
          "y": 35
         },
         {
          "elevation": 22,
          "feature": null,
          "key": "2:35",
          "rainfall": 37,
          "terrain": "land",
          "x": 2,
          "y": 35
         },
         {
          "elevation": 28,
          "feature": null,
          "key": "3:35",
          "rainfall": 47,
          "terrain": "mountain",
          "x": 3,
          "y": 35
         },
         {
          "elevation": 36,
          "feature": null,
          "key": "4:35",
          "rainfall": 61,
          "terrain": "mountain",
          "x": 4,
          "y": 35
         },
         {
          "elevation": 38,
          "feature": null,
          "key": "5:35",
          "rainfall": 69,
          "terrain": "mountain",
          "x": 5,
          "y": 35
         },
         {
          "elevation": 38,
          "feature": null,
          "key": "6:35",
          "rainfall": 74,
          "terrain": "mountain",
          "x": 6,
          "y": 35
         },
         {
          "elevation": 33,
          "feature": null,
          "key": "7:35",
          "rainfall": 74,
          "terrain": "mountain",
          "x": 7,
          "y": 35
         },
         {
          "elevation": 29,
          "feature": null,
          "key": "8:35",
          "rainfall": 70,
          "terrain": "mountain",
          "x": 8,
          "y": 35
         },
         {
          "elevation": 22,
          "feature": null,
          "key": "9:35",
          "rainfall": 58,
          "terrain": "land",
          "x": 9,
          "y": 35
         },
         {
          "elevation": 15,
          "feature": null,
          "key": "10:35",
          "rainfall": 44,
          "terrain": "land",
          "x": 10,
          "y": 35
         },
         {
          "elevation": 6,
          "feature": null,
          "key": "11:35",
          "rainfall": 30,
          "terrain": "land",
          "x": 11,
          "y": 35
         },
         {
          "elevation": 5,
          "feature": null,
          "key": "12:35",
          "rainfall": 24,
          "terrain": "land",
          "x": 12,
          "y": 35
         },
         {
          "elevation": 5,
          "feature": null,
          "key": "13:35",
          "rainfall": 21,
          "terrain": "land",
          "x": 13,
          "y": 35
         },
         {
          "elevation": 5,
          "feature": null,
          "key": "14:35",
          "rainfall": 18,
          "terrain": "land",
          "x": 14,
          "y": 35
         },
         {
          "elevation": 5,
          "feature": null,
          "key": "15:35",
          "rainfall": 16,
          "terrain": "land",
          "x": 15,
          "y": 35
         },
         {
          "elevation": 7,
          "feature": null,
          "key": "16:35",
          "rainfall": 17,
          "terrain": "land",
          "x": 16,
          "y": 35
         },
         {
          "elevation": 10,
          "feature": null,
          "key": "17:35",
          "rainfall": 19,
          "terrain": "land",
          "x": 17,
          "y": 35
         },
         {
          "elevation": 10,
          "feature": null,
          "key": "18:35",
          "rainfall": 17,
          "terrain": "land",
          "x": 18,
          "y": 35
         },
         {
          "elevation": 12,
          "feature": null,
          "key": "19:35",
          "rainfall": 17,
          "terrain": "land",
          "x": 19,
          "y": 35
         },
         {
          "elevation": 16,
          "feature": null,
          "key": "20:35",
          "rainfall": 18,
          "terrain": "land",
          "x": 20,
          "y": 35
         },
         {
          "elevation": 16,
          "feature": "Ratfellow",
          "key": "21:35",
          "rainfall": 16,
          "terrain": "land",
          "x": 21,
          "y": 35
         },
         {
          "elevation": 18,
          "feature": null,
          "key": "22:35",
          "rainfall": 18,
          "terrain": "land",
          "x": 22,
          "y": 35
         },
         {
          "elevation": 18,
          "feature": null,
          "key": "23:35",
          "rainfall": 18,
          "terrain": "land",
          "x": 23,
          "y": 35
         },
         {
          "elevation": 14,
          "feature": null,
          "key": "24:35",
          "rainfall": 14,
          "terrain": "land",
          "x": 24,
          "y": 35
         },
         {
          "elevation": 14,
          "feature": null,
          "key": "25:35",
          "rainfall": 14,
          "terrain": "land",
          "x": 25,
          "y": 35
         },
         {
          "elevation": 12,
          "feature": null,
          "key": "26:35",
          "rainfall": 12,
          "terrain": "land",
          "x": 26,
          "y": 35
         },
         {
          "elevation": 10,
          "feature": null,
          "key": "27:35",
          "rainfall": 10,
          "terrain": "land",
          "x": 27,
          "y": 35
         },
         {
          "elevation": 8,
          "feature": null,
          "key": "28:35",
          "rainfall": 8,
          "terrain": "land",
          "x": 28,
          "y": 35
         },
         {
          "elevation": 7,
          "feature": null,
          "key": "29:35",
          "rainfall": 7,
          "terrain": "land",
          "x": 29,
          "y": 35
         },
         {
          "elevation": 7,
          "feature": null,
          "key": "30:35",
          "rainfall": 7,
          "terrain": "land",
          "x": 30,
          "y": 35
         },
         {
          "elevation": 8,
          "feature": null,
          "key": "31:35",
          "rainfall": 8,
          "terrain": "land",
          "x": 31,
          "y": 35
         },
         {
          "elevation": 6,
          "feature": null,
          "key": "32:35",
          "rainfall": 6,
          "terrain": "land",
          "x": 32,
          "y": 35
         },
         {
          "elevation": 6,
          "feature": null,
          "key": "33:35",
          "rainfall": 6,
          "terrain": "land",
          "x": 33,
          "y": 35
         },
         {
          "elevation": 4,
          "feature": null,
          "key": "34:35",
          "rainfall": 4,
          "terrain": "land",
          "x": 34,
          "y": 35
         },
         {
          "elevation": 2,
          "feature": null,
          "key": "35:35",
          "rainfall": 2,
          "terrain": "land",
          "x": 35,
          "y": 35
         },
         {
          "elevation": 2,
          "feature": null,
          "key": "36:35",
          "rainfall": 2,
          "terrain": "land",
          "x": 36,
          "y": 35
         },
         {
          "elevation": 3,
          "feature": null,
          "key": "37:35",
          "rainfall": 3,
          "terrain": "land",
          "x": 37,
          "y": 35
         },
         {
          "elevation": 2,
          "feature": null,
          "key": "38:35",
          "rainfall": 2,
          "terrain": "land",
          "x": 38,
          "y": 35
         },
         {
          "elevation": 1,
          "feature": null,
          "key": "39:35",
          "rainfall": 1,
          "terrain": "land",
          "x": 39,
          "y": 35
         },
         {
          "elevation": 10,
          "feature": null,
          "key": "0:36",
          "rainfall": 20,
          "terrain": "land",
          "x": 0,
          "y": 36
         },
         {
          "elevation": 14,
          "feature": null,
          "key": "1:36",
          "rainfall": 27,
          "terrain": "land",
          "x": 1,
          "y": 36
         },
         {
          "elevation": 17,
          "feature": null,
          "key": "2:36",
          "rainfall": 33,
          "terrain": "land",
          "x": 2,
          "y": 36
         },
         {
          "elevation": 22,
          "feature": null,
          "key": "3:36",
          "rainfall": 43,
          "terrain": "land",
          "x": 3,
          "y": 36
         },
         {
          "elevation": 24,
          "feature": null,
          "key": "4:36",
          "rainfall": 51,
          "terrain": "land",
          "x": 4,
          "y": 36
         },
         {
          "elevation": 26,
          "feature": null,
          "key": "5:36",
          "rainfall": 58,
          "terrain": "mountain",
          "x": 5,
          "y": 36
         },
         {
          "elevation": 25,
          "feature": null,
          "key": "6:36",
          "rainfall": 63,
          "terrain": "mountain",
          "x": 6,
          "y": 36
         },
         {
          "elevation": 23,
          "feature": null,
          "key": "7:36",
          "rainfall": 63,
          "terrain": "land",
          "x": 7,
          "y": 36
         },
         {
          "elevation": 22,
          "feature": null,
          "key": "8:36",
          "rainfall": 63,
          "terrain": "land",
          "x": 8,
          "y": 36
         },
         {
          "elevation": 18,
          "feature": null,
          "key": "9:36",
          "rainfall": 59,
          "terrain": "land",
          "x": 9,
          "y": 36
         },
         {
          "elevation": 13,
          "feature": null,
          "key": "10:36",
          "rainfall": 45,
          "terrain": "land",
          "x": 10,
          "y": 36
         },
         {
          "elevation": 7,
          "feature": null,
          "key": "11:36",
          "rainfall": 32,
          "terrain": "land",
          "x": 11,
          "y": 36
         },
         {
          "elevation": 6,
          "feature": null,
          "key": "12:36",
          "rainfall": 26,
          "terrain": "land",
          "x": 12,
          "y": 36
         },
         {
          "elevation": 5,
          "feature": null,
          "key": "13:36",
          "rainfall": 21,
          "terrain": "land",
          "x": 13,
          "y": 36
         },
         {
          "elevation": 10,
          "feature": null,
          "key": "14:36",
          "rainfall": 25,
          "terrain": "land",
          "x": 14,
          "y": 36
         },
         {
          "elevation": 7,
          "feature": null,
          "key": "15:36",
          "rainfall": 21,
          "terrain": "land",
          "x": 15,
          "y": 36
         },
         {
          "elevation": 6,
          "feature": null,
          "key": "16:36",
          "rainfall": 21,
          "terrain": "land",
          "x": 16,
          "y": 36
         },
         {
          "elevation": 10,
          "feature": null,
          "key": "17:36",
          "rainfall": 23,
          "terrain": "land",
          "x": 17,
          "y": 36
         },
         {
          "elevation": 13,
          "feature": null,
          "key": "18:36",
          "rainfall": 23,
          "terrain": "land",
          "x": 18,
          "y": 36
         },
         {
          "elevation": 15,
          "feature": null,
          "key": "19:36",
          "rainfall": 21,
          "terrain": "land",
          "x": 19,
          "y": 36
         },
         {
          "elevation": 16,
          "feature": null,
          "key": "20:36",
          "rainfall": 18,
          "terrain": "land",
          "x": 20,
          "y": 36
         },
         {
          "elevation": 15,
          "feature": null,
          "key": "21:36",
          "rainfall": 15,
          "terrain": "land",
          "x": 21,
          "y": 36
         },
         {
          "elevation": 13,
          "feature": null,
          "key": "22:36",
          "rainfall": 13,
          "terrain": "land",
          "x": 22,
          "y": 36
         },
         {
          "elevation": 11,
          "feature": null,
          "key": "23:36",
          "rainfall": 11,
          "terrain": "land",
          "x": 23,
          "y": 36
         },
         {
          "elevation": 11,
          "feature": null,
          "key": "24:36",
          "rainfall": 11,
          "terrain": "land",
          "x": 24,
          "y": 36
         },
         {
          "elevation": 9,
          "feature": null,
          "key": "25:36",
          "rainfall": 9,
          "terrain": "land",
          "x": 25,
          "y": 36
         },
         {
          "elevation": 9,
          "feature": null,
          "key": "26:36",
          "rainfall": 9,
          "terrain": "land",
          "x": 26,
          "y": 36
         },
         {
          "elevation": 7,
          "feature": null,
          "key": "27:36",
          "rainfall": 7,
          "terrain": "land",
          "x": 27,
          "y": 36
         },
         {
          "elevation": 5,
          "feature": null,
          "key": "28:36",
          "rainfall": 5,
          "terrain": "land",
          "x": 28,
          "y": 36
         },
         {
          "elevation": 4,
          "feature": null,
          "key": "29:36",
          "rainfall": 4,
          "terrain": "land",
          "x": 29,
          "y": 36
         },
         {
          "elevation": 2,
          "feature": null,
          "key": "30:36",
          "rainfall": 2,
          "terrain": "land",
          "x": 30,
          "y": 36
         },
         {
          "elevation": 3,
          "feature": null,
          "key": "31:36",
          "rainfall": 3,
          "terrain": "land",
          "x": 31,
          "y": 36
         },
         {
          "elevation": 4,
          "feature": null,
          "key": "32:36",
          "rainfall": 4,
          "terrain": "land",
          "x": 32,
          "y": 36
         },
         {
          "elevation": 1,
          "feature": null,
          "key": "33:36",
          "rainfall": 1,
          "terrain": "land",
          "x": 33,
          "y": 36
         },
         {
          "elevation": 3,
          "feature": null,
          "key": "34:36",
          "rainfall": 3,
          "terrain": "land",
          "x": 34,
          "y": 36
         },
         {
          "elevation": 1,
          "feature": null,
          "key": "35:36",
          "rainfall": 1,
          "terrain": "land",
          "x": 35,
          "y": 36
         },
         {
          "elevation": 0,
          "feature": null,
          "key": "36:36",
          "rainfall": 0,
          "terrain": "ocean",
          "x": 36,
          "y": 36
         },
         {
          "elevation": -1,
          "feature": null,
          "key": "37:36",
          "rainfall": -1,
          "terrain": "ocean",
          "x": 37,
          "y": 36
         },
         {
          "elevation": 0,
          "feature": null,
          "key": "38:36",
          "rainfall": 0,
          "terrain": "ocean",
          "x": 38,
          "y": 36
         },
         {
          "elevation": 1,
          "feature": null,
          "key": "39:36",
          "rainfall": 1,
          "terrain": "land",
          "x": 39,
          "y": 36
         },
         {
          "elevation": 4,
          "feature": null,
          "key": "0:37",
          "rainfall": 14,
          "terrain": "land",
          "x": 0,
          "y": 37
         },
         {
          "elevation": 8,
          "feature": null,
          "key": "1:37",
          "rainfall": 21,
          "terrain": "land",
          "x": 1,
          "y": 37
         },
         {
          "elevation": 14,
          "feature": null,
          "key": "2:37",
          "rainfall": 31,
          "terrain": "land",
          "x": 2,
          "y": 37
         },
         {
          "elevation": 13,
          "feature": null,
          "key": "3:37",
          "rainfall": 35,
          "terrain": "land",
          "x": 3,
          "y": 37
         },
         {
          "elevation": 14,
          "feature": null,
          "key": "4:37",
          "rainfall": 41,
          "terrain": "land",
          "x": 4,
          "y": 37
         },
         {
          "elevation": 15,
          "feature": null,
          "key": "5:37",
          "rainfall": 46,
          "terrain": "land",
          "x": 5,
          "y": 37
         },
         {
          "elevation": 15,
          "feature": null,
          "key": "6:37",
          "rainfall": 52,
          "terrain": "land",
          "x": 6,
          "y": 37
         },
         {
          "elevation": 13,
          "feature": null,
          "key": "7:37",
          "rainfall": 53,
          "terrain": "land",
          "x": 7,
          "y": 37
         },
         {
          "elevation": 15,
          "feature": null,
          "key": "8:37",
          "rainfall": 59,
          "terrain": "land",
          "x": 8,
          "y": 37
         },
         {
          "elevation": 12,
          "feature": null,
          "key": "9:37",
          "rainfall": 53,
          "terrain": "land",
          "x": 9,
          "y": 37
         },
         {
          "elevation": 10,
          "feature": null,
          "key": "10:37",
          "rainfall": 46,
          "terrain": "land",
          "x": 10,
          "y": 37
         },
         {
          "elevation": 9,
          "feature": null,
          "key": "11:37",
          "rainfall": 37,
          "terrain": "land",
          "x": 11,
          "y": 37
         },
         {
          "elevation": 8,
          "feature": null,
          "key": "12:37",
          "rainfall": 30,
          "terrain": "land",
          "x": 12,
          "y": 37
         },
         {
          "elevation": 10,
          "feature": null,
          "key": "13:37",
          "rainfall": 28,
          "terrain": "land",
          "x": 13,
          "y": 37
         },
         {
          "elevation": 12,
          "feature": null,
          "key": "14:37",
          "rainfall": 29,
          "terrain": "land",
          "x": 14,
          "y": 37
         },
         {
          "elevation": 12,
          "feature": null,
          "key": "15:37",
          "rainfall": 30,
          "terrain": "land",
          "x": 15,
          "y": 37
         },
         {
          "elevation": 12,
          "feature": null,
          "key": "16:37",
          "rainfall": 30,
          "terrain": "land",
          "x": 16,
          "y": 37
         },
         {
          "elevation": 13,
          "feature": null,
          "key": "17:37",
          "rainfall": 30,
          "terrain": "land",
          "x": 17,
          "y": 37
         },
         {
          "elevation": 16,
          "feature": null,
          "key": "18:37",
          "rainfall": 27,
          "terrain": "land",
          "x": 18,
          "y": 37
         },
         {
          "elevation": 18,
          "feature": null,
          "key": "19:37",
          "rainfall": 24,
          "terrain": "land",
          "x": 19,
          "y": 37
         },
         {
          "elevation": 17,
          "feature": null,
          "key": "20:37",
          "rainfall": 19,
          "terrain": "land",
          "x": 20,
          "y": 37
         },
         {
          "elevation": 16,
          "feature": null,
          "key": "21:37",
          "rainfall": 16,
          "terrain": "land",
          "x": 21,
          "y": 37
         },
         {
          "elevation": 11,
          "feature": null,
          "key": "22:37",
          "rainfall": 11,
          "terrain": "land",
          "x": 22,
          "y": 37
         },
         {
          "elevation": 8,
          "feature": null,
          "key": "23:37",
          "rainfall": 8,
          "terrain": "land",
          "x": 23,
          "y": 37
         },
         {
          "elevation": 6,
          "feature": null,
          "key": "24:37",
          "rainfall": 6,
          "terrain": "land",
          "x": 24,
          "y": 37
         },
         {
          "elevation": 5,
          "feature": null,
          "key": "25:37",
          "rainfall": 5,
          "terrain": "land",
          "x": 25,
          "y": 37
         },
         {
          "elevation": 4,
          "feature": null,
          "key": "26:37",
          "rainfall": 4,
          "terrain": "land",
          "x": 26,
          "y": 37
         },
         {
          "elevation": 3,
          "feature": null,
          "key": "27:37",
          "rainfall": 3,
          "terrain": "land",
          "x": 27,
          "y": 37
         },
         {
          "elevation": 2,
          "feature": null,
          "key": "28:37",
          "rainfall": 2,
          "terrain": "land",
          "x": 28,
          "y": 37
         },
         {
          "elevation": 0,
          "feature": null,
          "key": "29:37",
          "rainfall": 0,
          "terrain": "ocean",
          "x": 29,
          "y": 37
         },
         {
          "elevation": 0,
          "feature": null,
          "key": "30:37",
          "rainfall": 0,
          "terrain": "ocean",
          "x": 30,
          "y": 37
         },
         {
          "elevation": -1,
          "feature": null,
          "key": "31:37",
          "rainfall": -1,
          "terrain": "ocean",
          "x": 31,
          "y": 37
         },
         {
          "elevation": 2,
          "feature": null,
          "key": "32:37",
          "rainfall": 2,
          "terrain": "land",
          "x": 32,
          "y": 37
         },
         {
          "elevation": 0,
          "feature": null,
          "key": "33:37",
          "rainfall": 0,
          "terrain": "ocean",
          "x": 33,
          "y": 37
         },
         {
          "elevation": 2,
          "feature": null,
          "key": "34:37",
          "rainfall": 2,
          "terrain": "land",
          "x": 34,
          "y": 37
         },
         {
          "elevation": 0,
          "feature": null,
          "key": "35:37",
          "rainfall": 0,
          "terrain": "ocean",
          "x": 35,
          "y": 37
         },
         {
          "elevation": 0,
          "feature": null,
          "key": "36:37",
          "rainfall": 0,
          "terrain": "ocean",
          "x": 36,
          "y": 37
         },
         {
          "elevation": 1,
          "feature": null,
          "key": "37:37",
          "rainfall": 1,
          "terrain": "land",
          "x": 37,
          "y": 37
         },
         {
          "elevation": 1,
          "feature": null,
          "key": "38:37",
          "rainfall": 1,
          "terrain": "land",
          "x": 38,
          "y": 37
         },
         {
          "elevation": 0,
          "feature": null,
          "key": "39:37",
          "rainfall": 0,
          "terrain": "ocean",
          "x": 39,
          "y": 37
         },
         {
          "elevation": 3,
          "feature": "Buckrun",
          "key": "0:38",
          "rainfall": 13,
          "terrain": "land",
          "x": 0,
          "y": 38
         },
         {
          "elevation": 5,
          "feature": null,
          "key": "1:38",
          "rainfall": 18,
          "terrain": "land",
          "x": 1,
          "y": 38
         },
         {
          "elevation": 5,
          "feature": null,
          "key": "2:38",
          "rainfall": 22,
          "terrain": "land",
          "x": 2,
          "y": 38
         },
         {
          "elevation": 7,
          "feature": null,
          "key": "3:38",
          "rainfall": 28,
          "terrain": "land",
          "x": 3,
          "y": 38
         },
         {
          "elevation": 7,
          "feature": null,
          "key": "4:38",
          "rainfall": 33,
          "terrain": "land",
          "x": 4,
          "y": 38
         },
         {
          "elevation": 6,
          "feature": null,
          "key": "5:38",
          "rainfall": 37,
          "terrain": "land",
          "x": 5,
          "y": 38
         },
         {
          "elevation": 6,
          "feature": null,
          "key": "6:38",
          "rainfall": 42,
          "terrain": "land",
          "x": 6,
          "y": 38
         },
         {
          "elevation": 7,
          "feature": null,
          "key": "7:38",
          "rainfall": 48,
          "terrain": "land",
          "x": 7,
          "y": 38
         },
         {
          "elevation": 6,
          "feature": null,
          "key": "8:38",
          "rainfall": 47,
          "terrain": "land",
          "x": 8,
          "y": 38
         },
         {
          "elevation": 9,
          "feature": null,
          "key": "9:38",
          "rainfall": 50,
          "terrain": "land",
          "x": 9,
          "y": 38
         },
         {
          "elevation": 9,
          "feature": null,
          "key": "10:38",
          "rainfall": 44,
          "terrain": "land",
          "x": 10,
          "y": 38
         },
         {
          "elevation": 9,
          "feature": "Corehaven",
          "key": "11:38",
          "rainfall": 39,
          "terrain": "land",
          "x": 11,
          "y": 38
         },
         {
          "elevation": 13,
          "feature": null,
          "key": "12:38",
          "rainfall": 37,
          "terrain": "land",
          "x": 12,
          "y": 38
         },
         {
          "elevation": 16,
          "feature": null,
          "key": "13:38",
          "rainfall": 36,
          "terrain": "land",
          "x": 13,
          "y": 38
         },
         {
          "elevation": 18,
          "feature": null,
          "key": "14:38",
          "rainfall": 37,
          "terrain": "land",
          "x": 14,
          "y": 38
         },
         {
          "elevation": 17,
          "feature": null,
          "key": "15:38",
          "rainfall": 35,
          "terrain": "land",
          "x": 15,
          "y": 38
         },
         {
          "elevation": 18,
          "feature": null,
          "key": "16:38",
          "rainfall": 37,
          "terrain": "land",
          "x": 16,
          "y": 38
         },
         {
          "elevation": 21,
          "feature": null,
          "key": "17:38",
          "rainfall": 37,
          "terrain": "land",
          "x": 17,
          "y": 38
         },
         {
          "elevation": 23,
          "feature": null,
          "key": "18:38",
          "rainfall": 34,
          "terrain": "land",
          "x": 18,
          "y": 38
         },
         {
          "elevation": 23,
          "feature": null,
          "key": "19:38",
          "rainfall": 29,
          "terrain": "land",
          "x": 19,
          "y": 38
         },
         {
          "elevation": 20,
          "feature": null,
          "key": "20:38",
          "rainfall": 22,
          "terrain": "land",
          "x": 20,
          "y": 38
         },
         {
          "elevation": 12,
          "feature": null,
          "key": "21:38",
          "rainfall": 12,
          "terrain": "land",
          "x": 21,
          "y": 38
         },
         {
          "elevation": 7,
          "feature": null,
          "key": "22:38",
          "rainfall": 7,
          "terrain": "land",
          "x": 22,
          "y": 38
         },
         {
          "elevation": 5,
          "feature": null,
          "key": "23:38",
          "rainfall": 5,
          "terrain": "land",
          "x": 23,
          "y": 38
         },
         {
          "elevation": 1,
          "feature": null,
          "key": "24:38",
          "rainfall": 1,
          "terrain": "land",
          "x": 24,
          "y": 38
         },
         {
          "elevation": 2,
          "feature": null,
          "key": "25:38",
          "rainfall": 2,
          "terrain": "land",
          "x": 25,
          "y": 38
         },
         {
          "elevation": -1,
          "feature": null,
          "key": "26:38",
          "rainfall": -1,
          "terrain": "ocean",
          "x": 26,
          "y": 38
         },
         {
          "elevation": 2,
          "feature": null,
          "key": "27:38",
          "rainfall": 2,
          "terrain": "land",
          "x": 27,
          "y": 38
         },
         {
          "elevation": 2,
          "feature": null,
          "key": "28:38",
          "rainfall": 2,
          "terrain": "land",
          "x": 28,
          "y": 38
         },
         {
          "elevation": 1,
          "feature": null,
          "key": "29:38",
          "rainfall": 1,
          "terrain": "land",
          "x": 29,
          "y": 38
         },
         {
          "elevation": 1,
          "feature": null,
          "key": "30:38",
          "rainfall": 1,
          "terrain": "land",
          "x": 30,
          "y": 38
         },
         {
          "elevation": 0,
          "feature": null,
          "key": "31:38",
          "rainfall": 0,
          "terrain": "ocean",
          "x": 31,
          "y": 38
         },
         {
          "elevation": 1,
          "feature": null,
          "key": "32:38",
          "rainfall": 1,
          "terrain": "land",
          "x": 32,
          "y": 38
         },
         {
          "elevation": -2,
          "feature": null,
          "key": "33:38",
          "rainfall": -2,
          "terrain": "ocean",
          "x": 33,
          "y": 38
         },
         {
          "elevation": -1,
          "feature": null,
          "key": "34:38",
          "rainfall": -1,
          "terrain": "ocean",
          "x": 34,
          "y": 38
         },
         {
          "elevation": -1,
          "feature": null,
          "key": "35:38",
          "rainfall": -1,
          "terrain": "ocean",
          "x": 35,
          "y": 38
         },
         {
          "elevation": -1,
          "feature": null,
          "key": "36:38",
          "rainfall": -1,
          "terrain": "ocean",
          "x": 36,
          "y": 38
         },
         {
          "elevation": 1,
          "feature": null,
          "key": "37:38",
          "rainfall": 1,
          "terrain": "land",
          "x": 37,
          "y": 38
         },
         {
          "elevation": 2,
          "feature": null,
          "key": "38:38",
          "rainfall": 2,
          "terrain": "land",
          "x": 38,
          "y": 38
         },
         {
          "elevation": 0,
          "feature": null,
          "key": "39:38",
          "rainfall": 0,
          "terrain": "ocean",
          "x": 39,
          "y": 38
         },
         {
          "elevation": 1,
          "feature": null,
          "key": "0:39",
          "rainfall": 11,
          "terrain": "land",
          "x": 0,
          "y": 39
         },
         {
          "elevation": -1,
          "feature": null,
          "key": "1:39",
          "rainfall": 11,
          "terrain": "ocean",
          "x": 1,
          "y": 39
         },
         {
          "elevation": 1,
          "feature": null,
          "key": "2:39",
          "rainfall": 16,
          "terrain": "land",
          "x": 2,
          "y": 39
         },
         {
          "elevation": 2,
          "feature": null,
          "key": "3:39",
          "rainfall": 22,
          "terrain": "land",
          "x": 3,
          "y": 39
         },
         {
          "elevation": 3,
          "feature": null,
          "key": "4:39",
          "rainfall": 29,
          "terrain": "land",
          "x": 4,
          "y": 39
         },
         {
          "elevation": 0,
          "feature": null,
          "key": "5:39",
          "rainfall": 31,
          "terrain": "ocean",
          "x": 5,
          "y": 39
         },
         {
          "elevation": 2,
          "feature": null,
          "key": "6:39",
          "rainfall": 39,
          "terrain": "land",
          "x": 6,
          "y": 39
         },
         {
          "elevation": 1,
          "feature": null,
          "key": "7:39",
          "rainfall": 38,
          "terrain": "land",
          "x": 7,
          "y": 39
         },
         {
          "elevation": 2,
          "feature": null,
          "key": "8:39",
          "rainfall": 40,
          "terrain": "land",
          "x": 8,
          "y": 39
         },
         {
          "elevation": 2,
          "feature": null,
          "key": "9:39",
          "rainfall": 39,
          "terrain": "land",
          "x": 9,
          "y": 39
         },
         {
          "elevation": 6,
          "feature": null,
          "key": "10:39",
          "rainfall": 39,
          "terrain": "land",
          "x": 10,
          "y": 39
         },
         {
          "elevation": 10,
          "feature": null,
          "key": "11:39",
          "rainfall": 40,
          "terrain": "land",
          "x": 11,
          "y": 39
         },
         {
          "elevation": 17,
          "feature": null,
          "key": "12:39",
          "rainfall": 46,
          "terrain": "land",
          "x": 12,
          "y": 39
         },
         {
          "elevation": 20,
          "feature": null,
          "key": "13:39",
          "rainfall": 45,
          "terrain": "land",
          "x": 13,
          "y": 39
         },
         {
          "elevation": 24,
          "feature": null,
          "key": "14:39",
          "rainfall": 46,
          "terrain": "land",
          "x": 14,
          "y": 39
         },
         {
          "elevation": 28,
          "feature": null,
          "key": "15:39",
          "rainfall": 48,
          "terrain": "mountain",
          "x": 15,
          "y": 39
         },
         {
          "elevation": 33,
          "feature": null,
          "key": "16:39",
          "rainfall": 50,
          "terrain": "mountain",
          "x": 16,
          "y": 39
         },
         {
          "elevation": 30,
          "feature": null,
          "key": "17:39",
          "rainfall": 43,
          "terrain": "mountain",
          "x": 17,
          "y": 39
         },
         {
          "elevation": 29,
          "feature": null,
          "key": "18:39",
          "rainfall": 38,
          "terrain": "mountain",
          "x": 18,
          "y": 39
         },
         {
          "elevation": 27,
          "feature": null,
          "key": "19:39",
          "rainfall": 33,
          "terrain": "mountain",
          "x": 19,
          "y": 39
         },
         {
          "elevation": 18,
          "feature": null,
          "key": "20:39",
          "rainfall": 20,
          "terrain": "land",
          "x": 20,
          "y": 39
         },
         {
          "elevation": 12,
          "feature": null,
          "key": "21:39",
          "rainfall": 12,
          "terrain": "land",
          "x": 21,
          "y": 39
         },
         {
          "elevation": 8,
          "feature": null,
          "key": "22:39",
          "rainfall": 8,
          "terrain": "land",
          "x": 22,
          "y": 39
         },
         {
          "elevation": 3,
          "feature": null,
          "key": "23:39",
          "rainfall": 3,
          "terrain": "land",
          "x": 23,
          "y": 39
         },
         {
          "elevation": 2,
          "feature": null,
          "key": "24:39",
          "rainfall": 2,
          "terrain": "land",
          "x": 24,
          "y": 39
         },
         {
          "elevation": 0,
          "feature": null,
          "key": "25:39",
          "rainfall": 0,
          "terrain": "ocean",
          "x": 25,
          "y": 39
         },
         {
          "elevation": 0,
          "feature": null,
          "key": "26:39",
          "rainfall": 0,
          "terrain": "ocean",
          "x": 26,
          "y": 39
         },
         {
          "elevation": 0,
          "feature": null,
          "key": "27:39",
          "rainfall": 0,
          "terrain": "ocean",
          "x": 27,
          "y": 39
         },
         {
          "elevation": -1,
          "feature": null,
          "key": "28:39",
          "rainfall": -1,
          "terrain": "ocean",
          "x": 28,
          "y": 39
         },
         {
          "elevation": 1,
          "feature": null,
          "key": "29:39",
          "rainfall": 1,
          "terrain": "land",
          "x": 29,
          "y": 39
         },
         {
          "elevation": -1,
          "feature": null,
          "key": "30:39",
          "rainfall": -1,
          "terrain": "ocean",
          "x": 30,
          "y": 39
         },
         {
          "elevation": 1,
          "feature": null,
          "key": "31:39",
          "rainfall": 1,
          "terrain": "land",
          "x": 31,
          "y": 39
         },
         {
          "elevation": -1,
          "feature": null,
          "key": "32:39",
          "rainfall": -1,
          "terrain": "ocean",
          "x": 32,
          "y": 39
         },
         {
          "elevation": 3,
          "feature": null,
          "key": "33:39",
          "rainfall": 3,
          "terrain": "land",
          "x": 33,
          "y": 39
         },
         {
          "elevation": -1,
          "feature": null,
          "key": "34:39",
          "rainfall": -1,
          "terrain": "ocean",
          "x": 34,
          "y": 39
         },
         {
          "elevation": -1,
          "feature": null,
          "key": "35:39",
          "rainfall": -1,
          "terrain": "ocean",
          "x": 35,
          "y": 39
         },
         {
          "elevation": 1,
          "feature": null,
          "key": "36:39",
          "rainfall": 1,
          "terrain": "land",
          "x": 36,
          "y": 39
         },
         {
          "elevation": -1,
          "feature": null,
          "key": "37:39",
          "rainfall": -1,
          "terrain": "ocean",
          "x": 37,
          "y": 39
         },
         {
          "elevation": 0,
          "feature": null,
          "key": "38:39",
          "rainfall": 0,
          "terrain": "ocean",
          "x": 38,
          "y": 39
         },
         {
          "elevation": 2,
          "feature": null,
          "key": "39:39",
          "rainfall": 2,
          "terrain": "land",
          "x": 39,
          "y": 39
         }
        ]
       },
       "encoding": {
        "color": {
         "field": "feature",
         "scale": {
          "domain": [
           "land",
           "mountain",
           "ocean",
           "city"
          ],
          "range": [
           "green",
           "brown",
           "blue",
           "black"
          ]
         },
         "type": "nominal"
        },
        "x": {
         "field": "x",
         "type": "ordinal"
        },
        "y": {
         "field": "y",
         "type": "ordinal"
        }
       },
       "mark": "rect"
      },
      "image/png": "[encoded data removed]",
      "text/plain": [
       "<VegaLite 2 object>\n",
       "\n",
       "If you see this message, it means the renderer has not been properly enabled\n",
       "for the frontend that you are using. For more information, see\n",
       "https://altair-viz.github.io/user_guide/troubleshooting.html\n"
      ]
     },
     "execution_count": 8,
     "metadata": {},
     "output_type": "execute_result"
    }
   ],
   "source": [
    "draw.drawCities(world.df_features)"
   ]
  },
  {
   "cell_type": "code",
   "execution_count": 10,
   "metadata": {},
   "outputs": [
    {
     "data": {
      "text/html": [
       "<div>\n",
       "<style scoped>\n",
       "    .dataframe tbody tr th:only-of-type {\n",
       "        vertical-align: middle;\n",
       "    }\n",
       "\n",
       "    .dataframe tbody tr th {\n",
       "        vertical-align: top;\n",
       "    }\n",
       "\n",
       "    .dataframe thead th {\n",
       "        text-align: right;\n",
       "    }\n",
       "</style>\n",
       "<table border=\"1\" class=\"dataframe\">\n",
       "  <thead>\n",
       "    <tr style=\"text-align: right;\">\n",
       "      <th></th>\n",
       "      <th>y</th>\n",
       "      <th>rainfall</th>\n",
       "      <th>x</th>\n",
       "      <th>key</th>\n",
       "      <th>elevation</th>\n",
       "      <th>terrain</th>\n",
       "      <th>feature</th>\n",
       "    </tr>\n",
       "    <tr>\n",
       "      <th>key</th>\n",
       "      <th></th>\n",
       "      <th></th>\n",
       "      <th></th>\n",
       "      <th></th>\n",
       "      <th></th>\n",
       "      <th></th>\n",
       "      <th></th>\n",
       "    </tr>\n",
       "  </thead>\n",
       "  <tbody>\n",
       "    <tr>\n",
       "      <th>32:0</th>\n",
       "      <td>0</td>\n",
       "      <td>18.0</td>\n",
       "      <td>32</td>\n",
       "      <td>32:0</td>\n",
       "      <td>1.0</td>\n",
       "      <td>land</td>\n",
       "      <td>Lord'sgarden</td>\n",
       "    </tr>\n",
       "    <tr>\n",
       "      <th>31:1</th>\n",
       "      <td>1</td>\n",
       "      <td>15.0</td>\n",
       "      <td>31</td>\n",
       "      <td>31:1</td>\n",
       "      <td>3.0</td>\n",
       "      <td>land</td>\n",
       "      <td>Splitgarden</td>\n",
       "    </tr>\n",
       "    <tr>\n",
       "      <th>27:2</th>\n",
       "      <td>2</td>\n",
       "      <td>19.0</td>\n",
       "      <td>27</td>\n",
       "      <td>27:2</td>\n",
       "      <td>1.0</td>\n",
       "      <td>land</td>\n",
       "      <td>Snakespike</td>\n",
       "    </tr>\n",
       "    <tr>\n",
       "      <th>35:5</th>\n",
       "      <td>5</td>\n",
       "      <td>7.0</td>\n",
       "      <td>35</td>\n",
       "      <td>35:5</td>\n",
       "      <td>6.0</td>\n",
       "      <td>land</td>\n",
       "      <td>Tearbrook</td>\n",
       "    </tr>\n",
       "    <tr>\n",
       "      <th>39:9</th>\n",
       "      <td>9</td>\n",
       "      <td>22.0</td>\n",
       "      <td>39</td>\n",
       "      <td>39:9</td>\n",
       "      <td>22.0</td>\n",
       "      <td>land</td>\n",
       "      <td>Lilyspike</td>\n",
       "    </tr>\n",
       "    <tr>\n",
       "      <th>39:11</th>\n",
       "      <td>11</td>\n",
       "      <td>29.0</td>\n",
       "      <td>39</td>\n",
       "      <td>39:11</td>\n",
       "      <td>28.0</td>\n",
       "      <td>mountain</td>\n",
       "      <td>Lord'slair</td>\n",
       "    </tr>\n",
       "    <tr>\n",
       "      <th>38:12</th>\n",
       "      <td>12</td>\n",
       "      <td>49.0</td>\n",
       "      <td>38</td>\n",
       "      <td>38:12</td>\n",
       "      <td>45.0</td>\n",
       "      <td>mountain</td>\n",
       "      <td>Godblaze</td>\n",
       "    </tr>\n",
       "    <tr>\n",
       "      <th>9:14</th>\n",
       "      <td>14</td>\n",
       "      <td>10.0</td>\n",
       "      <td>9</td>\n",
       "      <td>9:14</td>\n",
       "      <td>1.0</td>\n",
       "      <td>land</td>\n",
       "      <td>Snowkeep</td>\n",
       "    </tr>\n",
       "    <tr>\n",
       "      <th>0:17</th>\n",
       "      <td>17</td>\n",
       "      <td>18.0</td>\n",
       "      <td>0</td>\n",
       "      <td>0:17</td>\n",
       "      <td>18.0</td>\n",
       "      <td>land</td>\n",
       "      <td>Doomcatch</td>\n",
       "    </tr>\n",
       "    <tr>\n",
       "      <th>14:19</th>\n",
       "      <td>19</td>\n",
       "      <td>81.0</td>\n",
       "      <td>14</td>\n",
       "      <td>14:19</td>\n",
       "      <td>3.0</td>\n",
       "      <td>land</td>\n",
       "      <td>Hardtear</td>\n",
       "    </tr>\n",
       "    <tr>\n",
       "      <th>25:19</th>\n",
       "      <td>19</td>\n",
       "      <td>25.0</td>\n",
       "      <td>25</td>\n",
       "      <td>25:19</td>\n",
       "      <td>3.0</td>\n",
       "      <td>land</td>\n",
       "      <td>Gleamcatch</td>\n",
       "    </tr>\n",
       "    <tr>\n",
       "      <th>15:21</th>\n",
       "      <td>21</td>\n",
       "      <td>55.0</td>\n",
       "      <td>15</td>\n",
       "      <td>15:21</td>\n",
       "      <td>2.0</td>\n",
       "      <td>land</td>\n",
       "      <td>Snowcrest</td>\n",
       "    </tr>\n",
       "    <tr>\n",
       "      <th>12:22</th>\n",
       "      <td>22</td>\n",
       "      <td>35.0</td>\n",
       "      <td>12</td>\n",
       "      <td>12:22</td>\n",
       "      <td>4.0</td>\n",
       "      <td>land</td>\n",
       "      <td>Solchild</td>\n",
       "    </tr>\n",
       "    <tr>\n",
       "      <th>0:27</th>\n",
       "      <td>27</td>\n",
       "      <td>32.0</td>\n",
       "      <td>0</td>\n",
       "      <td>0:27</td>\n",
       "      <td>28.0</td>\n",
       "      <td>mountain</td>\n",
       "      <td>Stonegarden</td>\n",
       "    </tr>\n",
       "    <tr>\n",
       "      <th>5:27</th>\n",
       "      <td>27</td>\n",
       "      <td>56.0</td>\n",
       "      <td>5</td>\n",
       "      <td>5:27</td>\n",
       "      <td>44.0</td>\n",
       "      <td>mountain</td>\n",
       "      <td>Founder'smore</td>\n",
       "    </tr>\n",
       "    <tr>\n",
       "      <th>20:28</th>\n",
       "      <td>28</td>\n",
       "      <td>6.0</td>\n",
       "      <td>20</td>\n",
       "      <td>20:28</td>\n",
       "      <td>5.0</td>\n",
       "      <td>land</td>\n",
       "      <td>Heartrest</td>\n",
       "    </tr>\n",
       "    <tr>\n",
       "      <th>33:31</th>\n",
       "      <td>31</td>\n",
       "      <td>12.0</td>\n",
       "      <td>33</td>\n",
       "      <td>33:31</td>\n",
       "      <td>12.0</td>\n",
       "      <td>land</td>\n",
       "      <td>Malhost</td>\n",
       "    </tr>\n",
       "    <tr>\n",
       "      <th>17:32</th>\n",
       "      <td>32</td>\n",
       "      <td>10.0</td>\n",
       "      <td>17</td>\n",
       "      <td>17:32</td>\n",
       "      <td>2.0</td>\n",
       "      <td>land</td>\n",
       "      <td>Brinemoral</td>\n",
       "    </tr>\n",
       "    <tr>\n",
       "      <th>27:32</th>\n",
       "      <td>32</td>\n",
       "      <td>28.0</td>\n",
       "      <td>27</td>\n",
       "      <td>27:32</td>\n",
       "      <td>28.0</td>\n",
       "      <td>mountain</td>\n",
       "      <td>King'spike</td>\n",
       "    </tr>\n",
       "    <tr>\n",
       "      <th>4:34</th>\n",
       "      <td>34</td>\n",
       "      <td>69.0</td>\n",
       "      <td>4</td>\n",
       "      <td>4:34</td>\n",
       "      <td>46.0</td>\n",
       "      <td>mountain</td>\n",
       "      <td>Oakfort</td>\n",
       "    </tr>\n",
       "    <tr>\n",
       "      <th>24:34</th>\n",
       "      <td>34</td>\n",
       "      <td>22.0</td>\n",
       "      <td>24</td>\n",
       "      <td>24:34</td>\n",
       "      <td>22.0</td>\n",
       "      <td>land</td>\n",
       "      <td>Artmoral</td>\n",
       "    </tr>\n",
       "    <tr>\n",
       "      <th>21:35</th>\n",
       "      <td>35</td>\n",
       "      <td>16.0</td>\n",
       "      <td>21</td>\n",
       "      <td>21:35</td>\n",
       "      <td>16.0</td>\n",
       "      <td>land</td>\n",
       "      <td>Ratfellow</td>\n",
       "    </tr>\n",
       "    <tr>\n",
       "      <th>0:38</th>\n",
       "      <td>38</td>\n",
       "      <td>13.0</td>\n",
       "      <td>0</td>\n",
       "      <td>0:38</td>\n",
       "      <td>3.0</td>\n",
       "      <td>land</td>\n",
       "      <td>Buckrun</td>\n",
       "    </tr>\n",
       "    <tr>\n",
       "      <th>11:38</th>\n",
       "      <td>38</td>\n",
       "      <td>39.0</td>\n",
       "      <td>11</td>\n",
       "      <td>11:38</td>\n",
       "      <td>9.0</td>\n",
       "      <td>land</td>\n",
       "      <td>Corehaven</td>\n",
       "    </tr>\n",
       "  </tbody>\n",
       "</table>\n",
       "</div>"
      ],
      "text/plain": [
       "        y  rainfall   x    key  elevation   terrain        feature\n",
       "key                                                               \n",
       "32:0    0      18.0  32   32:0        1.0      land   Lord'sgarden\n",
       "31:1    1      15.0  31   31:1        3.0      land    Splitgarden\n",
       "27:2    2      19.0  27   27:2        1.0      land     Snakespike\n",
       "35:5    5       7.0  35   35:5        6.0      land      Tearbrook\n",
       "39:9    9      22.0  39   39:9       22.0      land      Lilyspike\n",
       "39:11  11      29.0  39  39:11       28.0  mountain     Lord'slair\n",
       "38:12  12      49.0  38  38:12       45.0  mountain       Godblaze\n",
       "9:14   14      10.0   9   9:14        1.0      land       Snowkeep\n",
       "0:17   17      18.0   0   0:17       18.0      land      Doomcatch\n",
       "14:19  19      81.0  14  14:19        3.0      land       Hardtear\n",
       "25:19  19      25.0  25  25:19        3.0      land     Gleamcatch\n",
       "15:21  21      55.0  15  15:21        2.0      land      Snowcrest\n",
       "12:22  22      35.0  12  12:22        4.0      land       Solchild\n",
       "0:27   27      32.0   0   0:27       28.0  mountain    Stonegarden\n",
       "5:27   27      56.0   5   5:27       44.0  mountain  Founder'smore\n",
       "20:28  28       6.0  20  20:28        5.0      land      Heartrest\n",
       "33:31  31      12.0  33  33:31       12.0      land        Malhost\n",
       "17:32  32      10.0  17  17:32        2.0      land     Brinemoral\n",
       "27:32  32      28.0  27  27:32       28.0  mountain     King'spike\n",
       "4:34   34      69.0   4   4:34       46.0  mountain        Oakfort\n",
       "24:34  34      22.0  24  24:34       22.0      land       Artmoral\n",
       "21:35  35      16.0  21  21:35       16.0      land      Ratfellow\n",
       "0:38   38      13.0   0   0:38        3.0      land        Buckrun\n",
       "11:38  38      39.0  11  11:38        9.0      land      Corehaven"
      ]
     },
     "execution_count": 10,
     "metadata": {},
     "output_type": "execute_result"
    }
   ],
   "source": [
    "world.df_features[world.df_features['feature'].isna()==False]"
   ]
  },
  {
   "cell_type": "code",
   "execution_count": null,
   "metadata": {},
   "outputs": [],
   "source": [
    "cities = df[df['feature']=='city']\n",
    "k_means = KMeans(init='k-means++', n_clusters=landscape['n nations'], n_init=10)\n",
    "k_means.fit(cities[['x','y']])"
   ]
  },
  {
   "cell_type": "code",
   "execution_count": null,
   "metadata": {},
   "outputs": [],
   "source": [
    "landscape['nations'] = build.labelNations(k_means.labels_)\n",
    "landscape['nations']"
   ]
  },
  {
   "cell_type": "code",
   "execution_count": null,
   "metadata": {},
   "outputs": [],
   "source": [
    "df.loc[df['feature']=='city','nation number'] = k_means.labels_\n",
    "df['nation'] = df['nation number'].apply(lambda x: build.assignNation(x,landscape=landscape))\n",
    "\n",
    "for t in towns:\n",
    "    try:\n",
    "        t.diplomacy['nation'] = df.loc[df['town']==t.name,'nation'].values[0]\n",
    "        t.diplomacy['fealty'] = 1\n",
    "    except:\n",
    "        continue\n",
    "    \n",
    "df[df['feature']=='city'].sort_values(['nation'])"
   ]
  },
  {
   "cell_type": "code",
   "execution_count": null,
   "metadata": {},
   "outputs": [],
   "source": [
    "predicted_nations = k_means.predict(df.loc[(df['feature']!='ocean')& \\\n",
    "                                           (df['feature']!='city')]\n",
    "                                    [['x','y']]\n",
    "                                   )\n",
    "df.loc[(df['feature']!='ocean')& \\\n",
    "       (df['feature']!='city'),'nation number'] = predicted_nations\n",
    "\n",
    "df['nation'] = df['nation number'].apply(lambda x: build.assignNation(x,landscape))\n",
    "\n",
    "draw.drawboarders(df)"
   ]
  },
  {
   "cell_type": "code",
   "execution_count": null,
   "metadata": {},
   "outputs": [],
   "source": [
    "#for each nation (n), appoint the most populus city (c) as it's capitol.\n",
    "for n in np.unique(df['nation'].dropna()):\n",
    "    c = df[(df['nation']==n)& \\\n",
    "          (df['feature']=='city')]['town'].tolist()\n",
    "    #getting the town objects\n",
    "    ts = [t for t in towns if t.name in c]\n",
    "    #get population(p)\n",
    "    p = [t.pop for t in ts]\n",
    "    #getting the first town that has the max population, make that the capitol\n",
    "    ts[np.argmax(p)].type='capitol'\n",
    "    \n",
    "towns"
   ]
  },
  {
   "cell_type": "code",
   "execution_count": null,
   "metadata": {},
   "outputs": [],
   "source": [
    "world = {\"landscape\":landscape,\n",
    "        \"df\":df,\n",
    "        'towns':towns}\n",
    "\n",
    "with open('world_1.p', 'wb') as pickle_file:\n",
    "    pickle.dump(world, pickle_file)"
   ]
  }
 ],
 "metadata": {
  "kernelspec": {
   "display_name": "Python 3",
   "language": "python",
   "name": "python3"
  },
  "language_info": {
   "codemirror_mode": {
    "name": "ipython",
    "version": 3
   },
   "file_extension": ".py",
   "mimetype": "text/x-python",
   "name": "python",
   "nbconvert_exporter": "python",
   "pygments_lexer": "ipython3",
   "version": "3.7.3"
  }
 },
 "nbformat": 4,
 "nbformat_minor": 2
}
