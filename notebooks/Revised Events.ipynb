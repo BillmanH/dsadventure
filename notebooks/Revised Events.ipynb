{
 "cells": [
  {
   "cell_type": "markdown",
   "metadata": {},
   "source": [
    "# Model / Class driven events and quest management\n",
    "\n",
    "Events are happening all the time. Several events happen before the Character quest begins. "
   ]
  },
  {
   "cell_type": "code",
   "execution_count": 25,
   "metadata": {},
   "outputs": [],
   "source": [
    "import pandas as pd\n",
    "import numpy as np\n",
    "import os\n",
    "\n",
    "import os\n",
    "import sys\n",
    "import django\n",
    "sys.path.append('../..')\n",
    "#Loading my project settings from prodweb. This allows me to load and query models. \n",
    "os.environ.setdefault('DJANGO_SETTINGS_MODULE', 'prodweb.settings')\n",
    "django.setup()\n",
    "\n",
    "#I'm mapping to the actual files in the repo so that I can also use this to troubleshoot\n",
    "import sys,pickle\n",
    "sys.path.append('../')\n",
    "\n",
    "\n",
    "with (open(\"../pickles/billmanhworld.pkl\", 'rb')) as pickle_file:\n",
    "    world = pickle.load(pickle_file)"
   ]
  },
  {
   "cell_type": "code",
   "execution_count": 26,
   "metadata": {},
   "outputs": [],
   "source": [
    "from game.models import events"
   ]
  },
  {
   "cell_type": "code",
   "execution_count": 27,
   "metadata": {},
   "outputs": [
    {
     "data": {
      "text/plain": [
       "['bandits', 'marrage', 'raiders', 'temple']"
      ]
     },
     "execution_count": 27,
     "metadata": {},
     "output_type": "execute_result"
    }
   ],
   "source": [
    "def get_possible_events():\n",
    "    return [str(i[0]) for i in events.objects.values_list('key')]\n",
    "\n",
    "def get_event(k):\n",
    "    m = events.objects.get(pk=k)\n",
    "    return m\n",
    "\n",
    "possible_events = get_possible_events()\n",
    "possible_events"
   ]
  },
  {
   "cell_type": "markdown",
   "metadata": {},
   "source": [
    "as a convention I'm adding `e` as an individual event as the result of the DB query. "
   ]
  },
  {
   "cell_type": "code",
   "execution_count": 111,
   "metadata": {},
   "outputs": [
    {
     "data": {
      "text/plain": [
       "<events: events object (temple)>"
      ]
     },
     "execution_count": 111,
     "metadata": {},
     "output_type": "execute_result"
    }
   ],
   "source": [
    "e = get_event('temple')\n",
    "e"
   ]
  },
  {
   "cell_type": "markdown",
   "metadata": {},
   "source": [
    "I'm creating an events class to manage individual events. I origionally thought of doing this within the `game.models` but I wanted to have something that reacts to individual events and manages all of the effects that they have on the world. "
   ]
  },
  {
   "cell_type": "code",
   "execution_count": 135,
   "metadata": {},
   "outputs": [
    {
     "name": "stdout",
     "output_type": "stream",
     "text": [
      "a great temple was founded in the city of None in None\n"
     ]
    },
    {
     "data": {
      "text/plain": [
       "{'key': 'temple',\n",
       " 'n_subjects': 1,\n",
       " 'n_objects': 0,\n",
       " 'event': 'a great temple was founded in the city of {t} in {a}',\n",
       " 'effect_var': 'buildings',\n",
       " 'effect': Decimal('0.00'),\n",
       " 'a_message': 'did you hear about the great temple in {a}',\n",
       " 'o_message': 'hello',\n",
       " 'agent_type': 'nation'}"
      ]
     },
     "execution_count": 135,
     "metadata": {},
     "output_type": "execute_result"
    }
   ],
   "source": [
    "class Event:\n",
    "    def __init__(self,e):\n",
    "        self.key = e.key\n",
    "        self.n_subjects = e.n_subjects\n",
    "        self.n_objects = e.n_objects\n",
    "        self.event = e.event\n",
    "        self.effect_var = e.effect_var\n",
    "        self.effect = e.effect\n",
    "        self.a_message = e.a_message\n",
    "        self.o_message = e.o_message\n",
    "        self.agent_type= e.agent_type\n",
    "        self.a = None\n",
    "        self.o = None\n",
    "        self.t = None\n",
    "    \n",
    "    def __str__(self):\n",
    "        return self.event.format(a=self.a,o=self.o,t=self.t)\n",
    "    \n",
    "    def get_event_propperties(self):\n",
    "        ep = {\n",
    "            \"key\":self.key,\n",
    "            \"n_subjects\":self.n_subjects,\n",
    "            \"n_objects\":self.n_objects,\n",
    "            \"event\":self.event,\n",
    "            \"effect_var\":self.effect_var,\n",
    "            \"effect\":self.effect,\n",
    "            \"a_message\":self.a_message,\n",
    "            \"o_message\":self.o_message,\n",
    "            \"agent_type\":self.agent_type\n",
    "        }\n",
    "        if self.a:\n",
    "            ep['ep'] = self.a\n",
    "        return ep\n",
    "    \n",
    "    def random_assign_agent(self,world):\n",
    "        #1) figure out who did what, and to whom\n",
    "        if self.agent_type == \"nation\":\n",
    "            if self.n_subjects > 0:\n",
    "                self.a = np.random.choice(world.nations,self.n_subjects,replace=False)\n",
    "            if self.n_objects > 0:\n",
    "                self.o = np.random.choice(world.nations,self.n_objects,replace=False)\n",
    "        if '{t}' in self.event:\n",
    "            if self.o:\n",
    "                terrain_in_nation = world.df_features.loc[world.df_features['nation'].isin([e.name for e in event.o]),'terrain'].unique()\n",
    "                terrain_in_nation = [t for t in terrain_in_nation if t!='town']\n",
    "                self.t = np.random.choice(terrain_in_nation,replace=False)\n",
    "            else:\n",
    "                terrain_in_nation = np.unique(world.df_features['terrain'])\n",
    "                self.t = np.random.choice(terrain_in_nation,replace=False)\n",
    "        return self.event\n",
    "    \n",
    "    def assign_effects(self,world):\n",
    "        pass\n",
    "        \n",
    "event = Event(e)\n",
    "print(event)\n",
    "event.get_event_propperties()"
   ]
  },
  {
   "cell_type": "code",
   "execution_count": 136,
   "metadata": {},
   "outputs": [
    {
     "name": "stdout",
     "output_type": "stream",
     "text": [
      "a great temple was founded in the city of forest in [Nation of Landsplace]\n"
     ]
    }
   ],
   "source": [
    "event.random_assign_agent(world)\n",
    "print(event)"
   ]
  },
  {
   "cell_type": "markdown",
   "metadata": {},
   "source": [
    "## Test: All `Possible events` can be created\n",
    "And have no `None` types in the string"
   ]
  },
  {
   "cell_type": "code",
   "execution_count": 138,
   "metadata": {},
   "outputs": [
    {
     "name": "stdout",
     "output_type": "stream",
     "text": [
      "bandits have set up camp in the desert of [Nation of Brinehaven]\n",
      "a noble from [Nation of Fairforth] was married to a noble in [Nation of Snakerun]\n",
      "raiders from [Nation of Landsfellow], plundered [Nation of Earthbrook Nation of Snakerun Nation of Brinehaven]\n",
      "a great temple was founded in the city of town in [Nation of Brinecombe]\n"
     ]
    }
   ],
   "source": [
    "for key in possible_events:\n",
    "    e = get_event(key)\n",
    "    event = Event(e)\n",
    "    event.random_assign_agent(world)\n",
    "    print(event)"
   ]
  },
  {
   "cell_type": "code",
   "execution_count": null,
   "metadata": {},
   "outputs": [],
   "source": []
  }
 ],
 "metadata": {
  "kernelspec": {
   "display_name": "Python 3",
   "language": "python",
   "name": "python3"
  },
  "language_info": {
   "codemirror_mode": {
    "name": "ipython",
    "version": 3
   },
   "file_extension": ".py",
   "mimetype": "text/x-python",
   "name": "python",
   "nbconvert_exporter": "python",
   "pygments_lexer": "ipython3",
   "version": "3.7.3"
  }
 },
 "nbformat": 4,
 "nbformat_minor": 2
}
