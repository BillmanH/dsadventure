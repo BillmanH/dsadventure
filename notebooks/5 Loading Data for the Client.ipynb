{
 "cells": [
  {
   "cell_type": "markdown",
   "metadata": {},
   "source": [
    "# Getting the info that the client needs for D3.js"
   ]
  },
  {
   "cell_type": "code",
   "execution_count": 1,
   "metadata": {},
   "outputs": [],
   "source": [
    "#I'm mapping to the actual files in the repo so that I can also use this to troubleshoot\n",
    "import sys,pickle\n",
    "sys.path.append('../')\n",
    "from lib import modify_character\n",
    "\n",
    "from lib import builders\n",
    "\n",
    "with (open('world_4.p', 'rb')) as pickle_file:\n",
    "    world = pickle.load(pickle_file)"
   ]
  },
  {
   "cell_type": "code",
   "execution_count": 2,
   "metadata": {},
   "outputs": [
    {
     "data": {
      "text/plain": [
       "<lib.builders.world.World at 0x7ff11de60048>"
      ]
     },
     "execution_count": 2,
     "metadata": {},
     "output_type": "execute_result"
    }
   ],
   "source": [
    "world"
   ]
  },
  {
   "cell_type": "code",
   "execution_count": 3,
   "metadata": {},
   "outputs": [
    {
     "data": {
      "text/plain": [
       "<module 'lib.builders.world' from '../lib/builders/world.py'>"
      ]
     },
     "execution_count": 3,
     "metadata": {},
     "output_type": "execute_result"
    }
   ],
   "source": [
    "WORLD = builders.world\n",
    "WORLD"
   ]
  },
  {
   "cell_type": "code",
   "execution_count": 4,
   "metadata": {},
   "outputs": [
    {
     "data": {
      "text/plain": [
       "{'area': {'y': 30,\n",
       "  'rainfall': 15.0,\n",
       "  'x': 14,\n",
       "  'key': '14:30',\n",
       "  'elevation': 2.0,\n",
       "  'terrain': 'town',\n",
       "  'feature': 'Hellplace',\n",
       "  'nation number': 0.0,\n",
       "  'nation': 'Flamehaven',\n",
       "  'z': 'City'},\n",
       " 'NArea': {'y': 29,\n",
       "  'rainfall': 9.0,\n",
       "  'x': 14,\n",
       "  'key': '14:29',\n",
       "  'elevation': 0.0,\n",
       "  'terrain': 'ocean',\n",
       "  'feature': 'none',\n",
       "  'nation number': 'none',\n",
       "  'nation': 'none',\n",
       "  'z': 'none'},\n",
       " 'SArea': {'y': 31,\n",
       "  'rainfall': 19.0,\n",
       "  'x': 14,\n",
       "  'key': '14:31',\n",
       "  'elevation': 2.0,\n",
       "  'terrain': 'land',\n",
       "  'feature': 'none',\n",
       "  'nation number': 0.0,\n",
       "  'nation': 'Flamehaven',\n",
       "  'z': 'Flamehaven'},\n",
       " 'EArea': {'y': 30,\n",
       "  'rainfall': 9.0,\n",
       "  'x': 15,\n",
       "  'key': '15:30',\n",
       "  'elevation': -1.0,\n",
       "  'terrain': 'ocean',\n",
       "  'feature': 'none',\n",
       "  'nation number': 'none',\n",
       "  'nation': 'none',\n",
       "  'z': 'none'},\n",
       " 'WArea': {'y': 30,\n",
       "  'rainfall': 18.0,\n",
       "  'x': 13,\n",
       "  'key': '13:30',\n",
       "  'elevation': 1.0,\n",
       "  'terrain': 'land',\n",
       "  'feature': 'none',\n",
       "  'nation number': 0.0,\n",
       "  'nation': 'Flamehaven',\n",
       "  'z': 'Flamehaven'}}"
      ]
     },
     "execution_count": 4,
     "metadata": {},
     "output_type": "execute_result"
    }
   ],
   "source": [
    "WORLD.get_area_data(world)"
   ]
  },
  {
   "cell_type": "code",
   "execution_count": 7,
   "metadata": {},
   "outputs": [
    {
     "data": {
      "text/plain": [
       "'It is a normal day.'"
      ]
     },
     "execution_count": 7,
     "metadata": {},
     "output_type": "execute_result"
    }
   ],
   "source": [
    "WORLD.get_character_context(world)"
   ]
  },
  {
   "cell_type": "code",
   "execution_count": null,
   "metadata": {},
   "outputs": [],
   "source": []
  }
 ],
 "metadata": {
  "kernelspec": {
   "display_name": "Python 3",
   "language": "python",
   "name": "python3"
  },
  "language_info": {
   "codemirror_mode": {
    "name": "ipython",
    "version": 3
   },
   "file_extension": ".py",
   "mimetype": "text/x-python",
   "name": "python",
   "nbconvert_exporter": "python",
   "pygments_lexer": "ipython3",
   "version": "3.7.3"
  }
 },
 "nbformat": 4,
 "nbformat_minor": 2
}
