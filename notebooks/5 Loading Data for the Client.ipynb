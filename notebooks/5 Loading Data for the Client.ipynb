{
 "cells": [
  {
   "cell_type": "markdown",
   "metadata": {},
   "source": [
    "# Getting the info that the client needs for D3.js"
   ]
  },
  {
   "cell_type": "code",
   "execution_count": 1,
   "metadata": {},
   "outputs": [],
   "source": [
    "#I'm mapping to the actual files in the repo so that I can also use this to troubleshoot\n",
    "import sys,pickle\n",
    "sys.path.append('../')\n",
    "from lib import modify_character\n",
    "\n",
    "from lib import builders\n",
    "\n",
    "with (open('world_4.p', 'rb')) as pickle_file:\n",
    "    world = pickle.load(pickle_file)"
   ]
  },
  {
   "cell_type": "code",
   "execution_count": 2,
   "metadata": {},
   "outputs": [
    {
     "data": {
      "text/plain": [
       "<lib.builders.world.World at 0x7f4c10294978>"
      ]
     },
     "execution_count": 2,
     "metadata": {},
     "output_type": "execute_result"
    }
   ],
   "source": [
    "world"
   ]
  },
  {
   "cell_type": "code",
   "execution_count": 3,
   "metadata": {},
   "outputs": [
    {
     "data": {
      "text/plain": [
       "<module 'lib.builders.world' from '../lib/builders/world.py'>"
      ]
     },
     "execution_count": 3,
     "metadata": {},
     "output_type": "execute_result"
    }
   ],
   "source": [
    "w = builders.world\n",
    "w"
   ]
  },
  {
   "cell_type": "code",
   "execution_count": 4,
   "metadata": {},
   "outputs": [
    {
     "data": {
      "text/plain": [
       "{'area': {'y': 30,\n",
       "  'rainfall': 15.0,\n",
       "  'x': 14,\n",
       "  'key': '14:30',\n",
       "  'elevation': 2.0,\n",
       "  'terrain': 'town',\n",
       "  'feature': 'Hellplace',\n",
       "  'nation number': 0.0,\n",
       "  'nation': 'Flamehaven',\n",
       "  'z': 'City'},\n",
       " 'NArea': {'y': 29,\n",
       "  'rainfall': 9.0,\n",
       "  'x': 14,\n",
       "  'key': '14:29',\n",
       "  'elevation': 0.0,\n",
       "  'terrain': 'ocean',\n",
       "  'feature': 'none',\n",
       "  'nation number': 'none',\n",
       "  'nation': 'none',\n",
       "  'z': 'none'},\n",
       " 'SArea': {'y': 31,\n",
       "  'rainfall': 19.0,\n",
       "  'x': 14,\n",
       "  'key': '14:31',\n",
       "  'elevation': 2.0,\n",
       "  'terrain': 'land',\n",
       "  'feature': 'none',\n",
       "  'nation number': 0.0,\n",
       "  'nation': 'Flamehaven',\n",
       "  'z': 'Flamehaven'},\n",
       " 'EArea': {'y': 30,\n",
       "  'rainfall': 9.0,\n",
       "  'x': 15,\n",
       "  'key': '15:30',\n",
       "  'elevation': -1.0,\n",
       "  'terrain': 'ocean',\n",
       "  'feature': 'none',\n",
       "  'nation number': 'none',\n",
       "  'nation': 'none',\n",
       "  'z': 'none'},\n",
       " 'WArea': {'y': 30,\n",
       "  'rainfall': 18.0,\n",
       "  'x': 13,\n",
       "  'key': '13:30',\n",
       "  'elevation': 1.0,\n",
       "  'terrain': 'land',\n",
       "  'feature': 'none',\n",
       "  'nation number': 0.0,\n",
       "  'nation': 'Flamehaven',\n",
       "  'z': 'Flamehaven'}}"
      ]
     },
     "execution_count": 4,
     "metadata": {},
     "output_type": "execute_result"
    }
   ],
   "source": [
    "w.get_area_data(world)"
   ]
  },
  {
   "cell_type": "code",
   "execution_count": 5,
   "metadata": {},
   "outputs": [
    {
     "data": {
      "text/plain": [
       "'It is a normal day.'"
      ]
     },
     "execution_count": 5,
     "metadata": {},
     "output_type": "execute_result"
    }
   ],
   "source": [
    "w.get_character_context(world)"
   ]
  },
  {
   "cell_type": "code",
   "execution_count": 15,
   "metadata": {},
   "outputs": [
    {
     "name": "stdout",
     "output_type": "stream",
     "text": [
      "y                        30\n",
      "rainfall                 18\n",
      "x                        13\n",
      "key                   13:30\n",
      "elevation                 1\n",
      "terrain                land\n",
      "feature                 NaN\n",
      "nation number             0\n",
      "nation           Flamehaven\n",
      "z                Flamehaven\n",
      "visited                   1\n",
      "Name: 13:30, dtype: object\n"
     ]
    }
   ],
   "source": [
    "location = '13:30'\n",
    "world.df_features.loc[location,'visited'] = 1\n",
    "print(world.df_features.loc[location])"
   ]
  },
  {
   "cell_type": "code",
   "execution_count": 16,
   "metadata": {},
   "outputs": [
    {
     "data": {
      "text/plain": [
       "True"
      ]
     },
     "execution_count": 16,
     "metadata": {},
     "output_type": "execute_result"
    }
   ],
   "source": [
    "world.df_features.loc[location,'visited'] >= 1"
   ]
  },
  {
   "cell_type": "code",
   "execution_count": 17,
   "metadata": {},
   "outputs": [
    {
     "name": "stdout",
     "output_type": "stream",
     "text": [
      "nan\n"
     ]
    },
    {
     "data": {
      "text/plain": [
       "False"
      ]
     },
     "execution_count": 17,
     "metadata": {},
     "output_type": "execute_result"
    }
   ],
   "source": [
    "print(world.df_features.loc['1:1','visited'])\n",
    "world.df_features.loc['1:1','visited'] >= 1"
   ]
  },
  {
   "cell_type": "code",
   "execution_count": 19,
   "metadata": {},
   "outputs": [
    {
     "data": {
      "text/html": [
       "<div>\n",
       "<style scoped>\n",
       "    .dataframe tbody tr th:only-of-type {\n",
       "        vertical-align: middle;\n",
       "    }\n",
       "\n",
       "    .dataframe tbody tr th {\n",
       "        vertical-align: top;\n",
       "    }\n",
       "\n",
       "    .dataframe thead th {\n",
       "        text-align: right;\n",
       "    }\n",
       "</style>\n",
       "<table border=\"1\" class=\"dataframe\">\n",
       "  <thead>\n",
       "    <tr style=\"text-align: right;\">\n",
       "      <th></th>\n",
       "      <th>y</th>\n",
       "      <th>rainfall</th>\n",
       "      <th>x</th>\n",
       "      <th>key</th>\n",
       "      <th>elevation</th>\n",
       "      <th>terrain</th>\n",
       "      <th>feature</th>\n",
       "      <th>nation number</th>\n",
       "      <th>nation</th>\n",
       "      <th>z</th>\n",
       "      <th>visited</th>\n",
       "    </tr>\n",
       "    <tr>\n",
       "      <th>key</th>\n",
       "      <th></th>\n",
       "      <th></th>\n",
       "      <th></th>\n",
       "      <th></th>\n",
       "      <th></th>\n",
       "      <th></th>\n",
       "      <th></th>\n",
       "      <th></th>\n",
       "      <th></th>\n",
       "      <th></th>\n",
       "      <th></th>\n",
       "    </tr>\n",
       "  </thead>\n",
       "  <tbody>\n",
       "    <tr>\n",
       "      <th>0:0</th>\n",
       "      <td>0</td>\n",
       "      <td>10.0</td>\n",
       "      <td>0</td>\n",
       "      <td>0:0</td>\n",
       "      <td>-1.0</td>\n",
       "      <td>unknown</td>\n",
       "      <td>unknown</td>\n",
       "      <td>0</td>\n",
       "      <td>unknown</td>\n",
       "      <td>NaN</td>\n",
       "      <td>NaN</td>\n",
       "    </tr>\n",
       "    <tr>\n",
       "      <th>1:0</th>\n",
       "      <td>0</td>\n",
       "      <td>15.0</td>\n",
       "      <td>1</td>\n",
       "      <td>1:0</td>\n",
       "      <td>1.0</td>\n",
       "      <td>unknown</td>\n",
       "      <td>unknown</td>\n",
       "      <td>0</td>\n",
       "      <td>unknown</td>\n",
       "      <td>Icehost</td>\n",
       "      <td>NaN</td>\n",
       "    </tr>\n",
       "    <tr>\n",
       "      <th>2:0</th>\n",
       "      <td>0</td>\n",
       "      <td>14.0</td>\n",
       "      <td>2</td>\n",
       "      <td>2:0</td>\n",
       "      <td>-1.0</td>\n",
       "      <td>unknown</td>\n",
       "      <td>unknown</td>\n",
       "      <td>0</td>\n",
       "      <td>unknown</td>\n",
       "      <td>NaN</td>\n",
       "      <td>NaN</td>\n",
       "    </tr>\n",
       "    <tr>\n",
       "      <th>3:0</th>\n",
       "      <td>0</td>\n",
       "      <td>13.0</td>\n",
       "      <td>3</td>\n",
       "      <td>3:0</td>\n",
       "      <td>-1.0</td>\n",
       "      <td>unknown</td>\n",
       "      <td>unknown</td>\n",
       "      <td>0</td>\n",
       "      <td>unknown</td>\n",
       "      <td>NaN</td>\n",
       "      <td>NaN</td>\n",
       "    </tr>\n",
       "    <tr>\n",
       "      <th>4:0</th>\n",
       "      <td>0</td>\n",
       "      <td>8.0</td>\n",
       "      <td>4</td>\n",
       "      <td>4:0</td>\n",
       "      <td>-2.0</td>\n",
       "      <td>unknown</td>\n",
       "      <td>unknown</td>\n",
       "      <td>0</td>\n",
       "      <td>unknown</td>\n",
       "      <td>NaN</td>\n",
       "      <td>NaN</td>\n",
       "    </tr>\n",
       "  </tbody>\n",
       "</table>\n",
       "</div>"
      ],
      "text/plain": [
       "     y  rainfall  x  key  elevation  terrain  feature nation number   nation  \\\n",
       "key                                                                            \n",
       "0:0  0      10.0  0  0:0       -1.0  unknown  unknown             0  unknown   \n",
       "1:0  0      15.0  1  1:0        1.0  unknown  unknown             0  unknown   \n",
       "2:0  0      14.0  2  2:0       -1.0  unknown  unknown             0  unknown   \n",
       "3:0  0      13.0  3  3:0       -1.0  unknown  unknown             0  unknown   \n",
       "4:0  0       8.0  4  4:0       -2.0  unknown  unknown             0  unknown   \n",
       "\n",
       "           z  visited  \n",
       "key                    \n",
       "0:0      NaN      NaN  \n",
       "1:0  Icehost      NaN  \n",
       "2:0      NaN      NaN  \n",
       "3:0      NaN      NaN  \n",
       "4:0      NaN      NaN  "
      ]
     },
     "execution_count": 19,
     "metadata": {},
     "output_type": "execute_result"
    }
   ],
   "source": [
    "masked_world = w.mask_unknown(world)\n",
    "masked_world.head()"
   ]
  },
  {
   "cell_type": "code",
   "execution_count": 20,
   "metadata": {},
   "outputs": [
    {
     "data": {
      "text/plain": [
       "y                        30\n",
       "rainfall                 18\n",
       "x                        13\n",
       "key                   13:30\n",
       "elevation                 1\n",
       "terrain                land\n",
       "feature                 NaN\n",
       "nation number             0\n",
       "nation           Flamehaven\n",
       "z                Flamehaven\n",
       "visited                   1\n",
       "Name: 13:30, dtype: object"
      ]
     },
     "execution_count": 20,
     "metadata": {},
     "output_type": "execute_result"
    }
   ],
   "source": [
    "masked_world.loc[location]"
   ]
  },
  {
   "cell_type": "code",
   "execution_count": null,
   "metadata": {},
   "outputs": [],
   "source": []
  }
 ],
 "metadata": {
  "kernelspec": {
   "display_name": "Python 3",
   "language": "python",
   "name": "python3"
  },
  "language_info": {
   "codemirror_mode": {
    "name": "ipython",
    "version": 3
   },
   "file_extension": ".py",
   "mimetype": "text/x-python",
   "name": "python",
   "nbconvert_exporter": "python",
   "pygments_lexer": "ipython3",
   "version": "3.7.3"
  }
 },
 "nbformat": 4,
 "nbformat_minor": 2
}
