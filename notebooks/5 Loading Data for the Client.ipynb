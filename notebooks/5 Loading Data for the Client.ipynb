{
 "cells": [
  {
   "cell_type": "markdown",
   "metadata": {},
   "source": [
    "# Getting the info that the client needs for D3.js"
   ]
  },
  {
   "cell_type": "code",
   "execution_count": 15,
   "metadata": {},
   "outputs": [],
   "source": [
    "#I'm mapping to the actual files in the repo so that I can also use this to troubleshoot\n",
    "import sys,pickle\n",
    "sys.path.append('../')\n",
    "from lib import modify_character\n",
    "\n",
    "from lib import builders\n",
    "from lib.builders import monsters\n",
    "\n",
    "with (open('world_2.p', 'rb')) as pickle_file:\n",
    "    world = pickle.load(pickle_file)"
   ]
  },
  {
   "cell_type": "code",
   "execution_count": 2,
   "metadata": {},
   "outputs": [
    {
     "data": {
      "text/plain": [
       "<lib.builders.world.World at 0x7fbb642a2ac8>"
      ]
     },
     "execution_count": 2,
     "metadata": {},
     "output_type": "execute_result"
    }
   ],
   "source": [
    "world"
   ]
  },
  {
   "cell_type": "code",
   "execution_count": 3,
   "metadata": {},
   "outputs": [
    {
     "data": {
      "text/plain": [
       "<module 'lib.builders.world' from '../lib/builders/world.py'>"
      ]
     },
     "execution_count": 3,
     "metadata": {},
     "output_type": "execute_result"
    }
   ],
   "source": [
    "w = builders.world\n",
    "w"
   ]
  },
  {
   "cell_type": "code",
   "execution_count": 4,
   "metadata": {},
   "outputs": [
    {
     "name": "stdout",
     "output_type": "stream",
     "text": [
      "[0, 14]\n"
     ]
    },
    {
     "data": {
      "text/plain": [
       "{'area': {'y': 14,\n",
       "  'rainfall': 13.0,\n",
       "  'x': 0,\n",
       "  'key': '0:14',\n",
       "  'elevation': 1.0,\n",
       "  'terrain': 'town',\n",
       "  'feature': 'Stonehaven',\n",
       "  'nation number': 4.0,\n",
       "  'nation': 'Doomhammer',\n",
       "  'z': 'City',\n",
       "  'danger': 0.629},\n",
       " 'NArea': {'y': 13,\n",
       "  'rainfall': 16.0,\n",
       "  'x': 0,\n",
       "  'key': '0:13',\n",
       "  'elevation': 0.0,\n",
       "  'terrain': 'ocean',\n",
       "  'feature': 'none',\n",
       "  'nation number': 'none',\n",
       "  'nation': 'none',\n",
       "  'z': 'none',\n",
       "  'danger': 0.579},\n",
       " 'SArea': {'y': 15,\n",
       "  'rainfall': 9.0,\n",
       "  'x': 0,\n",
       "  'key': '0:15',\n",
       "  'elevation': -2.0,\n",
       "  'terrain': 'ocean',\n",
       "  'feature': 'none',\n",
       "  'nation number': 'none',\n",
       "  'nation': 'none',\n",
       "  'z': 'none',\n",
       "  'danger': 0.437},\n",
       " 'EArea': {'y': 14,\n",
       "  'rainfall': 18.0,\n",
       "  'x': 1,\n",
       "  'key': '1:14',\n",
       "  'elevation': 1.0,\n",
       "  'terrain': 'plain',\n",
       "  'feature': 'none',\n",
       "  'nation number': 4.0,\n",
       "  'nation': 'Doomhammer',\n",
       "  'z': 'Doomhammer',\n",
       "  'danger': 0.263},\n",
       " 'WArea': {'terrain': 'void'}}"
      ]
     },
     "execution_count": 4,
     "metadata": {},
     "output_type": "execute_result"
    }
   ],
   "source": [
    "print(world.Character.location)\n",
    "w.get_area_data(world)"
   ]
  },
  {
   "cell_type": "code",
   "execution_count": 5,
   "metadata": {},
   "outputs": [
    {
     "data": {
      "text/plain": [
       "'It is a normal day.'"
      ]
     },
     "execution_count": 5,
     "metadata": {},
     "output_type": "execute_result"
    }
   ],
   "source": [
    "w.get_character_context(world)"
   ]
  },
  {
   "cell_type": "code",
   "execution_count": 6,
   "metadata": {},
   "outputs": [
    {
     "name": "stdout",
     "output_type": "stream",
     "text": [
      "y                      0\n",
      "rainfall               1\n",
      "x                      0\n",
      "key                  0:0\n",
      "elevation              1\n",
      "terrain           desert\n",
      "feature              NaN\n",
      "nation number          7\n",
      "nation           Malfort\n",
      "z                Malfort\n",
      "danger              0.17\n",
      "visited                1\n",
      "Name: 0:0, dtype: object\n"
     ]
    }
   ],
   "source": [
    "location = '13:30'\n",
    "world.df_features.loc['0:0','visited'] = 1 \n",
    "print(world.df_features.loc['0:0'])"
   ]
  },
  {
   "cell_type": "code",
   "execution_count": 7,
   "metadata": {},
   "outputs": [
    {
     "data": {
      "text/plain": [
       "False"
      ]
     },
     "execution_count": 7,
     "metadata": {},
     "output_type": "execute_result"
    }
   ],
   "source": [
    "world.df_features.loc[location,'visited'] >= 1"
   ]
  },
  {
   "cell_type": "code",
   "execution_count": 8,
   "metadata": {},
   "outputs": [
    {
     "name": "stdout",
     "output_type": "stream",
     "text": [
      "nan\n"
     ]
    },
    {
     "data": {
      "text/plain": [
       "True"
      ]
     },
     "execution_count": 8,
     "metadata": {},
     "output_type": "execute_result"
    }
   ],
   "source": [
    "print(world.df_features.loc['1:1','visited'])\n",
    "str(type(world.df_features.loc['1:1','visited'])) == \"<class 'numpy.float64'>\""
   ]
  },
  {
   "cell_type": "code",
   "execution_count": 9,
   "metadata": {},
   "outputs": [
    {
     "name": "stdout",
     "output_type": "stream",
     "text": [
      "true\n"
     ]
    },
    {
     "data": {
      "text/plain": [
       "y                   30\n",
       "rainfall            14\n",
       "x                   13\n",
       "key              13:30\n",
       "elevation           -2\n",
       "terrain          ocean\n",
       "feature            NaN\n",
       "nation number      NaN\n",
       "nation             NaN\n",
       "z                  NaN\n",
       "danger           1.192\n",
       "visited              1\n",
       "Name: 13:30, dtype: object"
      ]
     },
     "execution_count": 9,
     "metadata": {},
     "output_type": "execute_result"
    }
   ],
   "source": [
    "if str(type(world.df_features.loc[location,'visited'])) == \"<class 'numpy.float64'>\":\n",
    "    print(\"true\")\n",
    "    world.df_features.loc[location,'visited'] = 1\n",
    "else: \n",
    "    world.df_features.loc[location,'visited'] += 1\n",
    "    \n",
    "world.df_features.loc[location]"
   ]
  },
  {
   "cell_type": "code",
   "execution_count": 10,
   "metadata": {},
   "outputs": [
    {
     "data": {
      "text/html": [
       "<div>\n",
       "<style scoped>\n",
       "    .dataframe tbody tr th:only-of-type {\n",
       "        vertical-align: middle;\n",
       "    }\n",
       "\n",
       "    .dataframe tbody tr th {\n",
       "        vertical-align: top;\n",
       "    }\n",
       "\n",
       "    .dataframe thead th {\n",
       "        text-align: right;\n",
       "    }\n",
       "</style>\n",
       "<table border=\"1\" class=\"dataframe\">\n",
       "  <thead>\n",
       "    <tr style=\"text-align: right;\">\n",
       "      <th></th>\n",
       "      <th>y</th>\n",
       "      <th>rainfall</th>\n",
       "      <th>x</th>\n",
       "      <th>key</th>\n",
       "      <th>elevation</th>\n",
       "      <th>terrain</th>\n",
       "      <th>feature</th>\n",
       "      <th>nation number</th>\n",
       "      <th>nation</th>\n",
       "      <th>z</th>\n",
       "      <th>danger</th>\n",
       "      <th>visited</th>\n",
       "    </tr>\n",
       "    <tr>\n",
       "      <th>key</th>\n",
       "      <th></th>\n",
       "      <th></th>\n",
       "      <th></th>\n",
       "      <th></th>\n",
       "      <th></th>\n",
       "      <th></th>\n",
       "      <th></th>\n",
       "      <th></th>\n",
       "      <th></th>\n",
       "      <th></th>\n",
       "      <th></th>\n",
       "      <th></th>\n",
       "    </tr>\n",
       "  </thead>\n",
       "  <tbody>\n",
       "    <tr>\n",
       "      <th>0:0</th>\n",
       "      <td>0</td>\n",
       "      <td>1.0</td>\n",
       "      <td>0</td>\n",
       "      <td>0:0</td>\n",
       "      <td>1.0</td>\n",
       "      <td>desert</td>\n",
       "      <td>NaN</td>\n",
       "      <td>7</td>\n",
       "      <td>Malfort</td>\n",
       "      <td>Malfort</td>\n",
       "      <td>0.170</td>\n",
       "      <td>1.0</td>\n",
       "    </tr>\n",
       "    <tr>\n",
       "      <th>1:0</th>\n",
       "      <td>0</td>\n",
       "      <td>1.0</td>\n",
       "      <td>1</td>\n",
       "      <td>1:0</td>\n",
       "      <td>-2.0</td>\n",
       "      <td>unknown</td>\n",
       "      <td>unknown</td>\n",
       "      <td>0</td>\n",
       "      <td>unknown</td>\n",
       "      <td>NaN</td>\n",
       "      <td>1.006</td>\n",
       "      <td>NaN</td>\n",
       "    </tr>\n",
       "    <tr>\n",
       "      <th>2:0</th>\n",
       "      <td>0</td>\n",
       "      <td>1.0</td>\n",
       "      <td>2</td>\n",
       "      <td>2:0</td>\n",
       "      <td>1.0</td>\n",
       "      <td>desert</td>\n",
       "      <td>NaN</td>\n",
       "      <td>0</td>\n",
       "      <td>unknown</td>\n",
       "      <td>Malfort</td>\n",
       "      <td>0.537</td>\n",
       "      <td>NaN</td>\n",
       "    </tr>\n",
       "    <tr>\n",
       "      <th>3:0</th>\n",
       "      <td>0</td>\n",
       "      <td>1.0</td>\n",
       "      <td>3</td>\n",
       "      <td>3:0</td>\n",
       "      <td>2.0</td>\n",
       "      <td>desert</td>\n",
       "      <td>NaN</td>\n",
       "      <td>0</td>\n",
       "      <td>unknown</td>\n",
       "      <td>Malfort</td>\n",
       "      <td>0.149</td>\n",
       "      <td>NaN</td>\n",
       "    </tr>\n",
       "    <tr>\n",
       "      <th>4:0</th>\n",
       "      <td>0</td>\n",
       "      <td>1.0</td>\n",
       "      <td>4</td>\n",
       "      <td>4:0</td>\n",
       "      <td>-1.0</td>\n",
       "      <td>unknown</td>\n",
       "      <td>unknown</td>\n",
       "      <td>0</td>\n",
       "      <td>unknown</td>\n",
       "      <td>NaN</td>\n",
       "      <td>0.486</td>\n",
       "      <td>NaN</td>\n",
       "    </tr>\n",
       "  </tbody>\n",
       "</table>\n",
       "</div>"
      ],
      "text/plain": [
       "     y  rainfall  x  key  elevation  terrain  feature nation number   nation  \\\n",
       "key                                                                            \n",
       "0:0  0       1.0  0  0:0        1.0   desert      NaN             7  Malfort   \n",
       "1:0  0       1.0  1  1:0       -2.0  unknown  unknown             0  unknown   \n",
       "2:0  0       1.0  2  2:0        1.0   desert      NaN             0  unknown   \n",
       "3:0  0       1.0  3  3:0        2.0   desert      NaN             0  unknown   \n",
       "4:0  0       1.0  4  4:0       -1.0  unknown  unknown             0  unknown   \n",
       "\n",
       "           z  danger  visited  \n",
       "key                            \n",
       "0:0  Malfort   0.170      1.0  \n",
       "1:0      NaN   1.006      NaN  \n",
       "2:0  Malfort   0.537      NaN  \n",
       "3:0  Malfort   0.149      NaN  \n",
       "4:0      NaN   0.486      NaN  "
      ]
     },
     "execution_count": 10,
     "metadata": {},
     "output_type": "execute_result"
    }
   ],
   "source": [
    "masked_world = w.mask_unknown(world)\n",
    "world.Character.title = \"Noble\"\n",
    "masked_world.head()"
   ]
  },
  {
   "cell_type": "code",
   "execution_count": 11,
   "metadata": {},
   "outputs": [
    {
     "data": {
      "text/plain": [
       "y                   30\n",
       "rainfall            14\n",
       "x                   13\n",
       "key              13:30\n",
       "elevation           -2\n",
       "terrain          ocean\n",
       "feature            NaN\n",
       "nation number      NaN\n",
       "nation             NaN\n",
       "z                  NaN\n",
       "danger           1.192\n",
       "visited              1\n",
       "Name: 13:30, dtype: object"
      ]
     },
     "execution_count": 11,
     "metadata": {},
     "output_type": "execute_result"
    }
   ],
   "source": [
    "masked_world.loc[location]"
   ]
  },
  {
   "cell_type": "code",
   "execution_count": 16,
   "metadata": {},
   "outputs": [
    {
     "name": "stdout",
     "output_type": "stream",
     "text": [
      "0.629\n"
     ]
    },
    {
     "data": {
      "text/plain": [
       "[True, True, False, False, True, False, True, True, False, True]"
      ]
     },
     "execution_count": 16,
     "metadata": {},
     "output_type": "execute_result"
    }
   ],
   "source": [
    "print(world.df_features.loc[world.Character.get_location_key()].danger)\n",
    "[monsters.check_for_monsters(world) for i in range(10)]"
   ]
  },
  {
   "cell_type": "code",
   "execution_count": 17,
   "metadata": {},
   "outputs": [],
   "source": [
    "from lib.builders import monsters"
   ]
  },
  {
   "cell_type": "code",
   "execution_count": null,
   "metadata": {},
   "outputs": [],
   "source": [
    "builders."
   ]
  }
 ],
 "metadata": {
  "kernelspec": {
   "display_name": "Python 3",
   "language": "python",
   "name": "python3"
  },
  "language_info": {
   "codemirror_mode": {
    "name": "ipython",
    "version": 3
   },
   "file_extension": ".py",
   "mimetype": "text/x-python",
   "name": "python",
   "nbconvert_exporter": "python",
   "pygments_lexer": "ipython3",
   "version": "3.7.3"
  }
 },
 "nbformat": 4,
 "nbformat_minor": 2
}
