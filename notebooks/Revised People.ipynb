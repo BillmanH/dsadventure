{
 "cells": [
  {
   "cell_type": "markdown",
   "metadata": {},
   "source": [
    "# Redesign of people and how they are created. \n"
   ]
  },
  {
   "cell_type": "code",
   "execution_count": 1,
   "metadata": {},
   "outputs": [],
   "source": [
    "import pandas as pd\n",
    "import numpy as np\n",
    "import os\n",
    "\n",
    "import os\n",
    "import sys\n",
    "import django\n",
    "\n",
    "import altair as alt\n",
    "\n",
    "sys.path.append(\"../..\")\n",
    "# Loading my project settings from prodweb. This allows me to load and query models.\n",
    "os.environ.setdefault(\"DJANGO_SETTINGS_MODULE\", \"prodweb.settings\")\n",
    "django.setup()\n",
    "\n",
    "# I'm mapping to the actual files in the repo so that I can also use this to troubleshoot\n",
    "import sys, pickle\n",
    "\n",
    "sys.path.append(\"../\")\n",
    "from lib.builders import culture, towns\n",
    "import lib.drawMaps as draw\n",
    "\n",
    "pd.set_option(\"display.max_columns\", 10)\n",
    "pd.set_option(\"display.max_rows\", 10)\n",
    "%load_ext lab_black"
   ]
  },
  {
   "cell_type": "code",
   "execution_count": 2,
   "metadata": {},
   "outputs": [],
   "source": [
    "with (open(\"../pickles/billmanhworld.pkl\", \"rb\")) as pickle_file:\n",
    "    world = pickle.load(pickle_file)"
   ]
  },
  {
   "cell_type": "markdown",
   "metadata": {},
   "source": [
    "## This will be the new Nations builder module. "
   ]
  },
  {
   "cell_type": "code",
   "execution_count": 42,
   "metadata": {},
   "outputs": [],
   "source": [
    "import pandas as pd\n",
    "import numpy as np\n",
    "\n",
    "\n",
    "class Person:\n",
    "    def __init__(self, world, culture=None, role=\"commoner\", location=None):\n",
    "        if culture:\n",
    "            culture = culture\n",
    "        else:\n",
    "            culture = world.culture\n",
    "        self.name = culture.personNameGenerator()\n",
    "        self.role = role\n",
    "        self.location = self.set_location(location, world)\n",
    "        self.born_location = self.location\n",
    "        self.loyalty = 0.5\n",
    "        # temperment determines the 'viciousness' of a person's decisons\n",
    "        self.temperment = np.round_(np.random.random_sample(), 2)\n",
    "        self.born_in = self.set_born_in(world)\n",
    "        self.setLoyaltytoCrown()\n",
    "        self.attributes = [\"alive\"]\n",
    "        self.messages = [\"Hello stranger.\"]\n",
    "        self.type = \"person\"\n",
    "\n",
    "    def __repr__(self):\n",
    "        return f\"{self.name} the {self.role}\"\n",
    "\n",
    "    def set_born_in(self, world):\n",
    "        t_born = world.df_features.loc[self.location, \"terrain\"]\n",
    "        if t_born == \"town\":\n",
    "            return world.df_features.loc[self.location, \"feature\"]\n",
    "        else:\n",
    "            if self.role == \"commoner\":\n",
    "                self.role = \"wanderer\"\n",
    "            return world.df_features.loc[self.location, \"terrain\"]\n",
    "\n",
    "    def set_location(self, location, world):\n",
    "        if location:\n",
    "            return location\n",
    "        else:\n",
    "            key = world.get_filtered_chord(t=world.landscape.land_types, r=\"key\")\n",
    "            return key\n",
    "\n",
    "    def get_person_data(self):\n",
    "        d = {\n",
    "            \"name\": self.name,\n",
    "            \"role\": self.role,\n",
    "            \"loyalty\": self.loyalty,\n",
    "            \"temperment\": self.temperment,\n",
    "            \"attributes\": self.attributes,\n",
    "            \"messages\": self.messages,\n",
    "        }\n",
    "        return d\n",
    "\n",
    "    def setLoyaltytoCrown(self):\n",
    "        if \"ruler\" in self.role:\n",
    "            self.loyalty = 1\n",
    "        else:\n",
    "            self.loyalty = 0.5\n",
    "\n",
    "    def add_message(self, m):\n",
    "        self.messages.append(m)\n",
    "\n",
    "    def remove_message(self, m):\n",
    "        self.messages = [i for i in self.messages if m not in i]"
   ]
  },
  {
   "cell_type": "code",
   "execution_count": 43,
   "metadata": {},
   "outputs": [
    {
     "data": {
      "text/plain": [
       "Truyik the wanderer"
      ]
     },
     "execution_count": 43,
     "metadata": {},
     "output_type": "execute_result"
    }
   ],
   "source": [
    "person = Person(world)\n",
    "person"
   ]
  },
  {
   "cell_type": "code",
   "execution_count": 44,
   "metadata": {},
   "outputs": [
    {
     "data": {
      "text/plain": [
       "'0:11'"
      ]
     },
     "execution_count": 44,
     "metadata": {},
     "output_type": "execute_result"
    }
   ],
   "source": [
    "person.location"
   ]
  },
  {
   "cell_type": "code",
   "execution_count": 45,
   "metadata": {},
   "outputs": [
    {
     "data": {
      "text/plain": [
       "'plain'"
      ]
     },
     "execution_count": 45,
     "metadata": {},
     "output_type": "execute_result"
    }
   ],
   "source": [
    "person.born_in"
   ]
  },
  {
   "cell_type": "code",
   "execution_count": 46,
   "metadata": {},
   "outputs": [
    {
     "data": {
      "text/plain": [
       "'plain'"
      ]
     },
     "execution_count": 46,
     "metadata": {},
     "output_type": "execute_result"
    }
   ],
   "source": [
    "person.born_in"
   ]
  },
  {
   "cell_type": "code",
   "execution_count": null,
   "metadata": {},
   "outputs": [],
   "source": []
  }
 ],
 "metadata": {
  "kernelspec": {
   "display_name": "Python 3",
   "language": "python",
   "name": "python3"
  },
  "language_info": {
   "codemirror_mode": {
    "name": "ipython",
    "version": 3
   },
   "file_extension": ".py",
   "mimetype": "text/x-python",
   "name": "python",
   "nbconvert_exporter": "python",
   "pygments_lexer": "ipython3",
   "version": "3.7.3"
  }
 },
 "nbformat": 4,
 "nbformat_minor": 2
}
