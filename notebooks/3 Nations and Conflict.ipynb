{
 "cells": [
  {
   "cell_type": "markdown",
   "metadata": {},
   "source": [
    "# Nations and Conflict"
   ]
  },
  {
   "cell_type": "code",
   "execution_count": 1,
   "metadata": {},
   "outputs": [
    {
     "data": {
      "text/plain": [
       "<lib.builders.world.World at 0x7f30eb336080>"
      ]
     },
     "execution_count": 1,
     "metadata": {},
     "output_type": "execute_result"
    }
   ],
   "source": [
    "import pandas as pd\n",
    "import numpy as np\n",
    "import pickle\n",
    "\n",
    "import altair as alt\n",
    "\n",
    "\n",
    "# importing local libraries for drawings (because they clutter)\n",
    "# in Github, you can search  \n",
    "#   They should still be available within the git repo but it's pretty much template stuff from altair\n",
    "import sys\n",
    "sys.path.append('../')\n",
    "from lib.builders import locators,towns,nations\n",
    "import lib.drawMaps as draw\n",
    "\n",
    "with (open('world_2.p', 'rb')) as pickle_file:\n",
    "    world = pickle.load(pickle_file)\n",
    "    \n",
    "world"
   ]
  },
  {
   "cell_type": "markdown",
   "metadata": {},
   "source": [
    "Towns are python objects, each with thier own diplomacy. Land spaces are attributed to nations in a previous stage. "
   ]
  },
  {
   "cell_type": "code",
   "execution_count": 2,
   "metadata": {},
   "outputs": [
    {
     "data": {
      "text/plain": [
       "[capitol of Spinmoral: population: 4 location: [22,39] founded 0,\n",
       " capitol of Splitcoil: population: 5 location: [22,14] founded 1,\n",
       " capitol of Snowgarden: population: 3 location: [34,25] founded 2,\n",
       " town of Godridge: population: 4 location: [18,18] founded 2,\n",
       " capitol of Leafcrest: population: 6 location: [2,30] founded 3,\n",
       " town of Warcrawl: population: 4 location: [37,4] founded 3,\n",
       " capitol of Badgerhaven: population: 5 location: [37,8] founded 3,\n",
       " capitol of Earthcrest: population: 2 location: [3,10] founded 4,\n",
       " capitol of Faircrawl: population: 3 location: [16,0] founded 4,\n",
       " town of Heartplace: population: 3 location: [20,2] founded 4,\n",
       " town of Lilyfellow: population: 2 location: [25,8] founded 5,\n",
       " town of Falljaw: population: 2 location: [20,13] founded 5,\n",
       " town of Flameward: population: 4 location: [9,27] founded 5,\n",
       " capitol of Oakford: population: 3 location: [35,32] founded 5,\n",
       " town of Founder'shail: population: 3 location: [31,32] founded 6,\n",
       " town of Lionspring: population: 3 location: [33,21] founded 6,\n",
       " town of Snowcrawl: population: 1 location: [29,9] founded 7,\n",
       " town of Badgerspring: population: 3 location: [34,6] founded 8,\n",
       " town of Buckkeep: population: 2 location: [7,28] founded 8,\n",
       " town of Spinring: population: 1 location: [31,11] founded 8,\n",
       " town of Ravencombe: population: 3 location: [36,33] founded 8,\n",
       " town of King'sglen: population: 1 location: [35,34] founded 9]"
      ]
     },
     "execution_count": 2,
     "metadata": {},
     "output_type": "execute_result"
    }
   ],
   "source": [
    "world.towns"
   ]
  },
  {
   "cell_type": "code",
   "execution_count": 3,
   "metadata": {},
   "outputs": [
    {
     "name": "stdout",
     "output_type": "stream",
     "text": [
      "Splitcoil is loyal to the nation of Splitcoil\n",
      "{'nation': 'Oakridge', 'national fealty': 1}\n"
     ]
    }
   ],
   "source": [
    "town = world.towns[1]\n",
    "print(f\"{town.name} is loyal to the nation of {town.nation}\")\n",
    "print(f\"{town.diplomacy}\")"
   ]
  },
  {
   "cell_type": "code",
   "execution_count": 4,
   "metadata": {},
   "outputs": [
    {
     "ename": "FileNotFoundError",
     "evalue": "[Errno 2] File b'namegen.csv' does not exist: b'namegen.csv'",
     "output_type": "error",
     "traceback": [
      "\u001b[0;31m---------------------------------------------------------------------------\u001b[0m",
      "\u001b[0;31mFileNotFoundError\u001b[0m                         Traceback (most recent call last)",
      "\u001b[0;32m<ipython-input-4-56c8c1cd5dbb>\u001b[0m in \u001b[0;36m<module>\u001b[0;34m\u001b[0m\n\u001b[1;32m      1\u001b[0m \u001b[0;31m#nations contain cities\u001b[0m\u001b[0;34m\u001b[0m\u001b[0;34m\u001b[0m\u001b[0;34m\u001b[0m\u001b[0m\n\u001b[0;32m----> 2\u001b[0;31m \u001b[0mnameparts\u001b[0m \u001b[0;34m=\u001b[0m \u001b[0mpd\u001b[0m\u001b[0;34m.\u001b[0m\u001b[0mread_csv\u001b[0m\u001b[0;34m(\u001b[0m\u001b[0;34m'namegen.csv'\u001b[0m\u001b[0;34m)\u001b[0m\u001b[0;34m\u001b[0m\u001b[0;34m\u001b[0m\u001b[0m\n\u001b[0m\u001b[1;32m      3\u001b[0m \u001b[0;34m\u001b[0m\u001b[0m\n\u001b[1;32m      4\u001b[0m \u001b[0;32mclass\u001b[0m \u001b[0mperson\u001b[0m\u001b[0;34m:\u001b[0m\u001b[0;34m\u001b[0m\u001b[0;34m\u001b[0m\u001b[0m\n\u001b[1;32m      5\u001b[0m     \u001b[0;32mdef\u001b[0m \u001b[0m__init__\u001b[0m\u001b[0;34m(\u001b[0m\u001b[0mself\u001b[0m\u001b[0;34m,\u001b[0m\u001b[0mrole\u001b[0m\u001b[0;34m,\u001b[0m\u001b[0mlocation\u001b[0m\u001b[0;34m)\u001b[0m\u001b[0;34m:\u001b[0m\u001b[0;34m\u001b[0m\u001b[0;34m\u001b[0m\u001b[0m\n",
      "\u001b[0;32m~/anaconda3/lib/python3.7/site-packages/pandas/io/parsers.py\u001b[0m in \u001b[0;36mparser_f\u001b[0;34m(filepath_or_buffer, sep, delimiter, header, names, index_col, usecols, squeeze, prefix, mangle_dupe_cols, dtype, engine, converters, true_values, false_values, skipinitialspace, skiprows, skipfooter, nrows, na_values, keep_default_na, na_filter, verbose, skip_blank_lines, parse_dates, infer_datetime_format, keep_date_col, date_parser, dayfirst, iterator, chunksize, compression, thousands, decimal, lineterminator, quotechar, quoting, doublequote, escapechar, comment, encoding, dialect, tupleize_cols, error_bad_lines, warn_bad_lines, delim_whitespace, low_memory, memory_map, float_precision)\u001b[0m\n\u001b[1;32m    700\u001b[0m                     skip_blank_lines=skip_blank_lines)\n\u001b[1;32m    701\u001b[0m \u001b[0;34m\u001b[0m\u001b[0m\n\u001b[0;32m--> 702\u001b[0;31m         \u001b[0;32mreturn\u001b[0m \u001b[0m_read\u001b[0m\u001b[0;34m(\u001b[0m\u001b[0mfilepath_or_buffer\u001b[0m\u001b[0;34m,\u001b[0m \u001b[0mkwds\u001b[0m\u001b[0;34m)\u001b[0m\u001b[0;34m\u001b[0m\u001b[0;34m\u001b[0m\u001b[0m\n\u001b[0m\u001b[1;32m    703\u001b[0m \u001b[0;34m\u001b[0m\u001b[0m\n\u001b[1;32m    704\u001b[0m     \u001b[0mparser_f\u001b[0m\u001b[0;34m.\u001b[0m\u001b[0m__name__\u001b[0m \u001b[0;34m=\u001b[0m \u001b[0mname\u001b[0m\u001b[0;34m\u001b[0m\u001b[0;34m\u001b[0m\u001b[0m\n",
      "\u001b[0;32m~/anaconda3/lib/python3.7/site-packages/pandas/io/parsers.py\u001b[0m in \u001b[0;36m_read\u001b[0;34m(filepath_or_buffer, kwds)\u001b[0m\n\u001b[1;32m    427\u001b[0m \u001b[0;34m\u001b[0m\u001b[0m\n\u001b[1;32m    428\u001b[0m     \u001b[0;31m# Create the parser.\u001b[0m\u001b[0;34m\u001b[0m\u001b[0;34m\u001b[0m\u001b[0;34m\u001b[0m\u001b[0m\n\u001b[0;32m--> 429\u001b[0;31m     \u001b[0mparser\u001b[0m \u001b[0;34m=\u001b[0m \u001b[0mTextFileReader\u001b[0m\u001b[0;34m(\u001b[0m\u001b[0mfilepath_or_buffer\u001b[0m\u001b[0;34m,\u001b[0m \u001b[0;34m**\u001b[0m\u001b[0mkwds\u001b[0m\u001b[0;34m)\u001b[0m\u001b[0;34m\u001b[0m\u001b[0;34m\u001b[0m\u001b[0m\n\u001b[0m\u001b[1;32m    430\u001b[0m \u001b[0;34m\u001b[0m\u001b[0m\n\u001b[1;32m    431\u001b[0m     \u001b[0;32mif\u001b[0m \u001b[0mchunksize\u001b[0m \u001b[0;32mor\u001b[0m \u001b[0miterator\u001b[0m\u001b[0;34m:\u001b[0m\u001b[0;34m\u001b[0m\u001b[0;34m\u001b[0m\u001b[0m\n",
      "\u001b[0;32m~/anaconda3/lib/python3.7/site-packages/pandas/io/parsers.py\u001b[0m in \u001b[0;36m__init__\u001b[0;34m(self, f, engine, **kwds)\u001b[0m\n\u001b[1;32m    893\u001b[0m             \u001b[0mself\u001b[0m\u001b[0;34m.\u001b[0m\u001b[0moptions\u001b[0m\u001b[0;34m[\u001b[0m\u001b[0;34m'has_index_names'\u001b[0m\u001b[0;34m]\u001b[0m \u001b[0;34m=\u001b[0m \u001b[0mkwds\u001b[0m\u001b[0;34m[\u001b[0m\u001b[0;34m'has_index_names'\u001b[0m\u001b[0;34m]\u001b[0m\u001b[0;34m\u001b[0m\u001b[0;34m\u001b[0m\u001b[0m\n\u001b[1;32m    894\u001b[0m \u001b[0;34m\u001b[0m\u001b[0m\n\u001b[0;32m--> 895\u001b[0;31m         \u001b[0mself\u001b[0m\u001b[0;34m.\u001b[0m\u001b[0m_make_engine\u001b[0m\u001b[0;34m(\u001b[0m\u001b[0mself\u001b[0m\u001b[0;34m.\u001b[0m\u001b[0mengine\u001b[0m\u001b[0;34m)\u001b[0m\u001b[0;34m\u001b[0m\u001b[0;34m\u001b[0m\u001b[0m\n\u001b[0m\u001b[1;32m    896\u001b[0m \u001b[0;34m\u001b[0m\u001b[0m\n\u001b[1;32m    897\u001b[0m     \u001b[0;32mdef\u001b[0m \u001b[0mclose\u001b[0m\u001b[0;34m(\u001b[0m\u001b[0mself\u001b[0m\u001b[0;34m)\u001b[0m\u001b[0;34m:\u001b[0m\u001b[0;34m\u001b[0m\u001b[0;34m\u001b[0m\u001b[0m\n",
      "\u001b[0;32m~/anaconda3/lib/python3.7/site-packages/pandas/io/parsers.py\u001b[0m in \u001b[0;36m_make_engine\u001b[0;34m(self, engine)\u001b[0m\n\u001b[1;32m   1120\u001b[0m     \u001b[0;32mdef\u001b[0m \u001b[0m_make_engine\u001b[0m\u001b[0;34m(\u001b[0m\u001b[0mself\u001b[0m\u001b[0;34m,\u001b[0m \u001b[0mengine\u001b[0m\u001b[0;34m=\u001b[0m\u001b[0;34m'c'\u001b[0m\u001b[0;34m)\u001b[0m\u001b[0;34m:\u001b[0m\u001b[0;34m\u001b[0m\u001b[0;34m\u001b[0m\u001b[0m\n\u001b[1;32m   1121\u001b[0m         \u001b[0;32mif\u001b[0m \u001b[0mengine\u001b[0m \u001b[0;34m==\u001b[0m \u001b[0;34m'c'\u001b[0m\u001b[0;34m:\u001b[0m\u001b[0;34m\u001b[0m\u001b[0;34m\u001b[0m\u001b[0m\n\u001b[0;32m-> 1122\u001b[0;31m             \u001b[0mself\u001b[0m\u001b[0;34m.\u001b[0m\u001b[0m_engine\u001b[0m \u001b[0;34m=\u001b[0m \u001b[0mCParserWrapper\u001b[0m\u001b[0;34m(\u001b[0m\u001b[0mself\u001b[0m\u001b[0;34m.\u001b[0m\u001b[0mf\u001b[0m\u001b[0;34m,\u001b[0m \u001b[0;34m**\u001b[0m\u001b[0mself\u001b[0m\u001b[0;34m.\u001b[0m\u001b[0moptions\u001b[0m\u001b[0;34m)\u001b[0m\u001b[0;34m\u001b[0m\u001b[0;34m\u001b[0m\u001b[0m\n\u001b[0m\u001b[1;32m   1123\u001b[0m         \u001b[0;32melse\u001b[0m\u001b[0;34m:\u001b[0m\u001b[0;34m\u001b[0m\u001b[0;34m\u001b[0m\u001b[0m\n\u001b[1;32m   1124\u001b[0m             \u001b[0;32mif\u001b[0m \u001b[0mengine\u001b[0m \u001b[0;34m==\u001b[0m \u001b[0;34m'python'\u001b[0m\u001b[0;34m:\u001b[0m\u001b[0;34m\u001b[0m\u001b[0;34m\u001b[0m\u001b[0m\n",
      "\u001b[0;32m~/anaconda3/lib/python3.7/site-packages/pandas/io/parsers.py\u001b[0m in \u001b[0;36m__init__\u001b[0;34m(self, src, **kwds)\u001b[0m\n\u001b[1;32m   1851\u001b[0m         \u001b[0mkwds\u001b[0m\u001b[0;34m[\u001b[0m\u001b[0;34m'usecols'\u001b[0m\u001b[0;34m]\u001b[0m \u001b[0;34m=\u001b[0m \u001b[0mself\u001b[0m\u001b[0;34m.\u001b[0m\u001b[0musecols\u001b[0m\u001b[0;34m\u001b[0m\u001b[0;34m\u001b[0m\u001b[0m\n\u001b[1;32m   1852\u001b[0m \u001b[0;34m\u001b[0m\u001b[0m\n\u001b[0;32m-> 1853\u001b[0;31m         \u001b[0mself\u001b[0m\u001b[0;34m.\u001b[0m\u001b[0m_reader\u001b[0m \u001b[0;34m=\u001b[0m \u001b[0mparsers\u001b[0m\u001b[0;34m.\u001b[0m\u001b[0mTextReader\u001b[0m\u001b[0;34m(\u001b[0m\u001b[0msrc\u001b[0m\u001b[0;34m,\u001b[0m \u001b[0;34m**\u001b[0m\u001b[0mkwds\u001b[0m\u001b[0;34m)\u001b[0m\u001b[0;34m\u001b[0m\u001b[0;34m\u001b[0m\u001b[0m\n\u001b[0m\u001b[1;32m   1854\u001b[0m         \u001b[0mself\u001b[0m\u001b[0;34m.\u001b[0m\u001b[0munnamed_cols\u001b[0m \u001b[0;34m=\u001b[0m \u001b[0mself\u001b[0m\u001b[0;34m.\u001b[0m\u001b[0m_reader\u001b[0m\u001b[0;34m.\u001b[0m\u001b[0munnamed_cols\u001b[0m\u001b[0;34m\u001b[0m\u001b[0;34m\u001b[0m\u001b[0m\n\u001b[1;32m   1855\u001b[0m \u001b[0;34m\u001b[0m\u001b[0m\n",
      "\u001b[0;32mpandas/_libs/parsers.pyx\u001b[0m in \u001b[0;36mpandas._libs.parsers.TextReader.__cinit__\u001b[0;34m()\u001b[0m\n",
      "\u001b[0;32mpandas/_libs/parsers.pyx\u001b[0m in \u001b[0;36mpandas._libs.parsers.TextReader._setup_parser_source\u001b[0;34m()\u001b[0m\n",
      "\u001b[0;31mFileNotFoundError\u001b[0m: [Errno 2] File b'namegen.csv' does not exist: b'namegen.csv'"
     ]
    }
   ],
   "source": [
    "#nations contain cities\n",
    "nameparts = pd.read_csv('namegen.csv')\n",
    "\n",
    "class person:\n",
    "    def __init__(self,role,location):\n",
    "        self.name = self.personNameGenerator()\n",
    "        self.role = role\n",
    "        self.nation = location\n",
    "        self.location = location\n",
    "        self.loyalty = .5\n",
    "        #temperment determines the 'viciousness' of a person's decisons\n",
    "        self.temperment = np.random.random_sample()\n",
    "        \n",
    "        self.setLoyaltytoCrown()\n",
    "        \n",
    "    def __repr__(self):\n",
    "        return f\"{self.name}, {self.role}, residing in {self.nation}\"\n",
    "        \n",
    "    def personNameGenerator(self):\n",
    "        return (np.random.choice(nameparts['1']) + \\\n",
    "                np.random.choice(nameparts['2']) + \\\n",
    "                np.random.choice(nameparts['3'])\n",
    "               ).capitalize()\n",
    "    \n",
    "    def setLoyaltytoCrown(self):\n",
    "        if 'ruler' in self.role:\n",
    "            self.loyalty = 1\n",
    "    \n",
    "class nation:\n",
    "    def __init__(self,name):\n",
    "        self.name = name\n",
    "        self.towns = []\n",
    "        self.diplomacy = {}\n",
    "        self.ruler = 'none'\n",
    "        \n",
    "    def __repr__(self):\n",
    "        return f\"nation of {self.name}\"\n",
    "    \n",
    "    def addTowns(self,towns):\n",
    "        self.towns = [town for town in towns \n",
    "                         if town.diplomacy.get('nation','none')==self.name]\n",
    "        \n",
    "    def getCapitol_str(self):\n",
    "        c = [t.name for t in self.towns if t.type == 'capitol']\n",
    "        return c[0]\n",
    "\n",
    "    def getRuler_str(self):\n",
    "        return self.ruler.name\n",
    "    \n",
    "    def getRuler(self):\n",
    "        return self.ruler\n",
    "    \n",
    "    def addDiplomacy(self,nations):\n",
    "        otherNations = [n for n in nations.values() if n != self.name]\n",
    "        for o in otherNations:\n",
    "            self.diplomacy[o] = {'favor':0,'stance':'neutral'} \n",
    "            \n",
    "    def appointRuler(self):\n",
    "        t = self.getCapitol_str()\n",
    "        self.ruler = person(f'ruler of {self.name}',t)\n",
    "        \n",
    "    def getRandomCity(self):\n",
    "        return np.random.choice(self.towns)\n",
    "\n",
    "    \n",
    "n = nation('Clearcombe')\n",
    "n.addTowns(towns)\n",
    "n.addDiplomacy(landscape['nations'])\n",
    "n.appointRuler()\n",
    "print(n.name)\n",
    "print(n.ruler)\n",
    "print(n.towns)\n",
    "print(n.diplomacy)"
   ]
  },
  {
   "cell_type": "code",
   "execution_count": null,
   "metadata": {},
   "outputs": [],
   "source": [
    "np.random.choice(n.towns)"
   ]
  },
  {
   "cell_type": "code",
   "execution_count": null,
   "metadata": {},
   "outputs": [],
   "source": [
    "n.ruler.temperment"
   ]
  },
  {
   "cell_type": "code",
   "execution_count": null,
   "metadata": {},
   "outputs": [],
   "source": [
    "nations = []\n",
    "for x in landscape['nations'].values():\n",
    "    n = nation(x)\n",
    "    n.addTowns(towns)\n",
    "    n.addDiplomacy(landscape['nations'])\n",
    "    n.appointRuler()\n",
    "    nations.append(n)"
   ]
  },
  {
   "cell_type": "code",
   "execution_count": null,
   "metadata": {},
   "outputs": [],
   "source": [
    "nations"
   ]
  },
  {
   "cell_type": "code",
   "execution_count": null,
   "metadata": {},
   "outputs": [],
   "source": [
    "nations[0].name,nations[0].diplomacy"
   ]
  },
  {
   "cell_type": "code",
   "execution_count": null,
   "metadata": {},
   "outputs": [],
   "source": [
    "def getNation(a):\n",
    "    return [n for n in nations if n.name ==a][0]\n",
    "\n",
    "def alterFavor(a,o,s):\n",
    "    \"\"\"\n",
    "    a = the target nation (obj). a will not change. O's favor of A will change.\n",
    "    o = the nation(s) who's favor is change. O's favor of a will change\n",
    "    (a,[o]) each nation in o's favor of a is changed by s\n",
    "    (a,o) o's favor of a is changed by s\n",
    "    ([a],o) o's favor of each nation in a is changed by s\n",
    "    s = amount of change (int)\n",
    "    \"\"\"\n",
    "    if type(o) == list:\n",
    "        for i in o:\n",
    "            i.diplomacy[a.name]['favor'] += s\n",
    "    elif type(a) == list:\n",
    "         for i in a:\n",
    "            o.diplomacy[i.name]['favor'] += s       \n",
    "    else:\n",
    "        o.diplomacy[a.name]['favor'] += s\n",
    "    \n",
    "getNation('Clearward').diplomacy"
   ]
  },
  {
   "cell_type": "code",
   "execution_count": null,
   "metadata": {},
   "outputs": [],
   "source": [
    "alterFavor(getNation('Godtown'),[getNation('Clearward'),getNation('Clearcombe')],-1)    \n",
    "getNation('Clearward').diplomacy"
   ]
  },
  {
   "cell_type": "code",
   "execution_count": null,
   "metadata": {},
   "outputs": [],
   "source": [
    "nations[1].getCapitol_str()"
   ]
  },
  {
   "cell_type": "code",
   "execution_count": null,
   "metadata": {},
   "outputs": [],
   "source": [
    "events = pd.DataFrame(columns=['n_subjects',\n",
    "                              'n_objects',\n",
    "                              'event',\n",
    "                              'effect_var',\n",
    "                              'effect'])\n",
    "events.loc['raiders'] = [1,3,'raiders from {a}, plundered {o}','favor',-1]\n",
    "events.loc['marrage'] = [1,1,'a princess from {o} was married to {a}','favor',3]\n",
    "events.loc['temple'] = [1,0,'a great temple was founded in the nation of {a}','buildings','temple']\n",
    "events"
   ]
  },
  {
   "cell_type": "code",
   "execution_count": null,
   "metadata": {},
   "outputs": [],
   "source": [
    "landscape['eon'] = 10\n",
    "landscape['chaos'] = .6"
   ]
  },
  {
   "cell_type": "code",
   "execution_count": null,
   "metadata": {},
   "outputs": [],
   "source": [
    "def wheel_of_fate(events,nations,verbose=True):\n",
    "    \"\"\"\n",
    "    a = the subject: the agent, or place where the event happened\n",
    "    o = the object: the reciever of the event\n",
    "    \"\"\"\n",
    "    choice = np.random.choice(events.index)\n",
    "    event = events.loc[choice]\n",
    "    a = np.random.choice(nations,event.n_subjects,replace=False)\n",
    "    o = np.random.choice(nations,event.n_objects,replace=False)\n",
    "    if all([len(a)>0,len(o)>0]):\n",
    "        for ai in a:\n",
    "            alterFavor(ai,[oi for oi in list(o) if oi!=ai],event.effect)         \n",
    "    if verbose:\n",
    "        text = (event.event.replace('{o}',str(o)).replace('{a}',str(a)))    \n",
    "        print(text)\n",
    "    \n",
    "    \n",
    "#now to run through the eons and let fate happen\n",
    "for e in range(landscape['eon']):\n",
    "    if np.random.random_sample()<landscape['chaos']:\n",
    "        wheel_of_fate(events,nations)\n",
    "    else:\n",
    "        print(f'{e}: \\'twas a quiet time')"
   ]
  },
  {
   "cell_type": "code",
   "execution_count": null,
   "metadata": {},
   "outputs": [],
   "source": [
    "getNation('Godtown').diplomacy"
   ]
  },
  {
   "cell_type": "code",
   "execution_count": null,
   "metadata": {},
   "outputs": [],
   "source": []
  }
 ],
 "metadata": {
  "kernelspec": {
   "display_name": "Python 3",
   "language": "python",
   "name": "python3"
  },
  "language_info": {
   "codemirror_mode": {
    "name": "ipython",
    "version": 3
   },
   "file_extension": ".py",
   "mimetype": "text/x-python",
   "name": "python",
   "nbconvert_exporter": "python",
   "pygments_lexer": "ipython3",
   "version": "3.7.3"
  }
 },
 "nbformat": 4,
 "nbformat_minor": 2
}
