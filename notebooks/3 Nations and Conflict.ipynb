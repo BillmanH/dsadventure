{
 "cells": [
  {
   "cell_type": "markdown",
   "metadata": {},
   "source": [
    "# Nations and Conflict"
   ]
  },
  {
   "cell_type": "code",
   "execution_count": 1,
   "metadata": {},
   "outputs": [
    {
     "data": {
      "text/plain": [
       "<lib.builders.world.World at 0x7fd9e450fcc0>"
      ]
     },
     "execution_count": 1,
     "metadata": {},
     "output_type": "execute_result"
    }
   ],
   "source": [
    "import pandas as pd\n",
    "import numpy as np\n",
    "import pickle\n",
    "\n",
    "import altair as alt\n",
    "\n",
    "\n",
    "# importing local libraries for drawings (because they clutter)\n",
    "# in Github, you can search  \n",
    "#   They should still be available within the git repo but it's pretty much template stuff from altair\n",
    "import sys\n",
    "sys.path.append('../')\n",
    "from lib.builders import towns,nations\n",
    "import lib.drawMaps as draw\n",
    "\n",
    "with (open('world_2.p', 'rb')) as pickle_file:\n",
    "    world = pickle.load(pickle_file)\n",
    "    \n",
    "world"
   ]
  },
  {
   "cell_type": "markdown",
   "metadata": {},
   "source": [
    "Towns are python objects, each with thier own diplomacy. Land spaces are attributed to nations in a previous stage. "
   ]
  },
  {
   "cell_type": "code",
   "execution_count": 2,
   "metadata": {},
   "outputs": [
    {
     "data": {
      "text/plain": [
       "[town of Stenchjaw: population: 4 location: [20,22] founded 0,\n",
       " capitol of Flamemoral: population: 2 location: [7,6] founded 1,\n",
       " capitol of Waterblaze: population: 4 location: [38,39] founded 1,\n",
       " capitol of Magegarden: population: 6 location: [22,22] founded 2,\n",
       " capitol of Ragecombe: population: 5 location: [23,6] founded 2,\n",
       " town of Oakmore: population: 2 location: [23,1] founded 3,\n",
       " capitol of Stoneglen: population: 2 location: [18,16] founded 3,\n",
       " town of Lionmain: population: 3 location: [6,11] founded 3,\n",
       " town of King'sspring: population: 2 location: [38,19] founded 4,\n",
       " capitol of Heirhollow: population: 4 location: [29,23] founded 5,\n",
       " capitol of Warplace: population: 4 location: [10,14] founded 5,\n",
       " town of Fenvale: population: 1 location: [27,7] founded 6,\n",
       " town of Waterhollow: population: 2 location: [34,36] founded 7,\n",
       " town of Lionhollow: population: 2 location: [6,15] founded 7,\n",
       " town of Fallrail: population: 1 location: [27,6] founded 7,\n",
       " capitol of Brinehail: population: 3 location: [9,26] founded 8,\n",
       " town of Clearrest: population: 3 location: [8,30] founded 8,\n",
       " town of Splitrail: population: 1 location: [19,22] founded 9,\n",
       " town of Earthplace: population: 1 location: [33,21] founded 9,\n",
       " town of Ragecatch: population: 2 location: [16,15] founded 9]"
      ]
     },
     "execution_count": 2,
     "metadata": {},
     "output_type": "execute_result"
    }
   ],
   "source": [
    "world.towns"
   ]
  },
  {
   "cell_type": "code",
   "execution_count": 3,
   "metadata": {},
   "outputs": [
    {
     "name": "stdout",
     "output_type": "stream",
     "text": [
      "Flamemoral is loyal to the nation of Waterridge\n",
      "{'nation': 'Waterridge', 'national fealty': 1}\n"
     ]
    }
   ],
   "source": [
    "town = world.towns[1]\n",
    "print(f\"{town.name} is loyal to the nation of {town.nation}\")\n",
    "print(f\"{town.diplomacy}\")"
   ]
  },
  {
   "cell_type": "code",
   "execution_count": 4,
   "metadata": {},
   "outputs": [
    {
     "data": {
      "text/plain": [
       "{0: 'Waterridge',\n",
       " 1: 'Earthwish',\n",
       " 2: 'Rattown',\n",
       " 3: 'Heartcraft',\n",
       " 4: 'Stormloch',\n",
       " 5: 'Oakmoral',\n",
       " 6: 'Lionbrook',\n",
       " 7: 'Lilycombe'}"
      ]
     },
     "execution_count": 4,
     "metadata": {},
     "output_type": "execute_result"
    }
   ],
   "source": [
    "world.nations"
   ]
  },
  {
   "cell_type": "code",
   "execution_count": 6,
   "metadata": {},
   "outputs": [
    {
     "ename": "TypeError",
     "evalue": "getCapitol_str() missing 1 required positional argument: 'towns'",
     "output_type": "error",
     "traceback": [
      "\u001b[0;31m---------------------------------------------------------------------------\u001b[0m",
      "\u001b[0;31mTypeError\u001b[0m                                 Traceback (most recent call last)",
      "\u001b[0;32m<ipython-input-6-ab8d51e05c2d>\u001b[0m in \u001b[0;36m<module>\u001b[0;34m\u001b[0m\n\u001b[0;32m----> 1\u001b[0;31m \u001b[0mnations\u001b[0m\u001b[0;34m.\u001b[0m\u001b[0mNation\u001b[0m\u001b[0;34m(\u001b[0m\u001b[0;34m\"Waterridge\"\u001b[0m\u001b[0;34m,\u001b[0m\u001b[0mworld\u001b[0m\u001b[0;34m)\u001b[0m\u001b[0;34m\u001b[0m\u001b[0;34m\u001b[0m\u001b[0m\n\u001b[0m",
      "\u001b[0;32m~/prodweb/game/lib/builders/nations.py\u001b[0m in \u001b[0;36m__init__\u001b[0;34m(self, name, world)\u001b[0m\n\u001b[1;32m     41\u001b[0m         \u001b[0mself\u001b[0m\u001b[0;34m.\u001b[0m\u001b[0mtowns\u001b[0m \u001b[0;34m=\u001b[0m \u001b[0mself\u001b[0m\u001b[0;34m.\u001b[0m\u001b[0maddTowns\u001b[0m\u001b[0;34m(\u001b[0m\u001b[0mworld\u001b[0m\u001b[0;34m.\u001b[0m\u001b[0mtowns\u001b[0m\u001b[0;34m)\u001b[0m\u001b[0;34m\u001b[0m\u001b[0;34m\u001b[0m\u001b[0m\n\u001b[1;32m     42\u001b[0m         \u001b[0mself\u001b[0m\u001b[0;34m.\u001b[0m\u001b[0mdiplomacy\u001b[0m \u001b[0;34m=\u001b[0m \u001b[0mself\u001b[0m\u001b[0;34m.\u001b[0m\u001b[0maddDiplomacy\u001b[0m\u001b[0;34m(\u001b[0m\u001b[0mworld\u001b[0m\u001b[0;34m.\u001b[0m\u001b[0mnations\u001b[0m\u001b[0;34m)\u001b[0m\u001b[0;34m\u001b[0m\u001b[0;34m\u001b[0m\u001b[0m\n\u001b[0;32m---> 43\u001b[0;31m         \u001b[0mself\u001b[0m\u001b[0;34m.\u001b[0m\u001b[0mruler\u001b[0m \u001b[0;34m=\u001b[0m \u001b[0mself\u001b[0m\u001b[0;34m.\u001b[0m\u001b[0mappointRuler\u001b[0m\u001b[0;34m(\u001b[0m\u001b[0;34m)\u001b[0m\u001b[0;34m\u001b[0m\u001b[0;34m\u001b[0m\u001b[0m\n\u001b[0m\u001b[1;32m     44\u001b[0m \u001b[0;34m\u001b[0m\u001b[0m\n\u001b[1;32m     45\u001b[0m     \u001b[0;32mdef\u001b[0m \u001b[0m__repr__\u001b[0m\u001b[0;34m(\u001b[0m\u001b[0mself\u001b[0m\u001b[0;34m)\u001b[0m\u001b[0;34m:\u001b[0m\u001b[0;34m\u001b[0m\u001b[0;34m\u001b[0m\u001b[0m\n",
      "\u001b[0;32m~/prodweb/game/lib/builders/nations.py\u001b[0m in \u001b[0;36mappointRuler\u001b[0;34m(self)\u001b[0m\n\u001b[1;32m     67\u001b[0m \u001b[0;34m\u001b[0m\u001b[0m\n\u001b[1;32m     68\u001b[0m     \u001b[0;32mdef\u001b[0m \u001b[0mappointRuler\u001b[0m\u001b[0;34m(\u001b[0m\u001b[0mself\u001b[0m\u001b[0;34m)\u001b[0m\u001b[0;34m:\u001b[0m\u001b[0;34m\u001b[0m\u001b[0;34m\u001b[0m\u001b[0m\n\u001b[0;32m---> 69\u001b[0;31m         \u001b[0mt\u001b[0m \u001b[0;34m=\u001b[0m \u001b[0mself\u001b[0m\u001b[0;34m.\u001b[0m\u001b[0mgetCapitol_str\u001b[0m\u001b[0;34m(\u001b[0m\u001b[0;34m)\u001b[0m\u001b[0;34m\u001b[0m\u001b[0;34m\u001b[0m\u001b[0m\n\u001b[0m\u001b[1;32m     70\u001b[0m         \u001b[0mself\u001b[0m\u001b[0;34m.\u001b[0m\u001b[0mruler\u001b[0m \u001b[0;34m=\u001b[0m \u001b[0mperson\u001b[0m\u001b[0;34m(\u001b[0m\u001b[0;34mf'ruler of {self.name}'\u001b[0m\u001b[0;34m,\u001b[0m\u001b[0mt\u001b[0m\u001b[0;34m)\u001b[0m\u001b[0;34m\u001b[0m\u001b[0;34m\u001b[0m\u001b[0m\n\u001b[1;32m     71\u001b[0m \u001b[0;34m\u001b[0m\u001b[0m\n",
      "\u001b[0;31mTypeError\u001b[0m: getCapitol_str() missing 1 required positional argument: 'towns'"
     ]
    }
   ],
   "source": [
    "nations.Nation(\"Waterridge\",world)"
   ]
  },
  {
   "cell_type": "code",
   "execution_count": null,
   "metadata": {},
   "outputs": [],
   "source": [
    "all_nations = [nations.Nation(n,world) for n in world.nations.values()]"
   ]
  },
  {
   "cell_type": "code",
   "execution_count": null,
   "metadata": {},
   "outputs": [],
   "source": []
  },
  {
   "cell_type": "code",
   "execution_count": null,
   "metadata": {},
   "outputs": [],
   "source": [
    "[t.type for t in world.towns] "
   ]
  },
  {
   "cell_type": "code",
   "execution_count": null,
   "metadata": {},
   "outputs": [],
   "source": [
    "My hope si that this will break"
   ]
  },
  {
   "cell_type": "code",
   "execution_count": null,
   "metadata": {},
   "outputs": [],
   "source": [
    "np.random.choice(n.towns)"
   ]
  },
  {
   "cell_type": "code",
   "execution_count": null,
   "metadata": {},
   "outputs": [],
   "source": [
    "n.ruler.temperment"
   ]
  },
  {
   "cell_type": "code",
   "execution_count": null,
   "metadata": {},
   "outputs": [],
   "source": [
    "nations = []\n",
    "for x in landscape['nations'].values():\n",
    "    n = nation(x)\n",
    "    n.addTowns(towns)\n",
    "    n.addDiplomacy(landscape['nations'])\n",
    "    n.appointRuler()\n",
    "    nations.append(n)"
   ]
  },
  {
   "cell_type": "code",
   "execution_count": null,
   "metadata": {},
   "outputs": [],
   "source": [
    "nations"
   ]
  },
  {
   "cell_type": "code",
   "execution_count": null,
   "metadata": {},
   "outputs": [],
   "source": [
    "nations[0].name,nations[0].diplomacy"
   ]
  },
  {
   "cell_type": "code",
   "execution_count": null,
   "metadata": {},
   "outputs": [],
   "source": [
    "def getNation(a):\n",
    "    return [n for n in nations if n.name ==a][0]\n",
    "\n",
    "def alterFavor(a,o,s):\n",
    "    \"\"\"\n",
    "    a = the target nation (obj). a will not change. O's favor of A will change.\n",
    "    o = the nation(s) who's favor is change. O's favor of a will change\n",
    "    (a,[o]) each nation in o's favor of a is changed by s\n",
    "    (a,o) o's favor of a is changed by s\n",
    "    ([a],o) o's favor of each nation in a is changed by s\n",
    "    s = amount of change (int)\n",
    "    \"\"\"\n",
    "    if type(o) == list:\n",
    "        for i in o:\n",
    "            i.diplomacy[a.name]['favor'] += s\n",
    "    elif type(a) == list:\n",
    "         for i in a:\n",
    "            o.diplomacy[i.name]['favor'] += s       \n",
    "    else:\n",
    "        o.diplomacy[a.name]['favor'] += s\n",
    "    \n",
    "getNation('Clearward').diplomacy"
   ]
  },
  {
   "cell_type": "code",
   "execution_count": null,
   "metadata": {},
   "outputs": [],
   "source": [
    "alterFavor(getNation('Godtown'),[getNation('Clearward'),getNation('Clearcombe')],-1)    \n",
    "getNation('Clearward').diplomacy"
   ]
  },
  {
   "cell_type": "code",
   "execution_count": null,
   "metadata": {},
   "outputs": [],
   "source": [
    "nations[1].getCapitol_str()"
   ]
  },
  {
   "cell_type": "code",
   "execution_count": null,
   "metadata": {},
   "outputs": [],
   "source": [
    "events = pd.DataFrame(columns=['n_subjects',\n",
    "                              'n_objects',\n",
    "                              'event',\n",
    "                              'effect_var',\n",
    "                              'effect'])\n",
    "events.loc['raiders'] = [1,3,'raiders from {a}, plundered {o}','favor',-1]\n",
    "events.loc['marrage'] = [1,1,'a princess from {o} was married to {a}','favor',3]\n",
    "events.loc['temple'] = [1,0,'a great temple was founded in the nation of {a}','buildings','temple']\n",
    "events"
   ]
  },
  {
   "cell_type": "code",
   "execution_count": null,
   "metadata": {},
   "outputs": [],
   "source": [
    "landscape['eon'] = 10\n",
    "landscape['chaos'] = .6"
   ]
  },
  {
   "cell_type": "code",
   "execution_count": null,
   "metadata": {},
   "outputs": [],
   "source": [
    "def wheel_of_fate(events,nations,verbose=True):\n",
    "    \"\"\"\n",
    "    a = the subject: the agent, or place where the event happened\n",
    "    o = the object: the reciever of the event\n",
    "    \"\"\"\n",
    "    choice = np.random.choice(events.index)\n",
    "    event = events.loc[choice]\n",
    "    a = np.random.choice(nations,event.n_subjects,replace=False)\n",
    "    o = np.random.choice(nations,event.n_objects,replace=False)\n",
    "    if all([len(a)>0,len(o)>0]):\n",
    "        for ai in a:\n",
    "            alterFavor(ai,[oi for oi in list(o) if oi!=ai],event.effect)         \n",
    "    if verbose:\n",
    "        text = (event.event.replace('{o}',str(o)).replace('{a}',str(a)))    \n",
    "        print(text)\n",
    "    \n",
    "    \n",
    "#now to run through the eons and let fate happen\n",
    "for e in range(landscape['eon']):\n",
    "    if np.random.random_sample()<landscape['chaos']:\n",
    "        wheel_of_fate(events,nations)\n",
    "    else:\n",
    "        print(f'{e}: \\'twas a quiet time')"
   ]
  },
  {
   "cell_type": "code",
   "execution_count": null,
   "metadata": {},
   "outputs": [],
   "source": [
    "getNation('Godtown').diplomacy"
   ]
  },
  {
   "cell_type": "code",
   "execution_count": null,
   "metadata": {},
   "outputs": [],
   "source": []
  }
 ],
 "metadata": {
  "kernelspec": {
   "display_name": "Python 3",
   "language": "python",
   "name": "python3"
  },
  "language_info": {
   "codemirror_mode": {
    "name": "ipython",
    "version": 3
   },
   "file_extension": ".py",
   "mimetype": "text/x-python",
   "name": "python",
   "nbconvert_exporter": "python",
   "pygments_lexer": "ipython3",
   "version": "3.7.3"
  }
 },
 "nbformat": 4,
 "nbformat_minor": 2
}
