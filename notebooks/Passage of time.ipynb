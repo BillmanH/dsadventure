{
 "cells": [
  {
   "cell_type": "markdown",
   "metadata": {},
   "source": [
    "# Passage of time"
   ]
  },
  {
   "cell_type": "code",
   "execution_count": 1,
   "metadata": {},
   "outputs": [],
   "source": [
    "#I'm mapping to the actual files in the repo so that I can also use this to troubleshoot\n",
    "import os\n",
    "import sys\n",
    "import numpy as np\n",
    "import pandas as pd\n",
    "import pickle\n",
    "import django\n",
    "sys.path.append('../..')\n",
    "#Loading my project settings from prodweb. This allows me to load and query models. \n",
    "os.environ.setdefault('DJANGO_SETTINGS_MODULE', 'prodweb.settings')\n",
    "django.setup()\n",
    "\n",
    "\n",
    "with (open(\"../pickles/BillmanLocalworld.pkl\", 'rb')) as pickle_file:\n",
    "    world = pickle.load(pickle_file)"
   ]
  },
  {
   "cell_type": "code",
   "execution_count": 2,
   "metadata": {
    "scrolled": true
   },
   "outputs": [],
   "source": [
    "sys.path.append('..')\n",
    "from lib.builders import world as w"
   ]
  },
  {
   "cell_type": "markdown",
   "metadata": {},
   "source": [
    "`w.get_area_data(world)` gets the area relevant to where the character is. This includes surrounding areas."
   ]
  },
  {
   "cell_type": "code",
   "execution_count": 3,
   "metadata": {},
   "outputs": [
    {
     "data": {
      "text/plain": [
       "<game.lib.builders.world.World at 0x1efb7c86e50>"
      ]
     },
     "execution_count": 3,
     "metadata": {},
     "output_type": "execute_result"
    }
   ],
   "source": [
    "world"
   ]
  },
  {
   "cell_type": "markdown",
   "metadata": {},
   "source": [
    "There is a `turn number` which responds to the time that the characater has been playing. "
   ]
  },
  {
   "cell_type": "code",
   "execution_count": 4,
   "metadata": {
    "scrolled": true
   },
   "outputs": [
    {
     "data": {
      "text/plain": [
       "13"
      ]
     },
     "execution_count": 4,
     "metadata": {},
     "output_type": "execute_result"
    }
   ],
   "source": [
    "world.Character.turn_number"
   ]
  },
  {
   "cell_type": "markdown",
   "metadata": {},
   "source": [
    "However there is a `world.year` and `world.season` that tracks the time of year. "
   ]
  },
  {
   "cell_type": "code",
   "execution_count": 5,
   "metadata": {
    "scrolled": true
   },
   "outputs": [
    {
     "data": {
      "text/plain": [
       "(1132, 'spring')"
      ]
     },
     "execution_count": 5,
     "metadata": {},
     "output_type": "execute_result"
    }
   ],
   "source": [
    "world.year, world.season"
   ]
  },
  {
   "cell_type": "markdown",
   "metadata": {},
   "source": [
    "each time the game is saved, some time passes. "
   ]
  },
  {
   "cell_type": "code",
   "execution_count": 6,
   "metadata": {},
   "outputs": [
    {
     "data": {
      "text/plain": [
       "1132.1"
      ]
     },
     "execution_count": 6,
     "metadata": {},
     "output_type": "execute_result"
    }
   ],
   "source": [
    "def get_season(world):\n",
    "    if (world.year%1<.1)|(world.year%1>=.8):\n",
    "        world.season = \"winter\"\n",
    "    if (world.year%1>=.1)&(world.year%1<.3):\n",
    "        world.season = \"spring\"\n",
    "    if (world.year%1>=.3)&(world.year%1<.5):\n",
    "        world.season = \"summer\"\n",
    "    if (world.year%1>=.5)&(world.year%1<.8):\n",
    "        world.season = \"autum\"\n",
    "        \n",
    "def update_world(world, time_passed=.1):\n",
    "    '''\n",
    "    time_passed: Percent of one year\n",
    "    '''\n",
    "    world.year += time_passed\n",
    "    get_season(world)\n",
    "\n",
    "update_world(world)\n",
    "\n",
    "world.year"
   ]
  },
  {
   "cell_type": "markdown",
   "metadata": {},
   "source": [
    "## picking the season"
   ]
  },
  {
   "cell_type": "markdown",
   "metadata": {},
   "source": [
    "the season is porportional to the time of year. "
   ]
  },
  {
   "cell_type": "code",
   "execution_count": 7,
   "metadata": {},
   "outputs": [
    {
     "name": "stdout",
     "output_type": "stream",
     "text": [
      "1132.1999999999998 spring\n",
      "1132.2999999999997 spring\n",
      "1132.3999999999996 summer\n",
      "1132.4999999999995 summer\n",
      "1132.5999999999995 autum\n",
      "1132.6999999999994 autum\n",
      "1132.7999999999993 autum\n",
      "1132.8999999999992 winter\n",
      "1132.999999999999 winter\n",
      "1133.099999999999 winter\n",
      "1133.199999999999 spring\n",
      "1133.2999999999988 spring\n",
      "1133.3999999999987 summer\n",
      "1133.4999999999986 summer\n",
      "1133.5999999999985 autum\n",
      "1133.6999999999985 autum\n",
      "1133.7999999999984 autum\n",
      "1133.8999999999983 winter\n",
      "1133.9999999999982 winter\n",
      "1134.099999999998 winter\n"
     ]
    }
   ],
   "source": [
    "for i in range(20):\n",
    "    update_world(world)\n",
    "    print(world.year, world.season)"
   ]
  },
  {
   "cell_type": "markdown",
   "metadata": {},
   "source": [
    "TODO: Might be fun to add the season thresholds to the `landscape` params. This could mean that you could adjust seasonality and, therefore season effects. "
   ]
  },
  {
   "cell_type": "code",
   "execution_count": null,
   "metadata": {},
   "outputs": [],
   "source": []
  }
 ],
 "metadata": {
  "kernelspec": {
   "display_name": "Python (prodweb)",
   "language": "python",
   "name": "prodweb"
  },
  "language_info": {
   "codemirror_mode": {
    "name": "ipython",
    "version": 3
   },
   "file_extension": ".py",
   "mimetype": "text/x-python",
   "name": "python",
   "nbconvert_exporter": "python",
   "pygments_lexer": "ipython3",
   "version": "3.8.1"
  }
 },
 "nbformat": 4,
 "nbformat_minor": 4
}
