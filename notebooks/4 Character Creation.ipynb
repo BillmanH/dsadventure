{
 "cells": [
  {
   "cell_type": "code",
   "execution_count": 1,
   "metadata": {},
   "outputs": [],
   "source": [
    "import pandas as pd\n",
    "import numpy as np\n",
    "import os\n",
    "\n",
    "#I'm mapping to the actual files in the repo so that I can also use this to troubleshoot\n",
    "import sys,pickle\n",
    "sys.path.append('../')\n",
    "from lib import modify_character\n",
    "\n",
    "from forms import playerCharacterForm\n",
    "\n",
    "with (open('world_1.p', 'rb')) as pickle_file:\n",
    "    world = pickle.load(pickle_file)"
   ]
  },
  {
   "cell_type": "code",
   "execution_count": 2,
   "metadata": {},
   "outputs": [],
   "source": [
    "f = {'background': '1',\n",
    " 'coreskills': '2',\n",
    " 'csrfmiddlewaretoken': 'not a real token',\n",
    " 'name': 'Razmataz',\n",
    " 'secondaryskills': '2'}"
   ]
  },
  {
   "cell_type": "code",
   "execution_count": 3,
   "metadata": {},
   "outputs": [],
   "source": [
    "character_dict = {\n",
    "    'name': f['name'],\n",
    "    'background': dict(playerCharacterForm.backgroundChoices)[f['background']],\n",
    "    'coreskills': dict(playerCharacterForm.coreSkillsChoices)[f['coreskills']],\n",
    "    'secondaryskills': dict(playerCharacterForm.secondarySkillsChoices)[f['secondaryskills']]\n",
    "}"
   ]
  },
  {
   "cell_type": "code",
   "execution_count": 4,
   "metadata": {},
   "outputs": [
    {
     "data": {
      "text/plain": [
       "{'1': 'Noble family',\n",
       " '2': 'Pesant family',\n",
       " '3': 'Temple orphan',\n",
       " '4': 'Nomad family'}"
      ]
     },
     "execution_count": 4,
     "metadata": {},
     "output_type": "execute_result"
    }
   ],
   "source": [
    "dict(playerCharacterForm.backgroundChoices)"
   ]
  },
  {
   "cell_type": "code",
   "execution_count": 5,
   "metadata": {},
   "outputs": [
    {
     "data": {
      "text/plain": [
       "{'1': 'mountaneer',\n",
       " '2': 'desert survival',\n",
       " '3': 'hunting',\n",
       " '4': 'additional language'}"
      ]
     },
     "execution_count": 5,
     "metadata": {},
     "output_type": "execute_result"
    }
   ],
   "source": [
    "dict(playerCharacterForm.secondarySkillsChoices)"
   ]
  },
  {
   "cell_type": "code",
   "execution_count": 6,
   "metadata": {},
   "outputs": [
    {
     "data": {
      "text/plain": [
       "{'1': 'fencing', '2': 'archery', '3': 'spellcasting', '4': 'persuasion'}"
      ]
     },
     "execution_count": 6,
     "metadata": {},
     "output_type": "execute_result"
    }
   ],
   "source": [
    "dict(playerCharacterForm.coreSkillsChoices)"
   ]
  },
  {
   "cell_type": "code",
   "execution_count": 7,
   "metadata": {},
   "outputs": [],
   "source": [
    "world = modify_character.create_character(character_dict,world)"
   ]
  },
  {
   "cell_type": "code",
   "execution_count": 8,
   "metadata": {},
   "outputs": [
    {
     "data": {
      "text/plain": [
       "[0, 14]"
      ]
     },
     "execution_count": 8,
     "metadata": {},
     "output_type": "execute_result"
    }
   ],
   "source": [
    "world.Character.location"
   ]
  },
  {
   "cell_type": "code",
   "execution_count": 9,
   "metadata": {},
   "outputs": [
    {
     "data": {
      "text/plain": [
       "'0:14'"
      ]
     },
     "execution_count": 9,
     "metadata": {},
     "output_type": "execute_result"
    }
   ],
   "source": [
    "world.Character.get_location_key()"
   ]
  },
  {
   "cell_type": "code",
   "execution_count": 10,
   "metadata": {},
   "outputs": [
    {
     "data": {
      "text/plain": [
       "{'x': 0, 'y': 14}"
      ]
     },
     "execution_count": 10,
     "metadata": {},
     "output_type": "execute_result"
    }
   ],
   "source": [
    "world.Character.get_location_dict()"
   ]
  },
  {
   "cell_type": "code",
   "execution_count": 11,
   "metadata": {},
   "outputs": [
    {
     "data": {
      "text/plain": [
       "y                        14\n",
       "rainfall                 13\n",
       "x                         0\n",
       "key                    0:14\n",
       "elevation                 1\n",
       "terrain                town\n",
       "feature          Stonehaven\n",
       "nation number             4\n",
       "nation           Doomhammer\n",
       "z                      City\n",
       "danger                0.629\n",
       "Name: 0:14, dtype: object"
      ]
     },
     "execution_count": 11,
     "metadata": {},
     "output_type": "execute_result"
    }
   ],
   "source": [
    "world.df_features.loc[world.Character.get_location_key()]"
   ]
  },
  {
   "cell_type": "code",
   "execution_count": 12,
   "metadata": {},
   "outputs": [
    {
     "data": {
      "text/plain": [
       "{'name': 'Razmataz',\n",
       " 'message': 'You begin your adventure in capitol of Stonehaven: population: 5 location: [0,14] founded 0 </br> Your nobile family has ties with Chardath the Speaker of Stonehaven. ',\n",
       " 'size': 5,\n",
       " 'speed': 15,\n",
       " 'attributes': ['started'],\n",
       " 'location': '0:14',\n",
       " 'title': 'Honerable court of Chardath the Speaker of Stonehaven',\n",
       " 'composure': 10,\n",
       " 'arriveFrom': 'Center'}"
      ]
     },
     "execution_count": 12,
     "metadata": {},
     "output_type": "execute_result"
    }
   ],
   "source": [
    "world.Character.get_charData()"
   ]
  },
  {
   "cell_type": "code",
   "execution_count": 13,
   "metadata": {},
   "outputs": [
    {
     "data": {
      "text/plain": [
       "Razmataz the adventurer"
      ]
     },
     "execution_count": 13,
     "metadata": {},
     "output_type": "execute_result"
    }
   ],
   "source": [
    "world.Character"
   ]
  },
  {
   "cell_type": "code",
   "execution_count": 14,
   "metadata": {},
   "outputs": [],
   "source": [
    "with open('world_2.p', 'wb') as pickle_file:\n",
    "    pickle.dump(world, pickle_file)"
   ]
  }
 ],
 "metadata": {
  "kernelspec": {
   "display_name": "Python 3",
   "language": "python",
   "name": "python3"
  },
  "language_info": {
   "codemirror_mode": {
    "name": "ipython",
    "version": 3
   },
   "file_extension": ".py",
   "mimetype": "text/x-python",
   "name": "python",
   "nbconvert_exporter": "python",
   "pygments_lexer": "ipython3",
   "version": "3.7.3"
  }
 },
 "nbformat": 4,
 "nbformat_minor": 2
}
