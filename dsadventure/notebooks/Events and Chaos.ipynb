{
 "cells": [
  {
   "cell_type": "markdown",
   "metadata": {},
   "source": [
    "# Random Events and how they affect the world.\n",
    "\n",
    "At eny point `events.event_results(world)` will cause a random event to happen that will change the world in some way. __nothing__ is also a possible outcome. `world.culture.chaos` will determine the likelyhood of an event happening when this method is called. What you see here is what happens at the beginning of the game AND every so often when the character moves from place to place. "
   ]
  },
  {
   "cell_type": "code",
   "execution_count": 1,
   "metadata": {},
   "outputs": [],
   "source": [
    "import pandas as pd\n",
    "import numpy as np\n",
    "import os\n",
    "\n",
    "import os\n",
    "import sys\n",
    "import django\n",
    "sys.path.append('../..')\n",
    "#Loading my project settings from prodweb. This allows me to load and query models. \n",
    "os.environ.setdefault('DJANGO_SETTINGS_MODULE', 'prodweb.settings')\n",
    "django.setup()\n",
    "\n",
    "#I'm mapping to the actual files in the repo so that I can also use this to troubleshoot\n",
    "import sys,pickle\n",
    "sys.path.append('../')\n",
    "from lib.builders import people,towns,nations, events,culture as c\n",
    "\n",
    "\n",
    "with (open('world.p', 'rb')) as pickle_file:\n",
    "    world = pickle.load(pickle_file)"
   ]
  },
  {
   "cell_type": "markdown",
   "metadata": {},
   "source": [
    "Random events happen to nations, although thier effects can change people and places. "
   ]
  },
  {
   "cell_type": "code",
   "execution_count": 2,
   "metadata": {},
   "outputs": [
    {
     "data": {
      "text/plain": [
       "Nation of Helllight"
      ]
     },
     "execution_count": 2,
     "metadata": {},
     "output_type": "execute_result"
    }
   ],
   "source": [
    "example_nation = world.nations[1]\n",
    "example_nation"
   ]
  },
  {
   "cell_type": "code",
   "execution_count": 3,
   "metadata": {},
   "outputs": [
    {
     "data": {
      "text/plain": [
       "y                       20\n",
       "rainfall                11\n",
       "x                       25\n",
       "key                  25:20\n",
       "elevation               26\n",
       "terrain           mountain\n",
       "feature                NaN\n",
       "nation number            1\n",
       "nation           Helllight\n",
       "z                Helllight\n",
       "danger               0.734\n",
       "Name: 25:20, dtype: object"
      ]
     },
     "execution_count": 3,
     "metadata": {},
     "output_type": "execute_result"
    }
   ],
   "source": [
    "key = world.get_filtered_chord(n=example_nation.name,\n",
    "                   r='key',\n",
    "                   t=['desert', 'forest', 'mountain', 'plain'])\n",
    "\n",
    "world.df_features.loc[key]"
   ]
  },
  {
   "cell_type": "markdown",
   "metadata": {},
   "source": [
    "## An events table sorts the events and has all of the information needed to affect the world.\n",
    "* A = The subject, or the nation that did the thing\n",
    "* o = The object, or the nation that got the thing done to\n",
    "* t = the terrain, place where the event affect is placed\n",
    "* e = the eon (turn or year) that the event happened"
   ]
  },
  {
   "cell_type": "code",
   "execution_count": 4,
   "metadata": {},
   "outputs": [
    {
     "data": {
      "text/plain": [
       "['bandits', 'marrage', 'raiders', 'temple']"
      ]
     },
     "execution_count": 4,
     "metadata": {},
     "output_type": "execute_result"
    }
   ],
   "source": [
    "events.get_possible_events()"
   ]
  },
  {
   "cell_type": "code",
   "execution_count": 5,
   "metadata": {},
   "outputs": [
    {
     "data": {
      "text/plain": [
       "<events: events object (bandits)>"
      ]
     },
     "execution_count": 5,
     "metadata": {},
     "output_type": "execute_result"
    }
   ],
   "source": [
    "event = events.get_event(events.get_possible_events()[0])\n",
    "event"
   ]
  },
  {
   "cell_type": "markdown",
   "metadata": {},
   "source": [
    "The method `.event_results()` automatically chooses a random event and activates it. Any effect of the event should be envoked at this step. "
   ]
  },
  {
   "cell_type": "code",
   "execution_count": 6,
   "metadata": {},
   "outputs": [
    {
     "name": "stdout",
     "output_type": "stream",
     "text": [
      "['great_hall']\n"
     ]
    },
    {
     "data": {
      "text/plain": [
       "'{e}: a great temple was founded in the city of Kingsmoral in [Nation of Artspring]'"
      ]
     },
     "execution_count": 6,
     "metadata": {},
     "output_type": "execute_result"
    }
   ],
   "source": [
    "events.event_results(world)"
   ]
  },
  {
   "cell_type": "code",
   "execution_count": 7,
   "metadata": {},
   "outputs": [
    {
     "name": "stdout",
     "output_type": "stream",
     "text": [
      "['great_hall']\n"
     ]
    },
    {
     "data": {
      "text/plain": [
       "'{e}: a great temple was founded in the city of Stoneplace in [Nation of Earthridge]'"
      ]
     },
     "execution_count": 7,
     "metadata": {},
     "output_type": "execute_result"
    }
   ],
   "source": [
    "events.event_results(world)"
   ]
  },
  {
   "cell_type": "markdown",
   "metadata": {},
   "source": [
    "# Resolving the events\n",
    "\n",
    "\n",
    "## Type one: Feature\n",
    "A feature is placed in a part of the terrain.\n",
    "\n",
    "Currently events don't happen at sea. This may change at some point. With panas as my core world database, this is easy as `df.loc[key,'feature'] = feature`. Rendering the feature is taken care of when the user travels to that place. "
   ]
  },
  {
   "cell_type": "code",
   "execution_count": 8,
   "metadata": {},
   "outputs": [
    {
     "name": "stdout",
     "output_type": "stream",
     "text": [
      "29:4 : events object (bandits)\n"
     ]
    },
    {
     "data": {
      "text/plain": [
       "'mountain'"
      ]
     },
     "execution_count": 8,
     "metadata": {},
     "output_type": "execute_result"
    }
   ],
   "source": [
    "def place_feature(world,event):\n",
    "    for n in range(event.n_objects):\n",
    "        n = np.random.choice(world.nations)\n",
    "        key = world.get_filtered_chord(n=n.name,\n",
    "                                       r='key',\n",
    "                                      t=['desert', 'forest', 'mountain', 'plain'])\n",
    "        print(key,\":\",event)\n",
    "        world.df_features.loc[key,'feature'] = event.key\n",
    "        #TODO do something with e (effect amount)\n",
    "        return world.df_features.loc[key,'terrain']\n",
    "\n",
    "place_feature(world,event)"
   ]
  },
  {
   "cell_type": "code",
   "execution_count": 9,
   "metadata": {},
   "outputs": [
    {
     "data": {
      "text/plain": [
       "'Waterblade'"
      ]
     },
     "execution_count": 9,
     "metadata": {},
     "output_type": "execute_result"
    }
   ],
   "source": [
    "nation_with_bandits = world.df_features.loc[world.df_features['feature']=='bandits','nation'][0]\n",
    "nation_with_bandits"
   ]
  },
  {
   "cell_type": "code",
   "execution_count": 10,
   "metadata": {},
   "outputs": [
    {
     "data": {
      "text/html": [
       "<div>\n",
       "<style scoped>\n",
       "    .dataframe tbody tr th:only-of-type {\n",
       "        vertical-align: middle;\n",
       "    }\n",
       "\n",
       "    .dataframe tbody tr th {\n",
       "        vertical-align: top;\n",
       "    }\n",
       "\n",
       "    .dataframe thead th {\n",
       "        text-align: right;\n",
       "    }\n",
       "</style>\n",
       "<table border=\"1\" class=\"dataframe\">\n",
       "  <thead>\n",
       "    <tr style=\"text-align: right;\">\n",
       "      <th></th>\n",
       "      <th>y</th>\n",
       "      <th>rainfall</th>\n",
       "      <th>x</th>\n",
       "      <th>key</th>\n",
       "      <th>elevation</th>\n",
       "      <th>terrain</th>\n",
       "      <th>feature</th>\n",
       "      <th>nation number</th>\n",
       "      <th>nation</th>\n",
       "      <th>z</th>\n",
       "      <th>danger</th>\n",
       "    </tr>\n",
       "    <tr>\n",
       "      <th>key</th>\n",
       "      <th></th>\n",
       "      <th></th>\n",
       "      <th></th>\n",
       "      <th></th>\n",
       "      <th></th>\n",
       "      <th></th>\n",
       "      <th></th>\n",
       "      <th></th>\n",
       "      <th></th>\n",
       "      <th></th>\n",
       "      <th></th>\n",
       "    </tr>\n",
       "  </thead>\n",
       "  <tbody>\n",
       "    <tr>\n",
       "      <th>31:1</th>\n",
       "      <td>1</td>\n",
       "      <td>2.0</td>\n",
       "      <td>31</td>\n",
       "      <td>31:1</td>\n",
       "      <td>23.0</td>\n",
       "      <td>town</td>\n",
       "      <td>Servantswish</td>\n",
       "      <td>0.0</td>\n",
       "      <td>Waterblade</td>\n",
       "      <td>City</td>\n",
       "      <td>1.029</td>\n",
       "    </tr>\n",
       "    <tr>\n",
       "      <th>32:1</th>\n",
       "      <td>1</td>\n",
       "      <td>0.0</td>\n",
       "      <td>32</td>\n",
       "      <td>32:1</td>\n",
       "      <td>28.0</td>\n",
       "      <td>town</td>\n",
       "      <td>Stonebrook</td>\n",
       "      <td>0.0</td>\n",
       "      <td>Waterblade</td>\n",
       "      <td>City</td>\n",
       "      <td>0.422</td>\n",
       "    </tr>\n",
       "    <tr>\n",
       "      <th>34:2</th>\n",
       "      <td>2</td>\n",
       "      <td>0.0</td>\n",
       "      <td>34</td>\n",
       "      <td>34:2</td>\n",
       "      <td>32.0</td>\n",
       "      <td>town</td>\n",
       "      <td>Hellkeep</td>\n",
       "      <td>0.0</td>\n",
       "      <td>Waterblade</td>\n",
       "      <td>City</td>\n",
       "      <td>0.691</td>\n",
       "    </tr>\n",
       "    <tr>\n",
       "      <th>29:4</th>\n",
       "      <td>4</td>\n",
       "      <td>11.0</td>\n",
       "      <td>29</td>\n",
       "      <td>29:4</td>\n",
       "      <td>29.0</td>\n",
       "      <td>mountain</td>\n",
       "      <td>bandits</td>\n",
       "      <td>0.0</td>\n",
       "      <td>Waterblade</td>\n",
       "      <td>Waterblade</td>\n",
       "      <td>0.657</td>\n",
       "    </tr>\n",
       "    <tr>\n",
       "      <th>33:4</th>\n",
       "      <td>4</td>\n",
       "      <td>0.0</td>\n",
       "      <td>33</td>\n",
       "      <td>33:4</td>\n",
       "      <td>36.0</td>\n",
       "      <td>town</td>\n",
       "      <td>Demonsblade</td>\n",
       "      <td>0.0</td>\n",
       "      <td>Waterblade</td>\n",
       "      <td>City</td>\n",
       "      <td>0.513</td>\n",
       "    </tr>\n",
       "  </tbody>\n",
       "</table>\n",
       "</div>"
      ],
      "text/plain": [
       "      y  rainfall   x   key  elevation   terrain       feature  nation number  \\\n",
       "key                                                                             \n",
       "31:1  1       2.0  31  31:1       23.0      town  Servantswish            0.0   \n",
       "32:1  1       0.0  32  32:1       28.0      town    Stonebrook            0.0   \n",
       "34:2  2       0.0  34  34:2       32.0      town      Hellkeep            0.0   \n",
       "29:4  4      11.0  29  29:4       29.0  mountain       bandits            0.0   \n",
       "33:4  4       0.0  33  33:4       36.0      town   Demonsblade            0.0   \n",
       "\n",
       "          nation           z  danger  \n",
       "key                                   \n",
       "31:1  Waterblade        City   1.029  \n",
       "32:1  Waterblade        City   0.422  \n",
       "34:2  Waterblade        City   0.691  \n",
       "29:4  Waterblade  Waterblade   0.657  \n",
       "33:4  Waterblade        City   0.513  "
      ]
     },
     "execution_count": 10,
     "metadata": {},
     "output_type": "execute_result"
    }
   ],
   "source": [
    "world.df_features[(world.df_features['feature'].isnull()==False) &\n",
    "                 (world.df_features['nation']==nation_with_bandits)]"
   ]
  },
  {
   "cell_type": "markdown",
   "metadata": {},
   "source": [
    "You can see that this feature has been added to this area.  "
   ]
  },
  {
   "cell_type": "markdown",
   "metadata": {},
   "source": [
    "## Type Two: Favor of one nation is altered\n",
    "Requires a __subject__ and an __object__. "
   ]
  },
  {
   "cell_type": "code",
   "execution_count": 11,
   "metadata": {},
   "outputs": [
    {
     "data": {
      "text/plain": [
       "<events: events object (marrage)>"
      ]
     },
     "execution_count": 11,
     "metadata": {},
     "output_type": "execute_result"
    }
   ],
   "source": [
    "event = events.get_event('marrage')\n",
    "event"
   ]
  },
  {
   "cell_type": "code",
   "execution_count": 12,
   "metadata": {},
   "outputs": [
    {
     "data": {
      "text/plain": [
       "('favor', Decimal('0.30'))"
      ]
     },
     "execution_count": 12,
     "metadata": {},
     "output_type": "execute_result"
    }
   ],
   "source": [
    "event.effect_var, event.effect"
   ]
  },
  {
   "cell_type": "code",
   "execution_count": 13,
   "metadata": {},
   "outputs": [
    {
     "data": {
      "text/plain": [
       "{'Waterblade': {'favor': 0.4, 'stance': 'tense'},\n",
       " 'Gleamridge': {'favor': 0.8, 'stance': 'peace'},\n",
       " 'Demonslight': {'favor': 0.8, 'stance': 'peace'},\n",
       " 'Earthridge': {'favor': 0.8, 'stance': 'peace'},\n",
       " 'Landsspring': {'favor': 0.8, 'stance': 'peace'},\n",
       " 'Artspring': {'favor': 0.8, 'stance': 'peace'},\n",
       " 'Camtear': {'favor': 0.8, 'stance': 'peace'}}"
      ]
     },
     "execution_count": 13,
     "metadata": {},
     "output_type": "execute_result"
    }
   ],
   "source": [
    "[(n.diplomacy) for n in world.nations][1]"
   ]
  },
  {
   "cell_type": "code",
   "execution_count": 14,
   "metadata": {},
   "outputs": [
    {
     "data": {
      "text/html": [
       "<div>\n",
       "<style scoped>\n",
       "    .dataframe tbody tr th:only-of-type {\n",
       "        vertical-align: middle;\n",
       "    }\n",
       "\n",
       "    .dataframe tbody tr th {\n",
       "        vertical-align: top;\n",
       "    }\n",
       "\n",
       "    .dataframe thead th {\n",
       "        text-align: right;\n",
       "    }\n",
       "</style>\n",
       "<table border=\"1\" class=\"dataframe\">\n",
       "  <thead>\n",
       "    <tr style=\"text-align: right;\">\n",
       "      <th></th>\n",
       "      <th>nation</th>\n",
       "      <th>neighbor</th>\n",
       "      <th>favor</th>\n",
       "      <th>stance</th>\n",
       "    </tr>\n",
       "  </thead>\n",
       "  <tbody>\n",
       "    <tr>\n",
       "      <th>0</th>\n",
       "      <td>Waterblade</td>\n",
       "      <td>Helllight</td>\n",
       "      <td>0.65</td>\n",
       "      <td>peace</td>\n",
       "    </tr>\n",
       "    <tr>\n",
       "      <th>1</th>\n",
       "      <td>Waterblade</td>\n",
       "      <td>Gleamridge</td>\n",
       "      <td>0.8</td>\n",
       "      <td>peace</td>\n",
       "    </tr>\n",
       "    <tr>\n",
       "      <th>2</th>\n",
       "      <td>Waterblade</td>\n",
       "      <td>Demonslight</td>\n",
       "      <td>0.8</td>\n",
       "      <td>peace</td>\n",
       "    </tr>\n",
       "    <tr>\n",
       "      <th>3</th>\n",
       "      <td>Waterblade</td>\n",
       "      <td>Earthridge</td>\n",
       "      <td>0.8</td>\n",
       "      <td>peace</td>\n",
       "    </tr>\n",
       "    <tr>\n",
       "      <th>4</th>\n",
       "      <td>Waterblade</td>\n",
       "      <td>Landsspring</td>\n",
       "      <td>0.8</td>\n",
       "      <td>peace</td>\n",
       "    </tr>\n",
       "    <tr>\n",
       "      <th>5</th>\n",
       "      <td>Waterblade</td>\n",
       "      <td>Artspring</td>\n",
       "      <td>0.8</td>\n",
       "      <td>peace</td>\n",
       "    </tr>\n",
       "    <tr>\n",
       "      <th>6</th>\n",
       "      <td>Waterblade</td>\n",
       "      <td>Camtear</td>\n",
       "      <td>0.8</td>\n",
       "      <td>peace</td>\n",
       "    </tr>\n",
       "    <tr>\n",
       "      <th>7</th>\n",
       "      <td>Helllight</td>\n",
       "      <td>Waterblade</td>\n",
       "      <td>0.4</td>\n",
       "      <td>tense</td>\n",
       "    </tr>\n",
       "    <tr>\n",
       "      <th>8</th>\n",
       "      <td>Helllight</td>\n",
       "      <td>Gleamridge</td>\n",
       "      <td>0.8</td>\n",
       "      <td>peace</td>\n",
       "    </tr>\n",
       "    <tr>\n",
       "      <th>9</th>\n",
       "      <td>Helllight</td>\n",
       "      <td>Demonslight</td>\n",
       "      <td>0.8</td>\n",
       "      <td>peace</td>\n",
       "    </tr>\n",
       "    <tr>\n",
       "      <th>10</th>\n",
       "      <td>Helllight</td>\n",
       "      <td>Earthridge</td>\n",
       "      <td>0.8</td>\n",
       "      <td>peace</td>\n",
       "    </tr>\n",
       "    <tr>\n",
       "      <th>11</th>\n",
       "      <td>Helllight</td>\n",
       "      <td>Landsspring</td>\n",
       "      <td>0.8</td>\n",
       "      <td>peace</td>\n",
       "    </tr>\n",
       "    <tr>\n",
       "      <th>12</th>\n",
       "      <td>Helllight</td>\n",
       "      <td>Artspring</td>\n",
       "      <td>0.8</td>\n",
       "      <td>peace</td>\n",
       "    </tr>\n",
       "    <tr>\n",
       "      <th>13</th>\n",
       "      <td>Helllight</td>\n",
       "      <td>Camtear</td>\n",
       "      <td>0.8</td>\n",
       "      <td>peace</td>\n",
       "    </tr>\n",
       "    <tr>\n",
       "      <th>14</th>\n",
       "      <td>Gleamridge</td>\n",
       "      <td>Waterblade</td>\n",
       "      <td>0.4</td>\n",
       "      <td>tense</td>\n",
       "    </tr>\n",
       "    <tr>\n",
       "      <th>15</th>\n",
       "      <td>Gleamridge</td>\n",
       "      <td>Helllight</td>\n",
       "      <td>0.8</td>\n",
       "      <td>peace</td>\n",
       "    </tr>\n",
       "    <tr>\n",
       "      <th>16</th>\n",
       "      <td>Gleamridge</td>\n",
       "      <td>Demonslight</td>\n",
       "      <td>0.8</td>\n",
       "      <td>peace</td>\n",
       "    </tr>\n",
       "    <tr>\n",
       "      <th>17</th>\n",
       "      <td>Gleamridge</td>\n",
       "      <td>Earthridge</td>\n",
       "      <td>0.8</td>\n",
       "      <td>peace</td>\n",
       "    </tr>\n",
       "    <tr>\n",
       "      <th>18</th>\n",
       "      <td>Gleamridge</td>\n",
       "      <td>Landsspring</td>\n",
       "      <td>0.65</td>\n",
       "      <td>peace</td>\n",
       "    </tr>\n",
       "    <tr>\n",
       "      <th>19</th>\n",
       "      <td>Gleamridge</td>\n",
       "      <td>Artspring</td>\n",
       "      <td>0.65</td>\n",
       "      <td>peace</td>\n",
       "    </tr>\n",
       "    <tr>\n",
       "      <th>20</th>\n",
       "      <td>Gleamridge</td>\n",
       "      <td>Camtear</td>\n",
       "      <td>0.8</td>\n",
       "      <td>peace</td>\n",
       "    </tr>\n",
       "    <tr>\n",
       "      <th>21</th>\n",
       "      <td>Demonslight</td>\n",
       "      <td>Waterblade</td>\n",
       "      <td>0.8</td>\n",
       "      <td>peace</td>\n",
       "    </tr>\n",
       "    <tr>\n",
       "      <th>22</th>\n",
       "      <td>Demonslight</td>\n",
       "      <td>Helllight</td>\n",
       "      <td>0.65</td>\n",
       "      <td>peace</td>\n",
       "    </tr>\n",
       "    <tr>\n",
       "      <th>23</th>\n",
       "      <td>Demonslight</td>\n",
       "      <td>Gleamridge</td>\n",
       "      <td>0.8</td>\n",
       "      <td>peace</td>\n",
       "    </tr>\n",
       "    <tr>\n",
       "      <th>24</th>\n",
       "      <td>Demonslight</td>\n",
       "      <td>Earthridge</td>\n",
       "      <td>0.8</td>\n",
       "      <td>peace</td>\n",
       "    </tr>\n",
       "    <tr>\n",
       "      <th>25</th>\n",
       "      <td>Demonslight</td>\n",
       "      <td>Landsspring</td>\n",
       "      <td>0.8</td>\n",
       "      <td>peace</td>\n",
       "    </tr>\n",
       "    <tr>\n",
       "      <th>26</th>\n",
       "      <td>Demonslight</td>\n",
       "      <td>Artspring</td>\n",
       "      <td>0.65</td>\n",
       "      <td>peace</td>\n",
       "    </tr>\n",
       "    <tr>\n",
       "      <th>27</th>\n",
       "      <td>Demonslight</td>\n",
       "      <td>Camtear</td>\n",
       "      <td>0.8</td>\n",
       "      <td>peace</td>\n",
       "    </tr>\n",
       "    <tr>\n",
       "      <th>28</th>\n",
       "      <td>Earthridge</td>\n",
       "      <td>Waterblade</td>\n",
       "      <td>0.8</td>\n",
       "      <td>peace</td>\n",
       "    </tr>\n",
       "    <tr>\n",
       "      <th>29</th>\n",
       "      <td>Earthridge</td>\n",
       "      <td>Helllight</td>\n",
       "      <td>0.8</td>\n",
       "      <td>peace</td>\n",
       "    </tr>\n",
       "    <tr>\n",
       "      <th>30</th>\n",
       "      <td>Earthridge</td>\n",
       "      <td>Gleamridge</td>\n",
       "      <td>0.8</td>\n",
       "      <td>peace</td>\n",
       "    </tr>\n",
       "    <tr>\n",
       "      <th>31</th>\n",
       "      <td>Earthridge</td>\n",
       "      <td>Demonslight</td>\n",
       "      <td>0.8</td>\n",
       "      <td>peace</td>\n",
       "    </tr>\n",
       "    <tr>\n",
       "      <th>32</th>\n",
       "      <td>Earthridge</td>\n",
       "      <td>Landsspring</td>\n",
       "      <td>0.65</td>\n",
       "      <td>peace</td>\n",
       "    </tr>\n",
       "    <tr>\n",
       "      <th>33</th>\n",
       "      <td>Earthridge</td>\n",
       "      <td>Artspring</td>\n",
       "      <td>0.8</td>\n",
       "      <td>peace</td>\n",
       "    </tr>\n",
       "    <tr>\n",
       "      <th>34</th>\n",
       "      <td>Earthridge</td>\n",
       "      <td>Camtear</td>\n",
       "      <td>0.8</td>\n",
       "      <td>peace</td>\n",
       "    </tr>\n",
       "    <tr>\n",
       "      <th>35</th>\n",
       "      <td>Landsspring</td>\n",
       "      <td>Waterblade</td>\n",
       "      <td>0.65</td>\n",
       "      <td>peace</td>\n",
       "    </tr>\n",
       "    <tr>\n",
       "      <th>36</th>\n",
       "      <td>Landsspring</td>\n",
       "      <td>Helllight</td>\n",
       "      <td>0.8</td>\n",
       "      <td>peace</td>\n",
       "    </tr>\n",
       "    <tr>\n",
       "      <th>37</th>\n",
       "      <td>Landsspring</td>\n",
       "      <td>Gleamridge</td>\n",
       "      <td>1</td>\n",
       "      <td>allies</td>\n",
       "    </tr>\n",
       "    <tr>\n",
       "      <th>38</th>\n",
       "      <td>Landsspring</td>\n",
       "      <td>Demonslight</td>\n",
       "      <td>1</td>\n",
       "      <td>allies</td>\n",
       "    </tr>\n",
       "    <tr>\n",
       "      <th>39</th>\n",
       "      <td>Landsspring</td>\n",
       "      <td>Earthridge</td>\n",
       "      <td>0.8</td>\n",
       "      <td>peace</td>\n",
       "    </tr>\n",
       "    <tr>\n",
       "      <th>40</th>\n",
       "      <td>Landsspring</td>\n",
       "      <td>Artspring</td>\n",
       "      <td>0.8</td>\n",
       "      <td>peace</td>\n",
       "    </tr>\n",
       "    <tr>\n",
       "      <th>41</th>\n",
       "      <td>Landsspring</td>\n",
       "      <td>Camtear</td>\n",
       "      <td>0.8</td>\n",
       "      <td>peace</td>\n",
       "    </tr>\n",
       "    <tr>\n",
       "      <th>42</th>\n",
       "      <td>Artspring</td>\n",
       "      <td>Waterblade</td>\n",
       "      <td>1</td>\n",
       "      <td>allies</td>\n",
       "    </tr>\n",
       "    <tr>\n",
       "      <th>43</th>\n",
       "      <td>Artspring</td>\n",
       "      <td>Helllight</td>\n",
       "      <td>0.65</td>\n",
       "      <td>peace</td>\n",
       "    </tr>\n",
       "    <tr>\n",
       "      <th>44</th>\n",
       "      <td>Artspring</td>\n",
       "      <td>Gleamridge</td>\n",
       "      <td>0.8</td>\n",
       "      <td>peace</td>\n",
       "    </tr>\n",
       "    <tr>\n",
       "      <th>45</th>\n",
       "      <td>Artspring</td>\n",
       "      <td>Demonslight</td>\n",
       "      <td>0.8</td>\n",
       "      <td>peace</td>\n",
       "    </tr>\n",
       "    <tr>\n",
       "      <th>46</th>\n",
       "      <td>Artspring</td>\n",
       "      <td>Earthridge</td>\n",
       "      <td>0.8</td>\n",
       "      <td>peace</td>\n",
       "    </tr>\n",
       "    <tr>\n",
       "      <th>47</th>\n",
       "      <td>Artspring</td>\n",
       "      <td>Landsspring</td>\n",
       "      <td>0.65</td>\n",
       "      <td>peace</td>\n",
       "    </tr>\n",
       "    <tr>\n",
       "      <th>48</th>\n",
       "      <td>Artspring</td>\n",
       "      <td>Camtear</td>\n",
       "      <td>0.8</td>\n",
       "      <td>peace</td>\n",
       "    </tr>\n",
       "    <tr>\n",
       "      <th>49</th>\n",
       "      <td>Camtear</td>\n",
       "      <td>Waterblade</td>\n",
       "      <td>0.8</td>\n",
       "      <td>peace</td>\n",
       "    </tr>\n",
       "    <tr>\n",
       "      <th>50</th>\n",
       "      <td>Camtear</td>\n",
       "      <td>Helllight</td>\n",
       "      <td>0.8</td>\n",
       "      <td>peace</td>\n",
       "    </tr>\n",
       "    <tr>\n",
       "      <th>51</th>\n",
       "      <td>Camtear</td>\n",
       "      <td>Gleamridge</td>\n",
       "      <td>0.8</td>\n",
       "      <td>peace</td>\n",
       "    </tr>\n",
       "    <tr>\n",
       "      <th>52</th>\n",
       "      <td>Camtear</td>\n",
       "      <td>Demonslight</td>\n",
       "      <td>0.8</td>\n",
       "      <td>peace</td>\n",
       "    </tr>\n",
       "    <tr>\n",
       "      <th>53</th>\n",
       "      <td>Camtear</td>\n",
       "      <td>Earthridge</td>\n",
       "      <td>0.8</td>\n",
       "      <td>peace</td>\n",
       "    </tr>\n",
       "    <tr>\n",
       "      <th>54</th>\n",
       "      <td>Camtear</td>\n",
       "      <td>Landsspring</td>\n",
       "      <td>0.8</td>\n",
       "      <td>peace</td>\n",
       "    </tr>\n",
       "    <tr>\n",
       "      <th>55</th>\n",
       "      <td>Camtear</td>\n",
       "      <td>Artspring</td>\n",
       "      <td>0.65</td>\n",
       "      <td>peace</td>\n",
       "    </tr>\n",
       "  </tbody>\n",
       "</table>\n",
       "</div>"
      ],
      "text/plain": [
       "         nation     neighbor favor  stance\n",
       "0    Waterblade    Helllight  0.65   peace\n",
       "1    Waterblade   Gleamridge   0.8   peace\n",
       "2    Waterblade  Demonslight   0.8   peace\n",
       "3    Waterblade   Earthridge   0.8   peace\n",
       "4    Waterblade  Landsspring   0.8   peace\n",
       "5    Waterblade    Artspring   0.8   peace\n",
       "6    Waterblade      Camtear   0.8   peace\n",
       "7     Helllight   Waterblade   0.4   tense\n",
       "8     Helllight   Gleamridge   0.8   peace\n",
       "9     Helllight  Demonslight   0.8   peace\n",
       "10    Helllight   Earthridge   0.8   peace\n",
       "11    Helllight  Landsspring   0.8   peace\n",
       "12    Helllight    Artspring   0.8   peace\n",
       "13    Helllight      Camtear   0.8   peace\n",
       "14   Gleamridge   Waterblade   0.4   tense\n",
       "15   Gleamridge    Helllight   0.8   peace\n",
       "16   Gleamridge  Demonslight   0.8   peace\n",
       "17   Gleamridge   Earthridge   0.8   peace\n",
       "18   Gleamridge  Landsspring  0.65   peace\n",
       "19   Gleamridge    Artspring  0.65   peace\n",
       "20   Gleamridge      Camtear   0.8   peace\n",
       "21  Demonslight   Waterblade   0.8   peace\n",
       "22  Demonslight    Helllight  0.65   peace\n",
       "23  Demonslight   Gleamridge   0.8   peace\n",
       "24  Demonslight   Earthridge   0.8   peace\n",
       "25  Demonslight  Landsspring   0.8   peace\n",
       "26  Demonslight    Artspring  0.65   peace\n",
       "27  Demonslight      Camtear   0.8   peace\n",
       "28   Earthridge   Waterblade   0.8   peace\n",
       "29   Earthridge    Helllight   0.8   peace\n",
       "30   Earthridge   Gleamridge   0.8   peace\n",
       "31   Earthridge  Demonslight   0.8   peace\n",
       "32   Earthridge  Landsspring  0.65   peace\n",
       "33   Earthridge    Artspring   0.8   peace\n",
       "34   Earthridge      Camtear   0.8   peace\n",
       "35  Landsspring   Waterblade  0.65   peace\n",
       "36  Landsspring    Helllight   0.8   peace\n",
       "37  Landsspring   Gleamridge     1  allies\n",
       "38  Landsspring  Demonslight     1  allies\n",
       "39  Landsspring   Earthridge   0.8   peace\n",
       "40  Landsspring    Artspring   0.8   peace\n",
       "41  Landsspring      Camtear   0.8   peace\n",
       "42    Artspring   Waterblade     1  allies\n",
       "43    Artspring    Helllight  0.65   peace\n",
       "44    Artspring   Gleamridge   0.8   peace\n",
       "45    Artspring  Demonslight   0.8   peace\n",
       "46    Artspring   Earthridge   0.8   peace\n",
       "47    Artspring  Landsspring  0.65   peace\n",
       "48    Artspring      Camtear   0.8   peace\n",
       "49      Camtear   Waterblade   0.8   peace\n",
       "50      Camtear    Helllight   0.8   peace\n",
       "51      Camtear   Gleamridge   0.8   peace\n",
       "52      Camtear  Demonslight   0.8   peace\n",
       "53      Camtear   Earthridge   0.8   peace\n",
       "54      Camtear  Landsspring   0.8   peace\n",
       "55      Camtear    Artspring  0.65   peace"
      ]
     },
     "execution_count": 14,
     "metadata": {},
     "output_type": "execute_result"
    }
   ],
   "source": [
    "def get_deplomacy_df(nation):\n",
    "    d = pd.DataFrame(nation.diplomacy).T.reset_index(drop=False)\n",
    "    d['nation'] = nation.name\n",
    "    d.columns = ['neighbor','favor','stance','nation']\n",
    "    return d[['nation','neighbor','favor','stance']]\n",
    "    \n",
    "\n",
    "def get_world_diplomacy(nations):\n",
    "    diplomacy = pd.concat([get_deplomacy_df(n) for n in world.nations],sort=False).reset_index(drop=True)\n",
    "    return diplomacy\n",
    "\n",
    "get_world_diplomacy(world.nations)\n",
    "\n",
    "# get_deplomacy_df(world.nations[0])"
   ]
  },
  {
   "cell_type": "markdown",
   "metadata": {},
   "source": [
    "# Cycling through many events is just a loop"
   ]
  },
  {
   "cell_type": "code",
   "execution_count": 15,
   "metadata": {},
   "outputs": [
    {
     "name": "stdout",
     "output_type": "stream",
     "text": [
      "['great_hall']\n",
      "0: a great temple was founded in the city of Hellkeep in [Nation of Waterblade]\n",
      "1: bandits have set up camp in the None of [Nation of Gleamridge]\n",
      "2: raiders from [Nation of Landsspring], plundered [Nation of Earthridge, Nation of Demonslight, Nation of Helllight]\n",
      "3: a noble from [Nation of Landsspring] was married to a noble in [Nation of Landsspring]\n",
      "4: a noble from [Nation of Gleamridge] was married to a noble in [Nation of Artspring]\n",
      "5: raiders from [Nation of Helllight], plundered [Nation of Artspring, Nation of Helllight, Nation of Earthridge]\n",
      "['great_hall']\n",
      "6: a great temple was founded in the city of Tearhail in [Nation of Demonslight]\n",
      "['great_hall', 'temple']\n",
      "7: a great temple was founded in the city of Buckwish in [Nation of Landsspring]\n",
      "['great_hall', 'temple']\n",
      "8: a great temple was founded in the city of Stoneplace in [Nation of Earthridge]\n",
      "9: raiders from [Nation of Artspring], plundered [Nation of Camtear, Nation of Waterblade, Nation of Helllight]\n"
     ]
    }
   ],
   "source": [
    "for i in range(10):\n",
    "    x = events.event_results(world)\n",
    "    print(x.replace(\"{e}\",str(i)))"
   ]
  },
  {
   "cell_type": "markdown",
   "metadata": {},
   "source": [
    "Now I'll look into those events to see that they did get placed. "
   ]
  },
  {
   "cell_type": "code",
   "execution_count": 16,
   "metadata": {},
   "outputs": [
    {
     "data": {
      "text/plain": [
       "array(['Artspring', 'Camtear', 'Demonslight', 'Earthridge', 'Gleamridge',\n",
       "       'Helllight', 'Landsspring', 'Waterblade'], dtype=object)"
      ]
     },
     "execution_count": 16,
     "metadata": {},
     "output_type": "execute_result"
    }
   ],
   "source": [
    "np.unique(world.df_features['nation'].dropna())"
   ]
  },
  {
   "cell_type": "code",
   "execution_count": null,
   "metadata": {},
   "outputs": [],
   "source": []
  }
 ],
 "metadata": {
  "kernelspec": {
   "display_name": "Python 3",
   "language": "python",
   "name": "python3"
  },
  "language_info": {
   "codemirror_mode": {
    "name": "ipython",
    "version": 3
   },
   "file_extension": ".py",
   "mimetype": "text/x-python",
   "name": "python",
   "nbconvert_exporter": "python",
   "pygments_lexer": "ipython3",
   "version": "3.7.3"
  }
 },
 "nbformat": 4,
 "nbformat_minor": 2
}
