{
 "cells": [
  {
   "cell_type": "code",
   "execution_count": 1,
   "metadata": {},
   "outputs": [],
   "source": [
    "import pandas as pd\n",
    "import numpy as np\n",
    "import os\n",
    "\n",
    "#I'm mapping to the actual files in the repo so that I can also use this to troubleshoot\n",
    "import sys,pickle\n",
    "sys.path.append('../')\n",
    "from lib import modify_character\n",
    "\n",
    "from forms import playerCharacterForm\n",
    "\n",
    "with (open('world.p', 'rb')) as pickle_file:\n",
    "    world = pickle.load(pickle_file)"
   ]
  },
  {
   "cell_type": "markdown",
   "metadata": {},
   "source": [
    "To change the coices available for characters, modify the user form. "
   ]
  },
  {
   "cell_type": "code",
   "execution_count": 2,
   "metadata": {},
   "outputs": [
    {
     "data": {
      "text/plain": [
       "{'1': 'mountaneer',\n",
       " '2': 'desert survival',\n",
       " '3': 'hunting',\n",
       " '4': 'additional language'}"
      ]
     },
     "execution_count": 2,
     "metadata": {},
     "output_type": "execute_result"
    }
   ],
   "source": [
    "dict(playerCharacterForm.secondarySkillsChoices)"
   ]
  },
  {
   "cell_type": "code",
   "execution_count": 3,
   "metadata": {},
   "outputs": [
    {
     "data": {
      "text/plain": [
       "{'1': 'fencing', '2': 'archery', '3': 'spellcasting', '4': 'persuasion'}"
      ]
     },
     "execution_count": 3,
     "metadata": {},
     "output_type": "execute_result"
    }
   ],
   "source": [
    "dict(playerCharacterForm.coreSkillsChoices)"
   ]
  },
  {
   "cell_type": "markdown",
   "metadata": {},
   "source": [
    "### Simulate a userform from the web POST request:\n",
    "For the purposes of this notebook, I'm simulating a webform with a `dict` that would come from the userform. \n"
   ]
  },
  {
   "cell_type": "code",
   "execution_count": 4,
   "metadata": {},
   "outputs": [],
   "source": [
    "f = {'background': '1',\n",
    " 'coreskills': '2',\n",
    " 'csrfmiddlewaretoken': 'not a real token',\n",
    " 'name': 'Razmataz',\n",
    " 'secondaryskills': '2'}"
   ]
  },
  {
   "cell_type": "markdown",
   "metadata": {},
   "source": [
    "the `character_dict` translates those numerical options into the skills and attributes used in the sheet. I do this so that I can rearange the order of the items without rewriting code elsewhere. "
   ]
  },
  {
   "cell_type": "code",
   "execution_count": 5,
   "metadata": {},
   "outputs": [
    {
     "data": {
      "text/plain": [
       "{'name': 'Razmataz',\n",
       " 'background': 'Noble family',\n",
       " 'coreskills': 'archery',\n",
       " 'secondaryskills': 'desert survival'}"
      ]
     },
     "execution_count": 5,
     "metadata": {},
     "output_type": "execute_result"
    }
   ],
   "source": [
    "character_dict = {\n",
    "    'name': f['name'],\n",
    "    'background': dict(playerCharacterForm.backgroundChoices)[f['background']],\n",
    "    'coreskills': dict(playerCharacterForm.coreSkillsChoices)[f['coreskills']],\n",
    "    'secondaryskills': dict(playerCharacterForm.secondarySkillsChoices)[f['secondaryskills']]\n",
    "}\n",
    "\n",
    "character_dict"
   ]
  },
  {
   "cell_type": "markdown",
   "metadata": {},
   "source": [
    "### initiate the character\n",
    "\n",
    "The character is embedded into the world object. A series of convininece functions fetch the relevant information as needed. "
   ]
  },
  {
   "cell_type": "code",
   "execution_count": 6,
   "metadata": {},
   "outputs": [],
   "source": [
    "world = modify_character.create_character(character_dict,world)"
   ]
  },
  {
   "cell_type": "code",
   "execution_count": 7,
   "metadata": {},
   "outputs": [
    {
     "data": {
      "text/plain": [
       "'17:24'"
      ]
     },
     "execution_count": 7,
     "metadata": {},
     "output_type": "execute_result"
    }
   ],
   "source": [
    "world.Character.get_location_key()"
   ]
  },
  {
   "cell_type": "code",
   "execution_count": 8,
   "metadata": {},
   "outputs": [
    {
     "data": {
      "text/plain": [
       "y                       24\n",
       "rainfall                14\n",
       "x                       17\n",
       "key                  17:24\n",
       "elevation                2\n",
       "terrain               town\n",
       "feature          Starspike\n",
       "nation number            5\n",
       "nation           Fenhollow\n",
       "z                     City\n",
       "danger               0.563\n",
       "aware                    1\n",
       "visited                  1\n",
       "Name: 17:24, dtype: object"
      ]
     },
     "execution_count": 8,
     "metadata": {},
     "output_type": "execute_result"
    }
   ],
   "source": [
    "world.df_features.loc[world.Character.get_location_key()]"
   ]
  },
  {
   "cell_type": "markdown",
   "metadata": {},
   "source": [
    "`get_charData` function controlls get all of the data that the `js` client needs. "
   ]
  },
  {
   "cell_type": "code",
   "execution_count": 9,
   "metadata": {},
   "outputs": [
    {
     "data": {
      "text/plain": [
       "{'name': 'Razmataz',\n",
       " 'message': 'You begin your adventure in capitol of Starspike: population: 2 location: [17,24] founded 3 </br> Your nobile family has ties with Jonsundle the Speaker of Starspike. ',\n",
       " 'size': 5,\n",
       " 'speed': 15,\n",
       " 'attributes': ['started'],\n",
       " 'location': '17:24',\n",
       " 'title': 'Honerable court of Jonsundle the Speaker of Starspike',\n",
       " 'composure': 10,\n",
       " 'arriveFrom': 'Center',\n",
       " 'equipment': {'gold': 101,\n",
       "  'weapons': [{'name': 'basic bow',\n",
       "    'id': '0000',\n",
       "    'quantity': 20,\n",
       "    'range': 200,\n",
       "    'damage': 3,\n",
       "    'damage_mod': 1}]}}"
      ]
     },
     "execution_count": 9,
     "metadata": {},
     "output_type": "execute_result"
    }
   ],
   "source": [
    "world.Character.get_charData()"
   ]
  },
  {
   "cell_type": "markdown",
   "metadata": {},
   "source": [
    "`characterSpeaksLanguage` confrims that the character speaks the language in that region. This way you can scramble text client side if they don't know the language. "
   ]
  },
  {
   "cell_type": "code",
   "execution_count": 10,
   "metadata": {},
   "outputs": [
    {
     "data": {
      "text/plain": [
       "True"
      ]
     },
     "execution_count": 10,
     "metadata": {},
     "output_type": "execute_result"
    }
   ],
   "source": [
    "world.Character.characterSpeaksLanguage(world)"
   ]
  },
  {
   "cell_type": "markdown",
   "metadata": {},
   "source": [
    "If not, the dialoge can be easily scrambled using `world.culture.gibberishGenerator`. You can add the length of the message as an optional parameter, but there is a default. "
   ]
  },
  {
   "cell_type": "code",
   "execution_count": 11,
   "metadata": {},
   "outputs": [
    {
     "data": {
      "text/plain": [
       "'Oywpj Rem Tsu Llqeotvphvduhvr   Xat Rq'"
      ]
     },
     "execution_count": 11,
     "metadata": {},
     "output_type": "execute_result"
    }
   ],
   "source": [
    "message_to_scramble = \"The character can't speak this language\"\n",
    "world.culture.gibberishGenerator(len(message_to_scramble))"
   ]
  },
  {
   "cell_type": "code",
   "execution_count": 12,
   "metadata": {},
   "outputs": [],
   "source": [
    "#with open('world_2.p', 'wb') as pickle_file:\n",
    "#    pickle.dump(world, pickle_file)"
   ]
  },
  {
   "cell_type": "code",
   "execution_count": 13,
   "metadata": {},
   "outputs": [
    {
     "data": {
      "text/html": [
       "<div>\n",
       "<style scoped>\n",
       "    .dataframe tbody tr th:only-of-type {\n",
       "        vertical-align: middle;\n",
       "    }\n",
       "\n",
       "    .dataframe tbody tr th {\n",
       "        vertical-align: top;\n",
       "    }\n",
       "\n",
       "    .dataframe thead th {\n",
       "        text-align: right;\n",
       "    }\n",
       "</style>\n",
       "<table border=\"1\" class=\"dataframe\">\n",
       "  <thead>\n",
       "    <tr style=\"text-align: right;\">\n",
       "      <th></th>\n",
       "      <th>y</th>\n",
       "      <th>rainfall</th>\n",
       "      <th>x</th>\n",
       "      <th>key</th>\n",
       "      <th>elevation</th>\n",
       "      <th>terrain</th>\n",
       "      <th>feature</th>\n",
       "      <th>nation number</th>\n",
       "      <th>nation</th>\n",
       "      <th>z</th>\n",
       "      <th>danger</th>\n",
       "      <th>aware</th>\n",
       "      <th>visited</th>\n",
       "    </tr>\n",
       "    <tr>\n",
       "      <th>key</th>\n",
       "      <th></th>\n",
       "      <th></th>\n",
       "      <th></th>\n",
       "      <th></th>\n",
       "      <th></th>\n",
       "      <th></th>\n",
       "      <th></th>\n",
       "      <th></th>\n",
       "      <th></th>\n",
       "      <th></th>\n",
       "      <th></th>\n",
       "      <th></th>\n",
       "      <th></th>\n",
       "    </tr>\n",
       "  </thead>\n",
       "  <tbody>\n",
       "    <tr>\n",
       "      <th>0:0</th>\n",
       "      <td>0</td>\n",
       "      <td>0.0</td>\n",
       "      <td>0</td>\n",
       "      <td>0:0</td>\n",
       "      <td>0.0</td>\n",
       "      <td>ocean</td>\n",
       "      <td>NaN</td>\n",
       "      <td>NaN</td>\n",
       "      <td>NaN</td>\n",
       "      <td>NaN</td>\n",
       "      <td>0.374</td>\n",
       "      <td>0</td>\n",
       "      <td>0</td>\n",
       "    </tr>\n",
       "    <tr>\n",
       "      <th>1:0</th>\n",
       "      <td>0</td>\n",
       "      <td>0.0</td>\n",
       "      <td>1</td>\n",
       "      <td>1:0</td>\n",
       "      <td>0.0</td>\n",
       "      <td>ocean</td>\n",
       "      <td>NaN</td>\n",
       "      <td>NaN</td>\n",
       "      <td>NaN</td>\n",
       "      <td>NaN</td>\n",
       "      <td>1.467</td>\n",
       "      <td>0</td>\n",
       "      <td>0</td>\n",
       "    </tr>\n",
       "    <tr>\n",
       "      <th>2:0</th>\n",
       "      <td>0</td>\n",
       "      <td>0.0</td>\n",
       "      <td>2</td>\n",
       "      <td>2:0</td>\n",
       "      <td>1.0</td>\n",
       "      <td>desert</td>\n",
       "      <td>NaN</td>\n",
       "      <td>7.0</td>\n",
       "      <td>Snakeglen</td>\n",
       "      <td>Snakeglen</td>\n",
       "      <td>0.567</td>\n",
       "      <td>1</td>\n",
       "      <td>0</td>\n",
       "    </tr>\n",
       "    <tr>\n",
       "      <th>3:0</th>\n",
       "      <td>0</td>\n",
       "      <td>0.0</td>\n",
       "      <td>3</td>\n",
       "      <td>3:0</td>\n",
       "      <td>0.0</td>\n",
       "      <td>ocean</td>\n",
       "      <td>NaN</td>\n",
       "      <td>NaN</td>\n",
       "      <td>NaN</td>\n",
       "      <td>NaN</td>\n",
       "      <td>0.777</td>\n",
       "      <td>0</td>\n",
       "      <td>0</td>\n",
       "    </tr>\n",
       "    <tr>\n",
       "      <th>4:0</th>\n",
       "      <td>0</td>\n",
       "      <td>0.0</td>\n",
       "      <td>4</td>\n",
       "      <td>4:0</td>\n",
       "      <td>2.0</td>\n",
       "      <td>desert</td>\n",
       "      <td>NaN</td>\n",
       "      <td>7.0</td>\n",
       "      <td>Snakeglen</td>\n",
       "      <td>Snakeglen</td>\n",
       "      <td>0.204</td>\n",
       "      <td>1</td>\n",
       "      <td>0</td>\n",
       "    </tr>\n",
       "  </tbody>\n",
       "</table>\n",
       "</div>"
      ],
      "text/plain": [
       "     y  rainfall  x  key  elevation terrain feature  nation number     nation  \\\n",
       "key                                                                             \n",
       "0:0  0       0.0  0  0:0        0.0   ocean     NaN            NaN        NaN   \n",
       "1:0  0       0.0  1  1:0        0.0   ocean     NaN            NaN        NaN   \n",
       "2:0  0       0.0  2  2:0        1.0  desert     NaN            7.0  Snakeglen   \n",
       "3:0  0       0.0  3  3:0        0.0   ocean     NaN            NaN        NaN   \n",
       "4:0  0       0.0  4  4:0        2.0  desert     NaN            7.0  Snakeglen   \n",
       "\n",
       "             z  danger  aware  visited  \n",
       "key                                     \n",
       "0:0        NaN   0.374      0        0  \n",
       "1:0        NaN   1.467      0        0  \n",
       "2:0  Snakeglen   0.567      1        0  \n",
       "3:0        NaN   0.777      0        0  \n",
       "4:0  Snakeglen   0.204      1        0  "
      ]
     },
     "execution_count": 13,
     "metadata": {},
     "output_type": "execute_result"
    }
   ],
   "source": [
    "world.df_features.head()"
   ]
  },
  {
   "cell_type": "code",
   "execution_count": 14,
   "metadata": {},
   "outputs": [
    {
     "data": {
      "text/plain": [
       "[Nation of Landsmoral,\n",
       " Nation of Ratborourgh,\n",
       " Nation of Warrest,\n",
       " Nation of Heirglen,\n",
       " Nation of Heartwish,\n",
       " Nation of Fenhollow,\n",
       " Nation of Soilrise,\n",
       " Nation of Snakeglen]"
      ]
     },
     "execution_count": 14,
     "metadata": {},
     "output_type": "execute_result"
    }
   ],
   "source": [
    "world.nations"
   ]
  },
  {
   "cell_type": "code",
   "execution_count": 15,
   "metadata": {},
   "outputs": [
    {
     "ename": "SyntaxError",
     "evalue": "invalid syntax (<ipython-input-15-7b5e8d707b04>, line 1)",
     "output_type": "error",
     "traceback": [
      "\u001b[0;36m  File \u001b[0;32m\"<ipython-input-15-7b5e8d707b04>\"\u001b[0;36m, line \u001b[0;32m1\u001b[0m\n\u001b[0;31m    world.\u001b[0m\n\u001b[0m          ^\u001b[0m\n\u001b[0;31mSyntaxError\u001b[0m\u001b[0;31m:\u001b[0m invalid syntax\n"
     ]
    }
   ],
   "source": [
    "world."
   ]
  }
 ],
 "metadata": {
  "kernelspec": {
   "display_name": "Python 3",
   "language": "python",
   "name": "python3"
  },
  "language_info": {
   "codemirror_mode": {
    "name": "ipython",
    "version": 3
   },
   "file_extension": ".py",
   "mimetype": "text/x-python",
   "name": "python",
   "nbconvert_exporter": "python",
   "pygments_lexer": "ipython3",
   "version": "3.7.3"
  }
 },
 "nbformat": 4,
 "nbformat_minor": 2
}
